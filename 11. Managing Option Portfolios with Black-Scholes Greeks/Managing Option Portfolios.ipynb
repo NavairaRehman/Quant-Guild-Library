{
 "cells": [
  {
   "cell_type": "markdown",
   "id": "b69ceec2-47c8-4626-95da-2e168b1a254d",
   "metadata": {},
   "source": [
    "# Managing Option Portfolios\n",
    "\n",
    "In this lesson, we will explore how market makers manage option portfolios using the Black-Scholes model. We’ll cover two major parts:\n",
    "\n",
    "1. **Linear Approximations:**  \n",
    "   We start by revisiting the idea of a linear approximation using the simple function $ f(x)=x^2 $. Using an interactive slider (ipywidgets), we’ll see how a linear (tangent line) approximation is accurate close to the point of tangency but deteriorates as we move farther away. This illustrates why sensitivities (or “Greeks”)—which are local derivatives—must be recalculated frequently in practice.\n",
    "\n",
    "2. **Black-Scholes Model & Option Greeks:**  \n",
    "   Next, we’ll introduce the Black-Scholes pricing model for options. We’ll define the key sensitivities (Greeks) such as Delta, Theta, Vega, and Rho. Then we’ll discuss how a market maker hedges these exposures. (For instance, delta exposure can be hedged with the underlying asset, while theta, vega, and rho exposures require taking positions in other options.)\n",
    "\n",
    "Let’s get started!"
   ]
  },
  {
   "cell_type": "markdown",
   "id": "d903120c-2f19-4a5e-9547-a3ec5e1bffde",
   "metadata": {},
   "source": [
    "## Part 1: Linear Approximation Using $f(x)=x^2$\n",
    "\n",
    "The linear approximation (or tangent line approximation) of a function $ f(x) $ at a point $ x_0 $ is given by:\n",
    "$$\n",
    "f(x) \\approx f(x_0) + f'(x_0) (x - x_0)\n",
    "$$\n",
    "For  $ f(x)=x^2 $:\n",
    "- $ f(x_0)=x_0^2 $\n",
    "- $ f'(x)=2x $ so $ f'(x_0)=2x_0 $\n",
    "\n",
    "Thus, the linear approximation becomes:\n",
    "$$\n",
    "f(x) \\approx x_0^2 + 2x_0 (x - x_0)\n",
    "$$\n",
    "Below, use the slider to choose $ x_0 $ and see how the tangent line approximates $ x^2 $.\n",
    "\n",
    "Notice that the approximation is very good near $ x_0 $but diverges as you move farther away."
   ]
  },
  {
   "cell_type": "code",
   "execution_count": 5,
   "id": "bf8dcd65-bbe7-4ff5-bed5-30e0f6e57291",
   "metadata": {},
   "outputs": [
    {
     "data": {
      "application/vnd.jupyter.widget-view+json": {
       "model_id": "de135f289d1a4783add235d4f64360a4",
       "version_major": 2,
       "version_minor": 0
      },
      "text/plain": [
       "interactive(children=(IntSlider(value=0, description='x0', max=10, min=-10), Output()), _dom_classes=('widget-…"
      ]
     },
     "metadata": {},
     "output_type": "display_data"
    }
   ],
   "source": [
    "import numpy as np\n",
    "import matplotlib.pyplot as plt\n",
    "from ipywidgets import interact\n",
    "\n",
    "def linear_approximation(x0, x):\n",
    "    return x0**2 + 2*x0*(x - x0)\n",
    "\n",
    "def plot_approximation(x0):\n",
    "    x = np.linspace(x0 - 10, x0 + 10, 400)\n",
    "    y = x**2\n",
    "    y_lin = linear_approximation(x0, x)\n",
    "    \n",
    "    plt.figure(figsize=(8, 6))\n",
    "    plt.plot(x, y, label=r'$f(x)=x^2$', color='blue')\n",
    "    plt.plot(x, y_lin, label=f'Linear Approximation at x={x0}', linestyle='--', color='red')\n",
    "    plt.title(r'Linear Approximation of $x^2$ at $x_0$')\n",
    "    plt.xlabel('x')\n",
    "    plt.ylabel('f(x)')\n",
    "    plt.legend()\n",
    "    plt.grid(True)\n",
    "    plt.show()\n",
    "\n",
    "interact(plot_approximation, x0=(-10, 10, 1));"
   ]
  },
  {
   "cell_type": "markdown",
   "id": "b0c8c0cb-00f6-4f77-b26e-70231297dca3",
   "metadata": {},
   "source": [
    "### Computing the Actual Change v.s. Approximate Change"
   ]
  },
  {
   "cell_type": "code",
   "execution_count": 37,
   "id": "58c8a45b-f261-49a4-b0a8-335a107ee969",
   "metadata": {},
   "outputs": [
    {
     "name": "stdout",
     "output_type": "stream",
     "text": [
      "Actual Function Change: 2.009999999999991\n",
      "Approx Function Change: 2.0\n"
     ]
    }
   ],
   "source": [
    "center = 10\n",
    "change = .1\n",
    "\n",
    "# Actual Function\n",
    "def f(x):\n",
    "    return x ** 2\n",
    "\n",
    "# Taylor series approximation\n",
    "def af(x, x0):\n",
    "    return f(x0) + 2*x0*(x - x0)\n",
    "\n",
    "# Actual Change\n",
    "print('Actual Function Change:', f(center + change) - f(center))\n",
    "\n",
    "# Approx Change\n",
    "print('Approx Function Change:', af(center + change, center)- f(center))"
   ]
  },
  {
   "cell_type": "markdown",
   "id": "0a5ec77d-29e3-4d8c-9cac-bc8896345399",
   "metadata": {},
   "source": [
    "### Observations:\n",
    "- The red dashed line (tangent) is a very good approximation for $ f(x)=x^2 $ close to $ x_0 $.\n",
    "- As you move away from $ x_0 $, the linear approximation (tangent line) diverges from the actual curve.\n",
    "- This behavior is analogous to the sensitivities (Greeks) in option pricing, which are “local” measures and must be recomputed as market conditions (the underlying variables) change."
   ]
  },
  {
   "cell_type": "markdown",
   "id": "9ba21e2c-99d8-49e7-a167-9ca422653f08",
   "metadata": {},
   "source": [
    "## Part 2: Black-Scholes Model and Option Greeks\n",
    "\n",
    "Market makers use the Black-Scholes model to determine the theoretical price of options. For a European call option, the price is given by:\n",
    "$$\n",
    "\\text{Call Price} = S \\, N(d_1) - K \\, e^{-rT} \\, N(d_2)\n",
    "$$\n",
    "where:\n",
    "$$\n",
    "d_1 = \\frac{\\ln(S/K) + (r + \\sigma^2/2) T}{\\sigma \\sqrt{T}}, \\quad d_2 = d_1 - \\sigma \\sqrt{T}\n",
    "$$\n",
    "and $ N(\\cdot) $ is the cumulative distribution function of the standard normal distribution.\n"
   ]
  },
  {
   "cell_type": "markdown",
   "id": "19fd043f-23a8-4d84-889b-fb8a6b27b9f9",
   "metadata": {},
   "source": [
    "### The Greeks:\n",
    "- **Delta:** Sensitivity of the option price to changes in the underlying asset’s price.\n",
    "- **Theta:** Sensitivity to the passage of time (time decay).\n",
    "- **Vega:** Sensitivity to volatility.\n",
    "- **Rho:** Sensitivity to the interest rate.\n",
    "- **Gamma:** (Second order) Sensitivity of delta to changes in the underlying price.\n",
    "\n",
    "Market makers hedge these risks:\n",
    "- **Delta hedging:** Adjust the position in the underlying asset.\n",
    "- **Hedging other Greeks:** Typically involves taking positions in other options to offset exposures (since you cannot directly hedge theta, vega, or rho with the underlying asset).\n",
    "\n",
    "Below, we define functions to compute the call price and its first order Greeks."
   ]
  },
  {
   "cell_type": "code",
   "execution_count": 34,
   "id": "bd87f46f-61e4-4c51-9f71-41f32ef494b3",
   "metadata": {},
   "outputs": [],
   "source": [
    "import scipy.stats as si\n",
    "\n",
    "def black_scholes_call(S, K, T, r, sigma):\n",
    "    \"\"\"Calculate European call option price using Black-Scholes model.\"\"\"\n",
    "    d1 = (np.log(S / K) + (r + sigma**2 / 2)*T) / (sigma * np.sqrt(T))\n",
    "    d2 = d1 - sigma * np.sqrt(T)\n",
    "    call_price = S * si.norm.cdf(d1) - K * np.exp(-r * T) * si.norm.cdf(d2)\n",
    "    return call_price, d1, d2\n",
    "\n",
    "def call_delta(S, K, T, r, sigma):\n",
    "    \"\"\"Delta: sensitivity to underlying price changes.\"\"\"\n",
    "    d1 = (np.log(S / K) + (r + sigma**2 / 2)*T) / (sigma * np.sqrt(T))\n",
    "    return si.norm.cdf(d1)\n",
    "\n",
    "def call_theta(S, K, T, r, sigma):\n",
    "    \"\"\"Theta: time decay of the option price.\"\"\"\n",
    "    d1 = (np.log(S / K) + (r + sigma**2 / 2)*T) / (sigma * np.sqrt(T))\n",
    "    d2 = d1 - sigma * np.sqrt(T)\n",
    "    term1 = - (S * si.norm.pdf(d1) * sigma) / (2 * np.sqrt(T))\n",
    "    term2 = r * K * np.exp(-r*T) * si.norm.cdf(d2)\n",
    "    return term1 - term2\n",
    "\n",
    "def call_vega(S, K, T, r, sigma):\n",
    "    \"\"\"Vega: sensitivity to volatility.\"\"\"\n",
    "    d1 = (np.log(S / K) + (r + sigma**2 / 2)*T) / (sigma * np.sqrt(T))\n",
    "    return S * si.norm.pdf(d1) * np.sqrt(T)\n",
    "\n",
    "def call_rho(S, K, T, r, sigma):\n",
    "    \"\"\"Rho: sensitivity to interest rate.\"\"\"\n",
    "    d1 = (np.log(S / K) + (r + sigma**2 / 2)*T) / (sigma * np.sqrt(T))\n",
    "    d2 = d1 - sigma * np.sqrt(T)\n",
    "    return K * T * np.exp(-r*T) * si.norm.cdf(d2)"
   ]
  },
  {
   "cell_type": "code",
   "execution_count": 39,
   "id": "37d48f21-0ac2-4df7-b354-0bc7f93dfcaf",
   "metadata": {},
   "outputs": [
    {
     "name": "stdout",
     "output_type": "stream",
     "text": [
      "Call Option Price: 11.10\n",
      "Delta: 0.66\n",
      "Theta: -6.47\n",
      "Vega: 37.20\n",
      "Rho: 55.09\n"
     ]
    }
   ],
   "source": [
    "# Example: Compute the call price and Greeks for a sample set of parameters\n",
    "S = 101       # Underlying price\n",
    "K = 100       # Strike price\n",
    "T = 1         # Time to maturity (years)\n",
    "r = 0.05      # Risk-free rate\n",
    "sigma = 0.2   # Volatility\n",
    "\n",
    "price, d1, d2 = black_scholes_call(S, K, T, r, sigma)\n",
    "delta = call_delta(S, K, T, r, sigma)\n",
    "theta = call_theta(S, K, T, r, sigma)\n",
    "vega = call_vega(S, K, T, r, sigma)\n",
    "rho = call_rho(S, K, T, r, sigma)\n",
    "\n",
    "print(f\"Call Option Price: {price:.2f}\")\n",
    "print(f\"Delta: {delta:.2f}\")\n",
    "print(f\"Theta: {theta:.2f}\")\n",
    "print(f\"Vega: {vega:.2f}\")\n",
    "print(f\"Rho: {rho:.2f}\")"
   ]
  },
  {
   "cell_type": "markdown",
   "id": "eceb41f2-9f6d-4b05-8de1-014482fefae6",
   "metadata": {},
   "source": [
    "### Interactive Exploration of Option Greeks\n",
    "\n",
    "The following interactive widget allows you to adjust the parameters $ S $, $ K $, $ T $, $ r $, and $ \\sigma $ to see how the option price and its sensitivities (Greeks) change. Use this tool to understand:\n",
    "- **Delta Hedging:** Market makers hedge their delta exposure using the underlying asset.\n",
    "- **Other Greeks:** Theta, Vega, and Rho exposures are hedged by taking positions in other options since they cannot be directly hedged with the underlying asset.\n",
    "\n",
    "Try changing the parameters and observe the impact on the call option price and each Greek."
   ]
  },
  {
   "cell_type": "code",
   "execution_count": 22,
   "id": "0ccae725-3a26-46dd-a207-021eb2e33e06",
   "metadata": {},
   "outputs": [
    {
     "data": {
      "application/vnd.jupyter.widget-view+json": {
       "model_id": "f932cfcf69f548fdb85961578b3bd8c3",
       "version_major": 2,
       "version_minor": 0
      },
      "text/plain": [
       "interactive(children=(IntSlider(value=100, description='S', max=150, min=50), IntSlider(value=100, description…"
      ]
     },
     "metadata": {},
     "output_type": "display_data"
    }
   ],
   "source": [
    "def option_greeks_interactive(S=100, K=100, T=1, r=0.05, sigma=0.2):\n",
    "    price, d1, d2 = black_scholes_call(S, K, T, r, sigma)\n",
    "    delta = call_delta(S, K, T, r, sigma)\n",
    "    theta = call_theta(S, K, T, r, sigma)\n",
    "    vega = call_vega(S, K, T, r, sigma)\n",
    "    rho = call_rho(S, K, T, r, sigma)\n",
    "    \n",
    "    print(f\"Call Option Price: {price:.2f}\")\n",
    "    print(f\"Delta (sensitivity to underlying): {delta:.2f}\")\n",
    "    print(f\"Theta (time decay): {theta:.2f}\")\n",
    "    print(f\"Vega (sensitivity to volatility): {vega:.2f}\")\n",
    "    print(f\"Rho (sensitivity to interest rate): {rho:.2f}\")\n",
    "\n",
    "interact(option_greeks_interactive,\n",
    "         S=(50, 150, 1),\n",
    "         K=(50, 150, 1),\n",
    "         T=(0.1, 2, 0.1),\n",
    "         r=(0.0, 0.1, 0.005),\n",
    "         sigma=(0.1, 0.5, 0.01));"
   ]
  },
  {
   "cell_type": "code",
   "execution_count": 29,
   "id": "cc8cd990-0492-46ad-894a-bdfdd8c2bd87",
   "metadata": {},
   "outputs": [
    {
     "data": {
      "application/vnd.jupyter.widget-view+json": {
       "model_id": "44c506bd6e524363bc07ce174f03fb5a",
       "version_major": 2,
       "version_minor": 0
      },
      "text/plain": [
       "interactive(children=(IntSlider(value=100, description='S', max=150, min=50), IntSlider(value=100, description…"
      ]
     },
     "metadata": {},
     "output_type": "display_data"
    }
   ],
   "source": [
    "def theta_approximation_chart(S=100, K=100, T=1, r=0.05, sigma=0.2, dt=0.01):\n",
    "    # Current price and theta at time T\n",
    "    price, _, _ = black_scholes_call(S, K, T, r, sigma)\n",
    "    theta_val = call_theta(S, K, T, r, sigma)\n",
    "    \n",
    "    # New time to maturity is T - dt (ensure positive time)\n",
    "    T_new = T - dt if T - dt > 0 else 0.001\n",
    "    \n",
    "    # Compute the actual new price at T_new\n",
    "    new_price, _, _ = black_scholes_call(S, K, T_new, r, sigma)\n",
    "    \n",
    "    # Approximate new price using the theta sensitivity (note: theta is typically negative for calls)\n",
    "    approx_price = price + theta_val * (-dt)\n",
    "    \n",
    "    # Plot the initial price, the actual new price, and the theta approximation\n",
    "    labels = ['Initial Price', 'Actual Price (T-dt)', 'Theta Approximation']\n",
    "    values = [price, new_price, approx_price]\n",
    "    \n",
    "    plt.figure(figsize=(8, 6))\n",
    "    plt.bar(labels, values, color=['green', 'blue', 'orange'])\n",
    "    plt.title(\"Theta Effect: Actual vs. Approximated Option Price Change\")\n",
    "    plt.ylabel(\"Option Price\")\n",
    "    plt.ylim([min(values)*0.95, max(values)*1.05])\n",
    "    plt.show()\n",
    "    \n",
    "    error = new_price - approx_price\n",
    "    print(f\"Initial Price: {price:.2f}\")\n",
    "    print(f\"New Price (with T-dt): {new_price:.2f}\")\n",
    "    print(f\"Approximated Price (using Theta): {approx_price:.2f}\")\n",
    "    print(f\"Error (Actual - Approximation): {error:.4f}\")\n",
    "\n",
    "from ipywidgets import interact\n",
    "interact(theta_approximation_chart, \n",
    "         S=(50, 150, 1), \n",
    "         K=(50, 150, 1), \n",
    "         T=(0.1, 2, 0.1), \n",
    "         r=(0.0, 0.1, 0.005), \n",
    "         sigma=(0.1, 0.5, 0.01),\n",
    "         dt=(0.001, 0.2, 0.001));\n"
   ]
  },
  {
   "cell_type": "markdown",
   "id": "1bc0f32f-ffa2-4aa1-8399-fbfaddf0f065",
   "metadata": {},
   "source": [
    "## Part 3: Managing Option Portfolios and Hedging Strategies\n",
    "\n",
    "A market maker’s job is to provide liquidity by quoting bid and ask prices for options. Using the Black-Scholes model, the market maker:\n",
    "- Computes the theoretical price of options.\n",
    "- Calculates the **Greeks** (sensitivities) that estimate how the option price changes with respect to underlying factors.\n",
    "\n",
    "### Hedging Strategies:\n",
    "- **Delta Hedging:**  \n",
    "  Since delta measures the sensitivity to the underlying asset’s price, market makers can hedge delta risk by taking an offsetting position in the underlying stock.\n",
    "  \n",
    "- **Hedging Theta, Vega, and Rho:**  \n",
    "  These sensitivities cannot be hedged using the underlying asset alone. To manage these risks, market makers use other options:\n",
    "  - **Theta:** Although time decay is inevitable, using options with different maturities can help manage the overall time decay.\n",
    "  - **Vega:** Options with different volatilities or strikes can be used to offset volatility risk.\n",
    "  - **Rho:** Taking positions in options with varying sensitivities to interest rates helps manage rho risk.\n",
    "  \n",
    "Since the Greeks are based on a linear (tangent) approximation, they are accurate only for small changes in the underlying parameters. This is why market makers must continuously recalculate the Greeks and adjust their hedging positions dynamically.\n"
   ]
  },
  {
   "cell_type": "markdown",
   "id": "e54f78b2-7fcb-4176-ac64-dea96b473a46",
   "metadata": {},
   "source": [
    "## Conclusion\n",
    "\n",
    "In this lesson, we:\n",
    "- Explored the concept of linear approximation using $ f(x)=x^2 $ and saw how the approximation worsens as we move away from the point of tangency.\n",
    "- Reviewed the Black-Scholes model for pricing options and computed the first order sensitivities (Greeks) such as Delta, Theta, Vega, and Rho.\n",
    "- Discussed how market makers use these Greeks to hedge their option portfolios, using the underlying asset for delta and other options for managing additional risks.\n",
    "\n",
    "This hands-on approach helps illustrate why continuous recalibration of sensitivities is necessary in managing an option portfolio. Happy exploring and trading!\n"
   ]
  }
 ],
 "metadata": {
  "kernelspec": {
   "display_name": "Python 3 (ipykernel)",
   "language": "python",
   "name": "python3"
  },
  "language_info": {
   "codemirror_mode": {
    "name": "ipython",
    "version": 3
   },
   "file_extension": ".py",
   "mimetype": "text/x-python",
   "name": "python",
   "nbconvert_exporter": "python",
   "pygments_lexer": "ipython3",
   "version": "3.10.11"
  }
 },
 "nbformat": 4,
 "nbformat_minor": 5
}
