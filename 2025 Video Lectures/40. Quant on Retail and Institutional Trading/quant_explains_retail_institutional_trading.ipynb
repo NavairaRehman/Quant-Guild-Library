{
 "cells": [
  {
   "cell_type": "markdown",
   "id": "363f6d87",
   "metadata": {},
   "source": [
    "### Retail and Institutional Trading\n",
    "\n",
    "##### ▶️ Related Quant Guild Videos:\n",
    "\n",
    "- [Expected Stock Returns Don't Exist](https://youtu.be/iXNSBn5xqrA)\n",
    "\n",
    "- [What Does AI Actually Learn](https://youtu.be/tX7b2KT63WQ)\n",
    "\n",
    "- [How to Trade](https://youtu.be/NqOj__PaMec)\n",
    "\n",
    "- [How to Trade Option Implied Volatility](https://youtu.be/kQPCTXxdptQ)\n",
    "\n",
    "- [How to Trade with an Edge](https://youtu.be/NlqpDB2BhxE)\n",
    "\n",
    "- [How to Trade with the Kelly Criterion](https://youtu.be/7tvW3NvRnPk)\n",
    "\n",
    "###### ______________________________________________________________________________________________________________________________________\n",
    "\n",
    " \n",
    "##### [📚 Visit the Quant Guild Library for more Jupyter Notebooks](https://github.com/romanmichaelpaolucci/Quant-Guild-Library)\n",
    "\n",
    "##### [🚀 Master your Quantitative Skills with Quant Guild](https://quantguild.com)\n",
    "\n",
    "##### [📅 Take Live Classes with Roman on Quant Guild](https://quantguild.com/live-classes)\n",
    "\n",
    "---"
   ]
  },
  {
   "cell_type": "markdown",
   "id": "25c3f8c0",
   "metadata": {},
   "source": [
    "### 📖 Sections\n",
    "\n",
    "#### 1.) 📈 Retail Trading \n",
    "\n",
    "- How to think about retail trading\n",
    "\n",
    "- My 2025 YTD P/L\n",
    "\n",
    "- Can retailers deploy institutional strategies?\n",
    "\n",
    "#### 2.) 🏛️ Institutional Trading - Sell Side\n",
    "\n",
    "- Market-Making as a business\n",
    "\n",
    "- Risks Market-Makers face\n",
    "\n",
    "#### 3.) 💵 Institutional Trading - Buy Side\n",
    "\n",
    "- Speculative Trading\n",
    "\n",
    "- Quant Hedge Funds\n",
    "\n",
    "- Strategies, Horizons, Alpha\n",
    "\n",
    "#### 4.) 💰 What Does a Quant do with Money?\n",
    "\n",
    "- Understanding the landscape and available strategies\n",
    "\n",
    "- Linear combinations and expectations\n",
    "\n",
    "- Reality\n",
    "\n",
    "#### 5.) 💭 Closing Thoughts and Future Topics"
   ]
  },
  {
   "cell_type": "markdown",
   "id": "b4d1df5e",
   "metadata": {},
   "source": [
    "---"
   ]
  },
  {
   "cell_type": "code",
   "execution_count": 12,
   "id": "9de17767",
   "metadata": {},
   "outputs": [
    {
     "data": {
      "text/html": [
       "<style>\n",
       "/* Overwrite the hard-coded white background for ipywidgets */\n",
       ".cell-output-ipywidget-background {\n",
       "    background-color: transparent !important;\n",
       "}\n",
       "/* Set widget foreground text and color to match the VS Code dark theme */\n",
       ":root {\n",
       "    --jp-widgets-color: var(--vscode-editor-foreground);\n",
       "    --jp-widgets-font-size: var(--vscode-editor-font-size);\n",
       "}\n",
       "</style>\n"
      ],
      "text/plain": [
       "<IPython.core.display.HTML object>"
      ]
     },
     "metadata": {},
     "output_type": "display_data"
    }
   ],
   "source": [
    "%%html\n",
    "<style>\n",
    "/* Overwrite the hard-coded white background for ipywidgets */\n",
    ".cell-output-ipywidget-background {\n",
    "    background-color: transparent !important;\n",
    "}\n",
    "/* Set widget foreground text and color to match the VS Code dark theme */\n",
    ":root {\n",
    "    --jp-widgets-color: var(--vscode-editor-foreground);\n",
    "    --jp-widgets-font-size: var(--vscode-editor-font-size);\n",
    "}\n",
    "</style>"
   ]
  },
  {
   "cell_type": "markdown",
   "id": "d1ad8000",
   "metadata": {},
   "source": [
    "#### 1.) 📈 Retail Trading\n",
    "\n",
    "Things to keep in mind as a retail trader\n",
    "\n",
    "- The distribution is **highly skewed:** a combination of informed and uninformed traders\n",
    "\n",
    "- *The market* doesn't care if you extract hundreds of thousands or even millions of dollars\n",
    "\n",
    "- Discretionary and algorithmic trading can be profitable\n",
    "\n",
    "- Strategy and information play a key role, \n",
    "\n",
    "- Technology limitations and scalability\n",
    "\n",
    "###### ______________________________________________________________________________________________________________________________________\n"
   ]
  },
  {
   "cell_type": "markdown",
   "id": "ee161260",
   "metadata": {},
   "source": [
    "##### 💸 My Year-To-Date (YTD) Algorithmic and Discretionary Trading P/L 2025\n",
    "\n",
    "<u>This Excludes Crypto and Long-Term Investments</u>\n",
    "\n",
    "- I trade in a discretionary and algorithmic capacity with Interactive Brokers\n",
    "\n",
    "- I've rebased my portfolio to the notional value at the start of 2025 and put it in terms of $100,000"
   ]
  },
  {
   "cell_type": "code",
   "execution_count": 13,
   "id": "8bda1cea",
   "metadata": {},
   "outputs": [
    {
     "data": {
      "application/vnd.plotly.v1+json": {
       "config": {
        "plotlyServerURL": "https://plot.ly"
       },
       "data": [
        {
         "line": {
          "color": "rgba(0, 191, 255, 0.6)"
         },
         "type": "scatter",
         "xaxis": "x",
         "y": {
          "bdata": "AAAAAABq+EBZ2FqKEU33QHliH8uMgvZAneN7BuoD/kBu7LcHZhD6QDWfkuh4xvlA6t0KtxTu9UAadouEwmD1QLn8onOBLfdAMOUQ2lZi90CobRjjqGf3QDn7j+5p4PVAqO8wEnrq9kALl/MtIIv1QBs7SwG48fVAkqX+Cysc9kCVa6hTZLj0QBSCoy4c/fNAFIKjLhz980Dd52NoecH0QPpWq07Pi/VAwCZmyHCl90Dpj0hXepP6QLBLy3zcxfxA9JrCXiNq/UBKIda2rS79QHuFGI1envxA2gTah7GF/UATXCQCNOD8QF5vLMeIev1AR4N+yWoU/kAAJVwAO5z9QIeygz0Ndf1AN2cPXsDl+0B4vDbZCi79QB0Hd4MRNP5AYQU+c+E3/kDr7RiLeRL/QMV6HY13Jv9AjkVhIGzJ/UAxKQjJ9FX+QJPeQScCT/5A+8FxC89j/kCCkEmk4FP/QIpgGa8oWP9A1b3r1t7M/kACLTO6+cX+QP8rChj+K/1ABoiAvonP/EASDfF38D/9QCN/nqrhl/1Atbu+xK0G/ECRO8SMtcLzQAhq8COal/JAD2lWJ0Us80DraxtviSLzQGZJXcl2ZPNAtM1Tm1IP8kAAKcw1lYrxQAApzDWVivFAJ2aqIu+/8EAbsirQihfxQNLsh0WQwPFA1p1JNyll8kCvYGtKzy/zQPcfm8HtyvJAs8unbMLX8kD/QQzpVdPyQJD5BaJbSvNA23MxAzvK80Bb44GIJKzzQKmAuA3Bn/NAnMbFp4A79EAUXNYDOEn0QMRPnHdcKfRAdapGsFNC9UBJtIeP9HT2QNqtPzNUZPdAT616f8NN90BoE871+2b3QLJLO2yBbvdAp7rGPdo590DU1as4ssf2QJ539iBF9fZAStXmhCGx9kBK1eaEIbH2QBydaXloa/dAkcN2zuBM90BYG+SJrQ74QL/5R6sJW/dAW19Oo5e+90DRg6/Jf2j4QGSm5aR4h/hASR8zORMy+EBSOzFNn374QKtp3ADjpvhA5Vf0FLzh+EC91JBYvK/4QLhCgi3AD/lAPWuz5q6J+EA/rXHRCAL5QCVHHlvQ6PhAJ2h9UP0k+UAnaH1Q/ST5QH0tmBDe3PhAAAzsnAbr+EANBvG+EJD5QEzGKbqvq/pA6DGjxRnL+kD1vKTg5EP7QIL7YJqDTvtAlbZlMv9++kBxBSNdxS37QM17/w4/ivtAzXv/Dj+K+0BrK+Mzk1n7QI8iq9hyp/tA01OTCeEm/ECmF08Z3Fz8QFQFonkkgfxA3uQHOIhb/EDs+fg744D9QLnp5zWInv1AYyTNdafm/UA3LPOejMz9QG2KqLb5nv1AwQ0FjIDe/ECN8Q1fbYT9QHAaC7NlB/5A49tO+cb8/UAuCNZIlIz+QJ5aFoi2Vf5Ac4diixT8/kCh6niEIr7+QLMwBwKDBv5AzdzfR2Ec/0C8d54DZM/+QKstSaG3Av9A963nFXM+/0AQNZqB2JP/QGIgdRiHd/9AwnCR8zKo/0Cnmzp2u2L/QJGk6gbCdf9Adc+TiUow/0A=",
          "dtype": "f8"
         },
         "yaxis": "y"
        },
        {
         "line": {
          "color": "rgba(0, 191, 255, 0.6)"
         },
         "type": "scatter",
         "xaxis": "x2",
         "y": {
          "bdata": "J2aqIu+/8EAbsirQihfxQNLsh0WQwPFA1p1JNyll8kCvYGtKzy/zQPcfm8HtyvJAs8unbMLX8kD/QQzpVdPyQJD5BaJbSvNA23MxAzvK80Bb44GIJKzzQKmAuA3Bn/NAnMbFp4A79EAUXNYDOEn0QMRPnHdcKfRAdapGsFNC9UBJtIeP9HT2QNqtPzNUZPdAT616f8NN90BoE871+2b3QLJLO2yBbvdAp7rGPdo590DU1as4ssf2QJ539iBF9fZAStXmhCGx9kBK1eaEIbH2QBydaXloa/dAkcN2zuBM90BYG+SJrQ74QL/5R6sJW/dAW19Oo5e+90DRg6/Jf2j4QGSm5aR4h/hASR8zORMy+EBSOzFNn374QKtp3ADjpvhA5Vf0FLzh+EC91JBYvK/4QLhCgi3AD/lAPWuz5q6J+EA/rXHRCAL5QCVHHlvQ6PhAJ2h9UP0k+UAnaH1Q/ST5QH0tmBDe3PhAAAzsnAbr+EANBvG+EJD5QEzGKbqvq/pA6DGjxRnL+kD1vKTg5EP7QIL7YJqDTvtAlbZlMv9++kBxBSNdxS37QM17/w4/ivtAzXv/Dj+K+0BrK+Mzk1n7QI8iq9hyp/tA01OTCeEm/ECmF08Z3Fz8QFQFonkkgfxA3uQHOIhb/EDs+fg744D9QLnp5zWInv1AYyTNdafm/UA3LPOejMz9QG2KqLb5nv1AwQ0FjIDe/ECN8Q1fbYT9QHAaC7NlB/5A49tO+cb8/UAuCNZIlIz+QJ5aFoi2Vf5Ac4diixT8/kCh6niEIr7+QLMwBwKDBv5AzdzfR2Ec/0C8d54DZM/+QKstSaG3Av9A963nFXM+/0AQNZqB2JP/QGIgdRiHd/9AwnCR8zKo/0Cnmzp2u2L/QJGk6gbCdf9Adc+TiUow/0A=",
          "dtype": "f8"
         },
         "yaxis": "y2"
        }
       ],
       "layout": {
        "annotations": [
         {
          "font": {
           "size": 16
          },
          "showarrow": false,
          "text": "Full Time Series<br>Sharpe: 0.88 | Sortino: 0.97",
          "x": 0.5,
          "xanchor": "center",
          "xref": "paper",
          "y": 1,
          "yanchor": "bottom",
          "yref": "paper"
         },
         {
          "font": {
           "size": 16
          },
          "showarrow": false,
          "text": "After Day 60<br>Sharpe: 6.28 | Sortino: 14.18",
          "x": 0.5,
          "xanchor": "center",
          "xref": "paper",
          "y": 0.375,
          "yanchor": "bottom",
          "yref": "paper"
         }
        ],
        "font": {
         "color": "white"
        },
        "height": 800,
        "paper_bgcolor": "rgba(0,0,0,0)",
        "plot_bgcolor": "rgba(0,0,0,0)",
        "showlegend": false,
        "template": {
         "data": {
          "bar": [
           {
            "error_x": {
             "color": "#2a3f5f"
            },
            "error_y": {
             "color": "#2a3f5f"
            },
            "marker": {
             "line": {
              "color": "#E5ECF6",
              "width": 0.5
             },
             "pattern": {
              "fillmode": "overlay",
              "size": 10,
              "solidity": 0.2
             }
            },
            "type": "bar"
           }
          ],
          "barpolar": [
           {
            "marker": {
             "line": {
              "color": "#E5ECF6",
              "width": 0.5
             },
             "pattern": {
              "fillmode": "overlay",
              "size": 10,
              "solidity": 0.2
             }
            },
            "type": "barpolar"
           }
          ],
          "carpet": [
           {
            "aaxis": {
             "endlinecolor": "#2a3f5f",
             "gridcolor": "white",
             "linecolor": "white",
             "minorgridcolor": "white",
             "startlinecolor": "#2a3f5f"
            },
            "baxis": {
             "endlinecolor": "#2a3f5f",
             "gridcolor": "white",
             "linecolor": "white",
             "minorgridcolor": "white",
             "startlinecolor": "#2a3f5f"
            },
            "type": "carpet"
           }
          ],
          "choropleth": [
           {
            "colorbar": {
             "outlinewidth": 0,
             "ticks": ""
            },
            "type": "choropleth"
           }
          ],
          "contour": [
           {
            "colorbar": {
             "outlinewidth": 0,
             "ticks": ""
            },
            "colorscale": [
             [
              0,
              "#0d0887"
             ],
             [
              0.1111111111111111,
              "#46039f"
             ],
             [
              0.2222222222222222,
              "#7201a8"
             ],
             [
              0.3333333333333333,
              "#9c179e"
             ],
             [
              0.4444444444444444,
              "#bd3786"
             ],
             [
              0.5555555555555556,
              "#d8576b"
             ],
             [
              0.6666666666666666,
              "#ed7953"
             ],
             [
              0.7777777777777778,
              "#fb9f3a"
             ],
             [
              0.8888888888888888,
              "#fdca26"
             ],
             [
              1,
              "#f0f921"
             ]
            ],
            "type": "contour"
           }
          ],
          "contourcarpet": [
           {
            "colorbar": {
             "outlinewidth": 0,
             "ticks": ""
            },
            "type": "contourcarpet"
           }
          ],
          "heatmap": [
           {
            "colorbar": {
             "outlinewidth": 0,
             "ticks": ""
            },
            "colorscale": [
             [
              0,
              "#0d0887"
             ],
             [
              0.1111111111111111,
              "#46039f"
             ],
             [
              0.2222222222222222,
              "#7201a8"
             ],
             [
              0.3333333333333333,
              "#9c179e"
             ],
             [
              0.4444444444444444,
              "#bd3786"
             ],
             [
              0.5555555555555556,
              "#d8576b"
             ],
             [
              0.6666666666666666,
              "#ed7953"
             ],
             [
              0.7777777777777778,
              "#fb9f3a"
             ],
             [
              0.8888888888888888,
              "#fdca26"
             ],
             [
              1,
              "#f0f921"
             ]
            ],
            "type": "heatmap"
           }
          ],
          "histogram": [
           {
            "marker": {
             "pattern": {
              "fillmode": "overlay",
              "size": 10,
              "solidity": 0.2
             }
            },
            "type": "histogram"
           }
          ],
          "histogram2d": [
           {
            "colorbar": {
             "outlinewidth": 0,
             "ticks": ""
            },
            "colorscale": [
             [
              0,
              "#0d0887"
             ],
             [
              0.1111111111111111,
              "#46039f"
             ],
             [
              0.2222222222222222,
              "#7201a8"
             ],
             [
              0.3333333333333333,
              "#9c179e"
             ],
             [
              0.4444444444444444,
              "#bd3786"
             ],
             [
              0.5555555555555556,
              "#d8576b"
             ],
             [
              0.6666666666666666,
              "#ed7953"
             ],
             [
              0.7777777777777778,
              "#fb9f3a"
             ],
             [
              0.8888888888888888,
              "#fdca26"
             ],
             [
              1,
              "#f0f921"
             ]
            ],
            "type": "histogram2d"
           }
          ],
          "histogram2dcontour": [
           {
            "colorbar": {
             "outlinewidth": 0,
             "ticks": ""
            },
            "colorscale": [
             [
              0,
              "#0d0887"
             ],
             [
              0.1111111111111111,
              "#46039f"
             ],
             [
              0.2222222222222222,
              "#7201a8"
             ],
             [
              0.3333333333333333,
              "#9c179e"
             ],
             [
              0.4444444444444444,
              "#bd3786"
             ],
             [
              0.5555555555555556,
              "#d8576b"
             ],
             [
              0.6666666666666666,
              "#ed7953"
             ],
             [
              0.7777777777777778,
              "#fb9f3a"
             ],
             [
              0.8888888888888888,
              "#fdca26"
             ],
             [
              1,
              "#f0f921"
             ]
            ],
            "type": "histogram2dcontour"
           }
          ],
          "mesh3d": [
           {
            "colorbar": {
             "outlinewidth": 0,
             "ticks": ""
            },
            "type": "mesh3d"
           }
          ],
          "parcoords": [
           {
            "line": {
             "colorbar": {
              "outlinewidth": 0,
              "ticks": ""
             }
            },
            "type": "parcoords"
           }
          ],
          "pie": [
           {
            "automargin": true,
            "type": "pie"
           }
          ],
          "scatter": [
           {
            "fillpattern": {
             "fillmode": "overlay",
             "size": 10,
             "solidity": 0.2
            },
            "type": "scatter"
           }
          ],
          "scatter3d": [
           {
            "line": {
             "colorbar": {
              "outlinewidth": 0,
              "ticks": ""
             }
            },
            "marker": {
             "colorbar": {
              "outlinewidth": 0,
              "ticks": ""
             }
            },
            "type": "scatter3d"
           }
          ],
          "scattercarpet": [
           {
            "marker": {
             "colorbar": {
              "outlinewidth": 0,
              "ticks": ""
             }
            },
            "type": "scattercarpet"
           }
          ],
          "scattergeo": [
           {
            "marker": {
             "colorbar": {
              "outlinewidth": 0,
              "ticks": ""
             }
            },
            "type": "scattergeo"
           }
          ],
          "scattergl": [
           {
            "marker": {
             "colorbar": {
              "outlinewidth": 0,
              "ticks": ""
             }
            },
            "type": "scattergl"
           }
          ],
          "scattermap": [
           {
            "marker": {
             "colorbar": {
              "outlinewidth": 0,
              "ticks": ""
             }
            },
            "type": "scattermap"
           }
          ],
          "scattermapbox": [
           {
            "marker": {
             "colorbar": {
              "outlinewidth": 0,
              "ticks": ""
             }
            },
            "type": "scattermapbox"
           }
          ],
          "scatterpolar": [
           {
            "marker": {
             "colorbar": {
              "outlinewidth": 0,
              "ticks": ""
             }
            },
            "type": "scatterpolar"
           }
          ],
          "scatterpolargl": [
           {
            "marker": {
             "colorbar": {
              "outlinewidth": 0,
              "ticks": ""
             }
            },
            "type": "scatterpolargl"
           }
          ],
          "scatterternary": [
           {
            "marker": {
             "colorbar": {
              "outlinewidth": 0,
              "ticks": ""
             }
            },
            "type": "scatterternary"
           }
          ],
          "surface": [
           {
            "colorbar": {
             "outlinewidth": 0,
             "ticks": ""
            },
            "colorscale": [
             [
              0,
              "#0d0887"
             ],
             [
              0.1111111111111111,
              "#46039f"
             ],
             [
              0.2222222222222222,
              "#7201a8"
             ],
             [
              0.3333333333333333,
              "#9c179e"
             ],
             [
              0.4444444444444444,
              "#bd3786"
             ],
             [
              0.5555555555555556,
              "#d8576b"
             ],
             [
              0.6666666666666666,
              "#ed7953"
             ],
             [
              0.7777777777777778,
              "#fb9f3a"
             ],
             [
              0.8888888888888888,
              "#fdca26"
             ],
             [
              1,
              "#f0f921"
             ]
            ],
            "type": "surface"
           }
          ],
          "table": [
           {
            "cells": {
             "fill": {
              "color": "#EBF0F8"
             },
             "line": {
              "color": "white"
             }
            },
            "header": {
             "fill": {
              "color": "#C8D4E3"
             },
             "line": {
              "color": "white"
             }
            },
            "type": "table"
           }
          ]
         },
         "layout": {
          "annotationdefaults": {
           "arrowcolor": "#2a3f5f",
           "arrowhead": 0,
           "arrowwidth": 1
          },
          "autotypenumbers": "strict",
          "coloraxis": {
           "colorbar": {
            "outlinewidth": 0,
            "ticks": ""
           }
          },
          "colorscale": {
           "diverging": [
            [
             0,
             "#8e0152"
            ],
            [
             0.1,
             "#c51b7d"
            ],
            [
             0.2,
             "#de77ae"
            ],
            [
             0.3,
             "#f1b6da"
            ],
            [
             0.4,
             "#fde0ef"
            ],
            [
             0.5,
             "#f7f7f7"
            ],
            [
             0.6,
             "#e6f5d0"
            ],
            [
             0.7,
             "#b8e186"
            ],
            [
             0.8,
             "#7fbc41"
            ],
            [
             0.9,
             "#4d9221"
            ],
            [
             1,
             "#276419"
            ]
           ],
           "sequential": [
            [
             0,
             "#0d0887"
            ],
            [
             0.1111111111111111,
             "#46039f"
            ],
            [
             0.2222222222222222,
             "#7201a8"
            ],
            [
             0.3333333333333333,
             "#9c179e"
            ],
            [
             0.4444444444444444,
             "#bd3786"
            ],
            [
             0.5555555555555556,
             "#d8576b"
            ],
            [
             0.6666666666666666,
             "#ed7953"
            ],
            [
             0.7777777777777778,
             "#fb9f3a"
            ],
            [
             0.8888888888888888,
             "#fdca26"
            ],
            [
             1,
             "#f0f921"
            ]
           ],
           "sequentialminus": [
            [
             0,
             "#0d0887"
            ],
            [
             0.1111111111111111,
             "#46039f"
            ],
            [
             0.2222222222222222,
             "#7201a8"
            ],
            [
             0.3333333333333333,
             "#9c179e"
            ],
            [
             0.4444444444444444,
             "#bd3786"
            ],
            [
             0.5555555555555556,
             "#d8576b"
            ],
            [
             0.6666666666666666,
             "#ed7953"
            ],
            [
             0.7777777777777778,
             "#fb9f3a"
            ],
            [
             0.8888888888888888,
             "#fdca26"
            ],
            [
             1,
             "#f0f921"
            ]
           ]
          },
          "colorway": [
           "#636efa",
           "#EF553B",
           "#00cc96",
           "#ab63fa",
           "#FFA15A",
           "#19d3f3",
           "#FF6692",
           "#B6E880",
           "#FF97FF",
           "#FECB52"
          ],
          "font": {
           "color": "#2a3f5f"
          },
          "geo": {
           "bgcolor": "white",
           "lakecolor": "white",
           "landcolor": "#E5ECF6",
           "showlakes": true,
           "showland": true,
           "subunitcolor": "white"
          },
          "hoverlabel": {
           "align": "left"
          },
          "hovermode": "closest",
          "mapbox": {
           "style": "light"
          },
          "paper_bgcolor": "white",
          "plot_bgcolor": "#E5ECF6",
          "polar": {
           "angularaxis": {
            "gridcolor": "white",
            "linecolor": "white",
            "ticks": ""
           },
           "bgcolor": "#E5ECF6",
           "radialaxis": {
            "gridcolor": "white",
            "linecolor": "white",
            "ticks": ""
           }
          },
          "scene": {
           "xaxis": {
            "backgroundcolor": "#E5ECF6",
            "gridcolor": "white",
            "gridwidth": 2,
            "linecolor": "white",
            "showbackground": true,
            "ticks": "",
            "zerolinecolor": "white"
           },
           "yaxis": {
            "backgroundcolor": "#E5ECF6",
            "gridcolor": "white",
            "gridwidth": 2,
            "linecolor": "white",
            "showbackground": true,
            "ticks": "",
            "zerolinecolor": "white"
           },
           "zaxis": {
            "backgroundcolor": "#E5ECF6",
            "gridcolor": "white",
            "gridwidth": 2,
            "linecolor": "white",
            "showbackground": true,
            "ticks": "",
            "zerolinecolor": "white"
           }
          },
          "shapedefaults": {
           "line": {
            "color": "#2a3f5f"
           }
          },
          "ternary": {
           "aaxis": {
            "gridcolor": "white",
            "linecolor": "white",
            "ticks": ""
           },
           "baxis": {
            "gridcolor": "white",
            "linecolor": "white",
            "ticks": ""
           },
           "bgcolor": "#E5ECF6",
           "caxis": {
            "gridcolor": "white",
            "linecolor": "white",
            "ticks": ""
           }
          },
          "title": {
           "x": 0.05
          },
          "xaxis": {
           "automargin": true,
           "gridcolor": "white",
           "linecolor": "white",
           "ticks": "",
           "title": {
            "standoff": 15
           },
           "zerolinecolor": "white",
           "zerolinewidth": 2
          },
          "yaxis": {
           "automargin": true,
           "gridcolor": "white",
           "linecolor": "white",
           "ticks": "",
           "title": {
            "standoff": 15
           },
           "zerolinecolor": "white",
           "zerolinewidth": 2
          }
         }
        },
        "width": 1000,
        "xaxis": {
         "anchor": "y",
         "domain": [
          0,
          1
         ],
         "gridcolor": "rgba(128,128,128,0.2)",
         "gridwidth": 1,
         "showgrid": true,
         "zeroline": true,
         "zerolinecolor": "rgba(128,128,128,0.5)",
         "zerolinewidth": 1
        },
        "xaxis2": {
         "anchor": "y2",
         "domain": [
          0,
          1
         ],
         "gridcolor": "rgba(128,128,128,0.2)",
         "gridwidth": 1,
         "showgrid": true,
         "zeroline": true,
         "zerolinecolor": "rgba(128,128,128,0.5)",
         "zerolinewidth": 1
        },
        "yaxis": {
         "anchor": "x",
         "domain": [
          0.625,
          1
         ],
         "gridcolor": "rgba(128,128,128,0.2)",
         "gridwidth": 1,
         "showgrid": true,
         "zeroline": true,
         "zerolinecolor": "rgba(128,128,128,0.5)",
         "zerolinewidth": 1
        },
        "yaxis2": {
         "anchor": "x2",
         "domain": [
          0,
          0.375
         ],
         "gridcolor": "rgba(128,128,128,0.2)",
         "gridwidth": 1,
         "showgrid": true,
         "zeroline": true,
         "zerolinecolor": "rgba(128,128,128,0.5)",
         "zerolinewidth": 1
        }
       }
      }
     },
     "metadata": {},
     "output_type": "display_data"
    }
   ],
   "source": [
    "import pandas as pd\n",
    "import numpy as np\n",
    "import plotly.graph_objects as go\n",
    "from plotly.subplots import make_subplots\n",
    "\n",
    "# Read and process data\n",
    "df = pd.read_csv('2025_YTD_Return.csv')['Stock']\n",
    "\n",
    "# Rebase to notional 100k to mask actual portfolio size\n",
    "df = (df / df.iloc[0]) * 100000\n",
    "df_after_60 = df[60:]\n",
    "\n",
    "# Calculate metrics for both periods\n",
    "def calculate_metrics(data):\n",
    "    returns = data.pct_change().dropna()\n",
    "    risk_free_rate = 0.05\n",
    "    daily_rf = (1 + risk_free_rate)**(1/252) - 1\n",
    "    \n",
    "    excess_returns = returns - daily_rf\n",
    "    avg_excess_return = excess_returns.mean()\n",
    "    std_dev = returns.std()\n",
    "    downside_returns = returns[returns < 0]\n",
    "    downside_std = downside_returns.std()\n",
    "    \n",
    "    sharpe = (avg_excess_return / std_dev) * np.sqrt(252)\n",
    "    sortino = (avg_excess_return / downside_std) * np.sqrt(252)\n",
    "    \n",
    "    return sharpe, sortino\n",
    "\n",
    "sharpe_full, sortino_full = calculate_metrics(df)\n",
    "sharpe_after, sortino_after = calculate_metrics(df_after_60)\n",
    "\n",
    "# Create figure with secondary y-axis\n",
    "fig = make_subplots(rows=2, cols=1,\n",
    "                    subplot_titles=(f'Full Time Series<br>Sharpe: {sharpe_full:.2f} | Sortino: {sortino_full:.2f}',\n",
    "                                  f'After Day 60<br>Sharpe: {sharpe_after:.2f} | Sortino: {sortino_after:.2f}'))\n",
    "\n",
    "# Add traces\n",
    "fig.add_trace(\n",
    "    go.Scatter(y=df, line=dict(color='rgba(0, 191, 255, 0.6)')),\n",
    "    row=1, col=1\n",
    ")\n",
    "\n",
    "fig.add_trace(\n",
    "    go.Scatter(y=df_after_60, line=dict(color='rgba(0, 191, 255, 0.6)')),\n",
    "    row=2, col=1\n",
    ")\n",
    "\n",
    "# Update layout\n",
    "fig.update_layout(\n",
    "    width=1000,\n",
    "    height=800,\n",
    "    showlegend=False,\n",
    "    plot_bgcolor='rgba(0,0,0,0)',\n",
    "    paper_bgcolor='rgba(0,0,0,0)',\n",
    "    font=dict(color='white')\n",
    ")\n",
    "\n",
    "# Update axes\n",
    "for i in range(1, 3):\n",
    "    fig.update_xaxes(\n",
    "        showgrid=True,\n",
    "        gridwidth=1,\n",
    "        gridcolor='rgba(128,128,128,0.2)',\n",
    "        zeroline=True,\n",
    "        zerolinewidth=1,\n",
    "        zerolinecolor='rgba(128,128,128,0.5)',\n",
    "        row=i, col=1\n",
    "    )\n",
    "    fig.update_yaxes(\n",
    "        showgrid=True,\n",
    "        gridwidth=1,\n",
    "        gridcolor='rgba(128,128,128,0.2)',\n",
    "        zeroline=True,\n",
    "        zerolinewidth=1,\n",
    "        zerolinecolor='rgba(128,128,128,0.5)',\n",
    "        row=i, col=1\n",
    "    )\n",
    "\n",
    "fig.show()\n"
   ]
  },
  {
   "cell_type": "markdown",
   "id": "459ab4fb",
   "metadata": {},
   "source": [
    "I could rebase this at day 60 and lie but I'm showing you the reality of the situation\n",
    "\n",
    "these quantities (ratios, performance metrics) are random variables, they are only *relatively* useful metrics"
   ]
  },
  {
   "cell_type": "markdown",
   "id": "cde90a56",
   "metadata": {},
   "source": [
    "###### ______________________________________________________________________________________________________________________________________\n"
   ]
  },
  {
   "cell_type": "markdown",
   "id": "3e230c70",
   "metadata": {},
   "source": [
    "##### 🎯 Can Retailers Trade Institutional Grade Strategies?\n",
    "\n",
    "Secrecy is not always indicative of performance or skill...\n",
    "\n",
    "Yes and no - do you want a seat at the table or do you want to trade in a retail capacity for your own account?\n",
    "\n",
    "- Who is going to build your infrastructure?\n",
    "\n",
    "- Who is going to assume the risk in any (or all) trade(s)?\n",
    "\n",
    "- Who is going to optimize your strategies? (New strategies to production, retire or optimize strategies with performance degradation)"
   ]
  },
  {
   "cell_type": "markdown",
   "id": "a074684d",
   "metadata": {},
   "source": [
    "<u>What to *watch out for*</u>\n",
    "\n",
    "- Platforms that *automate* processes for you, they want subscriptions, tempting but overfitting is only one of the pitfalls you will fall into...\n",
    "\n",
    "- News in any format, they want your attention\n",
    "\n",
    "- Brokers and apps that make trading *too* easy, they want your commission\n",
    "\n",
    "<u>What you *should do*</u>\n",
    "\n",
    "- Learn math, probability statistics, finance, economics, ...\n",
    "\n",
    "- Make quantitative trading decisions that you believe have edge in an algorithmic or discretionary capacity\n",
    "\n",
    "\n",
    "\n",
    "**🚀 Master Your Quantitative Skills to <u>Make Your Own Trading Decisions</u>**"
   ]
  },
  {
   "cell_type": "markdown",
   "id": "1c241e10",
   "metadata": {},
   "source": [
    "---"
   ]
  },
  {
   "cell_type": "markdown",
   "id": "16c60c2e",
   "metadata": {},
   "source": [
    "##### 2.) 🏛️ Institutional Trading - Sell Side\n",
    "\n",
    "Typically, folks start on the sell-side and work to navigate to the buy-side where speculative trading can be more lucrative.\n",
    "\n",
    "\n",
    "Traders on these desks quote a two-way (bid/offer) and aim to collect a spread based on a mid-price.\n",
    "\n",
    "Much of this is automated these days, especially in a high-frequency trading capacity.  \n",
    "\n",
    "Nevertheless, this is where time series analysis and models that attempt to construct a level (expectation) can be valid.  To be profitable in the long run these models only need to be *correct* on average - similar to the edge that can be constructed playing a coin flip or dice roll game."
   ]
  },
  {
   "cell_type": "code",
   "execution_count": 14,
   "id": "2d085daf",
   "metadata": {},
   "outputs": [
    {
     "data": {
      "application/vnd.plotly.v1+json": {
       "config": {
        "plotlyServerURL": "https://plot.ly"
       },
       "data": [
        {
         "line": {
          "color": "rgba(60, 179, 113, 0.9)",
          "dash": "dot",
          "width": 2
         },
         "name": "Mid Price (Estimated)",
         "type": "scatter",
         "x": {
          "bdata": "AAECAwQFBgcICQoLDA0ODxAREhMUFRYXGBkaGxwdHh8gISIjJCUmJygpKissLS4vMDEyMzQ1Njc4OTo7PD0+P0BBQkNERUZHSElKS0xNTk9QUVJTVFVWV1hZWltcXV5fYGFiYw==",
          "dtype": "i1"
         },
         "xaxis": "x",
         "y": {
          "bdata": "gNHvJb/4WEChxAdfE+5YQN8klwa54lhA9ltPBy3aWECPYPkixNVYQLPu1x9l4lhAJFeHSijfWEAJUu9IbOBYQDZpnDMd41hAH0XxtBTkWEDto2iXtuNYQK2xef0w3FhAZ4809ZrlWEA7QQajTPFYQPZcbImo5lhAe09PiTvgWED8N/Tckd5YQIq+FlWG2FhAZgQIE+TbWED8XSOkW9dYQGIlFKNX5VhAGbj1/xbtWEASG5QMlO5YQB0dcm5H9VhAlqRPG3z8WEAY2DLnAPlYQNsye2Ho81hA31eqLYn0WECxYqimLfpYQKWkbEEy+1hAQ17ERTvxWEB7vGWxOOxYQNKiiUPg61hAPOKwD4XrWECZA3SkRfhYQNyHlZuH71hArKawu+TyWECUzppDjfxYQH+7SZM3C1lAjLNSx8EIWUDfCmK0BwxZQGc1zvfND1lAzvRkAy8RWUDi71HVrRBZQEKUQueYE1lA6jDh1oQDWUCurCocAwhZQK+Qn5vyCFlALBF/36YHWUBId1U44RRZQCCsGC2wEFlAp4xhizwOWUBJuvxFHBtZQI4PysrpFVlASvpSQIUSWUAo/v8htRFZQGNGNVw3F1lALECBl6wYWUBDGb+FhxBZQMZhrmJADVlANVZgEH4JWUDNYyFQIAlZQKW2g8j6C1lAk3lUvcgOWUBiGZ6wiwNZQIpoa557CllAHGUUMjoMWUDyqIRhNxVZQDSGaOwvGFlARVFYGV0fWUDAVT1BeiJZQI3h2q04K1lAUJRBGrEuWUAwsjtyMS5ZQGiCC1/dPFlAFEnZvK5CWUCdC0+He0ZZQFt5CzNxPllAaARGNFM2WUBsPKeOUzhZQCmERr9iOVlAZNo1VpU1WUC/mj8XnTZZQC/KSKroQFlA4ZTUx3xFWUAoYsgeUD5ZQPbiMjG6PVlAKstkGrQ4WUCU5t6pWTZZQLeffsPUM1lA4VwG9eYwWUDTpLNP/yhZQPs7Du5OKFlAhzrHMtkkWUCm54xbOhJZQH8sCbd+H1lA6EO8UpcmWUDnPGGPTyRZQCH3RCmPJFlAxQNtSjAdWUA=",
          "dtype": "f8"
         },
         "yaxis": "y"
        },
        {
         "line": {
          "color": "rgba(178, 34, 34, 0.9)",
          "width": 2
         },
         "name": "Bid",
         "type": "scatter",
         "x": {
          "bdata": "AAECAwQFBgcICQoLDA0ODxAREhMUFRYXGBkaGxwdHh8gISIjJCUmJygpKissLS4vMDEyMzQ1Njc4OTo7PD0+P0BBQkNERUZHSElKS0xNTk9QUVJTVFVWV1hZWltcXV5fYGFiYw==",
          "dtype": "i1"
         },
         "xaxis": "x",
         "y": {
          "bdata": "GmuJv1jyWEA7XqH4rOdYQHm+MKBS3FhAkPXooMbTWEAp+pK8Xc9YQE2Icbn+21hAvvAg5MHYWECj64jiBdpYQNACNs223FhAud6KTq7dWECHPQIxUN1YQEdLE5fK1VhAASnOjjTfWEDV2p885upYQJD2BSNC4FhAFenoItXZWECW0Y12K9hYQCRYsO4f0lhAAJ6hrH3VWECW97w99dBYQPy+rTzx3lhAs1GPmbDmWECstC2mLehYQLe2Cwjh7lhAMD7ptBX2WECyccyAmvJYQHXMFPuB7VhAefFDxyLuWEBL/EFAx/NYQD8+BtvL9FhA3fdd39TqWEAVVv9K0uVYQGw8I9155VhA1ntKqR7lWEAznQ0+3/FYQHYhLzUh6VhARkBKVX7sWEAuaDTdJvZYQBlV4yzRBFlAJk3sYFsCWUB5pPtNoQVZQAHPZ5FnCVlAaI7+nMgKWUB8ietuRwpZQNwt3IAyDVlAhMp6cB79WEBIRsS1nAFZQEkqOTWMAllAxqoYeUABWUDiEO/Reg5ZQLpFssZJCllAQSb7JNYHWUDjU5bftRRZQCipY2SDD1lA5JPs2R4MWUDCl5m7TgtZQP3fzvXQEFlAxtkaMUYSWUDdslgfIQpZQGD7R/zZBllAz+/5qRcDWUBn/brpuQJZQD9QHWKUBVlALRPuVmIIWUD8sjdKJf1YQCQCBTgVBFlAtv6ty9MFWUCMQh770A5ZQM4fAobJEVlA3+rxsvYYWUBa79baExxZQCd7dEfSJFlA6i3bs0ooWUDKS9ULyydZQAIcpfh2NllAruJyVkg8WUA3peggFUBZQPUSpcwKOFlAAp7fzewvWUAG1kAo7TFZQMMd4Fj8MllA/nPP7y4vWUBZNNmwNjBZQMlj4kOCOllAey5uYRY/WUDC+2G46TdZQJB8zMpTN1lAxGT+s00yWUAugHhD8y9ZQFE5GF1uLVlAe/afjoAqWUBtPk3pmCJZQJXVp4foIVlAIdRgzHIeWUBAgSb10wtZQBnGolAYGVlAgt1V7DAgWUCB1voo6R1ZQLuQ3sIoHllAX50G5MkWWUA=",
          "dtype": "f8"
         },
         "yaxis": "y"
        },
        {
         "line": {
          "color": "rgba(70, 130, 180, 0.9)",
          "width": 2
         },
         "name": "Ask",
         "type": "scatter",
         "x": {
          "bdata": "AAECAwQFBgcICQoLDA0ODxAREhMUFRYXGBkaGxwdHh8gISIjJCUmJygpKissLS4vMDEyMzQ1Njc4OTo7PD0+P0BBQkNERUZHSElKS0xNTk9QUVJTVFVWV1hZWltcXV5fYGFiYw==",
          "dtype": "i1"
         },
         "xaxis": "x",
         "y": {
          "bdata": "5jdWjCX/WEAHK27FefRYQEWL/Wwf6VhAXMK1bZPgWED1xl+JKtxYQBlVPobL6FhAir3tsI7lWEBvuFWv0uZYQJzPApqD6VhAhatXG3vqWEBTCs/9HOpYQBMY4GOX4lhAzfWaWwHsWEChp2wJs/dYQFzD0u8O7VhA4bW176HmWEBinlpD+ORYQPAkfbvs3lhAzGpueUriWEBixIkKwt1YQMiLegm+61hAfx5cZn3zWEB4gfpy+vRYQIOD2NSt+1hA/Aq2geICWUB+PplNZ/9YQEGZ4cdO+lhARb4QlO/6WEAXyQ4NlABZQAsL06eYAVlAqcQqrKH3WEDhIswXn/JYQDgJ8KlG8lhAokgXduvxWED/adoKrP5YQELu+wHu9VhAEg0XIkv5WED6NAGq8wJZQOUhsPmdEVlA8hm5LSgPWUBFccgabhJZQM2bNF40FllANFvLaZUXWUBIVrg7FBdZQKj6qE3/GVlAUJdHPesJWUAUE5GCaQ5ZQBX3BQJZD1lAknflRQ0OWUCu3bueRxtZQIYSf5MWF1lADfPH8aIUWUCvIGOsgiFZQPR1MDFQHFlAsGC5pusYWUCOZGaIGxhZQMmsm8KdHVlAkqbn/RIfWUCpfyXs7RZZQCzIFMmmE1lAm7zGduQPWUAzyoe2hg9ZQAsd6i5hEllA+d+6Iy8VWUDIfwQX8glZQPDO0QTiEFlAgst6mKASWUBYD+vHnRtZQJrszlKWHllAq7e+f8MlWUAmvKOn4ChZQPNHQRSfMVlAtvqngBc1WUCWGKLYlzRZQM7occVDQ1lAeq8/IxVJWUADcrXt4UxZQMHfcZnXRFlAzmqsmrk8WUDSog31uT5ZQI/qrCXJP1lAykCcvPs7WUAlAaZ9Az1ZQJUwrxBPR1lAR/s6LuNLWUCOyC6FtkRZQFxJmZcgRFlAkDHLgBo/WUD6TEUQwDxZQB0G5Sk7OllAR8NsW003WUA5Cxq2ZS9ZQGGidFS1LllA7aAtmT8rWUAMTvPBoBhZQOWSbx3lJVlATqoiuf0sWUBNo8f1tSpZQIddq4/1KllAK2rTsJYjWUA=",
          "dtype": "f8"
         },
         "yaxis": "y"
        },
        {
         "marker": {
          "color": [
           "rgba(31, 119, 180, 0.8)",
           "rgba(31, 119, 180, 0.8)",
           "rgba(31, 119, 180, 0.8)",
           "rgba(31, 119, 180, 0.8)",
           "rgba(31, 119, 180, 0.8)",
           "rgba(31, 119, 180, 0.8)",
           "rgba(178, 34, 34, 0.8)",
           "rgba(31, 119, 180, 0.8)",
           "rgba(31, 119, 180, 0.8)",
           "rgba(31, 119, 180, 0.8)",
           "rgba(31, 119, 180, 0.8)",
           "rgba(31, 119, 180, 0.8)",
           "rgba(178, 34, 34, 0.8)",
           "rgba(178, 34, 34, 0.8)",
           "rgba(31, 119, 180, 0.8)",
           "rgba(31, 119, 180, 0.8)",
           "rgba(31, 119, 180, 0.8)",
           "rgba(31, 119, 180, 0.8)",
           "rgba(178, 34, 34, 0.8)",
           "rgba(31, 119, 180, 0.8)",
           "rgba(178, 34, 34, 0.8)",
           "rgba(178, 34, 34, 0.8)",
           "rgba(178, 34, 34, 0.8)",
           "rgba(178, 34, 34, 0.8)",
           "rgba(178, 34, 34, 0.8)",
           "rgba(31, 119, 180, 0.8)",
           "rgba(31, 119, 180, 0.8)",
           "rgba(31, 119, 180, 0.8)",
           "rgba(178, 34, 34, 0.8)",
           "rgba(31, 119, 180, 0.8)",
           "rgba(31, 119, 180, 0.8)",
           "rgba(31, 119, 180, 0.8)",
           "rgba(31, 119, 180, 0.8)",
           "rgba(31, 119, 180, 0.8)",
           "rgba(178, 34, 34, 0.8)",
           "rgba(31, 119, 180, 0.8)",
           "rgba(178, 34, 34, 0.8)",
           "rgba(178, 34, 34, 0.8)",
           "rgba(178, 34, 34, 0.8)",
           "rgba(31, 119, 180, 0.8)",
           "rgba(178, 34, 34, 0.8)",
           "rgba(178, 34, 34, 0.8)",
           "rgba(31, 119, 180, 0.8)",
           "rgba(31, 119, 180, 0.8)",
           "rgba(178, 34, 34, 0.8)",
           "rgba(31, 119, 180, 0.8)",
           "rgba(31, 119, 180, 0.8)",
           "rgba(31, 119, 180, 0.8)",
           "rgba(31, 119, 180, 0.8)",
           "rgba(178, 34, 34, 0.8)",
           "rgba(31, 119, 180, 0.8)",
           "rgba(31, 119, 180, 0.8)",
           "rgba(31, 119, 180, 0.8)",
           "rgba(31, 119, 180, 0.8)",
           "rgba(31, 119, 180, 0.8)",
           "rgba(31, 119, 180, 0.8)",
           "rgba(31, 119, 180, 0.8)",
           "rgba(31, 119, 180, 0.8)",
           "rgba(178, 34, 34, 0.8)",
           "rgba(178, 34, 34, 0.8)",
           "rgba(178, 34, 34, 0.8)",
           "rgba(178, 34, 34, 0.8)",
           "rgba(31, 119, 180, 0.8)",
           "rgba(31, 119, 180, 0.8)",
           "rgba(31, 119, 180, 0.8)",
           "rgba(178, 34, 34, 0.8)",
           "rgba(31, 119, 180, 0.8)",
           "rgba(178, 34, 34, 0.8)",
           "rgba(178, 34, 34, 0.8)",
           "rgba(178, 34, 34, 0.8)",
           "rgba(178, 34, 34, 0.8)",
           "rgba(178, 34, 34, 0.8)",
           "rgba(178, 34, 34, 0.8)",
           "rgba(31, 119, 180, 0.8)",
           "rgba(178, 34, 34, 0.8)",
           "rgba(178, 34, 34, 0.8)",
           "rgba(178, 34, 34, 0.8)",
           "rgba(31, 119, 180, 0.8)",
           "rgba(31, 119, 180, 0.8)",
           "rgba(178, 34, 34, 0.8)",
           "rgba(31, 119, 180, 0.8)",
           "rgba(31, 119, 180, 0.8)",
           "rgba(178, 34, 34, 0.8)",
           "rgba(178, 34, 34, 0.8)",
           "rgba(178, 34, 34, 0.8)",
           "rgba(31, 119, 180, 0.8)",
           "rgba(31, 119, 180, 0.8)",
           "rgba(31, 119, 180, 0.8)",
           "rgba(31, 119, 180, 0.8)",
           "rgba(31, 119, 180, 0.8)",
           "rgba(31, 119, 180, 0.8)",
           "rgba(31, 119, 180, 0.8)",
           "rgba(31, 119, 180, 0.8)",
           "rgba(31, 119, 180, 0.8)",
           "rgba(31, 119, 180, 0.8)",
           "rgba(178, 34, 34, 0.8)",
           "rgba(178, 34, 34, 0.8)",
           "rgba(31, 119, 180, 0.8)",
           "rgba(31, 119, 180, 0.8)",
           "rgba(31, 119, 180, 0.8)"
          ]
         },
         "name": "Trade P&L",
         "type": "bar",
         "x": {
          "bdata": "AAECAwQFBgcICQoLDA0ODxAREhMUFRYXGBkaGxwdHh8gISIjJCUmJygpKissLS4vMDEyMzQ1Njc4OTo7PD0+P0BBQkNERUZHSElKS0xNTk9QUVJTVFVWV1hZWltcXV5fYGFiYw==",
          "dtype": "i1"
         },
         "xaxis": "x2",
         "y": {
          "bdata": "mpmZmZmZuT9mJIA29L3bP2YoBte+wNE/mpmZmZmZuT8AAAAAAAAAAGaK9ERjB9M/AHi8hKrmqb+amZmZmZm5PzTLecrdq60/mlG68o7dsT+a8ScB/AK+P2bmSkSacdU/AHS7de/T0r+aFa8Oo67cvwDPrM1M7N8/AHEoVwBH0z/NxIilLxrKPzPQ4twGUOI/M4N5ghqYy78zpnlTtxDjP2Yy9UdkXvq/TU1O4pHq579mhsUy+ge2v03z01WjQOS/gCdaB1046b8AcpfJbF7YP4BVwgLU1eE/aGbk004Alj/Nq/JFdIzgv6CZqzZzsXI/GsUUANIJ8z8zU7qthD3nP80KNNbOosE/zdTT9ToTwT9NNaC0QK7svzOtKvBEr+Q/zEywV8+Hrb/NnByh3B3gv00tMFNEzOK/ZjKGQpY90D8zcZzMde7DvwCo1BxR39K/0EwZbQFHjD8AgJ1gwiWgP8zMNVx71qK/M4uWlENH4z9oJqrOEYKeP5qRefKdHbI/zd7JjzWTxD8AKplBhdfjv81s+b/5kM0/zb4LOxC0wT+amZmZmZm5PwAAAAAAAAAAzVT3uuGVwz+amZmZmZm5P81CXTdB0cc/AJCcv7RTlz8A0k2EI0rAv8DMSYTd72O/AIhccJISvr8AAJq8D3CHv818cpG9gcI/mpmZmZmZuT9ml8Ycc6PRPwCgPDW3v7u/NBNqo/hJpz8ArIfgXvrRv8z8iinSGaS/ADNhz4aH1b9mFq625Di4v5oAPXLf1NO/AJIwaIrSxL8AAGYage+XPwBUuDfjAea/mkm00BDf0L9m0oTr4/+zvzO3V7rbR+M/s5LXIDB+5z+YmZrnMbCZv2hW+580p5E/ZnoNqQqc1T8AsAWcEHywv81kw2O8iea/M8OIkR/Ux7+zAbLR2SLlP80kw87v08M/M32GBIPI5D8AGkCpE3nQPwAL8KFMotE/ANrTSaWA1D8AMYShwqrrP81MWiPn0sc/M7258v3E4j/NrR8HpGsDQKZOAT40QPy/5uwgpusj8L9mcbNPy3vfPzQTAQkcU68/mih9/w4v8j8=",
          "dtype": "f8"
         },
         "yaxis": "y2"
        },
        {
         "line": {
          "color": "rgba(60, 179, 113, 0.9)",
          "width": 2
         },
         "name": "Cumulative P&L",
         "type": "scatter",
         "x": {
          "bdata": "AAECAwQFBgcICQoLDA0ODxAREhMUFRYXGBkaGxwdHh8gISIjJCUmJygpKissLS4vMDEyMzQ1Njc4OTo7PD0+P0BBQkNERUZHSElKS0xNTk9QUVJTVFVWV1hZWltcXV5fYGFiYw==",
          "dtype": "i1"
         },
         "xaxis": "x2",
         "y": {
          "bdata": "AAAAAAAAAABmJIA29L3bP2Ymw4ZZv+Y/mVn2uYzy6T+ZWfa5jPLpP2ZPOC4fu/E/pmsS2unr8D9ABaxzg4XyP5rT/2HicvM/tHgrUbuQ9D/O9z0R63D2P2ixUKJRzfs/aNThxFUY9z8DHmwCWtnvP8JCoTTA5/c/Al9rSoC5/D+cdxw/xvz/P9vvxtZkkgRAqFefLuPYAkA1wX0DEZ0HQARQBr+92/Q/u1K+m+nM4T/cQ8uq1BfeP3xFuQHk0sS/33jIBxZt7r/fv/yi3z3iv8CXmg7oAoq/EDUumbX9gT/58o1vfUTgv8abIIkaH+C/bu4Id4n05T/QoGESB5n2PyoiKO1gzfg/xJziS8jv+j87BCXjTzHpP7fYp2lK8PY/UVbq7gsE9j/VD7g8O+rrPxDFD9PtO9I/u/vKCsI84T/cvkcvSYLYP3BbzEngi7Y/CoVvd8AUuj+FIt/T0BPBP6Reo/ljvLg/CPfKE9Be5j87SECi4FLnP256j2CUluk/IfKBxGG77j9CkNEFucfVP1Qj5/IaSOI/BxOqAR+15j86Rt00UujpPzpG3TRS6Ok/bRubo8rN7j9QJ2frfgDxP6rPUhKn+vM/6kFR5fVX9D+qh8d0sU7yP8RiBYa5RPI/RJr/XpBj8D9EZoY/sDTwP961tPHnhPI/eE9Oi4Ee9D9S9X9SXof4P1IrLN9iy/Y/7HtHpLKF9z/skCXsGgfzPwY52VpMZvI/jNgBTtUI6j+/FSy3uAHnP+QqG/yRLto/yMMFkJmKzz/kQanZRETRPxxmx5WBv9q/29c9M0nP5b8ocq6wRU/ov9TrWtmnHcS/vteAKsZ24j/xAkSbRKnhP6TdQ0B+NuI/15rKlIME7T/X5EmBAfXqPygAGnYUrcE/LAy7bSycqL/wUNYKF5njPyMah/4Sjug/q8uGAUur9j8r0tbrj8n6P+vUUhQjMv8/tuVjMyYpAkD28cTb1hMJQMOW+k0FkQpAEAapykRCD0DuWeRo9FYZQEQGZFnnRhJAFZa339h7DEAhAtckqTUQQEcE6VxPdBBAbk7IHBMAFUA=",
          "dtype": "f8"
         },
         "yaxis": "y2"
        }
       ],
       "frames": [
        {
         "data": [
          {
           "line": {
            "color": "rgba(60, 179, 113, 0.9)",
            "dash": "dot",
            "width": 2
           },
           "name": "Mid Price (Estimated)",
           "type": "scatter",
           "x": {
            "bdata": "AA==",
            "dtype": "i1"
           },
           "xaxis": "x",
           "y": {
            "bdata": "gNHvJb/4WEA=",
            "dtype": "f8"
           },
           "yaxis": "y"
          },
          {
           "line": {
            "color": "rgba(178, 34, 34, 0.9)",
            "width": 2
           },
           "name": "Bid",
           "type": "scatter",
           "x": {
            "bdata": "AA==",
            "dtype": "i1"
           },
           "xaxis": "x",
           "y": {
            "bdata": "GmuJv1jyWEA=",
            "dtype": "f8"
           },
           "yaxis": "y"
          },
          {
           "line": {
            "color": "rgba(70, 130, 180, 0.9)",
            "width": 2
           },
           "name": "Ask",
           "type": "scatter",
           "x": {
            "bdata": "AA==",
            "dtype": "i1"
           },
           "xaxis": "x",
           "y": {
            "bdata": "5jdWjCX/WEA=",
            "dtype": "f8"
           },
           "yaxis": "y"
          },
          {
           "marker": {
            "color": [
             "rgba(31, 119, 180, 0.8)"
            ]
           },
           "name": "Trade P&L",
           "type": "bar",
           "x": {
            "bdata": "AA==",
            "dtype": "i1"
           },
           "xaxis": "x2",
           "y": {
            "bdata": "mpmZmZmZuT8=",
            "dtype": "f8"
           },
           "yaxis": "y2"
          },
          {
           "line": {
            "color": "rgba(60, 179, 113, 0.9)",
            "width": 2
           },
           "name": "Cumulative P&L",
           "type": "scatter",
           "x": {
            "bdata": "AA==",
            "dtype": "i1"
           },
           "xaxis": "x2",
           "y": {
            "bdata": "AAAAAAAAAAA=",
            "dtype": "f8"
           },
           "yaxis": "y2"
          }
         ]
        },
        {
         "data": [
          {
           "line": {
            "color": "rgba(60, 179, 113, 0.9)",
            "dash": "dot",
            "width": 2
           },
           "name": "Mid Price (Estimated)",
           "type": "scatter",
           "x": {
            "bdata": "AAE=",
            "dtype": "i1"
           },
           "xaxis": "x",
           "y": {
            "bdata": "gNHvJb/4WEChxAdfE+5YQA==",
            "dtype": "f8"
           },
           "yaxis": "y"
          },
          {
           "line": {
            "color": "rgba(178, 34, 34, 0.9)",
            "width": 2
           },
           "name": "Bid",
           "type": "scatter",
           "x": {
            "bdata": "AAE=",
            "dtype": "i1"
           },
           "xaxis": "x",
           "y": {
            "bdata": "GmuJv1jyWEA7XqH4rOdYQA==",
            "dtype": "f8"
           },
           "yaxis": "y"
          },
          {
           "line": {
            "color": "rgba(70, 130, 180, 0.9)",
            "width": 2
           },
           "name": "Ask",
           "type": "scatter",
           "x": {
            "bdata": "AAE=",
            "dtype": "i1"
           },
           "xaxis": "x",
           "y": {
            "bdata": "5jdWjCX/WEAHK27FefRYQA==",
            "dtype": "f8"
           },
           "yaxis": "y"
          },
          {
           "marker": {
            "color": [
             "rgba(31, 119, 180, 0.8)",
             "rgba(31, 119, 180, 0.8)"
            ]
           },
           "name": "Trade P&L",
           "type": "bar",
           "x": {
            "bdata": "AAE=",
            "dtype": "i1"
           },
           "xaxis": "x2",
           "y": {
            "bdata": "mpmZmZmZuT9mJIA29L3bPw==",
            "dtype": "f8"
           },
           "yaxis": "y2"
          },
          {
           "line": {
            "color": "rgba(60, 179, 113, 0.9)",
            "width": 2
           },
           "name": "Cumulative P&L",
           "type": "scatter",
           "x": {
            "bdata": "AAE=",
            "dtype": "i1"
           },
           "xaxis": "x2",
           "y": {
            "bdata": "AAAAAAAAAABmJIA29L3bPw==",
            "dtype": "f8"
           },
           "yaxis": "y2"
          }
         ]
        },
        {
         "data": [
          {
           "line": {
            "color": "rgba(60, 179, 113, 0.9)",
            "dash": "dot",
            "width": 2
           },
           "name": "Mid Price (Estimated)",
           "type": "scatter",
           "x": {
            "bdata": "AAEC",
            "dtype": "i1"
           },
           "xaxis": "x",
           "y": {
            "bdata": "gNHvJb/4WEChxAdfE+5YQN8klwa54lhA",
            "dtype": "f8"
           },
           "yaxis": "y"
          },
          {
           "line": {
            "color": "rgba(178, 34, 34, 0.9)",
            "width": 2
           },
           "name": "Bid",
           "type": "scatter",
           "x": {
            "bdata": "AAEC",
            "dtype": "i1"
           },
           "xaxis": "x",
           "y": {
            "bdata": "GmuJv1jyWEA7XqH4rOdYQHm+MKBS3FhA",
            "dtype": "f8"
           },
           "yaxis": "y"
          },
          {
           "line": {
            "color": "rgba(70, 130, 180, 0.9)",
            "width": 2
           },
           "name": "Ask",
           "type": "scatter",
           "x": {
            "bdata": "AAEC",
            "dtype": "i1"
           },
           "xaxis": "x",
           "y": {
            "bdata": "5jdWjCX/WEAHK27FefRYQEWL/Wwf6VhA",
            "dtype": "f8"
           },
           "yaxis": "y"
          },
          {
           "marker": {
            "color": [
             "rgba(31, 119, 180, 0.8)",
             "rgba(31, 119, 180, 0.8)",
             "rgba(31, 119, 180, 0.8)"
            ]
           },
           "name": "Trade P&L",
           "type": "bar",
           "x": {
            "bdata": "AAEC",
            "dtype": "i1"
           },
           "xaxis": "x2",
           "y": {
            "bdata": "mpmZmZmZuT9mJIA29L3bP2YoBte+wNE/",
            "dtype": "f8"
           },
           "yaxis": "y2"
          },
          {
           "line": {
            "color": "rgba(60, 179, 113, 0.9)",
            "width": 2
           },
           "name": "Cumulative P&L",
           "type": "scatter",
           "x": {
            "bdata": "AAEC",
            "dtype": "i1"
           },
           "xaxis": "x2",
           "y": {
            "bdata": "AAAAAAAAAABmJIA29L3bP2Ymw4ZZv+Y/",
            "dtype": "f8"
           },
           "yaxis": "y2"
          }
         ]
        },
        {
         "data": [
          {
           "line": {
            "color": "rgba(60, 179, 113, 0.9)",
            "dash": "dot",
            "width": 2
           },
           "name": "Mid Price (Estimated)",
           "type": "scatter",
           "x": {
            "bdata": "AAECAw==",
            "dtype": "i1"
           },
           "xaxis": "x",
           "y": {
            "bdata": "gNHvJb/4WEChxAdfE+5YQN8klwa54lhA9ltPBy3aWEA=",
            "dtype": "f8"
           },
           "yaxis": "y"
          },
          {
           "line": {
            "color": "rgba(178, 34, 34, 0.9)",
            "width": 2
           },
           "name": "Bid",
           "type": "scatter",
           "x": {
            "bdata": "AAECAw==",
            "dtype": "i1"
           },
           "xaxis": "x",
           "y": {
            "bdata": "GmuJv1jyWEA7XqH4rOdYQHm+MKBS3FhAkPXooMbTWEA=",
            "dtype": "f8"
           },
           "yaxis": "y"
          },
          {
           "line": {
            "color": "rgba(70, 130, 180, 0.9)",
            "width": 2
           },
           "name": "Ask",
           "type": "scatter",
           "x": {
            "bdata": "AAECAw==",
            "dtype": "i1"
           },
           "xaxis": "x",
           "y": {
            "bdata": "5jdWjCX/WEAHK27FefRYQEWL/Wwf6VhAXMK1bZPgWEA=",
            "dtype": "f8"
           },
           "yaxis": "y"
          },
          {
           "marker": {
            "color": [
             "rgba(31, 119, 180, 0.8)",
             "rgba(31, 119, 180, 0.8)",
             "rgba(31, 119, 180, 0.8)",
             "rgba(31, 119, 180, 0.8)"
            ]
           },
           "name": "Trade P&L",
           "type": "bar",
           "x": {
            "bdata": "AAECAw==",
            "dtype": "i1"
           },
           "xaxis": "x2",
           "y": {
            "bdata": "mpmZmZmZuT9mJIA29L3bP2YoBte+wNE/mpmZmZmZuT8=",
            "dtype": "f8"
           },
           "yaxis": "y2"
          },
          {
           "line": {
            "color": "rgba(60, 179, 113, 0.9)",
            "width": 2
           },
           "name": "Cumulative P&L",
           "type": "scatter",
           "x": {
            "bdata": "AAECAw==",
            "dtype": "i1"
           },
           "xaxis": "x2",
           "y": {
            "bdata": "AAAAAAAAAABmJIA29L3bP2Ymw4ZZv+Y/mVn2uYzy6T8=",
            "dtype": "f8"
           },
           "yaxis": "y2"
          }
         ]
        },
        {
         "data": [
          {
           "line": {
            "color": "rgba(60, 179, 113, 0.9)",
            "dash": "dot",
            "width": 2
           },
           "name": "Mid Price (Estimated)",
           "type": "scatter",
           "x": {
            "bdata": "AAECAwQ=",
            "dtype": "i1"
           },
           "xaxis": "x",
           "y": {
            "bdata": "gNHvJb/4WEChxAdfE+5YQN8klwa54lhA9ltPBy3aWECPYPkixNVYQA==",
            "dtype": "f8"
           },
           "yaxis": "y"
          },
          {
           "line": {
            "color": "rgba(178, 34, 34, 0.9)",
            "width": 2
           },
           "name": "Bid",
           "type": "scatter",
           "x": {
            "bdata": "AAECAwQ=",
            "dtype": "i1"
           },
           "xaxis": "x",
           "y": {
            "bdata": "GmuJv1jyWEA7XqH4rOdYQHm+MKBS3FhAkPXooMbTWEAp+pK8Xc9YQA==",
            "dtype": "f8"
           },
           "yaxis": "y"
          },
          {
           "line": {
            "color": "rgba(70, 130, 180, 0.9)",
            "width": 2
           },
           "name": "Ask",
           "type": "scatter",
           "x": {
            "bdata": "AAECAwQ=",
            "dtype": "i1"
           },
           "xaxis": "x",
           "y": {
            "bdata": "5jdWjCX/WEAHK27FefRYQEWL/Wwf6VhAXMK1bZPgWED1xl+JKtxYQA==",
            "dtype": "f8"
           },
           "yaxis": "y"
          },
          {
           "marker": {
            "color": [
             "rgba(31, 119, 180, 0.8)",
             "rgba(31, 119, 180, 0.8)",
             "rgba(31, 119, 180, 0.8)",
             "rgba(31, 119, 180, 0.8)",
             "rgba(31, 119, 180, 0.8)"
            ]
           },
           "name": "Trade P&L",
           "type": "bar",
           "x": {
            "bdata": "AAECAwQ=",
            "dtype": "i1"
           },
           "xaxis": "x2",
           "y": {
            "bdata": "mpmZmZmZuT9mJIA29L3bP2YoBte+wNE/mpmZmZmZuT8AAAAAAAAAAA==",
            "dtype": "f8"
           },
           "yaxis": "y2"
          },
          {
           "line": {
            "color": "rgba(60, 179, 113, 0.9)",
            "width": 2
           },
           "name": "Cumulative P&L",
           "type": "scatter",
           "x": {
            "bdata": "AAECAwQ=",
            "dtype": "i1"
           },
           "xaxis": "x2",
           "y": {
            "bdata": "AAAAAAAAAABmJIA29L3bP2Ymw4ZZv+Y/mVn2uYzy6T+ZWfa5jPLpPw==",
            "dtype": "f8"
           },
           "yaxis": "y2"
          }
         ]
        },
        {
         "data": [
          {
           "line": {
            "color": "rgba(60, 179, 113, 0.9)",
            "dash": "dot",
            "width": 2
           },
           "name": "Mid Price (Estimated)",
           "type": "scatter",
           "x": {
            "bdata": "AAECAwQF",
            "dtype": "i1"
           },
           "xaxis": "x",
           "y": {
            "bdata": "gNHvJb/4WEChxAdfE+5YQN8klwa54lhA9ltPBy3aWECPYPkixNVYQLPu1x9l4lhA",
            "dtype": "f8"
           },
           "yaxis": "y"
          },
          {
           "line": {
            "color": "rgba(178, 34, 34, 0.9)",
            "width": 2
           },
           "name": "Bid",
           "type": "scatter",
           "x": {
            "bdata": "AAECAwQF",
            "dtype": "i1"
           },
           "xaxis": "x",
           "y": {
            "bdata": "GmuJv1jyWEA7XqH4rOdYQHm+MKBS3FhAkPXooMbTWEAp+pK8Xc9YQE2Icbn+21hA",
            "dtype": "f8"
           },
           "yaxis": "y"
          },
          {
           "line": {
            "color": "rgba(70, 130, 180, 0.9)",
            "width": 2
           },
           "name": "Ask",
           "type": "scatter",
           "x": {
            "bdata": "AAECAwQF",
            "dtype": "i1"
           },
           "xaxis": "x",
           "y": {
            "bdata": "5jdWjCX/WEAHK27FefRYQEWL/Wwf6VhAXMK1bZPgWED1xl+JKtxYQBlVPobL6FhA",
            "dtype": "f8"
           },
           "yaxis": "y"
          },
          {
           "marker": {
            "color": [
             "rgba(31, 119, 180, 0.8)",
             "rgba(31, 119, 180, 0.8)",
             "rgba(31, 119, 180, 0.8)",
             "rgba(31, 119, 180, 0.8)",
             "rgba(31, 119, 180, 0.8)",
             "rgba(31, 119, 180, 0.8)"
            ]
           },
           "name": "Trade P&L",
           "type": "bar",
           "x": {
            "bdata": "AAECAwQF",
            "dtype": "i1"
           },
           "xaxis": "x2",
           "y": {
            "bdata": "mpmZmZmZuT9mJIA29L3bP2YoBte+wNE/mpmZmZmZuT8AAAAAAAAAAGaK9ERjB9M/",
            "dtype": "f8"
           },
           "yaxis": "y2"
          },
          {
           "line": {
            "color": "rgba(60, 179, 113, 0.9)",
            "width": 2
           },
           "name": "Cumulative P&L",
           "type": "scatter",
           "x": {
            "bdata": "AAECAwQF",
            "dtype": "i1"
           },
           "xaxis": "x2",
           "y": {
            "bdata": "AAAAAAAAAABmJIA29L3bP2Ymw4ZZv+Y/mVn2uYzy6T+ZWfa5jPLpP2ZPOC4fu/E/",
            "dtype": "f8"
           },
           "yaxis": "y2"
          }
         ]
        },
        {
         "data": [
          {
           "line": {
            "color": "rgba(60, 179, 113, 0.9)",
            "dash": "dot",
            "width": 2
           },
           "name": "Mid Price (Estimated)",
           "type": "scatter",
           "x": {
            "bdata": "AAECAwQFBg==",
            "dtype": "i1"
           },
           "xaxis": "x",
           "y": {
            "bdata": "gNHvJb/4WEChxAdfE+5YQN8klwa54lhA9ltPBy3aWECPYPkixNVYQLPu1x9l4lhAJFeHSijfWEA=",
            "dtype": "f8"
           },
           "yaxis": "y"
          },
          {
           "line": {
            "color": "rgba(178, 34, 34, 0.9)",
            "width": 2
           },
           "name": "Bid",
           "type": "scatter",
           "x": {
            "bdata": "AAECAwQFBg==",
            "dtype": "i1"
           },
           "xaxis": "x",
           "y": {
            "bdata": "GmuJv1jyWEA7XqH4rOdYQHm+MKBS3FhAkPXooMbTWEAp+pK8Xc9YQE2Icbn+21hAvvAg5MHYWEA=",
            "dtype": "f8"
           },
           "yaxis": "y"
          },
          {
           "line": {
            "color": "rgba(70, 130, 180, 0.9)",
            "width": 2
           },
           "name": "Ask",
           "type": "scatter",
           "x": {
            "bdata": "AAECAwQFBg==",
            "dtype": "i1"
           },
           "xaxis": "x",
           "y": {
            "bdata": "5jdWjCX/WEAHK27FefRYQEWL/Wwf6VhAXMK1bZPgWED1xl+JKtxYQBlVPobL6FhAir3tsI7lWEA=",
            "dtype": "f8"
           },
           "yaxis": "y"
          },
          {
           "marker": {
            "color": [
             "rgba(31, 119, 180, 0.8)",
             "rgba(31, 119, 180, 0.8)",
             "rgba(31, 119, 180, 0.8)",
             "rgba(31, 119, 180, 0.8)",
             "rgba(31, 119, 180, 0.8)",
             "rgba(31, 119, 180, 0.8)",
             "rgba(178, 34, 34, 0.8)"
            ]
           },
           "name": "Trade P&L",
           "type": "bar",
           "x": {
            "bdata": "AAECAwQFBg==",
            "dtype": "i1"
           },
           "xaxis": "x2",
           "y": {
            "bdata": "mpmZmZmZuT9mJIA29L3bP2YoBte+wNE/mpmZmZmZuT8AAAAAAAAAAGaK9ERjB9M/AHi8hKrmqb8=",
            "dtype": "f8"
           },
           "yaxis": "y2"
          },
          {
           "line": {
            "color": "rgba(60, 179, 113, 0.9)",
            "width": 2
           },
           "name": "Cumulative P&L",
           "type": "scatter",
           "x": {
            "bdata": "AAECAwQFBg==",
            "dtype": "i1"
           },
           "xaxis": "x2",
           "y": {
            "bdata": "AAAAAAAAAABmJIA29L3bP2Ymw4ZZv+Y/mVn2uYzy6T+ZWfa5jPLpP2ZPOC4fu/E/pmsS2unr8D8=",
            "dtype": "f8"
           },
           "yaxis": "y2"
          }
         ]
        },
        {
         "data": [
          {
           "line": {
            "color": "rgba(60, 179, 113, 0.9)",
            "dash": "dot",
            "width": 2
           },
           "name": "Mid Price (Estimated)",
           "type": "scatter",
           "x": {
            "bdata": "AAECAwQFBgc=",
            "dtype": "i1"
           },
           "xaxis": "x",
           "y": {
            "bdata": "gNHvJb/4WEChxAdfE+5YQN8klwa54lhA9ltPBy3aWECPYPkixNVYQLPu1x9l4lhAJFeHSijfWEAJUu9IbOBYQA==",
            "dtype": "f8"
           },
           "yaxis": "y"
          },
          {
           "line": {
            "color": "rgba(178, 34, 34, 0.9)",
            "width": 2
           },
           "name": "Bid",
           "type": "scatter",
           "x": {
            "bdata": "AAECAwQFBgc=",
            "dtype": "i1"
           },
           "xaxis": "x",
           "y": {
            "bdata": "GmuJv1jyWEA7XqH4rOdYQHm+MKBS3FhAkPXooMbTWEAp+pK8Xc9YQE2Icbn+21hAvvAg5MHYWECj64jiBdpYQA==",
            "dtype": "f8"
           },
           "yaxis": "y"
          },
          {
           "line": {
            "color": "rgba(70, 130, 180, 0.9)",
            "width": 2
           },
           "name": "Ask",
           "type": "scatter",
           "x": {
            "bdata": "AAECAwQFBgc=",
            "dtype": "i1"
           },
           "xaxis": "x",
           "y": {
            "bdata": "5jdWjCX/WEAHK27FefRYQEWL/Wwf6VhAXMK1bZPgWED1xl+JKtxYQBlVPobL6FhAir3tsI7lWEBvuFWv0uZYQA==",
            "dtype": "f8"
           },
           "yaxis": "y"
          },
          {
           "marker": {
            "color": [
             "rgba(31, 119, 180, 0.8)",
             "rgba(31, 119, 180, 0.8)",
             "rgba(31, 119, 180, 0.8)",
             "rgba(31, 119, 180, 0.8)",
             "rgba(31, 119, 180, 0.8)",
             "rgba(31, 119, 180, 0.8)",
             "rgba(178, 34, 34, 0.8)",
             "rgba(31, 119, 180, 0.8)"
            ]
           },
           "name": "Trade P&L",
           "type": "bar",
           "x": {
            "bdata": "AAECAwQFBgc=",
            "dtype": "i1"
           },
           "xaxis": "x2",
           "y": {
            "bdata": "mpmZmZmZuT9mJIA29L3bP2YoBte+wNE/mpmZmZmZuT8AAAAAAAAAAGaK9ERjB9M/AHi8hKrmqb+amZmZmZm5Pw==",
            "dtype": "f8"
           },
           "yaxis": "y2"
          },
          {
           "line": {
            "color": "rgba(60, 179, 113, 0.9)",
            "width": 2
           },
           "name": "Cumulative P&L",
           "type": "scatter",
           "x": {
            "bdata": "AAECAwQFBgc=",
            "dtype": "i1"
           },
           "xaxis": "x2",
           "y": {
            "bdata": "AAAAAAAAAABmJIA29L3bP2Ymw4ZZv+Y/mVn2uYzy6T+ZWfa5jPLpP2ZPOC4fu/E/pmsS2unr8D9ABaxzg4XyPw==",
            "dtype": "f8"
           },
           "yaxis": "y2"
          }
         ]
        },
        {
         "data": [
          {
           "line": {
            "color": "rgba(60, 179, 113, 0.9)",
            "dash": "dot",
            "width": 2
           },
           "name": "Mid Price (Estimated)",
           "type": "scatter",
           "x": {
            "bdata": "AAECAwQFBgcI",
            "dtype": "i1"
           },
           "xaxis": "x",
           "y": {
            "bdata": "gNHvJb/4WEChxAdfE+5YQN8klwa54lhA9ltPBy3aWECPYPkixNVYQLPu1x9l4lhAJFeHSijfWEAJUu9IbOBYQDZpnDMd41hA",
            "dtype": "f8"
           },
           "yaxis": "y"
          },
          {
           "line": {
            "color": "rgba(178, 34, 34, 0.9)",
            "width": 2
           },
           "name": "Bid",
           "type": "scatter",
           "x": {
            "bdata": "AAECAwQFBgcI",
            "dtype": "i1"
           },
           "xaxis": "x",
           "y": {
            "bdata": "GmuJv1jyWEA7XqH4rOdYQHm+MKBS3FhAkPXooMbTWEAp+pK8Xc9YQE2Icbn+21hAvvAg5MHYWECj64jiBdpYQNACNs223FhA",
            "dtype": "f8"
           },
           "yaxis": "y"
          },
          {
           "line": {
            "color": "rgba(70, 130, 180, 0.9)",
            "width": 2
           },
           "name": "Ask",
           "type": "scatter",
           "x": {
            "bdata": "AAECAwQFBgcI",
            "dtype": "i1"
           },
           "xaxis": "x",
           "y": {
            "bdata": "5jdWjCX/WEAHK27FefRYQEWL/Wwf6VhAXMK1bZPgWED1xl+JKtxYQBlVPobL6FhAir3tsI7lWEBvuFWv0uZYQJzPApqD6VhA",
            "dtype": "f8"
           },
           "yaxis": "y"
          },
          {
           "marker": {
            "color": [
             "rgba(31, 119, 180, 0.8)",
             "rgba(31, 119, 180, 0.8)",
             "rgba(31, 119, 180, 0.8)",
             "rgba(31, 119, 180, 0.8)",
             "rgba(31, 119, 180, 0.8)",
             "rgba(31, 119, 180, 0.8)",
             "rgba(178, 34, 34, 0.8)",
             "rgba(31, 119, 180, 0.8)",
             "rgba(31, 119, 180, 0.8)"
            ]
           },
           "name": "Trade P&L",
           "type": "bar",
           "x": {
            "bdata": "AAECAwQFBgcI",
            "dtype": "i1"
           },
           "xaxis": "x2",
           "y": {
            "bdata": "mpmZmZmZuT9mJIA29L3bP2YoBte+wNE/mpmZmZmZuT8AAAAAAAAAAGaK9ERjB9M/AHi8hKrmqb+amZmZmZm5PzTLecrdq60/",
            "dtype": "f8"
           },
           "yaxis": "y2"
          },
          {
           "line": {
            "color": "rgba(60, 179, 113, 0.9)",
            "width": 2
           },
           "name": "Cumulative P&L",
           "type": "scatter",
           "x": {
            "bdata": "AAECAwQFBgcI",
            "dtype": "i1"
           },
           "xaxis": "x2",
           "y": {
            "bdata": "AAAAAAAAAABmJIA29L3bP2Ymw4ZZv+Y/mVn2uYzy6T+ZWfa5jPLpP2ZPOC4fu/E/pmsS2unr8D9ABaxzg4XyP5rT/2HicvM/",
            "dtype": "f8"
           },
           "yaxis": "y2"
          }
         ]
        },
        {
         "data": [
          {
           "line": {
            "color": "rgba(60, 179, 113, 0.9)",
            "dash": "dot",
            "width": 2
           },
           "name": "Mid Price (Estimated)",
           "type": "scatter",
           "x": {
            "bdata": "AAECAwQFBgcICQ==",
            "dtype": "i1"
           },
           "xaxis": "x",
           "y": {
            "bdata": "gNHvJb/4WEChxAdfE+5YQN8klwa54lhA9ltPBy3aWECPYPkixNVYQLPu1x9l4lhAJFeHSijfWEAJUu9IbOBYQDZpnDMd41hAH0XxtBTkWEA=",
            "dtype": "f8"
           },
           "yaxis": "y"
          },
          {
           "line": {
            "color": "rgba(178, 34, 34, 0.9)",
            "width": 2
           },
           "name": "Bid",
           "type": "scatter",
           "x": {
            "bdata": "AAECAwQFBgcICQ==",
            "dtype": "i1"
           },
           "xaxis": "x",
           "y": {
            "bdata": "GmuJv1jyWEA7XqH4rOdYQHm+MKBS3FhAkPXooMbTWEAp+pK8Xc9YQE2Icbn+21hAvvAg5MHYWECj64jiBdpYQNACNs223FhAud6KTq7dWEA=",
            "dtype": "f8"
           },
           "yaxis": "y"
          },
          {
           "line": {
            "color": "rgba(70, 130, 180, 0.9)",
            "width": 2
           },
           "name": "Ask",
           "type": "scatter",
           "x": {
            "bdata": "AAECAwQFBgcICQ==",
            "dtype": "i1"
           },
           "xaxis": "x",
           "y": {
            "bdata": "5jdWjCX/WEAHK27FefRYQEWL/Wwf6VhAXMK1bZPgWED1xl+JKtxYQBlVPobL6FhAir3tsI7lWEBvuFWv0uZYQJzPApqD6VhAhatXG3vqWEA=",
            "dtype": "f8"
           },
           "yaxis": "y"
          },
          {
           "marker": {
            "color": [
             "rgba(31, 119, 180, 0.8)",
             "rgba(31, 119, 180, 0.8)",
             "rgba(31, 119, 180, 0.8)",
             "rgba(31, 119, 180, 0.8)",
             "rgba(31, 119, 180, 0.8)",
             "rgba(31, 119, 180, 0.8)",
             "rgba(178, 34, 34, 0.8)",
             "rgba(31, 119, 180, 0.8)",
             "rgba(31, 119, 180, 0.8)",
             "rgba(31, 119, 180, 0.8)"
            ]
           },
           "name": "Trade P&L",
           "type": "bar",
           "x": {
            "bdata": "AAECAwQFBgcICQ==",
            "dtype": "i1"
           },
           "xaxis": "x2",
           "y": {
            "bdata": "mpmZmZmZuT9mJIA29L3bP2YoBte+wNE/mpmZmZmZuT8AAAAAAAAAAGaK9ERjB9M/AHi8hKrmqb+amZmZmZm5PzTLecrdq60/mlG68o7dsT8=",
            "dtype": "f8"
           },
           "yaxis": "y2"
          },
          {
           "line": {
            "color": "rgba(60, 179, 113, 0.9)",
            "width": 2
           },
           "name": "Cumulative P&L",
           "type": "scatter",
           "x": {
            "bdata": "AAECAwQFBgcICQ==",
            "dtype": "i1"
           },
           "xaxis": "x2",
           "y": {
            "bdata": "AAAAAAAAAABmJIA29L3bP2Ymw4ZZv+Y/mVn2uYzy6T+ZWfa5jPLpP2ZPOC4fu/E/pmsS2unr8D9ABaxzg4XyP5rT/2HicvM/tHgrUbuQ9D8=",
            "dtype": "f8"
           },
           "yaxis": "y2"
          }
         ]
        },
        {
         "data": [
          {
           "line": {
            "color": "rgba(60, 179, 113, 0.9)",
            "dash": "dot",
            "width": 2
           },
           "name": "Mid Price (Estimated)",
           "type": "scatter",
           "x": {
            "bdata": "AAECAwQFBgcICQo=",
            "dtype": "i1"
           },
           "xaxis": "x",
           "y": {
            "bdata": "gNHvJb/4WEChxAdfE+5YQN8klwa54lhA9ltPBy3aWECPYPkixNVYQLPu1x9l4lhAJFeHSijfWEAJUu9IbOBYQDZpnDMd41hAH0XxtBTkWEDto2iXtuNYQA==",
            "dtype": "f8"
           },
           "yaxis": "y"
          },
          {
           "line": {
            "color": "rgba(178, 34, 34, 0.9)",
            "width": 2
           },
           "name": "Bid",
           "type": "scatter",
           "x": {
            "bdata": "AAECAwQFBgcICQo=",
            "dtype": "i1"
           },
           "xaxis": "x",
           "y": {
            "bdata": "GmuJv1jyWEA7XqH4rOdYQHm+MKBS3FhAkPXooMbTWEAp+pK8Xc9YQE2Icbn+21hAvvAg5MHYWECj64jiBdpYQNACNs223FhAud6KTq7dWECHPQIxUN1YQA==",
            "dtype": "f8"
           },
           "yaxis": "y"
          },
          {
           "line": {
            "color": "rgba(70, 130, 180, 0.9)",
            "width": 2
           },
           "name": "Ask",
           "type": "scatter",
           "x": {
            "bdata": "AAECAwQFBgcICQo=",
            "dtype": "i1"
           },
           "xaxis": "x",
           "y": {
            "bdata": "5jdWjCX/WEAHK27FefRYQEWL/Wwf6VhAXMK1bZPgWED1xl+JKtxYQBlVPobL6FhAir3tsI7lWEBvuFWv0uZYQJzPApqD6VhAhatXG3vqWEBTCs/9HOpYQA==",
            "dtype": "f8"
           },
           "yaxis": "y"
          },
          {
           "marker": {
            "color": [
             "rgba(31, 119, 180, 0.8)",
             "rgba(31, 119, 180, 0.8)",
             "rgba(31, 119, 180, 0.8)",
             "rgba(31, 119, 180, 0.8)",
             "rgba(31, 119, 180, 0.8)",
             "rgba(31, 119, 180, 0.8)",
             "rgba(178, 34, 34, 0.8)",
             "rgba(31, 119, 180, 0.8)",
             "rgba(31, 119, 180, 0.8)",
             "rgba(31, 119, 180, 0.8)",
             "rgba(31, 119, 180, 0.8)"
            ]
           },
           "name": "Trade P&L",
           "type": "bar",
           "x": {
            "bdata": "AAECAwQFBgcICQo=",
            "dtype": "i1"
           },
           "xaxis": "x2",
           "y": {
            "bdata": "mpmZmZmZuT9mJIA29L3bP2YoBte+wNE/mpmZmZmZuT8AAAAAAAAAAGaK9ERjB9M/AHi8hKrmqb+amZmZmZm5PzTLecrdq60/mlG68o7dsT+a8ScB/AK+Pw==",
            "dtype": "f8"
           },
           "yaxis": "y2"
          },
          {
           "line": {
            "color": "rgba(60, 179, 113, 0.9)",
            "width": 2
           },
           "name": "Cumulative P&L",
           "type": "scatter",
           "x": {
            "bdata": "AAECAwQFBgcICQo=",
            "dtype": "i1"
           },
           "xaxis": "x2",
           "y": {
            "bdata": "AAAAAAAAAABmJIA29L3bP2Ymw4ZZv+Y/mVn2uYzy6T+ZWfa5jPLpP2ZPOC4fu/E/pmsS2unr8D9ABaxzg4XyP5rT/2HicvM/tHgrUbuQ9D/O9z0R63D2Pw==",
            "dtype": "f8"
           },
           "yaxis": "y2"
          }
         ]
        },
        {
         "data": [
          {
           "line": {
            "color": "rgba(60, 179, 113, 0.9)",
            "dash": "dot",
            "width": 2
           },
           "name": "Mid Price (Estimated)",
           "type": "scatter",
           "x": {
            "bdata": "AAECAwQFBgcICQoL",
            "dtype": "i1"
           },
           "xaxis": "x",
           "y": {
            "bdata": "gNHvJb/4WEChxAdfE+5YQN8klwa54lhA9ltPBy3aWECPYPkixNVYQLPu1x9l4lhAJFeHSijfWEAJUu9IbOBYQDZpnDMd41hAH0XxtBTkWEDto2iXtuNYQK2xef0w3FhA",
            "dtype": "f8"
           },
           "yaxis": "y"
          },
          {
           "line": {
            "color": "rgba(178, 34, 34, 0.9)",
            "width": 2
           },
           "name": "Bid",
           "type": "scatter",
           "x": {
            "bdata": "AAECAwQFBgcICQoL",
            "dtype": "i1"
           },
           "xaxis": "x",
           "y": {
            "bdata": "GmuJv1jyWEA7XqH4rOdYQHm+MKBS3FhAkPXooMbTWEAp+pK8Xc9YQE2Icbn+21hAvvAg5MHYWECj64jiBdpYQNACNs223FhAud6KTq7dWECHPQIxUN1YQEdLE5fK1VhA",
            "dtype": "f8"
           },
           "yaxis": "y"
          },
          {
           "line": {
            "color": "rgba(70, 130, 180, 0.9)",
            "width": 2
           },
           "name": "Ask",
           "type": "scatter",
           "x": {
            "bdata": "AAECAwQFBgcICQoL",
            "dtype": "i1"
           },
           "xaxis": "x",
           "y": {
            "bdata": "5jdWjCX/WEAHK27FefRYQEWL/Wwf6VhAXMK1bZPgWED1xl+JKtxYQBlVPobL6FhAir3tsI7lWEBvuFWv0uZYQJzPApqD6VhAhatXG3vqWEBTCs/9HOpYQBMY4GOX4lhA",
            "dtype": "f8"
           },
           "yaxis": "y"
          },
          {
           "marker": {
            "color": [
             "rgba(31, 119, 180, 0.8)",
             "rgba(31, 119, 180, 0.8)",
             "rgba(31, 119, 180, 0.8)",
             "rgba(31, 119, 180, 0.8)",
             "rgba(31, 119, 180, 0.8)",
             "rgba(31, 119, 180, 0.8)",
             "rgba(178, 34, 34, 0.8)",
             "rgba(31, 119, 180, 0.8)",
             "rgba(31, 119, 180, 0.8)",
             "rgba(31, 119, 180, 0.8)",
             "rgba(31, 119, 180, 0.8)",
             "rgba(31, 119, 180, 0.8)"
            ]
           },
           "name": "Trade P&L",
           "type": "bar",
           "x": {
            "bdata": "AAECAwQFBgcICQoL",
            "dtype": "i1"
           },
           "xaxis": "x2",
           "y": {
            "bdata": "mpmZmZmZuT9mJIA29L3bP2YoBte+wNE/mpmZmZmZuT8AAAAAAAAAAGaK9ERjB9M/AHi8hKrmqb+amZmZmZm5PzTLecrdq60/mlG68o7dsT+a8ScB/AK+P2bmSkSacdU/",
            "dtype": "f8"
           },
           "yaxis": "y2"
          },
          {
           "line": {
            "color": "rgba(60, 179, 113, 0.9)",
            "width": 2
           },
           "name": "Cumulative P&L",
           "type": "scatter",
           "x": {
            "bdata": "AAECAwQFBgcICQoL",
            "dtype": "i1"
           },
           "xaxis": "x2",
           "y": {
            "bdata": "AAAAAAAAAABmJIA29L3bP2Ymw4ZZv+Y/mVn2uYzy6T+ZWfa5jPLpP2ZPOC4fu/E/pmsS2unr8D9ABaxzg4XyP5rT/2HicvM/tHgrUbuQ9D/O9z0R63D2P2ixUKJRzfs/",
            "dtype": "f8"
           },
           "yaxis": "y2"
          }
         ]
        },
        {
         "data": [
          {
           "line": {
            "color": "rgba(60, 179, 113, 0.9)",
            "dash": "dot",
            "width": 2
           },
           "name": "Mid Price (Estimated)",
           "type": "scatter",
           "x": {
            "bdata": "AAECAwQFBgcICQoLDA==",
            "dtype": "i1"
           },
           "xaxis": "x",
           "y": {
            "bdata": "gNHvJb/4WEChxAdfE+5YQN8klwa54lhA9ltPBy3aWECPYPkixNVYQLPu1x9l4lhAJFeHSijfWEAJUu9IbOBYQDZpnDMd41hAH0XxtBTkWEDto2iXtuNYQK2xef0w3FhAZ4809ZrlWEA=",
            "dtype": "f8"
           },
           "yaxis": "y"
          },
          {
           "line": {
            "color": "rgba(178, 34, 34, 0.9)",
            "width": 2
           },
           "name": "Bid",
           "type": "scatter",
           "x": {
            "bdata": "AAECAwQFBgcICQoLDA==",
            "dtype": "i1"
           },
           "xaxis": "x",
           "y": {
            "bdata": "GmuJv1jyWEA7XqH4rOdYQHm+MKBS3FhAkPXooMbTWEAp+pK8Xc9YQE2Icbn+21hAvvAg5MHYWECj64jiBdpYQNACNs223FhAud6KTq7dWECHPQIxUN1YQEdLE5fK1VhAASnOjjTfWEA=",
            "dtype": "f8"
           },
           "yaxis": "y"
          },
          {
           "line": {
            "color": "rgba(70, 130, 180, 0.9)",
            "width": 2
           },
           "name": "Ask",
           "type": "scatter",
           "x": {
            "bdata": "AAECAwQFBgcICQoLDA==",
            "dtype": "i1"
           },
           "xaxis": "x",
           "y": {
            "bdata": "5jdWjCX/WEAHK27FefRYQEWL/Wwf6VhAXMK1bZPgWED1xl+JKtxYQBlVPobL6FhAir3tsI7lWEBvuFWv0uZYQJzPApqD6VhAhatXG3vqWEBTCs/9HOpYQBMY4GOX4lhAzfWaWwHsWEA=",
            "dtype": "f8"
           },
           "yaxis": "y"
          },
          {
           "marker": {
            "color": [
             "rgba(31, 119, 180, 0.8)",
             "rgba(31, 119, 180, 0.8)",
             "rgba(31, 119, 180, 0.8)",
             "rgba(31, 119, 180, 0.8)",
             "rgba(31, 119, 180, 0.8)",
             "rgba(31, 119, 180, 0.8)",
             "rgba(178, 34, 34, 0.8)",
             "rgba(31, 119, 180, 0.8)",
             "rgba(31, 119, 180, 0.8)",
             "rgba(31, 119, 180, 0.8)",
             "rgba(31, 119, 180, 0.8)",
             "rgba(31, 119, 180, 0.8)",
             "rgba(178, 34, 34, 0.8)"
            ]
           },
           "name": "Trade P&L",
           "type": "bar",
           "x": {
            "bdata": "AAECAwQFBgcICQoLDA==",
            "dtype": "i1"
           },
           "xaxis": "x2",
           "y": {
            "bdata": "mpmZmZmZuT9mJIA29L3bP2YoBte+wNE/mpmZmZmZuT8AAAAAAAAAAGaK9ERjB9M/AHi8hKrmqb+amZmZmZm5PzTLecrdq60/mlG68o7dsT+a8ScB/AK+P2bmSkSacdU/AHS7de/T0r8=",
            "dtype": "f8"
           },
           "yaxis": "y2"
          },
          {
           "line": {
            "color": "rgba(60, 179, 113, 0.9)",
            "width": 2
           },
           "name": "Cumulative P&L",
           "type": "scatter",
           "x": {
            "bdata": "AAECAwQFBgcICQoLDA==",
            "dtype": "i1"
           },
           "xaxis": "x2",
           "y": {
            "bdata": "AAAAAAAAAABmJIA29L3bP2Ymw4ZZv+Y/mVn2uYzy6T+ZWfa5jPLpP2ZPOC4fu/E/pmsS2unr8D9ABaxzg4XyP5rT/2HicvM/tHgrUbuQ9D/O9z0R63D2P2ixUKJRzfs/aNThxFUY9z8=",
            "dtype": "f8"
           },
           "yaxis": "y2"
          }
         ]
        },
        {
         "data": [
          {
           "line": {
            "color": "rgba(60, 179, 113, 0.9)",
            "dash": "dot",
            "width": 2
           },
           "name": "Mid Price (Estimated)",
           "type": "scatter",
           "x": {
            "bdata": "AAECAwQFBgcICQoLDA0=",
            "dtype": "i1"
           },
           "xaxis": "x",
           "y": {
            "bdata": "gNHvJb/4WEChxAdfE+5YQN8klwa54lhA9ltPBy3aWECPYPkixNVYQLPu1x9l4lhAJFeHSijfWEAJUu9IbOBYQDZpnDMd41hAH0XxtBTkWEDto2iXtuNYQK2xef0w3FhAZ4809ZrlWEA7QQajTPFYQA==",
            "dtype": "f8"
           },
           "yaxis": "y"
          },
          {
           "line": {
            "color": "rgba(178, 34, 34, 0.9)",
            "width": 2
           },
           "name": "Bid",
           "type": "scatter",
           "x": {
            "bdata": "AAECAwQFBgcICQoLDA0=",
            "dtype": "i1"
           },
           "xaxis": "x",
           "y": {
            "bdata": "GmuJv1jyWEA7XqH4rOdYQHm+MKBS3FhAkPXooMbTWEAp+pK8Xc9YQE2Icbn+21hAvvAg5MHYWECj64jiBdpYQNACNs223FhAud6KTq7dWECHPQIxUN1YQEdLE5fK1VhAASnOjjTfWEDV2p885upYQA==",
            "dtype": "f8"
           },
           "yaxis": "y"
          },
          {
           "line": {
            "color": "rgba(70, 130, 180, 0.9)",
            "width": 2
           },
           "name": "Ask",
           "type": "scatter",
           "x": {
            "bdata": "AAECAwQFBgcICQoLDA0=",
            "dtype": "i1"
           },
           "xaxis": "x",
           "y": {
            "bdata": "5jdWjCX/WEAHK27FefRYQEWL/Wwf6VhAXMK1bZPgWED1xl+JKtxYQBlVPobL6FhAir3tsI7lWEBvuFWv0uZYQJzPApqD6VhAhatXG3vqWEBTCs/9HOpYQBMY4GOX4lhAzfWaWwHsWEChp2wJs/dYQA==",
            "dtype": "f8"
           },
           "yaxis": "y"
          },
          {
           "marker": {
            "color": [
             "rgba(31, 119, 180, 0.8)",
             "rgba(31, 119, 180, 0.8)",
             "rgba(31, 119, 180, 0.8)",
             "rgba(31, 119, 180, 0.8)",
             "rgba(31, 119, 180, 0.8)",
             "rgba(31, 119, 180, 0.8)",
             "rgba(178, 34, 34, 0.8)",
             "rgba(31, 119, 180, 0.8)",
             "rgba(31, 119, 180, 0.8)",
             "rgba(31, 119, 180, 0.8)",
             "rgba(31, 119, 180, 0.8)",
             "rgba(31, 119, 180, 0.8)",
             "rgba(178, 34, 34, 0.8)",
             "rgba(178, 34, 34, 0.8)"
            ]
           },
           "name": "Trade P&L",
           "type": "bar",
           "x": {
            "bdata": "AAECAwQFBgcICQoLDA0=",
            "dtype": "i1"
           },
           "xaxis": "x2",
           "y": {
            "bdata": "mpmZmZmZuT9mJIA29L3bP2YoBte+wNE/mpmZmZmZuT8AAAAAAAAAAGaK9ERjB9M/AHi8hKrmqb+amZmZmZm5PzTLecrdq60/mlG68o7dsT+a8ScB/AK+P2bmSkSacdU/AHS7de/T0r+aFa8Oo67cvw==",
            "dtype": "f8"
           },
           "yaxis": "y2"
          },
          {
           "line": {
            "color": "rgba(60, 179, 113, 0.9)",
            "width": 2
           },
           "name": "Cumulative P&L",
           "type": "scatter",
           "x": {
            "bdata": "AAECAwQFBgcICQoLDA0=",
            "dtype": "i1"
           },
           "xaxis": "x2",
           "y": {
            "bdata": "AAAAAAAAAABmJIA29L3bP2Ymw4ZZv+Y/mVn2uYzy6T+ZWfa5jPLpP2ZPOC4fu/E/pmsS2unr8D9ABaxzg4XyP5rT/2HicvM/tHgrUbuQ9D/O9z0R63D2P2ixUKJRzfs/aNThxFUY9z8DHmwCWtnvPw==",
            "dtype": "f8"
           },
           "yaxis": "y2"
          }
         ]
        },
        {
         "data": [
          {
           "line": {
            "color": "rgba(60, 179, 113, 0.9)",
            "dash": "dot",
            "width": 2
           },
           "name": "Mid Price (Estimated)",
           "type": "scatter",
           "x": {
            "bdata": "AAECAwQFBgcICQoLDA0O",
            "dtype": "i1"
           },
           "xaxis": "x",
           "y": {
            "bdata": "gNHvJb/4WEChxAdfE+5YQN8klwa54lhA9ltPBy3aWECPYPkixNVYQLPu1x9l4lhAJFeHSijfWEAJUu9IbOBYQDZpnDMd41hAH0XxtBTkWEDto2iXtuNYQK2xef0w3FhAZ4809ZrlWEA7QQajTPFYQPZcbImo5lhA",
            "dtype": "f8"
           },
           "yaxis": "y"
          },
          {
           "line": {
            "color": "rgba(178, 34, 34, 0.9)",
            "width": 2
           },
           "name": "Bid",
           "type": "scatter",
           "x": {
            "bdata": "AAECAwQFBgcICQoLDA0O",
            "dtype": "i1"
           },
           "xaxis": "x",
           "y": {
            "bdata": "GmuJv1jyWEA7XqH4rOdYQHm+MKBS3FhAkPXooMbTWEAp+pK8Xc9YQE2Icbn+21hAvvAg5MHYWECj64jiBdpYQNACNs223FhAud6KTq7dWECHPQIxUN1YQEdLE5fK1VhAASnOjjTfWEDV2p885upYQJD2BSNC4FhA",
            "dtype": "f8"
           },
           "yaxis": "y"
          },
          {
           "line": {
            "color": "rgba(70, 130, 180, 0.9)",
            "width": 2
           },
           "name": "Ask",
           "type": "scatter",
           "x": {
            "bdata": "AAECAwQFBgcICQoLDA0O",
            "dtype": "i1"
           },
           "xaxis": "x",
           "y": {
            "bdata": "5jdWjCX/WEAHK27FefRYQEWL/Wwf6VhAXMK1bZPgWED1xl+JKtxYQBlVPobL6FhAir3tsI7lWEBvuFWv0uZYQJzPApqD6VhAhatXG3vqWEBTCs/9HOpYQBMY4GOX4lhAzfWaWwHsWEChp2wJs/dYQFzD0u8O7VhA",
            "dtype": "f8"
           },
           "yaxis": "y"
          },
          {
           "marker": {
            "color": [
             "rgba(31, 119, 180, 0.8)",
             "rgba(31, 119, 180, 0.8)",
             "rgba(31, 119, 180, 0.8)",
             "rgba(31, 119, 180, 0.8)",
             "rgba(31, 119, 180, 0.8)",
             "rgba(31, 119, 180, 0.8)",
             "rgba(178, 34, 34, 0.8)",
             "rgba(31, 119, 180, 0.8)",
             "rgba(31, 119, 180, 0.8)",
             "rgba(31, 119, 180, 0.8)",
             "rgba(31, 119, 180, 0.8)",
             "rgba(31, 119, 180, 0.8)",
             "rgba(178, 34, 34, 0.8)",
             "rgba(178, 34, 34, 0.8)",
             "rgba(31, 119, 180, 0.8)"
            ]
           },
           "name": "Trade P&L",
           "type": "bar",
           "x": {
            "bdata": "AAECAwQFBgcICQoLDA0O",
            "dtype": "i1"
           },
           "xaxis": "x2",
           "y": {
            "bdata": "mpmZmZmZuT9mJIA29L3bP2YoBte+wNE/mpmZmZmZuT8AAAAAAAAAAGaK9ERjB9M/AHi8hKrmqb+amZmZmZm5PzTLecrdq60/mlG68o7dsT+a8ScB/AK+P2bmSkSacdU/AHS7de/T0r+aFa8Oo67cvwDPrM1M7N8/",
            "dtype": "f8"
           },
           "yaxis": "y2"
          },
          {
           "line": {
            "color": "rgba(60, 179, 113, 0.9)",
            "width": 2
           },
           "name": "Cumulative P&L",
           "type": "scatter",
           "x": {
            "bdata": "AAECAwQFBgcICQoLDA0O",
            "dtype": "i1"
           },
           "xaxis": "x2",
           "y": {
            "bdata": "AAAAAAAAAABmJIA29L3bP2Ymw4ZZv+Y/mVn2uYzy6T+ZWfa5jPLpP2ZPOC4fu/E/pmsS2unr8D9ABaxzg4XyP5rT/2HicvM/tHgrUbuQ9D/O9z0R63D2P2ixUKJRzfs/aNThxFUY9z8DHmwCWtnvP8JCoTTA5/c/",
            "dtype": "f8"
           },
           "yaxis": "y2"
          }
         ]
        },
        {
         "data": [
          {
           "line": {
            "color": "rgba(60, 179, 113, 0.9)",
            "dash": "dot",
            "width": 2
           },
           "name": "Mid Price (Estimated)",
           "type": "scatter",
           "x": {
            "bdata": "AAECAwQFBgcICQoLDA0ODw==",
            "dtype": "i1"
           },
           "xaxis": "x",
           "y": {
            "bdata": "gNHvJb/4WEChxAdfE+5YQN8klwa54lhA9ltPBy3aWECPYPkixNVYQLPu1x9l4lhAJFeHSijfWEAJUu9IbOBYQDZpnDMd41hAH0XxtBTkWEDto2iXtuNYQK2xef0w3FhAZ4809ZrlWEA7QQajTPFYQPZcbImo5lhAe09PiTvgWEA=",
            "dtype": "f8"
           },
           "yaxis": "y"
          },
          {
           "line": {
            "color": "rgba(178, 34, 34, 0.9)",
            "width": 2
           },
           "name": "Bid",
           "type": "scatter",
           "x": {
            "bdata": "AAECAwQFBgcICQoLDA0ODw==",
            "dtype": "i1"
           },
           "xaxis": "x",
           "y": {
            "bdata": "GmuJv1jyWEA7XqH4rOdYQHm+MKBS3FhAkPXooMbTWEAp+pK8Xc9YQE2Icbn+21hAvvAg5MHYWECj64jiBdpYQNACNs223FhAud6KTq7dWECHPQIxUN1YQEdLE5fK1VhAASnOjjTfWEDV2p885upYQJD2BSNC4FhAFenoItXZWEA=",
            "dtype": "f8"
           },
           "yaxis": "y"
          },
          {
           "line": {
            "color": "rgba(70, 130, 180, 0.9)",
            "width": 2
           },
           "name": "Ask",
           "type": "scatter",
           "x": {
            "bdata": "AAECAwQFBgcICQoLDA0ODw==",
            "dtype": "i1"
           },
           "xaxis": "x",
           "y": {
            "bdata": "5jdWjCX/WEAHK27FefRYQEWL/Wwf6VhAXMK1bZPgWED1xl+JKtxYQBlVPobL6FhAir3tsI7lWEBvuFWv0uZYQJzPApqD6VhAhatXG3vqWEBTCs/9HOpYQBMY4GOX4lhAzfWaWwHsWEChp2wJs/dYQFzD0u8O7VhA4bW176HmWEA=",
            "dtype": "f8"
           },
           "yaxis": "y"
          },
          {
           "marker": {
            "color": [
             "rgba(31, 119, 180, 0.8)",
             "rgba(31, 119, 180, 0.8)",
             "rgba(31, 119, 180, 0.8)",
             "rgba(31, 119, 180, 0.8)",
             "rgba(31, 119, 180, 0.8)",
             "rgba(31, 119, 180, 0.8)",
             "rgba(178, 34, 34, 0.8)",
             "rgba(31, 119, 180, 0.8)",
             "rgba(31, 119, 180, 0.8)",
             "rgba(31, 119, 180, 0.8)",
             "rgba(31, 119, 180, 0.8)",
             "rgba(31, 119, 180, 0.8)",
             "rgba(178, 34, 34, 0.8)",
             "rgba(178, 34, 34, 0.8)",
             "rgba(31, 119, 180, 0.8)",
             "rgba(31, 119, 180, 0.8)"
            ]
           },
           "name": "Trade P&L",
           "type": "bar",
           "x": {
            "bdata": "AAECAwQFBgcICQoLDA0ODw==",
            "dtype": "i1"
           },
           "xaxis": "x2",
           "y": {
            "bdata": "mpmZmZmZuT9mJIA29L3bP2YoBte+wNE/mpmZmZmZuT8AAAAAAAAAAGaK9ERjB9M/AHi8hKrmqb+amZmZmZm5PzTLecrdq60/mlG68o7dsT+a8ScB/AK+P2bmSkSacdU/AHS7de/T0r+aFa8Oo67cvwDPrM1M7N8/AHEoVwBH0z8=",
            "dtype": "f8"
           },
           "yaxis": "y2"
          },
          {
           "line": {
            "color": "rgba(60, 179, 113, 0.9)",
            "width": 2
           },
           "name": "Cumulative P&L",
           "type": "scatter",
           "x": {
            "bdata": "AAECAwQFBgcICQoLDA0ODw==",
            "dtype": "i1"
           },
           "xaxis": "x2",
           "y": {
            "bdata": "AAAAAAAAAABmJIA29L3bP2Ymw4ZZv+Y/mVn2uYzy6T+ZWfa5jPLpP2ZPOC4fu/E/pmsS2unr8D9ABaxzg4XyP5rT/2HicvM/tHgrUbuQ9D/O9z0R63D2P2ixUKJRzfs/aNThxFUY9z8DHmwCWtnvP8JCoTTA5/c/Al9rSoC5/D8=",
            "dtype": "f8"
           },
           "yaxis": "y2"
          }
         ]
        },
        {
         "data": [
          {
           "line": {
            "color": "rgba(60, 179, 113, 0.9)",
            "dash": "dot",
            "width": 2
           },
           "name": "Mid Price (Estimated)",
           "type": "scatter",
           "x": {
            "bdata": "AAECAwQFBgcICQoLDA0ODxA=",
            "dtype": "i1"
           },
           "xaxis": "x",
           "y": {
            "bdata": "gNHvJb/4WEChxAdfE+5YQN8klwa54lhA9ltPBy3aWECPYPkixNVYQLPu1x9l4lhAJFeHSijfWEAJUu9IbOBYQDZpnDMd41hAH0XxtBTkWEDto2iXtuNYQK2xef0w3FhAZ4809ZrlWEA7QQajTPFYQPZcbImo5lhAe09PiTvgWED8N/Tckd5YQA==",
            "dtype": "f8"
           },
           "yaxis": "y"
          },
          {
           "line": {
            "color": "rgba(178, 34, 34, 0.9)",
            "width": 2
           },
           "name": "Bid",
           "type": "scatter",
           "x": {
            "bdata": "AAECAwQFBgcICQoLDA0ODxA=",
            "dtype": "i1"
           },
           "xaxis": "x",
           "y": {
            "bdata": "GmuJv1jyWEA7XqH4rOdYQHm+MKBS3FhAkPXooMbTWEAp+pK8Xc9YQE2Icbn+21hAvvAg5MHYWECj64jiBdpYQNACNs223FhAud6KTq7dWECHPQIxUN1YQEdLE5fK1VhAASnOjjTfWEDV2p885upYQJD2BSNC4FhAFenoItXZWECW0Y12K9hYQA==",
            "dtype": "f8"
           },
           "yaxis": "y"
          },
          {
           "line": {
            "color": "rgba(70, 130, 180, 0.9)",
            "width": 2
           },
           "name": "Ask",
           "type": "scatter",
           "x": {
            "bdata": "AAECAwQFBgcICQoLDA0ODxA=",
            "dtype": "i1"
           },
           "xaxis": "x",
           "y": {
            "bdata": "5jdWjCX/WEAHK27FefRYQEWL/Wwf6VhAXMK1bZPgWED1xl+JKtxYQBlVPobL6FhAir3tsI7lWEBvuFWv0uZYQJzPApqD6VhAhatXG3vqWEBTCs/9HOpYQBMY4GOX4lhAzfWaWwHsWEChp2wJs/dYQFzD0u8O7VhA4bW176HmWEBinlpD+ORYQA==",
            "dtype": "f8"
           },
           "yaxis": "y"
          },
          {
           "marker": {
            "color": [
             "rgba(31, 119, 180, 0.8)",
             "rgba(31, 119, 180, 0.8)",
             "rgba(31, 119, 180, 0.8)",
             "rgba(31, 119, 180, 0.8)",
             "rgba(31, 119, 180, 0.8)",
             "rgba(31, 119, 180, 0.8)",
             "rgba(178, 34, 34, 0.8)",
             "rgba(31, 119, 180, 0.8)",
             "rgba(31, 119, 180, 0.8)",
             "rgba(31, 119, 180, 0.8)",
             "rgba(31, 119, 180, 0.8)",
             "rgba(31, 119, 180, 0.8)",
             "rgba(178, 34, 34, 0.8)",
             "rgba(178, 34, 34, 0.8)",
             "rgba(31, 119, 180, 0.8)",
             "rgba(31, 119, 180, 0.8)",
             "rgba(31, 119, 180, 0.8)"
            ]
           },
           "name": "Trade P&L",
           "type": "bar",
           "x": {
            "bdata": "AAECAwQFBgcICQoLDA0ODxA=",
            "dtype": "i1"
           },
           "xaxis": "x2",
           "y": {
            "bdata": "mpmZmZmZuT9mJIA29L3bP2YoBte+wNE/mpmZmZmZuT8AAAAAAAAAAGaK9ERjB9M/AHi8hKrmqb+amZmZmZm5PzTLecrdq60/mlG68o7dsT+a8ScB/AK+P2bmSkSacdU/AHS7de/T0r+aFa8Oo67cvwDPrM1M7N8/AHEoVwBH0z/NxIilLxrKPw==",
            "dtype": "f8"
           },
           "yaxis": "y2"
          },
          {
           "line": {
            "color": "rgba(60, 179, 113, 0.9)",
            "width": 2
           },
           "name": "Cumulative P&L",
           "type": "scatter",
           "x": {
            "bdata": "AAECAwQFBgcICQoLDA0ODxA=",
            "dtype": "i1"
           },
           "xaxis": "x2",
           "y": {
            "bdata": "AAAAAAAAAABmJIA29L3bP2Ymw4ZZv+Y/mVn2uYzy6T+ZWfa5jPLpP2ZPOC4fu/E/pmsS2unr8D9ABaxzg4XyP5rT/2HicvM/tHgrUbuQ9D/O9z0R63D2P2ixUKJRzfs/aNThxFUY9z8DHmwCWtnvP8JCoTTA5/c/Al9rSoC5/D+cdxw/xvz/Pw==",
            "dtype": "f8"
           },
           "yaxis": "y2"
          }
         ]
        },
        {
         "data": [
          {
           "line": {
            "color": "rgba(60, 179, 113, 0.9)",
            "dash": "dot",
            "width": 2
           },
           "name": "Mid Price (Estimated)",
           "type": "scatter",
           "x": {
            "bdata": "AAECAwQFBgcICQoLDA0ODxAR",
            "dtype": "i1"
           },
           "xaxis": "x",
           "y": {
            "bdata": "gNHvJb/4WEChxAdfE+5YQN8klwa54lhA9ltPBy3aWECPYPkixNVYQLPu1x9l4lhAJFeHSijfWEAJUu9IbOBYQDZpnDMd41hAH0XxtBTkWEDto2iXtuNYQK2xef0w3FhAZ4809ZrlWEA7QQajTPFYQPZcbImo5lhAe09PiTvgWED8N/Tckd5YQIq+FlWG2FhA",
            "dtype": "f8"
           },
           "yaxis": "y"
          },
          {
           "line": {
            "color": "rgba(178, 34, 34, 0.9)",
            "width": 2
           },
           "name": "Bid",
           "type": "scatter",
           "x": {
            "bdata": "AAECAwQFBgcICQoLDA0ODxAR",
            "dtype": "i1"
           },
           "xaxis": "x",
           "y": {
            "bdata": "GmuJv1jyWEA7XqH4rOdYQHm+MKBS3FhAkPXooMbTWEAp+pK8Xc9YQE2Icbn+21hAvvAg5MHYWECj64jiBdpYQNACNs223FhAud6KTq7dWECHPQIxUN1YQEdLE5fK1VhAASnOjjTfWEDV2p885upYQJD2BSNC4FhAFenoItXZWECW0Y12K9hYQCRYsO4f0lhA",
            "dtype": "f8"
           },
           "yaxis": "y"
          },
          {
           "line": {
            "color": "rgba(70, 130, 180, 0.9)",
            "width": 2
           },
           "name": "Ask",
           "type": "scatter",
           "x": {
            "bdata": "AAECAwQFBgcICQoLDA0ODxAR",
            "dtype": "i1"
           },
           "xaxis": "x",
           "y": {
            "bdata": "5jdWjCX/WEAHK27FefRYQEWL/Wwf6VhAXMK1bZPgWED1xl+JKtxYQBlVPobL6FhAir3tsI7lWEBvuFWv0uZYQJzPApqD6VhAhatXG3vqWEBTCs/9HOpYQBMY4GOX4lhAzfWaWwHsWEChp2wJs/dYQFzD0u8O7VhA4bW176HmWEBinlpD+ORYQPAkfbvs3lhA",
            "dtype": "f8"
           },
           "yaxis": "y"
          },
          {
           "marker": {
            "color": [
             "rgba(31, 119, 180, 0.8)",
             "rgba(31, 119, 180, 0.8)",
             "rgba(31, 119, 180, 0.8)",
             "rgba(31, 119, 180, 0.8)",
             "rgba(31, 119, 180, 0.8)",
             "rgba(31, 119, 180, 0.8)",
             "rgba(178, 34, 34, 0.8)",
             "rgba(31, 119, 180, 0.8)",
             "rgba(31, 119, 180, 0.8)",
             "rgba(31, 119, 180, 0.8)",
             "rgba(31, 119, 180, 0.8)",
             "rgba(31, 119, 180, 0.8)",
             "rgba(178, 34, 34, 0.8)",
             "rgba(178, 34, 34, 0.8)",
             "rgba(31, 119, 180, 0.8)",
             "rgba(31, 119, 180, 0.8)",
             "rgba(31, 119, 180, 0.8)",
             "rgba(31, 119, 180, 0.8)"
            ]
           },
           "name": "Trade P&L",
           "type": "bar",
           "x": {
            "bdata": "AAECAwQFBgcICQoLDA0ODxAR",
            "dtype": "i1"
           },
           "xaxis": "x2",
           "y": {
            "bdata": "mpmZmZmZuT9mJIA29L3bP2YoBte+wNE/mpmZmZmZuT8AAAAAAAAAAGaK9ERjB9M/AHi8hKrmqb+amZmZmZm5PzTLecrdq60/mlG68o7dsT+a8ScB/AK+P2bmSkSacdU/AHS7de/T0r+aFa8Oo67cvwDPrM1M7N8/AHEoVwBH0z/NxIilLxrKPzPQ4twGUOI/",
            "dtype": "f8"
           },
           "yaxis": "y2"
          },
          {
           "line": {
            "color": "rgba(60, 179, 113, 0.9)",
            "width": 2
           },
           "name": "Cumulative P&L",
           "type": "scatter",
           "x": {
            "bdata": "AAECAwQFBgcICQoLDA0ODxAR",
            "dtype": "i1"
           },
           "xaxis": "x2",
           "y": {
            "bdata": "AAAAAAAAAABmJIA29L3bP2Ymw4ZZv+Y/mVn2uYzy6T+ZWfa5jPLpP2ZPOC4fu/E/pmsS2unr8D9ABaxzg4XyP5rT/2HicvM/tHgrUbuQ9D/O9z0R63D2P2ixUKJRzfs/aNThxFUY9z8DHmwCWtnvP8JCoTTA5/c/Al9rSoC5/D+cdxw/xvz/P9vvxtZkkgRA",
            "dtype": "f8"
           },
           "yaxis": "y2"
          }
         ]
        },
        {
         "data": [
          {
           "line": {
            "color": "rgba(60, 179, 113, 0.9)",
            "dash": "dot",
            "width": 2
           },
           "name": "Mid Price (Estimated)",
           "type": "scatter",
           "x": {
            "bdata": "AAECAwQFBgcICQoLDA0ODxAREg==",
            "dtype": "i1"
           },
           "xaxis": "x",
           "y": {
            "bdata": "gNHvJb/4WEChxAdfE+5YQN8klwa54lhA9ltPBy3aWECPYPkixNVYQLPu1x9l4lhAJFeHSijfWEAJUu9IbOBYQDZpnDMd41hAH0XxtBTkWEDto2iXtuNYQK2xef0w3FhAZ4809ZrlWEA7QQajTPFYQPZcbImo5lhAe09PiTvgWED8N/Tckd5YQIq+FlWG2FhAZgQIE+TbWEA=",
            "dtype": "f8"
           },
           "yaxis": "y"
          },
          {
           "line": {
            "color": "rgba(178, 34, 34, 0.9)",
            "width": 2
           },
           "name": "Bid",
           "type": "scatter",
           "x": {
            "bdata": "AAECAwQFBgcICQoLDA0ODxAREg==",
            "dtype": "i1"
           },
           "xaxis": "x",
           "y": {
            "bdata": "GmuJv1jyWEA7XqH4rOdYQHm+MKBS3FhAkPXooMbTWEAp+pK8Xc9YQE2Icbn+21hAvvAg5MHYWECj64jiBdpYQNACNs223FhAud6KTq7dWECHPQIxUN1YQEdLE5fK1VhAASnOjjTfWEDV2p885upYQJD2BSNC4FhAFenoItXZWECW0Y12K9hYQCRYsO4f0lhAAJ6hrH3VWEA=",
            "dtype": "f8"
           },
           "yaxis": "y"
          },
          {
           "line": {
            "color": "rgba(70, 130, 180, 0.9)",
            "width": 2
           },
           "name": "Ask",
           "type": "scatter",
           "x": {
            "bdata": "AAECAwQFBgcICQoLDA0ODxAREg==",
            "dtype": "i1"
           },
           "xaxis": "x",
           "y": {
            "bdata": "5jdWjCX/WEAHK27FefRYQEWL/Wwf6VhAXMK1bZPgWED1xl+JKtxYQBlVPobL6FhAir3tsI7lWEBvuFWv0uZYQJzPApqD6VhAhatXG3vqWEBTCs/9HOpYQBMY4GOX4lhAzfWaWwHsWEChp2wJs/dYQFzD0u8O7VhA4bW176HmWEBinlpD+ORYQPAkfbvs3lhAzGpueUriWEA=",
            "dtype": "f8"
           },
           "yaxis": "y"
          },
          {
           "marker": {
            "color": [
             "rgba(31, 119, 180, 0.8)",
             "rgba(31, 119, 180, 0.8)",
             "rgba(31, 119, 180, 0.8)",
             "rgba(31, 119, 180, 0.8)",
             "rgba(31, 119, 180, 0.8)",
             "rgba(31, 119, 180, 0.8)",
             "rgba(178, 34, 34, 0.8)",
             "rgba(31, 119, 180, 0.8)",
             "rgba(31, 119, 180, 0.8)",
             "rgba(31, 119, 180, 0.8)",
             "rgba(31, 119, 180, 0.8)",
             "rgba(31, 119, 180, 0.8)",
             "rgba(178, 34, 34, 0.8)",
             "rgba(178, 34, 34, 0.8)",
             "rgba(31, 119, 180, 0.8)",
             "rgba(31, 119, 180, 0.8)",
             "rgba(31, 119, 180, 0.8)",
             "rgba(31, 119, 180, 0.8)",
             "rgba(178, 34, 34, 0.8)"
            ]
           },
           "name": "Trade P&L",
           "type": "bar",
           "x": {
            "bdata": "AAECAwQFBgcICQoLDA0ODxAREg==",
            "dtype": "i1"
           },
           "xaxis": "x2",
           "y": {
            "bdata": "mpmZmZmZuT9mJIA29L3bP2YoBte+wNE/mpmZmZmZuT8AAAAAAAAAAGaK9ERjB9M/AHi8hKrmqb+amZmZmZm5PzTLecrdq60/mlG68o7dsT+a8ScB/AK+P2bmSkSacdU/AHS7de/T0r+aFa8Oo67cvwDPrM1M7N8/AHEoVwBH0z/NxIilLxrKPzPQ4twGUOI/M4N5ghqYy78=",
            "dtype": "f8"
           },
           "yaxis": "y2"
          },
          {
           "line": {
            "color": "rgba(60, 179, 113, 0.9)",
            "width": 2
           },
           "name": "Cumulative P&L",
           "type": "scatter",
           "x": {
            "bdata": "AAECAwQFBgcICQoLDA0ODxAREg==",
            "dtype": "i1"
           },
           "xaxis": "x2",
           "y": {
            "bdata": "AAAAAAAAAABmJIA29L3bP2Ymw4ZZv+Y/mVn2uYzy6T+ZWfa5jPLpP2ZPOC4fu/E/pmsS2unr8D9ABaxzg4XyP5rT/2HicvM/tHgrUbuQ9D/O9z0R63D2P2ixUKJRzfs/aNThxFUY9z8DHmwCWtnvP8JCoTTA5/c/Al9rSoC5/D+cdxw/xvz/P9vvxtZkkgRAqFefLuPYAkA=",
            "dtype": "f8"
           },
           "yaxis": "y2"
          }
         ]
        },
        {
         "data": [
          {
           "line": {
            "color": "rgba(60, 179, 113, 0.9)",
            "dash": "dot",
            "width": 2
           },
           "name": "Mid Price (Estimated)",
           "type": "scatter",
           "x": {
            "bdata": "AAECAwQFBgcICQoLDA0ODxAREhM=",
            "dtype": "i1"
           },
           "xaxis": "x",
           "y": {
            "bdata": "gNHvJb/4WEChxAdfE+5YQN8klwa54lhA9ltPBy3aWECPYPkixNVYQLPu1x9l4lhAJFeHSijfWEAJUu9IbOBYQDZpnDMd41hAH0XxtBTkWEDto2iXtuNYQK2xef0w3FhAZ4809ZrlWEA7QQajTPFYQPZcbImo5lhAe09PiTvgWED8N/Tckd5YQIq+FlWG2FhAZgQIE+TbWED8XSOkW9dYQA==",
            "dtype": "f8"
           },
           "yaxis": "y"
          },
          {
           "line": {
            "color": "rgba(178, 34, 34, 0.9)",
            "width": 2
           },
           "name": "Bid",
           "type": "scatter",
           "x": {
            "bdata": "AAECAwQFBgcICQoLDA0ODxAREhM=",
            "dtype": "i1"
           },
           "xaxis": "x",
           "y": {
            "bdata": "GmuJv1jyWEA7XqH4rOdYQHm+MKBS3FhAkPXooMbTWEAp+pK8Xc9YQE2Icbn+21hAvvAg5MHYWECj64jiBdpYQNACNs223FhAud6KTq7dWECHPQIxUN1YQEdLE5fK1VhAASnOjjTfWEDV2p885upYQJD2BSNC4FhAFenoItXZWECW0Y12K9hYQCRYsO4f0lhAAJ6hrH3VWECW97w99dBYQA==",
            "dtype": "f8"
           },
           "yaxis": "y"
          },
          {
           "line": {
            "color": "rgba(70, 130, 180, 0.9)",
            "width": 2
           },
           "name": "Ask",
           "type": "scatter",
           "x": {
            "bdata": "AAECAwQFBgcICQoLDA0ODxAREhM=",
            "dtype": "i1"
           },
           "xaxis": "x",
           "y": {
            "bdata": "5jdWjCX/WEAHK27FefRYQEWL/Wwf6VhAXMK1bZPgWED1xl+JKtxYQBlVPobL6FhAir3tsI7lWEBvuFWv0uZYQJzPApqD6VhAhatXG3vqWEBTCs/9HOpYQBMY4GOX4lhAzfWaWwHsWEChp2wJs/dYQFzD0u8O7VhA4bW176HmWEBinlpD+ORYQPAkfbvs3lhAzGpueUriWEBixIkKwt1YQA==",
            "dtype": "f8"
           },
           "yaxis": "y"
          },
          {
           "marker": {
            "color": [
             "rgba(31, 119, 180, 0.8)",
             "rgba(31, 119, 180, 0.8)",
             "rgba(31, 119, 180, 0.8)",
             "rgba(31, 119, 180, 0.8)",
             "rgba(31, 119, 180, 0.8)",
             "rgba(31, 119, 180, 0.8)",
             "rgba(178, 34, 34, 0.8)",
             "rgba(31, 119, 180, 0.8)",
             "rgba(31, 119, 180, 0.8)",
             "rgba(31, 119, 180, 0.8)",
             "rgba(31, 119, 180, 0.8)",
             "rgba(31, 119, 180, 0.8)",
             "rgba(178, 34, 34, 0.8)",
             "rgba(178, 34, 34, 0.8)",
             "rgba(31, 119, 180, 0.8)",
             "rgba(31, 119, 180, 0.8)",
             "rgba(31, 119, 180, 0.8)",
             "rgba(31, 119, 180, 0.8)",
             "rgba(178, 34, 34, 0.8)",
             "rgba(31, 119, 180, 0.8)"
            ]
           },
           "name": "Trade P&L",
           "type": "bar",
           "x": {
            "bdata": "AAECAwQFBgcICQoLDA0ODxAREhM=",
            "dtype": "i1"
           },
           "xaxis": "x2",
           "y": {
            "bdata": "mpmZmZmZuT9mJIA29L3bP2YoBte+wNE/mpmZmZmZuT8AAAAAAAAAAGaK9ERjB9M/AHi8hKrmqb+amZmZmZm5PzTLecrdq60/mlG68o7dsT+a8ScB/AK+P2bmSkSacdU/AHS7de/T0r+aFa8Oo67cvwDPrM1M7N8/AHEoVwBH0z/NxIilLxrKPzPQ4twGUOI/M4N5ghqYy78zpnlTtxDjPw==",
            "dtype": "f8"
           },
           "yaxis": "y2"
          },
          {
           "line": {
            "color": "rgba(60, 179, 113, 0.9)",
            "width": 2
           },
           "name": "Cumulative P&L",
           "type": "scatter",
           "x": {
            "bdata": "AAECAwQFBgcICQoLDA0ODxAREhM=",
            "dtype": "i1"
           },
           "xaxis": "x2",
           "y": {
            "bdata": "AAAAAAAAAABmJIA29L3bP2Ymw4ZZv+Y/mVn2uYzy6T+ZWfa5jPLpP2ZPOC4fu/E/pmsS2unr8D9ABaxzg4XyP5rT/2HicvM/tHgrUbuQ9D/O9z0R63D2P2ixUKJRzfs/aNThxFUY9z8DHmwCWtnvP8JCoTTA5/c/Al9rSoC5/D+cdxw/xvz/P9vvxtZkkgRAqFefLuPYAkA1wX0DEZ0HQA==",
            "dtype": "f8"
           },
           "yaxis": "y2"
          }
         ]
        },
        {
         "data": [
          {
           "line": {
            "color": "rgba(60, 179, 113, 0.9)",
            "dash": "dot",
            "width": 2
           },
           "name": "Mid Price (Estimated)",
           "type": "scatter",
           "x": {
            "bdata": "AAECAwQFBgcICQoLDA0ODxAREhMU",
            "dtype": "i1"
           },
           "xaxis": "x",
           "y": {
            "bdata": "gNHvJb/4WEChxAdfE+5YQN8klwa54lhA9ltPBy3aWECPYPkixNVYQLPu1x9l4lhAJFeHSijfWEAJUu9IbOBYQDZpnDMd41hAH0XxtBTkWEDto2iXtuNYQK2xef0w3FhAZ4809ZrlWEA7QQajTPFYQPZcbImo5lhAe09PiTvgWED8N/Tckd5YQIq+FlWG2FhAZgQIE+TbWED8XSOkW9dYQGIlFKNX5VhA",
            "dtype": "f8"
           },
           "yaxis": "y"
          },
          {
           "line": {
            "color": "rgba(178, 34, 34, 0.9)",
            "width": 2
           },
           "name": "Bid",
           "type": "scatter",
           "x": {
            "bdata": "AAECAwQFBgcICQoLDA0ODxAREhMU",
            "dtype": "i1"
           },
           "xaxis": "x",
           "y": {
            "bdata": "GmuJv1jyWEA7XqH4rOdYQHm+MKBS3FhAkPXooMbTWEAp+pK8Xc9YQE2Icbn+21hAvvAg5MHYWECj64jiBdpYQNACNs223FhAud6KTq7dWECHPQIxUN1YQEdLE5fK1VhAASnOjjTfWEDV2p885upYQJD2BSNC4FhAFenoItXZWECW0Y12K9hYQCRYsO4f0lhAAJ6hrH3VWECW97w99dBYQPy+rTzx3lhA",
            "dtype": "f8"
           },
           "yaxis": "y"
          },
          {
           "line": {
            "color": "rgba(70, 130, 180, 0.9)",
            "width": 2
           },
           "name": "Ask",
           "type": "scatter",
           "x": {
            "bdata": "AAECAwQFBgcICQoLDA0ODxAREhMU",
            "dtype": "i1"
           },
           "xaxis": "x",
           "y": {
            "bdata": "5jdWjCX/WEAHK27FefRYQEWL/Wwf6VhAXMK1bZPgWED1xl+JKtxYQBlVPobL6FhAir3tsI7lWEBvuFWv0uZYQJzPApqD6VhAhatXG3vqWEBTCs/9HOpYQBMY4GOX4lhAzfWaWwHsWEChp2wJs/dYQFzD0u8O7VhA4bW176HmWEBinlpD+ORYQPAkfbvs3lhAzGpueUriWEBixIkKwt1YQMiLegm+61hA",
            "dtype": "f8"
           },
           "yaxis": "y"
          },
          {
           "marker": {
            "color": [
             "rgba(31, 119, 180, 0.8)",
             "rgba(31, 119, 180, 0.8)",
             "rgba(31, 119, 180, 0.8)",
             "rgba(31, 119, 180, 0.8)",
             "rgba(31, 119, 180, 0.8)",
             "rgba(31, 119, 180, 0.8)",
             "rgba(178, 34, 34, 0.8)",
             "rgba(31, 119, 180, 0.8)",
             "rgba(31, 119, 180, 0.8)",
             "rgba(31, 119, 180, 0.8)",
             "rgba(31, 119, 180, 0.8)",
             "rgba(31, 119, 180, 0.8)",
             "rgba(178, 34, 34, 0.8)",
             "rgba(178, 34, 34, 0.8)",
             "rgba(31, 119, 180, 0.8)",
             "rgba(31, 119, 180, 0.8)",
             "rgba(31, 119, 180, 0.8)",
             "rgba(31, 119, 180, 0.8)",
             "rgba(178, 34, 34, 0.8)",
             "rgba(31, 119, 180, 0.8)",
             "rgba(178, 34, 34, 0.8)"
            ]
           },
           "name": "Trade P&L",
           "type": "bar",
           "x": {
            "bdata": "AAECAwQFBgcICQoLDA0ODxAREhMU",
            "dtype": "i1"
           },
           "xaxis": "x2",
           "y": {
            "bdata": "mpmZmZmZuT9mJIA29L3bP2YoBte+wNE/mpmZmZmZuT8AAAAAAAAAAGaK9ERjB9M/AHi8hKrmqb+amZmZmZm5PzTLecrdq60/mlG68o7dsT+a8ScB/AK+P2bmSkSacdU/AHS7de/T0r+aFa8Oo67cvwDPrM1M7N8/AHEoVwBH0z/NxIilLxrKPzPQ4twGUOI/M4N5ghqYy78zpnlTtxDjP2Yy9UdkXvq/",
            "dtype": "f8"
           },
           "yaxis": "y2"
          },
          {
           "line": {
            "color": "rgba(60, 179, 113, 0.9)",
            "width": 2
           },
           "name": "Cumulative P&L",
           "type": "scatter",
           "x": {
            "bdata": "AAECAwQFBgcICQoLDA0ODxAREhMU",
            "dtype": "i1"
           },
           "xaxis": "x2",
           "y": {
            "bdata": "AAAAAAAAAABmJIA29L3bP2Ymw4ZZv+Y/mVn2uYzy6T+ZWfa5jPLpP2ZPOC4fu/E/pmsS2unr8D9ABaxzg4XyP5rT/2HicvM/tHgrUbuQ9D/O9z0R63D2P2ixUKJRzfs/aNThxFUY9z8DHmwCWtnvP8JCoTTA5/c/Al9rSoC5/D+cdxw/xvz/P9vvxtZkkgRAqFefLuPYAkA1wX0DEZ0HQARQBr+92/Q/",
            "dtype": "f8"
           },
           "yaxis": "y2"
          }
         ]
        },
        {
         "data": [
          {
           "line": {
            "color": "rgba(60, 179, 113, 0.9)",
            "dash": "dot",
            "width": 2
           },
           "name": "Mid Price (Estimated)",
           "type": "scatter",
           "x": {
            "bdata": "AAECAwQFBgcICQoLDA0ODxAREhMUFQ==",
            "dtype": "i1"
           },
           "xaxis": "x",
           "y": {
            "bdata": "gNHvJb/4WEChxAdfE+5YQN8klwa54lhA9ltPBy3aWECPYPkixNVYQLPu1x9l4lhAJFeHSijfWEAJUu9IbOBYQDZpnDMd41hAH0XxtBTkWEDto2iXtuNYQK2xef0w3FhAZ4809ZrlWEA7QQajTPFYQPZcbImo5lhAe09PiTvgWED8N/Tckd5YQIq+FlWG2FhAZgQIE+TbWED8XSOkW9dYQGIlFKNX5VhAGbj1/xbtWEA=",
            "dtype": "f8"
           },
           "yaxis": "y"
          },
          {
           "line": {
            "color": "rgba(178, 34, 34, 0.9)",
            "width": 2
           },
           "name": "Bid",
           "type": "scatter",
           "x": {
            "bdata": "AAECAwQFBgcICQoLDA0ODxAREhMUFQ==",
            "dtype": "i1"
           },
           "xaxis": "x",
           "y": {
            "bdata": "GmuJv1jyWEA7XqH4rOdYQHm+MKBS3FhAkPXooMbTWEAp+pK8Xc9YQE2Icbn+21hAvvAg5MHYWECj64jiBdpYQNACNs223FhAud6KTq7dWECHPQIxUN1YQEdLE5fK1VhAASnOjjTfWEDV2p885upYQJD2BSNC4FhAFenoItXZWECW0Y12K9hYQCRYsO4f0lhAAJ6hrH3VWECW97w99dBYQPy+rTzx3lhAs1GPmbDmWEA=",
            "dtype": "f8"
           },
           "yaxis": "y"
          },
          {
           "line": {
            "color": "rgba(70, 130, 180, 0.9)",
            "width": 2
           },
           "name": "Ask",
           "type": "scatter",
           "x": {
            "bdata": "AAECAwQFBgcICQoLDA0ODxAREhMUFQ==",
            "dtype": "i1"
           },
           "xaxis": "x",
           "y": {
            "bdata": "5jdWjCX/WEAHK27FefRYQEWL/Wwf6VhAXMK1bZPgWED1xl+JKtxYQBlVPobL6FhAir3tsI7lWEBvuFWv0uZYQJzPApqD6VhAhatXG3vqWEBTCs/9HOpYQBMY4GOX4lhAzfWaWwHsWEChp2wJs/dYQFzD0u8O7VhA4bW176HmWEBinlpD+ORYQPAkfbvs3lhAzGpueUriWEBixIkKwt1YQMiLegm+61hAfx5cZn3zWEA=",
            "dtype": "f8"
           },
           "yaxis": "y"
          },
          {
           "marker": {
            "color": [
             "rgba(31, 119, 180, 0.8)",
             "rgba(31, 119, 180, 0.8)",
             "rgba(31, 119, 180, 0.8)",
             "rgba(31, 119, 180, 0.8)",
             "rgba(31, 119, 180, 0.8)",
             "rgba(31, 119, 180, 0.8)",
             "rgba(178, 34, 34, 0.8)",
             "rgba(31, 119, 180, 0.8)",
             "rgba(31, 119, 180, 0.8)",
             "rgba(31, 119, 180, 0.8)",
             "rgba(31, 119, 180, 0.8)",
             "rgba(31, 119, 180, 0.8)",
             "rgba(178, 34, 34, 0.8)",
             "rgba(178, 34, 34, 0.8)",
             "rgba(31, 119, 180, 0.8)",
             "rgba(31, 119, 180, 0.8)",
             "rgba(31, 119, 180, 0.8)",
             "rgba(31, 119, 180, 0.8)",
             "rgba(178, 34, 34, 0.8)",
             "rgba(31, 119, 180, 0.8)",
             "rgba(178, 34, 34, 0.8)",
             "rgba(178, 34, 34, 0.8)"
            ]
           },
           "name": "Trade P&L",
           "type": "bar",
           "x": {
            "bdata": "AAECAwQFBgcICQoLDA0ODxAREhMUFQ==",
            "dtype": "i1"
           },
           "xaxis": "x2",
           "y": {
            "bdata": "mpmZmZmZuT9mJIA29L3bP2YoBte+wNE/mpmZmZmZuT8AAAAAAAAAAGaK9ERjB9M/AHi8hKrmqb+amZmZmZm5PzTLecrdq60/mlG68o7dsT+a8ScB/AK+P2bmSkSacdU/AHS7de/T0r+aFa8Oo67cvwDPrM1M7N8/AHEoVwBH0z/NxIilLxrKPzPQ4twGUOI/M4N5ghqYy78zpnlTtxDjP2Yy9UdkXvq/TU1O4pHq578=",
            "dtype": "f8"
           },
           "yaxis": "y2"
          },
          {
           "line": {
            "color": "rgba(60, 179, 113, 0.9)",
            "width": 2
           },
           "name": "Cumulative P&L",
           "type": "scatter",
           "x": {
            "bdata": "AAECAwQFBgcICQoLDA0ODxAREhMUFQ==",
            "dtype": "i1"
           },
           "xaxis": "x2",
           "y": {
            "bdata": "AAAAAAAAAABmJIA29L3bP2Ymw4ZZv+Y/mVn2uYzy6T+ZWfa5jPLpP2ZPOC4fu/E/pmsS2unr8D9ABaxzg4XyP5rT/2HicvM/tHgrUbuQ9D/O9z0R63D2P2ixUKJRzfs/aNThxFUY9z8DHmwCWtnvP8JCoTTA5/c/Al9rSoC5/D+cdxw/xvz/P9vvxtZkkgRAqFefLuPYAkA1wX0DEZ0HQARQBr+92/Q/u1K+m+nM4T8=",
            "dtype": "f8"
           },
           "yaxis": "y2"
          }
         ]
        },
        {
         "data": [
          {
           "line": {
            "color": "rgba(60, 179, 113, 0.9)",
            "dash": "dot",
            "width": 2
           },
           "name": "Mid Price (Estimated)",
           "type": "scatter",
           "x": {
            "bdata": "AAECAwQFBgcICQoLDA0ODxAREhMUFRY=",
            "dtype": "i1"
           },
           "xaxis": "x",
           "y": {
            "bdata": "gNHvJb/4WEChxAdfE+5YQN8klwa54lhA9ltPBy3aWECPYPkixNVYQLPu1x9l4lhAJFeHSijfWEAJUu9IbOBYQDZpnDMd41hAH0XxtBTkWEDto2iXtuNYQK2xef0w3FhAZ4809ZrlWEA7QQajTPFYQPZcbImo5lhAe09PiTvgWED8N/Tckd5YQIq+FlWG2FhAZgQIE+TbWED8XSOkW9dYQGIlFKNX5VhAGbj1/xbtWEASG5QMlO5YQA==",
            "dtype": "f8"
           },
           "yaxis": "y"
          },
          {
           "line": {
            "color": "rgba(178, 34, 34, 0.9)",
            "width": 2
           },
           "name": "Bid",
           "type": "scatter",
           "x": {
            "bdata": "AAECAwQFBgcICQoLDA0ODxAREhMUFRY=",
            "dtype": "i1"
           },
           "xaxis": "x",
           "y": {
            "bdata": "GmuJv1jyWEA7XqH4rOdYQHm+MKBS3FhAkPXooMbTWEAp+pK8Xc9YQE2Icbn+21hAvvAg5MHYWECj64jiBdpYQNACNs223FhAud6KTq7dWECHPQIxUN1YQEdLE5fK1VhAASnOjjTfWEDV2p885upYQJD2BSNC4FhAFenoItXZWECW0Y12K9hYQCRYsO4f0lhAAJ6hrH3VWECW97w99dBYQPy+rTzx3lhAs1GPmbDmWECstC2mLehYQA==",
            "dtype": "f8"
           },
           "yaxis": "y"
          },
          {
           "line": {
            "color": "rgba(70, 130, 180, 0.9)",
            "width": 2
           },
           "name": "Ask",
           "type": "scatter",
           "x": {
            "bdata": "AAECAwQFBgcICQoLDA0ODxAREhMUFRY=",
            "dtype": "i1"
           },
           "xaxis": "x",
           "y": {
            "bdata": "5jdWjCX/WEAHK27FefRYQEWL/Wwf6VhAXMK1bZPgWED1xl+JKtxYQBlVPobL6FhAir3tsI7lWEBvuFWv0uZYQJzPApqD6VhAhatXG3vqWEBTCs/9HOpYQBMY4GOX4lhAzfWaWwHsWEChp2wJs/dYQFzD0u8O7VhA4bW176HmWEBinlpD+ORYQPAkfbvs3lhAzGpueUriWEBixIkKwt1YQMiLegm+61hAfx5cZn3zWEB4gfpy+vRYQA==",
            "dtype": "f8"
           },
           "yaxis": "y"
          },
          {
           "marker": {
            "color": [
             "rgba(31, 119, 180, 0.8)",
             "rgba(31, 119, 180, 0.8)",
             "rgba(31, 119, 180, 0.8)",
             "rgba(31, 119, 180, 0.8)",
             "rgba(31, 119, 180, 0.8)",
             "rgba(31, 119, 180, 0.8)",
             "rgba(178, 34, 34, 0.8)",
             "rgba(31, 119, 180, 0.8)",
             "rgba(31, 119, 180, 0.8)",
             "rgba(31, 119, 180, 0.8)",
             "rgba(31, 119, 180, 0.8)",
             "rgba(31, 119, 180, 0.8)",
             "rgba(178, 34, 34, 0.8)",
             "rgba(178, 34, 34, 0.8)",
             "rgba(31, 119, 180, 0.8)",
             "rgba(31, 119, 180, 0.8)",
             "rgba(31, 119, 180, 0.8)",
             "rgba(31, 119, 180, 0.8)",
             "rgba(178, 34, 34, 0.8)",
             "rgba(31, 119, 180, 0.8)",
             "rgba(178, 34, 34, 0.8)",
             "rgba(178, 34, 34, 0.8)",
             "rgba(178, 34, 34, 0.8)"
            ]
           },
           "name": "Trade P&L",
           "type": "bar",
           "x": {
            "bdata": "AAECAwQFBgcICQoLDA0ODxAREhMUFRY=",
            "dtype": "i1"
           },
           "xaxis": "x2",
           "y": {
            "bdata": "mpmZmZmZuT9mJIA29L3bP2YoBte+wNE/mpmZmZmZuT8AAAAAAAAAAGaK9ERjB9M/AHi8hKrmqb+amZmZmZm5PzTLecrdq60/mlG68o7dsT+a8ScB/AK+P2bmSkSacdU/AHS7de/T0r+aFa8Oo67cvwDPrM1M7N8/AHEoVwBH0z/NxIilLxrKPzPQ4twGUOI/M4N5ghqYy78zpnlTtxDjP2Yy9UdkXvq/TU1O4pHq579mhsUy+ge2vw==",
            "dtype": "f8"
           },
           "yaxis": "y2"
          },
          {
           "line": {
            "color": "rgba(60, 179, 113, 0.9)",
            "width": 2
           },
           "name": "Cumulative P&L",
           "type": "scatter",
           "x": {
            "bdata": "AAECAwQFBgcICQoLDA0ODxAREhMUFRY=",
            "dtype": "i1"
           },
           "xaxis": "x2",
           "y": {
            "bdata": "AAAAAAAAAABmJIA29L3bP2Ymw4ZZv+Y/mVn2uYzy6T+ZWfa5jPLpP2ZPOC4fu/E/pmsS2unr8D9ABaxzg4XyP5rT/2HicvM/tHgrUbuQ9D/O9z0R63D2P2ixUKJRzfs/aNThxFUY9z8DHmwCWtnvP8JCoTTA5/c/Al9rSoC5/D+cdxw/xvz/P9vvxtZkkgRAqFefLuPYAkA1wX0DEZ0HQARQBr+92/Q/u1K+m+nM4T/cQ8uq1BfePw==",
            "dtype": "f8"
           },
           "yaxis": "y2"
          }
         ]
        },
        {
         "data": [
          {
           "line": {
            "color": "rgba(60, 179, 113, 0.9)",
            "dash": "dot",
            "width": 2
           },
           "name": "Mid Price (Estimated)",
           "type": "scatter",
           "x": {
            "bdata": "AAECAwQFBgcICQoLDA0ODxAREhMUFRYX",
            "dtype": "i1"
           },
           "xaxis": "x",
           "y": {
            "bdata": "gNHvJb/4WEChxAdfE+5YQN8klwa54lhA9ltPBy3aWECPYPkixNVYQLPu1x9l4lhAJFeHSijfWEAJUu9IbOBYQDZpnDMd41hAH0XxtBTkWEDto2iXtuNYQK2xef0w3FhAZ4809ZrlWEA7QQajTPFYQPZcbImo5lhAe09PiTvgWED8N/Tckd5YQIq+FlWG2FhAZgQIE+TbWED8XSOkW9dYQGIlFKNX5VhAGbj1/xbtWEASG5QMlO5YQB0dcm5H9VhA",
            "dtype": "f8"
           },
           "yaxis": "y"
          },
          {
           "line": {
            "color": "rgba(178, 34, 34, 0.9)",
            "width": 2
           },
           "name": "Bid",
           "type": "scatter",
           "x": {
            "bdata": "AAECAwQFBgcICQoLDA0ODxAREhMUFRYX",
            "dtype": "i1"
           },
           "xaxis": "x",
           "y": {
            "bdata": "GmuJv1jyWEA7XqH4rOdYQHm+MKBS3FhAkPXooMbTWEAp+pK8Xc9YQE2Icbn+21hAvvAg5MHYWECj64jiBdpYQNACNs223FhAud6KTq7dWECHPQIxUN1YQEdLE5fK1VhAASnOjjTfWEDV2p885upYQJD2BSNC4FhAFenoItXZWECW0Y12K9hYQCRYsO4f0lhAAJ6hrH3VWECW97w99dBYQPy+rTzx3lhAs1GPmbDmWECstC2mLehYQLe2Cwjh7lhA",
            "dtype": "f8"
           },
           "yaxis": "y"
          },
          {
           "line": {
            "color": "rgba(70, 130, 180, 0.9)",
            "width": 2
           },
           "name": "Ask",
           "type": "scatter",
           "x": {
            "bdata": "AAECAwQFBgcICQoLDA0ODxAREhMUFRYX",
            "dtype": "i1"
           },
           "xaxis": "x",
           "y": {
            "bdata": "5jdWjCX/WEAHK27FefRYQEWL/Wwf6VhAXMK1bZPgWED1xl+JKtxYQBlVPobL6FhAir3tsI7lWEBvuFWv0uZYQJzPApqD6VhAhatXG3vqWEBTCs/9HOpYQBMY4GOX4lhAzfWaWwHsWEChp2wJs/dYQFzD0u8O7VhA4bW176HmWEBinlpD+ORYQPAkfbvs3lhAzGpueUriWEBixIkKwt1YQMiLegm+61hAfx5cZn3zWEB4gfpy+vRYQIOD2NSt+1hA",
            "dtype": "f8"
           },
           "yaxis": "y"
          },
          {
           "marker": {
            "color": [
             "rgba(31, 119, 180, 0.8)",
             "rgba(31, 119, 180, 0.8)",
             "rgba(31, 119, 180, 0.8)",
             "rgba(31, 119, 180, 0.8)",
             "rgba(31, 119, 180, 0.8)",
             "rgba(31, 119, 180, 0.8)",
             "rgba(178, 34, 34, 0.8)",
             "rgba(31, 119, 180, 0.8)",
             "rgba(31, 119, 180, 0.8)",
             "rgba(31, 119, 180, 0.8)",
             "rgba(31, 119, 180, 0.8)",
             "rgba(31, 119, 180, 0.8)",
             "rgba(178, 34, 34, 0.8)",
             "rgba(178, 34, 34, 0.8)",
             "rgba(31, 119, 180, 0.8)",
             "rgba(31, 119, 180, 0.8)",
             "rgba(31, 119, 180, 0.8)",
             "rgba(31, 119, 180, 0.8)",
             "rgba(178, 34, 34, 0.8)",
             "rgba(31, 119, 180, 0.8)",
             "rgba(178, 34, 34, 0.8)",
             "rgba(178, 34, 34, 0.8)",
             "rgba(178, 34, 34, 0.8)",
             "rgba(178, 34, 34, 0.8)"
            ]
           },
           "name": "Trade P&L",
           "type": "bar",
           "x": {
            "bdata": "AAECAwQFBgcICQoLDA0ODxAREhMUFRYX",
            "dtype": "i1"
           },
           "xaxis": "x2",
           "y": {
            "bdata": "mpmZmZmZuT9mJIA29L3bP2YoBte+wNE/mpmZmZmZuT8AAAAAAAAAAGaK9ERjB9M/AHi8hKrmqb+amZmZmZm5PzTLecrdq60/mlG68o7dsT+a8ScB/AK+P2bmSkSacdU/AHS7de/T0r+aFa8Oo67cvwDPrM1M7N8/AHEoVwBH0z/NxIilLxrKPzPQ4twGUOI/M4N5ghqYy78zpnlTtxDjP2Yy9UdkXvq/TU1O4pHq579mhsUy+ge2v03z01WjQOS/",
            "dtype": "f8"
           },
           "yaxis": "y2"
          },
          {
           "line": {
            "color": "rgba(60, 179, 113, 0.9)",
            "width": 2
           },
           "name": "Cumulative P&L",
           "type": "scatter",
           "x": {
            "bdata": "AAECAwQFBgcICQoLDA0ODxAREhMUFRYX",
            "dtype": "i1"
           },
           "xaxis": "x2",
           "y": {
            "bdata": "AAAAAAAAAABmJIA29L3bP2Ymw4ZZv+Y/mVn2uYzy6T+ZWfa5jPLpP2ZPOC4fu/E/pmsS2unr8D9ABaxzg4XyP5rT/2HicvM/tHgrUbuQ9D/O9z0R63D2P2ixUKJRzfs/aNThxFUY9z8DHmwCWtnvP8JCoTTA5/c/Al9rSoC5/D+cdxw/xvz/P9vvxtZkkgRAqFefLuPYAkA1wX0DEZ0HQARQBr+92/Q/u1K+m+nM4T/cQ8uq1BfeP3xFuQHk0sS/",
            "dtype": "f8"
           },
           "yaxis": "y2"
          }
         ]
        },
        {
         "data": [
          {
           "line": {
            "color": "rgba(60, 179, 113, 0.9)",
            "dash": "dot",
            "width": 2
           },
           "name": "Mid Price (Estimated)",
           "type": "scatter",
           "x": {
            "bdata": "AAECAwQFBgcICQoLDA0ODxAREhMUFRYXGA==",
            "dtype": "i1"
           },
           "xaxis": "x",
           "y": {
            "bdata": "gNHvJb/4WEChxAdfE+5YQN8klwa54lhA9ltPBy3aWECPYPkixNVYQLPu1x9l4lhAJFeHSijfWEAJUu9IbOBYQDZpnDMd41hAH0XxtBTkWEDto2iXtuNYQK2xef0w3FhAZ4809ZrlWEA7QQajTPFYQPZcbImo5lhAe09PiTvgWED8N/Tckd5YQIq+FlWG2FhAZgQIE+TbWED8XSOkW9dYQGIlFKNX5VhAGbj1/xbtWEASG5QMlO5YQB0dcm5H9VhAlqRPG3z8WEA=",
            "dtype": "f8"
           },
           "yaxis": "y"
          },
          {
           "line": {
            "color": "rgba(178, 34, 34, 0.9)",
            "width": 2
           },
           "name": "Bid",
           "type": "scatter",
           "x": {
            "bdata": "AAECAwQFBgcICQoLDA0ODxAREhMUFRYXGA==",
            "dtype": "i1"
           },
           "xaxis": "x",
           "y": {
            "bdata": "GmuJv1jyWEA7XqH4rOdYQHm+MKBS3FhAkPXooMbTWEAp+pK8Xc9YQE2Icbn+21hAvvAg5MHYWECj64jiBdpYQNACNs223FhAud6KTq7dWECHPQIxUN1YQEdLE5fK1VhAASnOjjTfWEDV2p885upYQJD2BSNC4FhAFenoItXZWECW0Y12K9hYQCRYsO4f0lhAAJ6hrH3VWECW97w99dBYQPy+rTzx3lhAs1GPmbDmWECstC2mLehYQLe2Cwjh7lhAMD7ptBX2WEA=",
            "dtype": "f8"
           },
           "yaxis": "y"
          },
          {
           "line": {
            "color": "rgba(70, 130, 180, 0.9)",
            "width": 2
           },
           "name": "Ask",
           "type": "scatter",
           "x": {
            "bdata": "AAECAwQFBgcICQoLDA0ODxAREhMUFRYXGA==",
            "dtype": "i1"
           },
           "xaxis": "x",
           "y": {
            "bdata": "5jdWjCX/WEAHK27FefRYQEWL/Wwf6VhAXMK1bZPgWED1xl+JKtxYQBlVPobL6FhAir3tsI7lWEBvuFWv0uZYQJzPApqD6VhAhatXG3vqWEBTCs/9HOpYQBMY4GOX4lhAzfWaWwHsWEChp2wJs/dYQFzD0u8O7VhA4bW176HmWEBinlpD+ORYQPAkfbvs3lhAzGpueUriWEBixIkKwt1YQMiLegm+61hAfx5cZn3zWEB4gfpy+vRYQIOD2NSt+1hA/Aq2geICWUA=",
            "dtype": "f8"
           },
           "yaxis": "y"
          },
          {
           "marker": {
            "color": [
             "rgba(31, 119, 180, 0.8)",
             "rgba(31, 119, 180, 0.8)",
             "rgba(31, 119, 180, 0.8)",
             "rgba(31, 119, 180, 0.8)",
             "rgba(31, 119, 180, 0.8)",
             "rgba(31, 119, 180, 0.8)",
             "rgba(178, 34, 34, 0.8)",
             "rgba(31, 119, 180, 0.8)",
             "rgba(31, 119, 180, 0.8)",
             "rgba(31, 119, 180, 0.8)",
             "rgba(31, 119, 180, 0.8)",
             "rgba(31, 119, 180, 0.8)",
             "rgba(178, 34, 34, 0.8)",
             "rgba(178, 34, 34, 0.8)",
             "rgba(31, 119, 180, 0.8)",
             "rgba(31, 119, 180, 0.8)",
             "rgba(31, 119, 180, 0.8)",
             "rgba(31, 119, 180, 0.8)",
             "rgba(178, 34, 34, 0.8)",
             "rgba(31, 119, 180, 0.8)",
             "rgba(178, 34, 34, 0.8)",
             "rgba(178, 34, 34, 0.8)",
             "rgba(178, 34, 34, 0.8)",
             "rgba(178, 34, 34, 0.8)",
             "rgba(178, 34, 34, 0.8)"
            ]
           },
           "name": "Trade P&L",
           "type": "bar",
           "x": {
            "bdata": "AAECAwQFBgcICQoLDA0ODxAREhMUFRYXGA==",
            "dtype": "i1"
           },
           "xaxis": "x2",
           "y": {
            "bdata": "mpmZmZmZuT9mJIA29L3bP2YoBte+wNE/mpmZmZmZuT8AAAAAAAAAAGaK9ERjB9M/AHi8hKrmqb+amZmZmZm5PzTLecrdq60/mlG68o7dsT+a8ScB/AK+P2bmSkSacdU/AHS7de/T0r+aFa8Oo67cvwDPrM1M7N8/AHEoVwBH0z/NxIilLxrKPzPQ4twGUOI/M4N5ghqYy78zpnlTtxDjP2Yy9UdkXvq/TU1O4pHq579mhsUy+ge2v03z01WjQOS/gCdaB1046b8=",
            "dtype": "f8"
           },
           "yaxis": "y2"
          },
          {
           "line": {
            "color": "rgba(60, 179, 113, 0.9)",
            "width": 2
           },
           "name": "Cumulative P&L",
           "type": "scatter",
           "x": {
            "bdata": "AAECAwQFBgcICQoLDA0ODxAREhMUFRYXGA==",
            "dtype": "i1"
           },
           "xaxis": "x2",
           "y": {
            "bdata": "AAAAAAAAAABmJIA29L3bP2Ymw4ZZv+Y/mVn2uYzy6T+ZWfa5jPLpP2ZPOC4fu/E/pmsS2unr8D9ABaxzg4XyP5rT/2HicvM/tHgrUbuQ9D/O9z0R63D2P2ixUKJRzfs/aNThxFUY9z8DHmwCWtnvP8JCoTTA5/c/Al9rSoC5/D+cdxw/xvz/P9vvxtZkkgRAqFefLuPYAkA1wX0DEZ0HQARQBr+92/Q/u1K+m+nM4T/cQ8uq1BfeP3xFuQHk0sS/33jIBxZt7r8=",
            "dtype": "f8"
           },
           "yaxis": "y2"
          }
         ]
        },
        {
         "data": [
          {
           "line": {
            "color": "rgba(60, 179, 113, 0.9)",
            "dash": "dot",
            "width": 2
           },
           "name": "Mid Price (Estimated)",
           "type": "scatter",
           "x": {
            "bdata": "AAECAwQFBgcICQoLDA0ODxAREhMUFRYXGBk=",
            "dtype": "i1"
           },
           "xaxis": "x",
           "y": {
            "bdata": "gNHvJb/4WEChxAdfE+5YQN8klwa54lhA9ltPBy3aWECPYPkixNVYQLPu1x9l4lhAJFeHSijfWEAJUu9IbOBYQDZpnDMd41hAH0XxtBTkWEDto2iXtuNYQK2xef0w3FhAZ4809ZrlWEA7QQajTPFYQPZcbImo5lhAe09PiTvgWED8N/Tckd5YQIq+FlWG2FhAZgQIE+TbWED8XSOkW9dYQGIlFKNX5VhAGbj1/xbtWEASG5QMlO5YQB0dcm5H9VhAlqRPG3z8WEAY2DLnAPlYQA==",
            "dtype": "f8"
           },
           "yaxis": "y"
          },
          {
           "line": {
            "color": "rgba(178, 34, 34, 0.9)",
            "width": 2
           },
           "name": "Bid",
           "type": "scatter",
           "x": {
            "bdata": "AAECAwQFBgcICQoLDA0ODxAREhMUFRYXGBk=",
            "dtype": "i1"
           },
           "xaxis": "x",
           "y": {
            "bdata": "GmuJv1jyWEA7XqH4rOdYQHm+MKBS3FhAkPXooMbTWEAp+pK8Xc9YQE2Icbn+21hAvvAg5MHYWECj64jiBdpYQNACNs223FhAud6KTq7dWECHPQIxUN1YQEdLE5fK1VhAASnOjjTfWEDV2p885upYQJD2BSNC4FhAFenoItXZWECW0Y12K9hYQCRYsO4f0lhAAJ6hrH3VWECW97w99dBYQPy+rTzx3lhAs1GPmbDmWECstC2mLehYQLe2Cwjh7lhAMD7ptBX2WECyccyAmvJYQA==",
            "dtype": "f8"
           },
           "yaxis": "y"
          },
          {
           "line": {
            "color": "rgba(70, 130, 180, 0.9)",
            "width": 2
           },
           "name": "Ask",
           "type": "scatter",
           "x": {
            "bdata": "AAECAwQFBgcICQoLDA0ODxAREhMUFRYXGBk=",
            "dtype": "i1"
           },
           "xaxis": "x",
           "y": {
            "bdata": "5jdWjCX/WEAHK27FefRYQEWL/Wwf6VhAXMK1bZPgWED1xl+JKtxYQBlVPobL6FhAir3tsI7lWEBvuFWv0uZYQJzPApqD6VhAhatXG3vqWEBTCs/9HOpYQBMY4GOX4lhAzfWaWwHsWEChp2wJs/dYQFzD0u8O7VhA4bW176HmWEBinlpD+ORYQPAkfbvs3lhAzGpueUriWEBixIkKwt1YQMiLegm+61hAfx5cZn3zWEB4gfpy+vRYQIOD2NSt+1hA/Aq2geICWUB+PplNZ/9YQA==",
            "dtype": "f8"
           },
           "yaxis": "y"
          },
          {
           "marker": {
            "color": [
             "rgba(31, 119, 180, 0.8)",
             "rgba(31, 119, 180, 0.8)",
             "rgba(31, 119, 180, 0.8)",
             "rgba(31, 119, 180, 0.8)",
             "rgba(31, 119, 180, 0.8)",
             "rgba(31, 119, 180, 0.8)",
             "rgba(178, 34, 34, 0.8)",
             "rgba(31, 119, 180, 0.8)",
             "rgba(31, 119, 180, 0.8)",
             "rgba(31, 119, 180, 0.8)",
             "rgba(31, 119, 180, 0.8)",
             "rgba(31, 119, 180, 0.8)",
             "rgba(178, 34, 34, 0.8)",
             "rgba(178, 34, 34, 0.8)",
             "rgba(31, 119, 180, 0.8)",
             "rgba(31, 119, 180, 0.8)",
             "rgba(31, 119, 180, 0.8)",
             "rgba(31, 119, 180, 0.8)",
             "rgba(178, 34, 34, 0.8)",
             "rgba(31, 119, 180, 0.8)",
             "rgba(178, 34, 34, 0.8)",
             "rgba(178, 34, 34, 0.8)",
             "rgba(178, 34, 34, 0.8)",
             "rgba(178, 34, 34, 0.8)",
             "rgba(178, 34, 34, 0.8)",
             "rgba(31, 119, 180, 0.8)"
            ]
           },
           "name": "Trade P&L",
           "type": "bar",
           "x": {
            "bdata": "AAECAwQFBgcICQoLDA0ODxAREhMUFRYXGBk=",
            "dtype": "i1"
           },
           "xaxis": "x2",
           "y": {
            "bdata": "mpmZmZmZuT9mJIA29L3bP2YoBte+wNE/mpmZmZmZuT8AAAAAAAAAAGaK9ERjB9M/AHi8hKrmqb+amZmZmZm5PzTLecrdq60/mlG68o7dsT+a8ScB/AK+P2bmSkSacdU/AHS7de/T0r+aFa8Oo67cvwDPrM1M7N8/AHEoVwBH0z/NxIilLxrKPzPQ4twGUOI/M4N5ghqYy78zpnlTtxDjP2Yy9UdkXvq/TU1O4pHq579mhsUy+ge2v03z01WjQOS/gCdaB1046b8AcpfJbF7YPw==",
            "dtype": "f8"
           },
           "yaxis": "y2"
          },
          {
           "line": {
            "color": "rgba(60, 179, 113, 0.9)",
            "width": 2
           },
           "name": "Cumulative P&L",
           "type": "scatter",
           "x": {
            "bdata": "AAECAwQFBgcICQoLDA0ODxAREhMUFRYXGBk=",
            "dtype": "i1"
           },
           "xaxis": "x2",
           "y": {
            "bdata": "AAAAAAAAAABmJIA29L3bP2Ymw4ZZv+Y/mVn2uYzy6T+ZWfa5jPLpP2ZPOC4fu/E/pmsS2unr8D9ABaxzg4XyP5rT/2HicvM/tHgrUbuQ9D/O9z0R63D2P2ixUKJRzfs/aNThxFUY9z8DHmwCWtnvP8JCoTTA5/c/Al9rSoC5/D+cdxw/xvz/P9vvxtZkkgRAqFefLuPYAkA1wX0DEZ0HQARQBr+92/Q/u1K+m+nM4T/cQ8uq1BfeP3xFuQHk0sS/33jIBxZt7r/fv/yi3z3ivw==",
            "dtype": "f8"
           },
           "yaxis": "y2"
          }
         ]
        },
        {
         "data": [
          {
           "line": {
            "color": "rgba(60, 179, 113, 0.9)",
            "dash": "dot",
            "width": 2
           },
           "name": "Mid Price (Estimated)",
           "type": "scatter",
           "x": {
            "bdata": "AAECAwQFBgcICQoLDA0ODxAREhMUFRYXGBka",
            "dtype": "i1"
           },
           "xaxis": "x",
           "y": {
            "bdata": "gNHvJb/4WEChxAdfE+5YQN8klwa54lhA9ltPBy3aWECPYPkixNVYQLPu1x9l4lhAJFeHSijfWEAJUu9IbOBYQDZpnDMd41hAH0XxtBTkWEDto2iXtuNYQK2xef0w3FhAZ4809ZrlWEA7QQajTPFYQPZcbImo5lhAe09PiTvgWED8N/Tckd5YQIq+FlWG2FhAZgQIE+TbWED8XSOkW9dYQGIlFKNX5VhAGbj1/xbtWEASG5QMlO5YQB0dcm5H9VhAlqRPG3z8WEAY2DLnAPlYQNsye2Ho81hA",
            "dtype": "f8"
           },
           "yaxis": "y"
          },
          {
           "line": {
            "color": "rgba(178, 34, 34, 0.9)",
            "width": 2
           },
           "name": "Bid",
           "type": "scatter",
           "x": {
            "bdata": "AAECAwQFBgcICQoLDA0ODxAREhMUFRYXGBka",
            "dtype": "i1"
           },
           "xaxis": "x",
           "y": {
            "bdata": "GmuJv1jyWEA7XqH4rOdYQHm+MKBS3FhAkPXooMbTWEAp+pK8Xc9YQE2Icbn+21hAvvAg5MHYWECj64jiBdpYQNACNs223FhAud6KTq7dWECHPQIxUN1YQEdLE5fK1VhAASnOjjTfWEDV2p885upYQJD2BSNC4FhAFenoItXZWECW0Y12K9hYQCRYsO4f0lhAAJ6hrH3VWECW97w99dBYQPy+rTzx3lhAs1GPmbDmWECstC2mLehYQLe2Cwjh7lhAMD7ptBX2WECyccyAmvJYQHXMFPuB7VhA",
            "dtype": "f8"
           },
           "yaxis": "y"
          },
          {
           "line": {
            "color": "rgba(70, 130, 180, 0.9)",
            "width": 2
           },
           "name": "Ask",
           "type": "scatter",
           "x": {
            "bdata": "AAECAwQFBgcICQoLDA0ODxAREhMUFRYXGBka",
            "dtype": "i1"
           },
           "xaxis": "x",
           "y": {
            "bdata": "5jdWjCX/WEAHK27FefRYQEWL/Wwf6VhAXMK1bZPgWED1xl+JKtxYQBlVPobL6FhAir3tsI7lWEBvuFWv0uZYQJzPApqD6VhAhatXG3vqWEBTCs/9HOpYQBMY4GOX4lhAzfWaWwHsWEChp2wJs/dYQFzD0u8O7VhA4bW176HmWEBinlpD+ORYQPAkfbvs3lhAzGpueUriWEBixIkKwt1YQMiLegm+61hAfx5cZn3zWEB4gfpy+vRYQIOD2NSt+1hA/Aq2geICWUB+PplNZ/9YQEGZ4cdO+lhA",
            "dtype": "f8"
           },
           "yaxis": "y"
          },
          {
           "marker": {
            "color": [
             "rgba(31, 119, 180, 0.8)",
             "rgba(31, 119, 180, 0.8)",
             "rgba(31, 119, 180, 0.8)",
             "rgba(31, 119, 180, 0.8)",
             "rgba(31, 119, 180, 0.8)",
             "rgba(31, 119, 180, 0.8)",
             "rgba(178, 34, 34, 0.8)",
             "rgba(31, 119, 180, 0.8)",
             "rgba(31, 119, 180, 0.8)",
             "rgba(31, 119, 180, 0.8)",
             "rgba(31, 119, 180, 0.8)",
             "rgba(31, 119, 180, 0.8)",
             "rgba(178, 34, 34, 0.8)",
             "rgba(178, 34, 34, 0.8)",
             "rgba(31, 119, 180, 0.8)",
             "rgba(31, 119, 180, 0.8)",
             "rgba(31, 119, 180, 0.8)",
             "rgba(31, 119, 180, 0.8)",
             "rgba(178, 34, 34, 0.8)",
             "rgba(31, 119, 180, 0.8)",
             "rgba(178, 34, 34, 0.8)",
             "rgba(178, 34, 34, 0.8)",
             "rgba(178, 34, 34, 0.8)",
             "rgba(178, 34, 34, 0.8)",
             "rgba(178, 34, 34, 0.8)",
             "rgba(31, 119, 180, 0.8)",
             "rgba(31, 119, 180, 0.8)"
            ]
           },
           "name": "Trade P&L",
           "type": "bar",
           "x": {
            "bdata": "AAECAwQFBgcICQoLDA0ODxAREhMUFRYXGBka",
            "dtype": "i1"
           },
           "xaxis": "x2",
           "y": {
            "bdata": "mpmZmZmZuT9mJIA29L3bP2YoBte+wNE/mpmZmZmZuT8AAAAAAAAAAGaK9ERjB9M/AHi8hKrmqb+amZmZmZm5PzTLecrdq60/mlG68o7dsT+a8ScB/AK+P2bmSkSacdU/AHS7de/T0r+aFa8Oo67cvwDPrM1M7N8/AHEoVwBH0z/NxIilLxrKPzPQ4twGUOI/M4N5ghqYy78zpnlTtxDjP2Yy9UdkXvq/TU1O4pHq579mhsUy+ge2v03z01WjQOS/gCdaB1046b8AcpfJbF7YP4BVwgLU1eE/",
            "dtype": "f8"
           },
           "yaxis": "y2"
          },
          {
           "line": {
            "color": "rgba(60, 179, 113, 0.9)",
            "width": 2
           },
           "name": "Cumulative P&L",
           "type": "scatter",
           "x": {
            "bdata": "AAECAwQFBgcICQoLDA0ODxAREhMUFRYXGBka",
            "dtype": "i1"
           },
           "xaxis": "x2",
           "y": {
            "bdata": "AAAAAAAAAABmJIA29L3bP2Ymw4ZZv+Y/mVn2uYzy6T+ZWfa5jPLpP2ZPOC4fu/E/pmsS2unr8D9ABaxzg4XyP5rT/2HicvM/tHgrUbuQ9D/O9z0R63D2P2ixUKJRzfs/aNThxFUY9z8DHmwCWtnvP8JCoTTA5/c/Al9rSoC5/D+cdxw/xvz/P9vvxtZkkgRAqFefLuPYAkA1wX0DEZ0HQARQBr+92/Q/u1K+m+nM4T/cQ8uq1BfeP3xFuQHk0sS/33jIBxZt7r/fv/yi3z3iv8CXmg7oAoq/",
            "dtype": "f8"
           },
           "yaxis": "y2"
          }
         ]
        },
        {
         "data": [
          {
           "line": {
            "color": "rgba(60, 179, 113, 0.9)",
            "dash": "dot",
            "width": 2
           },
           "name": "Mid Price (Estimated)",
           "type": "scatter",
           "x": {
            "bdata": "AAECAwQFBgcICQoLDA0ODxAREhMUFRYXGBkaGw==",
            "dtype": "i1"
           },
           "xaxis": "x",
           "y": {
            "bdata": "gNHvJb/4WEChxAdfE+5YQN8klwa54lhA9ltPBy3aWECPYPkixNVYQLPu1x9l4lhAJFeHSijfWEAJUu9IbOBYQDZpnDMd41hAH0XxtBTkWEDto2iXtuNYQK2xef0w3FhAZ4809ZrlWEA7QQajTPFYQPZcbImo5lhAe09PiTvgWED8N/Tckd5YQIq+FlWG2FhAZgQIE+TbWED8XSOkW9dYQGIlFKNX5VhAGbj1/xbtWEASG5QMlO5YQB0dcm5H9VhAlqRPG3z8WEAY2DLnAPlYQNsye2Ho81hA31eqLYn0WEA=",
            "dtype": "f8"
           },
           "yaxis": "y"
          },
          {
           "line": {
            "color": "rgba(178, 34, 34, 0.9)",
            "width": 2
           },
           "name": "Bid",
           "type": "scatter",
           "x": {
            "bdata": "AAECAwQFBgcICQoLDA0ODxAREhMUFRYXGBkaGw==",
            "dtype": "i1"
           },
           "xaxis": "x",
           "y": {
            "bdata": "GmuJv1jyWEA7XqH4rOdYQHm+MKBS3FhAkPXooMbTWEAp+pK8Xc9YQE2Icbn+21hAvvAg5MHYWECj64jiBdpYQNACNs223FhAud6KTq7dWECHPQIxUN1YQEdLE5fK1VhAASnOjjTfWEDV2p885upYQJD2BSNC4FhAFenoItXZWECW0Y12K9hYQCRYsO4f0lhAAJ6hrH3VWECW97w99dBYQPy+rTzx3lhAs1GPmbDmWECstC2mLehYQLe2Cwjh7lhAMD7ptBX2WECyccyAmvJYQHXMFPuB7VhAefFDxyLuWEA=",
            "dtype": "f8"
           },
           "yaxis": "y"
          },
          {
           "line": {
            "color": "rgba(70, 130, 180, 0.9)",
            "width": 2
           },
           "name": "Ask",
           "type": "scatter",
           "x": {
            "bdata": "AAECAwQFBgcICQoLDA0ODxAREhMUFRYXGBkaGw==",
            "dtype": "i1"
           },
           "xaxis": "x",
           "y": {
            "bdata": "5jdWjCX/WEAHK27FefRYQEWL/Wwf6VhAXMK1bZPgWED1xl+JKtxYQBlVPobL6FhAir3tsI7lWEBvuFWv0uZYQJzPApqD6VhAhatXG3vqWEBTCs/9HOpYQBMY4GOX4lhAzfWaWwHsWEChp2wJs/dYQFzD0u8O7VhA4bW176HmWEBinlpD+ORYQPAkfbvs3lhAzGpueUriWEBixIkKwt1YQMiLegm+61hAfx5cZn3zWEB4gfpy+vRYQIOD2NSt+1hA/Aq2geICWUB+PplNZ/9YQEGZ4cdO+lhARb4QlO/6WEA=",
            "dtype": "f8"
           },
           "yaxis": "y"
          },
          {
           "marker": {
            "color": [
             "rgba(31, 119, 180, 0.8)",
             "rgba(31, 119, 180, 0.8)",
             "rgba(31, 119, 180, 0.8)",
             "rgba(31, 119, 180, 0.8)",
             "rgba(31, 119, 180, 0.8)",
             "rgba(31, 119, 180, 0.8)",
             "rgba(178, 34, 34, 0.8)",
             "rgba(31, 119, 180, 0.8)",
             "rgba(31, 119, 180, 0.8)",
             "rgba(31, 119, 180, 0.8)",
             "rgba(31, 119, 180, 0.8)",
             "rgba(31, 119, 180, 0.8)",
             "rgba(178, 34, 34, 0.8)",
             "rgba(178, 34, 34, 0.8)",
             "rgba(31, 119, 180, 0.8)",
             "rgba(31, 119, 180, 0.8)",
             "rgba(31, 119, 180, 0.8)",
             "rgba(31, 119, 180, 0.8)",
             "rgba(178, 34, 34, 0.8)",
             "rgba(31, 119, 180, 0.8)",
             "rgba(178, 34, 34, 0.8)",
             "rgba(178, 34, 34, 0.8)",
             "rgba(178, 34, 34, 0.8)",
             "rgba(178, 34, 34, 0.8)",
             "rgba(178, 34, 34, 0.8)",
             "rgba(31, 119, 180, 0.8)",
             "rgba(31, 119, 180, 0.8)",
             "rgba(31, 119, 180, 0.8)"
            ]
           },
           "name": "Trade P&L",
           "type": "bar",
           "x": {
            "bdata": "AAECAwQFBgcICQoLDA0ODxAREhMUFRYXGBkaGw==",
            "dtype": "i1"
           },
           "xaxis": "x2",
           "y": {
            "bdata": "mpmZmZmZuT9mJIA29L3bP2YoBte+wNE/mpmZmZmZuT8AAAAAAAAAAGaK9ERjB9M/AHi8hKrmqb+amZmZmZm5PzTLecrdq60/mlG68o7dsT+a8ScB/AK+P2bmSkSacdU/AHS7de/T0r+aFa8Oo67cvwDPrM1M7N8/AHEoVwBH0z/NxIilLxrKPzPQ4twGUOI/M4N5ghqYy78zpnlTtxDjP2Yy9UdkXvq/TU1O4pHq579mhsUy+ge2v03z01WjQOS/gCdaB1046b8AcpfJbF7YP4BVwgLU1eE/aGbk004Alj8=",
            "dtype": "f8"
           },
           "yaxis": "y2"
          },
          {
           "line": {
            "color": "rgba(60, 179, 113, 0.9)",
            "width": 2
           },
           "name": "Cumulative P&L",
           "type": "scatter",
           "x": {
            "bdata": "AAECAwQFBgcICQoLDA0ODxAREhMUFRYXGBkaGw==",
            "dtype": "i1"
           },
           "xaxis": "x2",
           "y": {
            "bdata": "AAAAAAAAAABmJIA29L3bP2Ymw4ZZv+Y/mVn2uYzy6T+ZWfa5jPLpP2ZPOC4fu/E/pmsS2unr8D9ABaxzg4XyP5rT/2HicvM/tHgrUbuQ9D/O9z0R63D2P2ixUKJRzfs/aNThxFUY9z8DHmwCWtnvP8JCoTTA5/c/Al9rSoC5/D+cdxw/xvz/P9vvxtZkkgRAqFefLuPYAkA1wX0DEZ0HQARQBr+92/Q/u1K+m+nM4T/cQ8uq1BfeP3xFuQHk0sS/33jIBxZt7r/fv/yi3z3iv8CXmg7oAoq/EDUumbX9gT8=",
            "dtype": "f8"
           },
           "yaxis": "y2"
          }
         ]
        },
        {
         "data": [
          {
           "line": {
            "color": "rgba(60, 179, 113, 0.9)",
            "dash": "dot",
            "width": 2
           },
           "name": "Mid Price (Estimated)",
           "type": "scatter",
           "x": {
            "bdata": "AAECAwQFBgcICQoLDA0ODxAREhMUFRYXGBkaGxw=",
            "dtype": "i1"
           },
           "xaxis": "x",
           "y": {
            "bdata": "gNHvJb/4WEChxAdfE+5YQN8klwa54lhA9ltPBy3aWECPYPkixNVYQLPu1x9l4lhAJFeHSijfWEAJUu9IbOBYQDZpnDMd41hAH0XxtBTkWEDto2iXtuNYQK2xef0w3FhAZ4809ZrlWEA7QQajTPFYQPZcbImo5lhAe09PiTvgWED8N/Tckd5YQIq+FlWG2FhAZgQIE+TbWED8XSOkW9dYQGIlFKNX5VhAGbj1/xbtWEASG5QMlO5YQB0dcm5H9VhAlqRPG3z8WEAY2DLnAPlYQNsye2Ho81hA31eqLYn0WECxYqimLfpYQA==",
            "dtype": "f8"
           },
           "yaxis": "y"
          },
          {
           "line": {
            "color": "rgba(178, 34, 34, 0.9)",
            "width": 2
           },
           "name": "Bid",
           "type": "scatter",
           "x": {
            "bdata": "AAECAwQFBgcICQoLDA0ODxAREhMUFRYXGBkaGxw=",
            "dtype": "i1"
           },
           "xaxis": "x",
           "y": {
            "bdata": "GmuJv1jyWEA7XqH4rOdYQHm+MKBS3FhAkPXooMbTWEAp+pK8Xc9YQE2Icbn+21hAvvAg5MHYWECj64jiBdpYQNACNs223FhAud6KTq7dWECHPQIxUN1YQEdLE5fK1VhAASnOjjTfWEDV2p885upYQJD2BSNC4FhAFenoItXZWECW0Y12K9hYQCRYsO4f0lhAAJ6hrH3VWECW97w99dBYQPy+rTzx3lhAs1GPmbDmWECstC2mLehYQLe2Cwjh7lhAMD7ptBX2WECyccyAmvJYQHXMFPuB7VhAefFDxyLuWEBL/EFAx/NYQA==",
            "dtype": "f8"
           },
           "yaxis": "y"
          },
          {
           "line": {
            "color": "rgba(70, 130, 180, 0.9)",
            "width": 2
           },
           "name": "Ask",
           "type": "scatter",
           "x": {
            "bdata": "AAECAwQFBgcICQoLDA0ODxAREhMUFRYXGBkaGxw=",
            "dtype": "i1"
           },
           "xaxis": "x",
           "y": {
            "bdata": "5jdWjCX/WEAHK27FefRYQEWL/Wwf6VhAXMK1bZPgWED1xl+JKtxYQBlVPobL6FhAir3tsI7lWEBvuFWv0uZYQJzPApqD6VhAhatXG3vqWEBTCs/9HOpYQBMY4GOX4lhAzfWaWwHsWEChp2wJs/dYQFzD0u8O7VhA4bW176HmWEBinlpD+ORYQPAkfbvs3lhAzGpueUriWEBixIkKwt1YQMiLegm+61hAfx5cZn3zWEB4gfpy+vRYQIOD2NSt+1hA/Aq2geICWUB+PplNZ/9YQEGZ4cdO+lhARb4QlO/6WEAXyQ4NlABZQA==",
            "dtype": "f8"
           },
           "yaxis": "y"
          },
          {
           "marker": {
            "color": [
             "rgba(31, 119, 180, 0.8)",
             "rgba(31, 119, 180, 0.8)",
             "rgba(31, 119, 180, 0.8)",
             "rgba(31, 119, 180, 0.8)",
             "rgba(31, 119, 180, 0.8)",
             "rgba(31, 119, 180, 0.8)",
             "rgba(178, 34, 34, 0.8)",
             "rgba(31, 119, 180, 0.8)",
             "rgba(31, 119, 180, 0.8)",
             "rgba(31, 119, 180, 0.8)",
             "rgba(31, 119, 180, 0.8)",
             "rgba(31, 119, 180, 0.8)",
             "rgba(178, 34, 34, 0.8)",
             "rgba(178, 34, 34, 0.8)",
             "rgba(31, 119, 180, 0.8)",
             "rgba(31, 119, 180, 0.8)",
             "rgba(31, 119, 180, 0.8)",
             "rgba(31, 119, 180, 0.8)",
             "rgba(178, 34, 34, 0.8)",
             "rgba(31, 119, 180, 0.8)",
             "rgba(178, 34, 34, 0.8)",
             "rgba(178, 34, 34, 0.8)",
             "rgba(178, 34, 34, 0.8)",
             "rgba(178, 34, 34, 0.8)",
             "rgba(178, 34, 34, 0.8)",
             "rgba(31, 119, 180, 0.8)",
             "rgba(31, 119, 180, 0.8)",
             "rgba(31, 119, 180, 0.8)",
             "rgba(178, 34, 34, 0.8)"
            ]
           },
           "name": "Trade P&L",
           "type": "bar",
           "x": {
            "bdata": "AAECAwQFBgcICQoLDA0ODxAREhMUFRYXGBkaGxw=",
            "dtype": "i1"
           },
           "xaxis": "x2",
           "y": {
            "bdata": "mpmZmZmZuT9mJIA29L3bP2YoBte+wNE/mpmZmZmZuT8AAAAAAAAAAGaK9ERjB9M/AHi8hKrmqb+amZmZmZm5PzTLecrdq60/mlG68o7dsT+a8ScB/AK+P2bmSkSacdU/AHS7de/T0r+aFa8Oo67cvwDPrM1M7N8/AHEoVwBH0z/NxIilLxrKPzPQ4twGUOI/M4N5ghqYy78zpnlTtxDjP2Yy9UdkXvq/TU1O4pHq579mhsUy+ge2v03z01WjQOS/gCdaB1046b8AcpfJbF7YP4BVwgLU1eE/aGbk004Alj/Nq/JFdIzgvw==",
            "dtype": "f8"
           },
           "yaxis": "y2"
          },
          {
           "line": {
            "color": "rgba(60, 179, 113, 0.9)",
            "width": 2
           },
           "name": "Cumulative P&L",
           "type": "scatter",
           "x": {
            "bdata": "AAECAwQFBgcICQoLDA0ODxAREhMUFRYXGBkaGxw=",
            "dtype": "i1"
           },
           "xaxis": "x2",
           "y": {
            "bdata": "AAAAAAAAAABmJIA29L3bP2Ymw4ZZv+Y/mVn2uYzy6T+ZWfa5jPLpP2ZPOC4fu/E/pmsS2unr8D9ABaxzg4XyP5rT/2HicvM/tHgrUbuQ9D/O9z0R63D2P2ixUKJRzfs/aNThxFUY9z8DHmwCWtnvP8JCoTTA5/c/Al9rSoC5/D+cdxw/xvz/P9vvxtZkkgRAqFefLuPYAkA1wX0DEZ0HQARQBr+92/Q/u1K+m+nM4T/cQ8uq1BfeP3xFuQHk0sS/33jIBxZt7r/fv/yi3z3iv8CXmg7oAoq/EDUumbX9gT/58o1vfUTgvw==",
            "dtype": "f8"
           },
           "yaxis": "y2"
          }
         ]
        },
        {
         "data": [
          {
           "line": {
            "color": "rgba(60, 179, 113, 0.9)",
            "dash": "dot",
            "width": 2
           },
           "name": "Mid Price (Estimated)",
           "type": "scatter",
           "x": {
            "bdata": "AAECAwQFBgcICQoLDA0ODxAREhMUFRYXGBkaGxwd",
            "dtype": "i1"
           },
           "xaxis": "x",
           "y": {
            "bdata": "gNHvJb/4WEChxAdfE+5YQN8klwa54lhA9ltPBy3aWECPYPkixNVYQLPu1x9l4lhAJFeHSijfWEAJUu9IbOBYQDZpnDMd41hAH0XxtBTkWEDto2iXtuNYQK2xef0w3FhAZ4809ZrlWEA7QQajTPFYQPZcbImo5lhAe09PiTvgWED8N/Tckd5YQIq+FlWG2FhAZgQIE+TbWED8XSOkW9dYQGIlFKNX5VhAGbj1/xbtWEASG5QMlO5YQB0dcm5H9VhAlqRPG3z8WEAY2DLnAPlYQNsye2Ho81hA31eqLYn0WECxYqimLfpYQKWkbEEy+1hA",
            "dtype": "f8"
           },
           "yaxis": "y"
          },
          {
           "line": {
            "color": "rgba(178, 34, 34, 0.9)",
            "width": 2
           },
           "name": "Bid",
           "type": "scatter",
           "x": {
            "bdata": "AAECAwQFBgcICQoLDA0ODxAREhMUFRYXGBkaGxwd",
            "dtype": "i1"
           },
           "xaxis": "x",
           "y": {
            "bdata": "GmuJv1jyWEA7XqH4rOdYQHm+MKBS3FhAkPXooMbTWEAp+pK8Xc9YQE2Icbn+21hAvvAg5MHYWECj64jiBdpYQNACNs223FhAud6KTq7dWECHPQIxUN1YQEdLE5fK1VhAASnOjjTfWEDV2p885upYQJD2BSNC4FhAFenoItXZWECW0Y12K9hYQCRYsO4f0lhAAJ6hrH3VWECW97w99dBYQPy+rTzx3lhAs1GPmbDmWECstC2mLehYQLe2Cwjh7lhAMD7ptBX2WECyccyAmvJYQHXMFPuB7VhAefFDxyLuWEBL/EFAx/NYQD8+BtvL9FhA",
            "dtype": "f8"
           },
           "yaxis": "y"
          },
          {
           "line": {
            "color": "rgba(70, 130, 180, 0.9)",
            "width": 2
           },
           "name": "Ask",
           "type": "scatter",
           "x": {
            "bdata": "AAECAwQFBgcICQoLDA0ODxAREhMUFRYXGBkaGxwd",
            "dtype": "i1"
           },
           "xaxis": "x",
           "y": {
            "bdata": "5jdWjCX/WEAHK27FefRYQEWL/Wwf6VhAXMK1bZPgWED1xl+JKtxYQBlVPobL6FhAir3tsI7lWEBvuFWv0uZYQJzPApqD6VhAhatXG3vqWEBTCs/9HOpYQBMY4GOX4lhAzfWaWwHsWEChp2wJs/dYQFzD0u8O7VhA4bW176HmWEBinlpD+ORYQPAkfbvs3lhAzGpueUriWEBixIkKwt1YQMiLegm+61hAfx5cZn3zWEB4gfpy+vRYQIOD2NSt+1hA/Aq2geICWUB+PplNZ/9YQEGZ4cdO+lhARb4QlO/6WEAXyQ4NlABZQAsL06eYAVlA",
            "dtype": "f8"
           },
           "yaxis": "y"
          },
          {
           "marker": {
            "color": [
             "rgba(31, 119, 180, 0.8)",
             "rgba(31, 119, 180, 0.8)",
             "rgba(31, 119, 180, 0.8)",
             "rgba(31, 119, 180, 0.8)",
             "rgba(31, 119, 180, 0.8)",
             "rgba(31, 119, 180, 0.8)",
             "rgba(178, 34, 34, 0.8)",
             "rgba(31, 119, 180, 0.8)",
             "rgba(31, 119, 180, 0.8)",
             "rgba(31, 119, 180, 0.8)",
             "rgba(31, 119, 180, 0.8)",
             "rgba(31, 119, 180, 0.8)",
             "rgba(178, 34, 34, 0.8)",
             "rgba(178, 34, 34, 0.8)",
             "rgba(31, 119, 180, 0.8)",
             "rgba(31, 119, 180, 0.8)",
             "rgba(31, 119, 180, 0.8)",
             "rgba(31, 119, 180, 0.8)",
             "rgba(178, 34, 34, 0.8)",
             "rgba(31, 119, 180, 0.8)",
             "rgba(178, 34, 34, 0.8)",
             "rgba(178, 34, 34, 0.8)",
             "rgba(178, 34, 34, 0.8)",
             "rgba(178, 34, 34, 0.8)",
             "rgba(178, 34, 34, 0.8)",
             "rgba(31, 119, 180, 0.8)",
             "rgba(31, 119, 180, 0.8)",
             "rgba(31, 119, 180, 0.8)",
             "rgba(178, 34, 34, 0.8)",
             "rgba(31, 119, 180, 0.8)"
            ]
           },
           "name": "Trade P&L",
           "type": "bar",
           "x": {
            "bdata": "AAECAwQFBgcICQoLDA0ODxAREhMUFRYXGBkaGxwd",
            "dtype": "i1"
           },
           "xaxis": "x2",
           "y": {
            "bdata": "mpmZmZmZuT9mJIA29L3bP2YoBte+wNE/mpmZmZmZuT8AAAAAAAAAAGaK9ERjB9M/AHi8hKrmqb+amZmZmZm5PzTLecrdq60/mlG68o7dsT+a8ScB/AK+P2bmSkSacdU/AHS7de/T0r+aFa8Oo67cvwDPrM1M7N8/AHEoVwBH0z/NxIilLxrKPzPQ4twGUOI/M4N5ghqYy78zpnlTtxDjP2Yy9UdkXvq/TU1O4pHq579mhsUy+ge2v03z01WjQOS/gCdaB1046b8AcpfJbF7YP4BVwgLU1eE/aGbk004Alj/Nq/JFdIzgv6CZqzZzsXI/",
            "dtype": "f8"
           },
           "yaxis": "y2"
          },
          {
           "line": {
            "color": "rgba(60, 179, 113, 0.9)",
            "width": 2
           },
           "name": "Cumulative P&L",
           "type": "scatter",
           "x": {
            "bdata": "AAECAwQFBgcICQoLDA0ODxAREhMUFRYXGBkaGxwd",
            "dtype": "i1"
           },
           "xaxis": "x2",
           "y": {
            "bdata": "AAAAAAAAAABmJIA29L3bP2Ymw4ZZv+Y/mVn2uYzy6T+ZWfa5jPLpP2ZPOC4fu/E/pmsS2unr8D9ABaxzg4XyP5rT/2HicvM/tHgrUbuQ9D/O9z0R63D2P2ixUKJRzfs/aNThxFUY9z8DHmwCWtnvP8JCoTTA5/c/Al9rSoC5/D+cdxw/xvz/P9vvxtZkkgRAqFefLuPYAkA1wX0DEZ0HQARQBr+92/Q/u1K+m+nM4T/cQ8uq1BfeP3xFuQHk0sS/33jIBxZt7r/fv/yi3z3iv8CXmg7oAoq/EDUumbX9gT/58o1vfUTgv8abIIkaH+C/",
            "dtype": "f8"
           },
           "yaxis": "y2"
          }
         ]
        },
        {
         "data": [
          {
           "line": {
            "color": "rgba(60, 179, 113, 0.9)",
            "dash": "dot",
            "width": 2
           },
           "name": "Mid Price (Estimated)",
           "type": "scatter",
           "x": {
            "bdata": "AAECAwQFBgcICQoLDA0ODxAREhMUFRYXGBkaGxwdHg==",
            "dtype": "i1"
           },
           "xaxis": "x",
           "y": {
            "bdata": "gNHvJb/4WEChxAdfE+5YQN8klwa54lhA9ltPBy3aWECPYPkixNVYQLPu1x9l4lhAJFeHSijfWEAJUu9IbOBYQDZpnDMd41hAH0XxtBTkWEDto2iXtuNYQK2xef0w3FhAZ4809ZrlWEA7QQajTPFYQPZcbImo5lhAe09PiTvgWED8N/Tckd5YQIq+FlWG2FhAZgQIE+TbWED8XSOkW9dYQGIlFKNX5VhAGbj1/xbtWEASG5QMlO5YQB0dcm5H9VhAlqRPG3z8WEAY2DLnAPlYQNsye2Ho81hA31eqLYn0WECxYqimLfpYQKWkbEEy+1hAQ17ERTvxWEA=",
            "dtype": "f8"
           },
           "yaxis": "y"
          },
          {
           "line": {
            "color": "rgba(178, 34, 34, 0.9)",
            "width": 2
           },
           "name": "Bid",
           "type": "scatter",
           "x": {
            "bdata": "AAECAwQFBgcICQoLDA0ODxAREhMUFRYXGBkaGxwdHg==",
            "dtype": "i1"
           },
           "xaxis": "x",
           "y": {
            "bdata": "GmuJv1jyWEA7XqH4rOdYQHm+MKBS3FhAkPXooMbTWEAp+pK8Xc9YQE2Icbn+21hAvvAg5MHYWECj64jiBdpYQNACNs223FhAud6KTq7dWECHPQIxUN1YQEdLE5fK1VhAASnOjjTfWEDV2p885upYQJD2BSNC4FhAFenoItXZWECW0Y12K9hYQCRYsO4f0lhAAJ6hrH3VWECW97w99dBYQPy+rTzx3lhAs1GPmbDmWECstC2mLehYQLe2Cwjh7lhAMD7ptBX2WECyccyAmvJYQHXMFPuB7VhAefFDxyLuWEBL/EFAx/NYQD8+BtvL9FhA3fdd39TqWEA=",
            "dtype": "f8"
           },
           "yaxis": "y"
          },
          {
           "line": {
            "color": "rgba(70, 130, 180, 0.9)",
            "width": 2
           },
           "name": "Ask",
           "type": "scatter",
           "x": {
            "bdata": "AAECAwQFBgcICQoLDA0ODxAREhMUFRYXGBkaGxwdHg==",
            "dtype": "i1"
           },
           "xaxis": "x",
           "y": {
            "bdata": "5jdWjCX/WEAHK27FefRYQEWL/Wwf6VhAXMK1bZPgWED1xl+JKtxYQBlVPobL6FhAir3tsI7lWEBvuFWv0uZYQJzPApqD6VhAhatXG3vqWEBTCs/9HOpYQBMY4GOX4lhAzfWaWwHsWEChp2wJs/dYQFzD0u8O7VhA4bW176HmWEBinlpD+ORYQPAkfbvs3lhAzGpueUriWEBixIkKwt1YQMiLegm+61hAfx5cZn3zWEB4gfpy+vRYQIOD2NSt+1hA/Aq2geICWUB+PplNZ/9YQEGZ4cdO+lhARb4QlO/6WEAXyQ4NlABZQAsL06eYAVlAqcQqrKH3WEA=",
            "dtype": "f8"
           },
           "yaxis": "y"
          },
          {
           "marker": {
            "color": [
             "rgba(31, 119, 180, 0.8)",
             "rgba(31, 119, 180, 0.8)",
             "rgba(31, 119, 180, 0.8)",
             "rgba(31, 119, 180, 0.8)",
             "rgba(31, 119, 180, 0.8)",
             "rgba(31, 119, 180, 0.8)",
             "rgba(178, 34, 34, 0.8)",
             "rgba(31, 119, 180, 0.8)",
             "rgba(31, 119, 180, 0.8)",
             "rgba(31, 119, 180, 0.8)",
             "rgba(31, 119, 180, 0.8)",
             "rgba(31, 119, 180, 0.8)",
             "rgba(178, 34, 34, 0.8)",
             "rgba(178, 34, 34, 0.8)",
             "rgba(31, 119, 180, 0.8)",
             "rgba(31, 119, 180, 0.8)",
             "rgba(31, 119, 180, 0.8)",
             "rgba(31, 119, 180, 0.8)",
             "rgba(178, 34, 34, 0.8)",
             "rgba(31, 119, 180, 0.8)",
             "rgba(178, 34, 34, 0.8)",
             "rgba(178, 34, 34, 0.8)",
             "rgba(178, 34, 34, 0.8)",
             "rgba(178, 34, 34, 0.8)",
             "rgba(178, 34, 34, 0.8)",
             "rgba(31, 119, 180, 0.8)",
             "rgba(31, 119, 180, 0.8)",
             "rgba(31, 119, 180, 0.8)",
             "rgba(178, 34, 34, 0.8)",
             "rgba(31, 119, 180, 0.8)",
             "rgba(31, 119, 180, 0.8)"
            ]
           },
           "name": "Trade P&L",
           "type": "bar",
           "x": {
            "bdata": "AAECAwQFBgcICQoLDA0ODxAREhMUFRYXGBkaGxwdHg==",
            "dtype": "i1"
           },
           "xaxis": "x2",
           "y": {
            "bdata": "mpmZmZmZuT9mJIA29L3bP2YoBte+wNE/mpmZmZmZuT8AAAAAAAAAAGaK9ERjB9M/AHi8hKrmqb+amZmZmZm5PzTLecrdq60/mlG68o7dsT+a8ScB/AK+P2bmSkSacdU/AHS7de/T0r+aFa8Oo67cvwDPrM1M7N8/AHEoVwBH0z/NxIilLxrKPzPQ4twGUOI/M4N5ghqYy78zpnlTtxDjP2Yy9UdkXvq/TU1O4pHq579mhsUy+ge2v03z01WjQOS/gCdaB1046b8AcpfJbF7YP4BVwgLU1eE/aGbk004Alj/Nq/JFdIzgv6CZqzZzsXI/GsUUANIJ8z8=",
            "dtype": "f8"
           },
           "yaxis": "y2"
          },
          {
           "line": {
            "color": "rgba(60, 179, 113, 0.9)",
            "width": 2
           },
           "name": "Cumulative P&L",
           "type": "scatter",
           "x": {
            "bdata": "AAECAwQFBgcICQoLDA0ODxAREhMUFRYXGBkaGxwdHg==",
            "dtype": "i1"
           },
           "xaxis": "x2",
           "y": {
            "bdata": "AAAAAAAAAABmJIA29L3bP2Ymw4ZZv+Y/mVn2uYzy6T+ZWfa5jPLpP2ZPOC4fu/E/pmsS2unr8D9ABaxzg4XyP5rT/2HicvM/tHgrUbuQ9D/O9z0R63D2P2ixUKJRzfs/aNThxFUY9z8DHmwCWtnvP8JCoTTA5/c/Al9rSoC5/D+cdxw/xvz/P9vvxtZkkgRAqFefLuPYAkA1wX0DEZ0HQARQBr+92/Q/u1K+m+nM4T/cQ8uq1BfeP3xFuQHk0sS/33jIBxZt7r/fv/yi3z3iv8CXmg7oAoq/EDUumbX9gT/58o1vfUTgv8abIIkaH+C/bu4Id4n05T8=",
            "dtype": "f8"
           },
           "yaxis": "y2"
          }
         ]
        },
        {
         "data": [
          {
           "line": {
            "color": "rgba(60, 179, 113, 0.9)",
            "dash": "dot",
            "width": 2
           },
           "name": "Mid Price (Estimated)",
           "type": "scatter",
           "x": {
            "bdata": "AAECAwQFBgcICQoLDA0ODxAREhMUFRYXGBkaGxwdHh8=",
            "dtype": "i1"
           },
           "xaxis": "x",
           "y": {
            "bdata": "gNHvJb/4WEChxAdfE+5YQN8klwa54lhA9ltPBy3aWECPYPkixNVYQLPu1x9l4lhAJFeHSijfWEAJUu9IbOBYQDZpnDMd41hAH0XxtBTkWEDto2iXtuNYQK2xef0w3FhAZ4809ZrlWEA7QQajTPFYQPZcbImo5lhAe09PiTvgWED8N/Tckd5YQIq+FlWG2FhAZgQIE+TbWED8XSOkW9dYQGIlFKNX5VhAGbj1/xbtWEASG5QMlO5YQB0dcm5H9VhAlqRPG3z8WEAY2DLnAPlYQNsye2Ho81hA31eqLYn0WECxYqimLfpYQKWkbEEy+1hAQ17ERTvxWEB7vGWxOOxYQA==",
            "dtype": "f8"
           },
           "yaxis": "y"
          },
          {
           "line": {
            "color": "rgba(178, 34, 34, 0.9)",
            "width": 2
           },
           "name": "Bid",
           "type": "scatter",
           "x": {
            "bdata": "AAECAwQFBgcICQoLDA0ODxAREhMUFRYXGBkaGxwdHh8=",
            "dtype": "i1"
           },
           "xaxis": "x",
           "y": {
            "bdata": "GmuJv1jyWEA7XqH4rOdYQHm+MKBS3FhAkPXooMbTWEAp+pK8Xc9YQE2Icbn+21hAvvAg5MHYWECj64jiBdpYQNACNs223FhAud6KTq7dWECHPQIxUN1YQEdLE5fK1VhAASnOjjTfWEDV2p885upYQJD2BSNC4FhAFenoItXZWECW0Y12K9hYQCRYsO4f0lhAAJ6hrH3VWECW97w99dBYQPy+rTzx3lhAs1GPmbDmWECstC2mLehYQLe2Cwjh7lhAMD7ptBX2WECyccyAmvJYQHXMFPuB7VhAefFDxyLuWEBL/EFAx/NYQD8+BtvL9FhA3fdd39TqWEAVVv9K0uVYQA==",
            "dtype": "f8"
           },
           "yaxis": "y"
          },
          {
           "line": {
            "color": "rgba(70, 130, 180, 0.9)",
            "width": 2
           },
           "name": "Ask",
           "type": "scatter",
           "x": {
            "bdata": "AAECAwQFBgcICQoLDA0ODxAREhMUFRYXGBkaGxwdHh8=",
            "dtype": "i1"
           },
           "xaxis": "x",
           "y": {
            "bdata": "5jdWjCX/WEAHK27FefRYQEWL/Wwf6VhAXMK1bZPgWED1xl+JKtxYQBlVPobL6FhAir3tsI7lWEBvuFWv0uZYQJzPApqD6VhAhatXG3vqWEBTCs/9HOpYQBMY4GOX4lhAzfWaWwHsWEChp2wJs/dYQFzD0u8O7VhA4bW176HmWEBinlpD+ORYQPAkfbvs3lhAzGpueUriWEBixIkKwt1YQMiLegm+61hAfx5cZn3zWEB4gfpy+vRYQIOD2NSt+1hA/Aq2geICWUB+PplNZ/9YQEGZ4cdO+lhARb4QlO/6WEAXyQ4NlABZQAsL06eYAVlAqcQqrKH3WEDhIswXn/JYQA==",
            "dtype": "f8"
           },
           "yaxis": "y"
          },
          {
           "marker": {
            "color": [
             "rgba(31, 119, 180, 0.8)",
             "rgba(31, 119, 180, 0.8)",
             "rgba(31, 119, 180, 0.8)",
             "rgba(31, 119, 180, 0.8)",
             "rgba(31, 119, 180, 0.8)",
             "rgba(31, 119, 180, 0.8)",
             "rgba(178, 34, 34, 0.8)",
             "rgba(31, 119, 180, 0.8)",
             "rgba(31, 119, 180, 0.8)",
             "rgba(31, 119, 180, 0.8)",
             "rgba(31, 119, 180, 0.8)",
             "rgba(31, 119, 180, 0.8)",
             "rgba(178, 34, 34, 0.8)",
             "rgba(178, 34, 34, 0.8)",
             "rgba(31, 119, 180, 0.8)",
             "rgba(31, 119, 180, 0.8)",
             "rgba(31, 119, 180, 0.8)",
             "rgba(31, 119, 180, 0.8)",
             "rgba(178, 34, 34, 0.8)",
             "rgba(31, 119, 180, 0.8)",
             "rgba(178, 34, 34, 0.8)",
             "rgba(178, 34, 34, 0.8)",
             "rgba(178, 34, 34, 0.8)",
             "rgba(178, 34, 34, 0.8)",
             "rgba(178, 34, 34, 0.8)",
             "rgba(31, 119, 180, 0.8)",
             "rgba(31, 119, 180, 0.8)",
             "rgba(31, 119, 180, 0.8)",
             "rgba(178, 34, 34, 0.8)",
             "rgba(31, 119, 180, 0.8)",
             "rgba(31, 119, 180, 0.8)",
             "rgba(31, 119, 180, 0.8)"
            ]
           },
           "name": "Trade P&L",
           "type": "bar",
           "x": {
            "bdata": "AAECAwQFBgcICQoLDA0ODxAREhMUFRYXGBkaGxwdHh8=",
            "dtype": "i1"
           },
           "xaxis": "x2",
           "y": {
            "bdata": "mpmZmZmZuT9mJIA29L3bP2YoBte+wNE/mpmZmZmZuT8AAAAAAAAAAGaK9ERjB9M/AHi8hKrmqb+amZmZmZm5PzTLecrdq60/mlG68o7dsT+a8ScB/AK+P2bmSkSacdU/AHS7de/T0r+aFa8Oo67cvwDPrM1M7N8/AHEoVwBH0z/NxIilLxrKPzPQ4twGUOI/M4N5ghqYy78zpnlTtxDjP2Yy9UdkXvq/TU1O4pHq579mhsUy+ge2v03z01WjQOS/gCdaB1046b8AcpfJbF7YP4BVwgLU1eE/aGbk004Alj/Nq/JFdIzgv6CZqzZzsXI/GsUUANIJ8z8zU7qthD3nPw==",
            "dtype": "f8"
           },
           "yaxis": "y2"
          },
          {
           "line": {
            "color": "rgba(60, 179, 113, 0.9)",
            "width": 2
           },
           "name": "Cumulative P&L",
           "type": "scatter",
           "x": {
            "bdata": "AAECAwQFBgcICQoLDA0ODxAREhMUFRYXGBkaGxwdHh8=",
            "dtype": "i1"
           },
           "xaxis": "x2",
           "y": {
            "bdata": "AAAAAAAAAABmJIA29L3bP2Ymw4ZZv+Y/mVn2uYzy6T+ZWfa5jPLpP2ZPOC4fu/E/pmsS2unr8D9ABaxzg4XyP5rT/2HicvM/tHgrUbuQ9D/O9z0R63D2P2ixUKJRzfs/aNThxFUY9z8DHmwCWtnvP8JCoTTA5/c/Al9rSoC5/D+cdxw/xvz/P9vvxtZkkgRAqFefLuPYAkA1wX0DEZ0HQARQBr+92/Q/u1K+m+nM4T/cQ8uq1BfeP3xFuQHk0sS/33jIBxZt7r/fv/yi3z3iv8CXmg7oAoq/EDUumbX9gT/58o1vfUTgv8abIIkaH+C/bu4Id4n05T/QoGESB5n2Pw==",
            "dtype": "f8"
           },
           "yaxis": "y2"
          }
         ]
        },
        {
         "data": [
          {
           "line": {
            "color": "rgba(60, 179, 113, 0.9)",
            "dash": "dot",
            "width": 2
           },
           "name": "Mid Price (Estimated)",
           "type": "scatter",
           "x": {
            "bdata": "AAECAwQFBgcICQoLDA0ODxAREhMUFRYXGBkaGxwdHh8g",
            "dtype": "i1"
           },
           "xaxis": "x",
           "y": {
            "bdata": "gNHvJb/4WEChxAdfE+5YQN8klwa54lhA9ltPBy3aWECPYPkixNVYQLPu1x9l4lhAJFeHSijfWEAJUu9IbOBYQDZpnDMd41hAH0XxtBTkWEDto2iXtuNYQK2xef0w3FhAZ4809ZrlWEA7QQajTPFYQPZcbImo5lhAe09PiTvgWED8N/Tckd5YQIq+FlWG2FhAZgQIE+TbWED8XSOkW9dYQGIlFKNX5VhAGbj1/xbtWEASG5QMlO5YQB0dcm5H9VhAlqRPG3z8WEAY2DLnAPlYQNsye2Ho81hA31eqLYn0WECxYqimLfpYQKWkbEEy+1hAQ17ERTvxWEB7vGWxOOxYQNKiiUPg61hA",
            "dtype": "f8"
           },
           "yaxis": "y"
          },
          {
           "line": {
            "color": "rgba(178, 34, 34, 0.9)",
            "width": 2
           },
           "name": "Bid",
           "type": "scatter",
           "x": {
            "bdata": "AAECAwQFBgcICQoLDA0ODxAREhMUFRYXGBkaGxwdHh8g",
            "dtype": "i1"
           },
           "xaxis": "x",
           "y": {
            "bdata": "GmuJv1jyWEA7XqH4rOdYQHm+MKBS3FhAkPXooMbTWEAp+pK8Xc9YQE2Icbn+21hAvvAg5MHYWECj64jiBdpYQNACNs223FhAud6KTq7dWECHPQIxUN1YQEdLE5fK1VhAASnOjjTfWEDV2p885upYQJD2BSNC4FhAFenoItXZWECW0Y12K9hYQCRYsO4f0lhAAJ6hrH3VWECW97w99dBYQPy+rTzx3lhAs1GPmbDmWECstC2mLehYQLe2Cwjh7lhAMD7ptBX2WECyccyAmvJYQHXMFPuB7VhAefFDxyLuWEBL/EFAx/NYQD8+BtvL9FhA3fdd39TqWEAVVv9K0uVYQGw8I9155VhA",
            "dtype": "f8"
           },
           "yaxis": "y"
          },
          {
           "line": {
            "color": "rgba(70, 130, 180, 0.9)",
            "width": 2
           },
           "name": "Ask",
           "type": "scatter",
           "x": {
            "bdata": "AAECAwQFBgcICQoLDA0ODxAREhMUFRYXGBkaGxwdHh8g",
            "dtype": "i1"
           },
           "xaxis": "x",
           "y": {
            "bdata": "5jdWjCX/WEAHK27FefRYQEWL/Wwf6VhAXMK1bZPgWED1xl+JKtxYQBlVPobL6FhAir3tsI7lWEBvuFWv0uZYQJzPApqD6VhAhatXG3vqWEBTCs/9HOpYQBMY4GOX4lhAzfWaWwHsWEChp2wJs/dYQFzD0u8O7VhA4bW176HmWEBinlpD+ORYQPAkfbvs3lhAzGpueUriWEBixIkKwt1YQMiLegm+61hAfx5cZn3zWEB4gfpy+vRYQIOD2NSt+1hA/Aq2geICWUB+PplNZ/9YQEGZ4cdO+lhARb4QlO/6WEAXyQ4NlABZQAsL06eYAVlAqcQqrKH3WEDhIswXn/JYQDgJ8KlG8lhA",
            "dtype": "f8"
           },
           "yaxis": "y"
          },
          {
           "marker": {
            "color": [
             "rgba(31, 119, 180, 0.8)",
             "rgba(31, 119, 180, 0.8)",
             "rgba(31, 119, 180, 0.8)",
             "rgba(31, 119, 180, 0.8)",
             "rgba(31, 119, 180, 0.8)",
             "rgba(31, 119, 180, 0.8)",
             "rgba(178, 34, 34, 0.8)",
             "rgba(31, 119, 180, 0.8)",
             "rgba(31, 119, 180, 0.8)",
             "rgba(31, 119, 180, 0.8)",
             "rgba(31, 119, 180, 0.8)",
             "rgba(31, 119, 180, 0.8)",
             "rgba(178, 34, 34, 0.8)",
             "rgba(178, 34, 34, 0.8)",
             "rgba(31, 119, 180, 0.8)",
             "rgba(31, 119, 180, 0.8)",
             "rgba(31, 119, 180, 0.8)",
             "rgba(31, 119, 180, 0.8)",
             "rgba(178, 34, 34, 0.8)",
             "rgba(31, 119, 180, 0.8)",
             "rgba(178, 34, 34, 0.8)",
             "rgba(178, 34, 34, 0.8)",
             "rgba(178, 34, 34, 0.8)",
             "rgba(178, 34, 34, 0.8)",
             "rgba(178, 34, 34, 0.8)",
             "rgba(31, 119, 180, 0.8)",
             "rgba(31, 119, 180, 0.8)",
             "rgba(31, 119, 180, 0.8)",
             "rgba(178, 34, 34, 0.8)",
             "rgba(31, 119, 180, 0.8)",
             "rgba(31, 119, 180, 0.8)",
             "rgba(31, 119, 180, 0.8)",
             "rgba(31, 119, 180, 0.8)"
            ]
           },
           "name": "Trade P&L",
           "type": "bar",
           "x": {
            "bdata": "AAECAwQFBgcICQoLDA0ODxAREhMUFRYXGBkaGxwdHh8g",
            "dtype": "i1"
           },
           "xaxis": "x2",
           "y": {
            "bdata": "mpmZmZmZuT9mJIA29L3bP2YoBte+wNE/mpmZmZmZuT8AAAAAAAAAAGaK9ERjB9M/AHi8hKrmqb+amZmZmZm5PzTLecrdq60/mlG68o7dsT+a8ScB/AK+P2bmSkSacdU/AHS7de/T0r+aFa8Oo67cvwDPrM1M7N8/AHEoVwBH0z/NxIilLxrKPzPQ4twGUOI/M4N5ghqYy78zpnlTtxDjP2Yy9UdkXvq/TU1O4pHq579mhsUy+ge2v03z01WjQOS/gCdaB1046b8AcpfJbF7YP4BVwgLU1eE/aGbk004Alj/Nq/JFdIzgv6CZqzZzsXI/GsUUANIJ8z8zU7qthD3nP80KNNbOosE/",
            "dtype": "f8"
           },
           "yaxis": "y2"
          },
          {
           "line": {
            "color": "rgba(60, 179, 113, 0.9)",
            "width": 2
           },
           "name": "Cumulative P&L",
           "type": "scatter",
           "x": {
            "bdata": "AAECAwQFBgcICQoLDA0ODxAREhMUFRYXGBkaGxwdHh8g",
            "dtype": "i1"
           },
           "xaxis": "x2",
           "y": {
            "bdata": "AAAAAAAAAABmJIA29L3bP2Ymw4ZZv+Y/mVn2uYzy6T+ZWfa5jPLpP2ZPOC4fu/E/pmsS2unr8D9ABaxzg4XyP5rT/2HicvM/tHgrUbuQ9D/O9z0R63D2P2ixUKJRzfs/aNThxFUY9z8DHmwCWtnvP8JCoTTA5/c/Al9rSoC5/D+cdxw/xvz/P9vvxtZkkgRAqFefLuPYAkA1wX0DEZ0HQARQBr+92/Q/u1K+m+nM4T/cQ8uq1BfeP3xFuQHk0sS/33jIBxZt7r/fv/yi3z3iv8CXmg7oAoq/EDUumbX9gT/58o1vfUTgv8abIIkaH+C/bu4Id4n05T/QoGESB5n2PyoiKO1gzfg/",
            "dtype": "f8"
           },
           "yaxis": "y2"
          }
         ]
        },
        {
         "data": [
          {
           "line": {
            "color": "rgba(60, 179, 113, 0.9)",
            "dash": "dot",
            "width": 2
           },
           "name": "Mid Price (Estimated)",
           "type": "scatter",
           "x": {
            "bdata": "AAECAwQFBgcICQoLDA0ODxAREhMUFRYXGBkaGxwdHh8gIQ==",
            "dtype": "i1"
           },
           "xaxis": "x",
           "y": {
            "bdata": "gNHvJb/4WEChxAdfE+5YQN8klwa54lhA9ltPBy3aWECPYPkixNVYQLPu1x9l4lhAJFeHSijfWEAJUu9IbOBYQDZpnDMd41hAH0XxtBTkWEDto2iXtuNYQK2xef0w3FhAZ4809ZrlWEA7QQajTPFYQPZcbImo5lhAe09PiTvgWED8N/Tckd5YQIq+FlWG2FhAZgQIE+TbWED8XSOkW9dYQGIlFKNX5VhAGbj1/xbtWEASG5QMlO5YQB0dcm5H9VhAlqRPG3z8WEAY2DLnAPlYQNsye2Ho81hA31eqLYn0WECxYqimLfpYQKWkbEEy+1hAQ17ERTvxWEB7vGWxOOxYQNKiiUPg61hAPOKwD4XrWEA=",
            "dtype": "f8"
           },
           "yaxis": "y"
          },
          {
           "line": {
            "color": "rgba(178, 34, 34, 0.9)",
            "width": 2
           },
           "name": "Bid",
           "type": "scatter",
           "x": {
            "bdata": "AAECAwQFBgcICQoLDA0ODxAREhMUFRYXGBkaGxwdHh8gIQ==",
            "dtype": "i1"
           },
           "xaxis": "x",
           "y": {
            "bdata": "GmuJv1jyWEA7XqH4rOdYQHm+MKBS3FhAkPXooMbTWEAp+pK8Xc9YQE2Icbn+21hAvvAg5MHYWECj64jiBdpYQNACNs223FhAud6KTq7dWECHPQIxUN1YQEdLE5fK1VhAASnOjjTfWEDV2p885upYQJD2BSNC4FhAFenoItXZWECW0Y12K9hYQCRYsO4f0lhAAJ6hrH3VWECW97w99dBYQPy+rTzx3lhAs1GPmbDmWECstC2mLehYQLe2Cwjh7lhAMD7ptBX2WECyccyAmvJYQHXMFPuB7VhAefFDxyLuWEBL/EFAx/NYQD8+BtvL9FhA3fdd39TqWEAVVv9K0uVYQGw8I9155VhA1ntKqR7lWEA=",
            "dtype": "f8"
           },
           "yaxis": "y"
          },
          {
           "line": {
            "color": "rgba(70, 130, 180, 0.9)",
            "width": 2
           },
           "name": "Ask",
           "type": "scatter",
           "x": {
            "bdata": "AAECAwQFBgcICQoLDA0ODxAREhMUFRYXGBkaGxwdHh8gIQ==",
            "dtype": "i1"
           },
           "xaxis": "x",
           "y": {
            "bdata": "5jdWjCX/WEAHK27FefRYQEWL/Wwf6VhAXMK1bZPgWED1xl+JKtxYQBlVPobL6FhAir3tsI7lWEBvuFWv0uZYQJzPApqD6VhAhatXG3vqWEBTCs/9HOpYQBMY4GOX4lhAzfWaWwHsWEChp2wJs/dYQFzD0u8O7VhA4bW176HmWEBinlpD+ORYQPAkfbvs3lhAzGpueUriWEBixIkKwt1YQMiLegm+61hAfx5cZn3zWEB4gfpy+vRYQIOD2NSt+1hA/Aq2geICWUB+PplNZ/9YQEGZ4cdO+lhARb4QlO/6WEAXyQ4NlABZQAsL06eYAVlAqcQqrKH3WEDhIswXn/JYQDgJ8KlG8lhAokgXduvxWEA=",
            "dtype": "f8"
           },
           "yaxis": "y"
          },
          {
           "marker": {
            "color": [
             "rgba(31, 119, 180, 0.8)",
             "rgba(31, 119, 180, 0.8)",
             "rgba(31, 119, 180, 0.8)",
             "rgba(31, 119, 180, 0.8)",
             "rgba(31, 119, 180, 0.8)",
             "rgba(31, 119, 180, 0.8)",
             "rgba(178, 34, 34, 0.8)",
             "rgba(31, 119, 180, 0.8)",
             "rgba(31, 119, 180, 0.8)",
             "rgba(31, 119, 180, 0.8)",
             "rgba(31, 119, 180, 0.8)",
             "rgba(31, 119, 180, 0.8)",
             "rgba(178, 34, 34, 0.8)",
             "rgba(178, 34, 34, 0.8)",
             "rgba(31, 119, 180, 0.8)",
             "rgba(31, 119, 180, 0.8)",
             "rgba(31, 119, 180, 0.8)",
             "rgba(31, 119, 180, 0.8)",
             "rgba(178, 34, 34, 0.8)",
             "rgba(31, 119, 180, 0.8)",
             "rgba(178, 34, 34, 0.8)",
             "rgba(178, 34, 34, 0.8)",
             "rgba(178, 34, 34, 0.8)",
             "rgba(178, 34, 34, 0.8)",
             "rgba(178, 34, 34, 0.8)",
             "rgba(31, 119, 180, 0.8)",
             "rgba(31, 119, 180, 0.8)",
             "rgba(31, 119, 180, 0.8)",
             "rgba(178, 34, 34, 0.8)",
             "rgba(31, 119, 180, 0.8)",
             "rgba(31, 119, 180, 0.8)",
             "rgba(31, 119, 180, 0.8)",
             "rgba(31, 119, 180, 0.8)",
             "rgba(31, 119, 180, 0.8)"
            ]
           },
           "name": "Trade P&L",
           "type": "bar",
           "x": {
            "bdata": "AAECAwQFBgcICQoLDA0ODxAREhMUFRYXGBkaGxwdHh8gIQ==",
            "dtype": "i1"
           },
           "xaxis": "x2",
           "y": {
            "bdata": "mpmZmZmZuT9mJIA29L3bP2YoBte+wNE/mpmZmZmZuT8AAAAAAAAAAGaK9ERjB9M/AHi8hKrmqb+amZmZmZm5PzTLecrdq60/mlG68o7dsT+a8ScB/AK+P2bmSkSacdU/AHS7de/T0r+aFa8Oo67cvwDPrM1M7N8/AHEoVwBH0z/NxIilLxrKPzPQ4twGUOI/M4N5ghqYy78zpnlTtxDjP2Yy9UdkXvq/TU1O4pHq579mhsUy+ge2v03z01WjQOS/gCdaB1046b8AcpfJbF7YP4BVwgLU1eE/aGbk004Alj/Nq/JFdIzgv6CZqzZzsXI/GsUUANIJ8z8zU7qthD3nP80KNNbOosE/zdTT9ToTwT8=",
            "dtype": "f8"
           },
           "yaxis": "y2"
          },
          {
           "line": {
            "color": "rgba(60, 179, 113, 0.9)",
            "width": 2
           },
           "name": "Cumulative P&L",
           "type": "scatter",
           "x": {
            "bdata": "AAECAwQFBgcICQoLDA0ODxAREhMUFRYXGBkaGxwdHh8gIQ==",
            "dtype": "i1"
           },
           "xaxis": "x2",
           "y": {
            "bdata": "AAAAAAAAAABmJIA29L3bP2Ymw4ZZv+Y/mVn2uYzy6T+ZWfa5jPLpP2ZPOC4fu/E/pmsS2unr8D9ABaxzg4XyP5rT/2HicvM/tHgrUbuQ9D/O9z0R63D2P2ixUKJRzfs/aNThxFUY9z8DHmwCWtnvP8JCoTTA5/c/Al9rSoC5/D+cdxw/xvz/P9vvxtZkkgRAqFefLuPYAkA1wX0DEZ0HQARQBr+92/Q/u1K+m+nM4T/cQ8uq1BfeP3xFuQHk0sS/33jIBxZt7r/fv/yi3z3iv8CXmg7oAoq/EDUumbX9gT/58o1vfUTgv8abIIkaH+C/bu4Id4n05T/QoGESB5n2PyoiKO1gzfg/xJziS8jv+j8=",
            "dtype": "f8"
           },
           "yaxis": "y2"
          }
         ]
        },
        {
         "data": [
          {
           "line": {
            "color": "rgba(60, 179, 113, 0.9)",
            "dash": "dot",
            "width": 2
           },
           "name": "Mid Price (Estimated)",
           "type": "scatter",
           "x": {
            "bdata": "AAECAwQFBgcICQoLDA0ODxAREhMUFRYXGBkaGxwdHh8gISI=",
            "dtype": "i1"
           },
           "xaxis": "x",
           "y": {
            "bdata": "gNHvJb/4WEChxAdfE+5YQN8klwa54lhA9ltPBy3aWECPYPkixNVYQLPu1x9l4lhAJFeHSijfWEAJUu9IbOBYQDZpnDMd41hAH0XxtBTkWEDto2iXtuNYQK2xef0w3FhAZ4809ZrlWEA7QQajTPFYQPZcbImo5lhAe09PiTvgWED8N/Tckd5YQIq+FlWG2FhAZgQIE+TbWED8XSOkW9dYQGIlFKNX5VhAGbj1/xbtWEASG5QMlO5YQB0dcm5H9VhAlqRPG3z8WEAY2DLnAPlYQNsye2Ho81hA31eqLYn0WECxYqimLfpYQKWkbEEy+1hAQ17ERTvxWEB7vGWxOOxYQNKiiUPg61hAPOKwD4XrWECZA3SkRfhYQA==",
            "dtype": "f8"
           },
           "yaxis": "y"
          },
          {
           "line": {
            "color": "rgba(178, 34, 34, 0.9)",
            "width": 2
           },
           "name": "Bid",
           "type": "scatter",
           "x": {
            "bdata": "AAECAwQFBgcICQoLDA0ODxAREhMUFRYXGBkaGxwdHh8gISI=",
            "dtype": "i1"
           },
           "xaxis": "x",
           "y": {
            "bdata": "GmuJv1jyWEA7XqH4rOdYQHm+MKBS3FhAkPXooMbTWEAp+pK8Xc9YQE2Icbn+21hAvvAg5MHYWECj64jiBdpYQNACNs223FhAud6KTq7dWECHPQIxUN1YQEdLE5fK1VhAASnOjjTfWEDV2p885upYQJD2BSNC4FhAFenoItXZWECW0Y12K9hYQCRYsO4f0lhAAJ6hrH3VWECW97w99dBYQPy+rTzx3lhAs1GPmbDmWECstC2mLehYQLe2Cwjh7lhAMD7ptBX2WECyccyAmvJYQHXMFPuB7VhAefFDxyLuWEBL/EFAx/NYQD8+BtvL9FhA3fdd39TqWEAVVv9K0uVYQGw8I9155VhA1ntKqR7lWEAznQ0+3/FYQA==",
            "dtype": "f8"
           },
           "yaxis": "y"
          },
          {
           "line": {
            "color": "rgba(70, 130, 180, 0.9)",
            "width": 2
           },
           "name": "Ask",
           "type": "scatter",
           "x": {
            "bdata": "AAECAwQFBgcICQoLDA0ODxAREhMUFRYXGBkaGxwdHh8gISI=",
            "dtype": "i1"
           },
           "xaxis": "x",
           "y": {
            "bdata": "5jdWjCX/WEAHK27FefRYQEWL/Wwf6VhAXMK1bZPgWED1xl+JKtxYQBlVPobL6FhAir3tsI7lWEBvuFWv0uZYQJzPApqD6VhAhatXG3vqWEBTCs/9HOpYQBMY4GOX4lhAzfWaWwHsWEChp2wJs/dYQFzD0u8O7VhA4bW176HmWEBinlpD+ORYQPAkfbvs3lhAzGpueUriWEBixIkKwt1YQMiLegm+61hAfx5cZn3zWEB4gfpy+vRYQIOD2NSt+1hA/Aq2geICWUB+PplNZ/9YQEGZ4cdO+lhARb4QlO/6WEAXyQ4NlABZQAsL06eYAVlAqcQqrKH3WEDhIswXn/JYQDgJ8KlG8lhAokgXduvxWED/adoKrP5YQA==",
            "dtype": "f8"
           },
           "yaxis": "y"
          },
          {
           "marker": {
            "color": [
             "rgba(31, 119, 180, 0.8)",
             "rgba(31, 119, 180, 0.8)",
             "rgba(31, 119, 180, 0.8)",
             "rgba(31, 119, 180, 0.8)",
             "rgba(31, 119, 180, 0.8)",
             "rgba(31, 119, 180, 0.8)",
             "rgba(178, 34, 34, 0.8)",
             "rgba(31, 119, 180, 0.8)",
             "rgba(31, 119, 180, 0.8)",
             "rgba(31, 119, 180, 0.8)",
             "rgba(31, 119, 180, 0.8)",
             "rgba(31, 119, 180, 0.8)",
             "rgba(178, 34, 34, 0.8)",
             "rgba(178, 34, 34, 0.8)",
             "rgba(31, 119, 180, 0.8)",
             "rgba(31, 119, 180, 0.8)",
             "rgba(31, 119, 180, 0.8)",
             "rgba(31, 119, 180, 0.8)",
             "rgba(178, 34, 34, 0.8)",
             "rgba(31, 119, 180, 0.8)",
             "rgba(178, 34, 34, 0.8)",
             "rgba(178, 34, 34, 0.8)",
             "rgba(178, 34, 34, 0.8)",
             "rgba(178, 34, 34, 0.8)",
             "rgba(178, 34, 34, 0.8)",
             "rgba(31, 119, 180, 0.8)",
             "rgba(31, 119, 180, 0.8)",
             "rgba(31, 119, 180, 0.8)",
             "rgba(178, 34, 34, 0.8)",
             "rgba(31, 119, 180, 0.8)",
             "rgba(31, 119, 180, 0.8)",
             "rgba(31, 119, 180, 0.8)",
             "rgba(31, 119, 180, 0.8)",
             "rgba(31, 119, 180, 0.8)",
             "rgba(178, 34, 34, 0.8)"
            ]
           },
           "name": "Trade P&L",
           "type": "bar",
           "x": {
            "bdata": "AAECAwQFBgcICQoLDA0ODxAREhMUFRYXGBkaGxwdHh8gISI=",
            "dtype": "i1"
           },
           "xaxis": "x2",
           "y": {
            "bdata": "mpmZmZmZuT9mJIA29L3bP2YoBte+wNE/mpmZmZmZuT8AAAAAAAAAAGaK9ERjB9M/AHi8hKrmqb+amZmZmZm5PzTLecrdq60/mlG68o7dsT+a8ScB/AK+P2bmSkSacdU/AHS7de/T0r+aFa8Oo67cvwDPrM1M7N8/AHEoVwBH0z/NxIilLxrKPzPQ4twGUOI/M4N5ghqYy78zpnlTtxDjP2Yy9UdkXvq/TU1O4pHq579mhsUy+ge2v03z01WjQOS/gCdaB1046b8AcpfJbF7YP4BVwgLU1eE/aGbk004Alj/Nq/JFdIzgv6CZqzZzsXI/GsUUANIJ8z8zU7qthD3nP80KNNbOosE/zdTT9ToTwT9NNaC0QK7svw==",
            "dtype": "f8"
           },
           "yaxis": "y2"
          },
          {
           "line": {
            "color": "rgba(60, 179, 113, 0.9)",
            "width": 2
           },
           "name": "Cumulative P&L",
           "type": "scatter",
           "x": {
            "bdata": "AAECAwQFBgcICQoLDA0ODxAREhMUFRYXGBkaGxwdHh8gISI=",
            "dtype": "i1"
           },
           "xaxis": "x2",
           "y": {
            "bdata": "AAAAAAAAAABmJIA29L3bP2Ymw4ZZv+Y/mVn2uYzy6T+ZWfa5jPLpP2ZPOC4fu/E/pmsS2unr8D9ABaxzg4XyP5rT/2HicvM/tHgrUbuQ9D/O9z0R63D2P2ixUKJRzfs/aNThxFUY9z8DHmwCWtnvP8JCoTTA5/c/Al9rSoC5/D+cdxw/xvz/P9vvxtZkkgRAqFefLuPYAkA1wX0DEZ0HQARQBr+92/Q/u1K+m+nM4T/cQ8uq1BfeP3xFuQHk0sS/33jIBxZt7r/fv/yi3z3iv8CXmg7oAoq/EDUumbX9gT/58o1vfUTgv8abIIkaH+C/bu4Id4n05T/QoGESB5n2PyoiKO1gzfg/xJziS8jv+j87BCXjTzHpPw==",
            "dtype": "f8"
           },
           "yaxis": "y2"
          }
         ]
        },
        {
         "data": [
          {
           "line": {
            "color": "rgba(60, 179, 113, 0.9)",
            "dash": "dot",
            "width": 2
           },
           "name": "Mid Price (Estimated)",
           "type": "scatter",
           "x": {
            "bdata": "AAECAwQFBgcICQoLDA0ODxAREhMUFRYXGBkaGxwdHh8gISIj",
            "dtype": "i1"
           },
           "xaxis": "x",
           "y": {
            "bdata": "gNHvJb/4WEChxAdfE+5YQN8klwa54lhA9ltPBy3aWECPYPkixNVYQLPu1x9l4lhAJFeHSijfWEAJUu9IbOBYQDZpnDMd41hAH0XxtBTkWEDto2iXtuNYQK2xef0w3FhAZ4809ZrlWEA7QQajTPFYQPZcbImo5lhAe09PiTvgWED8N/Tckd5YQIq+FlWG2FhAZgQIE+TbWED8XSOkW9dYQGIlFKNX5VhAGbj1/xbtWEASG5QMlO5YQB0dcm5H9VhAlqRPG3z8WEAY2DLnAPlYQNsye2Ho81hA31eqLYn0WECxYqimLfpYQKWkbEEy+1hAQ17ERTvxWEB7vGWxOOxYQNKiiUPg61hAPOKwD4XrWECZA3SkRfhYQNyHlZuH71hA",
            "dtype": "f8"
           },
           "yaxis": "y"
          },
          {
           "line": {
            "color": "rgba(178, 34, 34, 0.9)",
            "width": 2
           },
           "name": "Bid",
           "type": "scatter",
           "x": {
            "bdata": "AAECAwQFBgcICQoLDA0ODxAREhMUFRYXGBkaGxwdHh8gISIj",
            "dtype": "i1"
           },
           "xaxis": "x",
           "y": {
            "bdata": "GmuJv1jyWEA7XqH4rOdYQHm+MKBS3FhAkPXooMbTWEAp+pK8Xc9YQE2Icbn+21hAvvAg5MHYWECj64jiBdpYQNACNs223FhAud6KTq7dWECHPQIxUN1YQEdLE5fK1VhAASnOjjTfWEDV2p885upYQJD2BSNC4FhAFenoItXZWECW0Y12K9hYQCRYsO4f0lhAAJ6hrH3VWECW97w99dBYQPy+rTzx3lhAs1GPmbDmWECstC2mLehYQLe2Cwjh7lhAMD7ptBX2WECyccyAmvJYQHXMFPuB7VhAefFDxyLuWEBL/EFAx/NYQD8+BtvL9FhA3fdd39TqWEAVVv9K0uVYQGw8I9155VhA1ntKqR7lWEAznQ0+3/FYQHYhLzUh6VhA",
            "dtype": "f8"
           },
           "yaxis": "y"
          },
          {
           "line": {
            "color": "rgba(70, 130, 180, 0.9)",
            "width": 2
           },
           "name": "Ask",
           "type": "scatter",
           "x": {
            "bdata": "AAECAwQFBgcICQoLDA0ODxAREhMUFRYXGBkaGxwdHh8gISIj",
            "dtype": "i1"
           },
           "xaxis": "x",
           "y": {
            "bdata": "5jdWjCX/WEAHK27FefRYQEWL/Wwf6VhAXMK1bZPgWED1xl+JKtxYQBlVPobL6FhAir3tsI7lWEBvuFWv0uZYQJzPApqD6VhAhatXG3vqWEBTCs/9HOpYQBMY4GOX4lhAzfWaWwHsWEChp2wJs/dYQFzD0u8O7VhA4bW176HmWEBinlpD+ORYQPAkfbvs3lhAzGpueUriWEBixIkKwt1YQMiLegm+61hAfx5cZn3zWEB4gfpy+vRYQIOD2NSt+1hA/Aq2geICWUB+PplNZ/9YQEGZ4cdO+lhARb4QlO/6WEAXyQ4NlABZQAsL06eYAVlAqcQqrKH3WEDhIswXn/JYQDgJ8KlG8lhAokgXduvxWED/adoKrP5YQELu+wHu9VhA",
            "dtype": "f8"
           },
           "yaxis": "y"
          },
          {
           "marker": {
            "color": [
             "rgba(31, 119, 180, 0.8)",
             "rgba(31, 119, 180, 0.8)",
             "rgba(31, 119, 180, 0.8)",
             "rgba(31, 119, 180, 0.8)",
             "rgba(31, 119, 180, 0.8)",
             "rgba(31, 119, 180, 0.8)",
             "rgba(178, 34, 34, 0.8)",
             "rgba(31, 119, 180, 0.8)",
             "rgba(31, 119, 180, 0.8)",
             "rgba(31, 119, 180, 0.8)",
             "rgba(31, 119, 180, 0.8)",
             "rgba(31, 119, 180, 0.8)",
             "rgba(178, 34, 34, 0.8)",
             "rgba(178, 34, 34, 0.8)",
             "rgba(31, 119, 180, 0.8)",
             "rgba(31, 119, 180, 0.8)",
             "rgba(31, 119, 180, 0.8)",
             "rgba(31, 119, 180, 0.8)",
             "rgba(178, 34, 34, 0.8)",
             "rgba(31, 119, 180, 0.8)",
             "rgba(178, 34, 34, 0.8)",
             "rgba(178, 34, 34, 0.8)",
             "rgba(178, 34, 34, 0.8)",
             "rgba(178, 34, 34, 0.8)",
             "rgba(178, 34, 34, 0.8)",
             "rgba(31, 119, 180, 0.8)",
             "rgba(31, 119, 180, 0.8)",
             "rgba(31, 119, 180, 0.8)",
             "rgba(178, 34, 34, 0.8)",
             "rgba(31, 119, 180, 0.8)",
             "rgba(31, 119, 180, 0.8)",
             "rgba(31, 119, 180, 0.8)",
             "rgba(31, 119, 180, 0.8)",
             "rgba(31, 119, 180, 0.8)",
             "rgba(178, 34, 34, 0.8)",
             "rgba(31, 119, 180, 0.8)"
            ]
           },
           "name": "Trade P&L",
           "type": "bar",
           "x": {
            "bdata": "AAECAwQFBgcICQoLDA0ODxAREhMUFRYXGBkaGxwdHh8gISIj",
            "dtype": "i1"
           },
           "xaxis": "x2",
           "y": {
            "bdata": "mpmZmZmZuT9mJIA29L3bP2YoBte+wNE/mpmZmZmZuT8AAAAAAAAAAGaK9ERjB9M/AHi8hKrmqb+amZmZmZm5PzTLecrdq60/mlG68o7dsT+a8ScB/AK+P2bmSkSacdU/AHS7de/T0r+aFa8Oo67cvwDPrM1M7N8/AHEoVwBH0z/NxIilLxrKPzPQ4twGUOI/M4N5ghqYy78zpnlTtxDjP2Yy9UdkXvq/TU1O4pHq579mhsUy+ge2v03z01WjQOS/gCdaB1046b8AcpfJbF7YP4BVwgLU1eE/aGbk004Alj/Nq/JFdIzgv6CZqzZzsXI/GsUUANIJ8z8zU7qthD3nP80KNNbOosE/zdTT9ToTwT9NNaC0QK7svzOtKvBEr+Q/",
            "dtype": "f8"
           },
           "yaxis": "y2"
          },
          {
           "line": {
            "color": "rgba(60, 179, 113, 0.9)",
            "width": 2
           },
           "name": "Cumulative P&L",
           "type": "scatter",
           "x": {
            "bdata": "AAECAwQFBgcICQoLDA0ODxAREhMUFRYXGBkaGxwdHh8gISIj",
            "dtype": "i1"
           },
           "xaxis": "x2",
           "y": {
            "bdata": "AAAAAAAAAABmJIA29L3bP2Ymw4ZZv+Y/mVn2uYzy6T+ZWfa5jPLpP2ZPOC4fu/E/pmsS2unr8D9ABaxzg4XyP5rT/2HicvM/tHgrUbuQ9D/O9z0R63D2P2ixUKJRzfs/aNThxFUY9z8DHmwCWtnvP8JCoTTA5/c/Al9rSoC5/D+cdxw/xvz/P9vvxtZkkgRAqFefLuPYAkA1wX0DEZ0HQARQBr+92/Q/u1K+m+nM4T/cQ8uq1BfeP3xFuQHk0sS/33jIBxZt7r/fv/yi3z3iv8CXmg7oAoq/EDUumbX9gT/58o1vfUTgv8abIIkaH+C/bu4Id4n05T/QoGESB5n2PyoiKO1gzfg/xJziS8jv+j87BCXjTzHpP7fYp2lK8PY/",
            "dtype": "f8"
           },
           "yaxis": "y2"
          }
         ]
        },
        {
         "data": [
          {
           "line": {
            "color": "rgba(60, 179, 113, 0.9)",
            "dash": "dot",
            "width": 2
           },
           "name": "Mid Price (Estimated)",
           "type": "scatter",
           "x": {
            "bdata": "AAECAwQFBgcICQoLDA0ODxAREhMUFRYXGBkaGxwdHh8gISIjJA==",
            "dtype": "i1"
           },
           "xaxis": "x",
           "y": {
            "bdata": "gNHvJb/4WEChxAdfE+5YQN8klwa54lhA9ltPBy3aWECPYPkixNVYQLPu1x9l4lhAJFeHSijfWEAJUu9IbOBYQDZpnDMd41hAH0XxtBTkWEDto2iXtuNYQK2xef0w3FhAZ4809ZrlWEA7QQajTPFYQPZcbImo5lhAe09PiTvgWED8N/Tckd5YQIq+FlWG2FhAZgQIE+TbWED8XSOkW9dYQGIlFKNX5VhAGbj1/xbtWEASG5QMlO5YQB0dcm5H9VhAlqRPG3z8WEAY2DLnAPlYQNsye2Ho81hA31eqLYn0WECxYqimLfpYQKWkbEEy+1hAQ17ERTvxWEB7vGWxOOxYQNKiiUPg61hAPOKwD4XrWECZA3SkRfhYQNyHlZuH71hArKawu+TyWEA=",
            "dtype": "f8"
           },
           "yaxis": "y"
          },
          {
           "line": {
            "color": "rgba(178, 34, 34, 0.9)",
            "width": 2
           },
           "name": "Bid",
           "type": "scatter",
           "x": {
            "bdata": "AAECAwQFBgcICQoLDA0ODxAREhMUFRYXGBkaGxwdHh8gISIjJA==",
            "dtype": "i1"
           },
           "xaxis": "x",
           "y": {
            "bdata": "GmuJv1jyWEA7XqH4rOdYQHm+MKBS3FhAkPXooMbTWEAp+pK8Xc9YQE2Icbn+21hAvvAg5MHYWECj64jiBdpYQNACNs223FhAud6KTq7dWECHPQIxUN1YQEdLE5fK1VhAASnOjjTfWEDV2p885upYQJD2BSNC4FhAFenoItXZWECW0Y12K9hYQCRYsO4f0lhAAJ6hrH3VWECW97w99dBYQPy+rTzx3lhAs1GPmbDmWECstC2mLehYQLe2Cwjh7lhAMD7ptBX2WECyccyAmvJYQHXMFPuB7VhAefFDxyLuWEBL/EFAx/NYQD8+BtvL9FhA3fdd39TqWEAVVv9K0uVYQGw8I9155VhA1ntKqR7lWEAznQ0+3/FYQHYhLzUh6VhARkBKVX7sWEA=",
            "dtype": "f8"
           },
           "yaxis": "y"
          },
          {
           "line": {
            "color": "rgba(70, 130, 180, 0.9)",
            "width": 2
           },
           "name": "Ask",
           "type": "scatter",
           "x": {
            "bdata": "AAECAwQFBgcICQoLDA0ODxAREhMUFRYXGBkaGxwdHh8gISIjJA==",
            "dtype": "i1"
           },
           "xaxis": "x",
           "y": {
            "bdata": "5jdWjCX/WEAHK27FefRYQEWL/Wwf6VhAXMK1bZPgWED1xl+JKtxYQBlVPobL6FhAir3tsI7lWEBvuFWv0uZYQJzPApqD6VhAhatXG3vqWEBTCs/9HOpYQBMY4GOX4lhAzfWaWwHsWEChp2wJs/dYQFzD0u8O7VhA4bW176HmWEBinlpD+ORYQPAkfbvs3lhAzGpueUriWEBixIkKwt1YQMiLegm+61hAfx5cZn3zWEB4gfpy+vRYQIOD2NSt+1hA/Aq2geICWUB+PplNZ/9YQEGZ4cdO+lhARb4QlO/6WEAXyQ4NlABZQAsL06eYAVlAqcQqrKH3WEDhIswXn/JYQDgJ8KlG8lhAokgXduvxWED/adoKrP5YQELu+wHu9VhAEg0XIkv5WEA=",
            "dtype": "f8"
           },
           "yaxis": "y"
          },
          {
           "marker": {
            "color": [
             "rgba(31, 119, 180, 0.8)",
             "rgba(31, 119, 180, 0.8)",
             "rgba(31, 119, 180, 0.8)",
             "rgba(31, 119, 180, 0.8)",
             "rgba(31, 119, 180, 0.8)",
             "rgba(31, 119, 180, 0.8)",
             "rgba(178, 34, 34, 0.8)",
             "rgba(31, 119, 180, 0.8)",
             "rgba(31, 119, 180, 0.8)",
             "rgba(31, 119, 180, 0.8)",
             "rgba(31, 119, 180, 0.8)",
             "rgba(31, 119, 180, 0.8)",
             "rgba(178, 34, 34, 0.8)",
             "rgba(178, 34, 34, 0.8)",
             "rgba(31, 119, 180, 0.8)",
             "rgba(31, 119, 180, 0.8)",
             "rgba(31, 119, 180, 0.8)",
             "rgba(31, 119, 180, 0.8)",
             "rgba(178, 34, 34, 0.8)",
             "rgba(31, 119, 180, 0.8)",
             "rgba(178, 34, 34, 0.8)",
             "rgba(178, 34, 34, 0.8)",
             "rgba(178, 34, 34, 0.8)",
             "rgba(178, 34, 34, 0.8)",
             "rgba(178, 34, 34, 0.8)",
             "rgba(31, 119, 180, 0.8)",
             "rgba(31, 119, 180, 0.8)",
             "rgba(31, 119, 180, 0.8)",
             "rgba(178, 34, 34, 0.8)",
             "rgba(31, 119, 180, 0.8)",
             "rgba(31, 119, 180, 0.8)",
             "rgba(31, 119, 180, 0.8)",
             "rgba(31, 119, 180, 0.8)",
             "rgba(31, 119, 180, 0.8)",
             "rgba(178, 34, 34, 0.8)",
             "rgba(31, 119, 180, 0.8)",
             "rgba(178, 34, 34, 0.8)"
            ]
           },
           "name": "Trade P&L",
           "type": "bar",
           "x": {
            "bdata": "AAECAwQFBgcICQoLDA0ODxAREhMUFRYXGBkaGxwdHh8gISIjJA==",
            "dtype": "i1"
           },
           "xaxis": "x2",
           "y": {
            "bdata": "mpmZmZmZuT9mJIA29L3bP2YoBte+wNE/mpmZmZmZuT8AAAAAAAAAAGaK9ERjB9M/AHi8hKrmqb+amZmZmZm5PzTLecrdq60/mlG68o7dsT+a8ScB/AK+P2bmSkSacdU/AHS7de/T0r+aFa8Oo67cvwDPrM1M7N8/AHEoVwBH0z/NxIilLxrKPzPQ4twGUOI/M4N5ghqYy78zpnlTtxDjP2Yy9UdkXvq/TU1O4pHq579mhsUy+ge2v03z01WjQOS/gCdaB1046b8AcpfJbF7YP4BVwgLU1eE/aGbk004Alj/Nq/JFdIzgv6CZqzZzsXI/GsUUANIJ8z8zU7qthD3nP80KNNbOosE/zdTT9ToTwT9NNaC0QK7svzOtKvBEr+Q/zEywV8+Hrb8=",
            "dtype": "f8"
           },
           "yaxis": "y2"
          },
          {
           "line": {
            "color": "rgba(60, 179, 113, 0.9)",
            "width": 2
           },
           "name": "Cumulative P&L",
           "type": "scatter",
           "x": {
            "bdata": "AAECAwQFBgcICQoLDA0ODxAREhMUFRYXGBkaGxwdHh8gISIjJA==",
            "dtype": "i1"
           },
           "xaxis": "x2",
           "y": {
            "bdata": "AAAAAAAAAABmJIA29L3bP2Ymw4ZZv+Y/mVn2uYzy6T+ZWfa5jPLpP2ZPOC4fu/E/pmsS2unr8D9ABaxzg4XyP5rT/2HicvM/tHgrUbuQ9D/O9z0R63D2P2ixUKJRzfs/aNThxFUY9z8DHmwCWtnvP8JCoTTA5/c/Al9rSoC5/D+cdxw/xvz/P9vvxtZkkgRAqFefLuPYAkA1wX0DEZ0HQARQBr+92/Q/u1K+m+nM4T/cQ8uq1BfeP3xFuQHk0sS/33jIBxZt7r/fv/yi3z3iv8CXmg7oAoq/EDUumbX9gT/58o1vfUTgv8abIIkaH+C/bu4Id4n05T/QoGESB5n2PyoiKO1gzfg/xJziS8jv+j87BCXjTzHpP7fYp2lK8PY/UVbq7gsE9j8=",
            "dtype": "f8"
           },
           "yaxis": "y2"
          }
         ]
        },
        {
         "data": [
          {
           "line": {
            "color": "rgba(60, 179, 113, 0.9)",
            "dash": "dot",
            "width": 2
           },
           "name": "Mid Price (Estimated)",
           "type": "scatter",
           "x": {
            "bdata": "AAECAwQFBgcICQoLDA0ODxAREhMUFRYXGBkaGxwdHh8gISIjJCU=",
            "dtype": "i1"
           },
           "xaxis": "x",
           "y": {
            "bdata": "gNHvJb/4WEChxAdfE+5YQN8klwa54lhA9ltPBy3aWECPYPkixNVYQLPu1x9l4lhAJFeHSijfWEAJUu9IbOBYQDZpnDMd41hAH0XxtBTkWEDto2iXtuNYQK2xef0w3FhAZ4809ZrlWEA7QQajTPFYQPZcbImo5lhAe09PiTvgWED8N/Tckd5YQIq+FlWG2FhAZgQIE+TbWED8XSOkW9dYQGIlFKNX5VhAGbj1/xbtWEASG5QMlO5YQB0dcm5H9VhAlqRPG3z8WEAY2DLnAPlYQNsye2Ho81hA31eqLYn0WECxYqimLfpYQKWkbEEy+1hAQ17ERTvxWEB7vGWxOOxYQNKiiUPg61hAPOKwD4XrWECZA3SkRfhYQNyHlZuH71hArKawu+TyWECUzppDjfxYQA==",
            "dtype": "f8"
           },
           "yaxis": "y"
          },
          {
           "line": {
            "color": "rgba(178, 34, 34, 0.9)",
            "width": 2
           },
           "name": "Bid",
           "type": "scatter",
           "x": {
            "bdata": "AAECAwQFBgcICQoLDA0ODxAREhMUFRYXGBkaGxwdHh8gISIjJCU=",
            "dtype": "i1"
           },
           "xaxis": "x",
           "y": {
            "bdata": "GmuJv1jyWEA7XqH4rOdYQHm+MKBS3FhAkPXooMbTWEAp+pK8Xc9YQE2Icbn+21hAvvAg5MHYWECj64jiBdpYQNACNs223FhAud6KTq7dWECHPQIxUN1YQEdLE5fK1VhAASnOjjTfWEDV2p885upYQJD2BSNC4FhAFenoItXZWECW0Y12K9hYQCRYsO4f0lhAAJ6hrH3VWECW97w99dBYQPy+rTzx3lhAs1GPmbDmWECstC2mLehYQLe2Cwjh7lhAMD7ptBX2WECyccyAmvJYQHXMFPuB7VhAefFDxyLuWEBL/EFAx/NYQD8+BtvL9FhA3fdd39TqWEAVVv9K0uVYQGw8I9155VhA1ntKqR7lWEAznQ0+3/FYQHYhLzUh6VhARkBKVX7sWEAuaDTdJvZYQA==",
            "dtype": "f8"
           },
           "yaxis": "y"
          },
          {
           "line": {
            "color": "rgba(70, 130, 180, 0.9)",
            "width": 2
           },
           "name": "Ask",
           "type": "scatter",
           "x": {
            "bdata": "AAECAwQFBgcICQoLDA0ODxAREhMUFRYXGBkaGxwdHh8gISIjJCU=",
            "dtype": "i1"
           },
           "xaxis": "x",
           "y": {
            "bdata": "5jdWjCX/WEAHK27FefRYQEWL/Wwf6VhAXMK1bZPgWED1xl+JKtxYQBlVPobL6FhAir3tsI7lWEBvuFWv0uZYQJzPApqD6VhAhatXG3vqWEBTCs/9HOpYQBMY4GOX4lhAzfWaWwHsWEChp2wJs/dYQFzD0u8O7VhA4bW176HmWEBinlpD+ORYQPAkfbvs3lhAzGpueUriWEBixIkKwt1YQMiLegm+61hAfx5cZn3zWEB4gfpy+vRYQIOD2NSt+1hA/Aq2geICWUB+PplNZ/9YQEGZ4cdO+lhARb4QlO/6WEAXyQ4NlABZQAsL06eYAVlAqcQqrKH3WEDhIswXn/JYQDgJ8KlG8lhAokgXduvxWED/adoKrP5YQELu+wHu9VhAEg0XIkv5WED6NAGq8wJZQA==",
            "dtype": "f8"
           },
           "yaxis": "y"
          },
          {
           "marker": {
            "color": [
             "rgba(31, 119, 180, 0.8)",
             "rgba(31, 119, 180, 0.8)",
             "rgba(31, 119, 180, 0.8)",
             "rgba(31, 119, 180, 0.8)",
             "rgba(31, 119, 180, 0.8)",
             "rgba(31, 119, 180, 0.8)",
             "rgba(178, 34, 34, 0.8)",
             "rgba(31, 119, 180, 0.8)",
             "rgba(31, 119, 180, 0.8)",
             "rgba(31, 119, 180, 0.8)",
             "rgba(31, 119, 180, 0.8)",
             "rgba(31, 119, 180, 0.8)",
             "rgba(178, 34, 34, 0.8)",
             "rgba(178, 34, 34, 0.8)",
             "rgba(31, 119, 180, 0.8)",
             "rgba(31, 119, 180, 0.8)",
             "rgba(31, 119, 180, 0.8)",
             "rgba(31, 119, 180, 0.8)",
             "rgba(178, 34, 34, 0.8)",
             "rgba(31, 119, 180, 0.8)",
             "rgba(178, 34, 34, 0.8)",
             "rgba(178, 34, 34, 0.8)",
             "rgba(178, 34, 34, 0.8)",
             "rgba(178, 34, 34, 0.8)",
             "rgba(178, 34, 34, 0.8)",
             "rgba(31, 119, 180, 0.8)",
             "rgba(31, 119, 180, 0.8)",
             "rgba(31, 119, 180, 0.8)",
             "rgba(178, 34, 34, 0.8)",
             "rgba(31, 119, 180, 0.8)",
             "rgba(31, 119, 180, 0.8)",
             "rgba(31, 119, 180, 0.8)",
             "rgba(31, 119, 180, 0.8)",
             "rgba(31, 119, 180, 0.8)",
             "rgba(178, 34, 34, 0.8)",
             "rgba(31, 119, 180, 0.8)",
             "rgba(178, 34, 34, 0.8)",
             "rgba(178, 34, 34, 0.8)"
            ]
           },
           "name": "Trade P&L",
           "type": "bar",
           "x": {
            "bdata": "AAECAwQFBgcICQoLDA0ODxAREhMUFRYXGBkaGxwdHh8gISIjJCU=",
            "dtype": "i1"
           },
           "xaxis": "x2",
           "y": {
            "bdata": "mpmZmZmZuT9mJIA29L3bP2YoBte+wNE/mpmZmZmZuT8AAAAAAAAAAGaK9ERjB9M/AHi8hKrmqb+amZmZmZm5PzTLecrdq60/mlG68o7dsT+a8ScB/AK+P2bmSkSacdU/AHS7de/T0r+aFa8Oo67cvwDPrM1M7N8/AHEoVwBH0z/NxIilLxrKPzPQ4twGUOI/M4N5ghqYy78zpnlTtxDjP2Yy9UdkXvq/TU1O4pHq579mhsUy+ge2v03z01WjQOS/gCdaB1046b8AcpfJbF7YP4BVwgLU1eE/aGbk004Alj/Nq/JFdIzgv6CZqzZzsXI/GsUUANIJ8z8zU7qthD3nP80KNNbOosE/zdTT9ToTwT9NNaC0QK7svzOtKvBEr+Q/zEywV8+Hrb/NnByh3B3gvw==",
            "dtype": "f8"
           },
           "yaxis": "y2"
          },
          {
           "line": {
            "color": "rgba(60, 179, 113, 0.9)",
            "width": 2
           },
           "name": "Cumulative P&L",
           "type": "scatter",
           "x": {
            "bdata": "AAECAwQFBgcICQoLDA0ODxAREhMUFRYXGBkaGxwdHh8gISIjJCU=",
            "dtype": "i1"
           },
           "xaxis": "x2",
           "y": {
            "bdata": "AAAAAAAAAABmJIA29L3bP2Ymw4ZZv+Y/mVn2uYzy6T+ZWfa5jPLpP2ZPOC4fu/E/pmsS2unr8D9ABaxzg4XyP5rT/2HicvM/tHgrUbuQ9D/O9z0R63D2P2ixUKJRzfs/aNThxFUY9z8DHmwCWtnvP8JCoTTA5/c/Al9rSoC5/D+cdxw/xvz/P9vvxtZkkgRAqFefLuPYAkA1wX0DEZ0HQARQBr+92/Q/u1K+m+nM4T/cQ8uq1BfeP3xFuQHk0sS/33jIBxZt7r/fv/yi3z3iv8CXmg7oAoq/EDUumbX9gT/58o1vfUTgv8abIIkaH+C/bu4Id4n05T/QoGESB5n2PyoiKO1gzfg/xJziS8jv+j87BCXjTzHpP7fYp2lK8PY/UVbq7gsE9j/VD7g8O+rrPw==",
            "dtype": "f8"
           },
           "yaxis": "y2"
          }
         ]
        },
        {
         "data": [
          {
           "line": {
            "color": "rgba(60, 179, 113, 0.9)",
            "dash": "dot",
            "width": 2
           },
           "name": "Mid Price (Estimated)",
           "type": "scatter",
           "x": {
            "bdata": "AAECAwQFBgcICQoLDA0ODxAREhMUFRYXGBkaGxwdHh8gISIjJCUm",
            "dtype": "i1"
           },
           "xaxis": "x",
           "y": {
            "bdata": "gNHvJb/4WEChxAdfE+5YQN8klwa54lhA9ltPBy3aWECPYPkixNVYQLPu1x9l4lhAJFeHSijfWEAJUu9IbOBYQDZpnDMd41hAH0XxtBTkWEDto2iXtuNYQK2xef0w3FhAZ4809ZrlWEA7QQajTPFYQPZcbImo5lhAe09PiTvgWED8N/Tckd5YQIq+FlWG2FhAZgQIE+TbWED8XSOkW9dYQGIlFKNX5VhAGbj1/xbtWEASG5QMlO5YQB0dcm5H9VhAlqRPG3z8WEAY2DLnAPlYQNsye2Ho81hA31eqLYn0WECxYqimLfpYQKWkbEEy+1hAQ17ERTvxWEB7vGWxOOxYQNKiiUPg61hAPOKwD4XrWECZA3SkRfhYQNyHlZuH71hArKawu+TyWECUzppDjfxYQH+7SZM3C1lA",
            "dtype": "f8"
           },
           "yaxis": "y"
          },
          {
           "line": {
            "color": "rgba(178, 34, 34, 0.9)",
            "width": 2
           },
           "name": "Bid",
           "type": "scatter",
           "x": {
            "bdata": "AAECAwQFBgcICQoLDA0ODxAREhMUFRYXGBkaGxwdHh8gISIjJCUm",
            "dtype": "i1"
           },
           "xaxis": "x",
           "y": {
            "bdata": "GmuJv1jyWEA7XqH4rOdYQHm+MKBS3FhAkPXooMbTWEAp+pK8Xc9YQE2Icbn+21hAvvAg5MHYWECj64jiBdpYQNACNs223FhAud6KTq7dWECHPQIxUN1YQEdLE5fK1VhAASnOjjTfWEDV2p885upYQJD2BSNC4FhAFenoItXZWECW0Y12K9hYQCRYsO4f0lhAAJ6hrH3VWECW97w99dBYQPy+rTzx3lhAs1GPmbDmWECstC2mLehYQLe2Cwjh7lhAMD7ptBX2WECyccyAmvJYQHXMFPuB7VhAefFDxyLuWEBL/EFAx/NYQD8+BtvL9FhA3fdd39TqWEAVVv9K0uVYQGw8I9155VhA1ntKqR7lWEAznQ0+3/FYQHYhLzUh6VhARkBKVX7sWEAuaDTdJvZYQBlV4yzRBFlA",
            "dtype": "f8"
           },
           "yaxis": "y"
          },
          {
           "line": {
            "color": "rgba(70, 130, 180, 0.9)",
            "width": 2
           },
           "name": "Ask",
           "type": "scatter",
           "x": {
            "bdata": "AAECAwQFBgcICQoLDA0ODxAREhMUFRYXGBkaGxwdHh8gISIjJCUm",
            "dtype": "i1"
           },
           "xaxis": "x",
           "y": {
            "bdata": "5jdWjCX/WEAHK27FefRYQEWL/Wwf6VhAXMK1bZPgWED1xl+JKtxYQBlVPobL6FhAir3tsI7lWEBvuFWv0uZYQJzPApqD6VhAhatXG3vqWEBTCs/9HOpYQBMY4GOX4lhAzfWaWwHsWEChp2wJs/dYQFzD0u8O7VhA4bW176HmWEBinlpD+ORYQPAkfbvs3lhAzGpueUriWEBixIkKwt1YQMiLegm+61hAfx5cZn3zWEB4gfpy+vRYQIOD2NSt+1hA/Aq2geICWUB+PplNZ/9YQEGZ4cdO+lhARb4QlO/6WEAXyQ4NlABZQAsL06eYAVlAqcQqrKH3WEDhIswXn/JYQDgJ8KlG8lhAokgXduvxWED/adoKrP5YQELu+wHu9VhAEg0XIkv5WED6NAGq8wJZQOUhsPmdEVlA",
            "dtype": "f8"
           },
           "yaxis": "y"
          },
          {
           "marker": {
            "color": [
             "rgba(31, 119, 180, 0.8)",
             "rgba(31, 119, 180, 0.8)",
             "rgba(31, 119, 180, 0.8)",
             "rgba(31, 119, 180, 0.8)",
             "rgba(31, 119, 180, 0.8)",
             "rgba(31, 119, 180, 0.8)",
             "rgba(178, 34, 34, 0.8)",
             "rgba(31, 119, 180, 0.8)",
             "rgba(31, 119, 180, 0.8)",
             "rgba(31, 119, 180, 0.8)",
             "rgba(31, 119, 180, 0.8)",
             "rgba(31, 119, 180, 0.8)",
             "rgba(178, 34, 34, 0.8)",
             "rgba(178, 34, 34, 0.8)",
             "rgba(31, 119, 180, 0.8)",
             "rgba(31, 119, 180, 0.8)",
             "rgba(31, 119, 180, 0.8)",
             "rgba(31, 119, 180, 0.8)",
             "rgba(178, 34, 34, 0.8)",
             "rgba(31, 119, 180, 0.8)",
             "rgba(178, 34, 34, 0.8)",
             "rgba(178, 34, 34, 0.8)",
             "rgba(178, 34, 34, 0.8)",
             "rgba(178, 34, 34, 0.8)",
             "rgba(178, 34, 34, 0.8)",
             "rgba(31, 119, 180, 0.8)",
             "rgba(31, 119, 180, 0.8)",
             "rgba(31, 119, 180, 0.8)",
             "rgba(178, 34, 34, 0.8)",
             "rgba(31, 119, 180, 0.8)",
             "rgba(31, 119, 180, 0.8)",
             "rgba(31, 119, 180, 0.8)",
             "rgba(31, 119, 180, 0.8)",
             "rgba(31, 119, 180, 0.8)",
             "rgba(178, 34, 34, 0.8)",
             "rgba(31, 119, 180, 0.8)",
             "rgba(178, 34, 34, 0.8)",
             "rgba(178, 34, 34, 0.8)",
             "rgba(178, 34, 34, 0.8)"
            ]
           },
           "name": "Trade P&L",
           "type": "bar",
           "x": {
            "bdata": "AAECAwQFBgcICQoLDA0ODxAREhMUFRYXGBkaGxwdHh8gISIjJCUm",
            "dtype": "i1"
           },
           "xaxis": "x2",
           "y": {
            "bdata": "mpmZmZmZuT9mJIA29L3bP2YoBte+wNE/mpmZmZmZuT8AAAAAAAAAAGaK9ERjB9M/AHi8hKrmqb+amZmZmZm5PzTLecrdq60/mlG68o7dsT+a8ScB/AK+P2bmSkSacdU/AHS7de/T0r+aFa8Oo67cvwDPrM1M7N8/AHEoVwBH0z/NxIilLxrKPzPQ4twGUOI/M4N5ghqYy78zpnlTtxDjP2Yy9UdkXvq/TU1O4pHq579mhsUy+ge2v03z01WjQOS/gCdaB1046b8AcpfJbF7YP4BVwgLU1eE/aGbk004Alj/Nq/JFdIzgv6CZqzZzsXI/GsUUANIJ8z8zU7qthD3nP80KNNbOosE/zdTT9ToTwT9NNaC0QK7svzOtKvBEr+Q/zEywV8+Hrb/NnByh3B3gv00tMFNEzOK/",
            "dtype": "f8"
           },
           "yaxis": "y2"
          },
          {
           "line": {
            "color": "rgba(60, 179, 113, 0.9)",
            "width": 2
           },
           "name": "Cumulative P&L",
           "type": "scatter",
           "x": {
            "bdata": "AAECAwQFBgcICQoLDA0ODxAREhMUFRYXGBkaGxwdHh8gISIjJCUm",
            "dtype": "i1"
           },
           "xaxis": "x2",
           "y": {
            "bdata": "AAAAAAAAAABmJIA29L3bP2Ymw4ZZv+Y/mVn2uYzy6T+ZWfa5jPLpP2ZPOC4fu/E/pmsS2unr8D9ABaxzg4XyP5rT/2HicvM/tHgrUbuQ9D/O9z0R63D2P2ixUKJRzfs/aNThxFUY9z8DHmwCWtnvP8JCoTTA5/c/Al9rSoC5/D+cdxw/xvz/P9vvxtZkkgRAqFefLuPYAkA1wX0DEZ0HQARQBr+92/Q/u1K+m+nM4T/cQ8uq1BfeP3xFuQHk0sS/33jIBxZt7r/fv/yi3z3iv8CXmg7oAoq/EDUumbX9gT/58o1vfUTgv8abIIkaH+C/bu4Id4n05T/QoGESB5n2PyoiKO1gzfg/xJziS8jv+j87BCXjTzHpP7fYp2lK8PY/UVbq7gsE9j/VD7g8O+rrPxDFD9PtO9I/",
            "dtype": "f8"
           },
           "yaxis": "y2"
          }
         ]
        },
        {
         "data": [
          {
           "line": {
            "color": "rgba(60, 179, 113, 0.9)",
            "dash": "dot",
            "width": 2
           },
           "name": "Mid Price (Estimated)",
           "type": "scatter",
           "x": {
            "bdata": "AAECAwQFBgcICQoLDA0ODxAREhMUFRYXGBkaGxwdHh8gISIjJCUmJw==",
            "dtype": "i1"
           },
           "xaxis": "x",
           "y": {
            "bdata": "gNHvJb/4WEChxAdfE+5YQN8klwa54lhA9ltPBy3aWECPYPkixNVYQLPu1x9l4lhAJFeHSijfWEAJUu9IbOBYQDZpnDMd41hAH0XxtBTkWEDto2iXtuNYQK2xef0w3FhAZ4809ZrlWEA7QQajTPFYQPZcbImo5lhAe09PiTvgWED8N/Tckd5YQIq+FlWG2FhAZgQIE+TbWED8XSOkW9dYQGIlFKNX5VhAGbj1/xbtWEASG5QMlO5YQB0dcm5H9VhAlqRPG3z8WEAY2DLnAPlYQNsye2Ho81hA31eqLYn0WECxYqimLfpYQKWkbEEy+1hAQ17ERTvxWEB7vGWxOOxYQNKiiUPg61hAPOKwD4XrWECZA3SkRfhYQNyHlZuH71hArKawu+TyWECUzppDjfxYQH+7SZM3C1lAjLNSx8EIWUA=",
            "dtype": "f8"
           },
           "yaxis": "y"
          },
          {
           "line": {
            "color": "rgba(178, 34, 34, 0.9)",
            "width": 2
           },
           "name": "Bid",
           "type": "scatter",
           "x": {
            "bdata": "AAECAwQFBgcICQoLDA0ODxAREhMUFRYXGBkaGxwdHh8gISIjJCUmJw==",
            "dtype": "i1"
           },
           "xaxis": "x",
           "y": {
            "bdata": "GmuJv1jyWEA7XqH4rOdYQHm+MKBS3FhAkPXooMbTWEAp+pK8Xc9YQE2Icbn+21hAvvAg5MHYWECj64jiBdpYQNACNs223FhAud6KTq7dWECHPQIxUN1YQEdLE5fK1VhAASnOjjTfWEDV2p885upYQJD2BSNC4FhAFenoItXZWECW0Y12K9hYQCRYsO4f0lhAAJ6hrH3VWECW97w99dBYQPy+rTzx3lhAs1GPmbDmWECstC2mLehYQLe2Cwjh7lhAMD7ptBX2WECyccyAmvJYQHXMFPuB7VhAefFDxyLuWEBL/EFAx/NYQD8+BtvL9FhA3fdd39TqWEAVVv9K0uVYQGw8I9155VhA1ntKqR7lWEAznQ0+3/FYQHYhLzUh6VhARkBKVX7sWEAuaDTdJvZYQBlV4yzRBFlAJk3sYFsCWUA=",
            "dtype": "f8"
           },
           "yaxis": "y"
          },
          {
           "line": {
            "color": "rgba(70, 130, 180, 0.9)",
            "width": 2
           },
           "name": "Ask",
           "type": "scatter",
           "x": {
            "bdata": "AAECAwQFBgcICQoLDA0ODxAREhMUFRYXGBkaGxwdHh8gISIjJCUmJw==",
            "dtype": "i1"
           },
           "xaxis": "x",
           "y": {
            "bdata": "5jdWjCX/WEAHK27FefRYQEWL/Wwf6VhAXMK1bZPgWED1xl+JKtxYQBlVPobL6FhAir3tsI7lWEBvuFWv0uZYQJzPApqD6VhAhatXG3vqWEBTCs/9HOpYQBMY4GOX4lhAzfWaWwHsWEChp2wJs/dYQFzD0u8O7VhA4bW176HmWEBinlpD+ORYQPAkfbvs3lhAzGpueUriWEBixIkKwt1YQMiLegm+61hAfx5cZn3zWEB4gfpy+vRYQIOD2NSt+1hA/Aq2geICWUB+PplNZ/9YQEGZ4cdO+lhARb4QlO/6WEAXyQ4NlABZQAsL06eYAVlAqcQqrKH3WEDhIswXn/JYQDgJ8KlG8lhAokgXduvxWED/adoKrP5YQELu+wHu9VhAEg0XIkv5WED6NAGq8wJZQOUhsPmdEVlA8hm5LSgPWUA=",
            "dtype": "f8"
           },
           "yaxis": "y"
          },
          {
           "marker": {
            "color": [
             "rgba(31, 119, 180, 0.8)",
             "rgba(31, 119, 180, 0.8)",
             "rgba(31, 119, 180, 0.8)",
             "rgba(31, 119, 180, 0.8)",
             "rgba(31, 119, 180, 0.8)",
             "rgba(31, 119, 180, 0.8)",
             "rgba(178, 34, 34, 0.8)",
             "rgba(31, 119, 180, 0.8)",
             "rgba(31, 119, 180, 0.8)",
             "rgba(31, 119, 180, 0.8)",
             "rgba(31, 119, 180, 0.8)",
             "rgba(31, 119, 180, 0.8)",
             "rgba(178, 34, 34, 0.8)",
             "rgba(178, 34, 34, 0.8)",
             "rgba(31, 119, 180, 0.8)",
             "rgba(31, 119, 180, 0.8)",
             "rgba(31, 119, 180, 0.8)",
             "rgba(31, 119, 180, 0.8)",
             "rgba(178, 34, 34, 0.8)",
             "rgba(31, 119, 180, 0.8)",
             "rgba(178, 34, 34, 0.8)",
             "rgba(178, 34, 34, 0.8)",
             "rgba(178, 34, 34, 0.8)",
             "rgba(178, 34, 34, 0.8)",
             "rgba(178, 34, 34, 0.8)",
             "rgba(31, 119, 180, 0.8)",
             "rgba(31, 119, 180, 0.8)",
             "rgba(31, 119, 180, 0.8)",
             "rgba(178, 34, 34, 0.8)",
             "rgba(31, 119, 180, 0.8)",
             "rgba(31, 119, 180, 0.8)",
             "rgba(31, 119, 180, 0.8)",
             "rgba(31, 119, 180, 0.8)",
             "rgba(31, 119, 180, 0.8)",
             "rgba(178, 34, 34, 0.8)",
             "rgba(31, 119, 180, 0.8)",
             "rgba(178, 34, 34, 0.8)",
             "rgba(178, 34, 34, 0.8)",
             "rgba(178, 34, 34, 0.8)",
             "rgba(31, 119, 180, 0.8)"
            ]
           },
           "name": "Trade P&L",
           "type": "bar",
           "x": {
            "bdata": "AAECAwQFBgcICQoLDA0ODxAREhMUFRYXGBkaGxwdHh8gISIjJCUmJw==",
            "dtype": "i1"
           },
           "xaxis": "x2",
           "y": {
            "bdata": "mpmZmZmZuT9mJIA29L3bP2YoBte+wNE/mpmZmZmZuT8AAAAAAAAAAGaK9ERjB9M/AHi8hKrmqb+amZmZmZm5PzTLecrdq60/mlG68o7dsT+a8ScB/AK+P2bmSkSacdU/AHS7de/T0r+aFa8Oo67cvwDPrM1M7N8/AHEoVwBH0z/NxIilLxrKPzPQ4twGUOI/M4N5ghqYy78zpnlTtxDjP2Yy9UdkXvq/TU1O4pHq579mhsUy+ge2v03z01WjQOS/gCdaB1046b8AcpfJbF7YP4BVwgLU1eE/aGbk004Alj/Nq/JFdIzgv6CZqzZzsXI/GsUUANIJ8z8zU7qthD3nP80KNNbOosE/zdTT9ToTwT9NNaC0QK7svzOtKvBEr+Q/zEywV8+Hrb/NnByh3B3gv00tMFNEzOK/ZjKGQpY90D8=",
            "dtype": "f8"
           },
           "yaxis": "y2"
          },
          {
           "line": {
            "color": "rgba(60, 179, 113, 0.9)",
            "width": 2
           },
           "name": "Cumulative P&L",
           "type": "scatter",
           "x": {
            "bdata": "AAECAwQFBgcICQoLDA0ODxAREhMUFRYXGBkaGxwdHh8gISIjJCUmJw==",
            "dtype": "i1"
           },
           "xaxis": "x2",
           "y": {
            "bdata": "AAAAAAAAAABmJIA29L3bP2Ymw4ZZv+Y/mVn2uYzy6T+ZWfa5jPLpP2ZPOC4fu/E/pmsS2unr8D9ABaxzg4XyP5rT/2HicvM/tHgrUbuQ9D/O9z0R63D2P2ixUKJRzfs/aNThxFUY9z8DHmwCWtnvP8JCoTTA5/c/Al9rSoC5/D+cdxw/xvz/P9vvxtZkkgRAqFefLuPYAkA1wX0DEZ0HQARQBr+92/Q/u1K+m+nM4T/cQ8uq1BfeP3xFuQHk0sS/33jIBxZt7r/fv/yi3z3iv8CXmg7oAoq/EDUumbX9gT/58o1vfUTgv8abIIkaH+C/bu4Id4n05T/QoGESB5n2PyoiKO1gzfg/xJziS8jv+j87BCXjTzHpP7fYp2lK8PY/UVbq7gsE9j/VD7g8O+rrPxDFD9PtO9I/u/vKCsI84T8=",
            "dtype": "f8"
           },
           "yaxis": "y2"
          }
         ]
        },
        {
         "data": [
          {
           "line": {
            "color": "rgba(60, 179, 113, 0.9)",
            "dash": "dot",
            "width": 2
           },
           "name": "Mid Price (Estimated)",
           "type": "scatter",
           "x": {
            "bdata": "AAECAwQFBgcICQoLDA0ODxAREhMUFRYXGBkaGxwdHh8gISIjJCUmJyg=",
            "dtype": "i1"
           },
           "xaxis": "x",
           "y": {
            "bdata": "gNHvJb/4WEChxAdfE+5YQN8klwa54lhA9ltPBy3aWECPYPkixNVYQLPu1x9l4lhAJFeHSijfWEAJUu9IbOBYQDZpnDMd41hAH0XxtBTkWEDto2iXtuNYQK2xef0w3FhAZ4809ZrlWEA7QQajTPFYQPZcbImo5lhAe09PiTvgWED8N/Tckd5YQIq+FlWG2FhAZgQIE+TbWED8XSOkW9dYQGIlFKNX5VhAGbj1/xbtWEASG5QMlO5YQB0dcm5H9VhAlqRPG3z8WEAY2DLnAPlYQNsye2Ho81hA31eqLYn0WECxYqimLfpYQKWkbEEy+1hAQ17ERTvxWEB7vGWxOOxYQNKiiUPg61hAPOKwD4XrWECZA3SkRfhYQNyHlZuH71hArKawu+TyWECUzppDjfxYQH+7SZM3C1lAjLNSx8EIWUDfCmK0BwxZQA==",
            "dtype": "f8"
           },
           "yaxis": "y"
          },
          {
           "line": {
            "color": "rgba(178, 34, 34, 0.9)",
            "width": 2
           },
           "name": "Bid",
           "type": "scatter",
           "x": {
            "bdata": "AAECAwQFBgcICQoLDA0ODxAREhMUFRYXGBkaGxwdHh8gISIjJCUmJyg=",
            "dtype": "i1"
           },
           "xaxis": "x",
           "y": {
            "bdata": "GmuJv1jyWEA7XqH4rOdYQHm+MKBS3FhAkPXooMbTWEAp+pK8Xc9YQE2Icbn+21hAvvAg5MHYWECj64jiBdpYQNACNs223FhAud6KTq7dWECHPQIxUN1YQEdLE5fK1VhAASnOjjTfWEDV2p885upYQJD2BSNC4FhAFenoItXZWECW0Y12K9hYQCRYsO4f0lhAAJ6hrH3VWECW97w99dBYQPy+rTzx3lhAs1GPmbDmWECstC2mLehYQLe2Cwjh7lhAMD7ptBX2WECyccyAmvJYQHXMFPuB7VhAefFDxyLuWEBL/EFAx/NYQD8+BtvL9FhA3fdd39TqWEAVVv9K0uVYQGw8I9155VhA1ntKqR7lWEAznQ0+3/FYQHYhLzUh6VhARkBKVX7sWEAuaDTdJvZYQBlV4yzRBFlAJk3sYFsCWUB5pPtNoQVZQA==",
            "dtype": "f8"
           },
           "yaxis": "y"
          },
          {
           "line": {
            "color": "rgba(70, 130, 180, 0.9)",
            "width": 2
           },
           "name": "Ask",
           "type": "scatter",
           "x": {
            "bdata": "AAECAwQFBgcICQoLDA0ODxAREhMUFRYXGBkaGxwdHh8gISIjJCUmJyg=",
            "dtype": "i1"
           },
           "xaxis": "x",
           "y": {
            "bdata": "5jdWjCX/WEAHK27FefRYQEWL/Wwf6VhAXMK1bZPgWED1xl+JKtxYQBlVPobL6FhAir3tsI7lWEBvuFWv0uZYQJzPApqD6VhAhatXG3vqWEBTCs/9HOpYQBMY4GOX4lhAzfWaWwHsWEChp2wJs/dYQFzD0u8O7VhA4bW176HmWEBinlpD+ORYQPAkfbvs3lhAzGpueUriWEBixIkKwt1YQMiLegm+61hAfx5cZn3zWEB4gfpy+vRYQIOD2NSt+1hA/Aq2geICWUB+PplNZ/9YQEGZ4cdO+lhARb4QlO/6WEAXyQ4NlABZQAsL06eYAVlAqcQqrKH3WEDhIswXn/JYQDgJ8KlG8lhAokgXduvxWED/adoKrP5YQELu+wHu9VhAEg0XIkv5WED6NAGq8wJZQOUhsPmdEVlA8hm5LSgPWUBFccgabhJZQA==",
            "dtype": "f8"
           },
           "yaxis": "y"
          },
          {
           "marker": {
            "color": [
             "rgba(31, 119, 180, 0.8)",
             "rgba(31, 119, 180, 0.8)",
             "rgba(31, 119, 180, 0.8)",
             "rgba(31, 119, 180, 0.8)",
             "rgba(31, 119, 180, 0.8)",
             "rgba(31, 119, 180, 0.8)",
             "rgba(178, 34, 34, 0.8)",
             "rgba(31, 119, 180, 0.8)",
             "rgba(31, 119, 180, 0.8)",
             "rgba(31, 119, 180, 0.8)",
             "rgba(31, 119, 180, 0.8)",
             "rgba(31, 119, 180, 0.8)",
             "rgba(178, 34, 34, 0.8)",
             "rgba(178, 34, 34, 0.8)",
             "rgba(31, 119, 180, 0.8)",
             "rgba(31, 119, 180, 0.8)",
             "rgba(31, 119, 180, 0.8)",
             "rgba(31, 119, 180, 0.8)",
             "rgba(178, 34, 34, 0.8)",
             "rgba(31, 119, 180, 0.8)",
             "rgba(178, 34, 34, 0.8)",
             "rgba(178, 34, 34, 0.8)",
             "rgba(178, 34, 34, 0.8)",
             "rgba(178, 34, 34, 0.8)",
             "rgba(178, 34, 34, 0.8)",
             "rgba(31, 119, 180, 0.8)",
             "rgba(31, 119, 180, 0.8)",
             "rgba(31, 119, 180, 0.8)",
             "rgba(178, 34, 34, 0.8)",
             "rgba(31, 119, 180, 0.8)",
             "rgba(31, 119, 180, 0.8)",
             "rgba(31, 119, 180, 0.8)",
             "rgba(31, 119, 180, 0.8)",
             "rgba(31, 119, 180, 0.8)",
             "rgba(178, 34, 34, 0.8)",
             "rgba(31, 119, 180, 0.8)",
             "rgba(178, 34, 34, 0.8)",
             "rgba(178, 34, 34, 0.8)",
             "rgba(178, 34, 34, 0.8)",
             "rgba(31, 119, 180, 0.8)",
             "rgba(178, 34, 34, 0.8)"
            ]
           },
           "name": "Trade P&L",
           "type": "bar",
           "x": {
            "bdata": "AAECAwQFBgcICQoLDA0ODxAREhMUFRYXGBkaGxwdHh8gISIjJCUmJyg=",
            "dtype": "i1"
           },
           "xaxis": "x2",
           "y": {
            "bdata": "mpmZmZmZuT9mJIA29L3bP2YoBte+wNE/mpmZmZmZuT8AAAAAAAAAAGaK9ERjB9M/AHi8hKrmqb+amZmZmZm5PzTLecrdq60/mlG68o7dsT+a8ScB/AK+P2bmSkSacdU/AHS7de/T0r+aFa8Oo67cvwDPrM1M7N8/AHEoVwBH0z/NxIilLxrKPzPQ4twGUOI/M4N5ghqYy78zpnlTtxDjP2Yy9UdkXvq/TU1O4pHq579mhsUy+ge2v03z01WjQOS/gCdaB1046b8AcpfJbF7YP4BVwgLU1eE/aGbk004Alj/Nq/JFdIzgv6CZqzZzsXI/GsUUANIJ8z8zU7qthD3nP80KNNbOosE/zdTT9ToTwT9NNaC0QK7svzOtKvBEr+Q/zEywV8+Hrb/NnByh3B3gv00tMFNEzOK/ZjKGQpY90D8zcZzMde7Dvw==",
            "dtype": "f8"
           },
           "yaxis": "y2"
          },
          {
           "line": {
            "color": "rgba(60, 179, 113, 0.9)",
            "width": 2
           },
           "name": "Cumulative P&L",
           "type": "scatter",
           "x": {
            "bdata": "AAECAwQFBgcICQoLDA0ODxAREhMUFRYXGBkaGxwdHh8gISIjJCUmJyg=",
            "dtype": "i1"
           },
           "xaxis": "x2",
           "y": {
            "bdata": "AAAAAAAAAABmJIA29L3bP2Ymw4ZZv+Y/mVn2uYzy6T+ZWfa5jPLpP2ZPOC4fu/E/pmsS2unr8D9ABaxzg4XyP5rT/2HicvM/tHgrUbuQ9D/O9z0R63D2P2ixUKJRzfs/aNThxFUY9z8DHmwCWtnvP8JCoTTA5/c/Al9rSoC5/D+cdxw/xvz/P9vvxtZkkgRAqFefLuPYAkA1wX0DEZ0HQARQBr+92/Q/u1K+m+nM4T/cQ8uq1BfeP3xFuQHk0sS/33jIBxZt7r/fv/yi3z3iv8CXmg7oAoq/EDUumbX9gT/58o1vfUTgv8abIIkaH+C/bu4Id4n05T/QoGESB5n2PyoiKO1gzfg/xJziS8jv+j87BCXjTzHpP7fYp2lK8PY/UVbq7gsE9j/VD7g8O+rrPxDFD9PtO9I/u/vKCsI84T/cvkcvSYLYPw==",
            "dtype": "f8"
           },
           "yaxis": "y2"
          }
         ]
        },
        {
         "data": [
          {
           "line": {
            "color": "rgba(60, 179, 113, 0.9)",
            "dash": "dot",
            "width": 2
           },
           "name": "Mid Price (Estimated)",
           "type": "scatter",
           "x": {
            "bdata": "AAECAwQFBgcICQoLDA0ODxAREhMUFRYXGBkaGxwdHh8gISIjJCUmJygp",
            "dtype": "i1"
           },
           "xaxis": "x",
           "y": {
            "bdata": "gNHvJb/4WEChxAdfE+5YQN8klwa54lhA9ltPBy3aWECPYPkixNVYQLPu1x9l4lhAJFeHSijfWEAJUu9IbOBYQDZpnDMd41hAH0XxtBTkWEDto2iXtuNYQK2xef0w3FhAZ4809ZrlWEA7QQajTPFYQPZcbImo5lhAe09PiTvgWED8N/Tckd5YQIq+FlWG2FhAZgQIE+TbWED8XSOkW9dYQGIlFKNX5VhAGbj1/xbtWEASG5QMlO5YQB0dcm5H9VhAlqRPG3z8WEAY2DLnAPlYQNsye2Ho81hA31eqLYn0WECxYqimLfpYQKWkbEEy+1hAQ17ERTvxWEB7vGWxOOxYQNKiiUPg61hAPOKwD4XrWECZA3SkRfhYQNyHlZuH71hArKawu+TyWECUzppDjfxYQH+7SZM3C1lAjLNSx8EIWUDfCmK0BwxZQGc1zvfND1lA",
            "dtype": "f8"
           },
           "yaxis": "y"
          },
          {
           "line": {
            "color": "rgba(178, 34, 34, 0.9)",
            "width": 2
           },
           "name": "Bid",
           "type": "scatter",
           "x": {
            "bdata": "AAECAwQFBgcICQoLDA0ODxAREhMUFRYXGBkaGxwdHh8gISIjJCUmJygp",
            "dtype": "i1"
           },
           "xaxis": "x",
           "y": {
            "bdata": "GmuJv1jyWEA7XqH4rOdYQHm+MKBS3FhAkPXooMbTWEAp+pK8Xc9YQE2Icbn+21hAvvAg5MHYWECj64jiBdpYQNACNs223FhAud6KTq7dWECHPQIxUN1YQEdLE5fK1VhAASnOjjTfWEDV2p885upYQJD2BSNC4FhAFenoItXZWECW0Y12K9hYQCRYsO4f0lhAAJ6hrH3VWECW97w99dBYQPy+rTzx3lhAs1GPmbDmWECstC2mLehYQLe2Cwjh7lhAMD7ptBX2WECyccyAmvJYQHXMFPuB7VhAefFDxyLuWEBL/EFAx/NYQD8+BtvL9FhA3fdd39TqWEAVVv9K0uVYQGw8I9155VhA1ntKqR7lWEAznQ0+3/FYQHYhLzUh6VhARkBKVX7sWEAuaDTdJvZYQBlV4yzRBFlAJk3sYFsCWUB5pPtNoQVZQAHPZ5FnCVlA",
            "dtype": "f8"
           },
           "yaxis": "y"
          },
          {
           "line": {
            "color": "rgba(70, 130, 180, 0.9)",
            "width": 2
           },
           "name": "Ask",
           "type": "scatter",
           "x": {
            "bdata": "AAECAwQFBgcICQoLDA0ODxAREhMUFRYXGBkaGxwdHh8gISIjJCUmJygp",
            "dtype": "i1"
           },
           "xaxis": "x",
           "y": {
            "bdata": "5jdWjCX/WEAHK27FefRYQEWL/Wwf6VhAXMK1bZPgWED1xl+JKtxYQBlVPobL6FhAir3tsI7lWEBvuFWv0uZYQJzPApqD6VhAhatXG3vqWEBTCs/9HOpYQBMY4GOX4lhAzfWaWwHsWEChp2wJs/dYQFzD0u8O7VhA4bW176HmWEBinlpD+ORYQPAkfbvs3lhAzGpueUriWEBixIkKwt1YQMiLegm+61hAfx5cZn3zWEB4gfpy+vRYQIOD2NSt+1hA/Aq2geICWUB+PplNZ/9YQEGZ4cdO+lhARb4QlO/6WEAXyQ4NlABZQAsL06eYAVlAqcQqrKH3WEDhIswXn/JYQDgJ8KlG8lhAokgXduvxWED/adoKrP5YQELu+wHu9VhAEg0XIkv5WED6NAGq8wJZQOUhsPmdEVlA8hm5LSgPWUBFccgabhJZQM2bNF40FllA",
            "dtype": "f8"
           },
           "yaxis": "y"
          },
          {
           "marker": {
            "color": [
             "rgba(31, 119, 180, 0.8)",
             "rgba(31, 119, 180, 0.8)",
             "rgba(31, 119, 180, 0.8)",
             "rgba(31, 119, 180, 0.8)",
             "rgba(31, 119, 180, 0.8)",
             "rgba(31, 119, 180, 0.8)",
             "rgba(178, 34, 34, 0.8)",
             "rgba(31, 119, 180, 0.8)",
             "rgba(31, 119, 180, 0.8)",
             "rgba(31, 119, 180, 0.8)",
             "rgba(31, 119, 180, 0.8)",
             "rgba(31, 119, 180, 0.8)",
             "rgba(178, 34, 34, 0.8)",
             "rgba(178, 34, 34, 0.8)",
             "rgba(31, 119, 180, 0.8)",
             "rgba(31, 119, 180, 0.8)",
             "rgba(31, 119, 180, 0.8)",
             "rgba(31, 119, 180, 0.8)",
             "rgba(178, 34, 34, 0.8)",
             "rgba(31, 119, 180, 0.8)",
             "rgba(178, 34, 34, 0.8)",
             "rgba(178, 34, 34, 0.8)",
             "rgba(178, 34, 34, 0.8)",
             "rgba(178, 34, 34, 0.8)",
             "rgba(178, 34, 34, 0.8)",
             "rgba(31, 119, 180, 0.8)",
             "rgba(31, 119, 180, 0.8)",
             "rgba(31, 119, 180, 0.8)",
             "rgba(178, 34, 34, 0.8)",
             "rgba(31, 119, 180, 0.8)",
             "rgba(31, 119, 180, 0.8)",
             "rgba(31, 119, 180, 0.8)",
             "rgba(31, 119, 180, 0.8)",
             "rgba(31, 119, 180, 0.8)",
             "rgba(178, 34, 34, 0.8)",
             "rgba(31, 119, 180, 0.8)",
             "rgba(178, 34, 34, 0.8)",
             "rgba(178, 34, 34, 0.8)",
             "rgba(178, 34, 34, 0.8)",
             "rgba(31, 119, 180, 0.8)",
             "rgba(178, 34, 34, 0.8)",
             "rgba(178, 34, 34, 0.8)"
            ]
           },
           "name": "Trade P&L",
           "type": "bar",
           "x": {
            "bdata": "AAECAwQFBgcICQoLDA0ODxAREhMUFRYXGBkaGxwdHh8gISIjJCUmJygp",
            "dtype": "i1"
           },
           "xaxis": "x2",
           "y": {
            "bdata": "mpmZmZmZuT9mJIA29L3bP2YoBte+wNE/mpmZmZmZuT8AAAAAAAAAAGaK9ERjB9M/AHi8hKrmqb+amZmZmZm5PzTLecrdq60/mlG68o7dsT+a8ScB/AK+P2bmSkSacdU/AHS7de/T0r+aFa8Oo67cvwDPrM1M7N8/AHEoVwBH0z/NxIilLxrKPzPQ4twGUOI/M4N5ghqYy78zpnlTtxDjP2Yy9UdkXvq/TU1O4pHq579mhsUy+ge2v03z01WjQOS/gCdaB1046b8AcpfJbF7YP4BVwgLU1eE/aGbk004Alj/Nq/JFdIzgv6CZqzZzsXI/GsUUANIJ8z8zU7qthD3nP80KNNbOosE/zdTT9ToTwT9NNaC0QK7svzOtKvBEr+Q/zEywV8+Hrb/NnByh3B3gv00tMFNEzOK/ZjKGQpY90D8zcZzMde7DvwCo1BxR39K/",
            "dtype": "f8"
           },
           "yaxis": "y2"
          },
          {
           "line": {
            "color": "rgba(60, 179, 113, 0.9)",
            "width": 2
           },
           "name": "Cumulative P&L",
           "type": "scatter",
           "x": {
            "bdata": "AAECAwQFBgcICQoLDA0ODxAREhMUFRYXGBkaGxwdHh8gISIjJCUmJygp",
            "dtype": "i1"
           },
           "xaxis": "x2",
           "y": {
            "bdata": "AAAAAAAAAABmJIA29L3bP2Ymw4ZZv+Y/mVn2uYzy6T+ZWfa5jPLpP2ZPOC4fu/E/pmsS2unr8D9ABaxzg4XyP5rT/2HicvM/tHgrUbuQ9D/O9z0R63D2P2ixUKJRzfs/aNThxFUY9z8DHmwCWtnvP8JCoTTA5/c/Al9rSoC5/D+cdxw/xvz/P9vvxtZkkgRAqFefLuPYAkA1wX0DEZ0HQARQBr+92/Q/u1K+m+nM4T/cQ8uq1BfeP3xFuQHk0sS/33jIBxZt7r/fv/yi3z3iv8CXmg7oAoq/EDUumbX9gT/58o1vfUTgv8abIIkaH+C/bu4Id4n05T/QoGESB5n2PyoiKO1gzfg/xJziS8jv+j87BCXjTzHpP7fYp2lK8PY/UVbq7gsE9j/VD7g8O+rrPxDFD9PtO9I/u/vKCsI84T/cvkcvSYLYP3BbzEngi7Y/",
            "dtype": "f8"
           },
           "yaxis": "y2"
          }
         ]
        },
        {
         "data": [
          {
           "line": {
            "color": "rgba(60, 179, 113, 0.9)",
            "dash": "dot",
            "width": 2
           },
           "name": "Mid Price (Estimated)",
           "type": "scatter",
           "x": {
            "bdata": "AAECAwQFBgcICQoLDA0ODxAREhMUFRYXGBkaGxwdHh8gISIjJCUmJygpKg==",
            "dtype": "i1"
           },
           "xaxis": "x",
           "y": {
            "bdata": "gNHvJb/4WEChxAdfE+5YQN8klwa54lhA9ltPBy3aWECPYPkixNVYQLPu1x9l4lhAJFeHSijfWEAJUu9IbOBYQDZpnDMd41hAH0XxtBTkWEDto2iXtuNYQK2xef0w3FhAZ4809ZrlWEA7QQajTPFYQPZcbImo5lhAe09PiTvgWED8N/Tckd5YQIq+FlWG2FhAZgQIE+TbWED8XSOkW9dYQGIlFKNX5VhAGbj1/xbtWEASG5QMlO5YQB0dcm5H9VhAlqRPG3z8WEAY2DLnAPlYQNsye2Ho81hA31eqLYn0WECxYqimLfpYQKWkbEEy+1hAQ17ERTvxWEB7vGWxOOxYQNKiiUPg61hAPOKwD4XrWECZA3SkRfhYQNyHlZuH71hArKawu+TyWECUzppDjfxYQH+7SZM3C1lAjLNSx8EIWUDfCmK0BwxZQGc1zvfND1lAzvRkAy8RWUA=",
            "dtype": "f8"
           },
           "yaxis": "y"
          },
          {
           "line": {
            "color": "rgba(178, 34, 34, 0.9)",
            "width": 2
           },
           "name": "Bid",
           "type": "scatter",
           "x": {
            "bdata": "AAECAwQFBgcICQoLDA0ODxAREhMUFRYXGBkaGxwdHh8gISIjJCUmJygpKg==",
            "dtype": "i1"
           },
           "xaxis": "x",
           "y": {
            "bdata": "GmuJv1jyWEA7XqH4rOdYQHm+MKBS3FhAkPXooMbTWEAp+pK8Xc9YQE2Icbn+21hAvvAg5MHYWECj64jiBdpYQNACNs223FhAud6KTq7dWECHPQIxUN1YQEdLE5fK1VhAASnOjjTfWEDV2p885upYQJD2BSNC4FhAFenoItXZWECW0Y12K9hYQCRYsO4f0lhAAJ6hrH3VWECW97w99dBYQPy+rTzx3lhAs1GPmbDmWECstC2mLehYQLe2Cwjh7lhAMD7ptBX2WECyccyAmvJYQHXMFPuB7VhAefFDxyLuWEBL/EFAx/NYQD8+BtvL9FhA3fdd39TqWEAVVv9K0uVYQGw8I9155VhA1ntKqR7lWEAznQ0+3/FYQHYhLzUh6VhARkBKVX7sWEAuaDTdJvZYQBlV4yzRBFlAJk3sYFsCWUB5pPtNoQVZQAHPZ5FnCVlAaI7+nMgKWUA=",
            "dtype": "f8"
           },
           "yaxis": "y"
          },
          {
           "line": {
            "color": "rgba(70, 130, 180, 0.9)",
            "width": 2
           },
           "name": "Ask",
           "type": "scatter",
           "x": {
            "bdata": "AAECAwQFBgcICQoLDA0ODxAREhMUFRYXGBkaGxwdHh8gISIjJCUmJygpKg==",
            "dtype": "i1"
           },
           "xaxis": "x",
           "y": {
            "bdata": "5jdWjCX/WEAHK27FefRYQEWL/Wwf6VhAXMK1bZPgWED1xl+JKtxYQBlVPobL6FhAir3tsI7lWEBvuFWv0uZYQJzPApqD6VhAhatXG3vqWEBTCs/9HOpYQBMY4GOX4lhAzfWaWwHsWEChp2wJs/dYQFzD0u8O7VhA4bW176HmWEBinlpD+ORYQPAkfbvs3lhAzGpueUriWEBixIkKwt1YQMiLegm+61hAfx5cZn3zWEB4gfpy+vRYQIOD2NSt+1hA/Aq2geICWUB+PplNZ/9YQEGZ4cdO+lhARb4QlO/6WEAXyQ4NlABZQAsL06eYAVlAqcQqrKH3WEDhIswXn/JYQDgJ8KlG8lhAokgXduvxWED/adoKrP5YQELu+wHu9VhAEg0XIkv5WED6NAGq8wJZQOUhsPmdEVlA8hm5LSgPWUBFccgabhJZQM2bNF40FllANFvLaZUXWUA=",
            "dtype": "f8"
           },
           "yaxis": "y"
          },
          {
           "marker": {
            "color": [
             "rgba(31, 119, 180, 0.8)",
             "rgba(31, 119, 180, 0.8)",
             "rgba(31, 119, 180, 0.8)",
             "rgba(31, 119, 180, 0.8)",
             "rgba(31, 119, 180, 0.8)",
             "rgba(31, 119, 180, 0.8)",
             "rgba(178, 34, 34, 0.8)",
             "rgba(31, 119, 180, 0.8)",
             "rgba(31, 119, 180, 0.8)",
             "rgba(31, 119, 180, 0.8)",
             "rgba(31, 119, 180, 0.8)",
             "rgba(31, 119, 180, 0.8)",
             "rgba(178, 34, 34, 0.8)",
             "rgba(178, 34, 34, 0.8)",
             "rgba(31, 119, 180, 0.8)",
             "rgba(31, 119, 180, 0.8)",
             "rgba(31, 119, 180, 0.8)",
             "rgba(31, 119, 180, 0.8)",
             "rgba(178, 34, 34, 0.8)",
             "rgba(31, 119, 180, 0.8)",
             "rgba(178, 34, 34, 0.8)",
             "rgba(178, 34, 34, 0.8)",
             "rgba(178, 34, 34, 0.8)",
             "rgba(178, 34, 34, 0.8)",
             "rgba(178, 34, 34, 0.8)",
             "rgba(31, 119, 180, 0.8)",
             "rgba(31, 119, 180, 0.8)",
             "rgba(31, 119, 180, 0.8)",
             "rgba(178, 34, 34, 0.8)",
             "rgba(31, 119, 180, 0.8)",
             "rgba(31, 119, 180, 0.8)",
             "rgba(31, 119, 180, 0.8)",
             "rgba(31, 119, 180, 0.8)",
             "rgba(31, 119, 180, 0.8)",
             "rgba(178, 34, 34, 0.8)",
             "rgba(31, 119, 180, 0.8)",
             "rgba(178, 34, 34, 0.8)",
             "rgba(178, 34, 34, 0.8)",
             "rgba(178, 34, 34, 0.8)",
             "rgba(31, 119, 180, 0.8)",
             "rgba(178, 34, 34, 0.8)",
             "rgba(178, 34, 34, 0.8)",
             "rgba(31, 119, 180, 0.8)"
            ]
           },
           "name": "Trade P&L",
           "type": "bar",
           "x": {
            "bdata": "AAECAwQFBgcICQoLDA0ODxAREhMUFRYXGBkaGxwdHh8gISIjJCUmJygpKg==",
            "dtype": "i1"
           },
           "xaxis": "x2",
           "y": {
            "bdata": "mpmZmZmZuT9mJIA29L3bP2YoBte+wNE/mpmZmZmZuT8AAAAAAAAAAGaK9ERjB9M/AHi8hKrmqb+amZmZmZm5PzTLecrdq60/mlG68o7dsT+a8ScB/AK+P2bmSkSacdU/AHS7de/T0r+aFa8Oo67cvwDPrM1M7N8/AHEoVwBH0z/NxIilLxrKPzPQ4twGUOI/M4N5ghqYy78zpnlTtxDjP2Yy9UdkXvq/TU1O4pHq579mhsUy+ge2v03z01WjQOS/gCdaB1046b8AcpfJbF7YP4BVwgLU1eE/aGbk004Alj/Nq/JFdIzgv6CZqzZzsXI/GsUUANIJ8z8zU7qthD3nP80KNNbOosE/zdTT9ToTwT9NNaC0QK7svzOtKvBEr+Q/zEywV8+Hrb/NnByh3B3gv00tMFNEzOK/ZjKGQpY90D8zcZzMde7DvwCo1BxR39K/0EwZbQFHjD8=",
            "dtype": "f8"
           },
           "yaxis": "y2"
          },
          {
           "line": {
            "color": "rgba(60, 179, 113, 0.9)",
            "width": 2
           },
           "name": "Cumulative P&L",
           "type": "scatter",
           "x": {
            "bdata": "AAECAwQFBgcICQoLDA0ODxAREhMUFRYXGBkaGxwdHh8gISIjJCUmJygpKg==",
            "dtype": "i1"
           },
           "xaxis": "x2",
           "y": {
            "bdata": "AAAAAAAAAABmJIA29L3bP2Ymw4ZZv+Y/mVn2uYzy6T+ZWfa5jPLpP2ZPOC4fu/E/pmsS2unr8D9ABaxzg4XyP5rT/2HicvM/tHgrUbuQ9D/O9z0R63D2P2ixUKJRzfs/aNThxFUY9z8DHmwCWtnvP8JCoTTA5/c/Al9rSoC5/D+cdxw/xvz/P9vvxtZkkgRAqFefLuPYAkA1wX0DEZ0HQARQBr+92/Q/u1K+m+nM4T/cQ8uq1BfeP3xFuQHk0sS/33jIBxZt7r/fv/yi3z3iv8CXmg7oAoq/EDUumbX9gT/58o1vfUTgv8abIIkaH+C/bu4Id4n05T/QoGESB5n2PyoiKO1gzfg/xJziS8jv+j87BCXjTzHpP7fYp2lK8PY/UVbq7gsE9j/VD7g8O+rrPxDFD9PtO9I/u/vKCsI84T/cvkcvSYLYP3BbzEngi7Y/CoVvd8AUuj8=",
            "dtype": "f8"
           },
           "yaxis": "y2"
          }
         ]
        },
        {
         "data": [
          {
           "line": {
            "color": "rgba(60, 179, 113, 0.9)",
            "dash": "dot",
            "width": 2
           },
           "name": "Mid Price (Estimated)",
           "type": "scatter",
           "x": {
            "bdata": "AAECAwQFBgcICQoLDA0ODxAREhMUFRYXGBkaGxwdHh8gISIjJCUmJygpKis=",
            "dtype": "i1"
           },
           "xaxis": "x",
           "y": {
            "bdata": "gNHvJb/4WEChxAdfE+5YQN8klwa54lhA9ltPBy3aWECPYPkixNVYQLPu1x9l4lhAJFeHSijfWEAJUu9IbOBYQDZpnDMd41hAH0XxtBTkWEDto2iXtuNYQK2xef0w3FhAZ4809ZrlWEA7QQajTPFYQPZcbImo5lhAe09PiTvgWED8N/Tckd5YQIq+FlWG2FhAZgQIE+TbWED8XSOkW9dYQGIlFKNX5VhAGbj1/xbtWEASG5QMlO5YQB0dcm5H9VhAlqRPG3z8WEAY2DLnAPlYQNsye2Ho81hA31eqLYn0WECxYqimLfpYQKWkbEEy+1hAQ17ERTvxWEB7vGWxOOxYQNKiiUPg61hAPOKwD4XrWECZA3SkRfhYQNyHlZuH71hArKawu+TyWECUzppDjfxYQH+7SZM3C1lAjLNSx8EIWUDfCmK0BwxZQGc1zvfND1lAzvRkAy8RWUDi71HVrRBZQA==",
            "dtype": "f8"
           },
           "yaxis": "y"
          },
          {
           "line": {
            "color": "rgba(178, 34, 34, 0.9)",
            "width": 2
           },
           "name": "Bid",
           "type": "scatter",
           "x": {
            "bdata": "AAECAwQFBgcICQoLDA0ODxAREhMUFRYXGBkaGxwdHh8gISIjJCUmJygpKis=",
            "dtype": "i1"
           },
           "xaxis": "x",
           "y": {
            "bdata": "GmuJv1jyWEA7XqH4rOdYQHm+MKBS3FhAkPXooMbTWEAp+pK8Xc9YQE2Icbn+21hAvvAg5MHYWECj64jiBdpYQNACNs223FhAud6KTq7dWECHPQIxUN1YQEdLE5fK1VhAASnOjjTfWEDV2p885upYQJD2BSNC4FhAFenoItXZWECW0Y12K9hYQCRYsO4f0lhAAJ6hrH3VWECW97w99dBYQPy+rTzx3lhAs1GPmbDmWECstC2mLehYQLe2Cwjh7lhAMD7ptBX2WECyccyAmvJYQHXMFPuB7VhAefFDxyLuWEBL/EFAx/NYQD8+BtvL9FhA3fdd39TqWEAVVv9K0uVYQGw8I9155VhA1ntKqR7lWEAznQ0+3/FYQHYhLzUh6VhARkBKVX7sWEAuaDTdJvZYQBlV4yzRBFlAJk3sYFsCWUB5pPtNoQVZQAHPZ5FnCVlAaI7+nMgKWUB8ietuRwpZQA==",
            "dtype": "f8"
           },
           "yaxis": "y"
          },
          {
           "line": {
            "color": "rgba(70, 130, 180, 0.9)",
            "width": 2
           },
           "name": "Ask",
           "type": "scatter",
           "x": {
            "bdata": "AAECAwQFBgcICQoLDA0ODxAREhMUFRYXGBkaGxwdHh8gISIjJCUmJygpKis=",
            "dtype": "i1"
           },
           "xaxis": "x",
           "y": {
            "bdata": "5jdWjCX/WEAHK27FefRYQEWL/Wwf6VhAXMK1bZPgWED1xl+JKtxYQBlVPobL6FhAir3tsI7lWEBvuFWv0uZYQJzPApqD6VhAhatXG3vqWEBTCs/9HOpYQBMY4GOX4lhAzfWaWwHsWEChp2wJs/dYQFzD0u8O7VhA4bW176HmWEBinlpD+ORYQPAkfbvs3lhAzGpueUriWEBixIkKwt1YQMiLegm+61hAfx5cZn3zWEB4gfpy+vRYQIOD2NSt+1hA/Aq2geICWUB+PplNZ/9YQEGZ4cdO+lhARb4QlO/6WEAXyQ4NlABZQAsL06eYAVlAqcQqrKH3WEDhIswXn/JYQDgJ8KlG8lhAokgXduvxWED/adoKrP5YQELu+wHu9VhAEg0XIkv5WED6NAGq8wJZQOUhsPmdEVlA8hm5LSgPWUBFccgabhJZQM2bNF40FllANFvLaZUXWUBIVrg7FBdZQA==",
            "dtype": "f8"
           },
           "yaxis": "y"
          },
          {
           "marker": {
            "color": [
             "rgba(31, 119, 180, 0.8)",
             "rgba(31, 119, 180, 0.8)",
             "rgba(31, 119, 180, 0.8)",
             "rgba(31, 119, 180, 0.8)",
             "rgba(31, 119, 180, 0.8)",
             "rgba(31, 119, 180, 0.8)",
             "rgba(178, 34, 34, 0.8)",
             "rgba(31, 119, 180, 0.8)",
             "rgba(31, 119, 180, 0.8)",
             "rgba(31, 119, 180, 0.8)",
             "rgba(31, 119, 180, 0.8)",
             "rgba(31, 119, 180, 0.8)",
             "rgba(178, 34, 34, 0.8)",
             "rgba(178, 34, 34, 0.8)",
             "rgba(31, 119, 180, 0.8)",
             "rgba(31, 119, 180, 0.8)",
             "rgba(31, 119, 180, 0.8)",
             "rgba(31, 119, 180, 0.8)",
             "rgba(178, 34, 34, 0.8)",
             "rgba(31, 119, 180, 0.8)",
             "rgba(178, 34, 34, 0.8)",
             "rgba(178, 34, 34, 0.8)",
             "rgba(178, 34, 34, 0.8)",
             "rgba(178, 34, 34, 0.8)",
             "rgba(178, 34, 34, 0.8)",
             "rgba(31, 119, 180, 0.8)",
             "rgba(31, 119, 180, 0.8)",
             "rgba(31, 119, 180, 0.8)",
             "rgba(178, 34, 34, 0.8)",
             "rgba(31, 119, 180, 0.8)",
             "rgba(31, 119, 180, 0.8)",
             "rgba(31, 119, 180, 0.8)",
             "rgba(31, 119, 180, 0.8)",
             "rgba(31, 119, 180, 0.8)",
             "rgba(178, 34, 34, 0.8)",
             "rgba(31, 119, 180, 0.8)",
             "rgba(178, 34, 34, 0.8)",
             "rgba(178, 34, 34, 0.8)",
             "rgba(178, 34, 34, 0.8)",
             "rgba(31, 119, 180, 0.8)",
             "rgba(178, 34, 34, 0.8)",
             "rgba(178, 34, 34, 0.8)",
             "rgba(31, 119, 180, 0.8)",
             "rgba(31, 119, 180, 0.8)"
            ]
           },
           "name": "Trade P&L",
           "type": "bar",
           "x": {
            "bdata": "AAECAwQFBgcICQoLDA0ODxAREhMUFRYXGBkaGxwdHh8gISIjJCUmJygpKis=",
            "dtype": "i1"
           },
           "xaxis": "x2",
           "y": {
            "bdata": "mpmZmZmZuT9mJIA29L3bP2YoBte+wNE/mpmZmZmZuT8AAAAAAAAAAGaK9ERjB9M/AHi8hKrmqb+amZmZmZm5PzTLecrdq60/mlG68o7dsT+a8ScB/AK+P2bmSkSacdU/AHS7de/T0r+aFa8Oo67cvwDPrM1M7N8/AHEoVwBH0z/NxIilLxrKPzPQ4twGUOI/M4N5ghqYy78zpnlTtxDjP2Yy9UdkXvq/TU1O4pHq579mhsUy+ge2v03z01WjQOS/gCdaB1046b8AcpfJbF7YP4BVwgLU1eE/aGbk004Alj/Nq/JFdIzgv6CZqzZzsXI/GsUUANIJ8z8zU7qthD3nP80KNNbOosE/zdTT9ToTwT9NNaC0QK7svzOtKvBEr+Q/zEywV8+Hrb/NnByh3B3gv00tMFNEzOK/ZjKGQpY90D8zcZzMde7DvwCo1BxR39K/0EwZbQFHjD8AgJ1gwiWgPw==",
            "dtype": "f8"
           },
           "yaxis": "y2"
          },
          {
           "line": {
            "color": "rgba(60, 179, 113, 0.9)",
            "width": 2
           },
           "name": "Cumulative P&L",
           "type": "scatter",
           "x": {
            "bdata": "AAECAwQFBgcICQoLDA0ODxAREhMUFRYXGBkaGxwdHh8gISIjJCUmJygpKis=",
            "dtype": "i1"
           },
           "xaxis": "x2",
           "y": {
            "bdata": "AAAAAAAAAABmJIA29L3bP2Ymw4ZZv+Y/mVn2uYzy6T+ZWfa5jPLpP2ZPOC4fu/E/pmsS2unr8D9ABaxzg4XyP5rT/2HicvM/tHgrUbuQ9D/O9z0R63D2P2ixUKJRzfs/aNThxFUY9z8DHmwCWtnvP8JCoTTA5/c/Al9rSoC5/D+cdxw/xvz/P9vvxtZkkgRAqFefLuPYAkA1wX0DEZ0HQARQBr+92/Q/u1K+m+nM4T/cQ8uq1BfeP3xFuQHk0sS/33jIBxZt7r/fv/yi3z3iv8CXmg7oAoq/EDUumbX9gT/58o1vfUTgv8abIIkaH+C/bu4Id4n05T/QoGESB5n2PyoiKO1gzfg/xJziS8jv+j87BCXjTzHpP7fYp2lK8PY/UVbq7gsE9j/VD7g8O+rrPxDFD9PtO9I/u/vKCsI84T/cvkcvSYLYP3BbzEngi7Y/CoVvd8AUuj+FIt/T0BPBPw==",
            "dtype": "f8"
           },
           "yaxis": "y2"
          }
         ]
        },
        {
         "data": [
          {
           "line": {
            "color": "rgba(60, 179, 113, 0.9)",
            "dash": "dot",
            "width": 2
           },
           "name": "Mid Price (Estimated)",
           "type": "scatter",
           "x": {
            "bdata": "AAECAwQFBgcICQoLDA0ODxAREhMUFRYXGBkaGxwdHh8gISIjJCUmJygpKiss",
            "dtype": "i1"
           },
           "xaxis": "x",
           "y": {
            "bdata": "gNHvJb/4WEChxAdfE+5YQN8klwa54lhA9ltPBy3aWECPYPkixNVYQLPu1x9l4lhAJFeHSijfWEAJUu9IbOBYQDZpnDMd41hAH0XxtBTkWEDto2iXtuNYQK2xef0w3FhAZ4809ZrlWEA7QQajTPFYQPZcbImo5lhAe09PiTvgWED8N/Tckd5YQIq+FlWG2FhAZgQIE+TbWED8XSOkW9dYQGIlFKNX5VhAGbj1/xbtWEASG5QMlO5YQB0dcm5H9VhAlqRPG3z8WEAY2DLnAPlYQNsye2Ho81hA31eqLYn0WECxYqimLfpYQKWkbEEy+1hAQ17ERTvxWEB7vGWxOOxYQNKiiUPg61hAPOKwD4XrWECZA3SkRfhYQNyHlZuH71hArKawu+TyWECUzppDjfxYQH+7SZM3C1lAjLNSx8EIWUDfCmK0BwxZQGc1zvfND1lAzvRkAy8RWUDi71HVrRBZQEKUQueYE1lA",
            "dtype": "f8"
           },
           "yaxis": "y"
          },
          {
           "line": {
            "color": "rgba(178, 34, 34, 0.9)",
            "width": 2
           },
           "name": "Bid",
           "type": "scatter",
           "x": {
            "bdata": "AAECAwQFBgcICQoLDA0ODxAREhMUFRYXGBkaGxwdHh8gISIjJCUmJygpKiss",
            "dtype": "i1"
           },
           "xaxis": "x",
           "y": {
            "bdata": "GmuJv1jyWEA7XqH4rOdYQHm+MKBS3FhAkPXooMbTWEAp+pK8Xc9YQE2Icbn+21hAvvAg5MHYWECj64jiBdpYQNACNs223FhAud6KTq7dWECHPQIxUN1YQEdLE5fK1VhAASnOjjTfWEDV2p885upYQJD2BSNC4FhAFenoItXZWECW0Y12K9hYQCRYsO4f0lhAAJ6hrH3VWECW97w99dBYQPy+rTzx3lhAs1GPmbDmWECstC2mLehYQLe2Cwjh7lhAMD7ptBX2WECyccyAmvJYQHXMFPuB7VhAefFDxyLuWEBL/EFAx/NYQD8+BtvL9FhA3fdd39TqWEAVVv9K0uVYQGw8I9155VhA1ntKqR7lWEAznQ0+3/FYQHYhLzUh6VhARkBKVX7sWEAuaDTdJvZYQBlV4yzRBFlAJk3sYFsCWUB5pPtNoQVZQAHPZ5FnCVlAaI7+nMgKWUB8ietuRwpZQNwt3IAyDVlA",
            "dtype": "f8"
           },
           "yaxis": "y"
          },
          {
           "line": {
            "color": "rgba(70, 130, 180, 0.9)",
            "width": 2
           },
           "name": "Ask",
           "type": "scatter",
           "x": {
            "bdata": "AAECAwQFBgcICQoLDA0ODxAREhMUFRYXGBkaGxwdHh8gISIjJCUmJygpKiss",
            "dtype": "i1"
           },
           "xaxis": "x",
           "y": {
            "bdata": "5jdWjCX/WEAHK27FefRYQEWL/Wwf6VhAXMK1bZPgWED1xl+JKtxYQBlVPobL6FhAir3tsI7lWEBvuFWv0uZYQJzPApqD6VhAhatXG3vqWEBTCs/9HOpYQBMY4GOX4lhAzfWaWwHsWEChp2wJs/dYQFzD0u8O7VhA4bW176HmWEBinlpD+ORYQPAkfbvs3lhAzGpueUriWEBixIkKwt1YQMiLegm+61hAfx5cZn3zWEB4gfpy+vRYQIOD2NSt+1hA/Aq2geICWUB+PplNZ/9YQEGZ4cdO+lhARb4QlO/6WEAXyQ4NlABZQAsL06eYAVlAqcQqrKH3WEDhIswXn/JYQDgJ8KlG8lhAokgXduvxWED/adoKrP5YQELu+wHu9VhAEg0XIkv5WED6NAGq8wJZQOUhsPmdEVlA8hm5LSgPWUBFccgabhJZQM2bNF40FllANFvLaZUXWUBIVrg7FBdZQKj6qE3/GVlA",
            "dtype": "f8"
           },
           "yaxis": "y"
          },
          {
           "marker": {
            "color": [
             "rgba(31, 119, 180, 0.8)",
             "rgba(31, 119, 180, 0.8)",
             "rgba(31, 119, 180, 0.8)",
             "rgba(31, 119, 180, 0.8)",
             "rgba(31, 119, 180, 0.8)",
             "rgba(31, 119, 180, 0.8)",
             "rgba(178, 34, 34, 0.8)",
             "rgba(31, 119, 180, 0.8)",
             "rgba(31, 119, 180, 0.8)",
             "rgba(31, 119, 180, 0.8)",
             "rgba(31, 119, 180, 0.8)",
             "rgba(31, 119, 180, 0.8)",
             "rgba(178, 34, 34, 0.8)",
             "rgba(178, 34, 34, 0.8)",
             "rgba(31, 119, 180, 0.8)",
             "rgba(31, 119, 180, 0.8)",
             "rgba(31, 119, 180, 0.8)",
             "rgba(31, 119, 180, 0.8)",
             "rgba(178, 34, 34, 0.8)",
             "rgba(31, 119, 180, 0.8)",
             "rgba(178, 34, 34, 0.8)",
             "rgba(178, 34, 34, 0.8)",
             "rgba(178, 34, 34, 0.8)",
             "rgba(178, 34, 34, 0.8)",
             "rgba(178, 34, 34, 0.8)",
             "rgba(31, 119, 180, 0.8)",
             "rgba(31, 119, 180, 0.8)",
             "rgba(31, 119, 180, 0.8)",
             "rgba(178, 34, 34, 0.8)",
             "rgba(31, 119, 180, 0.8)",
             "rgba(31, 119, 180, 0.8)",
             "rgba(31, 119, 180, 0.8)",
             "rgba(31, 119, 180, 0.8)",
             "rgba(31, 119, 180, 0.8)",
             "rgba(178, 34, 34, 0.8)",
             "rgba(31, 119, 180, 0.8)",
             "rgba(178, 34, 34, 0.8)",
             "rgba(178, 34, 34, 0.8)",
             "rgba(178, 34, 34, 0.8)",
             "rgba(31, 119, 180, 0.8)",
             "rgba(178, 34, 34, 0.8)",
             "rgba(178, 34, 34, 0.8)",
             "rgba(31, 119, 180, 0.8)",
             "rgba(31, 119, 180, 0.8)",
             "rgba(178, 34, 34, 0.8)"
            ]
           },
           "name": "Trade P&L",
           "type": "bar",
           "x": {
            "bdata": "AAECAwQFBgcICQoLDA0ODxAREhMUFRYXGBkaGxwdHh8gISIjJCUmJygpKiss",
            "dtype": "i1"
           },
           "xaxis": "x2",
           "y": {
            "bdata": "mpmZmZmZuT9mJIA29L3bP2YoBte+wNE/mpmZmZmZuT8AAAAAAAAAAGaK9ERjB9M/AHi8hKrmqb+amZmZmZm5PzTLecrdq60/mlG68o7dsT+a8ScB/AK+P2bmSkSacdU/AHS7de/T0r+aFa8Oo67cvwDPrM1M7N8/AHEoVwBH0z/NxIilLxrKPzPQ4twGUOI/M4N5ghqYy78zpnlTtxDjP2Yy9UdkXvq/TU1O4pHq579mhsUy+ge2v03z01WjQOS/gCdaB1046b8AcpfJbF7YP4BVwgLU1eE/aGbk004Alj/Nq/JFdIzgv6CZqzZzsXI/GsUUANIJ8z8zU7qthD3nP80KNNbOosE/zdTT9ToTwT9NNaC0QK7svzOtKvBEr+Q/zEywV8+Hrb/NnByh3B3gv00tMFNEzOK/ZjKGQpY90D8zcZzMde7DvwCo1BxR39K/0EwZbQFHjD8AgJ1gwiWgP8zMNVx71qK/",
            "dtype": "f8"
           },
           "yaxis": "y2"
          },
          {
           "line": {
            "color": "rgba(60, 179, 113, 0.9)",
            "width": 2
           },
           "name": "Cumulative P&L",
           "type": "scatter",
           "x": {
            "bdata": "AAECAwQFBgcICQoLDA0ODxAREhMUFRYXGBkaGxwdHh8gISIjJCUmJygpKiss",
            "dtype": "i1"
           },
           "xaxis": "x2",
           "y": {
            "bdata": "AAAAAAAAAABmJIA29L3bP2Ymw4ZZv+Y/mVn2uYzy6T+ZWfa5jPLpP2ZPOC4fu/E/pmsS2unr8D9ABaxzg4XyP5rT/2HicvM/tHgrUbuQ9D/O9z0R63D2P2ixUKJRzfs/aNThxFUY9z8DHmwCWtnvP8JCoTTA5/c/Al9rSoC5/D+cdxw/xvz/P9vvxtZkkgRAqFefLuPYAkA1wX0DEZ0HQARQBr+92/Q/u1K+m+nM4T/cQ8uq1BfeP3xFuQHk0sS/33jIBxZt7r/fv/yi3z3iv8CXmg7oAoq/EDUumbX9gT/58o1vfUTgv8abIIkaH+C/bu4Id4n05T/QoGESB5n2PyoiKO1gzfg/xJziS8jv+j87BCXjTzHpP7fYp2lK8PY/UVbq7gsE9j/VD7g8O+rrPxDFD9PtO9I/u/vKCsI84T/cvkcvSYLYP3BbzEngi7Y/CoVvd8AUuj+FIt/T0BPBP6Reo/ljvLg/",
            "dtype": "f8"
           },
           "yaxis": "y2"
          }
         ]
        },
        {
         "data": [
          {
           "line": {
            "color": "rgba(60, 179, 113, 0.9)",
            "dash": "dot",
            "width": 2
           },
           "name": "Mid Price (Estimated)",
           "type": "scatter",
           "x": {
            "bdata": "AAECAwQFBgcICQoLDA0ODxAREhMUFRYXGBkaGxwdHh8gISIjJCUmJygpKissLQ==",
            "dtype": "i1"
           },
           "xaxis": "x",
           "y": {
            "bdata": "gNHvJb/4WEChxAdfE+5YQN8klwa54lhA9ltPBy3aWECPYPkixNVYQLPu1x9l4lhAJFeHSijfWEAJUu9IbOBYQDZpnDMd41hAH0XxtBTkWEDto2iXtuNYQK2xef0w3FhAZ4809ZrlWEA7QQajTPFYQPZcbImo5lhAe09PiTvgWED8N/Tckd5YQIq+FlWG2FhAZgQIE+TbWED8XSOkW9dYQGIlFKNX5VhAGbj1/xbtWEASG5QMlO5YQB0dcm5H9VhAlqRPG3z8WEAY2DLnAPlYQNsye2Ho81hA31eqLYn0WECxYqimLfpYQKWkbEEy+1hAQ17ERTvxWEB7vGWxOOxYQNKiiUPg61hAPOKwD4XrWECZA3SkRfhYQNyHlZuH71hArKawu+TyWECUzppDjfxYQH+7SZM3C1lAjLNSx8EIWUDfCmK0BwxZQGc1zvfND1lAzvRkAy8RWUDi71HVrRBZQEKUQueYE1lA6jDh1oQDWUA=",
            "dtype": "f8"
           },
           "yaxis": "y"
          },
          {
           "line": {
            "color": "rgba(178, 34, 34, 0.9)",
            "width": 2
           },
           "name": "Bid",
           "type": "scatter",
           "x": {
            "bdata": "AAECAwQFBgcICQoLDA0ODxAREhMUFRYXGBkaGxwdHh8gISIjJCUmJygpKissLQ==",
            "dtype": "i1"
           },
           "xaxis": "x",
           "y": {
            "bdata": "GmuJv1jyWEA7XqH4rOdYQHm+MKBS3FhAkPXooMbTWEAp+pK8Xc9YQE2Icbn+21hAvvAg5MHYWECj64jiBdpYQNACNs223FhAud6KTq7dWECHPQIxUN1YQEdLE5fK1VhAASnOjjTfWEDV2p885upYQJD2BSNC4FhAFenoItXZWECW0Y12K9hYQCRYsO4f0lhAAJ6hrH3VWECW97w99dBYQPy+rTzx3lhAs1GPmbDmWECstC2mLehYQLe2Cwjh7lhAMD7ptBX2WECyccyAmvJYQHXMFPuB7VhAefFDxyLuWEBL/EFAx/NYQD8+BtvL9FhA3fdd39TqWEAVVv9K0uVYQGw8I9155VhA1ntKqR7lWEAznQ0+3/FYQHYhLzUh6VhARkBKVX7sWEAuaDTdJvZYQBlV4yzRBFlAJk3sYFsCWUB5pPtNoQVZQAHPZ5FnCVlAaI7+nMgKWUB8ietuRwpZQNwt3IAyDVlAhMp6cB79WEA=",
            "dtype": "f8"
           },
           "yaxis": "y"
          },
          {
           "line": {
            "color": "rgba(70, 130, 180, 0.9)",
            "width": 2
           },
           "name": "Ask",
           "type": "scatter",
           "x": {
            "bdata": "AAECAwQFBgcICQoLDA0ODxAREhMUFRYXGBkaGxwdHh8gISIjJCUmJygpKissLQ==",
            "dtype": "i1"
           },
           "xaxis": "x",
           "y": {
            "bdata": "5jdWjCX/WEAHK27FefRYQEWL/Wwf6VhAXMK1bZPgWED1xl+JKtxYQBlVPobL6FhAir3tsI7lWEBvuFWv0uZYQJzPApqD6VhAhatXG3vqWEBTCs/9HOpYQBMY4GOX4lhAzfWaWwHsWEChp2wJs/dYQFzD0u8O7VhA4bW176HmWEBinlpD+ORYQPAkfbvs3lhAzGpueUriWEBixIkKwt1YQMiLegm+61hAfx5cZn3zWEB4gfpy+vRYQIOD2NSt+1hA/Aq2geICWUB+PplNZ/9YQEGZ4cdO+lhARb4QlO/6WEAXyQ4NlABZQAsL06eYAVlAqcQqrKH3WEDhIswXn/JYQDgJ8KlG8lhAokgXduvxWED/adoKrP5YQELu+wHu9VhAEg0XIkv5WED6NAGq8wJZQOUhsPmdEVlA8hm5LSgPWUBFccgabhJZQM2bNF40FllANFvLaZUXWUBIVrg7FBdZQKj6qE3/GVlAUJdHPesJWUA=",
            "dtype": "f8"
           },
           "yaxis": "y"
          },
          {
           "marker": {
            "color": [
             "rgba(31, 119, 180, 0.8)",
             "rgba(31, 119, 180, 0.8)",
             "rgba(31, 119, 180, 0.8)",
             "rgba(31, 119, 180, 0.8)",
             "rgba(31, 119, 180, 0.8)",
             "rgba(31, 119, 180, 0.8)",
             "rgba(178, 34, 34, 0.8)",
             "rgba(31, 119, 180, 0.8)",
             "rgba(31, 119, 180, 0.8)",
             "rgba(31, 119, 180, 0.8)",
             "rgba(31, 119, 180, 0.8)",
             "rgba(31, 119, 180, 0.8)",
             "rgba(178, 34, 34, 0.8)",
             "rgba(178, 34, 34, 0.8)",
             "rgba(31, 119, 180, 0.8)",
             "rgba(31, 119, 180, 0.8)",
             "rgba(31, 119, 180, 0.8)",
             "rgba(31, 119, 180, 0.8)",
             "rgba(178, 34, 34, 0.8)",
             "rgba(31, 119, 180, 0.8)",
             "rgba(178, 34, 34, 0.8)",
             "rgba(178, 34, 34, 0.8)",
             "rgba(178, 34, 34, 0.8)",
             "rgba(178, 34, 34, 0.8)",
             "rgba(178, 34, 34, 0.8)",
             "rgba(31, 119, 180, 0.8)",
             "rgba(31, 119, 180, 0.8)",
             "rgba(31, 119, 180, 0.8)",
             "rgba(178, 34, 34, 0.8)",
             "rgba(31, 119, 180, 0.8)",
             "rgba(31, 119, 180, 0.8)",
             "rgba(31, 119, 180, 0.8)",
             "rgba(31, 119, 180, 0.8)",
             "rgba(31, 119, 180, 0.8)",
             "rgba(178, 34, 34, 0.8)",
             "rgba(31, 119, 180, 0.8)",
             "rgba(178, 34, 34, 0.8)",
             "rgba(178, 34, 34, 0.8)",
             "rgba(178, 34, 34, 0.8)",
             "rgba(31, 119, 180, 0.8)",
             "rgba(178, 34, 34, 0.8)",
             "rgba(178, 34, 34, 0.8)",
             "rgba(31, 119, 180, 0.8)",
             "rgba(31, 119, 180, 0.8)",
             "rgba(178, 34, 34, 0.8)",
             "rgba(31, 119, 180, 0.8)"
            ]
           },
           "name": "Trade P&L",
           "type": "bar",
           "x": {
            "bdata": "AAECAwQFBgcICQoLDA0ODxAREhMUFRYXGBkaGxwdHh8gISIjJCUmJygpKissLQ==",
            "dtype": "i1"
           },
           "xaxis": "x2",
           "y": {
            "bdata": "mpmZmZmZuT9mJIA29L3bP2YoBte+wNE/mpmZmZmZuT8AAAAAAAAAAGaK9ERjB9M/AHi8hKrmqb+amZmZmZm5PzTLecrdq60/mlG68o7dsT+a8ScB/AK+P2bmSkSacdU/AHS7de/T0r+aFa8Oo67cvwDPrM1M7N8/AHEoVwBH0z/NxIilLxrKPzPQ4twGUOI/M4N5ghqYy78zpnlTtxDjP2Yy9UdkXvq/TU1O4pHq579mhsUy+ge2v03z01WjQOS/gCdaB1046b8AcpfJbF7YP4BVwgLU1eE/aGbk004Alj/Nq/JFdIzgv6CZqzZzsXI/GsUUANIJ8z8zU7qthD3nP80KNNbOosE/zdTT9ToTwT9NNaC0QK7svzOtKvBEr+Q/zEywV8+Hrb/NnByh3B3gv00tMFNEzOK/ZjKGQpY90D8zcZzMde7DvwCo1BxR39K/0EwZbQFHjD8AgJ1gwiWgP8zMNVx71qK/M4uWlENH4z8=",
            "dtype": "f8"
           },
           "yaxis": "y2"
          },
          {
           "line": {
            "color": "rgba(60, 179, 113, 0.9)",
            "width": 2
           },
           "name": "Cumulative P&L",
           "type": "scatter",
           "x": {
            "bdata": "AAECAwQFBgcICQoLDA0ODxAREhMUFRYXGBkaGxwdHh8gISIjJCUmJygpKissLQ==",
            "dtype": "i1"
           },
           "xaxis": "x2",
           "y": {
            "bdata": "AAAAAAAAAABmJIA29L3bP2Ymw4ZZv+Y/mVn2uYzy6T+ZWfa5jPLpP2ZPOC4fu/E/pmsS2unr8D9ABaxzg4XyP5rT/2HicvM/tHgrUbuQ9D/O9z0R63D2P2ixUKJRzfs/aNThxFUY9z8DHmwCWtnvP8JCoTTA5/c/Al9rSoC5/D+cdxw/xvz/P9vvxtZkkgRAqFefLuPYAkA1wX0DEZ0HQARQBr+92/Q/u1K+m+nM4T/cQ8uq1BfeP3xFuQHk0sS/33jIBxZt7r/fv/yi3z3iv8CXmg7oAoq/EDUumbX9gT/58o1vfUTgv8abIIkaH+C/bu4Id4n05T/QoGESB5n2PyoiKO1gzfg/xJziS8jv+j87BCXjTzHpP7fYp2lK8PY/UVbq7gsE9j/VD7g8O+rrPxDFD9PtO9I/u/vKCsI84T/cvkcvSYLYP3BbzEngi7Y/CoVvd8AUuj+FIt/T0BPBP6Reo/ljvLg/CPfKE9Be5j8=",
            "dtype": "f8"
           },
           "yaxis": "y2"
          }
         ]
        },
        {
         "data": [
          {
           "line": {
            "color": "rgba(60, 179, 113, 0.9)",
            "dash": "dot",
            "width": 2
           },
           "name": "Mid Price (Estimated)",
           "type": "scatter",
           "x": {
            "bdata": "AAECAwQFBgcICQoLDA0ODxAREhMUFRYXGBkaGxwdHh8gISIjJCUmJygpKissLS4=",
            "dtype": "i1"
           },
           "xaxis": "x",
           "y": {
            "bdata": "gNHvJb/4WEChxAdfE+5YQN8klwa54lhA9ltPBy3aWECPYPkixNVYQLPu1x9l4lhAJFeHSijfWEAJUu9IbOBYQDZpnDMd41hAH0XxtBTkWEDto2iXtuNYQK2xef0w3FhAZ4809ZrlWEA7QQajTPFYQPZcbImo5lhAe09PiTvgWED8N/Tckd5YQIq+FlWG2FhAZgQIE+TbWED8XSOkW9dYQGIlFKNX5VhAGbj1/xbtWEASG5QMlO5YQB0dcm5H9VhAlqRPG3z8WEAY2DLnAPlYQNsye2Ho81hA31eqLYn0WECxYqimLfpYQKWkbEEy+1hAQ17ERTvxWEB7vGWxOOxYQNKiiUPg61hAPOKwD4XrWECZA3SkRfhYQNyHlZuH71hArKawu+TyWECUzppDjfxYQH+7SZM3C1lAjLNSx8EIWUDfCmK0BwxZQGc1zvfND1lAzvRkAy8RWUDi71HVrRBZQEKUQueYE1lA6jDh1oQDWUCurCocAwhZQA==",
            "dtype": "f8"
           },
           "yaxis": "y"
          },
          {
           "line": {
            "color": "rgba(178, 34, 34, 0.9)",
            "width": 2
           },
           "name": "Bid",
           "type": "scatter",
           "x": {
            "bdata": "AAECAwQFBgcICQoLDA0ODxAREhMUFRYXGBkaGxwdHh8gISIjJCUmJygpKissLS4=",
            "dtype": "i1"
           },
           "xaxis": "x",
           "y": {
            "bdata": "GmuJv1jyWEA7XqH4rOdYQHm+MKBS3FhAkPXooMbTWEAp+pK8Xc9YQE2Icbn+21hAvvAg5MHYWECj64jiBdpYQNACNs223FhAud6KTq7dWECHPQIxUN1YQEdLE5fK1VhAASnOjjTfWEDV2p885upYQJD2BSNC4FhAFenoItXZWECW0Y12K9hYQCRYsO4f0lhAAJ6hrH3VWECW97w99dBYQPy+rTzx3lhAs1GPmbDmWECstC2mLehYQLe2Cwjh7lhAMD7ptBX2WECyccyAmvJYQHXMFPuB7VhAefFDxyLuWEBL/EFAx/NYQD8+BtvL9FhA3fdd39TqWEAVVv9K0uVYQGw8I9155VhA1ntKqR7lWEAznQ0+3/FYQHYhLzUh6VhARkBKVX7sWEAuaDTdJvZYQBlV4yzRBFlAJk3sYFsCWUB5pPtNoQVZQAHPZ5FnCVlAaI7+nMgKWUB8ietuRwpZQNwt3IAyDVlAhMp6cB79WEBIRsS1nAFZQA==",
            "dtype": "f8"
           },
           "yaxis": "y"
          },
          {
           "line": {
            "color": "rgba(70, 130, 180, 0.9)",
            "width": 2
           },
           "name": "Ask",
           "type": "scatter",
           "x": {
            "bdata": "AAECAwQFBgcICQoLDA0ODxAREhMUFRYXGBkaGxwdHh8gISIjJCUmJygpKissLS4=",
            "dtype": "i1"
           },
           "xaxis": "x",
           "y": {
            "bdata": "5jdWjCX/WEAHK27FefRYQEWL/Wwf6VhAXMK1bZPgWED1xl+JKtxYQBlVPobL6FhAir3tsI7lWEBvuFWv0uZYQJzPApqD6VhAhatXG3vqWEBTCs/9HOpYQBMY4GOX4lhAzfWaWwHsWEChp2wJs/dYQFzD0u8O7VhA4bW176HmWEBinlpD+ORYQPAkfbvs3lhAzGpueUriWEBixIkKwt1YQMiLegm+61hAfx5cZn3zWEB4gfpy+vRYQIOD2NSt+1hA/Aq2geICWUB+PplNZ/9YQEGZ4cdO+lhARb4QlO/6WEAXyQ4NlABZQAsL06eYAVlAqcQqrKH3WEDhIswXn/JYQDgJ8KlG8lhAokgXduvxWED/adoKrP5YQELu+wHu9VhAEg0XIkv5WED6NAGq8wJZQOUhsPmdEVlA8hm5LSgPWUBFccgabhJZQM2bNF40FllANFvLaZUXWUBIVrg7FBdZQKj6qE3/GVlAUJdHPesJWUAUE5GCaQ5ZQA==",
            "dtype": "f8"
           },
           "yaxis": "y"
          },
          {
           "marker": {
            "color": [
             "rgba(31, 119, 180, 0.8)",
             "rgba(31, 119, 180, 0.8)",
             "rgba(31, 119, 180, 0.8)",
             "rgba(31, 119, 180, 0.8)",
             "rgba(31, 119, 180, 0.8)",
             "rgba(31, 119, 180, 0.8)",
             "rgba(178, 34, 34, 0.8)",
             "rgba(31, 119, 180, 0.8)",
             "rgba(31, 119, 180, 0.8)",
             "rgba(31, 119, 180, 0.8)",
             "rgba(31, 119, 180, 0.8)",
             "rgba(31, 119, 180, 0.8)",
             "rgba(178, 34, 34, 0.8)",
             "rgba(178, 34, 34, 0.8)",
             "rgba(31, 119, 180, 0.8)",
             "rgba(31, 119, 180, 0.8)",
             "rgba(31, 119, 180, 0.8)",
             "rgba(31, 119, 180, 0.8)",
             "rgba(178, 34, 34, 0.8)",
             "rgba(31, 119, 180, 0.8)",
             "rgba(178, 34, 34, 0.8)",
             "rgba(178, 34, 34, 0.8)",
             "rgba(178, 34, 34, 0.8)",
             "rgba(178, 34, 34, 0.8)",
             "rgba(178, 34, 34, 0.8)",
             "rgba(31, 119, 180, 0.8)",
             "rgba(31, 119, 180, 0.8)",
             "rgba(31, 119, 180, 0.8)",
             "rgba(178, 34, 34, 0.8)",
             "rgba(31, 119, 180, 0.8)",
             "rgba(31, 119, 180, 0.8)",
             "rgba(31, 119, 180, 0.8)",
             "rgba(31, 119, 180, 0.8)",
             "rgba(31, 119, 180, 0.8)",
             "rgba(178, 34, 34, 0.8)",
             "rgba(31, 119, 180, 0.8)",
             "rgba(178, 34, 34, 0.8)",
             "rgba(178, 34, 34, 0.8)",
             "rgba(178, 34, 34, 0.8)",
             "rgba(31, 119, 180, 0.8)",
             "rgba(178, 34, 34, 0.8)",
             "rgba(178, 34, 34, 0.8)",
             "rgba(31, 119, 180, 0.8)",
             "rgba(31, 119, 180, 0.8)",
             "rgba(178, 34, 34, 0.8)",
             "rgba(31, 119, 180, 0.8)",
             "rgba(31, 119, 180, 0.8)"
            ]
           },
           "name": "Trade P&L",
           "type": "bar",
           "x": {
            "bdata": "AAECAwQFBgcICQoLDA0ODxAREhMUFRYXGBkaGxwdHh8gISIjJCUmJygpKissLS4=",
            "dtype": "i1"
           },
           "xaxis": "x2",
           "y": {
            "bdata": "mpmZmZmZuT9mJIA29L3bP2YoBte+wNE/mpmZmZmZuT8AAAAAAAAAAGaK9ERjB9M/AHi8hKrmqb+amZmZmZm5PzTLecrdq60/mlG68o7dsT+a8ScB/AK+P2bmSkSacdU/AHS7de/T0r+aFa8Oo67cvwDPrM1M7N8/AHEoVwBH0z/NxIilLxrKPzPQ4twGUOI/M4N5ghqYy78zpnlTtxDjP2Yy9UdkXvq/TU1O4pHq579mhsUy+ge2v03z01WjQOS/gCdaB1046b8AcpfJbF7YP4BVwgLU1eE/aGbk004Alj/Nq/JFdIzgv6CZqzZzsXI/GsUUANIJ8z8zU7qthD3nP80KNNbOosE/zdTT9ToTwT9NNaC0QK7svzOtKvBEr+Q/zEywV8+Hrb/NnByh3B3gv00tMFNEzOK/ZjKGQpY90D8zcZzMde7DvwCo1BxR39K/0EwZbQFHjD8AgJ1gwiWgP8zMNVx71qK/M4uWlENH4z9oJqrOEYKePw==",
            "dtype": "f8"
           },
           "yaxis": "y2"
          },
          {
           "line": {
            "color": "rgba(60, 179, 113, 0.9)",
            "width": 2
           },
           "name": "Cumulative P&L",
           "type": "scatter",
           "x": {
            "bdata": "AAECAwQFBgcICQoLDA0ODxAREhMUFRYXGBkaGxwdHh8gISIjJCUmJygpKissLS4=",
            "dtype": "i1"
           },
           "xaxis": "x2",
           "y": {
            "bdata": "AAAAAAAAAABmJIA29L3bP2Ymw4ZZv+Y/mVn2uYzy6T+ZWfa5jPLpP2ZPOC4fu/E/pmsS2unr8D9ABaxzg4XyP5rT/2HicvM/tHgrUbuQ9D/O9z0R63D2P2ixUKJRzfs/aNThxFUY9z8DHmwCWtnvP8JCoTTA5/c/Al9rSoC5/D+cdxw/xvz/P9vvxtZkkgRAqFefLuPYAkA1wX0DEZ0HQARQBr+92/Q/u1K+m+nM4T/cQ8uq1BfeP3xFuQHk0sS/33jIBxZt7r/fv/yi3z3iv8CXmg7oAoq/EDUumbX9gT/58o1vfUTgv8abIIkaH+C/bu4Id4n05T/QoGESB5n2PyoiKO1gzfg/xJziS8jv+j87BCXjTzHpP7fYp2lK8PY/UVbq7gsE9j/VD7g8O+rrPxDFD9PtO9I/u/vKCsI84T/cvkcvSYLYP3BbzEngi7Y/CoVvd8AUuj+FIt/T0BPBP6Reo/ljvLg/CPfKE9Be5j87SECi4FLnPw==",
            "dtype": "f8"
           },
           "yaxis": "y2"
          }
         ]
        },
        {
         "data": [
          {
           "line": {
            "color": "rgba(60, 179, 113, 0.9)",
            "dash": "dot",
            "width": 2
           },
           "name": "Mid Price (Estimated)",
           "type": "scatter",
           "x": {
            "bdata": "AAECAwQFBgcICQoLDA0ODxAREhMUFRYXGBkaGxwdHh8gISIjJCUmJygpKissLS4v",
            "dtype": "i1"
           },
           "xaxis": "x",
           "y": {
            "bdata": "gNHvJb/4WEChxAdfE+5YQN8klwa54lhA9ltPBy3aWECPYPkixNVYQLPu1x9l4lhAJFeHSijfWEAJUu9IbOBYQDZpnDMd41hAH0XxtBTkWEDto2iXtuNYQK2xef0w3FhAZ4809ZrlWEA7QQajTPFYQPZcbImo5lhAe09PiTvgWED8N/Tckd5YQIq+FlWG2FhAZgQIE+TbWED8XSOkW9dYQGIlFKNX5VhAGbj1/xbtWEASG5QMlO5YQB0dcm5H9VhAlqRPG3z8WEAY2DLnAPlYQNsye2Ho81hA31eqLYn0WECxYqimLfpYQKWkbEEy+1hAQ17ERTvxWEB7vGWxOOxYQNKiiUPg61hAPOKwD4XrWECZA3SkRfhYQNyHlZuH71hArKawu+TyWECUzppDjfxYQH+7SZM3C1lAjLNSx8EIWUDfCmK0BwxZQGc1zvfND1lAzvRkAy8RWUDi71HVrRBZQEKUQueYE1lA6jDh1oQDWUCurCocAwhZQK+Qn5vyCFlA",
            "dtype": "f8"
           },
           "yaxis": "y"
          },
          {
           "line": {
            "color": "rgba(178, 34, 34, 0.9)",
            "width": 2
           },
           "name": "Bid",
           "type": "scatter",
           "x": {
            "bdata": "AAECAwQFBgcICQoLDA0ODxAREhMUFRYXGBkaGxwdHh8gISIjJCUmJygpKissLS4v",
            "dtype": "i1"
           },
           "xaxis": "x",
           "y": {
            "bdata": "GmuJv1jyWEA7XqH4rOdYQHm+MKBS3FhAkPXooMbTWEAp+pK8Xc9YQE2Icbn+21hAvvAg5MHYWECj64jiBdpYQNACNs223FhAud6KTq7dWECHPQIxUN1YQEdLE5fK1VhAASnOjjTfWEDV2p885upYQJD2BSNC4FhAFenoItXZWECW0Y12K9hYQCRYsO4f0lhAAJ6hrH3VWECW97w99dBYQPy+rTzx3lhAs1GPmbDmWECstC2mLehYQLe2Cwjh7lhAMD7ptBX2WECyccyAmvJYQHXMFPuB7VhAefFDxyLuWEBL/EFAx/NYQD8+BtvL9FhA3fdd39TqWEAVVv9K0uVYQGw8I9155VhA1ntKqR7lWEAznQ0+3/FYQHYhLzUh6VhARkBKVX7sWEAuaDTdJvZYQBlV4yzRBFlAJk3sYFsCWUB5pPtNoQVZQAHPZ5FnCVlAaI7+nMgKWUB8ietuRwpZQNwt3IAyDVlAhMp6cB79WEBIRsS1nAFZQEkqOTWMAllA",
            "dtype": "f8"
           },
           "yaxis": "y"
          },
          {
           "line": {
            "color": "rgba(70, 130, 180, 0.9)",
            "width": 2
           },
           "name": "Ask",
           "type": "scatter",
           "x": {
            "bdata": "AAECAwQFBgcICQoLDA0ODxAREhMUFRYXGBkaGxwdHh8gISIjJCUmJygpKissLS4v",
            "dtype": "i1"
           },
           "xaxis": "x",
           "y": {
            "bdata": "5jdWjCX/WEAHK27FefRYQEWL/Wwf6VhAXMK1bZPgWED1xl+JKtxYQBlVPobL6FhAir3tsI7lWEBvuFWv0uZYQJzPApqD6VhAhatXG3vqWEBTCs/9HOpYQBMY4GOX4lhAzfWaWwHsWEChp2wJs/dYQFzD0u8O7VhA4bW176HmWEBinlpD+ORYQPAkfbvs3lhAzGpueUriWEBixIkKwt1YQMiLegm+61hAfx5cZn3zWEB4gfpy+vRYQIOD2NSt+1hA/Aq2geICWUB+PplNZ/9YQEGZ4cdO+lhARb4QlO/6WEAXyQ4NlABZQAsL06eYAVlAqcQqrKH3WEDhIswXn/JYQDgJ8KlG8lhAokgXduvxWED/adoKrP5YQELu+wHu9VhAEg0XIkv5WED6NAGq8wJZQOUhsPmdEVlA8hm5LSgPWUBFccgabhJZQM2bNF40FllANFvLaZUXWUBIVrg7FBdZQKj6qE3/GVlAUJdHPesJWUAUE5GCaQ5ZQBX3BQJZD1lA",
            "dtype": "f8"
           },
           "yaxis": "y"
          },
          {
           "marker": {
            "color": [
             "rgba(31, 119, 180, 0.8)",
             "rgba(31, 119, 180, 0.8)",
             "rgba(31, 119, 180, 0.8)",
             "rgba(31, 119, 180, 0.8)",
             "rgba(31, 119, 180, 0.8)",
             "rgba(31, 119, 180, 0.8)",
             "rgba(178, 34, 34, 0.8)",
             "rgba(31, 119, 180, 0.8)",
             "rgba(31, 119, 180, 0.8)",
             "rgba(31, 119, 180, 0.8)",
             "rgba(31, 119, 180, 0.8)",
             "rgba(31, 119, 180, 0.8)",
             "rgba(178, 34, 34, 0.8)",
             "rgba(178, 34, 34, 0.8)",
             "rgba(31, 119, 180, 0.8)",
             "rgba(31, 119, 180, 0.8)",
             "rgba(31, 119, 180, 0.8)",
             "rgba(31, 119, 180, 0.8)",
             "rgba(178, 34, 34, 0.8)",
             "rgba(31, 119, 180, 0.8)",
             "rgba(178, 34, 34, 0.8)",
             "rgba(178, 34, 34, 0.8)",
             "rgba(178, 34, 34, 0.8)",
             "rgba(178, 34, 34, 0.8)",
             "rgba(178, 34, 34, 0.8)",
             "rgba(31, 119, 180, 0.8)",
             "rgba(31, 119, 180, 0.8)",
             "rgba(31, 119, 180, 0.8)",
             "rgba(178, 34, 34, 0.8)",
             "rgba(31, 119, 180, 0.8)",
             "rgba(31, 119, 180, 0.8)",
             "rgba(31, 119, 180, 0.8)",
             "rgba(31, 119, 180, 0.8)",
             "rgba(31, 119, 180, 0.8)",
             "rgba(178, 34, 34, 0.8)",
             "rgba(31, 119, 180, 0.8)",
             "rgba(178, 34, 34, 0.8)",
             "rgba(178, 34, 34, 0.8)",
             "rgba(178, 34, 34, 0.8)",
             "rgba(31, 119, 180, 0.8)",
             "rgba(178, 34, 34, 0.8)",
             "rgba(178, 34, 34, 0.8)",
             "rgba(31, 119, 180, 0.8)",
             "rgba(31, 119, 180, 0.8)",
             "rgba(178, 34, 34, 0.8)",
             "rgba(31, 119, 180, 0.8)",
             "rgba(31, 119, 180, 0.8)",
             "rgba(31, 119, 180, 0.8)"
            ]
           },
           "name": "Trade P&L",
           "type": "bar",
           "x": {
            "bdata": "AAECAwQFBgcICQoLDA0ODxAREhMUFRYXGBkaGxwdHh8gISIjJCUmJygpKissLS4v",
            "dtype": "i1"
           },
           "xaxis": "x2",
           "y": {
            "bdata": "mpmZmZmZuT9mJIA29L3bP2YoBte+wNE/mpmZmZmZuT8AAAAAAAAAAGaK9ERjB9M/AHi8hKrmqb+amZmZmZm5PzTLecrdq60/mlG68o7dsT+a8ScB/AK+P2bmSkSacdU/AHS7de/T0r+aFa8Oo67cvwDPrM1M7N8/AHEoVwBH0z/NxIilLxrKPzPQ4twGUOI/M4N5ghqYy78zpnlTtxDjP2Yy9UdkXvq/TU1O4pHq579mhsUy+ge2v03z01WjQOS/gCdaB1046b8AcpfJbF7YP4BVwgLU1eE/aGbk004Alj/Nq/JFdIzgv6CZqzZzsXI/GsUUANIJ8z8zU7qthD3nP80KNNbOosE/zdTT9ToTwT9NNaC0QK7svzOtKvBEr+Q/zEywV8+Hrb/NnByh3B3gv00tMFNEzOK/ZjKGQpY90D8zcZzMde7DvwCo1BxR39K/0EwZbQFHjD8AgJ1gwiWgP8zMNVx71qK/M4uWlENH4z9oJqrOEYKeP5qRefKdHbI/",
            "dtype": "f8"
           },
           "yaxis": "y2"
          },
          {
           "line": {
            "color": "rgba(60, 179, 113, 0.9)",
            "width": 2
           },
           "name": "Cumulative P&L",
           "type": "scatter",
           "x": {
            "bdata": "AAECAwQFBgcICQoLDA0ODxAREhMUFRYXGBkaGxwdHh8gISIjJCUmJygpKissLS4v",
            "dtype": "i1"
           },
           "xaxis": "x2",
           "y": {
            "bdata": "AAAAAAAAAABmJIA29L3bP2Ymw4ZZv+Y/mVn2uYzy6T+ZWfa5jPLpP2ZPOC4fu/E/pmsS2unr8D9ABaxzg4XyP5rT/2HicvM/tHgrUbuQ9D/O9z0R63D2P2ixUKJRzfs/aNThxFUY9z8DHmwCWtnvP8JCoTTA5/c/Al9rSoC5/D+cdxw/xvz/P9vvxtZkkgRAqFefLuPYAkA1wX0DEZ0HQARQBr+92/Q/u1K+m+nM4T/cQ8uq1BfeP3xFuQHk0sS/33jIBxZt7r/fv/yi3z3iv8CXmg7oAoq/EDUumbX9gT/58o1vfUTgv8abIIkaH+C/bu4Id4n05T/QoGESB5n2PyoiKO1gzfg/xJziS8jv+j87BCXjTzHpP7fYp2lK8PY/UVbq7gsE9j/VD7g8O+rrPxDFD9PtO9I/u/vKCsI84T/cvkcvSYLYP3BbzEngi7Y/CoVvd8AUuj+FIt/T0BPBP6Reo/ljvLg/CPfKE9Be5j87SECi4FLnP256j2CUluk/",
            "dtype": "f8"
           },
           "yaxis": "y2"
          }
         ]
        },
        {
         "data": [
          {
           "line": {
            "color": "rgba(60, 179, 113, 0.9)",
            "dash": "dot",
            "width": 2
           },
           "name": "Mid Price (Estimated)",
           "type": "scatter",
           "x": {
            "bdata": "AAECAwQFBgcICQoLDA0ODxAREhMUFRYXGBkaGxwdHh8gISIjJCUmJygpKissLS4vMA==",
            "dtype": "i1"
           },
           "xaxis": "x",
           "y": {
            "bdata": "gNHvJb/4WEChxAdfE+5YQN8klwa54lhA9ltPBy3aWECPYPkixNVYQLPu1x9l4lhAJFeHSijfWEAJUu9IbOBYQDZpnDMd41hAH0XxtBTkWEDto2iXtuNYQK2xef0w3FhAZ4809ZrlWEA7QQajTPFYQPZcbImo5lhAe09PiTvgWED8N/Tckd5YQIq+FlWG2FhAZgQIE+TbWED8XSOkW9dYQGIlFKNX5VhAGbj1/xbtWEASG5QMlO5YQB0dcm5H9VhAlqRPG3z8WEAY2DLnAPlYQNsye2Ho81hA31eqLYn0WECxYqimLfpYQKWkbEEy+1hAQ17ERTvxWEB7vGWxOOxYQNKiiUPg61hAPOKwD4XrWECZA3SkRfhYQNyHlZuH71hArKawu+TyWECUzppDjfxYQH+7SZM3C1lAjLNSx8EIWUDfCmK0BwxZQGc1zvfND1lAzvRkAy8RWUDi71HVrRBZQEKUQueYE1lA6jDh1oQDWUCurCocAwhZQK+Qn5vyCFlALBF/36YHWUA=",
            "dtype": "f8"
           },
           "yaxis": "y"
          },
          {
           "line": {
            "color": "rgba(178, 34, 34, 0.9)",
            "width": 2
           },
           "name": "Bid",
           "type": "scatter",
           "x": {
            "bdata": "AAECAwQFBgcICQoLDA0ODxAREhMUFRYXGBkaGxwdHh8gISIjJCUmJygpKissLS4vMA==",
            "dtype": "i1"
           },
           "xaxis": "x",
           "y": {
            "bdata": "GmuJv1jyWEA7XqH4rOdYQHm+MKBS3FhAkPXooMbTWEAp+pK8Xc9YQE2Icbn+21hAvvAg5MHYWECj64jiBdpYQNACNs223FhAud6KTq7dWECHPQIxUN1YQEdLE5fK1VhAASnOjjTfWEDV2p885upYQJD2BSNC4FhAFenoItXZWECW0Y12K9hYQCRYsO4f0lhAAJ6hrH3VWECW97w99dBYQPy+rTzx3lhAs1GPmbDmWECstC2mLehYQLe2Cwjh7lhAMD7ptBX2WECyccyAmvJYQHXMFPuB7VhAefFDxyLuWEBL/EFAx/NYQD8+BtvL9FhA3fdd39TqWEAVVv9K0uVYQGw8I9155VhA1ntKqR7lWEAznQ0+3/FYQHYhLzUh6VhARkBKVX7sWEAuaDTdJvZYQBlV4yzRBFlAJk3sYFsCWUB5pPtNoQVZQAHPZ5FnCVlAaI7+nMgKWUB8ietuRwpZQNwt3IAyDVlAhMp6cB79WEBIRsS1nAFZQEkqOTWMAllAxqoYeUABWUA=",
            "dtype": "f8"
           },
           "yaxis": "y"
          },
          {
           "line": {
            "color": "rgba(70, 130, 180, 0.9)",
            "width": 2
           },
           "name": "Ask",
           "type": "scatter",
           "x": {
            "bdata": "AAECAwQFBgcICQoLDA0ODxAREhMUFRYXGBkaGxwdHh8gISIjJCUmJygpKissLS4vMA==",
            "dtype": "i1"
           },
           "xaxis": "x",
           "y": {
            "bdata": "5jdWjCX/WEAHK27FefRYQEWL/Wwf6VhAXMK1bZPgWED1xl+JKtxYQBlVPobL6FhAir3tsI7lWEBvuFWv0uZYQJzPApqD6VhAhatXG3vqWEBTCs/9HOpYQBMY4GOX4lhAzfWaWwHsWEChp2wJs/dYQFzD0u8O7VhA4bW176HmWEBinlpD+ORYQPAkfbvs3lhAzGpueUriWEBixIkKwt1YQMiLegm+61hAfx5cZn3zWEB4gfpy+vRYQIOD2NSt+1hA/Aq2geICWUB+PplNZ/9YQEGZ4cdO+lhARb4QlO/6WEAXyQ4NlABZQAsL06eYAVlAqcQqrKH3WEDhIswXn/JYQDgJ8KlG8lhAokgXduvxWED/adoKrP5YQELu+wHu9VhAEg0XIkv5WED6NAGq8wJZQOUhsPmdEVlA8hm5LSgPWUBFccgabhJZQM2bNF40FllANFvLaZUXWUBIVrg7FBdZQKj6qE3/GVlAUJdHPesJWUAUE5GCaQ5ZQBX3BQJZD1lAknflRQ0OWUA=",
            "dtype": "f8"
           },
           "yaxis": "y"
          },
          {
           "marker": {
            "color": [
             "rgba(31, 119, 180, 0.8)",
             "rgba(31, 119, 180, 0.8)",
             "rgba(31, 119, 180, 0.8)",
             "rgba(31, 119, 180, 0.8)",
             "rgba(31, 119, 180, 0.8)",
             "rgba(31, 119, 180, 0.8)",
             "rgba(178, 34, 34, 0.8)",
             "rgba(31, 119, 180, 0.8)",
             "rgba(31, 119, 180, 0.8)",
             "rgba(31, 119, 180, 0.8)",
             "rgba(31, 119, 180, 0.8)",
             "rgba(31, 119, 180, 0.8)",
             "rgba(178, 34, 34, 0.8)",
             "rgba(178, 34, 34, 0.8)",
             "rgba(31, 119, 180, 0.8)",
             "rgba(31, 119, 180, 0.8)",
             "rgba(31, 119, 180, 0.8)",
             "rgba(31, 119, 180, 0.8)",
             "rgba(178, 34, 34, 0.8)",
             "rgba(31, 119, 180, 0.8)",
             "rgba(178, 34, 34, 0.8)",
             "rgba(178, 34, 34, 0.8)",
             "rgba(178, 34, 34, 0.8)",
             "rgba(178, 34, 34, 0.8)",
             "rgba(178, 34, 34, 0.8)",
             "rgba(31, 119, 180, 0.8)",
             "rgba(31, 119, 180, 0.8)",
             "rgba(31, 119, 180, 0.8)",
             "rgba(178, 34, 34, 0.8)",
             "rgba(31, 119, 180, 0.8)",
             "rgba(31, 119, 180, 0.8)",
             "rgba(31, 119, 180, 0.8)",
             "rgba(31, 119, 180, 0.8)",
             "rgba(31, 119, 180, 0.8)",
             "rgba(178, 34, 34, 0.8)",
             "rgba(31, 119, 180, 0.8)",
             "rgba(178, 34, 34, 0.8)",
             "rgba(178, 34, 34, 0.8)",
             "rgba(178, 34, 34, 0.8)",
             "rgba(31, 119, 180, 0.8)",
             "rgba(178, 34, 34, 0.8)",
             "rgba(178, 34, 34, 0.8)",
             "rgba(31, 119, 180, 0.8)",
             "rgba(31, 119, 180, 0.8)",
             "rgba(178, 34, 34, 0.8)",
             "rgba(31, 119, 180, 0.8)",
             "rgba(31, 119, 180, 0.8)",
             "rgba(31, 119, 180, 0.8)",
             "rgba(31, 119, 180, 0.8)"
            ]
           },
           "name": "Trade P&L",
           "type": "bar",
           "x": {
            "bdata": "AAECAwQFBgcICQoLDA0ODxAREhMUFRYXGBkaGxwdHh8gISIjJCUmJygpKissLS4vMA==",
            "dtype": "i1"
           },
           "xaxis": "x2",
           "y": {
            "bdata": "mpmZmZmZuT9mJIA29L3bP2YoBte+wNE/mpmZmZmZuT8AAAAAAAAAAGaK9ERjB9M/AHi8hKrmqb+amZmZmZm5PzTLecrdq60/mlG68o7dsT+a8ScB/AK+P2bmSkSacdU/AHS7de/T0r+aFa8Oo67cvwDPrM1M7N8/AHEoVwBH0z/NxIilLxrKPzPQ4twGUOI/M4N5ghqYy78zpnlTtxDjP2Yy9UdkXvq/TU1O4pHq579mhsUy+ge2v03z01WjQOS/gCdaB1046b8AcpfJbF7YP4BVwgLU1eE/aGbk004Alj/Nq/JFdIzgv6CZqzZzsXI/GsUUANIJ8z8zU7qthD3nP80KNNbOosE/zdTT9ToTwT9NNaC0QK7svzOtKvBEr+Q/zEywV8+Hrb/NnByh3B3gv00tMFNEzOK/ZjKGQpY90D8zcZzMde7DvwCo1BxR39K/0EwZbQFHjD8AgJ1gwiWgP8zMNVx71qK/M4uWlENH4z9oJqrOEYKeP5qRefKdHbI/zd7JjzWTxD8=",
            "dtype": "f8"
           },
           "yaxis": "y2"
          },
          {
           "line": {
            "color": "rgba(60, 179, 113, 0.9)",
            "width": 2
           },
           "name": "Cumulative P&L",
           "type": "scatter",
           "x": {
            "bdata": "AAECAwQFBgcICQoLDA0ODxAREhMUFRYXGBkaGxwdHh8gISIjJCUmJygpKissLS4vMA==",
            "dtype": "i1"
           },
           "xaxis": "x2",
           "y": {
            "bdata": "AAAAAAAAAABmJIA29L3bP2Ymw4ZZv+Y/mVn2uYzy6T+ZWfa5jPLpP2ZPOC4fu/E/pmsS2unr8D9ABaxzg4XyP5rT/2HicvM/tHgrUbuQ9D/O9z0R63D2P2ixUKJRzfs/aNThxFUY9z8DHmwCWtnvP8JCoTTA5/c/Al9rSoC5/D+cdxw/xvz/P9vvxtZkkgRAqFefLuPYAkA1wX0DEZ0HQARQBr+92/Q/u1K+m+nM4T/cQ8uq1BfeP3xFuQHk0sS/33jIBxZt7r/fv/yi3z3iv8CXmg7oAoq/EDUumbX9gT/58o1vfUTgv8abIIkaH+C/bu4Id4n05T/QoGESB5n2PyoiKO1gzfg/xJziS8jv+j87BCXjTzHpP7fYp2lK8PY/UVbq7gsE9j/VD7g8O+rrPxDFD9PtO9I/u/vKCsI84T/cvkcvSYLYP3BbzEngi7Y/CoVvd8AUuj+FIt/T0BPBP6Reo/ljvLg/CPfKE9Be5j87SECi4FLnP256j2CUluk/IfKBxGG77j8=",
            "dtype": "f8"
           },
           "yaxis": "y2"
          }
         ]
        },
        {
         "data": [
          {
           "line": {
            "color": "rgba(60, 179, 113, 0.9)",
            "dash": "dot",
            "width": 2
           },
           "name": "Mid Price (Estimated)",
           "type": "scatter",
           "x": {
            "bdata": "AAECAwQFBgcICQoLDA0ODxAREhMUFRYXGBkaGxwdHh8gISIjJCUmJygpKissLS4vMDE=",
            "dtype": "i1"
           },
           "xaxis": "x",
           "y": {
            "bdata": "gNHvJb/4WEChxAdfE+5YQN8klwa54lhA9ltPBy3aWECPYPkixNVYQLPu1x9l4lhAJFeHSijfWEAJUu9IbOBYQDZpnDMd41hAH0XxtBTkWEDto2iXtuNYQK2xef0w3FhAZ4809ZrlWEA7QQajTPFYQPZcbImo5lhAe09PiTvgWED8N/Tckd5YQIq+FlWG2FhAZgQIE+TbWED8XSOkW9dYQGIlFKNX5VhAGbj1/xbtWEASG5QMlO5YQB0dcm5H9VhAlqRPG3z8WEAY2DLnAPlYQNsye2Ho81hA31eqLYn0WECxYqimLfpYQKWkbEEy+1hAQ17ERTvxWEB7vGWxOOxYQNKiiUPg61hAPOKwD4XrWECZA3SkRfhYQNyHlZuH71hArKawu+TyWECUzppDjfxYQH+7SZM3C1lAjLNSx8EIWUDfCmK0BwxZQGc1zvfND1lAzvRkAy8RWUDi71HVrRBZQEKUQueYE1lA6jDh1oQDWUCurCocAwhZQK+Qn5vyCFlALBF/36YHWUBId1U44RRZQA==",
            "dtype": "f8"
           },
           "yaxis": "y"
          },
          {
           "line": {
            "color": "rgba(178, 34, 34, 0.9)",
            "width": 2
           },
           "name": "Bid",
           "type": "scatter",
           "x": {
            "bdata": "AAECAwQFBgcICQoLDA0ODxAREhMUFRYXGBkaGxwdHh8gISIjJCUmJygpKissLS4vMDE=",
            "dtype": "i1"
           },
           "xaxis": "x",
           "y": {
            "bdata": "GmuJv1jyWEA7XqH4rOdYQHm+MKBS3FhAkPXooMbTWEAp+pK8Xc9YQE2Icbn+21hAvvAg5MHYWECj64jiBdpYQNACNs223FhAud6KTq7dWECHPQIxUN1YQEdLE5fK1VhAASnOjjTfWEDV2p885upYQJD2BSNC4FhAFenoItXZWECW0Y12K9hYQCRYsO4f0lhAAJ6hrH3VWECW97w99dBYQPy+rTzx3lhAs1GPmbDmWECstC2mLehYQLe2Cwjh7lhAMD7ptBX2WECyccyAmvJYQHXMFPuB7VhAefFDxyLuWEBL/EFAx/NYQD8+BtvL9FhA3fdd39TqWEAVVv9K0uVYQGw8I9155VhA1ntKqR7lWEAznQ0+3/FYQHYhLzUh6VhARkBKVX7sWEAuaDTdJvZYQBlV4yzRBFlAJk3sYFsCWUB5pPtNoQVZQAHPZ5FnCVlAaI7+nMgKWUB8ietuRwpZQNwt3IAyDVlAhMp6cB79WEBIRsS1nAFZQEkqOTWMAllAxqoYeUABWUDiEO/Reg5ZQA==",
            "dtype": "f8"
           },
           "yaxis": "y"
          },
          {
           "line": {
            "color": "rgba(70, 130, 180, 0.9)",
            "width": 2
           },
           "name": "Ask",
           "type": "scatter",
           "x": {
            "bdata": "AAECAwQFBgcICQoLDA0ODxAREhMUFRYXGBkaGxwdHh8gISIjJCUmJygpKissLS4vMDE=",
            "dtype": "i1"
           },
           "xaxis": "x",
           "y": {
            "bdata": "5jdWjCX/WEAHK27FefRYQEWL/Wwf6VhAXMK1bZPgWED1xl+JKtxYQBlVPobL6FhAir3tsI7lWEBvuFWv0uZYQJzPApqD6VhAhatXG3vqWEBTCs/9HOpYQBMY4GOX4lhAzfWaWwHsWEChp2wJs/dYQFzD0u8O7VhA4bW176HmWEBinlpD+ORYQPAkfbvs3lhAzGpueUriWEBixIkKwt1YQMiLegm+61hAfx5cZn3zWEB4gfpy+vRYQIOD2NSt+1hA/Aq2geICWUB+PplNZ/9YQEGZ4cdO+lhARb4QlO/6WEAXyQ4NlABZQAsL06eYAVlAqcQqrKH3WEDhIswXn/JYQDgJ8KlG8lhAokgXduvxWED/adoKrP5YQELu+wHu9VhAEg0XIkv5WED6NAGq8wJZQOUhsPmdEVlA8hm5LSgPWUBFccgabhJZQM2bNF40FllANFvLaZUXWUBIVrg7FBdZQKj6qE3/GVlAUJdHPesJWUAUE5GCaQ5ZQBX3BQJZD1lAknflRQ0OWUCu3bueRxtZQA==",
            "dtype": "f8"
           },
           "yaxis": "y"
          },
          {
           "marker": {
            "color": [
             "rgba(31, 119, 180, 0.8)",
             "rgba(31, 119, 180, 0.8)",
             "rgba(31, 119, 180, 0.8)",
             "rgba(31, 119, 180, 0.8)",
             "rgba(31, 119, 180, 0.8)",
             "rgba(31, 119, 180, 0.8)",
             "rgba(178, 34, 34, 0.8)",
             "rgba(31, 119, 180, 0.8)",
             "rgba(31, 119, 180, 0.8)",
             "rgba(31, 119, 180, 0.8)",
             "rgba(31, 119, 180, 0.8)",
             "rgba(31, 119, 180, 0.8)",
             "rgba(178, 34, 34, 0.8)",
             "rgba(178, 34, 34, 0.8)",
             "rgba(31, 119, 180, 0.8)",
             "rgba(31, 119, 180, 0.8)",
             "rgba(31, 119, 180, 0.8)",
             "rgba(31, 119, 180, 0.8)",
             "rgba(178, 34, 34, 0.8)",
             "rgba(31, 119, 180, 0.8)",
             "rgba(178, 34, 34, 0.8)",
             "rgba(178, 34, 34, 0.8)",
             "rgba(178, 34, 34, 0.8)",
             "rgba(178, 34, 34, 0.8)",
             "rgba(178, 34, 34, 0.8)",
             "rgba(31, 119, 180, 0.8)",
             "rgba(31, 119, 180, 0.8)",
             "rgba(31, 119, 180, 0.8)",
             "rgba(178, 34, 34, 0.8)",
             "rgba(31, 119, 180, 0.8)",
             "rgba(31, 119, 180, 0.8)",
             "rgba(31, 119, 180, 0.8)",
             "rgba(31, 119, 180, 0.8)",
             "rgba(31, 119, 180, 0.8)",
             "rgba(178, 34, 34, 0.8)",
             "rgba(31, 119, 180, 0.8)",
             "rgba(178, 34, 34, 0.8)",
             "rgba(178, 34, 34, 0.8)",
             "rgba(178, 34, 34, 0.8)",
             "rgba(31, 119, 180, 0.8)",
             "rgba(178, 34, 34, 0.8)",
             "rgba(178, 34, 34, 0.8)",
             "rgba(31, 119, 180, 0.8)",
             "rgba(31, 119, 180, 0.8)",
             "rgba(178, 34, 34, 0.8)",
             "rgba(31, 119, 180, 0.8)",
             "rgba(31, 119, 180, 0.8)",
             "rgba(31, 119, 180, 0.8)",
             "rgba(31, 119, 180, 0.8)",
             "rgba(178, 34, 34, 0.8)"
            ]
           },
           "name": "Trade P&L",
           "type": "bar",
           "x": {
            "bdata": "AAECAwQFBgcICQoLDA0ODxAREhMUFRYXGBkaGxwdHh8gISIjJCUmJygpKissLS4vMDE=",
            "dtype": "i1"
           },
           "xaxis": "x2",
           "y": {
            "bdata": "mpmZmZmZuT9mJIA29L3bP2YoBte+wNE/mpmZmZmZuT8AAAAAAAAAAGaK9ERjB9M/AHi8hKrmqb+amZmZmZm5PzTLecrdq60/mlG68o7dsT+a8ScB/AK+P2bmSkSacdU/AHS7de/T0r+aFa8Oo67cvwDPrM1M7N8/AHEoVwBH0z/NxIilLxrKPzPQ4twGUOI/M4N5ghqYy78zpnlTtxDjP2Yy9UdkXvq/TU1O4pHq579mhsUy+ge2v03z01WjQOS/gCdaB1046b8AcpfJbF7YP4BVwgLU1eE/aGbk004Alj/Nq/JFdIzgv6CZqzZzsXI/GsUUANIJ8z8zU7qthD3nP80KNNbOosE/zdTT9ToTwT9NNaC0QK7svzOtKvBEr+Q/zEywV8+Hrb/NnByh3B3gv00tMFNEzOK/ZjKGQpY90D8zcZzMde7DvwCo1BxR39K/0EwZbQFHjD8AgJ1gwiWgP8zMNVx71qK/M4uWlENH4z9oJqrOEYKeP5qRefKdHbI/zd7JjzWTxD8AKplBhdfjvw==",
            "dtype": "f8"
           },
           "yaxis": "y2"
          },
          {
           "line": {
            "color": "rgba(60, 179, 113, 0.9)",
            "width": 2
           },
           "name": "Cumulative P&L",
           "type": "scatter",
           "x": {
            "bdata": "AAECAwQFBgcICQoLDA0ODxAREhMUFRYXGBkaGxwdHh8gISIjJCUmJygpKissLS4vMDE=",
            "dtype": "i1"
           },
           "xaxis": "x2",
           "y": {
            "bdata": "AAAAAAAAAABmJIA29L3bP2Ymw4ZZv+Y/mVn2uYzy6T+ZWfa5jPLpP2ZPOC4fu/E/pmsS2unr8D9ABaxzg4XyP5rT/2HicvM/tHgrUbuQ9D/O9z0R63D2P2ixUKJRzfs/aNThxFUY9z8DHmwCWtnvP8JCoTTA5/c/Al9rSoC5/D+cdxw/xvz/P9vvxtZkkgRAqFefLuPYAkA1wX0DEZ0HQARQBr+92/Q/u1K+m+nM4T/cQ8uq1BfeP3xFuQHk0sS/33jIBxZt7r/fv/yi3z3iv8CXmg7oAoq/EDUumbX9gT/58o1vfUTgv8abIIkaH+C/bu4Id4n05T/QoGESB5n2PyoiKO1gzfg/xJziS8jv+j87BCXjTzHpP7fYp2lK8PY/UVbq7gsE9j/VD7g8O+rrPxDFD9PtO9I/u/vKCsI84T/cvkcvSYLYP3BbzEngi7Y/CoVvd8AUuj+FIt/T0BPBP6Reo/ljvLg/CPfKE9Be5j87SECi4FLnP256j2CUluk/IfKBxGG77j9CkNEFucfVPw==",
            "dtype": "f8"
           },
           "yaxis": "y2"
          }
         ]
        },
        {
         "data": [
          {
           "line": {
            "color": "rgba(60, 179, 113, 0.9)",
            "dash": "dot",
            "width": 2
           },
           "name": "Mid Price (Estimated)",
           "type": "scatter",
           "x": {
            "bdata": "AAECAwQFBgcICQoLDA0ODxAREhMUFRYXGBkaGxwdHh8gISIjJCUmJygpKissLS4vMDEy",
            "dtype": "i1"
           },
           "xaxis": "x",
           "y": {
            "bdata": "gNHvJb/4WEChxAdfE+5YQN8klwa54lhA9ltPBy3aWECPYPkixNVYQLPu1x9l4lhAJFeHSijfWEAJUu9IbOBYQDZpnDMd41hAH0XxtBTkWEDto2iXtuNYQK2xef0w3FhAZ4809ZrlWEA7QQajTPFYQPZcbImo5lhAe09PiTvgWED8N/Tckd5YQIq+FlWG2FhAZgQIE+TbWED8XSOkW9dYQGIlFKNX5VhAGbj1/xbtWEASG5QMlO5YQB0dcm5H9VhAlqRPG3z8WEAY2DLnAPlYQNsye2Ho81hA31eqLYn0WECxYqimLfpYQKWkbEEy+1hAQ17ERTvxWEB7vGWxOOxYQNKiiUPg61hAPOKwD4XrWECZA3SkRfhYQNyHlZuH71hArKawu+TyWECUzppDjfxYQH+7SZM3C1lAjLNSx8EIWUDfCmK0BwxZQGc1zvfND1lAzvRkAy8RWUDi71HVrRBZQEKUQueYE1lA6jDh1oQDWUCurCocAwhZQK+Qn5vyCFlALBF/36YHWUBId1U44RRZQCCsGC2wEFlA",
            "dtype": "f8"
           },
           "yaxis": "y"
          },
          {
           "line": {
            "color": "rgba(178, 34, 34, 0.9)",
            "width": 2
           },
           "name": "Bid",
           "type": "scatter",
           "x": {
            "bdata": "AAECAwQFBgcICQoLDA0ODxAREhMUFRYXGBkaGxwdHh8gISIjJCUmJygpKissLS4vMDEy",
            "dtype": "i1"
           },
           "xaxis": "x",
           "y": {
            "bdata": "GmuJv1jyWEA7XqH4rOdYQHm+MKBS3FhAkPXooMbTWEAp+pK8Xc9YQE2Icbn+21hAvvAg5MHYWECj64jiBdpYQNACNs223FhAud6KTq7dWECHPQIxUN1YQEdLE5fK1VhAASnOjjTfWEDV2p885upYQJD2BSNC4FhAFenoItXZWECW0Y12K9hYQCRYsO4f0lhAAJ6hrH3VWECW97w99dBYQPy+rTzx3lhAs1GPmbDmWECstC2mLehYQLe2Cwjh7lhAMD7ptBX2WECyccyAmvJYQHXMFPuB7VhAefFDxyLuWEBL/EFAx/NYQD8+BtvL9FhA3fdd39TqWEAVVv9K0uVYQGw8I9155VhA1ntKqR7lWEAznQ0+3/FYQHYhLzUh6VhARkBKVX7sWEAuaDTdJvZYQBlV4yzRBFlAJk3sYFsCWUB5pPtNoQVZQAHPZ5FnCVlAaI7+nMgKWUB8ietuRwpZQNwt3IAyDVlAhMp6cB79WEBIRsS1nAFZQEkqOTWMAllAxqoYeUABWUDiEO/Reg5ZQLpFssZJCllA",
            "dtype": "f8"
           },
           "yaxis": "y"
          },
          {
           "line": {
            "color": "rgba(70, 130, 180, 0.9)",
            "width": 2
           },
           "name": "Ask",
           "type": "scatter",
           "x": {
            "bdata": "AAECAwQFBgcICQoLDA0ODxAREhMUFRYXGBkaGxwdHh8gISIjJCUmJygpKissLS4vMDEy",
            "dtype": "i1"
           },
           "xaxis": "x",
           "y": {
            "bdata": "5jdWjCX/WEAHK27FefRYQEWL/Wwf6VhAXMK1bZPgWED1xl+JKtxYQBlVPobL6FhAir3tsI7lWEBvuFWv0uZYQJzPApqD6VhAhatXG3vqWEBTCs/9HOpYQBMY4GOX4lhAzfWaWwHsWEChp2wJs/dYQFzD0u8O7VhA4bW176HmWEBinlpD+ORYQPAkfbvs3lhAzGpueUriWEBixIkKwt1YQMiLegm+61hAfx5cZn3zWEB4gfpy+vRYQIOD2NSt+1hA/Aq2geICWUB+PplNZ/9YQEGZ4cdO+lhARb4QlO/6WEAXyQ4NlABZQAsL06eYAVlAqcQqrKH3WEDhIswXn/JYQDgJ8KlG8lhAokgXduvxWED/adoKrP5YQELu+wHu9VhAEg0XIkv5WED6NAGq8wJZQOUhsPmdEVlA8hm5LSgPWUBFccgabhJZQM2bNF40FllANFvLaZUXWUBIVrg7FBdZQKj6qE3/GVlAUJdHPesJWUAUE5GCaQ5ZQBX3BQJZD1lAknflRQ0OWUCu3bueRxtZQIYSf5MWF1lA",
            "dtype": "f8"
           },
           "yaxis": "y"
          },
          {
           "marker": {
            "color": [
             "rgba(31, 119, 180, 0.8)",
             "rgba(31, 119, 180, 0.8)",
             "rgba(31, 119, 180, 0.8)",
             "rgba(31, 119, 180, 0.8)",
             "rgba(31, 119, 180, 0.8)",
             "rgba(31, 119, 180, 0.8)",
             "rgba(178, 34, 34, 0.8)",
             "rgba(31, 119, 180, 0.8)",
             "rgba(31, 119, 180, 0.8)",
             "rgba(31, 119, 180, 0.8)",
             "rgba(31, 119, 180, 0.8)",
             "rgba(31, 119, 180, 0.8)",
             "rgba(178, 34, 34, 0.8)",
             "rgba(178, 34, 34, 0.8)",
             "rgba(31, 119, 180, 0.8)",
             "rgba(31, 119, 180, 0.8)",
             "rgba(31, 119, 180, 0.8)",
             "rgba(31, 119, 180, 0.8)",
             "rgba(178, 34, 34, 0.8)",
             "rgba(31, 119, 180, 0.8)",
             "rgba(178, 34, 34, 0.8)",
             "rgba(178, 34, 34, 0.8)",
             "rgba(178, 34, 34, 0.8)",
             "rgba(178, 34, 34, 0.8)",
             "rgba(178, 34, 34, 0.8)",
             "rgba(31, 119, 180, 0.8)",
             "rgba(31, 119, 180, 0.8)",
             "rgba(31, 119, 180, 0.8)",
             "rgba(178, 34, 34, 0.8)",
             "rgba(31, 119, 180, 0.8)",
             "rgba(31, 119, 180, 0.8)",
             "rgba(31, 119, 180, 0.8)",
             "rgba(31, 119, 180, 0.8)",
             "rgba(31, 119, 180, 0.8)",
             "rgba(178, 34, 34, 0.8)",
             "rgba(31, 119, 180, 0.8)",
             "rgba(178, 34, 34, 0.8)",
             "rgba(178, 34, 34, 0.8)",
             "rgba(178, 34, 34, 0.8)",
             "rgba(31, 119, 180, 0.8)",
             "rgba(178, 34, 34, 0.8)",
             "rgba(178, 34, 34, 0.8)",
             "rgba(31, 119, 180, 0.8)",
             "rgba(31, 119, 180, 0.8)",
             "rgba(178, 34, 34, 0.8)",
             "rgba(31, 119, 180, 0.8)",
             "rgba(31, 119, 180, 0.8)",
             "rgba(31, 119, 180, 0.8)",
             "rgba(31, 119, 180, 0.8)",
             "rgba(178, 34, 34, 0.8)",
             "rgba(31, 119, 180, 0.8)"
            ]
           },
           "name": "Trade P&L",
           "type": "bar",
           "x": {
            "bdata": "AAECAwQFBgcICQoLDA0ODxAREhMUFRYXGBkaGxwdHh8gISIjJCUmJygpKissLS4vMDEy",
            "dtype": "i1"
           },
           "xaxis": "x2",
           "y": {
            "bdata": "mpmZmZmZuT9mJIA29L3bP2YoBte+wNE/mpmZmZmZuT8AAAAAAAAAAGaK9ERjB9M/AHi8hKrmqb+amZmZmZm5PzTLecrdq60/mlG68o7dsT+a8ScB/AK+P2bmSkSacdU/AHS7de/T0r+aFa8Oo67cvwDPrM1M7N8/AHEoVwBH0z/NxIilLxrKPzPQ4twGUOI/M4N5ghqYy78zpnlTtxDjP2Yy9UdkXvq/TU1O4pHq579mhsUy+ge2v03z01WjQOS/gCdaB1046b8AcpfJbF7YP4BVwgLU1eE/aGbk004Alj/Nq/JFdIzgv6CZqzZzsXI/GsUUANIJ8z8zU7qthD3nP80KNNbOosE/zdTT9ToTwT9NNaC0QK7svzOtKvBEr+Q/zEywV8+Hrb/NnByh3B3gv00tMFNEzOK/ZjKGQpY90D8zcZzMde7DvwCo1BxR39K/0EwZbQFHjD8AgJ1gwiWgP8zMNVx71qK/M4uWlENH4z9oJqrOEYKeP5qRefKdHbI/zd7JjzWTxD8AKplBhdfjv81s+b/5kM0/",
            "dtype": "f8"
           },
           "yaxis": "y2"
          },
          {
           "line": {
            "color": "rgba(60, 179, 113, 0.9)",
            "width": 2
           },
           "name": "Cumulative P&L",
           "type": "scatter",
           "x": {
            "bdata": "AAECAwQFBgcICQoLDA0ODxAREhMUFRYXGBkaGxwdHh8gISIjJCUmJygpKissLS4vMDEy",
            "dtype": "i1"
           },
           "xaxis": "x2",
           "y": {
            "bdata": "AAAAAAAAAABmJIA29L3bP2Ymw4ZZv+Y/mVn2uYzy6T+ZWfa5jPLpP2ZPOC4fu/E/pmsS2unr8D9ABaxzg4XyP5rT/2HicvM/tHgrUbuQ9D/O9z0R63D2P2ixUKJRzfs/aNThxFUY9z8DHmwCWtnvP8JCoTTA5/c/Al9rSoC5/D+cdxw/xvz/P9vvxtZkkgRAqFefLuPYAkA1wX0DEZ0HQARQBr+92/Q/u1K+m+nM4T/cQ8uq1BfeP3xFuQHk0sS/33jIBxZt7r/fv/yi3z3iv8CXmg7oAoq/EDUumbX9gT/58o1vfUTgv8abIIkaH+C/bu4Id4n05T/QoGESB5n2PyoiKO1gzfg/xJziS8jv+j87BCXjTzHpP7fYp2lK8PY/UVbq7gsE9j/VD7g8O+rrPxDFD9PtO9I/u/vKCsI84T/cvkcvSYLYP3BbzEngi7Y/CoVvd8AUuj+FIt/T0BPBP6Reo/ljvLg/CPfKE9Be5j87SECi4FLnP256j2CUluk/IfKBxGG77j9CkNEFucfVP1Qj5/IaSOI/",
            "dtype": "f8"
           },
           "yaxis": "y2"
          }
         ]
        },
        {
         "data": [
          {
           "line": {
            "color": "rgba(60, 179, 113, 0.9)",
            "dash": "dot",
            "width": 2
           },
           "name": "Mid Price (Estimated)",
           "type": "scatter",
           "x": {
            "bdata": "AAECAwQFBgcICQoLDA0ODxAREhMUFRYXGBkaGxwdHh8gISIjJCUmJygpKissLS4vMDEyMw==",
            "dtype": "i1"
           },
           "xaxis": "x",
           "y": {
            "bdata": "gNHvJb/4WEChxAdfE+5YQN8klwa54lhA9ltPBy3aWECPYPkixNVYQLPu1x9l4lhAJFeHSijfWEAJUu9IbOBYQDZpnDMd41hAH0XxtBTkWEDto2iXtuNYQK2xef0w3FhAZ4809ZrlWEA7QQajTPFYQPZcbImo5lhAe09PiTvgWED8N/Tckd5YQIq+FlWG2FhAZgQIE+TbWED8XSOkW9dYQGIlFKNX5VhAGbj1/xbtWEASG5QMlO5YQB0dcm5H9VhAlqRPG3z8WEAY2DLnAPlYQNsye2Ho81hA31eqLYn0WECxYqimLfpYQKWkbEEy+1hAQ17ERTvxWEB7vGWxOOxYQNKiiUPg61hAPOKwD4XrWECZA3SkRfhYQNyHlZuH71hArKawu+TyWECUzppDjfxYQH+7SZM3C1lAjLNSx8EIWUDfCmK0BwxZQGc1zvfND1lAzvRkAy8RWUDi71HVrRBZQEKUQueYE1lA6jDh1oQDWUCurCocAwhZQK+Qn5vyCFlALBF/36YHWUBId1U44RRZQCCsGC2wEFlAp4xhizwOWUA=",
            "dtype": "f8"
           },
           "yaxis": "y"
          },
          {
           "line": {
            "color": "rgba(178, 34, 34, 0.9)",
            "width": 2
           },
           "name": "Bid",
           "type": "scatter",
           "x": {
            "bdata": "AAECAwQFBgcICQoLDA0ODxAREhMUFRYXGBkaGxwdHh8gISIjJCUmJygpKissLS4vMDEyMw==",
            "dtype": "i1"
           },
           "xaxis": "x",
           "y": {
            "bdata": "GmuJv1jyWEA7XqH4rOdYQHm+MKBS3FhAkPXooMbTWEAp+pK8Xc9YQE2Icbn+21hAvvAg5MHYWECj64jiBdpYQNACNs223FhAud6KTq7dWECHPQIxUN1YQEdLE5fK1VhAASnOjjTfWEDV2p885upYQJD2BSNC4FhAFenoItXZWECW0Y12K9hYQCRYsO4f0lhAAJ6hrH3VWECW97w99dBYQPy+rTzx3lhAs1GPmbDmWECstC2mLehYQLe2Cwjh7lhAMD7ptBX2WECyccyAmvJYQHXMFPuB7VhAefFDxyLuWEBL/EFAx/NYQD8+BtvL9FhA3fdd39TqWEAVVv9K0uVYQGw8I9155VhA1ntKqR7lWEAznQ0+3/FYQHYhLzUh6VhARkBKVX7sWEAuaDTdJvZYQBlV4yzRBFlAJk3sYFsCWUB5pPtNoQVZQAHPZ5FnCVlAaI7+nMgKWUB8ietuRwpZQNwt3IAyDVlAhMp6cB79WEBIRsS1nAFZQEkqOTWMAllAxqoYeUABWUDiEO/Reg5ZQLpFssZJCllAQSb7JNYHWUA=",
            "dtype": "f8"
           },
           "yaxis": "y"
          },
          {
           "line": {
            "color": "rgba(70, 130, 180, 0.9)",
            "width": 2
           },
           "name": "Ask",
           "type": "scatter",
           "x": {
            "bdata": "AAECAwQFBgcICQoLDA0ODxAREhMUFRYXGBkaGxwdHh8gISIjJCUmJygpKissLS4vMDEyMw==",
            "dtype": "i1"
           },
           "xaxis": "x",
           "y": {
            "bdata": "5jdWjCX/WEAHK27FefRYQEWL/Wwf6VhAXMK1bZPgWED1xl+JKtxYQBlVPobL6FhAir3tsI7lWEBvuFWv0uZYQJzPApqD6VhAhatXG3vqWEBTCs/9HOpYQBMY4GOX4lhAzfWaWwHsWEChp2wJs/dYQFzD0u8O7VhA4bW176HmWEBinlpD+ORYQPAkfbvs3lhAzGpueUriWEBixIkKwt1YQMiLegm+61hAfx5cZn3zWEB4gfpy+vRYQIOD2NSt+1hA/Aq2geICWUB+PplNZ/9YQEGZ4cdO+lhARb4QlO/6WEAXyQ4NlABZQAsL06eYAVlAqcQqrKH3WEDhIswXn/JYQDgJ8KlG8lhAokgXduvxWED/adoKrP5YQELu+wHu9VhAEg0XIkv5WED6NAGq8wJZQOUhsPmdEVlA8hm5LSgPWUBFccgabhJZQM2bNF40FllANFvLaZUXWUBIVrg7FBdZQKj6qE3/GVlAUJdHPesJWUAUE5GCaQ5ZQBX3BQJZD1lAknflRQ0OWUCu3bueRxtZQIYSf5MWF1lADfPH8aIUWUA=",
            "dtype": "f8"
           },
           "yaxis": "y"
          },
          {
           "marker": {
            "color": [
             "rgba(31, 119, 180, 0.8)",
             "rgba(31, 119, 180, 0.8)",
             "rgba(31, 119, 180, 0.8)",
             "rgba(31, 119, 180, 0.8)",
             "rgba(31, 119, 180, 0.8)",
             "rgba(31, 119, 180, 0.8)",
             "rgba(178, 34, 34, 0.8)",
             "rgba(31, 119, 180, 0.8)",
             "rgba(31, 119, 180, 0.8)",
             "rgba(31, 119, 180, 0.8)",
             "rgba(31, 119, 180, 0.8)",
             "rgba(31, 119, 180, 0.8)",
             "rgba(178, 34, 34, 0.8)",
             "rgba(178, 34, 34, 0.8)",
             "rgba(31, 119, 180, 0.8)",
             "rgba(31, 119, 180, 0.8)",
             "rgba(31, 119, 180, 0.8)",
             "rgba(31, 119, 180, 0.8)",
             "rgba(178, 34, 34, 0.8)",
             "rgba(31, 119, 180, 0.8)",
             "rgba(178, 34, 34, 0.8)",
             "rgba(178, 34, 34, 0.8)",
             "rgba(178, 34, 34, 0.8)",
             "rgba(178, 34, 34, 0.8)",
             "rgba(178, 34, 34, 0.8)",
             "rgba(31, 119, 180, 0.8)",
             "rgba(31, 119, 180, 0.8)",
             "rgba(31, 119, 180, 0.8)",
             "rgba(178, 34, 34, 0.8)",
             "rgba(31, 119, 180, 0.8)",
             "rgba(31, 119, 180, 0.8)",
             "rgba(31, 119, 180, 0.8)",
             "rgba(31, 119, 180, 0.8)",
             "rgba(31, 119, 180, 0.8)",
             "rgba(178, 34, 34, 0.8)",
             "rgba(31, 119, 180, 0.8)",
             "rgba(178, 34, 34, 0.8)",
             "rgba(178, 34, 34, 0.8)",
             "rgba(178, 34, 34, 0.8)",
             "rgba(31, 119, 180, 0.8)",
             "rgba(178, 34, 34, 0.8)",
             "rgba(178, 34, 34, 0.8)",
             "rgba(31, 119, 180, 0.8)",
             "rgba(31, 119, 180, 0.8)",
             "rgba(178, 34, 34, 0.8)",
             "rgba(31, 119, 180, 0.8)",
             "rgba(31, 119, 180, 0.8)",
             "rgba(31, 119, 180, 0.8)",
             "rgba(31, 119, 180, 0.8)",
             "rgba(178, 34, 34, 0.8)",
             "rgba(31, 119, 180, 0.8)",
             "rgba(31, 119, 180, 0.8)"
            ]
           },
           "name": "Trade P&L",
           "type": "bar",
           "x": {
            "bdata": "AAECAwQFBgcICQoLDA0ODxAREhMUFRYXGBkaGxwdHh8gISIjJCUmJygpKissLS4vMDEyMw==",
            "dtype": "i1"
           },
           "xaxis": "x2",
           "y": {
            "bdata": "mpmZmZmZuT9mJIA29L3bP2YoBte+wNE/mpmZmZmZuT8AAAAAAAAAAGaK9ERjB9M/AHi8hKrmqb+amZmZmZm5PzTLecrdq60/mlG68o7dsT+a8ScB/AK+P2bmSkSacdU/AHS7de/T0r+aFa8Oo67cvwDPrM1M7N8/AHEoVwBH0z/NxIilLxrKPzPQ4twGUOI/M4N5ghqYy78zpnlTtxDjP2Yy9UdkXvq/TU1O4pHq579mhsUy+ge2v03z01WjQOS/gCdaB1046b8AcpfJbF7YP4BVwgLU1eE/aGbk004Alj/Nq/JFdIzgv6CZqzZzsXI/GsUUANIJ8z8zU7qthD3nP80KNNbOosE/zdTT9ToTwT9NNaC0QK7svzOtKvBEr+Q/zEywV8+Hrb/NnByh3B3gv00tMFNEzOK/ZjKGQpY90D8zcZzMde7DvwCo1BxR39K/0EwZbQFHjD8AgJ1gwiWgP8zMNVx71qK/M4uWlENH4z9oJqrOEYKeP5qRefKdHbI/zd7JjzWTxD8AKplBhdfjv81s+b/5kM0/zb4LOxC0wT8=",
            "dtype": "f8"
           },
           "yaxis": "y2"
          },
          {
           "line": {
            "color": "rgba(60, 179, 113, 0.9)",
            "width": 2
           },
           "name": "Cumulative P&L",
           "type": "scatter",
           "x": {
            "bdata": "AAECAwQFBgcICQoLDA0ODxAREhMUFRYXGBkaGxwdHh8gISIjJCUmJygpKissLS4vMDEyMw==",
            "dtype": "i1"
           },
           "xaxis": "x2",
           "y": {
            "bdata": "AAAAAAAAAABmJIA29L3bP2Ymw4ZZv+Y/mVn2uYzy6T+ZWfa5jPLpP2ZPOC4fu/E/pmsS2unr8D9ABaxzg4XyP5rT/2HicvM/tHgrUbuQ9D/O9z0R63D2P2ixUKJRzfs/aNThxFUY9z8DHmwCWtnvP8JCoTTA5/c/Al9rSoC5/D+cdxw/xvz/P9vvxtZkkgRAqFefLuPYAkA1wX0DEZ0HQARQBr+92/Q/u1K+m+nM4T/cQ8uq1BfeP3xFuQHk0sS/33jIBxZt7r/fv/yi3z3iv8CXmg7oAoq/EDUumbX9gT/58o1vfUTgv8abIIkaH+C/bu4Id4n05T/QoGESB5n2PyoiKO1gzfg/xJziS8jv+j87BCXjTzHpP7fYp2lK8PY/UVbq7gsE9j/VD7g8O+rrPxDFD9PtO9I/u/vKCsI84T/cvkcvSYLYP3BbzEngi7Y/CoVvd8AUuj+FIt/T0BPBP6Reo/ljvLg/CPfKE9Be5j87SECi4FLnP256j2CUluk/IfKBxGG77j9CkNEFucfVP1Qj5/IaSOI/BxOqAR+15j8=",
            "dtype": "f8"
           },
           "yaxis": "y2"
          }
         ]
        },
        {
         "data": [
          {
           "line": {
            "color": "rgba(60, 179, 113, 0.9)",
            "dash": "dot",
            "width": 2
           },
           "name": "Mid Price (Estimated)",
           "type": "scatter",
           "x": {
            "bdata": "AAECAwQFBgcICQoLDA0ODxAREhMUFRYXGBkaGxwdHh8gISIjJCUmJygpKissLS4vMDEyMzQ=",
            "dtype": "i1"
           },
           "xaxis": "x",
           "y": {
            "bdata": "gNHvJb/4WEChxAdfE+5YQN8klwa54lhA9ltPBy3aWECPYPkixNVYQLPu1x9l4lhAJFeHSijfWEAJUu9IbOBYQDZpnDMd41hAH0XxtBTkWEDto2iXtuNYQK2xef0w3FhAZ4809ZrlWEA7QQajTPFYQPZcbImo5lhAe09PiTvgWED8N/Tckd5YQIq+FlWG2FhAZgQIE+TbWED8XSOkW9dYQGIlFKNX5VhAGbj1/xbtWEASG5QMlO5YQB0dcm5H9VhAlqRPG3z8WEAY2DLnAPlYQNsye2Ho81hA31eqLYn0WECxYqimLfpYQKWkbEEy+1hAQ17ERTvxWEB7vGWxOOxYQNKiiUPg61hAPOKwD4XrWECZA3SkRfhYQNyHlZuH71hArKawu+TyWECUzppDjfxYQH+7SZM3C1lAjLNSx8EIWUDfCmK0BwxZQGc1zvfND1lAzvRkAy8RWUDi71HVrRBZQEKUQueYE1lA6jDh1oQDWUCurCocAwhZQK+Qn5vyCFlALBF/36YHWUBId1U44RRZQCCsGC2wEFlAp4xhizwOWUBJuvxFHBtZQA==",
            "dtype": "f8"
           },
           "yaxis": "y"
          },
          {
           "line": {
            "color": "rgba(178, 34, 34, 0.9)",
            "width": 2
           },
           "name": "Bid",
           "type": "scatter",
           "x": {
            "bdata": "AAECAwQFBgcICQoLDA0ODxAREhMUFRYXGBkaGxwdHh8gISIjJCUmJygpKissLS4vMDEyMzQ=",
            "dtype": "i1"
           },
           "xaxis": "x",
           "y": {
            "bdata": "GmuJv1jyWEA7XqH4rOdYQHm+MKBS3FhAkPXooMbTWEAp+pK8Xc9YQE2Icbn+21hAvvAg5MHYWECj64jiBdpYQNACNs223FhAud6KTq7dWECHPQIxUN1YQEdLE5fK1VhAASnOjjTfWEDV2p885upYQJD2BSNC4FhAFenoItXZWECW0Y12K9hYQCRYsO4f0lhAAJ6hrH3VWECW97w99dBYQPy+rTzx3lhAs1GPmbDmWECstC2mLehYQLe2Cwjh7lhAMD7ptBX2WECyccyAmvJYQHXMFPuB7VhAefFDxyLuWEBL/EFAx/NYQD8+BtvL9FhA3fdd39TqWEAVVv9K0uVYQGw8I9155VhA1ntKqR7lWEAznQ0+3/FYQHYhLzUh6VhARkBKVX7sWEAuaDTdJvZYQBlV4yzRBFlAJk3sYFsCWUB5pPtNoQVZQAHPZ5FnCVlAaI7+nMgKWUB8ietuRwpZQNwt3IAyDVlAhMp6cB79WEBIRsS1nAFZQEkqOTWMAllAxqoYeUABWUDiEO/Reg5ZQLpFssZJCllAQSb7JNYHWUDjU5bftRRZQA==",
            "dtype": "f8"
           },
           "yaxis": "y"
          },
          {
           "line": {
            "color": "rgba(70, 130, 180, 0.9)",
            "width": 2
           },
           "name": "Ask",
           "type": "scatter",
           "x": {
            "bdata": "AAECAwQFBgcICQoLDA0ODxAREhMUFRYXGBkaGxwdHh8gISIjJCUmJygpKissLS4vMDEyMzQ=",
            "dtype": "i1"
           },
           "xaxis": "x",
           "y": {
            "bdata": "5jdWjCX/WEAHK27FefRYQEWL/Wwf6VhAXMK1bZPgWED1xl+JKtxYQBlVPobL6FhAir3tsI7lWEBvuFWv0uZYQJzPApqD6VhAhatXG3vqWEBTCs/9HOpYQBMY4GOX4lhAzfWaWwHsWEChp2wJs/dYQFzD0u8O7VhA4bW176HmWEBinlpD+ORYQPAkfbvs3lhAzGpueUriWEBixIkKwt1YQMiLegm+61hAfx5cZn3zWEB4gfpy+vRYQIOD2NSt+1hA/Aq2geICWUB+PplNZ/9YQEGZ4cdO+lhARb4QlO/6WEAXyQ4NlABZQAsL06eYAVlAqcQqrKH3WEDhIswXn/JYQDgJ8KlG8lhAokgXduvxWED/adoKrP5YQELu+wHu9VhAEg0XIkv5WED6NAGq8wJZQOUhsPmdEVlA8hm5LSgPWUBFccgabhJZQM2bNF40FllANFvLaZUXWUBIVrg7FBdZQKj6qE3/GVlAUJdHPesJWUAUE5GCaQ5ZQBX3BQJZD1lAknflRQ0OWUCu3bueRxtZQIYSf5MWF1lADfPH8aIUWUCvIGOsgiFZQA==",
            "dtype": "f8"
           },
           "yaxis": "y"
          },
          {
           "marker": {
            "color": [
             "rgba(31, 119, 180, 0.8)",
             "rgba(31, 119, 180, 0.8)",
             "rgba(31, 119, 180, 0.8)",
             "rgba(31, 119, 180, 0.8)",
             "rgba(31, 119, 180, 0.8)",
             "rgba(31, 119, 180, 0.8)",
             "rgba(178, 34, 34, 0.8)",
             "rgba(31, 119, 180, 0.8)",
             "rgba(31, 119, 180, 0.8)",
             "rgba(31, 119, 180, 0.8)",
             "rgba(31, 119, 180, 0.8)",
             "rgba(31, 119, 180, 0.8)",
             "rgba(178, 34, 34, 0.8)",
             "rgba(178, 34, 34, 0.8)",
             "rgba(31, 119, 180, 0.8)",
             "rgba(31, 119, 180, 0.8)",
             "rgba(31, 119, 180, 0.8)",
             "rgba(31, 119, 180, 0.8)",
             "rgba(178, 34, 34, 0.8)",
             "rgba(31, 119, 180, 0.8)",
             "rgba(178, 34, 34, 0.8)",
             "rgba(178, 34, 34, 0.8)",
             "rgba(178, 34, 34, 0.8)",
             "rgba(178, 34, 34, 0.8)",
             "rgba(178, 34, 34, 0.8)",
             "rgba(31, 119, 180, 0.8)",
             "rgba(31, 119, 180, 0.8)",
             "rgba(31, 119, 180, 0.8)",
             "rgba(178, 34, 34, 0.8)",
             "rgba(31, 119, 180, 0.8)",
             "rgba(31, 119, 180, 0.8)",
             "rgba(31, 119, 180, 0.8)",
             "rgba(31, 119, 180, 0.8)",
             "rgba(31, 119, 180, 0.8)",
             "rgba(178, 34, 34, 0.8)",
             "rgba(31, 119, 180, 0.8)",
             "rgba(178, 34, 34, 0.8)",
             "rgba(178, 34, 34, 0.8)",
             "rgba(178, 34, 34, 0.8)",
             "rgba(31, 119, 180, 0.8)",
             "rgba(178, 34, 34, 0.8)",
             "rgba(178, 34, 34, 0.8)",
             "rgba(31, 119, 180, 0.8)",
             "rgba(31, 119, 180, 0.8)",
             "rgba(178, 34, 34, 0.8)",
             "rgba(31, 119, 180, 0.8)",
             "rgba(31, 119, 180, 0.8)",
             "rgba(31, 119, 180, 0.8)",
             "rgba(31, 119, 180, 0.8)",
             "rgba(178, 34, 34, 0.8)",
             "rgba(31, 119, 180, 0.8)",
             "rgba(31, 119, 180, 0.8)",
             "rgba(31, 119, 180, 0.8)"
            ]
           },
           "name": "Trade P&L",
           "type": "bar",
           "x": {
            "bdata": "AAECAwQFBgcICQoLDA0ODxAREhMUFRYXGBkaGxwdHh8gISIjJCUmJygpKissLS4vMDEyMzQ=",
            "dtype": "i1"
           },
           "xaxis": "x2",
           "y": {
            "bdata": "mpmZmZmZuT9mJIA29L3bP2YoBte+wNE/mpmZmZmZuT8AAAAAAAAAAGaK9ERjB9M/AHi8hKrmqb+amZmZmZm5PzTLecrdq60/mlG68o7dsT+a8ScB/AK+P2bmSkSacdU/AHS7de/T0r+aFa8Oo67cvwDPrM1M7N8/AHEoVwBH0z/NxIilLxrKPzPQ4twGUOI/M4N5ghqYy78zpnlTtxDjP2Yy9UdkXvq/TU1O4pHq579mhsUy+ge2v03z01WjQOS/gCdaB1046b8AcpfJbF7YP4BVwgLU1eE/aGbk004Alj/Nq/JFdIzgv6CZqzZzsXI/GsUUANIJ8z8zU7qthD3nP80KNNbOosE/zdTT9ToTwT9NNaC0QK7svzOtKvBEr+Q/zEywV8+Hrb/NnByh3B3gv00tMFNEzOK/ZjKGQpY90D8zcZzMde7DvwCo1BxR39K/0EwZbQFHjD8AgJ1gwiWgP8zMNVx71qK/M4uWlENH4z9oJqrOEYKeP5qRefKdHbI/zd7JjzWTxD8AKplBhdfjv81s+b/5kM0/zb4LOxC0wT+amZmZmZm5Pw==",
            "dtype": "f8"
           },
           "yaxis": "y2"
          },
          {
           "line": {
            "color": "rgba(60, 179, 113, 0.9)",
            "width": 2
           },
           "name": "Cumulative P&L",
           "type": "scatter",
           "x": {
            "bdata": "AAECAwQFBgcICQoLDA0ODxAREhMUFRYXGBkaGxwdHh8gISIjJCUmJygpKissLS4vMDEyMzQ=",
            "dtype": "i1"
           },
           "xaxis": "x2",
           "y": {
            "bdata": "AAAAAAAAAABmJIA29L3bP2Ymw4ZZv+Y/mVn2uYzy6T+ZWfa5jPLpP2ZPOC4fu/E/pmsS2unr8D9ABaxzg4XyP5rT/2HicvM/tHgrUbuQ9D/O9z0R63D2P2ixUKJRzfs/aNThxFUY9z8DHmwCWtnvP8JCoTTA5/c/Al9rSoC5/D+cdxw/xvz/P9vvxtZkkgRAqFefLuPYAkA1wX0DEZ0HQARQBr+92/Q/u1K+m+nM4T/cQ8uq1BfeP3xFuQHk0sS/33jIBxZt7r/fv/yi3z3iv8CXmg7oAoq/EDUumbX9gT/58o1vfUTgv8abIIkaH+C/bu4Id4n05T/QoGESB5n2PyoiKO1gzfg/xJziS8jv+j87BCXjTzHpP7fYp2lK8PY/UVbq7gsE9j/VD7g8O+rrPxDFD9PtO9I/u/vKCsI84T/cvkcvSYLYP3BbzEngi7Y/CoVvd8AUuj+FIt/T0BPBP6Reo/ljvLg/CPfKE9Be5j87SECi4FLnP256j2CUluk/IfKBxGG77j9CkNEFucfVP1Qj5/IaSOI/BxOqAR+15j86Rt00UujpPw==",
            "dtype": "f8"
           },
           "yaxis": "y2"
          }
         ]
        },
        {
         "data": [
          {
           "line": {
            "color": "rgba(60, 179, 113, 0.9)",
            "dash": "dot",
            "width": 2
           },
           "name": "Mid Price (Estimated)",
           "type": "scatter",
           "x": {
            "bdata": "AAECAwQFBgcICQoLDA0ODxAREhMUFRYXGBkaGxwdHh8gISIjJCUmJygpKissLS4vMDEyMzQ1",
            "dtype": "i1"
           },
           "xaxis": "x",
           "y": {
            "bdata": "gNHvJb/4WEChxAdfE+5YQN8klwa54lhA9ltPBy3aWECPYPkixNVYQLPu1x9l4lhAJFeHSijfWEAJUu9IbOBYQDZpnDMd41hAH0XxtBTkWEDto2iXtuNYQK2xef0w3FhAZ4809ZrlWEA7QQajTPFYQPZcbImo5lhAe09PiTvgWED8N/Tckd5YQIq+FlWG2FhAZgQIE+TbWED8XSOkW9dYQGIlFKNX5VhAGbj1/xbtWEASG5QMlO5YQB0dcm5H9VhAlqRPG3z8WEAY2DLnAPlYQNsye2Ho81hA31eqLYn0WECxYqimLfpYQKWkbEEy+1hAQ17ERTvxWEB7vGWxOOxYQNKiiUPg61hAPOKwD4XrWECZA3SkRfhYQNyHlZuH71hArKawu+TyWECUzppDjfxYQH+7SZM3C1lAjLNSx8EIWUDfCmK0BwxZQGc1zvfND1lAzvRkAy8RWUDi71HVrRBZQEKUQueYE1lA6jDh1oQDWUCurCocAwhZQK+Qn5vyCFlALBF/36YHWUBId1U44RRZQCCsGC2wEFlAp4xhizwOWUBJuvxFHBtZQI4PysrpFVlA",
            "dtype": "f8"
           },
           "yaxis": "y"
          },
          {
           "line": {
            "color": "rgba(178, 34, 34, 0.9)",
            "width": 2
           },
           "name": "Bid",
           "type": "scatter",
           "x": {
            "bdata": "AAECAwQFBgcICQoLDA0ODxAREhMUFRYXGBkaGxwdHh8gISIjJCUmJygpKissLS4vMDEyMzQ1",
            "dtype": "i1"
           },
           "xaxis": "x",
           "y": {
            "bdata": "GmuJv1jyWEA7XqH4rOdYQHm+MKBS3FhAkPXooMbTWEAp+pK8Xc9YQE2Icbn+21hAvvAg5MHYWECj64jiBdpYQNACNs223FhAud6KTq7dWECHPQIxUN1YQEdLE5fK1VhAASnOjjTfWEDV2p885upYQJD2BSNC4FhAFenoItXZWECW0Y12K9hYQCRYsO4f0lhAAJ6hrH3VWECW97w99dBYQPy+rTzx3lhAs1GPmbDmWECstC2mLehYQLe2Cwjh7lhAMD7ptBX2WECyccyAmvJYQHXMFPuB7VhAefFDxyLuWEBL/EFAx/NYQD8+BtvL9FhA3fdd39TqWEAVVv9K0uVYQGw8I9155VhA1ntKqR7lWEAznQ0+3/FYQHYhLzUh6VhARkBKVX7sWEAuaDTdJvZYQBlV4yzRBFlAJk3sYFsCWUB5pPtNoQVZQAHPZ5FnCVlAaI7+nMgKWUB8ietuRwpZQNwt3IAyDVlAhMp6cB79WEBIRsS1nAFZQEkqOTWMAllAxqoYeUABWUDiEO/Reg5ZQLpFssZJCllAQSb7JNYHWUDjU5bftRRZQCipY2SDD1lA",
            "dtype": "f8"
           },
           "yaxis": "y"
          },
          {
           "line": {
            "color": "rgba(70, 130, 180, 0.9)",
            "width": 2
           },
           "name": "Ask",
           "type": "scatter",
           "x": {
            "bdata": "AAECAwQFBgcICQoLDA0ODxAREhMUFRYXGBkaGxwdHh8gISIjJCUmJygpKissLS4vMDEyMzQ1",
            "dtype": "i1"
           },
           "xaxis": "x",
           "y": {
            "bdata": "5jdWjCX/WEAHK27FefRYQEWL/Wwf6VhAXMK1bZPgWED1xl+JKtxYQBlVPobL6FhAir3tsI7lWEBvuFWv0uZYQJzPApqD6VhAhatXG3vqWEBTCs/9HOpYQBMY4GOX4lhAzfWaWwHsWEChp2wJs/dYQFzD0u8O7VhA4bW176HmWEBinlpD+ORYQPAkfbvs3lhAzGpueUriWEBixIkKwt1YQMiLegm+61hAfx5cZn3zWEB4gfpy+vRYQIOD2NSt+1hA/Aq2geICWUB+PplNZ/9YQEGZ4cdO+lhARb4QlO/6WEAXyQ4NlABZQAsL06eYAVlAqcQqrKH3WEDhIswXn/JYQDgJ8KlG8lhAokgXduvxWED/adoKrP5YQELu+wHu9VhAEg0XIkv5WED6NAGq8wJZQOUhsPmdEVlA8hm5LSgPWUBFccgabhJZQM2bNF40FllANFvLaZUXWUBIVrg7FBdZQKj6qE3/GVlAUJdHPesJWUAUE5GCaQ5ZQBX3BQJZD1lAknflRQ0OWUCu3bueRxtZQIYSf5MWF1lADfPH8aIUWUCvIGOsgiFZQPR1MDFQHFlA",
            "dtype": "f8"
           },
           "yaxis": "y"
          },
          {
           "marker": {
            "color": [
             "rgba(31, 119, 180, 0.8)",
             "rgba(31, 119, 180, 0.8)",
             "rgba(31, 119, 180, 0.8)",
             "rgba(31, 119, 180, 0.8)",
             "rgba(31, 119, 180, 0.8)",
             "rgba(31, 119, 180, 0.8)",
             "rgba(178, 34, 34, 0.8)",
             "rgba(31, 119, 180, 0.8)",
             "rgba(31, 119, 180, 0.8)",
             "rgba(31, 119, 180, 0.8)",
             "rgba(31, 119, 180, 0.8)",
             "rgba(31, 119, 180, 0.8)",
             "rgba(178, 34, 34, 0.8)",
             "rgba(178, 34, 34, 0.8)",
             "rgba(31, 119, 180, 0.8)",
             "rgba(31, 119, 180, 0.8)",
             "rgba(31, 119, 180, 0.8)",
             "rgba(31, 119, 180, 0.8)",
             "rgba(178, 34, 34, 0.8)",
             "rgba(31, 119, 180, 0.8)",
             "rgba(178, 34, 34, 0.8)",
             "rgba(178, 34, 34, 0.8)",
             "rgba(178, 34, 34, 0.8)",
             "rgba(178, 34, 34, 0.8)",
             "rgba(178, 34, 34, 0.8)",
             "rgba(31, 119, 180, 0.8)",
             "rgba(31, 119, 180, 0.8)",
             "rgba(31, 119, 180, 0.8)",
             "rgba(178, 34, 34, 0.8)",
             "rgba(31, 119, 180, 0.8)",
             "rgba(31, 119, 180, 0.8)",
             "rgba(31, 119, 180, 0.8)",
             "rgba(31, 119, 180, 0.8)",
             "rgba(31, 119, 180, 0.8)",
             "rgba(178, 34, 34, 0.8)",
             "rgba(31, 119, 180, 0.8)",
             "rgba(178, 34, 34, 0.8)",
             "rgba(178, 34, 34, 0.8)",
             "rgba(178, 34, 34, 0.8)",
             "rgba(31, 119, 180, 0.8)",
             "rgba(178, 34, 34, 0.8)",
             "rgba(178, 34, 34, 0.8)",
             "rgba(31, 119, 180, 0.8)",
             "rgba(31, 119, 180, 0.8)",
             "rgba(178, 34, 34, 0.8)",
             "rgba(31, 119, 180, 0.8)",
             "rgba(31, 119, 180, 0.8)",
             "rgba(31, 119, 180, 0.8)",
             "rgba(31, 119, 180, 0.8)",
             "rgba(178, 34, 34, 0.8)",
             "rgba(31, 119, 180, 0.8)",
             "rgba(31, 119, 180, 0.8)",
             "rgba(31, 119, 180, 0.8)",
             "rgba(31, 119, 180, 0.8)"
            ]
           },
           "name": "Trade P&L",
           "type": "bar",
           "x": {
            "bdata": "AAECAwQFBgcICQoLDA0ODxAREhMUFRYXGBkaGxwdHh8gISIjJCUmJygpKissLS4vMDEyMzQ1",
            "dtype": "i1"
           },
           "xaxis": "x2",
           "y": {
            "bdata": "mpmZmZmZuT9mJIA29L3bP2YoBte+wNE/mpmZmZmZuT8AAAAAAAAAAGaK9ERjB9M/AHi8hKrmqb+amZmZmZm5PzTLecrdq60/mlG68o7dsT+a8ScB/AK+P2bmSkSacdU/AHS7de/T0r+aFa8Oo67cvwDPrM1M7N8/AHEoVwBH0z/NxIilLxrKPzPQ4twGUOI/M4N5ghqYy78zpnlTtxDjP2Yy9UdkXvq/TU1O4pHq579mhsUy+ge2v03z01WjQOS/gCdaB1046b8AcpfJbF7YP4BVwgLU1eE/aGbk004Alj/Nq/JFdIzgv6CZqzZzsXI/GsUUANIJ8z8zU7qthD3nP80KNNbOosE/zdTT9ToTwT9NNaC0QK7svzOtKvBEr+Q/zEywV8+Hrb/NnByh3B3gv00tMFNEzOK/ZjKGQpY90D8zcZzMde7DvwCo1BxR39K/0EwZbQFHjD8AgJ1gwiWgP8zMNVx71qK/M4uWlENH4z9oJqrOEYKeP5qRefKdHbI/zd7JjzWTxD8AKplBhdfjv81s+b/5kM0/zb4LOxC0wT+amZmZmZm5PwAAAAAAAAAA",
            "dtype": "f8"
           },
           "yaxis": "y2"
          },
          {
           "line": {
            "color": "rgba(60, 179, 113, 0.9)",
            "width": 2
           },
           "name": "Cumulative P&L",
           "type": "scatter",
           "x": {
            "bdata": "AAECAwQFBgcICQoLDA0ODxAREhMUFRYXGBkaGxwdHh8gISIjJCUmJygpKissLS4vMDEyMzQ1",
            "dtype": "i1"
           },
           "xaxis": "x2",
           "y": {
            "bdata": "AAAAAAAAAABmJIA29L3bP2Ymw4ZZv+Y/mVn2uYzy6T+ZWfa5jPLpP2ZPOC4fu/E/pmsS2unr8D9ABaxzg4XyP5rT/2HicvM/tHgrUbuQ9D/O9z0R63D2P2ixUKJRzfs/aNThxFUY9z8DHmwCWtnvP8JCoTTA5/c/Al9rSoC5/D+cdxw/xvz/P9vvxtZkkgRAqFefLuPYAkA1wX0DEZ0HQARQBr+92/Q/u1K+m+nM4T/cQ8uq1BfeP3xFuQHk0sS/33jIBxZt7r/fv/yi3z3iv8CXmg7oAoq/EDUumbX9gT/58o1vfUTgv8abIIkaH+C/bu4Id4n05T/QoGESB5n2PyoiKO1gzfg/xJziS8jv+j87BCXjTzHpP7fYp2lK8PY/UVbq7gsE9j/VD7g8O+rrPxDFD9PtO9I/u/vKCsI84T/cvkcvSYLYP3BbzEngi7Y/CoVvd8AUuj+FIt/T0BPBP6Reo/ljvLg/CPfKE9Be5j87SECi4FLnP256j2CUluk/IfKBxGG77j9CkNEFucfVP1Qj5/IaSOI/BxOqAR+15j86Rt00UujpPzpG3TRS6Ok/",
            "dtype": "f8"
           },
           "yaxis": "y2"
          }
         ]
        },
        {
         "data": [
          {
           "line": {
            "color": "rgba(60, 179, 113, 0.9)",
            "dash": "dot",
            "width": 2
           },
           "name": "Mid Price (Estimated)",
           "type": "scatter",
           "x": {
            "bdata": "AAECAwQFBgcICQoLDA0ODxAREhMUFRYXGBkaGxwdHh8gISIjJCUmJygpKissLS4vMDEyMzQ1Ng==",
            "dtype": "i1"
           },
           "xaxis": "x",
           "y": {
            "bdata": "gNHvJb/4WEChxAdfE+5YQN8klwa54lhA9ltPBy3aWECPYPkixNVYQLPu1x9l4lhAJFeHSijfWEAJUu9IbOBYQDZpnDMd41hAH0XxtBTkWEDto2iXtuNYQK2xef0w3FhAZ4809ZrlWEA7QQajTPFYQPZcbImo5lhAe09PiTvgWED8N/Tckd5YQIq+FlWG2FhAZgQIE+TbWED8XSOkW9dYQGIlFKNX5VhAGbj1/xbtWEASG5QMlO5YQB0dcm5H9VhAlqRPG3z8WEAY2DLnAPlYQNsye2Ho81hA31eqLYn0WECxYqimLfpYQKWkbEEy+1hAQ17ERTvxWEB7vGWxOOxYQNKiiUPg61hAPOKwD4XrWECZA3SkRfhYQNyHlZuH71hArKawu+TyWECUzppDjfxYQH+7SZM3C1lAjLNSx8EIWUDfCmK0BwxZQGc1zvfND1lAzvRkAy8RWUDi71HVrRBZQEKUQueYE1lA6jDh1oQDWUCurCocAwhZQK+Qn5vyCFlALBF/36YHWUBId1U44RRZQCCsGC2wEFlAp4xhizwOWUBJuvxFHBtZQI4PysrpFVlASvpSQIUSWUA=",
            "dtype": "f8"
           },
           "yaxis": "y"
          },
          {
           "line": {
            "color": "rgba(178, 34, 34, 0.9)",
            "width": 2
           },
           "name": "Bid",
           "type": "scatter",
           "x": {
            "bdata": "AAECAwQFBgcICQoLDA0ODxAREhMUFRYXGBkaGxwdHh8gISIjJCUmJygpKissLS4vMDEyMzQ1Ng==",
            "dtype": "i1"
           },
           "xaxis": "x",
           "y": {
            "bdata": "GmuJv1jyWEA7XqH4rOdYQHm+MKBS3FhAkPXooMbTWEAp+pK8Xc9YQE2Icbn+21hAvvAg5MHYWECj64jiBdpYQNACNs223FhAud6KTq7dWECHPQIxUN1YQEdLE5fK1VhAASnOjjTfWEDV2p885upYQJD2BSNC4FhAFenoItXZWECW0Y12K9hYQCRYsO4f0lhAAJ6hrH3VWECW97w99dBYQPy+rTzx3lhAs1GPmbDmWECstC2mLehYQLe2Cwjh7lhAMD7ptBX2WECyccyAmvJYQHXMFPuB7VhAefFDxyLuWEBL/EFAx/NYQD8+BtvL9FhA3fdd39TqWEAVVv9K0uVYQGw8I9155VhA1ntKqR7lWEAznQ0+3/FYQHYhLzUh6VhARkBKVX7sWEAuaDTdJvZYQBlV4yzRBFlAJk3sYFsCWUB5pPtNoQVZQAHPZ5FnCVlAaI7+nMgKWUB8ietuRwpZQNwt3IAyDVlAhMp6cB79WEBIRsS1nAFZQEkqOTWMAllAxqoYeUABWUDiEO/Reg5ZQLpFssZJCllAQSb7JNYHWUDjU5bftRRZQCipY2SDD1lA5JPs2R4MWUA=",
            "dtype": "f8"
           },
           "yaxis": "y"
          },
          {
           "line": {
            "color": "rgba(70, 130, 180, 0.9)",
            "width": 2
           },
           "name": "Ask",
           "type": "scatter",
           "x": {
            "bdata": "AAECAwQFBgcICQoLDA0ODxAREhMUFRYXGBkaGxwdHh8gISIjJCUmJygpKissLS4vMDEyMzQ1Ng==",
            "dtype": "i1"
           },
           "xaxis": "x",
           "y": {
            "bdata": "5jdWjCX/WEAHK27FefRYQEWL/Wwf6VhAXMK1bZPgWED1xl+JKtxYQBlVPobL6FhAir3tsI7lWEBvuFWv0uZYQJzPApqD6VhAhatXG3vqWEBTCs/9HOpYQBMY4GOX4lhAzfWaWwHsWEChp2wJs/dYQFzD0u8O7VhA4bW176HmWEBinlpD+ORYQPAkfbvs3lhAzGpueUriWEBixIkKwt1YQMiLegm+61hAfx5cZn3zWEB4gfpy+vRYQIOD2NSt+1hA/Aq2geICWUB+PplNZ/9YQEGZ4cdO+lhARb4QlO/6WEAXyQ4NlABZQAsL06eYAVlAqcQqrKH3WEDhIswXn/JYQDgJ8KlG8lhAokgXduvxWED/adoKrP5YQELu+wHu9VhAEg0XIkv5WED6NAGq8wJZQOUhsPmdEVlA8hm5LSgPWUBFccgabhJZQM2bNF40FllANFvLaZUXWUBIVrg7FBdZQKj6qE3/GVlAUJdHPesJWUAUE5GCaQ5ZQBX3BQJZD1lAknflRQ0OWUCu3bueRxtZQIYSf5MWF1lADfPH8aIUWUCvIGOsgiFZQPR1MDFQHFlAsGC5pusYWUA=",
            "dtype": "f8"
           },
           "yaxis": "y"
          },
          {
           "marker": {
            "color": [
             "rgba(31, 119, 180, 0.8)",
             "rgba(31, 119, 180, 0.8)",
             "rgba(31, 119, 180, 0.8)",
             "rgba(31, 119, 180, 0.8)",
             "rgba(31, 119, 180, 0.8)",
             "rgba(31, 119, 180, 0.8)",
             "rgba(178, 34, 34, 0.8)",
             "rgba(31, 119, 180, 0.8)",
             "rgba(31, 119, 180, 0.8)",
             "rgba(31, 119, 180, 0.8)",
             "rgba(31, 119, 180, 0.8)",
             "rgba(31, 119, 180, 0.8)",
             "rgba(178, 34, 34, 0.8)",
             "rgba(178, 34, 34, 0.8)",
             "rgba(31, 119, 180, 0.8)",
             "rgba(31, 119, 180, 0.8)",
             "rgba(31, 119, 180, 0.8)",
             "rgba(31, 119, 180, 0.8)",
             "rgba(178, 34, 34, 0.8)",
             "rgba(31, 119, 180, 0.8)",
             "rgba(178, 34, 34, 0.8)",
             "rgba(178, 34, 34, 0.8)",
             "rgba(178, 34, 34, 0.8)",
             "rgba(178, 34, 34, 0.8)",
             "rgba(178, 34, 34, 0.8)",
             "rgba(31, 119, 180, 0.8)",
             "rgba(31, 119, 180, 0.8)",
             "rgba(31, 119, 180, 0.8)",
             "rgba(178, 34, 34, 0.8)",
             "rgba(31, 119, 180, 0.8)",
             "rgba(31, 119, 180, 0.8)",
             "rgba(31, 119, 180, 0.8)",
             "rgba(31, 119, 180, 0.8)",
             "rgba(31, 119, 180, 0.8)",
             "rgba(178, 34, 34, 0.8)",
             "rgba(31, 119, 180, 0.8)",
             "rgba(178, 34, 34, 0.8)",
             "rgba(178, 34, 34, 0.8)",
             "rgba(178, 34, 34, 0.8)",
             "rgba(31, 119, 180, 0.8)",
             "rgba(178, 34, 34, 0.8)",
             "rgba(178, 34, 34, 0.8)",
             "rgba(31, 119, 180, 0.8)",
             "rgba(31, 119, 180, 0.8)",
             "rgba(178, 34, 34, 0.8)",
             "rgba(31, 119, 180, 0.8)",
             "rgba(31, 119, 180, 0.8)",
             "rgba(31, 119, 180, 0.8)",
             "rgba(31, 119, 180, 0.8)",
             "rgba(178, 34, 34, 0.8)",
             "rgba(31, 119, 180, 0.8)",
             "rgba(31, 119, 180, 0.8)",
             "rgba(31, 119, 180, 0.8)",
             "rgba(31, 119, 180, 0.8)",
             "rgba(31, 119, 180, 0.8)"
            ]
           },
           "name": "Trade P&L",
           "type": "bar",
           "x": {
            "bdata": "AAECAwQFBgcICQoLDA0ODxAREhMUFRYXGBkaGxwdHh8gISIjJCUmJygpKissLS4vMDEyMzQ1Ng==",
            "dtype": "i1"
           },
           "xaxis": "x2",
           "y": {
            "bdata": "mpmZmZmZuT9mJIA29L3bP2YoBte+wNE/mpmZmZmZuT8AAAAAAAAAAGaK9ERjB9M/AHi8hKrmqb+amZmZmZm5PzTLecrdq60/mlG68o7dsT+a8ScB/AK+P2bmSkSacdU/AHS7de/T0r+aFa8Oo67cvwDPrM1M7N8/AHEoVwBH0z/NxIilLxrKPzPQ4twGUOI/M4N5ghqYy78zpnlTtxDjP2Yy9UdkXvq/TU1O4pHq579mhsUy+ge2v03z01WjQOS/gCdaB1046b8AcpfJbF7YP4BVwgLU1eE/aGbk004Alj/Nq/JFdIzgv6CZqzZzsXI/GsUUANIJ8z8zU7qthD3nP80KNNbOosE/zdTT9ToTwT9NNaC0QK7svzOtKvBEr+Q/zEywV8+Hrb/NnByh3B3gv00tMFNEzOK/ZjKGQpY90D8zcZzMde7DvwCo1BxR39K/0EwZbQFHjD8AgJ1gwiWgP8zMNVx71qK/M4uWlENH4z9oJqrOEYKeP5qRefKdHbI/zd7JjzWTxD8AKplBhdfjv81s+b/5kM0/zb4LOxC0wT+amZmZmZm5PwAAAAAAAAAAzVT3uuGVwz8=",
            "dtype": "f8"
           },
           "yaxis": "y2"
          },
          {
           "line": {
            "color": "rgba(60, 179, 113, 0.9)",
            "width": 2
           },
           "name": "Cumulative P&L",
           "type": "scatter",
           "x": {
            "bdata": "AAECAwQFBgcICQoLDA0ODxAREhMUFRYXGBkaGxwdHh8gISIjJCUmJygpKissLS4vMDEyMzQ1Ng==",
            "dtype": "i1"
           },
           "xaxis": "x2",
           "y": {
            "bdata": "AAAAAAAAAABmJIA29L3bP2Ymw4ZZv+Y/mVn2uYzy6T+ZWfa5jPLpP2ZPOC4fu/E/pmsS2unr8D9ABaxzg4XyP5rT/2HicvM/tHgrUbuQ9D/O9z0R63D2P2ixUKJRzfs/aNThxFUY9z8DHmwCWtnvP8JCoTTA5/c/Al9rSoC5/D+cdxw/xvz/P9vvxtZkkgRAqFefLuPYAkA1wX0DEZ0HQARQBr+92/Q/u1K+m+nM4T/cQ8uq1BfeP3xFuQHk0sS/33jIBxZt7r/fv/yi3z3iv8CXmg7oAoq/EDUumbX9gT/58o1vfUTgv8abIIkaH+C/bu4Id4n05T/QoGESB5n2PyoiKO1gzfg/xJziS8jv+j87BCXjTzHpP7fYp2lK8PY/UVbq7gsE9j/VD7g8O+rrPxDFD9PtO9I/u/vKCsI84T/cvkcvSYLYP3BbzEngi7Y/CoVvd8AUuj+FIt/T0BPBP6Reo/ljvLg/CPfKE9Be5j87SECi4FLnP256j2CUluk/IfKBxGG77j9CkNEFucfVP1Qj5/IaSOI/BxOqAR+15j86Rt00UujpPzpG3TRS6Ok/bRubo8rN7j8=",
            "dtype": "f8"
           },
           "yaxis": "y2"
          }
         ]
        },
        {
         "data": [
          {
           "line": {
            "color": "rgba(60, 179, 113, 0.9)",
            "dash": "dot",
            "width": 2
           },
           "name": "Mid Price (Estimated)",
           "type": "scatter",
           "x": {
            "bdata": "AAECAwQFBgcICQoLDA0ODxAREhMUFRYXGBkaGxwdHh8gISIjJCUmJygpKissLS4vMDEyMzQ1Njc=",
            "dtype": "i1"
           },
           "xaxis": "x",
           "y": {
            "bdata": "gNHvJb/4WEChxAdfE+5YQN8klwa54lhA9ltPBy3aWECPYPkixNVYQLPu1x9l4lhAJFeHSijfWEAJUu9IbOBYQDZpnDMd41hAH0XxtBTkWEDto2iXtuNYQK2xef0w3FhAZ4809ZrlWEA7QQajTPFYQPZcbImo5lhAe09PiTvgWED8N/Tckd5YQIq+FlWG2FhAZgQIE+TbWED8XSOkW9dYQGIlFKNX5VhAGbj1/xbtWEASG5QMlO5YQB0dcm5H9VhAlqRPG3z8WEAY2DLnAPlYQNsye2Ho81hA31eqLYn0WECxYqimLfpYQKWkbEEy+1hAQ17ERTvxWEB7vGWxOOxYQNKiiUPg61hAPOKwD4XrWECZA3SkRfhYQNyHlZuH71hArKawu+TyWECUzppDjfxYQH+7SZM3C1lAjLNSx8EIWUDfCmK0BwxZQGc1zvfND1lAzvRkAy8RWUDi71HVrRBZQEKUQueYE1lA6jDh1oQDWUCurCocAwhZQK+Qn5vyCFlALBF/36YHWUBId1U44RRZQCCsGC2wEFlAp4xhizwOWUBJuvxFHBtZQI4PysrpFVlASvpSQIUSWUAo/v8htRFZQA==",
            "dtype": "f8"
           },
           "yaxis": "y"
          },
          {
           "line": {
            "color": "rgba(178, 34, 34, 0.9)",
            "width": 2
           },
           "name": "Bid",
           "type": "scatter",
           "x": {
            "bdata": "AAECAwQFBgcICQoLDA0ODxAREhMUFRYXGBkaGxwdHh8gISIjJCUmJygpKissLS4vMDEyMzQ1Njc=",
            "dtype": "i1"
           },
           "xaxis": "x",
           "y": {
            "bdata": "GmuJv1jyWEA7XqH4rOdYQHm+MKBS3FhAkPXooMbTWEAp+pK8Xc9YQE2Icbn+21hAvvAg5MHYWECj64jiBdpYQNACNs223FhAud6KTq7dWECHPQIxUN1YQEdLE5fK1VhAASnOjjTfWEDV2p885upYQJD2BSNC4FhAFenoItXZWECW0Y12K9hYQCRYsO4f0lhAAJ6hrH3VWECW97w99dBYQPy+rTzx3lhAs1GPmbDmWECstC2mLehYQLe2Cwjh7lhAMD7ptBX2WECyccyAmvJYQHXMFPuB7VhAefFDxyLuWEBL/EFAx/NYQD8+BtvL9FhA3fdd39TqWEAVVv9K0uVYQGw8I9155VhA1ntKqR7lWEAznQ0+3/FYQHYhLzUh6VhARkBKVX7sWEAuaDTdJvZYQBlV4yzRBFlAJk3sYFsCWUB5pPtNoQVZQAHPZ5FnCVlAaI7+nMgKWUB8ietuRwpZQNwt3IAyDVlAhMp6cB79WEBIRsS1nAFZQEkqOTWMAllAxqoYeUABWUDiEO/Reg5ZQLpFssZJCllAQSb7JNYHWUDjU5bftRRZQCipY2SDD1lA5JPs2R4MWUDCl5m7TgtZQA==",
            "dtype": "f8"
           },
           "yaxis": "y"
          },
          {
           "line": {
            "color": "rgba(70, 130, 180, 0.9)",
            "width": 2
           },
           "name": "Ask",
           "type": "scatter",
           "x": {
            "bdata": "AAECAwQFBgcICQoLDA0ODxAREhMUFRYXGBkaGxwdHh8gISIjJCUmJygpKissLS4vMDEyMzQ1Njc=",
            "dtype": "i1"
           },
           "xaxis": "x",
           "y": {
            "bdata": "5jdWjCX/WEAHK27FefRYQEWL/Wwf6VhAXMK1bZPgWED1xl+JKtxYQBlVPobL6FhAir3tsI7lWEBvuFWv0uZYQJzPApqD6VhAhatXG3vqWEBTCs/9HOpYQBMY4GOX4lhAzfWaWwHsWEChp2wJs/dYQFzD0u8O7VhA4bW176HmWEBinlpD+ORYQPAkfbvs3lhAzGpueUriWEBixIkKwt1YQMiLegm+61hAfx5cZn3zWEB4gfpy+vRYQIOD2NSt+1hA/Aq2geICWUB+PplNZ/9YQEGZ4cdO+lhARb4QlO/6WEAXyQ4NlABZQAsL06eYAVlAqcQqrKH3WEDhIswXn/JYQDgJ8KlG8lhAokgXduvxWED/adoKrP5YQELu+wHu9VhAEg0XIkv5WED6NAGq8wJZQOUhsPmdEVlA8hm5LSgPWUBFccgabhJZQM2bNF40FllANFvLaZUXWUBIVrg7FBdZQKj6qE3/GVlAUJdHPesJWUAUE5GCaQ5ZQBX3BQJZD1lAknflRQ0OWUCu3bueRxtZQIYSf5MWF1lADfPH8aIUWUCvIGOsgiFZQPR1MDFQHFlAsGC5pusYWUCOZGaIGxhZQA==",
            "dtype": "f8"
           },
           "yaxis": "y"
          },
          {
           "marker": {
            "color": [
             "rgba(31, 119, 180, 0.8)",
             "rgba(31, 119, 180, 0.8)",
             "rgba(31, 119, 180, 0.8)",
             "rgba(31, 119, 180, 0.8)",
             "rgba(31, 119, 180, 0.8)",
             "rgba(31, 119, 180, 0.8)",
             "rgba(178, 34, 34, 0.8)",
             "rgba(31, 119, 180, 0.8)",
             "rgba(31, 119, 180, 0.8)",
             "rgba(31, 119, 180, 0.8)",
             "rgba(31, 119, 180, 0.8)",
             "rgba(31, 119, 180, 0.8)",
             "rgba(178, 34, 34, 0.8)",
             "rgba(178, 34, 34, 0.8)",
             "rgba(31, 119, 180, 0.8)",
             "rgba(31, 119, 180, 0.8)",
             "rgba(31, 119, 180, 0.8)",
             "rgba(31, 119, 180, 0.8)",
             "rgba(178, 34, 34, 0.8)",
             "rgba(31, 119, 180, 0.8)",
             "rgba(178, 34, 34, 0.8)",
             "rgba(178, 34, 34, 0.8)",
             "rgba(178, 34, 34, 0.8)",
             "rgba(178, 34, 34, 0.8)",
             "rgba(178, 34, 34, 0.8)",
             "rgba(31, 119, 180, 0.8)",
             "rgba(31, 119, 180, 0.8)",
             "rgba(31, 119, 180, 0.8)",
             "rgba(178, 34, 34, 0.8)",
             "rgba(31, 119, 180, 0.8)",
             "rgba(31, 119, 180, 0.8)",
             "rgba(31, 119, 180, 0.8)",
             "rgba(31, 119, 180, 0.8)",
             "rgba(31, 119, 180, 0.8)",
             "rgba(178, 34, 34, 0.8)",
             "rgba(31, 119, 180, 0.8)",
             "rgba(178, 34, 34, 0.8)",
             "rgba(178, 34, 34, 0.8)",
             "rgba(178, 34, 34, 0.8)",
             "rgba(31, 119, 180, 0.8)",
             "rgba(178, 34, 34, 0.8)",
             "rgba(178, 34, 34, 0.8)",
             "rgba(31, 119, 180, 0.8)",
             "rgba(31, 119, 180, 0.8)",
             "rgba(178, 34, 34, 0.8)",
             "rgba(31, 119, 180, 0.8)",
             "rgba(31, 119, 180, 0.8)",
             "rgba(31, 119, 180, 0.8)",
             "rgba(31, 119, 180, 0.8)",
             "rgba(178, 34, 34, 0.8)",
             "rgba(31, 119, 180, 0.8)",
             "rgba(31, 119, 180, 0.8)",
             "rgba(31, 119, 180, 0.8)",
             "rgba(31, 119, 180, 0.8)",
             "rgba(31, 119, 180, 0.8)",
             "rgba(31, 119, 180, 0.8)"
            ]
           },
           "name": "Trade P&L",
           "type": "bar",
           "x": {
            "bdata": "AAECAwQFBgcICQoLDA0ODxAREhMUFRYXGBkaGxwdHh8gISIjJCUmJygpKissLS4vMDEyMzQ1Njc=",
            "dtype": "i1"
           },
           "xaxis": "x2",
           "y": {
            "bdata": "mpmZmZmZuT9mJIA29L3bP2YoBte+wNE/mpmZmZmZuT8AAAAAAAAAAGaK9ERjB9M/AHi8hKrmqb+amZmZmZm5PzTLecrdq60/mlG68o7dsT+a8ScB/AK+P2bmSkSacdU/AHS7de/T0r+aFa8Oo67cvwDPrM1M7N8/AHEoVwBH0z/NxIilLxrKPzPQ4twGUOI/M4N5ghqYy78zpnlTtxDjP2Yy9UdkXvq/TU1O4pHq579mhsUy+ge2v03z01WjQOS/gCdaB1046b8AcpfJbF7YP4BVwgLU1eE/aGbk004Alj/Nq/JFdIzgv6CZqzZzsXI/GsUUANIJ8z8zU7qthD3nP80KNNbOosE/zdTT9ToTwT9NNaC0QK7svzOtKvBEr+Q/zEywV8+Hrb/NnByh3B3gv00tMFNEzOK/ZjKGQpY90D8zcZzMde7DvwCo1BxR39K/0EwZbQFHjD8AgJ1gwiWgP8zMNVx71qK/M4uWlENH4z9oJqrOEYKeP5qRefKdHbI/zd7JjzWTxD8AKplBhdfjv81s+b/5kM0/zb4LOxC0wT+amZmZmZm5PwAAAAAAAAAAzVT3uuGVwz+amZmZmZm5Pw==",
            "dtype": "f8"
           },
           "yaxis": "y2"
          },
          {
           "line": {
            "color": "rgba(60, 179, 113, 0.9)",
            "width": 2
           },
           "name": "Cumulative P&L",
           "type": "scatter",
           "x": {
            "bdata": "AAECAwQFBgcICQoLDA0ODxAREhMUFRYXGBkaGxwdHh8gISIjJCUmJygpKissLS4vMDEyMzQ1Njc=",
            "dtype": "i1"
           },
           "xaxis": "x2",
           "y": {
            "bdata": "AAAAAAAAAABmJIA29L3bP2Ymw4ZZv+Y/mVn2uYzy6T+ZWfa5jPLpP2ZPOC4fu/E/pmsS2unr8D9ABaxzg4XyP5rT/2HicvM/tHgrUbuQ9D/O9z0R63D2P2ixUKJRzfs/aNThxFUY9z8DHmwCWtnvP8JCoTTA5/c/Al9rSoC5/D+cdxw/xvz/P9vvxtZkkgRAqFefLuPYAkA1wX0DEZ0HQARQBr+92/Q/u1K+m+nM4T/cQ8uq1BfeP3xFuQHk0sS/33jIBxZt7r/fv/yi3z3iv8CXmg7oAoq/EDUumbX9gT/58o1vfUTgv8abIIkaH+C/bu4Id4n05T/QoGESB5n2PyoiKO1gzfg/xJziS8jv+j87BCXjTzHpP7fYp2lK8PY/UVbq7gsE9j/VD7g8O+rrPxDFD9PtO9I/u/vKCsI84T/cvkcvSYLYP3BbzEngi7Y/CoVvd8AUuj+FIt/T0BPBP6Reo/ljvLg/CPfKE9Be5j87SECi4FLnP256j2CUluk/IfKBxGG77j9CkNEFucfVP1Qj5/IaSOI/BxOqAR+15j86Rt00UujpPzpG3TRS6Ok/bRubo8rN7j9QJ2frfgDxPw==",
            "dtype": "f8"
           },
           "yaxis": "y2"
          }
         ]
        },
        {
         "data": [
          {
           "line": {
            "color": "rgba(60, 179, 113, 0.9)",
            "dash": "dot",
            "width": 2
           },
           "name": "Mid Price (Estimated)",
           "type": "scatter",
           "x": {
            "bdata": "AAECAwQFBgcICQoLDA0ODxAREhMUFRYXGBkaGxwdHh8gISIjJCUmJygpKissLS4vMDEyMzQ1Njc4",
            "dtype": "i1"
           },
           "xaxis": "x",
           "y": {
            "bdata": "gNHvJb/4WEChxAdfE+5YQN8klwa54lhA9ltPBy3aWECPYPkixNVYQLPu1x9l4lhAJFeHSijfWEAJUu9IbOBYQDZpnDMd41hAH0XxtBTkWEDto2iXtuNYQK2xef0w3FhAZ4809ZrlWEA7QQajTPFYQPZcbImo5lhAe09PiTvgWED8N/Tckd5YQIq+FlWG2FhAZgQIE+TbWED8XSOkW9dYQGIlFKNX5VhAGbj1/xbtWEASG5QMlO5YQB0dcm5H9VhAlqRPG3z8WEAY2DLnAPlYQNsye2Ho81hA31eqLYn0WECxYqimLfpYQKWkbEEy+1hAQ17ERTvxWEB7vGWxOOxYQNKiiUPg61hAPOKwD4XrWECZA3SkRfhYQNyHlZuH71hArKawu+TyWECUzppDjfxYQH+7SZM3C1lAjLNSx8EIWUDfCmK0BwxZQGc1zvfND1lAzvRkAy8RWUDi71HVrRBZQEKUQueYE1lA6jDh1oQDWUCurCocAwhZQK+Qn5vyCFlALBF/36YHWUBId1U44RRZQCCsGC2wEFlAp4xhizwOWUBJuvxFHBtZQI4PysrpFVlASvpSQIUSWUAo/v8htRFZQGNGNVw3F1lA",
            "dtype": "f8"
           },
           "yaxis": "y"
          },
          {
           "line": {
            "color": "rgba(178, 34, 34, 0.9)",
            "width": 2
           },
           "name": "Bid",
           "type": "scatter",
           "x": {
            "bdata": "AAECAwQFBgcICQoLDA0ODxAREhMUFRYXGBkaGxwdHh8gISIjJCUmJygpKissLS4vMDEyMzQ1Njc4",
            "dtype": "i1"
           },
           "xaxis": "x",
           "y": {
            "bdata": "GmuJv1jyWEA7XqH4rOdYQHm+MKBS3FhAkPXooMbTWEAp+pK8Xc9YQE2Icbn+21hAvvAg5MHYWECj64jiBdpYQNACNs223FhAud6KTq7dWECHPQIxUN1YQEdLE5fK1VhAASnOjjTfWEDV2p885upYQJD2BSNC4FhAFenoItXZWECW0Y12K9hYQCRYsO4f0lhAAJ6hrH3VWECW97w99dBYQPy+rTzx3lhAs1GPmbDmWECstC2mLehYQLe2Cwjh7lhAMD7ptBX2WECyccyAmvJYQHXMFPuB7VhAefFDxyLuWEBL/EFAx/NYQD8+BtvL9FhA3fdd39TqWEAVVv9K0uVYQGw8I9155VhA1ntKqR7lWEAznQ0+3/FYQHYhLzUh6VhARkBKVX7sWEAuaDTdJvZYQBlV4yzRBFlAJk3sYFsCWUB5pPtNoQVZQAHPZ5FnCVlAaI7+nMgKWUB8ietuRwpZQNwt3IAyDVlAhMp6cB79WEBIRsS1nAFZQEkqOTWMAllAxqoYeUABWUDiEO/Reg5ZQLpFssZJCllAQSb7JNYHWUDjU5bftRRZQCipY2SDD1lA5JPs2R4MWUDCl5m7TgtZQP3fzvXQEFlA",
            "dtype": "f8"
           },
           "yaxis": "y"
          },
          {
           "line": {
            "color": "rgba(70, 130, 180, 0.9)",
            "width": 2
           },
           "name": "Ask",
           "type": "scatter",
           "x": {
            "bdata": "AAECAwQFBgcICQoLDA0ODxAREhMUFRYXGBkaGxwdHh8gISIjJCUmJygpKissLS4vMDEyMzQ1Njc4",
            "dtype": "i1"
           },
           "xaxis": "x",
           "y": {
            "bdata": "5jdWjCX/WEAHK27FefRYQEWL/Wwf6VhAXMK1bZPgWED1xl+JKtxYQBlVPobL6FhAir3tsI7lWEBvuFWv0uZYQJzPApqD6VhAhatXG3vqWEBTCs/9HOpYQBMY4GOX4lhAzfWaWwHsWEChp2wJs/dYQFzD0u8O7VhA4bW176HmWEBinlpD+ORYQPAkfbvs3lhAzGpueUriWEBixIkKwt1YQMiLegm+61hAfx5cZn3zWEB4gfpy+vRYQIOD2NSt+1hA/Aq2geICWUB+PplNZ/9YQEGZ4cdO+lhARb4QlO/6WEAXyQ4NlABZQAsL06eYAVlAqcQqrKH3WEDhIswXn/JYQDgJ8KlG8lhAokgXduvxWED/adoKrP5YQELu+wHu9VhAEg0XIkv5WED6NAGq8wJZQOUhsPmdEVlA8hm5LSgPWUBFccgabhJZQM2bNF40FllANFvLaZUXWUBIVrg7FBdZQKj6qE3/GVlAUJdHPesJWUAUE5GCaQ5ZQBX3BQJZD1lAknflRQ0OWUCu3bueRxtZQIYSf5MWF1lADfPH8aIUWUCvIGOsgiFZQPR1MDFQHFlAsGC5pusYWUCOZGaIGxhZQMmsm8KdHVlA",
            "dtype": "f8"
           },
           "yaxis": "y"
          },
          {
           "marker": {
            "color": [
             "rgba(31, 119, 180, 0.8)",
             "rgba(31, 119, 180, 0.8)",
             "rgba(31, 119, 180, 0.8)",
             "rgba(31, 119, 180, 0.8)",
             "rgba(31, 119, 180, 0.8)",
             "rgba(31, 119, 180, 0.8)",
             "rgba(178, 34, 34, 0.8)",
             "rgba(31, 119, 180, 0.8)",
             "rgba(31, 119, 180, 0.8)",
             "rgba(31, 119, 180, 0.8)",
             "rgba(31, 119, 180, 0.8)",
             "rgba(31, 119, 180, 0.8)",
             "rgba(178, 34, 34, 0.8)",
             "rgba(178, 34, 34, 0.8)",
             "rgba(31, 119, 180, 0.8)",
             "rgba(31, 119, 180, 0.8)",
             "rgba(31, 119, 180, 0.8)",
             "rgba(31, 119, 180, 0.8)",
             "rgba(178, 34, 34, 0.8)",
             "rgba(31, 119, 180, 0.8)",
             "rgba(178, 34, 34, 0.8)",
             "rgba(178, 34, 34, 0.8)",
             "rgba(178, 34, 34, 0.8)",
             "rgba(178, 34, 34, 0.8)",
             "rgba(178, 34, 34, 0.8)",
             "rgba(31, 119, 180, 0.8)",
             "rgba(31, 119, 180, 0.8)",
             "rgba(31, 119, 180, 0.8)",
             "rgba(178, 34, 34, 0.8)",
             "rgba(31, 119, 180, 0.8)",
             "rgba(31, 119, 180, 0.8)",
             "rgba(31, 119, 180, 0.8)",
             "rgba(31, 119, 180, 0.8)",
             "rgba(31, 119, 180, 0.8)",
             "rgba(178, 34, 34, 0.8)",
             "rgba(31, 119, 180, 0.8)",
             "rgba(178, 34, 34, 0.8)",
             "rgba(178, 34, 34, 0.8)",
             "rgba(178, 34, 34, 0.8)",
             "rgba(31, 119, 180, 0.8)",
             "rgba(178, 34, 34, 0.8)",
             "rgba(178, 34, 34, 0.8)",
             "rgba(31, 119, 180, 0.8)",
             "rgba(31, 119, 180, 0.8)",
             "rgba(178, 34, 34, 0.8)",
             "rgba(31, 119, 180, 0.8)",
             "rgba(31, 119, 180, 0.8)",
             "rgba(31, 119, 180, 0.8)",
             "rgba(31, 119, 180, 0.8)",
             "rgba(178, 34, 34, 0.8)",
             "rgba(31, 119, 180, 0.8)",
             "rgba(31, 119, 180, 0.8)",
             "rgba(31, 119, 180, 0.8)",
             "rgba(31, 119, 180, 0.8)",
             "rgba(31, 119, 180, 0.8)",
             "rgba(31, 119, 180, 0.8)",
             "rgba(31, 119, 180, 0.8)"
            ]
           },
           "name": "Trade P&L",
           "type": "bar",
           "x": {
            "bdata": "AAECAwQFBgcICQoLDA0ODxAREhMUFRYXGBkaGxwdHh8gISIjJCUmJygpKissLS4vMDEyMzQ1Njc4",
            "dtype": "i1"
           },
           "xaxis": "x2",
           "y": {
            "bdata": "mpmZmZmZuT9mJIA29L3bP2YoBte+wNE/mpmZmZmZuT8AAAAAAAAAAGaK9ERjB9M/AHi8hKrmqb+amZmZmZm5PzTLecrdq60/mlG68o7dsT+a8ScB/AK+P2bmSkSacdU/AHS7de/T0r+aFa8Oo67cvwDPrM1M7N8/AHEoVwBH0z/NxIilLxrKPzPQ4twGUOI/M4N5ghqYy78zpnlTtxDjP2Yy9UdkXvq/TU1O4pHq579mhsUy+ge2v03z01WjQOS/gCdaB1046b8AcpfJbF7YP4BVwgLU1eE/aGbk004Alj/Nq/JFdIzgv6CZqzZzsXI/GsUUANIJ8z8zU7qthD3nP80KNNbOosE/zdTT9ToTwT9NNaC0QK7svzOtKvBEr+Q/zEywV8+Hrb/NnByh3B3gv00tMFNEzOK/ZjKGQpY90D8zcZzMde7DvwCo1BxR39K/0EwZbQFHjD8AgJ1gwiWgP8zMNVx71qK/M4uWlENH4z9oJqrOEYKeP5qRefKdHbI/zd7JjzWTxD8AKplBhdfjv81s+b/5kM0/zb4LOxC0wT+amZmZmZm5PwAAAAAAAAAAzVT3uuGVwz+amZmZmZm5P81CXTdB0cc/",
            "dtype": "f8"
           },
           "yaxis": "y2"
          },
          {
           "line": {
            "color": "rgba(60, 179, 113, 0.9)",
            "width": 2
           },
           "name": "Cumulative P&L",
           "type": "scatter",
           "x": {
            "bdata": "AAECAwQFBgcICQoLDA0ODxAREhMUFRYXGBkaGxwdHh8gISIjJCUmJygpKissLS4vMDEyMzQ1Njc4",
            "dtype": "i1"
           },
           "xaxis": "x2",
           "y": {
            "bdata": "AAAAAAAAAABmJIA29L3bP2Ymw4ZZv+Y/mVn2uYzy6T+ZWfa5jPLpP2ZPOC4fu/E/pmsS2unr8D9ABaxzg4XyP5rT/2HicvM/tHgrUbuQ9D/O9z0R63D2P2ixUKJRzfs/aNThxFUY9z8DHmwCWtnvP8JCoTTA5/c/Al9rSoC5/D+cdxw/xvz/P9vvxtZkkgRAqFefLuPYAkA1wX0DEZ0HQARQBr+92/Q/u1K+m+nM4T/cQ8uq1BfeP3xFuQHk0sS/33jIBxZt7r/fv/yi3z3iv8CXmg7oAoq/EDUumbX9gT/58o1vfUTgv8abIIkaH+C/bu4Id4n05T/QoGESB5n2PyoiKO1gzfg/xJziS8jv+j87BCXjTzHpP7fYp2lK8PY/UVbq7gsE9j/VD7g8O+rrPxDFD9PtO9I/u/vKCsI84T/cvkcvSYLYP3BbzEngi7Y/CoVvd8AUuj+FIt/T0BPBP6Reo/ljvLg/CPfKE9Be5j87SECi4FLnP256j2CUluk/IfKBxGG77j9CkNEFucfVP1Qj5/IaSOI/BxOqAR+15j86Rt00UujpPzpG3TRS6Ok/bRubo8rN7j9QJ2frfgDxP6rPUhKn+vM/",
            "dtype": "f8"
           },
           "yaxis": "y2"
          }
         ]
        },
        {
         "data": [
          {
           "line": {
            "color": "rgba(60, 179, 113, 0.9)",
            "dash": "dot",
            "width": 2
           },
           "name": "Mid Price (Estimated)",
           "type": "scatter",
           "x": {
            "bdata": "AAECAwQFBgcICQoLDA0ODxAREhMUFRYXGBkaGxwdHh8gISIjJCUmJygpKissLS4vMDEyMzQ1Njc4OQ==",
            "dtype": "i1"
           },
           "xaxis": "x",
           "y": {
            "bdata": "gNHvJb/4WEChxAdfE+5YQN8klwa54lhA9ltPBy3aWECPYPkixNVYQLPu1x9l4lhAJFeHSijfWEAJUu9IbOBYQDZpnDMd41hAH0XxtBTkWEDto2iXtuNYQK2xef0w3FhAZ4809ZrlWEA7QQajTPFYQPZcbImo5lhAe09PiTvgWED8N/Tckd5YQIq+FlWG2FhAZgQIE+TbWED8XSOkW9dYQGIlFKNX5VhAGbj1/xbtWEASG5QMlO5YQB0dcm5H9VhAlqRPG3z8WEAY2DLnAPlYQNsye2Ho81hA31eqLYn0WECxYqimLfpYQKWkbEEy+1hAQ17ERTvxWEB7vGWxOOxYQNKiiUPg61hAPOKwD4XrWECZA3SkRfhYQNyHlZuH71hArKawu+TyWECUzppDjfxYQH+7SZM3C1lAjLNSx8EIWUDfCmK0BwxZQGc1zvfND1lAzvRkAy8RWUDi71HVrRBZQEKUQueYE1lA6jDh1oQDWUCurCocAwhZQK+Qn5vyCFlALBF/36YHWUBId1U44RRZQCCsGC2wEFlAp4xhizwOWUBJuvxFHBtZQI4PysrpFVlASvpSQIUSWUAo/v8htRFZQGNGNVw3F1lALECBl6wYWUA=",
            "dtype": "f8"
           },
           "yaxis": "y"
          },
          {
           "line": {
            "color": "rgba(178, 34, 34, 0.9)",
            "width": 2
           },
           "name": "Bid",
           "type": "scatter",
           "x": {
            "bdata": "AAECAwQFBgcICQoLDA0ODxAREhMUFRYXGBkaGxwdHh8gISIjJCUmJygpKissLS4vMDEyMzQ1Njc4OQ==",
            "dtype": "i1"
           },
           "xaxis": "x",
           "y": {
            "bdata": "GmuJv1jyWEA7XqH4rOdYQHm+MKBS3FhAkPXooMbTWEAp+pK8Xc9YQE2Icbn+21hAvvAg5MHYWECj64jiBdpYQNACNs223FhAud6KTq7dWECHPQIxUN1YQEdLE5fK1VhAASnOjjTfWEDV2p885upYQJD2BSNC4FhAFenoItXZWECW0Y12K9hYQCRYsO4f0lhAAJ6hrH3VWECW97w99dBYQPy+rTzx3lhAs1GPmbDmWECstC2mLehYQLe2Cwjh7lhAMD7ptBX2WECyccyAmvJYQHXMFPuB7VhAefFDxyLuWEBL/EFAx/NYQD8+BtvL9FhA3fdd39TqWEAVVv9K0uVYQGw8I9155VhA1ntKqR7lWEAznQ0+3/FYQHYhLzUh6VhARkBKVX7sWEAuaDTdJvZYQBlV4yzRBFlAJk3sYFsCWUB5pPtNoQVZQAHPZ5FnCVlAaI7+nMgKWUB8ietuRwpZQNwt3IAyDVlAhMp6cB79WEBIRsS1nAFZQEkqOTWMAllAxqoYeUABWUDiEO/Reg5ZQLpFssZJCllAQSb7JNYHWUDjU5bftRRZQCipY2SDD1lA5JPs2R4MWUDCl5m7TgtZQP3fzvXQEFlAxtkaMUYSWUA=",
            "dtype": "f8"
           },
           "yaxis": "y"
          },
          {
           "line": {
            "color": "rgba(70, 130, 180, 0.9)",
            "width": 2
           },
           "name": "Ask",
           "type": "scatter",
           "x": {
            "bdata": "AAECAwQFBgcICQoLDA0ODxAREhMUFRYXGBkaGxwdHh8gISIjJCUmJygpKissLS4vMDEyMzQ1Njc4OQ==",
            "dtype": "i1"
           },
           "xaxis": "x",
           "y": {
            "bdata": "5jdWjCX/WEAHK27FefRYQEWL/Wwf6VhAXMK1bZPgWED1xl+JKtxYQBlVPobL6FhAir3tsI7lWEBvuFWv0uZYQJzPApqD6VhAhatXG3vqWEBTCs/9HOpYQBMY4GOX4lhAzfWaWwHsWEChp2wJs/dYQFzD0u8O7VhA4bW176HmWEBinlpD+ORYQPAkfbvs3lhAzGpueUriWEBixIkKwt1YQMiLegm+61hAfx5cZn3zWEB4gfpy+vRYQIOD2NSt+1hA/Aq2geICWUB+PplNZ/9YQEGZ4cdO+lhARb4QlO/6WEAXyQ4NlABZQAsL06eYAVlAqcQqrKH3WEDhIswXn/JYQDgJ8KlG8lhAokgXduvxWED/adoKrP5YQELu+wHu9VhAEg0XIkv5WED6NAGq8wJZQOUhsPmdEVlA8hm5LSgPWUBFccgabhJZQM2bNF40FllANFvLaZUXWUBIVrg7FBdZQKj6qE3/GVlAUJdHPesJWUAUE5GCaQ5ZQBX3BQJZD1lAknflRQ0OWUCu3bueRxtZQIYSf5MWF1lADfPH8aIUWUCvIGOsgiFZQPR1MDFQHFlAsGC5pusYWUCOZGaIGxhZQMmsm8KdHVlAkqbn/RIfWUA=",
            "dtype": "f8"
           },
           "yaxis": "y"
          },
          {
           "marker": {
            "color": [
             "rgba(31, 119, 180, 0.8)",
             "rgba(31, 119, 180, 0.8)",
             "rgba(31, 119, 180, 0.8)",
             "rgba(31, 119, 180, 0.8)",
             "rgba(31, 119, 180, 0.8)",
             "rgba(31, 119, 180, 0.8)",
             "rgba(178, 34, 34, 0.8)",
             "rgba(31, 119, 180, 0.8)",
             "rgba(31, 119, 180, 0.8)",
             "rgba(31, 119, 180, 0.8)",
             "rgba(31, 119, 180, 0.8)",
             "rgba(31, 119, 180, 0.8)",
             "rgba(178, 34, 34, 0.8)",
             "rgba(178, 34, 34, 0.8)",
             "rgba(31, 119, 180, 0.8)",
             "rgba(31, 119, 180, 0.8)",
             "rgba(31, 119, 180, 0.8)",
             "rgba(31, 119, 180, 0.8)",
             "rgba(178, 34, 34, 0.8)",
             "rgba(31, 119, 180, 0.8)",
             "rgba(178, 34, 34, 0.8)",
             "rgba(178, 34, 34, 0.8)",
             "rgba(178, 34, 34, 0.8)",
             "rgba(178, 34, 34, 0.8)",
             "rgba(178, 34, 34, 0.8)",
             "rgba(31, 119, 180, 0.8)",
             "rgba(31, 119, 180, 0.8)",
             "rgba(31, 119, 180, 0.8)",
             "rgba(178, 34, 34, 0.8)",
             "rgba(31, 119, 180, 0.8)",
             "rgba(31, 119, 180, 0.8)",
             "rgba(31, 119, 180, 0.8)",
             "rgba(31, 119, 180, 0.8)",
             "rgba(31, 119, 180, 0.8)",
             "rgba(178, 34, 34, 0.8)",
             "rgba(31, 119, 180, 0.8)",
             "rgba(178, 34, 34, 0.8)",
             "rgba(178, 34, 34, 0.8)",
             "rgba(178, 34, 34, 0.8)",
             "rgba(31, 119, 180, 0.8)",
             "rgba(178, 34, 34, 0.8)",
             "rgba(178, 34, 34, 0.8)",
             "rgba(31, 119, 180, 0.8)",
             "rgba(31, 119, 180, 0.8)",
             "rgba(178, 34, 34, 0.8)",
             "rgba(31, 119, 180, 0.8)",
             "rgba(31, 119, 180, 0.8)",
             "rgba(31, 119, 180, 0.8)",
             "rgba(31, 119, 180, 0.8)",
             "rgba(178, 34, 34, 0.8)",
             "rgba(31, 119, 180, 0.8)",
             "rgba(31, 119, 180, 0.8)",
             "rgba(31, 119, 180, 0.8)",
             "rgba(31, 119, 180, 0.8)",
             "rgba(31, 119, 180, 0.8)",
             "rgba(31, 119, 180, 0.8)",
             "rgba(31, 119, 180, 0.8)",
             "rgba(31, 119, 180, 0.8)"
            ]
           },
           "name": "Trade P&L",
           "type": "bar",
           "x": {
            "bdata": "AAECAwQFBgcICQoLDA0ODxAREhMUFRYXGBkaGxwdHh8gISIjJCUmJygpKissLS4vMDEyMzQ1Njc4OQ==",
            "dtype": "i1"
           },
           "xaxis": "x2",
           "y": {
            "bdata": "mpmZmZmZuT9mJIA29L3bP2YoBte+wNE/mpmZmZmZuT8AAAAAAAAAAGaK9ERjB9M/AHi8hKrmqb+amZmZmZm5PzTLecrdq60/mlG68o7dsT+a8ScB/AK+P2bmSkSacdU/AHS7de/T0r+aFa8Oo67cvwDPrM1M7N8/AHEoVwBH0z/NxIilLxrKPzPQ4twGUOI/M4N5ghqYy78zpnlTtxDjP2Yy9UdkXvq/TU1O4pHq579mhsUy+ge2v03z01WjQOS/gCdaB1046b8AcpfJbF7YP4BVwgLU1eE/aGbk004Alj/Nq/JFdIzgv6CZqzZzsXI/GsUUANIJ8z8zU7qthD3nP80KNNbOosE/zdTT9ToTwT9NNaC0QK7svzOtKvBEr+Q/zEywV8+Hrb/NnByh3B3gv00tMFNEzOK/ZjKGQpY90D8zcZzMde7DvwCo1BxR39K/0EwZbQFHjD8AgJ1gwiWgP8zMNVx71qK/M4uWlENH4z9oJqrOEYKeP5qRefKdHbI/zd7JjzWTxD8AKplBhdfjv81s+b/5kM0/zb4LOxC0wT+amZmZmZm5PwAAAAAAAAAAzVT3uuGVwz+amZmZmZm5P81CXTdB0cc/AJCcv7RTlz8=",
            "dtype": "f8"
           },
           "yaxis": "y2"
          },
          {
           "line": {
            "color": "rgba(60, 179, 113, 0.9)",
            "width": 2
           },
           "name": "Cumulative P&L",
           "type": "scatter",
           "x": {
            "bdata": "AAECAwQFBgcICQoLDA0ODxAREhMUFRYXGBkaGxwdHh8gISIjJCUmJygpKissLS4vMDEyMzQ1Njc4OQ==",
            "dtype": "i1"
           },
           "xaxis": "x2",
           "y": {
            "bdata": "AAAAAAAAAABmJIA29L3bP2Ymw4ZZv+Y/mVn2uYzy6T+ZWfa5jPLpP2ZPOC4fu/E/pmsS2unr8D9ABaxzg4XyP5rT/2HicvM/tHgrUbuQ9D/O9z0R63D2P2ixUKJRzfs/aNThxFUY9z8DHmwCWtnvP8JCoTTA5/c/Al9rSoC5/D+cdxw/xvz/P9vvxtZkkgRAqFefLuPYAkA1wX0DEZ0HQARQBr+92/Q/u1K+m+nM4T/cQ8uq1BfeP3xFuQHk0sS/33jIBxZt7r/fv/yi3z3iv8CXmg7oAoq/EDUumbX9gT/58o1vfUTgv8abIIkaH+C/bu4Id4n05T/QoGESB5n2PyoiKO1gzfg/xJziS8jv+j87BCXjTzHpP7fYp2lK8PY/UVbq7gsE9j/VD7g8O+rrPxDFD9PtO9I/u/vKCsI84T/cvkcvSYLYP3BbzEngi7Y/CoVvd8AUuj+FIt/T0BPBP6Reo/ljvLg/CPfKE9Be5j87SECi4FLnP256j2CUluk/IfKBxGG77j9CkNEFucfVP1Qj5/IaSOI/BxOqAR+15j86Rt00UujpPzpG3TRS6Ok/bRubo8rN7j9QJ2frfgDxP6rPUhKn+vM/6kFR5fVX9D8=",
            "dtype": "f8"
           },
           "yaxis": "y2"
          }
         ]
        },
        {
         "data": [
          {
           "line": {
            "color": "rgba(60, 179, 113, 0.9)",
            "dash": "dot",
            "width": 2
           },
           "name": "Mid Price (Estimated)",
           "type": "scatter",
           "x": {
            "bdata": "AAECAwQFBgcICQoLDA0ODxAREhMUFRYXGBkaGxwdHh8gISIjJCUmJygpKissLS4vMDEyMzQ1Njc4OTo=",
            "dtype": "i1"
           },
           "xaxis": "x",
           "y": {
            "bdata": "gNHvJb/4WEChxAdfE+5YQN8klwa54lhA9ltPBy3aWECPYPkixNVYQLPu1x9l4lhAJFeHSijfWEAJUu9IbOBYQDZpnDMd41hAH0XxtBTkWEDto2iXtuNYQK2xef0w3FhAZ4809ZrlWEA7QQajTPFYQPZcbImo5lhAe09PiTvgWED8N/Tckd5YQIq+FlWG2FhAZgQIE+TbWED8XSOkW9dYQGIlFKNX5VhAGbj1/xbtWEASG5QMlO5YQB0dcm5H9VhAlqRPG3z8WEAY2DLnAPlYQNsye2Ho81hA31eqLYn0WECxYqimLfpYQKWkbEEy+1hAQ17ERTvxWEB7vGWxOOxYQNKiiUPg61hAPOKwD4XrWECZA3SkRfhYQNyHlZuH71hArKawu+TyWECUzppDjfxYQH+7SZM3C1lAjLNSx8EIWUDfCmK0BwxZQGc1zvfND1lAzvRkAy8RWUDi71HVrRBZQEKUQueYE1lA6jDh1oQDWUCurCocAwhZQK+Qn5vyCFlALBF/36YHWUBId1U44RRZQCCsGC2wEFlAp4xhizwOWUBJuvxFHBtZQI4PysrpFVlASvpSQIUSWUAo/v8htRFZQGNGNVw3F1lALECBl6wYWUBDGb+FhxBZQA==",
            "dtype": "f8"
           },
           "yaxis": "y"
          },
          {
           "line": {
            "color": "rgba(178, 34, 34, 0.9)",
            "width": 2
           },
           "name": "Bid",
           "type": "scatter",
           "x": {
            "bdata": "AAECAwQFBgcICQoLDA0ODxAREhMUFRYXGBkaGxwdHh8gISIjJCUmJygpKissLS4vMDEyMzQ1Njc4OTo=",
            "dtype": "i1"
           },
           "xaxis": "x",
           "y": {
            "bdata": "GmuJv1jyWEA7XqH4rOdYQHm+MKBS3FhAkPXooMbTWEAp+pK8Xc9YQE2Icbn+21hAvvAg5MHYWECj64jiBdpYQNACNs223FhAud6KTq7dWECHPQIxUN1YQEdLE5fK1VhAASnOjjTfWEDV2p885upYQJD2BSNC4FhAFenoItXZWECW0Y12K9hYQCRYsO4f0lhAAJ6hrH3VWECW97w99dBYQPy+rTzx3lhAs1GPmbDmWECstC2mLehYQLe2Cwjh7lhAMD7ptBX2WECyccyAmvJYQHXMFPuB7VhAefFDxyLuWEBL/EFAx/NYQD8+BtvL9FhA3fdd39TqWEAVVv9K0uVYQGw8I9155VhA1ntKqR7lWEAznQ0+3/FYQHYhLzUh6VhARkBKVX7sWEAuaDTdJvZYQBlV4yzRBFlAJk3sYFsCWUB5pPtNoQVZQAHPZ5FnCVlAaI7+nMgKWUB8ietuRwpZQNwt3IAyDVlAhMp6cB79WEBIRsS1nAFZQEkqOTWMAllAxqoYeUABWUDiEO/Reg5ZQLpFssZJCllAQSb7JNYHWUDjU5bftRRZQCipY2SDD1lA5JPs2R4MWUDCl5m7TgtZQP3fzvXQEFlAxtkaMUYSWUDdslgfIQpZQA==",
            "dtype": "f8"
           },
           "yaxis": "y"
          },
          {
           "line": {
            "color": "rgba(70, 130, 180, 0.9)",
            "width": 2
           },
           "name": "Ask",
           "type": "scatter",
           "x": {
            "bdata": "AAECAwQFBgcICQoLDA0ODxAREhMUFRYXGBkaGxwdHh8gISIjJCUmJygpKissLS4vMDEyMzQ1Njc4OTo=",
            "dtype": "i1"
           },
           "xaxis": "x",
           "y": {
            "bdata": "5jdWjCX/WEAHK27FefRYQEWL/Wwf6VhAXMK1bZPgWED1xl+JKtxYQBlVPobL6FhAir3tsI7lWEBvuFWv0uZYQJzPApqD6VhAhatXG3vqWEBTCs/9HOpYQBMY4GOX4lhAzfWaWwHsWEChp2wJs/dYQFzD0u8O7VhA4bW176HmWEBinlpD+ORYQPAkfbvs3lhAzGpueUriWEBixIkKwt1YQMiLegm+61hAfx5cZn3zWEB4gfpy+vRYQIOD2NSt+1hA/Aq2geICWUB+PplNZ/9YQEGZ4cdO+lhARb4QlO/6WEAXyQ4NlABZQAsL06eYAVlAqcQqrKH3WEDhIswXn/JYQDgJ8KlG8lhAokgXduvxWED/adoKrP5YQELu+wHu9VhAEg0XIkv5WED6NAGq8wJZQOUhsPmdEVlA8hm5LSgPWUBFccgabhJZQM2bNF40FllANFvLaZUXWUBIVrg7FBdZQKj6qE3/GVlAUJdHPesJWUAUE5GCaQ5ZQBX3BQJZD1lAknflRQ0OWUCu3bueRxtZQIYSf5MWF1lADfPH8aIUWUCvIGOsgiFZQPR1MDFQHFlAsGC5pusYWUCOZGaIGxhZQMmsm8KdHVlAkqbn/RIfWUCpfyXs7RZZQA==",
            "dtype": "f8"
           },
           "yaxis": "y"
          },
          {
           "marker": {
            "color": [
             "rgba(31, 119, 180, 0.8)",
             "rgba(31, 119, 180, 0.8)",
             "rgba(31, 119, 180, 0.8)",
             "rgba(31, 119, 180, 0.8)",
             "rgba(31, 119, 180, 0.8)",
             "rgba(31, 119, 180, 0.8)",
             "rgba(178, 34, 34, 0.8)",
             "rgba(31, 119, 180, 0.8)",
             "rgba(31, 119, 180, 0.8)",
             "rgba(31, 119, 180, 0.8)",
             "rgba(31, 119, 180, 0.8)",
             "rgba(31, 119, 180, 0.8)",
             "rgba(178, 34, 34, 0.8)",
             "rgba(178, 34, 34, 0.8)",
             "rgba(31, 119, 180, 0.8)",
             "rgba(31, 119, 180, 0.8)",
             "rgba(31, 119, 180, 0.8)",
             "rgba(31, 119, 180, 0.8)",
             "rgba(178, 34, 34, 0.8)",
             "rgba(31, 119, 180, 0.8)",
             "rgba(178, 34, 34, 0.8)",
             "rgba(178, 34, 34, 0.8)",
             "rgba(178, 34, 34, 0.8)",
             "rgba(178, 34, 34, 0.8)",
             "rgba(178, 34, 34, 0.8)",
             "rgba(31, 119, 180, 0.8)",
             "rgba(31, 119, 180, 0.8)",
             "rgba(31, 119, 180, 0.8)",
             "rgba(178, 34, 34, 0.8)",
             "rgba(31, 119, 180, 0.8)",
             "rgba(31, 119, 180, 0.8)",
             "rgba(31, 119, 180, 0.8)",
             "rgba(31, 119, 180, 0.8)",
             "rgba(31, 119, 180, 0.8)",
             "rgba(178, 34, 34, 0.8)",
             "rgba(31, 119, 180, 0.8)",
             "rgba(178, 34, 34, 0.8)",
             "rgba(178, 34, 34, 0.8)",
             "rgba(178, 34, 34, 0.8)",
             "rgba(31, 119, 180, 0.8)",
             "rgba(178, 34, 34, 0.8)",
             "rgba(178, 34, 34, 0.8)",
             "rgba(31, 119, 180, 0.8)",
             "rgba(31, 119, 180, 0.8)",
             "rgba(178, 34, 34, 0.8)",
             "rgba(31, 119, 180, 0.8)",
             "rgba(31, 119, 180, 0.8)",
             "rgba(31, 119, 180, 0.8)",
             "rgba(31, 119, 180, 0.8)",
             "rgba(178, 34, 34, 0.8)",
             "rgba(31, 119, 180, 0.8)",
             "rgba(31, 119, 180, 0.8)",
             "rgba(31, 119, 180, 0.8)",
             "rgba(31, 119, 180, 0.8)",
             "rgba(31, 119, 180, 0.8)",
             "rgba(31, 119, 180, 0.8)",
             "rgba(31, 119, 180, 0.8)",
             "rgba(31, 119, 180, 0.8)",
             "rgba(178, 34, 34, 0.8)"
            ]
           },
           "name": "Trade P&L",
           "type": "bar",
           "x": {
            "bdata": "AAECAwQFBgcICQoLDA0ODxAREhMUFRYXGBkaGxwdHh8gISIjJCUmJygpKissLS4vMDEyMzQ1Njc4OTo=",
            "dtype": "i1"
           },
           "xaxis": "x2",
           "y": {
            "bdata": "mpmZmZmZuT9mJIA29L3bP2YoBte+wNE/mpmZmZmZuT8AAAAAAAAAAGaK9ERjB9M/AHi8hKrmqb+amZmZmZm5PzTLecrdq60/mlG68o7dsT+a8ScB/AK+P2bmSkSacdU/AHS7de/T0r+aFa8Oo67cvwDPrM1M7N8/AHEoVwBH0z/NxIilLxrKPzPQ4twGUOI/M4N5ghqYy78zpnlTtxDjP2Yy9UdkXvq/TU1O4pHq579mhsUy+ge2v03z01WjQOS/gCdaB1046b8AcpfJbF7YP4BVwgLU1eE/aGbk004Alj/Nq/JFdIzgv6CZqzZzsXI/GsUUANIJ8z8zU7qthD3nP80KNNbOosE/zdTT9ToTwT9NNaC0QK7svzOtKvBEr+Q/zEywV8+Hrb/NnByh3B3gv00tMFNEzOK/ZjKGQpY90D8zcZzMde7DvwCo1BxR39K/0EwZbQFHjD8AgJ1gwiWgP8zMNVx71qK/M4uWlENH4z9oJqrOEYKeP5qRefKdHbI/zd7JjzWTxD8AKplBhdfjv81s+b/5kM0/zb4LOxC0wT+amZmZmZm5PwAAAAAAAAAAzVT3uuGVwz+amZmZmZm5P81CXTdB0cc/AJCcv7RTlz8A0k2EI0rAvw==",
            "dtype": "f8"
           },
           "yaxis": "y2"
          },
          {
           "line": {
            "color": "rgba(60, 179, 113, 0.9)",
            "width": 2
           },
           "name": "Cumulative P&L",
           "type": "scatter",
           "x": {
            "bdata": "AAECAwQFBgcICQoLDA0ODxAREhMUFRYXGBkaGxwdHh8gISIjJCUmJygpKissLS4vMDEyMzQ1Njc4OTo=",
            "dtype": "i1"
           },
           "xaxis": "x2",
           "y": {
            "bdata": "AAAAAAAAAABmJIA29L3bP2Ymw4ZZv+Y/mVn2uYzy6T+ZWfa5jPLpP2ZPOC4fu/E/pmsS2unr8D9ABaxzg4XyP5rT/2HicvM/tHgrUbuQ9D/O9z0R63D2P2ixUKJRzfs/aNThxFUY9z8DHmwCWtnvP8JCoTTA5/c/Al9rSoC5/D+cdxw/xvz/P9vvxtZkkgRAqFefLuPYAkA1wX0DEZ0HQARQBr+92/Q/u1K+m+nM4T/cQ8uq1BfeP3xFuQHk0sS/33jIBxZt7r/fv/yi3z3iv8CXmg7oAoq/EDUumbX9gT/58o1vfUTgv8abIIkaH+C/bu4Id4n05T/QoGESB5n2PyoiKO1gzfg/xJziS8jv+j87BCXjTzHpP7fYp2lK8PY/UVbq7gsE9j/VD7g8O+rrPxDFD9PtO9I/u/vKCsI84T/cvkcvSYLYP3BbzEngi7Y/CoVvd8AUuj+FIt/T0BPBP6Reo/ljvLg/CPfKE9Be5j87SECi4FLnP256j2CUluk/IfKBxGG77j9CkNEFucfVP1Qj5/IaSOI/BxOqAR+15j86Rt00UujpPzpG3TRS6Ok/bRubo8rN7j9QJ2frfgDxP6rPUhKn+vM/6kFR5fVX9D+qh8d0sU7yPw==",
            "dtype": "f8"
           },
           "yaxis": "y2"
          }
         ]
        },
        {
         "data": [
          {
           "line": {
            "color": "rgba(60, 179, 113, 0.9)",
            "dash": "dot",
            "width": 2
           },
           "name": "Mid Price (Estimated)",
           "type": "scatter",
           "x": {
            "bdata": "AAECAwQFBgcICQoLDA0ODxAREhMUFRYXGBkaGxwdHh8gISIjJCUmJygpKissLS4vMDEyMzQ1Njc4OTo7",
            "dtype": "i1"
           },
           "xaxis": "x",
           "y": {
            "bdata": "gNHvJb/4WEChxAdfE+5YQN8klwa54lhA9ltPBy3aWECPYPkixNVYQLPu1x9l4lhAJFeHSijfWEAJUu9IbOBYQDZpnDMd41hAH0XxtBTkWEDto2iXtuNYQK2xef0w3FhAZ4809ZrlWEA7QQajTPFYQPZcbImo5lhAe09PiTvgWED8N/Tckd5YQIq+FlWG2FhAZgQIE+TbWED8XSOkW9dYQGIlFKNX5VhAGbj1/xbtWEASG5QMlO5YQB0dcm5H9VhAlqRPG3z8WEAY2DLnAPlYQNsye2Ho81hA31eqLYn0WECxYqimLfpYQKWkbEEy+1hAQ17ERTvxWEB7vGWxOOxYQNKiiUPg61hAPOKwD4XrWECZA3SkRfhYQNyHlZuH71hArKawu+TyWECUzppDjfxYQH+7SZM3C1lAjLNSx8EIWUDfCmK0BwxZQGc1zvfND1lAzvRkAy8RWUDi71HVrRBZQEKUQueYE1lA6jDh1oQDWUCurCocAwhZQK+Qn5vyCFlALBF/36YHWUBId1U44RRZQCCsGC2wEFlAp4xhizwOWUBJuvxFHBtZQI4PysrpFVlASvpSQIUSWUAo/v8htRFZQGNGNVw3F1lALECBl6wYWUBDGb+FhxBZQMZhrmJADVlA",
            "dtype": "f8"
           },
           "yaxis": "y"
          },
          {
           "line": {
            "color": "rgba(178, 34, 34, 0.9)",
            "width": 2
           },
           "name": "Bid",
           "type": "scatter",
           "x": {
            "bdata": "AAECAwQFBgcICQoLDA0ODxAREhMUFRYXGBkaGxwdHh8gISIjJCUmJygpKissLS4vMDEyMzQ1Njc4OTo7",
            "dtype": "i1"
           },
           "xaxis": "x",
           "y": {
            "bdata": "GmuJv1jyWEA7XqH4rOdYQHm+MKBS3FhAkPXooMbTWEAp+pK8Xc9YQE2Icbn+21hAvvAg5MHYWECj64jiBdpYQNACNs223FhAud6KTq7dWECHPQIxUN1YQEdLE5fK1VhAASnOjjTfWEDV2p885upYQJD2BSNC4FhAFenoItXZWECW0Y12K9hYQCRYsO4f0lhAAJ6hrH3VWECW97w99dBYQPy+rTzx3lhAs1GPmbDmWECstC2mLehYQLe2Cwjh7lhAMD7ptBX2WECyccyAmvJYQHXMFPuB7VhAefFDxyLuWEBL/EFAx/NYQD8+BtvL9FhA3fdd39TqWEAVVv9K0uVYQGw8I9155VhA1ntKqR7lWEAznQ0+3/FYQHYhLzUh6VhARkBKVX7sWEAuaDTdJvZYQBlV4yzRBFlAJk3sYFsCWUB5pPtNoQVZQAHPZ5FnCVlAaI7+nMgKWUB8ietuRwpZQNwt3IAyDVlAhMp6cB79WEBIRsS1nAFZQEkqOTWMAllAxqoYeUABWUDiEO/Reg5ZQLpFssZJCllAQSb7JNYHWUDjU5bftRRZQCipY2SDD1lA5JPs2R4MWUDCl5m7TgtZQP3fzvXQEFlAxtkaMUYSWUDdslgfIQpZQGD7R/zZBllA",
            "dtype": "f8"
           },
           "yaxis": "y"
          },
          {
           "line": {
            "color": "rgba(70, 130, 180, 0.9)",
            "width": 2
           },
           "name": "Ask",
           "type": "scatter",
           "x": {
            "bdata": "AAECAwQFBgcICQoLDA0ODxAREhMUFRYXGBkaGxwdHh8gISIjJCUmJygpKissLS4vMDEyMzQ1Njc4OTo7",
            "dtype": "i1"
           },
           "xaxis": "x",
           "y": {
            "bdata": "5jdWjCX/WEAHK27FefRYQEWL/Wwf6VhAXMK1bZPgWED1xl+JKtxYQBlVPobL6FhAir3tsI7lWEBvuFWv0uZYQJzPApqD6VhAhatXG3vqWEBTCs/9HOpYQBMY4GOX4lhAzfWaWwHsWEChp2wJs/dYQFzD0u8O7VhA4bW176HmWEBinlpD+ORYQPAkfbvs3lhAzGpueUriWEBixIkKwt1YQMiLegm+61hAfx5cZn3zWEB4gfpy+vRYQIOD2NSt+1hA/Aq2geICWUB+PplNZ/9YQEGZ4cdO+lhARb4QlO/6WEAXyQ4NlABZQAsL06eYAVlAqcQqrKH3WEDhIswXn/JYQDgJ8KlG8lhAokgXduvxWED/adoKrP5YQELu+wHu9VhAEg0XIkv5WED6NAGq8wJZQOUhsPmdEVlA8hm5LSgPWUBFccgabhJZQM2bNF40FllANFvLaZUXWUBIVrg7FBdZQKj6qE3/GVlAUJdHPesJWUAUE5GCaQ5ZQBX3BQJZD1lAknflRQ0OWUCu3bueRxtZQIYSf5MWF1lADfPH8aIUWUCvIGOsgiFZQPR1MDFQHFlAsGC5pusYWUCOZGaIGxhZQMmsm8KdHVlAkqbn/RIfWUCpfyXs7RZZQCzIFMmmE1lA",
            "dtype": "f8"
           },
           "yaxis": "y"
          },
          {
           "marker": {
            "color": [
             "rgba(31, 119, 180, 0.8)",
             "rgba(31, 119, 180, 0.8)",
             "rgba(31, 119, 180, 0.8)",
             "rgba(31, 119, 180, 0.8)",
             "rgba(31, 119, 180, 0.8)",
             "rgba(31, 119, 180, 0.8)",
             "rgba(178, 34, 34, 0.8)",
             "rgba(31, 119, 180, 0.8)",
             "rgba(31, 119, 180, 0.8)",
             "rgba(31, 119, 180, 0.8)",
             "rgba(31, 119, 180, 0.8)",
             "rgba(31, 119, 180, 0.8)",
             "rgba(178, 34, 34, 0.8)",
             "rgba(178, 34, 34, 0.8)",
             "rgba(31, 119, 180, 0.8)",
             "rgba(31, 119, 180, 0.8)",
             "rgba(31, 119, 180, 0.8)",
             "rgba(31, 119, 180, 0.8)",
             "rgba(178, 34, 34, 0.8)",
             "rgba(31, 119, 180, 0.8)",
             "rgba(178, 34, 34, 0.8)",
             "rgba(178, 34, 34, 0.8)",
             "rgba(178, 34, 34, 0.8)",
             "rgba(178, 34, 34, 0.8)",
             "rgba(178, 34, 34, 0.8)",
             "rgba(31, 119, 180, 0.8)",
             "rgba(31, 119, 180, 0.8)",
             "rgba(31, 119, 180, 0.8)",
             "rgba(178, 34, 34, 0.8)",
             "rgba(31, 119, 180, 0.8)",
             "rgba(31, 119, 180, 0.8)",
             "rgba(31, 119, 180, 0.8)",
             "rgba(31, 119, 180, 0.8)",
             "rgba(31, 119, 180, 0.8)",
             "rgba(178, 34, 34, 0.8)",
             "rgba(31, 119, 180, 0.8)",
             "rgba(178, 34, 34, 0.8)",
             "rgba(178, 34, 34, 0.8)",
             "rgba(178, 34, 34, 0.8)",
             "rgba(31, 119, 180, 0.8)",
             "rgba(178, 34, 34, 0.8)",
             "rgba(178, 34, 34, 0.8)",
             "rgba(31, 119, 180, 0.8)",
             "rgba(31, 119, 180, 0.8)",
             "rgba(178, 34, 34, 0.8)",
             "rgba(31, 119, 180, 0.8)",
             "rgba(31, 119, 180, 0.8)",
             "rgba(31, 119, 180, 0.8)",
             "rgba(31, 119, 180, 0.8)",
             "rgba(178, 34, 34, 0.8)",
             "rgba(31, 119, 180, 0.8)",
             "rgba(31, 119, 180, 0.8)",
             "rgba(31, 119, 180, 0.8)",
             "rgba(31, 119, 180, 0.8)",
             "rgba(31, 119, 180, 0.8)",
             "rgba(31, 119, 180, 0.8)",
             "rgba(31, 119, 180, 0.8)",
             "rgba(31, 119, 180, 0.8)",
             "rgba(178, 34, 34, 0.8)",
             "rgba(178, 34, 34, 0.8)"
            ]
           },
           "name": "Trade P&L",
           "type": "bar",
           "x": {
            "bdata": "AAECAwQFBgcICQoLDA0ODxAREhMUFRYXGBkaGxwdHh8gISIjJCUmJygpKissLS4vMDEyMzQ1Njc4OTo7",
            "dtype": "i1"
           },
           "xaxis": "x2",
           "y": {
            "bdata": "mpmZmZmZuT9mJIA29L3bP2YoBte+wNE/mpmZmZmZuT8AAAAAAAAAAGaK9ERjB9M/AHi8hKrmqb+amZmZmZm5PzTLecrdq60/mlG68o7dsT+a8ScB/AK+P2bmSkSacdU/AHS7de/T0r+aFa8Oo67cvwDPrM1M7N8/AHEoVwBH0z/NxIilLxrKPzPQ4twGUOI/M4N5ghqYy78zpnlTtxDjP2Yy9UdkXvq/TU1O4pHq579mhsUy+ge2v03z01WjQOS/gCdaB1046b8AcpfJbF7YP4BVwgLU1eE/aGbk004Alj/Nq/JFdIzgv6CZqzZzsXI/GsUUANIJ8z8zU7qthD3nP80KNNbOosE/zdTT9ToTwT9NNaC0QK7svzOtKvBEr+Q/zEywV8+Hrb/NnByh3B3gv00tMFNEzOK/ZjKGQpY90D8zcZzMde7DvwCo1BxR39K/0EwZbQFHjD8AgJ1gwiWgP8zMNVx71qK/M4uWlENH4z9oJqrOEYKeP5qRefKdHbI/zd7JjzWTxD8AKplBhdfjv81s+b/5kM0/zb4LOxC0wT+amZmZmZm5PwAAAAAAAAAAzVT3uuGVwz+amZmZmZm5P81CXTdB0cc/AJCcv7RTlz8A0k2EI0rAv8DMSYTd72O/",
            "dtype": "f8"
           },
           "yaxis": "y2"
          },
          {
           "line": {
            "color": "rgba(60, 179, 113, 0.9)",
            "width": 2
           },
           "name": "Cumulative P&L",
           "type": "scatter",
           "x": {
            "bdata": "AAECAwQFBgcICQoLDA0ODxAREhMUFRYXGBkaGxwdHh8gISIjJCUmJygpKissLS4vMDEyMzQ1Njc4OTo7",
            "dtype": "i1"
           },
           "xaxis": "x2",
           "y": {
            "bdata": "AAAAAAAAAABmJIA29L3bP2Ymw4ZZv+Y/mVn2uYzy6T+ZWfa5jPLpP2ZPOC4fu/E/pmsS2unr8D9ABaxzg4XyP5rT/2HicvM/tHgrUbuQ9D/O9z0R63D2P2ixUKJRzfs/aNThxFUY9z8DHmwCWtnvP8JCoTTA5/c/Al9rSoC5/D+cdxw/xvz/P9vvxtZkkgRAqFefLuPYAkA1wX0DEZ0HQARQBr+92/Q/u1K+m+nM4T/cQ8uq1BfeP3xFuQHk0sS/33jIBxZt7r/fv/yi3z3iv8CXmg7oAoq/EDUumbX9gT/58o1vfUTgv8abIIkaH+C/bu4Id4n05T/QoGESB5n2PyoiKO1gzfg/xJziS8jv+j87BCXjTzHpP7fYp2lK8PY/UVbq7gsE9j/VD7g8O+rrPxDFD9PtO9I/u/vKCsI84T/cvkcvSYLYP3BbzEngi7Y/CoVvd8AUuj+FIt/T0BPBP6Reo/ljvLg/CPfKE9Be5j87SECi4FLnP256j2CUluk/IfKBxGG77j9CkNEFucfVP1Qj5/IaSOI/BxOqAR+15j86Rt00UujpPzpG3TRS6Ok/bRubo8rN7j9QJ2frfgDxP6rPUhKn+vM/6kFR5fVX9D+qh8d0sU7yP8RiBYa5RPI/",
            "dtype": "f8"
           },
           "yaxis": "y2"
          }
         ]
        },
        {
         "data": [
          {
           "line": {
            "color": "rgba(60, 179, 113, 0.9)",
            "dash": "dot",
            "width": 2
           },
           "name": "Mid Price (Estimated)",
           "type": "scatter",
           "x": {
            "bdata": "AAECAwQFBgcICQoLDA0ODxAREhMUFRYXGBkaGxwdHh8gISIjJCUmJygpKissLS4vMDEyMzQ1Njc4OTo7PA==",
            "dtype": "i1"
           },
           "xaxis": "x",
           "y": {
            "bdata": "gNHvJb/4WEChxAdfE+5YQN8klwa54lhA9ltPBy3aWECPYPkixNVYQLPu1x9l4lhAJFeHSijfWEAJUu9IbOBYQDZpnDMd41hAH0XxtBTkWEDto2iXtuNYQK2xef0w3FhAZ4809ZrlWEA7QQajTPFYQPZcbImo5lhAe09PiTvgWED8N/Tckd5YQIq+FlWG2FhAZgQIE+TbWED8XSOkW9dYQGIlFKNX5VhAGbj1/xbtWEASG5QMlO5YQB0dcm5H9VhAlqRPG3z8WEAY2DLnAPlYQNsye2Ho81hA31eqLYn0WECxYqimLfpYQKWkbEEy+1hAQ17ERTvxWEB7vGWxOOxYQNKiiUPg61hAPOKwD4XrWECZA3SkRfhYQNyHlZuH71hArKawu+TyWECUzppDjfxYQH+7SZM3C1lAjLNSx8EIWUDfCmK0BwxZQGc1zvfND1lAzvRkAy8RWUDi71HVrRBZQEKUQueYE1lA6jDh1oQDWUCurCocAwhZQK+Qn5vyCFlALBF/36YHWUBId1U44RRZQCCsGC2wEFlAp4xhizwOWUBJuvxFHBtZQI4PysrpFVlASvpSQIUSWUAo/v8htRFZQGNGNVw3F1lALECBl6wYWUBDGb+FhxBZQMZhrmJADVlANVZgEH4JWUA=",
            "dtype": "f8"
           },
           "yaxis": "y"
          },
          {
           "line": {
            "color": "rgba(178, 34, 34, 0.9)",
            "width": 2
           },
           "name": "Bid",
           "type": "scatter",
           "x": {
            "bdata": "AAECAwQFBgcICQoLDA0ODxAREhMUFRYXGBkaGxwdHh8gISIjJCUmJygpKissLS4vMDEyMzQ1Njc4OTo7PA==",
            "dtype": "i1"
           },
           "xaxis": "x",
           "y": {
            "bdata": "GmuJv1jyWEA7XqH4rOdYQHm+MKBS3FhAkPXooMbTWEAp+pK8Xc9YQE2Icbn+21hAvvAg5MHYWECj64jiBdpYQNACNs223FhAud6KTq7dWECHPQIxUN1YQEdLE5fK1VhAASnOjjTfWEDV2p885upYQJD2BSNC4FhAFenoItXZWECW0Y12K9hYQCRYsO4f0lhAAJ6hrH3VWECW97w99dBYQPy+rTzx3lhAs1GPmbDmWECstC2mLehYQLe2Cwjh7lhAMD7ptBX2WECyccyAmvJYQHXMFPuB7VhAefFDxyLuWEBL/EFAx/NYQD8+BtvL9FhA3fdd39TqWEAVVv9K0uVYQGw8I9155VhA1ntKqR7lWEAznQ0+3/FYQHYhLzUh6VhARkBKVX7sWEAuaDTdJvZYQBlV4yzRBFlAJk3sYFsCWUB5pPtNoQVZQAHPZ5FnCVlAaI7+nMgKWUB8ietuRwpZQNwt3IAyDVlAhMp6cB79WEBIRsS1nAFZQEkqOTWMAllAxqoYeUABWUDiEO/Reg5ZQLpFssZJCllAQSb7JNYHWUDjU5bftRRZQCipY2SDD1lA5JPs2R4MWUDCl5m7TgtZQP3fzvXQEFlAxtkaMUYSWUDdslgfIQpZQGD7R/zZBllAz+/5qRcDWUA=",
            "dtype": "f8"
           },
           "yaxis": "y"
          },
          {
           "line": {
            "color": "rgba(70, 130, 180, 0.9)",
            "width": 2
           },
           "name": "Ask",
           "type": "scatter",
           "x": {
            "bdata": "AAECAwQFBgcICQoLDA0ODxAREhMUFRYXGBkaGxwdHh8gISIjJCUmJygpKissLS4vMDEyMzQ1Njc4OTo7PA==",
            "dtype": "i1"
           },
           "xaxis": "x",
           "y": {
            "bdata": "5jdWjCX/WEAHK27FefRYQEWL/Wwf6VhAXMK1bZPgWED1xl+JKtxYQBlVPobL6FhAir3tsI7lWEBvuFWv0uZYQJzPApqD6VhAhatXG3vqWEBTCs/9HOpYQBMY4GOX4lhAzfWaWwHsWEChp2wJs/dYQFzD0u8O7VhA4bW176HmWEBinlpD+ORYQPAkfbvs3lhAzGpueUriWEBixIkKwt1YQMiLegm+61hAfx5cZn3zWEB4gfpy+vRYQIOD2NSt+1hA/Aq2geICWUB+PplNZ/9YQEGZ4cdO+lhARb4QlO/6WEAXyQ4NlABZQAsL06eYAVlAqcQqrKH3WEDhIswXn/JYQDgJ8KlG8lhAokgXduvxWED/adoKrP5YQELu+wHu9VhAEg0XIkv5WED6NAGq8wJZQOUhsPmdEVlA8hm5LSgPWUBFccgabhJZQM2bNF40FllANFvLaZUXWUBIVrg7FBdZQKj6qE3/GVlAUJdHPesJWUAUE5GCaQ5ZQBX3BQJZD1lAknflRQ0OWUCu3bueRxtZQIYSf5MWF1lADfPH8aIUWUCvIGOsgiFZQPR1MDFQHFlAsGC5pusYWUCOZGaIGxhZQMmsm8KdHVlAkqbn/RIfWUCpfyXs7RZZQCzIFMmmE1lAm7zGduQPWUA=",
            "dtype": "f8"
           },
           "yaxis": "y"
          },
          {
           "marker": {
            "color": [
             "rgba(31, 119, 180, 0.8)",
             "rgba(31, 119, 180, 0.8)",
             "rgba(31, 119, 180, 0.8)",
             "rgba(31, 119, 180, 0.8)",
             "rgba(31, 119, 180, 0.8)",
             "rgba(31, 119, 180, 0.8)",
             "rgba(178, 34, 34, 0.8)",
             "rgba(31, 119, 180, 0.8)",
             "rgba(31, 119, 180, 0.8)",
             "rgba(31, 119, 180, 0.8)",
             "rgba(31, 119, 180, 0.8)",
             "rgba(31, 119, 180, 0.8)",
             "rgba(178, 34, 34, 0.8)",
             "rgba(178, 34, 34, 0.8)",
             "rgba(31, 119, 180, 0.8)",
             "rgba(31, 119, 180, 0.8)",
             "rgba(31, 119, 180, 0.8)",
             "rgba(31, 119, 180, 0.8)",
             "rgba(178, 34, 34, 0.8)",
             "rgba(31, 119, 180, 0.8)",
             "rgba(178, 34, 34, 0.8)",
             "rgba(178, 34, 34, 0.8)",
             "rgba(178, 34, 34, 0.8)",
             "rgba(178, 34, 34, 0.8)",
             "rgba(178, 34, 34, 0.8)",
             "rgba(31, 119, 180, 0.8)",
             "rgba(31, 119, 180, 0.8)",
             "rgba(31, 119, 180, 0.8)",
             "rgba(178, 34, 34, 0.8)",
             "rgba(31, 119, 180, 0.8)",
             "rgba(31, 119, 180, 0.8)",
             "rgba(31, 119, 180, 0.8)",
             "rgba(31, 119, 180, 0.8)",
             "rgba(31, 119, 180, 0.8)",
             "rgba(178, 34, 34, 0.8)",
             "rgba(31, 119, 180, 0.8)",
             "rgba(178, 34, 34, 0.8)",
             "rgba(178, 34, 34, 0.8)",
             "rgba(178, 34, 34, 0.8)",
             "rgba(31, 119, 180, 0.8)",
             "rgba(178, 34, 34, 0.8)",
             "rgba(178, 34, 34, 0.8)",
             "rgba(31, 119, 180, 0.8)",
             "rgba(31, 119, 180, 0.8)",
             "rgba(178, 34, 34, 0.8)",
             "rgba(31, 119, 180, 0.8)",
             "rgba(31, 119, 180, 0.8)",
             "rgba(31, 119, 180, 0.8)",
             "rgba(31, 119, 180, 0.8)",
             "rgba(178, 34, 34, 0.8)",
             "rgba(31, 119, 180, 0.8)",
             "rgba(31, 119, 180, 0.8)",
             "rgba(31, 119, 180, 0.8)",
             "rgba(31, 119, 180, 0.8)",
             "rgba(31, 119, 180, 0.8)",
             "rgba(31, 119, 180, 0.8)",
             "rgba(31, 119, 180, 0.8)",
             "rgba(31, 119, 180, 0.8)",
             "rgba(178, 34, 34, 0.8)",
             "rgba(178, 34, 34, 0.8)",
             "rgba(178, 34, 34, 0.8)"
            ]
           },
           "name": "Trade P&L",
           "type": "bar",
           "x": {
            "bdata": "AAECAwQFBgcICQoLDA0ODxAREhMUFRYXGBkaGxwdHh8gISIjJCUmJygpKissLS4vMDEyMzQ1Njc4OTo7PA==",
            "dtype": "i1"
           },
           "xaxis": "x2",
           "y": {
            "bdata": "mpmZmZmZuT9mJIA29L3bP2YoBte+wNE/mpmZmZmZuT8AAAAAAAAAAGaK9ERjB9M/AHi8hKrmqb+amZmZmZm5PzTLecrdq60/mlG68o7dsT+a8ScB/AK+P2bmSkSacdU/AHS7de/T0r+aFa8Oo67cvwDPrM1M7N8/AHEoVwBH0z/NxIilLxrKPzPQ4twGUOI/M4N5ghqYy78zpnlTtxDjP2Yy9UdkXvq/TU1O4pHq579mhsUy+ge2v03z01WjQOS/gCdaB1046b8AcpfJbF7YP4BVwgLU1eE/aGbk004Alj/Nq/JFdIzgv6CZqzZzsXI/GsUUANIJ8z8zU7qthD3nP80KNNbOosE/zdTT9ToTwT9NNaC0QK7svzOtKvBEr+Q/zEywV8+Hrb/NnByh3B3gv00tMFNEzOK/ZjKGQpY90D8zcZzMde7DvwCo1BxR39K/0EwZbQFHjD8AgJ1gwiWgP8zMNVx71qK/M4uWlENH4z9oJqrOEYKeP5qRefKdHbI/zd7JjzWTxD8AKplBhdfjv81s+b/5kM0/zb4LOxC0wT+amZmZmZm5PwAAAAAAAAAAzVT3uuGVwz+amZmZmZm5P81CXTdB0cc/AJCcv7RTlz8A0k2EI0rAv8DMSYTd72O/AIhccJISvr8=",
            "dtype": "f8"
           },
           "yaxis": "y2"
          },
          {
           "line": {
            "color": "rgba(60, 179, 113, 0.9)",
            "width": 2
           },
           "name": "Cumulative P&L",
           "type": "scatter",
           "x": {
            "bdata": "AAECAwQFBgcICQoLDA0ODxAREhMUFRYXGBkaGxwdHh8gISIjJCUmJygpKissLS4vMDEyMzQ1Njc4OTo7PA==",
            "dtype": "i1"
           },
           "xaxis": "x2",
           "y": {
            "bdata": "AAAAAAAAAABmJIA29L3bP2Ymw4ZZv+Y/mVn2uYzy6T+ZWfa5jPLpP2ZPOC4fu/E/pmsS2unr8D9ABaxzg4XyP5rT/2HicvM/tHgrUbuQ9D/O9z0R63D2P2ixUKJRzfs/aNThxFUY9z8DHmwCWtnvP8JCoTTA5/c/Al9rSoC5/D+cdxw/xvz/P9vvxtZkkgRAqFefLuPYAkA1wX0DEZ0HQARQBr+92/Q/u1K+m+nM4T/cQ8uq1BfeP3xFuQHk0sS/33jIBxZt7r/fv/yi3z3iv8CXmg7oAoq/EDUumbX9gT/58o1vfUTgv8abIIkaH+C/bu4Id4n05T/QoGESB5n2PyoiKO1gzfg/xJziS8jv+j87BCXjTzHpP7fYp2lK8PY/UVbq7gsE9j/VD7g8O+rrPxDFD9PtO9I/u/vKCsI84T/cvkcvSYLYP3BbzEngi7Y/CoVvd8AUuj+FIt/T0BPBP6Reo/ljvLg/CPfKE9Be5j87SECi4FLnP256j2CUluk/IfKBxGG77j9CkNEFucfVP1Qj5/IaSOI/BxOqAR+15j86Rt00UujpPzpG3TRS6Ok/bRubo8rN7j9QJ2frfgDxP6rPUhKn+vM/6kFR5fVX9D+qh8d0sU7yP8RiBYa5RPI/RJr/XpBj8D8=",
            "dtype": "f8"
           },
           "yaxis": "y2"
          }
         ]
        },
        {
         "data": [
          {
           "line": {
            "color": "rgba(60, 179, 113, 0.9)",
            "dash": "dot",
            "width": 2
           },
           "name": "Mid Price (Estimated)",
           "type": "scatter",
           "x": {
            "bdata": "AAECAwQFBgcICQoLDA0ODxAREhMUFRYXGBkaGxwdHh8gISIjJCUmJygpKissLS4vMDEyMzQ1Njc4OTo7PD0=",
            "dtype": "i1"
           },
           "xaxis": "x",
           "y": {
            "bdata": "gNHvJb/4WEChxAdfE+5YQN8klwa54lhA9ltPBy3aWECPYPkixNVYQLPu1x9l4lhAJFeHSijfWEAJUu9IbOBYQDZpnDMd41hAH0XxtBTkWEDto2iXtuNYQK2xef0w3FhAZ4809ZrlWEA7QQajTPFYQPZcbImo5lhAe09PiTvgWED8N/Tckd5YQIq+FlWG2FhAZgQIE+TbWED8XSOkW9dYQGIlFKNX5VhAGbj1/xbtWEASG5QMlO5YQB0dcm5H9VhAlqRPG3z8WEAY2DLnAPlYQNsye2Ho81hA31eqLYn0WECxYqimLfpYQKWkbEEy+1hAQ17ERTvxWEB7vGWxOOxYQNKiiUPg61hAPOKwD4XrWECZA3SkRfhYQNyHlZuH71hArKawu+TyWECUzppDjfxYQH+7SZM3C1lAjLNSx8EIWUDfCmK0BwxZQGc1zvfND1lAzvRkAy8RWUDi71HVrRBZQEKUQueYE1lA6jDh1oQDWUCurCocAwhZQK+Qn5vyCFlALBF/36YHWUBId1U44RRZQCCsGC2wEFlAp4xhizwOWUBJuvxFHBtZQI4PysrpFVlASvpSQIUSWUAo/v8htRFZQGNGNVw3F1lALECBl6wYWUBDGb+FhxBZQMZhrmJADVlANVZgEH4JWUDNYyFQIAlZQA==",
            "dtype": "f8"
           },
           "yaxis": "y"
          },
          {
           "line": {
            "color": "rgba(178, 34, 34, 0.9)",
            "width": 2
           },
           "name": "Bid",
           "type": "scatter",
           "x": {
            "bdata": "AAECAwQFBgcICQoLDA0ODxAREhMUFRYXGBkaGxwdHh8gISIjJCUmJygpKissLS4vMDEyMzQ1Njc4OTo7PD0=",
            "dtype": "i1"
           },
           "xaxis": "x",
           "y": {
            "bdata": "GmuJv1jyWEA7XqH4rOdYQHm+MKBS3FhAkPXooMbTWEAp+pK8Xc9YQE2Icbn+21hAvvAg5MHYWECj64jiBdpYQNACNs223FhAud6KTq7dWECHPQIxUN1YQEdLE5fK1VhAASnOjjTfWEDV2p885upYQJD2BSNC4FhAFenoItXZWECW0Y12K9hYQCRYsO4f0lhAAJ6hrH3VWECW97w99dBYQPy+rTzx3lhAs1GPmbDmWECstC2mLehYQLe2Cwjh7lhAMD7ptBX2WECyccyAmvJYQHXMFPuB7VhAefFDxyLuWEBL/EFAx/NYQD8+BtvL9FhA3fdd39TqWEAVVv9K0uVYQGw8I9155VhA1ntKqR7lWEAznQ0+3/FYQHYhLzUh6VhARkBKVX7sWEAuaDTdJvZYQBlV4yzRBFlAJk3sYFsCWUB5pPtNoQVZQAHPZ5FnCVlAaI7+nMgKWUB8ietuRwpZQNwt3IAyDVlAhMp6cB79WEBIRsS1nAFZQEkqOTWMAllAxqoYeUABWUDiEO/Reg5ZQLpFssZJCllAQSb7JNYHWUDjU5bftRRZQCipY2SDD1lA5JPs2R4MWUDCl5m7TgtZQP3fzvXQEFlAxtkaMUYSWUDdslgfIQpZQGD7R/zZBllAz+/5qRcDWUBn/brpuQJZQA==",
            "dtype": "f8"
           },
           "yaxis": "y"
          },
          {
           "line": {
            "color": "rgba(70, 130, 180, 0.9)",
            "width": 2
           },
           "name": "Ask",
           "type": "scatter",
           "x": {
            "bdata": "AAECAwQFBgcICQoLDA0ODxAREhMUFRYXGBkaGxwdHh8gISIjJCUmJygpKissLS4vMDEyMzQ1Njc4OTo7PD0=",
            "dtype": "i1"
           },
           "xaxis": "x",
           "y": {
            "bdata": "5jdWjCX/WEAHK27FefRYQEWL/Wwf6VhAXMK1bZPgWED1xl+JKtxYQBlVPobL6FhAir3tsI7lWEBvuFWv0uZYQJzPApqD6VhAhatXG3vqWEBTCs/9HOpYQBMY4GOX4lhAzfWaWwHsWEChp2wJs/dYQFzD0u8O7VhA4bW176HmWEBinlpD+ORYQPAkfbvs3lhAzGpueUriWEBixIkKwt1YQMiLegm+61hAfx5cZn3zWEB4gfpy+vRYQIOD2NSt+1hA/Aq2geICWUB+PplNZ/9YQEGZ4cdO+lhARb4QlO/6WEAXyQ4NlABZQAsL06eYAVlAqcQqrKH3WEDhIswXn/JYQDgJ8KlG8lhAokgXduvxWED/adoKrP5YQELu+wHu9VhAEg0XIkv5WED6NAGq8wJZQOUhsPmdEVlA8hm5LSgPWUBFccgabhJZQM2bNF40FllANFvLaZUXWUBIVrg7FBdZQKj6qE3/GVlAUJdHPesJWUAUE5GCaQ5ZQBX3BQJZD1lAknflRQ0OWUCu3bueRxtZQIYSf5MWF1lADfPH8aIUWUCvIGOsgiFZQPR1MDFQHFlAsGC5pusYWUCOZGaIGxhZQMmsm8KdHVlAkqbn/RIfWUCpfyXs7RZZQCzIFMmmE1lAm7zGduQPWUAzyoe2hg9ZQA==",
            "dtype": "f8"
           },
           "yaxis": "y"
          },
          {
           "marker": {
            "color": [
             "rgba(31, 119, 180, 0.8)",
             "rgba(31, 119, 180, 0.8)",
             "rgba(31, 119, 180, 0.8)",
             "rgba(31, 119, 180, 0.8)",
             "rgba(31, 119, 180, 0.8)",
             "rgba(31, 119, 180, 0.8)",
             "rgba(178, 34, 34, 0.8)",
             "rgba(31, 119, 180, 0.8)",
             "rgba(31, 119, 180, 0.8)",
             "rgba(31, 119, 180, 0.8)",
             "rgba(31, 119, 180, 0.8)",
             "rgba(31, 119, 180, 0.8)",
             "rgba(178, 34, 34, 0.8)",
             "rgba(178, 34, 34, 0.8)",
             "rgba(31, 119, 180, 0.8)",
             "rgba(31, 119, 180, 0.8)",
             "rgba(31, 119, 180, 0.8)",
             "rgba(31, 119, 180, 0.8)",
             "rgba(178, 34, 34, 0.8)",
             "rgba(31, 119, 180, 0.8)",
             "rgba(178, 34, 34, 0.8)",
             "rgba(178, 34, 34, 0.8)",
             "rgba(178, 34, 34, 0.8)",
             "rgba(178, 34, 34, 0.8)",
             "rgba(178, 34, 34, 0.8)",
             "rgba(31, 119, 180, 0.8)",
             "rgba(31, 119, 180, 0.8)",
             "rgba(31, 119, 180, 0.8)",
             "rgba(178, 34, 34, 0.8)",
             "rgba(31, 119, 180, 0.8)",
             "rgba(31, 119, 180, 0.8)",
             "rgba(31, 119, 180, 0.8)",
             "rgba(31, 119, 180, 0.8)",
             "rgba(31, 119, 180, 0.8)",
             "rgba(178, 34, 34, 0.8)",
             "rgba(31, 119, 180, 0.8)",
             "rgba(178, 34, 34, 0.8)",
             "rgba(178, 34, 34, 0.8)",
             "rgba(178, 34, 34, 0.8)",
             "rgba(31, 119, 180, 0.8)",
             "rgba(178, 34, 34, 0.8)",
             "rgba(178, 34, 34, 0.8)",
             "rgba(31, 119, 180, 0.8)",
             "rgba(31, 119, 180, 0.8)",
             "rgba(178, 34, 34, 0.8)",
             "rgba(31, 119, 180, 0.8)",
             "rgba(31, 119, 180, 0.8)",
             "rgba(31, 119, 180, 0.8)",
             "rgba(31, 119, 180, 0.8)",
             "rgba(178, 34, 34, 0.8)",
             "rgba(31, 119, 180, 0.8)",
             "rgba(31, 119, 180, 0.8)",
             "rgba(31, 119, 180, 0.8)",
             "rgba(31, 119, 180, 0.8)",
             "rgba(31, 119, 180, 0.8)",
             "rgba(31, 119, 180, 0.8)",
             "rgba(31, 119, 180, 0.8)",
             "rgba(31, 119, 180, 0.8)",
             "rgba(178, 34, 34, 0.8)",
             "rgba(178, 34, 34, 0.8)",
             "rgba(178, 34, 34, 0.8)",
             "rgba(178, 34, 34, 0.8)"
            ]
           },
           "name": "Trade P&L",
           "type": "bar",
           "x": {
            "bdata": "AAECAwQFBgcICQoLDA0ODxAREhMUFRYXGBkaGxwdHh8gISIjJCUmJygpKissLS4vMDEyMzQ1Njc4OTo7PD0=",
            "dtype": "i1"
           },
           "xaxis": "x2",
           "y": {
            "bdata": "mpmZmZmZuT9mJIA29L3bP2YoBte+wNE/mpmZmZmZuT8AAAAAAAAAAGaK9ERjB9M/AHi8hKrmqb+amZmZmZm5PzTLecrdq60/mlG68o7dsT+a8ScB/AK+P2bmSkSacdU/AHS7de/T0r+aFa8Oo67cvwDPrM1M7N8/AHEoVwBH0z/NxIilLxrKPzPQ4twGUOI/M4N5ghqYy78zpnlTtxDjP2Yy9UdkXvq/TU1O4pHq579mhsUy+ge2v03z01WjQOS/gCdaB1046b8AcpfJbF7YP4BVwgLU1eE/aGbk004Alj/Nq/JFdIzgv6CZqzZzsXI/GsUUANIJ8z8zU7qthD3nP80KNNbOosE/zdTT9ToTwT9NNaC0QK7svzOtKvBEr+Q/zEywV8+Hrb/NnByh3B3gv00tMFNEzOK/ZjKGQpY90D8zcZzMde7DvwCo1BxR39K/0EwZbQFHjD8AgJ1gwiWgP8zMNVx71qK/M4uWlENH4z9oJqrOEYKeP5qRefKdHbI/zd7JjzWTxD8AKplBhdfjv81s+b/5kM0/zb4LOxC0wT+amZmZmZm5PwAAAAAAAAAAzVT3uuGVwz+amZmZmZm5P81CXTdB0cc/AJCcv7RTlz8A0k2EI0rAv8DMSYTd72O/AIhccJISvr8AAJq8D3CHvw==",
            "dtype": "f8"
           },
           "yaxis": "y2"
          },
          {
           "line": {
            "color": "rgba(60, 179, 113, 0.9)",
            "width": 2
           },
           "name": "Cumulative P&L",
           "type": "scatter",
           "x": {
            "bdata": "AAECAwQFBgcICQoLDA0ODxAREhMUFRYXGBkaGxwdHh8gISIjJCUmJygpKissLS4vMDEyMzQ1Njc4OTo7PD0=",
            "dtype": "i1"
           },
           "xaxis": "x2",
           "y": {
            "bdata": "AAAAAAAAAABmJIA29L3bP2Ymw4ZZv+Y/mVn2uYzy6T+ZWfa5jPLpP2ZPOC4fu/E/pmsS2unr8D9ABaxzg4XyP5rT/2HicvM/tHgrUbuQ9D/O9z0R63D2P2ixUKJRzfs/aNThxFUY9z8DHmwCWtnvP8JCoTTA5/c/Al9rSoC5/D+cdxw/xvz/P9vvxtZkkgRAqFefLuPYAkA1wX0DEZ0HQARQBr+92/Q/u1K+m+nM4T/cQ8uq1BfeP3xFuQHk0sS/33jIBxZt7r/fv/yi3z3iv8CXmg7oAoq/EDUumbX9gT/58o1vfUTgv8abIIkaH+C/bu4Id4n05T/QoGESB5n2PyoiKO1gzfg/xJziS8jv+j87BCXjTzHpP7fYp2lK8PY/UVbq7gsE9j/VD7g8O+rrPxDFD9PtO9I/u/vKCsI84T/cvkcvSYLYP3BbzEngi7Y/CoVvd8AUuj+FIt/T0BPBP6Reo/ljvLg/CPfKE9Be5j87SECi4FLnP256j2CUluk/IfKBxGG77j9CkNEFucfVP1Qj5/IaSOI/BxOqAR+15j86Rt00UujpPzpG3TRS6Ok/bRubo8rN7j9QJ2frfgDxP6rPUhKn+vM/6kFR5fVX9D+qh8d0sU7yP8RiBYa5RPI/RJr/XpBj8D9EZoY/sDTwPw==",
            "dtype": "f8"
           },
           "yaxis": "y2"
          }
         ]
        },
        {
         "data": [
          {
           "line": {
            "color": "rgba(60, 179, 113, 0.9)",
            "dash": "dot",
            "width": 2
           },
           "name": "Mid Price (Estimated)",
           "type": "scatter",
           "x": {
            "bdata": "AAECAwQFBgcICQoLDA0ODxAREhMUFRYXGBkaGxwdHh8gISIjJCUmJygpKissLS4vMDEyMzQ1Njc4OTo7PD0+",
            "dtype": "i1"
           },
           "xaxis": "x",
           "y": {
            "bdata": "gNHvJb/4WEChxAdfE+5YQN8klwa54lhA9ltPBy3aWECPYPkixNVYQLPu1x9l4lhAJFeHSijfWEAJUu9IbOBYQDZpnDMd41hAH0XxtBTkWEDto2iXtuNYQK2xef0w3FhAZ4809ZrlWEA7QQajTPFYQPZcbImo5lhAe09PiTvgWED8N/Tckd5YQIq+FlWG2FhAZgQIE+TbWED8XSOkW9dYQGIlFKNX5VhAGbj1/xbtWEASG5QMlO5YQB0dcm5H9VhAlqRPG3z8WEAY2DLnAPlYQNsye2Ho81hA31eqLYn0WECxYqimLfpYQKWkbEEy+1hAQ17ERTvxWEB7vGWxOOxYQNKiiUPg61hAPOKwD4XrWECZA3SkRfhYQNyHlZuH71hArKawu+TyWECUzppDjfxYQH+7SZM3C1lAjLNSx8EIWUDfCmK0BwxZQGc1zvfND1lAzvRkAy8RWUDi71HVrRBZQEKUQueYE1lA6jDh1oQDWUCurCocAwhZQK+Qn5vyCFlALBF/36YHWUBId1U44RRZQCCsGC2wEFlAp4xhizwOWUBJuvxFHBtZQI4PysrpFVlASvpSQIUSWUAo/v8htRFZQGNGNVw3F1lALECBl6wYWUBDGb+FhxBZQMZhrmJADVlANVZgEH4JWUDNYyFQIAlZQKW2g8j6C1lA",
            "dtype": "f8"
           },
           "yaxis": "y"
          },
          {
           "line": {
            "color": "rgba(178, 34, 34, 0.9)",
            "width": 2
           },
           "name": "Bid",
           "type": "scatter",
           "x": {
            "bdata": "AAECAwQFBgcICQoLDA0ODxAREhMUFRYXGBkaGxwdHh8gISIjJCUmJygpKissLS4vMDEyMzQ1Njc4OTo7PD0+",
            "dtype": "i1"
           },
           "xaxis": "x",
           "y": {
            "bdata": "GmuJv1jyWEA7XqH4rOdYQHm+MKBS3FhAkPXooMbTWEAp+pK8Xc9YQE2Icbn+21hAvvAg5MHYWECj64jiBdpYQNACNs223FhAud6KTq7dWECHPQIxUN1YQEdLE5fK1VhAASnOjjTfWEDV2p885upYQJD2BSNC4FhAFenoItXZWECW0Y12K9hYQCRYsO4f0lhAAJ6hrH3VWECW97w99dBYQPy+rTzx3lhAs1GPmbDmWECstC2mLehYQLe2Cwjh7lhAMD7ptBX2WECyccyAmvJYQHXMFPuB7VhAefFDxyLuWEBL/EFAx/NYQD8+BtvL9FhA3fdd39TqWEAVVv9K0uVYQGw8I9155VhA1ntKqR7lWEAznQ0+3/FYQHYhLzUh6VhARkBKVX7sWEAuaDTdJvZYQBlV4yzRBFlAJk3sYFsCWUB5pPtNoQVZQAHPZ5FnCVlAaI7+nMgKWUB8ietuRwpZQNwt3IAyDVlAhMp6cB79WEBIRsS1nAFZQEkqOTWMAllAxqoYeUABWUDiEO/Reg5ZQLpFssZJCllAQSb7JNYHWUDjU5bftRRZQCipY2SDD1lA5JPs2R4MWUDCl5m7TgtZQP3fzvXQEFlAxtkaMUYSWUDdslgfIQpZQGD7R/zZBllAz+/5qRcDWUBn/brpuQJZQD9QHWKUBVlA",
            "dtype": "f8"
           },
           "yaxis": "y"
          },
          {
           "line": {
            "color": "rgba(70, 130, 180, 0.9)",
            "width": 2
           },
           "name": "Ask",
           "type": "scatter",
           "x": {
            "bdata": "AAECAwQFBgcICQoLDA0ODxAREhMUFRYXGBkaGxwdHh8gISIjJCUmJygpKissLS4vMDEyMzQ1Njc4OTo7PD0+",
            "dtype": "i1"
           },
           "xaxis": "x",
           "y": {
            "bdata": "5jdWjCX/WEAHK27FefRYQEWL/Wwf6VhAXMK1bZPgWED1xl+JKtxYQBlVPobL6FhAir3tsI7lWEBvuFWv0uZYQJzPApqD6VhAhatXG3vqWEBTCs/9HOpYQBMY4GOX4lhAzfWaWwHsWEChp2wJs/dYQFzD0u8O7VhA4bW176HmWEBinlpD+ORYQPAkfbvs3lhAzGpueUriWEBixIkKwt1YQMiLegm+61hAfx5cZn3zWEB4gfpy+vRYQIOD2NSt+1hA/Aq2geICWUB+PplNZ/9YQEGZ4cdO+lhARb4QlO/6WEAXyQ4NlABZQAsL06eYAVlAqcQqrKH3WEDhIswXn/JYQDgJ8KlG8lhAokgXduvxWED/adoKrP5YQELu+wHu9VhAEg0XIkv5WED6NAGq8wJZQOUhsPmdEVlA8hm5LSgPWUBFccgabhJZQM2bNF40FllANFvLaZUXWUBIVrg7FBdZQKj6qE3/GVlAUJdHPesJWUAUE5GCaQ5ZQBX3BQJZD1lAknflRQ0OWUCu3bueRxtZQIYSf5MWF1lADfPH8aIUWUCvIGOsgiFZQPR1MDFQHFlAsGC5pusYWUCOZGaIGxhZQMmsm8KdHVlAkqbn/RIfWUCpfyXs7RZZQCzIFMmmE1lAm7zGduQPWUAzyoe2hg9ZQAsd6i5hEllA",
            "dtype": "f8"
           },
           "yaxis": "y"
          },
          {
           "marker": {
            "color": [
             "rgba(31, 119, 180, 0.8)",
             "rgba(31, 119, 180, 0.8)",
             "rgba(31, 119, 180, 0.8)",
             "rgba(31, 119, 180, 0.8)",
             "rgba(31, 119, 180, 0.8)",
             "rgba(31, 119, 180, 0.8)",
             "rgba(178, 34, 34, 0.8)",
             "rgba(31, 119, 180, 0.8)",
             "rgba(31, 119, 180, 0.8)",
             "rgba(31, 119, 180, 0.8)",
             "rgba(31, 119, 180, 0.8)",
             "rgba(31, 119, 180, 0.8)",
             "rgba(178, 34, 34, 0.8)",
             "rgba(178, 34, 34, 0.8)",
             "rgba(31, 119, 180, 0.8)",
             "rgba(31, 119, 180, 0.8)",
             "rgba(31, 119, 180, 0.8)",
             "rgba(31, 119, 180, 0.8)",
             "rgba(178, 34, 34, 0.8)",
             "rgba(31, 119, 180, 0.8)",
             "rgba(178, 34, 34, 0.8)",
             "rgba(178, 34, 34, 0.8)",
             "rgba(178, 34, 34, 0.8)",
             "rgba(178, 34, 34, 0.8)",
             "rgba(178, 34, 34, 0.8)",
             "rgba(31, 119, 180, 0.8)",
             "rgba(31, 119, 180, 0.8)",
             "rgba(31, 119, 180, 0.8)",
             "rgba(178, 34, 34, 0.8)",
             "rgba(31, 119, 180, 0.8)",
             "rgba(31, 119, 180, 0.8)",
             "rgba(31, 119, 180, 0.8)",
             "rgba(31, 119, 180, 0.8)",
             "rgba(31, 119, 180, 0.8)",
             "rgba(178, 34, 34, 0.8)",
             "rgba(31, 119, 180, 0.8)",
             "rgba(178, 34, 34, 0.8)",
             "rgba(178, 34, 34, 0.8)",
             "rgba(178, 34, 34, 0.8)",
             "rgba(31, 119, 180, 0.8)",
             "rgba(178, 34, 34, 0.8)",
             "rgba(178, 34, 34, 0.8)",
             "rgba(31, 119, 180, 0.8)",
             "rgba(31, 119, 180, 0.8)",
             "rgba(178, 34, 34, 0.8)",
             "rgba(31, 119, 180, 0.8)",
             "rgba(31, 119, 180, 0.8)",
             "rgba(31, 119, 180, 0.8)",
             "rgba(31, 119, 180, 0.8)",
             "rgba(178, 34, 34, 0.8)",
             "rgba(31, 119, 180, 0.8)",
             "rgba(31, 119, 180, 0.8)",
             "rgba(31, 119, 180, 0.8)",
             "rgba(31, 119, 180, 0.8)",
             "rgba(31, 119, 180, 0.8)",
             "rgba(31, 119, 180, 0.8)",
             "rgba(31, 119, 180, 0.8)",
             "rgba(31, 119, 180, 0.8)",
             "rgba(178, 34, 34, 0.8)",
             "rgba(178, 34, 34, 0.8)",
             "rgba(178, 34, 34, 0.8)",
             "rgba(178, 34, 34, 0.8)",
             "rgba(31, 119, 180, 0.8)"
            ]
           },
           "name": "Trade P&L",
           "type": "bar",
           "x": {
            "bdata": "AAECAwQFBgcICQoLDA0ODxAREhMUFRYXGBkaGxwdHh8gISIjJCUmJygpKissLS4vMDEyMzQ1Njc4OTo7PD0+",
            "dtype": "i1"
           },
           "xaxis": "x2",
           "y": {
            "bdata": "mpmZmZmZuT9mJIA29L3bP2YoBte+wNE/mpmZmZmZuT8AAAAAAAAAAGaK9ERjB9M/AHi8hKrmqb+amZmZmZm5PzTLecrdq60/mlG68o7dsT+a8ScB/AK+P2bmSkSacdU/AHS7de/T0r+aFa8Oo67cvwDPrM1M7N8/AHEoVwBH0z/NxIilLxrKPzPQ4twGUOI/M4N5ghqYy78zpnlTtxDjP2Yy9UdkXvq/TU1O4pHq579mhsUy+ge2v03z01WjQOS/gCdaB1046b8AcpfJbF7YP4BVwgLU1eE/aGbk004Alj/Nq/JFdIzgv6CZqzZzsXI/GsUUANIJ8z8zU7qthD3nP80KNNbOosE/zdTT9ToTwT9NNaC0QK7svzOtKvBEr+Q/zEywV8+Hrb/NnByh3B3gv00tMFNEzOK/ZjKGQpY90D8zcZzMde7DvwCo1BxR39K/0EwZbQFHjD8AgJ1gwiWgP8zMNVx71qK/M4uWlENH4z9oJqrOEYKeP5qRefKdHbI/zd7JjzWTxD8AKplBhdfjv81s+b/5kM0/zb4LOxC0wT+amZmZmZm5PwAAAAAAAAAAzVT3uuGVwz+amZmZmZm5P81CXTdB0cc/AJCcv7RTlz8A0k2EI0rAv8DMSYTd72O/AIhccJISvr8AAJq8D3CHv818cpG9gcI/",
            "dtype": "f8"
           },
           "yaxis": "y2"
          },
          {
           "line": {
            "color": "rgba(60, 179, 113, 0.9)",
            "width": 2
           },
           "name": "Cumulative P&L",
           "type": "scatter",
           "x": {
            "bdata": "AAECAwQFBgcICQoLDA0ODxAREhMUFRYXGBkaGxwdHh8gISIjJCUmJygpKissLS4vMDEyMzQ1Njc4OTo7PD0+",
            "dtype": "i1"
           },
           "xaxis": "x2",
           "y": {
            "bdata": "AAAAAAAAAABmJIA29L3bP2Ymw4ZZv+Y/mVn2uYzy6T+ZWfa5jPLpP2ZPOC4fu/E/pmsS2unr8D9ABaxzg4XyP5rT/2HicvM/tHgrUbuQ9D/O9z0R63D2P2ixUKJRzfs/aNThxFUY9z8DHmwCWtnvP8JCoTTA5/c/Al9rSoC5/D+cdxw/xvz/P9vvxtZkkgRAqFefLuPYAkA1wX0DEZ0HQARQBr+92/Q/u1K+m+nM4T/cQ8uq1BfeP3xFuQHk0sS/33jIBxZt7r/fv/yi3z3iv8CXmg7oAoq/EDUumbX9gT/58o1vfUTgv8abIIkaH+C/bu4Id4n05T/QoGESB5n2PyoiKO1gzfg/xJziS8jv+j87BCXjTzHpP7fYp2lK8PY/UVbq7gsE9j/VD7g8O+rrPxDFD9PtO9I/u/vKCsI84T/cvkcvSYLYP3BbzEngi7Y/CoVvd8AUuj+FIt/T0BPBP6Reo/ljvLg/CPfKE9Be5j87SECi4FLnP256j2CUluk/IfKBxGG77j9CkNEFucfVP1Qj5/IaSOI/BxOqAR+15j86Rt00UujpPzpG3TRS6Ok/bRubo8rN7j9QJ2frfgDxP6rPUhKn+vM/6kFR5fVX9D+qh8d0sU7yP8RiBYa5RPI/RJr/XpBj8D9EZoY/sDTwP961tPHnhPI/",
            "dtype": "f8"
           },
           "yaxis": "y2"
          }
         ]
        },
        {
         "data": [
          {
           "line": {
            "color": "rgba(60, 179, 113, 0.9)",
            "dash": "dot",
            "width": 2
           },
           "name": "Mid Price (Estimated)",
           "type": "scatter",
           "x": {
            "bdata": "AAECAwQFBgcICQoLDA0ODxAREhMUFRYXGBkaGxwdHh8gISIjJCUmJygpKissLS4vMDEyMzQ1Njc4OTo7PD0+Pw==",
            "dtype": "i1"
           },
           "xaxis": "x",
           "y": {
            "bdata": "gNHvJb/4WEChxAdfE+5YQN8klwa54lhA9ltPBy3aWECPYPkixNVYQLPu1x9l4lhAJFeHSijfWEAJUu9IbOBYQDZpnDMd41hAH0XxtBTkWEDto2iXtuNYQK2xef0w3FhAZ4809ZrlWEA7QQajTPFYQPZcbImo5lhAe09PiTvgWED8N/Tckd5YQIq+FlWG2FhAZgQIE+TbWED8XSOkW9dYQGIlFKNX5VhAGbj1/xbtWEASG5QMlO5YQB0dcm5H9VhAlqRPG3z8WEAY2DLnAPlYQNsye2Ho81hA31eqLYn0WECxYqimLfpYQKWkbEEy+1hAQ17ERTvxWEB7vGWxOOxYQNKiiUPg61hAPOKwD4XrWECZA3SkRfhYQNyHlZuH71hArKawu+TyWECUzppDjfxYQH+7SZM3C1lAjLNSx8EIWUDfCmK0BwxZQGc1zvfND1lAzvRkAy8RWUDi71HVrRBZQEKUQueYE1lA6jDh1oQDWUCurCocAwhZQK+Qn5vyCFlALBF/36YHWUBId1U44RRZQCCsGC2wEFlAp4xhizwOWUBJuvxFHBtZQI4PysrpFVlASvpSQIUSWUAo/v8htRFZQGNGNVw3F1lALECBl6wYWUBDGb+FhxBZQMZhrmJADVlANVZgEH4JWUDNYyFQIAlZQKW2g8j6C1lAk3lUvcgOWUA=",
            "dtype": "f8"
           },
           "yaxis": "y"
          },
          {
           "line": {
            "color": "rgba(178, 34, 34, 0.9)",
            "width": 2
           },
           "name": "Bid",
           "type": "scatter",
           "x": {
            "bdata": "AAECAwQFBgcICQoLDA0ODxAREhMUFRYXGBkaGxwdHh8gISIjJCUmJygpKissLS4vMDEyMzQ1Njc4OTo7PD0+Pw==",
            "dtype": "i1"
           },
           "xaxis": "x",
           "y": {
            "bdata": "GmuJv1jyWEA7XqH4rOdYQHm+MKBS3FhAkPXooMbTWEAp+pK8Xc9YQE2Icbn+21hAvvAg5MHYWECj64jiBdpYQNACNs223FhAud6KTq7dWECHPQIxUN1YQEdLE5fK1VhAASnOjjTfWEDV2p885upYQJD2BSNC4FhAFenoItXZWECW0Y12K9hYQCRYsO4f0lhAAJ6hrH3VWECW97w99dBYQPy+rTzx3lhAs1GPmbDmWECstC2mLehYQLe2Cwjh7lhAMD7ptBX2WECyccyAmvJYQHXMFPuB7VhAefFDxyLuWEBL/EFAx/NYQD8+BtvL9FhA3fdd39TqWEAVVv9K0uVYQGw8I9155VhA1ntKqR7lWEAznQ0+3/FYQHYhLzUh6VhARkBKVX7sWEAuaDTdJvZYQBlV4yzRBFlAJk3sYFsCWUB5pPtNoQVZQAHPZ5FnCVlAaI7+nMgKWUB8ietuRwpZQNwt3IAyDVlAhMp6cB79WEBIRsS1nAFZQEkqOTWMAllAxqoYeUABWUDiEO/Reg5ZQLpFssZJCllAQSb7JNYHWUDjU5bftRRZQCipY2SDD1lA5JPs2R4MWUDCl5m7TgtZQP3fzvXQEFlAxtkaMUYSWUDdslgfIQpZQGD7R/zZBllAz+/5qRcDWUBn/brpuQJZQD9QHWKUBVlALRPuVmIIWUA=",
            "dtype": "f8"
           },
           "yaxis": "y"
          },
          {
           "line": {
            "color": "rgba(70, 130, 180, 0.9)",
            "width": 2
           },
           "name": "Ask",
           "type": "scatter",
           "x": {
            "bdata": "AAECAwQFBgcICQoLDA0ODxAREhMUFRYXGBkaGxwdHh8gISIjJCUmJygpKissLS4vMDEyMzQ1Njc4OTo7PD0+Pw==",
            "dtype": "i1"
           },
           "xaxis": "x",
           "y": {
            "bdata": "5jdWjCX/WEAHK27FefRYQEWL/Wwf6VhAXMK1bZPgWED1xl+JKtxYQBlVPobL6FhAir3tsI7lWEBvuFWv0uZYQJzPApqD6VhAhatXG3vqWEBTCs/9HOpYQBMY4GOX4lhAzfWaWwHsWEChp2wJs/dYQFzD0u8O7VhA4bW176HmWEBinlpD+ORYQPAkfbvs3lhAzGpueUriWEBixIkKwt1YQMiLegm+61hAfx5cZn3zWEB4gfpy+vRYQIOD2NSt+1hA/Aq2geICWUB+PplNZ/9YQEGZ4cdO+lhARb4QlO/6WEAXyQ4NlABZQAsL06eYAVlAqcQqrKH3WEDhIswXn/JYQDgJ8KlG8lhAokgXduvxWED/adoKrP5YQELu+wHu9VhAEg0XIkv5WED6NAGq8wJZQOUhsPmdEVlA8hm5LSgPWUBFccgabhJZQM2bNF40FllANFvLaZUXWUBIVrg7FBdZQKj6qE3/GVlAUJdHPesJWUAUE5GCaQ5ZQBX3BQJZD1lAknflRQ0OWUCu3bueRxtZQIYSf5MWF1lADfPH8aIUWUCvIGOsgiFZQPR1MDFQHFlAsGC5pusYWUCOZGaIGxhZQMmsm8KdHVlAkqbn/RIfWUCpfyXs7RZZQCzIFMmmE1lAm7zGduQPWUAzyoe2hg9ZQAsd6i5hEllA+d+6Iy8VWUA=",
            "dtype": "f8"
           },
           "yaxis": "y"
          },
          {
           "marker": {
            "color": [
             "rgba(31, 119, 180, 0.8)",
             "rgba(31, 119, 180, 0.8)",
             "rgba(31, 119, 180, 0.8)",
             "rgba(31, 119, 180, 0.8)",
             "rgba(31, 119, 180, 0.8)",
             "rgba(31, 119, 180, 0.8)",
             "rgba(178, 34, 34, 0.8)",
             "rgba(31, 119, 180, 0.8)",
             "rgba(31, 119, 180, 0.8)",
             "rgba(31, 119, 180, 0.8)",
             "rgba(31, 119, 180, 0.8)",
             "rgba(31, 119, 180, 0.8)",
             "rgba(178, 34, 34, 0.8)",
             "rgba(178, 34, 34, 0.8)",
             "rgba(31, 119, 180, 0.8)",
             "rgba(31, 119, 180, 0.8)",
             "rgba(31, 119, 180, 0.8)",
             "rgba(31, 119, 180, 0.8)",
             "rgba(178, 34, 34, 0.8)",
             "rgba(31, 119, 180, 0.8)",
             "rgba(178, 34, 34, 0.8)",
             "rgba(178, 34, 34, 0.8)",
             "rgba(178, 34, 34, 0.8)",
             "rgba(178, 34, 34, 0.8)",
             "rgba(178, 34, 34, 0.8)",
             "rgba(31, 119, 180, 0.8)",
             "rgba(31, 119, 180, 0.8)",
             "rgba(31, 119, 180, 0.8)",
             "rgba(178, 34, 34, 0.8)",
             "rgba(31, 119, 180, 0.8)",
             "rgba(31, 119, 180, 0.8)",
             "rgba(31, 119, 180, 0.8)",
             "rgba(31, 119, 180, 0.8)",
             "rgba(31, 119, 180, 0.8)",
             "rgba(178, 34, 34, 0.8)",
             "rgba(31, 119, 180, 0.8)",
             "rgba(178, 34, 34, 0.8)",
             "rgba(178, 34, 34, 0.8)",
             "rgba(178, 34, 34, 0.8)",
             "rgba(31, 119, 180, 0.8)",
             "rgba(178, 34, 34, 0.8)",
             "rgba(178, 34, 34, 0.8)",
             "rgba(31, 119, 180, 0.8)",
             "rgba(31, 119, 180, 0.8)",
             "rgba(178, 34, 34, 0.8)",
             "rgba(31, 119, 180, 0.8)",
             "rgba(31, 119, 180, 0.8)",
             "rgba(31, 119, 180, 0.8)",
             "rgba(31, 119, 180, 0.8)",
             "rgba(178, 34, 34, 0.8)",
             "rgba(31, 119, 180, 0.8)",
             "rgba(31, 119, 180, 0.8)",
             "rgba(31, 119, 180, 0.8)",
             "rgba(31, 119, 180, 0.8)",
             "rgba(31, 119, 180, 0.8)",
             "rgba(31, 119, 180, 0.8)",
             "rgba(31, 119, 180, 0.8)",
             "rgba(31, 119, 180, 0.8)",
             "rgba(178, 34, 34, 0.8)",
             "rgba(178, 34, 34, 0.8)",
             "rgba(178, 34, 34, 0.8)",
             "rgba(178, 34, 34, 0.8)",
             "rgba(31, 119, 180, 0.8)",
             "rgba(31, 119, 180, 0.8)"
            ]
           },
           "name": "Trade P&L",
           "type": "bar",
           "x": {
            "bdata": "AAECAwQFBgcICQoLDA0ODxAREhMUFRYXGBkaGxwdHh8gISIjJCUmJygpKissLS4vMDEyMzQ1Njc4OTo7PD0+Pw==",
            "dtype": "i1"
           },
           "xaxis": "x2",
           "y": {
            "bdata": "mpmZmZmZuT9mJIA29L3bP2YoBte+wNE/mpmZmZmZuT8AAAAAAAAAAGaK9ERjB9M/AHi8hKrmqb+amZmZmZm5PzTLecrdq60/mlG68o7dsT+a8ScB/AK+P2bmSkSacdU/AHS7de/T0r+aFa8Oo67cvwDPrM1M7N8/AHEoVwBH0z/NxIilLxrKPzPQ4twGUOI/M4N5ghqYy78zpnlTtxDjP2Yy9UdkXvq/TU1O4pHq579mhsUy+ge2v03z01WjQOS/gCdaB1046b8AcpfJbF7YP4BVwgLU1eE/aGbk004Alj/Nq/JFdIzgv6CZqzZzsXI/GsUUANIJ8z8zU7qthD3nP80KNNbOosE/zdTT9ToTwT9NNaC0QK7svzOtKvBEr+Q/zEywV8+Hrb/NnByh3B3gv00tMFNEzOK/ZjKGQpY90D8zcZzMde7DvwCo1BxR39K/0EwZbQFHjD8AgJ1gwiWgP8zMNVx71qK/M4uWlENH4z9oJqrOEYKeP5qRefKdHbI/zd7JjzWTxD8AKplBhdfjv81s+b/5kM0/zb4LOxC0wT+amZmZmZm5PwAAAAAAAAAAzVT3uuGVwz+amZmZmZm5P81CXTdB0cc/AJCcv7RTlz8A0k2EI0rAv8DMSYTd72O/AIhccJISvr8AAJq8D3CHv818cpG9gcI/mpmZmZmZuT8=",
            "dtype": "f8"
           },
           "yaxis": "y2"
          },
          {
           "line": {
            "color": "rgba(60, 179, 113, 0.9)",
            "width": 2
           },
           "name": "Cumulative P&L",
           "type": "scatter",
           "x": {
            "bdata": "AAECAwQFBgcICQoLDA0ODxAREhMUFRYXGBkaGxwdHh8gISIjJCUmJygpKissLS4vMDEyMzQ1Njc4OTo7PD0+Pw==",
            "dtype": "i1"
           },
           "xaxis": "x2",
           "y": {
            "bdata": "AAAAAAAAAABmJIA29L3bP2Ymw4ZZv+Y/mVn2uYzy6T+ZWfa5jPLpP2ZPOC4fu/E/pmsS2unr8D9ABaxzg4XyP5rT/2HicvM/tHgrUbuQ9D/O9z0R63D2P2ixUKJRzfs/aNThxFUY9z8DHmwCWtnvP8JCoTTA5/c/Al9rSoC5/D+cdxw/xvz/P9vvxtZkkgRAqFefLuPYAkA1wX0DEZ0HQARQBr+92/Q/u1K+m+nM4T/cQ8uq1BfeP3xFuQHk0sS/33jIBxZt7r/fv/yi3z3iv8CXmg7oAoq/EDUumbX9gT/58o1vfUTgv8abIIkaH+C/bu4Id4n05T/QoGESB5n2PyoiKO1gzfg/xJziS8jv+j87BCXjTzHpP7fYp2lK8PY/UVbq7gsE9j/VD7g8O+rrPxDFD9PtO9I/u/vKCsI84T/cvkcvSYLYP3BbzEngi7Y/CoVvd8AUuj+FIt/T0BPBP6Reo/ljvLg/CPfKE9Be5j87SECi4FLnP256j2CUluk/IfKBxGG77j9CkNEFucfVP1Qj5/IaSOI/BxOqAR+15j86Rt00UujpPzpG3TRS6Ok/bRubo8rN7j9QJ2frfgDxP6rPUhKn+vM/6kFR5fVX9D+qh8d0sU7yP8RiBYa5RPI/RJr/XpBj8D9EZoY/sDTwP961tPHnhPI/eE9Oi4Ee9D8=",
            "dtype": "f8"
           },
           "yaxis": "y2"
          }
         ]
        },
        {
         "data": [
          {
           "line": {
            "color": "rgba(60, 179, 113, 0.9)",
            "dash": "dot",
            "width": 2
           },
           "name": "Mid Price (Estimated)",
           "type": "scatter",
           "x": {
            "bdata": "AAECAwQFBgcICQoLDA0ODxAREhMUFRYXGBkaGxwdHh8gISIjJCUmJygpKissLS4vMDEyMzQ1Njc4OTo7PD0+P0A=",
            "dtype": "i1"
           },
           "xaxis": "x",
           "y": {
            "bdata": "gNHvJb/4WEChxAdfE+5YQN8klwa54lhA9ltPBy3aWECPYPkixNVYQLPu1x9l4lhAJFeHSijfWEAJUu9IbOBYQDZpnDMd41hAH0XxtBTkWEDto2iXtuNYQK2xef0w3FhAZ4809ZrlWEA7QQajTPFYQPZcbImo5lhAe09PiTvgWED8N/Tckd5YQIq+FlWG2FhAZgQIE+TbWED8XSOkW9dYQGIlFKNX5VhAGbj1/xbtWEASG5QMlO5YQB0dcm5H9VhAlqRPG3z8WEAY2DLnAPlYQNsye2Ho81hA31eqLYn0WECxYqimLfpYQKWkbEEy+1hAQ17ERTvxWEB7vGWxOOxYQNKiiUPg61hAPOKwD4XrWECZA3SkRfhYQNyHlZuH71hArKawu+TyWECUzppDjfxYQH+7SZM3C1lAjLNSx8EIWUDfCmK0BwxZQGc1zvfND1lAzvRkAy8RWUDi71HVrRBZQEKUQueYE1lA6jDh1oQDWUCurCocAwhZQK+Qn5vyCFlALBF/36YHWUBId1U44RRZQCCsGC2wEFlAp4xhizwOWUBJuvxFHBtZQI4PysrpFVlASvpSQIUSWUAo/v8htRFZQGNGNVw3F1lALECBl6wYWUBDGb+FhxBZQMZhrmJADVlANVZgEH4JWUDNYyFQIAlZQKW2g8j6C1lAk3lUvcgOWUBiGZ6wiwNZQA==",
            "dtype": "f8"
           },
           "yaxis": "y"
          },
          {
           "line": {
            "color": "rgba(178, 34, 34, 0.9)",
            "width": 2
           },
           "name": "Bid",
           "type": "scatter",
           "x": {
            "bdata": "AAECAwQFBgcICQoLDA0ODxAREhMUFRYXGBkaGxwdHh8gISIjJCUmJygpKissLS4vMDEyMzQ1Njc4OTo7PD0+P0A=",
            "dtype": "i1"
           },
           "xaxis": "x",
           "y": {
            "bdata": "GmuJv1jyWEA7XqH4rOdYQHm+MKBS3FhAkPXooMbTWEAp+pK8Xc9YQE2Icbn+21hAvvAg5MHYWECj64jiBdpYQNACNs223FhAud6KTq7dWECHPQIxUN1YQEdLE5fK1VhAASnOjjTfWEDV2p885upYQJD2BSNC4FhAFenoItXZWECW0Y12K9hYQCRYsO4f0lhAAJ6hrH3VWECW97w99dBYQPy+rTzx3lhAs1GPmbDmWECstC2mLehYQLe2Cwjh7lhAMD7ptBX2WECyccyAmvJYQHXMFPuB7VhAefFDxyLuWEBL/EFAx/NYQD8+BtvL9FhA3fdd39TqWEAVVv9K0uVYQGw8I9155VhA1ntKqR7lWEAznQ0+3/FYQHYhLzUh6VhARkBKVX7sWEAuaDTdJvZYQBlV4yzRBFlAJk3sYFsCWUB5pPtNoQVZQAHPZ5FnCVlAaI7+nMgKWUB8ietuRwpZQNwt3IAyDVlAhMp6cB79WEBIRsS1nAFZQEkqOTWMAllAxqoYeUABWUDiEO/Reg5ZQLpFssZJCllAQSb7JNYHWUDjU5bftRRZQCipY2SDD1lA5JPs2R4MWUDCl5m7TgtZQP3fzvXQEFlAxtkaMUYSWUDdslgfIQpZQGD7R/zZBllAz+/5qRcDWUBn/brpuQJZQD9QHWKUBVlALRPuVmIIWUD8sjdKJf1YQA==",
            "dtype": "f8"
           },
           "yaxis": "y"
          },
          {
           "line": {
            "color": "rgba(70, 130, 180, 0.9)",
            "width": 2
           },
           "name": "Ask",
           "type": "scatter",
           "x": {
            "bdata": "AAECAwQFBgcICQoLDA0ODxAREhMUFRYXGBkaGxwdHh8gISIjJCUmJygpKissLS4vMDEyMzQ1Njc4OTo7PD0+P0A=",
            "dtype": "i1"
           },
           "xaxis": "x",
           "y": {
            "bdata": "5jdWjCX/WEAHK27FefRYQEWL/Wwf6VhAXMK1bZPgWED1xl+JKtxYQBlVPobL6FhAir3tsI7lWEBvuFWv0uZYQJzPApqD6VhAhatXG3vqWEBTCs/9HOpYQBMY4GOX4lhAzfWaWwHsWEChp2wJs/dYQFzD0u8O7VhA4bW176HmWEBinlpD+ORYQPAkfbvs3lhAzGpueUriWEBixIkKwt1YQMiLegm+61hAfx5cZn3zWEB4gfpy+vRYQIOD2NSt+1hA/Aq2geICWUB+PplNZ/9YQEGZ4cdO+lhARb4QlO/6WEAXyQ4NlABZQAsL06eYAVlAqcQqrKH3WEDhIswXn/JYQDgJ8KlG8lhAokgXduvxWED/adoKrP5YQELu+wHu9VhAEg0XIkv5WED6NAGq8wJZQOUhsPmdEVlA8hm5LSgPWUBFccgabhJZQM2bNF40FllANFvLaZUXWUBIVrg7FBdZQKj6qE3/GVlAUJdHPesJWUAUE5GCaQ5ZQBX3BQJZD1lAknflRQ0OWUCu3bueRxtZQIYSf5MWF1lADfPH8aIUWUCvIGOsgiFZQPR1MDFQHFlAsGC5pusYWUCOZGaIGxhZQMmsm8KdHVlAkqbn/RIfWUCpfyXs7RZZQCzIFMmmE1lAm7zGduQPWUAzyoe2hg9ZQAsd6i5hEllA+d+6Iy8VWUDIfwQX8glZQA==",
            "dtype": "f8"
           },
           "yaxis": "y"
          },
          {
           "marker": {
            "color": [
             "rgba(31, 119, 180, 0.8)",
             "rgba(31, 119, 180, 0.8)",
             "rgba(31, 119, 180, 0.8)",
             "rgba(31, 119, 180, 0.8)",
             "rgba(31, 119, 180, 0.8)",
             "rgba(31, 119, 180, 0.8)",
             "rgba(178, 34, 34, 0.8)",
             "rgba(31, 119, 180, 0.8)",
             "rgba(31, 119, 180, 0.8)",
             "rgba(31, 119, 180, 0.8)",
             "rgba(31, 119, 180, 0.8)",
             "rgba(31, 119, 180, 0.8)",
             "rgba(178, 34, 34, 0.8)",
             "rgba(178, 34, 34, 0.8)",
             "rgba(31, 119, 180, 0.8)",
             "rgba(31, 119, 180, 0.8)",
             "rgba(31, 119, 180, 0.8)",
             "rgba(31, 119, 180, 0.8)",
             "rgba(178, 34, 34, 0.8)",
             "rgba(31, 119, 180, 0.8)",
             "rgba(178, 34, 34, 0.8)",
             "rgba(178, 34, 34, 0.8)",
             "rgba(178, 34, 34, 0.8)",
             "rgba(178, 34, 34, 0.8)",
             "rgba(178, 34, 34, 0.8)",
             "rgba(31, 119, 180, 0.8)",
             "rgba(31, 119, 180, 0.8)",
             "rgba(31, 119, 180, 0.8)",
             "rgba(178, 34, 34, 0.8)",
             "rgba(31, 119, 180, 0.8)",
             "rgba(31, 119, 180, 0.8)",
             "rgba(31, 119, 180, 0.8)",
             "rgba(31, 119, 180, 0.8)",
             "rgba(31, 119, 180, 0.8)",
             "rgba(178, 34, 34, 0.8)",
             "rgba(31, 119, 180, 0.8)",
             "rgba(178, 34, 34, 0.8)",
             "rgba(178, 34, 34, 0.8)",
             "rgba(178, 34, 34, 0.8)",
             "rgba(31, 119, 180, 0.8)",
             "rgba(178, 34, 34, 0.8)",
             "rgba(178, 34, 34, 0.8)",
             "rgba(31, 119, 180, 0.8)",
             "rgba(31, 119, 180, 0.8)",
             "rgba(178, 34, 34, 0.8)",
             "rgba(31, 119, 180, 0.8)",
             "rgba(31, 119, 180, 0.8)",
             "rgba(31, 119, 180, 0.8)",
             "rgba(31, 119, 180, 0.8)",
             "rgba(178, 34, 34, 0.8)",
             "rgba(31, 119, 180, 0.8)",
             "rgba(31, 119, 180, 0.8)",
             "rgba(31, 119, 180, 0.8)",
             "rgba(31, 119, 180, 0.8)",
             "rgba(31, 119, 180, 0.8)",
             "rgba(31, 119, 180, 0.8)",
             "rgba(31, 119, 180, 0.8)",
             "rgba(31, 119, 180, 0.8)",
             "rgba(178, 34, 34, 0.8)",
             "rgba(178, 34, 34, 0.8)",
             "rgba(178, 34, 34, 0.8)",
             "rgba(178, 34, 34, 0.8)",
             "rgba(31, 119, 180, 0.8)",
             "rgba(31, 119, 180, 0.8)",
             "rgba(31, 119, 180, 0.8)"
            ]
           },
           "name": "Trade P&L",
           "type": "bar",
           "x": {
            "bdata": "AAECAwQFBgcICQoLDA0ODxAREhMUFRYXGBkaGxwdHh8gISIjJCUmJygpKissLS4vMDEyMzQ1Njc4OTo7PD0+P0A=",
            "dtype": "i1"
           },
           "xaxis": "x2",
           "y": {
            "bdata": "mpmZmZmZuT9mJIA29L3bP2YoBte+wNE/mpmZmZmZuT8AAAAAAAAAAGaK9ERjB9M/AHi8hKrmqb+amZmZmZm5PzTLecrdq60/mlG68o7dsT+a8ScB/AK+P2bmSkSacdU/AHS7de/T0r+aFa8Oo67cvwDPrM1M7N8/AHEoVwBH0z/NxIilLxrKPzPQ4twGUOI/M4N5ghqYy78zpnlTtxDjP2Yy9UdkXvq/TU1O4pHq579mhsUy+ge2v03z01WjQOS/gCdaB1046b8AcpfJbF7YP4BVwgLU1eE/aGbk004Alj/Nq/JFdIzgv6CZqzZzsXI/GsUUANIJ8z8zU7qthD3nP80KNNbOosE/zdTT9ToTwT9NNaC0QK7svzOtKvBEr+Q/zEywV8+Hrb/NnByh3B3gv00tMFNEzOK/ZjKGQpY90D8zcZzMde7DvwCo1BxR39K/0EwZbQFHjD8AgJ1gwiWgP8zMNVx71qK/M4uWlENH4z9oJqrOEYKeP5qRefKdHbI/zd7JjzWTxD8AKplBhdfjv81s+b/5kM0/zb4LOxC0wT+amZmZmZm5PwAAAAAAAAAAzVT3uuGVwz+amZmZmZm5P81CXTdB0cc/AJCcv7RTlz8A0k2EI0rAv8DMSYTd72O/AIhccJISvr8AAJq8D3CHv818cpG9gcI/mpmZmZmZuT9ml8Ycc6PRPw==",
            "dtype": "f8"
           },
           "yaxis": "y2"
          },
          {
           "line": {
            "color": "rgba(60, 179, 113, 0.9)",
            "width": 2
           },
           "name": "Cumulative P&L",
           "type": "scatter",
           "x": {
            "bdata": "AAECAwQFBgcICQoLDA0ODxAREhMUFRYXGBkaGxwdHh8gISIjJCUmJygpKissLS4vMDEyMzQ1Njc4OTo7PD0+P0A=",
            "dtype": "i1"
           },
           "xaxis": "x2",
           "y": {
            "bdata": "AAAAAAAAAABmJIA29L3bP2Ymw4ZZv+Y/mVn2uYzy6T+ZWfa5jPLpP2ZPOC4fu/E/pmsS2unr8D9ABaxzg4XyP5rT/2HicvM/tHgrUbuQ9D/O9z0R63D2P2ixUKJRzfs/aNThxFUY9z8DHmwCWtnvP8JCoTTA5/c/Al9rSoC5/D+cdxw/xvz/P9vvxtZkkgRAqFefLuPYAkA1wX0DEZ0HQARQBr+92/Q/u1K+m+nM4T/cQ8uq1BfeP3xFuQHk0sS/33jIBxZt7r/fv/yi3z3iv8CXmg7oAoq/EDUumbX9gT/58o1vfUTgv8abIIkaH+C/bu4Id4n05T/QoGESB5n2PyoiKO1gzfg/xJziS8jv+j87BCXjTzHpP7fYp2lK8PY/UVbq7gsE9j/VD7g8O+rrPxDFD9PtO9I/u/vKCsI84T/cvkcvSYLYP3BbzEngi7Y/CoVvd8AUuj+FIt/T0BPBP6Reo/ljvLg/CPfKE9Be5j87SECi4FLnP256j2CUluk/IfKBxGG77j9CkNEFucfVP1Qj5/IaSOI/BxOqAR+15j86Rt00UujpPzpG3TRS6Ok/bRubo8rN7j9QJ2frfgDxP6rPUhKn+vM/6kFR5fVX9D+qh8d0sU7yP8RiBYa5RPI/RJr/XpBj8D9EZoY/sDTwP961tPHnhPI/eE9Oi4Ee9D9S9X9SXof4Pw==",
            "dtype": "f8"
           },
           "yaxis": "y2"
          }
         ]
        },
        {
         "data": [
          {
           "line": {
            "color": "rgba(60, 179, 113, 0.9)",
            "dash": "dot",
            "width": 2
           },
           "name": "Mid Price (Estimated)",
           "type": "scatter",
           "x": {
            "bdata": "AAECAwQFBgcICQoLDA0ODxAREhMUFRYXGBkaGxwdHh8gISIjJCUmJygpKissLS4vMDEyMzQ1Njc4OTo7PD0+P0BB",
            "dtype": "i1"
           },
           "xaxis": "x",
           "y": {
            "bdata": "gNHvJb/4WEChxAdfE+5YQN8klwa54lhA9ltPBy3aWECPYPkixNVYQLPu1x9l4lhAJFeHSijfWEAJUu9IbOBYQDZpnDMd41hAH0XxtBTkWEDto2iXtuNYQK2xef0w3FhAZ4809ZrlWEA7QQajTPFYQPZcbImo5lhAe09PiTvgWED8N/Tckd5YQIq+FlWG2FhAZgQIE+TbWED8XSOkW9dYQGIlFKNX5VhAGbj1/xbtWEASG5QMlO5YQB0dcm5H9VhAlqRPG3z8WEAY2DLnAPlYQNsye2Ho81hA31eqLYn0WECxYqimLfpYQKWkbEEy+1hAQ17ERTvxWEB7vGWxOOxYQNKiiUPg61hAPOKwD4XrWECZA3SkRfhYQNyHlZuH71hArKawu+TyWECUzppDjfxYQH+7SZM3C1lAjLNSx8EIWUDfCmK0BwxZQGc1zvfND1lAzvRkAy8RWUDi71HVrRBZQEKUQueYE1lA6jDh1oQDWUCurCocAwhZQK+Qn5vyCFlALBF/36YHWUBId1U44RRZQCCsGC2wEFlAp4xhizwOWUBJuvxFHBtZQI4PysrpFVlASvpSQIUSWUAo/v8htRFZQGNGNVw3F1lALECBl6wYWUBDGb+FhxBZQMZhrmJADVlANVZgEH4JWUDNYyFQIAlZQKW2g8j6C1lAk3lUvcgOWUBiGZ6wiwNZQIpoa557CllA",
            "dtype": "f8"
           },
           "yaxis": "y"
          },
          {
           "line": {
            "color": "rgba(178, 34, 34, 0.9)",
            "width": 2
           },
           "name": "Bid",
           "type": "scatter",
           "x": {
            "bdata": "AAECAwQFBgcICQoLDA0ODxAREhMUFRYXGBkaGxwdHh8gISIjJCUmJygpKissLS4vMDEyMzQ1Njc4OTo7PD0+P0BB",
            "dtype": "i1"
           },
           "xaxis": "x",
           "y": {
            "bdata": "GmuJv1jyWEA7XqH4rOdYQHm+MKBS3FhAkPXooMbTWEAp+pK8Xc9YQE2Icbn+21hAvvAg5MHYWECj64jiBdpYQNACNs223FhAud6KTq7dWECHPQIxUN1YQEdLE5fK1VhAASnOjjTfWEDV2p885upYQJD2BSNC4FhAFenoItXZWECW0Y12K9hYQCRYsO4f0lhAAJ6hrH3VWECW97w99dBYQPy+rTzx3lhAs1GPmbDmWECstC2mLehYQLe2Cwjh7lhAMD7ptBX2WECyccyAmvJYQHXMFPuB7VhAefFDxyLuWEBL/EFAx/NYQD8+BtvL9FhA3fdd39TqWEAVVv9K0uVYQGw8I9155VhA1ntKqR7lWEAznQ0+3/FYQHYhLzUh6VhARkBKVX7sWEAuaDTdJvZYQBlV4yzRBFlAJk3sYFsCWUB5pPtNoQVZQAHPZ5FnCVlAaI7+nMgKWUB8ietuRwpZQNwt3IAyDVlAhMp6cB79WEBIRsS1nAFZQEkqOTWMAllAxqoYeUABWUDiEO/Reg5ZQLpFssZJCllAQSb7JNYHWUDjU5bftRRZQCipY2SDD1lA5JPs2R4MWUDCl5m7TgtZQP3fzvXQEFlAxtkaMUYSWUDdslgfIQpZQGD7R/zZBllAz+/5qRcDWUBn/brpuQJZQD9QHWKUBVlALRPuVmIIWUD8sjdKJf1YQCQCBTgVBFlA",
            "dtype": "f8"
           },
           "yaxis": "y"
          },
          {
           "line": {
            "color": "rgba(70, 130, 180, 0.9)",
            "width": 2
           },
           "name": "Ask",
           "type": "scatter",
           "x": {
            "bdata": "AAECAwQFBgcICQoLDA0ODxAREhMUFRYXGBkaGxwdHh8gISIjJCUmJygpKissLS4vMDEyMzQ1Njc4OTo7PD0+P0BB",
            "dtype": "i1"
           },
           "xaxis": "x",
           "y": {
            "bdata": "5jdWjCX/WEAHK27FefRYQEWL/Wwf6VhAXMK1bZPgWED1xl+JKtxYQBlVPobL6FhAir3tsI7lWEBvuFWv0uZYQJzPApqD6VhAhatXG3vqWEBTCs/9HOpYQBMY4GOX4lhAzfWaWwHsWEChp2wJs/dYQFzD0u8O7VhA4bW176HmWEBinlpD+ORYQPAkfbvs3lhAzGpueUriWEBixIkKwt1YQMiLegm+61hAfx5cZn3zWEB4gfpy+vRYQIOD2NSt+1hA/Aq2geICWUB+PplNZ/9YQEGZ4cdO+lhARb4QlO/6WEAXyQ4NlABZQAsL06eYAVlAqcQqrKH3WEDhIswXn/JYQDgJ8KlG8lhAokgXduvxWED/adoKrP5YQELu+wHu9VhAEg0XIkv5WED6NAGq8wJZQOUhsPmdEVlA8hm5LSgPWUBFccgabhJZQM2bNF40FllANFvLaZUXWUBIVrg7FBdZQKj6qE3/GVlAUJdHPesJWUAUE5GCaQ5ZQBX3BQJZD1lAknflRQ0OWUCu3bueRxtZQIYSf5MWF1lADfPH8aIUWUCvIGOsgiFZQPR1MDFQHFlAsGC5pusYWUCOZGaIGxhZQMmsm8KdHVlAkqbn/RIfWUCpfyXs7RZZQCzIFMmmE1lAm7zGduQPWUAzyoe2hg9ZQAsd6i5hEllA+d+6Iy8VWUDIfwQX8glZQPDO0QTiEFlA",
            "dtype": "f8"
           },
           "yaxis": "y"
          },
          {
           "marker": {
            "color": [
             "rgba(31, 119, 180, 0.8)",
             "rgba(31, 119, 180, 0.8)",
             "rgba(31, 119, 180, 0.8)",
             "rgba(31, 119, 180, 0.8)",
             "rgba(31, 119, 180, 0.8)",
             "rgba(31, 119, 180, 0.8)",
             "rgba(178, 34, 34, 0.8)",
             "rgba(31, 119, 180, 0.8)",
             "rgba(31, 119, 180, 0.8)",
             "rgba(31, 119, 180, 0.8)",
             "rgba(31, 119, 180, 0.8)",
             "rgba(31, 119, 180, 0.8)",
             "rgba(178, 34, 34, 0.8)",
             "rgba(178, 34, 34, 0.8)",
             "rgba(31, 119, 180, 0.8)",
             "rgba(31, 119, 180, 0.8)",
             "rgba(31, 119, 180, 0.8)",
             "rgba(31, 119, 180, 0.8)",
             "rgba(178, 34, 34, 0.8)",
             "rgba(31, 119, 180, 0.8)",
             "rgba(178, 34, 34, 0.8)",
             "rgba(178, 34, 34, 0.8)",
             "rgba(178, 34, 34, 0.8)",
             "rgba(178, 34, 34, 0.8)",
             "rgba(178, 34, 34, 0.8)",
             "rgba(31, 119, 180, 0.8)",
             "rgba(31, 119, 180, 0.8)",
             "rgba(31, 119, 180, 0.8)",
             "rgba(178, 34, 34, 0.8)",
             "rgba(31, 119, 180, 0.8)",
             "rgba(31, 119, 180, 0.8)",
             "rgba(31, 119, 180, 0.8)",
             "rgba(31, 119, 180, 0.8)",
             "rgba(31, 119, 180, 0.8)",
             "rgba(178, 34, 34, 0.8)",
             "rgba(31, 119, 180, 0.8)",
             "rgba(178, 34, 34, 0.8)",
             "rgba(178, 34, 34, 0.8)",
             "rgba(178, 34, 34, 0.8)",
             "rgba(31, 119, 180, 0.8)",
             "rgba(178, 34, 34, 0.8)",
             "rgba(178, 34, 34, 0.8)",
             "rgba(31, 119, 180, 0.8)",
             "rgba(31, 119, 180, 0.8)",
             "rgba(178, 34, 34, 0.8)",
             "rgba(31, 119, 180, 0.8)",
             "rgba(31, 119, 180, 0.8)",
             "rgba(31, 119, 180, 0.8)",
             "rgba(31, 119, 180, 0.8)",
             "rgba(178, 34, 34, 0.8)",
             "rgba(31, 119, 180, 0.8)",
             "rgba(31, 119, 180, 0.8)",
             "rgba(31, 119, 180, 0.8)",
             "rgba(31, 119, 180, 0.8)",
             "rgba(31, 119, 180, 0.8)",
             "rgba(31, 119, 180, 0.8)",
             "rgba(31, 119, 180, 0.8)",
             "rgba(31, 119, 180, 0.8)",
             "rgba(178, 34, 34, 0.8)",
             "rgba(178, 34, 34, 0.8)",
             "rgba(178, 34, 34, 0.8)",
             "rgba(178, 34, 34, 0.8)",
             "rgba(31, 119, 180, 0.8)",
             "rgba(31, 119, 180, 0.8)",
             "rgba(31, 119, 180, 0.8)",
             "rgba(178, 34, 34, 0.8)"
            ]
           },
           "name": "Trade P&L",
           "type": "bar",
           "x": {
            "bdata": "AAECAwQFBgcICQoLDA0ODxAREhMUFRYXGBkaGxwdHh8gISIjJCUmJygpKissLS4vMDEyMzQ1Njc4OTo7PD0+P0BB",
            "dtype": "i1"
           },
           "xaxis": "x2",
           "y": {
            "bdata": "mpmZmZmZuT9mJIA29L3bP2YoBte+wNE/mpmZmZmZuT8AAAAAAAAAAGaK9ERjB9M/AHi8hKrmqb+amZmZmZm5PzTLecrdq60/mlG68o7dsT+a8ScB/AK+P2bmSkSacdU/AHS7de/T0r+aFa8Oo67cvwDPrM1M7N8/AHEoVwBH0z/NxIilLxrKPzPQ4twGUOI/M4N5ghqYy78zpnlTtxDjP2Yy9UdkXvq/TU1O4pHq579mhsUy+ge2v03z01WjQOS/gCdaB1046b8AcpfJbF7YP4BVwgLU1eE/aGbk004Alj/Nq/JFdIzgv6CZqzZzsXI/GsUUANIJ8z8zU7qthD3nP80KNNbOosE/zdTT9ToTwT9NNaC0QK7svzOtKvBEr+Q/zEywV8+Hrb/NnByh3B3gv00tMFNEzOK/ZjKGQpY90D8zcZzMde7DvwCo1BxR39K/0EwZbQFHjD8AgJ1gwiWgP8zMNVx71qK/M4uWlENH4z9oJqrOEYKeP5qRefKdHbI/zd7JjzWTxD8AKplBhdfjv81s+b/5kM0/zb4LOxC0wT+amZmZmZm5PwAAAAAAAAAAzVT3uuGVwz+amZmZmZm5P81CXTdB0cc/AJCcv7RTlz8A0k2EI0rAv8DMSYTd72O/AIhccJISvr8AAJq8D3CHv818cpG9gcI/mpmZmZmZuT9ml8Ycc6PRPwCgPDW3v7u/",
            "dtype": "f8"
           },
           "yaxis": "y2"
          },
          {
           "line": {
            "color": "rgba(60, 179, 113, 0.9)",
            "width": 2
           },
           "name": "Cumulative P&L",
           "type": "scatter",
           "x": {
            "bdata": "AAECAwQFBgcICQoLDA0ODxAREhMUFRYXGBkaGxwdHh8gISIjJCUmJygpKissLS4vMDEyMzQ1Njc4OTo7PD0+P0BB",
            "dtype": "i1"
           },
           "xaxis": "x2",
           "y": {
            "bdata": "AAAAAAAAAABmJIA29L3bP2Ymw4ZZv+Y/mVn2uYzy6T+ZWfa5jPLpP2ZPOC4fu/E/pmsS2unr8D9ABaxzg4XyP5rT/2HicvM/tHgrUbuQ9D/O9z0R63D2P2ixUKJRzfs/aNThxFUY9z8DHmwCWtnvP8JCoTTA5/c/Al9rSoC5/D+cdxw/xvz/P9vvxtZkkgRAqFefLuPYAkA1wX0DEZ0HQARQBr+92/Q/u1K+m+nM4T/cQ8uq1BfeP3xFuQHk0sS/33jIBxZt7r/fv/yi3z3iv8CXmg7oAoq/EDUumbX9gT/58o1vfUTgv8abIIkaH+C/bu4Id4n05T/QoGESB5n2PyoiKO1gzfg/xJziS8jv+j87BCXjTzHpP7fYp2lK8PY/UVbq7gsE9j/VD7g8O+rrPxDFD9PtO9I/u/vKCsI84T/cvkcvSYLYP3BbzEngi7Y/CoVvd8AUuj+FIt/T0BPBP6Reo/ljvLg/CPfKE9Be5j87SECi4FLnP256j2CUluk/IfKBxGG77j9CkNEFucfVP1Qj5/IaSOI/BxOqAR+15j86Rt00UujpPzpG3TRS6Ok/bRubo8rN7j9QJ2frfgDxP6rPUhKn+vM/6kFR5fVX9D+qh8d0sU7yP8RiBYa5RPI/RJr/XpBj8D9EZoY/sDTwP961tPHnhPI/eE9Oi4Ee9D9S9X9SXof4P1IrLN9iy/Y/",
            "dtype": "f8"
           },
           "yaxis": "y2"
          }
         ]
        },
        {
         "data": [
          {
           "line": {
            "color": "rgba(60, 179, 113, 0.9)",
            "dash": "dot",
            "width": 2
           },
           "name": "Mid Price (Estimated)",
           "type": "scatter",
           "x": {
            "bdata": "AAECAwQFBgcICQoLDA0ODxAREhMUFRYXGBkaGxwdHh8gISIjJCUmJygpKissLS4vMDEyMzQ1Njc4OTo7PD0+P0BBQg==",
            "dtype": "i1"
           },
           "xaxis": "x",
           "y": {
            "bdata": "gNHvJb/4WEChxAdfE+5YQN8klwa54lhA9ltPBy3aWECPYPkixNVYQLPu1x9l4lhAJFeHSijfWEAJUu9IbOBYQDZpnDMd41hAH0XxtBTkWEDto2iXtuNYQK2xef0w3FhAZ4809ZrlWEA7QQajTPFYQPZcbImo5lhAe09PiTvgWED8N/Tckd5YQIq+FlWG2FhAZgQIE+TbWED8XSOkW9dYQGIlFKNX5VhAGbj1/xbtWEASG5QMlO5YQB0dcm5H9VhAlqRPG3z8WEAY2DLnAPlYQNsye2Ho81hA31eqLYn0WECxYqimLfpYQKWkbEEy+1hAQ17ERTvxWEB7vGWxOOxYQNKiiUPg61hAPOKwD4XrWECZA3SkRfhYQNyHlZuH71hArKawu+TyWECUzppDjfxYQH+7SZM3C1lAjLNSx8EIWUDfCmK0BwxZQGc1zvfND1lAzvRkAy8RWUDi71HVrRBZQEKUQueYE1lA6jDh1oQDWUCurCocAwhZQK+Qn5vyCFlALBF/36YHWUBId1U44RRZQCCsGC2wEFlAp4xhizwOWUBJuvxFHBtZQI4PysrpFVlASvpSQIUSWUAo/v8htRFZQGNGNVw3F1lALECBl6wYWUBDGb+FhxBZQMZhrmJADVlANVZgEH4JWUDNYyFQIAlZQKW2g8j6C1lAk3lUvcgOWUBiGZ6wiwNZQIpoa557CllAHGUUMjoMWUA=",
            "dtype": "f8"
           },
           "yaxis": "y"
          },
          {
           "line": {
            "color": "rgba(178, 34, 34, 0.9)",
            "width": 2
           },
           "name": "Bid",
           "type": "scatter",
           "x": {
            "bdata": "AAECAwQFBgcICQoLDA0ODxAREhMUFRYXGBkaGxwdHh8gISIjJCUmJygpKissLS4vMDEyMzQ1Njc4OTo7PD0+P0BBQg==",
            "dtype": "i1"
           },
           "xaxis": "x",
           "y": {
            "bdata": "GmuJv1jyWEA7XqH4rOdYQHm+MKBS3FhAkPXooMbTWEAp+pK8Xc9YQE2Icbn+21hAvvAg5MHYWECj64jiBdpYQNACNs223FhAud6KTq7dWECHPQIxUN1YQEdLE5fK1VhAASnOjjTfWEDV2p885upYQJD2BSNC4FhAFenoItXZWECW0Y12K9hYQCRYsO4f0lhAAJ6hrH3VWECW97w99dBYQPy+rTzx3lhAs1GPmbDmWECstC2mLehYQLe2Cwjh7lhAMD7ptBX2WECyccyAmvJYQHXMFPuB7VhAefFDxyLuWEBL/EFAx/NYQD8+BtvL9FhA3fdd39TqWEAVVv9K0uVYQGw8I9155VhA1ntKqR7lWEAznQ0+3/FYQHYhLzUh6VhARkBKVX7sWEAuaDTdJvZYQBlV4yzRBFlAJk3sYFsCWUB5pPtNoQVZQAHPZ5FnCVlAaI7+nMgKWUB8ietuRwpZQNwt3IAyDVlAhMp6cB79WEBIRsS1nAFZQEkqOTWMAllAxqoYeUABWUDiEO/Reg5ZQLpFssZJCllAQSb7JNYHWUDjU5bftRRZQCipY2SDD1lA5JPs2R4MWUDCl5m7TgtZQP3fzvXQEFlAxtkaMUYSWUDdslgfIQpZQGD7R/zZBllAz+/5qRcDWUBn/brpuQJZQD9QHWKUBVlALRPuVmIIWUD8sjdKJf1YQCQCBTgVBFlAtv6ty9MFWUA=",
            "dtype": "f8"
           },
           "yaxis": "y"
          },
          {
           "line": {
            "color": "rgba(70, 130, 180, 0.9)",
            "width": 2
           },
           "name": "Ask",
           "type": "scatter",
           "x": {
            "bdata": "AAECAwQFBgcICQoLDA0ODxAREhMUFRYXGBkaGxwdHh8gISIjJCUmJygpKissLS4vMDEyMzQ1Njc4OTo7PD0+P0BBQg==",
            "dtype": "i1"
           },
           "xaxis": "x",
           "y": {
            "bdata": "5jdWjCX/WEAHK27FefRYQEWL/Wwf6VhAXMK1bZPgWED1xl+JKtxYQBlVPobL6FhAir3tsI7lWEBvuFWv0uZYQJzPApqD6VhAhatXG3vqWEBTCs/9HOpYQBMY4GOX4lhAzfWaWwHsWEChp2wJs/dYQFzD0u8O7VhA4bW176HmWEBinlpD+ORYQPAkfbvs3lhAzGpueUriWEBixIkKwt1YQMiLegm+61hAfx5cZn3zWEB4gfpy+vRYQIOD2NSt+1hA/Aq2geICWUB+PplNZ/9YQEGZ4cdO+lhARb4QlO/6WEAXyQ4NlABZQAsL06eYAVlAqcQqrKH3WEDhIswXn/JYQDgJ8KlG8lhAokgXduvxWED/adoKrP5YQELu+wHu9VhAEg0XIkv5WED6NAGq8wJZQOUhsPmdEVlA8hm5LSgPWUBFccgabhJZQM2bNF40FllANFvLaZUXWUBIVrg7FBdZQKj6qE3/GVlAUJdHPesJWUAUE5GCaQ5ZQBX3BQJZD1lAknflRQ0OWUCu3bueRxtZQIYSf5MWF1lADfPH8aIUWUCvIGOsgiFZQPR1MDFQHFlAsGC5pusYWUCOZGaIGxhZQMmsm8KdHVlAkqbn/RIfWUCpfyXs7RZZQCzIFMmmE1lAm7zGduQPWUAzyoe2hg9ZQAsd6i5hEllA+d+6Iy8VWUDIfwQX8glZQPDO0QTiEFlAgst6mKASWUA=",
            "dtype": "f8"
           },
           "yaxis": "y"
          },
          {
           "marker": {
            "color": [
             "rgba(31, 119, 180, 0.8)",
             "rgba(31, 119, 180, 0.8)",
             "rgba(31, 119, 180, 0.8)",
             "rgba(31, 119, 180, 0.8)",
             "rgba(31, 119, 180, 0.8)",
             "rgba(31, 119, 180, 0.8)",
             "rgba(178, 34, 34, 0.8)",
             "rgba(31, 119, 180, 0.8)",
             "rgba(31, 119, 180, 0.8)",
             "rgba(31, 119, 180, 0.8)",
             "rgba(31, 119, 180, 0.8)",
             "rgba(31, 119, 180, 0.8)",
             "rgba(178, 34, 34, 0.8)",
             "rgba(178, 34, 34, 0.8)",
             "rgba(31, 119, 180, 0.8)",
             "rgba(31, 119, 180, 0.8)",
             "rgba(31, 119, 180, 0.8)",
             "rgba(31, 119, 180, 0.8)",
             "rgba(178, 34, 34, 0.8)",
             "rgba(31, 119, 180, 0.8)",
             "rgba(178, 34, 34, 0.8)",
             "rgba(178, 34, 34, 0.8)",
             "rgba(178, 34, 34, 0.8)",
             "rgba(178, 34, 34, 0.8)",
             "rgba(178, 34, 34, 0.8)",
             "rgba(31, 119, 180, 0.8)",
             "rgba(31, 119, 180, 0.8)",
             "rgba(31, 119, 180, 0.8)",
             "rgba(178, 34, 34, 0.8)",
             "rgba(31, 119, 180, 0.8)",
             "rgba(31, 119, 180, 0.8)",
             "rgba(31, 119, 180, 0.8)",
             "rgba(31, 119, 180, 0.8)",
             "rgba(31, 119, 180, 0.8)",
             "rgba(178, 34, 34, 0.8)",
             "rgba(31, 119, 180, 0.8)",
             "rgba(178, 34, 34, 0.8)",
             "rgba(178, 34, 34, 0.8)",
             "rgba(178, 34, 34, 0.8)",
             "rgba(31, 119, 180, 0.8)",
             "rgba(178, 34, 34, 0.8)",
             "rgba(178, 34, 34, 0.8)",
             "rgba(31, 119, 180, 0.8)",
             "rgba(31, 119, 180, 0.8)",
             "rgba(178, 34, 34, 0.8)",
             "rgba(31, 119, 180, 0.8)",
             "rgba(31, 119, 180, 0.8)",
             "rgba(31, 119, 180, 0.8)",
             "rgba(31, 119, 180, 0.8)",
             "rgba(178, 34, 34, 0.8)",
             "rgba(31, 119, 180, 0.8)",
             "rgba(31, 119, 180, 0.8)",
             "rgba(31, 119, 180, 0.8)",
             "rgba(31, 119, 180, 0.8)",
             "rgba(31, 119, 180, 0.8)",
             "rgba(31, 119, 180, 0.8)",
             "rgba(31, 119, 180, 0.8)",
             "rgba(31, 119, 180, 0.8)",
             "rgba(178, 34, 34, 0.8)",
             "rgba(178, 34, 34, 0.8)",
             "rgba(178, 34, 34, 0.8)",
             "rgba(178, 34, 34, 0.8)",
             "rgba(31, 119, 180, 0.8)",
             "rgba(31, 119, 180, 0.8)",
             "rgba(31, 119, 180, 0.8)",
             "rgba(178, 34, 34, 0.8)",
             "rgba(31, 119, 180, 0.8)"
            ]
           },
           "name": "Trade P&L",
           "type": "bar",
           "x": {
            "bdata": "AAECAwQFBgcICQoLDA0ODxAREhMUFRYXGBkaGxwdHh8gISIjJCUmJygpKissLS4vMDEyMzQ1Njc4OTo7PD0+P0BBQg==",
            "dtype": "i1"
           },
           "xaxis": "x2",
           "y": {
            "bdata": "mpmZmZmZuT9mJIA29L3bP2YoBte+wNE/mpmZmZmZuT8AAAAAAAAAAGaK9ERjB9M/AHi8hKrmqb+amZmZmZm5PzTLecrdq60/mlG68o7dsT+a8ScB/AK+P2bmSkSacdU/AHS7de/T0r+aFa8Oo67cvwDPrM1M7N8/AHEoVwBH0z/NxIilLxrKPzPQ4twGUOI/M4N5ghqYy78zpnlTtxDjP2Yy9UdkXvq/TU1O4pHq579mhsUy+ge2v03z01WjQOS/gCdaB1046b8AcpfJbF7YP4BVwgLU1eE/aGbk004Alj/Nq/JFdIzgv6CZqzZzsXI/GsUUANIJ8z8zU7qthD3nP80KNNbOosE/zdTT9ToTwT9NNaC0QK7svzOtKvBEr+Q/zEywV8+Hrb/NnByh3B3gv00tMFNEzOK/ZjKGQpY90D8zcZzMde7DvwCo1BxR39K/0EwZbQFHjD8AgJ1gwiWgP8zMNVx71qK/M4uWlENH4z9oJqrOEYKeP5qRefKdHbI/zd7JjzWTxD8AKplBhdfjv81s+b/5kM0/zb4LOxC0wT+amZmZmZm5PwAAAAAAAAAAzVT3uuGVwz+amZmZmZm5P81CXTdB0cc/AJCcv7RTlz8A0k2EI0rAv8DMSYTd72O/AIhccJISvr8AAJq8D3CHv818cpG9gcI/mpmZmZmZuT9ml8Ycc6PRPwCgPDW3v7u/NBNqo/hJpz8=",
            "dtype": "f8"
           },
           "yaxis": "y2"
          },
          {
           "line": {
            "color": "rgba(60, 179, 113, 0.9)",
            "width": 2
           },
           "name": "Cumulative P&L",
           "type": "scatter",
           "x": {
            "bdata": "AAECAwQFBgcICQoLDA0ODxAREhMUFRYXGBkaGxwdHh8gISIjJCUmJygpKissLS4vMDEyMzQ1Njc4OTo7PD0+P0BBQg==",
            "dtype": "i1"
           },
           "xaxis": "x2",
           "y": {
            "bdata": "AAAAAAAAAABmJIA29L3bP2Ymw4ZZv+Y/mVn2uYzy6T+ZWfa5jPLpP2ZPOC4fu/E/pmsS2unr8D9ABaxzg4XyP5rT/2HicvM/tHgrUbuQ9D/O9z0R63D2P2ixUKJRzfs/aNThxFUY9z8DHmwCWtnvP8JCoTTA5/c/Al9rSoC5/D+cdxw/xvz/P9vvxtZkkgRAqFefLuPYAkA1wX0DEZ0HQARQBr+92/Q/u1K+m+nM4T/cQ8uq1BfeP3xFuQHk0sS/33jIBxZt7r/fv/yi3z3iv8CXmg7oAoq/EDUumbX9gT/58o1vfUTgv8abIIkaH+C/bu4Id4n05T/QoGESB5n2PyoiKO1gzfg/xJziS8jv+j87BCXjTzHpP7fYp2lK8PY/UVbq7gsE9j/VD7g8O+rrPxDFD9PtO9I/u/vKCsI84T/cvkcvSYLYP3BbzEngi7Y/CoVvd8AUuj+FIt/T0BPBP6Reo/ljvLg/CPfKE9Be5j87SECi4FLnP256j2CUluk/IfKBxGG77j9CkNEFucfVP1Qj5/IaSOI/BxOqAR+15j86Rt00UujpPzpG3TRS6Ok/bRubo8rN7j9QJ2frfgDxP6rPUhKn+vM/6kFR5fVX9D+qh8d0sU7yP8RiBYa5RPI/RJr/XpBj8D9EZoY/sDTwP961tPHnhPI/eE9Oi4Ee9D9S9X9SXof4P1IrLN9iy/Y/7HtHpLKF9z8=",
            "dtype": "f8"
           },
           "yaxis": "y2"
          }
         ]
        },
        {
         "data": [
          {
           "line": {
            "color": "rgba(60, 179, 113, 0.9)",
            "dash": "dot",
            "width": 2
           },
           "name": "Mid Price (Estimated)",
           "type": "scatter",
           "x": {
            "bdata": "AAECAwQFBgcICQoLDA0ODxAREhMUFRYXGBkaGxwdHh8gISIjJCUmJygpKissLS4vMDEyMzQ1Njc4OTo7PD0+P0BBQkM=",
            "dtype": "i1"
           },
           "xaxis": "x",
           "y": {
            "bdata": "gNHvJb/4WEChxAdfE+5YQN8klwa54lhA9ltPBy3aWECPYPkixNVYQLPu1x9l4lhAJFeHSijfWEAJUu9IbOBYQDZpnDMd41hAH0XxtBTkWEDto2iXtuNYQK2xef0w3FhAZ4809ZrlWEA7QQajTPFYQPZcbImo5lhAe09PiTvgWED8N/Tckd5YQIq+FlWG2FhAZgQIE+TbWED8XSOkW9dYQGIlFKNX5VhAGbj1/xbtWEASG5QMlO5YQB0dcm5H9VhAlqRPG3z8WEAY2DLnAPlYQNsye2Ho81hA31eqLYn0WECxYqimLfpYQKWkbEEy+1hAQ17ERTvxWEB7vGWxOOxYQNKiiUPg61hAPOKwD4XrWECZA3SkRfhYQNyHlZuH71hArKawu+TyWECUzppDjfxYQH+7SZM3C1lAjLNSx8EIWUDfCmK0BwxZQGc1zvfND1lAzvRkAy8RWUDi71HVrRBZQEKUQueYE1lA6jDh1oQDWUCurCocAwhZQK+Qn5vyCFlALBF/36YHWUBId1U44RRZQCCsGC2wEFlAp4xhizwOWUBJuvxFHBtZQI4PysrpFVlASvpSQIUSWUAo/v8htRFZQGNGNVw3F1lALECBl6wYWUBDGb+FhxBZQMZhrmJADVlANVZgEH4JWUDNYyFQIAlZQKW2g8j6C1lAk3lUvcgOWUBiGZ6wiwNZQIpoa557CllAHGUUMjoMWUDyqIRhNxVZQA==",
            "dtype": "f8"
           },
           "yaxis": "y"
          },
          {
           "line": {
            "color": "rgba(178, 34, 34, 0.9)",
            "width": 2
           },
           "name": "Bid",
           "type": "scatter",
           "x": {
            "bdata": "AAECAwQFBgcICQoLDA0ODxAREhMUFRYXGBkaGxwdHh8gISIjJCUmJygpKissLS4vMDEyMzQ1Njc4OTo7PD0+P0BBQkM=",
            "dtype": "i1"
           },
           "xaxis": "x",
           "y": {
            "bdata": "GmuJv1jyWEA7XqH4rOdYQHm+MKBS3FhAkPXooMbTWEAp+pK8Xc9YQE2Icbn+21hAvvAg5MHYWECj64jiBdpYQNACNs223FhAud6KTq7dWECHPQIxUN1YQEdLE5fK1VhAASnOjjTfWEDV2p885upYQJD2BSNC4FhAFenoItXZWECW0Y12K9hYQCRYsO4f0lhAAJ6hrH3VWECW97w99dBYQPy+rTzx3lhAs1GPmbDmWECstC2mLehYQLe2Cwjh7lhAMD7ptBX2WECyccyAmvJYQHXMFPuB7VhAefFDxyLuWEBL/EFAx/NYQD8+BtvL9FhA3fdd39TqWEAVVv9K0uVYQGw8I9155VhA1ntKqR7lWEAznQ0+3/FYQHYhLzUh6VhARkBKVX7sWEAuaDTdJvZYQBlV4yzRBFlAJk3sYFsCWUB5pPtNoQVZQAHPZ5FnCVlAaI7+nMgKWUB8ietuRwpZQNwt3IAyDVlAhMp6cB79WEBIRsS1nAFZQEkqOTWMAllAxqoYeUABWUDiEO/Reg5ZQLpFssZJCllAQSb7JNYHWUDjU5bftRRZQCipY2SDD1lA5JPs2R4MWUDCl5m7TgtZQP3fzvXQEFlAxtkaMUYSWUDdslgfIQpZQGD7R/zZBllAz+/5qRcDWUBn/brpuQJZQD9QHWKUBVlALRPuVmIIWUD8sjdKJf1YQCQCBTgVBFlAtv6ty9MFWUCMQh770A5ZQA==",
            "dtype": "f8"
           },
           "yaxis": "y"
          },
          {
           "line": {
            "color": "rgba(70, 130, 180, 0.9)",
            "width": 2
           },
           "name": "Ask",
           "type": "scatter",
           "x": {
            "bdata": "AAECAwQFBgcICQoLDA0ODxAREhMUFRYXGBkaGxwdHh8gISIjJCUmJygpKissLS4vMDEyMzQ1Njc4OTo7PD0+P0BBQkM=",
            "dtype": "i1"
           },
           "xaxis": "x",
           "y": {
            "bdata": "5jdWjCX/WEAHK27FefRYQEWL/Wwf6VhAXMK1bZPgWED1xl+JKtxYQBlVPobL6FhAir3tsI7lWEBvuFWv0uZYQJzPApqD6VhAhatXG3vqWEBTCs/9HOpYQBMY4GOX4lhAzfWaWwHsWEChp2wJs/dYQFzD0u8O7VhA4bW176HmWEBinlpD+ORYQPAkfbvs3lhAzGpueUriWEBixIkKwt1YQMiLegm+61hAfx5cZn3zWEB4gfpy+vRYQIOD2NSt+1hA/Aq2geICWUB+PplNZ/9YQEGZ4cdO+lhARb4QlO/6WEAXyQ4NlABZQAsL06eYAVlAqcQqrKH3WEDhIswXn/JYQDgJ8KlG8lhAokgXduvxWED/adoKrP5YQELu+wHu9VhAEg0XIkv5WED6NAGq8wJZQOUhsPmdEVlA8hm5LSgPWUBFccgabhJZQM2bNF40FllANFvLaZUXWUBIVrg7FBdZQKj6qE3/GVlAUJdHPesJWUAUE5GCaQ5ZQBX3BQJZD1lAknflRQ0OWUCu3bueRxtZQIYSf5MWF1lADfPH8aIUWUCvIGOsgiFZQPR1MDFQHFlAsGC5pusYWUCOZGaIGxhZQMmsm8KdHVlAkqbn/RIfWUCpfyXs7RZZQCzIFMmmE1lAm7zGduQPWUAzyoe2hg9ZQAsd6i5hEllA+d+6Iy8VWUDIfwQX8glZQPDO0QTiEFlAgst6mKASWUBYD+vHnRtZQA==",
            "dtype": "f8"
           },
           "yaxis": "y"
          },
          {
           "marker": {
            "color": [
             "rgba(31, 119, 180, 0.8)",
             "rgba(31, 119, 180, 0.8)",
             "rgba(31, 119, 180, 0.8)",
             "rgba(31, 119, 180, 0.8)",
             "rgba(31, 119, 180, 0.8)",
             "rgba(31, 119, 180, 0.8)",
             "rgba(178, 34, 34, 0.8)",
             "rgba(31, 119, 180, 0.8)",
             "rgba(31, 119, 180, 0.8)",
             "rgba(31, 119, 180, 0.8)",
             "rgba(31, 119, 180, 0.8)",
             "rgba(31, 119, 180, 0.8)",
             "rgba(178, 34, 34, 0.8)",
             "rgba(178, 34, 34, 0.8)",
             "rgba(31, 119, 180, 0.8)",
             "rgba(31, 119, 180, 0.8)",
             "rgba(31, 119, 180, 0.8)",
             "rgba(31, 119, 180, 0.8)",
             "rgba(178, 34, 34, 0.8)",
             "rgba(31, 119, 180, 0.8)",
             "rgba(178, 34, 34, 0.8)",
             "rgba(178, 34, 34, 0.8)",
             "rgba(178, 34, 34, 0.8)",
             "rgba(178, 34, 34, 0.8)",
             "rgba(178, 34, 34, 0.8)",
             "rgba(31, 119, 180, 0.8)",
             "rgba(31, 119, 180, 0.8)",
             "rgba(31, 119, 180, 0.8)",
             "rgba(178, 34, 34, 0.8)",
             "rgba(31, 119, 180, 0.8)",
             "rgba(31, 119, 180, 0.8)",
             "rgba(31, 119, 180, 0.8)",
             "rgba(31, 119, 180, 0.8)",
             "rgba(31, 119, 180, 0.8)",
             "rgba(178, 34, 34, 0.8)",
             "rgba(31, 119, 180, 0.8)",
             "rgba(178, 34, 34, 0.8)",
             "rgba(178, 34, 34, 0.8)",
             "rgba(178, 34, 34, 0.8)",
             "rgba(31, 119, 180, 0.8)",
             "rgba(178, 34, 34, 0.8)",
             "rgba(178, 34, 34, 0.8)",
             "rgba(31, 119, 180, 0.8)",
             "rgba(31, 119, 180, 0.8)",
             "rgba(178, 34, 34, 0.8)",
             "rgba(31, 119, 180, 0.8)",
             "rgba(31, 119, 180, 0.8)",
             "rgba(31, 119, 180, 0.8)",
             "rgba(31, 119, 180, 0.8)",
             "rgba(178, 34, 34, 0.8)",
             "rgba(31, 119, 180, 0.8)",
             "rgba(31, 119, 180, 0.8)",
             "rgba(31, 119, 180, 0.8)",
             "rgba(31, 119, 180, 0.8)",
             "rgba(31, 119, 180, 0.8)",
             "rgba(31, 119, 180, 0.8)",
             "rgba(31, 119, 180, 0.8)",
             "rgba(31, 119, 180, 0.8)",
             "rgba(178, 34, 34, 0.8)",
             "rgba(178, 34, 34, 0.8)",
             "rgba(178, 34, 34, 0.8)",
             "rgba(178, 34, 34, 0.8)",
             "rgba(31, 119, 180, 0.8)",
             "rgba(31, 119, 180, 0.8)",
             "rgba(31, 119, 180, 0.8)",
             "rgba(178, 34, 34, 0.8)",
             "rgba(31, 119, 180, 0.8)",
             "rgba(178, 34, 34, 0.8)"
            ]
           },
           "name": "Trade P&L",
           "type": "bar",
           "x": {
            "bdata": "AAECAwQFBgcICQoLDA0ODxAREhMUFRYXGBkaGxwdHh8gISIjJCUmJygpKissLS4vMDEyMzQ1Njc4OTo7PD0+P0BBQkM=",
            "dtype": "i1"
           },
           "xaxis": "x2",
           "y": {
            "bdata": "mpmZmZmZuT9mJIA29L3bP2YoBte+wNE/mpmZmZmZuT8AAAAAAAAAAGaK9ERjB9M/AHi8hKrmqb+amZmZmZm5PzTLecrdq60/mlG68o7dsT+a8ScB/AK+P2bmSkSacdU/AHS7de/T0r+aFa8Oo67cvwDPrM1M7N8/AHEoVwBH0z/NxIilLxrKPzPQ4twGUOI/M4N5ghqYy78zpnlTtxDjP2Yy9UdkXvq/TU1O4pHq579mhsUy+ge2v03z01WjQOS/gCdaB1046b8AcpfJbF7YP4BVwgLU1eE/aGbk004Alj/Nq/JFdIzgv6CZqzZzsXI/GsUUANIJ8z8zU7qthD3nP80KNNbOosE/zdTT9ToTwT9NNaC0QK7svzOtKvBEr+Q/zEywV8+Hrb/NnByh3B3gv00tMFNEzOK/ZjKGQpY90D8zcZzMde7DvwCo1BxR39K/0EwZbQFHjD8AgJ1gwiWgP8zMNVx71qK/M4uWlENH4z9oJqrOEYKeP5qRefKdHbI/zd7JjzWTxD8AKplBhdfjv81s+b/5kM0/zb4LOxC0wT+amZmZmZm5PwAAAAAAAAAAzVT3uuGVwz+amZmZmZm5P81CXTdB0cc/AJCcv7RTlz8A0k2EI0rAv8DMSYTd72O/AIhccJISvr8AAJq8D3CHv818cpG9gcI/mpmZmZmZuT9ml8Ycc6PRPwCgPDW3v7u/NBNqo/hJpz8ArIfgXvrRvw==",
            "dtype": "f8"
           },
           "yaxis": "y2"
          },
          {
           "line": {
            "color": "rgba(60, 179, 113, 0.9)",
            "width": 2
           },
           "name": "Cumulative P&L",
           "type": "scatter",
           "x": {
            "bdata": "AAECAwQFBgcICQoLDA0ODxAREhMUFRYXGBkaGxwdHh8gISIjJCUmJygpKissLS4vMDEyMzQ1Njc4OTo7PD0+P0BBQkM=",
            "dtype": "i1"
           },
           "xaxis": "x2",
           "y": {
            "bdata": "AAAAAAAAAABmJIA29L3bP2Ymw4ZZv+Y/mVn2uYzy6T+ZWfa5jPLpP2ZPOC4fu/E/pmsS2unr8D9ABaxzg4XyP5rT/2HicvM/tHgrUbuQ9D/O9z0R63D2P2ixUKJRzfs/aNThxFUY9z8DHmwCWtnvP8JCoTTA5/c/Al9rSoC5/D+cdxw/xvz/P9vvxtZkkgRAqFefLuPYAkA1wX0DEZ0HQARQBr+92/Q/u1K+m+nM4T/cQ8uq1BfeP3xFuQHk0sS/33jIBxZt7r/fv/yi3z3iv8CXmg7oAoq/EDUumbX9gT/58o1vfUTgv8abIIkaH+C/bu4Id4n05T/QoGESB5n2PyoiKO1gzfg/xJziS8jv+j87BCXjTzHpP7fYp2lK8PY/UVbq7gsE9j/VD7g8O+rrPxDFD9PtO9I/u/vKCsI84T/cvkcvSYLYP3BbzEngi7Y/CoVvd8AUuj+FIt/T0BPBP6Reo/ljvLg/CPfKE9Be5j87SECi4FLnP256j2CUluk/IfKBxGG77j9CkNEFucfVP1Qj5/IaSOI/BxOqAR+15j86Rt00UujpPzpG3TRS6Ok/bRubo8rN7j9QJ2frfgDxP6rPUhKn+vM/6kFR5fVX9D+qh8d0sU7yP8RiBYa5RPI/RJr/XpBj8D9EZoY/sDTwP961tPHnhPI/eE9Oi4Ee9D9S9X9SXof4P1IrLN9iy/Y/7HtHpLKF9z/skCXsGgfzPw==",
            "dtype": "f8"
           },
           "yaxis": "y2"
          }
         ]
        },
        {
         "data": [
          {
           "line": {
            "color": "rgba(60, 179, 113, 0.9)",
            "dash": "dot",
            "width": 2
           },
           "name": "Mid Price (Estimated)",
           "type": "scatter",
           "x": {
            "bdata": "AAECAwQFBgcICQoLDA0ODxAREhMUFRYXGBkaGxwdHh8gISIjJCUmJygpKissLS4vMDEyMzQ1Njc4OTo7PD0+P0BBQkNE",
            "dtype": "i1"
           },
           "xaxis": "x",
           "y": {
            "bdata": "gNHvJb/4WEChxAdfE+5YQN8klwa54lhA9ltPBy3aWECPYPkixNVYQLPu1x9l4lhAJFeHSijfWEAJUu9IbOBYQDZpnDMd41hAH0XxtBTkWEDto2iXtuNYQK2xef0w3FhAZ4809ZrlWEA7QQajTPFYQPZcbImo5lhAe09PiTvgWED8N/Tckd5YQIq+FlWG2FhAZgQIE+TbWED8XSOkW9dYQGIlFKNX5VhAGbj1/xbtWEASG5QMlO5YQB0dcm5H9VhAlqRPG3z8WEAY2DLnAPlYQNsye2Ho81hA31eqLYn0WECxYqimLfpYQKWkbEEy+1hAQ17ERTvxWEB7vGWxOOxYQNKiiUPg61hAPOKwD4XrWECZA3SkRfhYQNyHlZuH71hArKawu+TyWECUzppDjfxYQH+7SZM3C1lAjLNSx8EIWUDfCmK0BwxZQGc1zvfND1lAzvRkAy8RWUDi71HVrRBZQEKUQueYE1lA6jDh1oQDWUCurCocAwhZQK+Qn5vyCFlALBF/36YHWUBId1U44RRZQCCsGC2wEFlAp4xhizwOWUBJuvxFHBtZQI4PysrpFVlASvpSQIUSWUAo/v8htRFZQGNGNVw3F1lALECBl6wYWUBDGb+FhxBZQMZhrmJADVlANVZgEH4JWUDNYyFQIAlZQKW2g8j6C1lAk3lUvcgOWUBiGZ6wiwNZQIpoa557CllAHGUUMjoMWUDyqIRhNxVZQDSGaOwvGFlA",
            "dtype": "f8"
           },
           "yaxis": "y"
          },
          {
           "line": {
            "color": "rgba(178, 34, 34, 0.9)",
            "width": 2
           },
           "name": "Bid",
           "type": "scatter",
           "x": {
            "bdata": "AAECAwQFBgcICQoLDA0ODxAREhMUFRYXGBkaGxwdHh8gISIjJCUmJygpKissLS4vMDEyMzQ1Njc4OTo7PD0+P0BBQkNE",
            "dtype": "i1"
           },
           "xaxis": "x",
           "y": {
            "bdata": "GmuJv1jyWEA7XqH4rOdYQHm+MKBS3FhAkPXooMbTWEAp+pK8Xc9YQE2Icbn+21hAvvAg5MHYWECj64jiBdpYQNACNs223FhAud6KTq7dWECHPQIxUN1YQEdLE5fK1VhAASnOjjTfWEDV2p885upYQJD2BSNC4FhAFenoItXZWECW0Y12K9hYQCRYsO4f0lhAAJ6hrH3VWECW97w99dBYQPy+rTzx3lhAs1GPmbDmWECstC2mLehYQLe2Cwjh7lhAMD7ptBX2WECyccyAmvJYQHXMFPuB7VhAefFDxyLuWEBL/EFAx/NYQD8+BtvL9FhA3fdd39TqWEAVVv9K0uVYQGw8I9155VhA1ntKqR7lWEAznQ0+3/FYQHYhLzUh6VhARkBKVX7sWEAuaDTdJvZYQBlV4yzRBFlAJk3sYFsCWUB5pPtNoQVZQAHPZ5FnCVlAaI7+nMgKWUB8ietuRwpZQNwt3IAyDVlAhMp6cB79WEBIRsS1nAFZQEkqOTWMAllAxqoYeUABWUDiEO/Reg5ZQLpFssZJCllAQSb7JNYHWUDjU5bftRRZQCipY2SDD1lA5JPs2R4MWUDCl5m7TgtZQP3fzvXQEFlAxtkaMUYSWUDdslgfIQpZQGD7R/zZBllAz+/5qRcDWUBn/brpuQJZQD9QHWKUBVlALRPuVmIIWUD8sjdKJf1YQCQCBTgVBFlAtv6ty9MFWUCMQh770A5ZQM4fAobJEVlA",
            "dtype": "f8"
           },
           "yaxis": "y"
          },
          {
           "line": {
            "color": "rgba(70, 130, 180, 0.9)",
            "width": 2
           },
           "name": "Ask",
           "type": "scatter",
           "x": {
            "bdata": "AAECAwQFBgcICQoLDA0ODxAREhMUFRYXGBkaGxwdHh8gISIjJCUmJygpKissLS4vMDEyMzQ1Njc4OTo7PD0+P0BBQkNE",
            "dtype": "i1"
           },
           "xaxis": "x",
           "y": {
            "bdata": "5jdWjCX/WEAHK27FefRYQEWL/Wwf6VhAXMK1bZPgWED1xl+JKtxYQBlVPobL6FhAir3tsI7lWEBvuFWv0uZYQJzPApqD6VhAhatXG3vqWEBTCs/9HOpYQBMY4GOX4lhAzfWaWwHsWEChp2wJs/dYQFzD0u8O7VhA4bW176HmWEBinlpD+ORYQPAkfbvs3lhAzGpueUriWEBixIkKwt1YQMiLegm+61hAfx5cZn3zWEB4gfpy+vRYQIOD2NSt+1hA/Aq2geICWUB+PplNZ/9YQEGZ4cdO+lhARb4QlO/6WEAXyQ4NlABZQAsL06eYAVlAqcQqrKH3WEDhIswXn/JYQDgJ8KlG8lhAokgXduvxWED/adoKrP5YQELu+wHu9VhAEg0XIkv5WED6NAGq8wJZQOUhsPmdEVlA8hm5LSgPWUBFccgabhJZQM2bNF40FllANFvLaZUXWUBIVrg7FBdZQKj6qE3/GVlAUJdHPesJWUAUE5GCaQ5ZQBX3BQJZD1lAknflRQ0OWUCu3bueRxtZQIYSf5MWF1lADfPH8aIUWUCvIGOsgiFZQPR1MDFQHFlAsGC5pusYWUCOZGaIGxhZQMmsm8KdHVlAkqbn/RIfWUCpfyXs7RZZQCzIFMmmE1lAm7zGduQPWUAzyoe2hg9ZQAsd6i5hEllA+d+6Iy8VWUDIfwQX8glZQPDO0QTiEFlAgst6mKASWUBYD+vHnRtZQJrszlKWHllA",
            "dtype": "f8"
           },
           "yaxis": "y"
          },
          {
           "marker": {
            "color": [
             "rgba(31, 119, 180, 0.8)",
             "rgba(31, 119, 180, 0.8)",
             "rgba(31, 119, 180, 0.8)",
             "rgba(31, 119, 180, 0.8)",
             "rgba(31, 119, 180, 0.8)",
             "rgba(31, 119, 180, 0.8)",
             "rgba(178, 34, 34, 0.8)",
             "rgba(31, 119, 180, 0.8)",
             "rgba(31, 119, 180, 0.8)",
             "rgba(31, 119, 180, 0.8)",
             "rgba(31, 119, 180, 0.8)",
             "rgba(31, 119, 180, 0.8)",
             "rgba(178, 34, 34, 0.8)",
             "rgba(178, 34, 34, 0.8)",
             "rgba(31, 119, 180, 0.8)",
             "rgba(31, 119, 180, 0.8)",
             "rgba(31, 119, 180, 0.8)",
             "rgba(31, 119, 180, 0.8)",
             "rgba(178, 34, 34, 0.8)",
             "rgba(31, 119, 180, 0.8)",
             "rgba(178, 34, 34, 0.8)",
             "rgba(178, 34, 34, 0.8)",
             "rgba(178, 34, 34, 0.8)",
             "rgba(178, 34, 34, 0.8)",
             "rgba(178, 34, 34, 0.8)",
             "rgba(31, 119, 180, 0.8)",
             "rgba(31, 119, 180, 0.8)",
             "rgba(31, 119, 180, 0.8)",
             "rgba(178, 34, 34, 0.8)",
             "rgba(31, 119, 180, 0.8)",
             "rgba(31, 119, 180, 0.8)",
             "rgba(31, 119, 180, 0.8)",
             "rgba(31, 119, 180, 0.8)",
             "rgba(31, 119, 180, 0.8)",
             "rgba(178, 34, 34, 0.8)",
             "rgba(31, 119, 180, 0.8)",
             "rgba(178, 34, 34, 0.8)",
             "rgba(178, 34, 34, 0.8)",
             "rgba(178, 34, 34, 0.8)",
             "rgba(31, 119, 180, 0.8)",
             "rgba(178, 34, 34, 0.8)",
             "rgba(178, 34, 34, 0.8)",
             "rgba(31, 119, 180, 0.8)",
             "rgba(31, 119, 180, 0.8)",
             "rgba(178, 34, 34, 0.8)",
             "rgba(31, 119, 180, 0.8)",
             "rgba(31, 119, 180, 0.8)",
             "rgba(31, 119, 180, 0.8)",
             "rgba(31, 119, 180, 0.8)",
             "rgba(178, 34, 34, 0.8)",
             "rgba(31, 119, 180, 0.8)",
             "rgba(31, 119, 180, 0.8)",
             "rgba(31, 119, 180, 0.8)",
             "rgba(31, 119, 180, 0.8)",
             "rgba(31, 119, 180, 0.8)",
             "rgba(31, 119, 180, 0.8)",
             "rgba(31, 119, 180, 0.8)",
             "rgba(31, 119, 180, 0.8)",
             "rgba(178, 34, 34, 0.8)",
             "rgba(178, 34, 34, 0.8)",
             "rgba(178, 34, 34, 0.8)",
             "rgba(178, 34, 34, 0.8)",
             "rgba(31, 119, 180, 0.8)",
             "rgba(31, 119, 180, 0.8)",
             "rgba(31, 119, 180, 0.8)",
             "rgba(178, 34, 34, 0.8)",
             "rgba(31, 119, 180, 0.8)",
             "rgba(178, 34, 34, 0.8)",
             "rgba(178, 34, 34, 0.8)"
            ]
           },
           "name": "Trade P&L",
           "type": "bar",
           "x": {
            "bdata": "AAECAwQFBgcICQoLDA0ODxAREhMUFRYXGBkaGxwdHh8gISIjJCUmJygpKissLS4vMDEyMzQ1Njc4OTo7PD0+P0BBQkNE",
            "dtype": "i1"
           },
           "xaxis": "x2",
           "y": {
            "bdata": "mpmZmZmZuT9mJIA29L3bP2YoBte+wNE/mpmZmZmZuT8AAAAAAAAAAGaK9ERjB9M/AHi8hKrmqb+amZmZmZm5PzTLecrdq60/mlG68o7dsT+a8ScB/AK+P2bmSkSacdU/AHS7de/T0r+aFa8Oo67cvwDPrM1M7N8/AHEoVwBH0z/NxIilLxrKPzPQ4twGUOI/M4N5ghqYy78zpnlTtxDjP2Yy9UdkXvq/TU1O4pHq579mhsUy+ge2v03z01WjQOS/gCdaB1046b8AcpfJbF7YP4BVwgLU1eE/aGbk004Alj/Nq/JFdIzgv6CZqzZzsXI/GsUUANIJ8z8zU7qthD3nP80KNNbOosE/zdTT9ToTwT9NNaC0QK7svzOtKvBEr+Q/zEywV8+Hrb/NnByh3B3gv00tMFNEzOK/ZjKGQpY90D8zcZzMde7DvwCo1BxR39K/0EwZbQFHjD8AgJ1gwiWgP8zMNVx71qK/M4uWlENH4z9oJqrOEYKeP5qRefKdHbI/zd7JjzWTxD8AKplBhdfjv81s+b/5kM0/zb4LOxC0wT+amZmZmZm5PwAAAAAAAAAAzVT3uuGVwz+amZmZmZm5P81CXTdB0cc/AJCcv7RTlz8A0k2EI0rAv8DMSYTd72O/AIhccJISvr8AAJq8D3CHv818cpG9gcI/mpmZmZmZuT9ml8Ycc6PRPwCgPDW3v7u/NBNqo/hJpz8ArIfgXvrRv8z8iinSGaS/",
            "dtype": "f8"
           },
           "yaxis": "y2"
          },
          {
           "line": {
            "color": "rgba(60, 179, 113, 0.9)",
            "width": 2
           },
           "name": "Cumulative P&L",
           "type": "scatter",
           "x": {
            "bdata": "AAECAwQFBgcICQoLDA0ODxAREhMUFRYXGBkaGxwdHh8gISIjJCUmJygpKissLS4vMDEyMzQ1Njc4OTo7PD0+P0BBQkNE",
            "dtype": "i1"
           },
           "xaxis": "x2",
           "y": {
            "bdata": "AAAAAAAAAABmJIA29L3bP2Ymw4ZZv+Y/mVn2uYzy6T+ZWfa5jPLpP2ZPOC4fu/E/pmsS2unr8D9ABaxzg4XyP5rT/2HicvM/tHgrUbuQ9D/O9z0R63D2P2ixUKJRzfs/aNThxFUY9z8DHmwCWtnvP8JCoTTA5/c/Al9rSoC5/D+cdxw/xvz/P9vvxtZkkgRAqFefLuPYAkA1wX0DEZ0HQARQBr+92/Q/u1K+m+nM4T/cQ8uq1BfeP3xFuQHk0sS/33jIBxZt7r/fv/yi3z3iv8CXmg7oAoq/EDUumbX9gT/58o1vfUTgv8abIIkaH+C/bu4Id4n05T/QoGESB5n2PyoiKO1gzfg/xJziS8jv+j87BCXjTzHpP7fYp2lK8PY/UVbq7gsE9j/VD7g8O+rrPxDFD9PtO9I/u/vKCsI84T/cvkcvSYLYP3BbzEngi7Y/CoVvd8AUuj+FIt/T0BPBP6Reo/ljvLg/CPfKE9Be5j87SECi4FLnP256j2CUluk/IfKBxGG77j9CkNEFucfVP1Qj5/IaSOI/BxOqAR+15j86Rt00UujpPzpG3TRS6Ok/bRubo8rN7j9QJ2frfgDxP6rPUhKn+vM/6kFR5fVX9D+qh8d0sU7yP8RiBYa5RPI/RJr/XpBj8D9EZoY/sDTwP961tPHnhPI/eE9Oi4Ee9D9S9X9SXof4P1IrLN9iy/Y/7HtHpLKF9z/skCXsGgfzPwY52VpMZvI/",
            "dtype": "f8"
           },
           "yaxis": "y2"
          }
         ]
        },
        {
         "data": [
          {
           "line": {
            "color": "rgba(60, 179, 113, 0.9)",
            "dash": "dot",
            "width": 2
           },
           "name": "Mid Price (Estimated)",
           "type": "scatter",
           "x": {
            "bdata": "AAECAwQFBgcICQoLDA0ODxAREhMUFRYXGBkaGxwdHh8gISIjJCUmJygpKissLS4vMDEyMzQ1Njc4OTo7PD0+P0BBQkNERQ==",
            "dtype": "i1"
           },
           "xaxis": "x",
           "y": {
            "bdata": "gNHvJb/4WEChxAdfE+5YQN8klwa54lhA9ltPBy3aWECPYPkixNVYQLPu1x9l4lhAJFeHSijfWEAJUu9IbOBYQDZpnDMd41hAH0XxtBTkWEDto2iXtuNYQK2xef0w3FhAZ4809ZrlWEA7QQajTPFYQPZcbImo5lhAe09PiTvgWED8N/Tckd5YQIq+FlWG2FhAZgQIE+TbWED8XSOkW9dYQGIlFKNX5VhAGbj1/xbtWEASG5QMlO5YQB0dcm5H9VhAlqRPG3z8WEAY2DLnAPlYQNsye2Ho81hA31eqLYn0WECxYqimLfpYQKWkbEEy+1hAQ17ERTvxWEB7vGWxOOxYQNKiiUPg61hAPOKwD4XrWECZA3SkRfhYQNyHlZuH71hArKawu+TyWECUzppDjfxYQH+7SZM3C1lAjLNSx8EIWUDfCmK0BwxZQGc1zvfND1lAzvRkAy8RWUDi71HVrRBZQEKUQueYE1lA6jDh1oQDWUCurCocAwhZQK+Qn5vyCFlALBF/36YHWUBId1U44RRZQCCsGC2wEFlAp4xhizwOWUBJuvxFHBtZQI4PysrpFVlASvpSQIUSWUAo/v8htRFZQGNGNVw3F1lALECBl6wYWUBDGb+FhxBZQMZhrmJADVlANVZgEH4JWUDNYyFQIAlZQKW2g8j6C1lAk3lUvcgOWUBiGZ6wiwNZQIpoa557CllAHGUUMjoMWUDyqIRhNxVZQDSGaOwvGFlARVFYGV0fWUA=",
            "dtype": "f8"
           },
           "yaxis": "y"
          },
          {
           "line": {
            "color": "rgba(178, 34, 34, 0.9)",
            "width": 2
           },
           "name": "Bid",
           "type": "scatter",
           "x": {
            "bdata": "AAECAwQFBgcICQoLDA0ODxAREhMUFRYXGBkaGxwdHh8gISIjJCUmJygpKissLS4vMDEyMzQ1Njc4OTo7PD0+P0BBQkNERQ==",
            "dtype": "i1"
           },
           "xaxis": "x",
           "y": {
            "bdata": "GmuJv1jyWEA7XqH4rOdYQHm+MKBS3FhAkPXooMbTWEAp+pK8Xc9YQE2Icbn+21hAvvAg5MHYWECj64jiBdpYQNACNs223FhAud6KTq7dWECHPQIxUN1YQEdLE5fK1VhAASnOjjTfWEDV2p885upYQJD2BSNC4FhAFenoItXZWECW0Y12K9hYQCRYsO4f0lhAAJ6hrH3VWECW97w99dBYQPy+rTzx3lhAs1GPmbDmWECstC2mLehYQLe2Cwjh7lhAMD7ptBX2WECyccyAmvJYQHXMFPuB7VhAefFDxyLuWEBL/EFAx/NYQD8+BtvL9FhA3fdd39TqWEAVVv9K0uVYQGw8I9155VhA1ntKqR7lWEAznQ0+3/FYQHYhLzUh6VhARkBKVX7sWEAuaDTdJvZYQBlV4yzRBFlAJk3sYFsCWUB5pPtNoQVZQAHPZ5FnCVlAaI7+nMgKWUB8ietuRwpZQNwt3IAyDVlAhMp6cB79WEBIRsS1nAFZQEkqOTWMAllAxqoYeUABWUDiEO/Reg5ZQLpFssZJCllAQSb7JNYHWUDjU5bftRRZQCipY2SDD1lA5JPs2R4MWUDCl5m7TgtZQP3fzvXQEFlAxtkaMUYSWUDdslgfIQpZQGD7R/zZBllAz+/5qRcDWUBn/brpuQJZQD9QHWKUBVlALRPuVmIIWUD8sjdKJf1YQCQCBTgVBFlAtv6ty9MFWUCMQh770A5ZQM4fAobJEVlA3+rxsvYYWUA=",
            "dtype": "f8"
           },
           "yaxis": "y"
          },
          {
           "line": {
            "color": "rgba(70, 130, 180, 0.9)",
            "width": 2
           },
           "name": "Ask",
           "type": "scatter",
           "x": {
            "bdata": "AAECAwQFBgcICQoLDA0ODxAREhMUFRYXGBkaGxwdHh8gISIjJCUmJygpKissLS4vMDEyMzQ1Njc4OTo7PD0+P0BBQkNERQ==",
            "dtype": "i1"
           },
           "xaxis": "x",
           "y": {
            "bdata": "5jdWjCX/WEAHK27FefRYQEWL/Wwf6VhAXMK1bZPgWED1xl+JKtxYQBlVPobL6FhAir3tsI7lWEBvuFWv0uZYQJzPApqD6VhAhatXG3vqWEBTCs/9HOpYQBMY4GOX4lhAzfWaWwHsWEChp2wJs/dYQFzD0u8O7VhA4bW176HmWEBinlpD+ORYQPAkfbvs3lhAzGpueUriWEBixIkKwt1YQMiLegm+61hAfx5cZn3zWEB4gfpy+vRYQIOD2NSt+1hA/Aq2geICWUB+PplNZ/9YQEGZ4cdO+lhARb4QlO/6WEAXyQ4NlABZQAsL06eYAVlAqcQqrKH3WEDhIswXn/JYQDgJ8KlG8lhAokgXduvxWED/adoKrP5YQELu+wHu9VhAEg0XIkv5WED6NAGq8wJZQOUhsPmdEVlA8hm5LSgPWUBFccgabhJZQM2bNF40FllANFvLaZUXWUBIVrg7FBdZQKj6qE3/GVlAUJdHPesJWUAUE5GCaQ5ZQBX3BQJZD1lAknflRQ0OWUCu3bueRxtZQIYSf5MWF1lADfPH8aIUWUCvIGOsgiFZQPR1MDFQHFlAsGC5pusYWUCOZGaIGxhZQMmsm8KdHVlAkqbn/RIfWUCpfyXs7RZZQCzIFMmmE1lAm7zGduQPWUAzyoe2hg9ZQAsd6i5hEllA+d+6Iy8VWUDIfwQX8glZQPDO0QTiEFlAgst6mKASWUBYD+vHnRtZQJrszlKWHllAq7e+f8MlWUA=",
            "dtype": "f8"
           },
           "yaxis": "y"
          },
          {
           "marker": {
            "color": [
             "rgba(31, 119, 180, 0.8)",
             "rgba(31, 119, 180, 0.8)",
             "rgba(31, 119, 180, 0.8)",
             "rgba(31, 119, 180, 0.8)",
             "rgba(31, 119, 180, 0.8)",
             "rgba(31, 119, 180, 0.8)",
             "rgba(178, 34, 34, 0.8)",
             "rgba(31, 119, 180, 0.8)",
             "rgba(31, 119, 180, 0.8)",
             "rgba(31, 119, 180, 0.8)",
             "rgba(31, 119, 180, 0.8)",
             "rgba(31, 119, 180, 0.8)",
             "rgba(178, 34, 34, 0.8)",
             "rgba(178, 34, 34, 0.8)",
             "rgba(31, 119, 180, 0.8)",
             "rgba(31, 119, 180, 0.8)",
             "rgba(31, 119, 180, 0.8)",
             "rgba(31, 119, 180, 0.8)",
             "rgba(178, 34, 34, 0.8)",
             "rgba(31, 119, 180, 0.8)",
             "rgba(178, 34, 34, 0.8)",
             "rgba(178, 34, 34, 0.8)",
             "rgba(178, 34, 34, 0.8)",
             "rgba(178, 34, 34, 0.8)",
             "rgba(178, 34, 34, 0.8)",
             "rgba(31, 119, 180, 0.8)",
             "rgba(31, 119, 180, 0.8)",
             "rgba(31, 119, 180, 0.8)",
             "rgba(178, 34, 34, 0.8)",
             "rgba(31, 119, 180, 0.8)",
             "rgba(31, 119, 180, 0.8)",
             "rgba(31, 119, 180, 0.8)",
             "rgba(31, 119, 180, 0.8)",
             "rgba(31, 119, 180, 0.8)",
             "rgba(178, 34, 34, 0.8)",
             "rgba(31, 119, 180, 0.8)",
             "rgba(178, 34, 34, 0.8)",
             "rgba(178, 34, 34, 0.8)",
             "rgba(178, 34, 34, 0.8)",
             "rgba(31, 119, 180, 0.8)",
             "rgba(178, 34, 34, 0.8)",
             "rgba(178, 34, 34, 0.8)",
             "rgba(31, 119, 180, 0.8)",
             "rgba(31, 119, 180, 0.8)",
             "rgba(178, 34, 34, 0.8)",
             "rgba(31, 119, 180, 0.8)",
             "rgba(31, 119, 180, 0.8)",
             "rgba(31, 119, 180, 0.8)",
             "rgba(31, 119, 180, 0.8)",
             "rgba(178, 34, 34, 0.8)",
             "rgba(31, 119, 180, 0.8)",
             "rgba(31, 119, 180, 0.8)",
             "rgba(31, 119, 180, 0.8)",
             "rgba(31, 119, 180, 0.8)",
             "rgba(31, 119, 180, 0.8)",
             "rgba(31, 119, 180, 0.8)",
             "rgba(31, 119, 180, 0.8)",
             "rgba(31, 119, 180, 0.8)",
             "rgba(178, 34, 34, 0.8)",
             "rgba(178, 34, 34, 0.8)",
             "rgba(178, 34, 34, 0.8)",
             "rgba(178, 34, 34, 0.8)",
             "rgba(31, 119, 180, 0.8)",
             "rgba(31, 119, 180, 0.8)",
             "rgba(31, 119, 180, 0.8)",
             "rgba(178, 34, 34, 0.8)",
             "rgba(31, 119, 180, 0.8)",
             "rgba(178, 34, 34, 0.8)",
             "rgba(178, 34, 34, 0.8)",
             "rgba(178, 34, 34, 0.8)"
            ]
           },
           "name": "Trade P&L",
           "type": "bar",
           "x": {
            "bdata": "AAECAwQFBgcICQoLDA0ODxAREhMUFRYXGBkaGxwdHh8gISIjJCUmJygpKissLS4vMDEyMzQ1Njc4OTo7PD0+P0BBQkNERQ==",
            "dtype": "i1"
           },
           "xaxis": "x2",
           "y": {
            "bdata": "mpmZmZmZuT9mJIA29L3bP2YoBte+wNE/mpmZmZmZuT8AAAAAAAAAAGaK9ERjB9M/AHi8hKrmqb+amZmZmZm5PzTLecrdq60/mlG68o7dsT+a8ScB/AK+P2bmSkSacdU/AHS7de/T0r+aFa8Oo67cvwDPrM1M7N8/AHEoVwBH0z/NxIilLxrKPzPQ4twGUOI/M4N5ghqYy78zpnlTtxDjP2Yy9UdkXvq/TU1O4pHq579mhsUy+ge2v03z01WjQOS/gCdaB1046b8AcpfJbF7YP4BVwgLU1eE/aGbk004Alj/Nq/JFdIzgv6CZqzZzsXI/GsUUANIJ8z8zU7qthD3nP80KNNbOosE/zdTT9ToTwT9NNaC0QK7svzOtKvBEr+Q/zEywV8+Hrb/NnByh3B3gv00tMFNEzOK/ZjKGQpY90D8zcZzMde7DvwCo1BxR39K/0EwZbQFHjD8AgJ1gwiWgP8zMNVx71qK/M4uWlENH4z9oJqrOEYKeP5qRefKdHbI/zd7JjzWTxD8AKplBhdfjv81s+b/5kM0/zb4LOxC0wT+amZmZmZm5PwAAAAAAAAAAzVT3uuGVwz+amZmZmZm5P81CXTdB0cc/AJCcv7RTlz8A0k2EI0rAv8DMSYTd72O/AIhccJISvr8AAJq8D3CHv818cpG9gcI/mpmZmZmZuT9ml8Ycc6PRPwCgPDW3v7u/NBNqo/hJpz8ArIfgXvrRv8z8iinSGaS/ADNhz4aH1b8=",
            "dtype": "f8"
           },
           "yaxis": "y2"
          },
          {
           "line": {
            "color": "rgba(60, 179, 113, 0.9)",
            "width": 2
           },
           "name": "Cumulative P&L",
           "type": "scatter",
           "x": {
            "bdata": "AAECAwQFBgcICQoLDA0ODxAREhMUFRYXGBkaGxwdHh8gISIjJCUmJygpKissLS4vMDEyMzQ1Njc4OTo7PD0+P0BBQkNERQ==",
            "dtype": "i1"
           },
           "xaxis": "x2",
           "y": {
            "bdata": "AAAAAAAAAABmJIA29L3bP2Ymw4ZZv+Y/mVn2uYzy6T+ZWfa5jPLpP2ZPOC4fu/E/pmsS2unr8D9ABaxzg4XyP5rT/2HicvM/tHgrUbuQ9D/O9z0R63D2P2ixUKJRzfs/aNThxFUY9z8DHmwCWtnvP8JCoTTA5/c/Al9rSoC5/D+cdxw/xvz/P9vvxtZkkgRAqFefLuPYAkA1wX0DEZ0HQARQBr+92/Q/u1K+m+nM4T/cQ8uq1BfeP3xFuQHk0sS/33jIBxZt7r/fv/yi3z3iv8CXmg7oAoq/EDUumbX9gT/58o1vfUTgv8abIIkaH+C/bu4Id4n05T/QoGESB5n2PyoiKO1gzfg/xJziS8jv+j87BCXjTzHpP7fYp2lK8PY/UVbq7gsE9j/VD7g8O+rrPxDFD9PtO9I/u/vKCsI84T/cvkcvSYLYP3BbzEngi7Y/CoVvd8AUuj+FIt/T0BPBP6Reo/ljvLg/CPfKE9Be5j87SECi4FLnP256j2CUluk/IfKBxGG77j9CkNEFucfVP1Qj5/IaSOI/BxOqAR+15j86Rt00UujpPzpG3TRS6Ok/bRubo8rN7j9QJ2frfgDxP6rPUhKn+vM/6kFR5fVX9D+qh8d0sU7yP8RiBYa5RPI/RJr/XpBj8D9EZoY/sDTwP961tPHnhPI/eE9Oi4Ee9D9S9X9SXof4P1IrLN9iy/Y/7HtHpLKF9z/skCXsGgfzPwY52VpMZvI/jNgBTtUI6j8=",
            "dtype": "f8"
           },
           "yaxis": "y2"
          }
         ]
        },
        {
         "data": [
          {
           "line": {
            "color": "rgba(60, 179, 113, 0.9)",
            "dash": "dot",
            "width": 2
           },
           "name": "Mid Price (Estimated)",
           "type": "scatter",
           "x": {
            "bdata": "AAECAwQFBgcICQoLDA0ODxAREhMUFRYXGBkaGxwdHh8gISIjJCUmJygpKissLS4vMDEyMzQ1Njc4OTo7PD0+P0BBQkNERUY=",
            "dtype": "i1"
           },
           "xaxis": "x",
           "y": {
            "bdata": "gNHvJb/4WEChxAdfE+5YQN8klwa54lhA9ltPBy3aWECPYPkixNVYQLPu1x9l4lhAJFeHSijfWEAJUu9IbOBYQDZpnDMd41hAH0XxtBTkWEDto2iXtuNYQK2xef0w3FhAZ4809ZrlWEA7QQajTPFYQPZcbImo5lhAe09PiTvgWED8N/Tckd5YQIq+FlWG2FhAZgQIE+TbWED8XSOkW9dYQGIlFKNX5VhAGbj1/xbtWEASG5QMlO5YQB0dcm5H9VhAlqRPG3z8WEAY2DLnAPlYQNsye2Ho81hA31eqLYn0WECxYqimLfpYQKWkbEEy+1hAQ17ERTvxWEB7vGWxOOxYQNKiiUPg61hAPOKwD4XrWECZA3SkRfhYQNyHlZuH71hArKawu+TyWECUzppDjfxYQH+7SZM3C1lAjLNSx8EIWUDfCmK0BwxZQGc1zvfND1lAzvRkAy8RWUDi71HVrRBZQEKUQueYE1lA6jDh1oQDWUCurCocAwhZQK+Qn5vyCFlALBF/36YHWUBId1U44RRZQCCsGC2wEFlAp4xhizwOWUBJuvxFHBtZQI4PysrpFVlASvpSQIUSWUAo/v8htRFZQGNGNVw3F1lALECBl6wYWUBDGb+FhxBZQMZhrmJADVlANVZgEH4JWUDNYyFQIAlZQKW2g8j6C1lAk3lUvcgOWUBiGZ6wiwNZQIpoa557CllAHGUUMjoMWUDyqIRhNxVZQDSGaOwvGFlARVFYGV0fWUDAVT1BeiJZQA==",
            "dtype": "f8"
           },
           "yaxis": "y"
          },
          {
           "line": {
            "color": "rgba(178, 34, 34, 0.9)",
            "width": 2
           },
           "name": "Bid",
           "type": "scatter",
           "x": {
            "bdata": "AAECAwQFBgcICQoLDA0ODxAREhMUFRYXGBkaGxwdHh8gISIjJCUmJygpKissLS4vMDEyMzQ1Njc4OTo7PD0+P0BBQkNERUY=",
            "dtype": "i1"
           },
           "xaxis": "x",
           "y": {
            "bdata": "GmuJv1jyWEA7XqH4rOdYQHm+MKBS3FhAkPXooMbTWEAp+pK8Xc9YQE2Icbn+21hAvvAg5MHYWECj64jiBdpYQNACNs223FhAud6KTq7dWECHPQIxUN1YQEdLE5fK1VhAASnOjjTfWEDV2p885upYQJD2BSNC4FhAFenoItXZWECW0Y12K9hYQCRYsO4f0lhAAJ6hrH3VWECW97w99dBYQPy+rTzx3lhAs1GPmbDmWECstC2mLehYQLe2Cwjh7lhAMD7ptBX2WECyccyAmvJYQHXMFPuB7VhAefFDxyLuWEBL/EFAx/NYQD8+BtvL9FhA3fdd39TqWEAVVv9K0uVYQGw8I9155VhA1ntKqR7lWEAznQ0+3/FYQHYhLzUh6VhARkBKVX7sWEAuaDTdJvZYQBlV4yzRBFlAJk3sYFsCWUB5pPtNoQVZQAHPZ5FnCVlAaI7+nMgKWUB8ietuRwpZQNwt3IAyDVlAhMp6cB79WEBIRsS1nAFZQEkqOTWMAllAxqoYeUABWUDiEO/Reg5ZQLpFssZJCllAQSb7JNYHWUDjU5bftRRZQCipY2SDD1lA5JPs2R4MWUDCl5m7TgtZQP3fzvXQEFlAxtkaMUYSWUDdslgfIQpZQGD7R/zZBllAz+/5qRcDWUBn/brpuQJZQD9QHWKUBVlALRPuVmIIWUD8sjdKJf1YQCQCBTgVBFlAtv6ty9MFWUCMQh770A5ZQM4fAobJEVlA3+rxsvYYWUBa79baExxZQA==",
            "dtype": "f8"
           },
           "yaxis": "y"
          },
          {
           "line": {
            "color": "rgba(70, 130, 180, 0.9)",
            "width": 2
           },
           "name": "Ask",
           "type": "scatter",
           "x": {
            "bdata": "AAECAwQFBgcICQoLDA0ODxAREhMUFRYXGBkaGxwdHh8gISIjJCUmJygpKissLS4vMDEyMzQ1Njc4OTo7PD0+P0BBQkNERUY=",
            "dtype": "i1"
           },
           "xaxis": "x",
           "y": {
            "bdata": "5jdWjCX/WEAHK27FefRYQEWL/Wwf6VhAXMK1bZPgWED1xl+JKtxYQBlVPobL6FhAir3tsI7lWEBvuFWv0uZYQJzPApqD6VhAhatXG3vqWEBTCs/9HOpYQBMY4GOX4lhAzfWaWwHsWEChp2wJs/dYQFzD0u8O7VhA4bW176HmWEBinlpD+ORYQPAkfbvs3lhAzGpueUriWEBixIkKwt1YQMiLegm+61hAfx5cZn3zWEB4gfpy+vRYQIOD2NSt+1hA/Aq2geICWUB+PplNZ/9YQEGZ4cdO+lhARb4QlO/6WEAXyQ4NlABZQAsL06eYAVlAqcQqrKH3WEDhIswXn/JYQDgJ8KlG8lhAokgXduvxWED/adoKrP5YQELu+wHu9VhAEg0XIkv5WED6NAGq8wJZQOUhsPmdEVlA8hm5LSgPWUBFccgabhJZQM2bNF40FllANFvLaZUXWUBIVrg7FBdZQKj6qE3/GVlAUJdHPesJWUAUE5GCaQ5ZQBX3BQJZD1lAknflRQ0OWUCu3bueRxtZQIYSf5MWF1lADfPH8aIUWUCvIGOsgiFZQPR1MDFQHFlAsGC5pusYWUCOZGaIGxhZQMmsm8KdHVlAkqbn/RIfWUCpfyXs7RZZQCzIFMmmE1lAm7zGduQPWUAzyoe2hg9ZQAsd6i5hEllA+d+6Iy8VWUDIfwQX8glZQPDO0QTiEFlAgst6mKASWUBYD+vHnRtZQJrszlKWHllAq7e+f8MlWUAmvKOn4ChZQA==",
            "dtype": "f8"
           },
           "yaxis": "y"
          },
          {
           "marker": {
            "color": [
             "rgba(31, 119, 180, 0.8)",
             "rgba(31, 119, 180, 0.8)",
             "rgba(31, 119, 180, 0.8)",
             "rgba(31, 119, 180, 0.8)",
             "rgba(31, 119, 180, 0.8)",
             "rgba(31, 119, 180, 0.8)",
             "rgba(178, 34, 34, 0.8)",
             "rgba(31, 119, 180, 0.8)",
             "rgba(31, 119, 180, 0.8)",
             "rgba(31, 119, 180, 0.8)",
             "rgba(31, 119, 180, 0.8)",
             "rgba(31, 119, 180, 0.8)",
             "rgba(178, 34, 34, 0.8)",
             "rgba(178, 34, 34, 0.8)",
             "rgba(31, 119, 180, 0.8)",
             "rgba(31, 119, 180, 0.8)",
             "rgba(31, 119, 180, 0.8)",
             "rgba(31, 119, 180, 0.8)",
             "rgba(178, 34, 34, 0.8)",
             "rgba(31, 119, 180, 0.8)",
             "rgba(178, 34, 34, 0.8)",
             "rgba(178, 34, 34, 0.8)",
             "rgba(178, 34, 34, 0.8)",
             "rgba(178, 34, 34, 0.8)",
             "rgba(178, 34, 34, 0.8)",
             "rgba(31, 119, 180, 0.8)",
             "rgba(31, 119, 180, 0.8)",
             "rgba(31, 119, 180, 0.8)",
             "rgba(178, 34, 34, 0.8)",
             "rgba(31, 119, 180, 0.8)",
             "rgba(31, 119, 180, 0.8)",
             "rgba(31, 119, 180, 0.8)",
             "rgba(31, 119, 180, 0.8)",
             "rgba(31, 119, 180, 0.8)",
             "rgba(178, 34, 34, 0.8)",
             "rgba(31, 119, 180, 0.8)",
             "rgba(178, 34, 34, 0.8)",
             "rgba(178, 34, 34, 0.8)",
             "rgba(178, 34, 34, 0.8)",
             "rgba(31, 119, 180, 0.8)",
             "rgba(178, 34, 34, 0.8)",
             "rgba(178, 34, 34, 0.8)",
             "rgba(31, 119, 180, 0.8)",
             "rgba(31, 119, 180, 0.8)",
             "rgba(178, 34, 34, 0.8)",
             "rgba(31, 119, 180, 0.8)",
             "rgba(31, 119, 180, 0.8)",
             "rgba(31, 119, 180, 0.8)",
             "rgba(31, 119, 180, 0.8)",
             "rgba(178, 34, 34, 0.8)",
             "rgba(31, 119, 180, 0.8)",
             "rgba(31, 119, 180, 0.8)",
             "rgba(31, 119, 180, 0.8)",
             "rgba(31, 119, 180, 0.8)",
             "rgba(31, 119, 180, 0.8)",
             "rgba(31, 119, 180, 0.8)",
             "rgba(31, 119, 180, 0.8)",
             "rgba(31, 119, 180, 0.8)",
             "rgba(178, 34, 34, 0.8)",
             "rgba(178, 34, 34, 0.8)",
             "rgba(178, 34, 34, 0.8)",
             "rgba(178, 34, 34, 0.8)",
             "rgba(31, 119, 180, 0.8)",
             "rgba(31, 119, 180, 0.8)",
             "rgba(31, 119, 180, 0.8)",
             "rgba(178, 34, 34, 0.8)",
             "rgba(31, 119, 180, 0.8)",
             "rgba(178, 34, 34, 0.8)",
             "rgba(178, 34, 34, 0.8)",
             "rgba(178, 34, 34, 0.8)",
             "rgba(178, 34, 34, 0.8)"
            ]
           },
           "name": "Trade P&L",
           "type": "bar",
           "x": {
            "bdata": "AAECAwQFBgcICQoLDA0ODxAREhMUFRYXGBkaGxwdHh8gISIjJCUmJygpKissLS4vMDEyMzQ1Njc4OTo7PD0+P0BBQkNERUY=",
            "dtype": "i1"
           },
           "xaxis": "x2",
           "y": {
            "bdata": "mpmZmZmZuT9mJIA29L3bP2YoBte+wNE/mpmZmZmZuT8AAAAAAAAAAGaK9ERjB9M/AHi8hKrmqb+amZmZmZm5PzTLecrdq60/mlG68o7dsT+a8ScB/AK+P2bmSkSacdU/AHS7de/T0r+aFa8Oo67cvwDPrM1M7N8/AHEoVwBH0z/NxIilLxrKPzPQ4twGUOI/M4N5ghqYy78zpnlTtxDjP2Yy9UdkXvq/TU1O4pHq579mhsUy+ge2v03z01WjQOS/gCdaB1046b8AcpfJbF7YP4BVwgLU1eE/aGbk004Alj/Nq/JFdIzgv6CZqzZzsXI/GsUUANIJ8z8zU7qthD3nP80KNNbOosE/zdTT9ToTwT9NNaC0QK7svzOtKvBEr+Q/zEywV8+Hrb/NnByh3B3gv00tMFNEzOK/ZjKGQpY90D8zcZzMde7DvwCo1BxR39K/0EwZbQFHjD8AgJ1gwiWgP8zMNVx71qK/M4uWlENH4z9oJqrOEYKeP5qRefKdHbI/zd7JjzWTxD8AKplBhdfjv81s+b/5kM0/zb4LOxC0wT+amZmZmZm5PwAAAAAAAAAAzVT3uuGVwz+amZmZmZm5P81CXTdB0cc/AJCcv7RTlz8A0k2EI0rAv8DMSYTd72O/AIhccJISvr8AAJq8D3CHv818cpG9gcI/mpmZmZmZuT9ml8Ycc6PRPwCgPDW3v7u/NBNqo/hJpz8ArIfgXvrRv8z8iinSGaS/ADNhz4aH1b9mFq625Di4vw==",
            "dtype": "f8"
           },
           "yaxis": "y2"
          },
          {
           "line": {
            "color": "rgba(60, 179, 113, 0.9)",
            "width": 2
           },
           "name": "Cumulative P&L",
           "type": "scatter",
           "x": {
            "bdata": "AAECAwQFBgcICQoLDA0ODxAREhMUFRYXGBkaGxwdHh8gISIjJCUmJygpKissLS4vMDEyMzQ1Njc4OTo7PD0+P0BBQkNERUY=",
            "dtype": "i1"
           },
           "xaxis": "x2",
           "y": {
            "bdata": "AAAAAAAAAABmJIA29L3bP2Ymw4ZZv+Y/mVn2uYzy6T+ZWfa5jPLpP2ZPOC4fu/E/pmsS2unr8D9ABaxzg4XyP5rT/2HicvM/tHgrUbuQ9D/O9z0R63D2P2ixUKJRzfs/aNThxFUY9z8DHmwCWtnvP8JCoTTA5/c/Al9rSoC5/D+cdxw/xvz/P9vvxtZkkgRAqFefLuPYAkA1wX0DEZ0HQARQBr+92/Q/u1K+m+nM4T/cQ8uq1BfeP3xFuQHk0sS/33jIBxZt7r/fv/yi3z3iv8CXmg7oAoq/EDUumbX9gT/58o1vfUTgv8abIIkaH+C/bu4Id4n05T/QoGESB5n2PyoiKO1gzfg/xJziS8jv+j87BCXjTzHpP7fYp2lK8PY/UVbq7gsE9j/VD7g8O+rrPxDFD9PtO9I/u/vKCsI84T/cvkcvSYLYP3BbzEngi7Y/CoVvd8AUuj+FIt/T0BPBP6Reo/ljvLg/CPfKE9Be5j87SECi4FLnP256j2CUluk/IfKBxGG77j9CkNEFucfVP1Qj5/IaSOI/BxOqAR+15j86Rt00UujpPzpG3TRS6Ok/bRubo8rN7j9QJ2frfgDxP6rPUhKn+vM/6kFR5fVX9D+qh8d0sU7yP8RiBYa5RPI/RJr/XpBj8D9EZoY/sDTwP961tPHnhPI/eE9Oi4Ee9D9S9X9SXof4P1IrLN9iy/Y/7HtHpLKF9z/skCXsGgfzPwY52VpMZvI/jNgBTtUI6j+/FSy3uAHnPw==",
            "dtype": "f8"
           },
           "yaxis": "y2"
          }
         ]
        },
        {
         "data": [
          {
           "line": {
            "color": "rgba(60, 179, 113, 0.9)",
            "dash": "dot",
            "width": 2
           },
           "name": "Mid Price (Estimated)",
           "type": "scatter",
           "x": {
            "bdata": "AAECAwQFBgcICQoLDA0ODxAREhMUFRYXGBkaGxwdHh8gISIjJCUmJygpKissLS4vMDEyMzQ1Njc4OTo7PD0+P0BBQkNERUZH",
            "dtype": "i1"
           },
           "xaxis": "x",
           "y": {
            "bdata": "gNHvJb/4WEChxAdfE+5YQN8klwa54lhA9ltPBy3aWECPYPkixNVYQLPu1x9l4lhAJFeHSijfWEAJUu9IbOBYQDZpnDMd41hAH0XxtBTkWEDto2iXtuNYQK2xef0w3FhAZ4809ZrlWEA7QQajTPFYQPZcbImo5lhAe09PiTvgWED8N/Tckd5YQIq+FlWG2FhAZgQIE+TbWED8XSOkW9dYQGIlFKNX5VhAGbj1/xbtWEASG5QMlO5YQB0dcm5H9VhAlqRPG3z8WEAY2DLnAPlYQNsye2Ho81hA31eqLYn0WECxYqimLfpYQKWkbEEy+1hAQ17ERTvxWEB7vGWxOOxYQNKiiUPg61hAPOKwD4XrWECZA3SkRfhYQNyHlZuH71hArKawu+TyWECUzppDjfxYQH+7SZM3C1lAjLNSx8EIWUDfCmK0BwxZQGc1zvfND1lAzvRkAy8RWUDi71HVrRBZQEKUQueYE1lA6jDh1oQDWUCurCocAwhZQK+Qn5vyCFlALBF/36YHWUBId1U44RRZQCCsGC2wEFlAp4xhizwOWUBJuvxFHBtZQI4PysrpFVlASvpSQIUSWUAo/v8htRFZQGNGNVw3F1lALECBl6wYWUBDGb+FhxBZQMZhrmJADVlANVZgEH4JWUDNYyFQIAlZQKW2g8j6C1lAk3lUvcgOWUBiGZ6wiwNZQIpoa557CllAHGUUMjoMWUDyqIRhNxVZQDSGaOwvGFlARVFYGV0fWUDAVT1BeiJZQI3h2q04K1lA",
            "dtype": "f8"
           },
           "yaxis": "y"
          },
          {
           "line": {
            "color": "rgba(178, 34, 34, 0.9)",
            "width": 2
           },
           "name": "Bid",
           "type": "scatter",
           "x": {
            "bdata": "AAECAwQFBgcICQoLDA0ODxAREhMUFRYXGBkaGxwdHh8gISIjJCUmJygpKissLS4vMDEyMzQ1Njc4OTo7PD0+P0BBQkNERUZH",
            "dtype": "i1"
           },
           "xaxis": "x",
           "y": {
            "bdata": "GmuJv1jyWEA7XqH4rOdYQHm+MKBS3FhAkPXooMbTWEAp+pK8Xc9YQE2Icbn+21hAvvAg5MHYWECj64jiBdpYQNACNs223FhAud6KTq7dWECHPQIxUN1YQEdLE5fK1VhAASnOjjTfWEDV2p885upYQJD2BSNC4FhAFenoItXZWECW0Y12K9hYQCRYsO4f0lhAAJ6hrH3VWECW97w99dBYQPy+rTzx3lhAs1GPmbDmWECstC2mLehYQLe2Cwjh7lhAMD7ptBX2WECyccyAmvJYQHXMFPuB7VhAefFDxyLuWEBL/EFAx/NYQD8+BtvL9FhA3fdd39TqWEAVVv9K0uVYQGw8I9155VhA1ntKqR7lWEAznQ0+3/FYQHYhLzUh6VhARkBKVX7sWEAuaDTdJvZYQBlV4yzRBFlAJk3sYFsCWUB5pPtNoQVZQAHPZ5FnCVlAaI7+nMgKWUB8ietuRwpZQNwt3IAyDVlAhMp6cB79WEBIRsS1nAFZQEkqOTWMAllAxqoYeUABWUDiEO/Reg5ZQLpFssZJCllAQSb7JNYHWUDjU5bftRRZQCipY2SDD1lA5JPs2R4MWUDCl5m7TgtZQP3fzvXQEFlAxtkaMUYSWUDdslgfIQpZQGD7R/zZBllAz+/5qRcDWUBn/brpuQJZQD9QHWKUBVlALRPuVmIIWUD8sjdKJf1YQCQCBTgVBFlAtv6ty9MFWUCMQh770A5ZQM4fAobJEVlA3+rxsvYYWUBa79baExxZQCd7dEfSJFlA",
            "dtype": "f8"
           },
           "yaxis": "y"
          },
          {
           "line": {
            "color": "rgba(70, 130, 180, 0.9)",
            "width": 2
           },
           "name": "Ask",
           "type": "scatter",
           "x": {
            "bdata": "AAECAwQFBgcICQoLDA0ODxAREhMUFRYXGBkaGxwdHh8gISIjJCUmJygpKissLS4vMDEyMzQ1Njc4OTo7PD0+P0BBQkNERUZH",
            "dtype": "i1"
           },
           "xaxis": "x",
           "y": {
            "bdata": "5jdWjCX/WEAHK27FefRYQEWL/Wwf6VhAXMK1bZPgWED1xl+JKtxYQBlVPobL6FhAir3tsI7lWEBvuFWv0uZYQJzPApqD6VhAhatXG3vqWEBTCs/9HOpYQBMY4GOX4lhAzfWaWwHsWEChp2wJs/dYQFzD0u8O7VhA4bW176HmWEBinlpD+ORYQPAkfbvs3lhAzGpueUriWEBixIkKwt1YQMiLegm+61hAfx5cZn3zWEB4gfpy+vRYQIOD2NSt+1hA/Aq2geICWUB+PplNZ/9YQEGZ4cdO+lhARb4QlO/6WEAXyQ4NlABZQAsL06eYAVlAqcQqrKH3WEDhIswXn/JYQDgJ8KlG8lhAokgXduvxWED/adoKrP5YQELu+wHu9VhAEg0XIkv5WED6NAGq8wJZQOUhsPmdEVlA8hm5LSgPWUBFccgabhJZQM2bNF40FllANFvLaZUXWUBIVrg7FBdZQKj6qE3/GVlAUJdHPesJWUAUE5GCaQ5ZQBX3BQJZD1lAknflRQ0OWUCu3bueRxtZQIYSf5MWF1lADfPH8aIUWUCvIGOsgiFZQPR1MDFQHFlAsGC5pusYWUCOZGaIGxhZQMmsm8KdHVlAkqbn/RIfWUCpfyXs7RZZQCzIFMmmE1lAm7zGduQPWUAzyoe2hg9ZQAsd6i5hEllA+d+6Iy8VWUDIfwQX8glZQPDO0QTiEFlAgst6mKASWUBYD+vHnRtZQJrszlKWHllAq7e+f8MlWUAmvKOn4ChZQPNHQRSfMVlA",
            "dtype": "f8"
           },
           "yaxis": "y"
          },
          {
           "marker": {
            "color": [
             "rgba(31, 119, 180, 0.8)",
             "rgba(31, 119, 180, 0.8)",
             "rgba(31, 119, 180, 0.8)",
             "rgba(31, 119, 180, 0.8)",
             "rgba(31, 119, 180, 0.8)",
             "rgba(31, 119, 180, 0.8)",
             "rgba(178, 34, 34, 0.8)",
             "rgba(31, 119, 180, 0.8)",
             "rgba(31, 119, 180, 0.8)",
             "rgba(31, 119, 180, 0.8)",
             "rgba(31, 119, 180, 0.8)",
             "rgba(31, 119, 180, 0.8)",
             "rgba(178, 34, 34, 0.8)",
             "rgba(178, 34, 34, 0.8)",
             "rgba(31, 119, 180, 0.8)",
             "rgba(31, 119, 180, 0.8)",
             "rgba(31, 119, 180, 0.8)",
             "rgba(31, 119, 180, 0.8)",
             "rgba(178, 34, 34, 0.8)",
             "rgba(31, 119, 180, 0.8)",
             "rgba(178, 34, 34, 0.8)",
             "rgba(178, 34, 34, 0.8)",
             "rgba(178, 34, 34, 0.8)",
             "rgba(178, 34, 34, 0.8)",
             "rgba(178, 34, 34, 0.8)",
             "rgba(31, 119, 180, 0.8)",
             "rgba(31, 119, 180, 0.8)",
             "rgba(31, 119, 180, 0.8)",
             "rgba(178, 34, 34, 0.8)",
             "rgba(31, 119, 180, 0.8)",
             "rgba(31, 119, 180, 0.8)",
             "rgba(31, 119, 180, 0.8)",
             "rgba(31, 119, 180, 0.8)",
             "rgba(31, 119, 180, 0.8)",
             "rgba(178, 34, 34, 0.8)",
             "rgba(31, 119, 180, 0.8)",
             "rgba(178, 34, 34, 0.8)",
             "rgba(178, 34, 34, 0.8)",
             "rgba(178, 34, 34, 0.8)",
             "rgba(31, 119, 180, 0.8)",
             "rgba(178, 34, 34, 0.8)",
             "rgba(178, 34, 34, 0.8)",
             "rgba(31, 119, 180, 0.8)",
             "rgba(31, 119, 180, 0.8)",
             "rgba(178, 34, 34, 0.8)",
             "rgba(31, 119, 180, 0.8)",
             "rgba(31, 119, 180, 0.8)",
             "rgba(31, 119, 180, 0.8)",
             "rgba(31, 119, 180, 0.8)",
             "rgba(178, 34, 34, 0.8)",
             "rgba(31, 119, 180, 0.8)",
             "rgba(31, 119, 180, 0.8)",
             "rgba(31, 119, 180, 0.8)",
             "rgba(31, 119, 180, 0.8)",
             "rgba(31, 119, 180, 0.8)",
             "rgba(31, 119, 180, 0.8)",
             "rgba(31, 119, 180, 0.8)",
             "rgba(31, 119, 180, 0.8)",
             "rgba(178, 34, 34, 0.8)",
             "rgba(178, 34, 34, 0.8)",
             "rgba(178, 34, 34, 0.8)",
             "rgba(178, 34, 34, 0.8)",
             "rgba(31, 119, 180, 0.8)",
             "rgba(31, 119, 180, 0.8)",
             "rgba(31, 119, 180, 0.8)",
             "rgba(178, 34, 34, 0.8)",
             "rgba(31, 119, 180, 0.8)",
             "rgba(178, 34, 34, 0.8)",
             "rgba(178, 34, 34, 0.8)",
             "rgba(178, 34, 34, 0.8)",
             "rgba(178, 34, 34, 0.8)",
             "rgba(178, 34, 34, 0.8)"
            ]
           },
           "name": "Trade P&L",
           "type": "bar",
           "x": {
            "bdata": "AAECAwQFBgcICQoLDA0ODxAREhMUFRYXGBkaGxwdHh8gISIjJCUmJygpKissLS4vMDEyMzQ1Njc4OTo7PD0+P0BBQkNERUZH",
            "dtype": "i1"
           },
           "xaxis": "x2",
           "y": {
            "bdata": "mpmZmZmZuT9mJIA29L3bP2YoBte+wNE/mpmZmZmZuT8AAAAAAAAAAGaK9ERjB9M/AHi8hKrmqb+amZmZmZm5PzTLecrdq60/mlG68o7dsT+a8ScB/AK+P2bmSkSacdU/AHS7de/T0r+aFa8Oo67cvwDPrM1M7N8/AHEoVwBH0z/NxIilLxrKPzPQ4twGUOI/M4N5ghqYy78zpnlTtxDjP2Yy9UdkXvq/TU1O4pHq579mhsUy+ge2v03z01WjQOS/gCdaB1046b8AcpfJbF7YP4BVwgLU1eE/aGbk004Alj/Nq/JFdIzgv6CZqzZzsXI/GsUUANIJ8z8zU7qthD3nP80KNNbOosE/zdTT9ToTwT9NNaC0QK7svzOtKvBEr+Q/zEywV8+Hrb/NnByh3B3gv00tMFNEzOK/ZjKGQpY90D8zcZzMde7DvwCo1BxR39K/0EwZbQFHjD8AgJ1gwiWgP8zMNVx71qK/M4uWlENH4z9oJqrOEYKeP5qRefKdHbI/zd7JjzWTxD8AKplBhdfjv81s+b/5kM0/zb4LOxC0wT+amZmZmZm5PwAAAAAAAAAAzVT3uuGVwz+amZmZmZm5P81CXTdB0cc/AJCcv7RTlz8A0k2EI0rAv8DMSYTd72O/AIhccJISvr8AAJq8D3CHv818cpG9gcI/mpmZmZmZuT9ml8Ycc6PRPwCgPDW3v7u/NBNqo/hJpz8ArIfgXvrRv8z8iinSGaS/ADNhz4aH1b9mFq625Di4v5oAPXLf1NO/",
            "dtype": "f8"
           },
           "yaxis": "y2"
          },
          {
           "line": {
            "color": "rgba(60, 179, 113, 0.9)",
            "width": 2
           },
           "name": "Cumulative P&L",
           "type": "scatter",
           "x": {
            "bdata": "AAECAwQFBgcICQoLDA0ODxAREhMUFRYXGBkaGxwdHh8gISIjJCUmJygpKissLS4vMDEyMzQ1Njc4OTo7PD0+P0BBQkNERUZH",
            "dtype": "i1"
           },
           "xaxis": "x2",
           "y": {
            "bdata": "AAAAAAAAAABmJIA29L3bP2Ymw4ZZv+Y/mVn2uYzy6T+ZWfa5jPLpP2ZPOC4fu/E/pmsS2unr8D9ABaxzg4XyP5rT/2HicvM/tHgrUbuQ9D/O9z0R63D2P2ixUKJRzfs/aNThxFUY9z8DHmwCWtnvP8JCoTTA5/c/Al9rSoC5/D+cdxw/xvz/P9vvxtZkkgRAqFefLuPYAkA1wX0DEZ0HQARQBr+92/Q/u1K+m+nM4T/cQ8uq1BfeP3xFuQHk0sS/33jIBxZt7r/fv/yi3z3iv8CXmg7oAoq/EDUumbX9gT/58o1vfUTgv8abIIkaH+C/bu4Id4n05T/QoGESB5n2PyoiKO1gzfg/xJziS8jv+j87BCXjTzHpP7fYp2lK8PY/UVbq7gsE9j/VD7g8O+rrPxDFD9PtO9I/u/vKCsI84T/cvkcvSYLYP3BbzEngi7Y/CoVvd8AUuj+FIt/T0BPBP6Reo/ljvLg/CPfKE9Be5j87SECi4FLnP256j2CUluk/IfKBxGG77j9CkNEFucfVP1Qj5/IaSOI/BxOqAR+15j86Rt00UujpPzpG3TRS6Ok/bRubo8rN7j9QJ2frfgDxP6rPUhKn+vM/6kFR5fVX9D+qh8d0sU7yP8RiBYa5RPI/RJr/XpBj8D9EZoY/sDTwP961tPHnhPI/eE9Oi4Ee9D9S9X9SXof4P1IrLN9iy/Y/7HtHpLKF9z/skCXsGgfzPwY52VpMZvI/jNgBTtUI6j+/FSy3uAHnP+QqG/yRLto/",
            "dtype": "f8"
           },
           "yaxis": "y2"
          }
         ]
        },
        {
         "data": [
          {
           "line": {
            "color": "rgba(60, 179, 113, 0.9)",
            "dash": "dot",
            "width": 2
           },
           "name": "Mid Price (Estimated)",
           "type": "scatter",
           "x": {
            "bdata": "AAECAwQFBgcICQoLDA0ODxAREhMUFRYXGBkaGxwdHh8gISIjJCUmJygpKissLS4vMDEyMzQ1Njc4OTo7PD0+P0BBQkNERUZHSA==",
            "dtype": "i1"
           },
           "xaxis": "x",
           "y": {
            "bdata": "gNHvJb/4WEChxAdfE+5YQN8klwa54lhA9ltPBy3aWECPYPkixNVYQLPu1x9l4lhAJFeHSijfWEAJUu9IbOBYQDZpnDMd41hAH0XxtBTkWEDto2iXtuNYQK2xef0w3FhAZ4809ZrlWEA7QQajTPFYQPZcbImo5lhAe09PiTvgWED8N/Tckd5YQIq+FlWG2FhAZgQIE+TbWED8XSOkW9dYQGIlFKNX5VhAGbj1/xbtWEASG5QMlO5YQB0dcm5H9VhAlqRPG3z8WEAY2DLnAPlYQNsye2Ho81hA31eqLYn0WECxYqimLfpYQKWkbEEy+1hAQ17ERTvxWEB7vGWxOOxYQNKiiUPg61hAPOKwD4XrWECZA3SkRfhYQNyHlZuH71hArKawu+TyWECUzppDjfxYQH+7SZM3C1lAjLNSx8EIWUDfCmK0BwxZQGc1zvfND1lAzvRkAy8RWUDi71HVrRBZQEKUQueYE1lA6jDh1oQDWUCurCocAwhZQK+Qn5vyCFlALBF/36YHWUBId1U44RRZQCCsGC2wEFlAp4xhizwOWUBJuvxFHBtZQI4PysrpFVlASvpSQIUSWUAo/v8htRFZQGNGNVw3F1lALECBl6wYWUBDGb+FhxBZQMZhrmJADVlANVZgEH4JWUDNYyFQIAlZQKW2g8j6C1lAk3lUvcgOWUBiGZ6wiwNZQIpoa557CllAHGUUMjoMWUDyqIRhNxVZQDSGaOwvGFlARVFYGV0fWUDAVT1BeiJZQI3h2q04K1lAUJRBGrEuWUA=",
            "dtype": "f8"
           },
           "yaxis": "y"
          },
          {
           "line": {
            "color": "rgba(178, 34, 34, 0.9)",
            "width": 2
           },
           "name": "Bid",
           "type": "scatter",
           "x": {
            "bdata": "AAECAwQFBgcICQoLDA0ODxAREhMUFRYXGBkaGxwdHh8gISIjJCUmJygpKissLS4vMDEyMzQ1Njc4OTo7PD0+P0BBQkNERUZHSA==",
            "dtype": "i1"
           },
           "xaxis": "x",
           "y": {
            "bdata": "GmuJv1jyWEA7XqH4rOdYQHm+MKBS3FhAkPXooMbTWEAp+pK8Xc9YQE2Icbn+21hAvvAg5MHYWECj64jiBdpYQNACNs223FhAud6KTq7dWECHPQIxUN1YQEdLE5fK1VhAASnOjjTfWEDV2p885upYQJD2BSNC4FhAFenoItXZWECW0Y12K9hYQCRYsO4f0lhAAJ6hrH3VWECW97w99dBYQPy+rTzx3lhAs1GPmbDmWECstC2mLehYQLe2Cwjh7lhAMD7ptBX2WECyccyAmvJYQHXMFPuB7VhAefFDxyLuWEBL/EFAx/NYQD8+BtvL9FhA3fdd39TqWEAVVv9K0uVYQGw8I9155VhA1ntKqR7lWEAznQ0+3/FYQHYhLzUh6VhARkBKVX7sWEAuaDTdJvZYQBlV4yzRBFlAJk3sYFsCWUB5pPtNoQVZQAHPZ5FnCVlAaI7+nMgKWUB8ietuRwpZQNwt3IAyDVlAhMp6cB79WEBIRsS1nAFZQEkqOTWMAllAxqoYeUABWUDiEO/Reg5ZQLpFssZJCllAQSb7JNYHWUDjU5bftRRZQCipY2SDD1lA5JPs2R4MWUDCl5m7TgtZQP3fzvXQEFlAxtkaMUYSWUDdslgfIQpZQGD7R/zZBllAz+/5qRcDWUBn/brpuQJZQD9QHWKUBVlALRPuVmIIWUD8sjdKJf1YQCQCBTgVBFlAtv6ty9MFWUCMQh770A5ZQM4fAobJEVlA3+rxsvYYWUBa79baExxZQCd7dEfSJFlA6i3bs0ooWUA=",
            "dtype": "f8"
           },
           "yaxis": "y"
          },
          {
           "line": {
            "color": "rgba(70, 130, 180, 0.9)",
            "width": 2
           },
           "name": "Ask",
           "type": "scatter",
           "x": {
            "bdata": "AAECAwQFBgcICQoLDA0ODxAREhMUFRYXGBkaGxwdHh8gISIjJCUmJygpKissLS4vMDEyMzQ1Njc4OTo7PD0+P0BBQkNERUZHSA==",
            "dtype": "i1"
           },
           "xaxis": "x",
           "y": {
            "bdata": "5jdWjCX/WEAHK27FefRYQEWL/Wwf6VhAXMK1bZPgWED1xl+JKtxYQBlVPobL6FhAir3tsI7lWEBvuFWv0uZYQJzPApqD6VhAhatXG3vqWEBTCs/9HOpYQBMY4GOX4lhAzfWaWwHsWEChp2wJs/dYQFzD0u8O7VhA4bW176HmWEBinlpD+ORYQPAkfbvs3lhAzGpueUriWEBixIkKwt1YQMiLegm+61hAfx5cZn3zWEB4gfpy+vRYQIOD2NSt+1hA/Aq2geICWUB+PplNZ/9YQEGZ4cdO+lhARb4QlO/6WEAXyQ4NlABZQAsL06eYAVlAqcQqrKH3WEDhIswXn/JYQDgJ8KlG8lhAokgXduvxWED/adoKrP5YQELu+wHu9VhAEg0XIkv5WED6NAGq8wJZQOUhsPmdEVlA8hm5LSgPWUBFccgabhJZQM2bNF40FllANFvLaZUXWUBIVrg7FBdZQKj6qE3/GVlAUJdHPesJWUAUE5GCaQ5ZQBX3BQJZD1lAknflRQ0OWUCu3bueRxtZQIYSf5MWF1lADfPH8aIUWUCvIGOsgiFZQPR1MDFQHFlAsGC5pusYWUCOZGaIGxhZQMmsm8KdHVlAkqbn/RIfWUCpfyXs7RZZQCzIFMmmE1lAm7zGduQPWUAzyoe2hg9ZQAsd6i5hEllA+d+6Iy8VWUDIfwQX8glZQPDO0QTiEFlAgst6mKASWUBYD+vHnRtZQJrszlKWHllAq7e+f8MlWUAmvKOn4ChZQPNHQRSfMVlAtvqngBc1WUA=",
            "dtype": "f8"
           },
           "yaxis": "y"
          },
          {
           "marker": {
            "color": [
             "rgba(31, 119, 180, 0.8)",
             "rgba(31, 119, 180, 0.8)",
             "rgba(31, 119, 180, 0.8)",
             "rgba(31, 119, 180, 0.8)",
             "rgba(31, 119, 180, 0.8)",
             "rgba(31, 119, 180, 0.8)",
             "rgba(178, 34, 34, 0.8)",
             "rgba(31, 119, 180, 0.8)",
             "rgba(31, 119, 180, 0.8)",
             "rgba(31, 119, 180, 0.8)",
             "rgba(31, 119, 180, 0.8)",
             "rgba(31, 119, 180, 0.8)",
             "rgba(178, 34, 34, 0.8)",
             "rgba(178, 34, 34, 0.8)",
             "rgba(31, 119, 180, 0.8)",
             "rgba(31, 119, 180, 0.8)",
             "rgba(31, 119, 180, 0.8)",
             "rgba(31, 119, 180, 0.8)",
             "rgba(178, 34, 34, 0.8)",
             "rgba(31, 119, 180, 0.8)",
             "rgba(178, 34, 34, 0.8)",
             "rgba(178, 34, 34, 0.8)",
             "rgba(178, 34, 34, 0.8)",
             "rgba(178, 34, 34, 0.8)",
             "rgba(178, 34, 34, 0.8)",
             "rgba(31, 119, 180, 0.8)",
             "rgba(31, 119, 180, 0.8)",
             "rgba(31, 119, 180, 0.8)",
             "rgba(178, 34, 34, 0.8)",
             "rgba(31, 119, 180, 0.8)",
             "rgba(31, 119, 180, 0.8)",
             "rgba(31, 119, 180, 0.8)",
             "rgba(31, 119, 180, 0.8)",
             "rgba(31, 119, 180, 0.8)",
             "rgba(178, 34, 34, 0.8)",
             "rgba(31, 119, 180, 0.8)",
             "rgba(178, 34, 34, 0.8)",
             "rgba(178, 34, 34, 0.8)",
             "rgba(178, 34, 34, 0.8)",
             "rgba(31, 119, 180, 0.8)",
             "rgba(178, 34, 34, 0.8)",
             "rgba(178, 34, 34, 0.8)",
             "rgba(31, 119, 180, 0.8)",
             "rgba(31, 119, 180, 0.8)",
             "rgba(178, 34, 34, 0.8)",
             "rgba(31, 119, 180, 0.8)",
             "rgba(31, 119, 180, 0.8)",
             "rgba(31, 119, 180, 0.8)",
             "rgba(31, 119, 180, 0.8)",
             "rgba(178, 34, 34, 0.8)",
             "rgba(31, 119, 180, 0.8)",
             "rgba(31, 119, 180, 0.8)",
             "rgba(31, 119, 180, 0.8)",
             "rgba(31, 119, 180, 0.8)",
             "rgba(31, 119, 180, 0.8)",
             "rgba(31, 119, 180, 0.8)",
             "rgba(31, 119, 180, 0.8)",
             "rgba(31, 119, 180, 0.8)",
             "rgba(178, 34, 34, 0.8)",
             "rgba(178, 34, 34, 0.8)",
             "rgba(178, 34, 34, 0.8)",
             "rgba(178, 34, 34, 0.8)",
             "rgba(31, 119, 180, 0.8)",
             "rgba(31, 119, 180, 0.8)",
             "rgba(31, 119, 180, 0.8)",
             "rgba(178, 34, 34, 0.8)",
             "rgba(31, 119, 180, 0.8)",
             "rgba(178, 34, 34, 0.8)",
             "rgba(178, 34, 34, 0.8)",
             "rgba(178, 34, 34, 0.8)",
             "rgba(178, 34, 34, 0.8)",
             "rgba(178, 34, 34, 0.8)",
             "rgba(178, 34, 34, 0.8)"
            ]
           },
           "name": "Trade P&L",
           "type": "bar",
           "x": {
            "bdata": "AAECAwQFBgcICQoLDA0ODxAREhMUFRYXGBkaGxwdHh8gISIjJCUmJygpKissLS4vMDEyMzQ1Njc4OTo7PD0+P0BBQkNERUZHSA==",
            "dtype": "i1"
           },
           "xaxis": "x2",
           "y": {
            "bdata": "mpmZmZmZuT9mJIA29L3bP2YoBte+wNE/mpmZmZmZuT8AAAAAAAAAAGaK9ERjB9M/AHi8hKrmqb+amZmZmZm5PzTLecrdq60/mlG68o7dsT+a8ScB/AK+P2bmSkSacdU/AHS7de/T0r+aFa8Oo67cvwDPrM1M7N8/AHEoVwBH0z/NxIilLxrKPzPQ4twGUOI/M4N5ghqYy78zpnlTtxDjP2Yy9UdkXvq/TU1O4pHq579mhsUy+ge2v03z01WjQOS/gCdaB1046b8AcpfJbF7YP4BVwgLU1eE/aGbk004Alj/Nq/JFdIzgv6CZqzZzsXI/GsUUANIJ8z8zU7qthD3nP80KNNbOosE/zdTT9ToTwT9NNaC0QK7svzOtKvBEr+Q/zEywV8+Hrb/NnByh3B3gv00tMFNEzOK/ZjKGQpY90D8zcZzMde7DvwCo1BxR39K/0EwZbQFHjD8AgJ1gwiWgP8zMNVx71qK/M4uWlENH4z9oJqrOEYKeP5qRefKdHbI/zd7JjzWTxD8AKplBhdfjv81s+b/5kM0/zb4LOxC0wT+amZmZmZm5PwAAAAAAAAAAzVT3uuGVwz+amZmZmZm5P81CXTdB0cc/AJCcv7RTlz8A0k2EI0rAv8DMSYTd72O/AIhccJISvr8AAJq8D3CHv818cpG9gcI/mpmZmZmZuT9ml8Ycc6PRPwCgPDW3v7u/NBNqo/hJpz8ArIfgXvrRv8z8iinSGaS/ADNhz4aH1b9mFq625Di4v5oAPXLf1NO/AJIwaIrSxL8=",
            "dtype": "f8"
           },
           "yaxis": "y2"
          },
          {
           "line": {
            "color": "rgba(60, 179, 113, 0.9)",
            "width": 2
           },
           "name": "Cumulative P&L",
           "type": "scatter",
           "x": {
            "bdata": "AAECAwQFBgcICQoLDA0ODxAREhMUFRYXGBkaGxwdHh8gISIjJCUmJygpKissLS4vMDEyMzQ1Njc4OTo7PD0+P0BBQkNERUZHSA==",
            "dtype": "i1"
           },
           "xaxis": "x2",
           "y": {
            "bdata": "AAAAAAAAAABmJIA29L3bP2Ymw4ZZv+Y/mVn2uYzy6T+ZWfa5jPLpP2ZPOC4fu/E/pmsS2unr8D9ABaxzg4XyP5rT/2HicvM/tHgrUbuQ9D/O9z0R63D2P2ixUKJRzfs/aNThxFUY9z8DHmwCWtnvP8JCoTTA5/c/Al9rSoC5/D+cdxw/xvz/P9vvxtZkkgRAqFefLuPYAkA1wX0DEZ0HQARQBr+92/Q/u1K+m+nM4T/cQ8uq1BfeP3xFuQHk0sS/33jIBxZt7r/fv/yi3z3iv8CXmg7oAoq/EDUumbX9gT/58o1vfUTgv8abIIkaH+C/bu4Id4n05T/QoGESB5n2PyoiKO1gzfg/xJziS8jv+j87BCXjTzHpP7fYp2lK8PY/UVbq7gsE9j/VD7g8O+rrPxDFD9PtO9I/u/vKCsI84T/cvkcvSYLYP3BbzEngi7Y/CoVvd8AUuj+FIt/T0BPBP6Reo/ljvLg/CPfKE9Be5j87SECi4FLnP256j2CUluk/IfKBxGG77j9CkNEFucfVP1Qj5/IaSOI/BxOqAR+15j86Rt00UujpPzpG3TRS6Ok/bRubo8rN7j9QJ2frfgDxP6rPUhKn+vM/6kFR5fVX9D+qh8d0sU7yP8RiBYa5RPI/RJr/XpBj8D9EZoY/sDTwP961tPHnhPI/eE9Oi4Ee9D9S9X9SXof4P1IrLN9iy/Y/7HtHpLKF9z/skCXsGgfzPwY52VpMZvI/jNgBTtUI6j+/FSy3uAHnP+QqG/yRLto/yMMFkJmKzz8=",
            "dtype": "f8"
           },
           "yaxis": "y2"
          }
         ]
        },
        {
         "data": [
          {
           "line": {
            "color": "rgba(60, 179, 113, 0.9)",
            "dash": "dot",
            "width": 2
           },
           "name": "Mid Price (Estimated)",
           "type": "scatter",
           "x": {
            "bdata": "AAECAwQFBgcICQoLDA0ODxAREhMUFRYXGBkaGxwdHh8gISIjJCUmJygpKissLS4vMDEyMzQ1Njc4OTo7PD0+P0BBQkNERUZHSEk=",
            "dtype": "i1"
           },
           "xaxis": "x",
           "y": {
            "bdata": "gNHvJb/4WEChxAdfE+5YQN8klwa54lhA9ltPBy3aWECPYPkixNVYQLPu1x9l4lhAJFeHSijfWEAJUu9IbOBYQDZpnDMd41hAH0XxtBTkWEDto2iXtuNYQK2xef0w3FhAZ4809ZrlWEA7QQajTPFYQPZcbImo5lhAe09PiTvgWED8N/Tckd5YQIq+FlWG2FhAZgQIE+TbWED8XSOkW9dYQGIlFKNX5VhAGbj1/xbtWEASG5QMlO5YQB0dcm5H9VhAlqRPG3z8WEAY2DLnAPlYQNsye2Ho81hA31eqLYn0WECxYqimLfpYQKWkbEEy+1hAQ17ERTvxWEB7vGWxOOxYQNKiiUPg61hAPOKwD4XrWECZA3SkRfhYQNyHlZuH71hArKawu+TyWECUzppDjfxYQH+7SZM3C1lAjLNSx8EIWUDfCmK0BwxZQGc1zvfND1lAzvRkAy8RWUDi71HVrRBZQEKUQueYE1lA6jDh1oQDWUCurCocAwhZQK+Qn5vyCFlALBF/36YHWUBId1U44RRZQCCsGC2wEFlAp4xhizwOWUBJuvxFHBtZQI4PysrpFVlASvpSQIUSWUAo/v8htRFZQGNGNVw3F1lALECBl6wYWUBDGb+FhxBZQMZhrmJADVlANVZgEH4JWUDNYyFQIAlZQKW2g8j6C1lAk3lUvcgOWUBiGZ6wiwNZQIpoa557CllAHGUUMjoMWUDyqIRhNxVZQDSGaOwvGFlARVFYGV0fWUDAVT1BeiJZQI3h2q04K1lAUJRBGrEuWUAwsjtyMS5ZQA==",
            "dtype": "f8"
           },
           "yaxis": "y"
          },
          {
           "line": {
            "color": "rgba(178, 34, 34, 0.9)",
            "width": 2
           },
           "name": "Bid",
           "type": "scatter",
           "x": {
            "bdata": "AAECAwQFBgcICQoLDA0ODxAREhMUFRYXGBkaGxwdHh8gISIjJCUmJygpKissLS4vMDEyMzQ1Njc4OTo7PD0+P0BBQkNERUZHSEk=",
            "dtype": "i1"
           },
           "xaxis": "x",
           "y": {
            "bdata": "GmuJv1jyWEA7XqH4rOdYQHm+MKBS3FhAkPXooMbTWEAp+pK8Xc9YQE2Icbn+21hAvvAg5MHYWECj64jiBdpYQNACNs223FhAud6KTq7dWECHPQIxUN1YQEdLE5fK1VhAASnOjjTfWEDV2p885upYQJD2BSNC4FhAFenoItXZWECW0Y12K9hYQCRYsO4f0lhAAJ6hrH3VWECW97w99dBYQPy+rTzx3lhAs1GPmbDmWECstC2mLehYQLe2Cwjh7lhAMD7ptBX2WECyccyAmvJYQHXMFPuB7VhAefFDxyLuWEBL/EFAx/NYQD8+BtvL9FhA3fdd39TqWEAVVv9K0uVYQGw8I9155VhA1ntKqR7lWEAznQ0+3/FYQHYhLzUh6VhARkBKVX7sWEAuaDTdJvZYQBlV4yzRBFlAJk3sYFsCWUB5pPtNoQVZQAHPZ5FnCVlAaI7+nMgKWUB8ietuRwpZQNwt3IAyDVlAhMp6cB79WEBIRsS1nAFZQEkqOTWMAllAxqoYeUABWUDiEO/Reg5ZQLpFssZJCllAQSb7JNYHWUDjU5bftRRZQCipY2SDD1lA5JPs2R4MWUDCl5m7TgtZQP3fzvXQEFlAxtkaMUYSWUDdslgfIQpZQGD7R/zZBllAz+/5qRcDWUBn/brpuQJZQD9QHWKUBVlALRPuVmIIWUD8sjdKJf1YQCQCBTgVBFlAtv6ty9MFWUCMQh770A5ZQM4fAobJEVlA3+rxsvYYWUBa79baExxZQCd7dEfSJFlA6i3bs0ooWUDKS9ULyydZQA==",
            "dtype": "f8"
           },
           "yaxis": "y"
          },
          {
           "line": {
            "color": "rgba(70, 130, 180, 0.9)",
            "width": 2
           },
           "name": "Ask",
           "type": "scatter",
           "x": {
            "bdata": "AAECAwQFBgcICQoLDA0ODxAREhMUFRYXGBkaGxwdHh8gISIjJCUmJygpKissLS4vMDEyMzQ1Njc4OTo7PD0+P0BBQkNERUZHSEk=",
            "dtype": "i1"
           },
           "xaxis": "x",
           "y": {
            "bdata": "5jdWjCX/WEAHK27FefRYQEWL/Wwf6VhAXMK1bZPgWED1xl+JKtxYQBlVPobL6FhAir3tsI7lWEBvuFWv0uZYQJzPApqD6VhAhatXG3vqWEBTCs/9HOpYQBMY4GOX4lhAzfWaWwHsWEChp2wJs/dYQFzD0u8O7VhA4bW176HmWEBinlpD+ORYQPAkfbvs3lhAzGpueUriWEBixIkKwt1YQMiLegm+61hAfx5cZn3zWEB4gfpy+vRYQIOD2NSt+1hA/Aq2geICWUB+PplNZ/9YQEGZ4cdO+lhARb4QlO/6WEAXyQ4NlABZQAsL06eYAVlAqcQqrKH3WEDhIswXn/JYQDgJ8KlG8lhAokgXduvxWED/adoKrP5YQELu+wHu9VhAEg0XIkv5WED6NAGq8wJZQOUhsPmdEVlA8hm5LSgPWUBFccgabhJZQM2bNF40FllANFvLaZUXWUBIVrg7FBdZQKj6qE3/GVlAUJdHPesJWUAUE5GCaQ5ZQBX3BQJZD1lAknflRQ0OWUCu3bueRxtZQIYSf5MWF1lADfPH8aIUWUCvIGOsgiFZQPR1MDFQHFlAsGC5pusYWUCOZGaIGxhZQMmsm8KdHVlAkqbn/RIfWUCpfyXs7RZZQCzIFMmmE1lAm7zGduQPWUAzyoe2hg9ZQAsd6i5hEllA+d+6Iy8VWUDIfwQX8glZQPDO0QTiEFlAgst6mKASWUBYD+vHnRtZQJrszlKWHllAq7e+f8MlWUAmvKOn4ChZQPNHQRSfMVlAtvqngBc1WUCWGKLYlzRZQA==",
            "dtype": "f8"
           },
           "yaxis": "y"
          },
          {
           "marker": {
            "color": [
             "rgba(31, 119, 180, 0.8)",
             "rgba(31, 119, 180, 0.8)",
             "rgba(31, 119, 180, 0.8)",
             "rgba(31, 119, 180, 0.8)",
             "rgba(31, 119, 180, 0.8)",
             "rgba(31, 119, 180, 0.8)",
             "rgba(178, 34, 34, 0.8)",
             "rgba(31, 119, 180, 0.8)",
             "rgba(31, 119, 180, 0.8)",
             "rgba(31, 119, 180, 0.8)",
             "rgba(31, 119, 180, 0.8)",
             "rgba(31, 119, 180, 0.8)",
             "rgba(178, 34, 34, 0.8)",
             "rgba(178, 34, 34, 0.8)",
             "rgba(31, 119, 180, 0.8)",
             "rgba(31, 119, 180, 0.8)",
             "rgba(31, 119, 180, 0.8)",
             "rgba(31, 119, 180, 0.8)",
             "rgba(178, 34, 34, 0.8)",
             "rgba(31, 119, 180, 0.8)",
             "rgba(178, 34, 34, 0.8)",
             "rgba(178, 34, 34, 0.8)",
             "rgba(178, 34, 34, 0.8)",
             "rgba(178, 34, 34, 0.8)",
             "rgba(178, 34, 34, 0.8)",
             "rgba(31, 119, 180, 0.8)",
             "rgba(31, 119, 180, 0.8)",
             "rgba(31, 119, 180, 0.8)",
             "rgba(178, 34, 34, 0.8)",
             "rgba(31, 119, 180, 0.8)",
             "rgba(31, 119, 180, 0.8)",
             "rgba(31, 119, 180, 0.8)",
             "rgba(31, 119, 180, 0.8)",
             "rgba(31, 119, 180, 0.8)",
             "rgba(178, 34, 34, 0.8)",
             "rgba(31, 119, 180, 0.8)",
             "rgba(178, 34, 34, 0.8)",
             "rgba(178, 34, 34, 0.8)",
             "rgba(178, 34, 34, 0.8)",
             "rgba(31, 119, 180, 0.8)",
             "rgba(178, 34, 34, 0.8)",
             "rgba(178, 34, 34, 0.8)",
             "rgba(31, 119, 180, 0.8)",
             "rgba(31, 119, 180, 0.8)",
             "rgba(178, 34, 34, 0.8)",
             "rgba(31, 119, 180, 0.8)",
             "rgba(31, 119, 180, 0.8)",
             "rgba(31, 119, 180, 0.8)",
             "rgba(31, 119, 180, 0.8)",
             "rgba(178, 34, 34, 0.8)",
             "rgba(31, 119, 180, 0.8)",
             "rgba(31, 119, 180, 0.8)",
             "rgba(31, 119, 180, 0.8)",
             "rgba(31, 119, 180, 0.8)",
             "rgba(31, 119, 180, 0.8)",
             "rgba(31, 119, 180, 0.8)",
             "rgba(31, 119, 180, 0.8)",
             "rgba(31, 119, 180, 0.8)",
             "rgba(178, 34, 34, 0.8)",
             "rgba(178, 34, 34, 0.8)",
             "rgba(178, 34, 34, 0.8)",
             "rgba(178, 34, 34, 0.8)",
             "rgba(31, 119, 180, 0.8)",
             "rgba(31, 119, 180, 0.8)",
             "rgba(31, 119, 180, 0.8)",
             "rgba(178, 34, 34, 0.8)",
             "rgba(31, 119, 180, 0.8)",
             "rgba(178, 34, 34, 0.8)",
             "rgba(178, 34, 34, 0.8)",
             "rgba(178, 34, 34, 0.8)",
             "rgba(178, 34, 34, 0.8)",
             "rgba(178, 34, 34, 0.8)",
             "rgba(178, 34, 34, 0.8)",
             "rgba(31, 119, 180, 0.8)"
            ]
           },
           "name": "Trade P&L",
           "type": "bar",
           "x": {
            "bdata": "AAECAwQFBgcICQoLDA0ODxAREhMUFRYXGBkaGxwdHh8gISIjJCUmJygpKissLS4vMDEyMzQ1Njc4OTo7PD0+P0BBQkNERUZHSEk=",
            "dtype": "i1"
           },
           "xaxis": "x2",
           "y": {
            "bdata": "mpmZmZmZuT9mJIA29L3bP2YoBte+wNE/mpmZmZmZuT8AAAAAAAAAAGaK9ERjB9M/AHi8hKrmqb+amZmZmZm5PzTLecrdq60/mlG68o7dsT+a8ScB/AK+P2bmSkSacdU/AHS7de/T0r+aFa8Oo67cvwDPrM1M7N8/AHEoVwBH0z/NxIilLxrKPzPQ4twGUOI/M4N5ghqYy78zpnlTtxDjP2Yy9UdkXvq/TU1O4pHq579mhsUy+ge2v03z01WjQOS/gCdaB1046b8AcpfJbF7YP4BVwgLU1eE/aGbk004Alj/Nq/JFdIzgv6CZqzZzsXI/GsUUANIJ8z8zU7qthD3nP80KNNbOosE/zdTT9ToTwT9NNaC0QK7svzOtKvBEr+Q/zEywV8+Hrb/NnByh3B3gv00tMFNEzOK/ZjKGQpY90D8zcZzMde7DvwCo1BxR39K/0EwZbQFHjD8AgJ1gwiWgP8zMNVx71qK/M4uWlENH4z9oJqrOEYKeP5qRefKdHbI/zd7JjzWTxD8AKplBhdfjv81s+b/5kM0/zb4LOxC0wT+amZmZmZm5PwAAAAAAAAAAzVT3uuGVwz+amZmZmZm5P81CXTdB0cc/AJCcv7RTlz8A0k2EI0rAv8DMSYTd72O/AIhccJISvr8AAJq8D3CHv818cpG9gcI/mpmZmZmZuT9ml8Ycc6PRPwCgPDW3v7u/NBNqo/hJpz8ArIfgXvrRv8z8iinSGaS/ADNhz4aH1b9mFq625Di4v5oAPXLf1NO/AJIwaIrSxL8AAGYage+XPw==",
            "dtype": "f8"
           },
           "yaxis": "y2"
          },
          {
           "line": {
            "color": "rgba(60, 179, 113, 0.9)",
            "width": 2
           },
           "name": "Cumulative P&L",
           "type": "scatter",
           "x": {
            "bdata": "AAECAwQFBgcICQoLDA0ODxAREhMUFRYXGBkaGxwdHh8gISIjJCUmJygpKissLS4vMDEyMzQ1Njc4OTo7PD0+P0BBQkNERUZHSEk=",
            "dtype": "i1"
           },
           "xaxis": "x2",
           "y": {
            "bdata": "AAAAAAAAAABmJIA29L3bP2Ymw4ZZv+Y/mVn2uYzy6T+ZWfa5jPLpP2ZPOC4fu/E/pmsS2unr8D9ABaxzg4XyP5rT/2HicvM/tHgrUbuQ9D/O9z0R63D2P2ixUKJRzfs/aNThxFUY9z8DHmwCWtnvP8JCoTTA5/c/Al9rSoC5/D+cdxw/xvz/P9vvxtZkkgRAqFefLuPYAkA1wX0DEZ0HQARQBr+92/Q/u1K+m+nM4T/cQ8uq1BfeP3xFuQHk0sS/33jIBxZt7r/fv/yi3z3iv8CXmg7oAoq/EDUumbX9gT/58o1vfUTgv8abIIkaH+C/bu4Id4n05T/QoGESB5n2PyoiKO1gzfg/xJziS8jv+j87BCXjTzHpP7fYp2lK8PY/UVbq7gsE9j/VD7g8O+rrPxDFD9PtO9I/u/vKCsI84T/cvkcvSYLYP3BbzEngi7Y/CoVvd8AUuj+FIt/T0BPBP6Reo/ljvLg/CPfKE9Be5j87SECi4FLnP256j2CUluk/IfKBxGG77j9CkNEFucfVP1Qj5/IaSOI/BxOqAR+15j86Rt00UujpPzpG3TRS6Ok/bRubo8rN7j9QJ2frfgDxP6rPUhKn+vM/6kFR5fVX9D+qh8d0sU7yP8RiBYa5RPI/RJr/XpBj8D9EZoY/sDTwP961tPHnhPI/eE9Oi4Ee9D9S9X9SXof4P1IrLN9iy/Y/7HtHpLKF9z/skCXsGgfzPwY52VpMZvI/jNgBTtUI6j+/FSy3uAHnP+QqG/yRLto/yMMFkJmKzz/kQanZRETRPw==",
            "dtype": "f8"
           },
           "yaxis": "y2"
          }
         ]
        },
        {
         "data": [
          {
           "line": {
            "color": "rgba(60, 179, 113, 0.9)",
            "dash": "dot",
            "width": 2
           },
           "name": "Mid Price (Estimated)",
           "type": "scatter",
           "x": {
            "bdata": "AAECAwQFBgcICQoLDA0ODxAREhMUFRYXGBkaGxwdHh8gISIjJCUmJygpKissLS4vMDEyMzQ1Njc4OTo7PD0+P0BBQkNERUZHSElK",
            "dtype": "i1"
           },
           "xaxis": "x",
           "y": {
            "bdata": "gNHvJb/4WEChxAdfE+5YQN8klwa54lhA9ltPBy3aWECPYPkixNVYQLPu1x9l4lhAJFeHSijfWEAJUu9IbOBYQDZpnDMd41hAH0XxtBTkWEDto2iXtuNYQK2xef0w3FhAZ4809ZrlWEA7QQajTPFYQPZcbImo5lhAe09PiTvgWED8N/Tckd5YQIq+FlWG2FhAZgQIE+TbWED8XSOkW9dYQGIlFKNX5VhAGbj1/xbtWEASG5QMlO5YQB0dcm5H9VhAlqRPG3z8WEAY2DLnAPlYQNsye2Ho81hA31eqLYn0WECxYqimLfpYQKWkbEEy+1hAQ17ERTvxWEB7vGWxOOxYQNKiiUPg61hAPOKwD4XrWECZA3SkRfhYQNyHlZuH71hArKawu+TyWECUzppDjfxYQH+7SZM3C1lAjLNSx8EIWUDfCmK0BwxZQGc1zvfND1lAzvRkAy8RWUDi71HVrRBZQEKUQueYE1lA6jDh1oQDWUCurCocAwhZQK+Qn5vyCFlALBF/36YHWUBId1U44RRZQCCsGC2wEFlAp4xhizwOWUBJuvxFHBtZQI4PysrpFVlASvpSQIUSWUAo/v8htRFZQGNGNVw3F1lALECBl6wYWUBDGb+FhxBZQMZhrmJADVlANVZgEH4JWUDNYyFQIAlZQKW2g8j6C1lAk3lUvcgOWUBiGZ6wiwNZQIpoa557CllAHGUUMjoMWUDyqIRhNxVZQDSGaOwvGFlARVFYGV0fWUDAVT1BeiJZQI3h2q04K1lAUJRBGrEuWUAwsjtyMS5ZQGiCC1/dPFlA",
            "dtype": "f8"
           },
           "yaxis": "y"
          },
          {
           "line": {
            "color": "rgba(178, 34, 34, 0.9)",
            "width": 2
           },
           "name": "Bid",
           "type": "scatter",
           "x": {
            "bdata": "AAECAwQFBgcICQoLDA0ODxAREhMUFRYXGBkaGxwdHh8gISIjJCUmJygpKissLS4vMDEyMzQ1Njc4OTo7PD0+P0BBQkNERUZHSElK",
            "dtype": "i1"
           },
           "xaxis": "x",
           "y": {
            "bdata": "GmuJv1jyWEA7XqH4rOdYQHm+MKBS3FhAkPXooMbTWEAp+pK8Xc9YQE2Icbn+21hAvvAg5MHYWECj64jiBdpYQNACNs223FhAud6KTq7dWECHPQIxUN1YQEdLE5fK1VhAASnOjjTfWEDV2p885upYQJD2BSNC4FhAFenoItXZWECW0Y12K9hYQCRYsO4f0lhAAJ6hrH3VWECW97w99dBYQPy+rTzx3lhAs1GPmbDmWECstC2mLehYQLe2Cwjh7lhAMD7ptBX2WECyccyAmvJYQHXMFPuB7VhAefFDxyLuWEBL/EFAx/NYQD8+BtvL9FhA3fdd39TqWEAVVv9K0uVYQGw8I9155VhA1ntKqR7lWEAznQ0+3/FYQHYhLzUh6VhARkBKVX7sWEAuaDTdJvZYQBlV4yzRBFlAJk3sYFsCWUB5pPtNoQVZQAHPZ5FnCVlAaI7+nMgKWUB8ietuRwpZQNwt3IAyDVlAhMp6cB79WEBIRsS1nAFZQEkqOTWMAllAxqoYeUABWUDiEO/Reg5ZQLpFssZJCllAQSb7JNYHWUDjU5bftRRZQCipY2SDD1lA5JPs2R4MWUDCl5m7TgtZQP3fzvXQEFlAxtkaMUYSWUDdslgfIQpZQGD7R/zZBllAz+/5qRcDWUBn/brpuQJZQD9QHWKUBVlALRPuVmIIWUD8sjdKJf1YQCQCBTgVBFlAtv6ty9MFWUCMQh770A5ZQM4fAobJEVlA3+rxsvYYWUBa79baExxZQCd7dEfSJFlA6i3bs0ooWUDKS9ULyydZQAIcpfh2NllA",
            "dtype": "f8"
           },
           "yaxis": "y"
          },
          {
           "line": {
            "color": "rgba(70, 130, 180, 0.9)",
            "width": 2
           },
           "name": "Ask",
           "type": "scatter",
           "x": {
            "bdata": "AAECAwQFBgcICQoLDA0ODxAREhMUFRYXGBkaGxwdHh8gISIjJCUmJygpKissLS4vMDEyMzQ1Njc4OTo7PD0+P0BBQkNERUZHSElK",
            "dtype": "i1"
           },
           "xaxis": "x",
           "y": {
            "bdata": "5jdWjCX/WEAHK27FefRYQEWL/Wwf6VhAXMK1bZPgWED1xl+JKtxYQBlVPobL6FhAir3tsI7lWEBvuFWv0uZYQJzPApqD6VhAhatXG3vqWEBTCs/9HOpYQBMY4GOX4lhAzfWaWwHsWEChp2wJs/dYQFzD0u8O7VhA4bW176HmWEBinlpD+ORYQPAkfbvs3lhAzGpueUriWEBixIkKwt1YQMiLegm+61hAfx5cZn3zWEB4gfpy+vRYQIOD2NSt+1hA/Aq2geICWUB+PplNZ/9YQEGZ4cdO+lhARb4QlO/6WEAXyQ4NlABZQAsL06eYAVlAqcQqrKH3WEDhIswXn/JYQDgJ8KlG8lhAokgXduvxWED/adoKrP5YQELu+wHu9VhAEg0XIkv5WED6NAGq8wJZQOUhsPmdEVlA8hm5LSgPWUBFccgabhJZQM2bNF40FllANFvLaZUXWUBIVrg7FBdZQKj6qE3/GVlAUJdHPesJWUAUE5GCaQ5ZQBX3BQJZD1lAknflRQ0OWUCu3bueRxtZQIYSf5MWF1lADfPH8aIUWUCvIGOsgiFZQPR1MDFQHFlAsGC5pusYWUCOZGaIGxhZQMmsm8KdHVlAkqbn/RIfWUCpfyXs7RZZQCzIFMmmE1lAm7zGduQPWUAzyoe2hg9ZQAsd6i5hEllA+d+6Iy8VWUDIfwQX8glZQPDO0QTiEFlAgst6mKASWUBYD+vHnRtZQJrszlKWHllAq7e+f8MlWUAmvKOn4ChZQPNHQRSfMVlAtvqngBc1WUCWGKLYlzRZQM7occVDQ1lA",
            "dtype": "f8"
           },
           "yaxis": "y"
          },
          {
           "marker": {
            "color": [
             "rgba(31, 119, 180, 0.8)",
             "rgba(31, 119, 180, 0.8)",
             "rgba(31, 119, 180, 0.8)",
             "rgba(31, 119, 180, 0.8)",
             "rgba(31, 119, 180, 0.8)",
             "rgba(31, 119, 180, 0.8)",
             "rgba(178, 34, 34, 0.8)",
             "rgba(31, 119, 180, 0.8)",
             "rgba(31, 119, 180, 0.8)",
             "rgba(31, 119, 180, 0.8)",
             "rgba(31, 119, 180, 0.8)",
             "rgba(31, 119, 180, 0.8)",
             "rgba(178, 34, 34, 0.8)",
             "rgba(178, 34, 34, 0.8)",
             "rgba(31, 119, 180, 0.8)",
             "rgba(31, 119, 180, 0.8)",
             "rgba(31, 119, 180, 0.8)",
             "rgba(31, 119, 180, 0.8)",
             "rgba(178, 34, 34, 0.8)",
             "rgba(31, 119, 180, 0.8)",
             "rgba(178, 34, 34, 0.8)",
             "rgba(178, 34, 34, 0.8)",
             "rgba(178, 34, 34, 0.8)",
             "rgba(178, 34, 34, 0.8)",
             "rgba(178, 34, 34, 0.8)",
             "rgba(31, 119, 180, 0.8)",
             "rgba(31, 119, 180, 0.8)",
             "rgba(31, 119, 180, 0.8)",
             "rgba(178, 34, 34, 0.8)",
             "rgba(31, 119, 180, 0.8)",
             "rgba(31, 119, 180, 0.8)",
             "rgba(31, 119, 180, 0.8)",
             "rgba(31, 119, 180, 0.8)",
             "rgba(31, 119, 180, 0.8)",
             "rgba(178, 34, 34, 0.8)",
             "rgba(31, 119, 180, 0.8)",
             "rgba(178, 34, 34, 0.8)",
             "rgba(178, 34, 34, 0.8)",
             "rgba(178, 34, 34, 0.8)",
             "rgba(31, 119, 180, 0.8)",
             "rgba(178, 34, 34, 0.8)",
             "rgba(178, 34, 34, 0.8)",
             "rgba(31, 119, 180, 0.8)",
             "rgba(31, 119, 180, 0.8)",
             "rgba(178, 34, 34, 0.8)",
             "rgba(31, 119, 180, 0.8)",
             "rgba(31, 119, 180, 0.8)",
             "rgba(31, 119, 180, 0.8)",
             "rgba(31, 119, 180, 0.8)",
             "rgba(178, 34, 34, 0.8)",
             "rgba(31, 119, 180, 0.8)",
             "rgba(31, 119, 180, 0.8)",
             "rgba(31, 119, 180, 0.8)",
             "rgba(31, 119, 180, 0.8)",
             "rgba(31, 119, 180, 0.8)",
             "rgba(31, 119, 180, 0.8)",
             "rgba(31, 119, 180, 0.8)",
             "rgba(31, 119, 180, 0.8)",
             "rgba(178, 34, 34, 0.8)",
             "rgba(178, 34, 34, 0.8)",
             "rgba(178, 34, 34, 0.8)",
             "rgba(178, 34, 34, 0.8)",
             "rgba(31, 119, 180, 0.8)",
             "rgba(31, 119, 180, 0.8)",
             "rgba(31, 119, 180, 0.8)",
             "rgba(178, 34, 34, 0.8)",
             "rgba(31, 119, 180, 0.8)",
             "rgba(178, 34, 34, 0.8)",
             "rgba(178, 34, 34, 0.8)",
             "rgba(178, 34, 34, 0.8)",
             "rgba(178, 34, 34, 0.8)",
             "rgba(178, 34, 34, 0.8)",
             "rgba(178, 34, 34, 0.8)",
             "rgba(31, 119, 180, 0.8)",
             "rgba(178, 34, 34, 0.8)"
            ]
           },
           "name": "Trade P&L",
           "type": "bar",
           "x": {
            "bdata": "AAECAwQFBgcICQoLDA0ODxAREhMUFRYXGBkaGxwdHh8gISIjJCUmJygpKissLS4vMDEyMzQ1Njc4OTo7PD0+P0BBQkNERUZHSElK",
            "dtype": "i1"
           },
           "xaxis": "x2",
           "y": {
            "bdata": "mpmZmZmZuT9mJIA29L3bP2YoBte+wNE/mpmZmZmZuT8AAAAAAAAAAGaK9ERjB9M/AHi8hKrmqb+amZmZmZm5PzTLecrdq60/mlG68o7dsT+a8ScB/AK+P2bmSkSacdU/AHS7de/T0r+aFa8Oo67cvwDPrM1M7N8/AHEoVwBH0z/NxIilLxrKPzPQ4twGUOI/M4N5ghqYy78zpnlTtxDjP2Yy9UdkXvq/TU1O4pHq579mhsUy+ge2v03z01WjQOS/gCdaB1046b8AcpfJbF7YP4BVwgLU1eE/aGbk004Alj/Nq/JFdIzgv6CZqzZzsXI/GsUUANIJ8z8zU7qthD3nP80KNNbOosE/zdTT9ToTwT9NNaC0QK7svzOtKvBEr+Q/zEywV8+Hrb/NnByh3B3gv00tMFNEzOK/ZjKGQpY90D8zcZzMde7DvwCo1BxR39K/0EwZbQFHjD8AgJ1gwiWgP8zMNVx71qK/M4uWlENH4z9oJqrOEYKeP5qRefKdHbI/zd7JjzWTxD8AKplBhdfjv81s+b/5kM0/zb4LOxC0wT+amZmZmZm5PwAAAAAAAAAAzVT3uuGVwz+amZmZmZm5P81CXTdB0cc/AJCcv7RTlz8A0k2EI0rAv8DMSYTd72O/AIhccJISvr8AAJq8D3CHv818cpG9gcI/mpmZmZmZuT9ml8Ycc6PRPwCgPDW3v7u/NBNqo/hJpz8ArIfgXvrRv8z8iinSGaS/ADNhz4aH1b9mFq625Di4v5oAPXLf1NO/AJIwaIrSxL8AAGYage+XPwBUuDfjAea/",
            "dtype": "f8"
           },
           "yaxis": "y2"
          },
          {
           "line": {
            "color": "rgba(60, 179, 113, 0.9)",
            "width": 2
           },
           "name": "Cumulative P&L",
           "type": "scatter",
           "x": {
            "bdata": "AAECAwQFBgcICQoLDA0ODxAREhMUFRYXGBkaGxwdHh8gISIjJCUmJygpKissLS4vMDEyMzQ1Njc4OTo7PD0+P0BBQkNERUZHSElK",
            "dtype": "i1"
           },
           "xaxis": "x2",
           "y": {
            "bdata": "AAAAAAAAAABmJIA29L3bP2Ymw4ZZv+Y/mVn2uYzy6T+ZWfa5jPLpP2ZPOC4fu/E/pmsS2unr8D9ABaxzg4XyP5rT/2HicvM/tHgrUbuQ9D/O9z0R63D2P2ixUKJRzfs/aNThxFUY9z8DHmwCWtnvP8JCoTTA5/c/Al9rSoC5/D+cdxw/xvz/P9vvxtZkkgRAqFefLuPYAkA1wX0DEZ0HQARQBr+92/Q/u1K+m+nM4T/cQ8uq1BfeP3xFuQHk0sS/33jIBxZt7r/fv/yi3z3iv8CXmg7oAoq/EDUumbX9gT/58o1vfUTgv8abIIkaH+C/bu4Id4n05T/QoGESB5n2PyoiKO1gzfg/xJziS8jv+j87BCXjTzHpP7fYp2lK8PY/UVbq7gsE9j/VD7g8O+rrPxDFD9PtO9I/u/vKCsI84T/cvkcvSYLYP3BbzEngi7Y/CoVvd8AUuj+FIt/T0BPBP6Reo/ljvLg/CPfKE9Be5j87SECi4FLnP256j2CUluk/IfKBxGG77j9CkNEFucfVP1Qj5/IaSOI/BxOqAR+15j86Rt00UujpPzpG3TRS6Ok/bRubo8rN7j9QJ2frfgDxP6rPUhKn+vM/6kFR5fVX9D+qh8d0sU7yP8RiBYa5RPI/RJr/XpBj8D9EZoY/sDTwP961tPHnhPI/eE9Oi4Ee9D9S9X9SXof4P1IrLN9iy/Y/7HtHpLKF9z/skCXsGgfzPwY52VpMZvI/jNgBTtUI6j+/FSy3uAHnP+QqG/yRLto/yMMFkJmKzz/kQanZRETRPxxmx5WBv9q/",
            "dtype": "f8"
           },
           "yaxis": "y2"
          }
         ]
        },
        {
         "data": [
          {
           "line": {
            "color": "rgba(60, 179, 113, 0.9)",
            "dash": "dot",
            "width": 2
           },
           "name": "Mid Price (Estimated)",
           "type": "scatter",
           "x": {
            "bdata": "AAECAwQFBgcICQoLDA0ODxAREhMUFRYXGBkaGxwdHh8gISIjJCUmJygpKissLS4vMDEyMzQ1Njc4OTo7PD0+P0BBQkNERUZHSElKSw==",
            "dtype": "i1"
           },
           "xaxis": "x",
           "y": {
            "bdata": "gNHvJb/4WEChxAdfE+5YQN8klwa54lhA9ltPBy3aWECPYPkixNVYQLPu1x9l4lhAJFeHSijfWEAJUu9IbOBYQDZpnDMd41hAH0XxtBTkWEDto2iXtuNYQK2xef0w3FhAZ4809ZrlWEA7QQajTPFYQPZcbImo5lhAe09PiTvgWED8N/Tckd5YQIq+FlWG2FhAZgQIE+TbWED8XSOkW9dYQGIlFKNX5VhAGbj1/xbtWEASG5QMlO5YQB0dcm5H9VhAlqRPG3z8WEAY2DLnAPlYQNsye2Ho81hA31eqLYn0WECxYqimLfpYQKWkbEEy+1hAQ17ERTvxWEB7vGWxOOxYQNKiiUPg61hAPOKwD4XrWECZA3SkRfhYQNyHlZuH71hArKawu+TyWECUzppDjfxYQH+7SZM3C1lAjLNSx8EIWUDfCmK0BwxZQGc1zvfND1lAzvRkAy8RWUDi71HVrRBZQEKUQueYE1lA6jDh1oQDWUCurCocAwhZQK+Qn5vyCFlALBF/36YHWUBId1U44RRZQCCsGC2wEFlAp4xhizwOWUBJuvxFHBtZQI4PysrpFVlASvpSQIUSWUAo/v8htRFZQGNGNVw3F1lALECBl6wYWUBDGb+FhxBZQMZhrmJADVlANVZgEH4JWUDNYyFQIAlZQKW2g8j6C1lAk3lUvcgOWUBiGZ6wiwNZQIpoa557CllAHGUUMjoMWUDyqIRhNxVZQDSGaOwvGFlARVFYGV0fWUDAVT1BeiJZQI3h2q04K1lAUJRBGrEuWUAwsjtyMS5ZQGiCC1/dPFlAFEnZvK5CWUA=",
            "dtype": "f8"
           },
           "yaxis": "y"
          },
          {
           "line": {
            "color": "rgba(178, 34, 34, 0.9)",
            "width": 2
           },
           "name": "Bid",
           "type": "scatter",
           "x": {
            "bdata": "AAECAwQFBgcICQoLDA0ODxAREhMUFRYXGBkaGxwdHh8gISIjJCUmJygpKissLS4vMDEyMzQ1Njc4OTo7PD0+P0BBQkNERUZHSElKSw==",
            "dtype": "i1"
           },
           "xaxis": "x",
           "y": {
            "bdata": "GmuJv1jyWEA7XqH4rOdYQHm+MKBS3FhAkPXooMbTWEAp+pK8Xc9YQE2Icbn+21hAvvAg5MHYWECj64jiBdpYQNACNs223FhAud6KTq7dWECHPQIxUN1YQEdLE5fK1VhAASnOjjTfWEDV2p885upYQJD2BSNC4FhAFenoItXZWECW0Y12K9hYQCRYsO4f0lhAAJ6hrH3VWECW97w99dBYQPy+rTzx3lhAs1GPmbDmWECstC2mLehYQLe2Cwjh7lhAMD7ptBX2WECyccyAmvJYQHXMFPuB7VhAefFDxyLuWEBL/EFAx/NYQD8+BtvL9FhA3fdd39TqWEAVVv9K0uVYQGw8I9155VhA1ntKqR7lWEAznQ0+3/FYQHYhLzUh6VhARkBKVX7sWEAuaDTdJvZYQBlV4yzRBFlAJk3sYFsCWUB5pPtNoQVZQAHPZ5FnCVlAaI7+nMgKWUB8ietuRwpZQNwt3IAyDVlAhMp6cB79WEBIRsS1nAFZQEkqOTWMAllAxqoYeUABWUDiEO/Reg5ZQLpFssZJCllAQSb7JNYHWUDjU5bftRRZQCipY2SDD1lA5JPs2R4MWUDCl5m7TgtZQP3fzvXQEFlAxtkaMUYSWUDdslgfIQpZQGD7R/zZBllAz+/5qRcDWUBn/brpuQJZQD9QHWKUBVlALRPuVmIIWUD8sjdKJf1YQCQCBTgVBFlAtv6ty9MFWUCMQh770A5ZQM4fAobJEVlA3+rxsvYYWUBa79baExxZQCd7dEfSJFlA6i3bs0ooWUDKS9ULyydZQAIcpfh2NllAruJyVkg8WUA=",
            "dtype": "f8"
           },
           "yaxis": "y"
          },
          {
           "line": {
            "color": "rgba(70, 130, 180, 0.9)",
            "width": 2
           },
           "name": "Ask",
           "type": "scatter",
           "x": {
            "bdata": "AAECAwQFBgcICQoLDA0ODxAREhMUFRYXGBkaGxwdHh8gISIjJCUmJygpKissLS4vMDEyMzQ1Njc4OTo7PD0+P0BBQkNERUZHSElKSw==",
            "dtype": "i1"
           },
           "xaxis": "x",
           "y": {
            "bdata": "5jdWjCX/WEAHK27FefRYQEWL/Wwf6VhAXMK1bZPgWED1xl+JKtxYQBlVPobL6FhAir3tsI7lWEBvuFWv0uZYQJzPApqD6VhAhatXG3vqWEBTCs/9HOpYQBMY4GOX4lhAzfWaWwHsWEChp2wJs/dYQFzD0u8O7VhA4bW176HmWEBinlpD+ORYQPAkfbvs3lhAzGpueUriWEBixIkKwt1YQMiLegm+61hAfx5cZn3zWEB4gfpy+vRYQIOD2NSt+1hA/Aq2geICWUB+PplNZ/9YQEGZ4cdO+lhARb4QlO/6WEAXyQ4NlABZQAsL06eYAVlAqcQqrKH3WEDhIswXn/JYQDgJ8KlG8lhAokgXduvxWED/adoKrP5YQELu+wHu9VhAEg0XIkv5WED6NAGq8wJZQOUhsPmdEVlA8hm5LSgPWUBFccgabhJZQM2bNF40FllANFvLaZUXWUBIVrg7FBdZQKj6qE3/GVlAUJdHPesJWUAUE5GCaQ5ZQBX3BQJZD1lAknflRQ0OWUCu3bueRxtZQIYSf5MWF1lADfPH8aIUWUCvIGOsgiFZQPR1MDFQHFlAsGC5pusYWUCOZGaIGxhZQMmsm8KdHVlAkqbn/RIfWUCpfyXs7RZZQCzIFMmmE1lAm7zGduQPWUAzyoe2hg9ZQAsd6i5hEllA+d+6Iy8VWUDIfwQX8glZQPDO0QTiEFlAgst6mKASWUBYD+vHnRtZQJrszlKWHllAq7e+f8MlWUAmvKOn4ChZQPNHQRSfMVlAtvqngBc1WUCWGKLYlzRZQM7occVDQ1lAeq8/IxVJWUA=",
            "dtype": "f8"
           },
           "yaxis": "y"
          },
          {
           "marker": {
            "color": [
             "rgba(31, 119, 180, 0.8)",
             "rgba(31, 119, 180, 0.8)",
             "rgba(31, 119, 180, 0.8)",
             "rgba(31, 119, 180, 0.8)",
             "rgba(31, 119, 180, 0.8)",
             "rgba(31, 119, 180, 0.8)",
             "rgba(178, 34, 34, 0.8)",
             "rgba(31, 119, 180, 0.8)",
             "rgba(31, 119, 180, 0.8)",
             "rgba(31, 119, 180, 0.8)",
             "rgba(31, 119, 180, 0.8)",
             "rgba(31, 119, 180, 0.8)",
             "rgba(178, 34, 34, 0.8)",
             "rgba(178, 34, 34, 0.8)",
             "rgba(31, 119, 180, 0.8)",
             "rgba(31, 119, 180, 0.8)",
             "rgba(31, 119, 180, 0.8)",
             "rgba(31, 119, 180, 0.8)",
             "rgba(178, 34, 34, 0.8)",
             "rgba(31, 119, 180, 0.8)",
             "rgba(178, 34, 34, 0.8)",
             "rgba(178, 34, 34, 0.8)",
             "rgba(178, 34, 34, 0.8)",
             "rgba(178, 34, 34, 0.8)",
             "rgba(178, 34, 34, 0.8)",
             "rgba(31, 119, 180, 0.8)",
             "rgba(31, 119, 180, 0.8)",
             "rgba(31, 119, 180, 0.8)",
             "rgba(178, 34, 34, 0.8)",
             "rgba(31, 119, 180, 0.8)",
             "rgba(31, 119, 180, 0.8)",
             "rgba(31, 119, 180, 0.8)",
             "rgba(31, 119, 180, 0.8)",
             "rgba(31, 119, 180, 0.8)",
             "rgba(178, 34, 34, 0.8)",
             "rgba(31, 119, 180, 0.8)",
             "rgba(178, 34, 34, 0.8)",
             "rgba(178, 34, 34, 0.8)",
             "rgba(178, 34, 34, 0.8)",
             "rgba(31, 119, 180, 0.8)",
             "rgba(178, 34, 34, 0.8)",
             "rgba(178, 34, 34, 0.8)",
             "rgba(31, 119, 180, 0.8)",
             "rgba(31, 119, 180, 0.8)",
             "rgba(178, 34, 34, 0.8)",
             "rgba(31, 119, 180, 0.8)",
             "rgba(31, 119, 180, 0.8)",
             "rgba(31, 119, 180, 0.8)",
             "rgba(31, 119, 180, 0.8)",
             "rgba(178, 34, 34, 0.8)",
             "rgba(31, 119, 180, 0.8)",
             "rgba(31, 119, 180, 0.8)",
             "rgba(31, 119, 180, 0.8)",
             "rgba(31, 119, 180, 0.8)",
             "rgba(31, 119, 180, 0.8)",
             "rgba(31, 119, 180, 0.8)",
             "rgba(31, 119, 180, 0.8)",
             "rgba(31, 119, 180, 0.8)",
             "rgba(178, 34, 34, 0.8)",
             "rgba(178, 34, 34, 0.8)",
             "rgba(178, 34, 34, 0.8)",
             "rgba(178, 34, 34, 0.8)",
             "rgba(31, 119, 180, 0.8)",
             "rgba(31, 119, 180, 0.8)",
             "rgba(31, 119, 180, 0.8)",
             "rgba(178, 34, 34, 0.8)",
             "rgba(31, 119, 180, 0.8)",
             "rgba(178, 34, 34, 0.8)",
             "rgba(178, 34, 34, 0.8)",
             "rgba(178, 34, 34, 0.8)",
             "rgba(178, 34, 34, 0.8)",
             "rgba(178, 34, 34, 0.8)",
             "rgba(178, 34, 34, 0.8)",
             "rgba(31, 119, 180, 0.8)",
             "rgba(178, 34, 34, 0.8)",
             "rgba(178, 34, 34, 0.8)"
            ]
           },
           "name": "Trade P&L",
           "type": "bar",
           "x": {
            "bdata": "AAECAwQFBgcICQoLDA0ODxAREhMUFRYXGBkaGxwdHh8gISIjJCUmJygpKissLS4vMDEyMzQ1Njc4OTo7PD0+P0BBQkNERUZHSElKSw==",
            "dtype": "i1"
           },
           "xaxis": "x2",
           "y": {
            "bdata": "mpmZmZmZuT9mJIA29L3bP2YoBte+wNE/mpmZmZmZuT8AAAAAAAAAAGaK9ERjB9M/AHi8hKrmqb+amZmZmZm5PzTLecrdq60/mlG68o7dsT+a8ScB/AK+P2bmSkSacdU/AHS7de/T0r+aFa8Oo67cvwDPrM1M7N8/AHEoVwBH0z/NxIilLxrKPzPQ4twGUOI/M4N5ghqYy78zpnlTtxDjP2Yy9UdkXvq/TU1O4pHq579mhsUy+ge2v03z01WjQOS/gCdaB1046b8AcpfJbF7YP4BVwgLU1eE/aGbk004Alj/Nq/JFdIzgv6CZqzZzsXI/GsUUANIJ8z8zU7qthD3nP80KNNbOosE/zdTT9ToTwT9NNaC0QK7svzOtKvBEr+Q/zEywV8+Hrb/NnByh3B3gv00tMFNEzOK/ZjKGQpY90D8zcZzMde7DvwCo1BxR39K/0EwZbQFHjD8AgJ1gwiWgP8zMNVx71qK/M4uWlENH4z9oJqrOEYKeP5qRefKdHbI/zd7JjzWTxD8AKplBhdfjv81s+b/5kM0/zb4LOxC0wT+amZmZmZm5PwAAAAAAAAAAzVT3uuGVwz+amZmZmZm5P81CXTdB0cc/AJCcv7RTlz8A0k2EI0rAv8DMSYTd72O/AIhccJISvr8AAJq8D3CHv818cpG9gcI/mpmZmZmZuT9ml8Ycc6PRPwCgPDW3v7u/NBNqo/hJpz8ArIfgXvrRv8z8iinSGaS/ADNhz4aH1b9mFq625Di4v5oAPXLf1NO/AJIwaIrSxL8AAGYage+XPwBUuDfjAea/mkm00BDf0L8=",
            "dtype": "f8"
           },
           "yaxis": "y2"
          },
          {
           "line": {
            "color": "rgba(60, 179, 113, 0.9)",
            "width": 2
           },
           "name": "Cumulative P&L",
           "type": "scatter",
           "x": {
            "bdata": "AAECAwQFBgcICQoLDA0ODxAREhMUFRYXGBkaGxwdHh8gISIjJCUmJygpKissLS4vMDEyMzQ1Njc4OTo7PD0+P0BBQkNERUZHSElKSw==",
            "dtype": "i1"
           },
           "xaxis": "x2",
           "y": {
            "bdata": "AAAAAAAAAABmJIA29L3bP2Ymw4ZZv+Y/mVn2uYzy6T+ZWfa5jPLpP2ZPOC4fu/E/pmsS2unr8D9ABaxzg4XyP5rT/2HicvM/tHgrUbuQ9D/O9z0R63D2P2ixUKJRzfs/aNThxFUY9z8DHmwCWtnvP8JCoTTA5/c/Al9rSoC5/D+cdxw/xvz/P9vvxtZkkgRAqFefLuPYAkA1wX0DEZ0HQARQBr+92/Q/u1K+m+nM4T/cQ8uq1BfeP3xFuQHk0sS/33jIBxZt7r/fv/yi3z3iv8CXmg7oAoq/EDUumbX9gT/58o1vfUTgv8abIIkaH+C/bu4Id4n05T/QoGESB5n2PyoiKO1gzfg/xJziS8jv+j87BCXjTzHpP7fYp2lK8PY/UVbq7gsE9j/VD7g8O+rrPxDFD9PtO9I/u/vKCsI84T/cvkcvSYLYP3BbzEngi7Y/CoVvd8AUuj+FIt/T0BPBP6Reo/ljvLg/CPfKE9Be5j87SECi4FLnP256j2CUluk/IfKBxGG77j9CkNEFucfVP1Qj5/IaSOI/BxOqAR+15j86Rt00UujpPzpG3TRS6Ok/bRubo8rN7j9QJ2frfgDxP6rPUhKn+vM/6kFR5fVX9D+qh8d0sU7yP8RiBYa5RPI/RJr/XpBj8D9EZoY/sDTwP961tPHnhPI/eE9Oi4Ee9D9S9X9SXof4P1IrLN9iy/Y/7HtHpLKF9z/skCXsGgfzPwY52VpMZvI/jNgBTtUI6j+/FSy3uAHnP+QqG/yRLto/yMMFkJmKzz/kQanZRETRPxxmx5WBv9q/29c9M0nP5b8=",
            "dtype": "f8"
           },
           "yaxis": "y2"
          }
         ]
        },
        {
         "data": [
          {
           "line": {
            "color": "rgba(60, 179, 113, 0.9)",
            "dash": "dot",
            "width": 2
           },
           "name": "Mid Price (Estimated)",
           "type": "scatter",
           "x": {
            "bdata": "AAECAwQFBgcICQoLDA0ODxAREhMUFRYXGBkaGxwdHh8gISIjJCUmJygpKissLS4vMDEyMzQ1Njc4OTo7PD0+P0BBQkNERUZHSElKS0w=",
            "dtype": "i1"
           },
           "xaxis": "x",
           "y": {
            "bdata": "gNHvJb/4WEChxAdfE+5YQN8klwa54lhA9ltPBy3aWECPYPkixNVYQLPu1x9l4lhAJFeHSijfWEAJUu9IbOBYQDZpnDMd41hAH0XxtBTkWEDto2iXtuNYQK2xef0w3FhAZ4809ZrlWEA7QQajTPFYQPZcbImo5lhAe09PiTvgWED8N/Tckd5YQIq+FlWG2FhAZgQIE+TbWED8XSOkW9dYQGIlFKNX5VhAGbj1/xbtWEASG5QMlO5YQB0dcm5H9VhAlqRPG3z8WEAY2DLnAPlYQNsye2Ho81hA31eqLYn0WECxYqimLfpYQKWkbEEy+1hAQ17ERTvxWEB7vGWxOOxYQNKiiUPg61hAPOKwD4XrWECZA3SkRfhYQNyHlZuH71hArKawu+TyWECUzppDjfxYQH+7SZM3C1lAjLNSx8EIWUDfCmK0BwxZQGc1zvfND1lAzvRkAy8RWUDi71HVrRBZQEKUQueYE1lA6jDh1oQDWUCurCocAwhZQK+Qn5vyCFlALBF/36YHWUBId1U44RRZQCCsGC2wEFlAp4xhizwOWUBJuvxFHBtZQI4PysrpFVlASvpSQIUSWUAo/v8htRFZQGNGNVw3F1lALECBl6wYWUBDGb+FhxBZQMZhrmJADVlANVZgEH4JWUDNYyFQIAlZQKW2g8j6C1lAk3lUvcgOWUBiGZ6wiwNZQIpoa557CllAHGUUMjoMWUDyqIRhNxVZQDSGaOwvGFlARVFYGV0fWUDAVT1BeiJZQI3h2q04K1lAUJRBGrEuWUAwsjtyMS5ZQGiCC1/dPFlAFEnZvK5CWUCdC0+He0ZZQA==",
            "dtype": "f8"
           },
           "yaxis": "y"
          },
          {
           "line": {
            "color": "rgba(178, 34, 34, 0.9)",
            "width": 2
           },
           "name": "Bid",
           "type": "scatter",
           "x": {
            "bdata": "AAECAwQFBgcICQoLDA0ODxAREhMUFRYXGBkaGxwdHh8gISIjJCUmJygpKissLS4vMDEyMzQ1Njc4OTo7PD0+P0BBQkNERUZHSElKS0w=",
            "dtype": "i1"
           },
           "xaxis": "x",
           "y": {
            "bdata": "GmuJv1jyWEA7XqH4rOdYQHm+MKBS3FhAkPXooMbTWEAp+pK8Xc9YQE2Icbn+21hAvvAg5MHYWECj64jiBdpYQNACNs223FhAud6KTq7dWECHPQIxUN1YQEdLE5fK1VhAASnOjjTfWEDV2p885upYQJD2BSNC4FhAFenoItXZWECW0Y12K9hYQCRYsO4f0lhAAJ6hrH3VWECW97w99dBYQPy+rTzx3lhAs1GPmbDmWECstC2mLehYQLe2Cwjh7lhAMD7ptBX2WECyccyAmvJYQHXMFPuB7VhAefFDxyLuWEBL/EFAx/NYQD8+BtvL9FhA3fdd39TqWEAVVv9K0uVYQGw8I9155VhA1ntKqR7lWEAznQ0+3/FYQHYhLzUh6VhARkBKVX7sWEAuaDTdJvZYQBlV4yzRBFlAJk3sYFsCWUB5pPtNoQVZQAHPZ5FnCVlAaI7+nMgKWUB8ietuRwpZQNwt3IAyDVlAhMp6cB79WEBIRsS1nAFZQEkqOTWMAllAxqoYeUABWUDiEO/Reg5ZQLpFssZJCllAQSb7JNYHWUDjU5bftRRZQCipY2SDD1lA5JPs2R4MWUDCl5m7TgtZQP3fzvXQEFlAxtkaMUYSWUDdslgfIQpZQGD7R/zZBllAz+/5qRcDWUBn/brpuQJZQD9QHWKUBVlALRPuVmIIWUD8sjdKJf1YQCQCBTgVBFlAtv6ty9MFWUCMQh770A5ZQM4fAobJEVlA3+rxsvYYWUBa79baExxZQCd7dEfSJFlA6i3bs0ooWUDKS9ULyydZQAIcpfh2NllAruJyVkg8WUA3peggFUBZQA==",
            "dtype": "f8"
           },
           "yaxis": "y"
          },
          {
           "line": {
            "color": "rgba(70, 130, 180, 0.9)",
            "width": 2
           },
           "name": "Ask",
           "type": "scatter",
           "x": {
            "bdata": "AAECAwQFBgcICQoLDA0ODxAREhMUFRYXGBkaGxwdHh8gISIjJCUmJygpKissLS4vMDEyMzQ1Njc4OTo7PD0+P0BBQkNERUZHSElKS0w=",
            "dtype": "i1"
           },
           "xaxis": "x",
           "y": {
            "bdata": "5jdWjCX/WEAHK27FefRYQEWL/Wwf6VhAXMK1bZPgWED1xl+JKtxYQBlVPobL6FhAir3tsI7lWEBvuFWv0uZYQJzPApqD6VhAhatXG3vqWEBTCs/9HOpYQBMY4GOX4lhAzfWaWwHsWEChp2wJs/dYQFzD0u8O7VhA4bW176HmWEBinlpD+ORYQPAkfbvs3lhAzGpueUriWEBixIkKwt1YQMiLegm+61hAfx5cZn3zWEB4gfpy+vRYQIOD2NSt+1hA/Aq2geICWUB+PplNZ/9YQEGZ4cdO+lhARb4QlO/6WEAXyQ4NlABZQAsL06eYAVlAqcQqrKH3WEDhIswXn/JYQDgJ8KlG8lhAokgXduvxWED/adoKrP5YQELu+wHu9VhAEg0XIkv5WED6NAGq8wJZQOUhsPmdEVlA8hm5LSgPWUBFccgabhJZQM2bNF40FllANFvLaZUXWUBIVrg7FBdZQKj6qE3/GVlAUJdHPesJWUAUE5GCaQ5ZQBX3BQJZD1lAknflRQ0OWUCu3bueRxtZQIYSf5MWF1lADfPH8aIUWUCvIGOsgiFZQPR1MDFQHFlAsGC5pusYWUCOZGaIGxhZQMmsm8KdHVlAkqbn/RIfWUCpfyXs7RZZQCzIFMmmE1lAm7zGduQPWUAzyoe2hg9ZQAsd6i5hEllA+d+6Iy8VWUDIfwQX8glZQPDO0QTiEFlAgst6mKASWUBYD+vHnRtZQJrszlKWHllAq7e+f8MlWUAmvKOn4ChZQPNHQRSfMVlAtvqngBc1WUCWGKLYlzRZQM7occVDQ1lAeq8/IxVJWUADcrXt4UxZQA==",
            "dtype": "f8"
           },
           "yaxis": "y"
          },
          {
           "marker": {
            "color": [
             "rgba(31, 119, 180, 0.8)",
             "rgba(31, 119, 180, 0.8)",
             "rgba(31, 119, 180, 0.8)",
             "rgba(31, 119, 180, 0.8)",
             "rgba(31, 119, 180, 0.8)",
             "rgba(31, 119, 180, 0.8)",
             "rgba(178, 34, 34, 0.8)",
             "rgba(31, 119, 180, 0.8)",
             "rgba(31, 119, 180, 0.8)",
             "rgba(31, 119, 180, 0.8)",
             "rgba(31, 119, 180, 0.8)",
             "rgba(31, 119, 180, 0.8)",
             "rgba(178, 34, 34, 0.8)",
             "rgba(178, 34, 34, 0.8)",
             "rgba(31, 119, 180, 0.8)",
             "rgba(31, 119, 180, 0.8)",
             "rgba(31, 119, 180, 0.8)",
             "rgba(31, 119, 180, 0.8)",
             "rgba(178, 34, 34, 0.8)",
             "rgba(31, 119, 180, 0.8)",
             "rgba(178, 34, 34, 0.8)",
             "rgba(178, 34, 34, 0.8)",
             "rgba(178, 34, 34, 0.8)",
             "rgba(178, 34, 34, 0.8)",
             "rgba(178, 34, 34, 0.8)",
             "rgba(31, 119, 180, 0.8)",
             "rgba(31, 119, 180, 0.8)",
             "rgba(31, 119, 180, 0.8)",
             "rgba(178, 34, 34, 0.8)",
             "rgba(31, 119, 180, 0.8)",
             "rgba(31, 119, 180, 0.8)",
             "rgba(31, 119, 180, 0.8)",
             "rgba(31, 119, 180, 0.8)",
             "rgba(31, 119, 180, 0.8)",
             "rgba(178, 34, 34, 0.8)",
             "rgba(31, 119, 180, 0.8)",
             "rgba(178, 34, 34, 0.8)",
             "rgba(178, 34, 34, 0.8)",
             "rgba(178, 34, 34, 0.8)",
             "rgba(31, 119, 180, 0.8)",
             "rgba(178, 34, 34, 0.8)",
             "rgba(178, 34, 34, 0.8)",
             "rgba(31, 119, 180, 0.8)",
             "rgba(31, 119, 180, 0.8)",
             "rgba(178, 34, 34, 0.8)",
             "rgba(31, 119, 180, 0.8)",
             "rgba(31, 119, 180, 0.8)",
             "rgba(31, 119, 180, 0.8)",
             "rgba(31, 119, 180, 0.8)",
             "rgba(178, 34, 34, 0.8)",
             "rgba(31, 119, 180, 0.8)",
             "rgba(31, 119, 180, 0.8)",
             "rgba(31, 119, 180, 0.8)",
             "rgba(31, 119, 180, 0.8)",
             "rgba(31, 119, 180, 0.8)",
             "rgba(31, 119, 180, 0.8)",
             "rgba(31, 119, 180, 0.8)",
             "rgba(31, 119, 180, 0.8)",
             "rgba(178, 34, 34, 0.8)",
             "rgba(178, 34, 34, 0.8)",
             "rgba(178, 34, 34, 0.8)",
             "rgba(178, 34, 34, 0.8)",
             "rgba(31, 119, 180, 0.8)",
             "rgba(31, 119, 180, 0.8)",
             "rgba(31, 119, 180, 0.8)",
             "rgba(178, 34, 34, 0.8)",
             "rgba(31, 119, 180, 0.8)",
             "rgba(178, 34, 34, 0.8)",
             "rgba(178, 34, 34, 0.8)",
             "rgba(178, 34, 34, 0.8)",
             "rgba(178, 34, 34, 0.8)",
             "rgba(178, 34, 34, 0.8)",
             "rgba(178, 34, 34, 0.8)",
             "rgba(31, 119, 180, 0.8)",
             "rgba(178, 34, 34, 0.8)",
             "rgba(178, 34, 34, 0.8)",
             "rgba(178, 34, 34, 0.8)"
            ]
           },
           "name": "Trade P&L",
           "type": "bar",
           "x": {
            "bdata": "AAECAwQFBgcICQoLDA0ODxAREhMUFRYXGBkaGxwdHh8gISIjJCUmJygpKissLS4vMDEyMzQ1Njc4OTo7PD0+P0BBQkNERUZHSElKS0w=",
            "dtype": "i1"
           },
           "xaxis": "x2",
           "y": {
            "bdata": "mpmZmZmZuT9mJIA29L3bP2YoBte+wNE/mpmZmZmZuT8AAAAAAAAAAGaK9ERjB9M/AHi8hKrmqb+amZmZmZm5PzTLecrdq60/mlG68o7dsT+a8ScB/AK+P2bmSkSacdU/AHS7de/T0r+aFa8Oo67cvwDPrM1M7N8/AHEoVwBH0z/NxIilLxrKPzPQ4twGUOI/M4N5ghqYy78zpnlTtxDjP2Yy9UdkXvq/TU1O4pHq579mhsUy+ge2v03z01WjQOS/gCdaB1046b8AcpfJbF7YP4BVwgLU1eE/aGbk004Alj/Nq/JFdIzgv6CZqzZzsXI/GsUUANIJ8z8zU7qthD3nP80KNNbOosE/zdTT9ToTwT9NNaC0QK7svzOtKvBEr+Q/zEywV8+Hrb/NnByh3B3gv00tMFNEzOK/ZjKGQpY90D8zcZzMde7DvwCo1BxR39K/0EwZbQFHjD8AgJ1gwiWgP8zMNVx71qK/M4uWlENH4z9oJqrOEYKeP5qRefKdHbI/zd7JjzWTxD8AKplBhdfjv81s+b/5kM0/zb4LOxC0wT+amZmZmZm5PwAAAAAAAAAAzVT3uuGVwz+amZmZmZm5P81CXTdB0cc/AJCcv7RTlz8A0k2EI0rAv8DMSYTd72O/AIhccJISvr8AAJq8D3CHv818cpG9gcI/mpmZmZmZuT9ml8Ycc6PRPwCgPDW3v7u/NBNqo/hJpz8ArIfgXvrRv8z8iinSGaS/ADNhz4aH1b9mFq625Di4v5oAPXLf1NO/AJIwaIrSxL8AAGYage+XPwBUuDfjAea/mkm00BDf0L9m0oTr4/+zvw==",
            "dtype": "f8"
           },
           "yaxis": "y2"
          },
          {
           "line": {
            "color": "rgba(60, 179, 113, 0.9)",
            "width": 2
           },
           "name": "Cumulative P&L",
           "type": "scatter",
           "x": {
            "bdata": "AAECAwQFBgcICQoLDA0ODxAREhMUFRYXGBkaGxwdHh8gISIjJCUmJygpKissLS4vMDEyMzQ1Njc4OTo7PD0+P0BBQkNERUZHSElKS0w=",
            "dtype": "i1"
           },
           "xaxis": "x2",
           "y": {
            "bdata": "AAAAAAAAAABmJIA29L3bP2Ymw4ZZv+Y/mVn2uYzy6T+ZWfa5jPLpP2ZPOC4fu/E/pmsS2unr8D9ABaxzg4XyP5rT/2HicvM/tHgrUbuQ9D/O9z0R63D2P2ixUKJRzfs/aNThxFUY9z8DHmwCWtnvP8JCoTTA5/c/Al9rSoC5/D+cdxw/xvz/P9vvxtZkkgRAqFefLuPYAkA1wX0DEZ0HQARQBr+92/Q/u1K+m+nM4T/cQ8uq1BfeP3xFuQHk0sS/33jIBxZt7r/fv/yi3z3iv8CXmg7oAoq/EDUumbX9gT/58o1vfUTgv8abIIkaH+C/bu4Id4n05T/QoGESB5n2PyoiKO1gzfg/xJziS8jv+j87BCXjTzHpP7fYp2lK8PY/UVbq7gsE9j/VD7g8O+rrPxDFD9PtO9I/u/vKCsI84T/cvkcvSYLYP3BbzEngi7Y/CoVvd8AUuj+FIt/T0BPBP6Reo/ljvLg/CPfKE9Be5j87SECi4FLnP256j2CUluk/IfKBxGG77j9CkNEFucfVP1Qj5/IaSOI/BxOqAR+15j86Rt00UujpPzpG3TRS6Ok/bRubo8rN7j9QJ2frfgDxP6rPUhKn+vM/6kFR5fVX9D+qh8d0sU7yP8RiBYa5RPI/RJr/XpBj8D9EZoY/sDTwP961tPHnhPI/eE9Oi4Ee9D9S9X9SXof4P1IrLN9iy/Y/7HtHpLKF9z/skCXsGgfzPwY52VpMZvI/jNgBTtUI6j+/FSy3uAHnP+QqG/yRLto/yMMFkJmKzz/kQanZRETRPxxmx5WBv9q/29c9M0nP5b8ocq6wRU/ovw==",
            "dtype": "f8"
           },
           "yaxis": "y2"
          }
         ]
        },
        {
         "data": [
          {
           "line": {
            "color": "rgba(60, 179, 113, 0.9)",
            "dash": "dot",
            "width": 2
           },
           "name": "Mid Price (Estimated)",
           "type": "scatter",
           "x": {
            "bdata": "AAECAwQFBgcICQoLDA0ODxAREhMUFRYXGBkaGxwdHh8gISIjJCUmJygpKissLS4vMDEyMzQ1Njc4OTo7PD0+P0BBQkNERUZHSElKS0xN",
            "dtype": "i1"
           },
           "xaxis": "x",
           "y": {
            "bdata": "gNHvJb/4WEChxAdfE+5YQN8klwa54lhA9ltPBy3aWECPYPkixNVYQLPu1x9l4lhAJFeHSijfWEAJUu9IbOBYQDZpnDMd41hAH0XxtBTkWEDto2iXtuNYQK2xef0w3FhAZ4809ZrlWEA7QQajTPFYQPZcbImo5lhAe09PiTvgWED8N/Tckd5YQIq+FlWG2FhAZgQIE+TbWED8XSOkW9dYQGIlFKNX5VhAGbj1/xbtWEASG5QMlO5YQB0dcm5H9VhAlqRPG3z8WEAY2DLnAPlYQNsye2Ho81hA31eqLYn0WECxYqimLfpYQKWkbEEy+1hAQ17ERTvxWEB7vGWxOOxYQNKiiUPg61hAPOKwD4XrWECZA3SkRfhYQNyHlZuH71hArKawu+TyWECUzppDjfxYQH+7SZM3C1lAjLNSx8EIWUDfCmK0BwxZQGc1zvfND1lAzvRkAy8RWUDi71HVrRBZQEKUQueYE1lA6jDh1oQDWUCurCocAwhZQK+Qn5vyCFlALBF/36YHWUBId1U44RRZQCCsGC2wEFlAp4xhizwOWUBJuvxFHBtZQI4PysrpFVlASvpSQIUSWUAo/v8htRFZQGNGNVw3F1lALECBl6wYWUBDGb+FhxBZQMZhrmJADVlANVZgEH4JWUDNYyFQIAlZQKW2g8j6C1lAk3lUvcgOWUBiGZ6wiwNZQIpoa557CllAHGUUMjoMWUDyqIRhNxVZQDSGaOwvGFlARVFYGV0fWUDAVT1BeiJZQI3h2q04K1lAUJRBGrEuWUAwsjtyMS5ZQGiCC1/dPFlAFEnZvK5CWUCdC0+He0ZZQFt5CzNxPllA",
            "dtype": "f8"
           },
           "yaxis": "y"
          },
          {
           "line": {
            "color": "rgba(178, 34, 34, 0.9)",
            "width": 2
           },
           "name": "Bid",
           "type": "scatter",
           "x": {
            "bdata": "AAECAwQFBgcICQoLDA0ODxAREhMUFRYXGBkaGxwdHh8gISIjJCUmJygpKissLS4vMDEyMzQ1Njc4OTo7PD0+P0BBQkNERUZHSElKS0xN",
            "dtype": "i1"
           },
           "xaxis": "x",
           "y": {
            "bdata": "GmuJv1jyWEA7XqH4rOdYQHm+MKBS3FhAkPXooMbTWEAp+pK8Xc9YQE2Icbn+21hAvvAg5MHYWECj64jiBdpYQNACNs223FhAud6KTq7dWECHPQIxUN1YQEdLE5fK1VhAASnOjjTfWEDV2p885upYQJD2BSNC4FhAFenoItXZWECW0Y12K9hYQCRYsO4f0lhAAJ6hrH3VWECW97w99dBYQPy+rTzx3lhAs1GPmbDmWECstC2mLehYQLe2Cwjh7lhAMD7ptBX2WECyccyAmvJYQHXMFPuB7VhAefFDxyLuWEBL/EFAx/NYQD8+BtvL9FhA3fdd39TqWEAVVv9K0uVYQGw8I9155VhA1ntKqR7lWEAznQ0+3/FYQHYhLzUh6VhARkBKVX7sWEAuaDTdJvZYQBlV4yzRBFlAJk3sYFsCWUB5pPtNoQVZQAHPZ5FnCVlAaI7+nMgKWUB8ietuRwpZQNwt3IAyDVlAhMp6cB79WEBIRsS1nAFZQEkqOTWMAllAxqoYeUABWUDiEO/Reg5ZQLpFssZJCllAQSb7JNYHWUDjU5bftRRZQCipY2SDD1lA5JPs2R4MWUDCl5m7TgtZQP3fzvXQEFlAxtkaMUYSWUDdslgfIQpZQGD7R/zZBllAz+/5qRcDWUBn/brpuQJZQD9QHWKUBVlALRPuVmIIWUD8sjdKJf1YQCQCBTgVBFlAtv6ty9MFWUCMQh770A5ZQM4fAobJEVlA3+rxsvYYWUBa79baExxZQCd7dEfSJFlA6i3bs0ooWUDKS9ULyydZQAIcpfh2NllAruJyVkg8WUA3peggFUBZQPUSpcwKOFlA",
            "dtype": "f8"
           },
           "yaxis": "y"
          },
          {
           "line": {
            "color": "rgba(70, 130, 180, 0.9)",
            "width": 2
           },
           "name": "Ask",
           "type": "scatter",
           "x": {
            "bdata": "AAECAwQFBgcICQoLDA0ODxAREhMUFRYXGBkaGxwdHh8gISIjJCUmJygpKissLS4vMDEyMzQ1Njc4OTo7PD0+P0BBQkNERUZHSElKS0xN",
            "dtype": "i1"
           },
           "xaxis": "x",
           "y": {
            "bdata": "5jdWjCX/WEAHK27FefRYQEWL/Wwf6VhAXMK1bZPgWED1xl+JKtxYQBlVPobL6FhAir3tsI7lWEBvuFWv0uZYQJzPApqD6VhAhatXG3vqWEBTCs/9HOpYQBMY4GOX4lhAzfWaWwHsWEChp2wJs/dYQFzD0u8O7VhA4bW176HmWEBinlpD+ORYQPAkfbvs3lhAzGpueUriWEBixIkKwt1YQMiLegm+61hAfx5cZn3zWEB4gfpy+vRYQIOD2NSt+1hA/Aq2geICWUB+PplNZ/9YQEGZ4cdO+lhARb4QlO/6WEAXyQ4NlABZQAsL06eYAVlAqcQqrKH3WEDhIswXn/JYQDgJ8KlG8lhAokgXduvxWED/adoKrP5YQELu+wHu9VhAEg0XIkv5WED6NAGq8wJZQOUhsPmdEVlA8hm5LSgPWUBFccgabhJZQM2bNF40FllANFvLaZUXWUBIVrg7FBdZQKj6qE3/GVlAUJdHPesJWUAUE5GCaQ5ZQBX3BQJZD1lAknflRQ0OWUCu3bueRxtZQIYSf5MWF1lADfPH8aIUWUCvIGOsgiFZQPR1MDFQHFlAsGC5pusYWUCOZGaIGxhZQMmsm8KdHVlAkqbn/RIfWUCpfyXs7RZZQCzIFMmmE1lAm7zGduQPWUAzyoe2hg9ZQAsd6i5hEllA+d+6Iy8VWUDIfwQX8glZQPDO0QTiEFlAgst6mKASWUBYD+vHnRtZQJrszlKWHllAq7e+f8MlWUAmvKOn4ChZQPNHQRSfMVlAtvqngBc1WUCWGKLYlzRZQM7occVDQ1lAeq8/IxVJWUADcrXt4UxZQMHfcZnXRFlA",
            "dtype": "f8"
           },
           "yaxis": "y"
          },
          {
           "marker": {
            "color": [
             "rgba(31, 119, 180, 0.8)",
             "rgba(31, 119, 180, 0.8)",
             "rgba(31, 119, 180, 0.8)",
             "rgba(31, 119, 180, 0.8)",
             "rgba(31, 119, 180, 0.8)",
             "rgba(31, 119, 180, 0.8)",
             "rgba(178, 34, 34, 0.8)",
             "rgba(31, 119, 180, 0.8)",
             "rgba(31, 119, 180, 0.8)",
             "rgba(31, 119, 180, 0.8)",
             "rgba(31, 119, 180, 0.8)",
             "rgba(31, 119, 180, 0.8)",
             "rgba(178, 34, 34, 0.8)",
             "rgba(178, 34, 34, 0.8)",
             "rgba(31, 119, 180, 0.8)",
             "rgba(31, 119, 180, 0.8)",
             "rgba(31, 119, 180, 0.8)",
             "rgba(31, 119, 180, 0.8)",
             "rgba(178, 34, 34, 0.8)",
             "rgba(31, 119, 180, 0.8)",
             "rgba(178, 34, 34, 0.8)",
             "rgba(178, 34, 34, 0.8)",
             "rgba(178, 34, 34, 0.8)",
             "rgba(178, 34, 34, 0.8)",
             "rgba(178, 34, 34, 0.8)",
             "rgba(31, 119, 180, 0.8)",
             "rgba(31, 119, 180, 0.8)",
             "rgba(31, 119, 180, 0.8)",
             "rgba(178, 34, 34, 0.8)",
             "rgba(31, 119, 180, 0.8)",
             "rgba(31, 119, 180, 0.8)",
             "rgba(31, 119, 180, 0.8)",
             "rgba(31, 119, 180, 0.8)",
             "rgba(31, 119, 180, 0.8)",
             "rgba(178, 34, 34, 0.8)",
             "rgba(31, 119, 180, 0.8)",
             "rgba(178, 34, 34, 0.8)",
             "rgba(178, 34, 34, 0.8)",
             "rgba(178, 34, 34, 0.8)",
             "rgba(31, 119, 180, 0.8)",
             "rgba(178, 34, 34, 0.8)",
             "rgba(178, 34, 34, 0.8)",
             "rgba(31, 119, 180, 0.8)",
             "rgba(31, 119, 180, 0.8)",
             "rgba(178, 34, 34, 0.8)",
             "rgba(31, 119, 180, 0.8)",
             "rgba(31, 119, 180, 0.8)",
             "rgba(31, 119, 180, 0.8)",
             "rgba(31, 119, 180, 0.8)",
             "rgba(178, 34, 34, 0.8)",
             "rgba(31, 119, 180, 0.8)",
             "rgba(31, 119, 180, 0.8)",
             "rgba(31, 119, 180, 0.8)",
             "rgba(31, 119, 180, 0.8)",
             "rgba(31, 119, 180, 0.8)",
             "rgba(31, 119, 180, 0.8)",
             "rgba(31, 119, 180, 0.8)",
             "rgba(31, 119, 180, 0.8)",
             "rgba(178, 34, 34, 0.8)",
             "rgba(178, 34, 34, 0.8)",
             "rgba(178, 34, 34, 0.8)",
             "rgba(178, 34, 34, 0.8)",
             "rgba(31, 119, 180, 0.8)",
             "rgba(31, 119, 180, 0.8)",
             "rgba(31, 119, 180, 0.8)",
             "rgba(178, 34, 34, 0.8)",
             "rgba(31, 119, 180, 0.8)",
             "rgba(178, 34, 34, 0.8)",
             "rgba(178, 34, 34, 0.8)",
             "rgba(178, 34, 34, 0.8)",
             "rgba(178, 34, 34, 0.8)",
             "rgba(178, 34, 34, 0.8)",
             "rgba(178, 34, 34, 0.8)",
             "rgba(31, 119, 180, 0.8)",
             "rgba(178, 34, 34, 0.8)",
             "rgba(178, 34, 34, 0.8)",
             "rgba(178, 34, 34, 0.8)",
             "rgba(31, 119, 180, 0.8)"
            ]
           },
           "name": "Trade P&L",
           "type": "bar",
           "x": {
            "bdata": "AAECAwQFBgcICQoLDA0ODxAREhMUFRYXGBkaGxwdHh8gISIjJCUmJygpKissLS4vMDEyMzQ1Njc4OTo7PD0+P0BBQkNERUZHSElKS0xN",
            "dtype": "i1"
           },
           "xaxis": "x2",
           "y": {
            "bdata": "mpmZmZmZuT9mJIA29L3bP2YoBte+wNE/mpmZmZmZuT8AAAAAAAAAAGaK9ERjB9M/AHi8hKrmqb+amZmZmZm5PzTLecrdq60/mlG68o7dsT+a8ScB/AK+P2bmSkSacdU/AHS7de/T0r+aFa8Oo67cvwDPrM1M7N8/AHEoVwBH0z/NxIilLxrKPzPQ4twGUOI/M4N5ghqYy78zpnlTtxDjP2Yy9UdkXvq/TU1O4pHq579mhsUy+ge2v03z01WjQOS/gCdaB1046b8AcpfJbF7YP4BVwgLU1eE/aGbk004Alj/Nq/JFdIzgv6CZqzZzsXI/GsUUANIJ8z8zU7qthD3nP80KNNbOosE/zdTT9ToTwT9NNaC0QK7svzOtKvBEr+Q/zEywV8+Hrb/NnByh3B3gv00tMFNEzOK/ZjKGQpY90D8zcZzMde7DvwCo1BxR39K/0EwZbQFHjD8AgJ1gwiWgP8zMNVx71qK/M4uWlENH4z9oJqrOEYKeP5qRefKdHbI/zd7JjzWTxD8AKplBhdfjv81s+b/5kM0/zb4LOxC0wT+amZmZmZm5PwAAAAAAAAAAzVT3uuGVwz+amZmZmZm5P81CXTdB0cc/AJCcv7RTlz8A0k2EI0rAv8DMSYTd72O/AIhccJISvr8AAJq8D3CHv818cpG9gcI/mpmZmZmZuT9ml8Ycc6PRPwCgPDW3v7u/NBNqo/hJpz8ArIfgXvrRv8z8iinSGaS/ADNhz4aH1b9mFq625Di4v5oAPXLf1NO/AJIwaIrSxL8AAGYage+XPwBUuDfjAea/mkm00BDf0L9m0oTr4/+zvzO3V7rbR+M/",
            "dtype": "f8"
           },
           "yaxis": "y2"
          },
          {
           "line": {
            "color": "rgba(60, 179, 113, 0.9)",
            "width": 2
           },
           "name": "Cumulative P&L",
           "type": "scatter",
           "x": {
            "bdata": "AAECAwQFBgcICQoLDA0ODxAREhMUFRYXGBkaGxwdHh8gISIjJCUmJygpKissLS4vMDEyMzQ1Njc4OTo7PD0+P0BBQkNERUZHSElKS0xN",
            "dtype": "i1"
           },
           "xaxis": "x2",
           "y": {
            "bdata": "AAAAAAAAAABmJIA29L3bP2Ymw4ZZv+Y/mVn2uYzy6T+ZWfa5jPLpP2ZPOC4fu/E/pmsS2unr8D9ABaxzg4XyP5rT/2HicvM/tHgrUbuQ9D/O9z0R63D2P2ixUKJRzfs/aNThxFUY9z8DHmwCWtnvP8JCoTTA5/c/Al9rSoC5/D+cdxw/xvz/P9vvxtZkkgRAqFefLuPYAkA1wX0DEZ0HQARQBr+92/Q/u1K+m+nM4T/cQ8uq1BfeP3xFuQHk0sS/33jIBxZt7r/fv/yi3z3iv8CXmg7oAoq/EDUumbX9gT/58o1vfUTgv8abIIkaH+C/bu4Id4n05T/QoGESB5n2PyoiKO1gzfg/xJziS8jv+j87BCXjTzHpP7fYp2lK8PY/UVbq7gsE9j/VD7g8O+rrPxDFD9PtO9I/u/vKCsI84T/cvkcvSYLYP3BbzEngi7Y/CoVvd8AUuj+FIt/T0BPBP6Reo/ljvLg/CPfKE9Be5j87SECi4FLnP256j2CUluk/IfKBxGG77j9CkNEFucfVP1Qj5/IaSOI/BxOqAR+15j86Rt00UujpPzpG3TRS6Ok/bRubo8rN7j9QJ2frfgDxP6rPUhKn+vM/6kFR5fVX9D+qh8d0sU7yP8RiBYa5RPI/RJr/XpBj8D9EZoY/sDTwP961tPHnhPI/eE9Oi4Ee9D9S9X9SXof4P1IrLN9iy/Y/7HtHpLKF9z/skCXsGgfzPwY52VpMZvI/jNgBTtUI6j+/FSy3uAHnP+QqG/yRLto/yMMFkJmKzz/kQanZRETRPxxmx5WBv9q/29c9M0nP5b8ocq6wRU/ov9TrWtmnHcS/",
            "dtype": "f8"
           },
           "yaxis": "y2"
          }
         ]
        },
        {
         "data": [
          {
           "line": {
            "color": "rgba(60, 179, 113, 0.9)",
            "dash": "dot",
            "width": 2
           },
           "name": "Mid Price (Estimated)",
           "type": "scatter",
           "x": {
            "bdata": "AAECAwQFBgcICQoLDA0ODxAREhMUFRYXGBkaGxwdHh8gISIjJCUmJygpKissLS4vMDEyMzQ1Njc4OTo7PD0+P0BBQkNERUZHSElKS0xNTg==",
            "dtype": "i1"
           },
           "xaxis": "x",
           "y": {
            "bdata": "gNHvJb/4WEChxAdfE+5YQN8klwa54lhA9ltPBy3aWECPYPkixNVYQLPu1x9l4lhAJFeHSijfWEAJUu9IbOBYQDZpnDMd41hAH0XxtBTkWEDto2iXtuNYQK2xef0w3FhAZ4809ZrlWEA7QQajTPFYQPZcbImo5lhAe09PiTvgWED8N/Tckd5YQIq+FlWG2FhAZgQIE+TbWED8XSOkW9dYQGIlFKNX5VhAGbj1/xbtWEASG5QMlO5YQB0dcm5H9VhAlqRPG3z8WEAY2DLnAPlYQNsye2Ho81hA31eqLYn0WECxYqimLfpYQKWkbEEy+1hAQ17ERTvxWEB7vGWxOOxYQNKiiUPg61hAPOKwD4XrWECZA3SkRfhYQNyHlZuH71hArKawu+TyWECUzppDjfxYQH+7SZM3C1lAjLNSx8EIWUDfCmK0BwxZQGc1zvfND1lAzvRkAy8RWUDi71HVrRBZQEKUQueYE1lA6jDh1oQDWUCurCocAwhZQK+Qn5vyCFlALBF/36YHWUBId1U44RRZQCCsGC2wEFlAp4xhizwOWUBJuvxFHBtZQI4PysrpFVlASvpSQIUSWUAo/v8htRFZQGNGNVw3F1lALECBl6wYWUBDGb+FhxBZQMZhrmJADVlANVZgEH4JWUDNYyFQIAlZQKW2g8j6C1lAk3lUvcgOWUBiGZ6wiwNZQIpoa557CllAHGUUMjoMWUDyqIRhNxVZQDSGaOwvGFlARVFYGV0fWUDAVT1BeiJZQI3h2q04K1lAUJRBGrEuWUAwsjtyMS5ZQGiCC1/dPFlAFEnZvK5CWUCdC0+He0ZZQFt5CzNxPllAaARGNFM2WUA=",
            "dtype": "f8"
           },
           "yaxis": "y"
          },
          {
           "line": {
            "color": "rgba(178, 34, 34, 0.9)",
            "width": 2
           },
           "name": "Bid",
           "type": "scatter",
           "x": {
            "bdata": "AAECAwQFBgcICQoLDA0ODxAREhMUFRYXGBkaGxwdHh8gISIjJCUmJygpKissLS4vMDEyMzQ1Njc4OTo7PD0+P0BBQkNERUZHSElKS0xNTg==",
            "dtype": "i1"
           },
           "xaxis": "x",
           "y": {
            "bdata": "GmuJv1jyWEA7XqH4rOdYQHm+MKBS3FhAkPXooMbTWEAp+pK8Xc9YQE2Icbn+21hAvvAg5MHYWECj64jiBdpYQNACNs223FhAud6KTq7dWECHPQIxUN1YQEdLE5fK1VhAASnOjjTfWEDV2p885upYQJD2BSNC4FhAFenoItXZWECW0Y12K9hYQCRYsO4f0lhAAJ6hrH3VWECW97w99dBYQPy+rTzx3lhAs1GPmbDmWECstC2mLehYQLe2Cwjh7lhAMD7ptBX2WECyccyAmvJYQHXMFPuB7VhAefFDxyLuWEBL/EFAx/NYQD8+BtvL9FhA3fdd39TqWEAVVv9K0uVYQGw8I9155VhA1ntKqR7lWEAznQ0+3/FYQHYhLzUh6VhARkBKVX7sWEAuaDTdJvZYQBlV4yzRBFlAJk3sYFsCWUB5pPtNoQVZQAHPZ5FnCVlAaI7+nMgKWUB8ietuRwpZQNwt3IAyDVlAhMp6cB79WEBIRsS1nAFZQEkqOTWMAllAxqoYeUABWUDiEO/Reg5ZQLpFssZJCllAQSb7JNYHWUDjU5bftRRZQCipY2SDD1lA5JPs2R4MWUDCl5m7TgtZQP3fzvXQEFlAxtkaMUYSWUDdslgfIQpZQGD7R/zZBllAz+/5qRcDWUBn/brpuQJZQD9QHWKUBVlALRPuVmIIWUD8sjdKJf1YQCQCBTgVBFlAtv6ty9MFWUCMQh770A5ZQM4fAobJEVlA3+rxsvYYWUBa79baExxZQCd7dEfSJFlA6i3bs0ooWUDKS9ULyydZQAIcpfh2NllAruJyVkg8WUA3peggFUBZQPUSpcwKOFlAAp7fzewvWUA=",
            "dtype": "f8"
           },
           "yaxis": "y"
          },
          {
           "line": {
            "color": "rgba(70, 130, 180, 0.9)",
            "width": 2
           },
           "name": "Ask",
           "type": "scatter",
           "x": {
            "bdata": "AAECAwQFBgcICQoLDA0ODxAREhMUFRYXGBkaGxwdHh8gISIjJCUmJygpKissLS4vMDEyMzQ1Njc4OTo7PD0+P0BBQkNERUZHSElKS0xNTg==",
            "dtype": "i1"
           },
           "xaxis": "x",
           "y": {
            "bdata": "5jdWjCX/WEAHK27FefRYQEWL/Wwf6VhAXMK1bZPgWED1xl+JKtxYQBlVPobL6FhAir3tsI7lWEBvuFWv0uZYQJzPApqD6VhAhatXG3vqWEBTCs/9HOpYQBMY4GOX4lhAzfWaWwHsWEChp2wJs/dYQFzD0u8O7VhA4bW176HmWEBinlpD+ORYQPAkfbvs3lhAzGpueUriWEBixIkKwt1YQMiLegm+61hAfx5cZn3zWEB4gfpy+vRYQIOD2NSt+1hA/Aq2geICWUB+PplNZ/9YQEGZ4cdO+lhARb4QlO/6WEAXyQ4NlABZQAsL06eYAVlAqcQqrKH3WEDhIswXn/JYQDgJ8KlG8lhAokgXduvxWED/adoKrP5YQELu+wHu9VhAEg0XIkv5WED6NAGq8wJZQOUhsPmdEVlA8hm5LSgPWUBFccgabhJZQM2bNF40FllANFvLaZUXWUBIVrg7FBdZQKj6qE3/GVlAUJdHPesJWUAUE5GCaQ5ZQBX3BQJZD1lAknflRQ0OWUCu3bueRxtZQIYSf5MWF1lADfPH8aIUWUCvIGOsgiFZQPR1MDFQHFlAsGC5pusYWUCOZGaIGxhZQMmsm8KdHVlAkqbn/RIfWUCpfyXs7RZZQCzIFMmmE1lAm7zGduQPWUAzyoe2hg9ZQAsd6i5hEllA+d+6Iy8VWUDIfwQX8glZQPDO0QTiEFlAgst6mKASWUBYD+vHnRtZQJrszlKWHllAq7e+f8MlWUAmvKOn4ChZQPNHQRSfMVlAtvqngBc1WUCWGKLYlzRZQM7occVDQ1lAeq8/IxVJWUADcrXt4UxZQMHfcZnXRFlAzmqsmrk8WUA=",
            "dtype": "f8"
           },
           "yaxis": "y"
          },
          {
           "marker": {
            "color": [
             "rgba(31, 119, 180, 0.8)",
             "rgba(31, 119, 180, 0.8)",
             "rgba(31, 119, 180, 0.8)",
             "rgba(31, 119, 180, 0.8)",
             "rgba(31, 119, 180, 0.8)",
             "rgba(31, 119, 180, 0.8)",
             "rgba(178, 34, 34, 0.8)",
             "rgba(31, 119, 180, 0.8)",
             "rgba(31, 119, 180, 0.8)",
             "rgba(31, 119, 180, 0.8)",
             "rgba(31, 119, 180, 0.8)",
             "rgba(31, 119, 180, 0.8)",
             "rgba(178, 34, 34, 0.8)",
             "rgba(178, 34, 34, 0.8)",
             "rgba(31, 119, 180, 0.8)",
             "rgba(31, 119, 180, 0.8)",
             "rgba(31, 119, 180, 0.8)",
             "rgba(31, 119, 180, 0.8)",
             "rgba(178, 34, 34, 0.8)",
             "rgba(31, 119, 180, 0.8)",
             "rgba(178, 34, 34, 0.8)",
             "rgba(178, 34, 34, 0.8)",
             "rgba(178, 34, 34, 0.8)",
             "rgba(178, 34, 34, 0.8)",
             "rgba(178, 34, 34, 0.8)",
             "rgba(31, 119, 180, 0.8)",
             "rgba(31, 119, 180, 0.8)",
             "rgba(31, 119, 180, 0.8)",
             "rgba(178, 34, 34, 0.8)",
             "rgba(31, 119, 180, 0.8)",
             "rgba(31, 119, 180, 0.8)",
             "rgba(31, 119, 180, 0.8)",
             "rgba(31, 119, 180, 0.8)",
             "rgba(31, 119, 180, 0.8)",
             "rgba(178, 34, 34, 0.8)",
             "rgba(31, 119, 180, 0.8)",
             "rgba(178, 34, 34, 0.8)",
             "rgba(178, 34, 34, 0.8)",
             "rgba(178, 34, 34, 0.8)",
             "rgba(31, 119, 180, 0.8)",
             "rgba(178, 34, 34, 0.8)",
             "rgba(178, 34, 34, 0.8)",
             "rgba(31, 119, 180, 0.8)",
             "rgba(31, 119, 180, 0.8)",
             "rgba(178, 34, 34, 0.8)",
             "rgba(31, 119, 180, 0.8)",
             "rgba(31, 119, 180, 0.8)",
             "rgba(31, 119, 180, 0.8)",
             "rgba(31, 119, 180, 0.8)",
             "rgba(178, 34, 34, 0.8)",
             "rgba(31, 119, 180, 0.8)",
             "rgba(31, 119, 180, 0.8)",
             "rgba(31, 119, 180, 0.8)",
             "rgba(31, 119, 180, 0.8)",
             "rgba(31, 119, 180, 0.8)",
             "rgba(31, 119, 180, 0.8)",
             "rgba(31, 119, 180, 0.8)",
             "rgba(31, 119, 180, 0.8)",
             "rgba(178, 34, 34, 0.8)",
             "rgba(178, 34, 34, 0.8)",
             "rgba(178, 34, 34, 0.8)",
             "rgba(178, 34, 34, 0.8)",
             "rgba(31, 119, 180, 0.8)",
             "rgba(31, 119, 180, 0.8)",
             "rgba(31, 119, 180, 0.8)",
             "rgba(178, 34, 34, 0.8)",
             "rgba(31, 119, 180, 0.8)",
             "rgba(178, 34, 34, 0.8)",
             "rgba(178, 34, 34, 0.8)",
             "rgba(178, 34, 34, 0.8)",
             "rgba(178, 34, 34, 0.8)",
             "rgba(178, 34, 34, 0.8)",
             "rgba(178, 34, 34, 0.8)",
             "rgba(31, 119, 180, 0.8)",
             "rgba(178, 34, 34, 0.8)",
             "rgba(178, 34, 34, 0.8)",
             "rgba(178, 34, 34, 0.8)",
             "rgba(31, 119, 180, 0.8)",
             "rgba(31, 119, 180, 0.8)"
            ]
           },
           "name": "Trade P&L",
           "type": "bar",
           "x": {
            "bdata": "AAECAwQFBgcICQoLDA0ODxAREhMUFRYXGBkaGxwdHh8gISIjJCUmJygpKissLS4vMDEyMzQ1Njc4OTo7PD0+P0BBQkNERUZHSElKS0xNTg==",
            "dtype": "i1"
           },
           "xaxis": "x2",
           "y": {
            "bdata": "mpmZmZmZuT9mJIA29L3bP2YoBte+wNE/mpmZmZmZuT8AAAAAAAAAAGaK9ERjB9M/AHi8hKrmqb+amZmZmZm5PzTLecrdq60/mlG68o7dsT+a8ScB/AK+P2bmSkSacdU/AHS7de/T0r+aFa8Oo67cvwDPrM1M7N8/AHEoVwBH0z/NxIilLxrKPzPQ4twGUOI/M4N5ghqYy78zpnlTtxDjP2Yy9UdkXvq/TU1O4pHq579mhsUy+ge2v03z01WjQOS/gCdaB1046b8AcpfJbF7YP4BVwgLU1eE/aGbk004Alj/Nq/JFdIzgv6CZqzZzsXI/GsUUANIJ8z8zU7qthD3nP80KNNbOosE/zdTT9ToTwT9NNaC0QK7svzOtKvBEr+Q/zEywV8+Hrb/NnByh3B3gv00tMFNEzOK/ZjKGQpY90D8zcZzMde7DvwCo1BxR39K/0EwZbQFHjD8AgJ1gwiWgP8zMNVx71qK/M4uWlENH4z9oJqrOEYKeP5qRefKdHbI/zd7JjzWTxD8AKplBhdfjv81s+b/5kM0/zb4LOxC0wT+amZmZmZm5PwAAAAAAAAAAzVT3uuGVwz+amZmZmZm5P81CXTdB0cc/AJCcv7RTlz8A0k2EI0rAv8DMSYTd72O/AIhccJISvr8AAJq8D3CHv818cpG9gcI/mpmZmZmZuT9ml8Ycc6PRPwCgPDW3v7u/NBNqo/hJpz8ArIfgXvrRv8z8iinSGaS/ADNhz4aH1b9mFq625Di4v5oAPXLf1NO/AJIwaIrSxL8AAGYage+XPwBUuDfjAea/mkm00BDf0L9m0oTr4/+zvzO3V7rbR+M/s5LXIDB+5z8=",
            "dtype": "f8"
           },
           "yaxis": "y2"
          },
          {
           "line": {
            "color": "rgba(60, 179, 113, 0.9)",
            "width": 2
           },
           "name": "Cumulative P&L",
           "type": "scatter",
           "x": {
            "bdata": "AAECAwQFBgcICQoLDA0ODxAREhMUFRYXGBkaGxwdHh8gISIjJCUmJygpKissLS4vMDEyMzQ1Njc4OTo7PD0+P0BBQkNERUZHSElKS0xNTg==",
            "dtype": "i1"
           },
           "xaxis": "x2",
           "y": {
            "bdata": "AAAAAAAAAABmJIA29L3bP2Ymw4ZZv+Y/mVn2uYzy6T+ZWfa5jPLpP2ZPOC4fu/E/pmsS2unr8D9ABaxzg4XyP5rT/2HicvM/tHgrUbuQ9D/O9z0R63D2P2ixUKJRzfs/aNThxFUY9z8DHmwCWtnvP8JCoTTA5/c/Al9rSoC5/D+cdxw/xvz/P9vvxtZkkgRAqFefLuPYAkA1wX0DEZ0HQARQBr+92/Q/u1K+m+nM4T/cQ8uq1BfeP3xFuQHk0sS/33jIBxZt7r/fv/yi3z3iv8CXmg7oAoq/EDUumbX9gT/58o1vfUTgv8abIIkaH+C/bu4Id4n05T/QoGESB5n2PyoiKO1gzfg/xJziS8jv+j87BCXjTzHpP7fYp2lK8PY/UVbq7gsE9j/VD7g8O+rrPxDFD9PtO9I/u/vKCsI84T/cvkcvSYLYP3BbzEngi7Y/CoVvd8AUuj+FIt/T0BPBP6Reo/ljvLg/CPfKE9Be5j87SECi4FLnP256j2CUluk/IfKBxGG77j9CkNEFucfVP1Qj5/IaSOI/BxOqAR+15j86Rt00UujpPzpG3TRS6Ok/bRubo8rN7j9QJ2frfgDxP6rPUhKn+vM/6kFR5fVX9D+qh8d0sU7yP8RiBYa5RPI/RJr/XpBj8D9EZoY/sDTwP961tPHnhPI/eE9Oi4Ee9D9S9X9SXof4P1IrLN9iy/Y/7HtHpLKF9z/skCXsGgfzPwY52VpMZvI/jNgBTtUI6j+/FSy3uAHnP+QqG/yRLto/yMMFkJmKzz/kQanZRETRPxxmx5WBv9q/29c9M0nP5b8ocq6wRU/ov9TrWtmnHcS/vteAKsZ24j8=",
            "dtype": "f8"
           },
           "yaxis": "y2"
          }
         ]
        },
        {
         "data": [
          {
           "line": {
            "color": "rgba(60, 179, 113, 0.9)",
            "dash": "dot",
            "width": 2
           },
           "name": "Mid Price (Estimated)",
           "type": "scatter",
           "x": {
            "bdata": "AAECAwQFBgcICQoLDA0ODxAREhMUFRYXGBkaGxwdHh8gISIjJCUmJygpKissLS4vMDEyMzQ1Njc4OTo7PD0+P0BBQkNERUZHSElKS0xNTk8=",
            "dtype": "i1"
           },
           "xaxis": "x",
           "y": {
            "bdata": "gNHvJb/4WEChxAdfE+5YQN8klwa54lhA9ltPBy3aWECPYPkixNVYQLPu1x9l4lhAJFeHSijfWEAJUu9IbOBYQDZpnDMd41hAH0XxtBTkWEDto2iXtuNYQK2xef0w3FhAZ4809ZrlWEA7QQajTPFYQPZcbImo5lhAe09PiTvgWED8N/Tckd5YQIq+FlWG2FhAZgQIE+TbWED8XSOkW9dYQGIlFKNX5VhAGbj1/xbtWEASG5QMlO5YQB0dcm5H9VhAlqRPG3z8WEAY2DLnAPlYQNsye2Ho81hA31eqLYn0WECxYqimLfpYQKWkbEEy+1hAQ17ERTvxWEB7vGWxOOxYQNKiiUPg61hAPOKwD4XrWECZA3SkRfhYQNyHlZuH71hArKawu+TyWECUzppDjfxYQH+7SZM3C1lAjLNSx8EIWUDfCmK0BwxZQGc1zvfND1lAzvRkAy8RWUDi71HVrRBZQEKUQueYE1lA6jDh1oQDWUCurCocAwhZQK+Qn5vyCFlALBF/36YHWUBId1U44RRZQCCsGC2wEFlAp4xhizwOWUBJuvxFHBtZQI4PysrpFVlASvpSQIUSWUAo/v8htRFZQGNGNVw3F1lALECBl6wYWUBDGb+FhxBZQMZhrmJADVlANVZgEH4JWUDNYyFQIAlZQKW2g8j6C1lAk3lUvcgOWUBiGZ6wiwNZQIpoa557CllAHGUUMjoMWUDyqIRhNxVZQDSGaOwvGFlARVFYGV0fWUDAVT1BeiJZQI3h2q04K1lAUJRBGrEuWUAwsjtyMS5ZQGiCC1/dPFlAFEnZvK5CWUCdC0+He0ZZQFt5CzNxPllAaARGNFM2WUBsPKeOUzhZQA==",
            "dtype": "f8"
           },
           "yaxis": "y"
          },
          {
           "line": {
            "color": "rgba(178, 34, 34, 0.9)",
            "width": 2
           },
           "name": "Bid",
           "type": "scatter",
           "x": {
            "bdata": "AAECAwQFBgcICQoLDA0ODxAREhMUFRYXGBkaGxwdHh8gISIjJCUmJygpKissLS4vMDEyMzQ1Njc4OTo7PD0+P0BBQkNERUZHSElKS0xNTk8=",
            "dtype": "i1"
           },
           "xaxis": "x",
           "y": {
            "bdata": "GmuJv1jyWEA7XqH4rOdYQHm+MKBS3FhAkPXooMbTWEAp+pK8Xc9YQE2Icbn+21hAvvAg5MHYWECj64jiBdpYQNACNs223FhAud6KTq7dWECHPQIxUN1YQEdLE5fK1VhAASnOjjTfWEDV2p885upYQJD2BSNC4FhAFenoItXZWECW0Y12K9hYQCRYsO4f0lhAAJ6hrH3VWECW97w99dBYQPy+rTzx3lhAs1GPmbDmWECstC2mLehYQLe2Cwjh7lhAMD7ptBX2WECyccyAmvJYQHXMFPuB7VhAefFDxyLuWEBL/EFAx/NYQD8+BtvL9FhA3fdd39TqWEAVVv9K0uVYQGw8I9155VhA1ntKqR7lWEAznQ0+3/FYQHYhLzUh6VhARkBKVX7sWEAuaDTdJvZYQBlV4yzRBFlAJk3sYFsCWUB5pPtNoQVZQAHPZ5FnCVlAaI7+nMgKWUB8ietuRwpZQNwt3IAyDVlAhMp6cB79WEBIRsS1nAFZQEkqOTWMAllAxqoYeUABWUDiEO/Reg5ZQLpFssZJCllAQSb7JNYHWUDjU5bftRRZQCipY2SDD1lA5JPs2R4MWUDCl5m7TgtZQP3fzvXQEFlAxtkaMUYSWUDdslgfIQpZQGD7R/zZBllAz+/5qRcDWUBn/brpuQJZQD9QHWKUBVlALRPuVmIIWUD8sjdKJf1YQCQCBTgVBFlAtv6ty9MFWUCMQh770A5ZQM4fAobJEVlA3+rxsvYYWUBa79baExxZQCd7dEfSJFlA6i3bs0ooWUDKS9ULyydZQAIcpfh2NllAruJyVkg8WUA3peggFUBZQPUSpcwKOFlAAp7fzewvWUAG1kAo7TFZQA==",
            "dtype": "f8"
           },
           "yaxis": "y"
          },
          {
           "line": {
            "color": "rgba(70, 130, 180, 0.9)",
            "width": 2
           },
           "name": "Ask",
           "type": "scatter",
           "x": {
            "bdata": "AAECAwQFBgcICQoLDA0ODxAREhMUFRYXGBkaGxwdHh8gISIjJCUmJygpKissLS4vMDEyMzQ1Njc4OTo7PD0+P0BBQkNERUZHSElKS0xNTk8=",
            "dtype": "i1"
           },
           "xaxis": "x",
           "y": {
            "bdata": "5jdWjCX/WEAHK27FefRYQEWL/Wwf6VhAXMK1bZPgWED1xl+JKtxYQBlVPobL6FhAir3tsI7lWEBvuFWv0uZYQJzPApqD6VhAhatXG3vqWEBTCs/9HOpYQBMY4GOX4lhAzfWaWwHsWEChp2wJs/dYQFzD0u8O7VhA4bW176HmWEBinlpD+ORYQPAkfbvs3lhAzGpueUriWEBixIkKwt1YQMiLegm+61hAfx5cZn3zWEB4gfpy+vRYQIOD2NSt+1hA/Aq2geICWUB+PplNZ/9YQEGZ4cdO+lhARb4QlO/6WEAXyQ4NlABZQAsL06eYAVlAqcQqrKH3WEDhIswXn/JYQDgJ8KlG8lhAokgXduvxWED/adoKrP5YQELu+wHu9VhAEg0XIkv5WED6NAGq8wJZQOUhsPmdEVlA8hm5LSgPWUBFccgabhJZQM2bNF40FllANFvLaZUXWUBIVrg7FBdZQKj6qE3/GVlAUJdHPesJWUAUE5GCaQ5ZQBX3BQJZD1lAknflRQ0OWUCu3bueRxtZQIYSf5MWF1lADfPH8aIUWUCvIGOsgiFZQPR1MDFQHFlAsGC5pusYWUCOZGaIGxhZQMmsm8KdHVlAkqbn/RIfWUCpfyXs7RZZQCzIFMmmE1lAm7zGduQPWUAzyoe2hg9ZQAsd6i5hEllA+d+6Iy8VWUDIfwQX8glZQPDO0QTiEFlAgst6mKASWUBYD+vHnRtZQJrszlKWHllAq7e+f8MlWUAmvKOn4ChZQPNHQRSfMVlAtvqngBc1WUCWGKLYlzRZQM7occVDQ1lAeq8/IxVJWUADcrXt4UxZQMHfcZnXRFlAzmqsmrk8WUDSog31uT5ZQA==",
            "dtype": "f8"
           },
           "yaxis": "y"
          },
          {
           "marker": {
            "color": [
             "rgba(31, 119, 180, 0.8)",
             "rgba(31, 119, 180, 0.8)",
             "rgba(31, 119, 180, 0.8)",
             "rgba(31, 119, 180, 0.8)",
             "rgba(31, 119, 180, 0.8)",
             "rgba(31, 119, 180, 0.8)",
             "rgba(178, 34, 34, 0.8)",
             "rgba(31, 119, 180, 0.8)",
             "rgba(31, 119, 180, 0.8)",
             "rgba(31, 119, 180, 0.8)",
             "rgba(31, 119, 180, 0.8)",
             "rgba(31, 119, 180, 0.8)",
             "rgba(178, 34, 34, 0.8)",
             "rgba(178, 34, 34, 0.8)",
             "rgba(31, 119, 180, 0.8)",
             "rgba(31, 119, 180, 0.8)",
             "rgba(31, 119, 180, 0.8)",
             "rgba(31, 119, 180, 0.8)",
             "rgba(178, 34, 34, 0.8)",
             "rgba(31, 119, 180, 0.8)",
             "rgba(178, 34, 34, 0.8)",
             "rgba(178, 34, 34, 0.8)",
             "rgba(178, 34, 34, 0.8)",
             "rgba(178, 34, 34, 0.8)",
             "rgba(178, 34, 34, 0.8)",
             "rgba(31, 119, 180, 0.8)",
             "rgba(31, 119, 180, 0.8)",
             "rgba(31, 119, 180, 0.8)",
             "rgba(178, 34, 34, 0.8)",
             "rgba(31, 119, 180, 0.8)",
             "rgba(31, 119, 180, 0.8)",
             "rgba(31, 119, 180, 0.8)",
             "rgba(31, 119, 180, 0.8)",
             "rgba(31, 119, 180, 0.8)",
             "rgba(178, 34, 34, 0.8)",
             "rgba(31, 119, 180, 0.8)",
             "rgba(178, 34, 34, 0.8)",
             "rgba(178, 34, 34, 0.8)",
             "rgba(178, 34, 34, 0.8)",
             "rgba(31, 119, 180, 0.8)",
             "rgba(178, 34, 34, 0.8)",
             "rgba(178, 34, 34, 0.8)",
             "rgba(31, 119, 180, 0.8)",
             "rgba(31, 119, 180, 0.8)",
             "rgba(178, 34, 34, 0.8)",
             "rgba(31, 119, 180, 0.8)",
             "rgba(31, 119, 180, 0.8)",
             "rgba(31, 119, 180, 0.8)",
             "rgba(31, 119, 180, 0.8)",
             "rgba(178, 34, 34, 0.8)",
             "rgba(31, 119, 180, 0.8)",
             "rgba(31, 119, 180, 0.8)",
             "rgba(31, 119, 180, 0.8)",
             "rgba(31, 119, 180, 0.8)",
             "rgba(31, 119, 180, 0.8)",
             "rgba(31, 119, 180, 0.8)",
             "rgba(31, 119, 180, 0.8)",
             "rgba(31, 119, 180, 0.8)",
             "rgba(178, 34, 34, 0.8)",
             "rgba(178, 34, 34, 0.8)",
             "rgba(178, 34, 34, 0.8)",
             "rgba(178, 34, 34, 0.8)",
             "rgba(31, 119, 180, 0.8)",
             "rgba(31, 119, 180, 0.8)",
             "rgba(31, 119, 180, 0.8)",
             "rgba(178, 34, 34, 0.8)",
             "rgba(31, 119, 180, 0.8)",
             "rgba(178, 34, 34, 0.8)",
             "rgba(178, 34, 34, 0.8)",
             "rgba(178, 34, 34, 0.8)",
             "rgba(178, 34, 34, 0.8)",
             "rgba(178, 34, 34, 0.8)",
             "rgba(178, 34, 34, 0.8)",
             "rgba(31, 119, 180, 0.8)",
             "rgba(178, 34, 34, 0.8)",
             "rgba(178, 34, 34, 0.8)",
             "rgba(178, 34, 34, 0.8)",
             "rgba(31, 119, 180, 0.8)",
             "rgba(31, 119, 180, 0.8)",
             "rgba(178, 34, 34, 0.8)"
            ]
           },
           "name": "Trade P&L",
           "type": "bar",
           "x": {
            "bdata": "AAECAwQFBgcICQoLDA0ODxAREhMUFRYXGBkaGxwdHh8gISIjJCUmJygpKissLS4vMDEyMzQ1Njc4OTo7PD0+P0BBQkNERUZHSElKS0xNTk8=",
            "dtype": "i1"
           },
           "xaxis": "x2",
           "y": {
            "bdata": "mpmZmZmZuT9mJIA29L3bP2YoBte+wNE/mpmZmZmZuT8AAAAAAAAAAGaK9ERjB9M/AHi8hKrmqb+amZmZmZm5PzTLecrdq60/mlG68o7dsT+a8ScB/AK+P2bmSkSacdU/AHS7de/T0r+aFa8Oo67cvwDPrM1M7N8/AHEoVwBH0z/NxIilLxrKPzPQ4twGUOI/M4N5ghqYy78zpnlTtxDjP2Yy9UdkXvq/TU1O4pHq579mhsUy+ge2v03z01WjQOS/gCdaB1046b8AcpfJbF7YP4BVwgLU1eE/aGbk004Alj/Nq/JFdIzgv6CZqzZzsXI/GsUUANIJ8z8zU7qthD3nP80KNNbOosE/zdTT9ToTwT9NNaC0QK7svzOtKvBEr+Q/zEywV8+Hrb/NnByh3B3gv00tMFNEzOK/ZjKGQpY90D8zcZzMde7DvwCo1BxR39K/0EwZbQFHjD8AgJ1gwiWgP8zMNVx71qK/M4uWlENH4z9oJqrOEYKeP5qRefKdHbI/zd7JjzWTxD8AKplBhdfjv81s+b/5kM0/zb4LOxC0wT+amZmZmZm5PwAAAAAAAAAAzVT3uuGVwz+amZmZmZm5P81CXTdB0cc/AJCcv7RTlz8A0k2EI0rAv8DMSYTd72O/AIhccJISvr8AAJq8D3CHv818cpG9gcI/mpmZmZmZuT9ml8Ycc6PRPwCgPDW3v7u/NBNqo/hJpz8ArIfgXvrRv8z8iinSGaS/ADNhz4aH1b9mFq625Di4v5oAPXLf1NO/AJIwaIrSxL8AAGYage+XPwBUuDfjAea/mkm00BDf0L9m0oTr4/+zvzO3V7rbR+M/s5LXIDB+5z+YmZrnMbCZvw==",
            "dtype": "f8"
           },
           "yaxis": "y2"
          },
          {
           "line": {
            "color": "rgba(60, 179, 113, 0.9)",
            "width": 2
           },
           "name": "Cumulative P&L",
           "type": "scatter",
           "x": {
            "bdata": "AAECAwQFBgcICQoLDA0ODxAREhMUFRYXGBkaGxwdHh8gISIjJCUmJygpKissLS4vMDEyMzQ1Njc4OTo7PD0+P0BBQkNERUZHSElKS0xNTk8=",
            "dtype": "i1"
           },
           "xaxis": "x2",
           "y": {
            "bdata": "AAAAAAAAAABmJIA29L3bP2Ymw4ZZv+Y/mVn2uYzy6T+ZWfa5jPLpP2ZPOC4fu/E/pmsS2unr8D9ABaxzg4XyP5rT/2HicvM/tHgrUbuQ9D/O9z0R63D2P2ixUKJRzfs/aNThxFUY9z8DHmwCWtnvP8JCoTTA5/c/Al9rSoC5/D+cdxw/xvz/P9vvxtZkkgRAqFefLuPYAkA1wX0DEZ0HQARQBr+92/Q/u1K+m+nM4T/cQ8uq1BfeP3xFuQHk0sS/33jIBxZt7r/fv/yi3z3iv8CXmg7oAoq/EDUumbX9gT/58o1vfUTgv8abIIkaH+C/bu4Id4n05T/QoGESB5n2PyoiKO1gzfg/xJziS8jv+j87BCXjTzHpP7fYp2lK8PY/UVbq7gsE9j/VD7g8O+rrPxDFD9PtO9I/u/vKCsI84T/cvkcvSYLYP3BbzEngi7Y/CoVvd8AUuj+FIt/T0BPBP6Reo/ljvLg/CPfKE9Be5j87SECi4FLnP256j2CUluk/IfKBxGG77j9CkNEFucfVP1Qj5/IaSOI/BxOqAR+15j86Rt00UujpPzpG3TRS6Ok/bRubo8rN7j9QJ2frfgDxP6rPUhKn+vM/6kFR5fVX9D+qh8d0sU7yP8RiBYa5RPI/RJr/XpBj8D9EZoY/sDTwP961tPHnhPI/eE9Oi4Ee9D9S9X9SXof4P1IrLN9iy/Y/7HtHpLKF9z/skCXsGgfzPwY52VpMZvI/jNgBTtUI6j+/FSy3uAHnP+QqG/yRLto/yMMFkJmKzz/kQanZRETRPxxmx5WBv9q/29c9M0nP5b8ocq6wRU/ov9TrWtmnHcS/vteAKsZ24j/xAkSbRKnhPw==",
            "dtype": "f8"
           },
           "yaxis": "y2"
          }
         ]
        },
        {
         "data": [
          {
           "line": {
            "color": "rgba(60, 179, 113, 0.9)",
            "dash": "dot",
            "width": 2
           },
           "name": "Mid Price (Estimated)",
           "type": "scatter",
           "x": {
            "bdata": "AAECAwQFBgcICQoLDA0ODxAREhMUFRYXGBkaGxwdHh8gISIjJCUmJygpKissLS4vMDEyMzQ1Njc4OTo7PD0+P0BBQkNERUZHSElKS0xNTk9Q",
            "dtype": "i1"
           },
           "xaxis": "x",
           "y": {
            "bdata": "gNHvJb/4WEChxAdfE+5YQN8klwa54lhA9ltPBy3aWECPYPkixNVYQLPu1x9l4lhAJFeHSijfWEAJUu9IbOBYQDZpnDMd41hAH0XxtBTkWEDto2iXtuNYQK2xef0w3FhAZ4809ZrlWEA7QQajTPFYQPZcbImo5lhAe09PiTvgWED8N/Tckd5YQIq+FlWG2FhAZgQIE+TbWED8XSOkW9dYQGIlFKNX5VhAGbj1/xbtWEASG5QMlO5YQB0dcm5H9VhAlqRPG3z8WEAY2DLnAPlYQNsye2Ho81hA31eqLYn0WECxYqimLfpYQKWkbEEy+1hAQ17ERTvxWEB7vGWxOOxYQNKiiUPg61hAPOKwD4XrWECZA3SkRfhYQNyHlZuH71hArKawu+TyWECUzppDjfxYQH+7SZM3C1lAjLNSx8EIWUDfCmK0BwxZQGc1zvfND1lAzvRkAy8RWUDi71HVrRBZQEKUQueYE1lA6jDh1oQDWUCurCocAwhZQK+Qn5vyCFlALBF/36YHWUBId1U44RRZQCCsGC2wEFlAp4xhizwOWUBJuvxFHBtZQI4PysrpFVlASvpSQIUSWUAo/v8htRFZQGNGNVw3F1lALECBl6wYWUBDGb+FhxBZQMZhrmJADVlANVZgEH4JWUDNYyFQIAlZQKW2g8j6C1lAk3lUvcgOWUBiGZ6wiwNZQIpoa557CllAHGUUMjoMWUDyqIRhNxVZQDSGaOwvGFlARVFYGV0fWUDAVT1BeiJZQI3h2q04K1lAUJRBGrEuWUAwsjtyMS5ZQGiCC1/dPFlAFEnZvK5CWUCdC0+He0ZZQFt5CzNxPllAaARGNFM2WUBsPKeOUzhZQCmERr9iOVlA",
            "dtype": "f8"
           },
           "yaxis": "y"
          },
          {
           "line": {
            "color": "rgba(178, 34, 34, 0.9)",
            "width": 2
           },
           "name": "Bid",
           "type": "scatter",
           "x": {
            "bdata": "AAECAwQFBgcICQoLDA0ODxAREhMUFRYXGBkaGxwdHh8gISIjJCUmJygpKissLS4vMDEyMzQ1Njc4OTo7PD0+P0BBQkNERUZHSElKS0xNTk9Q",
            "dtype": "i1"
           },
           "xaxis": "x",
           "y": {
            "bdata": "GmuJv1jyWEA7XqH4rOdYQHm+MKBS3FhAkPXooMbTWEAp+pK8Xc9YQE2Icbn+21hAvvAg5MHYWECj64jiBdpYQNACNs223FhAud6KTq7dWECHPQIxUN1YQEdLE5fK1VhAASnOjjTfWEDV2p885upYQJD2BSNC4FhAFenoItXZWECW0Y12K9hYQCRYsO4f0lhAAJ6hrH3VWECW97w99dBYQPy+rTzx3lhAs1GPmbDmWECstC2mLehYQLe2Cwjh7lhAMD7ptBX2WECyccyAmvJYQHXMFPuB7VhAefFDxyLuWEBL/EFAx/NYQD8+BtvL9FhA3fdd39TqWEAVVv9K0uVYQGw8I9155VhA1ntKqR7lWEAznQ0+3/FYQHYhLzUh6VhARkBKVX7sWEAuaDTdJvZYQBlV4yzRBFlAJk3sYFsCWUB5pPtNoQVZQAHPZ5FnCVlAaI7+nMgKWUB8ietuRwpZQNwt3IAyDVlAhMp6cB79WEBIRsS1nAFZQEkqOTWMAllAxqoYeUABWUDiEO/Reg5ZQLpFssZJCllAQSb7JNYHWUDjU5bftRRZQCipY2SDD1lA5JPs2R4MWUDCl5m7TgtZQP3fzvXQEFlAxtkaMUYSWUDdslgfIQpZQGD7R/zZBllAz+/5qRcDWUBn/brpuQJZQD9QHWKUBVlALRPuVmIIWUD8sjdKJf1YQCQCBTgVBFlAtv6ty9MFWUCMQh770A5ZQM4fAobJEVlA3+rxsvYYWUBa79baExxZQCd7dEfSJFlA6i3bs0ooWUDKS9ULyydZQAIcpfh2NllAruJyVkg8WUA3peggFUBZQPUSpcwKOFlAAp7fzewvWUAG1kAo7TFZQMMd4Fj8MllA",
            "dtype": "f8"
           },
           "yaxis": "y"
          },
          {
           "line": {
            "color": "rgba(70, 130, 180, 0.9)",
            "width": 2
           },
           "name": "Ask",
           "type": "scatter",
           "x": {
            "bdata": "AAECAwQFBgcICQoLDA0ODxAREhMUFRYXGBkaGxwdHh8gISIjJCUmJygpKissLS4vMDEyMzQ1Njc4OTo7PD0+P0BBQkNERUZHSElKS0xNTk9Q",
            "dtype": "i1"
           },
           "xaxis": "x",
           "y": {
            "bdata": "5jdWjCX/WEAHK27FefRYQEWL/Wwf6VhAXMK1bZPgWED1xl+JKtxYQBlVPobL6FhAir3tsI7lWEBvuFWv0uZYQJzPApqD6VhAhatXG3vqWEBTCs/9HOpYQBMY4GOX4lhAzfWaWwHsWEChp2wJs/dYQFzD0u8O7VhA4bW176HmWEBinlpD+ORYQPAkfbvs3lhAzGpueUriWEBixIkKwt1YQMiLegm+61hAfx5cZn3zWEB4gfpy+vRYQIOD2NSt+1hA/Aq2geICWUB+PplNZ/9YQEGZ4cdO+lhARb4QlO/6WEAXyQ4NlABZQAsL06eYAVlAqcQqrKH3WEDhIswXn/JYQDgJ8KlG8lhAokgXduvxWED/adoKrP5YQELu+wHu9VhAEg0XIkv5WED6NAGq8wJZQOUhsPmdEVlA8hm5LSgPWUBFccgabhJZQM2bNF40FllANFvLaZUXWUBIVrg7FBdZQKj6qE3/GVlAUJdHPesJWUAUE5GCaQ5ZQBX3BQJZD1lAknflRQ0OWUCu3bueRxtZQIYSf5MWF1lADfPH8aIUWUCvIGOsgiFZQPR1MDFQHFlAsGC5pusYWUCOZGaIGxhZQMmsm8KdHVlAkqbn/RIfWUCpfyXs7RZZQCzIFMmmE1lAm7zGduQPWUAzyoe2hg9ZQAsd6i5hEllA+d+6Iy8VWUDIfwQX8glZQPDO0QTiEFlAgst6mKASWUBYD+vHnRtZQJrszlKWHllAq7e+f8MlWUAmvKOn4ChZQPNHQRSfMVlAtvqngBc1WUCWGKLYlzRZQM7occVDQ1lAeq8/IxVJWUADcrXt4UxZQMHfcZnXRFlAzmqsmrk8WUDSog31uT5ZQI/qrCXJP1lA",
            "dtype": "f8"
           },
           "yaxis": "y"
          },
          {
           "marker": {
            "color": [
             "rgba(31, 119, 180, 0.8)",
             "rgba(31, 119, 180, 0.8)",
             "rgba(31, 119, 180, 0.8)",
             "rgba(31, 119, 180, 0.8)",
             "rgba(31, 119, 180, 0.8)",
             "rgba(31, 119, 180, 0.8)",
             "rgba(178, 34, 34, 0.8)",
             "rgba(31, 119, 180, 0.8)",
             "rgba(31, 119, 180, 0.8)",
             "rgba(31, 119, 180, 0.8)",
             "rgba(31, 119, 180, 0.8)",
             "rgba(31, 119, 180, 0.8)",
             "rgba(178, 34, 34, 0.8)",
             "rgba(178, 34, 34, 0.8)",
             "rgba(31, 119, 180, 0.8)",
             "rgba(31, 119, 180, 0.8)",
             "rgba(31, 119, 180, 0.8)",
             "rgba(31, 119, 180, 0.8)",
             "rgba(178, 34, 34, 0.8)",
             "rgba(31, 119, 180, 0.8)",
             "rgba(178, 34, 34, 0.8)",
             "rgba(178, 34, 34, 0.8)",
             "rgba(178, 34, 34, 0.8)",
             "rgba(178, 34, 34, 0.8)",
             "rgba(178, 34, 34, 0.8)",
             "rgba(31, 119, 180, 0.8)",
             "rgba(31, 119, 180, 0.8)",
             "rgba(31, 119, 180, 0.8)",
             "rgba(178, 34, 34, 0.8)",
             "rgba(31, 119, 180, 0.8)",
             "rgba(31, 119, 180, 0.8)",
             "rgba(31, 119, 180, 0.8)",
             "rgba(31, 119, 180, 0.8)",
             "rgba(31, 119, 180, 0.8)",
             "rgba(178, 34, 34, 0.8)",
             "rgba(31, 119, 180, 0.8)",
             "rgba(178, 34, 34, 0.8)",
             "rgba(178, 34, 34, 0.8)",
             "rgba(178, 34, 34, 0.8)",
             "rgba(31, 119, 180, 0.8)",
             "rgba(178, 34, 34, 0.8)",
             "rgba(178, 34, 34, 0.8)",
             "rgba(31, 119, 180, 0.8)",
             "rgba(31, 119, 180, 0.8)",
             "rgba(178, 34, 34, 0.8)",
             "rgba(31, 119, 180, 0.8)",
             "rgba(31, 119, 180, 0.8)",
             "rgba(31, 119, 180, 0.8)",
             "rgba(31, 119, 180, 0.8)",
             "rgba(178, 34, 34, 0.8)",
             "rgba(31, 119, 180, 0.8)",
             "rgba(31, 119, 180, 0.8)",
             "rgba(31, 119, 180, 0.8)",
             "rgba(31, 119, 180, 0.8)",
             "rgba(31, 119, 180, 0.8)",
             "rgba(31, 119, 180, 0.8)",
             "rgba(31, 119, 180, 0.8)",
             "rgba(31, 119, 180, 0.8)",
             "rgba(178, 34, 34, 0.8)",
             "rgba(178, 34, 34, 0.8)",
             "rgba(178, 34, 34, 0.8)",
             "rgba(178, 34, 34, 0.8)",
             "rgba(31, 119, 180, 0.8)",
             "rgba(31, 119, 180, 0.8)",
             "rgba(31, 119, 180, 0.8)",
             "rgba(178, 34, 34, 0.8)",
             "rgba(31, 119, 180, 0.8)",
             "rgba(178, 34, 34, 0.8)",
             "rgba(178, 34, 34, 0.8)",
             "rgba(178, 34, 34, 0.8)",
             "rgba(178, 34, 34, 0.8)",
             "rgba(178, 34, 34, 0.8)",
             "rgba(178, 34, 34, 0.8)",
             "rgba(31, 119, 180, 0.8)",
             "rgba(178, 34, 34, 0.8)",
             "rgba(178, 34, 34, 0.8)",
             "rgba(178, 34, 34, 0.8)",
             "rgba(31, 119, 180, 0.8)",
             "rgba(31, 119, 180, 0.8)",
             "rgba(178, 34, 34, 0.8)",
             "rgba(31, 119, 180, 0.8)"
            ]
           },
           "name": "Trade P&L",
           "type": "bar",
           "x": {
            "bdata": "AAECAwQFBgcICQoLDA0ODxAREhMUFRYXGBkaGxwdHh8gISIjJCUmJygpKissLS4vMDEyMzQ1Njc4OTo7PD0+P0BBQkNERUZHSElKS0xNTk9Q",
            "dtype": "i1"
           },
           "xaxis": "x2",
           "y": {
            "bdata": "mpmZmZmZuT9mJIA29L3bP2YoBte+wNE/mpmZmZmZuT8AAAAAAAAAAGaK9ERjB9M/AHi8hKrmqb+amZmZmZm5PzTLecrdq60/mlG68o7dsT+a8ScB/AK+P2bmSkSacdU/AHS7de/T0r+aFa8Oo67cvwDPrM1M7N8/AHEoVwBH0z/NxIilLxrKPzPQ4twGUOI/M4N5ghqYy78zpnlTtxDjP2Yy9UdkXvq/TU1O4pHq579mhsUy+ge2v03z01WjQOS/gCdaB1046b8AcpfJbF7YP4BVwgLU1eE/aGbk004Alj/Nq/JFdIzgv6CZqzZzsXI/GsUUANIJ8z8zU7qthD3nP80KNNbOosE/zdTT9ToTwT9NNaC0QK7svzOtKvBEr+Q/zEywV8+Hrb/NnByh3B3gv00tMFNEzOK/ZjKGQpY90D8zcZzMde7DvwCo1BxR39K/0EwZbQFHjD8AgJ1gwiWgP8zMNVx71qK/M4uWlENH4z9oJqrOEYKeP5qRefKdHbI/zd7JjzWTxD8AKplBhdfjv81s+b/5kM0/zb4LOxC0wT+amZmZmZm5PwAAAAAAAAAAzVT3uuGVwz+amZmZmZm5P81CXTdB0cc/AJCcv7RTlz8A0k2EI0rAv8DMSYTd72O/AIhccJISvr8AAJq8D3CHv818cpG9gcI/mpmZmZmZuT9ml8Ycc6PRPwCgPDW3v7u/NBNqo/hJpz8ArIfgXvrRv8z8iinSGaS/ADNhz4aH1b9mFq625Di4v5oAPXLf1NO/AJIwaIrSxL8AAGYage+XPwBUuDfjAea/mkm00BDf0L9m0oTr4/+zvzO3V7rbR+M/s5LXIDB+5z+YmZrnMbCZv2hW+580p5E/",
            "dtype": "f8"
           },
           "yaxis": "y2"
          },
          {
           "line": {
            "color": "rgba(60, 179, 113, 0.9)",
            "width": 2
           },
           "name": "Cumulative P&L",
           "type": "scatter",
           "x": {
            "bdata": "AAECAwQFBgcICQoLDA0ODxAREhMUFRYXGBkaGxwdHh8gISIjJCUmJygpKissLS4vMDEyMzQ1Njc4OTo7PD0+P0BBQkNERUZHSElKS0xNTk9Q",
            "dtype": "i1"
           },
           "xaxis": "x2",
           "y": {
            "bdata": "AAAAAAAAAABmJIA29L3bP2Ymw4ZZv+Y/mVn2uYzy6T+ZWfa5jPLpP2ZPOC4fu/E/pmsS2unr8D9ABaxzg4XyP5rT/2HicvM/tHgrUbuQ9D/O9z0R63D2P2ixUKJRzfs/aNThxFUY9z8DHmwCWtnvP8JCoTTA5/c/Al9rSoC5/D+cdxw/xvz/P9vvxtZkkgRAqFefLuPYAkA1wX0DEZ0HQARQBr+92/Q/u1K+m+nM4T/cQ8uq1BfeP3xFuQHk0sS/33jIBxZt7r/fv/yi3z3iv8CXmg7oAoq/EDUumbX9gT/58o1vfUTgv8abIIkaH+C/bu4Id4n05T/QoGESB5n2PyoiKO1gzfg/xJziS8jv+j87BCXjTzHpP7fYp2lK8PY/UVbq7gsE9j/VD7g8O+rrPxDFD9PtO9I/u/vKCsI84T/cvkcvSYLYP3BbzEngi7Y/CoVvd8AUuj+FIt/T0BPBP6Reo/ljvLg/CPfKE9Be5j87SECi4FLnP256j2CUluk/IfKBxGG77j9CkNEFucfVP1Qj5/IaSOI/BxOqAR+15j86Rt00UujpPzpG3TRS6Ok/bRubo8rN7j9QJ2frfgDxP6rPUhKn+vM/6kFR5fVX9D+qh8d0sU7yP8RiBYa5RPI/RJr/XpBj8D9EZoY/sDTwP961tPHnhPI/eE9Oi4Ee9D9S9X9SXof4P1IrLN9iy/Y/7HtHpLKF9z/skCXsGgfzPwY52VpMZvI/jNgBTtUI6j+/FSy3uAHnP+QqG/yRLto/yMMFkJmKzz/kQanZRETRPxxmx5WBv9q/29c9M0nP5b8ocq6wRU/ov9TrWtmnHcS/vteAKsZ24j/xAkSbRKnhP6TdQ0B+NuI/",
            "dtype": "f8"
           },
           "yaxis": "y2"
          }
         ]
        },
        {
         "data": [
          {
           "line": {
            "color": "rgba(60, 179, 113, 0.9)",
            "dash": "dot",
            "width": 2
           },
           "name": "Mid Price (Estimated)",
           "type": "scatter",
           "x": {
            "bdata": "AAECAwQFBgcICQoLDA0ODxAREhMUFRYXGBkaGxwdHh8gISIjJCUmJygpKissLS4vMDEyMzQ1Njc4OTo7PD0+P0BBQkNERUZHSElKS0xNTk9QUQ==",
            "dtype": "i1"
           },
           "xaxis": "x",
           "y": {
            "bdata": "gNHvJb/4WEChxAdfE+5YQN8klwa54lhA9ltPBy3aWECPYPkixNVYQLPu1x9l4lhAJFeHSijfWEAJUu9IbOBYQDZpnDMd41hAH0XxtBTkWEDto2iXtuNYQK2xef0w3FhAZ4809ZrlWEA7QQajTPFYQPZcbImo5lhAe09PiTvgWED8N/Tckd5YQIq+FlWG2FhAZgQIE+TbWED8XSOkW9dYQGIlFKNX5VhAGbj1/xbtWEASG5QMlO5YQB0dcm5H9VhAlqRPG3z8WEAY2DLnAPlYQNsye2Ho81hA31eqLYn0WECxYqimLfpYQKWkbEEy+1hAQ17ERTvxWEB7vGWxOOxYQNKiiUPg61hAPOKwD4XrWECZA3SkRfhYQNyHlZuH71hArKawu+TyWECUzppDjfxYQH+7SZM3C1lAjLNSx8EIWUDfCmK0BwxZQGc1zvfND1lAzvRkAy8RWUDi71HVrRBZQEKUQueYE1lA6jDh1oQDWUCurCocAwhZQK+Qn5vyCFlALBF/36YHWUBId1U44RRZQCCsGC2wEFlAp4xhizwOWUBJuvxFHBtZQI4PysrpFVlASvpSQIUSWUAo/v8htRFZQGNGNVw3F1lALECBl6wYWUBDGb+FhxBZQMZhrmJADVlANVZgEH4JWUDNYyFQIAlZQKW2g8j6C1lAk3lUvcgOWUBiGZ6wiwNZQIpoa557CllAHGUUMjoMWUDyqIRhNxVZQDSGaOwvGFlARVFYGV0fWUDAVT1BeiJZQI3h2q04K1lAUJRBGrEuWUAwsjtyMS5ZQGiCC1/dPFlAFEnZvK5CWUCdC0+He0ZZQFt5CzNxPllAaARGNFM2WUBsPKeOUzhZQCmERr9iOVlAZNo1VpU1WUA=",
            "dtype": "f8"
           },
           "yaxis": "y"
          },
          {
           "line": {
            "color": "rgba(178, 34, 34, 0.9)",
            "width": 2
           },
           "name": "Bid",
           "type": "scatter",
           "x": {
            "bdata": "AAECAwQFBgcICQoLDA0ODxAREhMUFRYXGBkaGxwdHh8gISIjJCUmJygpKissLS4vMDEyMzQ1Njc4OTo7PD0+P0BBQkNERUZHSElKS0xNTk9QUQ==",
            "dtype": "i1"
           },
           "xaxis": "x",
           "y": {
            "bdata": "GmuJv1jyWEA7XqH4rOdYQHm+MKBS3FhAkPXooMbTWEAp+pK8Xc9YQE2Icbn+21hAvvAg5MHYWECj64jiBdpYQNACNs223FhAud6KTq7dWECHPQIxUN1YQEdLE5fK1VhAASnOjjTfWEDV2p885upYQJD2BSNC4FhAFenoItXZWECW0Y12K9hYQCRYsO4f0lhAAJ6hrH3VWECW97w99dBYQPy+rTzx3lhAs1GPmbDmWECstC2mLehYQLe2Cwjh7lhAMD7ptBX2WECyccyAmvJYQHXMFPuB7VhAefFDxyLuWEBL/EFAx/NYQD8+BtvL9FhA3fdd39TqWEAVVv9K0uVYQGw8I9155VhA1ntKqR7lWEAznQ0+3/FYQHYhLzUh6VhARkBKVX7sWEAuaDTdJvZYQBlV4yzRBFlAJk3sYFsCWUB5pPtNoQVZQAHPZ5FnCVlAaI7+nMgKWUB8ietuRwpZQNwt3IAyDVlAhMp6cB79WEBIRsS1nAFZQEkqOTWMAllAxqoYeUABWUDiEO/Reg5ZQLpFssZJCllAQSb7JNYHWUDjU5bftRRZQCipY2SDD1lA5JPs2R4MWUDCl5m7TgtZQP3fzvXQEFlAxtkaMUYSWUDdslgfIQpZQGD7R/zZBllAz+/5qRcDWUBn/brpuQJZQD9QHWKUBVlALRPuVmIIWUD8sjdKJf1YQCQCBTgVBFlAtv6ty9MFWUCMQh770A5ZQM4fAobJEVlA3+rxsvYYWUBa79baExxZQCd7dEfSJFlA6i3bs0ooWUDKS9ULyydZQAIcpfh2NllAruJyVkg8WUA3peggFUBZQPUSpcwKOFlAAp7fzewvWUAG1kAo7TFZQMMd4Fj8MllA/nPP7y4vWUA=",
            "dtype": "f8"
           },
           "yaxis": "y"
          },
          {
           "line": {
            "color": "rgba(70, 130, 180, 0.9)",
            "width": 2
           },
           "name": "Ask",
           "type": "scatter",
           "x": {
            "bdata": "AAECAwQFBgcICQoLDA0ODxAREhMUFRYXGBkaGxwdHh8gISIjJCUmJygpKissLS4vMDEyMzQ1Njc4OTo7PD0+P0BBQkNERUZHSElKS0xNTk9QUQ==",
            "dtype": "i1"
           },
           "xaxis": "x",
           "y": {
            "bdata": "5jdWjCX/WEAHK27FefRYQEWL/Wwf6VhAXMK1bZPgWED1xl+JKtxYQBlVPobL6FhAir3tsI7lWEBvuFWv0uZYQJzPApqD6VhAhatXG3vqWEBTCs/9HOpYQBMY4GOX4lhAzfWaWwHsWEChp2wJs/dYQFzD0u8O7VhA4bW176HmWEBinlpD+ORYQPAkfbvs3lhAzGpueUriWEBixIkKwt1YQMiLegm+61hAfx5cZn3zWEB4gfpy+vRYQIOD2NSt+1hA/Aq2geICWUB+PplNZ/9YQEGZ4cdO+lhARb4QlO/6WEAXyQ4NlABZQAsL06eYAVlAqcQqrKH3WEDhIswXn/JYQDgJ8KlG8lhAokgXduvxWED/adoKrP5YQELu+wHu9VhAEg0XIkv5WED6NAGq8wJZQOUhsPmdEVlA8hm5LSgPWUBFccgabhJZQM2bNF40FllANFvLaZUXWUBIVrg7FBdZQKj6qE3/GVlAUJdHPesJWUAUE5GCaQ5ZQBX3BQJZD1lAknflRQ0OWUCu3bueRxtZQIYSf5MWF1lADfPH8aIUWUCvIGOsgiFZQPR1MDFQHFlAsGC5pusYWUCOZGaIGxhZQMmsm8KdHVlAkqbn/RIfWUCpfyXs7RZZQCzIFMmmE1lAm7zGduQPWUAzyoe2hg9ZQAsd6i5hEllA+d+6Iy8VWUDIfwQX8glZQPDO0QTiEFlAgst6mKASWUBYD+vHnRtZQJrszlKWHllAq7e+f8MlWUAmvKOn4ChZQPNHQRSfMVlAtvqngBc1WUCWGKLYlzRZQM7occVDQ1lAeq8/IxVJWUADcrXt4UxZQMHfcZnXRFlAzmqsmrk8WUDSog31uT5ZQI/qrCXJP1lAykCcvPs7WUA=",
            "dtype": "f8"
           },
           "yaxis": "y"
          },
          {
           "marker": {
            "color": [
             "rgba(31, 119, 180, 0.8)",
             "rgba(31, 119, 180, 0.8)",
             "rgba(31, 119, 180, 0.8)",
             "rgba(31, 119, 180, 0.8)",
             "rgba(31, 119, 180, 0.8)",
             "rgba(31, 119, 180, 0.8)",
             "rgba(178, 34, 34, 0.8)",
             "rgba(31, 119, 180, 0.8)",
             "rgba(31, 119, 180, 0.8)",
             "rgba(31, 119, 180, 0.8)",
             "rgba(31, 119, 180, 0.8)",
             "rgba(31, 119, 180, 0.8)",
             "rgba(178, 34, 34, 0.8)",
             "rgba(178, 34, 34, 0.8)",
             "rgba(31, 119, 180, 0.8)",
             "rgba(31, 119, 180, 0.8)",
             "rgba(31, 119, 180, 0.8)",
             "rgba(31, 119, 180, 0.8)",
             "rgba(178, 34, 34, 0.8)",
             "rgba(31, 119, 180, 0.8)",
             "rgba(178, 34, 34, 0.8)",
             "rgba(178, 34, 34, 0.8)",
             "rgba(178, 34, 34, 0.8)",
             "rgba(178, 34, 34, 0.8)",
             "rgba(178, 34, 34, 0.8)",
             "rgba(31, 119, 180, 0.8)",
             "rgba(31, 119, 180, 0.8)",
             "rgba(31, 119, 180, 0.8)",
             "rgba(178, 34, 34, 0.8)",
             "rgba(31, 119, 180, 0.8)",
             "rgba(31, 119, 180, 0.8)",
             "rgba(31, 119, 180, 0.8)",
             "rgba(31, 119, 180, 0.8)",
             "rgba(31, 119, 180, 0.8)",
             "rgba(178, 34, 34, 0.8)",
             "rgba(31, 119, 180, 0.8)",
             "rgba(178, 34, 34, 0.8)",
             "rgba(178, 34, 34, 0.8)",
             "rgba(178, 34, 34, 0.8)",
             "rgba(31, 119, 180, 0.8)",
             "rgba(178, 34, 34, 0.8)",
             "rgba(178, 34, 34, 0.8)",
             "rgba(31, 119, 180, 0.8)",
             "rgba(31, 119, 180, 0.8)",
             "rgba(178, 34, 34, 0.8)",
             "rgba(31, 119, 180, 0.8)",
             "rgba(31, 119, 180, 0.8)",
             "rgba(31, 119, 180, 0.8)",
             "rgba(31, 119, 180, 0.8)",
             "rgba(178, 34, 34, 0.8)",
             "rgba(31, 119, 180, 0.8)",
             "rgba(31, 119, 180, 0.8)",
             "rgba(31, 119, 180, 0.8)",
             "rgba(31, 119, 180, 0.8)",
             "rgba(31, 119, 180, 0.8)",
             "rgba(31, 119, 180, 0.8)",
             "rgba(31, 119, 180, 0.8)",
             "rgba(31, 119, 180, 0.8)",
             "rgba(178, 34, 34, 0.8)",
             "rgba(178, 34, 34, 0.8)",
             "rgba(178, 34, 34, 0.8)",
             "rgba(178, 34, 34, 0.8)",
             "rgba(31, 119, 180, 0.8)",
             "rgba(31, 119, 180, 0.8)",
             "rgba(31, 119, 180, 0.8)",
             "rgba(178, 34, 34, 0.8)",
             "rgba(31, 119, 180, 0.8)",
             "rgba(178, 34, 34, 0.8)",
             "rgba(178, 34, 34, 0.8)",
             "rgba(178, 34, 34, 0.8)",
             "rgba(178, 34, 34, 0.8)",
             "rgba(178, 34, 34, 0.8)",
             "rgba(178, 34, 34, 0.8)",
             "rgba(31, 119, 180, 0.8)",
             "rgba(178, 34, 34, 0.8)",
             "rgba(178, 34, 34, 0.8)",
             "rgba(178, 34, 34, 0.8)",
             "rgba(31, 119, 180, 0.8)",
             "rgba(31, 119, 180, 0.8)",
             "rgba(178, 34, 34, 0.8)",
             "rgba(31, 119, 180, 0.8)",
             "rgba(31, 119, 180, 0.8)"
            ]
           },
           "name": "Trade P&L",
           "type": "bar",
           "x": {
            "bdata": "AAECAwQFBgcICQoLDA0ODxAREhMUFRYXGBkaGxwdHh8gISIjJCUmJygpKissLS4vMDEyMzQ1Njc4OTo7PD0+P0BBQkNERUZHSElKS0xNTk9QUQ==",
            "dtype": "i1"
           },
           "xaxis": "x2",
           "y": {
            "bdata": "mpmZmZmZuT9mJIA29L3bP2YoBte+wNE/mpmZmZmZuT8AAAAAAAAAAGaK9ERjB9M/AHi8hKrmqb+amZmZmZm5PzTLecrdq60/mlG68o7dsT+a8ScB/AK+P2bmSkSacdU/AHS7de/T0r+aFa8Oo67cvwDPrM1M7N8/AHEoVwBH0z/NxIilLxrKPzPQ4twGUOI/M4N5ghqYy78zpnlTtxDjP2Yy9UdkXvq/TU1O4pHq579mhsUy+ge2v03z01WjQOS/gCdaB1046b8AcpfJbF7YP4BVwgLU1eE/aGbk004Alj/Nq/JFdIzgv6CZqzZzsXI/GsUUANIJ8z8zU7qthD3nP80KNNbOosE/zdTT9ToTwT9NNaC0QK7svzOtKvBEr+Q/zEywV8+Hrb/NnByh3B3gv00tMFNEzOK/ZjKGQpY90D8zcZzMde7DvwCo1BxR39K/0EwZbQFHjD8AgJ1gwiWgP8zMNVx71qK/M4uWlENH4z9oJqrOEYKeP5qRefKdHbI/zd7JjzWTxD8AKplBhdfjv81s+b/5kM0/zb4LOxC0wT+amZmZmZm5PwAAAAAAAAAAzVT3uuGVwz+amZmZmZm5P81CXTdB0cc/AJCcv7RTlz8A0k2EI0rAv8DMSYTd72O/AIhccJISvr8AAJq8D3CHv818cpG9gcI/mpmZmZmZuT9ml8Ycc6PRPwCgPDW3v7u/NBNqo/hJpz8ArIfgXvrRv8z8iinSGaS/ADNhz4aH1b9mFq625Di4v5oAPXLf1NO/AJIwaIrSxL8AAGYage+XPwBUuDfjAea/mkm00BDf0L9m0oTr4/+zvzO3V7rbR+M/s5LXIDB+5z+YmZrnMbCZv2hW+580p5E/ZnoNqQqc1T8=",
            "dtype": "f8"
           },
           "yaxis": "y2"
          },
          {
           "line": {
            "color": "rgba(60, 179, 113, 0.9)",
            "width": 2
           },
           "name": "Cumulative P&L",
           "type": "scatter",
           "x": {
            "bdata": "AAECAwQFBgcICQoLDA0ODxAREhMUFRYXGBkaGxwdHh8gISIjJCUmJygpKissLS4vMDEyMzQ1Njc4OTo7PD0+P0BBQkNERUZHSElKS0xNTk9QUQ==",
            "dtype": "i1"
           },
           "xaxis": "x2",
           "y": {
            "bdata": "AAAAAAAAAABmJIA29L3bP2Ymw4ZZv+Y/mVn2uYzy6T+ZWfa5jPLpP2ZPOC4fu/E/pmsS2unr8D9ABaxzg4XyP5rT/2HicvM/tHgrUbuQ9D/O9z0R63D2P2ixUKJRzfs/aNThxFUY9z8DHmwCWtnvP8JCoTTA5/c/Al9rSoC5/D+cdxw/xvz/P9vvxtZkkgRAqFefLuPYAkA1wX0DEZ0HQARQBr+92/Q/u1K+m+nM4T/cQ8uq1BfeP3xFuQHk0sS/33jIBxZt7r/fv/yi3z3iv8CXmg7oAoq/EDUumbX9gT/58o1vfUTgv8abIIkaH+C/bu4Id4n05T/QoGESB5n2PyoiKO1gzfg/xJziS8jv+j87BCXjTzHpP7fYp2lK8PY/UVbq7gsE9j/VD7g8O+rrPxDFD9PtO9I/u/vKCsI84T/cvkcvSYLYP3BbzEngi7Y/CoVvd8AUuj+FIt/T0BPBP6Reo/ljvLg/CPfKE9Be5j87SECi4FLnP256j2CUluk/IfKBxGG77j9CkNEFucfVP1Qj5/IaSOI/BxOqAR+15j86Rt00UujpPzpG3TRS6Ok/bRubo8rN7j9QJ2frfgDxP6rPUhKn+vM/6kFR5fVX9D+qh8d0sU7yP8RiBYa5RPI/RJr/XpBj8D9EZoY/sDTwP961tPHnhPI/eE9Oi4Ee9D9S9X9SXof4P1IrLN9iy/Y/7HtHpLKF9z/skCXsGgfzPwY52VpMZvI/jNgBTtUI6j+/FSy3uAHnP+QqG/yRLto/yMMFkJmKzz/kQanZRETRPxxmx5WBv9q/29c9M0nP5b8ocq6wRU/ov9TrWtmnHcS/vteAKsZ24j/xAkSbRKnhP6TdQ0B+NuI/15rKlIME7T8=",
            "dtype": "f8"
           },
           "yaxis": "y2"
          }
         ]
        },
        {
         "data": [
          {
           "line": {
            "color": "rgba(60, 179, 113, 0.9)",
            "dash": "dot",
            "width": 2
           },
           "name": "Mid Price (Estimated)",
           "type": "scatter",
           "x": {
            "bdata": "AAECAwQFBgcICQoLDA0ODxAREhMUFRYXGBkaGxwdHh8gISIjJCUmJygpKissLS4vMDEyMzQ1Njc4OTo7PD0+P0BBQkNERUZHSElKS0xNTk9QUVI=",
            "dtype": "i1"
           },
           "xaxis": "x",
           "y": {
            "bdata": "gNHvJb/4WEChxAdfE+5YQN8klwa54lhA9ltPBy3aWECPYPkixNVYQLPu1x9l4lhAJFeHSijfWEAJUu9IbOBYQDZpnDMd41hAH0XxtBTkWEDto2iXtuNYQK2xef0w3FhAZ4809ZrlWEA7QQajTPFYQPZcbImo5lhAe09PiTvgWED8N/Tckd5YQIq+FlWG2FhAZgQIE+TbWED8XSOkW9dYQGIlFKNX5VhAGbj1/xbtWEASG5QMlO5YQB0dcm5H9VhAlqRPG3z8WEAY2DLnAPlYQNsye2Ho81hA31eqLYn0WECxYqimLfpYQKWkbEEy+1hAQ17ERTvxWEB7vGWxOOxYQNKiiUPg61hAPOKwD4XrWECZA3SkRfhYQNyHlZuH71hArKawu+TyWECUzppDjfxYQH+7SZM3C1lAjLNSx8EIWUDfCmK0BwxZQGc1zvfND1lAzvRkAy8RWUDi71HVrRBZQEKUQueYE1lA6jDh1oQDWUCurCocAwhZQK+Qn5vyCFlALBF/36YHWUBId1U44RRZQCCsGC2wEFlAp4xhizwOWUBJuvxFHBtZQI4PysrpFVlASvpSQIUSWUAo/v8htRFZQGNGNVw3F1lALECBl6wYWUBDGb+FhxBZQMZhrmJADVlANVZgEH4JWUDNYyFQIAlZQKW2g8j6C1lAk3lUvcgOWUBiGZ6wiwNZQIpoa557CllAHGUUMjoMWUDyqIRhNxVZQDSGaOwvGFlARVFYGV0fWUDAVT1BeiJZQI3h2q04K1lAUJRBGrEuWUAwsjtyMS5ZQGiCC1/dPFlAFEnZvK5CWUCdC0+He0ZZQFt5CzNxPllAaARGNFM2WUBsPKeOUzhZQCmERr9iOVlAZNo1VpU1WUC/mj8XnTZZQA==",
            "dtype": "f8"
           },
           "yaxis": "y"
          },
          {
           "line": {
            "color": "rgba(178, 34, 34, 0.9)",
            "width": 2
           },
           "name": "Bid",
           "type": "scatter",
           "x": {
            "bdata": "AAECAwQFBgcICQoLDA0ODxAREhMUFRYXGBkaGxwdHh8gISIjJCUmJygpKissLS4vMDEyMzQ1Njc4OTo7PD0+P0BBQkNERUZHSElKS0xNTk9QUVI=",
            "dtype": "i1"
           },
           "xaxis": "x",
           "y": {
            "bdata": "GmuJv1jyWEA7XqH4rOdYQHm+MKBS3FhAkPXooMbTWEAp+pK8Xc9YQE2Icbn+21hAvvAg5MHYWECj64jiBdpYQNACNs223FhAud6KTq7dWECHPQIxUN1YQEdLE5fK1VhAASnOjjTfWEDV2p885upYQJD2BSNC4FhAFenoItXZWECW0Y12K9hYQCRYsO4f0lhAAJ6hrH3VWECW97w99dBYQPy+rTzx3lhAs1GPmbDmWECstC2mLehYQLe2Cwjh7lhAMD7ptBX2WECyccyAmvJYQHXMFPuB7VhAefFDxyLuWEBL/EFAx/NYQD8+BtvL9FhA3fdd39TqWEAVVv9K0uVYQGw8I9155VhA1ntKqR7lWEAznQ0+3/FYQHYhLzUh6VhARkBKVX7sWEAuaDTdJvZYQBlV4yzRBFlAJk3sYFsCWUB5pPtNoQVZQAHPZ5FnCVlAaI7+nMgKWUB8ietuRwpZQNwt3IAyDVlAhMp6cB79WEBIRsS1nAFZQEkqOTWMAllAxqoYeUABWUDiEO/Reg5ZQLpFssZJCllAQSb7JNYHWUDjU5bftRRZQCipY2SDD1lA5JPs2R4MWUDCl5m7TgtZQP3fzvXQEFlAxtkaMUYSWUDdslgfIQpZQGD7R/zZBllAz+/5qRcDWUBn/brpuQJZQD9QHWKUBVlALRPuVmIIWUD8sjdKJf1YQCQCBTgVBFlAtv6ty9MFWUCMQh770A5ZQM4fAobJEVlA3+rxsvYYWUBa79baExxZQCd7dEfSJFlA6i3bs0ooWUDKS9ULyydZQAIcpfh2NllAruJyVkg8WUA3peggFUBZQPUSpcwKOFlAAp7fzewvWUAG1kAo7TFZQMMd4Fj8MllA/nPP7y4vWUBZNNmwNjBZQA==",
            "dtype": "f8"
           },
           "yaxis": "y"
          },
          {
           "line": {
            "color": "rgba(70, 130, 180, 0.9)",
            "width": 2
           },
           "name": "Ask",
           "type": "scatter",
           "x": {
            "bdata": "AAECAwQFBgcICQoLDA0ODxAREhMUFRYXGBkaGxwdHh8gISIjJCUmJygpKissLS4vMDEyMzQ1Njc4OTo7PD0+P0BBQkNERUZHSElKS0xNTk9QUVI=",
            "dtype": "i1"
           },
           "xaxis": "x",
           "y": {
            "bdata": "5jdWjCX/WEAHK27FefRYQEWL/Wwf6VhAXMK1bZPgWED1xl+JKtxYQBlVPobL6FhAir3tsI7lWEBvuFWv0uZYQJzPApqD6VhAhatXG3vqWEBTCs/9HOpYQBMY4GOX4lhAzfWaWwHsWEChp2wJs/dYQFzD0u8O7VhA4bW176HmWEBinlpD+ORYQPAkfbvs3lhAzGpueUriWEBixIkKwt1YQMiLegm+61hAfx5cZn3zWEB4gfpy+vRYQIOD2NSt+1hA/Aq2geICWUB+PplNZ/9YQEGZ4cdO+lhARb4QlO/6WEAXyQ4NlABZQAsL06eYAVlAqcQqrKH3WEDhIswXn/JYQDgJ8KlG8lhAokgXduvxWED/adoKrP5YQELu+wHu9VhAEg0XIkv5WED6NAGq8wJZQOUhsPmdEVlA8hm5LSgPWUBFccgabhJZQM2bNF40FllANFvLaZUXWUBIVrg7FBdZQKj6qE3/GVlAUJdHPesJWUAUE5GCaQ5ZQBX3BQJZD1lAknflRQ0OWUCu3bueRxtZQIYSf5MWF1lADfPH8aIUWUCvIGOsgiFZQPR1MDFQHFlAsGC5pusYWUCOZGaIGxhZQMmsm8KdHVlAkqbn/RIfWUCpfyXs7RZZQCzIFMmmE1lAm7zGduQPWUAzyoe2hg9ZQAsd6i5hEllA+d+6Iy8VWUDIfwQX8glZQPDO0QTiEFlAgst6mKASWUBYD+vHnRtZQJrszlKWHllAq7e+f8MlWUAmvKOn4ChZQPNHQRSfMVlAtvqngBc1WUCWGKLYlzRZQM7occVDQ1lAeq8/IxVJWUADcrXt4UxZQMHfcZnXRFlAzmqsmrk8WUDSog31uT5ZQI/qrCXJP1lAykCcvPs7WUAlAaZ9Az1ZQA==",
            "dtype": "f8"
           },
           "yaxis": "y"
          },
          {
           "marker": {
            "color": [
             "rgba(31, 119, 180, 0.8)",
             "rgba(31, 119, 180, 0.8)",
             "rgba(31, 119, 180, 0.8)",
             "rgba(31, 119, 180, 0.8)",
             "rgba(31, 119, 180, 0.8)",
             "rgba(31, 119, 180, 0.8)",
             "rgba(178, 34, 34, 0.8)",
             "rgba(31, 119, 180, 0.8)",
             "rgba(31, 119, 180, 0.8)",
             "rgba(31, 119, 180, 0.8)",
             "rgba(31, 119, 180, 0.8)",
             "rgba(31, 119, 180, 0.8)",
             "rgba(178, 34, 34, 0.8)",
             "rgba(178, 34, 34, 0.8)",
             "rgba(31, 119, 180, 0.8)",
             "rgba(31, 119, 180, 0.8)",
             "rgba(31, 119, 180, 0.8)",
             "rgba(31, 119, 180, 0.8)",
             "rgba(178, 34, 34, 0.8)",
             "rgba(31, 119, 180, 0.8)",
             "rgba(178, 34, 34, 0.8)",
             "rgba(178, 34, 34, 0.8)",
             "rgba(178, 34, 34, 0.8)",
             "rgba(178, 34, 34, 0.8)",
             "rgba(178, 34, 34, 0.8)",
             "rgba(31, 119, 180, 0.8)",
             "rgba(31, 119, 180, 0.8)",
             "rgba(31, 119, 180, 0.8)",
             "rgba(178, 34, 34, 0.8)",
             "rgba(31, 119, 180, 0.8)",
             "rgba(31, 119, 180, 0.8)",
             "rgba(31, 119, 180, 0.8)",
             "rgba(31, 119, 180, 0.8)",
             "rgba(31, 119, 180, 0.8)",
             "rgba(178, 34, 34, 0.8)",
             "rgba(31, 119, 180, 0.8)",
             "rgba(178, 34, 34, 0.8)",
             "rgba(178, 34, 34, 0.8)",
             "rgba(178, 34, 34, 0.8)",
             "rgba(31, 119, 180, 0.8)",
             "rgba(178, 34, 34, 0.8)",
             "rgba(178, 34, 34, 0.8)",
             "rgba(31, 119, 180, 0.8)",
             "rgba(31, 119, 180, 0.8)",
             "rgba(178, 34, 34, 0.8)",
             "rgba(31, 119, 180, 0.8)",
             "rgba(31, 119, 180, 0.8)",
             "rgba(31, 119, 180, 0.8)",
             "rgba(31, 119, 180, 0.8)",
             "rgba(178, 34, 34, 0.8)",
             "rgba(31, 119, 180, 0.8)",
             "rgba(31, 119, 180, 0.8)",
             "rgba(31, 119, 180, 0.8)",
             "rgba(31, 119, 180, 0.8)",
             "rgba(31, 119, 180, 0.8)",
             "rgba(31, 119, 180, 0.8)",
             "rgba(31, 119, 180, 0.8)",
             "rgba(31, 119, 180, 0.8)",
             "rgba(178, 34, 34, 0.8)",
             "rgba(178, 34, 34, 0.8)",
             "rgba(178, 34, 34, 0.8)",
             "rgba(178, 34, 34, 0.8)",
             "rgba(31, 119, 180, 0.8)",
             "rgba(31, 119, 180, 0.8)",
             "rgba(31, 119, 180, 0.8)",
             "rgba(178, 34, 34, 0.8)",
             "rgba(31, 119, 180, 0.8)",
             "rgba(178, 34, 34, 0.8)",
             "rgba(178, 34, 34, 0.8)",
             "rgba(178, 34, 34, 0.8)",
             "rgba(178, 34, 34, 0.8)",
             "rgba(178, 34, 34, 0.8)",
             "rgba(178, 34, 34, 0.8)",
             "rgba(31, 119, 180, 0.8)",
             "rgba(178, 34, 34, 0.8)",
             "rgba(178, 34, 34, 0.8)",
             "rgba(178, 34, 34, 0.8)",
             "rgba(31, 119, 180, 0.8)",
             "rgba(31, 119, 180, 0.8)",
             "rgba(178, 34, 34, 0.8)",
             "rgba(31, 119, 180, 0.8)",
             "rgba(31, 119, 180, 0.8)",
             "rgba(178, 34, 34, 0.8)"
            ]
           },
           "name": "Trade P&L",
           "type": "bar",
           "x": {
            "bdata": "AAECAwQFBgcICQoLDA0ODxAREhMUFRYXGBkaGxwdHh8gISIjJCUmJygpKissLS4vMDEyMzQ1Njc4OTo7PD0+P0BBQkNERUZHSElKS0xNTk9QUVI=",
            "dtype": "i1"
           },
           "xaxis": "x2",
           "y": {
            "bdata": "mpmZmZmZuT9mJIA29L3bP2YoBte+wNE/mpmZmZmZuT8AAAAAAAAAAGaK9ERjB9M/AHi8hKrmqb+amZmZmZm5PzTLecrdq60/mlG68o7dsT+a8ScB/AK+P2bmSkSacdU/AHS7de/T0r+aFa8Oo67cvwDPrM1M7N8/AHEoVwBH0z/NxIilLxrKPzPQ4twGUOI/M4N5ghqYy78zpnlTtxDjP2Yy9UdkXvq/TU1O4pHq579mhsUy+ge2v03z01WjQOS/gCdaB1046b8AcpfJbF7YP4BVwgLU1eE/aGbk004Alj/Nq/JFdIzgv6CZqzZzsXI/GsUUANIJ8z8zU7qthD3nP80KNNbOosE/zdTT9ToTwT9NNaC0QK7svzOtKvBEr+Q/zEywV8+Hrb/NnByh3B3gv00tMFNEzOK/ZjKGQpY90D8zcZzMde7DvwCo1BxR39K/0EwZbQFHjD8AgJ1gwiWgP8zMNVx71qK/M4uWlENH4z9oJqrOEYKeP5qRefKdHbI/zd7JjzWTxD8AKplBhdfjv81s+b/5kM0/zb4LOxC0wT+amZmZmZm5PwAAAAAAAAAAzVT3uuGVwz+amZmZmZm5P81CXTdB0cc/AJCcv7RTlz8A0k2EI0rAv8DMSYTd72O/AIhccJISvr8AAJq8D3CHv818cpG9gcI/mpmZmZmZuT9ml8Ycc6PRPwCgPDW3v7u/NBNqo/hJpz8ArIfgXvrRv8z8iinSGaS/ADNhz4aH1b9mFq625Di4v5oAPXLf1NO/AJIwaIrSxL8AAGYage+XPwBUuDfjAea/mkm00BDf0L9m0oTr4/+zvzO3V7rbR+M/s5LXIDB+5z+YmZrnMbCZv2hW+580p5E/ZnoNqQqc1T8AsAWcEHywvw==",
            "dtype": "f8"
           },
           "yaxis": "y2"
          },
          {
           "line": {
            "color": "rgba(60, 179, 113, 0.9)",
            "width": 2
           },
           "name": "Cumulative P&L",
           "type": "scatter",
           "x": {
            "bdata": "AAECAwQFBgcICQoLDA0ODxAREhMUFRYXGBkaGxwdHh8gISIjJCUmJygpKissLS4vMDEyMzQ1Njc4OTo7PD0+P0BBQkNERUZHSElKS0xNTk9QUVI=",
            "dtype": "i1"
           },
           "xaxis": "x2",
           "y": {
            "bdata": "AAAAAAAAAABmJIA29L3bP2Ymw4ZZv+Y/mVn2uYzy6T+ZWfa5jPLpP2ZPOC4fu/E/pmsS2unr8D9ABaxzg4XyP5rT/2HicvM/tHgrUbuQ9D/O9z0R63D2P2ixUKJRzfs/aNThxFUY9z8DHmwCWtnvP8JCoTTA5/c/Al9rSoC5/D+cdxw/xvz/P9vvxtZkkgRAqFefLuPYAkA1wX0DEZ0HQARQBr+92/Q/u1K+m+nM4T/cQ8uq1BfeP3xFuQHk0sS/33jIBxZt7r/fv/yi3z3iv8CXmg7oAoq/EDUumbX9gT/58o1vfUTgv8abIIkaH+C/bu4Id4n05T/QoGESB5n2PyoiKO1gzfg/xJziS8jv+j87BCXjTzHpP7fYp2lK8PY/UVbq7gsE9j/VD7g8O+rrPxDFD9PtO9I/u/vKCsI84T/cvkcvSYLYP3BbzEngi7Y/CoVvd8AUuj+FIt/T0BPBP6Reo/ljvLg/CPfKE9Be5j87SECi4FLnP256j2CUluk/IfKBxGG77j9CkNEFucfVP1Qj5/IaSOI/BxOqAR+15j86Rt00UujpPzpG3TRS6Ok/bRubo8rN7j9QJ2frfgDxP6rPUhKn+vM/6kFR5fVX9D+qh8d0sU7yP8RiBYa5RPI/RJr/XpBj8D9EZoY/sDTwP961tPHnhPI/eE9Oi4Ee9D9S9X9SXof4P1IrLN9iy/Y/7HtHpLKF9z/skCXsGgfzPwY52VpMZvI/jNgBTtUI6j+/FSy3uAHnP+QqG/yRLto/yMMFkJmKzz/kQanZRETRPxxmx5WBv9q/29c9M0nP5b8ocq6wRU/ov9TrWtmnHcS/vteAKsZ24j/xAkSbRKnhP6TdQ0B+NuI/15rKlIME7T/X5EmBAfXqPw==",
            "dtype": "f8"
           },
           "yaxis": "y2"
          }
         ]
        },
        {
         "data": [
          {
           "line": {
            "color": "rgba(60, 179, 113, 0.9)",
            "dash": "dot",
            "width": 2
           },
           "name": "Mid Price (Estimated)",
           "type": "scatter",
           "x": {
            "bdata": "AAECAwQFBgcICQoLDA0ODxAREhMUFRYXGBkaGxwdHh8gISIjJCUmJygpKissLS4vMDEyMzQ1Njc4OTo7PD0+P0BBQkNERUZHSElKS0xNTk9QUVJT",
            "dtype": "i1"
           },
           "xaxis": "x",
           "y": {
            "bdata": "gNHvJb/4WEChxAdfE+5YQN8klwa54lhA9ltPBy3aWECPYPkixNVYQLPu1x9l4lhAJFeHSijfWEAJUu9IbOBYQDZpnDMd41hAH0XxtBTkWEDto2iXtuNYQK2xef0w3FhAZ4809ZrlWEA7QQajTPFYQPZcbImo5lhAe09PiTvgWED8N/Tckd5YQIq+FlWG2FhAZgQIE+TbWED8XSOkW9dYQGIlFKNX5VhAGbj1/xbtWEASG5QMlO5YQB0dcm5H9VhAlqRPG3z8WEAY2DLnAPlYQNsye2Ho81hA31eqLYn0WECxYqimLfpYQKWkbEEy+1hAQ17ERTvxWEB7vGWxOOxYQNKiiUPg61hAPOKwD4XrWECZA3SkRfhYQNyHlZuH71hArKawu+TyWECUzppDjfxYQH+7SZM3C1lAjLNSx8EIWUDfCmK0BwxZQGc1zvfND1lAzvRkAy8RWUDi71HVrRBZQEKUQueYE1lA6jDh1oQDWUCurCocAwhZQK+Qn5vyCFlALBF/36YHWUBId1U44RRZQCCsGC2wEFlAp4xhizwOWUBJuvxFHBtZQI4PysrpFVlASvpSQIUSWUAo/v8htRFZQGNGNVw3F1lALECBl6wYWUBDGb+FhxBZQMZhrmJADVlANVZgEH4JWUDNYyFQIAlZQKW2g8j6C1lAk3lUvcgOWUBiGZ6wiwNZQIpoa557CllAHGUUMjoMWUDyqIRhNxVZQDSGaOwvGFlARVFYGV0fWUDAVT1BeiJZQI3h2q04K1lAUJRBGrEuWUAwsjtyMS5ZQGiCC1/dPFlAFEnZvK5CWUCdC0+He0ZZQFt5CzNxPllAaARGNFM2WUBsPKeOUzhZQCmERr9iOVlAZNo1VpU1WUC/mj8XnTZZQC/KSKroQFlA",
            "dtype": "f8"
           },
           "yaxis": "y"
          },
          {
           "line": {
            "color": "rgba(178, 34, 34, 0.9)",
            "width": 2
           },
           "name": "Bid",
           "type": "scatter",
           "x": {
            "bdata": "AAECAwQFBgcICQoLDA0ODxAREhMUFRYXGBkaGxwdHh8gISIjJCUmJygpKissLS4vMDEyMzQ1Njc4OTo7PD0+P0BBQkNERUZHSElKS0xNTk9QUVJT",
            "dtype": "i1"
           },
           "xaxis": "x",
           "y": {
            "bdata": "GmuJv1jyWEA7XqH4rOdYQHm+MKBS3FhAkPXooMbTWEAp+pK8Xc9YQE2Icbn+21hAvvAg5MHYWECj64jiBdpYQNACNs223FhAud6KTq7dWECHPQIxUN1YQEdLE5fK1VhAASnOjjTfWEDV2p885upYQJD2BSNC4FhAFenoItXZWECW0Y12K9hYQCRYsO4f0lhAAJ6hrH3VWECW97w99dBYQPy+rTzx3lhAs1GPmbDmWECstC2mLehYQLe2Cwjh7lhAMD7ptBX2WECyccyAmvJYQHXMFPuB7VhAefFDxyLuWEBL/EFAx/NYQD8+BtvL9FhA3fdd39TqWEAVVv9K0uVYQGw8I9155VhA1ntKqR7lWEAznQ0+3/FYQHYhLzUh6VhARkBKVX7sWEAuaDTdJvZYQBlV4yzRBFlAJk3sYFsCWUB5pPtNoQVZQAHPZ5FnCVlAaI7+nMgKWUB8ietuRwpZQNwt3IAyDVlAhMp6cB79WEBIRsS1nAFZQEkqOTWMAllAxqoYeUABWUDiEO/Reg5ZQLpFssZJCllAQSb7JNYHWUDjU5bftRRZQCipY2SDD1lA5JPs2R4MWUDCl5m7TgtZQP3fzvXQEFlAxtkaMUYSWUDdslgfIQpZQGD7R/zZBllAz+/5qRcDWUBn/brpuQJZQD9QHWKUBVlALRPuVmIIWUD8sjdKJf1YQCQCBTgVBFlAtv6ty9MFWUCMQh770A5ZQM4fAobJEVlA3+rxsvYYWUBa79baExxZQCd7dEfSJFlA6i3bs0ooWUDKS9ULyydZQAIcpfh2NllAruJyVkg8WUA3peggFUBZQPUSpcwKOFlAAp7fzewvWUAG1kAo7TFZQMMd4Fj8MllA/nPP7y4vWUBZNNmwNjBZQMlj4kOCOllA",
            "dtype": "f8"
           },
           "yaxis": "y"
          },
          {
           "line": {
            "color": "rgba(70, 130, 180, 0.9)",
            "width": 2
           },
           "name": "Ask",
           "type": "scatter",
           "x": {
            "bdata": "AAECAwQFBgcICQoLDA0ODxAREhMUFRYXGBkaGxwdHh8gISIjJCUmJygpKissLS4vMDEyMzQ1Njc4OTo7PD0+P0BBQkNERUZHSElKS0xNTk9QUVJT",
            "dtype": "i1"
           },
           "xaxis": "x",
           "y": {
            "bdata": "5jdWjCX/WEAHK27FefRYQEWL/Wwf6VhAXMK1bZPgWED1xl+JKtxYQBlVPobL6FhAir3tsI7lWEBvuFWv0uZYQJzPApqD6VhAhatXG3vqWEBTCs/9HOpYQBMY4GOX4lhAzfWaWwHsWEChp2wJs/dYQFzD0u8O7VhA4bW176HmWEBinlpD+ORYQPAkfbvs3lhAzGpueUriWEBixIkKwt1YQMiLegm+61hAfx5cZn3zWEB4gfpy+vRYQIOD2NSt+1hA/Aq2geICWUB+PplNZ/9YQEGZ4cdO+lhARb4QlO/6WEAXyQ4NlABZQAsL06eYAVlAqcQqrKH3WEDhIswXn/JYQDgJ8KlG8lhAokgXduvxWED/adoKrP5YQELu+wHu9VhAEg0XIkv5WED6NAGq8wJZQOUhsPmdEVlA8hm5LSgPWUBFccgabhJZQM2bNF40FllANFvLaZUXWUBIVrg7FBdZQKj6qE3/GVlAUJdHPesJWUAUE5GCaQ5ZQBX3BQJZD1lAknflRQ0OWUCu3bueRxtZQIYSf5MWF1lADfPH8aIUWUCvIGOsgiFZQPR1MDFQHFlAsGC5pusYWUCOZGaIGxhZQMmsm8KdHVlAkqbn/RIfWUCpfyXs7RZZQCzIFMmmE1lAm7zGduQPWUAzyoe2hg9ZQAsd6i5hEllA+d+6Iy8VWUDIfwQX8glZQPDO0QTiEFlAgst6mKASWUBYD+vHnRtZQJrszlKWHllAq7e+f8MlWUAmvKOn4ChZQPNHQRSfMVlAtvqngBc1WUCWGKLYlzRZQM7occVDQ1lAeq8/IxVJWUADcrXt4UxZQMHfcZnXRFlAzmqsmrk8WUDSog31uT5ZQI/qrCXJP1lAykCcvPs7WUAlAaZ9Az1ZQJUwrxBPR1lA",
            "dtype": "f8"
           },
           "yaxis": "y"
          },
          {
           "marker": {
            "color": [
             "rgba(31, 119, 180, 0.8)",
             "rgba(31, 119, 180, 0.8)",
             "rgba(31, 119, 180, 0.8)",
             "rgba(31, 119, 180, 0.8)",
             "rgba(31, 119, 180, 0.8)",
             "rgba(31, 119, 180, 0.8)",
             "rgba(178, 34, 34, 0.8)",
             "rgba(31, 119, 180, 0.8)",
             "rgba(31, 119, 180, 0.8)",
             "rgba(31, 119, 180, 0.8)",
             "rgba(31, 119, 180, 0.8)",
             "rgba(31, 119, 180, 0.8)",
             "rgba(178, 34, 34, 0.8)",
             "rgba(178, 34, 34, 0.8)",
             "rgba(31, 119, 180, 0.8)",
             "rgba(31, 119, 180, 0.8)",
             "rgba(31, 119, 180, 0.8)",
             "rgba(31, 119, 180, 0.8)",
             "rgba(178, 34, 34, 0.8)",
             "rgba(31, 119, 180, 0.8)",
             "rgba(178, 34, 34, 0.8)",
             "rgba(178, 34, 34, 0.8)",
             "rgba(178, 34, 34, 0.8)",
             "rgba(178, 34, 34, 0.8)",
             "rgba(178, 34, 34, 0.8)",
             "rgba(31, 119, 180, 0.8)",
             "rgba(31, 119, 180, 0.8)",
             "rgba(31, 119, 180, 0.8)",
             "rgba(178, 34, 34, 0.8)",
             "rgba(31, 119, 180, 0.8)",
             "rgba(31, 119, 180, 0.8)",
             "rgba(31, 119, 180, 0.8)",
             "rgba(31, 119, 180, 0.8)",
             "rgba(31, 119, 180, 0.8)",
             "rgba(178, 34, 34, 0.8)",
             "rgba(31, 119, 180, 0.8)",
             "rgba(178, 34, 34, 0.8)",
             "rgba(178, 34, 34, 0.8)",
             "rgba(178, 34, 34, 0.8)",
             "rgba(31, 119, 180, 0.8)",
             "rgba(178, 34, 34, 0.8)",
             "rgba(178, 34, 34, 0.8)",
             "rgba(31, 119, 180, 0.8)",
             "rgba(31, 119, 180, 0.8)",
             "rgba(178, 34, 34, 0.8)",
             "rgba(31, 119, 180, 0.8)",
             "rgba(31, 119, 180, 0.8)",
             "rgba(31, 119, 180, 0.8)",
             "rgba(31, 119, 180, 0.8)",
             "rgba(178, 34, 34, 0.8)",
             "rgba(31, 119, 180, 0.8)",
             "rgba(31, 119, 180, 0.8)",
             "rgba(31, 119, 180, 0.8)",
             "rgba(31, 119, 180, 0.8)",
             "rgba(31, 119, 180, 0.8)",
             "rgba(31, 119, 180, 0.8)",
             "rgba(31, 119, 180, 0.8)",
             "rgba(31, 119, 180, 0.8)",
             "rgba(178, 34, 34, 0.8)",
             "rgba(178, 34, 34, 0.8)",
             "rgba(178, 34, 34, 0.8)",
             "rgba(178, 34, 34, 0.8)",
             "rgba(31, 119, 180, 0.8)",
             "rgba(31, 119, 180, 0.8)",
             "rgba(31, 119, 180, 0.8)",
             "rgba(178, 34, 34, 0.8)",
             "rgba(31, 119, 180, 0.8)",
             "rgba(178, 34, 34, 0.8)",
             "rgba(178, 34, 34, 0.8)",
             "rgba(178, 34, 34, 0.8)",
             "rgba(178, 34, 34, 0.8)",
             "rgba(178, 34, 34, 0.8)",
             "rgba(178, 34, 34, 0.8)",
             "rgba(31, 119, 180, 0.8)",
             "rgba(178, 34, 34, 0.8)",
             "rgba(178, 34, 34, 0.8)",
             "rgba(178, 34, 34, 0.8)",
             "rgba(31, 119, 180, 0.8)",
             "rgba(31, 119, 180, 0.8)",
             "rgba(178, 34, 34, 0.8)",
             "rgba(31, 119, 180, 0.8)",
             "rgba(31, 119, 180, 0.8)",
             "rgba(178, 34, 34, 0.8)",
             "rgba(178, 34, 34, 0.8)"
            ]
           },
           "name": "Trade P&L",
           "type": "bar",
           "x": {
            "bdata": "AAECAwQFBgcICQoLDA0ODxAREhMUFRYXGBkaGxwdHh8gISIjJCUmJygpKissLS4vMDEyMzQ1Njc4OTo7PD0+P0BBQkNERUZHSElKS0xNTk9QUVJT",
            "dtype": "i1"
           },
           "xaxis": "x2",
           "y": {
            "bdata": "mpmZmZmZuT9mJIA29L3bP2YoBte+wNE/mpmZmZmZuT8AAAAAAAAAAGaK9ERjB9M/AHi8hKrmqb+amZmZmZm5PzTLecrdq60/mlG68o7dsT+a8ScB/AK+P2bmSkSacdU/AHS7de/T0r+aFa8Oo67cvwDPrM1M7N8/AHEoVwBH0z/NxIilLxrKPzPQ4twGUOI/M4N5ghqYy78zpnlTtxDjP2Yy9UdkXvq/TU1O4pHq579mhsUy+ge2v03z01WjQOS/gCdaB1046b8AcpfJbF7YP4BVwgLU1eE/aGbk004Alj/Nq/JFdIzgv6CZqzZzsXI/GsUUANIJ8z8zU7qthD3nP80KNNbOosE/zdTT9ToTwT9NNaC0QK7svzOtKvBEr+Q/zEywV8+Hrb/NnByh3B3gv00tMFNEzOK/ZjKGQpY90D8zcZzMde7DvwCo1BxR39K/0EwZbQFHjD8AgJ1gwiWgP8zMNVx71qK/M4uWlENH4z9oJqrOEYKeP5qRefKdHbI/zd7JjzWTxD8AKplBhdfjv81s+b/5kM0/zb4LOxC0wT+amZmZmZm5PwAAAAAAAAAAzVT3uuGVwz+amZmZmZm5P81CXTdB0cc/AJCcv7RTlz8A0k2EI0rAv8DMSYTd72O/AIhccJISvr8AAJq8D3CHv818cpG9gcI/mpmZmZmZuT9ml8Ycc6PRPwCgPDW3v7u/NBNqo/hJpz8ArIfgXvrRv8z8iinSGaS/ADNhz4aH1b9mFq625Di4v5oAPXLf1NO/AJIwaIrSxL8AAGYage+XPwBUuDfjAea/mkm00BDf0L9m0oTr4/+zvzO3V7rbR+M/s5LXIDB+5z+YmZrnMbCZv2hW+580p5E/ZnoNqQqc1T8AsAWcEHywv81kw2O8iea/",
            "dtype": "f8"
           },
           "yaxis": "y2"
          },
          {
           "line": {
            "color": "rgba(60, 179, 113, 0.9)",
            "width": 2
           },
           "name": "Cumulative P&L",
           "type": "scatter",
           "x": {
            "bdata": "AAECAwQFBgcICQoLDA0ODxAREhMUFRYXGBkaGxwdHh8gISIjJCUmJygpKissLS4vMDEyMzQ1Njc4OTo7PD0+P0BBQkNERUZHSElKS0xNTk9QUVJT",
            "dtype": "i1"
           },
           "xaxis": "x2",
           "y": {
            "bdata": "AAAAAAAAAABmJIA29L3bP2Ymw4ZZv+Y/mVn2uYzy6T+ZWfa5jPLpP2ZPOC4fu/E/pmsS2unr8D9ABaxzg4XyP5rT/2HicvM/tHgrUbuQ9D/O9z0R63D2P2ixUKJRzfs/aNThxFUY9z8DHmwCWtnvP8JCoTTA5/c/Al9rSoC5/D+cdxw/xvz/P9vvxtZkkgRAqFefLuPYAkA1wX0DEZ0HQARQBr+92/Q/u1K+m+nM4T/cQ8uq1BfeP3xFuQHk0sS/33jIBxZt7r/fv/yi3z3iv8CXmg7oAoq/EDUumbX9gT/58o1vfUTgv8abIIkaH+C/bu4Id4n05T/QoGESB5n2PyoiKO1gzfg/xJziS8jv+j87BCXjTzHpP7fYp2lK8PY/UVbq7gsE9j/VD7g8O+rrPxDFD9PtO9I/u/vKCsI84T/cvkcvSYLYP3BbzEngi7Y/CoVvd8AUuj+FIt/T0BPBP6Reo/ljvLg/CPfKE9Be5j87SECi4FLnP256j2CUluk/IfKBxGG77j9CkNEFucfVP1Qj5/IaSOI/BxOqAR+15j86Rt00UujpPzpG3TRS6Ok/bRubo8rN7j9QJ2frfgDxP6rPUhKn+vM/6kFR5fVX9D+qh8d0sU7yP8RiBYa5RPI/RJr/XpBj8D9EZoY/sDTwP961tPHnhPI/eE9Oi4Ee9D9S9X9SXof4P1IrLN9iy/Y/7HtHpLKF9z/skCXsGgfzPwY52VpMZvI/jNgBTtUI6j+/FSy3uAHnP+QqG/yRLto/yMMFkJmKzz/kQanZRETRPxxmx5WBv9q/29c9M0nP5b8ocq6wRU/ov9TrWtmnHcS/vteAKsZ24j/xAkSbRKnhP6TdQ0B+NuI/15rKlIME7T/X5EmBAfXqPygAGnYUrcE/",
            "dtype": "f8"
           },
           "yaxis": "y2"
          }
         ]
        },
        {
         "data": [
          {
           "line": {
            "color": "rgba(60, 179, 113, 0.9)",
            "dash": "dot",
            "width": 2
           },
           "name": "Mid Price (Estimated)",
           "type": "scatter",
           "x": {
            "bdata": "AAECAwQFBgcICQoLDA0ODxAREhMUFRYXGBkaGxwdHh8gISIjJCUmJygpKissLS4vMDEyMzQ1Njc4OTo7PD0+P0BBQkNERUZHSElKS0xNTk9QUVJTVA==",
            "dtype": "i1"
           },
           "xaxis": "x",
           "y": {
            "bdata": "gNHvJb/4WEChxAdfE+5YQN8klwa54lhA9ltPBy3aWECPYPkixNVYQLPu1x9l4lhAJFeHSijfWEAJUu9IbOBYQDZpnDMd41hAH0XxtBTkWEDto2iXtuNYQK2xef0w3FhAZ4809ZrlWEA7QQajTPFYQPZcbImo5lhAe09PiTvgWED8N/Tckd5YQIq+FlWG2FhAZgQIE+TbWED8XSOkW9dYQGIlFKNX5VhAGbj1/xbtWEASG5QMlO5YQB0dcm5H9VhAlqRPG3z8WEAY2DLnAPlYQNsye2Ho81hA31eqLYn0WECxYqimLfpYQKWkbEEy+1hAQ17ERTvxWEB7vGWxOOxYQNKiiUPg61hAPOKwD4XrWECZA3SkRfhYQNyHlZuH71hArKawu+TyWECUzppDjfxYQH+7SZM3C1lAjLNSx8EIWUDfCmK0BwxZQGc1zvfND1lAzvRkAy8RWUDi71HVrRBZQEKUQueYE1lA6jDh1oQDWUCurCocAwhZQK+Qn5vyCFlALBF/36YHWUBId1U44RRZQCCsGC2wEFlAp4xhizwOWUBJuvxFHBtZQI4PysrpFVlASvpSQIUSWUAo/v8htRFZQGNGNVw3F1lALECBl6wYWUBDGb+FhxBZQMZhrmJADVlANVZgEH4JWUDNYyFQIAlZQKW2g8j6C1lAk3lUvcgOWUBiGZ6wiwNZQIpoa557CllAHGUUMjoMWUDyqIRhNxVZQDSGaOwvGFlARVFYGV0fWUDAVT1BeiJZQI3h2q04K1lAUJRBGrEuWUAwsjtyMS5ZQGiCC1/dPFlAFEnZvK5CWUCdC0+He0ZZQFt5CzNxPllAaARGNFM2WUBsPKeOUzhZQCmERr9iOVlAZNo1VpU1WUC/mj8XnTZZQC/KSKroQFlA4ZTUx3xFWUA=",
            "dtype": "f8"
           },
           "yaxis": "y"
          },
          {
           "line": {
            "color": "rgba(178, 34, 34, 0.9)",
            "width": 2
           },
           "name": "Bid",
           "type": "scatter",
           "x": {
            "bdata": "AAECAwQFBgcICQoLDA0ODxAREhMUFRYXGBkaGxwdHh8gISIjJCUmJygpKissLS4vMDEyMzQ1Njc4OTo7PD0+P0BBQkNERUZHSElKS0xNTk9QUVJTVA==",
            "dtype": "i1"
           },
           "xaxis": "x",
           "y": {
            "bdata": "GmuJv1jyWEA7XqH4rOdYQHm+MKBS3FhAkPXooMbTWEAp+pK8Xc9YQE2Icbn+21hAvvAg5MHYWECj64jiBdpYQNACNs223FhAud6KTq7dWECHPQIxUN1YQEdLE5fK1VhAASnOjjTfWEDV2p885upYQJD2BSNC4FhAFenoItXZWECW0Y12K9hYQCRYsO4f0lhAAJ6hrH3VWECW97w99dBYQPy+rTzx3lhAs1GPmbDmWECstC2mLehYQLe2Cwjh7lhAMD7ptBX2WECyccyAmvJYQHXMFPuB7VhAefFDxyLuWEBL/EFAx/NYQD8+BtvL9FhA3fdd39TqWEAVVv9K0uVYQGw8I9155VhA1ntKqR7lWEAznQ0+3/FYQHYhLzUh6VhARkBKVX7sWEAuaDTdJvZYQBlV4yzRBFlAJk3sYFsCWUB5pPtNoQVZQAHPZ5FnCVlAaI7+nMgKWUB8ietuRwpZQNwt3IAyDVlAhMp6cB79WEBIRsS1nAFZQEkqOTWMAllAxqoYeUABWUDiEO/Reg5ZQLpFssZJCllAQSb7JNYHWUDjU5bftRRZQCipY2SDD1lA5JPs2R4MWUDCl5m7TgtZQP3fzvXQEFlAxtkaMUYSWUDdslgfIQpZQGD7R/zZBllAz+/5qRcDWUBn/brpuQJZQD9QHWKUBVlALRPuVmIIWUD8sjdKJf1YQCQCBTgVBFlAtv6ty9MFWUCMQh770A5ZQM4fAobJEVlA3+rxsvYYWUBa79baExxZQCd7dEfSJFlA6i3bs0ooWUDKS9ULyydZQAIcpfh2NllAruJyVkg8WUA3peggFUBZQPUSpcwKOFlAAp7fzewvWUAG1kAo7TFZQMMd4Fj8MllA/nPP7y4vWUBZNNmwNjBZQMlj4kOCOllAey5uYRY/WUA=",
            "dtype": "f8"
           },
           "yaxis": "y"
          },
          {
           "line": {
            "color": "rgba(70, 130, 180, 0.9)",
            "width": 2
           },
           "name": "Ask",
           "type": "scatter",
           "x": {
            "bdata": "AAECAwQFBgcICQoLDA0ODxAREhMUFRYXGBkaGxwdHh8gISIjJCUmJygpKissLS4vMDEyMzQ1Njc4OTo7PD0+P0BBQkNERUZHSElKS0xNTk9QUVJTVA==",
            "dtype": "i1"
           },
           "xaxis": "x",
           "y": {
            "bdata": "5jdWjCX/WEAHK27FefRYQEWL/Wwf6VhAXMK1bZPgWED1xl+JKtxYQBlVPobL6FhAir3tsI7lWEBvuFWv0uZYQJzPApqD6VhAhatXG3vqWEBTCs/9HOpYQBMY4GOX4lhAzfWaWwHsWEChp2wJs/dYQFzD0u8O7VhA4bW176HmWEBinlpD+ORYQPAkfbvs3lhAzGpueUriWEBixIkKwt1YQMiLegm+61hAfx5cZn3zWEB4gfpy+vRYQIOD2NSt+1hA/Aq2geICWUB+PplNZ/9YQEGZ4cdO+lhARb4QlO/6WEAXyQ4NlABZQAsL06eYAVlAqcQqrKH3WEDhIswXn/JYQDgJ8KlG8lhAokgXduvxWED/adoKrP5YQELu+wHu9VhAEg0XIkv5WED6NAGq8wJZQOUhsPmdEVlA8hm5LSgPWUBFccgabhJZQM2bNF40FllANFvLaZUXWUBIVrg7FBdZQKj6qE3/GVlAUJdHPesJWUAUE5GCaQ5ZQBX3BQJZD1lAknflRQ0OWUCu3bueRxtZQIYSf5MWF1lADfPH8aIUWUCvIGOsgiFZQPR1MDFQHFlAsGC5pusYWUCOZGaIGxhZQMmsm8KdHVlAkqbn/RIfWUCpfyXs7RZZQCzIFMmmE1lAm7zGduQPWUAzyoe2hg9ZQAsd6i5hEllA+d+6Iy8VWUDIfwQX8glZQPDO0QTiEFlAgst6mKASWUBYD+vHnRtZQJrszlKWHllAq7e+f8MlWUAmvKOn4ChZQPNHQRSfMVlAtvqngBc1WUCWGKLYlzRZQM7occVDQ1lAeq8/IxVJWUADcrXt4UxZQMHfcZnXRFlAzmqsmrk8WUDSog31uT5ZQI/qrCXJP1lAykCcvPs7WUAlAaZ9Az1ZQJUwrxBPR1lAR/s6LuNLWUA=",
            "dtype": "f8"
           },
           "yaxis": "y"
          },
          {
           "marker": {
            "color": [
             "rgba(31, 119, 180, 0.8)",
             "rgba(31, 119, 180, 0.8)",
             "rgba(31, 119, 180, 0.8)",
             "rgba(31, 119, 180, 0.8)",
             "rgba(31, 119, 180, 0.8)",
             "rgba(31, 119, 180, 0.8)",
             "rgba(178, 34, 34, 0.8)",
             "rgba(31, 119, 180, 0.8)",
             "rgba(31, 119, 180, 0.8)",
             "rgba(31, 119, 180, 0.8)",
             "rgba(31, 119, 180, 0.8)",
             "rgba(31, 119, 180, 0.8)",
             "rgba(178, 34, 34, 0.8)",
             "rgba(178, 34, 34, 0.8)",
             "rgba(31, 119, 180, 0.8)",
             "rgba(31, 119, 180, 0.8)",
             "rgba(31, 119, 180, 0.8)",
             "rgba(31, 119, 180, 0.8)",
             "rgba(178, 34, 34, 0.8)",
             "rgba(31, 119, 180, 0.8)",
             "rgba(178, 34, 34, 0.8)",
             "rgba(178, 34, 34, 0.8)",
             "rgba(178, 34, 34, 0.8)",
             "rgba(178, 34, 34, 0.8)",
             "rgba(178, 34, 34, 0.8)",
             "rgba(31, 119, 180, 0.8)",
             "rgba(31, 119, 180, 0.8)",
             "rgba(31, 119, 180, 0.8)",
             "rgba(178, 34, 34, 0.8)",
             "rgba(31, 119, 180, 0.8)",
             "rgba(31, 119, 180, 0.8)",
             "rgba(31, 119, 180, 0.8)",
             "rgba(31, 119, 180, 0.8)",
             "rgba(31, 119, 180, 0.8)",
             "rgba(178, 34, 34, 0.8)",
             "rgba(31, 119, 180, 0.8)",
             "rgba(178, 34, 34, 0.8)",
             "rgba(178, 34, 34, 0.8)",
             "rgba(178, 34, 34, 0.8)",
             "rgba(31, 119, 180, 0.8)",
             "rgba(178, 34, 34, 0.8)",
             "rgba(178, 34, 34, 0.8)",
             "rgba(31, 119, 180, 0.8)",
             "rgba(31, 119, 180, 0.8)",
             "rgba(178, 34, 34, 0.8)",
             "rgba(31, 119, 180, 0.8)",
             "rgba(31, 119, 180, 0.8)",
             "rgba(31, 119, 180, 0.8)",
             "rgba(31, 119, 180, 0.8)",
             "rgba(178, 34, 34, 0.8)",
             "rgba(31, 119, 180, 0.8)",
             "rgba(31, 119, 180, 0.8)",
             "rgba(31, 119, 180, 0.8)",
             "rgba(31, 119, 180, 0.8)",
             "rgba(31, 119, 180, 0.8)",
             "rgba(31, 119, 180, 0.8)",
             "rgba(31, 119, 180, 0.8)",
             "rgba(31, 119, 180, 0.8)",
             "rgba(178, 34, 34, 0.8)",
             "rgba(178, 34, 34, 0.8)",
             "rgba(178, 34, 34, 0.8)",
             "rgba(178, 34, 34, 0.8)",
             "rgba(31, 119, 180, 0.8)",
             "rgba(31, 119, 180, 0.8)",
             "rgba(31, 119, 180, 0.8)",
             "rgba(178, 34, 34, 0.8)",
             "rgba(31, 119, 180, 0.8)",
             "rgba(178, 34, 34, 0.8)",
             "rgba(178, 34, 34, 0.8)",
             "rgba(178, 34, 34, 0.8)",
             "rgba(178, 34, 34, 0.8)",
             "rgba(178, 34, 34, 0.8)",
             "rgba(178, 34, 34, 0.8)",
             "rgba(31, 119, 180, 0.8)",
             "rgba(178, 34, 34, 0.8)",
             "rgba(178, 34, 34, 0.8)",
             "rgba(178, 34, 34, 0.8)",
             "rgba(31, 119, 180, 0.8)",
             "rgba(31, 119, 180, 0.8)",
             "rgba(178, 34, 34, 0.8)",
             "rgba(31, 119, 180, 0.8)",
             "rgba(31, 119, 180, 0.8)",
             "rgba(178, 34, 34, 0.8)",
             "rgba(178, 34, 34, 0.8)",
             "rgba(178, 34, 34, 0.8)"
            ]
           },
           "name": "Trade P&L",
           "type": "bar",
           "x": {
            "bdata": "AAECAwQFBgcICQoLDA0ODxAREhMUFRYXGBkaGxwdHh8gISIjJCUmJygpKissLS4vMDEyMzQ1Njc4OTo7PD0+P0BBQkNERUZHSElKS0xNTk9QUVJTVA==",
            "dtype": "i1"
           },
           "xaxis": "x2",
           "y": {
            "bdata": "mpmZmZmZuT9mJIA29L3bP2YoBte+wNE/mpmZmZmZuT8AAAAAAAAAAGaK9ERjB9M/AHi8hKrmqb+amZmZmZm5PzTLecrdq60/mlG68o7dsT+a8ScB/AK+P2bmSkSacdU/AHS7de/T0r+aFa8Oo67cvwDPrM1M7N8/AHEoVwBH0z/NxIilLxrKPzPQ4twGUOI/M4N5ghqYy78zpnlTtxDjP2Yy9UdkXvq/TU1O4pHq579mhsUy+ge2v03z01WjQOS/gCdaB1046b8AcpfJbF7YP4BVwgLU1eE/aGbk004Alj/Nq/JFdIzgv6CZqzZzsXI/GsUUANIJ8z8zU7qthD3nP80KNNbOosE/zdTT9ToTwT9NNaC0QK7svzOtKvBEr+Q/zEywV8+Hrb/NnByh3B3gv00tMFNEzOK/ZjKGQpY90D8zcZzMde7DvwCo1BxR39K/0EwZbQFHjD8AgJ1gwiWgP8zMNVx71qK/M4uWlENH4z9oJqrOEYKeP5qRefKdHbI/zd7JjzWTxD8AKplBhdfjv81s+b/5kM0/zb4LOxC0wT+amZmZmZm5PwAAAAAAAAAAzVT3uuGVwz+amZmZmZm5P81CXTdB0cc/AJCcv7RTlz8A0k2EI0rAv8DMSYTd72O/AIhccJISvr8AAJq8D3CHv818cpG9gcI/mpmZmZmZuT9ml8Ycc6PRPwCgPDW3v7u/NBNqo/hJpz8ArIfgXvrRv8z8iinSGaS/ADNhz4aH1b9mFq625Di4v5oAPXLf1NO/AJIwaIrSxL8AAGYage+XPwBUuDfjAea/mkm00BDf0L9m0oTr4/+zvzO3V7rbR+M/s5LXIDB+5z+YmZrnMbCZv2hW+580p5E/ZnoNqQqc1T8AsAWcEHywv81kw2O8iea/M8OIkR/Ux78=",
            "dtype": "f8"
           },
           "yaxis": "y2"
          },
          {
           "line": {
            "color": "rgba(60, 179, 113, 0.9)",
            "width": 2
           },
           "name": "Cumulative P&L",
           "type": "scatter",
           "x": {
            "bdata": "AAECAwQFBgcICQoLDA0ODxAREhMUFRYXGBkaGxwdHh8gISIjJCUmJygpKissLS4vMDEyMzQ1Njc4OTo7PD0+P0BBQkNERUZHSElKS0xNTk9QUVJTVA==",
            "dtype": "i1"
           },
           "xaxis": "x2",
           "y": {
            "bdata": "AAAAAAAAAABmJIA29L3bP2Ymw4ZZv+Y/mVn2uYzy6T+ZWfa5jPLpP2ZPOC4fu/E/pmsS2unr8D9ABaxzg4XyP5rT/2HicvM/tHgrUbuQ9D/O9z0R63D2P2ixUKJRzfs/aNThxFUY9z8DHmwCWtnvP8JCoTTA5/c/Al9rSoC5/D+cdxw/xvz/P9vvxtZkkgRAqFefLuPYAkA1wX0DEZ0HQARQBr+92/Q/u1K+m+nM4T/cQ8uq1BfeP3xFuQHk0sS/33jIBxZt7r/fv/yi3z3iv8CXmg7oAoq/EDUumbX9gT/58o1vfUTgv8abIIkaH+C/bu4Id4n05T/QoGESB5n2PyoiKO1gzfg/xJziS8jv+j87BCXjTzHpP7fYp2lK8PY/UVbq7gsE9j/VD7g8O+rrPxDFD9PtO9I/u/vKCsI84T/cvkcvSYLYP3BbzEngi7Y/CoVvd8AUuj+FIt/T0BPBP6Reo/ljvLg/CPfKE9Be5j87SECi4FLnP256j2CUluk/IfKBxGG77j9CkNEFucfVP1Qj5/IaSOI/BxOqAR+15j86Rt00UujpPzpG3TRS6Ok/bRubo8rN7j9QJ2frfgDxP6rPUhKn+vM/6kFR5fVX9D+qh8d0sU7yP8RiBYa5RPI/RJr/XpBj8D9EZoY/sDTwP961tPHnhPI/eE9Oi4Ee9D9S9X9SXof4P1IrLN9iy/Y/7HtHpLKF9z/skCXsGgfzPwY52VpMZvI/jNgBTtUI6j+/FSy3uAHnP+QqG/yRLto/yMMFkJmKzz/kQanZRETRPxxmx5WBv9q/29c9M0nP5b8ocq6wRU/ov9TrWtmnHcS/vteAKsZ24j/xAkSbRKnhP6TdQ0B+NuI/15rKlIME7T/X5EmBAfXqPygAGnYUrcE/LAy7bSycqL8=",
            "dtype": "f8"
           },
           "yaxis": "y2"
          }
         ]
        },
        {
         "data": [
          {
           "line": {
            "color": "rgba(60, 179, 113, 0.9)",
            "dash": "dot",
            "width": 2
           },
           "name": "Mid Price (Estimated)",
           "type": "scatter",
           "x": {
            "bdata": "AAECAwQFBgcICQoLDA0ODxAREhMUFRYXGBkaGxwdHh8gISIjJCUmJygpKissLS4vMDEyMzQ1Njc4OTo7PD0+P0BBQkNERUZHSElKS0xNTk9QUVJTVFU=",
            "dtype": "i1"
           },
           "xaxis": "x",
           "y": {
            "bdata": "gNHvJb/4WEChxAdfE+5YQN8klwa54lhA9ltPBy3aWECPYPkixNVYQLPu1x9l4lhAJFeHSijfWEAJUu9IbOBYQDZpnDMd41hAH0XxtBTkWEDto2iXtuNYQK2xef0w3FhAZ4809ZrlWEA7QQajTPFYQPZcbImo5lhAe09PiTvgWED8N/Tckd5YQIq+FlWG2FhAZgQIE+TbWED8XSOkW9dYQGIlFKNX5VhAGbj1/xbtWEASG5QMlO5YQB0dcm5H9VhAlqRPG3z8WEAY2DLnAPlYQNsye2Ho81hA31eqLYn0WECxYqimLfpYQKWkbEEy+1hAQ17ERTvxWEB7vGWxOOxYQNKiiUPg61hAPOKwD4XrWECZA3SkRfhYQNyHlZuH71hArKawu+TyWECUzppDjfxYQH+7SZM3C1lAjLNSx8EIWUDfCmK0BwxZQGc1zvfND1lAzvRkAy8RWUDi71HVrRBZQEKUQueYE1lA6jDh1oQDWUCurCocAwhZQK+Qn5vyCFlALBF/36YHWUBId1U44RRZQCCsGC2wEFlAp4xhizwOWUBJuvxFHBtZQI4PysrpFVlASvpSQIUSWUAo/v8htRFZQGNGNVw3F1lALECBl6wYWUBDGb+FhxBZQMZhrmJADVlANVZgEH4JWUDNYyFQIAlZQKW2g8j6C1lAk3lUvcgOWUBiGZ6wiwNZQIpoa557CllAHGUUMjoMWUDyqIRhNxVZQDSGaOwvGFlARVFYGV0fWUDAVT1BeiJZQI3h2q04K1lAUJRBGrEuWUAwsjtyMS5ZQGiCC1/dPFlAFEnZvK5CWUCdC0+He0ZZQFt5CzNxPllAaARGNFM2WUBsPKeOUzhZQCmERr9iOVlAZNo1VpU1WUC/mj8XnTZZQC/KSKroQFlA4ZTUx3xFWUAoYsgeUD5ZQA==",
            "dtype": "f8"
           },
           "yaxis": "y"
          },
          {
           "line": {
            "color": "rgba(178, 34, 34, 0.9)",
            "width": 2
           },
           "name": "Bid",
           "type": "scatter",
           "x": {
            "bdata": "AAECAwQFBgcICQoLDA0ODxAREhMUFRYXGBkaGxwdHh8gISIjJCUmJygpKissLS4vMDEyMzQ1Njc4OTo7PD0+P0BBQkNERUZHSElKS0xNTk9QUVJTVFU=",
            "dtype": "i1"
           },
           "xaxis": "x",
           "y": {
            "bdata": "GmuJv1jyWEA7XqH4rOdYQHm+MKBS3FhAkPXooMbTWEAp+pK8Xc9YQE2Icbn+21hAvvAg5MHYWECj64jiBdpYQNACNs223FhAud6KTq7dWECHPQIxUN1YQEdLE5fK1VhAASnOjjTfWEDV2p885upYQJD2BSNC4FhAFenoItXZWECW0Y12K9hYQCRYsO4f0lhAAJ6hrH3VWECW97w99dBYQPy+rTzx3lhAs1GPmbDmWECstC2mLehYQLe2Cwjh7lhAMD7ptBX2WECyccyAmvJYQHXMFPuB7VhAefFDxyLuWEBL/EFAx/NYQD8+BtvL9FhA3fdd39TqWEAVVv9K0uVYQGw8I9155VhA1ntKqR7lWEAznQ0+3/FYQHYhLzUh6VhARkBKVX7sWEAuaDTdJvZYQBlV4yzRBFlAJk3sYFsCWUB5pPtNoQVZQAHPZ5FnCVlAaI7+nMgKWUB8ietuRwpZQNwt3IAyDVlAhMp6cB79WEBIRsS1nAFZQEkqOTWMAllAxqoYeUABWUDiEO/Reg5ZQLpFssZJCllAQSb7JNYHWUDjU5bftRRZQCipY2SDD1lA5JPs2R4MWUDCl5m7TgtZQP3fzvXQEFlAxtkaMUYSWUDdslgfIQpZQGD7R/zZBllAz+/5qRcDWUBn/brpuQJZQD9QHWKUBVlALRPuVmIIWUD8sjdKJf1YQCQCBTgVBFlAtv6ty9MFWUCMQh770A5ZQM4fAobJEVlA3+rxsvYYWUBa79baExxZQCd7dEfSJFlA6i3bs0ooWUDKS9ULyydZQAIcpfh2NllAruJyVkg8WUA3peggFUBZQPUSpcwKOFlAAp7fzewvWUAG1kAo7TFZQMMd4Fj8MllA/nPP7y4vWUBZNNmwNjBZQMlj4kOCOllAey5uYRY/WUDC+2G46TdZQA==",
            "dtype": "f8"
           },
           "yaxis": "y"
          },
          {
           "line": {
            "color": "rgba(70, 130, 180, 0.9)",
            "width": 2
           },
           "name": "Ask",
           "type": "scatter",
           "x": {
            "bdata": "AAECAwQFBgcICQoLDA0ODxAREhMUFRYXGBkaGxwdHh8gISIjJCUmJygpKissLS4vMDEyMzQ1Njc4OTo7PD0+P0BBQkNERUZHSElKS0xNTk9QUVJTVFU=",
            "dtype": "i1"
           },
           "xaxis": "x",
           "y": {
            "bdata": "5jdWjCX/WEAHK27FefRYQEWL/Wwf6VhAXMK1bZPgWED1xl+JKtxYQBlVPobL6FhAir3tsI7lWEBvuFWv0uZYQJzPApqD6VhAhatXG3vqWEBTCs/9HOpYQBMY4GOX4lhAzfWaWwHsWEChp2wJs/dYQFzD0u8O7VhA4bW176HmWEBinlpD+ORYQPAkfbvs3lhAzGpueUriWEBixIkKwt1YQMiLegm+61hAfx5cZn3zWEB4gfpy+vRYQIOD2NSt+1hA/Aq2geICWUB+PplNZ/9YQEGZ4cdO+lhARb4QlO/6WEAXyQ4NlABZQAsL06eYAVlAqcQqrKH3WEDhIswXn/JYQDgJ8KlG8lhAokgXduvxWED/adoKrP5YQELu+wHu9VhAEg0XIkv5WED6NAGq8wJZQOUhsPmdEVlA8hm5LSgPWUBFccgabhJZQM2bNF40FllANFvLaZUXWUBIVrg7FBdZQKj6qE3/GVlAUJdHPesJWUAUE5GCaQ5ZQBX3BQJZD1lAknflRQ0OWUCu3bueRxtZQIYSf5MWF1lADfPH8aIUWUCvIGOsgiFZQPR1MDFQHFlAsGC5pusYWUCOZGaIGxhZQMmsm8KdHVlAkqbn/RIfWUCpfyXs7RZZQCzIFMmmE1lAm7zGduQPWUAzyoe2hg9ZQAsd6i5hEllA+d+6Iy8VWUDIfwQX8glZQPDO0QTiEFlAgst6mKASWUBYD+vHnRtZQJrszlKWHllAq7e+f8MlWUAmvKOn4ChZQPNHQRSfMVlAtvqngBc1WUCWGKLYlzRZQM7occVDQ1lAeq8/IxVJWUADcrXt4UxZQMHfcZnXRFlAzmqsmrk8WUDSog31uT5ZQI/qrCXJP1lAykCcvPs7WUAlAaZ9Az1ZQJUwrxBPR1lAR/s6LuNLWUCOyC6FtkRZQA==",
            "dtype": "f8"
           },
           "yaxis": "y"
          },
          {
           "marker": {
            "color": [
             "rgba(31, 119, 180, 0.8)",
             "rgba(31, 119, 180, 0.8)",
             "rgba(31, 119, 180, 0.8)",
             "rgba(31, 119, 180, 0.8)",
             "rgba(31, 119, 180, 0.8)",
             "rgba(31, 119, 180, 0.8)",
             "rgba(178, 34, 34, 0.8)",
             "rgba(31, 119, 180, 0.8)",
             "rgba(31, 119, 180, 0.8)",
             "rgba(31, 119, 180, 0.8)",
             "rgba(31, 119, 180, 0.8)",
             "rgba(31, 119, 180, 0.8)",
             "rgba(178, 34, 34, 0.8)",
             "rgba(178, 34, 34, 0.8)",
             "rgba(31, 119, 180, 0.8)",
             "rgba(31, 119, 180, 0.8)",
             "rgba(31, 119, 180, 0.8)",
             "rgba(31, 119, 180, 0.8)",
             "rgba(178, 34, 34, 0.8)",
             "rgba(31, 119, 180, 0.8)",
             "rgba(178, 34, 34, 0.8)",
             "rgba(178, 34, 34, 0.8)",
             "rgba(178, 34, 34, 0.8)",
             "rgba(178, 34, 34, 0.8)",
             "rgba(178, 34, 34, 0.8)",
             "rgba(31, 119, 180, 0.8)",
             "rgba(31, 119, 180, 0.8)",
             "rgba(31, 119, 180, 0.8)",
             "rgba(178, 34, 34, 0.8)",
             "rgba(31, 119, 180, 0.8)",
             "rgba(31, 119, 180, 0.8)",
             "rgba(31, 119, 180, 0.8)",
             "rgba(31, 119, 180, 0.8)",
             "rgba(31, 119, 180, 0.8)",
             "rgba(178, 34, 34, 0.8)",
             "rgba(31, 119, 180, 0.8)",
             "rgba(178, 34, 34, 0.8)",
             "rgba(178, 34, 34, 0.8)",
             "rgba(178, 34, 34, 0.8)",
             "rgba(31, 119, 180, 0.8)",
             "rgba(178, 34, 34, 0.8)",
             "rgba(178, 34, 34, 0.8)",
             "rgba(31, 119, 180, 0.8)",
             "rgba(31, 119, 180, 0.8)",
             "rgba(178, 34, 34, 0.8)",
             "rgba(31, 119, 180, 0.8)",
             "rgba(31, 119, 180, 0.8)",
             "rgba(31, 119, 180, 0.8)",
             "rgba(31, 119, 180, 0.8)",
             "rgba(178, 34, 34, 0.8)",
             "rgba(31, 119, 180, 0.8)",
             "rgba(31, 119, 180, 0.8)",
             "rgba(31, 119, 180, 0.8)",
             "rgba(31, 119, 180, 0.8)",
             "rgba(31, 119, 180, 0.8)",
             "rgba(31, 119, 180, 0.8)",
             "rgba(31, 119, 180, 0.8)",
             "rgba(31, 119, 180, 0.8)",
             "rgba(178, 34, 34, 0.8)",
             "rgba(178, 34, 34, 0.8)",
             "rgba(178, 34, 34, 0.8)",
             "rgba(178, 34, 34, 0.8)",
             "rgba(31, 119, 180, 0.8)",
             "rgba(31, 119, 180, 0.8)",
             "rgba(31, 119, 180, 0.8)",
             "rgba(178, 34, 34, 0.8)",
             "rgba(31, 119, 180, 0.8)",
             "rgba(178, 34, 34, 0.8)",
             "rgba(178, 34, 34, 0.8)",
             "rgba(178, 34, 34, 0.8)",
             "rgba(178, 34, 34, 0.8)",
             "rgba(178, 34, 34, 0.8)",
             "rgba(178, 34, 34, 0.8)",
             "rgba(31, 119, 180, 0.8)",
             "rgba(178, 34, 34, 0.8)",
             "rgba(178, 34, 34, 0.8)",
             "rgba(178, 34, 34, 0.8)",
             "rgba(31, 119, 180, 0.8)",
             "rgba(31, 119, 180, 0.8)",
             "rgba(178, 34, 34, 0.8)",
             "rgba(31, 119, 180, 0.8)",
             "rgba(31, 119, 180, 0.8)",
             "rgba(178, 34, 34, 0.8)",
             "rgba(178, 34, 34, 0.8)",
             "rgba(178, 34, 34, 0.8)",
             "rgba(31, 119, 180, 0.8)"
            ]
           },
           "name": "Trade P&L",
           "type": "bar",
           "x": {
            "bdata": "AAECAwQFBgcICQoLDA0ODxAREhMUFRYXGBkaGxwdHh8gISIjJCUmJygpKissLS4vMDEyMzQ1Njc4OTo7PD0+P0BBQkNERUZHSElKS0xNTk9QUVJTVFU=",
            "dtype": "i1"
           },
           "xaxis": "x2",
           "y": {
            "bdata": "mpmZmZmZuT9mJIA29L3bP2YoBte+wNE/mpmZmZmZuT8AAAAAAAAAAGaK9ERjB9M/AHi8hKrmqb+amZmZmZm5PzTLecrdq60/mlG68o7dsT+a8ScB/AK+P2bmSkSacdU/AHS7de/T0r+aFa8Oo67cvwDPrM1M7N8/AHEoVwBH0z/NxIilLxrKPzPQ4twGUOI/M4N5ghqYy78zpnlTtxDjP2Yy9UdkXvq/TU1O4pHq579mhsUy+ge2v03z01WjQOS/gCdaB1046b8AcpfJbF7YP4BVwgLU1eE/aGbk004Alj/Nq/JFdIzgv6CZqzZzsXI/GsUUANIJ8z8zU7qthD3nP80KNNbOosE/zdTT9ToTwT9NNaC0QK7svzOtKvBEr+Q/zEywV8+Hrb/NnByh3B3gv00tMFNEzOK/ZjKGQpY90D8zcZzMde7DvwCo1BxR39K/0EwZbQFHjD8AgJ1gwiWgP8zMNVx71qK/M4uWlENH4z9oJqrOEYKeP5qRefKdHbI/zd7JjzWTxD8AKplBhdfjv81s+b/5kM0/zb4LOxC0wT+amZmZmZm5PwAAAAAAAAAAzVT3uuGVwz+amZmZmZm5P81CXTdB0cc/AJCcv7RTlz8A0k2EI0rAv8DMSYTd72O/AIhccJISvr8AAJq8D3CHv818cpG9gcI/mpmZmZmZuT9ml8Ycc6PRPwCgPDW3v7u/NBNqo/hJpz8ArIfgXvrRv8z8iinSGaS/ADNhz4aH1b9mFq625Di4v5oAPXLf1NO/AJIwaIrSxL8AAGYage+XPwBUuDfjAea/mkm00BDf0L9m0oTr4/+zvzO3V7rbR+M/s5LXIDB+5z+YmZrnMbCZv2hW+580p5E/ZnoNqQqc1T8AsAWcEHywv81kw2O8iea/M8OIkR/Ux7+zAbLR2SLlPw==",
            "dtype": "f8"
           },
           "yaxis": "y2"
          },
          {
           "line": {
            "color": "rgba(60, 179, 113, 0.9)",
            "width": 2
           },
           "name": "Cumulative P&L",
           "type": "scatter",
           "x": {
            "bdata": "AAECAwQFBgcICQoLDA0ODxAREhMUFRYXGBkaGxwdHh8gISIjJCUmJygpKissLS4vMDEyMzQ1Njc4OTo7PD0+P0BBQkNERUZHSElKS0xNTk9QUVJTVFU=",
            "dtype": "i1"
           },
           "xaxis": "x2",
           "y": {
            "bdata": "AAAAAAAAAABmJIA29L3bP2Ymw4ZZv+Y/mVn2uYzy6T+ZWfa5jPLpP2ZPOC4fu/E/pmsS2unr8D9ABaxzg4XyP5rT/2HicvM/tHgrUbuQ9D/O9z0R63D2P2ixUKJRzfs/aNThxFUY9z8DHmwCWtnvP8JCoTTA5/c/Al9rSoC5/D+cdxw/xvz/P9vvxtZkkgRAqFefLuPYAkA1wX0DEZ0HQARQBr+92/Q/u1K+m+nM4T/cQ8uq1BfeP3xFuQHk0sS/33jIBxZt7r/fv/yi3z3iv8CXmg7oAoq/EDUumbX9gT/58o1vfUTgv8abIIkaH+C/bu4Id4n05T/QoGESB5n2PyoiKO1gzfg/xJziS8jv+j87BCXjTzHpP7fYp2lK8PY/UVbq7gsE9j/VD7g8O+rrPxDFD9PtO9I/u/vKCsI84T/cvkcvSYLYP3BbzEngi7Y/CoVvd8AUuj+FIt/T0BPBP6Reo/ljvLg/CPfKE9Be5j87SECi4FLnP256j2CUluk/IfKBxGG77j9CkNEFucfVP1Qj5/IaSOI/BxOqAR+15j86Rt00UujpPzpG3TRS6Ok/bRubo8rN7j9QJ2frfgDxP6rPUhKn+vM/6kFR5fVX9D+qh8d0sU7yP8RiBYa5RPI/RJr/XpBj8D9EZoY/sDTwP961tPHnhPI/eE9Oi4Ee9D9S9X9SXof4P1IrLN9iy/Y/7HtHpLKF9z/skCXsGgfzPwY52VpMZvI/jNgBTtUI6j+/FSy3uAHnP+QqG/yRLto/yMMFkJmKzz/kQanZRETRPxxmx5WBv9q/29c9M0nP5b8ocq6wRU/ov9TrWtmnHcS/vteAKsZ24j/xAkSbRKnhP6TdQ0B+NuI/15rKlIME7T/X5EmBAfXqPygAGnYUrcE/LAy7bSycqL/wUNYKF5njPw==",
            "dtype": "f8"
           },
           "yaxis": "y2"
          }
         ]
        },
        {
         "data": [
          {
           "line": {
            "color": "rgba(60, 179, 113, 0.9)",
            "dash": "dot",
            "width": 2
           },
           "name": "Mid Price (Estimated)",
           "type": "scatter",
           "x": {
            "bdata": "AAECAwQFBgcICQoLDA0ODxAREhMUFRYXGBkaGxwdHh8gISIjJCUmJygpKissLS4vMDEyMzQ1Njc4OTo7PD0+P0BBQkNERUZHSElKS0xNTk9QUVJTVFVW",
            "dtype": "i1"
           },
           "xaxis": "x",
           "y": {
            "bdata": "gNHvJb/4WEChxAdfE+5YQN8klwa54lhA9ltPBy3aWECPYPkixNVYQLPu1x9l4lhAJFeHSijfWEAJUu9IbOBYQDZpnDMd41hAH0XxtBTkWEDto2iXtuNYQK2xef0w3FhAZ4809ZrlWEA7QQajTPFYQPZcbImo5lhAe09PiTvgWED8N/Tckd5YQIq+FlWG2FhAZgQIE+TbWED8XSOkW9dYQGIlFKNX5VhAGbj1/xbtWEASG5QMlO5YQB0dcm5H9VhAlqRPG3z8WEAY2DLnAPlYQNsye2Ho81hA31eqLYn0WECxYqimLfpYQKWkbEEy+1hAQ17ERTvxWEB7vGWxOOxYQNKiiUPg61hAPOKwD4XrWECZA3SkRfhYQNyHlZuH71hArKawu+TyWECUzppDjfxYQH+7SZM3C1lAjLNSx8EIWUDfCmK0BwxZQGc1zvfND1lAzvRkAy8RWUDi71HVrRBZQEKUQueYE1lA6jDh1oQDWUCurCocAwhZQK+Qn5vyCFlALBF/36YHWUBId1U44RRZQCCsGC2wEFlAp4xhizwOWUBJuvxFHBtZQI4PysrpFVlASvpSQIUSWUAo/v8htRFZQGNGNVw3F1lALECBl6wYWUBDGb+FhxBZQMZhrmJADVlANVZgEH4JWUDNYyFQIAlZQKW2g8j6C1lAk3lUvcgOWUBiGZ6wiwNZQIpoa557CllAHGUUMjoMWUDyqIRhNxVZQDSGaOwvGFlARVFYGV0fWUDAVT1BeiJZQI3h2q04K1lAUJRBGrEuWUAwsjtyMS5ZQGiCC1/dPFlAFEnZvK5CWUCdC0+He0ZZQFt5CzNxPllAaARGNFM2WUBsPKeOUzhZQCmERr9iOVlAZNo1VpU1WUC/mj8XnTZZQC/KSKroQFlA4ZTUx3xFWUAoYsgeUD5ZQPbiMjG6PVlA",
            "dtype": "f8"
           },
           "yaxis": "y"
          },
          {
           "line": {
            "color": "rgba(178, 34, 34, 0.9)",
            "width": 2
           },
           "name": "Bid",
           "type": "scatter",
           "x": {
            "bdata": "AAECAwQFBgcICQoLDA0ODxAREhMUFRYXGBkaGxwdHh8gISIjJCUmJygpKissLS4vMDEyMzQ1Njc4OTo7PD0+P0BBQkNERUZHSElKS0xNTk9QUVJTVFVW",
            "dtype": "i1"
           },
           "xaxis": "x",
           "y": {
            "bdata": "GmuJv1jyWEA7XqH4rOdYQHm+MKBS3FhAkPXooMbTWEAp+pK8Xc9YQE2Icbn+21hAvvAg5MHYWECj64jiBdpYQNACNs223FhAud6KTq7dWECHPQIxUN1YQEdLE5fK1VhAASnOjjTfWEDV2p885upYQJD2BSNC4FhAFenoItXZWECW0Y12K9hYQCRYsO4f0lhAAJ6hrH3VWECW97w99dBYQPy+rTzx3lhAs1GPmbDmWECstC2mLehYQLe2Cwjh7lhAMD7ptBX2WECyccyAmvJYQHXMFPuB7VhAefFDxyLuWEBL/EFAx/NYQD8+BtvL9FhA3fdd39TqWEAVVv9K0uVYQGw8I9155VhA1ntKqR7lWEAznQ0+3/FYQHYhLzUh6VhARkBKVX7sWEAuaDTdJvZYQBlV4yzRBFlAJk3sYFsCWUB5pPtNoQVZQAHPZ5FnCVlAaI7+nMgKWUB8ietuRwpZQNwt3IAyDVlAhMp6cB79WEBIRsS1nAFZQEkqOTWMAllAxqoYeUABWUDiEO/Reg5ZQLpFssZJCllAQSb7JNYHWUDjU5bftRRZQCipY2SDD1lA5JPs2R4MWUDCl5m7TgtZQP3fzvXQEFlAxtkaMUYSWUDdslgfIQpZQGD7R/zZBllAz+/5qRcDWUBn/brpuQJZQD9QHWKUBVlALRPuVmIIWUD8sjdKJf1YQCQCBTgVBFlAtv6ty9MFWUCMQh770A5ZQM4fAobJEVlA3+rxsvYYWUBa79baExxZQCd7dEfSJFlA6i3bs0ooWUDKS9ULyydZQAIcpfh2NllAruJyVkg8WUA3peggFUBZQPUSpcwKOFlAAp7fzewvWUAG1kAo7TFZQMMd4Fj8MllA/nPP7y4vWUBZNNmwNjBZQMlj4kOCOllAey5uYRY/WUDC+2G46TdZQJB8zMpTN1lA",
            "dtype": "f8"
           },
           "yaxis": "y"
          },
          {
           "line": {
            "color": "rgba(70, 130, 180, 0.9)",
            "width": 2
           },
           "name": "Ask",
           "type": "scatter",
           "x": {
            "bdata": "AAECAwQFBgcICQoLDA0ODxAREhMUFRYXGBkaGxwdHh8gISIjJCUmJygpKissLS4vMDEyMzQ1Njc4OTo7PD0+P0BBQkNERUZHSElKS0xNTk9QUVJTVFVW",
            "dtype": "i1"
           },
           "xaxis": "x",
           "y": {
            "bdata": "5jdWjCX/WEAHK27FefRYQEWL/Wwf6VhAXMK1bZPgWED1xl+JKtxYQBlVPobL6FhAir3tsI7lWEBvuFWv0uZYQJzPApqD6VhAhatXG3vqWEBTCs/9HOpYQBMY4GOX4lhAzfWaWwHsWEChp2wJs/dYQFzD0u8O7VhA4bW176HmWEBinlpD+ORYQPAkfbvs3lhAzGpueUriWEBixIkKwt1YQMiLegm+61hAfx5cZn3zWEB4gfpy+vRYQIOD2NSt+1hA/Aq2geICWUB+PplNZ/9YQEGZ4cdO+lhARb4QlO/6WEAXyQ4NlABZQAsL06eYAVlAqcQqrKH3WEDhIswXn/JYQDgJ8KlG8lhAokgXduvxWED/adoKrP5YQELu+wHu9VhAEg0XIkv5WED6NAGq8wJZQOUhsPmdEVlA8hm5LSgPWUBFccgabhJZQM2bNF40FllANFvLaZUXWUBIVrg7FBdZQKj6qE3/GVlAUJdHPesJWUAUE5GCaQ5ZQBX3BQJZD1lAknflRQ0OWUCu3bueRxtZQIYSf5MWF1lADfPH8aIUWUCvIGOsgiFZQPR1MDFQHFlAsGC5pusYWUCOZGaIGxhZQMmsm8KdHVlAkqbn/RIfWUCpfyXs7RZZQCzIFMmmE1lAm7zGduQPWUAzyoe2hg9ZQAsd6i5hEllA+d+6Iy8VWUDIfwQX8glZQPDO0QTiEFlAgst6mKASWUBYD+vHnRtZQJrszlKWHllAq7e+f8MlWUAmvKOn4ChZQPNHQRSfMVlAtvqngBc1WUCWGKLYlzRZQM7occVDQ1lAeq8/IxVJWUADcrXt4UxZQMHfcZnXRFlAzmqsmrk8WUDSog31uT5ZQI/qrCXJP1lAykCcvPs7WUAlAaZ9Az1ZQJUwrxBPR1lAR/s6LuNLWUCOyC6FtkRZQFxJmZcgRFlA",
            "dtype": "f8"
           },
           "yaxis": "y"
          },
          {
           "marker": {
            "color": [
             "rgba(31, 119, 180, 0.8)",
             "rgba(31, 119, 180, 0.8)",
             "rgba(31, 119, 180, 0.8)",
             "rgba(31, 119, 180, 0.8)",
             "rgba(31, 119, 180, 0.8)",
             "rgba(31, 119, 180, 0.8)",
             "rgba(178, 34, 34, 0.8)",
             "rgba(31, 119, 180, 0.8)",
             "rgba(31, 119, 180, 0.8)",
             "rgba(31, 119, 180, 0.8)",
             "rgba(31, 119, 180, 0.8)",
             "rgba(31, 119, 180, 0.8)",
             "rgba(178, 34, 34, 0.8)",
             "rgba(178, 34, 34, 0.8)",
             "rgba(31, 119, 180, 0.8)",
             "rgba(31, 119, 180, 0.8)",
             "rgba(31, 119, 180, 0.8)",
             "rgba(31, 119, 180, 0.8)",
             "rgba(178, 34, 34, 0.8)",
             "rgba(31, 119, 180, 0.8)",
             "rgba(178, 34, 34, 0.8)",
             "rgba(178, 34, 34, 0.8)",
             "rgba(178, 34, 34, 0.8)",
             "rgba(178, 34, 34, 0.8)",
             "rgba(178, 34, 34, 0.8)",
             "rgba(31, 119, 180, 0.8)",
             "rgba(31, 119, 180, 0.8)",
             "rgba(31, 119, 180, 0.8)",
             "rgba(178, 34, 34, 0.8)",
             "rgba(31, 119, 180, 0.8)",
             "rgba(31, 119, 180, 0.8)",
             "rgba(31, 119, 180, 0.8)",
             "rgba(31, 119, 180, 0.8)",
             "rgba(31, 119, 180, 0.8)",
             "rgba(178, 34, 34, 0.8)",
             "rgba(31, 119, 180, 0.8)",
             "rgba(178, 34, 34, 0.8)",
             "rgba(178, 34, 34, 0.8)",
             "rgba(178, 34, 34, 0.8)",
             "rgba(31, 119, 180, 0.8)",
             "rgba(178, 34, 34, 0.8)",
             "rgba(178, 34, 34, 0.8)",
             "rgba(31, 119, 180, 0.8)",
             "rgba(31, 119, 180, 0.8)",
             "rgba(178, 34, 34, 0.8)",
             "rgba(31, 119, 180, 0.8)",
             "rgba(31, 119, 180, 0.8)",
             "rgba(31, 119, 180, 0.8)",
             "rgba(31, 119, 180, 0.8)",
             "rgba(178, 34, 34, 0.8)",
             "rgba(31, 119, 180, 0.8)",
             "rgba(31, 119, 180, 0.8)",
             "rgba(31, 119, 180, 0.8)",
             "rgba(31, 119, 180, 0.8)",
             "rgba(31, 119, 180, 0.8)",
             "rgba(31, 119, 180, 0.8)",
             "rgba(31, 119, 180, 0.8)",
             "rgba(31, 119, 180, 0.8)",
             "rgba(178, 34, 34, 0.8)",
             "rgba(178, 34, 34, 0.8)",
             "rgba(178, 34, 34, 0.8)",
             "rgba(178, 34, 34, 0.8)",
             "rgba(31, 119, 180, 0.8)",
             "rgba(31, 119, 180, 0.8)",
             "rgba(31, 119, 180, 0.8)",
             "rgba(178, 34, 34, 0.8)",
             "rgba(31, 119, 180, 0.8)",
             "rgba(178, 34, 34, 0.8)",
             "rgba(178, 34, 34, 0.8)",
             "rgba(178, 34, 34, 0.8)",
             "rgba(178, 34, 34, 0.8)",
             "rgba(178, 34, 34, 0.8)",
             "rgba(178, 34, 34, 0.8)",
             "rgba(31, 119, 180, 0.8)",
             "rgba(178, 34, 34, 0.8)",
             "rgba(178, 34, 34, 0.8)",
             "rgba(178, 34, 34, 0.8)",
             "rgba(31, 119, 180, 0.8)",
             "rgba(31, 119, 180, 0.8)",
             "rgba(178, 34, 34, 0.8)",
             "rgba(31, 119, 180, 0.8)",
             "rgba(31, 119, 180, 0.8)",
             "rgba(178, 34, 34, 0.8)",
             "rgba(178, 34, 34, 0.8)",
             "rgba(178, 34, 34, 0.8)",
             "rgba(31, 119, 180, 0.8)",
             "rgba(31, 119, 180, 0.8)"
            ]
           },
           "name": "Trade P&L",
           "type": "bar",
           "x": {
            "bdata": "AAECAwQFBgcICQoLDA0ODxAREhMUFRYXGBkaGxwdHh8gISIjJCUmJygpKissLS4vMDEyMzQ1Njc4OTo7PD0+P0BBQkNERUZHSElKS0xNTk9QUVJTVFVW",
            "dtype": "i1"
           },
           "xaxis": "x2",
           "y": {
            "bdata": "mpmZmZmZuT9mJIA29L3bP2YoBte+wNE/mpmZmZmZuT8AAAAAAAAAAGaK9ERjB9M/AHi8hKrmqb+amZmZmZm5PzTLecrdq60/mlG68o7dsT+a8ScB/AK+P2bmSkSacdU/AHS7de/T0r+aFa8Oo67cvwDPrM1M7N8/AHEoVwBH0z/NxIilLxrKPzPQ4twGUOI/M4N5ghqYy78zpnlTtxDjP2Yy9UdkXvq/TU1O4pHq579mhsUy+ge2v03z01WjQOS/gCdaB1046b8AcpfJbF7YP4BVwgLU1eE/aGbk004Alj/Nq/JFdIzgv6CZqzZzsXI/GsUUANIJ8z8zU7qthD3nP80KNNbOosE/zdTT9ToTwT9NNaC0QK7svzOtKvBEr+Q/zEywV8+Hrb/NnByh3B3gv00tMFNEzOK/ZjKGQpY90D8zcZzMde7DvwCo1BxR39K/0EwZbQFHjD8AgJ1gwiWgP8zMNVx71qK/M4uWlENH4z9oJqrOEYKeP5qRefKdHbI/zd7JjzWTxD8AKplBhdfjv81s+b/5kM0/zb4LOxC0wT+amZmZmZm5PwAAAAAAAAAAzVT3uuGVwz+amZmZmZm5P81CXTdB0cc/AJCcv7RTlz8A0k2EI0rAv8DMSYTd72O/AIhccJISvr8AAJq8D3CHv818cpG9gcI/mpmZmZmZuT9ml8Ycc6PRPwCgPDW3v7u/NBNqo/hJpz8ArIfgXvrRv8z8iinSGaS/ADNhz4aH1b9mFq625Di4v5oAPXLf1NO/AJIwaIrSxL8AAGYage+XPwBUuDfjAea/mkm00BDf0L9m0oTr4/+zvzO3V7rbR+M/s5LXIDB+5z+YmZrnMbCZv2hW+580p5E/ZnoNqQqc1T8AsAWcEHywv81kw2O8iea/M8OIkR/Ux7+zAbLR2SLlP80kw87v08M/",
            "dtype": "f8"
           },
           "yaxis": "y2"
          },
          {
           "line": {
            "color": "rgba(60, 179, 113, 0.9)",
            "width": 2
           },
           "name": "Cumulative P&L",
           "type": "scatter",
           "x": {
            "bdata": "AAECAwQFBgcICQoLDA0ODxAREhMUFRYXGBkaGxwdHh8gISIjJCUmJygpKissLS4vMDEyMzQ1Njc4OTo7PD0+P0BBQkNERUZHSElKS0xNTk9QUVJTVFVW",
            "dtype": "i1"
           },
           "xaxis": "x2",
           "y": {
            "bdata": "AAAAAAAAAABmJIA29L3bP2Ymw4ZZv+Y/mVn2uYzy6T+ZWfa5jPLpP2ZPOC4fu/E/pmsS2unr8D9ABaxzg4XyP5rT/2HicvM/tHgrUbuQ9D/O9z0R63D2P2ixUKJRzfs/aNThxFUY9z8DHmwCWtnvP8JCoTTA5/c/Al9rSoC5/D+cdxw/xvz/P9vvxtZkkgRAqFefLuPYAkA1wX0DEZ0HQARQBr+92/Q/u1K+m+nM4T/cQ8uq1BfeP3xFuQHk0sS/33jIBxZt7r/fv/yi3z3iv8CXmg7oAoq/EDUumbX9gT/58o1vfUTgv8abIIkaH+C/bu4Id4n05T/QoGESB5n2PyoiKO1gzfg/xJziS8jv+j87BCXjTzHpP7fYp2lK8PY/UVbq7gsE9j/VD7g8O+rrPxDFD9PtO9I/u/vKCsI84T/cvkcvSYLYP3BbzEngi7Y/CoVvd8AUuj+FIt/T0BPBP6Reo/ljvLg/CPfKE9Be5j87SECi4FLnP256j2CUluk/IfKBxGG77j9CkNEFucfVP1Qj5/IaSOI/BxOqAR+15j86Rt00UujpPzpG3TRS6Ok/bRubo8rN7j9QJ2frfgDxP6rPUhKn+vM/6kFR5fVX9D+qh8d0sU7yP8RiBYa5RPI/RJr/XpBj8D9EZoY/sDTwP961tPHnhPI/eE9Oi4Ee9D9S9X9SXof4P1IrLN9iy/Y/7HtHpLKF9z/skCXsGgfzPwY52VpMZvI/jNgBTtUI6j+/FSy3uAHnP+QqG/yRLto/yMMFkJmKzz/kQanZRETRPxxmx5WBv9q/29c9M0nP5b8ocq6wRU/ov9TrWtmnHcS/vteAKsZ24j/xAkSbRKnhP6TdQ0B+NuI/15rKlIME7T/X5EmBAfXqPygAGnYUrcE/LAy7bSycqL/wUNYKF5njPyMah/4Sjug/",
            "dtype": "f8"
           },
           "yaxis": "y2"
          }
         ]
        },
        {
         "data": [
          {
           "line": {
            "color": "rgba(60, 179, 113, 0.9)",
            "dash": "dot",
            "width": 2
           },
           "name": "Mid Price (Estimated)",
           "type": "scatter",
           "x": {
            "bdata": "AAECAwQFBgcICQoLDA0ODxAREhMUFRYXGBkaGxwdHh8gISIjJCUmJygpKissLS4vMDEyMzQ1Njc4OTo7PD0+P0BBQkNERUZHSElKS0xNTk9QUVJTVFVWVw==",
            "dtype": "i1"
           },
           "xaxis": "x",
           "y": {
            "bdata": "gNHvJb/4WEChxAdfE+5YQN8klwa54lhA9ltPBy3aWECPYPkixNVYQLPu1x9l4lhAJFeHSijfWEAJUu9IbOBYQDZpnDMd41hAH0XxtBTkWEDto2iXtuNYQK2xef0w3FhAZ4809ZrlWEA7QQajTPFYQPZcbImo5lhAe09PiTvgWED8N/Tckd5YQIq+FlWG2FhAZgQIE+TbWED8XSOkW9dYQGIlFKNX5VhAGbj1/xbtWEASG5QMlO5YQB0dcm5H9VhAlqRPG3z8WEAY2DLnAPlYQNsye2Ho81hA31eqLYn0WECxYqimLfpYQKWkbEEy+1hAQ17ERTvxWEB7vGWxOOxYQNKiiUPg61hAPOKwD4XrWECZA3SkRfhYQNyHlZuH71hArKawu+TyWECUzppDjfxYQH+7SZM3C1lAjLNSx8EIWUDfCmK0BwxZQGc1zvfND1lAzvRkAy8RWUDi71HVrRBZQEKUQueYE1lA6jDh1oQDWUCurCocAwhZQK+Qn5vyCFlALBF/36YHWUBId1U44RRZQCCsGC2wEFlAp4xhizwOWUBJuvxFHBtZQI4PysrpFVlASvpSQIUSWUAo/v8htRFZQGNGNVw3F1lALECBl6wYWUBDGb+FhxBZQMZhrmJADVlANVZgEH4JWUDNYyFQIAlZQKW2g8j6C1lAk3lUvcgOWUBiGZ6wiwNZQIpoa557CllAHGUUMjoMWUDyqIRhNxVZQDSGaOwvGFlARVFYGV0fWUDAVT1BeiJZQI3h2q04K1lAUJRBGrEuWUAwsjtyMS5ZQGiCC1/dPFlAFEnZvK5CWUCdC0+He0ZZQFt5CzNxPllAaARGNFM2WUBsPKeOUzhZQCmERr9iOVlAZNo1VpU1WUC/mj8XnTZZQC/KSKroQFlA4ZTUx3xFWUAoYsgeUD5ZQPbiMjG6PVlAKstkGrQ4WUA=",
            "dtype": "f8"
           },
           "yaxis": "y"
          },
          {
           "line": {
            "color": "rgba(178, 34, 34, 0.9)",
            "width": 2
           },
           "name": "Bid",
           "type": "scatter",
           "x": {
            "bdata": "AAECAwQFBgcICQoLDA0ODxAREhMUFRYXGBkaGxwdHh8gISIjJCUmJygpKissLS4vMDEyMzQ1Njc4OTo7PD0+P0BBQkNERUZHSElKS0xNTk9QUVJTVFVWVw==",
            "dtype": "i1"
           },
           "xaxis": "x",
           "y": {
            "bdata": "GmuJv1jyWEA7XqH4rOdYQHm+MKBS3FhAkPXooMbTWEAp+pK8Xc9YQE2Icbn+21hAvvAg5MHYWECj64jiBdpYQNACNs223FhAud6KTq7dWECHPQIxUN1YQEdLE5fK1VhAASnOjjTfWEDV2p885upYQJD2BSNC4FhAFenoItXZWECW0Y12K9hYQCRYsO4f0lhAAJ6hrH3VWECW97w99dBYQPy+rTzx3lhAs1GPmbDmWECstC2mLehYQLe2Cwjh7lhAMD7ptBX2WECyccyAmvJYQHXMFPuB7VhAefFDxyLuWEBL/EFAx/NYQD8+BtvL9FhA3fdd39TqWEAVVv9K0uVYQGw8I9155VhA1ntKqR7lWEAznQ0+3/FYQHYhLzUh6VhARkBKVX7sWEAuaDTdJvZYQBlV4yzRBFlAJk3sYFsCWUB5pPtNoQVZQAHPZ5FnCVlAaI7+nMgKWUB8ietuRwpZQNwt3IAyDVlAhMp6cB79WEBIRsS1nAFZQEkqOTWMAllAxqoYeUABWUDiEO/Reg5ZQLpFssZJCllAQSb7JNYHWUDjU5bftRRZQCipY2SDD1lA5JPs2R4MWUDCl5m7TgtZQP3fzvXQEFlAxtkaMUYSWUDdslgfIQpZQGD7R/zZBllAz+/5qRcDWUBn/brpuQJZQD9QHWKUBVlALRPuVmIIWUD8sjdKJf1YQCQCBTgVBFlAtv6ty9MFWUCMQh770A5ZQM4fAobJEVlA3+rxsvYYWUBa79baExxZQCd7dEfSJFlA6i3bs0ooWUDKS9ULyydZQAIcpfh2NllAruJyVkg8WUA3peggFUBZQPUSpcwKOFlAAp7fzewvWUAG1kAo7TFZQMMd4Fj8MllA/nPP7y4vWUBZNNmwNjBZQMlj4kOCOllAey5uYRY/WUDC+2G46TdZQJB8zMpTN1lAxGT+s00yWUA=",
            "dtype": "f8"
           },
           "yaxis": "y"
          },
          {
           "line": {
            "color": "rgba(70, 130, 180, 0.9)",
            "width": 2
           },
           "name": "Ask",
           "type": "scatter",
           "x": {
            "bdata": "AAECAwQFBgcICQoLDA0ODxAREhMUFRYXGBkaGxwdHh8gISIjJCUmJygpKissLS4vMDEyMzQ1Njc4OTo7PD0+P0BBQkNERUZHSElKS0xNTk9QUVJTVFVWVw==",
            "dtype": "i1"
           },
           "xaxis": "x",
           "y": {
            "bdata": "5jdWjCX/WEAHK27FefRYQEWL/Wwf6VhAXMK1bZPgWED1xl+JKtxYQBlVPobL6FhAir3tsI7lWEBvuFWv0uZYQJzPApqD6VhAhatXG3vqWEBTCs/9HOpYQBMY4GOX4lhAzfWaWwHsWEChp2wJs/dYQFzD0u8O7VhA4bW176HmWEBinlpD+ORYQPAkfbvs3lhAzGpueUriWEBixIkKwt1YQMiLegm+61hAfx5cZn3zWEB4gfpy+vRYQIOD2NSt+1hA/Aq2geICWUB+PplNZ/9YQEGZ4cdO+lhARb4QlO/6WEAXyQ4NlABZQAsL06eYAVlAqcQqrKH3WEDhIswXn/JYQDgJ8KlG8lhAokgXduvxWED/adoKrP5YQELu+wHu9VhAEg0XIkv5WED6NAGq8wJZQOUhsPmdEVlA8hm5LSgPWUBFccgabhJZQM2bNF40FllANFvLaZUXWUBIVrg7FBdZQKj6qE3/GVlAUJdHPesJWUAUE5GCaQ5ZQBX3BQJZD1lAknflRQ0OWUCu3bueRxtZQIYSf5MWF1lADfPH8aIUWUCvIGOsgiFZQPR1MDFQHFlAsGC5pusYWUCOZGaIGxhZQMmsm8KdHVlAkqbn/RIfWUCpfyXs7RZZQCzIFMmmE1lAm7zGduQPWUAzyoe2hg9ZQAsd6i5hEllA+d+6Iy8VWUDIfwQX8glZQPDO0QTiEFlAgst6mKASWUBYD+vHnRtZQJrszlKWHllAq7e+f8MlWUAmvKOn4ChZQPNHQRSfMVlAtvqngBc1WUCWGKLYlzRZQM7occVDQ1lAeq8/IxVJWUADcrXt4UxZQMHfcZnXRFlAzmqsmrk8WUDSog31uT5ZQI/qrCXJP1lAykCcvPs7WUAlAaZ9Az1ZQJUwrxBPR1lAR/s6LuNLWUCOyC6FtkRZQFxJmZcgRFlAkDHLgBo/WUA=",
            "dtype": "f8"
           },
           "yaxis": "y"
          },
          {
           "marker": {
            "color": [
             "rgba(31, 119, 180, 0.8)",
             "rgba(31, 119, 180, 0.8)",
             "rgba(31, 119, 180, 0.8)",
             "rgba(31, 119, 180, 0.8)",
             "rgba(31, 119, 180, 0.8)",
             "rgba(31, 119, 180, 0.8)",
             "rgba(178, 34, 34, 0.8)",
             "rgba(31, 119, 180, 0.8)",
             "rgba(31, 119, 180, 0.8)",
             "rgba(31, 119, 180, 0.8)",
             "rgba(31, 119, 180, 0.8)",
             "rgba(31, 119, 180, 0.8)",
             "rgba(178, 34, 34, 0.8)",
             "rgba(178, 34, 34, 0.8)",
             "rgba(31, 119, 180, 0.8)",
             "rgba(31, 119, 180, 0.8)",
             "rgba(31, 119, 180, 0.8)",
             "rgba(31, 119, 180, 0.8)",
             "rgba(178, 34, 34, 0.8)",
             "rgba(31, 119, 180, 0.8)",
             "rgba(178, 34, 34, 0.8)",
             "rgba(178, 34, 34, 0.8)",
             "rgba(178, 34, 34, 0.8)",
             "rgba(178, 34, 34, 0.8)",
             "rgba(178, 34, 34, 0.8)",
             "rgba(31, 119, 180, 0.8)",
             "rgba(31, 119, 180, 0.8)",
             "rgba(31, 119, 180, 0.8)",
             "rgba(178, 34, 34, 0.8)",
             "rgba(31, 119, 180, 0.8)",
             "rgba(31, 119, 180, 0.8)",
             "rgba(31, 119, 180, 0.8)",
             "rgba(31, 119, 180, 0.8)",
             "rgba(31, 119, 180, 0.8)",
             "rgba(178, 34, 34, 0.8)",
             "rgba(31, 119, 180, 0.8)",
             "rgba(178, 34, 34, 0.8)",
             "rgba(178, 34, 34, 0.8)",
             "rgba(178, 34, 34, 0.8)",
             "rgba(31, 119, 180, 0.8)",
             "rgba(178, 34, 34, 0.8)",
             "rgba(178, 34, 34, 0.8)",
             "rgba(31, 119, 180, 0.8)",
             "rgba(31, 119, 180, 0.8)",
             "rgba(178, 34, 34, 0.8)",
             "rgba(31, 119, 180, 0.8)",
             "rgba(31, 119, 180, 0.8)",
             "rgba(31, 119, 180, 0.8)",
             "rgba(31, 119, 180, 0.8)",
             "rgba(178, 34, 34, 0.8)",
             "rgba(31, 119, 180, 0.8)",
             "rgba(31, 119, 180, 0.8)",
             "rgba(31, 119, 180, 0.8)",
             "rgba(31, 119, 180, 0.8)",
             "rgba(31, 119, 180, 0.8)",
             "rgba(31, 119, 180, 0.8)",
             "rgba(31, 119, 180, 0.8)",
             "rgba(31, 119, 180, 0.8)",
             "rgba(178, 34, 34, 0.8)",
             "rgba(178, 34, 34, 0.8)",
             "rgba(178, 34, 34, 0.8)",
             "rgba(178, 34, 34, 0.8)",
             "rgba(31, 119, 180, 0.8)",
             "rgba(31, 119, 180, 0.8)",
             "rgba(31, 119, 180, 0.8)",
             "rgba(178, 34, 34, 0.8)",
             "rgba(31, 119, 180, 0.8)",
             "rgba(178, 34, 34, 0.8)",
             "rgba(178, 34, 34, 0.8)",
             "rgba(178, 34, 34, 0.8)",
             "rgba(178, 34, 34, 0.8)",
             "rgba(178, 34, 34, 0.8)",
             "rgba(178, 34, 34, 0.8)",
             "rgba(31, 119, 180, 0.8)",
             "rgba(178, 34, 34, 0.8)",
             "rgba(178, 34, 34, 0.8)",
             "rgba(178, 34, 34, 0.8)",
             "rgba(31, 119, 180, 0.8)",
             "rgba(31, 119, 180, 0.8)",
             "rgba(178, 34, 34, 0.8)",
             "rgba(31, 119, 180, 0.8)",
             "rgba(31, 119, 180, 0.8)",
             "rgba(178, 34, 34, 0.8)",
             "rgba(178, 34, 34, 0.8)",
             "rgba(178, 34, 34, 0.8)",
             "rgba(31, 119, 180, 0.8)",
             "rgba(31, 119, 180, 0.8)",
             "rgba(31, 119, 180, 0.8)"
            ]
           },
           "name": "Trade P&L",
           "type": "bar",
           "x": {
            "bdata": "AAECAwQFBgcICQoLDA0ODxAREhMUFRYXGBkaGxwdHh8gISIjJCUmJygpKissLS4vMDEyMzQ1Njc4OTo7PD0+P0BBQkNERUZHSElKS0xNTk9QUVJTVFVWVw==",
            "dtype": "i1"
           },
           "xaxis": "x2",
           "y": {
            "bdata": "mpmZmZmZuT9mJIA29L3bP2YoBte+wNE/mpmZmZmZuT8AAAAAAAAAAGaK9ERjB9M/AHi8hKrmqb+amZmZmZm5PzTLecrdq60/mlG68o7dsT+a8ScB/AK+P2bmSkSacdU/AHS7de/T0r+aFa8Oo67cvwDPrM1M7N8/AHEoVwBH0z/NxIilLxrKPzPQ4twGUOI/M4N5ghqYy78zpnlTtxDjP2Yy9UdkXvq/TU1O4pHq579mhsUy+ge2v03z01WjQOS/gCdaB1046b8AcpfJbF7YP4BVwgLU1eE/aGbk004Alj/Nq/JFdIzgv6CZqzZzsXI/GsUUANIJ8z8zU7qthD3nP80KNNbOosE/zdTT9ToTwT9NNaC0QK7svzOtKvBEr+Q/zEywV8+Hrb/NnByh3B3gv00tMFNEzOK/ZjKGQpY90D8zcZzMde7DvwCo1BxR39K/0EwZbQFHjD8AgJ1gwiWgP8zMNVx71qK/M4uWlENH4z9oJqrOEYKeP5qRefKdHbI/zd7JjzWTxD8AKplBhdfjv81s+b/5kM0/zb4LOxC0wT+amZmZmZm5PwAAAAAAAAAAzVT3uuGVwz+amZmZmZm5P81CXTdB0cc/AJCcv7RTlz8A0k2EI0rAv8DMSYTd72O/AIhccJISvr8AAJq8D3CHv818cpG9gcI/mpmZmZmZuT9ml8Ycc6PRPwCgPDW3v7u/NBNqo/hJpz8ArIfgXvrRv8z8iinSGaS/ADNhz4aH1b9mFq625Di4v5oAPXLf1NO/AJIwaIrSxL8AAGYage+XPwBUuDfjAea/mkm00BDf0L9m0oTr4/+zvzO3V7rbR+M/s5LXIDB+5z+YmZrnMbCZv2hW+580p5E/ZnoNqQqc1T8AsAWcEHywv81kw2O8iea/M8OIkR/Ux7+zAbLR2SLlP80kw87v08M/M32GBIPI5D8=",
            "dtype": "f8"
           },
           "yaxis": "y2"
          },
          {
           "line": {
            "color": "rgba(60, 179, 113, 0.9)",
            "width": 2
           },
           "name": "Cumulative P&L",
           "type": "scatter",
           "x": {
            "bdata": "AAECAwQFBgcICQoLDA0ODxAREhMUFRYXGBkaGxwdHh8gISIjJCUmJygpKissLS4vMDEyMzQ1Njc4OTo7PD0+P0BBQkNERUZHSElKS0xNTk9QUVJTVFVWVw==",
            "dtype": "i1"
           },
           "xaxis": "x2",
           "y": {
            "bdata": "AAAAAAAAAABmJIA29L3bP2Ymw4ZZv+Y/mVn2uYzy6T+ZWfa5jPLpP2ZPOC4fu/E/pmsS2unr8D9ABaxzg4XyP5rT/2HicvM/tHgrUbuQ9D/O9z0R63D2P2ixUKJRzfs/aNThxFUY9z8DHmwCWtnvP8JCoTTA5/c/Al9rSoC5/D+cdxw/xvz/P9vvxtZkkgRAqFefLuPYAkA1wX0DEZ0HQARQBr+92/Q/u1K+m+nM4T/cQ8uq1BfeP3xFuQHk0sS/33jIBxZt7r/fv/yi3z3iv8CXmg7oAoq/EDUumbX9gT/58o1vfUTgv8abIIkaH+C/bu4Id4n05T/QoGESB5n2PyoiKO1gzfg/xJziS8jv+j87BCXjTzHpP7fYp2lK8PY/UVbq7gsE9j/VD7g8O+rrPxDFD9PtO9I/u/vKCsI84T/cvkcvSYLYP3BbzEngi7Y/CoVvd8AUuj+FIt/T0BPBP6Reo/ljvLg/CPfKE9Be5j87SECi4FLnP256j2CUluk/IfKBxGG77j9CkNEFucfVP1Qj5/IaSOI/BxOqAR+15j86Rt00UujpPzpG3TRS6Ok/bRubo8rN7j9QJ2frfgDxP6rPUhKn+vM/6kFR5fVX9D+qh8d0sU7yP8RiBYa5RPI/RJr/XpBj8D9EZoY/sDTwP961tPHnhPI/eE9Oi4Ee9D9S9X9SXof4P1IrLN9iy/Y/7HtHpLKF9z/skCXsGgfzPwY52VpMZvI/jNgBTtUI6j+/FSy3uAHnP+QqG/yRLto/yMMFkJmKzz/kQanZRETRPxxmx5WBv9q/29c9M0nP5b8ocq6wRU/ov9TrWtmnHcS/vteAKsZ24j/xAkSbRKnhP6TdQ0B+NuI/15rKlIME7T/X5EmBAfXqPygAGnYUrcE/LAy7bSycqL/wUNYKF5njPyMah/4Sjug/q8uGAUur9j8=",
            "dtype": "f8"
           },
           "yaxis": "y2"
          }
         ]
        },
        {
         "data": [
          {
           "line": {
            "color": "rgba(60, 179, 113, 0.9)",
            "dash": "dot",
            "width": 2
           },
           "name": "Mid Price (Estimated)",
           "type": "scatter",
           "x": {
            "bdata": "AAECAwQFBgcICQoLDA0ODxAREhMUFRYXGBkaGxwdHh8gISIjJCUmJygpKissLS4vMDEyMzQ1Njc4OTo7PD0+P0BBQkNERUZHSElKS0xNTk9QUVJTVFVWV1g=",
            "dtype": "i1"
           },
           "xaxis": "x",
           "y": {
            "bdata": "gNHvJb/4WEChxAdfE+5YQN8klwa54lhA9ltPBy3aWECPYPkixNVYQLPu1x9l4lhAJFeHSijfWEAJUu9IbOBYQDZpnDMd41hAH0XxtBTkWEDto2iXtuNYQK2xef0w3FhAZ4809ZrlWEA7QQajTPFYQPZcbImo5lhAe09PiTvgWED8N/Tckd5YQIq+FlWG2FhAZgQIE+TbWED8XSOkW9dYQGIlFKNX5VhAGbj1/xbtWEASG5QMlO5YQB0dcm5H9VhAlqRPG3z8WEAY2DLnAPlYQNsye2Ho81hA31eqLYn0WECxYqimLfpYQKWkbEEy+1hAQ17ERTvxWEB7vGWxOOxYQNKiiUPg61hAPOKwD4XrWECZA3SkRfhYQNyHlZuH71hArKawu+TyWECUzppDjfxYQH+7SZM3C1lAjLNSx8EIWUDfCmK0BwxZQGc1zvfND1lAzvRkAy8RWUDi71HVrRBZQEKUQueYE1lA6jDh1oQDWUCurCocAwhZQK+Qn5vyCFlALBF/36YHWUBId1U44RRZQCCsGC2wEFlAp4xhizwOWUBJuvxFHBtZQI4PysrpFVlASvpSQIUSWUAo/v8htRFZQGNGNVw3F1lALECBl6wYWUBDGb+FhxBZQMZhrmJADVlANVZgEH4JWUDNYyFQIAlZQKW2g8j6C1lAk3lUvcgOWUBiGZ6wiwNZQIpoa557CllAHGUUMjoMWUDyqIRhNxVZQDSGaOwvGFlARVFYGV0fWUDAVT1BeiJZQI3h2q04K1lAUJRBGrEuWUAwsjtyMS5ZQGiCC1/dPFlAFEnZvK5CWUCdC0+He0ZZQFt5CzNxPllAaARGNFM2WUBsPKeOUzhZQCmERr9iOVlAZNo1VpU1WUC/mj8XnTZZQC/KSKroQFlA4ZTUx3xFWUAoYsgeUD5ZQPbiMjG6PVlAKstkGrQ4WUCU5t6pWTZZQA==",
            "dtype": "f8"
           },
           "yaxis": "y"
          },
          {
           "line": {
            "color": "rgba(178, 34, 34, 0.9)",
            "width": 2
           },
           "name": "Bid",
           "type": "scatter",
           "x": {
            "bdata": "AAECAwQFBgcICQoLDA0ODxAREhMUFRYXGBkaGxwdHh8gISIjJCUmJygpKissLS4vMDEyMzQ1Njc4OTo7PD0+P0BBQkNERUZHSElKS0xNTk9QUVJTVFVWV1g=",
            "dtype": "i1"
           },
           "xaxis": "x",
           "y": {
            "bdata": "GmuJv1jyWEA7XqH4rOdYQHm+MKBS3FhAkPXooMbTWEAp+pK8Xc9YQE2Icbn+21hAvvAg5MHYWECj64jiBdpYQNACNs223FhAud6KTq7dWECHPQIxUN1YQEdLE5fK1VhAASnOjjTfWEDV2p885upYQJD2BSNC4FhAFenoItXZWECW0Y12K9hYQCRYsO4f0lhAAJ6hrH3VWECW97w99dBYQPy+rTzx3lhAs1GPmbDmWECstC2mLehYQLe2Cwjh7lhAMD7ptBX2WECyccyAmvJYQHXMFPuB7VhAefFDxyLuWEBL/EFAx/NYQD8+BtvL9FhA3fdd39TqWEAVVv9K0uVYQGw8I9155VhA1ntKqR7lWEAznQ0+3/FYQHYhLzUh6VhARkBKVX7sWEAuaDTdJvZYQBlV4yzRBFlAJk3sYFsCWUB5pPtNoQVZQAHPZ5FnCVlAaI7+nMgKWUB8ietuRwpZQNwt3IAyDVlAhMp6cB79WEBIRsS1nAFZQEkqOTWMAllAxqoYeUABWUDiEO/Reg5ZQLpFssZJCllAQSb7JNYHWUDjU5bftRRZQCipY2SDD1lA5JPs2R4MWUDCl5m7TgtZQP3fzvXQEFlAxtkaMUYSWUDdslgfIQpZQGD7R/zZBllAz+/5qRcDWUBn/brpuQJZQD9QHWKUBVlALRPuVmIIWUD8sjdKJf1YQCQCBTgVBFlAtv6ty9MFWUCMQh770A5ZQM4fAobJEVlA3+rxsvYYWUBa79baExxZQCd7dEfSJFlA6i3bs0ooWUDKS9ULyydZQAIcpfh2NllAruJyVkg8WUA3peggFUBZQPUSpcwKOFlAAp7fzewvWUAG1kAo7TFZQMMd4Fj8MllA/nPP7y4vWUBZNNmwNjBZQMlj4kOCOllAey5uYRY/WUDC+2G46TdZQJB8zMpTN1lAxGT+s00yWUAugHhD8y9ZQA==",
            "dtype": "f8"
           },
           "yaxis": "y"
          },
          {
           "line": {
            "color": "rgba(70, 130, 180, 0.9)",
            "width": 2
           },
           "name": "Ask",
           "type": "scatter",
           "x": {
            "bdata": "AAECAwQFBgcICQoLDA0ODxAREhMUFRYXGBkaGxwdHh8gISIjJCUmJygpKissLS4vMDEyMzQ1Njc4OTo7PD0+P0BBQkNERUZHSElKS0xNTk9QUVJTVFVWV1g=",
            "dtype": "i1"
           },
           "xaxis": "x",
           "y": {
            "bdata": "5jdWjCX/WEAHK27FefRYQEWL/Wwf6VhAXMK1bZPgWED1xl+JKtxYQBlVPobL6FhAir3tsI7lWEBvuFWv0uZYQJzPApqD6VhAhatXG3vqWEBTCs/9HOpYQBMY4GOX4lhAzfWaWwHsWEChp2wJs/dYQFzD0u8O7VhA4bW176HmWEBinlpD+ORYQPAkfbvs3lhAzGpueUriWEBixIkKwt1YQMiLegm+61hAfx5cZn3zWEB4gfpy+vRYQIOD2NSt+1hA/Aq2geICWUB+PplNZ/9YQEGZ4cdO+lhARb4QlO/6WEAXyQ4NlABZQAsL06eYAVlAqcQqrKH3WEDhIswXn/JYQDgJ8KlG8lhAokgXduvxWED/adoKrP5YQELu+wHu9VhAEg0XIkv5WED6NAGq8wJZQOUhsPmdEVlA8hm5LSgPWUBFccgabhJZQM2bNF40FllANFvLaZUXWUBIVrg7FBdZQKj6qE3/GVlAUJdHPesJWUAUE5GCaQ5ZQBX3BQJZD1lAknflRQ0OWUCu3bueRxtZQIYSf5MWF1lADfPH8aIUWUCvIGOsgiFZQPR1MDFQHFlAsGC5pusYWUCOZGaIGxhZQMmsm8KdHVlAkqbn/RIfWUCpfyXs7RZZQCzIFMmmE1lAm7zGduQPWUAzyoe2hg9ZQAsd6i5hEllA+d+6Iy8VWUDIfwQX8glZQPDO0QTiEFlAgst6mKASWUBYD+vHnRtZQJrszlKWHllAq7e+f8MlWUAmvKOn4ChZQPNHQRSfMVlAtvqngBc1WUCWGKLYlzRZQM7occVDQ1lAeq8/IxVJWUADcrXt4UxZQMHfcZnXRFlAzmqsmrk8WUDSog31uT5ZQI/qrCXJP1lAykCcvPs7WUAlAaZ9Az1ZQJUwrxBPR1lAR/s6LuNLWUCOyC6FtkRZQFxJmZcgRFlAkDHLgBo/WUD6TEUQwDxZQA==",
            "dtype": "f8"
           },
           "yaxis": "y"
          },
          {
           "marker": {
            "color": [
             "rgba(31, 119, 180, 0.8)",
             "rgba(31, 119, 180, 0.8)",
             "rgba(31, 119, 180, 0.8)",
             "rgba(31, 119, 180, 0.8)",
             "rgba(31, 119, 180, 0.8)",
             "rgba(31, 119, 180, 0.8)",
             "rgba(178, 34, 34, 0.8)",
             "rgba(31, 119, 180, 0.8)",
             "rgba(31, 119, 180, 0.8)",
             "rgba(31, 119, 180, 0.8)",
             "rgba(31, 119, 180, 0.8)",
             "rgba(31, 119, 180, 0.8)",
             "rgba(178, 34, 34, 0.8)",
             "rgba(178, 34, 34, 0.8)",
             "rgba(31, 119, 180, 0.8)",
             "rgba(31, 119, 180, 0.8)",
             "rgba(31, 119, 180, 0.8)",
             "rgba(31, 119, 180, 0.8)",
             "rgba(178, 34, 34, 0.8)",
             "rgba(31, 119, 180, 0.8)",
             "rgba(178, 34, 34, 0.8)",
             "rgba(178, 34, 34, 0.8)",
             "rgba(178, 34, 34, 0.8)",
             "rgba(178, 34, 34, 0.8)",
             "rgba(178, 34, 34, 0.8)",
             "rgba(31, 119, 180, 0.8)",
             "rgba(31, 119, 180, 0.8)",
             "rgba(31, 119, 180, 0.8)",
             "rgba(178, 34, 34, 0.8)",
             "rgba(31, 119, 180, 0.8)",
             "rgba(31, 119, 180, 0.8)",
             "rgba(31, 119, 180, 0.8)",
             "rgba(31, 119, 180, 0.8)",
             "rgba(31, 119, 180, 0.8)",
             "rgba(178, 34, 34, 0.8)",
             "rgba(31, 119, 180, 0.8)",
             "rgba(178, 34, 34, 0.8)",
             "rgba(178, 34, 34, 0.8)",
             "rgba(178, 34, 34, 0.8)",
             "rgba(31, 119, 180, 0.8)",
             "rgba(178, 34, 34, 0.8)",
             "rgba(178, 34, 34, 0.8)",
             "rgba(31, 119, 180, 0.8)",
             "rgba(31, 119, 180, 0.8)",
             "rgba(178, 34, 34, 0.8)",
             "rgba(31, 119, 180, 0.8)",
             "rgba(31, 119, 180, 0.8)",
             "rgba(31, 119, 180, 0.8)",
             "rgba(31, 119, 180, 0.8)",
             "rgba(178, 34, 34, 0.8)",
             "rgba(31, 119, 180, 0.8)",
             "rgba(31, 119, 180, 0.8)",
             "rgba(31, 119, 180, 0.8)",
             "rgba(31, 119, 180, 0.8)",
             "rgba(31, 119, 180, 0.8)",
             "rgba(31, 119, 180, 0.8)",
             "rgba(31, 119, 180, 0.8)",
             "rgba(31, 119, 180, 0.8)",
             "rgba(178, 34, 34, 0.8)",
             "rgba(178, 34, 34, 0.8)",
             "rgba(178, 34, 34, 0.8)",
             "rgba(178, 34, 34, 0.8)",
             "rgba(31, 119, 180, 0.8)",
             "rgba(31, 119, 180, 0.8)",
             "rgba(31, 119, 180, 0.8)",
             "rgba(178, 34, 34, 0.8)",
             "rgba(31, 119, 180, 0.8)",
             "rgba(178, 34, 34, 0.8)",
             "rgba(178, 34, 34, 0.8)",
             "rgba(178, 34, 34, 0.8)",
             "rgba(178, 34, 34, 0.8)",
             "rgba(178, 34, 34, 0.8)",
             "rgba(178, 34, 34, 0.8)",
             "rgba(31, 119, 180, 0.8)",
             "rgba(178, 34, 34, 0.8)",
             "rgba(178, 34, 34, 0.8)",
             "rgba(178, 34, 34, 0.8)",
             "rgba(31, 119, 180, 0.8)",
             "rgba(31, 119, 180, 0.8)",
             "rgba(178, 34, 34, 0.8)",
             "rgba(31, 119, 180, 0.8)",
             "rgba(31, 119, 180, 0.8)",
             "rgba(178, 34, 34, 0.8)",
             "rgba(178, 34, 34, 0.8)",
             "rgba(178, 34, 34, 0.8)",
             "rgba(31, 119, 180, 0.8)",
             "rgba(31, 119, 180, 0.8)",
             "rgba(31, 119, 180, 0.8)",
             "rgba(31, 119, 180, 0.8)"
            ]
           },
           "name": "Trade P&L",
           "type": "bar",
           "x": {
            "bdata": "AAECAwQFBgcICQoLDA0ODxAREhMUFRYXGBkaGxwdHh8gISIjJCUmJygpKissLS4vMDEyMzQ1Njc4OTo7PD0+P0BBQkNERUZHSElKS0xNTk9QUVJTVFVWV1g=",
            "dtype": "i1"
           },
           "xaxis": "x2",
           "y": {
            "bdata": "mpmZmZmZuT9mJIA29L3bP2YoBte+wNE/mpmZmZmZuT8AAAAAAAAAAGaK9ERjB9M/AHi8hKrmqb+amZmZmZm5PzTLecrdq60/mlG68o7dsT+a8ScB/AK+P2bmSkSacdU/AHS7de/T0r+aFa8Oo67cvwDPrM1M7N8/AHEoVwBH0z/NxIilLxrKPzPQ4twGUOI/M4N5ghqYy78zpnlTtxDjP2Yy9UdkXvq/TU1O4pHq579mhsUy+ge2v03z01WjQOS/gCdaB1046b8AcpfJbF7YP4BVwgLU1eE/aGbk004Alj/Nq/JFdIzgv6CZqzZzsXI/GsUUANIJ8z8zU7qthD3nP80KNNbOosE/zdTT9ToTwT9NNaC0QK7svzOtKvBEr+Q/zEywV8+Hrb/NnByh3B3gv00tMFNEzOK/ZjKGQpY90D8zcZzMde7DvwCo1BxR39K/0EwZbQFHjD8AgJ1gwiWgP8zMNVx71qK/M4uWlENH4z9oJqrOEYKeP5qRefKdHbI/zd7JjzWTxD8AKplBhdfjv81s+b/5kM0/zb4LOxC0wT+amZmZmZm5PwAAAAAAAAAAzVT3uuGVwz+amZmZmZm5P81CXTdB0cc/AJCcv7RTlz8A0k2EI0rAv8DMSYTd72O/AIhccJISvr8AAJq8D3CHv818cpG9gcI/mpmZmZmZuT9ml8Ycc6PRPwCgPDW3v7u/NBNqo/hJpz8ArIfgXvrRv8z8iinSGaS/ADNhz4aH1b9mFq625Di4v5oAPXLf1NO/AJIwaIrSxL8AAGYage+XPwBUuDfjAea/mkm00BDf0L9m0oTr4/+zvzO3V7rbR+M/s5LXIDB+5z+YmZrnMbCZv2hW+580p5E/ZnoNqQqc1T8AsAWcEHywv81kw2O8iea/M8OIkR/Ux7+zAbLR2SLlP80kw87v08M/M32GBIPI5D8AGkCpE3nQPw==",
            "dtype": "f8"
           },
           "yaxis": "y2"
          },
          {
           "line": {
            "color": "rgba(60, 179, 113, 0.9)",
            "width": 2
           },
           "name": "Cumulative P&L",
           "type": "scatter",
           "x": {
            "bdata": "AAECAwQFBgcICQoLDA0ODxAREhMUFRYXGBkaGxwdHh8gISIjJCUmJygpKissLS4vMDEyMzQ1Njc4OTo7PD0+P0BBQkNERUZHSElKS0xNTk9QUVJTVFVWV1g=",
            "dtype": "i1"
           },
           "xaxis": "x2",
           "y": {
            "bdata": "AAAAAAAAAABmJIA29L3bP2Ymw4ZZv+Y/mVn2uYzy6T+ZWfa5jPLpP2ZPOC4fu/E/pmsS2unr8D9ABaxzg4XyP5rT/2HicvM/tHgrUbuQ9D/O9z0R63D2P2ixUKJRzfs/aNThxFUY9z8DHmwCWtnvP8JCoTTA5/c/Al9rSoC5/D+cdxw/xvz/P9vvxtZkkgRAqFefLuPYAkA1wX0DEZ0HQARQBr+92/Q/u1K+m+nM4T/cQ8uq1BfeP3xFuQHk0sS/33jIBxZt7r/fv/yi3z3iv8CXmg7oAoq/EDUumbX9gT/58o1vfUTgv8abIIkaH+C/bu4Id4n05T/QoGESB5n2PyoiKO1gzfg/xJziS8jv+j87BCXjTzHpP7fYp2lK8PY/UVbq7gsE9j/VD7g8O+rrPxDFD9PtO9I/u/vKCsI84T/cvkcvSYLYP3BbzEngi7Y/CoVvd8AUuj+FIt/T0BPBP6Reo/ljvLg/CPfKE9Be5j87SECi4FLnP256j2CUluk/IfKBxGG77j9CkNEFucfVP1Qj5/IaSOI/BxOqAR+15j86Rt00UujpPzpG3TRS6Ok/bRubo8rN7j9QJ2frfgDxP6rPUhKn+vM/6kFR5fVX9D+qh8d0sU7yP8RiBYa5RPI/RJr/XpBj8D9EZoY/sDTwP961tPHnhPI/eE9Oi4Ee9D9S9X9SXof4P1IrLN9iy/Y/7HtHpLKF9z/skCXsGgfzPwY52VpMZvI/jNgBTtUI6j+/FSy3uAHnP+QqG/yRLto/yMMFkJmKzz/kQanZRETRPxxmx5WBv9q/29c9M0nP5b8ocq6wRU/ov9TrWtmnHcS/vteAKsZ24j/xAkSbRKnhP6TdQ0B+NuI/15rKlIME7T/X5EmBAfXqPygAGnYUrcE/LAy7bSycqL/wUNYKF5njPyMah/4Sjug/q8uGAUur9j8r0tbrj8n6Pw==",
            "dtype": "f8"
           },
           "yaxis": "y2"
          }
         ]
        },
        {
         "data": [
          {
           "line": {
            "color": "rgba(60, 179, 113, 0.9)",
            "dash": "dot",
            "width": 2
           },
           "name": "Mid Price (Estimated)",
           "type": "scatter",
           "x": {
            "bdata": "AAECAwQFBgcICQoLDA0ODxAREhMUFRYXGBkaGxwdHh8gISIjJCUmJygpKissLS4vMDEyMzQ1Njc4OTo7PD0+P0BBQkNERUZHSElKS0xNTk9QUVJTVFVWV1hZ",
            "dtype": "i1"
           },
           "xaxis": "x",
           "y": {
            "bdata": "gNHvJb/4WEChxAdfE+5YQN8klwa54lhA9ltPBy3aWECPYPkixNVYQLPu1x9l4lhAJFeHSijfWEAJUu9IbOBYQDZpnDMd41hAH0XxtBTkWEDto2iXtuNYQK2xef0w3FhAZ4809ZrlWEA7QQajTPFYQPZcbImo5lhAe09PiTvgWED8N/Tckd5YQIq+FlWG2FhAZgQIE+TbWED8XSOkW9dYQGIlFKNX5VhAGbj1/xbtWEASG5QMlO5YQB0dcm5H9VhAlqRPG3z8WEAY2DLnAPlYQNsye2Ho81hA31eqLYn0WECxYqimLfpYQKWkbEEy+1hAQ17ERTvxWEB7vGWxOOxYQNKiiUPg61hAPOKwD4XrWECZA3SkRfhYQNyHlZuH71hArKawu+TyWECUzppDjfxYQH+7SZM3C1lAjLNSx8EIWUDfCmK0BwxZQGc1zvfND1lAzvRkAy8RWUDi71HVrRBZQEKUQueYE1lA6jDh1oQDWUCurCocAwhZQK+Qn5vyCFlALBF/36YHWUBId1U44RRZQCCsGC2wEFlAp4xhizwOWUBJuvxFHBtZQI4PysrpFVlASvpSQIUSWUAo/v8htRFZQGNGNVw3F1lALECBl6wYWUBDGb+FhxBZQMZhrmJADVlANVZgEH4JWUDNYyFQIAlZQKW2g8j6C1lAk3lUvcgOWUBiGZ6wiwNZQIpoa557CllAHGUUMjoMWUDyqIRhNxVZQDSGaOwvGFlARVFYGV0fWUDAVT1BeiJZQI3h2q04K1lAUJRBGrEuWUAwsjtyMS5ZQGiCC1/dPFlAFEnZvK5CWUCdC0+He0ZZQFt5CzNxPllAaARGNFM2WUBsPKeOUzhZQCmERr9iOVlAZNo1VpU1WUC/mj8XnTZZQC/KSKroQFlA4ZTUx3xFWUAoYsgeUD5ZQPbiMjG6PVlAKstkGrQ4WUCU5t6pWTZZQLeffsPUM1lA",
            "dtype": "f8"
           },
           "yaxis": "y"
          },
          {
           "line": {
            "color": "rgba(178, 34, 34, 0.9)",
            "width": 2
           },
           "name": "Bid",
           "type": "scatter",
           "x": {
            "bdata": "AAECAwQFBgcICQoLDA0ODxAREhMUFRYXGBkaGxwdHh8gISIjJCUmJygpKissLS4vMDEyMzQ1Njc4OTo7PD0+P0BBQkNERUZHSElKS0xNTk9QUVJTVFVWV1hZ",
            "dtype": "i1"
           },
           "xaxis": "x",
           "y": {
            "bdata": "GmuJv1jyWEA7XqH4rOdYQHm+MKBS3FhAkPXooMbTWEAp+pK8Xc9YQE2Icbn+21hAvvAg5MHYWECj64jiBdpYQNACNs223FhAud6KTq7dWECHPQIxUN1YQEdLE5fK1VhAASnOjjTfWEDV2p885upYQJD2BSNC4FhAFenoItXZWECW0Y12K9hYQCRYsO4f0lhAAJ6hrH3VWECW97w99dBYQPy+rTzx3lhAs1GPmbDmWECstC2mLehYQLe2Cwjh7lhAMD7ptBX2WECyccyAmvJYQHXMFPuB7VhAefFDxyLuWEBL/EFAx/NYQD8+BtvL9FhA3fdd39TqWEAVVv9K0uVYQGw8I9155VhA1ntKqR7lWEAznQ0+3/FYQHYhLzUh6VhARkBKVX7sWEAuaDTdJvZYQBlV4yzRBFlAJk3sYFsCWUB5pPtNoQVZQAHPZ5FnCVlAaI7+nMgKWUB8ietuRwpZQNwt3IAyDVlAhMp6cB79WEBIRsS1nAFZQEkqOTWMAllAxqoYeUABWUDiEO/Reg5ZQLpFssZJCllAQSb7JNYHWUDjU5bftRRZQCipY2SDD1lA5JPs2R4MWUDCl5m7TgtZQP3fzvXQEFlAxtkaMUYSWUDdslgfIQpZQGD7R/zZBllAz+/5qRcDWUBn/brpuQJZQD9QHWKUBVlALRPuVmIIWUD8sjdKJf1YQCQCBTgVBFlAtv6ty9MFWUCMQh770A5ZQM4fAobJEVlA3+rxsvYYWUBa79baExxZQCd7dEfSJFlA6i3bs0ooWUDKS9ULyydZQAIcpfh2NllAruJyVkg8WUA3peggFUBZQPUSpcwKOFlAAp7fzewvWUAG1kAo7TFZQMMd4Fj8MllA/nPP7y4vWUBZNNmwNjBZQMlj4kOCOllAey5uYRY/WUDC+2G46TdZQJB8zMpTN1lAxGT+s00yWUAugHhD8y9ZQFE5GF1uLVlA",
            "dtype": "f8"
           },
           "yaxis": "y"
          },
          {
           "line": {
            "color": "rgba(70, 130, 180, 0.9)",
            "width": 2
           },
           "name": "Ask",
           "type": "scatter",
           "x": {
            "bdata": "AAECAwQFBgcICQoLDA0ODxAREhMUFRYXGBkaGxwdHh8gISIjJCUmJygpKissLS4vMDEyMzQ1Njc4OTo7PD0+P0BBQkNERUZHSElKS0xNTk9QUVJTVFVWV1hZ",
            "dtype": "i1"
           },
           "xaxis": "x",
           "y": {
            "bdata": "5jdWjCX/WEAHK27FefRYQEWL/Wwf6VhAXMK1bZPgWED1xl+JKtxYQBlVPobL6FhAir3tsI7lWEBvuFWv0uZYQJzPApqD6VhAhatXG3vqWEBTCs/9HOpYQBMY4GOX4lhAzfWaWwHsWEChp2wJs/dYQFzD0u8O7VhA4bW176HmWEBinlpD+ORYQPAkfbvs3lhAzGpueUriWEBixIkKwt1YQMiLegm+61hAfx5cZn3zWEB4gfpy+vRYQIOD2NSt+1hA/Aq2geICWUB+PplNZ/9YQEGZ4cdO+lhARb4QlO/6WEAXyQ4NlABZQAsL06eYAVlAqcQqrKH3WEDhIswXn/JYQDgJ8KlG8lhAokgXduvxWED/adoKrP5YQELu+wHu9VhAEg0XIkv5WED6NAGq8wJZQOUhsPmdEVlA8hm5LSgPWUBFccgabhJZQM2bNF40FllANFvLaZUXWUBIVrg7FBdZQKj6qE3/GVlAUJdHPesJWUAUE5GCaQ5ZQBX3BQJZD1lAknflRQ0OWUCu3bueRxtZQIYSf5MWF1lADfPH8aIUWUCvIGOsgiFZQPR1MDFQHFlAsGC5pusYWUCOZGaIGxhZQMmsm8KdHVlAkqbn/RIfWUCpfyXs7RZZQCzIFMmmE1lAm7zGduQPWUAzyoe2hg9ZQAsd6i5hEllA+d+6Iy8VWUDIfwQX8glZQPDO0QTiEFlAgst6mKASWUBYD+vHnRtZQJrszlKWHllAq7e+f8MlWUAmvKOn4ChZQPNHQRSfMVlAtvqngBc1WUCWGKLYlzRZQM7occVDQ1lAeq8/IxVJWUADcrXt4UxZQMHfcZnXRFlAzmqsmrk8WUDSog31uT5ZQI/qrCXJP1lAykCcvPs7WUAlAaZ9Az1ZQJUwrxBPR1lAR/s6LuNLWUCOyC6FtkRZQFxJmZcgRFlAkDHLgBo/WUD6TEUQwDxZQB0G5Sk7OllA",
            "dtype": "f8"
           },
           "yaxis": "y"
          },
          {
           "marker": {
            "color": [
             "rgba(31, 119, 180, 0.8)",
             "rgba(31, 119, 180, 0.8)",
             "rgba(31, 119, 180, 0.8)",
             "rgba(31, 119, 180, 0.8)",
             "rgba(31, 119, 180, 0.8)",
             "rgba(31, 119, 180, 0.8)",
             "rgba(178, 34, 34, 0.8)",
             "rgba(31, 119, 180, 0.8)",
             "rgba(31, 119, 180, 0.8)",
             "rgba(31, 119, 180, 0.8)",
             "rgba(31, 119, 180, 0.8)",
             "rgba(31, 119, 180, 0.8)",
             "rgba(178, 34, 34, 0.8)",
             "rgba(178, 34, 34, 0.8)",
             "rgba(31, 119, 180, 0.8)",
             "rgba(31, 119, 180, 0.8)",
             "rgba(31, 119, 180, 0.8)",
             "rgba(31, 119, 180, 0.8)",
             "rgba(178, 34, 34, 0.8)",
             "rgba(31, 119, 180, 0.8)",
             "rgba(178, 34, 34, 0.8)",
             "rgba(178, 34, 34, 0.8)",
             "rgba(178, 34, 34, 0.8)",
             "rgba(178, 34, 34, 0.8)",
             "rgba(178, 34, 34, 0.8)",
             "rgba(31, 119, 180, 0.8)",
             "rgba(31, 119, 180, 0.8)",
             "rgba(31, 119, 180, 0.8)",
             "rgba(178, 34, 34, 0.8)",
             "rgba(31, 119, 180, 0.8)",
             "rgba(31, 119, 180, 0.8)",
             "rgba(31, 119, 180, 0.8)",
             "rgba(31, 119, 180, 0.8)",
             "rgba(31, 119, 180, 0.8)",
             "rgba(178, 34, 34, 0.8)",
             "rgba(31, 119, 180, 0.8)",
             "rgba(178, 34, 34, 0.8)",
             "rgba(178, 34, 34, 0.8)",
             "rgba(178, 34, 34, 0.8)",
             "rgba(31, 119, 180, 0.8)",
             "rgba(178, 34, 34, 0.8)",
             "rgba(178, 34, 34, 0.8)",
             "rgba(31, 119, 180, 0.8)",
             "rgba(31, 119, 180, 0.8)",
             "rgba(178, 34, 34, 0.8)",
             "rgba(31, 119, 180, 0.8)",
             "rgba(31, 119, 180, 0.8)",
             "rgba(31, 119, 180, 0.8)",
             "rgba(31, 119, 180, 0.8)",
             "rgba(178, 34, 34, 0.8)",
             "rgba(31, 119, 180, 0.8)",
             "rgba(31, 119, 180, 0.8)",
             "rgba(31, 119, 180, 0.8)",
             "rgba(31, 119, 180, 0.8)",
             "rgba(31, 119, 180, 0.8)",
             "rgba(31, 119, 180, 0.8)",
             "rgba(31, 119, 180, 0.8)",
             "rgba(31, 119, 180, 0.8)",
             "rgba(178, 34, 34, 0.8)",
             "rgba(178, 34, 34, 0.8)",
             "rgba(178, 34, 34, 0.8)",
             "rgba(178, 34, 34, 0.8)",
             "rgba(31, 119, 180, 0.8)",
             "rgba(31, 119, 180, 0.8)",
             "rgba(31, 119, 180, 0.8)",
             "rgba(178, 34, 34, 0.8)",
             "rgba(31, 119, 180, 0.8)",
             "rgba(178, 34, 34, 0.8)",
             "rgba(178, 34, 34, 0.8)",
             "rgba(178, 34, 34, 0.8)",
             "rgba(178, 34, 34, 0.8)",
             "rgba(178, 34, 34, 0.8)",
             "rgba(178, 34, 34, 0.8)",
             "rgba(31, 119, 180, 0.8)",
             "rgba(178, 34, 34, 0.8)",
             "rgba(178, 34, 34, 0.8)",
             "rgba(178, 34, 34, 0.8)",
             "rgba(31, 119, 180, 0.8)",
             "rgba(31, 119, 180, 0.8)",
             "rgba(178, 34, 34, 0.8)",
             "rgba(31, 119, 180, 0.8)",
             "rgba(31, 119, 180, 0.8)",
             "rgba(178, 34, 34, 0.8)",
             "rgba(178, 34, 34, 0.8)",
             "rgba(178, 34, 34, 0.8)",
             "rgba(31, 119, 180, 0.8)",
             "rgba(31, 119, 180, 0.8)",
             "rgba(31, 119, 180, 0.8)",
             "rgba(31, 119, 180, 0.8)",
             "rgba(31, 119, 180, 0.8)"
            ]
           },
           "name": "Trade P&L",
           "type": "bar",
           "x": {
            "bdata": "AAECAwQFBgcICQoLDA0ODxAREhMUFRYXGBkaGxwdHh8gISIjJCUmJygpKissLS4vMDEyMzQ1Njc4OTo7PD0+P0BBQkNERUZHSElKS0xNTk9QUVJTVFVWV1hZ",
            "dtype": "i1"
           },
           "xaxis": "x2",
           "y": {
            "bdata": "mpmZmZmZuT9mJIA29L3bP2YoBte+wNE/mpmZmZmZuT8AAAAAAAAAAGaK9ERjB9M/AHi8hKrmqb+amZmZmZm5PzTLecrdq60/mlG68o7dsT+a8ScB/AK+P2bmSkSacdU/AHS7de/T0r+aFa8Oo67cvwDPrM1M7N8/AHEoVwBH0z/NxIilLxrKPzPQ4twGUOI/M4N5ghqYy78zpnlTtxDjP2Yy9UdkXvq/TU1O4pHq579mhsUy+ge2v03z01WjQOS/gCdaB1046b8AcpfJbF7YP4BVwgLU1eE/aGbk004Alj/Nq/JFdIzgv6CZqzZzsXI/GsUUANIJ8z8zU7qthD3nP80KNNbOosE/zdTT9ToTwT9NNaC0QK7svzOtKvBEr+Q/zEywV8+Hrb/NnByh3B3gv00tMFNEzOK/ZjKGQpY90D8zcZzMde7DvwCo1BxR39K/0EwZbQFHjD8AgJ1gwiWgP8zMNVx71qK/M4uWlENH4z9oJqrOEYKeP5qRefKdHbI/zd7JjzWTxD8AKplBhdfjv81s+b/5kM0/zb4LOxC0wT+amZmZmZm5PwAAAAAAAAAAzVT3uuGVwz+amZmZmZm5P81CXTdB0cc/AJCcv7RTlz8A0k2EI0rAv8DMSYTd72O/AIhccJISvr8AAJq8D3CHv818cpG9gcI/mpmZmZmZuT9ml8Ycc6PRPwCgPDW3v7u/NBNqo/hJpz8ArIfgXvrRv8z8iinSGaS/ADNhz4aH1b9mFq625Di4v5oAPXLf1NO/AJIwaIrSxL8AAGYage+XPwBUuDfjAea/mkm00BDf0L9m0oTr4/+zvzO3V7rbR+M/s5LXIDB+5z+YmZrnMbCZv2hW+580p5E/ZnoNqQqc1T8AsAWcEHywv81kw2O8iea/M8OIkR/Ux7+zAbLR2SLlP80kw87v08M/M32GBIPI5D8AGkCpE3nQPwAL8KFMotE/",
            "dtype": "f8"
           },
           "yaxis": "y2"
          },
          {
           "line": {
            "color": "rgba(60, 179, 113, 0.9)",
            "width": 2
           },
           "name": "Cumulative P&L",
           "type": "scatter",
           "x": {
            "bdata": "AAECAwQFBgcICQoLDA0ODxAREhMUFRYXGBkaGxwdHh8gISIjJCUmJygpKissLS4vMDEyMzQ1Njc4OTo7PD0+P0BBQkNERUZHSElKS0xNTk9QUVJTVFVWV1hZ",
            "dtype": "i1"
           },
           "xaxis": "x2",
           "y": {
            "bdata": "AAAAAAAAAABmJIA29L3bP2Ymw4ZZv+Y/mVn2uYzy6T+ZWfa5jPLpP2ZPOC4fu/E/pmsS2unr8D9ABaxzg4XyP5rT/2HicvM/tHgrUbuQ9D/O9z0R63D2P2ixUKJRzfs/aNThxFUY9z8DHmwCWtnvP8JCoTTA5/c/Al9rSoC5/D+cdxw/xvz/P9vvxtZkkgRAqFefLuPYAkA1wX0DEZ0HQARQBr+92/Q/u1K+m+nM4T/cQ8uq1BfeP3xFuQHk0sS/33jIBxZt7r/fv/yi3z3iv8CXmg7oAoq/EDUumbX9gT/58o1vfUTgv8abIIkaH+C/bu4Id4n05T/QoGESB5n2PyoiKO1gzfg/xJziS8jv+j87BCXjTzHpP7fYp2lK8PY/UVbq7gsE9j/VD7g8O+rrPxDFD9PtO9I/u/vKCsI84T/cvkcvSYLYP3BbzEngi7Y/CoVvd8AUuj+FIt/T0BPBP6Reo/ljvLg/CPfKE9Be5j87SECi4FLnP256j2CUluk/IfKBxGG77j9CkNEFucfVP1Qj5/IaSOI/BxOqAR+15j86Rt00UujpPzpG3TRS6Ok/bRubo8rN7j9QJ2frfgDxP6rPUhKn+vM/6kFR5fVX9D+qh8d0sU7yP8RiBYa5RPI/RJr/XpBj8D9EZoY/sDTwP961tPHnhPI/eE9Oi4Ee9D9S9X9SXof4P1IrLN9iy/Y/7HtHpLKF9z/skCXsGgfzPwY52VpMZvI/jNgBTtUI6j+/FSy3uAHnP+QqG/yRLto/yMMFkJmKzz/kQanZRETRPxxmx5WBv9q/29c9M0nP5b8ocq6wRU/ov9TrWtmnHcS/vteAKsZ24j/xAkSbRKnhP6TdQ0B+NuI/15rKlIME7T/X5EmBAfXqPygAGnYUrcE/LAy7bSycqL/wUNYKF5njPyMah/4Sjug/q8uGAUur9j8r0tbrj8n6P+vUUhQjMv8/",
            "dtype": "f8"
           },
           "yaxis": "y2"
          }
         ]
        },
        {
         "data": [
          {
           "line": {
            "color": "rgba(60, 179, 113, 0.9)",
            "dash": "dot",
            "width": 2
           },
           "name": "Mid Price (Estimated)",
           "type": "scatter",
           "x": {
            "bdata": "AAECAwQFBgcICQoLDA0ODxAREhMUFRYXGBkaGxwdHh8gISIjJCUmJygpKissLS4vMDEyMzQ1Njc4OTo7PD0+P0BBQkNERUZHSElKS0xNTk9QUVJTVFVWV1hZWg==",
            "dtype": "i1"
           },
           "xaxis": "x",
           "y": {
            "bdata": "gNHvJb/4WEChxAdfE+5YQN8klwa54lhA9ltPBy3aWECPYPkixNVYQLPu1x9l4lhAJFeHSijfWEAJUu9IbOBYQDZpnDMd41hAH0XxtBTkWEDto2iXtuNYQK2xef0w3FhAZ4809ZrlWEA7QQajTPFYQPZcbImo5lhAe09PiTvgWED8N/Tckd5YQIq+FlWG2FhAZgQIE+TbWED8XSOkW9dYQGIlFKNX5VhAGbj1/xbtWEASG5QMlO5YQB0dcm5H9VhAlqRPG3z8WEAY2DLnAPlYQNsye2Ho81hA31eqLYn0WECxYqimLfpYQKWkbEEy+1hAQ17ERTvxWEB7vGWxOOxYQNKiiUPg61hAPOKwD4XrWECZA3SkRfhYQNyHlZuH71hArKawu+TyWECUzppDjfxYQH+7SZM3C1lAjLNSx8EIWUDfCmK0BwxZQGc1zvfND1lAzvRkAy8RWUDi71HVrRBZQEKUQueYE1lA6jDh1oQDWUCurCocAwhZQK+Qn5vyCFlALBF/36YHWUBId1U44RRZQCCsGC2wEFlAp4xhizwOWUBJuvxFHBtZQI4PysrpFVlASvpSQIUSWUAo/v8htRFZQGNGNVw3F1lALECBl6wYWUBDGb+FhxBZQMZhrmJADVlANVZgEH4JWUDNYyFQIAlZQKW2g8j6C1lAk3lUvcgOWUBiGZ6wiwNZQIpoa557CllAHGUUMjoMWUDyqIRhNxVZQDSGaOwvGFlARVFYGV0fWUDAVT1BeiJZQI3h2q04K1lAUJRBGrEuWUAwsjtyMS5ZQGiCC1/dPFlAFEnZvK5CWUCdC0+He0ZZQFt5CzNxPllAaARGNFM2WUBsPKeOUzhZQCmERr9iOVlAZNo1VpU1WUC/mj8XnTZZQC/KSKroQFlA4ZTUx3xFWUAoYsgeUD5ZQPbiMjG6PVlAKstkGrQ4WUCU5t6pWTZZQLeffsPUM1lA4VwG9eYwWUA=",
            "dtype": "f8"
           },
           "yaxis": "y"
          },
          {
           "line": {
            "color": "rgba(178, 34, 34, 0.9)",
            "width": 2
           },
           "name": "Bid",
           "type": "scatter",
           "x": {
            "bdata": "AAECAwQFBgcICQoLDA0ODxAREhMUFRYXGBkaGxwdHh8gISIjJCUmJygpKissLS4vMDEyMzQ1Njc4OTo7PD0+P0BBQkNERUZHSElKS0xNTk9QUVJTVFVWV1hZWg==",
            "dtype": "i1"
           },
           "xaxis": "x",
           "y": {
            "bdata": "GmuJv1jyWEA7XqH4rOdYQHm+MKBS3FhAkPXooMbTWEAp+pK8Xc9YQE2Icbn+21hAvvAg5MHYWECj64jiBdpYQNACNs223FhAud6KTq7dWECHPQIxUN1YQEdLE5fK1VhAASnOjjTfWEDV2p885upYQJD2BSNC4FhAFenoItXZWECW0Y12K9hYQCRYsO4f0lhAAJ6hrH3VWECW97w99dBYQPy+rTzx3lhAs1GPmbDmWECstC2mLehYQLe2Cwjh7lhAMD7ptBX2WECyccyAmvJYQHXMFPuB7VhAefFDxyLuWEBL/EFAx/NYQD8+BtvL9FhA3fdd39TqWEAVVv9K0uVYQGw8I9155VhA1ntKqR7lWEAznQ0+3/FYQHYhLzUh6VhARkBKVX7sWEAuaDTdJvZYQBlV4yzRBFlAJk3sYFsCWUB5pPtNoQVZQAHPZ5FnCVlAaI7+nMgKWUB8ietuRwpZQNwt3IAyDVlAhMp6cB79WEBIRsS1nAFZQEkqOTWMAllAxqoYeUABWUDiEO/Reg5ZQLpFssZJCllAQSb7JNYHWUDjU5bftRRZQCipY2SDD1lA5JPs2R4MWUDCl5m7TgtZQP3fzvXQEFlAxtkaMUYSWUDdslgfIQpZQGD7R/zZBllAz+/5qRcDWUBn/brpuQJZQD9QHWKUBVlALRPuVmIIWUD8sjdKJf1YQCQCBTgVBFlAtv6ty9MFWUCMQh770A5ZQM4fAobJEVlA3+rxsvYYWUBa79baExxZQCd7dEfSJFlA6i3bs0ooWUDKS9ULyydZQAIcpfh2NllAruJyVkg8WUA3peggFUBZQPUSpcwKOFlAAp7fzewvWUAG1kAo7TFZQMMd4Fj8MllA/nPP7y4vWUBZNNmwNjBZQMlj4kOCOllAey5uYRY/WUDC+2G46TdZQJB8zMpTN1lAxGT+s00yWUAugHhD8y9ZQFE5GF1uLVlAe/afjoAqWUA=",
            "dtype": "f8"
           },
           "yaxis": "y"
          },
          {
           "line": {
            "color": "rgba(70, 130, 180, 0.9)",
            "width": 2
           },
           "name": "Ask",
           "type": "scatter",
           "x": {
            "bdata": "AAECAwQFBgcICQoLDA0ODxAREhMUFRYXGBkaGxwdHh8gISIjJCUmJygpKissLS4vMDEyMzQ1Njc4OTo7PD0+P0BBQkNERUZHSElKS0xNTk9QUVJTVFVWV1hZWg==",
            "dtype": "i1"
           },
           "xaxis": "x",
           "y": {
            "bdata": "5jdWjCX/WEAHK27FefRYQEWL/Wwf6VhAXMK1bZPgWED1xl+JKtxYQBlVPobL6FhAir3tsI7lWEBvuFWv0uZYQJzPApqD6VhAhatXG3vqWEBTCs/9HOpYQBMY4GOX4lhAzfWaWwHsWEChp2wJs/dYQFzD0u8O7VhA4bW176HmWEBinlpD+ORYQPAkfbvs3lhAzGpueUriWEBixIkKwt1YQMiLegm+61hAfx5cZn3zWEB4gfpy+vRYQIOD2NSt+1hA/Aq2geICWUB+PplNZ/9YQEGZ4cdO+lhARb4QlO/6WEAXyQ4NlABZQAsL06eYAVlAqcQqrKH3WEDhIswXn/JYQDgJ8KlG8lhAokgXduvxWED/adoKrP5YQELu+wHu9VhAEg0XIkv5WED6NAGq8wJZQOUhsPmdEVlA8hm5LSgPWUBFccgabhJZQM2bNF40FllANFvLaZUXWUBIVrg7FBdZQKj6qE3/GVlAUJdHPesJWUAUE5GCaQ5ZQBX3BQJZD1lAknflRQ0OWUCu3bueRxtZQIYSf5MWF1lADfPH8aIUWUCvIGOsgiFZQPR1MDFQHFlAsGC5pusYWUCOZGaIGxhZQMmsm8KdHVlAkqbn/RIfWUCpfyXs7RZZQCzIFMmmE1lAm7zGduQPWUAzyoe2hg9ZQAsd6i5hEllA+d+6Iy8VWUDIfwQX8glZQPDO0QTiEFlAgst6mKASWUBYD+vHnRtZQJrszlKWHllAq7e+f8MlWUAmvKOn4ChZQPNHQRSfMVlAtvqngBc1WUCWGKLYlzRZQM7occVDQ1lAeq8/IxVJWUADcrXt4UxZQMHfcZnXRFlAzmqsmrk8WUDSog31uT5ZQI/qrCXJP1lAykCcvPs7WUAlAaZ9Az1ZQJUwrxBPR1lAR/s6LuNLWUCOyC6FtkRZQFxJmZcgRFlAkDHLgBo/WUD6TEUQwDxZQB0G5Sk7OllAR8NsW003WUA=",
            "dtype": "f8"
           },
           "yaxis": "y"
          },
          {
           "marker": {
            "color": [
             "rgba(31, 119, 180, 0.8)",
             "rgba(31, 119, 180, 0.8)",
             "rgba(31, 119, 180, 0.8)",
             "rgba(31, 119, 180, 0.8)",
             "rgba(31, 119, 180, 0.8)",
             "rgba(31, 119, 180, 0.8)",
             "rgba(178, 34, 34, 0.8)",
             "rgba(31, 119, 180, 0.8)",
             "rgba(31, 119, 180, 0.8)",
             "rgba(31, 119, 180, 0.8)",
             "rgba(31, 119, 180, 0.8)",
             "rgba(31, 119, 180, 0.8)",
             "rgba(178, 34, 34, 0.8)",
             "rgba(178, 34, 34, 0.8)",
             "rgba(31, 119, 180, 0.8)",
             "rgba(31, 119, 180, 0.8)",
             "rgba(31, 119, 180, 0.8)",
             "rgba(31, 119, 180, 0.8)",
             "rgba(178, 34, 34, 0.8)",
             "rgba(31, 119, 180, 0.8)",
             "rgba(178, 34, 34, 0.8)",
             "rgba(178, 34, 34, 0.8)",
             "rgba(178, 34, 34, 0.8)",
             "rgba(178, 34, 34, 0.8)",
             "rgba(178, 34, 34, 0.8)",
             "rgba(31, 119, 180, 0.8)",
             "rgba(31, 119, 180, 0.8)",
             "rgba(31, 119, 180, 0.8)",
             "rgba(178, 34, 34, 0.8)",
             "rgba(31, 119, 180, 0.8)",
             "rgba(31, 119, 180, 0.8)",
             "rgba(31, 119, 180, 0.8)",
             "rgba(31, 119, 180, 0.8)",
             "rgba(31, 119, 180, 0.8)",
             "rgba(178, 34, 34, 0.8)",
             "rgba(31, 119, 180, 0.8)",
             "rgba(178, 34, 34, 0.8)",
             "rgba(178, 34, 34, 0.8)",
             "rgba(178, 34, 34, 0.8)",
             "rgba(31, 119, 180, 0.8)",
             "rgba(178, 34, 34, 0.8)",
             "rgba(178, 34, 34, 0.8)",
             "rgba(31, 119, 180, 0.8)",
             "rgba(31, 119, 180, 0.8)",
             "rgba(178, 34, 34, 0.8)",
             "rgba(31, 119, 180, 0.8)",
             "rgba(31, 119, 180, 0.8)",
             "rgba(31, 119, 180, 0.8)",
             "rgba(31, 119, 180, 0.8)",
             "rgba(178, 34, 34, 0.8)",
             "rgba(31, 119, 180, 0.8)",
             "rgba(31, 119, 180, 0.8)",
             "rgba(31, 119, 180, 0.8)",
             "rgba(31, 119, 180, 0.8)",
             "rgba(31, 119, 180, 0.8)",
             "rgba(31, 119, 180, 0.8)",
             "rgba(31, 119, 180, 0.8)",
             "rgba(31, 119, 180, 0.8)",
             "rgba(178, 34, 34, 0.8)",
             "rgba(178, 34, 34, 0.8)",
             "rgba(178, 34, 34, 0.8)",
             "rgba(178, 34, 34, 0.8)",
             "rgba(31, 119, 180, 0.8)",
             "rgba(31, 119, 180, 0.8)",
             "rgba(31, 119, 180, 0.8)",
             "rgba(178, 34, 34, 0.8)",
             "rgba(31, 119, 180, 0.8)",
             "rgba(178, 34, 34, 0.8)",
             "rgba(178, 34, 34, 0.8)",
             "rgba(178, 34, 34, 0.8)",
             "rgba(178, 34, 34, 0.8)",
             "rgba(178, 34, 34, 0.8)",
             "rgba(178, 34, 34, 0.8)",
             "rgba(31, 119, 180, 0.8)",
             "rgba(178, 34, 34, 0.8)",
             "rgba(178, 34, 34, 0.8)",
             "rgba(178, 34, 34, 0.8)",
             "rgba(31, 119, 180, 0.8)",
             "rgba(31, 119, 180, 0.8)",
             "rgba(178, 34, 34, 0.8)",
             "rgba(31, 119, 180, 0.8)",
             "rgba(31, 119, 180, 0.8)",
             "rgba(178, 34, 34, 0.8)",
             "rgba(178, 34, 34, 0.8)",
             "rgba(178, 34, 34, 0.8)",
             "rgba(31, 119, 180, 0.8)",
             "rgba(31, 119, 180, 0.8)",
             "rgba(31, 119, 180, 0.8)",
             "rgba(31, 119, 180, 0.8)",
             "rgba(31, 119, 180, 0.8)",
             "rgba(31, 119, 180, 0.8)"
            ]
           },
           "name": "Trade P&L",
           "type": "bar",
           "x": {
            "bdata": "AAECAwQFBgcICQoLDA0ODxAREhMUFRYXGBkaGxwdHh8gISIjJCUmJygpKissLS4vMDEyMzQ1Njc4OTo7PD0+P0BBQkNERUZHSElKS0xNTk9QUVJTVFVWV1hZWg==",
            "dtype": "i1"
           },
           "xaxis": "x2",
           "y": {
            "bdata": "mpmZmZmZuT9mJIA29L3bP2YoBte+wNE/mpmZmZmZuT8AAAAAAAAAAGaK9ERjB9M/AHi8hKrmqb+amZmZmZm5PzTLecrdq60/mlG68o7dsT+a8ScB/AK+P2bmSkSacdU/AHS7de/T0r+aFa8Oo67cvwDPrM1M7N8/AHEoVwBH0z/NxIilLxrKPzPQ4twGUOI/M4N5ghqYy78zpnlTtxDjP2Yy9UdkXvq/TU1O4pHq579mhsUy+ge2v03z01WjQOS/gCdaB1046b8AcpfJbF7YP4BVwgLU1eE/aGbk004Alj/Nq/JFdIzgv6CZqzZzsXI/GsUUANIJ8z8zU7qthD3nP80KNNbOosE/zdTT9ToTwT9NNaC0QK7svzOtKvBEr+Q/zEywV8+Hrb/NnByh3B3gv00tMFNEzOK/ZjKGQpY90D8zcZzMde7DvwCo1BxR39K/0EwZbQFHjD8AgJ1gwiWgP8zMNVx71qK/M4uWlENH4z9oJqrOEYKeP5qRefKdHbI/zd7JjzWTxD8AKplBhdfjv81s+b/5kM0/zb4LOxC0wT+amZmZmZm5PwAAAAAAAAAAzVT3uuGVwz+amZmZmZm5P81CXTdB0cc/AJCcv7RTlz8A0k2EI0rAv8DMSYTd72O/AIhccJISvr8AAJq8D3CHv818cpG9gcI/mpmZmZmZuT9ml8Ycc6PRPwCgPDW3v7u/NBNqo/hJpz8ArIfgXvrRv8z8iinSGaS/ADNhz4aH1b9mFq625Di4v5oAPXLf1NO/AJIwaIrSxL8AAGYage+XPwBUuDfjAea/mkm00BDf0L9m0oTr4/+zvzO3V7rbR+M/s5LXIDB+5z+YmZrnMbCZv2hW+580p5E/ZnoNqQqc1T8AsAWcEHywv81kw2O8iea/M8OIkR/Ux7+zAbLR2SLlP80kw87v08M/M32GBIPI5D8AGkCpE3nQPwAL8KFMotE/ANrTSaWA1D8=",
            "dtype": "f8"
           },
           "yaxis": "y2"
          },
          {
           "line": {
            "color": "rgba(60, 179, 113, 0.9)",
            "width": 2
           },
           "name": "Cumulative P&L",
           "type": "scatter",
           "x": {
            "bdata": "AAECAwQFBgcICQoLDA0ODxAREhMUFRYXGBkaGxwdHh8gISIjJCUmJygpKissLS4vMDEyMzQ1Njc4OTo7PD0+P0BBQkNERUZHSElKS0xNTk9QUVJTVFVWV1hZWg==",
            "dtype": "i1"
           },
           "xaxis": "x2",
           "y": {
            "bdata": "AAAAAAAAAABmJIA29L3bP2Ymw4ZZv+Y/mVn2uYzy6T+ZWfa5jPLpP2ZPOC4fu/E/pmsS2unr8D9ABaxzg4XyP5rT/2HicvM/tHgrUbuQ9D/O9z0R63D2P2ixUKJRzfs/aNThxFUY9z8DHmwCWtnvP8JCoTTA5/c/Al9rSoC5/D+cdxw/xvz/P9vvxtZkkgRAqFefLuPYAkA1wX0DEZ0HQARQBr+92/Q/u1K+m+nM4T/cQ8uq1BfeP3xFuQHk0sS/33jIBxZt7r/fv/yi3z3iv8CXmg7oAoq/EDUumbX9gT/58o1vfUTgv8abIIkaH+C/bu4Id4n05T/QoGESB5n2PyoiKO1gzfg/xJziS8jv+j87BCXjTzHpP7fYp2lK8PY/UVbq7gsE9j/VD7g8O+rrPxDFD9PtO9I/u/vKCsI84T/cvkcvSYLYP3BbzEngi7Y/CoVvd8AUuj+FIt/T0BPBP6Reo/ljvLg/CPfKE9Be5j87SECi4FLnP256j2CUluk/IfKBxGG77j9CkNEFucfVP1Qj5/IaSOI/BxOqAR+15j86Rt00UujpPzpG3TRS6Ok/bRubo8rN7j9QJ2frfgDxP6rPUhKn+vM/6kFR5fVX9D+qh8d0sU7yP8RiBYa5RPI/RJr/XpBj8D9EZoY/sDTwP961tPHnhPI/eE9Oi4Ee9D9S9X9SXof4P1IrLN9iy/Y/7HtHpLKF9z/skCXsGgfzPwY52VpMZvI/jNgBTtUI6j+/FSy3uAHnP+QqG/yRLto/yMMFkJmKzz/kQanZRETRPxxmx5WBv9q/29c9M0nP5b8ocq6wRU/ov9TrWtmnHcS/vteAKsZ24j/xAkSbRKnhP6TdQ0B+NuI/15rKlIME7T/X5EmBAfXqPygAGnYUrcE/LAy7bSycqL/wUNYKF5njPyMah/4Sjug/q8uGAUur9j8r0tbrj8n6P+vUUhQjMv8/tuVjMyYpAkA=",
            "dtype": "f8"
           },
           "yaxis": "y2"
          }
         ]
        },
        {
         "data": [
          {
           "line": {
            "color": "rgba(60, 179, 113, 0.9)",
            "dash": "dot",
            "width": 2
           },
           "name": "Mid Price (Estimated)",
           "type": "scatter",
           "x": {
            "bdata": "AAECAwQFBgcICQoLDA0ODxAREhMUFRYXGBkaGxwdHh8gISIjJCUmJygpKissLS4vMDEyMzQ1Njc4OTo7PD0+P0BBQkNERUZHSElKS0xNTk9QUVJTVFVWV1hZWls=",
            "dtype": "i1"
           },
           "xaxis": "x",
           "y": {
            "bdata": "gNHvJb/4WEChxAdfE+5YQN8klwa54lhA9ltPBy3aWECPYPkixNVYQLPu1x9l4lhAJFeHSijfWEAJUu9IbOBYQDZpnDMd41hAH0XxtBTkWEDto2iXtuNYQK2xef0w3FhAZ4809ZrlWEA7QQajTPFYQPZcbImo5lhAe09PiTvgWED8N/Tckd5YQIq+FlWG2FhAZgQIE+TbWED8XSOkW9dYQGIlFKNX5VhAGbj1/xbtWEASG5QMlO5YQB0dcm5H9VhAlqRPG3z8WEAY2DLnAPlYQNsye2Ho81hA31eqLYn0WECxYqimLfpYQKWkbEEy+1hAQ17ERTvxWEB7vGWxOOxYQNKiiUPg61hAPOKwD4XrWECZA3SkRfhYQNyHlZuH71hArKawu+TyWECUzppDjfxYQH+7SZM3C1lAjLNSx8EIWUDfCmK0BwxZQGc1zvfND1lAzvRkAy8RWUDi71HVrRBZQEKUQueYE1lA6jDh1oQDWUCurCocAwhZQK+Qn5vyCFlALBF/36YHWUBId1U44RRZQCCsGC2wEFlAp4xhizwOWUBJuvxFHBtZQI4PysrpFVlASvpSQIUSWUAo/v8htRFZQGNGNVw3F1lALECBl6wYWUBDGb+FhxBZQMZhrmJADVlANVZgEH4JWUDNYyFQIAlZQKW2g8j6C1lAk3lUvcgOWUBiGZ6wiwNZQIpoa557CllAHGUUMjoMWUDyqIRhNxVZQDSGaOwvGFlARVFYGV0fWUDAVT1BeiJZQI3h2q04K1lAUJRBGrEuWUAwsjtyMS5ZQGiCC1/dPFlAFEnZvK5CWUCdC0+He0ZZQFt5CzNxPllAaARGNFM2WUBsPKeOUzhZQCmERr9iOVlAZNo1VpU1WUC/mj8XnTZZQC/KSKroQFlA4ZTUx3xFWUAoYsgeUD5ZQPbiMjG6PVlAKstkGrQ4WUCU5t6pWTZZQLeffsPUM1lA4VwG9eYwWUDTpLNP/yhZQA==",
            "dtype": "f8"
           },
           "yaxis": "y"
          },
          {
           "line": {
            "color": "rgba(178, 34, 34, 0.9)",
            "width": 2
           },
           "name": "Bid",
           "type": "scatter",
           "x": {
            "bdata": "AAECAwQFBgcICQoLDA0ODxAREhMUFRYXGBkaGxwdHh8gISIjJCUmJygpKissLS4vMDEyMzQ1Njc4OTo7PD0+P0BBQkNERUZHSElKS0xNTk9QUVJTVFVWV1hZWls=",
            "dtype": "i1"
           },
           "xaxis": "x",
           "y": {
            "bdata": "GmuJv1jyWEA7XqH4rOdYQHm+MKBS3FhAkPXooMbTWEAp+pK8Xc9YQE2Icbn+21hAvvAg5MHYWECj64jiBdpYQNACNs223FhAud6KTq7dWECHPQIxUN1YQEdLE5fK1VhAASnOjjTfWEDV2p885upYQJD2BSNC4FhAFenoItXZWECW0Y12K9hYQCRYsO4f0lhAAJ6hrH3VWECW97w99dBYQPy+rTzx3lhAs1GPmbDmWECstC2mLehYQLe2Cwjh7lhAMD7ptBX2WECyccyAmvJYQHXMFPuB7VhAefFDxyLuWEBL/EFAx/NYQD8+BtvL9FhA3fdd39TqWEAVVv9K0uVYQGw8I9155VhA1ntKqR7lWEAznQ0+3/FYQHYhLzUh6VhARkBKVX7sWEAuaDTdJvZYQBlV4yzRBFlAJk3sYFsCWUB5pPtNoQVZQAHPZ5FnCVlAaI7+nMgKWUB8ietuRwpZQNwt3IAyDVlAhMp6cB79WEBIRsS1nAFZQEkqOTWMAllAxqoYeUABWUDiEO/Reg5ZQLpFssZJCllAQSb7JNYHWUDjU5bftRRZQCipY2SDD1lA5JPs2R4MWUDCl5m7TgtZQP3fzvXQEFlAxtkaMUYSWUDdslgfIQpZQGD7R/zZBllAz+/5qRcDWUBn/brpuQJZQD9QHWKUBVlALRPuVmIIWUD8sjdKJf1YQCQCBTgVBFlAtv6ty9MFWUCMQh770A5ZQM4fAobJEVlA3+rxsvYYWUBa79baExxZQCd7dEfSJFlA6i3bs0ooWUDKS9ULyydZQAIcpfh2NllAruJyVkg8WUA3peggFUBZQPUSpcwKOFlAAp7fzewvWUAG1kAo7TFZQMMd4Fj8MllA/nPP7y4vWUBZNNmwNjBZQMlj4kOCOllAey5uYRY/WUDC+2G46TdZQJB8zMpTN1lAxGT+s00yWUAugHhD8y9ZQFE5GF1uLVlAe/afjoAqWUBtPk3pmCJZQA==",
            "dtype": "f8"
           },
           "yaxis": "y"
          },
          {
           "line": {
            "color": "rgba(70, 130, 180, 0.9)",
            "width": 2
           },
           "name": "Ask",
           "type": "scatter",
           "x": {
            "bdata": "AAECAwQFBgcICQoLDA0ODxAREhMUFRYXGBkaGxwdHh8gISIjJCUmJygpKissLS4vMDEyMzQ1Njc4OTo7PD0+P0BBQkNERUZHSElKS0xNTk9QUVJTVFVWV1hZWls=",
            "dtype": "i1"
           },
           "xaxis": "x",
           "y": {
            "bdata": "5jdWjCX/WEAHK27FefRYQEWL/Wwf6VhAXMK1bZPgWED1xl+JKtxYQBlVPobL6FhAir3tsI7lWEBvuFWv0uZYQJzPApqD6VhAhatXG3vqWEBTCs/9HOpYQBMY4GOX4lhAzfWaWwHsWEChp2wJs/dYQFzD0u8O7VhA4bW176HmWEBinlpD+ORYQPAkfbvs3lhAzGpueUriWEBixIkKwt1YQMiLegm+61hAfx5cZn3zWEB4gfpy+vRYQIOD2NSt+1hA/Aq2geICWUB+PplNZ/9YQEGZ4cdO+lhARb4QlO/6WEAXyQ4NlABZQAsL06eYAVlAqcQqrKH3WEDhIswXn/JYQDgJ8KlG8lhAokgXduvxWED/adoKrP5YQELu+wHu9VhAEg0XIkv5WED6NAGq8wJZQOUhsPmdEVlA8hm5LSgPWUBFccgabhJZQM2bNF40FllANFvLaZUXWUBIVrg7FBdZQKj6qE3/GVlAUJdHPesJWUAUE5GCaQ5ZQBX3BQJZD1lAknflRQ0OWUCu3bueRxtZQIYSf5MWF1lADfPH8aIUWUCvIGOsgiFZQPR1MDFQHFlAsGC5pusYWUCOZGaIGxhZQMmsm8KdHVlAkqbn/RIfWUCpfyXs7RZZQCzIFMmmE1lAm7zGduQPWUAzyoe2hg9ZQAsd6i5hEllA+d+6Iy8VWUDIfwQX8glZQPDO0QTiEFlAgst6mKASWUBYD+vHnRtZQJrszlKWHllAq7e+f8MlWUAmvKOn4ChZQPNHQRSfMVlAtvqngBc1WUCWGKLYlzRZQM7occVDQ1lAeq8/IxVJWUADcrXt4UxZQMHfcZnXRFlAzmqsmrk8WUDSog31uT5ZQI/qrCXJP1lAykCcvPs7WUAlAaZ9Az1ZQJUwrxBPR1lAR/s6LuNLWUCOyC6FtkRZQFxJmZcgRFlAkDHLgBo/WUD6TEUQwDxZQB0G5Sk7OllAR8NsW003WUA5Cxq2ZS9ZQA==",
            "dtype": "f8"
           },
           "yaxis": "y"
          },
          {
           "marker": {
            "color": [
             "rgba(31, 119, 180, 0.8)",
             "rgba(31, 119, 180, 0.8)",
             "rgba(31, 119, 180, 0.8)",
             "rgba(31, 119, 180, 0.8)",
             "rgba(31, 119, 180, 0.8)",
             "rgba(31, 119, 180, 0.8)",
             "rgba(178, 34, 34, 0.8)",
             "rgba(31, 119, 180, 0.8)",
             "rgba(31, 119, 180, 0.8)",
             "rgba(31, 119, 180, 0.8)",
             "rgba(31, 119, 180, 0.8)",
             "rgba(31, 119, 180, 0.8)",
             "rgba(178, 34, 34, 0.8)",
             "rgba(178, 34, 34, 0.8)",
             "rgba(31, 119, 180, 0.8)",
             "rgba(31, 119, 180, 0.8)",
             "rgba(31, 119, 180, 0.8)",
             "rgba(31, 119, 180, 0.8)",
             "rgba(178, 34, 34, 0.8)",
             "rgba(31, 119, 180, 0.8)",
             "rgba(178, 34, 34, 0.8)",
             "rgba(178, 34, 34, 0.8)",
             "rgba(178, 34, 34, 0.8)",
             "rgba(178, 34, 34, 0.8)",
             "rgba(178, 34, 34, 0.8)",
             "rgba(31, 119, 180, 0.8)",
             "rgba(31, 119, 180, 0.8)",
             "rgba(31, 119, 180, 0.8)",
             "rgba(178, 34, 34, 0.8)",
             "rgba(31, 119, 180, 0.8)",
             "rgba(31, 119, 180, 0.8)",
             "rgba(31, 119, 180, 0.8)",
             "rgba(31, 119, 180, 0.8)",
             "rgba(31, 119, 180, 0.8)",
             "rgba(178, 34, 34, 0.8)",
             "rgba(31, 119, 180, 0.8)",
             "rgba(178, 34, 34, 0.8)",
             "rgba(178, 34, 34, 0.8)",
             "rgba(178, 34, 34, 0.8)",
             "rgba(31, 119, 180, 0.8)",
             "rgba(178, 34, 34, 0.8)",
             "rgba(178, 34, 34, 0.8)",
             "rgba(31, 119, 180, 0.8)",
             "rgba(31, 119, 180, 0.8)",
             "rgba(178, 34, 34, 0.8)",
             "rgba(31, 119, 180, 0.8)",
             "rgba(31, 119, 180, 0.8)",
             "rgba(31, 119, 180, 0.8)",
             "rgba(31, 119, 180, 0.8)",
             "rgba(178, 34, 34, 0.8)",
             "rgba(31, 119, 180, 0.8)",
             "rgba(31, 119, 180, 0.8)",
             "rgba(31, 119, 180, 0.8)",
             "rgba(31, 119, 180, 0.8)",
             "rgba(31, 119, 180, 0.8)",
             "rgba(31, 119, 180, 0.8)",
             "rgba(31, 119, 180, 0.8)",
             "rgba(31, 119, 180, 0.8)",
             "rgba(178, 34, 34, 0.8)",
             "rgba(178, 34, 34, 0.8)",
             "rgba(178, 34, 34, 0.8)",
             "rgba(178, 34, 34, 0.8)",
             "rgba(31, 119, 180, 0.8)",
             "rgba(31, 119, 180, 0.8)",
             "rgba(31, 119, 180, 0.8)",
             "rgba(178, 34, 34, 0.8)",
             "rgba(31, 119, 180, 0.8)",
             "rgba(178, 34, 34, 0.8)",
             "rgba(178, 34, 34, 0.8)",
             "rgba(178, 34, 34, 0.8)",
             "rgba(178, 34, 34, 0.8)",
             "rgba(178, 34, 34, 0.8)",
             "rgba(178, 34, 34, 0.8)",
             "rgba(31, 119, 180, 0.8)",
             "rgba(178, 34, 34, 0.8)",
             "rgba(178, 34, 34, 0.8)",
             "rgba(178, 34, 34, 0.8)",
             "rgba(31, 119, 180, 0.8)",
             "rgba(31, 119, 180, 0.8)",
             "rgba(178, 34, 34, 0.8)",
             "rgba(31, 119, 180, 0.8)",
             "rgba(31, 119, 180, 0.8)",
             "rgba(178, 34, 34, 0.8)",
             "rgba(178, 34, 34, 0.8)",
             "rgba(178, 34, 34, 0.8)",
             "rgba(31, 119, 180, 0.8)",
             "rgba(31, 119, 180, 0.8)",
             "rgba(31, 119, 180, 0.8)",
             "rgba(31, 119, 180, 0.8)",
             "rgba(31, 119, 180, 0.8)",
             "rgba(31, 119, 180, 0.8)",
             "rgba(31, 119, 180, 0.8)"
            ]
           },
           "name": "Trade P&L",
           "type": "bar",
           "x": {
            "bdata": "AAECAwQFBgcICQoLDA0ODxAREhMUFRYXGBkaGxwdHh8gISIjJCUmJygpKissLS4vMDEyMzQ1Njc4OTo7PD0+P0BBQkNERUZHSElKS0xNTk9QUVJTVFVWV1hZWls=",
            "dtype": "i1"
           },
           "xaxis": "x2",
           "y": {
            "bdata": "mpmZmZmZuT9mJIA29L3bP2YoBte+wNE/mpmZmZmZuT8AAAAAAAAAAGaK9ERjB9M/AHi8hKrmqb+amZmZmZm5PzTLecrdq60/mlG68o7dsT+a8ScB/AK+P2bmSkSacdU/AHS7de/T0r+aFa8Oo67cvwDPrM1M7N8/AHEoVwBH0z/NxIilLxrKPzPQ4twGUOI/M4N5ghqYy78zpnlTtxDjP2Yy9UdkXvq/TU1O4pHq579mhsUy+ge2v03z01WjQOS/gCdaB1046b8AcpfJbF7YP4BVwgLU1eE/aGbk004Alj/Nq/JFdIzgv6CZqzZzsXI/GsUUANIJ8z8zU7qthD3nP80KNNbOosE/zdTT9ToTwT9NNaC0QK7svzOtKvBEr+Q/zEywV8+Hrb/NnByh3B3gv00tMFNEzOK/ZjKGQpY90D8zcZzMde7DvwCo1BxR39K/0EwZbQFHjD8AgJ1gwiWgP8zMNVx71qK/M4uWlENH4z9oJqrOEYKeP5qRefKdHbI/zd7JjzWTxD8AKplBhdfjv81s+b/5kM0/zb4LOxC0wT+amZmZmZm5PwAAAAAAAAAAzVT3uuGVwz+amZmZmZm5P81CXTdB0cc/AJCcv7RTlz8A0k2EI0rAv8DMSYTd72O/AIhccJISvr8AAJq8D3CHv818cpG9gcI/mpmZmZmZuT9ml8Ycc6PRPwCgPDW3v7u/NBNqo/hJpz8ArIfgXvrRv8z8iinSGaS/ADNhz4aH1b9mFq625Di4v5oAPXLf1NO/AJIwaIrSxL8AAGYage+XPwBUuDfjAea/mkm00BDf0L9m0oTr4/+zvzO3V7rbR+M/s5LXIDB+5z+YmZrnMbCZv2hW+580p5E/ZnoNqQqc1T8AsAWcEHywv81kw2O8iea/M8OIkR/Ux7+zAbLR2SLlP80kw87v08M/M32GBIPI5D8AGkCpE3nQPwAL8KFMotE/ANrTSaWA1D8AMYShwqrrPw==",
            "dtype": "f8"
           },
           "yaxis": "y2"
          },
          {
           "line": {
            "color": "rgba(60, 179, 113, 0.9)",
            "width": 2
           },
           "name": "Cumulative P&L",
           "type": "scatter",
           "x": {
            "bdata": "AAECAwQFBgcICQoLDA0ODxAREhMUFRYXGBkaGxwdHh8gISIjJCUmJygpKissLS4vMDEyMzQ1Njc4OTo7PD0+P0BBQkNERUZHSElKS0xNTk9QUVJTVFVWV1hZWls=",
            "dtype": "i1"
           },
           "xaxis": "x2",
           "y": {
            "bdata": "AAAAAAAAAABmJIA29L3bP2Ymw4ZZv+Y/mVn2uYzy6T+ZWfa5jPLpP2ZPOC4fu/E/pmsS2unr8D9ABaxzg4XyP5rT/2HicvM/tHgrUbuQ9D/O9z0R63D2P2ixUKJRzfs/aNThxFUY9z8DHmwCWtnvP8JCoTTA5/c/Al9rSoC5/D+cdxw/xvz/P9vvxtZkkgRAqFefLuPYAkA1wX0DEZ0HQARQBr+92/Q/u1K+m+nM4T/cQ8uq1BfeP3xFuQHk0sS/33jIBxZt7r/fv/yi3z3iv8CXmg7oAoq/EDUumbX9gT/58o1vfUTgv8abIIkaH+C/bu4Id4n05T/QoGESB5n2PyoiKO1gzfg/xJziS8jv+j87BCXjTzHpP7fYp2lK8PY/UVbq7gsE9j/VD7g8O+rrPxDFD9PtO9I/u/vKCsI84T/cvkcvSYLYP3BbzEngi7Y/CoVvd8AUuj+FIt/T0BPBP6Reo/ljvLg/CPfKE9Be5j87SECi4FLnP256j2CUluk/IfKBxGG77j9CkNEFucfVP1Qj5/IaSOI/BxOqAR+15j86Rt00UujpPzpG3TRS6Ok/bRubo8rN7j9QJ2frfgDxP6rPUhKn+vM/6kFR5fVX9D+qh8d0sU7yP8RiBYa5RPI/RJr/XpBj8D9EZoY/sDTwP961tPHnhPI/eE9Oi4Ee9D9S9X9SXof4P1IrLN9iy/Y/7HtHpLKF9z/skCXsGgfzPwY52VpMZvI/jNgBTtUI6j+/FSy3uAHnP+QqG/yRLto/yMMFkJmKzz/kQanZRETRPxxmx5WBv9q/29c9M0nP5b8ocq6wRU/ov9TrWtmnHcS/vteAKsZ24j/xAkSbRKnhP6TdQ0B+NuI/15rKlIME7T/X5EmBAfXqPygAGnYUrcE/LAy7bSycqL/wUNYKF5njPyMah/4Sjug/q8uGAUur9j8r0tbrj8n6P+vUUhQjMv8/tuVjMyYpAkD28cTb1hMJQA==",
            "dtype": "f8"
           },
           "yaxis": "y2"
          }
         ]
        },
        {
         "data": [
          {
           "line": {
            "color": "rgba(60, 179, 113, 0.9)",
            "dash": "dot",
            "width": 2
           },
           "name": "Mid Price (Estimated)",
           "type": "scatter",
           "x": {
            "bdata": "AAECAwQFBgcICQoLDA0ODxAREhMUFRYXGBkaGxwdHh8gISIjJCUmJygpKissLS4vMDEyMzQ1Njc4OTo7PD0+P0BBQkNERUZHSElKS0xNTk9QUVJTVFVWV1hZWltc",
            "dtype": "i1"
           },
           "xaxis": "x",
           "y": {
            "bdata": "gNHvJb/4WEChxAdfE+5YQN8klwa54lhA9ltPBy3aWECPYPkixNVYQLPu1x9l4lhAJFeHSijfWEAJUu9IbOBYQDZpnDMd41hAH0XxtBTkWEDto2iXtuNYQK2xef0w3FhAZ4809ZrlWEA7QQajTPFYQPZcbImo5lhAe09PiTvgWED8N/Tckd5YQIq+FlWG2FhAZgQIE+TbWED8XSOkW9dYQGIlFKNX5VhAGbj1/xbtWEASG5QMlO5YQB0dcm5H9VhAlqRPG3z8WEAY2DLnAPlYQNsye2Ho81hA31eqLYn0WECxYqimLfpYQKWkbEEy+1hAQ17ERTvxWEB7vGWxOOxYQNKiiUPg61hAPOKwD4XrWECZA3SkRfhYQNyHlZuH71hArKawu+TyWECUzppDjfxYQH+7SZM3C1lAjLNSx8EIWUDfCmK0BwxZQGc1zvfND1lAzvRkAy8RWUDi71HVrRBZQEKUQueYE1lA6jDh1oQDWUCurCocAwhZQK+Qn5vyCFlALBF/36YHWUBId1U44RRZQCCsGC2wEFlAp4xhizwOWUBJuvxFHBtZQI4PysrpFVlASvpSQIUSWUAo/v8htRFZQGNGNVw3F1lALECBl6wYWUBDGb+FhxBZQMZhrmJADVlANVZgEH4JWUDNYyFQIAlZQKW2g8j6C1lAk3lUvcgOWUBiGZ6wiwNZQIpoa557CllAHGUUMjoMWUDyqIRhNxVZQDSGaOwvGFlARVFYGV0fWUDAVT1BeiJZQI3h2q04K1lAUJRBGrEuWUAwsjtyMS5ZQGiCC1/dPFlAFEnZvK5CWUCdC0+He0ZZQFt5CzNxPllAaARGNFM2WUBsPKeOUzhZQCmERr9iOVlAZNo1VpU1WUC/mj8XnTZZQC/KSKroQFlA4ZTUx3xFWUAoYsgeUD5ZQPbiMjG6PVlAKstkGrQ4WUCU5t6pWTZZQLeffsPUM1lA4VwG9eYwWUDTpLNP/yhZQPs7Du5OKFlA",
            "dtype": "f8"
           },
           "yaxis": "y"
          },
          {
           "line": {
            "color": "rgba(178, 34, 34, 0.9)",
            "width": 2
           },
           "name": "Bid",
           "type": "scatter",
           "x": {
            "bdata": "AAECAwQFBgcICQoLDA0ODxAREhMUFRYXGBkaGxwdHh8gISIjJCUmJygpKissLS4vMDEyMzQ1Njc4OTo7PD0+P0BBQkNERUZHSElKS0xNTk9QUVJTVFVWV1hZWltc",
            "dtype": "i1"
           },
           "xaxis": "x",
           "y": {
            "bdata": "GmuJv1jyWEA7XqH4rOdYQHm+MKBS3FhAkPXooMbTWEAp+pK8Xc9YQE2Icbn+21hAvvAg5MHYWECj64jiBdpYQNACNs223FhAud6KTq7dWECHPQIxUN1YQEdLE5fK1VhAASnOjjTfWEDV2p885upYQJD2BSNC4FhAFenoItXZWECW0Y12K9hYQCRYsO4f0lhAAJ6hrH3VWECW97w99dBYQPy+rTzx3lhAs1GPmbDmWECstC2mLehYQLe2Cwjh7lhAMD7ptBX2WECyccyAmvJYQHXMFPuB7VhAefFDxyLuWEBL/EFAx/NYQD8+BtvL9FhA3fdd39TqWEAVVv9K0uVYQGw8I9155VhA1ntKqR7lWEAznQ0+3/FYQHYhLzUh6VhARkBKVX7sWEAuaDTdJvZYQBlV4yzRBFlAJk3sYFsCWUB5pPtNoQVZQAHPZ5FnCVlAaI7+nMgKWUB8ietuRwpZQNwt3IAyDVlAhMp6cB79WEBIRsS1nAFZQEkqOTWMAllAxqoYeUABWUDiEO/Reg5ZQLpFssZJCllAQSb7JNYHWUDjU5bftRRZQCipY2SDD1lA5JPs2R4MWUDCl5m7TgtZQP3fzvXQEFlAxtkaMUYSWUDdslgfIQpZQGD7R/zZBllAz+/5qRcDWUBn/brpuQJZQD9QHWKUBVlALRPuVmIIWUD8sjdKJf1YQCQCBTgVBFlAtv6ty9MFWUCMQh770A5ZQM4fAobJEVlA3+rxsvYYWUBa79baExxZQCd7dEfSJFlA6i3bs0ooWUDKS9ULyydZQAIcpfh2NllAruJyVkg8WUA3peggFUBZQPUSpcwKOFlAAp7fzewvWUAG1kAo7TFZQMMd4Fj8MllA/nPP7y4vWUBZNNmwNjBZQMlj4kOCOllAey5uYRY/WUDC+2G46TdZQJB8zMpTN1lAxGT+s00yWUAugHhD8y9ZQFE5GF1uLVlAe/afjoAqWUBtPk3pmCJZQJXVp4foIVlA",
            "dtype": "f8"
           },
           "yaxis": "y"
          },
          {
           "line": {
            "color": "rgba(70, 130, 180, 0.9)",
            "width": 2
           },
           "name": "Ask",
           "type": "scatter",
           "x": {
            "bdata": "AAECAwQFBgcICQoLDA0ODxAREhMUFRYXGBkaGxwdHh8gISIjJCUmJygpKissLS4vMDEyMzQ1Njc4OTo7PD0+P0BBQkNERUZHSElKS0xNTk9QUVJTVFVWV1hZWltc",
            "dtype": "i1"
           },
           "xaxis": "x",
           "y": {
            "bdata": "5jdWjCX/WEAHK27FefRYQEWL/Wwf6VhAXMK1bZPgWED1xl+JKtxYQBlVPobL6FhAir3tsI7lWEBvuFWv0uZYQJzPApqD6VhAhatXG3vqWEBTCs/9HOpYQBMY4GOX4lhAzfWaWwHsWEChp2wJs/dYQFzD0u8O7VhA4bW176HmWEBinlpD+ORYQPAkfbvs3lhAzGpueUriWEBixIkKwt1YQMiLegm+61hAfx5cZn3zWEB4gfpy+vRYQIOD2NSt+1hA/Aq2geICWUB+PplNZ/9YQEGZ4cdO+lhARb4QlO/6WEAXyQ4NlABZQAsL06eYAVlAqcQqrKH3WEDhIswXn/JYQDgJ8KlG8lhAokgXduvxWED/adoKrP5YQELu+wHu9VhAEg0XIkv5WED6NAGq8wJZQOUhsPmdEVlA8hm5LSgPWUBFccgabhJZQM2bNF40FllANFvLaZUXWUBIVrg7FBdZQKj6qE3/GVlAUJdHPesJWUAUE5GCaQ5ZQBX3BQJZD1lAknflRQ0OWUCu3bueRxtZQIYSf5MWF1lADfPH8aIUWUCvIGOsgiFZQPR1MDFQHFlAsGC5pusYWUCOZGaIGxhZQMmsm8KdHVlAkqbn/RIfWUCpfyXs7RZZQCzIFMmmE1lAm7zGduQPWUAzyoe2hg9ZQAsd6i5hEllA+d+6Iy8VWUDIfwQX8glZQPDO0QTiEFlAgst6mKASWUBYD+vHnRtZQJrszlKWHllAq7e+f8MlWUAmvKOn4ChZQPNHQRSfMVlAtvqngBc1WUCWGKLYlzRZQM7occVDQ1lAeq8/IxVJWUADcrXt4UxZQMHfcZnXRFlAzmqsmrk8WUDSog31uT5ZQI/qrCXJP1lAykCcvPs7WUAlAaZ9Az1ZQJUwrxBPR1lAR/s6LuNLWUCOyC6FtkRZQFxJmZcgRFlAkDHLgBo/WUD6TEUQwDxZQB0G5Sk7OllAR8NsW003WUA5Cxq2ZS9ZQGGidFS1LllA",
            "dtype": "f8"
           },
           "yaxis": "y"
          },
          {
           "marker": {
            "color": [
             "rgba(31, 119, 180, 0.8)",
             "rgba(31, 119, 180, 0.8)",
             "rgba(31, 119, 180, 0.8)",
             "rgba(31, 119, 180, 0.8)",
             "rgba(31, 119, 180, 0.8)",
             "rgba(31, 119, 180, 0.8)",
             "rgba(178, 34, 34, 0.8)",
             "rgba(31, 119, 180, 0.8)",
             "rgba(31, 119, 180, 0.8)",
             "rgba(31, 119, 180, 0.8)",
             "rgba(31, 119, 180, 0.8)",
             "rgba(31, 119, 180, 0.8)",
             "rgba(178, 34, 34, 0.8)",
             "rgba(178, 34, 34, 0.8)",
             "rgba(31, 119, 180, 0.8)",
             "rgba(31, 119, 180, 0.8)",
             "rgba(31, 119, 180, 0.8)",
             "rgba(31, 119, 180, 0.8)",
             "rgba(178, 34, 34, 0.8)",
             "rgba(31, 119, 180, 0.8)",
             "rgba(178, 34, 34, 0.8)",
             "rgba(178, 34, 34, 0.8)",
             "rgba(178, 34, 34, 0.8)",
             "rgba(178, 34, 34, 0.8)",
             "rgba(178, 34, 34, 0.8)",
             "rgba(31, 119, 180, 0.8)",
             "rgba(31, 119, 180, 0.8)",
             "rgba(31, 119, 180, 0.8)",
             "rgba(178, 34, 34, 0.8)",
             "rgba(31, 119, 180, 0.8)",
             "rgba(31, 119, 180, 0.8)",
             "rgba(31, 119, 180, 0.8)",
             "rgba(31, 119, 180, 0.8)",
             "rgba(31, 119, 180, 0.8)",
             "rgba(178, 34, 34, 0.8)",
             "rgba(31, 119, 180, 0.8)",
             "rgba(178, 34, 34, 0.8)",
             "rgba(178, 34, 34, 0.8)",
             "rgba(178, 34, 34, 0.8)",
             "rgba(31, 119, 180, 0.8)",
             "rgba(178, 34, 34, 0.8)",
             "rgba(178, 34, 34, 0.8)",
             "rgba(31, 119, 180, 0.8)",
             "rgba(31, 119, 180, 0.8)",
             "rgba(178, 34, 34, 0.8)",
             "rgba(31, 119, 180, 0.8)",
             "rgba(31, 119, 180, 0.8)",
             "rgba(31, 119, 180, 0.8)",
             "rgba(31, 119, 180, 0.8)",
             "rgba(178, 34, 34, 0.8)",
             "rgba(31, 119, 180, 0.8)",
             "rgba(31, 119, 180, 0.8)",
             "rgba(31, 119, 180, 0.8)",
             "rgba(31, 119, 180, 0.8)",
             "rgba(31, 119, 180, 0.8)",
             "rgba(31, 119, 180, 0.8)",
             "rgba(31, 119, 180, 0.8)",
             "rgba(31, 119, 180, 0.8)",
             "rgba(178, 34, 34, 0.8)",
             "rgba(178, 34, 34, 0.8)",
             "rgba(178, 34, 34, 0.8)",
             "rgba(178, 34, 34, 0.8)",
             "rgba(31, 119, 180, 0.8)",
             "rgba(31, 119, 180, 0.8)",
             "rgba(31, 119, 180, 0.8)",
             "rgba(178, 34, 34, 0.8)",
             "rgba(31, 119, 180, 0.8)",
             "rgba(178, 34, 34, 0.8)",
             "rgba(178, 34, 34, 0.8)",
             "rgba(178, 34, 34, 0.8)",
             "rgba(178, 34, 34, 0.8)",
             "rgba(178, 34, 34, 0.8)",
             "rgba(178, 34, 34, 0.8)",
             "rgba(31, 119, 180, 0.8)",
             "rgba(178, 34, 34, 0.8)",
             "rgba(178, 34, 34, 0.8)",
             "rgba(178, 34, 34, 0.8)",
             "rgba(31, 119, 180, 0.8)",
             "rgba(31, 119, 180, 0.8)",
             "rgba(178, 34, 34, 0.8)",
             "rgba(31, 119, 180, 0.8)",
             "rgba(31, 119, 180, 0.8)",
             "rgba(178, 34, 34, 0.8)",
             "rgba(178, 34, 34, 0.8)",
             "rgba(178, 34, 34, 0.8)",
             "rgba(31, 119, 180, 0.8)",
             "rgba(31, 119, 180, 0.8)",
             "rgba(31, 119, 180, 0.8)",
             "rgba(31, 119, 180, 0.8)",
             "rgba(31, 119, 180, 0.8)",
             "rgba(31, 119, 180, 0.8)",
             "rgba(31, 119, 180, 0.8)",
             "rgba(31, 119, 180, 0.8)"
            ]
           },
           "name": "Trade P&L",
           "type": "bar",
           "x": {
            "bdata": "AAECAwQFBgcICQoLDA0ODxAREhMUFRYXGBkaGxwdHh8gISIjJCUmJygpKissLS4vMDEyMzQ1Njc4OTo7PD0+P0BBQkNERUZHSElKS0xNTk9QUVJTVFVWV1hZWltc",
            "dtype": "i1"
           },
           "xaxis": "x2",
           "y": {
            "bdata": "mpmZmZmZuT9mJIA29L3bP2YoBte+wNE/mpmZmZmZuT8AAAAAAAAAAGaK9ERjB9M/AHi8hKrmqb+amZmZmZm5PzTLecrdq60/mlG68o7dsT+a8ScB/AK+P2bmSkSacdU/AHS7de/T0r+aFa8Oo67cvwDPrM1M7N8/AHEoVwBH0z/NxIilLxrKPzPQ4twGUOI/M4N5ghqYy78zpnlTtxDjP2Yy9UdkXvq/TU1O4pHq579mhsUy+ge2v03z01WjQOS/gCdaB1046b8AcpfJbF7YP4BVwgLU1eE/aGbk004Alj/Nq/JFdIzgv6CZqzZzsXI/GsUUANIJ8z8zU7qthD3nP80KNNbOosE/zdTT9ToTwT9NNaC0QK7svzOtKvBEr+Q/zEywV8+Hrb/NnByh3B3gv00tMFNEzOK/ZjKGQpY90D8zcZzMde7DvwCo1BxR39K/0EwZbQFHjD8AgJ1gwiWgP8zMNVx71qK/M4uWlENH4z9oJqrOEYKeP5qRefKdHbI/zd7JjzWTxD8AKplBhdfjv81s+b/5kM0/zb4LOxC0wT+amZmZmZm5PwAAAAAAAAAAzVT3uuGVwz+amZmZmZm5P81CXTdB0cc/AJCcv7RTlz8A0k2EI0rAv8DMSYTd72O/AIhccJISvr8AAJq8D3CHv818cpG9gcI/mpmZmZmZuT9ml8Ycc6PRPwCgPDW3v7u/NBNqo/hJpz8ArIfgXvrRv8z8iinSGaS/ADNhz4aH1b9mFq625Di4v5oAPXLf1NO/AJIwaIrSxL8AAGYage+XPwBUuDfjAea/mkm00BDf0L9m0oTr4/+zvzO3V7rbR+M/s5LXIDB+5z+YmZrnMbCZv2hW+580p5E/ZnoNqQqc1T8AsAWcEHywv81kw2O8iea/M8OIkR/Ux7+zAbLR2SLlP80kw87v08M/M32GBIPI5D8AGkCpE3nQPwAL8KFMotE/ANrTSaWA1D8AMYShwqrrP81MWiPn0sc/",
            "dtype": "f8"
           },
           "yaxis": "y2"
          },
          {
           "line": {
            "color": "rgba(60, 179, 113, 0.9)",
            "width": 2
           },
           "name": "Cumulative P&L",
           "type": "scatter",
           "x": {
            "bdata": "AAECAwQFBgcICQoLDA0ODxAREhMUFRYXGBkaGxwdHh8gISIjJCUmJygpKissLS4vMDEyMzQ1Njc4OTo7PD0+P0BBQkNERUZHSElKS0xNTk9QUVJTVFVWV1hZWltc",
            "dtype": "i1"
           },
           "xaxis": "x2",
           "y": {
            "bdata": "AAAAAAAAAABmJIA29L3bP2Ymw4ZZv+Y/mVn2uYzy6T+ZWfa5jPLpP2ZPOC4fu/E/pmsS2unr8D9ABaxzg4XyP5rT/2HicvM/tHgrUbuQ9D/O9z0R63D2P2ixUKJRzfs/aNThxFUY9z8DHmwCWtnvP8JCoTTA5/c/Al9rSoC5/D+cdxw/xvz/P9vvxtZkkgRAqFefLuPYAkA1wX0DEZ0HQARQBr+92/Q/u1K+m+nM4T/cQ8uq1BfeP3xFuQHk0sS/33jIBxZt7r/fv/yi3z3iv8CXmg7oAoq/EDUumbX9gT/58o1vfUTgv8abIIkaH+C/bu4Id4n05T/QoGESB5n2PyoiKO1gzfg/xJziS8jv+j87BCXjTzHpP7fYp2lK8PY/UVbq7gsE9j/VD7g8O+rrPxDFD9PtO9I/u/vKCsI84T/cvkcvSYLYP3BbzEngi7Y/CoVvd8AUuj+FIt/T0BPBP6Reo/ljvLg/CPfKE9Be5j87SECi4FLnP256j2CUluk/IfKBxGG77j9CkNEFucfVP1Qj5/IaSOI/BxOqAR+15j86Rt00UujpPzpG3TRS6Ok/bRubo8rN7j9QJ2frfgDxP6rPUhKn+vM/6kFR5fVX9D+qh8d0sU7yP8RiBYa5RPI/RJr/XpBj8D9EZoY/sDTwP961tPHnhPI/eE9Oi4Ee9D9S9X9SXof4P1IrLN9iy/Y/7HtHpLKF9z/skCXsGgfzPwY52VpMZvI/jNgBTtUI6j+/FSy3uAHnP+QqG/yRLto/yMMFkJmKzz/kQanZRETRPxxmx5WBv9q/29c9M0nP5b8ocq6wRU/ov9TrWtmnHcS/vteAKsZ24j/xAkSbRKnhP6TdQ0B+NuI/15rKlIME7T/X5EmBAfXqPygAGnYUrcE/LAy7bSycqL/wUNYKF5njPyMah/4Sjug/q8uGAUur9j8r0tbrj8n6P+vUUhQjMv8/tuVjMyYpAkD28cTb1hMJQMOW+k0FkQpA",
            "dtype": "f8"
           },
           "yaxis": "y2"
          }
         ]
        },
        {
         "data": [
          {
           "line": {
            "color": "rgba(60, 179, 113, 0.9)",
            "dash": "dot",
            "width": 2
           },
           "name": "Mid Price (Estimated)",
           "type": "scatter",
           "x": {
            "bdata": "AAECAwQFBgcICQoLDA0ODxAREhMUFRYXGBkaGxwdHh8gISIjJCUmJygpKissLS4vMDEyMzQ1Njc4OTo7PD0+P0BBQkNERUZHSElKS0xNTk9QUVJTVFVWV1hZWltcXQ==",
            "dtype": "i1"
           },
           "xaxis": "x",
           "y": {
            "bdata": "gNHvJb/4WEChxAdfE+5YQN8klwa54lhA9ltPBy3aWECPYPkixNVYQLPu1x9l4lhAJFeHSijfWEAJUu9IbOBYQDZpnDMd41hAH0XxtBTkWEDto2iXtuNYQK2xef0w3FhAZ4809ZrlWEA7QQajTPFYQPZcbImo5lhAe09PiTvgWED8N/Tckd5YQIq+FlWG2FhAZgQIE+TbWED8XSOkW9dYQGIlFKNX5VhAGbj1/xbtWEASG5QMlO5YQB0dcm5H9VhAlqRPG3z8WEAY2DLnAPlYQNsye2Ho81hA31eqLYn0WECxYqimLfpYQKWkbEEy+1hAQ17ERTvxWEB7vGWxOOxYQNKiiUPg61hAPOKwD4XrWECZA3SkRfhYQNyHlZuH71hArKawu+TyWECUzppDjfxYQH+7SZM3C1lAjLNSx8EIWUDfCmK0BwxZQGc1zvfND1lAzvRkAy8RWUDi71HVrRBZQEKUQueYE1lA6jDh1oQDWUCurCocAwhZQK+Qn5vyCFlALBF/36YHWUBId1U44RRZQCCsGC2wEFlAp4xhizwOWUBJuvxFHBtZQI4PysrpFVlASvpSQIUSWUAo/v8htRFZQGNGNVw3F1lALECBl6wYWUBDGb+FhxBZQMZhrmJADVlANVZgEH4JWUDNYyFQIAlZQKW2g8j6C1lAk3lUvcgOWUBiGZ6wiwNZQIpoa557CllAHGUUMjoMWUDyqIRhNxVZQDSGaOwvGFlARVFYGV0fWUDAVT1BeiJZQI3h2q04K1lAUJRBGrEuWUAwsjtyMS5ZQGiCC1/dPFlAFEnZvK5CWUCdC0+He0ZZQFt5CzNxPllAaARGNFM2WUBsPKeOUzhZQCmERr9iOVlAZNo1VpU1WUC/mj8XnTZZQC/KSKroQFlA4ZTUx3xFWUAoYsgeUD5ZQPbiMjG6PVlAKstkGrQ4WUCU5t6pWTZZQLeffsPUM1lA4VwG9eYwWUDTpLNP/yhZQPs7Du5OKFlAhzrHMtkkWUA=",
            "dtype": "f8"
           },
           "yaxis": "y"
          },
          {
           "line": {
            "color": "rgba(178, 34, 34, 0.9)",
            "width": 2
           },
           "name": "Bid",
           "type": "scatter",
           "x": {
            "bdata": "AAECAwQFBgcICQoLDA0ODxAREhMUFRYXGBkaGxwdHh8gISIjJCUmJygpKissLS4vMDEyMzQ1Njc4OTo7PD0+P0BBQkNERUZHSElKS0xNTk9QUVJTVFVWV1hZWltcXQ==",
            "dtype": "i1"
           },
           "xaxis": "x",
           "y": {
            "bdata": "GmuJv1jyWEA7XqH4rOdYQHm+MKBS3FhAkPXooMbTWEAp+pK8Xc9YQE2Icbn+21hAvvAg5MHYWECj64jiBdpYQNACNs223FhAud6KTq7dWECHPQIxUN1YQEdLE5fK1VhAASnOjjTfWEDV2p885upYQJD2BSNC4FhAFenoItXZWECW0Y12K9hYQCRYsO4f0lhAAJ6hrH3VWECW97w99dBYQPy+rTzx3lhAs1GPmbDmWECstC2mLehYQLe2Cwjh7lhAMD7ptBX2WECyccyAmvJYQHXMFPuB7VhAefFDxyLuWEBL/EFAx/NYQD8+BtvL9FhA3fdd39TqWEAVVv9K0uVYQGw8I9155VhA1ntKqR7lWEAznQ0+3/FYQHYhLzUh6VhARkBKVX7sWEAuaDTdJvZYQBlV4yzRBFlAJk3sYFsCWUB5pPtNoQVZQAHPZ5FnCVlAaI7+nMgKWUB8ietuRwpZQNwt3IAyDVlAhMp6cB79WEBIRsS1nAFZQEkqOTWMAllAxqoYeUABWUDiEO/Reg5ZQLpFssZJCllAQSb7JNYHWUDjU5bftRRZQCipY2SDD1lA5JPs2R4MWUDCl5m7TgtZQP3fzvXQEFlAxtkaMUYSWUDdslgfIQpZQGD7R/zZBllAz+/5qRcDWUBn/brpuQJZQD9QHWKUBVlALRPuVmIIWUD8sjdKJf1YQCQCBTgVBFlAtv6ty9MFWUCMQh770A5ZQM4fAobJEVlA3+rxsvYYWUBa79baExxZQCd7dEfSJFlA6i3bs0ooWUDKS9ULyydZQAIcpfh2NllAruJyVkg8WUA3peggFUBZQPUSpcwKOFlAAp7fzewvWUAG1kAo7TFZQMMd4Fj8MllA/nPP7y4vWUBZNNmwNjBZQMlj4kOCOllAey5uYRY/WUDC+2G46TdZQJB8zMpTN1lAxGT+s00yWUAugHhD8y9ZQFE5GF1uLVlAe/afjoAqWUBtPk3pmCJZQJXVp4foIVlAIdRgzHIeWUA=",
            "dtype": "f8"
           },
           "yaxis": "y"
          },
          {
           "line": {
            "color": "rgba(70, 130, 180, 0.9)",
            "width": 2
           },
           "name": "Ask",
           "type": "scatter",
           "x": {
            "bdata": "AAECAwQFBgcICQoLDA0ODxAREhMUFRYXGBkaGxwdHh8gISIjJCUmJygpKissLS4vMDEyMzQ1Njc4OTo7PD0+P0BBQkNERUZHSElKS0xNTk9QUVJTVFVWV1hZWltcXQ==",
            "dtype": "i1"
           },
           "xaxis": "x",
           "y": {
            "bdata": "5jdWjCX/WEAHK27FefRYQEWL/Wwf6VhAXMK1bZPgWED1xl+JKtxYQBlVPobL6FhAir3tsI7lWEBvuFWv0uZYQJzPApqD6VhAhatXG3vqWEBTCs/9HOpYQBMY4GOX4lhAzfWaWwHsWEChp2wJs/dYQFzD0u8O7VhA4bW176HmWEBinlpD+ORYQPAkfbvs3lhAzGpueUriWEBixIkKwt1YQMiLegm+61hAfx5cZn3zWEB4gfpy+vRYQIOD2NSt+1hA/Aq2geICWUB+PplNZ/9YQEGZ4cdO+lhARb4QlO/6WEAXyQ4NlABZQAsL06eYAVlAqcQqrKH3WEDhIswXn/JYQDgJ8KlG8lhAokgXduvxWED/adoKrP5YQELu+wHu9VhAEg0XIkv5WED6NAGq8wJZQOUhsPmdEVlA8hm5LSgPWUBFccgabhJZQM2bNF40FllANFvLaZUXWUBIVrg7FBdZQKj6qE3/GVlAUJdHPesJWUAUE5GCaQ5ZQBX3BQJZD1lAknflRQ0OWUCu3bueRxtZQIYSf5MWF1lADfPH8aIUWUCvIGOsgiFZQPR1MDFQHFlAsGC5pusYWUCOZGaIGxhZQMmsm8KdHVlAkqbn/RIfWUCpfyXs7RZZQCzIFMmmE1lAm7zGduQPWUAzyoe2hg9ZQAsd6i5hEllA+d+6Iy8VWUDIfwQX8glZQPDO0QTiEFlAgst6mKASWUBYD+vHnRtZQJrszlKWHllAq7e+f8MlWUAmvKOn4ChZQPNHQRSfMVlAtvqngBc1WUCWGKLYlzRZQM7occVDQ1lAeq8/IxVJWUADcrXt4UxZQMHfcZnXRFlAzmqsmrk8WUDSog31uT5ZQI/qrCXJP1lAykCcvPs7WUAlAaZ9Az1ZQJUwrxBPR1lAR/s6LuNLWUCOyC6FtkRZQFxJmZcgRFlAkDHLgBo/WUD6TEUQwDxZQB0G5Sk7OllAR8NsW003WUA5Cxq2ZS9ZQGGidFS1LllA7aAtmT8rWUA=",
            "dtype": "f8"
           },
           "yaxis": "y"
          },
          {
           "marker": {
            "color": [
             "rgba(31, 119, 180, 0.8)",
             "rgba(31, 119, 180, 0.8)",
             "rgba(31, 119, 180, 0.8)",
             "rgba(31, 119, 180, 0.8)",
             "rgba(31, 119, 180, 0.8)",
             "rgba(31, 119, 180, 0.8)",
             "rgba(178, 34, 34, 0.8)",
             "rgba(31, 119, 180, 0.8)",
             "rgba(31, 119, 180, 0.8)",
             "rgba(31, 119, 180, 0.8)",
             "rgba(31, 119, 180, 0.8)",
             "rgba(31, 119, 180, 0.8)",
             "rgba(178, 34, 34, 0.8)",
             "rgba(178, 34, 34, 0.8)",
             "rgba(31, 119, 180, 0.8)",
             "rgba(31, 119, 180, 0.8)",
             "rgba(31, 119, 180, 0.8)",
             "rgba(31, 119, 180, 0.8)",
             "rgba(178, 34, 34, 0.8)",
             "rgba(31, 119, 180, 0.8)",
             "rgba(178, 34, 34, 0.8)",
             "rgba(178, 34, 34, 0.8)",
             "rgba(178, 34, 34, 0.8)",
             "rgba(178, 34, 34, 0.8)",
             "rgba(178, 34, 34, 0.8)",
             "rgba(31, 119, 180, 0.8)",
             "rgba(31, 119, 180, 0.8)",
             "rgba(31, 119, 180, 0.8)",
             "rgba(178, 34, 34, 0.8)",
             "rgba(31, 119, 180, 0.8)",
             "rgba(31, 119, 180, 0.8)",
             "rgba(31, 119, 180, 0.8)",
             "rgba(31, 119, 180, 0.8)",
             "rgba(31, 119, 180, 0.8)",
             "rgba(178, 34, 34, 0.8)",
             "rgba(31, 119, 180, 0.8)",
             "rgba(178, 34, 34, 0.8)",
             "rgba(178, 34, 34, 0.8)",
             "rgba(178, 34, 34, 0.8)",
             "rgba(31, 119, 180, 0.8)",
             "rgba(178, 34, 34, 0.8)",
             "rgba(178, 34, 34, 0.8)",
             "rgba(31, 119, 180, 0.8)",
             "rgba(31, 119, 180, 0.8)",
             "rgba(178, 34, 34, 0.8)",
             "rgba(31, 119, 180, 0.8)",
             "rgba(31, 119, 180, 0.8)",
             "rgba(31, 119, 180, 0.8)",
             "rgba(31, 119, 180, 0.8)",
             "rgba(178, 34, 34, 0.8)",
             "rgba(31, 119, 180, 0.8)",
             "rgba(31, 119, 180, 0.8)",
             "rgba(31, 119, 180, 0.8)",
             "rgba(31, 119, 180, 0.8)",
             "rgba(31, 119, 180, 0.8)",
             "rgba(31, 119, 180, 0.8)",
             "rgba(31, 119, 180, 0.8)",
             "rgba(31, 119, 180, 0.8)",
             "rgba(178, 34, 34, 0.8)",
             "rgba(178, 34, 34, 0.8)",
             "rgba(178, 34, 34, 0.8)",
             "rgba(178, 34, 34, 0.8)",
             "rgba(31, 119, 180, 0.8)",
             "rgba(31, 119, 180, 0.8)",
             "rgba(31, 119, 180, 0.8)",
             "rgba(178, 34, 34, 0.8)",
             "rgba(31, 119, 180, 0.8)",
             "rgba(178, 34, 34, 0.8)",
             "rgba(178, 34, 34, 0.8)",
             "rgba(178, 34, 34, 0.8)",
             "rgba(178, 34, 34, 0.8)",
             "rgba(178, 34, 34, 0.8)",
             "rgba(178, 34, 34, 0.8)",
             "rgba(31, 119, 180, 0.8)",
             "rgba(178, 34, 34, 0.8)",
             "rgba(178, 34, 34, 0.8)",
             "rgba(178, 34, 34, 0.8)",
             "rgba(31, 119, 180, 0.8)",
             "rgba(31, 119, 180, 0.8)",
             "rgba(178, 34, 34, 0.8)",
             "rgba(31, 119, 180, 0.8)",
             "rgba(31, 119, 180, 0.8)",
             "rgba(178, 34, 34, 0.8)",
             "rgba(178, 34, 34, 0.8)",
             "rgba(178, 34, 34, 0.8)",
             "rgba(31, 119, 180, 0.8)",
             "rgba(31, 119, 180, 0.8)",
             "rgba(31, 119, 180, 0.8)",
             "rgba(31, 119, 180, 0.8)",
             "rgba(31, 119, 180, 0.8)",
             "rgba(31, 119, 180, 0.8)",
             "rgba(31, 119, 180, 0.8)",
             "rgba(31, 119, 180, 0.8)",
             "rgba(31, 119, 180, 0.8)"
            ]
           },
           "name": "Trade P&L",
           "type": "bar",
           "x": {
            "bdata": "AAECAwQFBgcICQoLDA0ODxAREhMUFRYXGBkaGxwdHh8gISIjJCUmJygpKissLS4vMDEyMzQ1Njc4OTo7PD0+P0BBQkNERUZHSElKS0xNTk9QUVJTVFVWV1hZWltcXQ==",
            "dtype": "i1"
           },
           "xaxis": "x2",
           "y": {
            "bdata": "mpmZmZmZuT9mJIA29L3bP2YoBte+wNE/mpmZmZmZuT8AAAAAAAAAAGaK9ERjB9M/AHi8hKrmqb+amZmZmZm5PzTLecrdq60/mlG68o7dsT+a8ScB/AK+P2bmSkSacdU/AHS7de/T0r+aFa8Oo67cvwDPrM1M7N8/AHEoVwBH0z/NxIilLxrKPzPQ4twGUOI/M4N5ghqYy78zpnlTtxDjP2Yy9UdkXvq/TU1O4pHq579mhsUy+ge2v03z01WjQOS/gCdaB1046b8AcpfJbF7YP4BVwgLU1eE/aGbk004Alj/Nq/JFdIzgv6CZqzZzsXI/GsUUANIJ8z8zU7qthD3nP80KNNbOosE/zdTT9ToTwT9NNaC0QK7svzOtKvBEr+Q/zEywV8+Hrb/NnByh3B3gv00tMFNEzOK/ZjKGQpY90D8zcZzMde7DvwCo1BxR39K/0EwZbQFHjD8AgJ1gwiWgP8zMNVx71qK/M4uWlENH4z9oJqrOEYKeP5qRefKdHbI/zd7JjzWTxD8AKplBhdfjv81s+b/5kM0/zb4LOxC0wT+amZmZmZm5PwAAAAAAAAAAzVT3uuGVwz+amZmZmZm5P81CXTdB0cc/AJCcv7RTlz8A0k2EI0rAv8DMSYTd72O/AIhccJISvr8AAJq8D3CHv818cpG9gcI/mpmZmZmZuT9ml8Ycc6PRPwCgPDW3v7u/NBNqo/hJpz8ArIfgXvrRv8z8iinSGaS/ADNhz4aH1b9mFq625Di4v5oAPXLf1NO/AJIwaIrSxL8AAGYage+XPwBUuDfjAea/mkm00BDf0L9m0oTr4/+zvzO3V7rbR+M/s5LXIDB+5z+YmZrnMbCZv2hW+580p5E/ZnoNqQqc1T8AsAWcEHywv81kw2O8iea/M8OIkR/Ux7+zAbLR2SLlP80kw87v08M/M32GBIPI5D8AGkCpE3nQPwAL8KFMotE/ANrTSaWA1D8AMYShwqrrP81MWiPn0sc/M7258v3E4j8=",
            "dtype": "f8"
           },
           "yaxis": "y2"
          },
          {
           "line": {
            "color": "rgba(60, 179, 113, 0.9)",
            "width": 2
           },
           "name": "Cumulative P&L",
           "type": "scatter",
           "x": {
            "bdata": "AAECAwQFBgcICQoLDA0ODxAREhMUFRYXGBkaGxwdHh8gISIjJCUmJygpKissLS4vMDEyMzQ1Njc4OTo7PD0+P0BBQkNERUZHSElKS0xNTk9QUVJTVFVWV1hZWltcXQ==",
            "dtype": "i1"
           },
           "xaxis": "x2",
           "y": {
            "bdata": "AAAAAAAAAABmJIA29L3bP2Ymw4ZZv+Y/mVn2uYzy6T+ZWfa5jPLpP2ZPOC4fu/E/pmsS2unr8D9ABaxzg4XyP5rT/2HicvM/tHgrUbuQ9D/O9z0R63D2P2ixUKJRzfs/aNThxFUY9z8DHmwCWtnvP8JCoTTA5/c/Al9rSoC5/D+cdxw/xvz/P9vvxtZkkgRAqFefLuPYAkA1wX0DEZ0HQARQBr+92/Q/u1K+m+nM4T/cQ8uq1BfeP3xFuQHk0sS/33jIBxZt7r/fv/yi3z3iv8CXmg7oAoq/EDUumbX9gT/58o1vfUTgv8abIIkaH+C/bu4Id4n05T/QoGESB5n2PyoiKO1gzfg/xJziS8jv+j87BCXjTzHpP7fYp2lK8PY/UVbq7gsE9j/VD7g8O+rrPxDFD9PtO9I/u/vKCsI84T/cvkcvSYLYP3BbzEngi7Y/CoVvd8AUuj+FIt/T0BPBP6Reo/ljvLg/CPfKE9Be5j87SECi4FLnP256j2CUluk/IfKBxGG77j9CkNEFucfVP1Qj5/IaSOI/BxOqAR+15j86Rt00UujpPzpG3TRS6Ok/bRubo8rN7j9QJ2frfgDxP6rPUhKn+vM/6kFR5fVX9D+qh8d0sU7yP8RiBYa5RPI/RJr/XpBj8D9EZoY/sDTwP961tPHnhPI/eE9Oi4Ee9D9S9X9SXof4P1IrLN9iy/Y/7HtHpLKF9z/skCXsGgfzPwY52VpMZvI/jNgBTtUI6j+/FSy3uAHnP+QqG/yRLto/yMMFkJmKzz/kQanZRETRPxxmx5WBv9q/29c9M0nP5b8ocq6wRU/ov9TrWtmnHcS/vteAKsZ24j/xAkSbRKnhP6TdQ0B+NuI/15rKlIME7T/X5EmBAfXqPygAGnYUrcE/LAy7bSycqL/wUNYKF5njPyMah/4Sjug/q8uGAUur9j8r0tbrj8n6P+vUUhQjMv8/tuVjMyYpAkD28cTb1hMJQMOW+k0FkQpAEAapykRCD0A=",
            "dtype": "f8"
           },
           "yaxis": "y2"
          }
         ]
        },
        {
         "data": [
          {
           "line": {
            "color": "rgba(60, 179, 113, 0.9)",
            "dash": "dot",
            "width": 2
           },
           "name": "Mid Price (Estimated)",
           "type": "scatter",
           "x": {
            "bdata": "AAECAwQFBgcICQoLDA0ODxAREhMUFRYXGBkaGxwdHh8gISIjJCUmJygpKissLS4vMDEyMzQ1Njc4OTo7PD0+P0BBQkNERUZHSElKS0xNTk9QUVJTVFVWV1hZWltcXV4=",
            "dtype": "i1"
           },
           "xaxis": "x",
           "y": {
            "bdata": "gNHvJb/4WEChxAdfE+5YQN8klwa54lhA9ltPBy3aWECPYPkixNVYQLPu1x9l4lhAJFeHSijfWEAJUu9IbOBYQDZpnDMd41hAH0XxtBTkWEDto2iXtuNYQK2xef0w3FhAZ4809ZrlWEA7QQajTPFYQPZcbImo5lhAe09PiTvgWED8N/Tckd5YQIq+FlWG2FhAZgQIE+TbWED8XSOkW9dYQGIlFKNX5VhAGbj1/xbtWEASG5QMlO5YQB0dcm5H9VhAlqRPG3z8WEAY2DLnAPlYQNsye2Ho81hA31eqLYn0WECxYqimLfpYQKWkbEEy+1hAQ17ERTvxWEB7vGWxOOxYQNKiiUPg61hAPOKwD4XrWECZA3SkRfhYQNyHlZuH71hArKawu+TyWECUzppDjfxYQH+7SZM3C1lAjLNSx8EIWUDfCmK0BwxZQGc1zvfND1lAzvRkAy8RWUDi71HVrRBZQEKUQueYE1lA6jDh1oQDWUCurCocAwhZQK+Qn5vyCFlALBF/36YHWUBId1U44RRZQCCsGC2wEFlAp4xhizwOWUBJuvxFHBtZQI4PysrpFVlASvpSQIUSWUAo/v8htRFZQGNGNVw3F1lALECBl6wYWUBDGb+FhxBZQMZhrmJADVlANVZgEH4JWUDNYyFQIAlZQKW2g8j6C1lAk3lUvcgOWUBiGZ6wiwNZQIpoa557CllAHGUUMjoMWUDyqIRhNxVZQDSGaOwvGFlARVFYGV0fWUDAVT1BeiJZQI3h2q04K1lAUJRBGrEuWUAwsjtyMS5ZQGiCC1/dPFlAFEnZvK5CWUCdC0+He0ZZQFt5CzNxPllAaARGNFM2WUBsPKeOUzhZQCmERr9iOVlAZNo1VpU1WUC/mj8XnTZZQC/KSKroQFlA4ZTUx3xFWUAoYsgeUD5ZQPbiMjG6PVlAKstkGrQ4WUCU5t6pWTZZQLeffsPUM1lA4VwG9eYwWUDTpLNP/yhZQPs7Du5OKFlAhzrHMtkkWUCm54xbOhJZQA==",
            "dtype": "f8"
           },
           "yaxis": "y"
          },
          {
           "line": {
            "color": "rgba(178, 34, 34, 0.9)",
            "width": 2
           },
           "name": "Bid",
           "type": "scatter",
           "x": {
            "bdata": "AAECAwQFBgcICQoLDA0ODxAREhMUFRYXGBkaGxwdHh8gISIjJCUmJygpKissLS4vMDEyMzQ1Njc4OTo7PD0+P0BBQkNERUZHSElKS0xNTk9QUVJTVFVWV1hZWltcXV4=",
            "dtype": "i1"
           },
           "xaxis": "x",
           "y": {
            "bdata": "GmuJv1jyWEA7XqH4rOdYQHm+MKBS3FhAkPXooMbTWEAp+pK8Xc9YQE2Icbn+21hAvvAg5MHYWECj64jiBdpYQNACNs223FhAud6KTq7dWECHPQIxUN1YQEdLE5fK1VhAASnOjjTfWEDV2p885upYQJD2BSNC4FhAFenoItXZWECW0Y12K9hYQCRYsO4f0lhAAJ6hrH3VWECW97w99dBYQPy+rTzx3lhAs1GPmbDmWECstC2mLehYQLe2Cwjh7lhAMD7ptBX2WECyccyAmvJYQHXMFPuB7VhAefFDxyLuWEBL/EFAx/NYQD8+BtvL9FhA3fdd39TqWEAVVv9K0uVYQGw8I9155VhA1ntKqR7lWEAznQ0+3/FYQHYhLzUh6VhARkBKVX7sWEAuaDTdJvZYQBlV4yzRBFlAJk3sYFsCWUB5pPtNoQVZQAHPZ5FnCVlAaI7+nMgKWUB8ietuRwpZQNwt3IAyDVlAhMp6cB79WEBIRsS1nAFZQEkqOTWMAllAxqoYeUABWUDiEO/Reg5ZQLpFssZJCllAQSb7JNYHWUDjU5bftRRZQCipY2SDD1lA5JPs2R4MWUDCl5m7TgtZQP3fzvXQEFlAxtkaMUYSWUDdslgfIQpZQGD7R/zZBllAz+/5qRcDWUBn/brpuQJZQD9QHWKUBVlALRPuVmIIWUD8sjdKJf1YQCQCBTgVBFlAtv6ty9MFWUCMQh770A5ZQM4fAobJEVlA3+rxsvYYWUBa79baExxZQCd7dEfSJFlA6i3bs0ooWUDKS9ULyydZQAIcpfh2NllAruJyVkg8WUA3peggFUBZQPUSpcwKOFlAAp7fzewvWUAG1kAo7TFZQMMd4Fj8MllA/nPP7y4vWUBZNNmwNjBZQMlj4kOCOllAey5uYRY/WUDC+2G46TdZQJB8zMpTN1lAxGT+s00yWUAugHhD8y9ZQFE5GF1uLVlAe/afjoAqWUBtPk3pmCJZQJXVp4foIVlAIdRgzHIeWUBAgSb10wtZQA==",
            "dtype": "f8"
           },
           "yaxis": "y"
          },
          {
           "line": {
            "color": "rgba(70, 130, 180, 0.9)",
            "width": 2
           },
           "name": "Ask",
           "type": "scatter",
           "x": {
            "bdata": "AAECAwQFBgcICQoLDA0ODxAREhMUFRYXGBkaGxwdHh8gISIjJCUmJygpKissLS4vMDEyMzQ1Njc4OTo7PD0+P0BBQkNERUZHSElKS0xNTk9QUVJTVFVWV1hZWltcXV4=",
            "dtype": "i1"
           },
           "xaxis": "x",
           "y": {
            "bdata": "5jdWjCX/WEAHK27FefRYQEWL/Wwf6VhAXMK1bZPgWED1xl+JKtxYQBlVPobL6FhAir3tsI7lWEBvuFWv0uZYQJzPApqD6VhAhatXG3vqWEBTCs/9HOpYQBMY4GOX4lhAzfWaWwHsWEChp2wJs/dYQFzD0u8O7VhA4bW176HmWEBinlpD+ORYQPAkfbvs3lhAzGpueUriWEBixIkKwt1YQMiLegm+61hAfx5cZn3zWEB4gfpy+vRYQIOD2NSt+1hA/Aq2geICWUB+PplNZ/9YQEGZ4cdO+lhARb4QlO/6WEAXyQ4NlABZQAsL06eYAVlAqcQqrKH3WEDhIswXn/JYQDgJ8KlG8lhAokgXduvxWED/adoKrP5YQELu+wHu9VhAEg0XIkv5WED6NAGq8wJZQOUhsPmdEVlA8hm5LSgPWUBFccgabhJZQM2bNF40FllANFvLaZUXWUBIVrg7FBdZQKj6qE3/GVlAUJdHPesJWUAUE5GCaQ5ZQBX3BQJZD1lAknflRQ0OWUCu3bueRxtZQIYSf5MWF1lADfPH8aIUWUCvIGOsgiFZQPR1MDFQHFlAsGC5pusYWUCOZGaIGxhZQMmsm8KdHVlAkqbn/RIfWUCpfyXs7RZZQCzIFMmmE1lAm7zGduQPWUAzyoe2hg9ZQAsd6i5hEllA+d+6Iy8VWUDIfwQX8glZQPDO0QTiEFlAgst6mKASWUBYD+vHnRtZQJrszlKWHllAq7e+f8MlWUAmvKOn4ChZQPNHQRSfMVlAtvqngBc1WUCWGKLYlzRZQM7occVDQ1lAeq8/IxVJWUADcrXt4UxZQMHfcZnXRFlAzmqsmrk8WUDSog31uT5ZQI/qrCXJP1lAykCcvPs7WUAlAaZ9Az1ZQJUwrxBPR1lAR/s6LuNLWUCOyC6FtkRZQFxJmZcgRFlAkDHLgBo/WUD6TEUQwDxZQB0G5Sk7OllAR8NsW003WUA5Cxq2ZS9ZQGGidFS1LllA7aAtmT8rWUAMTvPBoBhZQA==",
            "dtype": "f8"
           },
           "yaxis": "y"
          },
          {
           "marker": {
            "color": [
             "rgba(31, 119, 180, 0.8)",
             "rgba(31, 119, 180, 0.8)",
             "rgba(31, 119, 180, 0.8)",
             "rgba(31, 119, 180, 0.8)",
             "rgba(31, 119, 180, 0.8)",
             "rgba(31, 119, 180, 0.8)",
             "rgba(178, 34, 34, 0.8)",
             "rgba(31, 119, 180, 0.8)",
             "rgba(31, 119, 180, 0.8)",
             "rgba(31, 119, 180, 0.8)",
             "rgba(31, 119, 180, 0.8)",
             "rgba(31, 119, 180, 0.8)",
             "rgba(178, 34, 34, 0.8)",
             "rgba(178, 34, 34, 0.8)",
             "rgba(31, 119, 180, 0.8)",
             "rgba(31, 119, 180, 0.8)",
             "rgba(31, 119, 180, 0.8)",
             "rgba(31, 119, 180, 0.8)",
             "rgba(178, 34, 34, 0.8)",
             "rgba(31, 119, 180, 0.8)",
             "rgba(178, 34, 34, 0.8)",
             "rgba(178, 34, 34, 0.8)",
             "rgba(178, 34, 34, 0.8)",
             "rgba(178, 34, 34, 0.8)",
             "rgba(178, 34, 34, 0.8)",
             "rgba(31, 119, 180, 0.8)",
             "rgba(31, 119, 180, 0.8)",
             "rgba(31, 119, 180, 0.8)",
             "rgba(178, 34, 34, 0.8)",
             "rgba(31, 119, 180, 0.8)",
             "rgba(31, 119, 180, 0.8)",
             "rgba(31, 119, 180, 0.8)",
             "rgba(31, 119, 180, 0.8)",
             "rgba(31, 119, 180, 0.8)",
             "rgba(178, 34, 34, 0.8)",
             "rgba(31, 119, 180, 0.8)",
             "rgba(178, 34, 34, 0.8)",
             "rgba(178, 34, 34, 0.8)",
             "rgba(178, 34, 34, 0.8)",
             "rgba(31, 119, 180, 0.8)",
             "rgba(178, 34, 34, 0.8)",
             "rgba(178, 34, 34, 0.8)",
             "rgba(31, 119, 180, 0.8)",
             "rgba(31, 119, 180, 0.8)",
             "rgba(178, 34, 34, 0.8)",
             "rgba(31, 119, 180, 0.8)",
             "rgba(31, 119, 180, 0.8)",
             "rgba(31, 119, 180, 0.8)",
             "rgba(31, 119, 180, 0.8)",
             "rgba(178, 34, 34, 0.8)",
             "rgba(31, 119, 180, 0.8)",
             "rgba(31, 119, 180, 0.8)",
             "rgba(31, 119, 180, 0.8)",
             "rgba(31, 119, 180, 0.8)",
             "rgba(31, 119, 180, 0.8)",
             "rgba(31, 119, 180, 0.8)",
             "rgba(31, 119, 180, 0.8)",
             "rgba(31, 119, 180, 0.8)",
             "rgba(178, 34, 34, 0.8)",
             "rgba(178, 34, 34, 0.8)",
             "rgba(178, 34, 34, 0.8)",
             "rgba(178, 34, 34, 0.8)",
             "rgba(31, 119, 180, 0.8)",
             "rgba(31, 119, 180, 0.8)",
             "rgba(31, 119, 180, 0.8)",
             "rgba(178, 34, 34, 0.8)",
             "rgba(31, 119, 180, 0.8)",
             "rgba(178, 34, 34, 0.8)",
             "rgba(178, 34, 34, 0.8)",
             "rgba(178, 34, 34, 0.8)",
             "rgba(178, 34, 34, 0.8)",
             "rgba(178, 34, 34, 0.8)",
             "rgba(178, 34, 34, 0.8)",
             "rgba(31, 119, 180, 0.8)",
             "rgba(178, 34, 34, 0.8)",
             "rgba(178, 34, 34, 0.8)",
             "rgba(178, 34, 34, 0.8)",
             "rgba(31, 119, 180, 0.8)",
             "rgba(31, 119, 180, 0.8)",
             "rgba(178, 34, 34, 0.8)",
             "rgba(31, 119, 180, 0.8)",
             "rgba(31, 119, 180, 0.8)",
             "rgba(178, 34, 34, 0.8)",
             "rgba(178, 34, 34, 0.8)",
             "rgba(178, 34, 34, 0.8)",
             "rgba(31, 119, 180, 0.8)",
             "rgba(31, 119, 180, 0.8)",
             "rgba(31, 119, 180, 0.8)",
             "rgba(31, 119, 180, 0.8)",
             "rgba(31, 119, 180, 0.8)",
             "rgba(31, 119, 180, 0.8)",
             "rgba(31, 119, 180, 0.8)",
             "rgba(31, 119, 180, 0.8)",
             "rgba(31, 119, 180, 0.8)",
             "rgba(31, 119, 180, 0.8)"
            ]
           },
           "name": "Trade P&L",
           "type": "bar",
           "x": {
            "bdata": "AAECAwQFBgcICQoLDA0ODxAREhMUFRYXGBkaGxwdHh8gISIjJCUmJygpKissLS4vMDEyMzQ1Njc4OTo7PD0+P0BBQkNERUZHSElKS0xNTk9QUVJTVFVWV1hZWltcXV4=",
            "dtype": "i1"
           },
           "xaxis": "x2",
           "y": {
            "bdata": "mpmZmZmZuT9mJIA29L3bP2YoBte+wNE/mpmZmZmZuT8AAAAAAAAAAGaK9ERjB9M/AHi8hKrmqb+amZmZmZm5PzTLecrdq60/mlG68o7dsT+a8ScB/AK+P2bmSkSacdU/AHS7de/T0r+aFa8Oo67cvwDPrM1M7N8/AHEoVwBH0z/NxIilLxrKPzPQ4twGUOI/M4N5ghqYy78zpnlTtxDjP2Yy9UdkXvq/TU1O4pHq579mhsUy+ge2v03z01WjQOS/gCdaB1046b8AcpfJbF7YP4BVwgLU1eE/aGbk004Alj/Nq/JFdIzgv6CZqzZzsXI/GsUUANIJ8z8zU7qthD3nP80KNNbOosE/zdTT9ToTwT9NNaC0QK7svzOtKvBEr+Q/zEywV8+Hrb/NnByh3B3gv00tMFNEzOK/ZjKGQpY90D8zcZzMde7DvwCo1BxR39K/0EwZbQFHjD8AgJ1gwiWgP8zMNVx71qK/M4uWlENH4z9oJqrOEYKeP5qRefKdHbI/zd7JjzWTxD8AKplBhdfjv81s+b/5kM0/zb4LOxC0wT+amZmZmZm5PwAAAAAAAAAAzVT3uuGVwz+amZmZmZm5P81CXTdB0cc/AJCcv7RTlz8A0k2EI0rAv8DMSYTd72O/AIhccJISvr8AAJq8D3CHv818cpG9gcI/mpmZmZmZuT9ml8Ycc6PRPwCgPDW3v7u/NBNqo/hJpz8ArIfgXvrRv8z8iinSGaS/ADNhz4aH1b9mFq625Di4v5oAPXLf1NO/AJIwaIrSxL8AAGYage+XPwBUuDfjAea/mkm00BDf0L9m0oTr4/+zvzO3V7rbR+M/s5LXIDB+5z+YmZrnMbCZv2hW+580p5E/ZnoNqQqc1T8AsAWcEHywv81kw2O8iea/M8OIkR/Ux7+zAbLR2SLlP80kw87v08M/M32GBIPI5D8AGkCpE3nQPwAL8KFMotE/ANrTSaWA1D8AMYShwqrrP81MWiPn0sc/M7258v3E4j/NrR8HpGsDQA==",
            "dtype": "f8"
           },
           "yaxis": "y2"
          },
          {
           "line": {
            "color": "rgba(60, 179, 113, 0.9)",
            "width": 2
           },
           "name": "Cumulative P&L",
           "type": "scatter",
           "x": {
            "bdata": "AAECAwQFBgcICQoLDA0ODxAREhMUFRYXGBkaGxwdHh8gISIjJCUmJygpKissLS4vMDEyMzQ1Njc4OTo7PD0+P0BBQkNERUZHSElKS0xNTk9QUVJTVFVWV1hZWltcXV4=",
            "dtype": "i1"
           },
           "xaxis": "x2",
           "y": {
            "bdata": "AAAAAAAAAABmJIA29L3bP2Ymw4ZZv+Y/mVn2uYzy6T+ZWfa5jPLpP2ZPOC4fu/E/pmsS2unr8D9ABaxzg4XyP5rT/2HicvM/tHgrUbuQ9D/O9z0R63D2P2ixUKJRzfs/aNThxFUY9z8DHmwCWtnvP8JCoTTA5/c/Al9rSoC5/D+cdxw/xvz/P9vvxtZkkgRAqFefLuPYAkA1wX0DEZ0HQARQBr+92/Q/u1K+m+nM4T/cQ8uq1BfeP3xFuQHk0sS/33jIBxZt7r/fv/yi3z3iv8CXmg7oAoq/EDUumbX9gT/58o1vfUTgv8abIIkaH+C/bu4Id4n05T/QoGESB5n2PyoiKO1gzfg/xJziS8jv+j87BCXjTzHpP7fYp2lK8PY/UVbq7gsE9j/VD7g8O+rrPxDFD9PtO9I/u/vKCsI84T/cvkcvSYLYP3BbzEngi7Y/CoVvd8AUuj+FIt/T0BPBP6Reo/ljvLg/CPfKE9Be5j87SECi4FLnP256j2CUluk/IfKBxGG77j9CkNEFucfVP1Qj5/IaSOI/BxOqAR+15j86Rt00UujpPzpG3TRS6Ok/bRubo8rN7j9QJ2frfgDxP6rPUhKn+vM/6kFR5fVX9D+qh8d0sU7yP8RiBYa5RPI/RJr/XpBj8D9EZoY/sDTwP961tPHnhPI/eE9Oi4Ee9D9S9X9SXof4P1IrLN9iy/Y/7HtHpLKF9z/skCXsGgfzPwY52VpMZvI/jNgBTtUI6j+/FSy3uAHnP+QqG/yRLto/yMMFkJmKzz/kQanZRETRPxxmx5WBv9q/29c9M0nP5b8ocq6wRU/ov9TrWtmnHcS/vteAKsZ24j/xAkSbRKnhP6TdQ0B+NuI/15rKlIME7T/X5EmBAfXqPygAGnYUrcE/LAy7bSycqL/wUNYKF5njPyMah/4Sjug/q8uGAUur9j8r0tbrj8n6P+vUUhQjMv8/tuVjMyYpAkD28cTb1hMJQMOW+k0FkQpAEAapykRCD0DuWeRo9FYZQA==",
            "dtype": "f8"
           },
           "yaxis": "y2"
          }
         ]
        },
        {
         "data": [
          {
           "line": {
            "color": "rgba(60, 179, 113, 0.9)",
            "dash": "dot",
            "width": 2
           },
           "name": "Mid Price (Estimated)",
           "type": "scatter",
           "x": {
            "bdata": "AAECAwQFBgcICQoLDA0ODxAREhMUFRYXGBkaGxwdHh8gISIjJCUmJygpKissLS4vMDEyMzQ1Njc4OTo7PD0+P0BBQkNERUZHSElKS0xNTk9QUVJTVFVWV1hZWltcXV5f",
            "dtype": "i1"
           },
           "xaxis": "x",
           "y": {
            "bdata": "gNHvJb/4WEChxAdfE+5YQN8klwa54lhA9ltPBy3aWECPYPkixNVYQLPu1x9l4lhAJFeHSijfWEAJUu9IbOBYQDZpnDMd41hAH0XxtBTkWEDto2iXtuNYQK2xef0w3FhAZ4809ZrlWEA7QQajTPFYQPZcbImo5lhAe09PiTvgWED8N/Tckd5YQIq+FlWG2FhAZgQIE+TbWED8XSOkW9dYQGIlFKNX5VhAGbj1/xbtWEASG5QMlO5YQB0dcm5H9VhAlqRPG3z8WEAY2DLnAPlYQNsye2Ho81hA31eqLYn0WECxYqimLfpYQKWkbEEy+1hAQ17ERTvxWEB7vGWxOOxYQNKiiUPg61hAPOKwD4XrWECZA3SkRfhYQNyHlZuH71hArKawu+TyWECUzppDjfxYQH+7SZM3C1lAjLNSx8EIWUDfCmK0BwxZQGc1zvfND1lAzvRkAy8RWUDi71HVrRBZQEKUQueYE1lA6jDh1oQDWUCurCocAwhZQK+Qn5vyCFlALBF/36YHWUBId1U44RRZQCCsGC2wEFlAp4xhizwOWUBJuvxFHBtZQI4PysrpFVlASvpSQIUSWUAo/v8htRFZQGNGNVw3F1lALECBl6wYWUBDGb+FhxBZQMZhrmJADVlANVZgEH4JWUDNYyFQIAlZQKW2g8j6C1lAk3lUvcgOWUBiGZ6wiwNZQIpoa557CllAHGUUMjoMWUDyqIRhNxVZQDSGaOwvGFlARVFYGV0fWUDAVT1BeiJZQI3h2q04K1lAUJRBGrEuWUAwsjtyMS5ZQGiCC1/dPFlAFEnZvK5CWUCdC0+He0ZZQFt5CzNxPllAaARGNFM2WUBsPKeOUzhZQCmERr9iOVlAZNo1VpU1WUC/mj8XnTZZQC/KSKroQFlA4ZTUx3xFWUAoYsgeUD5ZQPbiMjG6PVlAKstkGrQ4WUCU5t6pWTZZQLeffsPUM1lA4VwG9eYwWUDTpLNP/yhZQPs7Du5OKFlAhzrHMtkkWUCm54xbOhJZQH8sCbd+H1lA",
            "dtype": "f8"
           },
           "yaxis": "y"
          },
          {
           "line": {
            "color": "rgba(178, 34, 34, 0.9)",
            "width": 2
           },
           "name": "Bid",
           "type": "scatter",
           "x": {
            "bdata": "AAECAwQFBgcICQoLDA0ODxAREhMUFRYXGBkaGxwdHh8gISIjJCUmJygpKissLS4vMDEyMzQ1Njc4OTo7PD0+P0BBQkNERUZHSElKS0xNTk9QUVJTVFVWV1hZWltcXV5f",
            "dtype": "i1"
           },
           "xaxis": "x",
           "y": {
            "bdata": "GmuJv1jyWEA7XqH4rOdYQHm+MKBS3FhAkPXooMbTWEAp+pK8Xc9YQE2Icbn+21hAvvAg5MHYWECj64jiBdpYQNACNs223FhAud6KTq7dWECHPQIxUN1YQEdLE5fK1VhAASnOjjTfWEDV2p885upYQJD2BSNC4FhAFenoItXZWECW0Y12K9hYQCRYsO4f0lhAAJ6hrH3VWECW97w99dBYQPy+rTzx3lhAs1GPmbDmWECstC2mLehYQLe2Cwjh7lhAMD7ptBX2WECyccyAmvJYQHXMFPuB7VhAefFDxyLuWEBL/EFAx/NYQD8+BtvL9FhA3fdd39TqWEAVVv9K0uVYQGw8I9155VhA1ntKqR7lWEAznQ0+3/FYQHYhLzUh6VhARkBKVX7sWEAuaDTdJvZYQBlV4yzRBFlAJk3sYFsCWUB5pPtNoQVZQAHPZ5FnCVlAaI7+nMgKWUB8ietuRwpZQNwt3IAyDVlAhMp6cB79WEBIRsS1nAFZQEkqOTWMAllAxqoYeUABWUDiEO/Reg5ZQLpFssZJCllAQSb7JNYHWUDjU5bftRRZQCipY2SDD1lA5JPs2R4MWUDCl5m7TgtZQP3fzvXQEFlAxtkaMUYSWUDdslgfIQpZQGD7R/zZBllAz+/5qRcDWUBn/brpuQJZQD9QHWKUBVlALRPuVmIIWUD8sjdKJf1YQCQCBTgVBFlAtv6ty9MFWUCMQh770A5ZQM4fAobJEVlA3+rxsvYYWUBa79baExxZQCd7dEfSJFlA6i3bs0ooWUDKS9ULyydZQAIcpfh2NllAruJyVkg8WUA3peggFUBZQPUSpcwKOFlAAp7fzewvWUAG1kAo7TFZQMMd4Fj8MllA/nPP7y4vWUBZNNmwNjBZQMlj4kOCOllAey5uYRY/WUDC+2G46TdZQJB8zMpTN1lAxGT+s00yWUAugHhD8y9ZQFE5GF1uLVlAe/afjoAqWUBtPk3pmCJZQJXVp4foIVlAIdRgzHIeWUBAgSb10wtZQBnGolAYGVlA",
            "dtype": "f8"
           },
           "yaxis": "y"
          },
          {
           "line": {
            "color": "rgba(70, 130, 180, 0.9)",
            "width": 2
           },
           "name": "Ask",
           "type": "scatter",
           "x": {
            "bdata": "AAECAwQFBgcICQoLDA0ODxAREhMUFRYXGBkaGxwdHh8gISIjJCUmJygpKissLS4vMDEyMzQ1Njc4OTo7PD0+P0BBQkNERUZHSElKS0xNTk9QUVJTVFVWV1hZWltcXV5f",
            "dtype": "i1"
           },
           "xaxis": "x",
           "y": {
            "bdata": "5jdWjCX/WEAHK27FefRYQEWL/Wwf6VhAXMK1bZPgWED1xl+JKtxYQBlVPobL6FhAir3tsI7lWEBvuFWv0uZYQJzPApqD6VhAhatXG3vqWEBTCs/9HOpYQBMY4GOX4lhAzfWaWwHsWEChp2wJs/dYQFzD0u8O7VhA4bW176HmWEBinlpD+ORYQPAkfbvs3lhAzGpueUriWEBixIkKwt1YQMiLegm+61hAfx5cZn3zWEB4gfpy+vRYQIOD2NSt+1hA/Aq2geICWUB+PplNZ/9YQEGZ4cdO+lhARb4QlO/6WEAXyQ4NlABZQAsL06eYAVlAqcQqrKH3WEDhIswXn/JYQDgJ8KlG8lhAokgXduvxWED/adoKrP5YQELu+wHu9VhAEg0XIkv5WED6NAGq8wJZQOUhsPmdEVlA8hm5LSgPWUBFccgabhJZQM2bNF40FllANFvLaZUXWUBIVrg7FBdZQKj6qE3/GVlAUJdHPesJWUAUE5GCaQ5ZQBX3BQJZD1lAknflRQ0OWUCu3bueRxtZQIYSf5MWF1lADfPH8aIUWUCvIGOsgiFZQPR1MDFQHFlAsGC5pusYWUCOZGaIGxhZQMmsm8KdHVlAkqbn/RIfWUCpfyXs7RZZQCzIFMmmE1lAm7zGduQPWUAzyoe2hg9ZQAsd6i5hEllA+d+6Iy8VWUDIfwQX8glZQPDO0QTiEFlAgst6mKASWUBYD+vHnRtZQJrszlKWHllAq7e+f8MlWUAmvKOn4ChZQPNHQRSfMVlAtvqngBc1WUCWGKLYlzRZQM7occVDQ1lAeq8/IxVJWUADcrXt4UxZQMHfcZnXRFlAzmqsmrk8WUDSog31uT5ZQI/qrCXJP1lAykCcvPs7WUAlAaZ9Az1ZQJUwrxBPR1lAR/s6LuNLWUCOyC6FtkRZQFxJmZcgRFlAkDHLgBo/WUD6TEUQwDxZQB0G5Sk7OllAR8NsW003WUA5Cxq2ZS9ZQGGidFS1LllA7aAtmT8rWUAMTvPBoBhZQOWSbx3lJVlA",
            "dtype": "f8"
           },
           "yaxis": "y"
          },
          {
           "marker": {
            "color": [
             "rgba(31, 119, 180, 0.8)",
             "rgba(31, 119, 180, 0.8)",
             "rgba(31, 119, 180, 0.8)",
             "rgba(31, 119, 180, 0.8)",
             "rgba(31, 119, 180, 0.8)",
             "rgba(31, 119, 180, 0.8)",
             "rgba(178, 34, 34, 0.8)",
             "rgba(31, 119, 180, 0.8)",
             "rgba(31, 119, 180, 0.8)",
             "rgba(31, 119, 180, 0.8)",
             "rgba(31, 119, 180, 0.8)",
             "rgba(31, 119, 180, 0.8)",
             "rgba(178, 34, 34, 0.8)",
             "rgba(178, 34, 34, 0.8)",
             "rgba(31, 119, 180, 0.8)",
             "rgba(31, 119, 180, 0.8)",
             "rgba(31, 119, 180, 0.8)",
             "rgba(31, 119, 180, 0.8)",
             "rgba(178, 34, 34, 0.8)",
             "rgba(31, 119, 180, 0.8)",
             "rgba(178, 34, 34, 0.8)",
             "rgba(178, 34, 34, 0.8)",
             "rgba(178, 34, 34, 0.8)",
             "rgba(178, 34, 34, 0.8)",
             "rgba(178, 34, 34, 0.8)",
             "rgba(31, 119, 180, 0.8)",
             "rgba(31, 119, 180, 0.8)",
             "rgba(31, 119, 180, 0.8)",
             "rgba(178, 34, 34, 0.8)",
             "rgba(31, 119, 180, 0.8)",
             "rgba(31, 119, 180, 0.8)",
             "rgba(31, 119, 180, 0.8)",
             "rgba(31, 119, 180, 0.8)",
             "rgba(31, 119, 180, 0.8)",
             "rgba(178, 34, 34, 0.8)",
             "rgba(31, 119, 180, 0.8)",
             "rgba(178, 34, 34, 0.8)",
             "rgba(178, 34, 34, 0.8)",
             "rgba(178, 34, 34, 0.8)",
             "rgba(31, 119, 180, 0.8)",
             "rgba(178, 34, 34, 0.8)",
             "rgba(178, 34, 34, 0.8)",
             "rgba(31, 119, 180, 0.8)",
             "rgba(31, 119, 180, 0.8)",
             "rgba(178, 34, 34, 0.8)",
             "rgba(31, 119, 180, 0.8)",
             "rgba(31, 119, 180, 0.8)",
             "rgba(31, 119, 180, 0.8)",
             "rgba(31, 119, 180, 0.8)",
             "rgba(178, 34, 34, 0.8)",
             "rgba(31, 119, 180, 0.8)",
             "rgba(31, 119, 180, 0.8)",
             "rgba(31, 119, 180, 0.8)",
             "rgba(31, 119, 180, 0.8)",
             "rgba(31, 119, 180, 0.8)",
             "rgba(31, 119, 180, 0.8)",
             "rgba(31, 119, 180, 0.8)",
             "rgba(31, 119, 180, 0.8)",
             "rgba(178, 34, 34, 0.8)",
             "rgba(178, 34, 34, 0.8)",
             "rgba(178, 34, 34, 0.8)",
             "rgba(178, 34, 34, 0.8)",
             "rgba(31, 119, 180, 0.8)",
             "rgba(31, 119, 180, 0.8)",
             "rgba(31, 119, 180, 0.8)",
             "rgba(178, 34, 34, 0.8)",
             "rgba(31, 119, 180, 0.8)",
             "rgba(178, 34, 34, 0.8)",
             "rgba(178, 34, 34, 0.8)",
             "rgba(178, 34, 34, 0.8)",
             "rgba(178, 34, 34, 0.8)",
             "rgba(178, 34, 34, 0.8)",
             "rgba(178, 34, 34, 0.8)",
             "rgba(31, 119, 180, 0.8)",
             "rgba(178, 34, 34, 0.8)",
             "rgba(178, 34, 34, 0.8)",
             "rgba(178, 34, 34, 0.8)",
             "rgba(31, 119, 180, 0.8)",
             "rgba(31, 119, 180, 0.8)",
             "rgba(178, 34, 34, 0.8)",
             "rgba(31, 119, 180, 0.8)",
             "rgba(31, 119, 180, 0.8)",
             "rgba(178, 34, 34, 0.8)",
             "rgba(178, 34, 34, 0.8)",
             "rgba(178, 34, 34, 0.8)",
             "rgba(31, 119, 180, 0.8)",
             "rgba(31, 119, 180, 0.8)",
             "rgba(31, 119, 180, 0.8)",
             "rgba(31, 119, 180, 0.8)",
             "rgba(31, 119, 180, 0.8)",
             "rgba(31, 119, 180, 0.8)",
             "rgba(31, 119, 180, 0.8)",
             "rgba(31, 119, 180, 0.8)",
             "rgba(31, 119, 180, 0.8)",
             "rgba(31, 119, 180, 0.8)",
             "rgba(178, 34, 34, 0.8)"
            ]
           },
           "name": "Trade P&L",
           "type": "bar",
           "x": {
            "bdata": "AAECAwQFBgcICQoLDA0ODxAREhMUFRYXGBkaGxwdHh8gISIjJCUmJygpKissLS4vMDEyMzQ1Njc4OTo7PD0+P0BBQkNERUZHSElKS0xNTk9QUVJTVFVWV1hZWltcXV5f",
            "dtype": "i1"
           },
           "xaxis": "x2",
           "y": {
            "bdata": "mpmZmZmZuT9mJIA29L3bP2YoBte+wNE/mpmZmZmZuT8AAAAAAAAAAGaK9ERjB9M/AHi8hKrmqb+amZmZmZm5PzTLecrdq60/mlG68o7dsT+a8ScB/AK+P2bmSkSacdU/AHS7de/T0r+aFa8Oo67cvwDPrM1M7N8/AHEoVwBH0z/NxIilLxrKPzPQ4twGUOI/M4N5ghqYy78zpnlTtxDjP2Yy9UdkXvq/TU1O4pHq579mhsUy+ge2v03z01WjQOS/gCdaB1046b8AcpfJbF7YP4BVwgLU1eE/aGbk004Alj/Nq/JFdIzgv6CZqzZzsXI/GsUUANIJ8z8zU7qthD3nP80KNNbOosE/zdTT9ToTwT9NNaC0QK7svzOtKvBEr+Q/zEywV8+Hrb/NnByh3B3gv00tMFNEzOK/ZjKGQpY90D8zcZzMde7DvwCo1BxR39K/0EwZbQFHjD8AgJ1gwiWgP8zMNVx71qK/M4uWlENH4z9oJqrOEYKeP5qRefKdHbI/zd7JjzWTxD8AKplBhdfjv81s+b/5kM0/zb4LOxC0wT+amZmZmZm5PwAAAAAAAAAAzVT3uuGVwz+amZmZmZm5P81CXTdB0cc/AJCcv7RTlz8A0k2EI0rAv8DMSYTd72O/AIhccJISvr8AAJq8D3CHv818cpG9gcI/mpmZmZmZuT9ml8Ycc6PRPwCgPDW3v7u/NBNqo/hJpz8ArIfgXvrRv8z8iinSGaS/ADNhz4aH1b9mFq625Di4v5oAPXLf1NO/AJIwaIrSxL8AAGYage+XPwBUuDfjAea/mkm00BDf0L9m0oTr4/+zvzO3V7rbR+M/s5LXIDB+5z+YmZrnMbCZv2hW+580p5E/ZnoNqQqc1T8AsAWcEHywv81kw2O8iea/M8OIkR/Ux7+zAbLR2SLlP80kw87v08M/M32GBIPI5D8AGkCpE3nQPwAL8KFMotE/ANrTSaWA1D8AMYShwqrrP81MWiPn0sc/M7258v3E4j/NrR8HpGsDQKZOAT40QPy/",
            "dtype": "f8"
           },
           "yaxis": "y2"
          },
          {
           "line": {
            "color": "rgba(60, 179, 113, 0.9)",
            "width": 2
           },
           "name": "Cumulative P&L",
           "type": "scatter",
           "x": {
            "bdata": "AAECAwQFBgcICQoLDA0ODxAREhMUFRYXGBkaGxwdHh8gISIjJCUmJygpKissLS4vMDEyMzQ1Njc4OTo7PD0+P0BBQkNERUZHSElKS0xNTk9QUVJTVFVWV1hZWltcXV5f",
            "dtype": "i1"
           },
           "xaxis": "x2",
           "y": {
            "bdata": "AAAAAAAAAABmJIA29L3bP2Ymw4ZZv+Y/mVn2uYzy6T+ZWfa5jPLpP2ZPOC4fu/E/pmsS2unr8D9ABaxzg4XyP5rT/2HicvM/tHgrUbuQ9D/O9z0R63D2P2ixUKJRzfs/aNThxFUY9z8DHmwCWtnvP8JCoTTA5/c/Al9rSoC5/D+cdxw/xvz/P9vvxtZkkgRAqFefLuPYAkA1wX0DEZ0HQARQBr+92/Q/u1K+m+nM4T/cQ8uq1BfeP3xFuQHk0sS/33jIBxZt7r/fv/yi3z3iv8CXmg7oAoq/EDUumbX9gT/58o1vfUTgv8abIIkaH+C/bu4Id4n05T/QoGESB5n2PyoiKO1gzfg/xJziS8jv+j87BCXjTzHpP7fYp2lK8PY/UVbq7gsE9j/VD7g8O+rrPxDFD9PtO9I/u/vKCsI84T/cvkcvSYLYP3BbzEngi7Y/CoVvd8AUuj+FIt/T0BPBP6Reo/ljvLg/CPfKE9Be5j87SECi4FLnP256j2CUluk/IfKBxGG77j9CkNEFucfVP1Qj5/IaSOI/BxOqAR+15j86Rt00UujpPzpG3TRS6Ok/bRubo8rN7j9QJ2frfgDxP6rPUhKn+vM/6kFR5fVX9D+qh8d0sU7yP8RiBYa5RPI/RJr/XpBj8D9EZoY/sDTwP961tPHnhPI/eE9Oi4Ee9D9S9X9SXof4P1IrLN9iy/Y/7HtHpLKF9z/skCXsGgfzPwY52VpMZvI/jNgBTtUI6j+/FSy3uAHnP+QqG/yRLto/yMMFkJmKzz/kQanZRETRPxxmx5WBv9q/29c9M0nP5b8ocq6wRU/ov9TrWtmnHcS/vteAKsZ24j/xAkSbRKnhP6TdQ0B+NuI/15rKlIME7T/X5EmBAfXqPygAGnYUrcE/LAy7bSycqL/wUNYKF5njPyMah/4Sjug/q8uGAUur9j8r0tbrj8n6P+vUUhQjMv8/tuVjMyYpAkD28cTb1hMJQMOW+k0FkQpAEAapykRCD0DuWeRo9FYZQEQGZFnnRhJA",
            "dtype": "f8"
           },
           "yaxis": "y2"
          }
         ]
        },
        {
         "data": [
          {
           "line": {
            "color": "rgba(60, 179, 113, 0.9)",
            "dash": "dot",
            "width": 2
           },
           "name": "Mid Price (Estimated)",
           "type": "scatter",
           "x": {
            "bdata": "AAECAwQFBgcICQoLDA0ODxAREhMUFRYXGBkaGxwdHh8gISIjJCUmJygpKissLS4vMDEyMzQ1Njc4OTo7PD0+P0BBQkNERUZHSElKS0xNTk9QUVJTVFVWV1hZWltcXV5fYA==",
            "dtype": "i1"
           },
           "xaxis": "x",
           "y": {
            "bdata": "gNHvJb/4WEChxAdfE+5YQN8klwa54lhA9ltPBy3aWECPYPkixNVYQLPu1x9l4lhAJFeHSijfWEAJUu9IbOBYQDZpnDMd41hAH0XxtBTkWEDto2iXtuNYQK2xef0w3FhAZ4809ZrlWEA7QQajTPFYQPZcbImo5lhAe09PiTvgWED8N/Tckd5YQIq+FlWG2FhAZgQIE+TbWED8XSOkW9dYQGIlFKNX5VhAGbj1/xbtWEASG5QMlO5YQB0dcm5H9VhAlqRPG3z8WEAY2DLnAPlYQNsye2Ho81hA31eqLYn0WECxYqimLfpYQKWkbEEy+1hAQ17ERTvxWEB7vGWxOOxYQNKiiUPg61hAPOKwD4XrWECZA3SkRfhYQNyHlZuH71hArKawu+TyWECUzppDjfxYQH+7SZM3C1lAjLNSx8EIWUDfCmK0BwxZQGc1zvfND1lAzvRkAy8RWUDi71HVrRBZQEKUQueYE1lA6jDh1oQDWUCurCocAwhZQK+Qn5vyCFlALBF/36YHWUBId1U44RRZQCCsGC2wEFlAp4xhizwOWUBJuvxFHBtZQI4PysrpFVlASvpSQIUSWUAo/v8htRFZQGNGNVw3F1lALECBl6wYWUBDGb+FhxBZQMZhrmJADVlANVZgEH4JWUDNYyFQIAlZQKW2g8j6C1lAk3lUvcgOWUBiGZ6wiwNZQIpoa557CllAHGUUMjoMWUDyqIRhNxVZQDSGaOwvGFlARVFYGV0fWUDAVT1BeiJZQI3h2q04K1lAUJRBGrEuWUAwsjtyMS5ZQGiCC1/dPFlAFEnZvK5CWUCdC0+He0ZZQFt5CzNxPllAaARGNFM2WUBsPKeOUzhZQCmERr9iOVlAZNo1VpU1WUC/mj8XnTZZQC/KSKroQFlA4ZTUx3xFWUAoYsgeUD5ZQPbiMjG6PVlAKstkGrQ4WUCU5t6pWTZZQLeffsPUM1lA4VwG9eYwWUDTpLNP/yhZQPs7Du5OKFlAhzrHMtkkWUCm54xbOhJZQH8sCbd+H1lA6EO8UpcmWUA=",
            "dtype": "f8"
           },
           "yaxis": "y"
          },
          {
           "line": {
            "color": "rgba(178, 34, 34, 0.9)",
            "width": 2
           },
           "name": "Bid",
           "type": "scatter",
           "x": {
            "bdata": "AAECAwQFBgcICQoLDA0ODxAREhMUFRYXGBkaGxwdHh8gISIjJCUmJygpKissLS4vMDEyMzQ1Njc4OTo7PD0+P0BBQkNERUZHSElKS0xNTk9QUVJTVFVWV1hZWltcXV5fYA==",
            "dtype": "i1"
           },
           "xaxis": "x",
           "y": {
            "bdata": "GmuJv1jyWEA7XqH4rOdYQHm+MKBS3FhAkPXooMbTWEAp+pK8Xc9YQE2Icbn+21hAvvAg5MHYWECj64jiBdpYQNACNs223FhAud6KTq7dWECHPQIxUN1YQEdLE5fK1VhAASnOjjTfWEDV2p885upYQJD2BSNC4FhAFenoItXZWECW0Y12K9hYQCRYsO4f0lhAAJ6hrH3VWECW97w99dBYQPy+rTzx3lhAs1GPmbDmWECstC2mLehYQLe2Cwjh7lhAMD7ptBX2WECyccyAmvJYQHXMFPuB7VhAefFDxyLuWEBL/EFAx/NYQD8+BtvL9FhA3fdd39TqWEAVVv9K0uVYQGw8I9155VhA1ntKqR7lWEAznQ0+3/FYQHYhLzUh6VhARkBKVX7sWEAuaDTdJvZYQBlV4yzRBFlAJk3sYFsCWUB5pPtNoQVZQAHPZ5FnCVlAaI7+nMgKWUB8ietuRwpZQNwt3IAyDVlAhMp6cB79WEBIRsS1nAFZQEkqOTWMAllAxqoYeUABWUDiEO/Reg5ZQLpFssZJCllAQSb7JNYHWUDjU5bftRRZQCipY2SDD1lA5JPs2R4MWUDCl5m7TgtZQP3fzvXQEFlAxtkaMUYSWUDdslgfIQpZQGD7R/zZBllAz+/5qRcDWUBn/brpuQJZQD9QHWKUBVlALRPuVmIIWUD8sjdKJf1YQCQCBTgVBFlAtv6ty9MFWUCMQh770A5ZQM4fAobJEVlA3+rxsvYYWUBa79baExxZQCd7dEfSJFlA6i3bs0ooWUDKS9ULyydZQAIcpfh2NllAruJyVkg8WUA3peggFUBZQPUSpcwKOFlAAp7fzewvWUAG1kAo7TFZQMMd4Fj8MllA/nPP7y4vWUBZNNmwNjBZQMlj4kOCOllAey5uYRY/WUDC+2G46TdZQJB8zMpTN1lAxGT+s00yWUAugHhD8y9ZQFE5GF1uLVlAe/afjoAqWUBtPk3pmCJZQJXVp4foIVlAIdRgzHIeWUBAgSb10wtZQBnGolAYGVlAgt1V7DAgWUA=",
            "dtype": "f8"
           },
           "yaxis": "y"
          },
          {
           "line": {
            "color": "rgba(70, 130, 180, 0.9)",
            "width": 2
           },
           "name": "Ask",
           "type": "scatter",
           "x": {
            "bdata": "AAECAwQFBgcICQoLDA0ODxAREhMUFRYXGBkaGxwdHh8gISIjJCUmJygpKissLS4vMDEyMzQ1Njc4OTo7PD0+P0BBQkNERUZHSElKS0xNTk9QUVJTVFVWV1hZWltcXV5fYA==",
            "dtype": "i1"
           },
           "xaxis": "x",
           "y": {
            "bdata": "5jdWjCX/WEAHK27FefRYQEWL/Wwf6VhAXMK1bZPgWED1xl+JKtxYQBlVPobL6FhAir3tsI7lWEBvuFWv0uZYQJzPApqD6VhAhatXG3vqWEBTCs/9HOpYQBMY4GOX4lhAzfWaWwHsWEChp2wJs/dYQFzD0u8O7VhA4bW176HmWEBinlpD+ORYQPAkfbvs3lhAzGpueUriWEBixIkKwt1YQMiLegm+61hAfx5cZn3zWEB4gfpy+vRYQIOD2NSt+1hA/Aq2geICWUB+PplNZ/9YQEGZ4cdO+lhARb4QlO/6WEAXyQ4NlABZQAsL06eYAVlAqcQqrKH3WEDhIswXn/JYQDgJ8KlG8lhAokgXduvxWED/adoKrP5YQELu+wHu9VhAEg0XIkv5WED6NAGq8wJZQOUhsPmdEVlA8hm5LSgPWUBFccgabhJZQM2bNF40FllANFvLaZUXWUBIVrg7FBdZQKj6qE3/GVlAUJdHPesJWUAUE5GCaQ5ZQBX3BQJZD1lAknflRQ0OWUCu3bueRxtZQIYSf5MWF1lADfPH8aIUWUCvIGOsgiFZQPR1MDFQHFlAsGC5pusYWUCOZGaIGxhZQMmsm8KdHVlAkqbn/RIfWUCpfyXs7RZZQCzIFMmmE1lAm7zGduQPWUAzyoe2hg9ZQAsd6i5hEllA+d+6Iy8VWUDIfwQX8glZQPDO0QTiEFlAgst6mKASWUBYD+vHnRtZQJrszlKWHllAq7e+f8MlWUAmvKOn4ChZQPNHQRSfMVlAtvqngBc1WUCWGKLYlzRZQM7occVDQ1lAeq8/IxVJWUADcrXt4UxZQMHfcZnXRFlAzmqsmrk8WUDSog31uT5ZQI/qrCXJP1lAykCcvPs7WUAlAaZ9Az1ZQJUwrxBPR1lAR/s6LuNLWUCOyC6FtkRZQFxJmZcgRFlAkDHLgBo/WUD6TEUQwDxZQB0G5Sk7OllAR8NsW003WUA5Cxq2ZS9ZQGGidFS1LllA7aAtmT8rWUAMTvPBoBhZQOWSbx3lJVlATqoiuf0sWUA=",
            "dtype": "f8"
           },
           "yaxis": "y"
          },
          {
           "marker": {
            "color": [
             "rgba(31, 119, 180, 0.8)",
             "rgba(31, 119, 180, 0.8)",
             "rgba(31, 119, 180, 0.8)",
             "rgba(31, 119, 180, 0.8)",
             "rgba(31, 119, 180, 0.8)",
             "rgba(31, 119, 180, 0.8)",
             "rgba(178, 34, 34, 0.8)",
             "rgba(31, 119, 180, 0.8)",
             "rgba(31, 119, 180, 0.8)",
             "rgba(31, 119, 180, 0.8)",
             "rgba(31, 119, 180, 0.8)",
             "rgba(31, 119, 180, 0.8)",
             "rgba(178, 34, 34, 0.8)",
             "rgba(178, 34, 34, 0.8)",
             "rgba(31, 119, 180, 0.8)",
             "rgba(31, 119, 180, 0.8)",
             "rgba(31, 119, 180, 0.8)",
             "rgba(31, 119, 180, 0.8)",
             "rgba(178, 34, 34, 0.8)",
             "rgba(31, 119, 180, 0.8)",
             "rgba(178, 34, 34, 0.8)",
             "rgba(178, 34, 34, 0.8)",
             "rgba(178, 34, 34, 0.8)",
             "rgba(178, 34, 34, 0.8)",
             "rgba(178, 34, 34, 0.8)",
             "rgba(31, 119, 180, 0.8)",
             "rgba(31, 119, 180, 0.8)",
             "rgba(31, 119, 180, 0.8)",
             "rgba(178, 34, 34, 0.8)",
             "rgba(31, 119, 180, 0.8)",
             "rgba(31, 119, 180, 0.8)",
             "rgba(31, 119, 180, 0.8)",
             "rgba(31, 119, 180, 0.8)",
             "rgba(31, 119, 180, 0.8)",
             "rgba(178, 34, 34, 0.8)",
             "rgba(31, 119, 180, 0.8)",
             "rgba(178, 34, 34, 0.8)",
             "rgba(178, 34, 34, 0.8)",
             "rgba(178, 34, 34, 0.8)",
             "rgba(31, 119, 180, 0.8)",
             "rgba(178, 34, 34, 0.8)",
             "rgba(178, 34, 34, 0.8)",
             "rgba(31, 119, 180, 0.8)",
             "rgba(31, 119, 180, 0.8)",
             "rgba(178, 34, 34, 0.8)",
             "rgba(31, 119, 180, 0.8)",
             "rgba(31, 119, 180, 0.8)",
             "rgba(31, 119, 180, 0.8)",
             "rgba(31, 119, 180, 0.8)",
             "rgba(178, 34, 34, 0.8)",
             "rgba(31, 119, 180, 0.8)",
             "rgba(31, 119, 180, 0.8)",
             "rgba(31, 119, 180, 0.8)",
             "rgba(31, 119, 180, 0.8)",
             "rgba(31, 119, 180, 0.8)",
             "rgba(31, 119, 180, 0.8)",
             "rgba(31, 119, 180, 0.8)",
             "rgba(31, 119, 180, 0.8)",
             "rgba(178, 34, 34, 0.8)",
             "rgba(178, 34, 34, 0.8)",
             "rgba(178, 34, 34, 0.8)",
             "rgba(178, 34, 34, 0.8)",
             "rgba(31, 119, 180, 0.8)",
             "rgba(31, 119, 180, 0.8)",
             "rgba(31, 119, 180, 0.8)",
             "rgba(178, 34, 34, 0.8)",
             "rgba(31, 119, 180, 0.8)",
             "rgba(178, 34, 34, 0.8)",
             "rgba(178, 34, 34, 0.8)",
             "rgba(178, 34, 34, 0.8)",
             "rgba(178, 34, 34, 0.8)",
             "rgba(178, 34, 34, 0.8)",
             "rgba(178, 34, 34, 0.8)",
             "rgba(31, 119, 180, 0.8)",
             "rgba(178, 34, 34, 0.8)",
             "rgba(178, 34, 34, 0.8)",
             "rgba(178, 34, 34, 0.8)",
             "rgba(31, 119, 180, 0.8)",
             "rgba(31, 119, 180, 0.8)",
             "rgba(178, 34, 34, 0.8)",
             "rgba(31, 119, 180, 0.8)",
             "rgba(31, 119, 180, 0.8)",
             "rgba(178, 34, 34, 0.8)",
             "rgba(178, 34, 34, 0.8)",
             "rgba(178, 34, 34, 0.8)",
             "rgba(31, 119, 180, 0.8)",
             "rgba(31, 119, 180, 0.8)",
             "rgba(31, 119, 180, 0.8)",
             "rgba(31, 119, 180, 0.8)",
             "rgba(31, 119, 180, 0.8)",
             "rgba(31, 119, 180, 0.8)",
             "rgba(31, 119, 180, 0.8)",
             "rgba(31, 119, 180, 0.8)",
             "rgba(31, 119, 180, 0.8)",
             "rgba(31, 119, 180, 0.8)",
             "rgba(178, 34, 34, 0.8)",
             "rgba(178, 34, 34, 0.8)"
            ]
           },
           "name": "Trade P&L",
           "type": "bar",
           "x": {
            "bdata": "AAECAwQFBgcICQoLDA0ODxAREhMUFRYXGBkaGxwdHh8gISIjJCUmJygpKissLS4vMDEyMzQ1Njc4OTo7PD0+P0BBQkNERUZHSElKS0xNTk9QUVJTVFVWV1hZWltcXV5fYA==",
            "dtype": "i1"
           },
           "xaxis": "x2",
           "y": {
            "bdata": "mpmZmZmZuT9mJIA29L3bP2YoBte+wNE/mpmZmZmZuT8AAAAAAAAAAGaK9ERjB9M/AHi8hKrmqb+amZmZmZm5PzTLecrdq60/mlG68o7dsT+a8ScB/AK+P2bmSkSacdU/AHS7de/T0r+aFa8Oo67cvwDPrM1M7N8/AHEoVwBH0z/NxIilLxrKPzPQ4twGUOI/M4N5ghqYy78zpnlTtxDjP2Yy9UdkXvq/TU1O4pHq579mhsUy+ge2v03z01WjQOS/gCdaB1046b8AcpfJbF7YP4BVwgLU1eE/aGbk004Alj/Nq/JFdIzgv6CZqzZzsXI/GsUUANIJ8z8zU7qthD3nP80KNNbOosE/zdTT9ToTwT9NNaC0QK7svzOtKvBEr+Q/zEywV8+Hrb/NnByh3B3gv00tMFNEzOK/ZjKGQpY90D8zcZzMde7DvwCo1BxR39K/0EwZbQFHjD8AgJ1gwiWgP8zMNVx71qK/M4uWlENH4z9oJqrOEYKeP5qRefKdHbI/zd7JjzWTxD8AKplBhdfjv81s+b/5kM0/zb4LOxC0wT+amZmZmZm5PwAAAAAAAAAAzVT3uuGVwz+amZmZmZm5P81CXTdB0cc/AJCcv7RTlz8A0k2EI0rAv8DMSYTd72O/AIhccJISvr8AAJq8D3CHv818cpG9gcI/mpmZmZmZuT9ml8Ycc6PRPwCgPDW3v7u/NBNqo/hJpz8ArIfgXvrRv8z8iinSGaS/ADNhz4aH1b9mFq625Di4v5oAPXLf1NO/AJIwaIrSxL8AAGYage+XPwBUuDfjAea/mkm00BDf0L9m0oTr4/+zvzO3V7rbR+M/s5LXIDB+5z+YmZrnMbCZv2hW+580p5E/ZnoNqQqc1T8AsAWcEHywv81kw2O8iea/M8OIkR/Ux7+zAbLR2SLlP80kw87v08M/M32GBIPI5D8AGkCpE3nQPwAL8KFMotE/ANrTSaWA1D8AMYShwqrrP81MWiPn0sc/M7258v3E4j/NrR8HpGsDQKZOAT40QPy/5uwgpusj8L8=",
            "dtype": "f8"
           },
           "yaxis": "y2"
          },
          {
           "line": {
            "color": "rgba(60, 179, 113, 0.9)",
            "width": 2
           },
           "name": "Cumulative P&L",
           "type": "scatter",
           "x": {
            "bdata": "AAECAwQFBgcICQoLDA0ODxAREhMUFRYXGBkaGxwdHh8gISIjJCUmJygpKissLS4vMDEyMzQ1Njc4OTo7PD0+P0BBQkNERUZHSElKS0xNTk9QUVJTVFVWV1hZWltcXV5fYA==",
            "dtype": "i1"
           },
           "xaxis": "x2",
           "y": {
            "bdata": "AAAAAAAAAABmJIA29L3bP2Ymw4ZZv+Y/mVn2uYzy6T+ZWfa5jPLpP2ZPOC4fu/E/pmsS2unr8D9ABaxzg4XyP5rT/2HicvM/tHgrUbuQ9D/O9z0R63D2P2ixUKJRzfs/aNThxFUY9z8DHmwCWtnvP8JCoTTA5/c/Al9rSoC5/D+cdxw/xvz/P9vvxtZkkgRAqFefLuPYAkA1wX0DEZ0HQARQBr+92/Q/u1K+m+nM4T/cQ8uq1BfeP3xFuQHk0sS/33jIBxZt7r/fv/yi3z3iv8CXmg7oAoq/EDUumbX9gT/58o1vfUTgv8abIIkaH+C/bu4Id4n05T/QoGESB5n2PyoiKO1gzfg/xJziS8jv+j87BCXjTzHpP7fYp2lK8PY/UVbq7gsE9j/VD7g8O+rrPxDFD9PtO9I/u/vKCsI84T/cvkcvSYLYP3BbzEngi7Y/CoVvd8AUuj+FIt/T0BPBP6Reo/ljvLg/CPfKE9Be5j87SECi4FLnP256j2CUluk/IfKBxGG77j9CkNEFucfVP1Qj5/IaSOI/BxOqAR+15j86Rt00UujpPzpG3TRS6Ok/bRubo8rN7j9QJ2frfgDxP6rPUhKn+vM/6kFR5fVX9D+qh8d0sU7yP8RiBYa5RPI/RJr/XpBj8D9EZoY/sDTwP961tPHnhPI/eE9Oi4Ee9D9S9X9SXof4P1IrLN9iy/Y/7HtHpLKF9z/skCXsGgfzPwY52VpMZvI/jNgBTtUI6j+/FSy3uAHnP+QqG/yRLto/yMMFkJmKzz/kQanZRETRPxxmx5WBv9q/29c9M0nP5b8ocq6wRU/ov9TrWtmnHcS/vteAKsZ24j/xAkSbRKnhP6TdQ0B+NuI/15rKlIME7T/X5EmBAfXqPygAGnYUrcE/LAy7bSycqL/wUNYKF5njPyMah/4Sjug/q8uGAUur9j8r0tbrj8n6P+vUUhQjMv8/tuVjMyYpAkD28cTb1hMJQMOW+k0FkQpAEAapykRCD0DuWeRo9FYZQEQGZFnnRhJAFZa339h7DEA=",
            "dtype": "f8"
           },
           "yaxis": "y2"
          }
         ]
        },
        {
         "data": [
          {
           "line": {
            "color": "rgba(60, 179, 113, 0.9)",
            "dash": "dot",
            "width": 2
           },
           "name": "Mid Price (Estimated)",
           "type": "scatter",
           "x": {
            "bdata": "AAECAwQFBgcICQoLDA0ODxAREhMUFRYXGBkaGxwdHh8gISIjJCUmJygpKissLS4vMDEyMzQ1Njc4OTo7PD0+P0BBQkNERUZHSElKS0xNTk9QUVJTVFVWV1hZWltcXV5fYGE=",
            "dtype": "i1"
           },
           "xaxis": "x",
           "y": {
            "bdata": "gNHvJb/4WEChxAdfE+5YQN8klwa54lhA9ltPBy3aWECPYPkixNVYQLPu1x9l4lhAJFeHSijfWEAJUu9IbOBYQDZpnDMd41hAH0XxtBTkWEDto2iXtuNYQK2xef0w3FhAZ4809ZrlWEA7QQajTPFYQPZcbImo5lhAe09PiTvgWED8N/Tckd5YQIq+FlWG2FhAZgQIE+TbWED8XSOkW9dYQGIlFKNX5VhAGbj1/xbtWEASG5QMlO5YQB0dcm5H9VhAlqRPG3z8WEAY2DLnAPlYQNsye2Ho81hA31eqLYn0WECxYqimLfpYQKWkbEEy+1hAQ17ERTvxWEB7vGWxOOxYQNKiiUPg61hAPOKwD4XrWECZA3SkRfhYQNyHlZuH71hArKawu+TyWECUzppDjfxYQH+7SZM3C1lAjLNSx8EIWUDfCmK0BwxZQGc1zvfND1lAzvRkAy8RWUDi71HVrRBZQEKUQueYE1lA6jDh1oQDWUCurCocAwhZQK+Qn5vyCFlALBF/36YHWUBId1U44RRZQCCsGC2wEFlAp4xhizwOWUBJuvxFHBtZQI4PysrpFVlASvpSQIUSWUAo/v8htRFZQGNGNVw3F1lALECBl6wYWUBDGb+FhxBZQMZhrmJADVlANVZgEH4JWUDNYyFQIAlZQKW2g8j6C1lAk3lUvcgOWUBiGZ6wiwNZQIpoa557CllAHGUUMjoMWUDyqIRhNxVZQDSGaOwvGFlARVFYGV0fWUDAVT1BeiJZQI3h2q04K1lAUJRBGrEuWUAwsjtyMS5ZQGiCC1/dPFlAFEnZvK5CWUCdC0+He0ZZQFt5CzNxPllAaARGNFM2WUBsPKeOUzhZQCmERr9iOVlAZNo1VpU1WUC/mj8XnTZZQC/KSKroQFlA4ZTUx3xFWUAoYsgeUD5ZQPbiMjG6PVlAKstkGrQ4WUCU5t6pWTZZQLeffsPUM1lA4VwG9eYwWUDTpLNP/yhZQPs7Du5OKFlAhzrHMtkkWUCm54xbOhJZQH8sCbd+H1lA6EO8UpcmWUDnPGGPTyRZQA==",
            "dtype": "f8"
           },
           "yaxis": "y"
          },
          {
           "line": {
            "color": "rgba(178, 34, 34, 0.9)",
            "width": 2
           },
           "name": "Bid",
           "type": "scatter",
           "x": {
            "bdata": "AAECAwQFBgcICQoLDA0ODxAREhMUFRYXGBkaGxwdHh8gISIjJCUmJygpKissLS4vMDEyMzQ1Njc4OTo7PD0+P0BBQkNERUZHSElKS0xNTk9QUVJTVFVWV1hZWltcXV5fYGE=",
            "dtype": "i1"
           },
           "xaxis": "x",
           "y": {
            "bdata": "GmuJv1jyWEA7XqH4rOdYQHm+MKBS3FhAkPXooMbTWEAp+pK8Xc9YQE2Icbn+21hAvvAg5MHYWECj64jiBdpYQNACNs223FhAud6KTq7dWECHPQIxUN1YQEdLE5fK1VhAASnOjjTfWEDV2p885upYQJD2BSNC4FhAFenoItXZWECW0Y12K9hYQCRYsO4f0lhAAJ6hrH3VWECW97w99dBYQPy+rTzx3lhAs1GPmbDmWECstC2mLehYQLe2Cwjh7lhAMD7ptBX2WECyccyAmvJYQHXMFPuB7VhAefFDxyLuWEBL/EFAx/NYQD8+BtvL9FhA3fdd39TqWEAVVv9K0uVYQGw8I9155VhA1ntKqR7lWEAznQ0+3/FYQHYhLzUh6VhARkBKVX7sWEAuaDTdJvZYQBlV4yzRBFlAJk3sYFsCWUB5pPtNoQVZQAHPZ5FnCVlAaI7+nMgKWUB8ietuRwpZQNwt3IAyDVlAhMp6cB79WEBIRsS1nAFZQEkqOTWMAllAxqoYeUABWUDiEO/Reg5ZQLpFssZJCllAQSb7JNYHWUDjU5bftRRZQCipY2SDD1lA5JPs2R4MWUDCl5m7TgtZQP3fzvXQEFlAxtkaMUYSWUDdslgfIQpZQGD7R/zZBllAz+/5qRcDWUBn/brpuQJZQD9QHWKUBVlALRPuVmIIWUD8sjdKJf1YQCQCBTgVBFlAtv6ty9MFWUCMQh770A5ZQM4fAobJEVlA3+rxsvYYWUBa79baExxZQCd7dEfSJFlA6i3bs0ooWUDKS9ULyydZQAIcpfh2NllAruJyVkg8WUA3peggFUBZQPUSpcwKOFlAAp7fzewvWUAG1kAo7TFZQMMd4Fj8MllA/nPP7y4vWUBZNNmwNjBZQMlj4kOCOllAey5uYRY/WUDC+2G46TdZQJB8zMpTN1lAxGT+s00yWUAugHhD8y9ZQFE5GF1uLVlAe/afjoAqWUBtPk3pmCJZQJXVp4foIVlAIdRgzHIeWUBAgSb10wtZQBnGolAYGVlAgt1V7DAgWUCB1voo6R1ZQA==",
            "dtype": "f8"
           },
           "yaxis": "y"
          },
          {
           "line": {
            "color": "rgba(70, 130, 180, 0.9)",
            "width": 2
           },
           "name": "Ask",
           "type": "scatter",
           "x": {
            "bdata": "AAECAwQFBgcICQoLDA0ODxAREhMUFRYXGBkaGxwdHh8gISIjJCUmJygpKissLS4vMDEyMzQ1Njc4OTo7PD0+P0BBQkNERUZHSElKS0xNTk9QUVJTVFVWV1hZWltcXV5fYGE=",
            "dtype": "i1"
           },
           "xaxis": "x",
           "y": {
            "bdata": "5jdWjCX/WEAHK27FefRYQEWL/Wwf6VhAXMK1bZPgWED1xl+JKtxYQBlVPobL6FhAir3tsI7lWEBvuFWv0uZYQJzPApqD6VhAhatXG3vqWEBTCs/9HOpYQBMY4GOX4lhAzfWaWwHsWEChp2wJs/dYQFzD0u8O7VhA4bW176HmWEBinlpD+ORYQPAkfbvs3lhAzGpueUriWEBixIkKwt1YQMiLegm+61hAfx5cZn3zWEB4gfpy+vRYQIOD2NSt+1hA/Aq2geICWUB+PplNZ/9YQEGZ4cdO+lhARb4QlO/6WEAXyQ4NlABZQAsL06eYAVlAqcQqrKH3WEDhIswXn/JYQDgJ8KlG8lhAokgXduvxWED/adoKrP5YQELu+wHu9VhAEg0XIkv5WED6NAGq8wJZQOUhsPmdEVlA8hm5LSgPWUBFccgabhJZQM2bNF40FllANFvLaZUXWUBIVrg7FBdZQKj6qE3/GVlAUJdHPesJWUAUE5GCaQ5ZQBX3BQJZD1lAknflRQ0OWUCu3bueRxtZQIYSf5MWF1lADfPH8aIUWUCvIGOsgiFZQPR1MDFQHFlAsGC5pusYWUCOZGaIGxhZQMmsm8KdHVlAkqbn/RIfWUCpfyXs7RZZQCzIFMmmE1lAm7zGduQPWUAzyoe2hg9ZQAsd6i5hEllA+d+6Iy8VWUDIfwQX8glZQPDO0QTiEFlAgst6mKASWUBYD+vHnRtZQJrszlKWHllAq7e+f8MlWUAmvKOn4ChZQPNHQRSfMVlAtvqngBc1WUCWGKLYlzRZQM7occVDQ1lAeq8/IxVJWUADcrXt4UxZQMHfcZnXRFlAzmqsmrk8WUDSog31uT5ZQI/qrCXJP1lAykCcvPs7WUAlAaZ9Az1ZQJUwrxBPR1lAR/s6LuNLWUCOyC6FtkRZQFxJmZcgRFlAkDHLgBo/WUD6TEUQwDxZQB0G5Sk7OllAR8NsW003WUA5Cxq2ZS9ZQGGidFS1LllA7aAtmT8rWUAMTvPBoBhZQOWSbx3lJVlATqoiuf0sWUBNo8f1tSpZQA==",
            "dtype": "f8"
           },
           "yaxis": "y"
          },
          {
           "marker": {
            "color": [
             "rgba(31, 119, 180, 0.8)",
             "rgba(31, 119, 180, 0.8)",
             "rgba(31, 119, 180, 0.8)",
             "rgba(31, 119, 180, 0.8)",
             "rgba(31, 119, 180, 0.8)",
             "rgba(31, 119, 180, 0.8)",
             "rgba(178, 34, 34, 0.8)",
             "rgba(31, 119, 180, 0.8)",
             "rgba(31, 119, 180, 0.8)",
             "rgba(31, 119, 180, 0.8)",
             "rgba(31, 119, 180, 0.8)",
             "rgba(31, 119, 180, 0.8)",
             "rgba(178, 34, 34, 0.8)",
             "rgba(178, 34, 34, 0.8)",
             "rgba(31, 119, 180, 0.8)",
             "rgba(31, 119, 180, 0.8)",
             "rgba(31, 119, 180, 0.8)",
             "rgba(31, 119, 180, 0.8)",
             "rgba(178, 34, 34, 0.8)",
             "rgba(31, 119, 180, 0.8)",
             "rgba(178, 34, 34, 0.8)",
             "rgba(178, 34, 34, 0.8)",
             "rgba(178, 34, 34, 0.8)",
             "rgba(178, 34, 34, 0.8)",
             "rgba(178, 34, 34, 0.8)",
             "rgba(31, 119, 180, 0.8)",
             "rgba(31, 119, 180, 0.8)",
             "rgba(31, 119, 180, 0.8)",
             "rgba(178, 34, 34, 0.8)",
             "rgba(31, 119, 180, 0.8)",
             "rgba(31, 119, 180, 0.8)",
             "rgba(31, 119, 180, 0.8)",
             "rgba(31, 119, 180, 0.8)",
             "rgba(31, 119, 180, 0.8)",
             "rgba(178, 34, 34, 0.8)",
             "rgba(31, 119, 180, 0.8)",
             "rgba(178, 34, 34, 0.8)",
             "rgba(178, 34, 34, 0.8)",
             "rgba(178, 34, 34, 0.8)",
             "rgba(31, 119, 180, 0.8)",
             "rgba(178, 34, 34, 0.8)",
             "rgba(178, 34, 34, 0.8)",
             "rgba(31, 119, 180, 0.8)",
             "rgba(31, 119, 180, 0.8)",
             "rgba(178, 34, 34, 0.8)",
             "rgba(31, 119, 180, 0.8)",
             "rgba(31, 119, 180, 0.8)",
             "rgba(31, 119, 180, 0.8)",
             "rgba(31, 119, 180, 0.8)",
             "rgba(178, 34, 34, 0.8)",
             "rgba(31, 119, 180, 0.8)",
             "rgba(31, 119, 180, 0.8)",
             "rgba(31, 119, 180, 0.8)",
             "rgba(31, 119, 180, 0.8)",
             "rgba(31, 119, 180, 0.8)",
             "rgba(31, 119, 180, 0.8)",
             "rgba(31, 119, 180, 0.8)",
             "rgba(31, 119, 180, 0.8)",
             "rgba(178, 34, 34, 0.8)",
             "rgba(178, 34, 34, 0.8)",
             "rgba(178, 34, 34, 0.8)",
             "rgba(178, 34, 34, 0.8)",
             "rgba(31, 119, 180, 0.8)",
             "rgba(31, 119, 180, 0.8)",
             "rgba(31, 119, 180, 0.8)",
             "rgba(178, 34, 34, 0.8)",
             "rgba(31, 119, 180, 0.8)",
             "rgba(178, 34, 34, 0.8)",
             "rgba(178, 34, 34, 0.8)",
             "rgba(178, 34, 34, 0.8)",
             "rgba(178, 34, 34, 0.8)",
             "rgba(178, 34, 34, 0.8)",
             "rgba(178, 34, 34, 0.8)",
             "rgba(31, 119, 180, 0.8)",
             "rgba(178, 34, 34, 0.8)",
             "rgba(178, 34, 34, 0.8)",
             "rgba(178, 34, 34, 0.8)",
             "rgba(31, 119, 180, 0.8)",
             "rgba(31, 119, 180, 0.8)",
             "rgba(178, 34, 34, 0.8)",
             "rgba(31, 119, 180, 0.8)",
             "rgba(31, 119, 180, 0.8)",
             "rgba(178, 34, 34, 0.8)",
             "rgba(178, 34, 34, 0.8)",
             "rgba(178, 34, 34, 0.8)",
             "rgba(31, 119, 180, 0.8)",
             "rgba(31, 119, 180, 0.8)",
             "rgba(31, 119, 180, 0.8)",
             "rgba(31, 119, 180, 0.8)",
             "rgba(31, 119, 180, 0.8)",
             "rgba(31, 119, 180, 0.8)",
             "rgba(31, 119, 180, 0.8)",
             "rgba(31, 119, 180, 0.8)",
             "rgba(31, 119, 180, 0.8)",
             "rgba(31, 119, 180, 0.8)",
             "rgba(178, 34, 34, 0.8)",
             "rgba(178, 34, 34, 0.8)",
             "rgba(31, 119, 180, 0.8)"
            ]
           },
           "name": "Trade P&L",
           "type": "bar",
           "x": {
            "bdata": "AAECAwQFBgcICQoLDA0ODxAREhMUFRYXGBkaGxwdHh8gISIjJCUmJygpKissLS4vMDEyMzQ1Njc4OTo7PD0+P0BBQkNERUZHSElKS0xNTk9QUVJTVFVWV1hZWltcXV5fYGE=",
            "dtype": "i1"
           },
           "xaxis": "x2",
           "y": {
            "bdata": "mpmZmZmZuT9mJIA29L3bP2YoBte+wNE/mpmZmZmZuT8AAAAAAAAAAGaK9ERjB9M/AHi8hKrmqb+amZmZmZm5PzTLecrdq60/mlG68o7dsT+a8ScB/AK+P2bmSkSacdU/AHS7de/T0r+aFa8Oo67cvwDPrM1M7N8/AHEoVwBH0z/NxIilLxrKPzPQ4twGUOI/M4N5ghqYy78zpnlTtxDjP2Yy9UdkXvq/TU1O4pHq579mhsUy+ge2v03z01WjQOS/gCdaB1046b8AcpfJbF7YP4BVwgLU1eE/aGbk004Alj/Nq/JFdIzgv6CZqzZzsXI/GsUUANIJ8z8zU7qthD3nP80KNNbOosE/zdTT9ToTwT9NNaC0QK7svzOtKvBEr+Q/zEywV8+Hrb/NnByh3B3gv00tMFNEzOK/ZjKGQpY90D8zcZzMde7DvwCo1BxR39K/0EwZbQFHjD8AgJ1gwiWgP8zMNVx71qK/M4uWlENH4z9oJqrOEYKeP5qRefKdHbI/zd7JjzWTxD8AKplBhdfjv81s+b/5kM0/zb4LOxC0wT+amZmZmZm5PwAAAAAAAAAAzVT3uuGVwz+amZmZmZm5P81CXTdB0cc/AJCcv7RTlz8A0k2EI0rAv8DMSYTd72O/AIhccJISvr8AAJq8D3CHv818cpG9gcI/mpmZmZmZuT9ml8Ycc6PRPwCgPDW3v7u/NBNqo/hJpz8ArIfgXvrRv8z8iinSGaS/ADNhz4aH1b9mFq625Di4v5oAPXLf1NO/AJIwaIrSxL8AAGYage+XPwBUuDfjAea/mkm00BDf0L9m0oTr4/+zvzO3V7rbR+M/s5LXIDB+5z+YmZrnMbCZv2hW+580p5E/ZnoNqQqc1T8AsAWcEHywv81kw2O8iea/M8OIkR/Ux7+zAbLR2SLlP80kw87v08M/M32GBIPI5D8AGkCpE3nQPwAL8KFMotE/ANrTSaWA1D8AMYShwqrrP81MWiPn0sc/M7258v3E4j/NrR8HpGsDQKZOAT40QPy/5uwgpusj8L9mcbNPy3vfPw==",
            "dtype": "f8"
           },
           "yaxis": "y2"
          },
          {
           "line": {
            "color": "rgba(60, 179, 113, 0.9)",
            "width": 2
           },
           "name": "Cumulative P&L",
           "type": "scatter",
           "x": {
            "bdata": "AAECAwQFBgcICQoLDA0ODxAREhMUFRYXGBkaGxwdHh8gISIjJCUmJygpKissLS4vMDEyMzQ1Njc4OTo7PD0+P0BBQkNERUZHSElKS0xNTk9QUVJTVFVWV1hZWltcXV5fYGE=",
            "dtype": "i1"
           },
           "xaxis": "x2",
           "y": {
            "bdata": "AAAAAAAAAABmJIA29L3bP2Ymw4ZZv+Y/mVn2uYzy6T+ZWfa5jPLpP2ZPOC4fu/E/pmsS2unr8D9ABaxzg4XyP5rT/2HicvM/tHgrUbuQ9D/O9z0R63D2P2ixUKJRzfs/aNThxFUY9z8DHmwCWtnvP8JCoTTA5/c/Al9rSoC5/D+cdxw/xvz/P9vvxtZkkgRAqFefLuPYAkA1wX0DEZ0HQARQBr+92/Q/u1K+m+nM4T/cQ8uq1BfeP3xFuQHk0sS/33jIBxZt7r/fv/yi3z3iv8CXmg7oAoq/EDUumbX9gT/58o1vfUTgv8abIIkaH+C/bu4Id4n05T/QoGESB5n2PyoiKO1gzfg/xJziS8jv+j87BCXjTzHpP7fYp2lK8PY/UVbq7gsE9j/VD7g8O+rrPxDFD9PtO9I/u/vKCsI84T/cvkcvSYLYP3BbzEngi7Y/CoVvd8AUuj+FIt/T0BPBP6Reo/ljvLg/CPfKE9Be5j87SECi4FLnP256j2CUluk/IfKBxGG77j9CkNEFucfVP1Qj5/IaSOI/BxOqAR+15j86Rt00UujpPzpG3TRS6Ok/bRubo8rN7j9QJ2frfgDxP6rPUhKn+vM/6kFR5fVX9D+qh8d0sU7yP8RiBYa5RPI/RJr/XpBj8D9EZoY/sDTwP961tPHnhPI/eE9Oi4Ee9D9S9X9SXof4P1IrLN9iy/Y/7HtHpLKF9z/skCXsGgfzPwY52VpMZvI/jNgBTtUI6j+/FSy3uAHnP+QqG/yRLto/yMMFkJmKzz/kQanZRETRPxxmx5WBv9q/29c9M0nP5b8ocq6wRU/ov9TrWtmnHcS/vteAKsZ24j/xAkSbRKnhP6TdQ0B+NuI/15rKlIME7T/X5EmBAfXqPygAGnYUrcE/LAy7bSycqL/wUNYKF5njPyMah/4Sjug/q8uGAUur9j8r0tbrj8n6P+vUUhQjMv8/tuVjMyYpAkD28cTb1hMJQMOW+k0FkQpAEAapykRCD0DuWeRo9FYZQEQGZFnnRhJAFZa339h7DEAhAtckqTUQQA==",
            "dtype": "f8"
           },
           "yaxis": "y2"
          }
         ]
        },
        {
         "data": [
          {
           "line": {
            "color": "rgba(60, 179, 113, 0.9)",
            "dash": "dot",
            "width": 2
           },
           "name": "Mid Price (Estimated)",
           "type": "scatter",
           "x": {
            "bdata": "AAECAwQFBgcICQoLDA0ODxAREhMUFRYXGBkaGxwdHh8gISIjJCUmJygpKissLS4vMDEyMzQ1Njc4OTo7PD0+P0BBQkNERUZHSElKS0xNTk9QUVJTVFVWV1hZWltcXV5fYGFi",
            "dtype": "i1"
           },
           "xaxis": "x",
           "y": {
            "bdata": "gNHvJb/4WEChxAdfE+5YQN8klwa54lhA9ltPBy3aWECPYPkixNVYQLPu1x9l4lhAJFeHSijfWEAJUu9IbOBYQDZpnDMd41hAH0XxtBTkWEDto2iXtuNYQK2xef0w3FhAZ4809ZrlWEA7QQajTPFYQPZcbImo5lhAe09PiTvgWED8N/Tckd5YQIq+FlWG2FhAZgQIE+TbWED8XSOkW9dYQGIlFKNX5VhAGbj1/xbtWEASG5QMlO5YQB0dcm5H9VhAlqRPG3z8WEAY2DLnAPlYQNsye2Ho81hA31eqLYn0WECxYqimLfpYQKWkbEEy+1hAQ17ERTvxWEB7vGWxOOxYQNKiiUPg61hAPOKwD4XrWECZA3SkRfhYQNyHlZuH71hArKawu+TyWECUzppDjfxYQH+7SZM3C1lAjLNSx8EIWUDfCmK0BwxZQGc1zvfND1lAzvRkAy8RWUDi71HVrRBZQEKUQueYE1lA6jDh1oQDWUCurCocAwhZQK+Qn5vyCFlALBF/36YHWUBId1U44RRZQCCsGC2wEFlAp4xhizwOWUBJuvxFHBtZQI4PysrpFVlASvpSQIUSWUAo/v8htRFZQGNGNVw3F1lALECBl6wYWUBDGb+FhxBZQMZhrmJADVlANVZgEH4JWUDNYyFQIAlZQKW2g8j6C1lAk3lUvcgOWUBiGZ6wiwNZQIpoa557CllAHGUUMjoMWUDyqIRhNxVZQDSGaOwvGFlARVFYGV0fWUDAVT1BeiJZQI3h2q04K1lAUJRBGrEuWUAwsjtyMS5ZQGiCC1/dPFlAFEnZvK5CWUCdC0+He0ZZQFt5CzNxPllAaARGNFM2WUBsPKeOUzhZQCmERr9iOVlAZNo1VpU1WUC/mj8XnTZZQC/KSKroQFlA4ZTUx3xFWUAoYsgeUD5ZQPbiMjG6PVlAKstkGrQ4WUCU5t6pWTZZQLeffsPUM1lA4VwG9eYwWUDTpLNP/yhZQPs7Du5OKFlAhzrHMtkkWUCm54xbOhJZQH8sCbd+H1lA6EO8UpcmWUDnPGGPTyRZQCH3RCmPJFlA",
            "dtype": "f8"
           },
           "yaxis": "y"
          },
          {
           "line": {
            "color": "rgba(178, 34, 34, 0.9)",
            "width": 2
           },
           "name": "Bid",
           "type": "scatter",
           "x": {
            "bdata": "AAECAwQFBgcICQoLDA0ODxAREhMUFRYXGBkaGxwdHh8gISIjJCUmJygpKissLS4vMDEyMzQ1Njc4OTo7PD0+P0BBQkNERUZHSElKS0xNTk9QUVJTVFVWV1hZWltcXV5fYGFi",
            "dtype": "i1"
           },
           "xaxis": "x",
           "y": {
            "bdata": "GmuJv1jyWEA7XqH4rOdYQHm+MKBS3FhAkPXooMbTWEAp+pK8Xc9YQE2Icbn+21hAvvAg5MHYWECj64jiBdpYQNACNs223FhAud6KTq7dWECHPQIxUN1YQEdLE5fK1VhAASnOjjTfWEDV2p885upYQJD2BSNC4FhAFenoItXZWECW0Y12K9hYQCRYsO4f0lhAAJ6hrH3VWECW97w99dBYQPy+rTzx3lhAs1GPmbDmWECstC2mLehYQLe2Cwjh7lhAMD7ptBX2WECyccyAmvJYQHXMFPuB7VhAefFDxyLuWEBL/EFAx/NYQD8+BtvL9FhA3fdd39TqWEAVVv9K0uVYQGw8I9155VhA1ntKqR7lWEAznQ0+3/FYQHYhLzUh6VhARkBKVX7sWEAuaDTdJvZYQBlV4yzRBFlAJk3sYFsCWUB5pPtNoQVZQAHPZ5FnCVlAaI7+nMgKWUB8ietuRwpZQNwt3IAyDVlAhMp6cB79WEBIRsS1nAFZQEkqOTWMAllAxqoYeUABWUDiEO/Reg5ZQLpFssZJCllAQSb7JNYHWUDjU5bftRRZQCipY2SDD1lA5JPs2R4MWUDCl5m7TgtZQP3fzvXQEFlAxtkaMUYSWUDdslgfIQpZQGD7R/zZBllAz+/5qRcDWUBn/brpuQJZQD9QHWKUBVlALRPuVmIIWUD8sjdKJf1YQCQCBTgVBFlAtv6ty9MFWUCMQh770A5ZQM4fAobJEVlA3+rxsvYYWUBa79baExxZQCd7dEfSJFlA6i3bs0ooWUDKS9ULyydZQAIcpfh2NllAruJyVkg8WUA3peggFUBZQPUSpcwKOFlAAp7fzewvWUAG1kAo7TFZQMMd4Fj8MllA/nPP7y4vWUBZNNmwNjBZQMlj4kOCOllAey5uYRY/WUDC+2G46TdZQJB8zMpTN1lAxGT+s00yWUAugHhD8y9ZQFE5GF1uLVlAe/afjoAqWUBtPk3pmCJZQJXVp4foIVlAIdRgzHIeWUBAgSb10wtZQBnGolAYGVlAgt1V7DAgWUCB1voo6R1ZQLuQ3sIoHllA",
            "dtype": "f8"
           },
           "yaxis": "y"
          },
          {
           "line": {
            "color": "rgba(70, 130, 180, 0.9)",
            "width": 2
           },
           "name": "Ask",
           "type": "scatter",
           "x": {
            "bdata": "AAECAwQFBgcICQoLDA0ODxAREhMUFRYXGBkaGxwdHh8gISIjJCUmJygpKissLS4vMDEyMzQ1Njc4OTo7PD0+P0BBQkNERUZHSElKS0xNTk9QUVJTVFVWV1hZWltcXV5fYGFi",
            "dtype": "i1"
           },
           "xaxis": "x",
           "y": {
            "bdata": "5jdWjCX/WEAHK27FefRYQEWL/Wwf6VhAXMK1bZPgWED1xl+JKtxYQBlVPobL6FhAir3tsI7lWEBvuFWv0uZYQJzPApqD6VhAhatXG3vqWEBTCs/9HOpYQBMY4GOX4lhAzfWaWwHsWEChp2wJs/dYQFzD0u8O7VhA4bW176HmWEBinlpD+ORYQPAkfbvs3lhAzGpueUriWEBixIkKwt1YQMiLegm+61hAfx5cZn3zWEB4gfpy+vRYQIOD2NSt+1hA/Aq2geICWUB+PplNZ/9YQEGZ4cdO+lhARb4QlO/6WEAXyQ4NlABZQAsL06eYAVlAqcQqrKH3WEDhIswXn/JYQDgJ8KlG8lhAokgXduvxWED/adoKrP5YQELu+wHu9VhAEg0XIkv5WED6NAGq8wJZQOUhsPmdEVlA8hm5LSgPWUBFccgabhJZQM2bNF40FllANFvLaZUXWUBIVrg7FBdZQKj6qE3/GVlAUJdHPesJWUAUE5GCaQ5ZQBX3BQJZD1lAknflRQ0OWUCu3bueRxtZQIYSf5MWF1lADfPH8aIUWUCvIGOsgiFZQPR1MDFQHFlAsGC5pusYWUCOZGaIGxhZQMmsm8KdHVlAkqbn/RIfWUCpfyXs7RZZQCzIFMmmE1lAm7zGduQPWUAzyoe2hg9ZQAsd6i5hEllA+d+6Iy8VWUDIfwQX8glZQPDO0QTiEFlAgst6mKASWUBYD+vHnRtZQJrszlKWHllAq7e+f8MlWUAmvKOn4ChZQPNHQRSfMVlAtvqngBc1WUCWGKLYlzRZQM7occVDQ1lAeq8/IxVJWUADcrXt4UxZQMHfcZnXRFlAzmqsmrk8WUDSog31uT5ZQI/qrCXJP1lAykCcvPs7WUAlAaZ9Az1ZQJUwrxBPR1lAR/s6LuNLWUCOyC6FtkRZQFxJmZcgRFlAkDHLgBo/WUD6TEUQwDxZQB0G5Sk7OllAR8NsW003WUA5Cxq2ZS9ZQGGidFS1LllA7aAtmT8rWUAMTvPBoBhZQOWSbx3lJVlATqoiuf0sWUBNo8f1tSpZQIddq4/1KllA",
            "dtype": "f8"
           },
           "yaxis": "y"
          },
          {
           "marker": {
            "color": [
             "rgba(31, 119, 180, 0.8)",
             "rgba(31, 119, 180, 0.8)",
             "rgba(31, 119, 180, 0.8)",
             "rgba(31, 119, 180, 0.8)",
             "rgba(31, 119, 180, 0.8)",
             "rgba(31, 119, 180, 0.8)",
             "rgba(178, 34, 34, 0.8)",
             "rgba(31, 119, 180, 0.8)",
             "rgba(31, 119, 180, 0.8)",
             "rgba(31, 119, 180, 0.8)",
             "rgba(31, 119, 180, 0.8)",
             "rgba(31, 119, 180, 0.8)",
             "rgba(178, 34, 34, 0.8)",
             "rgba(178, 34, 34, 0.8)",
             "rgba(31, 119, 180, 0.8)",
             "rgba(31, 119, 180, 0.8)",
             "rgba(31, 119, 180, 0.8)",
             "rgba(31, 119, 180, 0.8)",
             "rgba(178, 34, 34, 0.8)",
             "rgba(31, 119, 180, 0.8)",
             "rgba(178, 34, 34, 0.8)",
             "rgba(178, 34, 34, 0.8)",
             "rgba(178, 34, 34, 0.8)",
             "rgba(178, 34, 34, 0.8)",
             "rgba(178, 34, 34, 0.8)",
             "rgba(31, 119, 180, 0.8)",
             "rgba(31, 119, 180, 0.8)",
             "rgba(31, 119, 180, 0.8)",
             "rgba(178, 34, 34, 0.8)",
             "rgba(31, 119, 180, 0.8)",
             "rgba(31, 119, 180, 0.8)",
             "rgba(31, 119, 180, 0.8)",
             "rgba(31, 119, 180, 0.8)",
             "rgba(31, 119, 180, 0.8)",
             "rgba(178, 34, 34, 0.8)",
             "rgba(31, 119, 180, 0.8)",
             "rgba(178, 34, 34, 0.8)",
             "rgba(178, 34, 34, 0.8)",
             "rgba(178, 34, 34, 0.8)",
             "rgba(31, 119, 180, 0.8)",
             "rgba(178, 34, 34, 0.8)",
             "rgba(178, 34, 34, 0.8)",
             "rgba(31, 119, 180, 0.8)",
             "rgba(31, 119, 180, 0.8)",
             "rgba(178, 34, 34, 0.8)",
             "rgba(31, 119, 180, 0.8)",
             "rgba(31, 119, 180, 0.8)",
             "rgba(31, 119, 180, 0.8)",
             "rgba(31, 119, 180, 0.8)",
             "rgba(178, 34, 34, 0.8)",
             "rgba(31, 119, 180, 0.8)",
             "rgba(31, 119, 180, 0.8)",
             "rgba(31, 119, 180, 0.8)",
             "rgba(31, 119, 180, 0.8)",
             "rgba(31, 119, 180, 0.8)",
             "rgba(31, 119, 180, 0.8)",
             "rgba(31, 119, 180, 0.8)",
             "rgba(31, 119, 180, 0.8)",
             "rgba(178, 34, 34, 0.8)",
             "rgba(178, 34, 34, 0.8)",
             "rgba(178, 34, 34, 0.8)",
             "rgba(178, 34, 34, 0.8)",
             "rgba(31, 119, 180, 0.8)",
             "rgba(31, 119, 180, 0.8)",
             "rgba(31, 119, 180, 0.8)",
             "rgba(178, 34, 34, 0.8)",
             "rgba(31, 119, 180, 0.8)",
             "rgba(178, 34, 34, 0.8)",
             "rgba(178, 34, 34, 0.8)",
             "rgba(178, 34, 34, 0.8)",
             "rgba(178, 34, 34, 0.8)",
             "rgba(178, 34, 34, 0.8)",
             "rgba(178, 34, 34, 0.8)",
             "rgba(31, 119, 180, 0.8)",
             "rgba(178, 34, 34, 0.8)",
             "rgba(178, 34, 34, 0.8)",
             "rgba(178, 34, 34, 0.8)",
             "rgba(31, 119, 180, 0.8)",
             "rgba(31, 119, 180, 0.8)",
             "rgba(178, 34, 34, 0.8)",
             "rgba(31, 119, 180, 0.8)",
             "rgba(31, 119, 180, 0.8)",
             "rgba(178, 34, 34, 0.8)",
             "rgba(178, 34, 34, 0.8)",
             "rgba(178, 34, 34, 0.8)",
             "rgba(31, 119, 180, 0.8)",
             "rgba(31, 119, 180, 0.8)",
             "rgba(31, 119, 180, 0.8)",
             "rgba(31, 119, 180, 0.8)",
             "rgba(31, 119, 180, 0.8)",
             "rgba(31, 119, 180, 0.8)",
             "rgba(31, 119, 180, 0.8)",
             "rgba(31, 119, 180, 0.8)",
             "rgba(31, 119, 180, 0.8)",
             "rgba(31, 119, 180, 0.8)",
             "rgba(178, 34, 34, 0.8)",
             "rgba(178, 34, 34, 0.8)",
             "rgba(31, 119, 180, 0.8)",
             "rgba(31, 119, 180, 0.8)"
            ]
           },
           "name": "Trade P&L",
           "type": "bar",
           "x": {
            "bdata": "AAECAwQFBgcICQoLDA0ODxAREhMUFRYXGBkaGxwdHh8gISIjJCUmJygpKissLS4vMDEyMzQ1Njc4OTo7PD0+P0BBQkNERUZHSElKS0xNTk9QUVJTVFVWV1hZWltcXV5fYGFi",
            "dtype": "i1"
           },
           "xaxis": "x2",
           "y": {
            "bdata": "mpmZmZmZuT9mJIA29L3bP2YoBte+wNE/mpmZmZmZuT8AAAAAAAAAAGaK9ERjB9M/AHi8hKrmqb+amZmZmZm5PzTLecrdq60/mlG68o7dsT+a8ScB/AK+P2bmSkSacdU/AHS7de/T0r+aFa8Oo67cvwDPrM1M7N8/AHEoVwBH0z/NxIilLxrKPzPQ4twGUOI/M4N5ghqYy78zpnlTtxDjP2Yy9UdkXvq/TU1O4pHq579mhsUy+ge2v03z01WjQOS/gCdaB1046b8AcpfJbF7YP4BVwgLU1eE/aGbk004Alj/Nq/JFdIzgv6CZqzZzsXI/GsUUANIJ8z8zU7qthD3nP80KNNbOosE/zdTT9ToTwT9NNaC0QK7svzOtKvBEr+Q/zEywV8+Hrb/NnByh3B3gv00tMFNEzOK/ZjKGQpY90D8zcZzMde7DvwCo1BxR39K/0EwZbQFHjD8AgJ1gwiWgP8zMNVx71qK/M4uWlENH4z9oJqrOEYKeP5qRefKdHbI/zd7JjzWTxD8AKplBhdfjv81s+b/5kM0/zb4LOxC0wT+amZmZmZm5PwAAAAAAAAAAzVT3uuGVwz+amZmZmZm5P81CXTdB0cc/AJCcv7RTlz8A0k2EI0rAv8DMSYTd72O/AIhccJISvr8AAJq8D3CHv818cpG9gcI/mpmZmZmZuT9ml8Ycc6PRPwCgPDW3v7u/NBNqo/hJpz8ArIfgXvrRv8z8iinSGaS/ADNhz4aH1b9mFq625Di4v5oAPXLf1NO/AJIwaIrSxL8AAGYage+XPwBUuDfjAea/mkm00BDf0L9m0oTr4/+zvzO3V7rbR+M/s5LXIDB+5z+YmZrnMbCZv2hW+580p5E/ZnoNqQqc1T8AsAWcEHywv81kw2O8iea/M8OIkR/Ux7+zAbLR2SLlP80kw87v08M/M32GBIPI5D8AGkCpE3nQPwAL8KFMotE/ANrTSaWA1D8AMYShwqrrP81MWiPn0sc/M7258v3E4j/NrR8HpGsDQKZOAT40QPy/5uwgpusj8L9mcbNPy3vfPzQTAQkcU68/",
            "dtype": "f8"
           },
           "yaxis": "y2"
          },
          {
           "line": {
            "color": "rgba(60, 179, 113, 0.9)",
            "width": 2
           },
           "name": "Cumulative P&L",
           "type": "scatter",
           "x": {
            "bdata": "AAECAwQFBgcICQoLDA0ODxAREhMUFRYXGBkaGxwdHh8gISIjJCUmJygpKissLS4vMDEyMzQ1Njc4OTo7PD0+P0BBQkNERUZHSElKS0xNTk9QUVJTVFVWV1hZWltcXV5fYGFi",
            "dtype": "i1"
           },
           "xaxis": "x2",
           "y": {
            "bdata": "AAAAAAAAAABmJIA29L3bP2Ymw4ZZv+Y/mVn2uYzy6T+ZWfa5jPLpP2ZPOC4fu/E/pmsS2unr8D9ABaxzg4XyP5rT/2HicvM/tHgrUbuQ9D/O9z0R63D2P2ixUKJRzfs/aNThxFUY9z8DHmwCWtnvP8JCoTTA5/c/Al9rSoC5/D+cdxw/xvz/P9vvxtZkkgRAqFefLuPYAkA1wX0DEZ0HQARQBr+92/Q/u1K+m+nM4T/cQ8uq1BfeP3xFuQHk0sS/33jIBxZt7r/fv/yi3z3iv8CXmg7oAoq/EDUumbX9gT/58o1vfUTgv8abIIkaH+C/bu4Id4n05T/QoGESB5n2PyoiKO1gzfg/xJziS8jv+j87BCXjTzHpP7fYp2lK8PY/UVbq7gsE9j/VD7g8O+rrPxDFD9PtO9I/u/vKCsI84T/cvkcvSYLYP3BbzEngi7Y/CoVvd8AUuj+FIt/T0BPBP6Reo/ljvLg/CPfKE9Be5j87SECi4FLnP256j2CUluk/IfKBxGG77j9CkNEFucfVP1Qj5/IaSOI/BxOqAR+15j86Rt00UujpPzpG3TRS6Ok/bRubo8rN7j9QJ2frfgDxP6rPUhKn+vM/6kFR5fVX9D+qh8d0sU7yP8RiBYa5RPI/RJr/XpBj8D9EZoY/sDTwP961tPHnhPI/eE9Oi4Ee9D9S9X9SXof4P1IrLN9iy/Y/7HtHpLKF9z/skCXsGgfzPwY52VpMZvI/jNgBTtUI6j+/FSy3uAHnP+QqG/yRLto/yMMFkJmKzz/kQanZRETRPxxmx5WBv9q/29c9M0nP5b8ocq6wRU/ov9TrWtmnHcS/vteAKsZ24j/xAkSbRKnhP6TdQ0B+NuI/15rKlIME7T/X5EmBAfXqPygAGnYUrcE/LAy7bSycqL/wUNYKF5njPyMah/4Sjug/q8uGAUur9j8r0tbrj8n6P+vUUhQjMv8/tuVjMyYpAkD28cTb1hMJQMOW+k0FkQpAEAapykRCD0DuWeRo9FYZQEQGZFnnRhJAFZa339h7DEAhAtckqTUQQEcE6VxPdBBA",
            "dtype": "f8"
           },
           "yaxis": "y2"
          }
         ]
        },
        {
         "data": [
          {
           "line": {
            "color": "rgba(60, 179, 113, 0.9)",
            "dash": "dot",
            "width": 2
           },
           "name": "Mid Price (Estimated)",
           "type": "scatter",
           "x": {
            "bdata": "AAECAwQFBgcICQoLDA0ODxAREhMUFRYXGBkaGxwdHh8gISIjJCUmJygpKissLS4vMDEyMzQ1Njc4OTo7PD0+P0BBQkNERUZHSElKS0xNTk9QUVJTVFVWV1hZWltcXV5fYGFiYw==",
            "dtype": "i1"
           },
           "xaxis": "x",
           "y": {
            "bdata": "gNHvJb/4WEChxAdfE+5YQN8klwa54lhA9ltPBy3aWECPYPkixNVYQLPu1x9l4lhAJFeHSijfWEAJUu9IbOBYQDZpnDMd41hAH0XxtBTkWEDto2iXtuNYQK2xef0w3FhAZ4809ZrlWEA7QQajTPFYQPZcbImo5lhAe09PiTvgWED8N/Tckd5YQIq+FlWG2FhAZgQIE+TbWED8XSOkW9dYQGIlFKNX5VhAGbj1/xbtWEASG5QMlO5YQB0dcm5H9VhAlqRPG3z8WEAY2DLnAPlYQNsye2Ho81hA31eqLYn0WECxYqimLfpYQKWkbEEy+1hAQ17ERTvxWEB7vGWxOOxYQNKiiUPg61hAPOKwD4XrWECZA3SkRfhYQNyHlZuH71hArKawu+TyWECUzppDjfxYQH+7SZM3C1lAjLNSx8EIWUDfCmK0BwxZQGc1zvfND1lAzvRkAy8RWUDi71HVrRBZQEKUQueYE1lA6jDh1oQDWUCurCocAwhZQK+Qn5vyCFlALBF/36YHWUBId1U44RRZQCCsGC2wEFlAp4xhizwOWUBJuvxFHBtZQI4PysrpFVlASvpSQIUSWUAo/v8htRFZQGNGNVw3F1lALECBl6wYWUBDGb+FhxBZQMZhrmJADVlANVZgEH4JWUDNYyFQIAlZQKW2g8j6C1lAk3lUvcgOWUBiGZ6wiwNZQIpoa557CllAHGUUMjoMWUDyqIRhNxVZQDSGaOwvGFlARVFYGV0fWUDAVT1BeiJZQI3h2q04K1lAUJRBGrEuWUAwsjtyMS5ZQGiCC1/dPFlAFEnZvK5CWUCdC0+He0ZZQFt5CzNxPllAaARGNFM2WUBsPKeOUzhZQCmERr9iOVlAZNo1VpU1WUC/mj8XnTZZQC/KSKroQFlA4ZTUx3xFWUAoYsgeUD5ZQPbiMjG6PVlAKstkGrQ4WUCU5t6pWTZZQLeffsPUM1lA4VwG9eYwWUDTpLNP/yhZQPs7Du5OKFlAhzrHMtkkWUCm54xbOhJZQH8sCbd+H1lA6EO8UpcmWUDnPGGPTyRZQCH3RCmPJFlAxQNtSjAdWUA=",
            "dtype": "f8"
           },
           "yaxis": "y"
          },
          {
           "line": {
            "color": "rgba(178, 34, 34, 0.9)",
            "width": 2
           },
           "name": "Bid",
           "type": "scatter",
           "x": {
            "bdata": "AAECAwQFBgcICQoLDA0ODxAREhMUFRYXGBkaGxwdHh8gISIjJCUmJygpKissLS4vMDEyMzQ1Njc4OTo7PD0+P0BBQkNERUZHSElKS0xNTk9QUVJTVFVWV1hZWltcXV5fYGFiYw==",
            "dtype": "i1"
           },
           "xaxis": "x",
           "y": {
            "bdata": "GmuJv1jyWEA7XqH4rOdYQHm+MKBS3FhAkPXooMbTWEAp+pK8Xc9YQE2Icbn+21hAvvAg5MHYWECj64jiBdpYQNACNs223FhAud6KTq7dWECHPQIxUN1YQEdLE5fK1VhAASnOjjTfWEDV2p885upYQJD2BSNC4FhAFenoItXZWECW0Y12K9hYQCRYsO4f0lhAAJ6hrH3VWECW97w99dBYQPy+rTzx3lhAs1GPmbDmWECstC2mLehYQLe2Cwjh7lhAMD7ptBX2WECyccyAmvJYQHXMFPuB7VhAefFDxyLuWEBL/EFAx/NYQD8+BtvL9FhA3fdd39TqWEAVVv9K0uVYQGw8I9155VhA1ntKqR7lWEAznQ0+3/FYQHYhLzUh6VhARkBKVX7sWEAuaDTdJvZYQBlV4yzRBFlAJk3sYFsCWUB5pPtNoQVZQAHPZ5FnCVlAaI7+nMgKWUB8ietuRwpZQNwt3IAyDVlAhMp6cB79WEBIRsS1nAFZQEkqOTWMAllAxqoYeUABWUDiEO/Reg5ZQLpFssZJCllAQSb7JNYHWUDjU5bftRRZQCipY2SDD1lA5JPs2R4MWUDCl5m7TgtZQP3fzvXQEFlAxtkaMUYSWUDdslgfIQpZQGD7R/zZBllAz+/5qRcDWUBn/brpuQJZQD9QHWKUBVlALRPuVmIIWUD8sjdKJf1YQCQCBTgVBFlAtv6ty9MFWUCMQh770A5ZQM4fAobJEVlA3+rxsvYYWUBa79baExxZQCd7dEfSJFlA6i3bs0ooWUDKS9ULyydZQAIcpfh2NllAruJyVkg8WUA3peggFUBZQPUSpcwKOFlAAp7fzewvWUAG1kAo7TFZQMMd4Fj8MllA/nPP7y4vWUBZNNmwNjBZQMlj4kOCOllAey5uYRY/WUDC+2G46TdZQJB8zMpTN1lAxGT+s00yWUAugHhD8y9ZQFE5GF1uLVlAe/afjoAqWUBtPk3pmCJZQJXVp4foIVlAIdRgzHIeWUBAgSb10wtZQBnGolAYGVlAgt1V7DAgWUCB1voo6R1ZQLuQ3sIoHllAX50G5MkWWUA=",
            "dtype": "f8"
           },
           "yaxis": "y"
          },
          {
           "line": {
            "color": "rgba(70, 130, 180, 0.9)",
            "width": 2
           },
           "name": "Ask",
           "type": "scatter",
           "x": {
            "bdata": "AAECAwQFBgcICQoLDA0ODxAREhMUFRYXGBkaGxwdHh8gISIjJCUmJygpKissLS4vMDEyMzQ1Njc4OTo7PD0+P0BBQkNERUZHSElKS0xNTk9QUVJTVFVWV1hZWltcXV5fYGFiYw==",
            "dtype": "i1"
           },
           "xaxis": "x",
           "y": {
            "bdata": "5jdWjCX/WEAHK27FefRYQEWL/Wwf6VhAXMK1bZPgWED1xl+JKtxYQBlVPobL6FhAir3tsI7lWEBvuFWv0uZYQJzPApqD6VhAhatXG3vqWEBTCs/9HOpYQBMY4GOX4lhAzfWaWwHsWEChp2wJs/dYQFzD0u8O7VhA4bW176HmWEBinlpD+ORYQPAkfbvs3lhAzGpueUriWEBixIkKwt1YQMiLegm+61hAfx5cZn3zWEB4gfpy+vRYQIOD2NSt+1hA/Aq2geICWUB+PplNZ/9YQEGZ4cdO+lhARb4QlO/6WEAXyQ4NlABZQAsL06eYAVlAqcQqrKH3WEDhIswXn/JYQDgJ8KlG8lhAokgXduvxWED/adoKrP5YQELu+wHu9VhAEg0XIkv5WED6NAGq8wJZQOUhsPmdEVlA8hm5LSgPWUBFccgabhJZQM2bNF40FllANFvLaZUXWUBIVrg7FBdZQKj6qE3/GVlAUJdHPesJWUAUE5GCaQ5ZQBX3BQJZD1lAknflRQ0OWUCu3bueRxtZQIYSf5MWF1lADfPH8aIUWUCvIGOsgiFZQPR1MDFQHFlAsGC5pusYWUCOZGaIGxhZQMmsm8KdHVlAkqbn/RIfWUCpfyXs7RZZQCzIFMmmE1lAm7zGduQPWUAzyoe2hg9ZQAsd6i5hEllA+d+6Iy8VWUDIfwQX8glZQPDO0QTiEFlAgst6mKASWUBYD+vHnRtZQJrszlKWHllAq7e+f8MlWUAmvKOn4ChZQPNHQRSfMVlAtvqngBc1WUCWGKLYlzRZQM7occVDQ1lAeq8/IxVJWUADcrXt4UxZQMHfcZnXRFlAzmqsmrk8WUDSog31uT5ZQI/qrCXJP1lAykCcvPs7WUAlAaZ9Az1ZQJUwrxBPR1lAR/s6LuNLWUCOyC6FtkRZQFxJmZcgRFlAkDHLgBo/WUD6TEUQwDxZQB0G5Sk7OllAR8NsW003WUA5Cxq2ZS9ZQGGidFS1LllA7aAtmT8rWUAMTvPBoBhZQOWSbx3lJVlATqoiuf0sWUBNo8f1tSpZQIddq4/1KllAK2rTsJYjWUA=",
            "dtype": "f8"
           },
           "yaxis": "y"
          },
          {
           "marker": {
            "color": [
             "rgba(31, 119, 180, 0.8)",
             "rgba(31, 119, 180, 0.8)",
             "rgba(31, 119, 180, 0.8)",
             "rgba(31, 119, 180, 0.8)",
             "rgba(31, 119, 180, 0.8)",
             "rgba(31, 119, 180, 0.8)",
             "rgba(178, 34, 34, 0.8)",
             "rgba(31, 119, 180, 0.8)",
             "rgba(31, 119, 180, 0.8)",
             "rgba(31, 119, 180, 0.8)",
             "rgba(31, 119, 180, 0.8)",
             "rgba(31, 119, 180, 0.8)",
             "rgba(178, 34, 34, 0.8)",
             "rgba(178, 34, 34, 0.8)",
             "rgba(31, 119, 180, 0.8)",
             "rgba(31, 119, 180, 0.8)",
             "rgba(31, 119, 180, 0.8)",
             "rgba(31, 119, 180, 0.8)",
             "rgba(178, 34, 34, 0.8)",
             "rgba(31, 119, 180, 0.8)",
             "rgba(178, 34, 34, 0.8)",
             "rgba(178, 34, 34, 0.8)",
             "rgba(178, 34, 34, 0.8)",
             "rgba(178, 34, 34, 0.8)",
             "rgba(178, 34, 34, 0.8)",
             "rgba(31, 119, 180, 0.8)",
             "rgba(31, 119, 180, 0.8)",
             "rgba(31, 119, 180, 0.8)",
             "rgba(178, 34, 34, 0.8)",
             "rgba(31, 119, 180, 0.8)",
             "rgba(31, 119, 180, 0.8)",
             "rgba(31, 119, 180, 0.8)",
             "rgba(31, 119, 180, 0.8)",
             "rgba(31, 119, 180, 0.8)",
             "rgba(178, 34, 34, 0.8)",
             "rgba(31, 119, 180, 0.8)",
             "rgba(178, 34, 34, 0.8)",
             "rgba(178, 34, 34, 0.8)",
             "rgba(178, 34, 34, 0.8)",
             "rgba(31, 119, 180, 0.8)",
             "rgba(178, 34, 34, 0.8)",
             "rgba(178, 34, 34, 0.8)",
             "rgba(31, 119, 180, 0.8)",
             "rgba(31, 119, 180, 0.8)",
             "rgba(178, 34, 34, 0.8)",
             "rgba(31, 119, 180, 0.8)",
             "rgba(31, 119, 180, 0.8)",
             "rgba(31, 119, 180, 0.8)",
             "rgba(31, 119, 180, 0.8)",
             "rgba(178, 34, 34, 0.8)",
             "rgba(31, 119, 180, 0.8)",
             "rgba(31, 119, 180, 0.8)",
             "rgba(31, 119, 180, 0.8)",
             "rgba(31, 119, 180, 0.8)",
             "rgba(31, 119, 180, 0.8)",
             "rgba(31, 119, 180, 0.8)",
             "rgba(31, 119, 180, 0.8)",
             "rgba(31, 119, 180, 0.8)",
             "rgba(178, 34, 34, 0.8)",
             "rgba(178, 34, 34, 0.8)",
             "rgba(178, 34, 34, 0.8)",
             "rgba(178, 34, 34, 0.8)",
             "rgba(31, 119, 180, 0.8)",
             "rgba(31, 119, 180, 0.8)",
             "rgba(31, 119, 180, 0.8)",
             "rgba(178, 34, 34, 0.8)",
             "rgba(31, 119, 180, 0.8)",
             "rgba(178, 34, 34, 0.8)",
             "rgba(178, 34, 34, 0.8)",
             "rgba(178, 34, 34, 0.8)",
             "rgba(178, 34, 34, 0.8)",
             "rgba(178, 34, 34, 0.8)",
             "rgba(178, 34, 34, 0.8)",
             "rgba(31, 119, 180, 0.8)",
             "rgba(178, 34, 34, 0.8)",
             "rgba(178, 34, 34, 0.8)",
             "rgba(178, 34, 34, 0.8)",
             "rgba(31, 119, 180, 0.8)",
             "rgba(31, 119, 180, 0.8)",
             "rgba(178, 34, 34, 0.8)",
             "rgba(31, 119, 180, 0.8)",
             "rgba(31, 119, 180, 0.8)",
             "rgba(178, 34, 34, 0.8)",
             "rgba(178, 34, 34, 0.8)",
             "rgba(178, 34, 34, 0.8)",
             "rgba(31, 119, 180, 0.8)",
             "rgba(31, 119, 180, 0.8)",
             "rgba(31, 119, 180, 0.8)",
             "rgba(31, 119, 180, 0.8)",
             "rgba(31, 119, 180, 0.8)",
             "rgba(31, 119, 180, 0.8)",
             "rgba(31, 119, 180, 0.8)",
             "rgba(31, 119, 180, 0.8)",
             "rgba(31, 119, 180, 0.8)",
             "rgba(31, 119, 180, 0.8)",
             "rgba(178, 34, 34, 0.8)",
             "rgba(178, 34, 34, 0.8)",
             "rgba(31, 119, 180, 0.8)",
             "rgba(31, 119, 180, 0.8)",
             "rgba(31, 119, 180, 0.8)"
            ]
           },
           "name": "Trade P&L",
           "type": "bar",
           "x": {
            "bdata": "AAECAwQFBgcICQoLDA0ODxAREhMUFRYXGBkaGxwdHh8gISIjJCUmJygpKissLS4vMDEyMzQ1Njc4OTo7PD0+P0BBQkNERUZHSElKS0xNTk9QUVJTVFVWV1hZWltcXV5fYGFiYw==",
            "dtype": "i1"
           },
           "xaxis": "x2",
           "y": {
            "bdata": "mpmZmZmZuT9mJIA29L3bP2YoBte+wNE/mpmZmZmZuT8AAAAAAAAAAGaK9ERjB9M/AHi8hKrmqb+amZmZmZm5PzTLecrdq60/mlG68o7dsT+a8ScB/AK+P2bmSkSacdU/AHS7de/T0r+aFa8Oo67cvwDPrM1M7N8/AHEoVwBH0z/NxIilLxrKPzPQ4twGUOI/M4N5ghqYy78zpnlTtxDjP2Yy9UdkXvq/TU1O4pHq579mhsUy+ge2v03z01WjQOS/gCdaB1046b8AcpfJbF7YP4BVwgLU1eE/aGbk004Alj/Nq/JFdIzgv6CZqzZzsXI/GsUUANIJ8z8zU7qthD3nP80KNNbOosE/zdTT9ToTwT9NNaC0QK7svzOtKvBEr+Q/zEywV8+Hrb/NnByh3B3gv00tMFNEzOK/ZjKGQpY90D8zcZzMde7DvwCo1BxR39K/0EwZbQFHjD8AgJ1gwiWgP8zMNVx71qK/M4uWlENH4z9oJqrOEYKeP5qRefKdHbI/zd7JjzWTxD8AKplBhdfjv81s+b/5kM0/zb4LOxC0wT+amZmZmZm5PwAAAAAAAAAAzVT3uuGVwz+amZmZmZm5P81CXTdB0cc/AJCcv7RTlz8A0k2EI0rAv8DMSYTd72O/AIhccJISvr8AAJq8D3CHv818cpG9gcI/mpmZmZmZuT9ml8Ycc6PRPwCgPDW3v7u/NBNqo/hJpz8ArIfgXvrRv8z8iinSGaS/ADNhz4aH1b9mFq625Di4v5oAPXLf1NO/AJIwaIrSxL8AAGYage+XPwBUuDfjAea/mkm00BDf0L9m0oTr4/+zvzO3V7rbR+M/s5LXIDB+5z+YmZrnMbCZv2hW+580p5E/ZnoNqQqc1T8AsAWcEHywv81kw2O8iea/M8OIkR/Ux7+zAbLR2SLlP80kw87v08M/M32GBIPI5D8AGkCpE3nQPwAL8KFMotE/ANrTSaWA1D8AMYShwqrrP81MWiPn0sc/M7258v3E4j/NrR8HpGsDQKZOAT40QPy/5uwgpusj8L9mcbNPy3vfPzQTAQkcU68/mih9/w4v8j8=",
            "dtype": "f8"
           },
           "yaxis": "y2"
          },
          {
           "line": {
            "color": "rgba(60, 179, 113, 0.9)",
            "width": 2
           },
           "name": "Cumulative P&L",
           "type": "scatter",
           "x": {
            "bdata": "AAECAwQFBgcICQoLDA0ODxAREhMUFRYXGBkaGxwdHh8gISIjJCUmJygpKissLS4vMDEyMzQ1Njc4OTo7PD0+P0BBQkNERUZHSElKS0xNTk9QUVJTVFVWV1hZWltcXV5fYGFiYw==",
            "dtype": "i1"
           },
           "xaxis": "x2",
           "y": {
            "bdata": "AAAAAAAAAABmJIA29L3bP2Ymw4ZZv+Y/mVn2uYzy6T+ZWfa5jPLpP2ZPOC4fu/E/pmsS2unr8D9ABaxzg4XyP5rT/2HicvM/tHgrUbuQ9D/O9z0R63D2P2ixUKJRzfs/aNThxFUY9z8DHmwCWtnvP8JCoTTA5/c/Al9rSoC5/D+cdxw/xvz/P9vvxtZkkgRAqFefLuPYAkA1wX0DEZ0HQARQBr+92/Q/u1K+m+nM4T/cQ8uq1BfeP3xFuQHk0sS/33jIBxZt7r/fv/yi3z3iv8CXmg7oAoq/EDUumbX9gT/58o1vfUTgv8abIIkaH+C/bu4Id4n05T/QoGESB5n2PyoiKO1gzfg/xJziS8jv+j87BCXjTzHpP7fYp2lK8PY/UVbq7gsE9j/VD7g8O+rrPxDFD9PtO9I/u/vKCsI84T/cvkcvSYLYP3BbzEngi7Y/CoVvd8AUuj+FIt/T0BPBP6Reo/ljvLg/CPfKE9Be5j87SECi4FLnP256j2CUluk/IfKBxGG77j9CkNEFucfVP1Qj5/IaSOI/BxOqAR+15j86Rt00UujpPzpG3TRS6Ok/bRubo8rN7j9QJ2frfgDxP6rPUhKn+vM/6kFR5fVX9D+qh8d0sU7yP8RiBYa5RPI/RJr/XpBj8D9EZoY/sDTwP961tPHnhPI/eE9Oi4Ee9D9S9X9SXof4P1IrLN9iy/Y/7HtHpLKF9z/skCXsGgfzPwY52VpMZvI/jNgBTtUI6j+/FSy3uAHnP+QqG/yRLto/yMMFkJmKzz/kQanZRETRPxxmx5WBv9q/29c9M0nP5b8ocq6wRU/ov9TrWtmnHcS/vteAKsZ24j/xAkSbRKnhP6TdQ0B+NuI/15rKlIME7T/X5EmBAfXqPygAGnYUrcE/LAy7bSycqL/wUNYKF5njPyMah/4Sjug/q8uGAUur9j8r0tbrj8n6P+vUUhQjMv8/tuVjMyYpAkD28cTb1hMJQMOW+k0FkQpAEAapykRCD0DuWeRo9FYZQEQGZFnnRhJAFZa339h7DEAhAtckqTUQQEcE6VxPdBBAbk7IHBMAFUA=",
            "dtype": "f8"
           },
           "yaxis": "y2"
          }
         ]
        }
       ],
       "layout": {
        "annotations": [
         {
          "font": {
           "size": 16
          },
          "showarrow": false,
          "text": "Market Prices",
          "x": 0.225,
          "xanchor": "center",
          "xref": "paper",
          "y": 1,
          "yanchor": "bottom",
          "yref": "paper"
         },
         {
          "font": {
           "size": 16
          },
          "showarrow": false,
          "text": "Market Maker P&L",
          "x": 0.775,
          "xanchor": "center",
          "xref": "paper",
          "y": 1,
          "yanchor": "bottom",
          "yref": "paper"
         }
        ],
        "font": {
         "color": "white"
        },
        "height": 500,
        "legend": {
         "bgcolor": "rgba(0,0,0,0)",
         "bordercolor": "rgba(255,255,255,0.2)"
        },
        "paper_bgcolor": "rgba(0,0,0,0)",
        "plot_bgcolor": "rgba(0,0,0,0)",
        "showlegend": true,
        "template": {
         "data": {
          "bar": [
           {
            "error_x": {
             "color": "#2a3f5f"
            },
            "error_y": {
             "color": "#2a3f5f"
            },
            "marker": {
             "line": {
              "color": "#E5ECF6",
              "width": 0.5
             },
             "pattern": {
              "fillmode": "overlay",
              "size": 10,
              "solidity": 0.2
             }
            },
            "type": "bar"
           }
          ],
          "barpolar": [
           {
            "marker": {
             "line": {
              "color": "#E5ECF6",
              "width": 0.5
             },
             "pattern": {
              "fillmode": "overlay",
              "size": 10,
              "solidity": 0.2
             }
            },
            "type": "barpolar"
           }
          ],
          "carpet": [
           {
            "aaxis": {
             "endlinecolor": "#2a3f5f",
             "gridcolor": "white",
             "linecolor": "white",
             "minorgridcolor": "white",
             "startlinecolor": "#2a3f5f"
            },
            "baxis": {
             "endlinecolor": "#2a3f5f",
             "gridcolor": "white",
             "linecolor": "white",
             "minorgridcolor": "white",
             "startlinecolor": "#2a3f5f"
            },
            "type": "carpet"
           }
          ],
          "choropleth": [
           {
            "colorbar": {
             "outlinewidth": 0,
             "ticks": ""
            },
            "type": "choropleth"
           }
          ],
          "contour": [
           {
            "colorbar": {
             "outlinewidth": 0,
             "ticks": ""
            },
            "colorscale": [
             [
              0,
              "#0d0887"
             ],
             [
              0.1111111111111111,
              "#46039f"
             ],
             [
              0.2222222222222222,
              "#7201a8"
             ],
             [
              0.3333333333333333,
              "#9c179e"
             ],
             [
              0.4444444444444444,
              "#bd3786"
             ],
             [
              0.5555555555555556,
              "#d8576b"
             ],
             [
              0.6666666666666666,
              "#ed7953"
             ],
             [
              0.7777777777777778,
              "#fb9f3a"
             ],
             [
              0.8888888888888888,
              "#fdca26"
             ],
             [
              1,
              "#f0f921"
             ]
            ],
            "type": "contour"
           }
          ],
          "contourcarpet": [
           {
            "colorbar": {
             "outlinewidth": 0,
             "ticks": ""
            },
            "type": "contourcarpet"
           }
          ],
          "heatmap": [
           {
            "colorbar": {
             "outlinewidth": 0,
             "ticks": ""
            },
            "colorscale": [
             [
              0,
              "#0d0887"
             ],
             [
              0.1111111111111111,
              "#46039f"
             ],
             [
              0.2222222222222222,
              "#7201a8"
             ],
             [
              0.3333333333333333,
              "#9c179e"
             ],
             [
              0.4444444444444444,
              "#bd3786"
             ],
             [
              0.5555555555555556,
              "#d8576b"
             ],
             [
              0.6666666666666666,
              "#ed7953"
             ],
             [
              0.7777777777777778,
              "#fb9f3a"
             ],
             [
              0.8888888888888888,
              "#fdca26"
             ],
             [
              1,
              "#f0f921"
             ]
            ],
            "type": "heatmap"
           }
          ],
          "histogram": [
           {
            "marker": {
             "pattern": {
              "fillmode": "overlay",
              "size": 10,
              "solidity": 0.2
             }
            },
            "type": "histogram"
           }
          ],
          "histogram2d": [
           {
            "colorbar": {
             "outlinewidth": 0,
             "ticks": ""
            },
            "colorscale": [
             [
              0,
              "#0d0887"
             ],
             [
              0.1111111111111111,
              "#46039f"
             ],
             [
              0.2222222222222222,
              "#7201a8"
             ],
             [
              0.3333333333333333,
              "#9c179e"
             ],
             [
              0.4444444444444444,
              "#bd3786"
             ],
             [
              0.5555555555555556,
              "#d8576b"
             ],
             [
              0.6666666666666666,
              "#ed7953"
             ],
             [
              0.7777777777777778,
              "#fb9f3a"
             ],
             [
              0.8888888888888888,
              "#fdca26"
             ],
             [
              1,
              "#f0f921"
             ]
            ],
            "type": "histogram2d"
           }
          ],
          "histogram2dcontour": [
           {
            "colorbar": {
             "outlinewidth": 0,
             "ticks": ""
            },
            "colorscale": [
             [
              0,
              "#0d0887"
             ],
             [
              0.1111111111111111,
              "#46039f"
             ],
             [
              0.2222222222222222,
              "#7201a8"
             ],
             [
              0.3333333333333333,
              "#9c179e"
             ],
             [
              0.4444444444444444,
              "#bd3786"
             ],
             [
              0.5555555555555556,
              "#d8576b"
             ],
             [
              0.6666666666666666,
              "#ed7953"
             ],
             [
              0.7777777777777778,
              "#fb9f3a"
             ],
             [
              0.8888888888888888,
              "#fdca26"
             ],
             [
              1,
              "#f0f921"
             ]
            ],
            "type": "histogram2dcontour"
           }
          ],
          "mesh3d": [
           {
            "colorbar": {
             "outlinewidth": 0,
             "ticks": ""
            },
            "type": "mesh3d"
           }
          ],
          "parcoords": [
           {
            "line": {
             "colorbar": {
              "outlinewidth": 0,
              "ticks": ""
             }
            },
            "type": "parcoords"
           }
          ],
          "pie": [
           {
            "automargin": true,
            "type": "pie"
           }
          ],
          "scatter": [
           {
            "fillpattern": {
             "fillmode": "overlay",
             "size": 10,
             "solidity": 0.2
            },
            "type": "scatter"
           }
          ],
          "scatter3d": [
           {
            "line": {
             "colorbar": {
              "outlinewidth": 0,
              "ticks": ""
             }
            },
            "marker": {
             "colorbar": {
              "outlinewidth": 0,
              "ticks": ""
             }
            },
            "type": "scatter3d"
           }
          ],
          "scattercarpet": [
           {
            "marker": {
             "colorbar": {
              "outlinewidth": 0,
              "ticks": ""
             }
            },
            "type": "scattercarpet"
           }
          ],
          "scattergeo": [
           {
            "marker": {
             "colorbar": {
              "outlinewidth": 0,
              "ticks": ""
             }
            },
            "type": "scattergeo"
           }
          ],
          "scattergl": [
           {
            "marker": {
             "colorbar": {
              "outlinewidth": 0,
              "ticks": ""
             }
            },
            "type": "scattergl"
           }
          ],
          "scattermap": [
           {
            "marker": {
             "colorbar": {
              "outlinewidth": 0,
              "ticks": ""
             }
            },
            "type": "scattermap"
           }
          ],
          "scattermapbox": [
           {
            "marker": {
             "colorbar": {
              "outlinewidth": 0,
              "ticks": ""
             }
            },
            "type": "scattermapbox"
           }
          ],
          "scatterpolar": [
           {
            "marker": {
             "colorbar": {
              "outlinewidth": 0,
              "ticks": ""
             }
            },
            "type": "scatterpolar"
           }
          ],
          "scatterpolargl": [
           {
            "marker": {
             "colorbar": {
              "outlinewidth": 0,
              "ticks": ""
             }
            },
            "type": "scatterpolargl"
           }
          ],
          "scatterternary": [
           {
            "marker": {
             "colorbar": {
              "outlinewidth": 0,
              "ticks": ""
             }
            },
            "type": "scatterternary"
           }
          ],
          "surface": [
           {
            "colorbar": {
             "outlinewidth": 0,
             "ticks": ""
            },
            "colorscale": [
             [
              0,
              "#0d0887"
             ],
             [
              0.1111111111111111,
              "#46039f"
             ],
             [
              0.2222222222222222,
              "#7201a8"
             ],
             [
              0.3333333333333333,
              "#9c179e"
             ],
             [
              0.4444444444444444,
              "#bd3786"
             ],
             [
              0.5555555555555556,
              "#d8576b"
             ],
             [
              0.6666666666666666,
              "#ed7953"
             ],
             [
              0.7777777777777778,
              "#fb9f3a"
             ],
             [
              0.8888888888888888,
              "#fdca26"
             ],
             [
              1,
              "#f0f921"
             ]
            ],
            "type": "surface"
           }
          ],
          "table": [
           {
            "cells": {
             "fill": {
              "color": "#EBF0F8"
             },
             "line": {
              "color": "white"
             }
            },
            "header": {
             "fill": {
              "color": "#C8D4E3"
             },
             "line": {
              "color": "white"
             }
            },
            "type": "table"
           }
          ]
         },
         "layout": {
          "annotationdefaults": {
           "arrowcolor": "#2a3f5f",
           "arrowhead": 0,
           "arrowwidth": 1
          },
          "autotypenumbers": "strict",
          "coloraxis": {
           "colorbar": {
            "outlinewidth": 0,
            "ticks": ""
           }
          },
          "colorscale": {
           "diverging": [
            [
             0,
             "#8e0152"
            ],
            [
             0.1,
             "#c51b7d"
            ],
            [
             0.2,
             "#de77ae"
            ],
            [
             0.3,
             "#f1b6da"
            ],
            [
             0.4,
             "#fde0ef"
            ],
            [
             0.5,
             "#f7f7f7"
            ],
            [
             0.6,
             "#e6f5d0"
            ],
            [
             0.7,
             "#b8e186"
            ],
            [
             0.8,
             "#7fbc41"
            ],
            [
             0.9,
             "#4d9221"
            ],
            [
             1,
             "#276419"
            ]
           ],
           "sequential": [
            [
             0,
             "#0d0887"
            ],
            [
             0.1111111111111111,
             "#46039f"
            ],
            [
             0.2222222222222222,
             "#7201a8"
            ],
            [
             0.3333333333333333,
             "#9c179e"
            ],
            [
             0.4444444444444444,
             "#bd3786"
            ],
            [
             0.5555555555555556,
             "#d8576b"
            ],
            [
             0.6666666666666666,
             "#ed7953"
            ],
            [
             0.7777777777777778,
             "#fb9f3a"
            ],
            [
             0.8888888888888888,
             "#fdca26"
            ],
            [
             1,
             "#f0f921"
            ]
           ],
           "sequentialminus": [
            [
             0,
             "#0d0887"
            ],
            [
             0.1111111111111111,
             "#46039f"
            ],
            [
             0.2222222222222222,
             "#7201a8"
            ],
            [
             0.3333333333333333,
             "#9c179e"
            ],
            [
             0.4444444444444444,
             "#bd3786"
            ],
            [
             0.5555555555555556,
             "#d8576b"
            ],
            [
             0.6666666666666666,
             "#ed7953"
            ],
            [
             0.7777777777777778,
             "#fb9f3a"
            ],
            [
             0.8888888888888888,
             "#fdca26"
            ],
            [
             1,
             "#f0f921"
            ]
           ]
          },
          "colorway": [
           "#636efa",
           "#EF553B",
           "#00cc96",
           "#ab63fa",
           "#FFA15A",
           "#19d3f3",
           "#FF6692",
           "#B6E880",
           "#FF97FF",
           "#FECB52"
          ],
          "font": {
           "color": "#2a3f5f"
          },
          "geo": {
           "bgcolor": "white",
           "lakecolor": "white",
           "landcolor": "#E5ECF6",
           "showlakes": true,
           "showland": true,
           "subunitcolor": "white"
          },
          "hoverlabel": {
           "align": "left"
          },
          "hovermode": "closest",
          "mapbox": {
           "style": "light"
          },
          "paper_bgcolor": "white",
          "plot_bgcolor": "#E5ECF6",
          "polar": {
           "angularaxis": {
            "gridcolor": "white",
            "linecolor": "white",
            "ticks": ""
           },
           "bgcolor": "#E5ECF6",
           "radialaxis": {
            "gridcolor": "white",
            "linecolor": "white",
            "ticks": ""
           }
          },
          "scene": {
           "xaxis": {
            "backgroundcolor": "#E5ECF6",
            "gridcolor": "white",
            "gridwidth": 2,
            "linecolor": "white",
            "showbackground": true,
            "ticks": "",
            "zerolinecolor": "white"
           },
           "yaxis": {
            "backgroundcolor": "#E5ECF6",
            "gridcolor": "white",
            "gridwidth": 2,
            "linecolor": "white",
            "showbackground": true,
            "ticks": "",
            "zerolinecolor": "white"
           },
           "zaxis": {
            "backgroundcolor": "#E5ECF6",
            "gridcolor": "white",
            "gridwidth": 2,
            "linecolor": "white",
            "showbackground": true,
            "ticks": "",
            "zerolinecolor": "white"
           }
          },
          "shapedefaults": {
           "line": {
            "color": "#2a3f5f"
           }
          },
          "ternary": {
           "aaxis": {
            "gridcolor": "white",
            "linecolor": "white",
            "ticks": ""
           },
           "baxis": {
            "gridcolor": "white",
            "linecolor": "white",
            "ticks": ""
           },
           "bgcolor": "#E5ECF6",
           "caxis": {
            "gridcolor": "white",
            "linecolor": "white",
            "ticks": ""
           }
          },
          "title": {
           "x": 0.05
          },
          "xaxis": {
           "automargin": true,
           "gridcolor": "white",
           "linecolor": "white",
           "ticks": "",
           "title": {
            "standoff": 15
           },
           "zerolinecolor": "white",
           "zerolinewidth": 2
          },
          "yaxis": {
           "automargin": true,
           "gridcolor": "white",
           "linecolor": "white",
           "ticks": "",
           "title": {
            "standoff": 15
           },
           "zerolinecolor": "white",
           "zerolinewidth": 2
          }
         }
        },
        "updatemenus": [
         {
          "buttons": [
           {
            "args": [
             null,
             {
              "frame": {
               "duration": 100,
               "redraw": true
              },
              "fromcurrent": true
             }
            ],
            "label": "Play",
            "method": "animate"
           }
          ],
          "showactive": false,
          "type": "buttons"
         }
        ],
        "width": 1200,
        "xaxis": {
         "anchor": "y",
         "domain": [
          0,
          0.45
         ],
         "gridcolor": "rgba(128,128,128,0.2)",
         "gridwidth": 1,
         "showgrid": true,
         "zeroline": true,
         "zerolinecolor": "rgba(128,128,128,0.5)",
         "zerolinewidth": 1
        },
        "xaxis2": {
         "anchor": "y2",
         "domain": [
          0.55,
          1
         ],
         "gridcolor": "rgba(128,128,128,0.2)",
         "gridwidth": 1,
         "showgrid": true,
         "zeroline": true,
         "zerolinecolor": "rgba(128,128,128,0.5)",
         "zerolinewidth": 1
        },
        "yaxis": {
         "anchor": "x",
         "domain": [
          0,
          1
         ],
         "gridcolor": "rgba(128,128,128,0.2)",
         "gridwidth": 1,
         "showgrid": true,
         "zeroline": true,
         "zerolinecolor": "rgba(128,128,128,0.5)",
         "zerolinewidth": 1
        },
        "yaxis2": {
         "anchor": "x2",
         "domain": [
          0,
          1
         ],
         "gridcolor": "rgba(128,128,128,0.2)",
         "gridwidth": 1,
         "showgrid": true,
         "zeroline": true,
         "zerolinecolor": "rgba(128,128,128,0.5)",
         "zerolinewidth": 1
        }
       }
      }
     },
     "metadata": {},
     "output_type": "display_data"
    }
   ],
   "source": [
    "# Generate sample market making data with skewed trading and periods of losses\n",
    "n_steps = 100\n",
    "t = np.arange(n_steps)\n",
    "\n",
    "# Generate mid price path with some drift to create challenging periods\n",
    "mid_price = 100 + np.cumsum(np.random.normal(0.002, 0.1, n_steps))\n",
    "spread = 0.2\n",
    "bid = mid_price - spread/2\n",
    "ask = mid_price + spread/2\n",
    "\n",
    "# Simulate trades with skewed probabilities and periods of more aggressive trading\n",
    "trade_probs = np.zeros((n_steps, 3))\n",
    "for i in range(n_steps):\n",
    "    if i < 30:  # Period of balanced trading\n",
    "        trade_probs[i] = [0.3, 0.3, 0.4]\n",
    "    elif i < 60:  # Period of more selling pressure\n",
    "        trade_probs[i] = [0.2, 0.5, 0.3]\n",
    "    else:  # Period of more buying pressure\n",
    "        trade_probs[i] = [0.5, 0.2, 0.3]\n",
    "        \n",
    "trades = [np.random.choice(['buy', 'sell', None], p=probs) for probs in trade_probs]\n",
    "pnl = np.zeros(n_steps)\n",
    "cumulative_pnl = np.zeros(n_steps)\n",
    "\n",
    "# Calculate P&L with occasional losses due to price movement\n",
    "position = 0\n",
    "for i in range(n_steps):\n",
    "    if trades[i] == 'buy':\n",
    "        pnl[i] = spread/2  # Basic spread capture\n",
    "        position += 1\n",
    "    elif trades[i] == 'sell':\n",
    "        pnl[i] = spread/2\n",
    "        position -= 1\n",
    "    \n",
    "    # Add impact of position and price movement\n",
    "    if i > 0:\n",
    "        price_change = mid_price[i] - mid_price[i-1]\n",
    "        position_impact = -position * price_change  # Negative P&L if price moves against position\n",
    "        pnl[i] += position_impact\n",
    "        cumulative_pnl[i] = cumulative_pnl[i-1] + pnl[i]\n",
    "\n",
    "# Create animation frames\n",
    "frames = []\n",
    "for step in range(n_steps):\n",
    "    # Create figure with two subplots\n",
    "    fig = make_subplots(rows=1, cols=2,\n",
    "                        subplot_titles=('Market Prices', 'Market Maker P&L'),\n",
    "                        horizontal_spacing=0.1)\n",
    "    \n",
    "    # Price subplot\n",
    "    fig.add_trace(\n",
    "        go.Scatter(x=t[:step+1], y=mid_price[:step+1], \n",
    "                  line=dict(color='rgba(60, 179, 113, 0.9)', width=2, dash='dot'),\n",
    "                  name='Mid Price (Estimated)'),\n",
    "        row=1, col=1\n",
    "    )\n",
    "    fig.add_trace(\n",
    "        go.Scatter(x=t[:step+1], y=bid[:step+1],\n",
    "                  line=dict(color='rgba(178, 34, 34, 0.9)', width=2),\n",
    "                  name='Bid'),\n",
    "        row=1, col=1\n",
    "    )\n",
    "    fig.add_trace(\n",
    "        go.Scatter(x=t[:step+1], y=ask[:step+1],\n",
    "                  line=dict(color='rgba(70, 130, 180, 0.9)', width=2),\n",
    "                  name='Ask'),\n",
    "        row=1, col=1\n",
    "    )\n",
    "    \n",
    "    # P&L subplot\n",
    "    fig.add_trace(\n",
    "        go.Bar(x=t[:step+1], y=pnl[:step+1],\n",
    "               marker_color=['rgba(178, 34, 34, 0.8)' if x < 0 else 'rgba(31, 119, 180, 0.8)' for x in pnl[:step+1]],\n",
    "               name='Trade P&L'),\n",
    "        row=1, col=2\n",
    "    )\n",
    "    fig.add_trace(\n",
    "        go.Scatter(x=t[:step+1], y=cumulative_pnl[:step+1],\n",
    "                  line=dict(color='rgba(60, 179, 113, 0.9)', width=2),\n",
    "                  name='Cumulative P&L'),\n",
    "        row=1, col=2\n",
    "    )\n",
    "\n",
    "    # Update layout\n",
    "    fig.update_layout(\n",
    "        width=1200,\n",
    "        height=500,\n",
    "        showlegend=True,\n",
    "        plot_bgcolor='rgba(0,0,0,0)',\n",
    "        paper_bgcolor='rgba(0,0,0,0)',\n",
    "        font=dict(color='white'),\n",
    "        legend=dict(\n",
    "            bgcolor='rgba(0,0,0,0)',\n",
    "            bordercolor='rgba(255,255,255,0.2)'\n",
    "        )\n",
    "    )\n",
    "\n",
    "    # Update axes\n",
    "    for i in range(1, 3):\n",
    "        fig.update_xaxes(\n",
    "            showgrid=True,\n",
    "            gridwidth=1,\n",
    "            gridcolor='rgba(128,128,128,0.2)',\n",
    "            zeroline=True,\n",
    "            zerolinewidth=1,\n",
    "            zerolinecolor='rgba(128,128,128,0.5)',\n",
    "            row=1, col=i\n",
    "        )\n",
    "        fig.update_yaxes(\n",
    "            showgrid=True,\n",
    "            gridwidth=1,\n",
    "            gridcolor='rgba(128,128,128,0.2)',\n",
    "            zeroline=True,\n",
    "            zerolinewidth=1,\n",
    "            zerolinecolor='rgba(128,128,128,0.5)',\n",
    "            row=1, col=i\n",
    "        )\n",
    "\n",
    "    frames.append(go.Frame(data=fig.data))\n",
    "\n",
    "# Create and show animation\n",
    "fig.frames = frames\n",
    "fig.update_layout(\n",
    "    updatemenus=[{\n",
    "        'type': 'buttons',\n",
    "        'showactive': False,\n",
    "        'buttons': [{\n",
    "            'label': 'Play',\n",
    "            'method': 'animate',\n",
    "            'args': [None, {'frame': {'duration': 100, 'redraw': True}, 'fromcurrent': True}]\n",
    "        }]\n",
    "    }]\n",
    ")\n",
    "\n",
    "fig.show()"
   ]
  },
  {
   "cell_type": "markdown",
   "id": "a0ebabb5",
   "metadata": {},
   "source": [
    "###### ______________________________________________________________________________________________________________________________________\n"
   ]
  },
  {
   "cell_type": "markdown",
   "id": "4515e624",
   "metadata": {},
   "source": [
    "<u> Market-Makers are subject to different types of risk: </u>\n",
    "\n",
    "- Inventory Risk (Imbalance in buy/sell pressure, *hit* on bids without *lifting* their ask vice-versa)\n",
    "\n",
    "- Adverse Selection (What looks like easy P/L is a trader with *better* information)\n",
    "\n",
    "- Technical Errors (Knight Capital Group, -$400m within an hour)\n",
    "\n",
    "- High Volatility (Not enough time to hedge)\n",
    "\n",
    "- Counterparty Risk (Less algorithmic, think OTC/Exotic products)"
   ]
  },
  {
   "cell_type": "markdown",
   "id": "75a23f30",
   "metadata": {},
   "source": [
    "---"
   ]
  },
  {
   "cell_type": "markdown",
   "id": "660d888c",
   "metadata": {},
   "source": [
    "##### 3.) 💵 Institutional Trading - Buy Side\n",
    "\n",
    "Speculative trading profits can be extremely lucrative, working at some sort of quantitative hedge fund is typically the goal.\n",
    "\n",
    "Volatility and mispricings drive profits, bull-markets are boring - *hedge* is literally in the name, out performing the S&P 500 is a useless metric.\n",
    "\n"
   ]
  },
  {
   "cell_type": "code",
   "execution_count": 15,
   "id": "620a2db0",
   "metadata": {},
   "outputs": [
    {
     "data": {
      "application/vnd.plotly.v1+json": {
       "config": {
        "plotlyServerURL": "https://plot.ly"
       },
       "data": [
        {
         "marker": {
          "color": "rgba(31, 119, 180, 0.8)"
         },
         "name": "Avg Return",
         "type": "bar",
         "x": {
          "bdata": "AAECAwQ=",
          "dtype": "i1"
         },
         "xaxis": "x",
         "y": {
          "bdata": "0JQN2i4f2r/PqNuNVA1wP9WUF3LybtI/gGXhUB5o4j+k/8LvNX/wPw==",
          "dtype": "f8"
         },
         "yaxis": "y"
        },
        {
         "line": {
          "color": "rgba(70, 130, 180, 0.9)",
          "width": 2
         },
         "name": "Long Leg",
         "type": "scatter",
         "xaxis": "x2",
         "y": {
          "bdata": "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",
          "dtype": "f8"
         },
         "yaxis": "y2"
        },
        {
         "line": {
          "color": "rgba(178, 34, 34, 0.9)",
          "width": 2
         },
         "name": "Short Leg",
         "type": "scatter",
         "xaxis": "x2",
         "y": {
          "bdata": "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",
          "dtype": "f8"
         },
         "yaxis": "y2"
        },
        {
         "line": {
          "color": "rgba(60, 179, 113, 0.9)",
          "width": 2
         },
         "name": "L/S Portfolio",
         "type": "scatter",
         "xaxis": "x2",
         "y": {
          "bdata": "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",
          "dtype": "f8"
         },
         "yaxis": "y2"
        }
       ],
       "layout": {
        "annotations": [
         {
          "font": {
           "size": 16
          },
          "showarrow": false,
          "text": "Average Returns by Signal Bucket",
          "x": 0.225,
          "xanchor": "center",
          "xref": "paper",
          "y": 1,
          "yanchor": "bottom",
          "yref": "paper"
         },
         {
          "font": {
           "size": 16
          },
          "showarrow": false,
          "text": "Portfolio Performance",
          "x": 0.775,
          "xanchor": "center",
          "xref": "paper",
          "y": 1,
          "yanchor": "bottom",
          "yref": "paper"
         }
        ],
        "font": {
         "color": "white"
        },
        "height": 500,
        "legend": {
         "bgcolor": "rgba(0,0,0,0)",
         "bordercolor": "rgba(255,255,255,0.2)"
        },
        "paper_bgcolor": "rgba(0,0,0,0)",
        "plot_bgcolor": "rgba(0,0,0,0)",
        "showlegend": true,
        "template": {
         "data": {
          "bar": [
           {
            "error_x": {
             "color": "#2a3f5f"
            },
            "error_y": {
             "color": "#2a3f5f"
            },
            "marker": {
             "line": {
              "color": "#E5ECF6",
              "width": 0.5
             },
             "pattern": {
              "fillmode": "overlay",
              "size": 10,
              "solidity": 0.2
             }
            },
            "type": "bar"
           }
          ],
          "barpolar": [
           {
            "marker": {
             "line": {
              "color": "#E5ECF6",
              "width": 0.5
             },
             "pattern": {
              "fillmode": "overlay",
              "size": 10,
              "solidity": 0.2
             }
            },
            "type": "barpolar"
           }
          ],
          "carpet": [
           {
            "aaxis": {
             "endlinecolor": "#2a3f5f",
             "gridcolor": "white",
             "linecolor": "white",
             "minorgridcolor": "white",
             "startlinecolor": "#2a3f5f"
            },
            "baxis": {
             "endlinecolor": "#2a3f5f",
             "gridcolor": "white",
             "linecolor": "white",
             "minorgridcolor": "white",
             "startlinecolor": "#2a3f5f"
            },
            "type": "carpet"
           }
          ],
          "choropleth": [
           {
            "colorbar": {
             "outlinewidth": 0,
             "ticks": ""
            },
            "type": "choropleth"
           }
          ],
          "contour": [
           {
            "colorbar": {
             "outlinewidth": 0,
             "ticks": ""
            },
            "colorscale": [
             [
              0,
              "#0d0887"
             ],
             [
              0.1111111111111111,
              "#46039f"
             ],
             [
              0.2222222222222222,
              "#7201a8"
             ],
             [
              0.3333333333333333,
              "#9c179e"
             ],
             [
              0.4444444444444444,
              "#bd3786"
             ],
             [
              0.5555555555555556,
              "#d8576b"
             ],
             [
              0.6666666666666666,
              "#ed7953"
             ],
             [
              0.7777777777777778,
              "#fb9f3a"
             ],
             [
              0.8888888888888888,
              "#fdca26"
             ],
             [
              1,
              "#f0f921"
             ]
            ],
            "type": "contour"
           }
          ],
          "contourcarpet": [
           {
            "colorbar": {
             "outlinewidth": 0,
             "ticks": ""
            },
            "type": "contourcarpet"
           }
          ],
          "heatmap": [
           {
            "colorbar": {
             "outlinewidth": 0,
             "ticks": ""
            },
            "colorscale": [
             [
              0,
              "#0d0887"
             ],
             [
              0.1111111111111111,
              "#46039f"
             ],
             [
              0.2222222222222222,
              "#7201a8"
             ],
             [
              0.3333333333333333,
              "#9c179e"
             ],
             [
              0.4444444444444444,
              "#bd3786"
             ],
             [
              0.5555555555555556,
              "#d8576b"
             ],
             [
              0.6666666666666666,
              "#ed7953"
             ],
             [
              0.7777777777777778,
              "#fb9f3a"
             ],
             [
              0.8888888888888888,
              "#fdca26"
             ],
             [
              1,
              "#f0f921"
             ]
            ],
            "type": "heatmap"
           }
          ],
          "histogram": [
           {
            "marker": {
             "pattern": {
              "fillmode": "overlay",
              "size": 10,
              "solidity": 0.2
             }
            },
            "type": "histogram"
           }
          ],
          "histogram2d": [
           {
            "colorbar": {
             "outlinewidth": 0,
             "ticks": ""
            },
            "colorscale": [
             [
              0,
              "#0d0887"
             ],
             [
              0.1111111111111111,
              "#46039f"
             ],
             [
              0.2222222222222222,
              "#7201a8"
             ],
             [
              0.3333333333333333,
              "#9c179e"
             ],
             [
              0.4444444444444444,
              "#bd3786"
             ],
             [
              0.5555555555555556,
              "#d8576b"
             ],
             [
              0.6666666666666666,
              "#ed7953"
             ],
             [
              0.7777777777777778,
              "#fb9f3a"
             ],
             [
              0.8888888888888888,
              "#fdca26"
             ],
             [
              1,
              "#f0f921"
             ]
            ],
            "type": "histogram2d"
           }
          ],
          "histogram2dcontour": [
           {
            "colorbar": {
             "outlinewidth": 0,
             "ticks": ""
            },
            "colorscale": [
             [
              0,
              "#0d0887"
             ],
             [
              0.1111111111111111,
              "#46039f"
             ],
             [
              0.2222222222222222,
              "#7201a8"
             ],
             [
              0.3333333333333333,
              "#9c179e"
             ],
             [
              0.4444444444444444,
              "#bd3786"
             ],
             [
              0.5555555555555556,
              "#d8576b"
             ],
             [
              0.6666666666666666,
              "#ed7953"
             ],
             [
              0.7777777777777778,
              "#fb9f3a"
             ],
             [
              0.8888888888888888,
              "#fdca26"
             ],
             [
              1,
              "#f0f921"
             ]
            ],
            "type": "histogram2dcontour"
           }
          ],
          "mesh3d": [
           {
            "colorbar": {
             "outlinewidth": 0,
             "ticks": ""
            },
            "type": "mesh3d"
           }
          ],
          "parcoords": [
           {
            "line": {
             "colorbar": {
              "outlinewidth": 0,
              "ticks": ""
             }
            },
            "type": "parcoords"
           }
          ],
          "pie": [
           {
            "automargin": true,
            "type": "pie"
           }
          ],
          "scatter": [
           {
            "fillpattern": {
             "fillmode": "overlay",
             "size": 10,
             "solidity": 0.2
            },
            "type": "scatter"
           }
          ],
          "scatter3d": [
           {
            "line": {
             "colorbar": {
              "outlinewidth": 0,
              "ticks": ""
             }
            },
            "marker": {
             "colorbar": {
              "outlinewidth": 0,
              "ticks": ""
             }
            },
            "type": "scatter3d"
           }
          ],
          "scattercarpet": [
           {
            "marker": {
             "colorbar": {
              "outlinewidth": 0,
              "ticks": ""
             }
            },
            "type": "scattercarpet"
           }
          ],
          "scattergeo": [
           {
            "marker": {
             "colorbar": {
              "outlinewidth": 0,
              "ticks": ""
             }
            },
            "type": "scattergeo"
           }
          ],
          "scattergl": [
           {
            "marker": {
             "colorbar": {
              "outlinewidth": 0,
              "ticks": ""
             }
            },
            "type": "scattergl"
           }
          ],
          "scattermap": [
           {
            "marker": {
             "colorbar": {
              "outlinewidth": 0,
              "ticks": ""
             }
            },
            "type": "scattermap"
           }
          ],
          "scattermapbox": [
           {
            "marker": {
             "colorbar": {
              "outlinewidth": 0,
              "ticks": ""
             }
            },
            "type": "scattermapbox"
           }
          ],
          "scatterpolar": [
           {
            "marker": {
             "colorbar": {
              "outlinewidth": 0,
              "ticks": ""
             }
            },
            "type": "scatterpolar"
           }
          ],
          "scatterpolargl": [
           {
            "marker": {
             "colorbar": {
              "outlinewidth": 0,
              "ticks": ""
             }
            },
            "type": "scatterpolargl"
           }
          ],
          "scatterternary": [
           {
            "marker": {
             "colorbar": {
              "outlinewidth": 0,
              "ticks": ""
             }
            },
            "type": "scatterternary"
           }
          ],
          "surface": [
           {
            "colorbar": {
             "outlinewidth": 0,
             "ticks": ""
            },
            "colorscale": [
             [
              0,
              "#0d0887"
             ],
             [
              0.1111111111111111,
              "#46039f"
             ],
             [
              0.2222222222222222,
              "#7201a8"
             ],
             [
              0.3333333333333333,
              "#9c179e"
             ],
             [
              0.4444444444444444,
              "#bd3786"
             ],
             [
              0.5555555555555556,
              "#d8576b"
             ],
             [
              0.6666666666666666,
              "#ed7953"
             ],
             [
              0.7777777777777778,
              "#fb9f3a"
             ],
             [
              0.8888888888888888,
              "#fdca26"
             ],
             [
              1,
              "#f0f921"
             ]
            ],
            "type": "surface"
           }
          ],
          "table": [
           {
            "cells": {
             "fill": {
              "color": "#EBF0F8"
             },
             "line": {
              "color": "white"
             }
            },
            "header": {
             "fill": {
              "color": "#C8D4E3"
             },
             "line": {
              "color": "white"
             }
            },
            "type": "table"
           }
          ]
         },
         "layout": {
          "annotationdefaults": {
           "arrowcolor": "#2a3f5f",
           "arrowhead": 0,
           "arrowwidth": 1
          },
          "autotypenumbers": "strict",
          "coloraxis": {
           "colorbar": {
            "outlinewidth": 0,
            "ticks": ""
           }
          },
          "colorscale": {
           "diverging": [
            [
             0,
             "#8e0152"
            ],
            [
             0.1,
             "#c51b7d"
            ],
            [
             0.2,
             "#de77ae"
            ],
            [
             0.3,
             "#f1b6da"
            ],
            [
             0.4,
             "#fde0ef"
            ],
            [
             0.5,
             "#f7f7f7"
            ],
            [
             0.6,
             "#e6f5d0"
            ],
            [
             0.7,
             "#b8e186"
            ],
            [
             0.8,
             "#7fbc41"
            ],
            [
             0.9,
             "#4d9221"
            ],
            [
             1,
             "#276419"
            ]
           ],
           "sequential": [
            [
             0,
             "#0d0887"
            ],
            [
             0.1111111111111111,
             "#46039f"
            ],
            [
             0.2222222222222222,
             "#7201a8"
            ],
            [
             0.3333333333333333,
             "#9c179e"
            ],
            [
             0.4444444444444444,
             "#bd3786"
            ],
            [
             0.5555555555555556,
             "#d8576b"
            ],
            [
             0.6666666666666666,
             "#ed7953"
            ],
            [
             0.7777777777777778,
             "#fb9f3a"
            ],
            [
             0.8888888888888888,
             "#fdca26"
            ],
            [
             1,
             "#f0f921"
            ]
           ],
           "sequentialminus": [
            [
             0,
             "#0d0887"
            ],
            [
             0.1111111111111111,
             "#46039f"
            ],
            [
             0.2222222222222222,
             "#7201a8"
            ],
            [
             0.3333333333333333,
             "#9c179e"
            ],
            [
             0.4444444444444444,
             "#bd3786"
            ],
            [
             0.5555555555555556,
             "#d8576b"
            ],
            [
             0.6666666666666666,
             "#ed7953"
            ],
            [
             0.7777777777777778,
             "#fb9f3a"
            ],
            [
             0.8888888888888888,
             "#fdca26"
            ],
            [
             1,
             "#f0f921"
            ]
           ]
          },
          "colorway": [
           "#636efa",
           "#EF553B",
           "#00cc96",
           "#ab63fa",
           "#FFA15A",
           "#19d3f3",
           "#FF6692",
           "#B6E880",
           "#FF97FF",
           "#FECB52"
          ],
          "font": {
           "color": "#2a3f5f"
          },
          "geo": {
           "bgcolor": "white",
           "lakecolor": "white",
           "landcolor": "#E5ECF6",
           "showlakes": true,
           "showland": true,
           "subunitcolor": "white"
          },
          "hoverlabel": {
           "align": "left"
          },
          "hovermode": "closest",
          "mapbox": {
           "style": "light"
          },
          "paper_bgcolor": "white",
          "plot_bgcolor": "#E5ECF6",
          "polar": {
           "angularaxis": {
            "gridcolor": "white",
            "linecolor": "white",
            "ticks": ""
           },
           "bgcolor": "#E5ECF6",
           "radialaxis": {
            "gridcolor": "white",
            "linecolor": "white",
            "ticks": ""
           }
          },
          "scene": {
           "xaxis": {
            "backgroundcolor": "#E5ECF6",
            "gridcolor": "white",
            "gridwidth": 2,
            "linecolor": "white",
            "showbackground": true,
            "ticks": "",
            "zerolinecolor": "white"
           },
           "yaxis": {
            "backgroundcolor": "#E5ECF6",
            "gridcolor": "white",
            "gridwidth": 2,
            "linecolor": "white",
            "showbackground": true,
            "ticks": "",
            "zerolinecolor": "white"
           },
           "zaxis": {
            "backgroundcolor": "#E5ECF6",
            "gridcolor": "white",
            "gridwidth": 2,
            "linecolor": "white",
            "showbackground": true,
            "ticks": "",
            "zerolinecolor": "white"
           }
          },
          "shapedefaults": {
           "line": {
            "color": "#2a3f5f"
           }
          },
          "ternary": {
           "aaxis": {
            "gridcolor": "white",
            "linecolor": "white",
            "ticks": ""
           },
           "baxis": {
            "gridcolor": "white",
            "linecolor": "white",
            "ticks": ""
           },
           "bgcolor": "#E5ECF6",
           "caxis": {
            "gridcolor": "white",
            "linecolor": "white",
            "ticks": ""
           }
          },
          "title": {
           "x": 0.05
          },
          "xaxis": {
           "automargin": true,
           "gridcolor": "white",
           "linecolor": "white",
           "ticks": "",
           "title": {
            "standoff": 15
           },
           "zerolinecolor": "white",
           "zerolinewidth": 2
          },
          "yaxis": {
           "automargin": true,
           "gridcolor": "white",
           "linecolor": "white",
           "ticks": "",
           "title": {
            "standoff": 15
           },
           "zerolinecolor": "white",
           "zerolinewidth": 2
          }
         }
        },
        "width": 1200,
        "xaxis": {
         "anchor": "y",
         "domain": [
          0,
          0.45
         ],
         "gridcolor": "rgba(128,128,128,0.2)",
         "gridwidth": 1,
         "showgrid": true,
         "zeroline": true,
         "zerolinecolor": "rgba(128,128,128,0.5)",
         "zerolinewidth": 1
        },
        "xaxis2": {
         "anchor": "y2",
         "domain": [
          0.55,
          1
         ],
         "gridcolor": "rgba(128,128,128,0.2)",
         "gridwidth": 1,
         "showgrid": true,
         "zeroline": true,
         "zerolinecolor": "rgba(128,128,128,0.5)",
         "zerolinewidth": 1
        },
        "yaxis": {
         "anchor": "x",
         "domain": [
          0,
          1
         ],
         "gridcolor": "rgba(128,128,128,0.2)",
         "gridwidth": 1,
         "showgrid": true,
         "zeroline": true,
         "zerolinecolor": "rgba(128,128,128,0.5)",
         "zerolinewidth": 1
        },
        "yaxis2": {
         "anchor": "x2",
         "domain": [
          0,
          1
         ],
         "gridcolor": "rgba(128,128,128,0.2)",
         "gridwidth": 1,
         "showgrid": true,
         "zeroline": true,
         "zerolinecolor": "rgba(128,128,128,0.5)",
         "zerolinewidth": 1
        }
       }
      }
     },
     "metadata": {},
     "output_type": "display_data"
    }
   ],
   "source": [
    "# Generate sample data with noisier signal\n",
    "np.random.seed(42)\n",
    "n_days = 252\n",
    "t = np.linspace(0, 1, n_days)\n",
    "signal = 0.6 * t + 0.5 * np.random.randn(n_days)  # Noisier monotonic signal\n",
    "\n",
    "# Calculate average returns by signal bucket (5 buckets)\n",
    "n_buckets = 5\n",
    "signal_buckets = pd.qcut(signal, n_buckets, labels=False)\n",
    "avg_returns = np.array([np.mean(signal[signal_buckets == i]) for i in range(n_buckets)])\n",
    "\n",
    "# Generate different correlated price paths using ABM\n",
    "dt = 1/252\n",
    "mu = 0.1  # drift\n",
    "sigma = 0.2  # volatility\n",
    "\n",
    "# Generate different random walks for long and short legs\n",
    "dW_long = np.random.normal(0, np.sqrt(dt), n_days)\n",
    "dW_short = np.random.normal(0, np.sqrt(dt), n_days)\n",
    "\n",
    "long_leg = 100000 * np.exp(np.cumsum((mu + 0.002 * signal) * dt + sigma * dW_long))\n",
    "short_leg = 100000 * np.exp(np.cumsum((mu - 0.002 * signal) * dt + sigma * dW_short))\n",
    "ls_portfolio = (long_leg + (200000 - short_leg)) / 2\n",
    "\n",
    "# Create figure with two subplots side by side\n",
    "fig = make_subplots(rows=1, cols=2,\n",
    "                    subplot_titles=('Average Returns by Signal Bucket', 'Portfolio Performance'),\n",
    "                    horizontal_spacing=0.1)\n",
    "\n",
    "# Add bar chart of signal buckets\n",
    "fig.add_trace(\n",
    "    go.Bar(x=np.arange(n_buckets), y=avg_returns, \n",
    "           marker_color='rgba(31, 119, 180, 0.8)',\n",
    "           name='Avg Return'),\n",
    "    row=1, col=1\n",
    ")\n",
    "\n",
    "# Add portfolio traces\n",
    "fig.add_trace(\n",
    "    go.Scatter(y=long_leg, line=dict(color='rgba(70, 130, 180, 0.9)', width=2), \n",
    "               name='Long Leg'),\n",
    "    row=1, col=2\n",
    ")\n",
    "fig.add_trace(\n",
    "    go.Scatter(y=short_leg, line=dict(color='rgba(178, 34, 34, 0.9)', width=2),\n",
    "               name='Short Leg'),\n",
    "    row=1, col=2\n",
    ")\n",
    "fig.add_trace(\n",
    "    go.Scatter(y=ls_portfolio, line=dict(color='rgba(60, 179, 113, 0.9)', width=2),\n",
    "               name='L/S Portfolio'),\n",
    "    row=1, col=2\n",
    ")\n",
    "\n",
    "# Update layout\n",
    "fig.update_layout(\n",
    "    width=1200,\n",
    "    height=500,\n",
    "    showlegend=True,\n",
    "    plot_bgcolor='rgba(0,0,0,0)',\n",
    "    paper_bgcolor='rgba(0,0,0,0)',\n",
    "    font=dict(color='white'),\n",
    "    legend=dict(\n",
    "        bgcolor='rgba(0,0,0,0)',\n",
    "        bordercolor='rgba(255,255,255,0.2)'\n",
    "    )\n",
    ")\n",
    "\n",
    "# Update axes\n",
    "for i in range(1, 3):\n",
    "    fig.update_xaxes(\n",
    "        showgrid=True,\n",
    "        gridwidth=1,\n",
    "        gridcolor='rgba(128,128,128,0.2)',\n",
    "        zeroline=True,\n",
    "        zerolinewidth=1,\n",
    "        zerolinecolor='rgba(128,128,128,0.5)',\n",
    "        row=1, col=i\n",
    "    )\n",
    "    fig.update_yaxes(\n",
    "        showgrid=True,\n",
    "        gridwidth=1,\n",
    "        gridcolor='rgba(128,128,128,0.2)',\n",
    "        zeroline=True,\n",
    "        zerolinewidth=1,\n",
    "        zerolinecolor='rgba(128,128,128,0.5)',\n",
    "        row=1, col=i\n",
    "    )\n",
    "\n",
    "fig.show()"
   ]
  },
  {
   "cell_type": "markdown",
   "id": "e0cacc76",
   "metadata": {},
   "source": [
    "Strategies in a *signal* capacity are about asset selection, holding periods (daily, weekly, monthly) and turnover are a concern depending on alpha decay of a signal.\n",
    "\n",
    "Other strategies (intraday, high-frequency) tend to consider more *statistical arbitrage* approaches (level reversion, implied volatility surface arbitrage)"
   ]
  },
  {
   "cell_type": "markdown",
   "id": "9e90fa7d",
   "metadata": {},
   "source": [
    "---"
   ]
  },
  {
   "cell_type": "markdown",
   "id": "139e799d",
   "metadata": {},
   "source": [
    "##### 4.) 💰 What Does a Quant do with their Money?\n",
    "\n",
    "<u> Not all quants have the same skills </u>\n",
    "\n",
    "- Quant research, development, trading\n",
    "\n",
    "- Risk appetite institutionally v.s. personally\n",
    "\n",
    "- Breadth of knowledge in finance, economics, technology, etc...\n",
    "\n",
    "- Qualitative skills, reading in between the lines, etc."
   ]
  },
  {
   "cell_type": "markdown",
   "id": "a0806a01",
   "metadata": {},
   "source": [
    "###### ______________________________________________________________________________________________________________________________________\n"
   ]
  },
  {
   "cell_type": "markdown",
   "id": "95edb378",
   "metadata": {},
   "source": [
    "Returns from some sort of cash or portfolio allocation is a *linear combination*.\n",
    "\n",
    "**Remember** we are dealing with randomness so the best we can do is optimize some expected value, I discuss this at length in many videos.\n",
    "\n",
    "Diversification can help mitigate risk but also reduces upside, knowing this is why having a quantitative background is quite useful.\n",
    "\n",
    "Let's say I have 3 trading strategies with the following annual return profiles...\n",
    "\n",
    "- **Discretionary Trading:** \n",
    "\n",
    "$$\\mathbb{E}[D] = 25\\% \\quad \\quad \\sigma_D = 12\\%$$\n",
    "\n",
    "- **Algorithmic Trading:** \n",
    "\n",
    "$$\\mathbb{E}[A] = 10\\% \\quad \\quad \\sigma_A = 5\\%$$\n",
    "\n",
    "- **Market Trading:** \n",
    "\n",
    "$$\\mathbb{E}[M] = 8\\% \\quad \\quad \\sigma_M = 15\\%$$\n",
    "\n",
    "\n",
    "These numbers are *moving targets* estimated from data - they do not converge and change over time.  They do **NOT** function like traditional statistics.\n",
    "\n",
    "###### ______________________________________________________________________________________________________________________________________\n",
    "\n",
    "\n",
    "**My Portfolio**\n",
    "\n",
    "Given these options, I can only trade one of the following portfolios based on my total capital $C$\n",
    "\n",
    "$$\\mathbb{E}[\\Pi] = W_D \\mathbb{E}[D] + W_A \\mathbb{E}[A] + W_M \\mathbb{E}[M] \\quad \\quad \\text{ given capital constraint } C$$\n",
    "\n",
    "Where I can choose $W_D, W_A, W_M$ freely based on my capital available, $C$"
   ]
  },
  {
   "cell_type": "code",
   "execution_count": 16,
   "id": "2ec03ea5",
   "metadata": {},
   "outputs": [
    {
     "data": {
      "application/vnd.plotly.v1+json": {
       "config": {
        "plotlyServerURL": "https://plot.ly"
       },
       "data": [
        {
         "line": {
          "color": "rgba(255,65,54,0.6)"
         },
         "name": "Discretionary<br>Sharpe: 2.02, Sortino: 3.70",
         "type": "scatter",
         "xaxis": "x",
         "y": {
          "bdata": "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",
          "dtype": "f8"
         },
         "yaxis": "y"
        },
        {
         "line": {
          "color": "rgba(44,160,44,0.6)"
         },
         "name": "Algorithmic<br>Sharpe: 2.13, Sortino: 3.62",
         "type": "scatter",
         "xaxis": "x",
         "y": {
          "bdata": "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",
          "dtype": "f8"
         },
         "yaxis": "y"
        },
        {
         "line": {
          "color": "rgba(31,119,180,0.6)"
         },
         "name": "Market<br>Sharpe: 0.32, Sortino: 0.54",
         "type": "scatter",
         "xaxis": "x",
         "y": {
          "bdata": "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",
          "dtype": "f8"
         },
         "yaxis": "y"
        },
        {
         "line": {
          "color": "rgba(255,127,14,0.6)"
         },
         "name": "Min Variance<br>Sharpe: 2.85, Sortino: 4.90<br>Min-Var Portfolio <br>Discretionary: 14.61%<br>Algorithmic: 76.81%<br>Market: 8.58%",
         "type": "scatter",
         "xaxis": "x2",
         "y": {
          "bdata": "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",
          "dtype": "f8"
         },
         "yaxis": "y2"
        }
       ],
       "layout": {
        "annotations": [
         {
          "font": {
           "size": 16
          },
          "showarrow": false,
          "text": "Individual Strategies",
          "x": 0.5,
          "xanchor": "center",
          "xref": "paper",
          "y": 1,
          "yanchor": "bottom",
          "yref": "paper"
         },
         {
          "font": {
           "size": 16
          },
          "showarrow": false,
          "text": "Minimum Variance Portfolio",
          "x": 0.5,
          "xanchor": "center",
          "xref": "paper",
          "y": 0.375,
          "yanchor": "bottom",
          "yref": "paper"
         }
        ],
        "font": {
         "color": "white"
        },
        "height": 800,
        "paper_bgcolor": "rgba(0,0,0,0)",
        "plot_bgcolor": "rgba(0,0,0,0)",
        "showlegend": true,
        "template": {
         "data": {
          "bar": [
           {
            "error_x": {
             "color": "#2a3f5f"
            },
            "error_y": {
             "color": "#2a3f5f"
            },
            "marker": {
             "line": {
              "color": "#E5ECF6",
              "width": 0.5
             },
             "pattern": {
              "fillmode": "overlay",
              "size": 10,
              "solidity": 0.2
             }
            },
            "type": "bar"
           }
          ],
          "barpolar": [
           {
            "marker": {
             "line": {
              "color": "#E5ECF6",
              "width": 0.5
             },
             "pattern": {
              "fillmode": "overlay",
              "size": 10,
              "solidity": 0.2
             }
            },
            "type": "barpolar"
           }
          ],
          "carpet": [
           {
            "aaxis": {
             "endlinecolor": "#2a3f5f",
             "gridcolor": "white",
             "linecolor": "white",
             "minorgridcolor": "white",
             "startlinecolor": "#2a3f5f"
            },
            "baxis": {
             "endlinecolor": "#2a3f5f",
             "gridcolor": "white",
             "linecolor": "white",
             "minorgridcolor": "white",
             "startlinecolor": "#2a3f5f"
            },
            "type": "carpet"
           }
          ],
          "choropleth": [
           {
            "colorbar": {
             "outlinewidth": 0,
             "ticks": ""
            },
            "type": "choropleth"
           }
          ],
          "contour": [
           {
            "colorbar": {
             "outlinewidth": 0,
             "ticks": ""
            },
            "colorscale": [
             [
              0,
              "#0d0887"
             ],
             [
              0.1111111111111111,
              "#46039f"
             ],
             [
              0.2222222222222222,
              "#7201a8"
             ],
             [
              0.3333333333333333,
              "#9c179e"
             ],
             [
              0.4444444444444444,
              "#bd3786"
             ],
             [
              0.5555555555555556,
              "#d8576b"
             ],
             [
              0.6666666666666666,
              "#ed7953"
             ],
             [
              0.7777777777777778,
              "#fb9f3a"
             ],
             [
              0.8888888888888888,
              "#fdca26"
             ],
             [
              1,
              "#f0f921"
             ]
            ],
            "type": "contour"
           }
          ],
          "contourcarpet": [
           {
            "colorbar": {
             "outlinewidth": 0,
             "ticks": ""
            },
            "type": "contourcarpet"
           }
          ],
          "heatmap": [
           {
            "colorbar": {
             "outlinewidth": 0,
             "ticks": ""
            },
            "colorscale": [
             [
              0,
              "#0d0887"
             ],
             [
              0.1111111111111111,
              "#46039f"
             ],
             [
              0.2222222222222222,
              "#7201a8"
             ],
             [
              0.3333333333333333,
              "#9c179e"
             ],
             [
              0.4444444444444444,
              "#bd3786"
             ],
             [
              0.5555555555555556,
              "#d8576b"
             ],
             [
              0.6666666666666666,
              "#ed7953"
             ],
             [
              0.7777777777777778,
              "#fb9f3a"
             ],
             [
              0.8888888888888888,
              "#fdca26"
             ],
             [
              1,
              "#f0f921"
             ]
            ],
            "type": "heatmap"
           }
          ],
          "histogram": [
           {
            "marker": {
             "pattern": {
              "fillmode": "overlay",
              "size": 10,
              "solidity": 0.2
             }
            },
            "type": "histogram"
           }
          ],
          "histogram2d": [
           {
            "colorbar": {
             "outlinewidth": 0,
             "ticks": ""
            },
            "colorscale": [
             [
              0,
              "#0d0887"
             ],
             [
              0.1111111111111111,
              "#46039f"
             ],
             [
              0.2222222222222222,
              "#7201a8"
             ],
             [
              0.3333333333333333,
              "#9c179e"
             ],
             [
              0.4444444444444444,
              "#bd3786"
             ],
             [
              0.5555555555555556,
              "#d8576b"
             ],
             [
              0.6666666666666666,
              "#ed7953"
             ],
             [
              0.7777777777777778,
              "#fb9f3a"
             ],
             [
              0.8888888888888888,
              "#fdca26"
             ],
             [
              1,
              "#f0f921"
             ]
            ],
            "type": "histogram2d"
           }
          ],
          "histogram2dcontour": [
           {
            "colorbar": {
             "outlinewidth": 0,
             "ticks": ""
            },
            "colorscale": [
             [
              0,
              "#0d0887"
             ],
             [
              0.1111111111111111,
              "#46039f"
             ],
             [
              0.2222222222222222,
              "#7201a8"
             ],
             [
              0.3333333333333333,
              "#9c179e"
             ],
             [
              0.4444444444444444,
              "#bd3786"
             ],
             [
              0.5555555555555556,
              "#d8576b"
             ],
             [
              0.6666666666666666,
              "#ed7953"
             ],
             [
              0.7777777777777778,
              "#fb9f3a"
             ],
             [
              0.8888888888888888,
              "#fdca26"
             ],
             [
              1,
              "#f0f921"
             ]
            ],
            "type": "histogram2dcontour"
           }
          ],
          "mesh3d": [
           {
            "colorbar": {
             "outlinewidth": 0,
             "ticks": ""
            },
            "type": "mesh3d"
           }
          ],
          "parcoords": [
           {
            "line": {
             "colorbar": {
              "outlinewidth": 0,
              "ticks": ""
             }
            },
            "type": "parcoords"
           }
          ],
          "pie": [
           {
            "automargin": true,
            "type": "pie"
           }
          ],
          "scatter": [
           {
            "fillpattern": {
             "fillmode": "overlay",
             "size": 10,
             "solidity": 0.2
            },
            "type": "scatter"
           }
          ],
          "scatter3d": [
           {
            "line": {
             "colorbar": {
              "outlinewidth": 0,
              "ticks": ""
             }
            },
            "marker": {
             "colorbar": {
              "outlinewidth": 0,
              "ticks": ""
             }
            },
            "type": "scatter3d"
           }
          ],
          "scattercarpet": [
           {
            "marker": {
             "colorbar": {
              "outlinewidth": 0,
              "ticks": ""
             }
            },
            "type": "scattercarpet"
           }
          ],
          "scattergeo": [
           {
            "marker": {
             "colorbar": {
              "outlinewidth": 0,
              "ticks": ""
             }
            },
            "type": "scattergeo"
           }
          ],
          "scattergl": [
           {
            "marker": {
             "colorbar": {
              "outlinewidth": 0,
              "ticks": ""
             }
            },
            "type": "scattergl"
           }
          ],
          "scattermap": [
           {
            "marker": {
             "colorbar": {
              "outlinewidth": 0,
              "ticks": ""
             }
            },
            "type": "scattermap"
           }
          ],
          "scattermapbox": [
           {
            "marker": {
             "colorbar": {
              "outlinewidth": 0,
              "ticks": ""
             }
            },
            "type": "scattermapbox"
           }
          ],
          "scatterpolar": [
           {
            "marker": {
             "colorbar": {
              "outlinewidth": 0,
              "ticks": ""
             }
            },
            "type": "scatterpolar"
           }
          ],
          "scatterpolargl": [
           {
            "marker": {
             "colorbar": {
              "outlinewidth": 0,
              "ticks": ""
             }
            },
            "type": "scatterpolargl"
           }
          ],
          "scatterternary": [
           {
            "marker": {
             "colorbar": {
              "outlinewidth": 0,
              "ticks": ""
             }
            },
            "type": "scatterternary"
           }
          ],
          "surface": [
           {
            "colorbar": {
             "outlinewidth": 0,
             "ticks": ""
            },
            "colorscale": [
             [
              0,
              "#0d0887"
             ],
             [
              0.1111111111111111,
              "#46039f"
             ],
             [
              0.2222222222222222,
              "#7201a8"
             ],
             [
              0.3333333333333333,
              "#9c179e"
             ],
             [
              0.4444444444444444,
              "#bd3786"
             ],
             [
              0.5555555555555556,
              "#d8576b"
             ],
             [
              0.6666666666666666,
              "#ed7953"
             ],
             [
              0.7777777777777778,
              "#fb9f3a"
             ],
             [
              0.8888888888888888,
              "#fdca26"
             ],
             [
              1,
              "#f0f921"
             ]
            ],
            "type": "surface"
           }
          ],
          "table": [
           {
            "cells": {
             "fill": {
              "color": "#EBF0F8"
             },
             "line": {
              "color": "white"
             }
            },
            "header": {
             "fill": {
              "color": "#C8D4E3"
             },
             "line": {
              "color": "white"
             }
            },
            "type": "table"
           }
          ]
         },
         "layout": {
          "annotationdefaults": {
           "arrowcolor": "#2a3f5f",
           "arrowhead": 0,
           "arrowwidth": 1
          },
          "autotypenumbers": "strict",
          "coloraxis": {
           "colorbar": {
            "outlinewidth": 0,
            "ticks": ""
           }
          },
          "colorscale": {
           "diverging": [
            [
             0,
             "#8e0152"
            ],
            [
             0.1,
             "#c51b7d"
            ],
            [
             0.2,
             "#de77ae"
            ],
            [
             0.3,
             "#f1b6da"
            ],
            [
             0.4,
             "#fde0ef"
            ],
            [
             0.5,
             "#f7f7f7"
            ],
            [
             0.6,
             "#e6f5d0"
            ],
            [
             0.7,
             "#b8e186"
            ],
            [
             0.8,
             "#7fbc41"
            ],
            [
             0.9,
             "#4d9221"
            ],
            [
             1,
             "#276419"
            ]
           ],
           "sequential": [
            [
             0,
             "#0d0887"
            ],
            [
             0.1111111111111111,
             "#46039f"
            ],
            [
             0.2222222222222222,
             "#7201a8"
            ],
            [
             0.3333333333333333,
             "#9c179e"
            ],
            [
             0.4444444444444444,
             "#bd3786"
            ],
            [
             0.5555555555555556,
             "#d8576b"
            ],
            [
             0.6666666666666666,
             "#ed7953"
            ],
            [
             0.7777777777777778,
             "#fb9f3a"
            ],
            [
             0.8888888888888888,
             "#fdca26"
            ],
            [
             1,
             "#f0f921"
            ]
           ],
           "sequentialminus": [
            [
             0,
             "#0d0887"
            ],
            [
             0.1111111111111111,
             "#46039f"
            ],
            [
             0.2222222222222222,
             "#7201a8"
            ],
            [
             0.3333333333333333,
             "#9c179e"
            ],
            [
             0.4444444444444444,
             "#bd3786"
            ],
            [
             0.5555555555555556,
             "#d8576b"
            ],
            [
             0.6666666666666666,
             "#ed7953"
            ],
            [
             0.7777777777777778,
             "#fb9f3a"
            ],
            [
             0.8888888888888888,
             "#fdca26"
            ],
            [
             1,
             "#f0f921"
            ]
           ]
          },
          "colorway": [
           "#636efa",
           "#EF553B",
           "#00cc96",
           "#ab63fa",
           "#FFA15A",
           "#19d3f3",
           "#FF6692",
           "#B6E880",
           "#FF97FF",
           "#FECB52"
          ],
          "font": {
           "color": "#2a3f5f"
          },
          "geo": {
           "bgcolor": "white",
           "lakecolor": "white",
           "landcolor": "#E5ECF6",
           "showlakes": true,
           "showland": true,
           "subunitcolor": "white"
          },
          "hoverlabel": {
           "align": "left"
          },
          "hovermode": "closest",
          "mapbox": {
           "style": "light"
          },
          "paper_bgcolor": "white",
          "plot_bgcolor": "#E5ECF6",
          "polar": {
           "angularaxis": {
            "gridcolor": "white",
            "linecolor": "white",
            "ticks": ""
           },
           "bgcolor": "#E5ECF6",
           "radialaxis": {
            "gridcolor": "white",
            "linecolor": "white",
            "ticks": ""
           }
          },
          "scene": {
           "xaxis": {
            "backgroundcolor": "#E5ECF6",
            "gridcolor": "white",
            "gridwidth": 2,
            "linecolor": "white",
            "showbackground": true,
            "ticks": "",
            "zerolinecolor": "white"
           },
           "yaxis": {
            "backgroundcolor": "#E5ECF6",
            "gridcolor": "white",
            "gridwidth": 2,
            "linecolor": "white",
            "showbackground": true,
            "ticks": "",
            "zerolinecolor": "white"
           },
           "zaxis": {
            "backgroundcolor": "#E5ECF6",
            "gridcolor": "white",
            "gridwidth": 2,
            "linecolor": "white",
            "showbackground": true,
            "ticks": "",
            "zerolinecolor": "white"
           }
          },
          "shapedefaults": {
           "line": {
            "color": "#2a3f5f"
           }
          },
          "ternary": {
           "aaxis": {
            "gridcolor": "white",
            "linecolor": "white",
            "ticks": ""
           },
           "baxis": {
            "gridcolor": "white",
            "linecolor": "white",
            "ticks": ""
           },
           "bgcolor": "#E5ECF6",
           "caxis": {
            "gridcolor": "white",
            "linecolor": "white",
            "ticks": ""
           }
          },
          "title": {
           "x": 0.05
          },
          "xaxis": {
           "automargin": true,
           "gridcolor": "white",
           "linecolor": "white",
           "ticks": "",
           "title": {
            "standoff": 15
           },
           "zerolinecolor": "white",
           "zerolinewidth": 2
          },
          "yaxis": {
           "automargin": true,
           "gridcolor": "white",
           "linecolor": "white",
           "ticks": "",
           "title": {
            "standoff": 15
           },
           "zerolinecolor": "white",
           "zerolinewidth": 2
          }
         }
        },
        "width": 1000,
        "xaxis": {
         "anchor": "y",
         "domain": [
          0,
          1
         ],
         "gridcolor": "rgba(128,128,128,0.2)",
         "gridwidth": 1,
         "showgrid": true,
         "zeroline": true,
         "zerolinecolor": "rgba(128,128,128,0.5)",
         "zerolinewidth": 1
        },
        "xaxis2": {
         "anchor": "y2",
         "domain": [
          0,
          1
         ],
         "gridcolor": "rgba(128,128,128,0.2)",
         "gridwidth": 1,
         "showgrid": true,
         "zeroline": true,
         "zerolinecolor": "rgba(128,128,128,0.5)",
         "zerolinewidth": 1
        },
        "yaxis": {
         "anchor": "x",
         "domain": [
          0.625,
          1
         ],
         "gridcolor": "rgba(128,128,128,0.2)",
         "gridwidth": 1,
         "showgrid": true,
         "zeroline": true,
         "zerolinecolor": "rgba(128,128,128,0.5)",
         "zerolinewidth": 1
        },
        "yaxis2": {
         "anchor": "x2",
         "domain": [
          0,
          0.375
         ],
         "gridcolor": "rgba(128,128,128,0.2)",
         "gridwidth": 1,
         "showgrid": true,
         "zeroline": true,
         "zerolinecolor": "rgba(128,128,128,0.5)",
         "zerolinewidth": 1
        }
       }
      }
     },
     "metadata": {},
     "output_type": "display_data"
    }
   ],
   "source": [
    "# Generate sample paths using ABM\n",
    "n_steps = 1000\n",
    "dt = 1/252  # Daily timesteps\n",
    "\n",
    "# Convert annual parameters to daily\n",
    "mu_d, sigma_d = 0.25, 0.12  # Discretionary\n",
    "mu_a, sigma_a = 0.10, 0.05  # Algorithmic\n",
    "mu_m, sigma_m = 0.08, 0.15  # Market\n",
    "\n",
    "# Daily parameters\n",
    "daily_mu_d = mu_d * dt\n",
    "daily_mu_a = mu_a * dt\n",
    "daily_mu_m = mu_m * dt\n",
    "daily_sigma_d = sigma_d * np.sqrt(dt)\n",
    "daily_sigma_a = sigma_a * np.sqrt(dt)\n",
    "daily_sigma_m = sigma_m * np.sqrt(dt)\n",
    "\n",
    "# Generate paths\n",
    "np.random.seed(42)\n",
    "paths = {}\n",
    "initial_value = 100000\n",
    "\n",
    "for name, mu, sigma in [('Discretionary', daily_mu_d, daily_sigma_d),\n",
    "                       ('Algorithmic', daily_mu_a, daily_sigma_a),\n",
    "                       ('Market', daily_mu_m, daily_sigma_m)]:\n",
    "    \n",
    "    dW = np.random.normal(0, 1, n_steps)\n",
    "    path = np.zeros(n_steps)\n",
    "    path[0] = initial_value\n",
    "    \n",
    "    for t in range(1, n_steps):\n",
    "        path[t] = path[t-1] * (1 + mu + sigma * dW[t])\n",
    "    \n",
    "    paths[name] = path\n",
    "\n",
    "# Calculate minimum variance portfolio\n",
    "returns = pd.DataFrame({k: np.diff(v)/v[:-1] for k,v in paths.items()})\n",
    "cov_matrix = returns.cov()\n",
    "inv_cov = np.linalg.inv(cov_matrix)\n",
    "ones = np.ones(len(cov_matrix))\n",
    "w = inv_cov.dot(ones) / (ones.dot(inv_cov).dot(ones))\n",
    "min_var_weights = pd.Series(w, index=cov_matrix.index)\n",
    "\n",
    "# Calculate min var portfolio path\n",
    "min_var_path = sum(paths[k] * w[i] for i, k in enumerate(paths.keys()))\n",
    "\n",
    "# Calculate metrics for each path\n",
    "def calc_metrics(returns):\n",
    "    rf = 0.05\n",
    "    daily_rf = (1 + rf)**(1/252) - 1\n",
    "    excess_returns = returns - daily_rf\n",
    "    sharpe = (excess_returns.mean() / returns.std()) * np.sqrt(252)\n",
    "    sortino = (excess_returns.mean() / returns[returns < 0].std()) * np.sqrt(252)\n",
    "    return sharpe, sortino\n",
    "\n",
    "metrics = {}\n",
    "for name in paths.keys():\n",
    "    rets = np.diff(paths[name])/paths[name][:-1]\n",
    "    metrics[name] = calc_metrics(rets)\n",
    "\n",
    "min_var_rets = np.diff(min_var_path)/min_var_path[:-1]\n",
    "metrics['Min Variance'] = calc_metrics(min_var_rets)\n",
    "\n",
    "# Create figure\n",
    "fig = make_subplots(rows=2, cols=1, \n",
    "                    subplot_titles=('Individual Strategies', 'Minimum Variance Portfolio'))\n",
    "\n",
    "colors = {'Discretionary': 'rgba(255,65,54,0.6)',\n",
    "          'Algorithmic': 'rgba(44,160,44,0.6)',\n",
    "          'Market': 'rgba(31,119,180,0.6)',\n",
    "          'Min Variance': 'rgba(255,127,14,0.6)'}\n",
    "\n",
    "# Plot individual paths\n",
    "for name, path in paths.items():\n",
    "    sharpe, sortino = metrics[name]\n",
    "    fig.add_trace(\n",
    "        go.Scatter(\n",
    "            y=path,\n",
    "            name=f'{name}<br>Sharpe: {sharpe:.2f}, Sortino: {sortino:.2f}',\n",
    "            line=dict(color=colors[name])\n",
    "        ),\n",
    "        row=1, col=1\n",
    "    )\n",
    "\n",
    "# Plot min variance portfolio\n",
    "sharpe, sortino = metrics['Min Variance']\n",
    "weights_text = \"Min-Var Portfolio <br>\" + \"<br>\".join([f\"{k}: {v:.2%}\" for k,v in min_var_weights.items()])\n",
    "fig.add_trace(\n",
    "    go.Scatter(\n",
    "        y=min_var_path,\n",
    "        name=f'Min Variance<br>Sharpe: {sharpe:.2f}, Sortino: {sortino:.2f}<br>{weights_text}',\n",
    "        line=dict(color=colors['Min Variance'])\n",
    "    ),\n",
    "    row=2, col=1\n",
    ")\n",
    "\n",
    "# Update layout\n",
    "fig.update_layout(\n",
    "    height=800,\n",
    "    width=1000,\n",
    "    showlegend=True,\n",
    "    plot_bgcolor='rgba(0,0,0,0)',\n",
    "    paper_bgcolor='rgba(0,0,0,0)',\n",
    "    font=dict(color='white')\n",
    ")\n",
    "\n",
    "# Update axes\n",
    "for i in range(1, 3):\n",
    "    fig.update_xaxes(\n",
    "        showgrid=True,\n",
    "        gridwidth=1,\n",
    "        gridcolor='rgba(128,128,128,0.2)',\n",
    "        zeroline=True,\n",
    "        zerolinewidth=1,\n",
    "        zerolinecolor='rgba(128,128,128,0.5)',\n",
    "        row=i, col=1\n",
    "    )\n",
    "    fig.update_yaxes(\n",
    "        showgrid=True,\n",
    "        gridwidth=1,\n",
    "        gridcolor='rgba(128,128,128,0.2)',\n",
    "        zeroline=True,\n",
    "        zerolinewidth=1,\n",
    "        zerolinecolor='rgba(128,128,128,0.5)',\n",
    "        row=i, col=1\n",
    "    )\n",
    "\n",
    "fig.show()\n"
   ]
  },
  {
   "cell_type": "markdown",
   "id": "e7c8f6b2",
   "metadata": {},
   "source": [
    "<u> **The problem** </u>\n",
    "\n",
    "I can optimize for this and get the *perfect* weights that will maximize my EV\n",
    "\n",
    "**but** I don't get to dictate the current market conditions if it better suits me to any particular strategy.\n",
    "\n",
    "In other words, the EV of each strategy will vary at different points in time - its not a global optimization problem...\n",
    "\n",
    "I've discussed this at length in the past: statistics don't converge, portfolio optimization is overfitting, etc..."
   ]
  },
  {
   "cell_type": "markdown",
   "id": "5df900e7",
   "metadata": {},
   "source": [
    "###### ______________________________________________________________________________________________________________________________________\n"
   ]
  },
  {
   "cell_type": "markdown",
   "id": "de38e6bd",
   "metadata": {},
   "source": [
    "<u>What I do with my money</u>\n",
    "\n",
    "- Trade in a discretionary capacity when it suits me\n",
    "\n",
    "- Turn on my trading systems when it suits me\n",
    "\n",
    "- Leave my cash in S&P 500 when it suits me\n",
    "\n",
    "Edge changes based on regimes, timing, administration, etc. and will dictate my decisions"
   ]
  },
  {
   "cell_type": "markdown",
   "id": "296a01b8",
   "metadata": {},
   "source": [
    "---"
   ]
  },
  {
   "cell_type": "markdown",
   "id": "a2ba3747",
   "metadata": {},
   "source": [
    "#### 5.) 💭 Closing Thoughts and Future Topics"
   ]
  },
  {
   "cell_type": "markdown",
   "id": "c36d7c8d",
   "metadata": {},
   "source": [
    "Retail and Institutional Trading are fundamentally different - you can make and lose money in either environment.\n",
    "\n",
    "Institutions and hedge blowout *all the time* just like how start-ups go bankrupt *all the time*\n",
    "\n",
    "- Know the difference between Citadel and a new Quant Hedge Fund like Microsoft and a new Tech Startup\n",
    "\n",
    "**Future Topics**\n",
    "\n",
    "- Financial Mathematics, Financial Engineering, Quantitative Finance Content (This will Never Change)\n",
    "\n",
    "- How To's: Volatility Trading Dashboard, Algo Systems, etc...\n",
    "\n",
    "- Personal Experiences in Quantitative Finance (Gauging Interest)\n",
    "\n",
    "- Weekly Market Review (Gauging Interest)\n",
    "\n",
    "- Quant Podcast (Interviews with traders and other financial professionals)"
   ]
  },
  {
   "cell_type": "markdown",
   "id": "90f3476e",
   "metadata": {},
   "source": [
    "---"
   ]
  },
  {
   "cell_type": "markdown",
   "id": "a1a4704a",
   "metadata": {},
   "source": [
    "####  $\\text{Copyright © 2025 Quant Guild} \\quad \\quad \\quad \\quad \\text{Author: Roman Paolucci}$"
   ]
  }
 ],
 "metadata": {
  "kernelspec": {
   "display_name": "Python 3",
   "language": "python",
   "name": "python3"
  },
  "language_info": {
   "codemirror_mode": {
    "name": "ipython",
    "version": 3
   },
   "file_extension": ".py",
   "mimetype": "text/x-python",
   "name": "python",
   "nbconvert_exporter": "python",
   "pygments_lexer": "ipython3",
   "version": "3.10.11"
  }
 },
 "nbformat": 4,
 "nbformat_minor": 5
}
