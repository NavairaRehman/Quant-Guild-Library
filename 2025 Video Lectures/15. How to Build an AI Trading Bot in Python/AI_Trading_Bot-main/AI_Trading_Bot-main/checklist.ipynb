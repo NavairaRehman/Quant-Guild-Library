{
 "cells": [
  {
   "cell_type": "markdown",
   "metadata": {},
   "source": [
    "### How to Build an AI Trading Bot\n",
    "\n",
    "#### TODO:\n",
    "\n",
    "1.) Build a basic user interface (DONE)\n",
    "\n",
    "2.) Establish connection to a Brokerage via API (Alpaca)\n",
    "\n",
    "3.) Develop a strategy (Martingale/DCA)\n",
    "\n",
    "4.) Integrate an LLM\n",
    "\n",
    "5.) Deploy!"
   ]
  }
 ],
 "metadata": {
  "language_info": {
   "name": "python"
  }
 },
 "nbformat": 4,
 "nbformat_minor": 2
}
