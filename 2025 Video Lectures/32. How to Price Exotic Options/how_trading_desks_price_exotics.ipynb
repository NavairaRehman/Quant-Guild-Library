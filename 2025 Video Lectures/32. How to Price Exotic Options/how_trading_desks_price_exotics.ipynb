{
 "cells": [
  {
   "cell_type": "markdown",
   "id": "603061c2",
   "metadata": {},
   "source": [
    "## How Trading Desks Price Exotic Options\n",
    "\n",
    "Recommended Prerequisite Quant Guild Lectures:\n",
    " - [Trading with the Black-Scholes Implied Volatility Surface](https://youtu.be/YH0tWpBaKGs) (Why Black-Scholes is insufficient)\n",
    " \n",
    " - [Monte Carlo Simulation and Black-Scholes for Pricing Options](https://youtu.be/-1RYvajksjQ) (Why we can simulate prices)\n",
    "\n",
    " - [Why Quant Traders Care About Pricing](https://youtu.be/s0lVvYMA5OA) (Why we care about pricing)\n",
    "\n",
    "Quant Guild Lectures Discussing Pricing Model Theory:\n",
    "- [Ito's Lemma Clearly and Visually Explained](https://youtu.be/TgBzqdN24fo) (Basis for stochastic differentiation)\n",
    "\n",
    "- [Ito Integration Clearly and Visually Explained](https://youtu.be/dUvZ8m3QpeI) (Basis for solving stochastic differential equations)\n",
    "\n",
    "- [How to Find the Black-Scholes-Merton Partial Differential Equation](https://youtu.be/2iClLEfXuqA?si=AgjS1PE1-uyuf5sh) (Applying stochastic calculus to pricing)\n",
    "\n",
    "Lectures Applying Pricing Models:\n",
    "  - [How to Trade with the Black-Scholes Model](https://youtu.be/0x-Pc-Z3wu4) (Applying the Black-Scholes model as a market-maker)\n",
    "\n",
    "  - [How to Trade Option Implied Volatility](https://youtu.be/kQPCTXxdptQ) (Implications in pricing model parameters and statistical trading)\n",
    "\n",
    "  - [How to Trade](https://youtu.be/NqOj__PaMec) (Why we still use and trade incorrect models)\n",
    " \n"
   ]
  },
  {
   "cell_type": "code",
   "execution_count": 1,
   "id": "3e2d833a",
   "metadata": {},
   "outputs": [
    {
     "data": {
      "text/html": [
       "<style>\n",
       "/* Overwrite the hard-coded white background for ipywidgets */\n",
       ".cell-output-ipywidget-background {\n",
       "    background-color: transparent !important;\n",
       "}\n",
       "/* Set widget foreground text and color to match the VS Code dark theme */\n",
       ":root {\n",
       "    --jp-widgets-color: var(--vscode-editor-foreground);\n",
       "    --jp-widgets-font-size: var(--vscode-editor-font-size);\n",
       "}\n",
       "</style>\n"
      ],
      "text/plain": [
       "<IPython.core.display.HTML object>"
      ]
     },
     "metadata": {},
     "output_type": "display_data"
    }
   ],
   "source": [
    "%%html\n",
    "<style>\n",
    "/* Overwrite the hard-coded white background for ipywidgets */\n",
    ".cell-output-ipywidget-background {\n",
    "    background-color: transparent !important;\n",
    "}\n",
    "/* Set widget foreground text and color to match the VS Code dark theme */\n",
    ":root {\n",
    "    --jp-widgets-color: var(--vscode-editor-foreground);\n",
    "    --jp-widgets-font-size: var(--vscode-editor-font-size);\n",
    "}\n",
    "</style>"
   ]
  },
  {
   "cell_type": "code",
   "execution_count": 2,
   "id": "1fa2a450",
   "metadata": {},
   "outputs": [
    {
     "data": {
      "application/vnd.jupyter.widget-view+json": {
       "model_id": "1eea796c881b4b14b4b0eac004ee6403",
       "version_major": 2,
       "version_minor": 0
      },
      "text/plain": [
       "interactive(children=(IntSlider(value=50, description='Paths:', layout=Layout(width='400px'), max=200, min=10,…"
      ]
     },
     "execution_count": 2,
     "metadata": {},
     "output_type": "execute_result"
    }
   ],
   "source": [
    "import numpy as np\n",
    "import matplotlib.pyplot as plt\n",
    "from matplotlib.animation import FuncAnimation\n",
    "import ipywidgets as widgets\n",
    "from IPython.display import display, HTML\n",
    "\n",
    "def simulate_heston_paths(S0=100, v0=0.04, kappa=2, theta=0.04, sigma=0.3, rho=-0.7, \n",
    "                         r=0.02, T=1, N=252, paths=50):\n",
    "    dt = T/N\n",
    "    # Initialize arrays\n",
    "    S = np.zeros((paths, N+1))\n",
    "    v = np.zeros((paths, N+1))\n",
    "    S[:, 0] = S0\n",
    "    v[:, 0] = v0\n",
    "    \n",
    "    # Generate correlated random numbers\n",
    "    z1 = np.random.standard_normal((paths, N))\n",
    "    z2 = rho * z1 + np.sqrt(1-rho**2) * np.random.standard_normal((paths, N))\n",
    "    \n",
    "    # Simulate paths\n",
    "    for t in range(N):\n",
    "        S[:, t+1] = S[:, t] * np.exp((r - 0.5*v[:, t])*dt + np.sqrt(v[:, t]*dt)*z1[:, t])\n",
    "        v[:, t+1] = np.maximum(v[:, t] + kappa*(theta - v[:, t])*dt + sigma*np.sqrt(v[:, t]*dt)*z2[:, t], 0)\n",
    "    \n",
    "    return S, v\n",
    "\n",
    "def price_up_and_in_barrier(S, K=100, B=120, r=0.02, T=1):\n",
    "    # Check if barrier was hit and calculate payoff\n",
    "    barrier_hit = np.max(S, axis=1) >= B\n",
    "    payoff = np.maximum(S[:, -1] - K, 0) * barrier_hit\n",
    "    price = np.mean(payoff) * np.exp(-r*T)\n",
    "    return price\n",
    "def plot_heston_barrier(n_paths=50, barrier=120, strike=100):\n",
    "    plt.style.use('dark_background')\n",
    "    fig, (ax1, ax2) = plt.subplots(2, 1, figsize=(12, 8), gridspec_kw={'height_ratios': [3, 1]})\n",
    "    \n",
    "    # Make background transparent\n",
    "    fig.patch.set_alpha(0)\n",
    "    ax1.patch.set_alpha(0)\n",
    "    ax2.patch.set_alpha(0)\n",
    "    \n",
    "    # Simulate paths\n",
    "    S, v = simulate_heston_paths(paths=n_paths)\n",
    "    price = price_up_and_in_barrier(S, K=strike, B=barrier)\n",
    "    \n",
    "    # Plot price paths\n",
    "    t = np.linspace(0, 1, S.shape[1])\n",
    "    for i in range(n_paths):\n",
    "        color = 'lime' if np.max(S[i]) >= barrier else 'gray'\n",
    "        ax1.plot(t, S[i], alpha=0.3, color=color, linewidth=1)\n",
    "    \n",
    "    # Plot barrier\n",
    "    ax1.axhline(y=barrier, color='red', linestyle='--', label='Barrier')\n",
    "    ax1.axhline(y=strike, color='yellow', linestyle=':', label='Strike')\n",
    "    \n",
    "    # Plot volatility paths\n",
    "    for i in range(n_paths):\n",
    "        ax2.plot(t, np.sqrt(v[i])*100, alpha=0.3, color='cyan', linewidth=1)\n",
    "    \n",
    "    # Formatting\n",
    "    ax1.set_title(f'Heston Model: Up-and-In Barrier Option\\nPrice = {price:.2f}', pad=20)\n",
    "    ax1.set_ylabel('Stock Price')\n",
    "    ax1.grid(True, alpha=0.2)\n",
    "    ax1.legend(facecolor='none')\n",
    "    \n",
    "    ax2.set_xlabel('Time')\n",
    "    ax2.set_ylabel('Volatility (%)')\n",
    "    ax2.grid(True, alpha=0.2)\n",
    "    \n",
    "    plt.tight_layout()\n",
    "    plt.show()\n",
    "\n",
    "# Create interactive widgets\n",
    "paths_slider = widgets.IntSlider(value=50, min=10, max=200, step=10, \n",
    "                               description='Paths:', layout=widgets.Layout(width='400px'))\n",
    "barrier_slider = widgets.IntSlider(value=120, min=105, max=150, step=5,\n",
    "                                 description='Barrier:', layout=widgets.Layout(width='400px'))\n",
    "strike_slider = widgets.IntSlider(value=100, min=80, max=120, step=5,\n",
    "                                description='Strike:', layout=widgets.Layout(width='400px'))\n",
    "\n",
    "# Display interactive plot\n",
    "widgets.interactive(plot_heston_barrier, \n",
    "                   n_paths=paths_slider,\n",
    "                   barrier=barrier_slider, \n",
    "                   strike=strike_slider)\n"
   ]
  },
  {
   "cell_type": "markdown",
   "id": "d7caed6c",
   "metadata": {},
   "source": [
    "## Sections\n",
    "1.) General Recipe for Pricing Exotics\n",
    "\n",
    "2.) Model Selection: Beyond Black-Scholes\n",
    "\n",
    "3.) Approximating Vanilla Pricing Functionals\n",
    "\n",
    "4.) Model Calibration to an Implied Volatility Surface\n",
    "\n",
    "5.) Approximating Exotic Pricing Functionals\n",
    "\n",
    "6.) Closing Thoughts and Future Topics"
   ]
  },
  {
   "cell_type": "markdown",
   "id": "bf67951a",
   "metadata": {},
   "source": [
    "---"
   ]
  },
  {
   "cell_type": "markdown",
   "id": "d94bb739",
   "metadata": {},
   "source": [
    "### 1.) General Recipe for Pricing Exotics\n",
    "\n",
    "Informally, exotics are contracts with *interesting* payoff structures:\n",
    "\n",
    "- Barrier Options (Knock-Out, Knock-In)\n",
    "\n",
    "- Cliquet Options (Ratchets, Series of Forward-Start Options)\n",
    "\n",
    "- Asian Options (Mean Price)\n",
    "\n",
    "#### <u>What does the payoff of an exotic look like?</u>\n",
    "\n",
    "e.x.) A knock-out barrier option requires the price path to *not* hit a certain price threshold otherwise the payoff is zero."
   ]
  },
  {
   "cell_type": "code",
   "execution_count": 3,
   "id": "6ff2980c",
   "metadata": {},
   "outputs": [
    {
     "data": {
      "application/vnd.plotly.v1+json": {
       "config": {
        "plotlyServerURL": "https://plot.ly"
       },
       "data": [
        {
         "line": {
          "color": "red"
         },
         "name": "Stock Price",
         "type": "scatter",
         "x": {
          "bdata": "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",
          "dtype": "f8"
         },
         "xaxis": "x",
         "y": {
          "bdata": "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",
          "dtype": "f8"
         },
         "yaxis": "y"
        },
        {
         "line": {
          "color": "red",
          "dash": "dash"
         },
         "name": "Barrier",
         "type": "scatter",
         "x": {
          "bdata": "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",
          "dtype": "f8"
         },
         "xaxis": "x",
         "y": [
          120,
          120,
          120,
          120,
          120,
          120,
          120,
          120,
          120,
          120,
          120,
          120,
          120,
          120,
          120,
          120,
          120,
          120,
          120,
          120,
          120,
          120,
          120,
          120,
          120,
          120,
          120,
          120,
          120,
          120,
          120,
          120,
          120,
          120,
          120,
          120,
          120,
          120,
          120,
          120,
          120,
          120,
          120,
          120,
          120,
          120,
          120,
          120,
          120,
          120,
          120,
          120,
          120,
          120,
          120,
          120,
          120,
          120,
          120,
          120,
          120,
          120,
          120,
          120,
          120,
          120,
          120,
          120,
          120,
          120,
          120,
          120,
          120,
          120,
          120,
          120,
          120,
          120,
          120,
          120,
          120,
          120,
          120,
          120,
          120,
          120,
          120,
          120,
          120,
          120,
          120,
          120,
          120,
          120,
          120,
          120,
          120,
          120,
          120,
          120,
          120,
          120,
          120,
          120,
          120,
          120,
          120,
          120,
          120,
          120,
          120,
          120,
          120,
          120,
          120,
          120,
          120,
          120,
          120,
          120,
          120,
          120,
          120,
          120,
          120,
          120,
          120,
          120,
          120,
          120,
          120,
          120,
          120,
          120,
          120,
          120,
          120,
          120,
          120,
          120,
          120,
          120,
          120,
          120,
          120,
          120,
          120,
          120,
          120,
          120,
          120,
          120,
          120,
          120,
          120,
          120,
          120,
          120,
          120,
          120,
          120,
          120,
          120,
          120,
          120,
          120,
          120,
          120,
          120,
          120,
          120,
          120,
          120,
          120,
          120,
          120,
          120,
          120,
          120,
          120,
          120,
          120,
          120,
          120,
          120,
          120,
          120,
          120,
          120,
          120,
          120,
          120,
          120,
          120,
          120,
          120,
          120,
          120,
          120,
          120,
          120,
          120,
          120,
          120,
          120,
          120,
          120,
          120,
          120,
          120,
          120,
          120,
          120,
          120,
          120,
          120,
          120,
          120,
          120,
          120,
          120,
          120,
          120,
          120,
          120,
          120,
          120,
          120,
          120,
          120,
          120,
          120,
          120,
          120,
          120,
          120,
          120,
          120,
          120,
          120,
          120,
          120,
          120,
          120,
          120,
          120,
          120,
          120,
          120,
          120,
          120,
          120,
          120
         ],
         "yaxis": "y"
        },
        {
         "line": {
          "color": "yellow",
          "dash": "dash"
         },
         "name": "Strike",
         "type": "scatter",
         "x": {
          "bdata": "AAAAAAAAAAAQBEEQBEFwPxAEQRAEQYA/GIZhGIZhiD8QBEEQBEGQPxRFURRFUZQ/GIZhGIZhmD8cx3Ecx3GcPxAEQRAEQaA/kiRJkiRJoj8URVEURVGkP5ZlWZZlWaY/GIZhGIZhqD+apmmapmmqPxzHcRzHcaw/nud5nud5rj8QBEEQBEGwP1EURVEURbE/kiRJkiRJsj/TNE3TNE2zPxRFURRFUbQ/VVVVVVVVtT+WZVmWZVm2P9d1Xdd1Xbc/GIZhGIZhuD9ZlmVZlmW5P5qmaZqmabo/27Zt27Ztuz8cx3Ecx3G8P13XdV3Xdb0/nud5nud5vj/f933f932/PxAEQRAEQcA/MAzDMAzDwD9RFEVRFEXBP3Icx3Ecx8E/kiRJkiRJwj+yLMuyLMvCP9M0TdM0TcM/9DzP8zzPwz8URVEURVHEPzRN0zRN08Q/VVVVVVVVxT92Xdd1XdfFP5ZlWZZlWcY/tm3btm3bxj/XdV3XdV3HP/h93/d938c/GIZhGIZhyD84juM4juPIP1mWZVmWZck/ep7neZ7nyT+apmmapmnKP7qu67qu68o/27Zt27Ztyz/8vu/7vu/LPxzHcRzHccw/PM/zPM/zzD9d13Vd13XNP37f933f980/nud5nud5zj++7/u+7/vOP9/3fd/3fc8/AAAAAAAA0D8QBEEQBEHQPyAIgiAIgtA/MAzDMAzD0D9BEARBEATRP1EURVEURdE/YRiGYRiG0T9yHMdxHMfRP4IgCIIgCNI/kiRJkiRJ0j+iKIqiKIrSP7Isy7Isy9I/wzAMwzAM0z/TNE3TNE3TP+M4juM4jtM/9DzP8zzP0z8EQRAEQRDUPxRFURRFUdQ/JEmSJEmS1D80TdM0TdPUP0VRFEVRFNU/VVVVVVVV1T9lWZZlWZbVP3Zd13Vd19U/hmEYhmEY1j+WZVmWZVnWP6ZpmqZpmtY/tm3btm3b1j/HcRzHcRzXP9d1Xdd1Xdc/53me53me1z/4fd/3fd/XPwiCIAiCINg/GIZhGIZh2D8oiqIoiqLYPziO4ziO49g/SZIkSZIk2T9ZlmVZlmXZP2mapmmaptk/ep7neZ7n2T+KoiiKoijaP5qmaZqmado/qqqqqqqq2j+6ruu6ruvaP8uyLMuyLNs/27Zt27Zt2z/ruq7ruq7bP/y+7/u+79s/DMMwDMMw3D8cx3Ecx3HcPyzLsizLstw/PM/zPM/z3D9N0zRN0zTdP13XdV3Xdd0/bdu2bdu23T9+3/d93/fdP47jOI7jON4/nud5nud53j+u67qu67reP77v+77v+94/z/M8z/M83z/f933f933fP+/7vu/7vt8/AAAAAAAA4D8IgiAIgiDgPxAEQRAEQeA/GIZhGIZh4D8gCIIgCILgPyiKoiiKouA/MAzDMAzD4D85juM4juPgP0EQBEEQBOE/SZIkSZIk4T9RFEVRFEXhP1mWZVmWZeE/YRiGYRiG4T9pmqZpmqbhP3Icx3Ecx+E/ep7neZ7n4T+CIAiCIAjiP4qiKIqiKOI/kiRJkiRJ4j+apmmapmniP6IoiqIoiuI/qqqqqqqq4j+yLMuyLMviP7uu67qu6+I/wzAMwzAM4z/LsizLsizjP9M0TdM0TeM/27Zt27Zt4z/jOI7jOI7jP+u6ruu6ruM/9DzP8zzP4z/8vu/7vu/jPwRBEARBEOQ/DMMwDMMw5D8URVEURVHkPxzHcRzHceQ/JEmSJEmS5D8sy7Isy7LkPzRN0zRN0+Q/Pc/zPM/z5D9FURRFURTlP03TNE3TNOU/VVVVVVVV5T9d13Vd13XlP2VZlmVZluU/bdu2bdu25T92Xdd1XdflP37f933f9+U/hmEYhmEY5j+O4ziO4zjmP5ZlWZZlWeY/nud5nud55j+maZqmaZrmP67ruq7ruuY/tm3btm3b5j+/7/u+7/vmP8dxHMdxHOc/z/M8z/M85z/XdV3XdV3nP9/3fd/3fec/53me53me5z/v+77v+77nP/h93/d93+c/AAAAAAAA6D8IgiAIgiDoPxAEQRAEQeg/GIZhGIZh6D8gCIIgCILoPyiKoiiKoug/MAzDMAzD6D84juM4juPoP0EQBEEQBOk/SZIkSZIk6T9RFEVRFEXpP1mWZVmWZek/YRiGYRiG6T9pmqZpmqbpP3Ecx3Ecx+k/ep7neZ7n6T+CIAiCIAjqP4qiKIqiKOo/kiRJkiRJ6j+apmmapmnqP6IoiqIoiuo/qqqqqqqq6j+yLMuyLMvqP7qu67qu6+o/wzAMwzAM6z/LsizLsizrP9M0TdM0Tes/27Zt27Zt6z/jOI7jOI7rP+u6ruu6rus/8zzP8zzP6z/8vu/7vu/rPwRBEARBEOw/DMMwDMMw7D8URVEURVHsPxzHcRzHcew/JEmSJEmS7D8sy7Isy7LsPzRN0zRN0+w/PM/zPM/z7D9FURRFURTtP03TNE3TNO0/VVVVVVVV7T9d13Vd13XtP2VZlmVZlu0/bdu2bdu27T91Xdd1XdftP37f933f9+0/hmEYhmEY7j+O4ziO4zjuP5ZlWZZlWe4/nud5nud57j+maZqmaZruP67ruq7ruu4/tm3btm3b7j++7/u+7/vuP8dxHMdxHO8/z/M8z/M87z/XdV3XdV3vP9/3fd/3fe8/53me53me7z/v+77v+77vP/d93/d93+8/AAAAAAAA8D8=",
          "dtype": "f8"
         },
         "xaxis": "x",
         "y": [
          100,
          100,
          100,
          100,
          100,
          100,
          100,
          100,
          100,
          100,
          100,
          100,
          100,
          100,
          100,
          100,
          100,
          100,
          100,
          100,
          100,
          100,
          100,
          100,
          100,
          100,
          100,
          100,
          100,
          100,
          100,
          100,
          100,
          100,
          100,
          100,
          100,
          100,
          100,
          100,
          100,
          100,
          100,
          100,
          100,
          100,
          100,
          100,
          100,
          100,
          100,
          100,
          100,
          100,
          100,
          100,
          100,
          100,
          100,
          100,
          100,
          100,
          100,
          100,
          100,
          100,
          100,
          100,
          100,
          100,
          100,
          100,
          100,
          100,
          100,
          100,
          100,
          100,
          100,
          100,
          100,
          100,
          100,
          100,
          100,
          100,
          100,
          100,
          100,
          100,
          100,
          100,
          100,
          100,
          100,
          100,
          100,
          100,
          100,
          100,
          100,
          100,
          100,
          100,
          100,
          100,
          100,
          100,
          100,
          100,
          100,
          100,
          100,
          100,
          100,
          100,
          100,
          100,
          100,
          100,
          100,
          100,
          100,
          100,
          100,
          100,
          100,
          100,
          100,
          100,
          100,
          100,
          100,
          100,
          100,
          100,
          100,
          100,
          100,
          100,
          100,
          100,
          100,
          100,
          100,
          100,
          100,
          100,
          100,
          100,
          100,
          100,
          100,
          100,
          100,
          100,
          100,
          100,
          100,
          100,
          100,
          100,
          100,
          100,
          100,
          100,
          100,
          100,
          100,
          100,
          100,
          100,
          100,
          100,
          100,
          100,
          100,
          100,
          100,
          100,
          100,
          100,
          100,
          100,
          100,
          100,
          100,
          100,
          100,
          100,
          100,
          100,
          100,
          100,
          100,
          100,
          100,
          100,
          100,
          100,
          100,
          100,
          100,
          100,
          100,
          100,
          100,
          100,
          100,
          100,
          100,
          100,
          100,
          100,
          100,
          100,
          100,
          100,
          100,
          100,
          100,
          100,
          100,
          100,
          100,
          100,
          100,
          100,
          100,
          100,
          100,
          100,
          100,
          100,
          100,
          100,
          100,
          100,
          100,
          100,
          100,
          100,
          100,
          100,
          100,
          100,
          100,
          100,
          100,
          100,
          100,
          100,
          100
         ],
         "yaxis": "y"
        }
       ],
       "layout": {
        "annotations": [
         {
          "bgcolor": "rgba(0,0,0,0.5)",
          "font": {
           "color": "white",
           "size": 14
          },
          "showarrow": false,
          "text": "Payoff: $0.00",
          "x": 0.02,
          "xref": "paper",
          "y": 0.94,
          "yref": "paper"
         }
        ],
        "font": {
         "color": "white"
        },
        "height": 500,
        "legend": {
         "x": 0.95,
         "xanchor": "right",
         "y": 0.95,
         "yanchor": "top"
        },
        "paper_bgcolor": "rgba(0,0,0,0)",
        "plot_bgcolor": "rgba(0,0,0,0)",
        "showlegend": true,
        "template": {
         "data": {
          "bar": [
           {
            "error_x": {
             "color": "#2a3f5f"
            },
            "error_y": {
             "color": "#2a3f5f"
            },
            "marker": {
             "line": {
              "color": "#E5ECF6",
              "width": 0.5
             },
             "pattern": {
              "fillmode": "overlay",
              "size": 10,
              "solidity": 0.2
             }
            },
            "type": "bar"
           }
          ],
          "barpolar": [
           {
            "marker": {
             "line": {
              "color": "#E5ECF6",
              "width": 0.5
             },
             "pattern": {
              "fillmode": "overlay",
              "size": 10,
              "solidity": 0.2
             }
            },
            "type": "barpolar"
           }
          ],
          "carpet": [
           {
            "aaxis": {
             "endlinecolor": "#2a3f5f",
             "gridcolor": "white",
             "linecolor": "white",
             "minorgridcolor": "white",
             "startlinecolor": "#2a3f5f"
            },
            "baxis": {
             "endlinecolor": "#2a3f5f",
             "gridcolor": "white",
             "linecolor": "white",
             "minorgridcolor": "white",
             "startlinecolor": "#2a3f5f"
            },
            "type": "carpet"
           }
          ],
          "choropleth": [
           {
            "colorbar": {
             "outlinewidth": 0,
             "ticks": ""
            },
            "type": "choropleth"
           }
          ],
          "contour": [
           {
            "colorbar": {
             "outlinewidth": 0,
             "ticks": ""
            },
            "colorscale": [
             [
              0,
              "#0d0887"
             ],
             [
              0.1111111111111111,
              "#46039f"
             ],
             [
              0.2222222222222222,
              "#7201a8"
             ],
             [
              0.3333333333333333,
              "#9c179e"
             ],
             [
              0.4444444444444444,
              "#bd3786"
             ],
             [
              0.5555555555555556,
              "#d8576b"
             ],
             [
              0.6666666666666666,
              "#ed7953"
             ],
             [
              0.7777777777777778,
              "#fb9f3a"
             ],
             [
              0.8888888888888888,
              "#fdca26"
             ],
             [
              1,
              "#f0f921"
             ]
            ],
            "type": "contour"
           }
          ],
          "contourcarpet": [
           {
            "colorbar": {
             "outlinewidth": 0,
             "ticks": ""
            },
            "type": "contourcarpet"
           }
          ],
          "heatmap": [
           {
            "colorbar": {
             "outlinewidth": 0,
             "ticks": ""
            },
            "colorscale": [
             [
              0,
              "#0d0887"
             ],
             [
              0.1111111111111111,
              "#46039f"
             ],
             [
              0.2222222222222222,
              "#7201a8"
             ],
             [
              0.3333333333333333,
              "#9c179e"
             ],
             [
              0.4444444444444444,
              "#bd3786"
             ],
             [
              0.5555555555555556,
              "#d8576b"
             ],
             [
              0.6666666666666666,
              "#ed7953"
             ],
             [
              0.7777777777777778,
              "#fb9f3a"
             ],
             [
              0.8888888888888888,
              "#fdca26"
             ],
             [
              1,
              "#f0f921"
             ]
            ],
            "type": "heatmap"
           }
          ],
          "histogram": [
           {
            "marker": {
             "pattern": {
              "fillmode": "overlay",
              "size": 10,
              "solidity": 0.2
             }
            },
            "type": "histogram"
           }
          ],
          "histogram2d": [
           {
            "colorbar": {
             "outlinewidth": 0,
             "ticks": ""
            },
            "colorscale": [
             [
              0,
              "#0d0887"
             ],
             [
              0.1111111111111111,
              "#46039f"
             ],
             [
              0.2222222222222222,
              "#7201a8"
             ],
             [
              0.3333333333333333,
              "#9c179e"
             ],
             [
              0.4444444444444444,
              "#bd3786"
             ],
             [
              0.5555555555555556,
              "#d8576b"
             ],
             [
              0.6666666666666666,
              "#ed7953"
             ],
             [
              0.7777777777777778,
              "#fb9f3a"
             ],
             [
              0.8888888888888888,
              "#fdca26"
             ],
             [
              1,
              "#f0f921"
             ]
            ],
            "type": "histogram2d"
           }
          ],
          "histogram2dcontour": [
           {
            "colorbar": {
             "outlinewidth": 0,
             "ticks": ""
            },
            "colorscale": [
             [
              0,
              "#0d0887"
             ],
             [
              0.1111111111111111,
              "#46039f"
             ],
             [
              0.2222222222222222,
              "#7201a8"
             ],
             [
              0.3333333333333333,
              "#9c179e"
             ],
             [
              0.4444444444444444,
              "#bd3786"
             ],
             [
              0.5555555555555556,
              "#d8576b"
             ],
             [
              0.6666666666666666,
              "#ed7953"
             ],
             [
              0.7777777777777778,
              "#fb9f3a"
             ],
             [
              0.8888888888888888,
              "#fdca26"
             ],
             [
              1,
              "#f0f921"
             ]
            ],
            "type": "histogram2dcontour"
           }
          ],
          "mesh3d": [
           {
            "colorbar": {
             "outlinewidth": 0,
             "ticks": ""
            },
            "type": "mesh3d"
           }
          ],
          "parcoords": [
           {
            "line": {
             "colorbar": {
              "outlinewidth": 0,
              "ticks": ""
             }
            },
            "type": "parcoords"
           }
          ],
          "pie": [
           {
            "automargin": true,
            "type": "pie"
           }
          ],
          "scatter": [
           {
            "fillpattern": {
             "fillmode": "overlay",
             "size": 10,
             "solidity": 0.2
            },
            "type": "scatter"
           }
          ],
          "scatter3d": [
           {
            "line": {
             "colorbar": {
              "outlinewidth": 0,
              "ticks": ""
             }
            },
            "marker": {
             "colorbar": {
              "outlinewidth": 0,
              "ticks": ""
             }
            },
            "type": "scatter3d"
           }
          ],
          "scattercarpet": [
           {
            "marker": {
             "colorbar": {
              "outlinewidth": 0,
              "ticks": ""
             }
            },
            "type": "scattercarpet"
           }
          ],
          "scattergeo": [
           {
            "marker": {
             "colorbar": {
              "outlinewidth": 0,
              "ticks": ""
             }
            },
            "type": "scattergeo"
           }
          ],
          "scattergl": [
           {
            "marker": {
             "colorbar": {
              "outlinewidth": 0,
              "ticks": ""
             }
            },
            "type": "scattergl"
           }
          ],
          "scattermap": [
           {
            "marker": {
             "colorbar": {
              "outlinewidth": 0,
              "ticks": ""
             }
            },
            "type": "scattermap"
           }
          ],
          "scattermapbox": [
           {
            "marker": {
             "colorbar": {
              "outlinewidth": 0,
              "ticks": ""
             }
            },
            "type": "scattermapbox"
           }
          ],
          "scatterpolar": [
           {
            "marker": {
             "colorbar": {
              "outlinewidth": 0,
              "ticks": ""
             }
            },
            "type": "scatterpolar"
           }
          ],
          "scatterpolargl": [
           {
            "marker": {
             "colorbar": {
              "outlinewidth": 0,
              "ticks": ""
             }
            },
            "type": "scatterpolargl"
           }
          ],
          "scatterternary": [
           {
            "marker": {
             "colorbar": {
              "outlinewidth": 0,
              "ticks": ""
             }
            },
            "type": "scatterternary"
           }
          ],
          "surface": [
           {
            "colorbar": {
             "outlinewidth": 0,
             "ticks": ""
            },
            "colorscale": [
             [
              0,
              "#0d0887"
             ],
             [
              0.1111111111111111,
              "#46039f"
             ],
             [
              0.2222222222222222,
              "#7201a8"
             ],
             [
              0.3333333333333333,
              "#9c179e"
             ],
             [
              0.4444444444444444,
              "#bd3786"
             ],
             [
              0.5555555555555556,
              "#d8576b"
             ],
             [
              0.6666666666666666,
              "#ed7953"
             ],
             [
              0.7777777777777778,
              "#fb9f3a"
             ],
             [
              0.8888888888888888,
              "#fdca26"
             ],
             [
              1,
              "#f0f921"
             ]
            ],
            "type": "surface"
           }
          ],
          "table": [
           {
            "cells": {
             "fill": {
              "color": "#EBF0F8"
             },
             "line": {
              "color": "white"
             }
            },
            "header": {
             "fill": {
              "color": "#C8D4E3"
             },
             "line": {
              "color": "white"
             }
            },
            "type": "table"
           }
          ]
         },
         "layout": {
          "annotationdefaults": {
           "arrowcolor": "#2a3f5f",
           "arrowhead": 0,
           "arrowwidth": 1
          },
          "autotypenumbers": "strict",
          "coloraxis": {
           "colorbar": {
            "outlinewidth": 0,
            "ticks": ""
           }
          },
          "colorscale": {
           "diverging": [
            [
             0,
             "#8e0152"
            ],
            [
             0.1,
             "#c51b7d"
            ],
            [
             0.2,
             "#de77ae"
            ],
            [
             0.3,
             "#f1b6da"
            ],
            [
             0.4,
             "#fde0ef"
            ],
            [
             0.5,
             "#f7f7f7"
            ],
            [
             0.6,
             "#e6f5d0"
            ],
            [
             0.7,
             "#b8e186"
            ],
            [
             0.8,
             "#7fbc41"
            ],
            [
             0.9,
             "#4d9221"
            ],
            [
             1,
             "#276419"
            ]
           ],
           "sequential": [
            [
             0,
             "#0d0887"
            ],
            [
             0.1111111111111111,
             "#46039f"
            ],
            [
             0.2222222222222222,
             "#7201a8"
            ],
            [
             0.3333333333333333,
             "#9c179e"
            ],
            [
             0.4444444444444444,
             "#bd3786"
            ],
            [
             0.5555555555555556,
             "#d8576b"
            ],
            [
             0.6666666666666666,
             "#ed7953"
            ],
            [
             0.7777777777777778,
             "#fb9f3a"
            ],
            [
             0.8888888888888888,
             "#fdca26"
            ],
            [
             1,
             "#f0f921"
            ]
           ],
           "sequentialminus": [
            [
             0,
             "#0d0887"
            ],
            [
             0.1111111111111111,
             "#46039f"
            ],
            [
             0.2222222222222222,
             "#7201a8"
            ],
            [
             0.3333333333333333,
             "#9c179e"
            ],
            [
             0.4444444444444444,
             "#bd3786"
            ],
            [
             0.5555555555555556,
             "#d8576b"
            ],
            [
             0.6666666666666666,
             "#ed7953"
            ],
            [
             0.7777777777777778,
             "#fb9f3a"
            ],
            [
             0.8888888888888888,
             "#fdca26"
            ],
            [
             1,
             "#f0f921"
            ]
           ]
          },
          "colorway": [
           "#636efa",
           "#EF553B",
           "#00cc96",
           "#ab63fa",
           "#FFA15A",
           "#19d3f3",
           "#FF6692",
           "#B6E880",
           "#FF97FF",
           "#FECB52"
          ],
          "font": {
           "color": "#2a3f5f"
          },
          "geo": {
           "bgcolor": "white",
           "lakecolor": "white",
           "landcolor": "#E5ECF6",
           "showlakes": true,
           "showland": true,
           "subunitcolor": "white"
          },
          "hoverlabel": {
           "align": "left"
          },
          "hovermode": "closest",
          "mapbox": {
           "style": "light"
          },
          "paper_bgcolor": "white",
          "plot_bgcolor": "#E5ECF6",
          "polar": {
           "angularaxis": {
            "gridcolor": "white",
            "linecolor": "white",
            "ticks": ""
           },
           "bgcolor": "#E5ECF6",
           "radialaxis": {
            "gridcolor": "white",
            "linecolor": "white",
            "ticks": ""
           }
          },
          "scene": {
           "xaxis": {
            "backgroundcolor": "#E5ECF6",
            "gridcolor": "white",
            "gridwidth": 2,
            "linecolor": "white",
            "showbackground": true,
            "ticks": "",
            "zerolinecolor": "white"
           },
           "yaxis": {
            "backgroundcolor": "#E5ECF6",
            "gridcolor": "white",
            "gridwidth": 2,
            "linecolor": "white",
            "showbackground": true,
            "ticks": "",
            "zerolinecolor": "white"
           },
           "zaxis": {
            "backgroundcolor": "#E5ECF6",
            "gridcolor": "white",
            "gridwidth": 2,
            "linecolor": "white",
            "showbackground": true,
            "ticks": "",
            "zerolinecolor": "white"
           }
          },
          "shapedefaults": {
           "line": {
            "color": "#2a3f5f"
           }
          },
          "ternary": {
           "aaxis": {
            "gridcolor": "white",
            "linecolor": "white",
            "ticks": ""
           },
           "baxis": {
            "gridcolor": "white",
            "linecolor": "white",
            "ticks": ""
           },
           "bgcolor": "#E5ECF6",
           "caxis": {
            "gridcolor": "white",
            "linecolor": "white",
            "ticks": ""
           }
          },
          "title": {
           "x": 0.05
          },
          "xaxis": {
           "automargin": true,
           "gridcolor": "white",
           "linecolor": "white",
           "ticks": "",
           "title": {
            "standoff": 15
           },
           "zerolinecolor": "white",
           "zerolinewidth": 2
          },
          "yaxis": {
           "automargin": true,
           "gridcolor": "white",
           "linecolor": "white",
           "ticks": "",
           "title": {
            "standoff": 15
           },
           "zerolinecolor": "white",
           "zerolinewidth": 2
          }
         }
        },
        "title": {
         "text": "Up-and-Out Call Option: Price Path and Barrier"
        },
        "width": 900,
        "xaxis": {
         "anchor": "y",
         "domain": [
          0,
          0.94
         ],
         "gridcolor": "darkgray",
         "gridwidth": 1,
         "showgrid": true,
         "title": {
          "text": "Time (Years)"
         }
        },
        "yaxis": {
         "anchor": "x",
         "domain": [
          0,
          1
         ],
         "gridcolor": "darkgray",
         "gridwidth": 1,
         "showgrid": true,
         "title": {
          "text": "Stock Price ($)"
         }
        },
        "yaxis2": {
         "anchor": "x",
         "gridcolor": "darkgray",
         "gridwidth": 1,
         "overlaying": "y",
         "showgrid": true,
         "side": "right"
        }
       }
      }
     },
     "metadata": {},
     "output_type": "display_data"
    }
   ],
   "source": [
    "import numpy as np\n",
    "import plotly.graph_objects as go\n",
    "from plotly.subplots import make_subplots\n",
    "\n",
    "def simulate_heston_path(S0, v0, kappa, theta, xi, rho, r, T, N):\n",
    "    dt = T/N\n",
    "    S = np.zeros(N+1)\n",
    "    v = np.zeros(N+1)\n",
    "    S[0] = S0\n",
    "    v[0] = v0\n",
    "    \n",
    "    for i in range(N):\n",
    "        z1 = np.random.normal()\n",
    "        z2 = rho * z1 + np.sqrt(1-rho**2) * np.random.normal()\n",
    "        \n",
    "        v[i+1] = v[i] + kappa*(theta-v[i])*dt + xi*np.sqrt(v[i]*dt)*z2\n",
    "        v[i+1] = max(0, v[i+1])  # Ensure variance stays positive\n",
    "        \n",
    "        S[i+1] = S[i] * np.exp((r - 0.5*v[i])*dt + np.sqrt(v[i]*dt)*z1)\n",
    "    \n",
    "    return S, v\n",
    "\n",
    "# Parameters\n",
    "S0 = 100  # Initial stock price\n",
    "v0 = 0.04  # Initial variance\n",
    "kappa = 2.0  # Mean reversion speed\n",
    "theta = 0.04  # Long-term variance\n",
    "xi = 0.4  # Volatility of variance\n",
    "rho = -0.5  # Correlation\n",
    "r = 0.02  # Risk-free rate\n",
    "T = 1.0  # Time horizon\n",
    "N = 252  # Number of steps\n",
    "K = 100  # Strike price\n",
    "B = 120  # Barrier level\n",
    "\n",
    "# Simulate path\n",
    "S, v = simulate_heston_path(S0, v0, kappa, theta, xi, rho, r, T, N)\n",
    "t = np.linspace(0, T, N+1)\n",
    "\n",
    "# Check if barrier was hit\n",
    "barrier_hit = np.any(S >= B)\n",
    "if barrier_hit:\n",
    "    path_color = 'red'\n",
    "else:\n",
    "    # Check if in the money at expiry\n",
    "    if S[-1] > K:\n",
    "        path_color = 'green'  # In the money\n",
    "    else:\n",
    "        path_color = 'yellow'   # Out of the money\n",
    "\n",
    "# Create payoff\n",
    "payoff = max(S[-1] - K, 0) if not barrier_hit else 0\n",
    "\n",
    "# Create figure with secondary y-axis\n",
    "fig = make_subplots(specs=[[{\"secondary_y\": True}]])\n",
    "\n",
    "# Add price path\n",
    "fig.add_trace(\n",
    "    go.Scatter(x=t, y=S, name=\"Stock Price\", line=dict(color=path_color)),\n",
    "    secondary_y=False\n",
    ")\n",
    "\n",
    "# Add barrier line\n",
    "fig.add_trace(\n",
    "    go.Scatter(x=t, y=[B]*len(t), name=\"Barrier\", line=dict(color='red', dash='dash')),\n",
    "    secondary_y=False\n",
    ")\n",
    "\n",
    "# Add strike line\n",
    "fig.add_trace(\n",
    "    go.Scatter(x=t, y=[K]*len(t), name=\"Strike\", line=dict(color='yellow', dash='dash')),\n",
    "    secondary_y=False\n",
    ")\n",
    "\n",
    "# Update layout\n",
    "fig.update_layout(\n",
    "    title='Up-and-Out Call Option: Price Path and Barrier',\n",
    "    xaxis_title='Time (Years)',\n",
    "    yaxis_title='Stock Price ($)',\n",
    "    width=900,\n",
    "    height=500,\n",
    "    paper_bgcolor='rgba(0,0,0,0)',\n",
    "    plot_bgcolor='rgba(0,0,0,0)',\n",
    "    showlegend=True,\n",
    "    legend=dict(\n",
    "        yanchor=\"top\",\n",
    "        y=0.95,\n",
    "        xanchor=\"right\",\n",
    "        x=0.95\n",
    "    ),\n",
    "    font=dict(color='white')\n",
    ")\n",
    "\n",
    "# Add grid\n",
    "fig.update_xaxes(showgrid=True, gridwidth=1, gridcolor='darkgray')\n",
    "fig.update_yaxes(showgrid=True, gridwidth=1, gridcolor='darkgray')\n",
    "\n",
    "# Add annotation for payoff\n",
    "fig.add_annotation(\n",
    "    text=f\"Payoff: ${payoff:.2f}\",\n",
    "    xref=\"paper\", yref=\"paper\",\n",
    "    x=0.02, y=0.94,\n",
    "    showarrow=False,\n",
    "    font=dict(size=14, color='white'),\n",
    "    bgcolor=\"rgba(0,0,0,0.5)\"\n",
    ")\n",
    "\n",
    "fig.show()\n"
   ]
  },
  {
   "cell_type": "markdown",
   "id": "7cc6f58c",
   "metadata": {},
   "source": [
    "#### <u>General Recipe</u>\n",
    "\n",
    "1.) Model Selection ($\\mathcal{M}$, $\\zeta$)\n",
    "\n",
    "2.) Determine Vanilla Pricing Scheme (Closed-Form, Quasi-Closed-Form, PDE Methods, Simulation)\n",
    "\n",
    "3.) Calibrate Model to Market Volatility Surface (Consistent Prices)\n",
    "\n",
    "4.) Determine Exotic Option Pricing Scheme Given Parameters in Step (3)\n",
    "\n",
    "5.) Apply Price Adjustments (Counterparty Risk, Liquidity, Profit)\n",
    "\n",
    "6.) Send Quote"
   ]
  },
  {
   "cell_type": "markdown",
   "id": "4b3c13d8",
   "metadata": {},
   "source": [
    "---"
   ]
  },
  {
   "cell_type": "markdown",
   "id": "34f40efb",
   "metadata": {},
   "source": [
    "### 2.) Model Selection: Beyond Black-Scholes\n",
    "\n",
    "#### <u>The Black-Scholes Model</u>\n",
    "\n",
    "Solving the Black-Scholes Equation Yields:\n",
    "\n",
    "$$C = S_t \\Phi(d_1) - Ke^{-rt} \\Phi(d_2)$$\n",
    "\n",
    "$$\\Phi(x) = \\int_{-\\infty}^x \\frac{1}{\\sqrt{2\\pi}}e^{\\frac{-s^2}{2}}ds$$\n",
    "\n",
    "$$d_1 = \\frac{ln(\\frac{S_t}{K})+(r+\\frac{\\sigma^2}{2})t}{\\sigma \\sqrt{t}}$$\n",
    "\n",
    "$$d_2 = d_1 - \\sigma \\sqrt{t}$$\n",
    "\n",
    "Mathematically, the Black-Scholes formula is a functional, a map from $\\mathbb{R}^5 \\rightarrow \\mathbb{R}$:\n",
    "\n",
    "$BS: (S, K, r, \\sigma, T) \\mapsto C$\n",
    "\n",
    "Where:\n",
    "- $S \\in \\mathbb{R}^+ $ (spot price)\n",
    "- $K \\in \\mathbb{R}^+$ (strike price) \n",
    "- $r \\in \\mathbb{R}$ (risk-free rate)\n",
    "- $\\sigma \\in \\mathbb{R}^+$ (volatility)\n",
    "- $T \\in \\mathbb{R}^+$ (time to expiry)\n",
    "$\\mapsto C \\in \\mathbb{R}^+$ (call option price)\n",
    "\n",
    "Realistically, the market or contract selection determines $(S, K, r, T)$\n",
    "\n",
    "$$\\implies BS: (\\sigma | S, K, r, T) \\mapsto C$$\n",
    "\n",
    "That is, given the market and contract parameters $(S, K, r, T)$ we choose a volatility to price the options according to the assumptions of the Black-Scholes model.\n"
   ]
  },
  {
   "cell_type": "code",
   "execution_count": null,
   "id": "7b698b5b",
   "metadata": {},
   "outputs": [
    {
     "data": {
      "application/vnd.jupyter.widget-view+json": {
       "model_id": "1a4e134c8bfa438e98df6ad49d4ac276",
       "version_major": 2,
       "version_minor": 0
      },
      "text/plain": [
       "interactive(children=(FloatSlider(value=22.208000000000002, description='BS Volatility (%):', layout=Layout(wi…"
      ]
     },
     "execution_count": 4,
     "metadata": {},
     "output_type": "execute_result"
    }
   ],
   "source": [
    "import numpy as np\n",
    "import plotly.graph_objects as go\n",
    "from plotly.subplots import make_subplots\n",
    "from ipywidgets import interactive, FloatSlider, Layout\n",
    "\n",
    "# Data for the volatility surface - precompute meshgrid\n",
    "strikes = [90, 95, 100, 105, 110]\n",
    "maturities = [1/12, 3/12, 6/12, 1, 2]  # in years\n",
    "maturity_labels = ['1 Month', '3 Months', '6 Months', '1 Year', '2 Years']\n",
    "\n",
    "# Market volatility values (in %)\n",
    "market_vols = np.array([\n",
    "    [28.0, 24.5, 22.0, 20.5, 19.5],  # 1 month\n",
    "    [27.5, 24.0, 21.8, 20.3, 19.3],  # 3 months\n",
    "    [27.0, 23.5, 21.5, 20.0, 19.0],  # 6 months\n",
    "    [26.5, 23.0, 21.2, 19.8, 18.8],  # 1 year\n",
    "    [26.0, 22.5, 21.0, 19.5, 18.5]   # 2 years\n",
    "])\n",
    "\n",
    "# Create meshgrid for 3D surface once\n",
    "X, Y = np.meshgrid(strikes, maturities)\n",
    "\n",
    "# Set fixed previous volatility to 20%\n",
    "previous_vol = 20.0\n",
    "\n",
    "# Pre-compute the previous vol surface\n",
    "previous_vol_surface = np.full_like(market_vols, previous_vol)\n",
    "\n",
    "def update_plot(bs_vol):\n",
    "    # Black-Scholes constant volatility surface\n",
    "    current_vol_surface = np.full_like(market_vols, bs_vol)\n",
    "    \n",
    "    # Create figure with secondary y-axis\n",
    "    fig = make_subplots(\n",
    "        rows=1, cols=2,\n",
    "        specs=[[{'type': 'surface'}, {'type': 'surface'}]],\n",
    "        subplot_titles=('Market Implied Volatility Surface', 'Black-Scholes Volatility Surface')\n",
    "    )\n",
    "\n",
    "    # Add market volatility surface\n",
    "    fig.add_trace(\n",
    "        go.Surface(x=X, y=Y, z=market_vols, colorscale='Viridis', opacity=0.7, showscale=True),\n",
    "        row=1, col=1\n",
    "    )\n",
    "\n",
    "    # Add previous Black-Scholes volatility surface (transparent)\n",
    "    fig.add_trace(\n",
    "        go.Surface(x=X, y=Y, z=previous_vol_surface, colorscale='Reds', \n",
    "                  opacity=0.3, showscale=False),\n",
    "        row=1, col=2\n",
    "    )\n",
    "\n",
    "    # Add current Black-Scholes volatility surface\n",
    "    fig.add_trace(\n",
    "        go.Surface(x=X, y=Y, z=current_vol_surface, colorscale='Blues', \n",
    "                  opacity=0.7, showscale=False),\n",
    "        row=1, col=2\n",
    "    )\n",
    "\n",
    "    # Add vector arrows showing the shift - only at key points to reduce computation\n",
    "    if abs(bs_vol - previous_vol) > 0.1:\n",
    "        arrow_x = np.array([95, 100, 105])\n",
    "        arrow_y = np.array([0.5, 1.0, 1.5])\n",
    "        X_arrows, Y_arrows = np.meshgrid(arrow_x, arrow_y)\n",
    "        \n",
    "        arrow_color = 'red' if bs_vol < previous_vol else 'green'\n",
    "        for i in range(len(arrow_x)):\n",
    "            for j in range(len(arrow_y)):\n",
    "                fig.add_trace(\n",
    "                    go.Scatter3d(\n",
    "                        x=[X_arrows[j,i], X_arrows[j,i]],\n",
    "                        y=[Y_arrows[j,i], Y_arrows[j,i]],\n",
    "                        z=[previous_vol_surface[j,i], current_vol_surface[j,i]],\n",
    "                        mode='lines+markers',\n",
    "                        line=dict(color=arrow_color, width=2),\n",
    "                        marker=dict(size=2),\n",
    "                        showlegend=False\n",
    "                    ),\n",
    "                    row=1, col=2\n",
    "                )\n",
    "\n",
    "    # Update layout\n",
    "    fig.update_layout(\n",
    "        title='Market vs Black-Scholes Volatility Surfaces',\n",
    "        scene=dict(\n",
    "            xaxis_title='Strike Price',\n",
    "            yaxis_title='Time to Maturity (Years)', \n",
    "            zaxis_title='Implied Volatility (%)',\n",
    "            xaxis=dict(gridcolor='darkgray', showgrid=True, color='darkgray', backgroundcolor='rgb(30, 30, 35)'),\n",
    "            yaxis=dict(gridcolor='darkgray', showgrid=True, color='darkgray', backgroundcolor='rgb(30, 30, 35)'),\n",
    "            zaxis=dict(gridcolor='darkgray', showgrid=True, color='darkgray', backgroundcolor='rgb(30, 30, 35)'),\n",
    "            bgcolor='rgba(0,0,0,0)',\n",
    "            camera=dict(eye=dict(x=1.5, y=1.5, z=1.2))\n",
    "        ),\n",
    "        scene2=dict(\n",
    "            xaxis_title='Strike Price',\n",
    "            yaxis_title='Time to Maturity (Years)',\n",
    "            zaxis_title='Implied Volatility (%)',\n",
    "            xaxis=dict(gridcolor='darkgray', showgrid=True, color='darkgray', backgroundcolor='rgb(30, 30, 35)'),\n",
    "            yaxis=dict(gridcolor='darkgray', showgrid=True, color='darkgray', backgroundcolor='rgb(30, 30, 35)'),\n",
    "            zaxis=dict(gridcolor='darkgray', showgrid=True, color='darkgray', backgroundcolor='rgb(30, 30, 35)', range=[np.min(market_vols)-2, np.max(market_vols)+2]),\n",
    "            bgcolor='rgba(0,0,0,0)',\n",
    "            camera=dict(eye=dict(x=1.5, y=1.5, z=1.2))\n",
    "        ),\n",
    "        width=1000,\n",
    "        height=600,\n",
    "        paper_bgcolor='rgba(0,0,0,0)',\n",
    "        font=dict(color='white')\n",
    "    )\n",
    "    \n",
    "    fig.show()\n",
    "\n",
    "# Create interactive slider with improved styling\n",
    "interactive_plot = interactive(\n",
    "    update_plot,\n",
    "    bs_vol=FloatSlider(\n",
    "        min=15.0,\n",
    "        max=30.0,\n",
    "        step=0.5,\n",
    "        value=np.mean(market_vols),\n",
    "        description='BS Volatility (%):',\n",
    "        style={'description_width': '120px'},\n",
    "        layout=Layout(width='500px')\n",
    "    )\n",
    ")\n",
    "\n",
    "interactive_plot\n"
   ]
  },
  {
   "cell_type": "markdown",
   "id": "334a73de",
   "metadata": {},
   "source": [
    "#### <u>Problem with Black-Scholes (Consistency): Statistical and Static Arbitrage</u>\n",
    "\n",
    "The simplest example of why we need to demand consistent pricing can be seen above.\n",
    "\n",
    "- Volatility increases $\\rightarrow$ Option Price increase\n",
    "- Volatility decreases $\\rightarrow$ Option Price decrease\n",
    "\n",
    "I am constantly quoting prices against the market that are over and undervalued. Imagine if I were selling jewels all for the same price, and others knew the market price differed for diamonds and gold they could sell me what I overvalue and buy what is undervalued and I'll get killed.\n",
    "\n",
    "We need a way to **consistently and efficiently** quote prices. "
   ]
  },
  {
   "cell_type": "code",
   "execution_count": 5,
   "id": "77691f2e",
   "metadata": {},
   "outputs": [
    {
     "data": {
      "application/vnd.plotly.v1+json": {
       "config": {
        "plotlyServerURL": "https://plot.ly"
       },
       "data": [
        {
         "line": {
          "color": "#00b3ff",
          "width": 3
         },
         "name": "Market Volatility Skew",
         "type": "scatter",
         "x": [
          90,
          95,
          100,
          105,
          110
         ],
         "y": {
          "bdata": "AAAAAAAAPEAAAAAAAIA4QAAAAAAAADZAAAAAAACANEAAAAAAAIAzQA==",
          "dtype": "f8"
         }
        },
        {
         "line": {
          "color": "#ff9100",
          "dash": "dash",
          "width": 3
         },
         "name": "Black-Scholes Volatility",
         "type": "scatter",
         "x": [
          90,
          95,
          100,
          105,
          110
         ],
         "y": [
          20,
          20,
          20,
          20,
          20
         ]
        }
       ],
       "layout": {
        "font": {
         "color": "white"
        },
        "height": 500,
        "legend": {
         "x": 0.95,
         "xanchor": "right",
         "y": 0.95,
         "yanchor": "top"
        },
        "paper_bgcolor": "rgba(0,0,0,0)",
        "plot_bgcolor": "rgba(0,0,0,0)",
        "showlegend": true,
        "template": {
         "data": {
          "bar": [
           {
            "error_x": {
             "color": "#2a3f5f"
            },
            "error_y": {
             "color": "#2a3f5f"
            },
            "marker": {
             "line": {
              "color": "#E5ECF6",
              "width": 0.5
             },
             "pattern": {
              "fillmode": "overlay",
              "size": 10,
              "solidity": 0.2
             }
            },
            "type": "bar"
           }
          ],
          "barpolar": [
           {
            "marker": {
             "line": {
              "color": "#E5ECF6",
              "width": 0.5
             },
             "pattern": {
              "fillmode": "overlay",
              "size": 10,
              "solidity": 0.2
             }
            },
            "type": "barpolar"
           }
          ],
          "carpet": [
           {
            "aaxis": {
             "endlinecolor": "#2a3f5f",
             "gridcolor": "white",
             "linecolor": "white",
             "minorgridcolor": "white",
             "startlinecolor": "#2a3f5f"
            },
            "baxis": {
             "endlinecolor": "#2a3f5f",
             "gridcolor": "white",
             "linecolor": "white",
             "minorgridcolor": "white",
             "startlinecolor": "#2a3f5f"
            },
            "type": "carpet"
           }
          ],
          "choropleth": [
           {
            "colorbar": {
             "outlinewidth": 0,
             "ticks": ""
            },
            "type": "choropleth"
           }
          ],
          "contour": [
           {
            "colorbar": {
             "outlinewidth": 0,
             "ticks": ""
            },
            "colorscale": [
             [
              0,
              "#0d0887"
             ],
             [
              0.1111111111111111,
              "#46039f"
             ],
             [
              0.2222222222222222,
              "#7201a8"
             ],
             [
              0.3333333333333333,
              "#9c179e"
             ],
             [
              0.4444444444444444,
              "#bd3786"
             ],
             [
              0.5555555555555556,
              "#d8576b"
             ],
             [
              0.6666666666666666,
              "#ed7953"
             ],
             [
              0.7777777777777778,
              "#fb9f3a"
             ],
             [
              0.8888888888888888,
              "#fdca26"
             ],
             [
              1,
              "#f0f921"
             ]
            ],
            "type": "contour"
           }
          ],
          "contourcarpet": [
           {
            "colorbar": {
             "outlinewidth": 0,
             "ticks": ""
            },
            "type": "contourcarpet"
           }
          ],
          "heatmap": [
           {
            "colorbar": {
             "outlinewidth": 0,
             "ticks": ""
            },
            "colorscale": [
             [
              0,
              "#0d0887"
             ],
             [
              0.1111111111111111,
              "#46039f"
             ],
             [
              0.2222222222222222,
              "#7201a8"
             ],
             [
              0.3333333333333333,
              "#9c179e"
             ],
             [
              0.4444444444444444,
              "#bd3786"
             ],
             [
              0.5555555555555556,
              "#d8576b"
             ],
             [
              0.6666666666666666,
              "#ed7953"
             ],
             [
              0.7777777777777778,
              "#fb9f3a"
             ],
             [
              0.8888888888888888,
              "#fdca26"
             ],
             [
              1,
              "#f0f921"
             ]
            ],
            "type": "heatmap"
           }
          ],
          "histogram": [
           {
            "marker": {
             "pattern": {
              "fillmode": "overlay",
              "size": 10,
              "solidity": 0.2
             }
            },
            "type": "histogram"
           }
          ],
          "histogram2d": [
           {
            "colorbar": {
             "outlinewidth": 0,
             "ticks": ""
            },
            "colorscale": [
             [
              0,
              "#0d0887"
             ],
             [
              0.1111111111111111,
              "#46039f"
             ],
             [
              0.2222222222222222,
              "#7201a8"
             ],
             [
              0.3333333333333333,
              "#9c179e"
             ],
             [
              0.4444444444444444,
              "#bd3786"
             ],
             [
              0.5555555555555556,
              "#d8576b"
             ],
             [
              0.6666666666666666,
              "#ed7953"
             ],
             [
              0.7777777777777778,
              "#fb9f3a"
             ],
             [
              0.8888888888888888,
              "#fdca26"
             ],
             [
              1,
              "#f0f921"
             ]
            ],
            "type": "histogram2d"
           }
          ],
          "histogram2dcontour": [
           {
            "colorbar": {
             "outlinewidth": 0,
             "ticks": ""
            },
            "colorscale": [
             [
              0,
              "#0d0887"
             ],
             [
              0.1111111111111111,
              "#46039f"
             ],
             [
              0.2222222222222222,
              "#7201a8"
             ],
             [
              0.3333333333333333,
              "#9c179e"
             ],
             [
              0.4444444444444444,
              "#bd3786"
             ],
             [
              0.5555555555555556,
              "#d8576b"
             ],
             [
              0.6666666666666666,
              "#ed7953"
             ],
             [
              0.7777777777777778,
              "#fb9f3a"
             ],
             [
              0.8888888888888888,
              "#fdca26"
             ],
             [
              1,
              "#f0f921"
             ]
            ],
            "type": "histogram2dcontour"
           }
          ],
          "mesh3d": [
           {
            "colorbar": {
             "outlinewidth": 0,
             "ticks": ""
            },
            "type": "mesh3d"
           }
          ],
          "parcoords": [
           {
            "line": {
             "colorbar": {
              "outlinewidth": 0,
              "ticks": ""
             }
            },
            "type": "parcoords"
           }
          ],
          "pie": [
           {
            "automargin": true,
            "type": "pie"
           }
          ],
          "scatter": [
           {
            "fillpattern": {
             "fillmode": "overlay",
             "size": 10,
             "solidity": 0.2
            },
            "type": "scatter"
           }
          ],
          "scatter3d": [
           {
            "line": {
             "colorbar": {
              "outlinewidth": 0,
              "ticks": ""
             }
            },
            "marker": {
             "colorbar": {
              "outlinewidth": 0,
              "ticks": ""
             }
            },
            "type": "scatter3d"
           }
          ],
          "scattercarpet": [
           {
            "marker": {
             "colorbar": {
              "outlinewidth": 0,
              "ticks": ""
             }
            },
            "type": "scattercarpet"
           }
          ],
          "scattergeo": [
           {
            "marker": {
             "colorbar": {
              "outlinewidth": 0,
              "ticks": ""
             }
            },
            "type": "scattergeo"
           }
          ],
          "scattergl": [
           {
            "marker": {
             "colorbar": {
              "outlinewidth": 0,
              "ticks": ""
             }
            },
            "type": "scattergl"
           }
          ],
          "scattermap": [
           {
            "marker": {
             "colorbar": {
              "outlinewidth": 0,
              "ticks": ""
             }
            },
            "type": "scattermap"
           }
          ],
          "scattermapbox": [
           {
            "marker": {
             "colorbar": {
              "outlinewidth": 0,
              "ticks": ""
             }
            },
            "type": "scattermapbox"
           }
          ],
          "scatterpolar": [
           {
            "marker": {
             "colorbar": {
              "outlinewidth": 0,
              "ticks": ""
             }
            },
            "type": "scatterpolar"
           }
          ],
          "scatterpolargl": [
           {
            "marker": {
             "colorbar": {
              "outlinewidth": 0,
              "ticks": ""
             }
            },
            "type": "scatterpolargl"
           }
          ],
          "scatterternary": [
           {
            "marker": {
             "colorbar": {
              "outlinewidth": 0,
              "ticks": ""
             }
            },
            "type": "scatterternary"
           }
          ],
          "surface": [
           {
            "colorbar": {
             "outlinewidth": 0,
             "ticks": ""
            },
            "colorscale": [
             [
              0,
              "#0d0887"
             ],
             [
              0.1111111111111111,
              "#46039f"
             ],
             [
              0.2222222222222222,
              "#7201a8"
             ],
             [
              0.3333333333333333,
              "#9c179e"
             ],
             [
              0.4444444444444444,
              "#bd3786"
             ],
             [
              0.5555555555555556,
              "#d8576b"
             ],
             [
              0.6666666666666666,
              "#ed7953"
             ],
             [
              0.7777777777777778,
              "#fb9f3a"
             ],
             [
              0.8888888888888888,
              "#fdca26"
             ],
             [
              1,
              "#f0f921"
             ]
            ],
            "type": "surface"
           }
          ],
          "table": [
           {
            "cells": {
             "fill": {
              "color": "#EBF0F8"
             },
             "line": {
              "color": "white"
             }
            },
            "header": {
             "fill": {
              "color": "#C8D4E3"
             },
             "line": {
              "color": "white"
             }
            },
            "type": "table"
           }
          ]
         },
         "layout": {
          "annotationdefaults": {
           "arrowcolor": "#2a3f5f",
           "arrowhead": 0,
           "arrowwidth": 1
          },
          "autotypenumbers": "strict",
          "coloraxis": {
           "colorbar": {
            "outlinewidth": 0,
            "ticks": ""
           }
          },
          "colorscale": {
           "diverging": [
            [
             0,
             "#8e0152"
            ],
            [
             0.1,
             "#c51b7d"
            ],
            [
             0.2,
             "#de77ae"
            ],
            [
             0.3,
             "#f1b6da"
            ],
            [
             0.4,
             "#fde0ef"
            ],
            [
             0.5,
             "#f7f7f7"
            ],
            [
             0.6,
             "#e6f5d0"
            ],
            [
             0.7,
             "#b8e186"
            ],
            [
             0.8,
             "#7fbc41"
            ],
            [
             0.9,
             "#4d9221"
            ],
            [
             1,
             "#276419"
            ]
           ],
           "sequential": [
            [
             0,
             "#0d0887"
            ],
            [
             0.1111111111111111,
             "#46039f"
            ],
            [
             0.2222222222222222,
             "#7201a8"
            ],
            [
             0.3333333333333333,
             "#9c179e"
            ],
            [
             0.4444444444444444,
             "#bd3786"
            ],
            [
             0.5555555555555556,
             "#d8576b"
            ],
            [
             0.6666666666666666,
             "#ed7953"
            ],
            [
             0.7777777777777778,
             "#fb9f3a"
            ],
            [
             0.8888888888888888,
             "#fdca26"
            ],
            [
             1,
             "#f0f921"
            ]
           ],
           "sequentialminus": [
            [
             0,
             "#0d0887"
            ],
            [
             0.1111111111111111,
             "#46039f"
            ],
            [
             0.2222222222222222,
             "#7201a8"
            ],
            [
             0.3333333333333333,
             "#9c179e"
            ],
            [
             0.4444444444444444,
             "#bd3786"
            ],
            [
             0.5555555555555556,
             "#d8576b"
            ],
            [
             0.6666666666666666,
             "#ed7953"
            ],
            [
             0.7777777777777778,
             "#fb9f3a"
            ],
            [
             0.8888888888888888,
             "#fdca26"
            ],
            [
             1,
             "#f0f921"
            ]
           ]
          },
          "colorway": [
           "#636efa",
           "#EF553B",
           "#00cc96",
           "#ab63fa",
           "#FFA15A",
           "#19d3f3",
           "#FF6692",
           "#B6E880",
           "#FF97FF",
           "#FECB52"
          ],
          "font": {
           "color": "#2a3f5f"
          },
          "geo": {
           "bgcolor": "white",
           "lakecolor": "white",
           "landcolor": "#E5ECF6",
           "showlakes": true,
           "showland": true,
           "subunitcolor": "white"
          },
          "hoverlabel": {
           "align": "left"
          },
          "hovermode": "closest",
          "mapbox": {
           "style": "light"
          },
          "paper_bgcolor": "white",
          "plot_bgcolor": "#E5ECF6",
          "polar": {
           "angularaxis": {
            "gridcolor": "white",
            "linecolor": "white",
            "ticks": ""
           },
           "bgcolor": "#E5ECF6",
           "radialaxis": {
            "gridcolor": "white",
            "linecolor": "white",
            "ticks": ""
           }
          },
          "scene": {
           "xaxis": {
            "backgroundcolor": "#E5ECF6",
            "gridcolor": "white",
            "gridwidth": 2,
            "linecolor": "white",
            "showbackground": true,
            "ticks": "",
            "zerolinecolor": "white"
           },
           "yaxis": {
            "backgroundcolor": "#E5ECF6",
            "gridcolor": "white",
            "gridwidth": 2,
            "linecolor": "white",
            "showbackground": true,
            "ticks": "",
            "zerolinecolor": "white"
           },
           "zaxis": {
            "backgroundcolor": "#E5ECF6",
            "gridcolor": "white",
            "gridwidth": 2,
            "linecolor": "white",
            "showbackground": true,
            "ticks": "",
            "zerolinecolor": "white"
           }
          },
          "shapedefaults": {
           "line": {
            "color": "#2a3f5f"
           }
          },
          "ternary": {
           "aaxis": {
            "gridcolor": "white",
            "linecolor": "white",
            "ticks": ""
           },
           "baxis": {
            "gridcolor": "white",
            "linecolor": "white",
            "ticks": ""
           },
           "bgcolor": "#E5ECF6",
           "caxis": {
            "gridcolor": "white",
            "linecolor": "white",
            "ticks": ""
           }
          },
          "title": {
           "x": 0.05
          },
          "xaxis": {
           "automargin": true,
           "gridcolor": "white",
           "linecolor": "white",
           "ticks": "",
           "title": {
            "standoff": 15
           },
           "zerolinecolor": "white",
           "zerolinewidth": 2
          },
          "yaxis": {
           "automargin": true,
           "gridcolor": "white",
           "linecolor": "white",
           "ticks": "",
           "title": {
            "standoff": 15
           },
           "zerolinecolor": "white",
           "zerolinewidth": 2
          }
         }
        },
        "title": {
         "text": "Market, Black-Scholes Skew"
        },
        "width": 900,
        "xaxis": {
         "gridcolor": "darkgray",
         "gridwidth": 1,
         "showgrid": true,
         "title": {
          "text": "Strike Price"
         }
        },
        "yaxis": {
         "gridcolor": "darkgray",
         "gridwidth": 1,
         "showgrid": true,
         "title": {
          "text": "Implied Volatility (%)"
         }
        }
       }
      }
     },
     "metadata": {},
     "output_type": "display_data"
    }
   ],
   "source": [
    "# Calculate skew relative to flat 20% BS vol\n",
    "flat_bs_vol = 20.0\n",
    "spot = 100\n",
    "\n",
    "# Get market volatilities for each strike at each maturity\n",
    "market_skew = market_vols[0]  # Take first maturity for simplicity\n",
    "bs_skew = [flat_bs_vol] * len(strikes)\n",
    "\n",
    "# Create figure\n",
    "fig = go.Figure()\n",
    "\n",
    "# Add market skew line\n",
    "fig.add_trace(\n",
    "    go.Scatter(\n",
    "        x=strikes,\n",
    "        y=market_skew,\n",
    "        name='Market Volatility Skew',\n",
    "        line=dict(color='#00b3ff', width=3)\n",
    "    )\n",
    ")\n",
    "\n",
    "# Add flat BS vol line\n",
    "fig.add_trace(\n",
    "    go.Scatter(\n",
    "        x=strikes,\n",
    "        y=bs_skew,\n",
    "        name='Black-Scholes Volatility',\n",
    "        line=dict(color='#ff9100', width=3, dash='dash')\n",
    "    )\n",
    ")\n",
    "\n",
    "# Update layout\n",
    "fig.update_layout(\n",
    "    title='Market, Black-Scholes Skew',\n",
    "    xaxis_title='Strike Price',\n",
    "    yaxis_title='Implied Volatility (%)',\n",
    "    width=900,\n",
    "    height=500,\n",
    "    paper_bgcolor='rgba(0,0,0,0)',\n",
    "    plot_bgcolor='rgba(0,0,0,0)',\n",
    "    showlegend=True,\n",
    "    legend=dict(\n",
    "        yanchor=\"top\",\n",
    "        y=0.95,\n",
    "        xanchor=\"right\",\n",
    "        x=0.95\n",
    "    ),\n",
    "    font=dict(color='white')\n",
    ")\n",
    "\n",
    "# Add grid\n",
    "fig.update_xaxes(showgrid=True, gridwidth=1, gridcolor='darkgray')\n",
    "fig.update_yaxes(showgrid=True, gridwidth=1, gridcolor='darkgray')\n",
    "\n",
    "fig.show()\n"
   ]
  },
  {
   "cell_type": "markdown",
   "id": "692d75af",
   "metadata": {},
   "source": [
    "#### <u>Extensions and Alternative Models</u>\n",
    "\n",
    "The Black-Scholes model assumes a geometric Brownian motion stochastic differential equation for the underlying leading to the constant volatility assumption\n",
    "$$\\frac{dS_t}{S_t} = \\mu dt + \\sigma dW_t$$\n",
    "\n",
    "To better match market prices and account for the volatility smile/skew, we can use:\n",
    "\n",
    " - **Local Volatility Models - Make volatility a deterministic function of spot and time:**\n",
    "    $$\\frac{dS_t}{S_t} = \\mu dt + \\sigma(S_t,t) dW_t$$\n",
    "    - Dupire's formula provides a way to compute local volatility from market prices\n",
    "    - Ensures consistent pricing with vanilla options\n",
    "\n",
    " - **Stochastic Volatility Models - Make volatility follow its own stochastic process:**\n",
    "    $$\\begin{align}\n",
    "    \\frac{dS_t}{S_t} &= \\mu dt + \\sqrt{v_t} dW^1_t \\\\\n",
    "    dv_t &= \\kappa(\\theta - v_t)dt + \\xi\\sqrt{v_t}dW^2_t\n",
    "    \\end{align}$$\n",
    "    - Heston model is a popular example\n",
    "    - Adds correlation between spot and vol ($\\rho dt = dW^1_t dW^2_t$)\n",
    "    - Better captures dynamics of implied volatility surface\n",
    "\n",
    "**Functional Framework - The Heston model as a map:**\n",
    "      $$\\begin{align}\n",
    "      \\mathcal{H}: \\mathbb{R}^7 &\\rightarrow \\mathbb{R} \\\\\n",
    "      (\\kappa, \\theta, \\xi, \\rho, v_0, K, T) &\\mapsto \\text{Price}\n",
    "      \\end{align}$$\n",
    "      where $K$ is the strike price and $T$ is time to maturity\n",
    "  \n",
    "\n",
    "\n",
    " These models help trading desks price exotic options more accurately and manage risk better."
   ]
  },
  {
   "cell_type": "code",
   "execution_count": 6,
   "id": "3fcaf153",
   "metadata": {},
   "outputs": [
    {
     "data": {
      "application/vnd.plotly.v1+json": {
       "config": {
        "plotlyServerURL": "https://plot.ly"
       },
       "data": [
        {
         "line": {
          "color": "#00b3ff",
          "width": 3
         },
         "name": "Market Volatility Skew",
         "type": "scatter",
         "x": [
          90,
          95,
          100,
          105,
          110
         ],
         "y": {
          "bdata": "AAAAAAAAPEAAAAAAAIA4QAAAAAAAADZAAAAAAACANEAAAAAAAIAzQA==",
          "dtype": "f8"
         }
        },
        {
         "line": {
          "color": "#ff9100",
          "dash": "dash",
          "width": 3
         },
         "name": "Black-Scholes Volatility",
         "type": "scatter",
         "x": [
          90,
          95,
          100,
          105,
          110
         ],
         "y": [
          20,
          20,
          20,
          20,
          20
         ]
        },
        {
         "line": {
          "color": "#00ff00",
          "dash": "dot",
          "width": 3
         },
         "name": "Heston Model Skew",
         "type": "scatter",
         "x": [
          90,
          95,
          100,
          105,
          110
         ],
         "y": [
          26.857554506886416,
          25.102315887356113,
          23.448400062648556,
          21.947203828020502,
          20.62609260467349
         ]
        }
       ],
       "layout": {
        "font": {
         "color": "white"
        },
        "height": 500,
        "legend": {
         "x": 0.95,
         "xanchor": "right",
         "y": 0.95,
         "yanchor": "top"
        },
        "paper_bgcolor": "rgba(0,0,0,0)",
        "plot_bgcolor": "rgba(0,0,0,0)",
        "showlegend": true,
        "template": {
         "data": {
          "bar": [
           {
            "error_x": {
             "color": "#2a3f5f"
            },
            "error_y": {
             "color": "#2a3f5f"
            },
            "marker": {
             "line": {
              "color": "#E5ECF6",
              "width": 0.5
             },
             "pattern": {
              "fillmode": "overlay",
              "size": 10,
              "solidity": 0.2
             }
            },
            "type": "bar"
           }
          ],
          "barpolar": [
           {
            "marker": {
             "line": {
              "color": "#E5ECF6",
              "width": 0.5
             },
             "pattern": {
              "fillmode": "overlay",
              "size": 10,
              "solidity": 0.2
             }
            },
            "type": "barpolar"
           }
          ],
          "carpet": [
           {
            "aaxis": {
             "endlinecolor": "#2a3f5f",
             "gridcolor": "white",
             "linecolor": "white",
             "minorgridcolor": "white",
             "startlinecolor": "#2a3f5f"
            },
            "baxis": {
             "endlinecolor": "#2a3f5f",
             "gridcolor": "white",
             "linecolor": "white",
             "minorgridcolor": "white",
             "startlinecolor": "#2a3f5f"
            },
            "type": "carpet"
           }
          ],
          "choropleth": [
           {
            "colorbar": {
             "outlinewidth": 0,
             "ticks": ""
            },
            "type": "choropleth"
           }
          ],
          "contour": [
           {
            "colorbar": {
             "outlinewidth": 0,
             "ticks": ""
            },
            "colorscale": [
             [
              0,
              "#0d0887"
             ],
             [
              0.1111111111111111,
              "#46039f"
             ],
             [
              0.2222222222222222,
              "#7201a8"
             ],
             [
              0.3333333333333333,
              "#9c179e"
             ],
             [
              0.4444444444444444,
              "#bd3786"
             ],
             [
              0.5555555555555556,
              "#d8576b"
             ],
             [
              0.6666666666666666,
              "#ed7953"
             ],
             [
              0.7777777777777778,
              "#fb9f3a"
             ],
             [
              0.8888888888888888,
              "#fdca26"
             ],
             [
              1,
              "#f0f921"
             ]
            ],
            "type": "contour"
           }
          ],
          "contourcarpet": [
           {
            "colorbar": {
             "outlinewidth": 0,
             "ticks": ""
            },
            "type": "contourcarpet"
           }
          ],
          "heatmap": [
           {
            "colorbar": {
             "outlinewidth": 0,
             "ticks": ""
            },
            "colorscale": [
             [
              0,
              "#0d0887"
             ],
             [
              0.1111111111111111,
              "#46039f"
             ],
             [
              0.2222222222222222,
              "#7201a8"
             ],
             [
              0.3333333333333333,
              "#9c179e"
             ],
             [
              0.4444444444444444,
              "#bd3786"
             ],
             [
              0.5555555555555556,
              "#d8576b"
             ],
             [
              0.6666666666666666,
              "#ed7953"
             ],
             [
              0.7777777777777778,
              "#fb9f3a"
             ],
             [
              0.8888888888888888,
              "#fdca26"
             ],
             [
              1,
              "#f0f921"
             ]
            ],
            "type": "heatmap"
           }
          ],
          "histogram": [
           {
            "marker": {
             "pattern": {
              "fillmode": "overlay",
              "size": 10,
              "solidity": 0.2
             }
            },
            "type": "histogram"
           }
          ],
          "histogram2d": [
           {
            "colorbar": {
             "outlinewidth": 0,
             "ticks": ""
            },
            "colorscale": [
             [
              0,
              "#0d0887"
             ],
             [
              0.1111111111111111,
              "#46039f"
             ],
             [
              0.2222222222222222,
              "#7201a8"
             ],
             [
              0.3333333333333333,
              "#9c179e"
             ],
             [
              0.4444444444444444,
              "#bd3786"
             ],
             [
              0.5555555555555556,
              "#d8576b"
             ],
             [
              0.6666666666666666,
              "#ed7953"
             ],
             [
              0.7777777777777778,
              "#fb9f3a"
             ],
             [
              0.8888888888888888,
              "#fdca26"
             ],
             [
              1,
              "#f0f921"
             ]
            ],
            "type": "histogram2d"
           }
          ],
          "histogram2dcontour": [
           {
            "colorbar": {
             "outlinewidth": 0,
             "ticks": ""
            },
            "colorscale": [
             [
              0,
              "#0d0887"
             ],
             [
              0.1111111111111111,
              "#46039f"
             ],
             [
              0.2222222222222222,
              "#7201a8"
             ],
             [
              0.3333333333333333,
              "#9c179e"
             ],
             [
              0.4444444444444444,
              "#bd3786"
             ],
             [
              0.5555555555555556,
              "#d8576b"
             ],
             [
              0.6666666666666666,
              "#ed7953"
             ],
             [
              0.7777777777777778,
              "#fb9f3a"
             ],
             [
              0.8888888888888888,
              "#fdca26"
             ],
             [
              1,
              "#f0f921"
             ]
            ],
            "type": "histogram2dcontour"
           }
          ],
          "mesh3d": [
           {
            "colorbar": {
             "outlinewidth": 0,
             "ticks": ""
            },
            "type": "mesh3d"
           }
          ],
          "parcoords": [
           {
            "line": {
             "colorbar": {
              "outlinewidth": 0,
              "ticks": ""
             }
            },
            "type": "parcoords"
           }
          ],
          "pie": [
           {
            "automargin": true,
            "type": "pie"
           }
          ],
          "scatter": [
           {
            "fillpattern": {
             "fillmode": "overlay",
             "size": 10,
             "solidity": 0.2
            },
            "type": "scatter"
           }
          ],
          "scatter3d": [
           {
            "line": {
             "colorbar": {
              "outlinewidth": 0,
              "ticks": ""
             }
            },
            "marker": {
             "colorbar": {
              "outlinewidth": 0,
              "ticks": ""
             }
            },
            "type": "scatter3d"
           }
          ],
          "scattercarpet": [
           {
            "marker": {
             "colorbar": {
              "outlinewidth": 0,
              "ticks": ""
             }
            },
            "type": "scattercarpet"
           }
          ],
          "scattergeo": [
           {
            "marker": {
             "colorbar": {
              "outlinewidth": 0,
              "ticks": ""
             }
            },
            "type": "scattergeo"
           }
          ],
          "scattergl": [
           {
            "marker": {
             "colorbar": {
              "outlinewidth": 0,
              "ticks": ""
             }
            },
            "type": "scattergl"
           }
          ],
          "scattermap": [
           {
            "marker": {
             "colorbar": {
              "outlinewidth": 0,
              "ticks": ""
             }
            },
            "type": "scattermap"
           }
          ],
          "scattermapbox": [
           {
            "marker": {
             "colorbar": {
              "outlinewidth": 0,
              "ticks": ""
             }
            },
            "type": "scattermapbox"
           }
          ],
          "scatterpolar": [
           {
            "marker": {
             "colorbar": {
              "outlinewidth": 0,
              "ticks": ""
             }
            },
            "type": "scatterpolar"
           }
          ],
          "scatterpolargl": [
           {
            "marker": {
             "colorbar": {
              "outlinewidth": 0,
              "ticks": ""
             }
            },
            "type": "scatterpolargl"
           }
          ],
          "scatterternary": [
           {
            "marker": {
             "colorbar": {
              "outlinewidth": 0,
              "ticks": ""
             }
            },
            "type": "scatterternary"
           }
          ],
          "surface": [
           {
            "colorbar": {
             "outlinewidth": 0,
             "ticks": ""
            },
            "colorscale": [
             [
              0,
              "#0d0887"
             ],
             [
              0.1111111111111111,
              "#46039f"
             ],
             [
              0.2222222222222222,
              "#7201a8"
             ],
             [
              0.3333333333333333,
              "#9c179e"
             ],
             [
              0.4444444444444444,
              "#bd3786"
             ],
             [
              0.5555555555555556,
              "#d8576b"
             ],
             [
              0.6666666666666666,
              "#ed7953"
             ],
             [
              0.7777777777777778,
              "#fb9f3a"
             ],
             [
              0.8888888888888888,
              "#fdca26"
             ],
             [
              1,
              "#f0f921"
             ]
            ],
            "type": "surface"
           }
          ],
          "table": [
           {
            "cells": {
             "fill": {
              "color": "#EBF0F8"
             },
             "line": {
              "color": "white"
             }
            },
            "header": {
             "fill": {
              "color": "#C8D4E3"
             },
             "line": {
              "color": "white"
             }
            },
            "type": "table"
           }
          ]
         },
         "layout": {
          "annotationdefaults": {
           "arrowcolor": "#2a3f5f",
           "arrowhead": 0,
           "arrowwidth": 1
          },
          "autotypenumbers": "strict",
          "coloraxis": {
           "colorbar": {
            "outlinewidth": 0,
            "ticks": ""
           }
          },
          "colorscale": {
           "diverging": [
            [
             0,
             "#8e0152"
            ],
            [
             0.1,
             "#c51b7d"
            ],
            [
             0.2,
             "#de77ae"
            ],
            [
             0.3,
             "#f1b6da"
            ],
            [
             0.4,
             "#fde0ef"
            ],
            [
             0.5,
             "#f7f7f7"
            ],
            [
             0.6,
             "#e6f5d0"
            ],
            [
             0.7,
             "#b8e186"
            ],
            [
             0.8,
             "#7fbc41"
            ],
            [
             0.9,
             "#4d9221"
            ],
            [
             1,
             "#276419"
            ]
           ],
           "sequential": [
            [
             0,
             "#0d0887"
            ],
            [
             0.1111111111111111,
             "#46039f"
            ],
            [
             0.2222222222222222,
             "#7201a8"
            ],
            [
             0.3333333333333333,
             "#9c179e"
            ],
            [
             0.4444444444444444,
             "#bd3786"
            ],
            [
             0.5555555555555556,
             "#d8576b"
            ],
            [
             0.6666666666666666,
             "#ed7953"
            ],
            [
             0.7777777777777778,
             "#fb9f3a"
            ],
            [
             0.8888888888888888,
             "#fdca26"
            ],
            [
             1,
             "#f0f921"
            ]
           ],
           "sequentialminus": [
            [
             0,
             "#0d0887"
            ],
            [
             0.1111111111111111,
             "#46039f"
            ],
            [
             0.2222222222222222,
             "#7201a8"
            ],
            [
             0.3333333333333333,
             "#9c179e"
            ],
            [
             0.4444444444444444,
             "#bd3786"
            ],
            [
             0.5555555555555556,
             "#d8576b"
            ],
            [
             0.6666666666666666,
             "#ed7953"
            ],
            [
             0.7777777777777778,
             "#fb9f3a"
            ],
            [
             0.8888888888888888,
             "#fdca26"
            ],
            [
             1,
             "#f0f921"
            ]
           ]
          },
          "colorway": [
           "#636efa",
           "#EF553B",
           "#00cc96",
           "#ab63fa",
           "#FFA15A",
           "#19d3f3",
           "#FF6692",
           "#B6E880",
           "#FF97FF",
           "#FECB52"
          ],
          "font": {
           "color": "#2a3f5f"
          },
          "geo": {
           "bgcolor": "white",
           "lakecolor": "white",
           "landcolor": "#E5ECF6",
           "showlakes": true,
           "showland": true,
           "subunitcolor": "white"
          },
          "hoverlabel": {
           "align": "left"
          },
          "hovermode": "closest",
          "mapbox": {
           "style": "light"
          },
          "paper_bgcolor": "white",
          "plot_bgcolor": "#E5ECF6",
          "polar": {
           "angularaxis": {
            "gridcolor": "white",
            "linecolor": "white",
            "ticks": ""
           },
           "bgcolor": "#E5ECF6",
           "radialaxis": {
            "gridcolor": "white",
            "linecolor": "white",
            "ticks": ""
           }
          },
          "scene": {
           "xaxis": {
            "backgroundcolor": "#E5ECF6",
            "gridcolor": "white",
            "gridwidth": 2,
            "linecolor": "white",
            "showbackground": true,
            "ticks": "",
            "zerolinecolor": "white"
           },
           "yaxis": {
            "backgroundcolor": "#E5ECF6",
            "gridcolor": "white",
            "gridwidth": 2,
            "linecolor": "white",
            "showbackground": true,
            "ticks": "",
            "zerolinecolor": "white"
           },
           "zaxis": {
            "backgroundcolor": "#E5ECF6",
            "gridcolor": "white",
            "gridwidth": 2,
            "linecolor": "white",
            "showbackground": true,
            "ticks": "",
            "zerolinecolor": "white"
           }
          },
          "shapedefaults": {
           "line": {
            "color": "#2a3f5f"
           }
          },
          "ternary": {
           "aaxis": {
            "gridcolor": "white",
            "linecolor": "white",
            "ticks": ""
           },
           "baxis": {
            "gridcolor": "white",
            "linecolor": "white",
            "ticks": ""
           },
           "bgcolor": "#E5ECF6",
           "caxis": {
            "gridcolor": "white",
            "linecolor": "white",
            "ticks": ""
           }
          },
          "title": {
           "x": 0.05
          },
          "xaxis": {
           "automargin": true,
           "gridcolor": "white",
           "linecolor": "white",
           "ticks": "",
           "title": {
            "standoff": 15
           },
           "zerolinecolor": "white",
           "zerolinewidth": 2
          },
          "yaxis": {
           "automargin": true,
           "gridcolor": "white",
           "linecolor": "white",
           "ticks": "",
           "title": {
            "standoff": 15
           },
           "zerolinecolor": "white",
           "zerolinewidth": 2
          }
         }
        },
        "title": {
         "text": "Market, Black-Scholes, Heston Skew"
        },
        "width": 900,
        "xaxis": {
         "gridcolor": "darkgray",
         "gridwidth": 1,
         "showgrid": true,
         "title": {
          "text": "Strike Price"
         }
        },
        "yaxis": {
         "gridcolor": "darkgray",
         "gridwidth": 1,
         "showgrid": true,
         "title": {
          "text": "Implied Volatility (%)"
         }
        }
       }
      }
     },
     "metadata": {},
     "output_type": "display_data"
    }
   ],
   "source": [
    "from scipy.stats import norm\n",
    "# Heston model parameters\n",
    "kappa = 2.0  # Mean reversion speed\n",
    "theta = .08  # Long-run variance\n",
    "xi = 1.4  # Vol of vol\n",
    "rho = -0.7  # Correlation\n",
    "v0 = (flat_bs_vol/100)**2  # Initial variance\n",
    "\n",
    "# Risk-free rate and time to maturity\n",
    "r = 0.02\n",
    "T = 1.0\n",
    "\n",
    "# Simulation parameters\n",
    "n_paths = 10000\n",
    "n_steps = 252  # Daily steps\n",
    "dt = T/n_steps\n",
    "\n",
    "# Generate correlated Brownian motions\n",
    "dW1 = np.random.normal(0, np.sqrt(dt), (n_paths, n_steps))\n",
    "dW2 = rho * dW1 + np.sqrt(1 - rho**2) * np.random.normal(0, np.sqrt(dt), (n_paths, n_steps))\n",
    "\n",
    "# Simulate Heston paths\n",
    "S = np.zeros((n_paths, n_steps + 1))\n",
    "v = np.zeros((n_paths, n_steps + 1))\n",
    "S[:, 0] = spot\n",
    "v[:, 0] = v0\n",
    "\n",
    "for t in range(n_steps):\n",
    "    v[:, t+1] = np.maximum(v[:, t] + kappa*(theta - v[:, t])*dt + xi*np.sqrt(v[:, t])*dW2[:, t], 0)\n",
    "    S[:, t+1] = S[:, t] * np.exp((r - 0.5*v[:, t])*dt + np.sqrt(v[:, t])*dW1[:, t])\n",
    "\n",
    "# Calculate Heston implied volatilities\n",
    "heston_vols = []\n",
    "for K in strikes:\n",
    "    # Calculate call option prices\n",
    "    payoffs = np.maximum(S[:, -1] - K, 0)\n",
    "    heston_price = np.exp(-r*T) * np.mean(payoffs)\n",
    "    \n",
    "    # Find implied vol using Newton-Raphson\n",
    "    def bs_price(sigma):\n",
    "        d1 = (np.log(spot/K) + (r + 0.5*sigma**2)*T)/(sigma*np.sqrt(T))\n",
    "        d2 = d1 - sigma*np.sqrt(T)\n",
    "        return spot*norm.cdf(d1) - K*np.exp(-r*T)*norm.cdf(d2)\n",
    "    \n",
    "    def vega(sigma):\n",
    "        d1 = (np.log(spot/K) + (r + 0.5*sigma**2)*T)/(sigma*np.sqrt(T))\n",
    "        return spot*np.sqrt(T)*norm.pdf(d1)\n",
    "    \n",
    "    sigma = flat_bs_vol/100  # Initial guess\n",
    "    for _ in range(50):\n",
    "        diff = bs_price(sigma) - heston_price\n",
    "        if abs(diff) < 1e-5:\n",
    "            break\n",
    "        sigma = sigma - diff/vega(sigma)\n",
    "    \n",
    "    heston_vols.append(sigma*100)\n",
    "\n",
    "# Create new figure\n",
    "fig = go.Figure()\n",
    "\n",
    "# Add market skew line\n",
    "fig.add_trace(\n",
    "    go.Scatter(\n",
    "        x=strikes,\n",
    "        y=market_skew,\n",
    "        name='Market Volatility Skew',\n",
    "        line=dict(color='#00b3ff', width=3)\n",
    "    )\n",
    ")\n",
    "\n",
    "# Add flat BS skew line\n",
    "fig.add_trace(\n",
    "    go.Scatter(\n",
    "        x=strikes,\n",
    "        y=[flat_bs_vol]*len(strikes),\n",
    "        name='Black-Scholes Volatility',\n",
    "        line=dict(color='#ff9100', width=3, dash='dash')\n",
    "    )\n",
    ")\n",
    "\n",
    "# Add Heston skew line\n",
    "fig.add_trace(\n",
    "    go.Scatter(\n",
    "        x=strikes,\n",
    "        y=heston_vols,\n",
    "        name='Heston Model Skew',\n",
    "        line=dict(color='#00ff00', width=3, dash='dot')\n",
    "    )\n",
    ")\n",
    "\n",
    "# Update layout\n",
    "fig.update_layout(\n",
    "    title='Market, Black-Scholes, Heston Skew',\n",
    "    xaxis_title='Strike Price',\n",
    "    yaxis_title='Implied Volatility (%)',\n",
    "    width=900,\n",
    "    height=500,\n",
    "    paper_bgcolor='rgba(0,0,0,0)',\n",
    "    plot_bgcolor='rgba(0,0,0,0)',\n",
    "    showlegend=True,\n",
    "    legend=dict(\n",
    "        yanchor=\"top\",\n",
    "        y=0.95,\n",
    "        xanchor=\"right\",\n",
    "        x=0.95\n",
    "    ),\n",
    "    font=dict(color='white')\n",
    ")\n",
    "\n",
    "# Add grid\n",
    "fig.update_xaxes(showgrid=True, gridwidth=1, gridcolor='darkgray')\n",
    "fig.update_yaxes(showgrid=True, gridwidth=1, gridcolor='darkgray')\n",
    "\n",
    "fig.show()\n"
   ]
  },
  {
   "cell_type": "markdown",
   "id": "5d9770d9",
   "metadata": {},
   "source": [
    "---"
   ]
  },
  {
   "cell_type": "markdown",
   "id": "f69c9598",
   "metadata": {},
   "source": [
    "### 3.) Solutions to Pricing Functionals\n",
    "\n",
    "\n",
    "Establishing Pricing PDEs:\n",
    "- [How to Find the Black-Scholes-Merton Partial Differential Equation](https://youtu.be/2iClLEfXuqA?si=AgjS1PE1-uyuf5sh)\n",
    "\n",
    "  **Pricing Function:** For a European call option with strike K and maturity T:\n",
    "  $$C(S_t,v_t,t) = \\mathbb{E}_t\\left[e^{-r(T-t)}\\max(S_T - K, 0)\\right]$$\n",
    "  where $S_T$ follows the Heston dynamics above. The expectation can be computed:\n",
    "  1. Using Monte Carlo simulation of paths (as shown in code below)\n",
    "  2. Using semi-analytical Fourier methods with characteristic function\n",
    "  3. Using finite difference methods to solve the PDE:\n",
    "  $$\\begin{align}\n",
    "  \\frac{\\partial C}{\\partial t} + \\frac{1}{2}vS^2\\frac{\\partial^2 C}{\\partial S^2} &+ \\rho\\xi vS\\frac{\\partial^2 C}{\\partial S\\partial v} + \\frac{1}{2}\\xi^2v\\frac{\\partial^2 C}{\\partial v^2} \\\\\n",
    "  &+ rS\\frac{\\partial C}{\\partial S} + \\kappa(\\theta-v)\\frac{\\partial C}{\\partial v} - rC = 0\n",
    "  \\end{align}$$\n",
    "\n",
    " **Remark:** Desks don't just use the price generated by these models, nor do they blindly hedge with the model greeks - we know what assumptions are associated with which models and adjust our decision making in uncertainty accordingly in a discretionary capacity usually based on desk heuristics!\n",
    "\n",
    "\n",
    "Pricing Functional Solutions:\n",
    "\n",
    "- Closed-Form Solutions\n",
    "\n",
    "- Tricks (i.e. FFT)\n",
    "\n",
    "- Partial Differential Equation Schemes (Finite-Differences)\n",
    "\n",
    "- Stochastic Process Simulation \n",
    "\n",
    "#### <u>Pricing Notation from Horvath et al. 2019</u>\n",
    "\n",
    "The market dictates the price for a set of contracts $\\zeta$ a vector of instruments to price $\\mathbb{R}^m, m \\in \\mathbb{N}$\n",
    "\n",
    "Given a parameter set $\\theta \\in \\Theta \\subset \\mathbb{R}^n$ and model framework $\\mathcal{M}$ we can produce a price for the given framework by the pricing map $P : \\mathcal{M}(\\theta, \\zeta) \\mapsto \\mathbb{R}^m$\n",
    "\n",
    "$$P(\\mathcal{M}(\\theta, \\zeta)) \\mapsto \\mathbb{R}^m$$\n",
    "\n",
    "For our Heston model:\n",
    "\n",
    "$$\\theta = (\\kappa, \\theta, \\xi, \\rho, v_0) \\quad \\mathcal{M} = \\mathcal{H} \\text{ (Heston)}$$\n",
    "$$P(\\mathcal{H}(\\theta, \\zeta)) \\mapsto \\mathbb{R}^m$$\n",
    "\n",
    "However, if we use simulation or some sort of numerical PDE solver we have\n",
    "\n",
    "$$\\tilde{P}(\\mathcal{H}(\\theta, \\zeta)) \\approx P(\\mathcal{H}(\\theta, \\zeta))$$"
   ]
  },
  {
   "cell_type": "markdown",
   "id": "b2147583",
   "metadata": {},
   "source": [
    "---"
   ]
  },
  {
   "cell_type": "markdown",
   "id": "a3609c8e",
   "metadata": {},
   "source": [
    "### 4.) Model Calibration to an Implied Volatility Surface\n",
    "\n",
    "Once we determine *how* we will produce a price (Closed-Form, Quasi-Closed-Form, Simulation, Numerical PDE)\n",
    "\n",
    "We can go about finding the values of the parameters to use $\\theta$ by calibrating our model to a market volatility surface\n",
    "\n",
    "This is equivalent to solving the following minimization problem which yields the parameters to use\n",
    "\n",
    "$$\\theta^* = argmin_{\\theta \\in \\Theta} \\delta (\\tilde{P}(\\mathcal{H}(\\theta, \\zeta)), \\mathcal{P}^{MKT}(\\zeta))$$\n",
    "\n",
    "Where $\\delta$ is some measure of distance between the model price for instruments $\\zeta$ given by parameters $\\theta$ and the corresponding market prices.\n",
    "\n",
    "**Don't get lost in the notation!**\n",
    "\n",
    "$\\theta^*$ just tells us the values of the Heston parameters $(\\kappa, \\theta, \\xi, \\rho, v_0, K, T)$ to use based on market prices!\n",
    "\n",
    "#### <u>Efficiency Concerns</u>\n",
    "\n",
    "- Simulation MC schemes can be SLOW - fitting is itterative meaning we have to iteratively simulate prices...\n",
    "\n",
    "- Price/IVol space - we can fit in the price space and conver to BS Ivols one to one\n",
    "\n",
    "- Some schemes require full MC simulation (for example, a Volterra processes)\n",
    "\n",
    "- We may approximate these functionals offline with neural networks\n",
    "\n",
    "There is a lot to this process - I will have to punt on this topic and save it for another video!  \n",
    "\n",
    "For the rest of the notebook herein, we can assume that we've found the parameters $\\theta^*$ as $\\hat{\\theta}$ to use."
   ]
  },
  {
   "cell_type": "code",
   "execution_count": 7,
   "id": "f01483c6",
   "metadata": {},
   "outputs": [
    {
     "data": {
      "application/vnd.plotly.v1+json": {
       "config": {
        "plotlyServerURL": "https://plot.ly"
       },
       "data": [
        {
         "colorscale": [
          [
           0,
           "#440154"
          ],
          [
           0.1111111111111111,
           "#482878"
          ],
          [
           0.2222222222222222,
           "#3e4989"
          ],
          [
           0.3333333333333333,
           "#31688e"
          ],
          [
           0.4444444444444444,
           "#26828e"
          ],
          [
           0.5555555555555556,
           "#1f9e89"
          ],
          [
           0.6666666666666666,
           "#35b779"
          ],
          [
           0.7777777777777778,
           "#6ece58"
          ],
          [
           0.8888888888888888,
           "#b5de2b"
          ],
          [
           1,
           "#fde725"
          ]
         ],
         "opacity": 0.7,
         "scene": "scene",
         "showscale": true,
         "type": "surface",
         "x": {
          "bdata": "Wl9kaW5aX2RpblpfZGluWl9kaW5aX2Rpbg==",
          "dtype": "i1",
          "shape": "5, 5"
         },
         "y": {
          "bdata": "VVVVVVVVtT9VVVVVVVW1P1VVVVVVVbU/VVVVVVVVtT9VVVVVVVW1PwAAAAAAANA/AAAAAAAA0D8AAAAAAADQPwAAAAAAANA/AAAAAAAA0D8AAAAAAADgPwAAAAAAAOA/AAAAAAAA4D8AAAAAAADgPwAAAAAAAOA/AAAAAAAA8D8AAAAAAADwPwAAAAAAAPA/AAAAAAAA8D8AAAAAAADwPwAAAAAAAABAAAAAAAAAAEAAAAAAAAAAQAAAAAAAAABAAAAAAAAAAEA=",
          "dtype": "f8",
          "shape": "5, 5"
         },
         "z": {
          "bdata": "8YPAUSwPOEBZ/JqVi3E3QOIIjKmJmDZATErdvwllNUAeeQCya4o0QGZ67xzk+DdAe9fhD80NN0Cv7wV6T+81QJzT9jrb+TRAenNMTdvdM0BIelzk0gs3QAOyTlPQbDZAwsaRjpRxNUAuXiNWzng0QN6LmvBClTNAcncjYbD9NUAwpSs0LkE1QGet1p/4rjRAlBgYtZE8NEDMjU8jLj4zQOItxrJSKzVA3daC0DVvNEBYkRdX6Bg0QPaLPf5cqjNA2uaW+btBM0A=",
          "dtype": "f8",
          "shape": "5, 5"
         }
        },
        {
         "colorscale": [
          [
           0,
           "#440154"
          ],
          [
           0.1111111111111111,
           "#482878"
          ],
          [
           0.2222222222222222,
           "#3e4989"
          ],
          [
           0.3333333333333333,
           "#31688e"
          ],
          [
           0.4444444444444444,
           "#26828e"
          ],
          [
           0.5555555555555556,
           "#1f9e89"
          ],
          [
           0.6666666666666666,
           "#35b779"
          ],
          [
           0.7777777777777778,
           "#6ece58"
          ],
          [
           0.8888888888888888,
           "#b5de2b"
          ],
          [
           1,
           "#fde725"
          ]
         ],
         "opacity": 0.7,
         "scene": "scene2",
         "showscale": true,
         "type": "surface",
         "x": {
          "bdata": "Wl9kaW5aX2RpblpfZGluWl9kaW5aX2Rpbg==",
          "dtype": "i1",
          "shape": "5, 5"
         },
         "y": {
          "bdata": "VVVVVVVVtT9VVVVVVVW1P1VVVVVVVbU/VVVVVVVVtT9VVVVVVVW1PwAAAAAAANA/AAAAAAAA0D8AAAAAAADQPwAAAAAAANA/AAAAAAAA0D8AAAAAAADgPwAAAAAAAOA/AAAAAAAA4D8AAAAAAADgPwAAAAAAAOA/AAAAAAAA8D8AAAAAAADwPwAAAAAAAPA/AAAAAAAA8D8AAAAAAADwPwAAAAAAAABAAAAAAAAAAEAAAAAAAAAAQAAAAAAAAABAAAAAAAAAAEA=",
          "dtype": "f8",
          "shape": "5, 5"
         },
         "z": {
          "bdata": "AAAAAAAAPEAAAAAAAIA4QAAAAAAAADZAAAAAAACANEAAAAAAAIAzQAAAAAAAgDtAAAAAAAAAOEDNzMzMzMw1QM3MzMzMTDRAzczMzMxMM0AAAAAAAAA7QAAAAAAAgDdAAAAAAACANUAAAAAAAAA0QAAAAAAAADNAAAAAAACAOkAAAAAAAAA3QDMzMzMzMzVAzczMzMzMM0DNzMzMzMwyQAAAAAAAADpAAAAAAACANkAAAAAAAAA1QAAAAAAAgDNAAAAAAACAMkA=",
          "dtype": "f8",
          "shape": "5, 5"
         }
        }
       ],
       "layout": {
        "annotations": [
         {
          "font": {
           "size": 16
          },
          "showarrow": false,
          "text": "Heston Implied Volatility Surface",
          "x": 0.225,
          "xanchor": "center",
          "xref": "paper",
          "y": 1,
          "yanchor": "bottom",
          "yref": "paper"
         },
         {
          "font": {
           "size": 16
          },
          "showarrow": false,
          "text": "Market Implied Volatility Surface",
          "x": 0.775,
          "xanchor": "center",
          "xref": "paper",
          "y": 1,
          "yanchor": "bottom",
          "yref": "paper"
         }
        ],
        "font": {
         "color": "white"
        },
        "height": 600,
        "paper_bgcolor": "rgba(0,0,0,0)",
        "scene": {
         "bgcolor": "rgba(0,0,0,0)",
         "camera": {
          "eye": {
           "x": 1.5,
           "y": 1.5,
           "z": 1.2
          }
         },
         "domain": {
          "x": [
           0,
           0.45
          ],
          "y": [
           0,
           1
          ]
         },
         "xaxis": {
          "backgroundcolor": "rgb(30, 30, 35)",
          "color": "darkgray",
          "gridcolor": "darkgray",
          "showgrid": true,
          "title": {
           "text": "Strike Price"
          }
         },
         "yaxis": {
          "backgroundcolor": "rgb(30, 30, 35)",
          "color": "darkgray",
          "gridcolor": "darkgray",
          "showgrid": true,
          "title": {
           "text": "Time to Maturity (Years)"
          }
         },
         "zaxis": {
          "backgroundcolor": "rgb(30, 30, 35)",
          "color": "darkgray",
          "gridcolor": "darkgray",
          "showgrid": true,
          "title": {
           "text": "Implied Volatility (%)"
          }
         }
        },
        "scene2": {
         "bgcolor": "rgba(0,0,0,0)",
         "camera": {
          "eye": {
           "x": 1.5,
           "y": 1.5,
           "z": 1.2
          }
         },
         "domain": {
          "x": [
           0.55,
           1
          ],
          "y": [
           0,
           1
          ]
         },
         "xaxis": {
          "backgroundcolor": "rgb(30, 30, 35)",
          "color": "darkgray",
          "gridcolor": "darkgray",
          "showgrid": true,
          "title": {
           "text": "Strike Price"
          }
         },
         "yaxis": {
          "backgroundcolor": "rgb(30, 30, 35)",
          "color": "darkgray",
          "gridcolor": "darkgray",
          "showgrid": true,
          "title": {
           "text": "Time to Maturity (Years)"
          }
         },
         "zaxis": {
          "backgroundcolor": "rgb(30, 30, 35)",
          "color": "darkgray",
          "gridcolor": "darkgray",
          "range": [
           16.5,
           30
          ],
          "showgrid": true,
          "title": {
           "text": "Implied Volatility (%)"
          }
         }
        },
        "template": {
         "data": {
          "bar": [
           {
            "error_x": {
             "color": "#2a3f5f"
            },
            "error_y": {
             "color": "#2a3f5f"
            },
            "marker": {
             "line": {
              "color": "#E5ECF6",
              "width": 0.5
             },
             "pattern": {
              "fillmode": "overlay",
              "size": 10,
              "solidity": 0.2
             }
            },
            "type": "bar"
           }
          ],
          "barpolar": [
           {
            "marker": {
             "line": {
              "color": "#E5ECF6",
              "width": 0.5
             },
             "pattern": {
              "fillmode": "overlay",
              "size": 10,
              "solidity": 0.2
             }
            },
            "type": "barpolar"
           }
          ],
          "carpet": [
           {
            "aaxis": {
             "endlinecolor": "#2a3f5f",
             "gridcolor": "white",
             "linecolor": "white",
             "minorgridcolor": "white",
             "startlinecolor": "#2a3f5f"
            },
            "baxis": {
             "endlinecolor": "#2a3f5f",
             "gridcolor": "white",
             "linecolor": "white",
             "minorgridcolor": "white",
             "startlinecolor": "#2a3f5f"
            },
            "type": "carpet"
           }
          ],
          "choropleth": [
           {
            "colorbar": {
             "outlinewidth": 0,
             "ticks": ""
            },
            "type": "choropleth"
           }
          ],
          "contour": [
           {
            "colorbar": {
             "outlinewidth": 0,
             "ticks": ""
            },
            "colorscale": [
             [
              0,
              "#0d0887"
             ],
             [
              0.1111111111111111,
              "#46039f"
             ],
             [
              0.2222222222222222,
              "#7201a8"
             ],
             [
              0.3333333333333333,
              "#9c179e"
             ],
             [
              0.4444444444444444,
              "#bd3786"
             ],
             [
              0.5555555555555556,
              "#d8576b"
             ],
             [
              0.6666666666666666,
              "#ed7953"
             ],
             [
              0.7777777777777778,
              "#fb9f3a"
             ],
             [
              0.8888888888888888,
              "#fdca26"
             ],
             [
              1,
              "#f0f921"
             ]
            ],
            "type": "contour"
           }
          ],
          "contourcarpet": [
           {
            "colorbar": {
             "outlinewidth": 0,
             "ticks": ""
            },
            "type": "contourcarpet"
           }
          ],
          "heatmap": [
           {
            "colorbar": {
             "outlinewidth": 0,
             "ticks": ""
            },
            "colorscale": [
             [
              0,
              "#0d0887"
             ],
             [
              0.1111111111111111,
              "#46039f"
             ],
             [
              0.2222222222222222,
              "#7201a8"
             ],
             [
              0.3333333333333333,
              "#9c179e"
             ],
             [
              0.4444444444444444,
              "#bd3786"
             ],
             [
              0.5555555555555556,
              "#d8576b"
             ],
             [
              0.6666666666666666,
              "#ed7953"
             ],
             [
              0.7777777777777778,
              "#fb9f3a"
             ],
             [
              0.8888888888888888,
              "#fdca26"
             ],
             [
              1,
              "#f0f921"
             ]
            ],
            "type": "heatmap"
           }
          ],
          "histogram": [
           {
            "marker": {
             "pattern": {
              "fillmode": "overlay",
              "size": 10,
              "solidity": 0.2
             }
            },
            "type": "histogram"
           }
          ],
          "histogram2d": [
           {
            "colorbar": {
             "outlinewidth": 0,
             "ticks": ""
            },
            "colorscale": [
             [
              0,
              "#0d0887"
             ],
             [
              0.1111111111111111,
              "#46039f"
             ],
             [
              0.2222222222222222,
              "#7201a8"
             ],
             [
              0.3333333333333333,
              "#9c179e"
             ],
             [
              0.4444444444444444,
              "#bd3786"
             ],
             [
              0.5555555555555556,
              "#d8576b"
             ],
             [
              0.6666666666666666,
              "#ed7953"
             ],
             [
              0.7777777777777778,
              "#fb9f3a"
             ],
             [
              0.8888888888888888,
              "#fdca26"
             ],
             [
              1,
              "#f0f921"
             ]
            ],
            "type": "histogram2d"
           }
          ],
          "histogram2dcontour": [
           {
            "colorbar": {
             "outlinewidth": 0,
             "ticks": ""
            },
            "colorscale": [
             [
              0,
              "#0d0887"
             ],
             [
              0.1111111111111111,
              "#46039f"
             ],
             [
              0.2222222222222222,
              "#7201a8"
             ],
             [
              0.3333333333333333,
              "#9c179e"
             ],
             [
              0.4444444444444444,
              "#bd3786"
             ],
             [
              0.5555555555555556,
              "#d8576b"
             ],
             [
              0.6666666666666666,
              "#ed7953"
             ],
             [
              0.7777777777777778,
              "#fb9f3a"
             ],
             [
              0.8888888888888888,
              "#fdca26"
             ],
             [
              1,
              "#f0f921"
             ]
            ],
            "type": "histogram2dcontour"
           }
          ],
          "mesh3d": [
           {
            "colorbar": {
             "outlinewidth": 0,
             "ticks": ""
            },
            "type": "mesh3d"
           }
          ],
          "parcoords": [
           {
            "line": {
             "colorbar": {
              "outlinewidth": 0,
              "ticks": ""
             }
            },
            "type": "parcoords"
           }
          ],
          "pie": [
           {
            "automargin": true,
            "type": "pie"
           }
          ],
          "scatter": [
           {
            "fillpattern": {
             "fillmode": "overlay",
             "size": 10,
             "solidity": 0.2
            },
            "type": "scatter"
           }
          ],
          "scatter3d": [
           {
            "line": {
             "colorbar": {
              "outlinewidth": 0,
              "ticks": ""
             }
            },
            "marker": {
             "colorbar": {
              "outlinewidth": 0,
              "ticks": ""
             }
            },
            "type": "scatter3d"
           }
          ],
          "scattercarpet": [
           {
            "marker": {
             "colorbar": {
              "outlinewidth": 0,
              "ticks": ""
             }
            },
            "type": "scattercarpet"
           }
          ],
          "scattergeo": [
           {
            "marker": {
             "colorbar": {
              "outlinewidth": 0,
              "ticks": ""
             }
            },
            "type": "scattergeo"
           }
          ],
          "scattergl": [
           {
            "marker": {
             "colorbar": {
              "outlinewidth": 0,
              "ticks": ""
             }
            },
            "type": "scattergl"
           }
          ],
          "scattermap": [
           {
            "marker": {
             "colorbar": {
              "outlinewidth": 0,
              "ticks": ""
             }
            },
            "type": "scattermap"
           }
          ],
          "scattermapbox": [
           {
            "marker": {
             "colorbar": {
              "outlinewidth": 0,
              "ticks": ""
             }
            },
            "type": "scattermapbox"
           }
          ],
          "scatterpolar": [
           {
            "marker": {
             "colorbar": {
              "outlinewidth": 0,
              "ticks": ""
             }
            },
            "type": "scatterpolar"
           }
          ],
          "scatterpolargl": [
           {
            "marker": {
             "colorbar": {
              "outlinewidth": 0,
              "ticks": ""
             }
            },
            "type": "scatterpolargl"
           }
          ],
          "scatterternary": [
           {
            "marker": {
             "colorbar": {
              "outlinewidth": 0,
              "ticks": ""
             }
            },
            "type": "scatterternary"
           }
          ],
          "surface": [
           {
            "colorbar": {
             "outlinewidth": 0,
             "ticks": ""
            },
            "colorscale": [
             [
              0,
              "#0d0887"
             ],
             [
              0.1111111111111111,
              "#46039f"
             ],
             [
              0.2222222222222222,
              "#7201a8"
             ],
             [
              0.3333333333333333,
              "#9c179e"
             ],
             [
              0.4444444444444444,
              "#bd3786"
             ],
             [
              0.5555555555555556,
              "#d8576b"
             ],
             [
              0.6666666666666666,
              "#ed7953"
             ],
             [
              0.7777777777777778,
              "#fb9f3a"
             ],
             [
              0.8888888888888888,
              "#fdca26"
             ],
             [
              1,
              "#f0f921"
             ]
            ],
            "type": "surface"
           }
          ],
          "table": [
           {
            "cells": {
             "fill": {
              "color": "#EBF0F8"
             },
             "line": {
              "color": "white"
             }
            },
            "header": {
             "fill": {
              "color": "#C8D4E3"
             },
             "line": {
              "color": "white"
             }
            },
            "type": "table"
           }
          ]
         },
         "layout": {
          "annotationdefaults": {
           "arrowcolor": "#2a3f5f",
           "arrowhead": 0,
           "arrowwidth": 1
          },
          "autotypenumbers": "strict",
          "coloraxis": {
           "colorbar": {
            "outlinewidth": 0,
            "ticks": ""
           }
          },
          "colorscale": {
           "diverging": [
            [
             0,
             "#8e0152"
            ],
            [
             0.1,
             "#c51b7d"
            ],
            [
             0.2,
             "#de77ae"
            ],
            [
             0.3,
             "#f1b6da"
            ],
            [
             0.4,
             "#fde0ef"
            ],
            [
             0.5,
             "#f7f7f7"
            ],
            [
             0.6,
             "#e6f5d0"
            ],
            [
             0.7,
             "#b8e186"
            ],
            [
             0.8,
             "#7fbc41"
            ],
            [
             0.9,
             "#4d9221"
            ],
            [
             1,
             "#276419"
            ]
           ],
           "sequential": [
            [
             0,
             "#0d0887"
            ],
            [
             0.1111111111111111,
             "#46039f"
            ],
            [
             0.2222222222222222,
             "#7201a8"
            ],
            [
             0.3333333333333333,
             "#9c179e"
            ],
            [
             0.4444444444444444,
             "#bd3786"
            ],
            [
             0.5555555555555556,
             "#d8576b"
            ],
            [
             0.6666666666666666,
             "#ed7953"
            ],
            [
             0.7777777777777778,
             "#fb9f3a"
            ],
            [
             0.8888888888888888,
             "#fdca26"
            ],
            [
             1,
             "#f0f921"
            ]
           ],
           "sequentialminus": [
            [
             0,
             "#0d0887"
            ],
            [
             0.1111111111111111,
             "#46039f"
            ],
            [
             0.2222222222222222,
             "#7201a8"
            ],
            [
             0.3333333333333333,
             "#9c179e"
            ],
            [
             0.4444444444444444,
             "#bd3786"
            ],
            [
             0.5555555555555556,
             "#d8576b"
            ],
            [
             0.6666666666666666,
             "#ed7953"
            ],
            [
             0.7777777777777778,
             "#fb9f3a"
            ],
            [
             0.8888888888888888,
             "#fdca26"
            ],
            [
             1,
             "#f0f921"
            ]
           ]
          },
          "colorway": [
           "#636efa",
           "#EF553B",
           "#00cc96",
           "#ab63fa",
           "#FFA15A",
           "#19d3f3",
           "#FF6692",
           "#B6E880",
           "#FF97FF",
           "#FECB52"
          ],
          "font": {
           "color": "#2a3f5f"
          },
          "geo": {
           "bgcolor": "white",
           "lakecolor": "white",
           "landcolor": "#E5ECF6",
           "showlakes": true,
           "showland": true,
           "subunitcolor": "white"
          },
          "hoverlabel": {
           "align": "left"
          },
          "hovermode": "closest",
          "mapbox": {
           "style": "light"
          },
          "paper_bgcolor": "white",
          "plot_bgcolor": "#E5ECF6",
          "polar": {
           "angularaxis": {
            "gridcolor": "white",
            "linecolor": "white",
            "ticks": ""
           },
           "bgcolor": "#E5ECF6",
           "radialaxis": {
            "gridcolor": "white",
            "linecolor": "white",
            "ticks": ""
           }
          },
          "scene": {
           "xaxis": {
            "backgroundcolor": "#E5ECF6",
            "gridcolor": "white",
            "gridwidth": 2,
            "linecolor": "white",
            "showbackground": true,
            "ticks": "",
            "zerolinecolor": "white"
           },
           "yaxis": {
            "backgroundcolor": "#E5ECF6",
            "gridcolor": "white",
            "gridwidth": 2,
            "linecolor": "white",
            "showbackground": true,
            "ticks": "",
            "zerolinecolor": "white"
           },
           "zaxis": {
            "backgroundcolor": "#E5ECF6",
            "gridcolor": "white",
            "gridwidth": 2,
            "linecolor": "white",
            "showbackground": true,
            "ticks": "",
            "zerolinecolor": "white"
           }
          },
          "shapedefaults": {
           "line": {
            "color": "#2a3f5f"
           }
          },
          "ternary": {
           "aaxis": {
            "gridcolor": "white",
            "linecolor": "white",
            "ticks": ""
           },
           "baxis": {
            "gridcolor": "white",
            "linecolor": "white",
            "ticks": ""
           },
           "bgcolor": "#E5ECF6",
           "caxis": {
            "gridcolor": "white",
            "linecolor": "white",
            "ticks": ""
           }
          },
          "title": {
           "x": 0.05
          },
          "xaxis": {
           "automargin": true,
           "gridcolor": "white",
           "linecolor": "white",
           "ticks": "",
           "title": {
            "standoff": 15
           },
           "zerolinecolor": "white",
           "zerolinewidth": 2
          },
          "yaxis": {
           "automargin": true,
           "gridcolor": "white",
           "linecolor": "white",
           "ticks": "",
           "title": {
            "standoff": 15
           },
           "zerolinecolor": "white",
           "zerolinewidth": 2
          }
         }
        },
        "title": {
         "text": "Heston vs Market Implied Volatility Surfaces"
        },
        "width": 1000
       }
      }
     },
     "metadata": {},
     "output_type": "display_data"
    }
   ],
   "source": [
    "import numpy as np\n",
    "import plotly.graph_objects as go\n",
    "from plotly.subplots import make_subplots\n",
    "from scipy.stats import norm\n",
    "import plotly.io as pio # Import plotly.io to save the plot\n",
    "\n",
    "# Data for the volatility surface - precompute meshgrid\n",
    "strikes = [90, 95, 100, 105, 110]\n",
    "maturities = [1/12, 3/12, 6/12, 1, 2]    # in years\n",
    "maturity_labels = ['1 Month', '3 Months', '6 Months', '1 Year', '2 Years']\n",
    "\n",
    "# Market volatility values (in %)\n",
    "market_vols = np.array([\n",
    "    [28.0, 24.5, 22.0, 20.5, 19.5],  # 1 month\n",
    "    [27.5, 24.0, 21.8, 20.3, 19.3],  # 3 months\n",
    "    [27.0, 23.5, 21.5, 20.0, 19.0],  # 6 months\n",
    "    [26.5, 23.0, 21.2, 19.8, 18.8],  # 1 year\n",
    "    [26.0, 22.5, 21.0, 19.5, 18.5]   # 2 years\n",
    "])\n",
    "\n",
    "# Create meshgrid for 3D surface\n",
    "X, Y = np.meshgrid(strikes, maturities)\n",
    "\n",
    "def heston_paths(S0, v0, kappa, theta, xi, rho, r, T, N, M):\n",
    "    \"\"\"\n",
    "    Simulate Heston paths using Euler discretization\n",
    "    S0: initial stock price\n",
    "    v0: initial variance\n",
    "    kappa: mean reversion speed\n",
    "    theta: long-run variance\n",
    "    xi: volatility of variance\n",
    "    rho: correlation\n",
    "    r: risk-free rate\n",
    "    T: time horizon\n",
    "    N: number of time steps\n",
    "    M: number of paths\n",
    "    \"\"\"\n",
    "    dt = T/N\n",
    "    \n",
    "    # Initialize arrays\n",
    "    S = np.zeros((N+1, M))\n",
    "    v = np.zeros((N+1, M))\n",
    "    S[0] = S0\n",
    "    v[0] = v0\n",
    "    \n",
    "    # Generate correlated random numbers\n",
    "    Z1 = np.random.standard_normal((N, M))\n",
    "    Z2 = rho * Z1 + np.sqrt(1-rho**2) * np.random.standard_normal((N, M))\n",
    "    \n",
    "    # Simulate paths\n",
    "    for i in range(N):\n",
    "        # Ensure variance remains non-negative\n",
    "        v[i+1] = np.maximum(v[i] + kappa*(theta - v[i])*dt + xi*np.sqrt(v[i]*dt)*Z1[i], 0)\n",
    "        S[i+1] = S[i] * np.exp((r - 0.5*v[i])*dt + np.sqrt(v[i]*dt)*Z2[i])\n",
    "    \n",
    "    return S, v\n",
    "\n",
    "def bs_implied_vol(S0, K, T, r, price, call=True):\n",
    "    \"\"\"Calculate BS implied volatility using Newton-Raphson\"\"\"\n",
    "    def bs_price(sigma):\n",
    "        # Black-Scholes price formula\n",
    "        d1 = (np.log(S0/K) + (r + 0.5*sigma**2)*T)/(sigma*np.sqrt(T))\n",
    "        d2 = d1 - sigma*np.sqrt(T)\n",
    "        if call:\n",
    "            return S0*norm.cdf(d1) - K*np.exp(-r*T)*norm.cdf(d2)\n",
    "        else:\n",
    "            return K*np.exp(-r*T)*norm.cdf(-d2) - S0*norm.cdf(-d1)\n",
    "    \n",
    "    sigma = 0.3  # Initial guess for volatility\n",
    "    for _ in range(100): # Max 100 iterations for convergence\n",
    "        price_diff = bs_price(sigma) - price\n",
    "        if abs(price_diff) < 1e-5: # Convergence criterion\n",
    "            return sigma\n",
    "        d1 = (np.log(S0/K) + (r + 0.5*sigma**2)*T)/(sigma*np.sqrt(T))\n",
    "        vega = S0*np.sqrt(T)*norm.pdf(d1) # Vega for Newton-Raphson\n",
    "        if vega == 0: # Avoid division by zero\n",
    "            return sigma\n",
    "        sigma = sigma - price_diff/vega\n",
    "        if sigma <= 0: # Ensure sigma remains positive\n",
    "            sigma = 0.01\n",
    "    return sigma # Return the best estimate if not converged\n",
    "\n",
    "# Fixed parameters for plot\n",
    "S0 = 100\n",
    "v0 = 5.208/100  # Initial variance (converted from percentage)\n",
    "kappa = 2.0\n",
    "theta = 0.04\n",
    "xi = 0.3\n",
    "rho = -0.7\n",
    "r = 0.02\n",
    "\n",
    "# Calculate Heston implied volatility surface\n",
    "heston_vols = np.zeros_like(market_vols)\n",
    "N_paths = 100000 # Number of simulation paths\n",
    "\n",
    "for i, T in enumerate(maturities):\n",
    "    N_steps = int(T * 252)  # Daily steps (assuming 252 trading days in a year)\n",
    "    if N_steps == 0: # Ensure at least one step for very short maturities\n",
    "        N_steps = 1\n",
    "    for j, K in enumerate(strikes):\n",
    "        # Simulate paths\n",
    "        S, v = heston_paths(S0, v0, kappa, theta, xi, rho, r, T, N_steps, N_paths)\n",
    "        \n",
    "        # Calculate option price (for a call option)\n",
    "        payoffs = np.maximum(S[-1] - K, 0)\n",
    "        price = np.exp(-r*T) * np.mean(payoffs)\n",
    "        \n",
    "        # Convert to implied vol\n",
    "        try:\n",
    "            impl_vol = bs_implied_vol(S0, K, T, r, price) * 100  # Convert to percentage\n",
    "            heston_vols[i,j] = impl_vol\n",
    "        except Exception as e:\n",
    "            print(f\"Could not calculate implied volatility for T={T}, K={K}: {e}\")\n",
    "            heston_vols[i,j] = np.nan # Assign NaN if calculation fails\n",
    "# Create figure with two subplots\n",
    "fig = make_subplots(\n",
    "    rows=1, cols=2,\n",
    "    specs=[[{'type': 'surface'}, {'type': 'surface'}]],\n",
    "    subplot_titles=('Heston Implied Volatility Surface', 'Market Implied Volatility Surface')\n",
    ")\n",
    "\n",
    "# Add Heston surface\n",
    "fig.add_trace(\n",
    "    go.Surface(x=X, y=Y, z=heston_vols, colorscale='Viridis', opacity=0.7, showscale=True),\n",
    "    row=1, col=1\n",
    ")\n",
    "\n",
    "# Add Market surface\n",
    "fig.add_trace(\n",
    "    go.Surface(x=X, y=Y, z=market_vols, colorscale='Viridis', opacity=0.7, showscale=True),\n",
    "    row=1, col=2\n",
    ")\n",
    "\n",
    "# Update layout\n",
    "fig.update_layout(\n",
    "    title='Heston vs Market Implied Volatility Surfaces',\n",
    "    scene=dict(\n",
    "        xaxis_title='Strike Price',\n",
    "        yaxis_title='Time to Maturity (Years)', \n",
    "        zaxis_title='Implied Volatility (%)',\n",
    "        xaxis=dict(gridcolor='darkgray', showgrid=True, color='darkgray', backgroundcolor='rgb(30, 30, 35)'),\n",
    "        yaxis=dict(gridcolor='darkgray', showgrid=True, color='darkgray', backgroundcolor='rgb(30, 30, 35)'),\n",
    "        zaxis=dict(gridcolor='darkgray', showgrid=True, color='darkgray', backgroundcolor='rgb(30, 30, 35)'),\n",
    "        bgcolor='rgba(0,0,0,0)',\n",
    "        camera=dict(eye=dict(x=1.5, y=1.5, z=1.2))\n",
    "    ),\n",
    "    scene2=dict(\n",
    "        xaxis_title='Strike Price',\n",
    "        yaxis_title='Time to Maturity (Years)',\n",
    "        zaxis_title='Implied Volatility (%)',\n",
    "        xaxis=dict(gridcolor='darkgray', showgrid=True, color='darkgray', backgroundcolor='rgb(30, 30, 35)'),\n",
    "        yaxis=dict(gridcolor='darkgray', showgrid=True, color='darkgray', backgroundcolor='rgb(30, 30, 35)'),\n",
    "        zaxis=dict(gridcolor='darkgray', showgrid=True, color='darkgray', backgroundcolor='rgb(30, 30, 35)', range=[np.min(market_vols)-2, np.max(market_vols)+2]),\n",
    "        bgcolor='rgba(0,0,0,0)',\n",
    "        camera=dict(eye=dict(x=1.5, y=1.5, z=1.2))\n",
    "    ),\n",
    "    width=1000,\n",
    "    height=600,\n",
    "    paper_bgcolor='rgba(0,0,0,0)',\n",
    "    font=dict(color='white')\n",
    ")\n",
    "\n",
    "fig.show()\n"
   ]
  },
  {
   "cell_type": "markdown",
   "id": "7afb6966",
   "metadata": {},
   "source": [
    "---"
   ]
  },
  {
   "cell_type": "markdown",
   "id": "30e590e6",
   "metadata": {},
   "source": [
    "### 5.) Exotic Pricing Functional Approximation\n",
    "\n",
    "Let $B$ be the barrier level and $\\tau$ be the first hitting time of $S_t$ to $B$\n",
    "  \n",
    " For an up-and-out barrier option with maturity $T$:\n",
    "  \n",
    " $V(S_0, v_0; \\hat{\\theta}) = \\mathbb{E}^\\mathbb{Q}\\left[e^{-rT}(S_T - K)^+\\mathbf{1}_{\\{\\tau > T\\}} \\mid S_0, v_0\\right]$\n",
    "\n",
    " We can approximate the price of this price using monte carlo simulation.\n",
    "\n",
    "How do we *know* simulation works? Stay tuned for a video where we will discuss *why* simulation methods work to approximate these values!"
   ]
  },
  {
   "cell_type": "code",
   "execution_count": 8,
   "id": "4e99cad6",
   "metadata": {},
   "outputs": [
    {
     "data": {
      "application/vnd.jupyter.widget-view+json": {
       "model_id": "6d0f7dfe932449aa8cfdc5f29251748f",
       "version_major": 2,
       "version_minor": 0
      },
      "text/plain": [
       "interactive(children=(IntSlider(value=1000, description='Number of Paths:', layout=Layout(width='400px'), max=…"
      ]
     },
     "metadata": {},
     "output_type": "display_data"
    }
   ],
   "source": [
    "def simulate_barrier_option(num_paths=1000, S0=100, K=100, B=120, T=1, r=0.05, v0=0.04, kappa=2, theta=0.04, sigma=0.3, rho=-0.7):\n",
    "    \"\"\"\n",
    "    Simulate up-and-out barrier option price using Heston model\n",
    "    \"\"\"\n",
    "    dt = 1/252  # Daily steps\n",
    "    N = int(T/dt)\n",
    "    \n",
    "    # Initialize arrays\n",
    "    S = np.zeros((num_paths, N+1))\n",
    "    v = np.zeros((num_paths, N+1))\n",
    "    S[:, 0] = S0\n",
    "    v[:, 0] = v0\n",
    "    \n",
    "    # Generate correlated random numbers\n",
    "    Z1 = np.random.normal(0, 1, (num_paths, N))\n",
    "    Z2 = rho * Z1 + np.sqrt(1 - rho**2) * np.random.normal(0, 1, (num_paths, N))\n",
    "    \n",
    "    # Simulate paths\n",
    "    for t in range(N):\n",
    "        S[:, t+1] = S[:, t] * np.exp((r - 0.5*v[:, t])*dt + np.sqrt(v[:, t]*dt)*Z1[:, t])\n",
    "        v[:, t+1] = np.maximum(v[:, t] + kappa*(theta - v[:, t])*dt + sigma*np.sqrt(v[:, t]*dt)*Z2[:, t], 0)\n",
    "    \n",
    "    # Calculate payoff (up-and-out barrier option)\n",
    "    max_prices = np.maximum.accumulate(S, axis=1)\n",
    "    barrier_not_hit = (max_prices[:, -1] < B)\n",
    "    payoff = np.maximum(S[:, -1] - K, 0) * barrier_not_hit\n",
    "    \n",
    "    # Discount payoff\n",
    "    price = np.exp(-r*T) * np.mean(payoff)\n",
    "    \n",
    "    return price, S\n",
    "\n",
    "def plot_barrier_paths(S, B, K, price, num_display=100):\n",
    "    \"\"\"\n",
    "    Plot sample paths with barrier level\n",
    "    \"\"\"\n",
    "    plt.figure(figsize=(12, 6))\n",
    "    \n",
    "    # Get final values and barrier hits\n",
    "    final_values = S[:, -1]\n",
    "    max_values = np.maximum.accumulate(S, axis=1)[:, -1]\n",
    "    barrier_hit = max_values >= B\n",
    "    itm = final_values > K\n",
    "    \n",
    "    # Plot paths with different colors based on conditions\n",
    "    for i in range(min(len(S), num_display)):\n",
    "        if barrier_hit[i]:\n",
    "            plt.plot(S[i].T, color='red', alpha=0.1)\n",
    "        elif itm[i]:\n",
    "            plt.plot(S[i].T, color='green', alpha=1.0)\n",
    "        else:\n",
    "            plt.plot(S[i].T, color='yellow', alpha=0.1)\n",
    "    \n",
    "    plt.axhline(y=B, color='r', linestyle='--', label='Barrier')\n",
    "    plt.axhline(y=K, color='blue', linestyle='--', label='Strike')\n",
    "    plt.grid(True, alpha=0.3)\n",
    "    plt.title(f'Sample Price Paths (Number of Paths: {len(S)}, Option Price: ${price:.4f})')\n",
    "    plt.xlabel('Time Steps')\n",
    "    plt.ylabel('Stock Price')\n",
    "    \n",
    "    # Make legend background transparent\n",
    "    legend = plt.legend(facecolor='none', edgecolor='none')\n",
    "    plt.setp(legend.get_texts(), color='white')\n",
    "    \n",
    "    # Set transparent background\n",
    "    plt.gca().set_facecolor('none')\n",
    "    plt.gcf().patch.set_alpha(0.0)\n",
    "    \n",
    "    plt.show()\n",
    "\n",
    "def barrier_option_widget():\n",
    "    \"\"\"\n",
    "    Create interactive widget for barrier option simulation\n",
    "    \"\"\"\n",
    "    style = {'description_width': 'initial'}\n",
    "    layout = widgets.Layout(width='400px')\n",
    "    \n",
    "    paths_slider = widgets.IntSlider(\n",
    "        value=1000,\n",
    "        min=10,\n",
    "        max=10000,\n",
    "        step=10,\n",
    "        description='Number of Paths:',\n",
    "        style=style,\n",
    "        layout=layout\n",
    "    )\n",
    "    \n",
    "    def update(paths):\n",
    "        price, S = simulate_barrier_option(num_paths=paths)\n",
    "        plot_barrier_paths(S, B=120, K=100, price=price)\n",
    "    \n",
    "    return widgets.interactive(update, paths=paths_slider)\n",
    "\n",
    "# Display the interactive widget\n",
    "display(barrier_option_widget())\n"
   ]
  },
  {
   "cell_type": "code",
   "execution_count": 9,
   "id": "32a22041",
   "metadata": {},
   "outputs": [
    {
     "data": {
      "application/vnd.jupyter.widget-view+json": {
       "model_id": "25555f4e6f96476dacd02f600921f366",
       "version_major": 2,
       "version_minor": 0
      },
      "text/plain": [
       "interactive(children=(IntSlider(value=1000, description='Number of Paths:', layout=Layout(width='400px'), max=…"
      ]
     },
     "metadata": {},
     "output_type": "display_data"
    }
   ],
   "source": [
    "def simulate_vanilla_call(S0=100, K=100, r=0.05, sigma=0.2, T=1, num_paths=1000, num_steps=252):\n",
    "    \"\"\"\n",
    "    Simulate vanilla call option price using Monte Carlo\n",
    "    \"\"\"\n",
    "    dt = T/num_steps\n",
    "    S = np.zeros((num_paths, num_steps+1))\n",
    "    S[:, 0] = S0\n",
    "    \n",
    "    # Generate paths\n",
    "    for t in range(num_steps):\n",
    "        Z = np.random.standard_normal(num_paths)\n",
    "        S[:, t+1] = S[:, t] * np.exp((r - 0.5 * sigma**2) * dt + sigma * np.sqrt(dt) * Z)\n",
    "    \n",
    "    # Calculate payoffs\n",
    "    payoffs = np.maximum(S[:, -1] - K, 0)\n",
    "    price = np.exp(-r * T) * np.mean(payoffs)\n",
    "    \n",
    "    return price, S\n",
    "\n",
    "def plot_vanilla_paths(S, K=100, price=None):\n",
    "    \"\"\"\n",
    "    Plot simulated price paths for vanilla call option\n",
    "    \"\"\"\n",
    "    plt.figure(figsize=(12, 6))\n",
    "    \n",
    "    # Plot paths\n",
    "    for i in range(len(S)):\n",
    "        if S[i, -1] > K:  # ITM paths\n",
    "            plt.plot(S[i].T, color='green', alpha=0.1)\n",
    "        else:\n",
    "            plt.plot(S[i].T, color='yellow', alpha=0.1)\n",
    "    \n",
    "    plt.axhline(y=K, color='yellow', linestyle='--', label='Strike')\n",
    "    plt.grid(True, alpha=0.3)\n",
    "    plt.title(f'Sample Price Paths (Number of Paths: {len(S)}, Option Price: ${price:.4f})')\n",
    "    plt.xlabel('Time Steps')\n",
    "    plt.ylabel('Stock Price')\n",
    "    \n",
    "    # Make legend background transparent\n",
    "    legend = plt.legend(facecolor='none', edgecolor='none')\n",
    "    plt.setp(legend.get_texts(), color='white')\n",
    "    \n",
    "    # Set transparent background\n",
    "    plt.gca().set_facecolor('none')\n",
    "    plt.gcf().patch.set_alpha(0.0)\n",
    "    \n",
    "    plt.show()\n",
    "\n",
    "def vanilla_call_widget():\n",
    "    \"\"\"\n",
    "    Create interactive widget for vanilla call option simulation\n",
    "    \"\"\"\n",
    "    style = {'description_width': 'initial'}\n",
    "    layout = widgets.Layout(width='400px')\n",
    "    \n",
    "    paths_slider = widgets.IntSlider(\n",
    "        value=1000,\n",
    "        min=10,\n",
    "        max=10000,\n",
    "        step=10,\n",
    "        description='Number of Paths:',\n",
    "        style=style,\n",
    "        layout=layout\n",
    "    )\n",
    "    \n",
    "    def update(paths):\n",
    "        price, S = simulate_vanilla_call(num_paths=paths)\n",
    "        plot_vanilla_paths(S, K=100, price=price)\n",
    "    \n",
    "    return widgets.interactive(update, paths=paths_slider)\n",
    "\n",
    "# Display the interactive widget\n",
    "display(vanilla_call_widget())\n"
   ]
  },
  {
   "cell_type": "markdown",
   "id": "af17e7d7",
   "metadata": {},
   "source": [
    "#### <u>Price Adjustments</u>\n",
    "\n",
    "After calculating the base exotic option price using our calibrated model, several adjustments are typically made:\n",
    "\n",
    " Counterparty Risk Adjustment\n",
    "- Credit Value Adjustment (CVA) accounts for counterparty default risk\n",
    "- Debt Value Adjustment (DVA) accounts for own default risk \n",
    "- These adjustments reduce the price when default risk is higher\n",
    "\n",
    "Liquidity Adjustment  \n",
    "- Exotic options are less liquid than vanilla options\n",
    "- Wider bid-ask spreads reflect higher hedging costs\n",
    "- Size of adjustment depends on:\n",
    "  - Option complexity\n",
    "  - Market conditions\n",
    "  - Position size\n",
    "\n",
    "Profit Margin\n",
    "- Trading desks add profit margin to cover:\n",
    "  - Operating costs\n",
    "  - Capital charges\n",
    "  - Return on equity requirements\n",
    "- Typical margins range from 2-10% depending on:\n",
    "  - Client relationship\n",
    "  - Competition\n",
    "  - Market conditions\n",
    "\n",
    "The final quote sent to clients incorporates all these adjustments on top of the theoretical price.\n",
    " Let $Q$ be the final quote sent to clients. Then:\n",
    "\n",
    " $Q = P + CVA + DVA + L + M$\n",
    "\n",
    " where:\n",
    " - $P$ is the theoretical price from the calibrated model\n",
    " - $CVA$ is the credit value adjustment\n",
    " - $DVA$ is the debt value adjustment  \n",
    " - $L$ is the liquidity adjustment\n",
    " - $M$ is the profit margin\n",
    "\n",
    "**You're then ready to fire off that quote on IB**"
   ]
  },
  {
   "cell_type": "markdown",
   "id": "6f4c5ea9",
   "metadata": {},
   "source": [
    "---"
   ]
  },
  {
   "cell_type": "markdown",
   "id": "d72cc632",
   "metadata": {},
   "source": [
    "### 6.) Closing Thoughts and Future Topics\n",
    "\n",
    "#### <u>General Recipe used Herein</u>\n",
    "\n",
    " 1.) Model Selection ($\\mathcal{M}$, $\\zeta$) $\\rightarrow$ Heston\n",
    " \n",
    " 2.) Determine Vanilla Pricing Scheme $\\rightarrow$ Simulation\n",
    " \n",
    " 3.) Calibrate Model to Market Volatility Surface $\\rightarrow$ Assume we have $\\hat{\\theta}$\n",
    " \n",
    " 4.) Determine Exotic Option Pricing Scheme $\\rightarrow$ Simulation\n",
    " \n",
    " 5.) Apply Price Adjustments $\\rightarrow$ Counterparty Risk, Liquidity, Profit\n",
    " \n",
    " 6.) Send Quote $\\rightarrow$ IB (Instant Bloomberg)\n",
    "\n",
    "---\n",
    "\n",
    "<u>Pricing Theory</u>\n",
    "\n",
    "Diving deeper into stochastic calculus and different model frameworks, we can consider\n",
    "\n",
    "- Different forms of stochastic differential equations\n",
    "- Different discretization schemes for analytically intractable equations\n",
    "- Fancy tricks for approximate or quasi-closed-form solutions (i.e. Heston FFT)\n",
    "\n",
    "<u>Efficiency</u>\n",
    "\n",
    "Calibration can be **terribly** slow depending on our methodology for developing a price, we can consider\n",
    "\n",
    "- Models with approximate or asymptotic solutions (for example, SABR)\n",
    "- Pricing functional approximation using neural networks\n",
    "\n",
    "<u>Simulation</u>\n",
    "- *Why* does simulation work? (LLN)\n",
    "\n",
    "<u>Book Management</u>\n",
    "- How do we go about making adjustments to our simulated (model) price?\n",
    "- How can we dynamically hedge our exposures if our model is wrong?\n",
    "- How does our opinion on exposures (for example, volatility) impact our hedging?"
   ]
  },
  {
   "cell_type": "markdown",
   "id": "4c3eae35",
   "metadata": {},
   "source": [
    "####  $\\text{Copyright © 2025 Quant Guild} \\quad \\quad \\quad \\quad \\text{Author: Roman Paolucci}$"
   ]
  }
 ],
 "metadata": {
  "kernelspec": {
   "display_name": "Python 3",
   "language": "python",
   "name": "python3"
  },
  "language_info": {
   "codemirror_mode": {
    "name": "ipython",
    "version": 3
   },
   "file_extension": ".py",
   "mimetype": "text/x-python",
   "name": "python",
   "nbconvert_exporter": "python",
   "pygments_lexer": "ipython3",
   "version": "3.10.11"
  }
 },
 "nbformat": 4,
 "nbformat_minor": 5
}
