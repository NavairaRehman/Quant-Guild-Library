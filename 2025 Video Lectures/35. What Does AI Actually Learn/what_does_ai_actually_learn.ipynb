{
 "cells": [
  {
   "cell_type": "markdown",
   "id": "5f153074",
   "metadata": {},
   "source": [
    "## What Does AI Actually Learn\n",
    "\n",
    "##### ▶️ Related Quant Guild Videos:\n",
    "\n",
    "- [Why Monte Carlo Simulation Works](https://youtu.be/-4sf43SLL3A)\n",
    "\n",
    "- [Analyzing Stock Returns with Principal Component Analysis in Python](https://youtu.be/oKJ5Rb3PI-o)\n",
    "\n",
    "- [Can AI Learn Black-Scholes?](https://youtu.be/aRr3chiwkrI)\n",
    "\n",
    "- [Expected Stock Returns Don't Exist](https://youtu.be/iXNSBn5xqrA)\n",
    "\n",
    "- [How to Trade](https://youtu.be/NqOj__PaMec)\n",
    "\n",
    "- [How to Trade with an Edge](https://youtu.be/NlqpDB2BhxE)\n",
    " \n",
    "##### [📚 Visit the Quant Guild Library for more Jupyter Notebooks](https://github.com/romanmichaelpaolucci/Quant-Guild-Library)\n",
    "\n",
    "##### [🚀 Master your Quantitative Skills with Quant Guild](https://quantguild.com)\n",
    "\n",
    "##### [📅 Take Live Classes with Roman on Quant Guild](https://quantguild.com/live-classes)\n",
    "\n",
    "---"
   ]
  },
  {
   "cell_type": "code",
   "execution_count": 1,
   "id": "774373a3",
   "metadata": {},
   "outputs": [
    {
     "data": {
      "text/html": [
       "<style>\n",
       "/* Overwrite the hard-coded white background for ipywidgets */\n",
       ".cell-output-ipywidget-background {\n",
       "    background-color: transparent !important;\n",
       "}\n",
       "/* Set widget foreground text and color to match the VS Code dark theme */\n",
       ":root {\n",
       "    --jp-widgets-color: var(--vscode-editor-foreground);\n",
       "    --jp-widgets-font-size: var(--vscode-editor-font-size);\n",
       "}\n",
       "</style>\n"
      ],
      "text/plain": [
       "<IPython.core.display.HTML object>"
      ]
     },
     "metadata": {},
     "output_type": "display_data"
    }
   ],
   "source": [
    "%%html\n",
    "<style>\n",
    "/* Overwrite the hard-coded white background for ipywidgets */\n",
    ".cell-output-ipywidget-background {\n",
    "    background-color: transparent !important;\n",
    "}\n",
    "/* Set widget foreground text and color to match the VS Code dark theme */\n",
    ":root {\n",
    "    --jp-widgets-color: var(--vscode-editor-foreground);\n",
    "    --jp-widgets-font-size: var(--vscode-editor-font-size);\n",
    "}\n",
    "</style>"
   ]
  },
  {
   "cell_type": "code",
   "execution_count": 2,
   "id": "afd8df2c",
   "metadata": {},
   "outputs": [
    {
     "data": {
      "application/vnd.plotly.v1+json": {
       "config": {
        "plotlyServerURL": "https://plot.ly"
       },
       "data": [
        {
         "marker": {
          "color": "blue",
          "opacity": 0.7,
          "size": 5
         },
         "mode": "markers",
         "scene": "scene",
         "showlegend": false,
         "type": "scatter3d",
         "x": {
          "bdata": "fDCpKCrK3z8qBd4FpbLBv2heJFDdueQ/K6oBjlRe+D9AplffvPjNvzvbcCYz+M2/CHRAqHRE+T/z1/BG047oP4ueeUveC96/fS1q4aZc4T9wG8Guoqjdv+fvFiuEzt2/cPmepZ74zj++Ne6+y5z+vxLk7nBDmfu/YzyhakL+4b95UaNnjjTwvx+GFtigHNQ/+QOLgYgO7b/HExTEy5j2v0ENnx9Mc/c/2Zhm4TzmzL/GNbFGh0mxP2InDcHEy/a/KPrKUZVr4b81BjE/bGW8PxX1zj14avK/6N19s28L2D/SOz2hbjjjv6DS80Icq9K/p/2pOS5B479X9hhz7qL9P4aDsNZupIu/RsyHS2Ls8L83Lh+1SVLqPxx64lmTiPO/tWnv0gq8yj/DMFAPz1r/v/9asANAQPW/QDr0vL8yyT++nUiqhKHnPwwupFVl78U/XzGyNiCbvb/hr1BvSEXTvwa4sKwGqPe/J6aouPYI57/ZriIKG3vdv2LC1/746fA/iEEAkdf91T9OFQ2YaTX8vzhYbbDKvdQ/QA8qJjCl2L9NOahTWKnlv/nsCSfakuM/1Pz0Wvl+8D8enOD2C83tP1MVD7Xe2uq/zylztCLK07+KTA+JazPVPwBoGGqqN+8/VWYobMqq3r8Tbn1grMPHvzBuPE2Ms/G/9PWajqkj87+w1UonNgDqP/3Ng74os/U/+iMrXUFvsr9qgA6DeA7wP0KkKG0LJdc/rwoBL9Kk5L+P6aQIGyHXPyBgEDvMm/g/UhmlZMpXor8x1znJxwj5P19fz+s89QTAv1gZewZN6j8hrkt3t0i2P8Dt4LnvItO/OIpGXqJ9tz/iHOwPFc3/v8FsDls1Hsy/04nor+7a1j8349E5dKX3PzA8v2yrleC/S3Lu+S3f6b+hdpfJZA7gv5AGx2H5Su0/gMUgGEIK1T/02ryry/PgvwNc6tKvbOA/OiugAxPauD9TvHjHI//uP3hIyAw4d+a/l5Lxpmr41L8apYzLTBjZvxD0dqaOave/IzBrdqLz0j8UgR0sIbXQPw06yBDZ8XQ/hE70gPMGzr8=",
          "dtype": "f8"
         },
         "y": {
          "bdata": "BCaNylul9r90hh9c2uvavws0Ft4I79W/fDE0YUGs6b/Ac3WcAqXEvzMc/B/429k/GwJ+RNEt/j+RJ1zWkFjGP517TqK0e9A/YFWJNeMOs7/tciNySbP+vzhGxw90Jpu/rRjbe37Wrj+4CNpHuLQDQOSGYbpIn8i/cjBhOY1M0z8IMle3vcWhv88R8r3nsvK/XG9XkwBJ8j9WfwXd1Q/oP9CD1DoiUOk//I03uLMZ7b80xIdy2HH2PxrkSGH7bfa/S4cph4jH4j9pi2GZDYYBQGn2PTx5su+/syyOahwf4r/knA16wIK5P29cmPl4HOC/2oM4dYTP+L/WI4LWV42xP6z3zS0y//C/LYVNoFZP3j+P4yVf7Gvtv8btxwSIzPg/3zBiNWkQ6b/G09nnp5zUv6+9akJVCOo/EVsOyJ6x879VNCM6aB3NP9OKTYUO6vQ/uPAUV0C4+b9xtRAQFaLHP87DhXHrodA/FIwxZrEE6T/Ywx/UjMrzvwa+Dx2XIPW/c+xXzL6z4D81ybwAzAHTP9yCByoTCNA/bQZjHDUs1j8B1nQ0w8Llv50+1zh9us0/Kj4LDLPB0j9/yEiB99vmv987sV822v0/4GTFUEdT3j9piIFBlA/zvwzmpLZ8AuU/U2I0nZcw779TSQgNzC/pPyEIkoSbifI/3Du3kAdD6r/tPhst+tPuP3e1ZrEAa9o/56rQG1FO6j/5fjyZQ1n+P92Zh7bgaM+/8kr3TZse6L+U+RH35nbsvwxYtSseG+q/vzZmCPC8s79JabMXb9XVP3p/jlNNtdE/chRNAUl46j/EwjZjvKCKPwoy0PKsQfc/auDaNiPw0L9MuFAN6MIFQKFsmod3BeQ/fngKr9Vt6799RAssYCLxv2JDLPvT4N4/Gn5stW2azL8Pgm6QF9nmPy3tMXaGSd4/qoMQZuqksr9D/LEj7xjrv/pkh3HQPPi/HGITc7OT3L8ogL5xnmfrPyehqH5sZ8s/3tQeyYvu87+mMWnmyirGP1UCIToKqdg/we3ZY49I7L9MGk6nQ63DP+ihInyIza0/47UXOZtJ8r8=",
          "dtype": "f8"
         },
         "z": {
          "bdata": "/bmLRyqN4z8Yi3OCuKzUP9Y1L9Jwvek/SOZORulO8j/UIFV4I0Lnv5CPHke+1uO/2qpTaqmo1j9Xrvcd+fDcP+guEXsTr7A/qCXg+gnVAEC2yzTdL/fgPzb+v41HvNs/K0J7eI4z4T99z0I9wbXnv1yyFjFWX+S/KPN2PzhDwz/u6CkLwd3lv968znYw1Mo/utKvjALM578atYL5fA/hv2pqUYZlBfc/+QiC4z456r8k/JysUzS1P/iH/0Fagu6/yBcqIWqI4L+ynuT2aODBP2Cxlxn4c72/3q/CI5wG1L97xphNSNnhv0AbBBdSl9Y/WRwsbOomzr8YnEuOcM7kP4svkCjhl80/wLLJuVGc57/fTemmuwr4Pz/vo31z/ta/xrQ3D2Zi6b/PNv3ZZ4nbv142JKqxi+y/uPrtbQVo5z+oy7pZ6y/Mv2wexF/bHNG/PpHjROlB4T8L0A8ARo/TPwtkXS3ph/G/gHBpECVE4b9PYDCESWvAv1aCuy3EStA/GrmEuKA07D9WFRqCPrHYv7JFYveEquK/ZigUjSCL0T+XRHGZ5s7vPy0wSnq15+Q/VHyskrlJ4L9jHXANvQ7HPwAz7A8Ee4E/AMg+wdxS4b+eybw71OfhP16xEA+0juE/jl3NktBi2r9Cn5BkmhbPv3jTWshZeQHA6tgKURWf5r8OU5e6aECzv1aWV9c/LNO/gilLcYUq5D9AdP9BSGPpv/g7izXy+a+/sOFZMqEflz+1Q9c2gBzwP7CszCVQ5re/IDu8mZjC4j+l3+6begDaP3bi0QbwT/W/ZBjOT9r60z++OYfiyH+/P/oV7YzMxuW/ADsUaUaIvT9ghgo8z1P1vxgqdMb3L8G/fOrwEhiC4z/xOGNJeTX3P1GwaaZG3uu/jrEUfxLM6z9zujAVWE/0v0H3tRUGpbo/+6rujQQS2j/7c6k4kFHDPwBYh5wEo8I/CLvEHXdrjT8x+decp0fAvy/DcscsiuG/Zv2J4rlr4j+Q7nn9bN6aP34jQy8ymuu/+gFQSZ7k5j8HvUTInsHJPyyIpZ9cXdk/5LAdcClG3j8=",
          "dtype": "f8"
         }
        },
        {
         "marker": {
          "color": "green",
          "opacity": 0.7,
          "size": 5
         },
         "mode": "markers",
         "name": "Positive Return",
         "scene": "scene2",
         "type": "scatter3d",
         "x": {
          "bdata": "fDCpKCrK3z8qBd4FpbLBv2heJFDdueQ/K6oBjlRe+D8IdECodET5P/PX8EbTjug/i555S94L3r99LWrhplzhP3Abwa6iqN2/5+8WK4TO3b9w+Z6lnvjOP2M8oWpC/uG/H4YW2KAc1D9BDZ8fTHP3P8Y1sUaHSbE/NQYxP2xlvD+g0vNCHKvSv1f2GHPuov0/hoOw1m6ki783Lh+1SVLqP0A69Ly/Msk/XzGyNiCbvb/hr1BvSEXTv2LC1/746fA/iEEAkdf91T9ADyomMKXYv005qFNYqeW/+ewJJ9qS4z8enOD2C83tP1MVD7Xe2uq/ikwPiWsz1T8AaBhqqjfvP/ojK11Bb7K/rwoBL9Kk5L+P6aQIGyHXP1IZpWTKV6K/Mdc5yccI+T+/WBl7Bk3qPyGuS3e3SLY/OIpGXqJ9tz/Tieiv7trWPzfj0Tl0pfc/S3Lu+S3f6b+QBsdh+UrtP4DFIBhCCtU/9Nq8q8vz4L8DXOrSr2zgPzoroAMT2rg/l5Lxpmr41L8apYzLTBjZvyMwa3ai89I/FIEdLCG10D8NOsgQ2fF0P4RO9IDzBs6/",
          "dtype": "f8"
         },
         "y": {
          "bdata": "BCaNylul9r90hh9c2uvavws0Ft4I79W/fDE0YUGs6b8bAn5E0S3+P5EnXNaQWMY/nXtOorR70D9gVYk14w6zv+1yI3JJs/6/OEbHD3Qmm7+tGNt7ftauP3IwYTmNTNM/zxHyveey8r/Qg9Q6IlDpPzTEh3LYcfY/aYthmQ2GAUBvXJj5eBzgv9YjgtZXjbE/rPfNLTL/8L+P4yVf7GvtvxFbDsiesfO/uPAUV0C4+b9xtRAQFaLHPwa+Dx2XIPW/c+xXzL6z4D9tBmMcNSzWPwHWdDTDwuW/nT7XOH26zT9/yEiB99vmv987sV822v0/aYiBQZQP878M5qS2fALlP+eq0BtRTuo/8kr3TZse6L+U+RH35nbsv782ZgjwvLO/SWmzF2/V1T9yFE0BSXjqP8TCNmO8oIo/auDaNiPw0L9+eAqv1W3rv31ECyxgIvG/Gn5stW2azL8t7TF2hkneP6qDEGbqpLK/Q/yxI+8Y67/6ZIdx0Dz4vxxiE3Ozk9y/3tQeyYvu87+mMWnmyirGP8Ht2WOPSOy/TBpOp0Otwz/ooSJ8iM2tP+O1FzmbSfK/",
          "dtype": "f8"
         },
         "z": {
          "bdata": "/bmLRyqN4z8Yi3OCuKzUP9Y1L9Jwvek/SOZORulO8j/aqlNqqajWP1eu9x358Nw/6C4RexOvsD+oJeD6CdUAQLbLNN0v9+A/Nv6/jUe82z8rQnt4jjPhPyjzdj84Q8M/3rzOdjDUyj9qalGGZQX3PyT8nKxTNLU/sp7k9mjgwT9AGwQXUpfWPxicS45wzuQ/iy+QKOGXzT/fTemmuwr4P7j67W0FaOc/PpHjROlB4T8L0A8ARo/TP1aCuy3EStA/GrmEuKA07D9mKBSNIIvRP5dEcZnmzu8/LTBKerXn5D9jHXANvQ7HPwAz7A8Ee4E/nsm8O9Tn4T9esRAPtI7hP4IpS3GFKuQ/sOFZMqEflz+1Q9c2gBzwPyA7vJmYwuI/pd/um3oA2j9kGM5P2vrTP745h+LIf78/ADsUaUaIvT986vASGILjP/E4Y0l5Nfc/jrEUfxLM6z9B97UVBqW6P/uq7o0EEto/+3OpOJBRwz8AWIecBKPCPwi7xB13a40/Zv2J4rlr4j+Q7nn9bN6aP/oBUEme5OY/B71EyJ7ByT8siKWfXF3ZP+SwHXApRt4/",
          "dtype": "f8"
         }
        },
        {
         "marker": {
          "color": "red",
          "opacity": 0.7,
          "size": 5
         },
         "mode": "markers",
         "name": "Negative Return",
         "scene": "scene2",
         "type": "scatter3d",
         "x": {
          "bdata": "QKZX37z4zb8723AmM/jNv7417r7LnP6/EuTucEOZ+795UaNnjjTwv/kDi4GIDu2/xxMUxMuY9r/ZmGbhPObMv2InDcHEy/a/KPrKUZVr4b8V9c49eGryv+jdfbNvC9g/0js9oW4447+n/ak5LkHjv0bMh0ti7PC/HHriWZOI87+1ae/SCrzKP8MwUA/PWv+//1qwA0BA9b++nUiqhKHnPwwupFVl78U/BriwrAao978npqi49gjnv9muIgobe92/ThUNmGk1/L84WG2wyr3UP9T89Fr5fvA/zylztCLK079VZihsyqrevxNufWCsw8e/MG48TYyz8b/09ZqOqSPzv7DVSic2AOo//c2Dviiz9T9qgA6DeA7wP0KkKG0LJdc/IGAQO8yb+D9fX8/rPPUEwMDt4LnvItO/4hzsDxXN/7/BbA5bNR7MvzA8v2yrleC/oXaXyWQO4L9TvHjHI//uP3hIyAw4d+a/EPR2po5q978=",
          "dtype": "f8"
         },
         "y": {
          "bdata": "wHN1nAKlxL8zHPwf+NvZP7gI2ke4tANA5IZhukifyL8IMle3vcWhv1xvV5MASfI/Vn8F3dUP6D/8jTe4sxntvxrkSGH7bfa/S4cph4jH4j9p9j08ebLvv7MsjmocH+K/5JwNesCCuT/agzh1hM/4vy2FTaBWT94/xu3HBIjM+D/fMGI1aRDpv8bT2eennNS/r71qQlUI6j9VNCM6aB3NP9OKTYUO6vQ/zsOFceuh0D8UjDFmsQTpP9jDH9SMyvO/Ncm8AMwB0z/cggcqEwjQPyo+CwyzwdI/4GTFUEdT3j9TYjSdlzDvv1NJCA3ML+k/IQiShJuJ8j/cO7eQB0Pqv+0+Gy360+4/d7VmsQBr2j/5fjyZQ1n+P92Zh7bgaM+/DFi1Kx4b6r96f45TTbXRPwoy0PKsQfc/TLhQDejCBUChbJqHdwXkP2JDLPvT4N4/D4JukBfZ5j8ogL5xnmfrPyehqH5sZ8s/VQIhOgqp2D8=",
          "dtype": "f8"
         },
         "z": {
          "bdata": "1CBVeCNC57+Qjx5Hvtbjv33PQj3Btee/XLIWMVZf5L/u6CkLwd3lv7rSr4wCzOe/GrWC+XwP4b/5CILjPjnqv/iH/0Fagu6/yBcqIWqI4L9gsZcZ+HO9v96vwiOcBtS/e8aYTUjZ4b9ZHCxs6ibOv8CyyblRnOe/P++jfXP+1r/GtDcPZmLpv882/dlnidu/XjYkqrGL7L+oy7pZ6y/Mv2wexF/bHNG/C2RdLemH8b+AcGkQJUThv09gMIRJa8C/VhUagj6x2L+yRWL3hKriv1R8rJK5SeC/AMg+wdxS4b+OXc2S0GLav0KfkGSaFs+/eNNayFl5AcDq2ApRFZ/mvw5Tl7poQLO/VpZX1z8s079AdP9BSGPpv/g7izXy+a+/sKzMJVDmt7924tEG8E/1v/oV7YzMxuW/YIYKPM9T9b8YKnTG9y/Bv1GwaaZG3uu/c7owFVhP9L8x+decp0fAvy/DcscsiuG/fiNDLzKa678=",
          "dtype": "f8"
         }
        },
        {
         "colorscale": [
          [
           0,
           "gray"
          ],
          [
           1,
           "gray"
          ]
         ],
         "name": "Trading Signal",
         "opacity": 0.3,
         "scene": "scene2",
         "showscale": false,
         "type": "surface",
         "x": {
          "bdata": "AAAAAAAAAMA5juM4juP4v3Icx3Ecx/G/VlVVVVVV5b8gx3Ecx3HMvyDHcRzHccw/VFVVVVVV5T9wHMdxHMfxPziO4ziO4/g/AAAAAAAAAEAAAAAAAAAAwDmO4ziO4/i/chzHcRzH8b9WVVVVVVXlvyDHcRzHccy/IMdxHMdxzD9UVVVVVVXlP3Acx3Ecx/E/OI7jOI7j+D8AAAAAAAAAQAAAAAAAAADAOY7jOI7j+L9yHMdxHMfxv1ZVVVVVVeW/IMdxHMdxzL8gx3Ecx3HMP1RVVVVVVeU/cBzHcRzH8T84juM4juP4PwAAAAAAAABAAAAAAAAAAMA5juM4juP4v3Icx3Ecx/G/VlVVVVVV5b8gx3Ecx3HMvyDHcRzHccw/VFVVVVVV5T9wHMdxHMfxPziO4ziO4/g/AAAAAAAAAEAAAAAAAAAAwDmO4ziO4/i/chzHcRzH8b9WVVVVVVXlvyDHcRzHccy/IMdxHMdxzD9UVVVVVVXlP3Acx3Ecx/E/OI7jOI7j+D8AAAAAAAAAQAAAAAAAAADAOY7jOI7j+L9yHMdxHMfxv1ZVVVVVVeW/IMdxHMdxzL8gx3Ecx3HMP1RVVVVVVeU/cBzHcRzH8T84juM4juP4PwAAAAAAAABAAAAAAAAAAMA5juM4juP4v3Icx3Ecx/G/VlVVVVVV5b8gx3Ecx3HMvyDHcRzHccw/VFVVVVVV5T9wHMdxHMfxPziO4ziO4/g/AAAAAAAAAEAAAAAAAAAAwDmO4ziO4/i/chzHcRzH8b9WVVVVVVXlvyDHcRzHccy/IMdxHMdxzD9UVVVVVVXlP3Acx3Ecx/E/OI7jOI7j+D8AAAAAAAAAQAAAAAAAAADAOY7jOI7j+L9yHMdxHMfxv1ZVVVVVVeW/IMdxHMdxzL8gx3Ecx3HMP1RVVVVVVeU/cBzHcRzH8T84juM4juP4PwAAAAAAAABAAAAAAAAAAMA5juM4juP4v3Icx3Ecx/G/VlVVVVVV5b8gx3Ecx3HMvyDHcRzHccw/VFVVVVVV5T9wHMdxHMfxPziO4ziO4/g/AAAAAAAAAEA=",
          "dtype": "f8",
          "shape": "10, 10"
         },
         "y": {
          "bdata": "AAAAAAAAAMAAAAAAAAAAwAAAAAAAAADAAAAAAAAAAMAAAAAAAAAAwAAAAAAAAADAAAAAAAAAAMAAAAAAAAAAwAAAAAAAAADAAAAAAAAAAMA5juM4juP4vzmO4ziO4/i/OY7jOI7j+L85juM4juP4vzmO4ziO4/i/OY7jOI7j+L85juM4juP4vzmO4ziO4/i/OY7jOI7j+L85juM4juP4v3Icx3Ecx/G/chzHcRzH8b9yHMdxHMfxv3Icx3Ecx/G/chzHcRzH8b9yHMdxHMfxv3Icx3Ecx/G/chzHcRzH8b9yHMdxHMfxv3Icx3Ecx/G/VlVVVVVV5b9WVVVVVVXlv1ZVVVVVVeW/VlVVVVVV5b9WVVVVVVXlv1ZVVVVVVeW/VlVVVVVV5b9WVVVVVVXlv1ZVVVVVVeW/VlVVVVVV5b8gx3Ecx3HMvyDHcRzHccy/IMdxHMdxzL8gx3Ecx3HMvyDHcRzHccy/IMdxHMdxzL8gx3Ecx3HMvyDHcRzHccy/IMdxHMdxzL8gx3Ecx3HMvyDHcRzHccw/IMdxHMdxzD8gx3Ecx3HMPyDHcRzHccw/IMdxHMdxzD8gx3Ecx3HMPyDHcRzHccw/IMdxHMdxzD8gx3Ecx3HMPyDHcRzHccw/VFVVVVVV5T9UVVVVVVXlP1RVVVVVVeU/VFVVVVVV5T9UVVVVVVXlP1RVVVVVVeU/VFVVVVVV5T9UVVVVVVXlP1RVVVVVVeU/VFVVVVVV5T9wHMdxHMfxP3Acx3Ecx/E/cBzHcRzH8T9wHMdxHMfxP3Acx3Ecx/E/cBzHcRzH8T9wHMdxHMfxP3Acx3Ecx/E/cBzHcRzH8T9wHMdxHMfxPziO4ziO4/g/OI7jOI7j+D84juM4juP4PziO4ziO4/g/OI7jOI7j+D84juM4juP4PziO4ziO4/g/OI7jOI7j+D84juM4juP4PziO4ziO4/g/AAAAAAAAAEAAAAAAAAAAQAAAAAAAAABAAAAAAAAAAEAAAAAAAAAAQAAAAAAAAABAAAAAAAAAAEAAAAAAAAAAQAAAAAAAAABAAAAAAAAAAEA=",
          "dtype": "f8",
          "shape": "10, 10"
         },
         "z": {
          "bdata": "AAAAAAAAAAAAAAAAAAAAAAAAAAAAAAAAAAAAAAAAAAAAAAAAAAAAAAAAAAAAAAAAAAAAAAAAAAAAAAAAAAAAAAAAAAAAAAAAAAAAAAAAAAAAAAAAAAAAAAAAAAAAAAAAAAAAAAAAAAAAAAAAAAAAAAAAAAAAAAAAAAAAAAAAAAAAAAAAAAAAAAAAAAAAAAAAAAAAAAAAAAAAAAAAAAAAAAAAAAAAAAAAAAAAAAAAAAAAAAAAAAAAAAAAAAAAAAAAAAAAAAAAAAAAAAAAAAAAAAAAAAAAAAAAAAAAAAAAAAAAAAAAAAAAAAAAAAAAAAAAAAAAAAAAAAAAAAAAAAAAAAAAAAAAAAAAAAAAAAAAAAAAAAAAAAAAAAAAAAAAAAAAAAAAAAAAAAAAAAAAAAAAAAAAAAAAAAAAAAAAAAAAAAAAAAAAAAAAAAAAAAAAAAAAAAAAAAAAAAAAAAAAAAAAAAAAAAAAAAAAAAAAAAAAAAAAAAAAAAAAAAAAAAAAAAAAAAAAAAAAAAAAAAAAAAAAAAAAAAAAAAAAAAAAAAAAAAAAAAAAAAAAAAAAAAAAAAAAAAAAAAAAAAAAAAAAAAAAAAAAAAAAAAAAAAAAAAAAAAAAAAAAAAAAAAAAAAAAAAAAAAAAAAAAAAAAAAAAAAAAAAAAAAAAAAAAAAAAAAAAAAAAAAAAAAAAAAAAAAAAAAAAAAAAAAAAAAAAAAAAAAAAAAAAAAAAAAAAAAAAAAAAAAAAAAAAAAAAAAAAAAAAAAAAAAAAAAAAAAAAAAAAAAAAAAAAAAAAAAAAAAAAAAAAAAAAAAAAAAAAAAAAAAAAAAAAAAAAAAAAAAAAAAAAAAAAAAAAAAAAAAAAAAAAAAAAAAAAAAAAAAAAAAAAAAAAAAAAAAAAAAAAAAAAAAAAAAAAAAAAAAAAAAAAAAAAAAAAAAAAAAAAAAAAAAAAAAAAAAAAAAAAAAAAAAAAAAAAAAAAAAAAAAAAAAAAAAAAAAAAAAAAAAAAAAAAAAAAAAAAAAAAAAAAAAAAAAAAAAAAAAAAAAAAAAAAAAAAAAAAAAAAAAA=",
          "dtype": "f8",
          "shape": "10, 10"
         }
        }
       ],
       "layout": {
        "annotations": [
         {
          "font": {
           "size": 16
          },
          "showarrow": false,
          "text": "Raw Data Points",
          "x": 0.225,
          "xanchor": "center",
          "xref": "paper",
          "y": 1,
          "yanchor": "bottom",
          "yref": "paper"
         },
         {
          "font": {
           "size": 16
          },
          "showarrow": false,
          "text": "Points Colored by Return with Trading Signal",
          "x": 0.775,
          "xanchor": "center",
          "xref": "paper",
          "y": 1,
          "yanchor": "bottom",
          "yref": "paper"
         }
        ],
        "font": {
         "color": "white"
        },
        "height": 500,
        "paper_bgcolor": "rgba(0,0,0,0)",
        "scene": {
         "bgcolor": "rgba(0,0,0,0)",
         "camera": {
          "eye": {
           "x": 1.5,
           "y": 1.5,
           "z": 1.2
          }
         },
         "domain": {
          "x": [
           0,
           0.45
          ],
          "y": [
           0,
           1
          ]
         },
         "xaxis": {
          "backgroundcolor": "rgb(30, 30, 35)",
          "color": "darkgray",
          "gridcolor": "darkgray",
          "showgrid": true,
          "title": {
           "text": "Feature 1"
          }
         },
         "yaxis": {
          "backgroundcolor": "rgb(30, 30, 35)",
          "color": "darkgray",
          "gridcolor": "darkgray",
          "showgrid": true,
          "title": {
           "text": "Feature 2"
          }
         },
         "zaxis": {
          "backgroundcolor": "rgb(30, 30, 35)",
          "color": "darkgray",
          "gridcolor": "darkgray",
          "showgrid": true,
          "title": {
           "text": "Return"
          }
         }
        },
        "scene2": {
         "bgcolor": "rgba(0,0,0,0)",
         "camera": {
          "eye": {
           "x": 1.5,
           "y": 1.5,
           "z": 1.2
          }
         },
         "domain": {
          "x": [
           0.55,
           1
          ],
          "y": [
           0,
           1
          ]
         },
         "xaxis": {
          "backgroundcolor": "rgb(30, 30, 35)",
          "color": "darkgray",
          "gridcolor": "darkgray",
          "showgrid": true,
          "title": {
           "text": "Feature 1"
          }
         },
         "yaxis": {
          "backgroundcolor": "rgb(30, 30, 35)",
          "color": "darkgray",
          "gridcolor": "darkgray",
          "showgrid": true,
          "title": {
           "text": "Feature 2"
          }
         },
         "zaxis": {
          "backgroundcolor": "rgb(30, 30, 35)",
          "color": "darkgray",
          "gridcolor": "darkgray",
          "showgrid": true,
          "title": {
           "text": "Return"
          }
         }
        },
        "showlegend": true,
        "template": {
         "data": {
          "bar": [
           {
            "error_x": {
             "color": "#2a3f5f"
            },
            "error_y": {
             "color": "#2a3f5f"
            },
            "marker": {
             "line": {
              "color": "#E5ECF6",
              "width": 0.5
             },
             "pattern": {
              "fillmode": "overlay",
              "size": 10,
              "solidity": 0.2
             }
            },
            "type": "bar"
           }
          ],
          "barpolar": [
           {
            "marker": {
             "line": {
              "color": "#E5ECF6",
              "width": 0.5
             },
             "pattern": {
              "fillmode": "overlay",
              "size": 10,
              "solidity": 0.2
             }
            },
            "type": "barpolar"
           }
          ],
          "carpet": [
           {
            "aaxis": {
             "endlinecolor": "#2a3f5f",
             "gridcolor": "white",
             "linecolor": "white",
             "minorgridcolor": "white",
             "startlinecolor": "#2a3f5f"
            },
            "baxis": {
             "endlinecolor": "#2a3f5f",
             "gridcolor": "white",
             "linecolor": "white",
             "minorgridcolor": "white",
             "startlinecolor": "#2a3f5f"
            },
            "type": "carpet"
           }
          ],
          "choropleth": [
           {
            "colorbar": {
             "outlinewidth": 0,
             "ticks": ""
            },
            "type": "choropleth"
           }
          ],
          "contour": [
           {
            "colorbar": {
             "outlinewidth": 0,
             "ticks": ""
            },
            "colorscale": [
             [
              0,
              "#0d0887"
             ],
             [
              0.1111111111111111,
              "#46039f"
             ],
             [
              0.2222222222222222,
              "#7201a8"
             ],
             [
              0.3333333333333333,
              "#9c179e"
             ],
             [
              0.4444444444444444,
              "#bd3786"
             ],
             [
              0.5555555555555556,
              "#d8576b"
             ],
             [
              0.6666666666666666,
              "#ed7953"
             ],
             [
              0.7777777777777778,
              "#fb9f3a"
             ],
             [
              0.8888888888888888,
              "#fdca26"
             ],
             [
              1,
              "#f0f921"
             ]
            ],
            "type": "contour"
           }
          ],
          "contourcarpet": [
           {
            "colorbar": {
             "outlinewidth": 0,
             "ticks": ""
            },
            "type": "contourcarpet"
           }
          ],
          "heatmap": [
           {
            "colorbar": {
             "outlinewidth": 0,
             "ticks": ""
            },
            "colorscale": [
             [
              0,
              "#0d0887"
             ],
             [
              0.1111111111111111,
              "#46039f"
             ],
             [
              0.2222222222222222,
              "#7201a8"
             ],
             [
              0.3333333333333333,
              "#9c179e"
             ],
             [
              0.4444444444444444,
              "#bd3786"
             ],
             [
              0.5555555555555556,
              "#d8576b"
             ],
             [
              0.6666666666666666,
              "#ed7953"
             ],
             [
              0.7777777777777778,
              "#fb9f3a"
             ],
             [
              0.8888888888888888,
              "#fdca26"
             ],
             [
              1,
              "#f0f921"
             ]
            ],
            "type": "heatmap"
           }
          ],
          "histogram": [
           {
            "marker": {
             "pattern": {
              "fillmode": "overlay",
              "size": 10,
              "solidity": 0.2
             }
            },
            "type": "histogram"
           }
          ],
          "histogram2d": [
           {
            "colorbar": {
             "outlinewidth": 0,
             "ticks": ""
            },
            "colorscale": [
             [
              0,
              "#0d0887"
             ],
             [
              0.1111111111111111,
              "#46039f"
             ],
             [
              0.2222222222222222,
              "#7201a8"
             ],
             [
              0.3333333333333333,
              "#9c179e"
             ],
             [
              0.4444444444444444,
              "#bd3786"
             ],
             [
              0.5555555555555556,
              "#d8576b"
             ],
             [
              0.6666666666666666,
              "#ed7953"
             ],
             [
              0.7777777777777778,
              "#fb9f3a"
             ],
             [
              0.8888888888888888,
              "#fdca26"
             ],
             [
              1,
              "#f0f921"
             ]
            ],
            "type": "histogram2d"
           }
          ],
          "histogram2dcontour": [
           {
            "colorbar": {
             "outlinewidth": 0,
             "ticks": ""
            },
            "colorscale": [
             [
              0,
              "#0d0887"
             ],
             [
              0.1111111111111111,
              "#46039f"
             ],
             [
              0.2222222222222222,
              "#7201a8"
             ],
             [
              0.3333333333333333,
              "#9c179e"
             ],
             [
              0.4444444444444444,
              "#bd3786"
             ],
             [
              0.5555555555555556,
              "#d8576b"
             ],
             [
              0.6666666666666666,
              "#ed7953"
             ],
             [
              0.7777777777777778,
              "#fb9f3a"
             ],
             [
              0.8888888888888888,
              "#fdca26"
             ],
             [
              1,
              "#f0f921"
             ]
            ],
            "type": "histogram2dcontour"
           }
          ],
          "mesh3d": [
           {
            "colorbar": {
             "outlinewidth": 0,
             "ticks": ""
            },
            "type": "mesh3d"
           }
          ],
          "parcoords": [
           {
            "line": {
             "colorbar": {
              "outlinewidth": 0,
              "ticks": ""
             }
            },
            "type": "parcoords"
           }
          ],
          "pie": [
           {
            "automargin": true,
            "type": "pie"
           }
          ],
          "scatter": [
           {
            "fillpattern": {
             "fillmode": "overlay",
             "size": 10,
             "solidity": 0.2
            },
            "type": "scatter"
           }
          ],
          "scatter3d": [
           {
            "line": {
             "colorbar": {
              "outlinewidth": 0,
              "ticks": ""
             }
            },
            "marker": {
             "colorbar": {
              "outlinewidth": 0,
              "ticks": ""
             }
            },
            "type": "scatter3d"
           }
          ],
          "scattercarpet": [
           {
            "marker": {
             "colorbar": {
              "outlinewidth": 0,
              "ticks": ""
             }
            },
            "type": "scattercarpet"
           }
          ],
          "scattergeo": [
           {
            "marker": {
             "colorbar": {
              "outlinewidth": 0,
              "ticks": ""
             }
            },
            "type": "scattergeo"
           }
          ],
          "scattergl": [
           {
            "marker": {
             "colorbar": {
              "outlinewidth": 0,
              "ticks": ""
             }
            },
            "type": "scattergl"
           }
          ],
          "scattermap": [
           {
            "marker": {
             "colorbar": {
              "outlinewidth": 0,
              "ticks": ""
             }
            },
            "type": "scattermap"
           }
          ],
          "scattermapbox": [
           {
            "marker": {
             "colorbar": {
              "outlinewidth": 0,
              "ticks": ""
             }
            },
            "type": "scattermapbox"
           }
          ],
          "scatterpolar": [
           {
            "marker": {
             "colorbar": {
              "outlinewidth": 0,
              "ticks": ""
             }
            },
            "type": "scatterpolar"
           }
          ],
          "scatterpolargl": [
           {
            "marker": {
             "colorbar": {
              "outlinewidth": 0,
              "ticks": ""
             }
            },
            "type": "scatterpolargl"
           }
          ],
          "scatterternary": [
           {
            "marker": {
             "colorbar": {
              "outlinewidth": 0,
              "ticks": ""
             }
            },
            "type": "scatterternary"
           }
          ],
          "surface": [
           {
            "colorbar": {
             "outlinewidth": 0,
             "ticks": ""
            },
            "colorscale": [
             [
              0,
              "#0d0887"
             ],
             [
              0.1111111111111111,
              "#46039f"
             ],
             [
              0.2222222222222222,
              "#7201a8"
             ],
             [
              0.3333333333333333,
              "#9c179e"
             ],
             [
              0.4444444444444444,
              "#bd3786"
             ],
             [
              0.5555555555555556,
              "#d8576b"
             ],
             [
              0.6666666666666666,
              "#ed7953"
             ],
             [
              0.7777777777777778,
              "#fb9f3a"
             ],
             [
              0.8888888888888888,
              "#fdca26"
             ],
             [
              1,
              "#f0f921"
             ]
            ],
            "type": "surface"
           }
          ],
          "table": [
           {
            "cells": {
             "fill": {
              "color": "#EBF0F8"
             },
             "line": {
              "color": "white"
             }
            },
            "header": {
             "fill": {
              "color": "#C8D4E3"
             },
             "line": {
              "color": "white"
             }
            },
            "type": "table"
           }
          ]
         },
         "layout": {
          "annotationdefaults": {
           "arrowcolor": "#2a3f5f",
           "arrowhead": 0,
           "arrowwidth": 1
          },
          "autotypenumbers": "strict",
          "coloraxis": {
           "colorbar": {
            "outlinewidth": 0,
            "ticks": ""
           }
          },
          "colorscale": {
           "diverging": [
            [
             0,
             "#8e0152"
            ],
            [
             0.1,
             "#c51b7d"
            ],
            [
             0.2,
             "#de77ae"
            ],
            [
             0.3,
             "#f1b6da"
            ],
            [
             0.4,
             "#fde0ef"
            ],
            [
             0.5,
             "#f7f7f7"
            ],
            [
             0.6,
             "#e6f5d0"
            ],
            [
             0.7,
             "#b8e186"
            ],
            [
             0.8,
             "#7fbc41"
            ],
            [
             0.9,
             "#4d9221"
            ],
            [
             1,
             "#276419"
            ]
           ],
           "sequential": [
            [
             0,
             "#0d0887"
            ],
            [
             0.1111111111111111,
             "#46039f"
            ],
            [
             0.2222222222222222,
             "#7201a8"
            ],
            [
             0.3333333333333333,
             "#9c179e"
            ],
            [
             0.4444444444444444,
             "#bd3786"
            ],
            [
             0.5555555555555556,
             "#d8576b"
            ],
            [
             0.6666666666666666,
             "#ed7953"
            ],
            [
             0.7777777777777778,
             "#fb9f3a"
            ],
            [
             0.8888888888888888,
             "#fdca26"
            ],
            [
             1,
             "#f0f921"
            ]
           ],
           "sequentialminus": [
            [
             0,
             "#0d0887"
            ],
            [
             0.1111111111111111,
             "#46039f"
            ],
            [
             0.2222222222222222,
             "#7201a8"
            ],
            [
             0.3333333333333333,
             "#9c179e"
            ],
            [
             0.4444444444444444,
             "#bd3786"
            ],
            [
             0.5555555555555556,
             "#d8576b"
            ],
            [
             0.6666666666666666,
             "#ed7953"
            ],
            [
             0.7777777777777778,
             "#fb9f3a"
            ],
            [
             0.8888888888888888,
             "#fdca26"
            ],
            [
             1,
             "#f0f921"
            ]
           ]
          },
          "colorway": [
           "#636efa",
           "#EF553B",
           "#00cc96",
           "#ab63fa",
           "#FFA15A",
           "#19d3f3",
           "#FF6692",
           "#B6E880",
           "#FF97FF",
           "#FECB52"
          ],
          "font": {
           "color": "#2a3f5f"
          },
          "geo": {
           "bgcolor": "white",
           "lakecolor": "white",
           "landcolor": "#E5ECF6",
           "showlakes": true,
           "showland": true,
           "subunitcolor": "white"
          },
          "hoverlabel": {
           "align": "left"
          },
          "hovermode": "closest",
          "mapbox": {
           "style": "light"
          },
          "paper_bgcolor": "white",
          "plot_bgcolor": "#E5ECF6",
          "polar": {
           "angularaxis": {
            "gridcolor": "white",
            "linecolor": "white",
            "ticks": ""
           },
           "bgcolor": "#E5ECF6",
           "radialaxis": {
            "gridcolor": "white",
            "linecolor": "white",
            "ticks": ""
           }
          },
          "scene": {
           "xaxis": {
            "backgroundcolor": "#E5ECF6",
            "gridcolor": "white",
            "gridwidth": 2,
            "linecolor": "white",
            "showbackground": true,
            "ticks": "",
            "zerolinecolor": "white"
           },
           "yaxis": {
            "backgroundcolor": "#E5ECF6",
            "gridcolor": "white",
            "gridwidth": 2,
            "linecolor": "white",
            "showbackground": true,
            "ticks": "",
            "zerolinecolor": "white"
           },
           "zaxis": {
            "backgroundcolor": "#E5ECF6",
            "gridcolor": "white",
            "gridwidth": 2,
            "linecolor": "white",
            "showbackground": true,
            "ticks": "",
            "zerolinecolor": "white"
           }
          },
          "shapedefaults": {
           "line": {
            "color": "#2a3f5f"
           }
          },
          "ternary": {
           "aaxis": {
            "gridcolor": "white",
            "linecolor": "white",
            "ticks": ""
           },
           "baxis": {
            "gridcolor": "white",
            "linecolor": "white",
            "ticks": ""
           },
           "bgcolor": "#E5ECF6",
           "caxis": {
            "gridcolor": "white",
            "linecolor": "white",
            "ticks": ""
           }
          },
          "title": {
           "x": 0.05
          },
          "xaxis": {
           "automargin": true,
           "gridcolor": "white",
           "linecolor": "white",
           "ticks": "",
           "title": {
            "standoff": 15
           },
           "zerolinecolor": "white",
           "zerolinewidth": 2
          },
          "yaxis": {
           "automargin": true,
           "gridcolor": "white",
           "linecolor": "white",
           "ticks": "",
           "title": {
            "standoff": 15
           },
           "zerolinecolor": "white",
           "zerolinewidth": 2
          }
         }
        },
        "title": {
         "text": "3D Feature Space: Raw vs Return-Colored Points with Trading Signal"
        },
        "width": 900
       }
      }
     },
     "metadata": {},
     "output_type": "display_data"
    }
   ],
   "source": [
    "import numpy as np\n",
    "import plotly.graph_objects as go\n",
    "from plotly.subplots import make_subplots\n",
    "\n",
    "# Generate random 3D data points\n",
    "np.random.seed(42)\n",
    "n_points = 100\n",
    "\n",
    "x = np.random.normal(0, 1, n_points)\n",
    "y = np.random.normal(0, 1, n_points)\n",
    "z = 0.3*x - 0.2*y + np.random.normal(0, 0.5, n_points)\n",
    "\n",
    "# Create figure with two subplots\n",
    "fig = make_subplots(\n",
    "    rows=1, cols=2,\n",
    "    specs=[[{'type': 'scene'}, {'type': 'scene'}]],\n",
    "    subplot_titles=('Raw Data Points', 'Points Colored by Return with Trading Signal')\n",
    ")\n",
    "\n",
    "# Add traces for first subplot - all points in blue\n",
    "fig.add_trace(\n",
    "    go.Scatter3d(\n",
    "        x=x, y=y, z=z,\n",
    "        mode='markers',\n",
    "        marker=dict(\n",
    "            size=5,\n",
    "            color='blue',\n",
    "            opacity=0.7\n",
    "        ),\n",
    "        showlegend=False\n",
    "    ),\n",
    "    row=1, col=1\n",
    ")\n",
    "\n",
    "# Add traces for second subplot - points colored by return\n",
    "fig.add_trace(\n",
    "    go.Scatter3d(\n",
    "        x=x[z >= 0], y=y[z >= 0], z=z[z >= 0],\n",
    "        mode='markers',\n",
    "        marker=dict(\n",
    "            size=5,\n",
    "            color='green',\n",
    "            opacity=0.7\n",
    "        ),\n",
    "        name='Positive Return'\n",
    "    ),\n",
    "    row=1, col=2\n",
    ")\n",
    "\n",
    "fig.add_trace(\n",
    "    go.Scatter3d(\n",
    "        x=x[z < 0], y=y[z < 0], z=z[z < 0],\n",
    "        mode='markers',\n",
    "        marker=dict(\n",
    "            size=5,\n",
    "            color='red',\n",
    "            opacity=0.7\n",
    "        ),\n",
    "        name='Negative Return'\n",
    "    ),\n",
    "    row=1, col=2\n",
    ")\n",
    "\n",
    "# Add hyperplane\n",
    "xx, yy = np.meshgrid(np.linspace(-2, 2, 10), np.linspace(-2, 2, 10))\n",
    "# z = 0 plane represents the decision boundary\n",
    "zz = np.zeros_like(xx)\n",
    "\n",
    "fig.add_trace(\n",
    "    go.Surface(\n",
    "        x=xx,\n",
    "        y=yy,\n",
    "        z=zz,\n",
    "        opacity=0.3,\n",
    "        showscale=False,\n",
    "        name='Trading Signal',\n",
    "        colorscale=[[0, 'gray'], [1, 'gray']]\n",
    "    ),\n",
    "    row=1, col=2\n",
    ")\n",
    "\n",
    "# Update layout\n",
    "fig.update_layout(\n",
    "    title='3D Feature Space: Raw vs Return-Colored Points with Trading Signal',\n",
    "    scene=dict(\n",
    "        xaxis_title='Feature 1',\n",
    "        yaxis_title='Feature 2',\n",
    "        zaxis_title='Return',\n",
    "        xaxis=dict(gridcolor='darkgray', showgrid=True, color='darkgray', backgroundcolor='rgb(30, 30, 35)'),\n",
    "        yaxis=dict(gridcolor='darkgray', showgrid=True, color='darkgray', backgroundcolor='rgb(30, 30, 35)'),\n",
    "        zaxis=dict(gridcolor='darkgray', showgrid=True, color='darkgray', backgroundcolor='rgb(30, 30, 35)'),\n",
    "        bgcolor='rgba(0,0,0,0)',\n",
    "        camera=dict(eye=dict(x=1.5, y=1.5, z=1.2))\n",
    "    ),\n",
    "    scene2=dict(\n",
    "        xaxis_title='Feature 1',\n",
    "        yaxis_title='Feature 2',\n",
    "        zaxis_title='Return',\n",
    "        xaxis=dict(gridcolor='darkgray', showgrid=True, color='darkgray', backgroundcolor='rgb(30, 30, 35)'),\n",
    "        yaxis=dict(gridcolor='darkgray', showgrid=True, color='darkgray', backgroundcolor='rgb(30, 30, 35)'),\n",
    "        zaxis=dict(gridcolor='darkgray', showgrid=True, color='darkgray', backgroundcolor='rgb(30, 30, 35)'),\n",
    "        bgcolor='rgba(0,0,0,0)',\n",
    "        camera=dict(eye=dict(x=1.5, y=1.5, z=1.2))\n",
    "    ),\n",
    "    width=900,\n",
    "    height=500,\n",
    "    paper_bgcolor='rgba(0,0,0,0)',\n",
    "    font=dict(color='white'),\n",
    "    showlegend=True\n",
    ")\n",
    "\n",
    "fig.show()\n"
   ]
  },
  {
   "cell_type": "markdown",
   "id": "cdb360ac",
   "metadata": {},
   "source": [
    "### Sections\n",
    "\n",
    "1.) 🎲 Outcomes as Random Variables \n",
    "\n",
    "2.) 🎯 Predictions as Expectations\n",
    "\n",
    "3.) 🦾 What AI Actually Learns\n",
    "\n",
    "4.) 💻 Stock Price Prediction v. Facial Recognition\n",
    "\n",
    "5.) 💭 Closing Thoughts and Future Topics"
   ]
  },
  {
   "cell_type": "markdown",
   "id": "7e890a06",
   "metadata": {},
   "source": [
    "---"
   ]
  },
  {
   "cell_type": "markdown",
   "id": "c054df1e",
   "metadata": {},
   "source": [
    "### 1.) 🎲 Outcomes as Random Variables\n",
    "\n",
    "Random variables are mathematical objects used to model randomness\n",
    "\n",
    "We can say that $Y$ is the outcome of a dice roll, and $X$ is the average value of a trading signal\n",
    "\n",
    "In each of these cases, both $Y$ and $X$ are not *one outcome* in the sense of classical variables like $y$ and $x$ that represent numbers, instead these variables ($Y$, $X$) represent *distributions* - a set of possible outcomes according to a certain likelihood that is either predefined or observed."
   ]
  },
  {
   "cell_type": "code",
   "execution_count": 3,
   "id": "6e16bdc5",
   "metadata": {},
   "outputs": [
    {
     "data": {
      "application/vnd.plotly.v1+json": {
       "config": {
        "plotlyServerURL": "https://plot.ly"
       },
       "data": [
        {
         "marker": {
          "color": "#00FF00"
         },
         "name": "Dice Roll Distribution",
         "type": "bar",
         "x": {
          "bdata": "AQIDBAUG",
          "dtype": "i1"
         },
         "xaxis": "x",
         "y": {
          "bdata": "VVVVVVVVxT9VVVVVVVXFP1VVVVVVVcU/VVVVVVVVxT9VVVVVVVXFP1VVVVVVVcU/",
          "dtype": "f8"
         },
         "yaxis": "y"
        },
        {
         "line": {
          "color": "#FF00FF",
          "width": 2
         },
         "name": "Normal Distribution",
         "type": "scatter",
         "x": {
          "bdata": "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",
          "dtype": "f8"
         },
         "xaxis": "x2",
         "y": {
          "bdata": "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",
          "dtype": "f8"
         },
         "yaxis": "y2"
        }
       ],
       "layout": {
        "annotations": [
         {
          "font": {
           "size": 16
          },
          "showarrow": false,
          "text": "Random Variable Y - Dice Roll",
          "x": 0.225,
          "xanchor": "center",
          "xref": "paper",
          "y": 1,
          "yanchor": "bottom",
          "yref": "paper"
         },
         {
          "font": {
           "size": 16
          },
          "showarrow": false,
          "text": "Random Variable X - Trading Signal",
          "x": 0.775,
          "xanchor": "center",
          "xref": "paper",
          "y": 1,
          "yanchor": "bottom",
          "yref": "paper"
         }
        ],
        "font": {
         "color": "white"
        },
        "height": 600,
        "paper_bgcolor": "rgba(0,0,0,0)",
        "plot_bgcolor": "rgba(0,0,0,0)",
        "showlegend": true,
        "template": {
         "data": {
          "bar": [
           {
            "error_x": {
             "color": "#2a3f5f"
            },
            "error_y": {
             "color": "#2a3f5f"
            },
            "marker": {
             "line": {
              "color": "#E5ECF6",
              "width": 0.5
             },
             "pattern": {
              "fillmode": "overlay",
              "size": 10,
              "solidity": 0.2
             }
            },
            "type": "bar"
           }
          ],
          "barpolar": [
           {
            "marker": {
             "line": {
              "color": "#E5ECF6",
              "width": 0.5
             },
             "pattern": {
              "fillmode": "overlay",
              "size": 10,
              "solidity": 0.2
             }
            },
            "type": "barpolar"
           }
          ],
          "carpet": [
           {
            "aaxis": {
             "endlinecolor": "#2a3f5f",
             "gridcolor": "white",
             "linecolor": "white",
             "minorgridcolor": "white",
             "startlinecolor": "#2a3f5f"
            },
            "baxis": {
             "endlinecolor": "#2a3f5f",
             "gridcolor": "white",
             "linecolor": "white",
             "minorgridcolor": "white",
             "startlinecolor": "#2a3f5f"
            },
            "type": "carpet"
           }
          ],
          "choropleth": [
           {
            "colorbar": {
             "outlinewidth": 0,
             "ticks": ""
            },
            "type": "choropleth"
           }
          ],
          "contour": [
           {
            "colorbar": {
             "outlinewidth": 0,
             "ticks": ""
            },
            "colorscale": [
             [
              0,
              "#0d0887"
             ],
             [
              0.1111111111111111,
              "#46039f"
             ],
             [
              0.2222222222222222,
              "#7201a8"
             ],
             [
              0.3333333333333333,
              "#9c179e"
             ],
             [
              0.4444444444444444,
              "#bd3786"
             ],
             [
              0.5555555555555556,
              "#d8576b"
             ],
             [
              0.6666666666666666,
              "#ed7953"
             ],
             [
              0.7777777777777778,
              "#fb9f3a"
             ],
             [
              0.8888888888888888,
              "#fdca26"
             ],
             [
              1,
              "#f0f921"
             ]
            ],
            "type": "contour"
           }
          ],
          "contourcarpet": [
           {
            "colorbar": {
             "outlinewidth": 0,
             "ticks": ""
            },
            "type": "contourcarpet"
           }
          ],
          "heatmap": [
           {
            "colorbar": {
             "outlinewidth": 0,
             "ticks": ""
            },
            "colorscale": [
             [
              0,
              "#0d0887"
             ],
             [
              0.1111111111111111,
              "#46039f"
             ],
             [
              0.2222222222222222,
              "#7201a8"
             ],
             [
              0.3333333333333333,
              "#9c179e"
             ],
             [
              0.4444444444444444,
              "#bd3786"
             ],
             [
              0.5555555555555556,
              "#d8576b"
             ],
             [
              0.6666666666666666,
              "#ed7953"
             ],
             [
              0.7777777777777778,
              "#fb9f3a"
             ],
             [
              0.8888888888888888,
              "#fdca26"
             ],
             [
              1,
              "#f0f921"
             ]
            ],
            "type": "heatmap"
           }
          ],
          "histogram": [
           {
            "marker": {
             "pattern": {
              "fillmode": "overlay",
              "size": 10,
              "solidity": 0.2
             }
            },
            "type": "histogram"
           }
          ],
          "histogram2d": [
           {
            "colorbar": {
             "outlinewidth": 0,
             "ticks": ""
            },
            "colorscale": [
             [
              0,
              "#0d0887"
             ],
             [
              0.1111111111111111,
              "#46039f"
             ],
             [
              0.2222222222222222,
              "#7201a8"
             ],
             [
              0.3333333333333333,
              "#9c179e"
             ],
             [
              0.4444444444444444,
              "#bd3786"
             ],
             [
              0.5555555555555556,
              "#d8576b"
             ],
             [
              0.6666666666666666,
              "#ed7953"
             ],
             [
              0.7777777777777778,
              "#fb9f3a"
             ],
             [
              0.8888888888888888,
              "#fdca26"
             ],
             [
              1,
              "#f0f921"
             ]
            ],
            "type": "histogram2d"
           }
          ],
          "histogram2dcontour": [
           {
            "colorbar": {
             "outlinewidth": 0,
             "ticks": ""
            },
            "colorscale": [
             [
              0,
              "#0d0887"
             ],
             [
              0.1111111111111111,
              "#46039f"
             ],
             [
              0.2222222222222222,
              "#7201a8"
             ],
             [
              0.3333333333333333,
              "#9c179e"
             ],
             [
              0.4444444444444444,
              "#bd3786"
             ],
             [
              0.5555555555555556,
              "#d8576b"
             ],
             [
              0.6666666666666666,
              "#ed7953"
             ],
             [
              0.7777777777777778,
              "#fb9f3a"
             ],
             [
              0.8888888888888888,
              "#fdca26"
             ],
             [
              1,
              "#f0f921"
             ]
            ],
            "type": "histogram2dcontour"
           }
          ],
          "mesh3d": [
           {
            "colorbar": {
             "outlinewidth": 0,
             "ticks": ""
            },
            "type": "mesh3d"
           }
          ],
          "parcoords": [
           {
            "line": {
             "colorbar": {
              "outlinewidth": 0,
              "ticks": ""
             }
            },
            "type": "parcoords"
           }
          ],
          "pie": [
           {
            "automargin": true,
            "type": "pie"
           }
          ],
          "scatter": [
           {
            "fillpattern": {
             "fillmode": "overlay",
             "size": 10,
             "solidity": 0.2
            },
            "type": "scatter"
           }
          ],
          "scatter3d": [
           {
            "line": {
             "colorbar": {
              "outlinewidth": 0,
              "ticks": ""
             }
            },
            "marker": {
             "colorbar": {
              "outlinewidth": 0,
              "ticks": ""
             }
            },
            "type": "scatter3d"
           }
          ],
          "scattercarpet": [
           {
            "marker": {
             "colorbar": {
              "outlinewidth": 0,
              "ticks": ""
             }
            },
            "type": "scattercarpet"
           }
          ],
          "scattergeo": [
           {
            "marker": {
             "colorbar": {
              "outlinewidth": 0,
              "ticks": ""
             }
            },
            "type": "scattergeo"
           }
          ],
          "scattergl": [
           {
            "marker": {
             "colorbar": {
              "outlinewidth": 0,
              "ticks": ""
             }
            },
            "type": "scattergl"
           }
          ],
          "scattermap": [
           {
            "marker": {
             "colorbar": {
              "outlinewidth": 0,
              "ticks": ""
             }
            },
            "type": "scattermap"
           }
          ],
          "scattermapbox": [
           {
            "marker": {
             "colorbar": {
              "outlinewidth": 0,
              "ticks": ""
             }
            },
            "type": "scattermapbox"
           }
          ],
          "scatterpolar": [
           {
            "marker": {
             "colorbar": {
              "outlinewidth": 0,
              "ticks": ""
             }
            },
            "type": "scatterpolar"
           }
          ],
          "scatterpolargl": [
           {
            "marker": {
             "colorbar": {
              "outlinewidth": 0,
              "ticks": ""
             }
            },
            "type": "scatterpolargl"
           }
          ],
          "scatterternary": [
           {
            "marker": {
             "colorbar": {
              "outlinewidth": 0,
              "ticks": ""
             }
            },
            "type": "scatterternary"
           }
          ],
          "surface": [
           {
            "colorbar": {
             "outlinewidth": 0,
             "ticks": ""
            },
            "colorscale": [
             [
              0,
              "#0d0887"
             ],
             [
              0.1111111111111111,
              "#46039f"
             ],
             [
              0.2222222222222222,
              "#7201a8"
             ],
             [
              0.3333333333333333,
              "#9c179e"
             ],
             [
              0.4444444444444444,
              "#bd3786"
             ],
             [
              0.5555555555555556,
              "#d8576b"
             ],
             [
              0.6666666666666666,
              "#ed7953"
             ],
             [
              0.7777777777777778,
              "#fb9f3a"
             ],
             [
              0.8888888888888888,
              "#fdca26"
             ],
             [
              1,
              "#f0f921"
             ]
            ],
            "type": "surface"
           }
          ],
          "table": [
           {
            "cells": {
             "fill": {
              "color": "#EBF0F8"
             },
             "line": {
              "color": "white"
             }
            },
            "header": {
             "fill": {
              "color": "#C8D4E3"
             },
             "line": {
              "color": "white"
             }
            },
            "type": "table"
           }
          ]
         },
         "layout": {
          "annotationdefaults": {
           "arrowcolor": "#2a3f5f",
           "arrowhead": 0,
           "arrowwidth": 1
          },
          "autotypenumbers": "strict",
          "coloraxis": {
           "colorbar": {
            "outlinewidth": 0,
            "ticks": ""
           }
          },
          "colorscale": {
           "diverging": [
            [
             0,
             "#8e0152"
            ],
            [
             0.1,
             "#c51b7d"
            ],
            [
             0.2,
             "#de77ae"
            ],
            [
             0.3,
             "#f1b6da"
            ],
            [
             0.4,
             "#fde0ef"
            ],
            [
             0.5,
             "#f7f7f7"
            ],
            [
             0.6,
             "#e6f5d0"
            ],
            [
             0.7,
             "#b8e186"
            ],
            [
             0.8,
             "#7fbc41"
            ],
            [
             0.9,
             "#4d9221"
            ],
            [
             1,
             "#276419"
            ]
           ],
           "sequential": [
            [
             0,
             "#0d0887"
            ],
            [
             0.1111111111111111,
             "#46039f"
            ],
            [
             0.2222222222222222,
             "#7201a8"
            ],
            [
             0.3333333333333333,
             "#9c179e"
            ],
            [
             0.4444444444444444,
             "#bd3786"
            ],
            [
             0.5555555555555556,
             "#d8576b"
            ],
            [
             0.6666666666666666,
             "#ed7953"
            ],
            [
             0.7777777777777778,
             "#fb9f3a"
            ],
            [
             0.8888888888888888,
             "#fdca26"
            ],
            [
             1,
             "#f0f921"
            ]
           ],
           "sequentialminus": [
            [
             0,
             "#0d0887"
            ],
            [
             0.1111111111111111,
             "#46039f"
            ],
            [
             0.2222222222222222,
             "#7201a8"
            ],
            [
             0.3333333333333333,
             "#9c179e"
            ],
            [
             0.4444444444444444,
             "#bd3786"
            ],
            [
             0.5555555555555556,
             "#d8576b"
            ],
            [
             0.6666666666666666,
             "#ed7953"
            ],
            [
             0.7777777777777778,
             "#fb9f3a"
            ],
            [
             0.8888888888888888,
             "#fdca26"
            ],
            [
             1,
             "#f0f921"
            ]
           ]
          },
          "colorway": [
           "#636efa",
           "#EF553B",
           "#00cc96",
           "#ab63fa",
           "#FFA15A",
           "#19d3f3",
           "#FF6692",
           "#B6E880",
           "#FF97FF",
           "#FECB52"
          ],
          "font": {
           "color": "#2a3f5f"
          },
          "geo": {
           "bgcolor": "white",
           "lakecolor": "white",
           "landcolor": "#E5ECF6",
           "showlakes": true,
           "showland": true,
           "subunitcolor": "white"
          },
          "hoverlabel": {
           "align": "left"
          },
          "hovermode": "closest",
          "mapbox": {
           "style": "light"
          },
          "paper_bgcolor": "white",
          "plot_bgcolor": "#E5ECF6",
          "polar": {
           "angularaxis": {
            "gridcolor": "white",
            "linecolor": "white",
            "ticks": ""
           },
           "bgcolor": "#E5ECF6",
           "radialaxis": {
            "gridcolor": "white",
            "linecolor": "white",
            "ticks": ""
           }
          },
          "scene": {
           "xaxis": {
            "backgroundcolor": "#E5ECF6",
            "gridcolor": "white",
            "gridwidth": 2,
            "linecolor": "white",
            "showbackground": true,
            "ticks": "",
            "zerolinecolor": "white"
           },
           "yaxis": {
            "backgroundcolor": "#E5ECF6",
            "gridcolor": "white",
            "gridwidth": 2,
            "linecolor": "white",
            "showbackground": true,
            "ticks": "",
            "zerolinecolor": "white"
           },
           "zaxis": {
            "backgroundcolor": "#E5ECF6",
            "gridcolor": "white",
            "gridwidth": 2,
            "linecolor": "white",
            "showbackground": true,
            "ticks": "",
            "zerolinecolor": "white"
           }
          },
          "shapedefaults": {
           "line": {
            "color": "#2a3f5f"
           }
          },
          "ternary": {
           "aaxis": {
            "gridcolor": "white",
            "linecolor": "white",
            "ticks": ""
           },
           "baxis": {
            "gridcolor": "white",
            "linecolor": "white",
            "ticks": ""
           },
           "bgcolor": "#E5ECF6",
           "caxis": {
            "gridcolor": "white",
            "linecolor": "white",
            "ticks": ""
           }
          },
          "title": {
           "x": 0.05
          },
          "xaxis": {
           "automargin": true,
           "gridcolor": "white",
           "linecolor": "white",
           "ticks": "",
           "title": {
            "standoff": 15
           },
           "zerolinecolor": "white",
           "zerolinewidth": 2
          },
          "yaxis": {
           "automargin": true,
           "gridcolor": "white",
           "linecolor": "white",
           "ticks": "",
           "title": {
            "standoff": 15
           },
           "zerolinecolor": "white",
           "zerolinewidth": 2
          }
         }
        },
        "title": {
         "font": {
          "size": 20
         },
         "text": "Random Variable Examples",
         "x": 0.5
        },
        "xaxis": {
         "anchor": "y",
         "domain": [
          0,
          0.45
         ],
         "gridcolor": "rgba(128,128,128,0.2)",
         "gridwidth": 1,
         "showgrid": true,
         "title": {
          "text": "Dice Value"
         },
         "zeroline": true,
         "zerolinecolor": "rgba(128,128,128,0.5)",
         "zerolinewidth": 1
        },
        "xaxis2": {
         "anchor": "y2",
         "domain": [
          0.55,
          1
         ],
         "gridcolor": "rgba(128,128,128,0.2)",
         "gridwidth": 1,
         "showgrid": true,
         "title": {
          "text": "X"
         },
         "zeroline": true,
         "zerolinecolor": "rgba(128,128,128,0.5)",
         "zerolinewidth": 1
        },
        "yaxis": {
         "anchor": "x",
         "domain": [
          0,
          1
         ],
         "gridcolor": "rgba(128,128,128,0.2)",
         "gridwidth": 1,
         "showgrid": true,
         "title": {
          "text": "Probability"
         },
         "zeroline": true,
         "zerolinecolor": "rgba(128,128,128,0.5)",
         "zerolinewidth": 1
        },
        "yaxis2": {
         "anchor": "x2",
         "domain": [
          0,
          1
         ],
         "gridcolor": "rgba(128,128,128,0.2)",
         "gridwidth": 1,
         "showgrid": true,
         "title": {
          "text": "Density"
         },
         "zeroline": true,
         "zerolinecolor": "rgba(128,128,128,0.5)",
         "zerolinewidth": 1
        }
       }
      }
     },
     "metadata": {},
     "output_type": "display_data"
    }
   ],
   "source": [
    "import numpy as np\n",
    "import plotly.graph_objects as go\n",
    "from plotly.subplots import make_subplots\n",
    "\n",
    "# Create figure with secondary y-axis\n",
    "fig = make_subplots(rows=1, cols=2, subplot_titles=(\"Random Variable Y - Dice Roll\", \"Random Variable X - Trading Signal\"))\n",
    "\n",
    "# Left plot - Theoretical dice roll distribution (uniform probability)\n",
    "dice_values = np.arange(1, 7)\n",
    "probabilities = np.ones(6) / 6  # Equal probability of 1/6 for each outcome\n",
    "\n",
    "fig.add_trace(\n",
    "    go.Bar(x=dice_values, y=probabilities,\n",
    "           name='Dice Roll Distribution',\n",
    "           marker_color='#00FF00'),  # Neon green\n",
    "    row=1, col=1\n",
    ")\n",
    "\n",
    "# Right plot - Normal distribution\n",
    "x = np.linspace(-6, 2, 1000)\n",
    "y = 1/(2*np.pi)**0.5 * np.exp(-0.5*(x - (-2))**2)\n",
    "\n",
    "fig.add_trace(\n",
    "    go.Scatter(x=x, y=y,\n",
    "               name='Normal Distribution',\n",
    "               line=dict(color='#FF00FF', width=2)),  # Neon pink\n",
    "    row=1, col=2\n",
    ")\n",
    "\n",
    "# Update layout\n",
    "fig.update_layout(\n",
    "    height=600,\n",
    "    showlegend=True,\n",
    "    plot_bgcolor='rgba(0,0,0,0)',\n",
    "    paper_bgcolor='rgba(0,0,0,0)',\n",
    "    font=dict(color='white'),\n",
    "    title_text='Random Variable Examples',\n",
    "    title_x=0.5,\n",
    "    title_font_size=20\n",
    ")\n",
    "\n",
    "# Update axes\n",
    "for i in [1, 2]:\n",
    "    fig.update_xaxes(showgrid=True, gridwidth=1, gridcolor='rgba(128,128,128,0.2)',\n",
    "                     zeroline=True, zerolinewidth=1, zerolinecolor='rgba(128,128,128,0.5)',\n",
    "                     row=1, col=i)\n",
    "    fig.update_yaxes(showgrid=True, gridwidth=1, gridcolor='rgba(128,128,128,0.2)',\n",
    "                     zeroline=True, zerolinewidth=1, zerolinecolor='rgba(128,128,128,0.5)',\n",
    "                     row=1, col=i)\n",
    "\n",
    "# Update subplot titles\n",
    "fig.update_xaxes(title_text=\"Dice Value\", row=1, col=1)\n",
    "fig.update_xaxes(title_text=\"X\", row=1, col=2)\n",
    "fig.update_yaxes(title_text=\"Probability\", row=1, col=1)\n",
    "fig.update_yaxes(title_text=\"Density\", row=1, col=2)\n",
    "\n",
    "fig.show()\n"
   ]
  },
  {
   "cell_type": "markdown",
   "id": "dcf29608",
   "metadata": {},
   "source": [
    "##### <u>Two Important Distinctions:</u>\n",
    "\n",
    "- We are modeling something *actually* random (for example, a coin flip, dice roll, roulette,)\n",
    "\n",
    "- We are modeling something deterministic as random (for example, the number of chips in a bag)\n",
    "\n",
    "In the first case, we can't predict the outcome - in the second, if we had sufficient information (we were at the factory and SAW the chips go into that specifc bag) it wouldn't be a random variable and we would know the count.\n",
    "\n",
    "More often than not, we are interacting with the second method - there are too many observable or unobservable factors that go into producing a quantity or outcome so we can model it as random."
   ]
  },
  {
   "cell_type": "markdown",
   "id": "729a29e4",
   "metadata": {},
   "source": [
    "##### <u>Empirical v. Theoretical Distributions</u>\n",
    "\n",
    "In machine learning and artificial intelligence, we rarely have the theoretical distribution.  That is, when we have random variables say $Y$ a dice roll, $X$ a trading signal, and $Z$ the number of chips in a bag - what governs the randomness of $Y$ is clear, but not $X$ (inflation, interest rates, etc.) and $Z$ (factory scales, factory dispensor, etc.).\n",
    "\n",
    "So typically we use the empirical distribution, which is just a histogram of observed outcomes."
   ]
  },
  {
   "cell_type": "code",
   "execution_count": 4,
   "id": "3454b27b",
   "metadata": {},
   "outputs": [
    {
     "data": {
      "application/vnd.plotly.v1+json": {
       "config": {
        "plotlyServerURL": "https://plot.ly"
       },
       "data": [
        {
         "marker": {
          "color": "rgba(58, 71, 80, 0.6)"
         },
         "name": "Empirical (5 rolls)",
         "type": "bar",
         "x": {
          "bdata": "AQIDBAUG",
          "dtype": "i1"
         },
         "xaxis": "x",
         "y": {
          "bdata": "AAAAAAAAAAAAAAAAAAAAAJqZmZmZmck/mpmZmZmZyT8zMzMzMzPjPw==",
          "dtype": "f8"
         },
         "yaxis": "y"
        },
        {
         "line": {
          "color": "rgba(255, 0, 0, 0.8)",
          "width": 2
         },
         "name": "Theoretical",
         "type": "scatter",
         "x": {
          "bdata": "AQIDBAUG",
          "dtype": "i1"
         },
         "xaxis": "x",
         "y": {
          "bdata": "VVVVVVVVxT9VVVVVVVXFP1VVVVVVVcU/VVVVVVVVxT9VVVVVVVXFP1VVVVVVVcU/",
          "dtype": "f8"
         },
         "yaxis": "y"
        },
        {
         "marker": {
          "color": "rgba(58, 71, 80, 0.6)"
         },
         "name": "Empirical (1000 rolls)",
         "type": "bar",
         "x": {
          "bdata": "AQIDBAUG",
          "dtype": "i1"
         },
         "xaxis": "x2",
         "y": {
          "bdata": "XrpJDAIrxz/LoUW28/3EPy/dJAaBlcM/EoPAyqFFxj/D9Shcj8LFP9NNYhBYOcQ/",
          "dtype": "f8"
         },
         "yaxis": "y2"
        },
        {
         "line": {
          "color": "rgba(255, 0, 0, 0.8)",
          "width": 2
         },
         "name": "Theoretical",
         "type": "scatter",
         "x": {
          "bdata": "AQIDBAUG",
          "dtype": "i1"
         },
         "xaxis": "x2",
         "y": {
          "bdata": "VVVVVVVVxT9VVVVVVVXFP1VVVVVVVcU/VVVVVVVVxT9VVVVVVVXFP1VVVVVVVcU/",
          "dtype": "f8"
         },
         "yaxis": "y2"
        },
        {
         "marker": {
          "color": "rgba(58, 71, 80, 0.6)"
         },
         "name": "Empirical (10000 rolls)",
         "type": "bar",
         "x": {
          "bdata": "AQIDBAUG",
          "dtype": "i1"
         },
         "xaxis": "x3",
         "y": {
          "bdata": "o5I6AU2ExT+OdXEbDeDFPyPb+X5qvMQ/UdobfGEyxT9Pr5RliGPFPwyTqYJRScU/",
          "dtype": "f8"
         },
         "yaxis": "y3"
        },
        {
         "line": {
          "color": "rgba(255, 0, 0, 0.8)",
          "width": 2
         },
         "name": "Theoretical",
         "type": "scatter",
         "x": {
          "bdata": "AQIDBAUG",
          "dtype": "i1"
         },
         "xaxis": "x3",
         "y": {
          "bdata": "VVVVVVVVxT9VVVVVVVXFP1VVVVVVVcU/VVVVVVVVxT9VVVVVVVXFP1VVVVVVVcU/",
          "dtype": "f8"
         },
         "yaxis": "y3"
        },
        {
         "marker": {
          "color": "rgba(255, 0, 0, 0.8)"
         },
         "name": "Theoretical",
         "type": "bar",
         "x": {
          "bdata": "AQIDBAUG",
          "dtype": "i1"
         },
         "xaxis": "x4",
         "y": {
          "bdata": "VVVVVVVVxT9VVVVVVVXFP1VVVVVVVcU/VVVVVVVVxT9VVVVVVVXFP1VVVVVVVcU/",
          "dtype": "f8"
         },
         "yaxis": "y4"
        }
       ],
       "layout": {
        "annotations": [
         {
          "font": {
           "size": 16
          },
          "showarrow": false,
          "text": "5 Rolls",
          "x": 0.225,
          "xanchor": "center",
          "xref": "paper",
          "y": 1,
          "yanchor": "bottom",
          "yref": "paper"
         },
         {
          "font": {
           "size": 16
          },
          "showarrow": false,
          "text": "1000 Rolls",
          "x": 0.775,
          "xanchor": "center",
          "xref": "paper",
          "y": 1,
          "yanchor": "bottom",
          "yref": "paper"
         },
         {
          "font": {
           "size": 16
          },
          "showarrow": false,
          "text": "10000 Rolls",
          "x": 0.225,
          "xanchor": "center",
          "xref": "paper",
          "y": 0.44,
          "yanchor": "bottom",
          "yref": "paper"
         },
         {
          "font": {
           "size": 16
          },
          "showarrow": false,
          "text": "Theoretical",
          "x": 0.775,
          "xanchor": "center",
          "xref": "paper",
          "y": 0.44,
          "yanchor": "bottom",
          "yref": "paper"
         }
        ],
        "font": {
         "color": "white"
        },
        "height": 700,
        "paper_bgcolor": "rgba(0,0,0,0)",
        "showlegend": false,
        "template": {
         "data": {
          "bar": [
           {
            "error_x": {
             "color": "#f2f5fa"
            },
            "error_y": {
             "color": "#f2f5fa"
            },
            "marker": {
             "line": {
              "color": "rgb(17,17,17)",
              "width": 0.5
             },
             "pattern": {
              "fillmode": "overlay",
              "size": 10,
              "solidity": 0.2
             }
            },
            "type": "bar"
           }
          ],
          "barpolar": [
           {
            "marker": {
             "line": {
              "color": "rgb(17,17,17)",
              "width": 0.5
             },
             "pattern": {
              "fillmode": "overlay",
              "size": 10,
              "solidity": 0.2
             }
            },
            "type": "barpolar"
           }
          ],
          "carpet": [
           {
            "aaxis": {
             "endlinecolor": "#A2B1C6",
             "gridcolor": "#506784",
             "linecolor": "#506784",
             "minorgridcolor": "#506784",
             "startlinecolor": "#A2B1C6"
            },
            "baxis": {
             "endlinecolor": "#A2B1C6",
             "gridcolor": "#506784",
             "linecolor": "#506784",
             "minorgridcolor": "#506784",
             "startlinecolor": "#A2B1C6"
            },
            "type": "carpet"
           }
          ],
          "choropleth": [
           {
            "colorbar": {
             "outlinewidth": 0,
             "ticks": ""
            },
            "type": "choropleth"
           }
          ],
          "contour": [
           {
            "colorbar": {
             "outlinewidth": 0,
             "ticks": ""
            },
            "colorscale": [
             [
              0,
              "#0d0887"
             ],
             [
              0.1111111111111111,
              "#46039f"
             ],
             [
              0.2222222222222222,
              "#7201a8"
             ],
             [
              0.3333333333333333,
              "#9c179e"
             ],
             [
              0.4444444444444444,
              "#bd3786"
             ],
             [
              0.5555555555555556,
              "#d8576b"
             ],
             [
              0.6666666666666666,
              "#ed7953"
             ],
             [
              0.7777777777777778,
              "#fb9f3a"
             ],
             [
              0.8888888888888888,
              "#fdca26"
             ],
             [
              1,
              "#f0f921"
             ]
            ],
            "type": "contour"
           }
          ],
          "contourcarpet": [
           {
            "colorbar": {
             "outlinewidth": 0,
             "ticks": ""
            },
            "type": "contourcarpet"
           }
          ],
          "heatmap": [
           {
            "colorbar": {
             "outlinewidth": 0,
             "ticks": ""
            },
            "colorscale": [
             [
              0,
              "#0d0887"
             ],
             [
              0.1111111111111111,
              "#46039f"
             ],
             [
              0.2222222222222222,
              "#7201a8"
             ],
             [
              0.3333333333333333,
              "#9c179e"
             ],
             [
              0.4444444444444444,
              "#bd3786"
             ],
             [
              0.5555555555555556,
              "#d8576b"
             ],
             [
              0.6666666666666666,
              "#ed7953"
             ],
             [
              0.7777777777777778,
              "#fb9f3a"
             ],
             [
              0.8888888888888888,
              "#fdca26"
             ],
             [
              1,
              "#f0f921"
             ]
            ],
            "type": "heatmap"
           }
          ],
          "histogram": [
           {
            "marker": {
             "pattern": {
              "fillmode": "overlay",
              "size": 10,
              "solidity": 0.2
             }
            },
            "type": "histogram"
           }
          ],
          "histogram2d": [
           {
            "colorbar": {
             "outlinewidth": 0,
             "ticks": ""
            },
            "colorscale": [
             [
              0,
              "#0d0887"
             ],
             [
              0.1111111111111111,
              "#46039f"
             ],
             [
              0.2222222222222222,
              "#7201a8"
             ],
             [
              0.3333333333333333,
              "#9c179e"
             ],
             [
              0.4444444444444444,
              "#bd3786"
             ],
             [
              0.5555555555555556,
              "#d8576b"
             ],
             [
              0.6666666666666666,
              "#ed7953"
             ],
             [
              0.7777777777777778,
              "#fb9f3a"
             ],
             [
              0.8888888888888888,
              "#fdca26"
             ],
             [
              1,
              "#f0f921"
             ]
            ],
            "type": "histogram2d"
           }
          ],
          "histogram2dcontour": [
           {
            "colorbar": {
             "outlinewidth": 0,
             "ticks": ""
            },
            "colorscale": [
             [
              0,
              "#0d0887"
             ],
             [
              0.1111111111111111,
              "#46039f"
             ],
             [
              0.2222222222222222,
              "#7201a8"
             ],
             [
              0.3333333333333333,
              "#9c179e"
             ],
             [
              0.4444444444444444,
              "#bd3786"
             ],
             [
              0.5555555555555556,
              "#d8576b"
             ],
             [
              0.6666666666666666,
              "#ed7953"
             ],
             [
              0.7777777777777778,
              "#fb9f3a"
             ],
             [
              0.8888888888888888,
              "#fdca26"
             ],
             [
              1,
              "#f0f921"
             ]
            ],
            "type": "histogram2dcontour"
           }
          ],
          "mesh3d": [
           {
            "colorbar": {
             "outlinewidth": 0,
             "ticks": ""
            },
            "type": "mesh3d"
           }
          ],
          "parcoords": [
           {
            "line": {
             "colorbar": {
              "outlinewidth": 0,
              "ticks": ""
             }
            },
            "type": "parcoords"
           }
          ],
          "pie": [
           {
            "automargin": true,
            "type": "pie"
           }
          ],
          "scatter": [
           {
            "marker": {
             "line": {
              "color": "#283442"
             }
            },
            "type": "scatter"
           }
          ],
          "scatter3d": [
           {
            "line": {
             "colorbar": {
              "outlinewidth": 0,
              "ticks": ""
             }
            },
            "marker": {
             "colorbar": {
              "outlinewidth": 0,
              "ticks": ""
             }
            },
            "type": "scatter3d"
           }
          ],
          "scattercarpet": [
           {
            "marker": {
             "colorbar": {
              "outlinewidth": 0,
              "ticks": ""
             }
            },
            "type": "scattercarpet"
           }
          ],
          "scattergeo": [
           {
            "marker": {
             "colorbar": {
              "outlinewidth": 0,
              "ticks": ""
             }
            },
            "type": "scattergeo"
           }
          ],
          "scattergl": [
           {
            "marker": {
             "line": {
              "color": "#283442"
             }
            },
            "type": "scattergl"
           }
          ],
          "scattermap": [
           {
            "marker": {
             "colorbar": {
              "outlinewidth": 0,
              "ticks": ""
             }
            },
            "type": "scattermap"
           }
          ],
          "scattermapbox": [
           {
            "marker": {
             "colorbar": {
              "outlinewidth": 0,
              "ticks": ""
             }
            },
            "type": "scattermapbox"
           }
          ],
          "scatterpolar": [
           {
            "marker": {
             "colorbar": {
              "outlinewidth": 0,
              "ticks": ""
             }
            },
            "type": "scatterpolar"
           }
          ],
          "scatterpolargl": [
           {
            "marker": {
             "colorbar": {
              "outlinewidth": 0,
              "ticks": ""
             }
            },
            "type": "scatterpolargl"
           }
          ],
          "scatterternary": [
           {
            "marker": {
             "colorbar": {
              "outlinewidth": 0,
              "ticks": ""
             }
            },
            "type": "scatterternary"
           }
          ],
          "surface": [
           {
            "colorbar": {
             "outlinewidth": 0,
             "ticks": ""
            },
            "colorscale": [
             [
              0,
              "#0d0887"
             ],
             [
              0.1111111111111111,
              "#46039f"
             ],
             [
              0.2222222222222222,
              "#7201a8"
             ],
             [
              0.3333333333333333,
              "#9c179e"
             ],
             [
              0.4444444444444444,
              "#bd3786"
             ],
             [
              0.5555555555555556,
              "#d8576b"
             ],
             [
              0.6666666666666666,
              "#ed7953"
             ],
             [
              0.7777777777777778,
              "#fb9f3a"
             ],
             [
              0.8888888888888888,
              "#fdca26"
             ],
             [
              1,
              "#f0f921"
             ]
            ],
            "type": "surface"
           }
          ],
          "table": [
           {
            "cells": {
             "fill": {
              "color": "#506784"
             },
             "line": {
              "color": "rgb(17,17,17)"
             }
            },
            "header": {
             "fill": {
              "color": "#2a3f5f"
             },
             "line": {
              "color": "rgb(17,17,17)"
             }
            },
            "type": "table"
           }
          ]
         },
         "layout": {
          "annotationdefaults": {
           "arrowcolor": "#f2f5fa",
           "arrowhead": 0,
           "arrowwidth": 1
          },
          "autotypenumbers": "strict",
          "coloraxis": {
           "colorbar": {
            "outlinewidth": 0,
            "ticks": ""
           }
          },
          "colorscale": {
           "diverging": [
            [
             0,
             "#8e0152"
            ],
            [
             0.1,
             "#c51b7d"
            ],
            [
             0.2,
             "#de77ae"
            ],
            [
             0.3,
             "#f1b6da"
            ],
            [
             0.4,
             "#fde0ef"
            ],
            [
             0.5,
             "#f7f7f7"
            ],
            [
             0.6,
             "#e6f5d0"
            ],
            [
             0.7,
             "#b8e186"
            ],
            [
             0.8,
             "#7fbc41"
            ],
            [
             0.9,
             "#4d9221"
            ],
            [
             1,
             "#276419"
            ]
           ],
           "sequential": [
            [
             0,
             "#0d0887"
            ],
            [
             0.1111111111111111,
             "#46039f"
            ],
            [
             0.2222222222222222,
             "#7201a8"
            ],
            [
             0.3333333333333333,
             "#9c179e"
            ],
            [
             0.4444444444444444,
             "#bd3786"
            ],
            [
             0.5555555555555556,
             "#d8576b"
            ],
            [
             0.6666666666666666,
             "#ed7953"
            ],
            [
             0.7777777777777778,
             "#fb9f3a"
            ],
            [
             0.8888888888888888,
             "#fdca26"
            ],
            [
             1,
             "#f0f921"
            ]
           ],
           "sequentialminus": [
            [
             0,
             "#0d0887"
            ],
            [
             0.1111111111111111,
             "#46039f"
            ],
            [
             0.2222222222222222,
             "#7201a8"
            ],
            [
             0.3333333333333333,
             "#9c179e"
            ],
            [
             0.4444444444444444,
             "#bd3786"
            ],
            [
             0.5555555555555556,
             "#d8576b"
            ],
            [
             0.6666666666666666,
             "#ed7953"
            ],
            [
             0.7777777777777778,
             "#fb9f3a"
            ],
            [
             0.8888888888888888,
             "#fdca26"
            ],
            [
             1,
             "#f0f921"
            ]
           ]
          },
          "colorway": [
           "#636efa",
           "#EF553B",
           "#00cc96",
           "#ab63fa",
           "#FFA15A",
           "#19d3f3",
           "#FF6692",
           "#B6E880",
           "#FF97FF",
           "#FECB52"
          ],
          "font": {
           "color": "#f2f5fa"
          },
          "geo": {
           "bgcolor": "rgb(17,17,17)",
           "lakecolor": "rgb(17,17,17)",
           "landcolor": "rgb(17,17,17)",
           "showlakes": true,
           "showland": true,
           "subunitcolor": "#506784"
          },
          "hoverlabel": {
           "align": "left"
          },
          "hovermode": "closest",
          "mapbox": {
           "style": "dark"
          },
          "paper_bgcolor": "rgb(17,17,17)",
          "plot_bgcolor": "rgb(17,17,17)",
          "polar": {
           "angularaxis": {
            "gridcolor": "#506784",
            "linecolor": "#506784",
            "ticks": ""
           },
           "bgcolor": "rgb(17,17,17)",
           "radialaxis": {
            "gridcolor": "#506784",
            "linecolor": "#506784",
            "ticks": ""
           }
          },
          "scene": {
           "xaxis": {
            "backgroundcolor": "rgb(17,17,17)",
            "gridcolor": "#506784",
            "gridwidth": 2,
            "linecolor": "#506784",
            "showbackground": true,
            "ticks": "",
            "zerolinecolor": "#C8D4E3"
           },
           "yaxis": {
            "backgroundcolor": "rgb(17,17,17)",
            "gridcolor": "#506784",
            "gridwidth": 2,
            "linecolor": "#506784",
            "showbackground": true,
            "ticks": "",
            "zerolinecolor": "#C8D4E3"
           },
           "zaxis": {
            "backgroundcolor": "rgb(17,17,17)",
            "gridcolor": "#506784",
            "gridwidth": 2,
            "linecolor": "#506784",
            "showbackground": true,
            "ticks": "",
            "zerolinecolor": "#C8D4E3"
           }
          },
          "shapedefaults": {
           "line": {
            "color": "#f2f5fa"
           }
          },
          "sliderdefaults": {
           "bgcolor": "#C8D4E3",
           "bordercolor": "rgb(17,17,17)",
           "borderwidth": 1,
           "tickwidth": 0
          },
          "ternary": {
           "aaxis": {
            "gridcolor": "#506784",
            "linecolor": "#506784",
            "ticks": ""
           },
           "baxis": {
            "gridcolor": "#506784",
            "linecolor": "#506784",
            "ticks": ""
           },
           "bgcolor": "rgb(17,17,17)",
           "caxis": {
            "gridcolor": "#506784",
            "linecolor": "#506784",
            "ticks": ""
           }
          },
          "title": {
           "x": 0.05
          },
          "updatemenudefaults": {
           "bgcolor": "#506784",
           "borderwidth": 0
          },
          "xaxis": {
           "automargin": true,
           "gridcolor": "#283442",
           "linecolor": "#506784",
           "ticks": "",
           "title": {
            "standoff": 15
           },
           "zerolinecolor": "#283442",
           "zerolinewidth": 2
          },
          "yaxis": {
           "automargin": true,
           "gridcolor": "#283442",
           "linecolor": "#506784",
           "ticks": "",
           "title": {
            "standoff": 15
           },
           "zerolinecolor": "#283442",
           "zerolinewidth": 2
          }
         }
        },
        "title": {
         "font": {
          "size": 20
         },
         "text": "Empirical vs Theoretical Dice Roll Distributions",
         "x": 0.5
        },
        "xaxis": {
         "anchor": "y",
         "domain": [
          0,
          0.45
         ],
         "gridcolor": "rgba(128,128,128,0.2)",
         "gridwidth": 1,
         "showgrid": true,
         "title": {
          "text": "Dice Value"
         },
         "zeroline": true,
         "zerolinecolor": "rgba(128,128,128,0.5)",
         "zerolinewidth": 1
        },
        "xaxis2": {
         "anchor": "y2",
         "domain": [
          0.55,
          1
         ],
         "gridcolor": "rgba(128,128,128,0.2)",
         "gridwidth": 1,
         "showgrid": true,
         "title": {
          "text": "Dice Value"
         },
         "zeroline": true,
         "zerolinecolor": "rgba(128,128,128,0.5)",
         "zerolinewidth": 1
        },
        "xaxis3": {
         "anchor": "y3",
         "domain": [
          0,
          0.45
         ],
         "gridcolor": "rgba(128,128,128,0.2)",
         "gridwidth": 1,
         "showgrid": true,
         "title": {
          "text": "Dice Value"
         },
         "zeroline": true,
         "zerolinecolor": "rgba(128,128,128,0.5)",
         "zerolinewidth": 1
        },
        "xaxis4": {
         "anchor": "y4",
         "domain": [
          0.55,
          1
         ],
         "gridcolor": "rgba(128,128,128,0.2)",
         "gridwidth": 1,
         "showgrid": true,
         "title": {
          "text": "Dice Value"
         },
         "zeroline": true,
         "zerolinecolor": "rgba(128,128,128,0.5)",
         "zerolinewidth": 1
        },
        "yaxis": {
         "anchor": "x",
         "domain": [
          0.56,
          1
         ],
         "gridcolor": "rgba(128,128,128,0.2)",
         "gridwidth": 1,
         "showgrid": true,
         "title": {
          "text": "Probability"
         },
         "zeroline": true,
         "zerolinecolor": "rgba(128,128,128,0.5)",
         "zerolinewidth": 1
        },
        "yaxis2": {
         "anchor": "x2",
         "domain": [
          0.56,
          1
         ],
         "gridcolor": "rgba(128,128,128,0.2)",
         "gridwidth": 1,
         "showgrid": true,
         "title": {
          "text": "Probability"
         },
         "zeroline": true,
         "zerolinecolor": "rgba(128,128,128,0.5)",
         "zerolinewidth": 1
        },
        "yaxis3": {
         "anchor": "x3",
         "domain": [
          0,
          0.44
         ],
         "gridcolor": "rgba(128,128,128,0.2)",
         "gridwidth": 1,
         "showgrid": true,
         "title": {
          "text": "Probability"
         },
         "zeroline": true,
         "zerolinecolor": "rgba(128,128,128,0.5)",
         "zerolinewidth": 1
        },
        "yaxis4": {
         "anchor": "x4",
         "domain": [
          0,
          0.44
         ],
         "gridcolor": "rgba(128,128,128,0.2)",
         "gridwidth": 1,
         "showgrid": true,
         "title": {
          "text": "Probability"
         },
         "zeroline": true,
         "zerolinecolor": "rgba(128,128,128,0.5)",
         "zerolinewidth": 1
        }
       }
      }
     },
     "metadata": {},
     "output_type": "display_data"
    }
   ],
   "source": [
    "import numpy as np\n",
    "import plotly.subplots as sp\n",
    "import plotly.graph_objects as go\n",
    "\n",
    "# Set random seed for reproducibility\n",
    "np.random.seed(42)\n",
    "\n",
    "# Create subplots\n",
    "fig = sp.make_subplots(rows=2, cols=2, \n",
    "                       subplot_titles=('5 Rolls', '1000 Rolls', '10000 Rolls', 'Theoretical'),\n",
    "                       vertical_spacing=0.12,\n",
    "                       horizontal_spacing=0.1)\n",
    "\n",
    "# Theoretical probability (uniform distribution)\n",
    "theoretical = np.ones(6) / 6\n",
    "x_vals = np.arange(1, 7)\n",
    "\n",
    "# Generate different numbers of rolls\n",
    "rolls = [5, 1000, 10000]\n",
    "positions = [(1,1), (1,2), (2,1)]\n",
    "\n",
    "for rolls_count, pos in zip(rolls, positions):\n",
    "    # Generate random rolls\n",
    "    empirical = np.random.randint(1, 7, size=rolls_count)\n",
    "    \n",
    "    # Calculate empirical probabilities\n",
    "    counts = np.bincount(empirical)[1:]\n",
    "    empirical_prob = counts / rolls_count\n",
    "    \n",
    "    # Add bars for empirical distribution\n",
    "    fig.add_trace(\n",
    "        go.Bar(x=x_vals, y=empirical_prob, name=f'Empirical ({rolls_count} rolls)',\n",
    "               marker_color='rgba(58, 71, 80, 0.6)'),\n",
    "        row=pos[0], col=pos[1]\n",
    "    )\n",
    "    \n",
    "    # Add line for theoretical distribution\n",
    "    fig.add_trace(\n",
    "        go.Scatter(x=x_vals, y=theoretical, name='Theoretical',\n",
    "                  line=dict(color='rgba(255, 0, 0, 0.8)', width=2)),\n",
    "        row=pos[0], col=pos[1]\n",
    "    )\n",
    "\n",
    "# Add theoretical distribution plot\n",
    "fig.add_trace(\n",
    "    go.Bar(x=x_vals, y=theoretical, name='Theoretical',\n",
    "           marker_color='rgba(255, 0, 0, 0.8)'),\n",
    "    row=2, col=2\n",
    ")\n",
    "\n",
    "# Update layout\n",
    "fig.update_layout(\n",
    "    height=700,\n",
    "    showlegend=False,\n",
    "    template='plotly_dark',\n",
    "    paper_bgcolor='rgba(0,0,0,0)',\n",
    "    font=dict(color='white'),\n",
    "    title_text='Empirical vs Theoretical Dice Roll Distributions',\n",
    "    title_x=0.5,\n",
    "    title_font_size=20\n",
    ")\n",
    "\n",
    "# Update axes\n",
    "for i in range(1, 3):\n",
    "    for j in range(1, 3):\n",
    "        fig.update_xaxes(title_text='Dice Value', row=i, col=j,\n",
    "                        showgrid=True, gridwidth=1, gridcolor='rgba(128,128,128,0.2)',\n",
    "                        zeroline=True, zerolinewidth=1, zerolinecolor='rgba(128,128,128,0.5)')\n",
    "        fig.update_yaxes(title_text='Probability', row=i, col=j,\n",
    "                        showgrid=True, gridwidth=1, gridcolor='rgba(128,128,128,0.2)',\n",
    "                        zeroline=True, zerolinewidth=1, zerolinecolor='rgba(128,128,128,0.5)')\n",
    "\n",
    "fig.show()\n"
   ]
  },
  {
   "cell_type": "markdown",
   "id": "587394c7",
   "metadata": {},
   "source": [
    "**Remark:** Though here we can see the distributions will converge, in reality this will only be the case under specific circumstances where there is stable well defined structure that is relatively time invariant.  More on this below..."
   ]
  },
  {
   "cell_type": "markdown",
   "id": "826c22ab",
   "metadata": {},
   "source": [
    "---"
   ]
  },
  {
   "cell_type": "markdown",
   "id": "a93c71d9",
   "metadata": {},
   "source": [
    "### 2.) 🎯 Predictions as Expectations\n",
    "\n",
    "When we are dealing with *actual* randomness, the best we can do is the expectation.  There is no machine learning model or artificial intelligence model on this planet that can predict the outcome of my dice that I roll.  \n",
    "\n",
    "If you want to get theoretical and argue that its not *true* randomness, substitute this for JPM's *true* quantum randomness."
   ]
  },
  {
   "cell_type": "markdown",
   "id": "7a0e19d7",
   "metadata": {},
   "source": [
    "##### <u>Predicting a Dice Roll using the Expectation and Artificial Intelligence</u>"
   ]
  },
  {
   "cell_type": "code",
   "execution_count": 5,
   "id": "8b4601ed",
   "metadata": {},
   "outputs": [
    {
     "name": "stdout",
     "output_type": "stream",
     "text": [
      "Epoch [100/1000], Loss: 3.3479\n",
      "Epoch [200/1000], Loss: 2.9152\n",
      "Epoch [300/1000], Loss: 2.9152\n",
      "Epoch [400/1000], Loss: 2.9152\n",
      "Epoch [500/1000], Loss: 2.9152\n",
      "Epoch [600/1000], Loss: 2.9152\n",
      "Epoch [700/1000], Loss: 2.9152\n",
      "Epoch [800/1000], Loss: 2.9152\n",
      "Epoch [900/1000], Loss: 2.9152\n",
      "Epoch [1000/1000], Loss: 2.9152\n",
      "\n",
      "Average prediction: 3.5019001960754395\n",
      "Expected value of a fair die: 3.5\n"
     ]
    }
   ],
   "source": [
    "import torch\n",
    "import torch.nn as nn\n",
    "import numpy as np\n",
    "\n",
    "# Generate data\n",
    "X = torch.ones((10000, 1))  # Input: vector of 1s\n",
    "y = torch.tensor(np.random.randint(1, 7, size=10000)).float()  # Random dice rolls\n",
    "\n",
    "# Define simple neural network\n",
    "class DicePredictor(nn.Module):\n",
    "    def __init__(self):\n",
    "        super().__init__()\n",
    "        self.layer1 = nn.Linear(1, 32)\n",
    "        self.layer2 = nn.Linear(32, 16)\n",
    "        self.layer3 = nn.Linear(16, 1)\n",
    "        self.relu = nn.ReLU()\n",
    "        \n",
    "    def forward(self, x):\n",
    "        x = self.relu(self.layer1(x))\n",
    "        x = self.relu(self.layer2(x))\n",
    "        x = self.layer3(x)\n",
    "        return x\n",
    "\n",
    "# Initialize model, loss function, and optimizer\n",
    "model = DicePredictor()\n",
    "criterion = nn.MSELoss()\n",
    "optimizer = torch.optim.Adam(model.parameters(), lr=0.001)\n",
    "\n",
    "# Train the model\n",
    "epochs = 1000\n",
    "for epoch in range(epochs):\n",
    "    # Forward pass\n",
    "    outputs = model(X)\n",
    "    loss = criterion(outputs, y.unsqueeze(1))\n",
    "    \n",
    "    # Backward pass and optimize\n",
    "    optimizer.zero_grad()\n",
    "    loss.backward()\n",
    "    optimizer.step()\n",
    "    \n",
    "    if (epoch + 1) % 100 == 0:\n",
    "        print(f'Epoch [{epoch+1}/{epochs}], Loss: {loss.item():.4f}')\n",
    "\n",
    "# Make predictions\n",
    "with torch.no_grad():\n",
    "    test_input = torch.ones((1000, 1))\n",
    "    predictions = model(test_input)\n",
    "    \n",
    "print(\"\\nAverage prediction:\", predictions.mean().item())\n",
    "print(\"Expected value of a fair die:\", 3.5)\n"
   ]
  },
  {
   "cell_type": "code",
   "execution_count": 6,
   "id": "07a7cd85",
   "metadata": {},
   "outputs": [
    {
     "data": {
      "application/vnd.plotly.v1+json": {
       "config": {
        "plotlyServerURL": "https://plot.ly"
       },
       "data": [
        {
         "marker": {
          "color": [
           "rgba(58, 71, 80, 0.6)",
           "rgba(58, 71, 80, 0.6)"
          ]
         },
         "type": "bar",
         "x": [
          "Expected Value (3.5)",
          "Neural Network"
         ],
         "y": [
          2.92224,
          2.9222296641498966
         ]
        }
       ],
       "layout": {
        "font": {
         "color": "white"
        },
        "height": 400,
        "paper_bgcolor": "rgba(0,0,0,0)",
        "template": {
         "data": {
          "bar": [
           {
            "error_x": {
             "color": "#f2f5fa"
            },
            "error_y": {
             "color": "#f2f5fa"
            },
            "marker": {
             "line": {
              "color": "rgb(17,17,17)",
              "width": 0.5
             },
             "pattern": {
              "fillmode": "overlay",
              "size": 10,
              "solidity": 0.2
             }
            },
            "type": "bar"
           }
          ],
          "barpolar": [
           {
            "marker": {
             "line": {
              "color": "rgb(17,17,17)",
              "width": 0.5
             },
             "pattern": {
              "fillmode": "overlay",
              "size": 10,
              "solidity": 0.2
             }
            },
            "type": "barpolar"
           }
          ],
          "carpet": [
           {
            "aaxis": {
             "endlinecolor": "#A2B1C6",
             "gridcolor": "#506784",
             "linecolor": "#506784",
             "minorgridcolor": "#506784",
             "startlinecolor": "#A2B1C6"
            },
            "baxis": {
             "endlinecolor": "#A2B1C6",
             "gridcolor": "#506784",
             "linecolor": "#506784",
             "minorgridcolor": "#506784",
             "startlinecolor": "#A2B1C6"
            },
            "type": "carpet"
           }
          ],
          "choropleth": [
           {
            "colorbar": {
             "outlinewidth": 0,
             "ticks": ""
            },
            "type": "choropleth"
           }
          ],
          "contour": [
           {
            "colorbar": {
             "outlinewidth": 0,
             "ticks": ""
            },
            "colorscale": [
             [
              0,
              "#0d0887"
             ],
             [
              0.1111111111111111,
              "#46039f"
             ],
             [
              0.2222222222222222,
              "#7201a8"
             ],
             [
              0.3333333333333333,
              "#9c179e"
             ],
             [
              0.4444444444444444,
              "#bd3786"
             ],
             [
              0.5555555555555556,
              "#d8576b"
             ],
             [
              0.6666666666666666,
              "#ed7953"
             ],
             [
              0.7777777777777778,
              "#fb9f3a"
             ],
             [
              0.8888888888888888,
              "#fdca26"
             ],
             [
              1,
              "#f0f921"
             ]
            ],
            "type": "contour"
           }
          ],
          "contourcarpet": [
           {
            "colorbar": {
             "outlinewidth": 0,
             "ticks": ""
            },
            "type": "contourcarpet"
           }
          ],
          "heatmap": [
           {
            "colorbar": {
             "outlinewidth": 0,
             "ticks": ""
            },
            "colorscale": [
             [
              0,
              "#0d0887"
             ],
             [
              0.1111111111111111,
              "#46039f"
             ],
             [
              0.2222222222222222,
              "#7201a8"
             ],
             [
              0.3333333333333333,
              "#9c179e"
             ],
             [
              0.4444444444444444,
              "#bd3786"
             ],
             [
              0.5555555555555556,
              "#d8576b"
             ],
             [
              0.6666666666666666,
              "#ed7953"
             ],
             [
              0.7777777777777778,
              "#fb9f3a"
             ],
             [
              0.8888888888888888,
              "#fdca26"
             ],
             [
              1,
              "#f0f921"
             ]
            ],
            "type": "heatmap"
           }
          ],
          "histogram": [
           {
            "marker": {
             "pattern": {
              "fillmode": "overlay",
              "size": 10,
              "solidity": 0.2
             }
            },
            "type": "histogram"
           }
          ],
          "histogram2d": [
           {
            "colorbar": {
             "outlinewidth": 0,
             "ticks": ""
            },
            "colorscale": [
             [
              0,
              "#0d0887"
             ],
             [
              0.1111111111111111,
              "#46039f"
             ],
             [
              0.2222222222222222,
              "#7201a8"
             ],
             [
              0.3333333333333333,
              "#9c179e"
             ],
             [
              0.4444444444444444,
              "#bd3786"
             ],
             [
              0.5555555555555556,
              "#d8576b"
             ],
             [
              0.6666666666666666,
              "#ed7953"
             ],
             [
              0.7777777777777778,
              "#fb9f3a"
             ],
             [
              0.8888888888888888,
              "#fdca26"
             ],
             [
              1,
              "#f0f921"
             ]
            ],
            "type": "histogram2d"
           }
          ],
          "histogram2dcontour": [
           {
            "colorbar": {
             "outlinewidth": 0,
             "ticks": ""
            },
            "colorscale": [
             [
              0,
              "#0d0887"
             ],
             [
              0.1111111111111111,
              "#46039f"
             ],
             [
              0.2222222222222222,
              "#7201a8"
             ],
             [
              0.3333333333333333,
              "#9c179e"
             ],
             [
              0.4444444444444444,
              "#bd3786"
             ],
             [
              0.5555555555555556,
              "#d8576b"
             ],
             [
              0.6666666666666666,
              "#ed7953"
             ],
             [
              0.7777777777777778,
              "#fb9f3a"
             ],
             [
              0.8888888888888888,
              "#fdca26"
             ],
             [
              1,
              "#f0f921"
             ]
            ],
            "type": "histogram2dcontour"
           }
          ],
          "mesh3d": [
           {
            "colorbar": {
             "outlinewidth": 0,
             "ticks": ""
            },
            "type": "mesh3d"
           }
          ],
          "parcoords": [
           {
            "line": {
             "colorbar": {
              "outlinewidth": 0,
              "ticks": ""
             }
            },
            "type": "parcoords"
           }
          ],
          "pie": [
           {
            "automargin": true,
            "type": "pie"
           }
          ],
          "scatter": [
           {
            "marker": {
             "line": {
              "color": "#283442"
             }
            },
            "type": "scatter"
           }
          ],
          "scatter3d": [
           {
            "line": {
             "colorbar": {
              "outlinewidth": 0,
              "ticks": ""
             }
            },
            "marker": {
             "colorbar": {
              "outlinewidth": 0,
              "ticks": ""
             }
            },
            "type": "scatter3d"
           }
          ],
          "scattercarpet": [
           {
            "marker": {
             "colorbar": {
              "outlinewidth": 0,
              "ticks": ""
             }
            },
            "type": "scattercarpet"
           }
          ],
          "scattergeo": [
           {
            "marker": {
             "colorbar": {
              "outlinewidth": 0,
              "ticks": ""
             }
            },
            "type": "scattergeo"
           }
          ],
          "scattergl": [
           {
            "marker": {
             "line": {
              "color": "#283442"
             }
            },
            "type": "scattergl"
           }
          ],
          "scattermap": [
           {
            "marker": {
             "colorbar": {
              "outlinewidth": 0,
              "ticks": ""
             }
            },
            "type": "scattermap"
           }
          ],
          "scattermapbox": [
           {
            "marker": {
             "colorbar": {
              "outlinewidth": 0,
              "ticks": ""
             }
            },
            "type": "scattermapbox"
           }
          ],
          "scatterpolar": [
           {
            "marker": {
             "colorbar": {
              "outlinewidth": 0,
              "ticks": ""
             }
            },
            "type": "scatterpolar"
           }
          ],
          "scatterpolargl": [
           {
            "marker": {
             "colorbar": {
              "outlinewidth": 0,
              "ticks": ""
             }
            },
            "type": "scatterpolargl"
           }
          ],
          "scatterternary": [
           {
            "marker": {
             "colorbar": {
              "outlinewidth": 0,
              "ticks": ""
             }
            },
            "type": "scatterternary"
           }
          ],
          "surface": [
           {
            "colorbar": {
             "outlinewidth": 0,
             "ticks": ""
            },
            "colorscale": [
             [
              0,
              "#0d0887"
             ],
             [
              0.1111111111111111,
              "#46039f"
             ],
             [
              0.2222222222222222,
              "#7201a8"
             ],
             [
              0.3333333333333333,
              "#9c179e"
             ],
             [
              0.4444444444444444,
              "#bd3786"
             ],
             [
              0.5555555555555556,
              "#d8576b"
             ],
             [
              0.6666666666666666,
              "#ed7953"
             ],
             [
              0.7777777777777778,
              "#fb9f3a"
             ],
             [
              0.8888888888888888,
              "#fdca26"
             ],
             [
              1,
              "#f0f921"
             ]
            ],
            "type": "surface"
           }
          ],
          "table": [
           {
            "cells": {
             "fill": {
              "color": "#506784"
             },
             "line": {
              "color": "rgb(17,17,17)"
             }
            },
            "header": {
             "fill": {
              "color": "#2a3f5f"
             },
             "line": {
              "color": "rgb(17,17,17)"
             }
            },
            "type": "table"
           }
          ]
         },
         "layout": {
          "annotationdefaults": {
           "arrowcolor": "#f2f5fa",
           "arrowhead": 0,
           "arrowwidth": 1
          },
          "autotypenumbers": "strict",
          "coloraxis": {
           "colorbar": {
            "outlinewidth": 0,
            "ticks": ""
           }
          },
          "colorscale": {
           "diverging": [
            [
             0,
             "#8e0152"
            ],
            [
             0.1,
             "#c51b7d"
            ],
            [
             0.2,
             "#de77ae"
            ],
            [
             0.3,
             "#f1b6da"
            ],
            [
             0.4,
             "#fde0ef"
            ],
            [
             0.5,
             "#f7f7f7"
            ],
            [
             0.6,
             "#e6f5d0"
            ],
            [
             0.7,
             "#b8e186"
            ],
            [
             0.8,
             "#7fbc41"
            ],
            [
             0.9,
             "#4d9221"
            ],
            [
             1,
             "#276419"
            ]
           ],
           "sequential": [
            [
             0,
             "#0d0887"
            ],
            [
             0.1111111111111111,
             "#46039f"
            ],
            [
             0.2222222222222222,
             "#7201a8"
            ],
            [
             0.3333333333333333,
             "#9c179e"
            ],
            [
             0.4444444444444444,
             "#bd3786"
            ],
            [
             0.5555555555555556,
             "#d8576b"
            ],
            [
             0.6666666666666666,
             "#ed7953"
            ],
            [
             0.7777777777777778,
             "#fb9f3a"
            ],
            [
             0.8888888888888888,
             "#fdca26"
            ],
            [
             1,
             "#f0f921"
            ]
           ],
           "sequentialminus": [
            [
             0,
             "#0d0887"
            ],
            [
             0.1111111111111111,
             "#46039f"
            ],
            [
             0.2222222222222222,
             "#7201a8"
            ],
            [
             0.3333333333333333,
             "#9c179e"
            ],
            [
             0.4444444444444444,
             "#bd3786"
            ],
            [
             0.5555555555555556,
             "#d8576b"
            ],
            [
             0.6666666666666666,
             "#ed7953"
            ],
            [
             0.7777777777777778,
             "#fb9f3a"
            ],
            [
             0.8888888888888888,
             "#fdca26"
            ],
            [
             1,
             "#f0f921"
            ]
           ]
          },
          "colorway": [
           "#636efa",
           "#EF553B",
           "#00cc96",
           "#ab63fa",
           "#FFA15A",
           "#19d3f3",
           "#FF6692",
           "#B6E880",
           "#FF97FF",
           "#FECB52"
          ],
          "font": {
           "color": "#f2f5fa"
          },
          "geo": {
           "bgcolor": "rgb(17,17,17)",
           "lakecolor": "rgb(17,17,17)",
           "landcolor": "rgb(17,17,17)",
           "showlakes": true,
           "showland": true,
           "subunitcolor": "#506784"
          },
          "hoverlabel": {
           "align": "left"
          },
          "hovermode": "closest",
          "mapbox": {
           "style": "dark"
          },
          "paper_bgcolor": "rgb(17,17,17)",
          "plot_bgcolor": "rgb(17,17,17)",
          "polar": {
           "angularaxis": {
            "gridcolor": "#506784",
            "linecolor": "#506784",
            "ticks": ""
           },
           "bgcolor": "rgb(17,17,17)",
           "radialaxis": {
            "gridcolor": "#506784",
            "linecolor": "#506784",
            "ticks": ""
           }
          },
          "scene": {
           "xaxis": {
            "backgroundcolor": "rgb(17,17,17)",
            "gridcolor": "#506784",
            "gridwidth": 2,
            "linecolor": "#506784",
            "showbackground": true,
            "ticks": "",
            "zerolinecolor": "#C8D4E3"
           },
           "yaxis": {
            "backgroundcolor": "rgb(17,17,17)",
            "gridcolor": "#506784",
            "gridwidth": 2,
            "linecolor": "#506784",
            "showbackground": true,
            "ticks": "",
            "zerolinecolor": "#C8D4E3"
           },
           "zaxis": {
            "backgroundcolor": "rgb(17,17,17)",
            "gridcolor": "#506784",
            "gridwidth": 2,
            "linecolor": "#506784",
            "showbackground": true,
            "ticks": "",
            "zerolinecolor": "#C8D4E3"
           }
          },
          "shapedefaults": {
           "line": {
            "color": "#f2f5fa"
           }
          },
          "sliderdefaults": {
           "bgcolor": "#C8D4E3",
           "bordercolor": "rgb(17,17,17)",
           "borderwidth": 1,
           "tickwidth": 0
          },
          "ternary": {
           "aaxis": {
            "gridcolor": "#506784",
            "linecolor": "#506784",
            "ticks": ""
           },
           "baxis": {
            "gridcolor": "#506784",
            "linecolor": "#506784",
            "ticks": ""
           },
           "bgcolor": "rgb(17,17,17)",
           "caxis": {
            "gridcolor": "#506784",
            "linecolor": "#506784",
            "ticks": ""
           }
          },
          "title": {
           "x": 0.05
          },
          "updatemenudefaults": {
           "bgcolor": "#506784",
           "borderwidth": 0
          },
          "xaxis": {
           "automargin": true,
           "gridcolor": "#283442",
           "linecolor": "#506784",
           "ticks": "",
           "title": {
            "standoff": 15
           },
           "zerolinecolor": "#283442",
           "zerolinewidth": 2
          },
          "yaxis": {
           "automargin": true,
           "gridcolor": "#283442",
           "linecolor": "#506784",
           "ticks": "",
           "title": {
            "standoff": 15
           },
           "zerolinecolor": "#283442",
           "zerolinewidth": 2
          }
         }
        },
        "title": {
         "font": {
          "size": 20
         },
         "text": "Mean Squared Error Comparison",
         "x": 0.5
        },
        "xaxis": {
         "title": {
          "text": "Prediction Method"
         }
        },
        "yaxis": {
         "gridcolor": "rgba(128,128,128,0.2)",
         "gridwidth": 1,
         "showgrid": true,
         "title": {
          "text": "Mean Squared Error"
         },
         "zeroline": true,
         "zerolinecolor": "rgba(128,128,128,0.5)",
         "zerolinewidth": 1
        }
       }
      }
     },
     "metadata": {},
     "output_type": "display_data"
    },
    {
     "name": "stdout",
     "output_type": "stream",
     "text": [
      "MSE Constant: 2.922240\n",
      "MSE Neural Network: 2.922230\n",
      "MSE Difference: -0.000010\n"
     ]
    }
   ],
   "source": [
    "# Generate 100,000 dice rolls\n",
    "rolls = np.random.randint(1, 7, size=100000)\n",
    "\n",
    "# Calculate MSE for constant prediction of 3.5\n",
    "mse_constant = np.mean((rolls - 3.5) ** 2)\n",
    "\n",
    "# Get neural network predictions for 100,000 inputs\n",
    "with torch.no_grad():\n",
    "    test_input = torch.ones((100000, 1))\n",
    "    nn_predictions = model(test_input).numpy().flatten()\n",
    "    mse_nn = np.mean((rolls - nn_predictions) ** 2)\n",
    "\n",
    "# Create figure\n",
    "fig = go.Figure()\n",
    "\n",
    "# Add bars for MSE comparison\n",
    "fig.add_trace(\n",
    "    go.Bar(\n",
    "        x=['Expected Value (3.5)', 'Neural Network'],\n",
    "        y=[mse_constant, mse_nn],\n",
    "        marker_color=['rgba(58, 71, 80, 0.6)', 'rgba(58, 71, 80, 0.6)']\n",
    "    )\n",
    ")\n",
    "\n",
    "# Update layout\n",
    "fig.update_layout(\n",
    "    height=400,\n",
    "    template='plotly_dark',\n",
    "    paper_bgcolor='rgba(0,0,0,0)',\n",
    "    font=dict(color='white'),\n",
    "    title_text='Mean Squared Error Comparison',\n",
    "    title_x=0.5,\n",
    "    title_font_size=20,\n",
    "    xaxis_title='Prediction Method',\n",
    "    yaxis_title='Mean Squared Error',\n",
    "    yaxis=dict(\n",
    "        gridwidth=1,\n",
    "        gridcolor='rgba(128,128,128,0.2)',\n",
    "        zeroline=True,\n",
    "        zerolinewidth=1,\n",
    "        zerolinecolor='rgba(128,128,128,0.5)',\n",
    "        showgrid=True\n",
    "    )\n",
    ")\n",
    "\n",
    "fig.show()\n",
    "print(f\"MSE Constant: {mse_constant:.6f}\")\n",
    "print(f\"MSE Neural Network: {mse_nn:.6f}\")\n",
    "print(f\"MSE Difference: {mse_nn - mse_constant:.6f}\")"
   ]
  },
  {
   "cell_type": "markdown",
   "id": "d4167a03",
   "metadata": {},
   "source": [
    "---"
   ]
  },
  {
   "cell_type": "markdown",
   "id": "f3fd0fd4",
   "metadata": {},
   "source": [
    "### 3.) 🦾 What AI Actually Learns\n",
    "\n",
    "Any machine learning or artificial intelligence algorithm is learning the expectation, more specifically its learning a non-linear conditional expectation. \n",
    "\n",
    "There is no such thing as a prediction, its producing an expectation level for decision making.  \n",
    "\n",
    "Most thinks without an infinite number of inputs are not *one-to-one*, think about age and height - is everyone who is the same age the same height? No, but if we condition on enough data we can model the differences.  Too much conditioning and we miss the plot and overfit - not enough and we are just left with a terrible level or (*sigh* prediction)."
   ]
  },
  {
   "cell_type": "code",
   "execution_count": 7,
   "id": "1288162f",
   "metadata": {},
   "outputs": [
    {
     "data": {
      "application/vnd.plotly.v1+json": {
       "config": {
        "plotlyServerURL": "https://plot.ly"
       },
       "data": [
        {
         "marker": {
          "color": "#00b4ff",
          "opacity": 0.6,
          "size": 12
         },
         "mode": "markers",
         "name": "Age-Height Data",
         "type": "scatter",
         "x": [
          25,
          25,
          30,
          35,
          40,
          45,
          50
         ],
         "y": [
          68,
          72,
          70,
          69,
          71,
          68,
          67
         ]
        },
        {
         "marker": {
          "color": "#ff4b00",
          "line": {
           "color": "white",
           "width": 2
          },
          "opacity": 0.8,
          "size": 15
         },
         "mode": "markers",
         "name": "Same Age, Different Heights",
         "type": "scatter",
         "x": [
          25,
          25
         ],
         "y": [
          68,
          72
         ]
        }
       ],
       "layout": {
        "font": {
         "color": "white"
        },
        "height": 400,
        "paper_bgcolor": "rgba(0,0,0,0)",
        "template": {
         "data": {
          "bar": [
           {
            "error_x": {
             "color": "#f2f5fa"
            },
            "error_y": {
             "color": "#f2f5fa"
            },
            "marker": {
             "line": {
              "color": "rgb(17,17,17)",
              "width": 0.5
             },
             "pattern": {
              "fillmode": "overlay",
              "size": 10,
              "solidity": 0.2
             }
            },
            "type": "bar"
           }
          ],
          "barpolar": [
           {
            "marker": {
             "line": {
              "color": "rgb(17,17,17)",
              "width": 0.5
             },
             "pattern": {
              "fillmode": "overlay",
              "size": 10,
              "solidity": 0.2
             }
            },
            "type": "barpolar"
           }
          ],
          "carpet": [
           {
            "aaxis": {
             "endlinecolor": "#A2B1C6",
             "gridcolor": "#506784",
             "linecolor": "#506784",
             "minorgridcolor": "#506784",
             "startlinecolor": "#A2B1C6"
            },
            "baxis": {
             "endlinecolor": "#A2B1C6",
             "gridcolor": "#506784",
             "linecolor": "#506784",
             "minorgridcolor": "#506784",
             "startlinecolor": "#A2B1C6"
            },
            "type": "carpet"
           }
          ],
          "choropleth": [
           {
            "colorbar": {
             "outlinewidth": 0,
             "ticks": ""
            },
            "type": "choropleth"
           }
          ],
          "contour": [
           {
            "colorbar": {
             "outlinewidth": 0,
             "ticks": ""
            },
            "colorscale": [
             [
              0,
              "#0d0887"
             ],
             [
              0.1111111111111111,
              "#46039f"
             ],
             [
              0.2222222222222222,
              "#7201a8"
             ],
             [
              0.3333333333333333,
              "#9c179e"
             ],
             [
              0.4444444444444444,
              "#bd3786"
             ],
             [
              0.5555555555555556,
              "#d8576b"
             ],
             [
              0.6666666666666666,
              "#ed7953"
             ],
             [
              0.7777777777777778,
              "#fb9f3a"
             ],
             [
              0.8888888888888888,
              "#fdca26"
             ],
             [
              1,
              "#f0f921"
             ]
            ],
            "type": "contour"
           }
          ],
          "contourcarpet": [
           {
            "colorbar": {
             "outlinewidth": 0,
             "ticks": ""
            },
            "type": "contourcarpet"
           }
          ],
          "heatmap": [
           {
            "colorbar": {
             "outlinewidth": 0,
             "ticks": ""
            },
            "colorscale": [
             [
              0,
              "#0d0887"
             ],
             [
              0.1111111111111111,
              "#46039f"
             ],
             [
              0.2222222222222222,
              "#7201a8"
             ],
             [
              0.3333333333333333,
              "#9c179e"
             ],
             [
              0.4444444444444444,
              "#bd3786"
             ],
             [
              0.5555555555555556,
              "#d8576b"
             ],
             [
              0.6666666666666666,
              "#ed7953"
             ],
             [
              0.7777777777777778,
              "#fb9f3a"
             ],
             [
              0.8888888888888888,
              "#fdca26"
             ],
             [
              1,
              "#f0f921"
             ]
            ],
            "type": "heatmap"
           }
          ],
          "histogram": [
           {
            "marker": {
             "pattern": {
              "fillmode": "overlay",
              "size": 10,
              "solidity": 0.2
             }
            },
            "type": "histogram"
           }
          ],
          "histogram2d": [
           {
            "colorbar": {
             "outlinewidth": 0,
             "ticks": ""
            },
            "colorscale": [
             [
              0,
              "#0d0887"
             ],
             [
              0.1111111111111111,
              "#46039f"
             ],
             [
              0.2222222222222222,
              "#7201a8"
             ],
             [
              0.3333333333333333,
              "#9c179e"
             ],
             [
              0.4444444444444444,
              "#bd3786"
             ],
             [
              0.5555555555555556,
              "#d8576b"
             ],
             [
              0.6666666666666666,
              "#ed7953"
             ],
             [
              0.7777777777777778,
              "#fb9f3a"
             ],
             [
              0.8888888888888888,
              "#fdca26"
             ],
             [
              1,
              "#f0f921"
             ]
            ],
            "type": "histogram2d"
           }
          ],
          "histogram2dcontour": [
           {
            "colorbar": {
             "outlinewidth": 0,
             "ticks": ""
            },
            "colorscale": [
             [
              0,
              "#0d0887"
             ],
             [
              0.1111111111111111,
              "#46039f"
             ],
             [
              0.2222222222222222,
              "#7201a8"
             ],
             [
              0.3333333333333333,
              "#9c179e"
             ],
             [
              0.4444444444444444,
              "#bd3786"
             ],
             [
              0.5555555555555556,
              "#d8576b"
             ],
             [
              0.6666666666666666,
              "#ed7953"
             ],
             [
              0.7777777777777778,
              "#fb9f3a"
             ],
             [
              0.8888888888888888,
              "#fdca26"
             ],
             [
              1,
              "#f0f921"
             ]
            ],
            "type": "histogram2dcontour"
           }
          ],
          "mesh3d": [
           {
            "colorbar": {
             "outlinewidth": 0,
             "ticks": ""
            },
            "type": "mesh3d"
           }
          ],
          "parcoords": [
           {
            "line": {
             "colorbar": {
              "outlinewidth": 0,
              "ticks": ""
             }
            },
            "type": "parcoords"
           }
          ],
          "pie": [
           {
            "automargin": true,
            "type": "pie"
           }
          ],
          "scatter": [
           {
            "marker": {
             "line": {
              "color": "#283442"
             }
            },
            "type": "scatter"
           }
          ],
          "scatter3d": [
           {
            "line": {
             "colorbar": {
              "outlinewidth": 0,
              "ticks": ""
             }
            },
            "marker": {
             "colorbar": {
              "outlinewidth": 0,
              "ticks": ""
             }
            },
            "type": "scatter3d"
           }
          ],
          "scattercarpet": [
           {
            "marker": {
             "colorbar": {
              "outlinewidth": 0,
              "ticks": ""
             }
            },
            "type": "scattercarpet"
           }
          ],
          "scattergeo": [
           {
            "marker": {
             "colorbar": {
              "outlinewidth": 0,
              "ticks": ""
             }
            },
            "type": "scattergeo"
           }
          ],
          "scattergl": [
           {
            "marker": {
             "line": {
              "color": "#283442"
             }
            },
            "type": "scattergl"
           }
          ],
          "scattermap": [
           {
            "marker": {
             "colorbar": {
              "outlinewidth": 0,
              "ticks": ""
             }
            },
            "type": "scattermap"
           }
          ],
          "scattermapbox": [
           {
            "marker": {
             "colorbar": {
              "outlinewidth": 0,
              "ticks": ""
             }
            },
            "type": "scattermapbox"
           }
          ],
          "scatterpolar": [
           {
            "marker": {
             "colorbar": {
              "outlinewidth": 0,
              "ticks": ""
             }
            },
            "type": "scatterpolar"
           }
          ],
          "scatterpolargl": [
           {
            "marker": {
             "colorbar": {
              "outlinewidth": 0,
              "ticks": ""
             }
            },
            "type": "scatterpolargl"
           }
          ],
          "scatterternary": [
           {
            "marker": {
             "colorbar": {
              "outlinewidth": 0,
              "ticks": ""
             }
            },
            "type": "scatterternary"
           }
          ],
          "surface": [
           {
            "colorbar": {
             "outlinewidth": 0,
             "ticks": ""
            },
            "colorscale": [
             [
              0,
              "#0d0887"
             ],
             [
              0.1111111111111111,
              "#46039f"
             ],
             [
              0.2222222222222222,
              "#7201a8"
             ],
             [
              0.3333333333333333,
              "#9c179e"
             ],
             [
              0.4444444444444444,
              "#bd3786"
             ],
             [
              0.5555555555555556,
              "#d8576b"
             ],
             [
              0.6666666666666666,
              "#ed7953"
             ],
             [
              0.7777777777777778,
              "#fb9f3a"
             ],
             [
              0.8888888888888888,
              "#fdca26"
             ],
             [
              1,
              "#f0f921"
             ]
            ],
            "type": "surface"
           }
          ],
          "table": [
           {
            "cells": {
             "fill": {
              "color": "#506784"
             },
             "line": {
              "color": "rgb(17,17,17)"
             }
            },
            "header": {
             "fill": {
              "color": "#2a3f5f"
             },
             "line": {
              "color": "rgb(17,17,17)"
             }
            },
            "type": "table"
           }
          ]
         },
         "layout": {
          "annotationdefaults": {
           "arrowcolor": "#f2f5fa",
           "arrowhead": 0,
           "arrowwidth": 1
          },
          "autotypenumbers": "strict",
          "coloraxis": {
           "colorbar": {
            "outlinewidth": 0,
            "ticks": ""
           }
          },
          "colorscale": {
           "diverging": [
            [
             0,
             "#8e0152"
            ],
            [
             0.1,
             "#c51b7d"
            ],
            [
             0.2,
             "#de77ae"
            ],
            [
             0.3,
             "#f1b6da"
            ],
            [
             0.4,
             "#fde0ef"
            ],
            [
             0.5,
             "#f7f7f7"
            ],
            [
             0.6,
             "#e6f5d0"
            ],
            [
             0.7,
             "#b8e186"
            ],
            [
             0.8,
             "#7fbc41"
            ],
            [
             0.9,
             "#4d9221"
            ],
            [
             1,
             "#276419"
            ]
           ],
           "sequential": [
            [
             0,
             "#0d0887"
            ],
            [
             0.1111111111111111,
             "#46039f"
            ],
            [
             0.2222222222222222,
             "#7201a8"
            ],
            [
             0.3333333333333333,
             "#9c179e"
            ],
            [
             0.4444444444444444,
             "#bd3786"
            ],
            [
             0.5555555555555556,
             "#d8576b"
            ],
            [
             0.6666666666666666,
             "#ed7953"
            ],
            [
             0.7777777777777778,
             "#fb9f3a"
            ],
            [
             0.8888888888888888,
             "#fdca26"
            ],
            [
             1,
             "#f0f921"
            ]
           ],
           "sequentialminus": [
            [
             0,
             "#0d0887"
            ],
            [
             0.1111111111111111,
             "#46039f"
            ],
            [
             0.2222222222222222,
             "#7201a8"
            ],
            [
             0.3333333333333333,
             "#9c179e"
            ],
            [
             0.4444444444444444,
             "#bd3786"
            ],
            [
             0.5555555555555556,
             "#d8576b"
            ],
            [
             0.6666666666666666,
             "#ed7953"
            ],
            [
             0.7777777777777778,
             "#fb9f3a"
            ],
            [
             0.8888888888888888,
             "#fdca26"
            ],
            [
             1,
             "#f0f921"
            ]
           ]
          },
          "colorway": [
           "#636efa",
           "#EF553B",
           "#00cc96",
           "#ab63fa",
           "#FFA15A",
           "#19d3f3",
           "#FF6692",
           "#B6E880",
           "#FF97FF",
           "#FECB52"
          ],
          "font": {
           "color": "#f2f5fa"
          },
          "geo": {
           "bgcolor": "rgb(17,17,17)",
           "lakecolor": "rgb(17,17,17)",
           "landcolor": "rgb(17,17,17)",
           "showlakes": true,
           "showland": true,
           "subunitcolor": "#506784"
          },
          "hoverlabel": {
           "align": "left"
          },
          "hovermode": "closest",
          "mapbox": {
           "style": "dark"
          },
          "paper_bgcolor": "rgb(17,17,17)",
          "plot_bgcolor": "rgb(17,17,17)",
          "polar": {
           "angularaxis": {
            "gridcolor": "#506784",
            "linecolor": "#506784",
            "ticks": ""
           },
           "bgcolor": "rgb(17,17,17)",
           "radialaxis": {
            "gridcolor": "#506784",
            "linecolor": "#506784",
            "ticks": ""
           }
          },
          "scene": {
           "xaxis": {
            "backgroundcolor": "rgb(17,17,17)",
            "gridcolor": "#506784",
            "gridwidth": 2,
            "linecolor": "#506784",
            "showbackground": true,
            "ticks": "",
            "zerolinecolor": "#C8D4E3"
           },
           "yaxis": {
            "backgroundcolor": "rgb(17,17,17)",
            "gridcolor": "#506784",
            "gridwidth": 2,
            "linecolor": "#506784",
            "showbackground": true,
            "ticks": "",
            "zerolinecolor": "#C8D4E3"
           },
           "zaxis": {
            "backgroundcolor": "rgb(17,17,17)",
            "gridcolor": "#506784",
            "gridwidth": 2,
            "linecolor": "#506784",
            "showbackground": true,
            "ticks": "",
            "zerolinecolor": "#C8D4E3"
           }
          },
          "shapedefaults": {
           "line": {
            "color": "#f2f5fa"
           }
          },
          "sliderdefaults": {
           "bgcolor": "#C8D4E3",
           "bordercolor": "rgb(17,17,17)",
           "borderwidth": 1,
           "tickwidth": 0
          },
          "ternary": {
           "aaxis": {
            "gridcolor": "#506784",
            "linecolor": "#506784",
            "ticks": ""
           },
           "baxis": {
            "gridcolor": "#506784",
            "linecolor": "#506784",
            "ticks": ""
           },
           "bgcolor": "rgb(17,17,17)",
           "caxis": {
            "gridcolor": "#506784",
            "linecolor": "#506784",
            "ticks": ""
           }
          },
          "title": {
           "x": 0.05
          },
          "updatemenudefaults": {
           "bgcolor": "#506784",
           "borderwidth": 0
          },
          "xaxis": {
           "automargin": true,
           "gridcolor": "#283442",
           "linecolor": "#506784",
           "ticks": "",
           "title": {
            "standoff": 15
           },
           "zerolinecolor": "#283442",
           "zerolinewidth": 2
          },
          "yaxis": {
           "automargin": true,
           "gridcolor": "#283442",
           "linecolor": "#506784",
           "ticks": "",
           "title": {
            "standoff": 15
           },
           "zerolinecolor": "#283442",
           "zerolinewidth": 2
          }
         }
        },
        "title": {
         "font": {
          "size": 20
         },
         "text": "Age vs Height Example",
         "x": 0.5
        },
        "xaxis": {
         "title": {
          "text": "Age (years)"
         }
        },
        "yaxis": {
         "gridcolor": "rgba(128,128,128,0.2)",
         "gridwidth": 1,
         "showgrid": true,
         "title": {
          "text": "Height (inches)"
         },
         "zeroline": true,
         "zerolinecolor": "rgba(128,128,128,0.5)",
         "zerolinewidth": 1
        }
       }
      }
     },
     "metadata": {},
     "output_type": "display_data"
    }
   ],
   "source": [
    "import numpy as np\n",
    "import plotly.graph_objects as go\n",
    "\n",
    "# Create sample data\n",
    "np.random.seed(42)\n",
    "ages = [25, 25, 30, 35, 40, 45, 50]  # Two people are age 25\n",
    "heights = [68, 72, 70, 69, 71, 68, 67]  # Different heights for age 25\n",
    "\n",
    "# Create scatter plot\n",
    "fig = go.Figure()\n",
    "\n",
    "# Add scatter points\n",
    "fig.add_trace(go.Scatter(\n",
    "    x=ages,\n",
    "    y=heights,\n",
    "    mode='markers',\n",
    "    marker=dict(\n",
    "        size=12,\n",
    "        color='#00b4ff',\n",
    "        opacity=0.6\n",
    "    ),\n",
    "    name='Age-Height Data'\n",
    "))\n",
    "\n",
    "# Highlight the two points at age 25\n",
    "fig.add_trace(go.Scatter(\n",
    "    x=[25, 25],\n",
    "    y=[68, 72],\n",
    "    mode='markers',\n",
    "    marker=dict(\n",
    "        size=15,\n",
    "        color='#ff4b00',\n",
    "        opacity=0.8,\n",
    "        line=dict(color='white', width=2)\n",
    "    ),\n",
    "    name='Same Age, Different Heights'\n",
    "))\n",
    "\n",
    "# Update layout\n",
    "fig.update_layout(\n",
    "    height=400,\n",
    "    template='plotly_dark',\n",
    "    paper_bgcolor='rgba(0,0,0,0)',\n",
    "    font=dict(color='white'),\n",
    "    title_text='Age vs Height Example',\n",
    "    title_x=0.5,\n",
    "    title_font_size=20,\n",
    "    xaxis_title='Age (years)',\n",
    "    yaxis_title='Height (inches)',\n",
    "    yaxis=dict(\n",
    "        gridwidth=1,\n",
    "        gridcolor='rgba(128,128,128,0.2)',\n",
    "        zeroline=True,\n",
    "        zerolinewidth=1,\n",
    "        zerolinecolor='rgba(128,128,128,0.5)',\n",
    "        showgrid=True\n",
    "    )\n",
    ")\n",
    "\n",
    "fig.show()\n"
   ]
  },
  {
   "cell_type": "markdown",
   "id": "7f63e02c",
   "metadata": {},
   "source": [
    "**Market-Making Example:**\n",
    "\n",
    "Let $X$ be a dice roll with $\\mathbb{E}[X] = 3.5$\n",
    "\n",
    "Let $u \\sim U(0, 1)$\n",
    "\n",
    "**Bid:** $\\mathbb{E}[X] - .5 + u$\n",
    "\n",
    "**Ask:** $\\mathbb{E}[X] + .5 + u$"
   ]
  },
  {
   "cell_type": "code",
   "execution_count": 8,
   "id": "ddfa88eb",
   "metadata": {},
   "outputs": [
    {
     "data": {
      "application/vnd.plotly.v1+json": {
       "config": {
        "plotlyServerURL": "https://plot.ly"
       },
       "data": [
        {
         "marker": {
          "color": "#00b4ff"
         },
         "name": "Mid Price Distribution",
         "nbinsx": 50,
         "type": "histogram",
         "x": {
          "bdata": "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",
          "dtype": "f8"
         }
        }
       ],
       "layout": {
        "font": {
         "color": "white"
        },
        "paper_bgcolor": "rgba(0,0,0,0)",
        "showlegend": false,
        "template": {
         "data": {
          "bar": [
           {
            "error_x": {
             "color": "#f2f5fa"
            },
            "error_y": {
             "color": "#f2f5fa"
            },
            "marker": {
             "line": {
              "color": "rgb(17,17,17)",
              "width": 0.5
             },
             "pattern": {
              "fillmode": "overlay",
              "size": 10,
              "solidity": 0.2
             }
            },
            "type": "bar"
           }
          ],
          "barpolar": [
           {
            "marker": {
             "line": {
              "color": "rgb(17,17,17)",
              "width": 0.5
             },
             "pattern": {
              "fillmode": "overlay",
              "size": 10,
              "solidity": 0.2
             }
            },
            "type": "barpolar"
           }
          ],
          "carpet": [
           {
            "aaxis": {
             "endlinecolor": "#A2B1C6",
             "gridcolor": "#506784",
             "linecolor": "#506784",
             "minorgridcolor": "#506784",
             "startlinecolor": "#A2B1C6"
            },
            "baxis": {
             "endlinecolor": "#A2B1C6",
             "gridcolor": "#506784",
             "linecolor": "#506784",
             "minorgridcolor": "#506784",
             "startlinecolor": "#A2B1C6"
            },
            "type": "carpet"
           }
          ],
          "choropleth": [
           {
            "colorbar": {
             "outlinewidth": 0,
             "ticks": ""
            },
            "type": "choropleth"
           }
          ],
          "contour": [
           {
            "colorbar": {
             "outlinewidth": 0,
             "ticks": ""
            },
            "colorscale": [
             [
              0,
              "#0d0887"
             ],
             [
              0.1111111111111111,
              "#46039f"
             ],
             [
              0.2222222222222222,
              "#7201a8"
             ],
             [
              0.3333333333333333,
              "#9c179e"
             ],
             [
              0.4444444444444444,
              "#bd3786"
             ],
             [
              0.5555555555555556,
              "#d8576b"
             ],
             [
              0.6666666666666666,
              "#ed7953"
             ],
             [
              0.7777777777777778,
              "#fb9f3a"
             ],
             [
              0.8888888888888888,
              "#fdca26"
             ],
             [
              1,
              "#f0f921"
             ]
            ],
            "type": "contour"
           }
          ],
          "contourcarpet": [
           {
            "colorbar": {
             "outlinewidth": 0,
             "ticks": ""
            },
            "type": "contourcarpet"
           }
          ],
          "heatmap": [
           {
            "colorbar": {
             "outlinewidth": 0,
             "ticks": ""
            },
            "colorscale": [
             [
              0,
              "#0d0887"
             ],
             [
              0.1111111111111111,
              "#46039f"
             ],
             [
              0.2222222222222222,
              "#7201a8"
             ],
             [
              0.3333333333333333,
              "#9c179e"
             ],
             [
              0.4444444444444444,
              "#bd3786"
             ],
             [
              0.5555555555555556,
              "#d8576b"
             ],
             [
              0.6666666666666666,
              "#ed7953"
             ],
             [
              0.7777777777777778,
              "#fb9f3a"
             ],
             [
              0.8888888888888888,
              "#fdca26"
             ],
             [
              1,
              "#f0f921"
             ]
            ],
            "type": "heatmap"
           }
          ],
          "histogram": [
           {
            "marker": {
             "pattern": {
              "fillmode": "overlay",
              "size": 10,
              "solidity": 0.2
             }
            },
            "type": "histogram"
           }
          ],
          "histogram2d": [
           {
            "colorbar": {
             "outlinewidth": 0,
             "ticks": ""
            },
            "colorscale": [
             [
              0,
              "#0d0887"
             ],
             [
              0.1111111111111111,
              "#46039f"
             ],
             [
              0.2222222222222222,
              "#7201a8"
             ],
             [
              0.3333333333333333,
              "#9c179e"
             ],
             [
              0.4444444444444444,
              "#bd3786"
             ],
             [
              0.5555555555555556,
              "#d8576b"
             ],
             [
              0.6666666666666666,
              "#ed7953"
             ],
             [
              0.7777777777777778,
              "#fb9f3a"
             ],
             [
              0.8888888888888888,
              "#fdca26"
             ],
             [
              1,
              "#f0f921"
             ]
            ],
            "type": "histogram2d"
           }
          ],
          "histogram2dcontour": [
           {
            "colorbar": {
             "outlinewidth": 0,
             "ticks": ""
            },
            "colorscale": [
             [
              0,
              "#0d0887"
             ],
             [
              0.1111111111111111,
              "#46039f"
             ],
             [
              0.2222222222222222,
              "#7201a8"
             ],
             [
              0.3333333333333333,
              "#9c179e"
             ],
             [
              0.4444444444444444,
              "#bd3786"
             ],
             [
              0.5555555555555556,
              "#d8576b"
             ],
             [
              0.6666666666666666,
              "#ed7953"
             ],
             [
              0.7777777777777778,
              "#fb9f3a"
             ],
             [
              0.8888888888888888,
              "#fdca26"
             ],
             [
              1,
              "#f0f921"
             ]
            ],
            "type": "histogram2dcontour"
           }
          ],
          "mesh3d": [
           {
            "colorbar": {
             "outlinewidth": 0,
             "ticks": ""
            },
            "type": "mesh3d"
           }
          ],
          "parcoords": [
           {
            "line": {
             "colorbar": {
              "outlinewidth": 0,
              "ticks": ""
             }
            },
            "type": "parcoords"
           }
          ],
          "pie": [
           {
            "automargin": true,
            "type": "pie"
           }
          ],
          "scatter": [
           {
            "marker": {
             "line": {
              "color": "#283442"
             }
            },
            "type": "scatter"
           }
          ],
          "scatter3d": [
           {
            "line": {
             "colorbar": {
              "outlinewidth": 0,
              "ticks": ""
             }
            },
            "marker": {
             "colorbar": {
              "outlinewidth": 0,
              "ticks": ""
             }
            },
            "type": "scatter3d"
           }
          ],
          "scattercarpet": [
           {
            "marker": {
             "colorbar": {
              "outlinewidth": 0,
              "ticks": ""
             }
            },
            "type": "scattercarpet"
           }
          ],
          "scattergeo": [
           {
            "marker": {
             "colorbar": {
              "outlinewidth": 0,
              "ticks": ""
             }
            },
            "type": "scattergeo"
           }
          ],
          "scattergl": [
           {
            "marker": {
             "line": {
              "color": "#283442"
             }
            },
            "type": "scattergl"
           }
          ],
          "scattermap": [
           {
            "marker": {
             "colorbar": {
              "outlinewidth": 0,
              "ticks": ""
             }
            },
            "type": "scattermap"
           }
          ],
          "scattermapbox": [
           {
            "marker": {
             "colorbar": {
              "outlinewidth": 0,
              "ticks": ""
             }
            },
            "type": "scattermapbox"
           }
          ],
          "scatterpolar": [
           {
            "marker": {
             "colorbar": {
              "outlinewidth": 0,
              "ticks": ""
             }
            },
            "type": "scatterpolar"
           }
          ],
          "scatterpolargl": [
           {
            "marker": {
             "colorbar": {
              "outlinewidth": 0,
              "ticks": ""
             }
            },
            "type": "scatterpolargl"
           }
          ],
          "scatterternary": [
           {
            "marker": {
             "colorbar": {
              "outlinewidth": 0,
              "ticks": ""
             }
            },
            "type": "scatterternary"
           }
          ],
          "surface": [
           {
            "colorbar": {
             "outlinewidth": 0,
             "ticks": ""
            },
            "colorscale": [
             [
              0,
              "#0d0887"
             ],
             [
              0.1111111111111111,
              "#46039f"
             ],
             [
              0.2222222222222222,
              "#7201a8"
             ],
             [
              0.3333333333333333,
              "#9c179e"
             ],
             [
              0.4444444444444444,
              "#bd3786"
             ],
             [
              0.5555555555555556,
              "#d8576b"
             ],
             [
              0.6666666666666666,
              "#ed7953"
             ],
             [
              0.7777777777777778,
              "#fb9f3a"
             ],
             [
              0.8888888888888888,
              "#fdca26"
             ],
             [
              1,
              "#f0f921"
             ]
            ],
            "type": "surface"
           }
          ],
          "table": [
           {
            "cells": {
             "fill": {
              "color": "#506784"
             },
             "line": {
              "color": "rgb(17,17,17)"
             }
            },
            "header": {
             "fill": {
              "color": "#2a3f5f"
             },
             "line": {
              "color": "rgb(17,17,17)"
             }
            },
            "type": "table"
           }
          ]
         },
         "layout": {
          "annotationdefaults": {
           "arrowcolor": "#f2f5fa",
           "arrowhead": 0,
           "arrowwidth": 1
          },
          "autotypenumbers": "strict",
          "coloraxis": {
           "colorbar": {
            "outlinewidth": 0,
            "ticks": ""
           }
          },
          "colorscale": {
           "diverging": [
            [
             0,
             "#8e0152"
            ],
            [
             0.1,
             "#c51b7d"
            ],
            [
             0.2,
             "#de77ae"
            ],
            [
             0.3,
             "#f1b6da"
            ],
            [
             0.4,
             "#fde0ef"
            ],
            [
             0.5,
             "#f7f7f7"
            ],
            [
             0.6,
             "#e6f5d0"
            ],
            [
             0.7,
             "#b8e186"
            ],
            [
             0.8,
             "#7fbc41"
            ],
            [
             0.9,
             "#4d9221"
            ],
            [
             1,
             "#276419"
            ]
           ],
           "sequential": [
            [
             0,
             "#0d0887"
            ],
            [
             0.1111111111111111,
             "#46039f"
            ],
            [
             0.2222222222222222,
             "#7201a8"
            ],
            [
             0.3333333333333333,
             "#9c179e"
            ],
            [
             0.4444444444444444,
             "#bd3786"
            ],
            [
             0.5555555555555556,
             "#d8576b"
            ],
            [
             0.6666666666666666,
             "#ed7953"
            ],
            [
             0.7777777777777778,
             "#fb9f3a"
            ],
            [
             0.8888888888888888,
             "#fdca26"
            ],
            [
             1,
             "#f0f921"
            ]
           ],
           "sequentialminus": [
            [
             0,
             "#0d0887"
            ],
            [
             0.1111111111111111,
             "#46039f"
            ],
            [
             0.2222222222222222,
             "#7201a8"
            ],
            [
             0.3333333333333333,
             "#9c179e"
            ],
            [
             0.4444444444444444,
             "#bd3786"
            ],
            [
             0.5555555555555556,
             "#d8576b"
            ],
            [
             0.6666666666666666,
             "#ed7953"
            ],
            [
             0.7777777777777778,
             "#fb9f3a"
            ],
            [
             0.8888888888888888,
             "#fdca26"
            ],
            [
             1,
             "#f0f921"
            ]
           ]
          },
          "colorway": [
           "#636efa",
           "#EF553B",
           "#00cc96",
           "#ab63fa",
           "#FFA15A",
           "#19d3f3",
           "#FF6692",
           "#B6E880",
           "#FF97FF",
           "#FECB52"
          ],
          "font": {
           "color": "#f2f5fa"
          },
          "geo": {
           "bgcolor": "rgb(17,17,17)",
           "lakecolor": "rgb(17,17,17)",
           "landcolor": "rgb(17,17,17)",
           "showlakes": true,
           "showland": true,
           "subunitcolor": "#506784"
          },
          "hoverlabel": {
           "align": "left"
          },
          "hovermode": "closest",
          "mapbox": {
           "style": "dark"
          },
          "paper_bgcolor": "rgb(17,17,17)",
          "plot_bgcolor": "rgb(17,17,17)",
          "polar": {
           "angularaxis": {
            "gridcolor": "#506784",
            "linecolor": "#506784",
            "ticks": ""
           },
           "bgcolor": "rgb(17,17,17)",
           "radialaxis": {
            "gridcolor": "#506784",
            "linecolor": "#506784",
            "ticks": ""
           }
          },
          "scene": {
           "xaxis": {
            "backgroundcolor": "rgb(17,17,17)",
            "gridcolor": "#506784",
            "gridwidth": 2,
            "linecolor": "#506784",
            "showbackground": true,
            "ticks": "",
            "zerolinecolor": "#C8D4E3"
           },
           "yaxis": {
            "backgroundcolor": "rgb(17,17,17)",
            "gridcolor": "#506784",
            "gridwidth": 2,
            "linecolor": "#506784",
            "showbackground": true,
            "ticks": "",
            "zerolinecolor": "#C8D4E3"
           },
           "zaxis": {
            "backgroundcolor": "rgb(17,17,17)",
            "gridcolor": "#506784",
            "gridwidth": 2,
            "linecolor": "#506784",
            "showbackground": true,
            "ticks": "",
            "zerolinecolor": "#C8D4E3"
           }
          },
          "shapedefaults": {
           "line": {
            "color": "#f2f5fa"
           }
          },
          "sliderdefaults": {
           "bgcolor": "#C8D4E3",
           "bordercolor": "rgb(17,17,17)",
           "borderwidth": 1,
           "tickwidth": 0
          },
          "ternary": {
           "aaxis": {
            "gridcolor": "#506784",
            "linecolor": "#506784",
            "ticks": ""
           },
           "baxis": {
            "gridcolor": "#506784",
            "linecolor": "#506784",
            "ticks": ""
           },
           "bgcolor": "rgb(17,17,17)",
           "caxis": {
            "gridcolor": "#506784",
            "linecolor": "#506784",
            "ticks": ""
           }
          },
          "title": {
           "x": 0.05
          },
          "updatemenudefaults": {
           "bgcolor": "#506784",
           "borderwidth": 0
          },
          "xaxis": {
           "automargin": true,
           "gridcolor": "#283442",
           "linecolor": "#506784",
           "ticks": "",
           "title": {
            "standoff": 15
           },
           "zerolinecolor": "#283442",
           "zerolinewidth": 2
          },
          "yaxis": {
           "automargin": true,
           "gridcolor": "#283442",
           "linecolor": "#506784",
           "ticks": "",
           "title": {
            "standoff": 15
           },
           "zerolinecolor": "#283442",
           "zerolinewidth": 2
          }
         }
        },
        "title": {
         "font": {
          "size": 20
         },
         "text": "Distribution of Mid Prices",
         "x": 0.5
        },
        "xaxis": {
         "title": {
          "text": "Mid Price"
         }
        },
        "yaxis": {
         "gridcolor": "rgba(128,128,128,0.2)",
         "gridwidth": 1,
         "showgrid": true,
         "title": {
          "text": "Frequency"
         },
         "zeroline": true,
         "zerolinecolor": "rgba(128,128,128,0.5)",
         "zerolinewidth": 1
        }
       }
      }
     },
     "metadata": {},
     "output_type": "display_data"
    }
   ],
   "source": [
    "import numpy as np\n",
    "import plotly.graph_objects as go\n",
    "\n",
    "# Generate sample data\n",
    "np.random.seed(42)\n",
    "n_samples = 10000\n",
    "E_X = 3.5\n",
    "u = np.random.uniform(0, 1, n_samples)\n",
    "\n",
    "# Calculate bid, ask and mid prices\n",
    "bids = E_X - 0.5 + u\n",
    "asks = E_X + 0.5 + u\n",
    "mids = (bids + asks) / 2\n",
    "\n",
    "# Create histogram\n",
    "fig = go.Figure()\n",
    "fig.add_trace(go.Histogram(\n",
    "    x=mids,\n",
    "    nbinsx=50,\n",
    "    name='Mid Price Distribution',\n",
    "    marker_color='#00b4ff'\n",
    "))\n",
    "\n",
    "# Update layout\n",
    "fig.update_layout(\n",
    "    template='plotly_dark',\n",
    "    paper_bgcolor='rgba(0,0,0,0)',\n",
    "    font=dict(color='white'),\n",
    "    title_text='Distribution of Mid Prices',\n",
    "    title_x=0.5,\n",
    "    title_font_size=20,\n",
    "    xaxis_title='Mid Price',\n",
    "    yaxis_title='Frequency',\n",
    "    showlegend=False,\n",
    "    yaxis=dict(\n",
    "        gridwidth=1,\n",
    "        gridcolor='rgba(128,128,128,0.2)',\n",
    "        zeroline=True,\n",
    "        zerolinewidth=1,\n",
    "        zerolinecolor='rgba(128,128,128,0.5)',\n",
    "        showgrid=True\n",
    "    )\n",
    ")\n",
    "\n",
    "fig.show()\n"
   ]
  },
  {
   "cell_type": "markdown",
   "id": "de82993e",
   "metadata": {},
   "source": [
    "**Goal:** We want to figure out what the midpoint price is to quote a more competitive spread.  \n",
    "\n",
    "Let's observe 10,000 quotes then come up with a mean level using the expectation and a neural network.\n",
    "\n",
    "$\\mathbb{E}[Mid] = \\frac{\\mathbb{E}[Bid + Ask]}{2} = \\frac{2\\mathbb{E}[X] + 2\\mathbb{E}[u]}{2} = 4$"
   ]
  },
  {
   "cell_type": "code",
   "execution_count": 9,
   "id": "ccaad780",
   "metadata": {},
   "outputs": [
    {
     "name": "stdout",
     "output_type": "stream",
     "text": [
      "Epoch [100/1000], Loss: 0.083348\n",
      "Epoch [200/1000], Loss: 0.082723\n",
      "Epoch [300/1000], Loss: 0.082723\n",
      "Epoch [400/1000], Loss: 0.082723\n",
      "Epoch [500/1000], Loss: 0.082723\n",
      "Epoch [600/1000], Loss: 0.082723\n",
      "Epoch [700/1000], Loss: 0.082723\n",
      "Epoch [800/1000], Loss: 0.082723\n",
      "Epoch [900/1000], Loss: 0.082723\n",
      "Epoch [1000/1000], Loss: 0.082723\n",
      "Neural network prediction: 3.994159\n"
     ]
    }
   ],
   "source": [
    "import numpy as np\n",
    "import torch\n",
    "import torch.nn as nn\n",
    "\n",
    "# Generate the data\n",
    "np.random.seed(42)\n",
    "n_samples = 10000\n",
    "\n",
    "# Expected value of dice roll is 3.5\n",
    "E_X = 3.5\n",
    "\n",
    "# Generate uniform random numbers for spread adjustment\n",
    "u = np.random.uniform(0, 1, n_samples)\n",
    "\n",
    "# Calculate bid and ask\n",
    "bids = E_X - 0.5 + u\n",
    "asks = E_X + 0.5 + u\n",
    "\n",
    "# Calculate empirical midpoints\n",
    "mids = (bids + asks) / 2\n",
    "\n",
    "# Create input tensor (vector of 1s)\n",
    "X = torch.ones((n_samples, 1))\n",
    "y = torch.tensor(mids, dtype=torch.float32).reshape(-1, 1)\n",
    "\n",
    "# Define a simple neural network\n",
    "class SimpleNN(nn.Module):\n",
    "    def __init__(self):\n",
    "        super().__init__()\n",
    "        self.layer1 = nn.Linear(1, 16)\n",
    "        self.layer2 = nn.Linear(16, 8)\n",
    "        self.layer3 = nn.Linear(8, 1)\n",
    "        \n",
    "    def forward(self, x):\n",
    "        x = torch.relu(self.layer1(x))\n",
    "        x = torch.relu(self.layer2(x))\n",
    "        x = self.layer3(x)\n",
    "        return x\n",
    "\n",
    "# Initialize model, loss function, and optimizer\n",
    "model = SimpleNN()\n",
    "criterion = nn.MSELoss()\n",
    "optimizer = torch.optim.Adam(model.parameters(), lr=0.01)\n",
    "\n",
    "# Train the model\n",
    "n_epochs = 1000\n",
    "for epoch in range(n_epochs):\n",
    "    # Forward pass\n",
    "    outputs = model(X)\n",
    "    loss = criterion(outputs, y)\n",
    "    \n",
    "    # Backward pass and optimize\n",
    "    optimizer.zero_grad()\n",
    "    loss.backward()\n",
    "    optimizer.step()\n",
    "    \n",
    "    if (epoch + 1) % 100 == 0:\n",
    "        print(f'Epoch [{epoch+1}/{n_epochs}], Loss: {loss.item():.6f}')\n",
    "\n",
    "print(f\"Neural network prediction: {model(torch.ones(1)).item():.6f}\")"
   ]
  },
  {
   "cell_type": "markdown",
   "id": "954e917f",
   "metadata": {},
   "source": [
    "##### <u>Probabilities as Expectations</u>\n",
    "\n",
    "Bernoulli random variables can be used as indicators for if a desired event occurs or not, if we take the average we will get the probability of that event occuring...\n",
    "\n",
    "**Example:** We roll 10,000 dice, what is the probability of rolling an even number?\n",
    "\n",
    "We can record a 1 everywhere we see an even number and 0 everytime we see an odd number.  By the Law of Large Numbers (LLN) this will converge to the true probability of that event occuring. \n",
    "\n",
    "$P(Even) = \\frac{3}{6} = .5$"
   ]
  },
  {
   "cell_type": "code",
   "execution_count": 10,
   "id": "2f0415b1",
   "metadata": {},
   "outputs": [
    {
     "data": {
      "application/vnd.plotly.v1+json": {
       "config": {
        "plotlyServerURL": "https://plot.ly"
       },
       "data": [
        {
         "marker": {
          "color": "rgba(58, 71, 80, 0.6)"
         },
         "name": "Empirical (5 rolls)",
         "type": "bar",
         "x": [
          "Odd",
          "Even"
         ],
         "xaxis": "x",
         "y": {
          "bdata": "mpmZmZmZ2T8zMzMzMzPjPw==",
          "dtype": "f8"
         },
         "yaxis": "y"
        },
        {
         "line": {
          "color": "rgba(255, 0, 0, 0.8)",
          "width": 2
         },
         "name": "Theoretical",
         "type": "scatter",
         "x": [
          "Odd",
          "Even"
         ],
         "xaxis": "x",
         "y": {
          "bdata": "AAAAAAAA4D8AAAAAAADgPw==",
          "dtype": "f8"
         },
         "yaxis": "y"
        },
        {
         "marker": {
          "color": "rgba(58, 71, 80, 0.6)"
         },
         "name": "Empirical (1000 rolls)",
         "type": "bar",
         "x": [
          "Odd",
          "Even"
         ],
         "xaxis": "x2",
         "y": {
          "bdata": "Di2yne+n3j956SYxCKzgPw==",
          "dtype": "f8"
         },
         "yaxis": "y2"
        },
        {
         "line": {
          "color": "rgba(255, 0, 0, 0.8)",
          "width": 2
         },
         "name": "Theoretical",
         "type": "scatter",
         "x": [
          "Odd",
          "Even"
         ],
         "xaxis": "x2",
         "y": {
          "bdata": "AAAAAAAA4D8AAAAAAADgPw==",
          "dtype": "f8"
         },
         "yaxis": "y2"
        },
        {
         "marker": {
          "color": "rgba(58, 71, 80, 0.6)"
         },
         "name": "Empirical (10000 rolls)",
         "type": "bar",
         "x": [
          "Odd",
          "Even"
         ],
         "xaxis": "x3",
         "y": {
          "bdata": "BoGVQ4ts3z99PzVeukngPw==",
          "dtype": "f8"
         },
         "yaxis": "y3"
        },
        {
         "line": {
          "color": "rgba(255, 0, 0, 0.8)",
          "width": 2
         },
         "name": "Theoretical",
         "type": "scatter",
         "x": [
          "Odd",
          "Even"
         ],
         "xaxis": "x3",
         "y": {
          "bdata": "AAAAAAAA4D8AAAAAAADgPw==",
          "dtype": "f8"
         },
         "yaxis": "y3"
        },
        {
         "marker": {
          "color": "rgba(255, 0, 0, 0.8)"
         },
         "name": "Theoretical",
         "type": "bar",
         "x": [
          "Odd",
          "Even"
         ],
         "xaxis": "x4",
         "y": {
          "bdata": "AAAAAAAA4D8AAAAAAADgPw==",
          "dtype": "f8"
         },
         "yaxis": "y4"
        }
       ],
       "layout": {
        "annotations": [
         {
          "font": {
           "size": 16
          },
          "showarrow": false,
          "text": "5 Rolls",
          "x": 0.225,
          "xanchor": "center",
          "xref": "paper",
          "y": 1,
          "yanchor": "bottom",
          "yref": "paper"
         },
         {
          "font": {
           "size": 16
          },
          "showarrow": false,
          "text": "1000 Rolls",
          "x": 0.775,
          "xanchor": "center",
          "xref": "paper",
          "y": 1,
          "yanchor": "bottom",
          "yref": "paper"
         },
         {
          "font": {
           "size": 16
          },
          "showarrow": false,
          "text": "10000 Rolls",
          "x": 0.225,
          "xanchor": "center",
          "xref": "paper",
          "y": 0.44,
          "yanchor": "bottom",
          "yref": "paper"
         },
         {
          "font": {
           "size": 16
          },
          "showarrow": false,
          "text": "Theoretical",
          "x": 0.775,
          "xanchor": "center",
          "xref": "paper",
          "y": 0.44,
          "yanchor": "bottom",
          "yref": "paper"
         }
        ],
        "font": {
         "color": "white"
        },
        "height": 700,
        "paper_bgcolor": "rgba(0,0,0,0)",
        "showlegend": false,
        "template": {
         "data": {
          "bar": [
           {
            "error_x": {
             "color": "#f2f5fa"
            },
            "error_y": {
             "color": "#f2f5fa"
            },
            "marker": {
             "line": {
              "color": "rgb(17,17,17)",
              "width": 0.5
             },
             "pattern": {
              "fillmode": "overlay",
              "size": 10,
              "solidity": 0.2
             }
            },
            "type": "bar"
           }
          ],
          "barpolar": [
           {
            "marker": {
             "line": {
              "color": "rgb(17,17,17)",
              "width": 0.5
             },
             "pattern": {
              "fillmode": "overlay",
              "size": 10,
              "solidity": 0.2
             }
            },
            "type": "barpolar"
           }
          ],
          "carpet": [
           {
            "aaxis": {
             "endlinecolor": "#A2B1C6",
             "gridcolor": "#506784",
             "linecolor": "#506784",
             "minorgridcolor": "#506784",
             "startlinecolor": "#A2B1C6"
            },
            "baxis": {
             "endlinecolor": "#A2B1C6",
             "gridcolor": "#506784",
             "linecolor": "#506784",
             "minorgridcolor": "#506784",
             "startlinecolor": "#A2B1C6"
            },
            "type": "carpet"
           }
          ],
          "choropleth": [
           {
            "colorbar": {
             "outlinewidth": 0,
             "ticks": ""
            },
            "type": "choropleth"
           }
          ],
          "contour": [
           {
            "colorbar": {
             "outlinewidth": 0,
             "ticks": ""
            },
            "colorscale": [
             [
              0,
              "#0d0887"
             ],
             [
              0.1111111111111111,
              "#46039f"
             ],
             [
              0.2222222222222222,
              "#7201a8"
             ],
             [
              0.3333333333333333,
              "#9c179e"
             ],
             [
              0.4444444444444444,
              "#bd3786"
             ],
             [
              0.5555555555555556,
              "#d8576b"
             ],
             [
              0.6666666666666666,
              "#ed7953"
             ],
             [
              0.7777777777777778,
              "#fb9f3a"
             ],
             [
              0.8888888888888888,
              "#fdca26"
             ],
             [
              1,
              "#f0f921"
             ]
            ],
            "type": "contour"
           }
          ],
          "contourcarpet": [
           {
            "colorbar": {
             "outlinewidth": 0,
             "ticks": ""
            },
            "type": "contourcarpet"
           }
          ],
          "heatmap": [
           {
            "colorbar": {
             "outlinewidth": 0,
             "ticks": ""
            },
            "colorscale": [
             [
              0,
              "#0d0887"
             ],
             [
              0.1111111111111111,
              "#46039f"
             ],
             [
              0.2222222222222222,
              "#7201a8"
             ],
             [
              0.3333333333333333,
              "#9c179e"
             ],
             [
              0.4444444444444444,
              "#bd3786"
             ],
             [
              0.5555555555555556,
              "#d8576b"
             ],
             [
              0.6666666666666666,
              "#ed7953"
             ],
             [
              0.7777777777777778,
              "#fb9f3a"
             ],
             [
              0.8888888888888888,
              "#fdca26"
             ],
             [
              1,
              "#f0f921"
             ]
            ],
            "type": "heatmap"
           }
          ],
          "histogram": [
           {
            "marker": {
             "pattern": {
              "fillmode": "overlay",
              "size": 10,
              "solidity": 0.2
             }
            },
            "type": "histogram"
           }
          ],
          "histogram2d": [
           {
            "colorbar": {
             "outlinewidth": 0,
             "ticks": ""
            },
            "colorscale": [
             [
              0,
              "#0d0887"
             ],
             [
              0.1111111111111111,
              "#46039f"
             ],
             [
              0.2222222222222222,
              "#7201a8"
             ],
             [
              0.3333333333333333,
              "#9c179e"
             ],
             [
              0.4444444444444444,
              "#bd3786"
             ],
             [
              0.5555555555555556,
              "#d8576b"
             ],
             [
              0.6666666666666666,
              "#ed7953"
             ],
             [
              0.7777777777777778,
              "#fb9f3a"
             ],
             [
              0.8888888888888888,
              "#fdca26"
             ],
             [
              1,
              "#f0f921"
             ]
            ],
            "type": "histogram2d"
           }
          ],
          "histogram2dcontour": [
           {
            "colorbar": {
             "outlinewidth": 0,
             "ticks": ""
            },
            "colorscale": [
             [
              0,
              "#0d0887"
             ],
             [
              0.1111111111111111,
              "#46039f"
             ],
             [
              0.2222222222222222,
              "#7201a8"
             ],
             [
              0.3333333333333333,
              "#9c179e"
             ],
             [
              0.4444444444444444,
              "#bd3786"
             ],
             [
              0.5555555555555556,
              "#d8576b"
             ],
             [
              0.6666666666666666,
              "#ed7953"
             ],
             [
              0.7777777777777778,
              "#fb9f3a"
             ],
             [
              0.8888888888888888,
              "#fdca26"
             ],
             [
              1,
              "#f0f921"
             ]
            ],
            "type": "histogram2dcontour"
           }
          ],
          "mesh3d": [
           {
            "colorbar": {
             "outlinewidth": 0,
             "ticks": ""
            },
            "type": "mesh3d"
           }
          ],
          "parcoords": [
           {
            "line": {
             "colorbar": {
              "outlinewidth": 0,
              "ticks": ""
             }
            },
            "type": "parcoords"
           }
          ],
          "pie": [
           {
            "automargin": true,
            "type": "pie"
           }
          ],
          "scatter": [
           {
            "marker": {
             "line": {
              "color": "#283442"
             }
            },
            "type": "scatter"
           }
          ],
          "scatter3d": [
           {
            "line": {
             "colorbar": {
              "outlinewidth": 0,
              "ticks": ""
             }
            },
            "marker": {
             "colorbar": {
              "outlinewidth": 0,
              "ticks": ""
             }
            },
            "type": "scatter3d"
           }
          ],
          "scattercarpet": [
           {
            "marker": {
             "colorbar": {
              "outlinewidth": 0,
              "ticks": ""
             }
            },
            "type": "scattercarpet"
           }
          ],
          "scattergeo": [
           {
            "marker": {
             "colorbar": {
              "outlinewidth": 0,
              "ticks": ""
             }
            },
            "type": "scattergeo"
           }
          ],
          "scattergl": [
           {
            "marker": {
             "line": {
              "color": "#283442"
             }
            },
            "type": "scattergl"
           }
          ],
          "scattermap": [
           {
            "marker": {
             "colorbar": {
              "outlinewidth": 0,
              "ticks": ""
             }
            },
            "type": "scattermap"
           }
          ],
          "scattermapbox": [
           {
            "marker": {
             "colorbar": {
              "outlinewidth": 0,
              "ticks": ""
             }
            },
            "type": "scattermapbox"
           }
          ],
          "scatterpolar": [
           {
            "marker": {
             "colorbar": {
              "outlinewidth": 0,
              "ticks": ""
             }
            },
            "type": "scatterpolar"
           }
          ],
          "scatterpolargl": [
           {
            "marker": {
             "colorbar": {
              "outlinewidth": 0,
              "ticks": ""
             }
            },
            "type": "scatterpolargl"
           }
          ],
          "scatterternary": [
           {
            "marker": {
             "colorbar": {
              "outlinewidth": 0,
              "ticks": ""
             }
            },
            "type": "scatterternary"
           }
          ],
          "surface": [
           {
            "colorbar": {
             "outlinewidth": 0,
             "ticks": ""
            },
            "colorscale": [
             [
              0,
              "#0d0887"
             ],
             [
              0.1111111111111111,
              "#46039f"
             ],
             [
              0.2222222222222222,
              "#7201a8"
             ],
             [
              0.3333333333333333,
              "#9c179e"
             ],
             [
              0.4444444444444444,
              "#bd3786"
             ],
             [
              0.5555555555555556,
              "#d8576b"
             ],
             [
              0.6666666666666666,
              "#ed7953"
             ],
             [
              0.7777777777777778,
              "#fb9f3a"
             ],
             [
              0.8888888888888888,
              "#fdca26"
             ],
             [
              1,
              "#f0f921"
             ]
            ],
            "type": "surface"
           }
          ],
          "table": [
           {
            "cells": {
             "fill": {
              "color": "#506784"
             },
             "line": {
              "color": "rgb(17,17,17)"
             }
            },
            "header": {
             "fill": {
              "color": "#2a3f5f"
             },
             "line": {
              "color": "rgb(17,17,17)"
             }
            },
            "type": "table"
           }
          ]
         },
         "layout": {
          "annotationdefaults": {
           "arrowcolor": "#f2f5fa",
           "arrowhead": 0,
           "arrowwidth": 1
          },
          "autotypenumbers": "strict",
          "coloraxis": {
           "colorbar": {
            "outlinewidth": 0,
            "ticks": ""
           }
          },
          "colorscale": {
           "diverging": [
            [
             0,
             "#8e0152"
            ],
            [
             0.1,
             "#c51b7d"
            ],
            [
             0.2,
             "#de77ae"
            ],
            [
             0.3,
             "#f1b6da"
            ],
            [
             0.4,
             "#fde0ef"
            ],
            [
             0.5,
             "#f7f7f7"
            ],
            [
             0.6,
             "#e6f5d0"
            ],
            [
             0.7,
             "#b8e186"
            ],
            [
             0.8,
             "#7fbc41"
            ],
            [
             0.9,
             "#4d9221"
            ],
            [
             1,
             "#276419"
            ]
           ],
           "sequential": [
            [
             0,
             "#0d0887"
            ],
            [
             0.1111111111111111,
             "#46039f"
            ],
            [
             0.2222222222222222,
             "#7201a8"
            ],
            [
             0.3333333333333333,
             "#9c179e"
            ],
            [
             0.4444444444444444,
             "#bd3786"
            ],
            [
             0.5555555555555556,
             "#d8576b"
            ],
            [
             0.6666666666666666,
             "#ed7953"
            ],
            [
             0.7777777777777778,
             "#fb9f3a"
            ],
            [
             0.8888888888888888,
             "#fdca26"
            ],
            [
             1,
             "#f0f921"
            ]
           ],
           "sequentialminus": [
            [
             0,
             "#0d0887"
            ],
            [
             0.1111111111111111,
             "#46039f"
            ],
            [
             0.2222222222222222,
             "#7201a8"
            ],
            [
             0.3333333333333333,
             "#9c179e"
            ],
            [
             0.4444444444444444,
             "#bd3786"
            ],
            [
             0.5555555555555556,
             "#d8576b"
            ],
            [
             0.6666666666666666,
             "#ed7953"
            ],
            [
             0.7777777777777778,
             "#fb9f3a"
            ],
            [
             0.8888888888888888,
             "#fdca26"
            ],
            [
             1,
             "#f0f921"
            ]
           ]
          },
          "colorway": [
           "#636efa",
           "#EF553B",
           "#00cc96",
           "#ab63fa",
           "#FFA15A",
           "#19d3f3",
           "#FF6692",
           "#B6E880",
           "#FF97FF",
           "#FECB52"
          ],
          "font": {
           "color": "#f2f5fa"
          },
          "geo": {
           "bgcolor": "rgb(17,17,17)",
           "lakecolor": "rgb(17,17,17)",
           "landcolor": "rgb(17,17,17)",
           "showlakes": true,
           "showland": true,
           "subunitcolor": "#506784"
          },
          "hoverlabel": {
           "align": "left"
          },
          "hovermode": "closest",
          "mapbox": {
           "style": "dark"
          },
          "paper_bgcolor": "rgb(17,17,17)",
          "plot_bgcolor": "rgb(17,17,17)",
          "polar": {
           "angularaxis": {
            "gridcolor": "#506784",
            "linecolor": "#506784",
            "ticks": ""
           },
           "bgcolor": "rgb(17,17,17)",
           "radialaxis": {
            "gridcolor": "#506784",
            "linecolor": "#506784",
            "ticks": ""
           }
          },
          "scene": {
           "xaxis": {
            "backgroundcolor": "rgb(17,17,17)",
            "gridcolor": "#506784",
            "gridwidth": 2,
            "linecolor": "#506784",
            "showbackground": true,
            "ticks": "",
            "zerolinecolor": "#C8D4E3"
           },
           "yaxis": {
            "backgroundcolor": "rgb(17,17,17)",
            "gridcolor": "#506784",
            "gridwidth": 2,
            "linecolor": "#506784",
            "showbackground": true,
            "ticks": "",
            "zerolinecolor": "#C8D4E3"
           },
           "zaxis": {
            "backgroundcolor": "rgb(17,17,17)",
            "gridcolor": "#506784",
            "gridwidth": 2,
            "linecolor": "#506784",
            "showbackground": true,
            "ticks": "",
            "zerolinecolor": "#C8D4E3"
           }
          },
          "shapedefaults": {
           "line": {
            "color": "#f2f5fa"
           }
          },
          "sliderdefaults": {
           "bgcolor": "#C8D4E3",
           "bordercolor": "rgb(17,17,17)",
           "borderwidth": 1,
           "tickwidth": 0
          },
          "ternary": {
           "aaxis": {
            "gridcolor": "#506784",
            "linecolor": "#506784",
            "ticks": ""
           },
           "baxis": {
            "gridcolor": "#506784",
            "linecolor": "#506784",
            "ticks": ""
           },
           "bgcolor": "rgb(17,17,17)",
           "caxis": {
            "gridcolor": "#506784",
            "linecolor": "#506784",
            "ticks": ""
           }
          },
          "title": {
           "x": 0.05
          },
          "updatemenudefaults": {
           "bgcolor": "#506784",
           "borderwidth": 0
          },
          "xaxis": {
           "automargin": true,
           "gridcolor": "#283442",
           "linecolor": "#506784",
           "ticks": "",
           "title": {
            "standoff": 15
           },
           "zerolinecolor": "#283442",
           "zerolinewidth": 2
          },
          "yaxis": {
           "automargin": true,
           "gridcolor": "#283442",
           "linecolor": "#506784",
           "ticks": "",
           "title": {
            "standoff": 15
           },
           "zerolinecolor": "#283442",
           "zerolinewidth": 2
          }
         }
        },
        "title": {
         "font": {
          "size": 20
         },
         "text": "Empirical vs Theoretical Probability of Even Dice Rolls",
         "x": 0.5
        },
        "xaxis": {
         "anchor": "y",
         "domain": [
          0,
          0.45
         ],
         "gridcolor": "rgba(128,128,128,0.2)",
         "gridwidth": 1,
         "showgrid": true,
         "title": {
          "text": "Outcome"
         },
         "zeroline": true,
         "zerolinecolor": "rgba(128,128,128,0.5)",
         "zerolinewidth": 1
        },
        "xaxis2": {
         "anchor": "y2",
         "domain": [
          0.55,
          1
         ],
         "gridcolor": "rgba(128,128,128,0.2)",
         "gridwidth": 1,
         "showgrid": true,
         "title": {
          "text": "Outcome"
         },
         "zeroline": true,
         "zerolinecolor": "rgba(128,128,128,0.5)",
         "zerolinewidth": 1
        },
        "xaxis3": {
         "anchor": "y3",
         "domain": [
          0,
          0.45
         ],
         "gridcolor": "rgba(128,128,128,0.2)",
         "gridwidth": 1,
         "showgrid": true,
         "title": {
          "text": "Outcome"
         },
         "zeroline": true,
         "zerolinecolor": "rgba(128,128,128,0.5)",
         "zerolinewidth": 1
        },
        "xaxis4": {
         "anchor": "y4",
         "domain": [
          0.55,
          1
         ],
         "gridcolor": "rgba(128,128,128,0.2)",
         "gridwidth": 1,
         "showgrid": true,
         "title": {
          "text": "Outcome"
         },
         "zeroline": true,
         "zerolinecolor": "rgba(128,128,128,0.5)",
         "zerolinewidth": 1
        },
        "yaxis": {
         "anchor": "x",
         "domain": [
          0.56,
          1
         ],
         "gridcolor": "rgba(128,128,128,0.2)",
         "gridwidth": 1,
         "range": [
          0,
          1
         ],
         "showgrid": true,
         "title": {
          "text": "Probability"
         },
         "zeroline": true,
         "zerolinecolor": "rgba(128,128,128,0.5)",
         "zerolinewidth": 1
        },
        "yaxis2": {
         "anchor": "x2",
         "domain": [
          0.56,
          1
         ],
         "gridcolor": "rgba(128,128,128,0.2)",
         "gridwidth": 1,
         "range": [
          0,
          1
         ],
         "showgrid": true,
         "title": {
          "text": "Probability"
         },
         "zeroline": true,
         "zerolinecolor": "rgba(128,128,128,0.5)",
         "zerolinewidth": 1
        },
        "yaxis3": {
         "anchor": "x3",
         "domain": [
          0,
          0.44
         ],
         "gridcolor": "rgba(128,128,128,0.2)",
         "gridwidth": 1,
         "range": [
          0,
          1
         ],
         "showgrid": true,
         "title": {
          "text": "Probability"
         },
         "zeroline": true,
         "zerolinecolor": "rgba(128,128,128,0.5)",
         "zerolinewidth": 1
        },
        "yaxis4": {
         "anchor": "x4",
         "domain": [
          0,
          0.44
         ],
         "gridcolor": "rgba(128,128,128,0.2)",
         "gridwidth": 1,
         "range": [
          0,
          1
         ],
         "showgrid": true,
         "title": {
          "text": "Probability"
         },
         "zeroline": true,
         "zerolinecolor": "rgba(128,128,128,0.5)",
         "zerolinewidth": 1
        }
       }
      }
     },
     "metadata": {},
     "output_type": "display_data"
    }
   ],
   "source": [
    "# Create subplots\n",
    "fig = sp.make_subplots(rows=2, cols=2, \n",
    "                       subplot_titles=('5 Rolls', '1000 Rolls', '10000 Rolls', 'Theoretical'),\n",
    "                       vertical_spacing=0.12,\n",
    "                       horizontal_spacing=0.1)\n",
    "\n",
    "# Theoretical probability (0.5 for even)\n",
    "theoretical = np.array([0.5, 0.5])\n",
    "x_vals = ['Odd', 'Even']\n",
    "\n",
    "# Generate different numbers of rolls\n",
    "rolls = [5, 1000, 10000]\n",
    "positions = [(1,1), (1,2), (2,1)]\n",
    "\n",
    "for rolls_count, pos in zip(rolls, positions):\n",
    "    # Generate random rolls\n",
    "    dice_rolls = np.random.randint(1, 7, size=rolls_count)\n",
    "    \n",
    "    # Calculate empirical probabilities\n",
    "    even_count = np.sum(dice_rolls % 2 == 0)\n",
    "    empirical_prob = np.array([1 - even_count/rolls_count, even_count/rolls_count])\n",
    "    \n",
    "    # Add bars for empirical distribution\n",
    "    fig.add_trace(\n",
    "        go.Bar(x=x_vals, y=empirical_prob, name=f'Empirical ({rolls_count} rolls)',\n",
    "               marker_color='rgba(58, 71, 80, 0.6)'),\n",
    "        row=pos[0], col=pos[1]\n",
    "    )\n",
    "    \n",
    "    # Add line for theoretical distribution\n",
    "    fig.add_trace(\n",
    "        go.Scatter(x=x_vals, y=theoretical, name='Theoretical',\n",
    "                  line=dict(color='rgba(255, 0, 0, 0.8)', width=2)),\n",
    "        row=pos[0], col=pos[1]\n",
    "    )\n",
    "\n",
    "# Add theoretical distribution plot\n",
    "fig.add_trace(\n",
    "    go.Bar(x=x_vals, y=theoretical, name='Theoretical',\n",
    "           marker_color='rgba(255, 0, 0, 0.8)'),\n",
    "    row=2, col=2\n",
    ")\n",
    "\n",
    "# Update layout\n",
    "fig.update_layout(\n",
    "    height=700,\n",
    "    showlegend=False,\n",
    "    template='plotly_dark',\n",
    "    paper_bgcolor='rgba(0,0,0,0)',\n",
    "    font=dict(color='white'),\n",
    "    title_text='Empirical vs Theoretical Probability of Even Dice Rolls',\n",
    "    title_x=0.5,\n",
    "    title_font_size=20\n",
    ")\n",
    "\n",
    "# Update axes\n",
    "for i in range(1, 3):\n",
    "    for j in range(1, 3):\n",
    "        fig.update_xaxes(title_text='Outcome', row=i, col=j,\n",
    "                        showgrid=True, gridwidth=1, gridcolor='rgba(128,128,128,0.2)',\n",
    "                        zeroline=True, zerolinewidth=1, zerolinecolor='rgba(128,128,128,0.5)')\n",
    "        fig.update_yaxes(title_text='Probability', row=i, col=j,\n",
    "                        showgrid=True, gridwidth=1, gridcolor='rgba(128,128,128,0.2)',\n",
    "                        zeroline=True, zerolinewidth=1, zerolinecolor='rgba(128,128,128,0.5)',\n",
    "                        range=[0, 1])\n",
    "\n",
    "fig.show()\n"
   ]
  },
  {
   "cell_type": "markdown",
   "id": "ea59a0f6",
   "metadata": {},
   "source": [
    "##### <u>Artificial Intelligence Learns Probabilities this Way</u>\n",
    "\n",
    "Let's generate 10,000 dice rolls, record 1 when we see a dice roll that's even and 0 when we see one that's not."
   ]
  },
  {
   "cell_type": "code",
   "execution_count": 11,
   "id": "17f6d51a",
   "metadata": {},
   "outputs": [
    {
     "name": "stdout",
     "output_type": "stream",
     "text": [
      "Epoch [200/1000], Loss: 0.734251\n",
      "Epoch [400/1000], Loss: 0.698658\n",
      "Epoch [600/1000], Loss: 0.693714\n",
      "Epoch [800/1000], Loss: 0.693047\n",
      "Epoch [1000/1000], Loss: 0.692957\n",
      "\n",
      "Neural network prediction (probability of rolling even): 0.4925\n",
      "True probability: 0.5000\n"
     ]
    }
   ],
   "source": [
    "# Generate 10,000 dice rolls\n",
    "n_rolls = 10000\n",
    "rolls = np.random.randint(1, 7, size=n_rolls)\n",
    "\n",
    "# Create indicator variable (1 for even, 0 for odd)\n",
    "even_indicators = (rolls % 2 == 0).astype(int)\n",
    "\n",
    "# Define simple neural network\n",
    "class SimpleNet(nn.Module):\n",
    "    def __init__(self):\n",
    "        super(SimpleNet, self).__init__()\n",
    "        self.linear = nn.Linear(1, 1)\n",
    "        self.sigmoid = nn.Sigmoid()\n",
    "        \n",
    "    def forward(self, x):\n",
    "        return self.sigmoid(self.linear(x))\n",
    "\n",
    "# Initialize model, loss and optimizer\n",
    "model = SimpleNet()\n",
    "criterion = nn.BCELoss()\n",
    "optimizer = torch.optim.SGD(model.parameters(), lr=0.01)\n",
    "\n",
    "# Convert data to tensor\n",
    "X = torch.ones((n_rolls, 1))\n",
    "y = torch.FloatTensor(even_indicators).reshape(-1, 1)\n",
    "\n",
    "# Training loop\n",
    "n_epochs = 1000\n",
    "for epoch in range(n_epochs):\n",
    "    # Forward pass\n",
    "    outputs = model(X)\n",
    "    loss = criterion(outputs, y)\n",
    "    \n",
    "    # Backward pass and optimize\n",
    "    optimizer.zero_grad()\n",
    "    loss.backward()\n",
    "    optimizer.step()\n",
    "    \n",
    "    if (epoch + 1) % 200 == 0:\n",
    "        print(f'Epoch [{epoch+1}/{n_epochs}], Loss: {loss.item():.6f}')\n",
    "\n",
    "# Make prediction\n",
    "prediction = model(torch.ones(1))\n",
    "print(f\"\\nNeural network prediction (probability of rolling even): {prediction.item():.4f}\")\n",
    "print(f\"True probability: 0.5000\")"
   ]
  },
  {
   "cell_type": "markdown",
   "id": "130cbba1",
   "metadata": {},
   "source": [
    "**Remark:** The advanced artificial intelligence model can't be a simple average - still think statistics isn't important?"
   ]
  },
  {
   "cell_type": "markdown",
   "id": "597b7f9f",
   "metadata": {},
   "source": [
    "---"
   ]
  },
  {
   "cell_type": "markdown",
   "id": "2f742ec8",
   "metadata": {},
   "source": [
    "### 4.) 💻 Stock Price Prediction v. Facial Recognition\n",
    "\n",
    "There are fundamentally two problems we can consider in this space\n",
    "\n",
    "##### <u>Two Types of Problems</u>\n",
    "\n",
    "- Regression (*predicting* a level or producing an expectation)\n",
    "\n",
    "- Classification (*predicting* a level or producing an expected probability)\n",
    "\n",
    "In any case, the ability to produce an extremely effective level (*sigh*, prediction) is to have stability and separability in an N-dimensional space. "
   ]
  },
  {
   "cell_type": "markdown",
   "id": "a7ed774e",
   "metadata": {},
   "source": [
    "##### Trading Signal Example"
   ]
  },
  {
   "cell_type": "code",
   "execution_count": 12,
   "id": "47118a64",
   "metadata": {},
   "outputs": [
    {
     "data": {
      "application/vnd.plotly.v1+json": {
       "config": {
        "plotlyServerURL": "https://plot.ly"
       },
       "data": [
        {
         "marker": {
          "color": "blue",
          "opacity": 0.7,
          "size": 5
         },
         "mode": "markers",
         "scene": "scene",
         "showlegend": false,
         "type": "scatter3d",
         "x": {
          "bdata": "fDCpKCrK3z8qBd4FpbLBv2heJFDdueQ/K6oBjlRe+D9AplffvPjNvzvbcCYz+M2/CHRAqHRE+T/z1/BG047oP4ueeUveC96/fS1q4aZc4T9wG8Guoqjdv+fvFiuEzt2/cPmepZ74zj++Ne6+y5z+vxLk7nBDmfu/YzyhakL+4b95UaNnjjTwvx+GFtigHNQ/+QOLgYgO7b/HExTEy5j2v0ENnx9Mc/c/2Zhm4TzmzL/GNbFGh0mxP2InDcHEy/a/KPrKUZVr4b81BjE/bGW8PxX1zj14avK/6N19s28L2D/SOz2hbjjjv6DS80Icq9K/p/2pOS5B479X9hhz7qL9P4aDsNZupIu/RsyHS2Ls8L83Lh+1SVLqPxx64lmTiPO/tWnv0gq8yj/DMFAPz1r/v/9asANAQPW/QDr0vL8yyT++nUiqhKHnPwwupFVl78U/XzGyNiCbvb/hr1BvSEXTvwa4sKwGqPe/J6aouPYI57/ZriIKG3vdv2LC1/746fA/iEEAkdf91T9OFQ2YaTX8vzhYbbDKvdQ/QA8qJjCl2L9NOahTWKnlv/nsCSfakuM/1Pz0Wvl+8D8enOD2C83tP1MVD7Xe2uq/zylztCLK07+KTA+JazPVPwBoGGqqN+8/VWYobMqq3r8Tbn1grMPHvzBuPE2Ms/G/9PWajqkj87+w1UonNgDqP/3Ng74os/U/+iMrXUFvsr9qgA6DeA7wP0KkKG0LJdc/rwoBL9Kk5L+P6aQIGyHXPyBgEDvMm/g/UhmlZMpXor8x1znJxwj5P19fz+s89QTAv1gZewZN6j8hrkt3t0i2P8Dt4LnvItO/OIpGXqJ9tz/iHOwPFc3/v8FsDls1Hsy/04nor+7a1j8349E5dKX3PzA8v2yrleC/S3Lu+S3f6b+hdpfJZA7gv5AGx2H5Su0/gMUgGEIK1T/02ryry/PgvwNc6tKvbOA/OiugAxPauD9TvHjHI//uP3hIyAw4d+a/l5Lxpmr41L8apYzLTBjZvxD0dqaOave/IzBrdqLz0j8UgR0sIbXQPw06yBDZ8XQ/hE70gPMGzr8=",
          "dtype": "f8"
         },
         "y": {
          "bdata": "BCaNylul9r90hh9c2uvavws0Ft4I79W/fDE0YUGs6b/Ac3WcAqXEvzMc/B/429k/GwJ+RNEt/j+RJ1zWkFjGP517TqK0e9A/YFWJNeMOs7/tciNySbP+vzhGxw90Jpu/rRjbe37Wrj+4CNpHuLQDQOSGYbpIn8i/cjBhOY1M0z8IMle3vcWhv88R8r3nsvK/XG9XkwBJ8j9WfwXd1Q/oP9CD1DoiUOk//I03uLMZ7b80xIdy2HH2PxrkSGH7bfa/S4cph4jH4j9pi2GZDYYBQGn2PTx5su+/syyOahwf4r/knA16wIK5P29cmPl4HOC/2oM4dYTP+L/WI4LWV42xP6z3zS0y//C/LYVNoFZP3j+P4yVf7Gvtv8btxwSIzPg/3zBiNWkQ6b/G09nnp5zUv6+9akJVCOo/EVsOyJ6x879VNCM6aB3NP9OKTYUO6vQ/uPAUV0C4+b9xtRAQFaLHP87DhXHrodA/FIwxZrEE6T/Ywx/UjMrzvwa+Dx2XIPW/c+xXzL6z4D81ybwAzAHTP9yCByoTCNA/bQZjHDUs1j8B1nQ0w8Llv50+1zh9us0/Kj4LDLPB0j9/yEiB99vmv987sV822v0/4GTFUEdT3j9piIFBlA/zvwzmpLZ8AuU/U2I0nZcw779TSQgNzC/pPyEIkoSbifI/3Du3kAdD6r/tPhst+tPuP3e1ZrEAa9o/56rQG1FO6j/5fjyZQ1n+P92Zh7bgaM+/8kr3TZse6L+U+RH35nbsvwxYtSseG+q/vzZmCPC8s79JabMXb9XVP3p/jlNNtdE/chRNAUl46j/EwjZjvKCKPwoy0PKsQfc/auDaNiPw0L9MuFAN6MIFQKFsmod3BeQ/fngKr9Vt6799RAssYCLxv2JDLPvT4N4/Gn5stW2azL8Pgm6QF9nmPy3tMXaGSd4/qoMQZuqksr9D/LEj7xjrv/pkh3HQPPi/HGITc7OT3L8ogL5xnmfrPyehqH5sZ8s/3tQeyYvu87+mMWnmyirGP1UCIToKqdg/we3ZY49I7L9MGk6nQ63DP+ihInyIza0/47UXOZtJ8r8=",
          "dtype": "f8"
         },
         "z": {
          "bdata": "/bmLRyqN4z8Yi3OCuKzUP9Y1L9Jwvek/SOZORulO8j/UIFV4I0Lnv5CPHke+1uO/2qpTaqmo1j9Xrvcd+fDcP+guEXsTr7A/qCXg+gnVAEC2yzTdL/fgPzb+v41HvNs/K0J7eI4z4T99z0I9wbXnv1yyFjFWX+S/KPN2PzhDwz/u6CkLwd3lv968znYw1Mo/utKvjALM578atYL5fA/hv2pqUYZlBfc/+QiC4z456r8k/JysUzS1P/iH/0Fagu6/yBcqIWqI4L+ynuT2aODBP2Cxlxn4c72/3q/CI5wG1L97xphNSNnhv0AbBBdSl9Y/WRwsbOomzr8YnEuOcM7kP4svkCjhl80/wLLJuVGc57/fTemmuwr4Pz/vo31z/ta/xrQ3D2Zi6b/PNv3ZZ4nbv142JKqxi+y/uPrtbQVo5z+oy7pZ6y/Mv2wexF/bHNG/PpHjROlB4T8L0A8ARo/TPwtkXS3ph/G/gHBpECVE4b9PYDCESWvAv1aCuy3EStA/GrmEuKA07D9WFRqCPrHYv7JFYveEquK/ZigUjSCL0T+XRHGZ5s7vPy0wSnq15+Q/VHyskrlJ4L9jHXANvQ7HPwAz7A8Ee4E/AMg+wdxS4b+eybw71OfhP16xEA+0juE/jl3NktBi2r9Cn5BkmhbPv3jTWshZeQHA6tgKURWf5r8OU5e6aECzv1aWV9c/LNO/gilLcYUq5D9AdP9BSGPpv/g7izXy+a+/sOFZMqEflz+1Q9c2gBzwP7CszCVQ5re/IDu8mZjC4j+l3+6begDaP3bi0QbwT/W/ZBjOT9r60z++OYfiyH+/P/oV7YzMxuW/ADsUaUaIvT9ghgo8z1P1vxgqdMb3L8G/fOrwEhiC4z/xOGNJeTX3P1GwaaZG3uu/jrEUfxLM6z9zujAVWE/0v0H3tRUGpbo/+6rujQQS2j/7c6k4kFHDPwBYh5wEo8I/CLvEHXdrjT8x+decp0fAvy/DcscsiuG/Zv2J4rlr4j+Q7nn9bN6aP34jQy8ymuu/+gFQSZ7k5j8HvUTInsHJPyyIpZ9cXdk/5LAdcClG3j8=",
          "dtype": "f8"
         }
        },
        {
         "marker": {
          "color": "green",
          "opacity": 0.7,
          "size": 5
         },
         "mode": "markers",
         "name": "Positive Return",
         "scene": "scene2",
         "type": "scatter3d",
         "x": {
          "bdata": "fDCpKCrK3z8qBd4FpbLBv2heJFDdueQ/K6oBjlRe+D8IdECodET5P/PX8EbTjug/i555S94L3r99LWrhplzhP3Abwa6iqN2/5+8WK4TO3b9w+Z6lnvjOP2M8oWpC/uG/H4YW2KAc1D9BDZ8fTHP3P8Y1sUaHSbE/NQYxP2xlvD+g0vNCHKvSv1f2GHPuov0/hoOw1m6ki783Lh+1SVLqP0A69Ly/Msk/XzGyNiCbvb/hr1BvSEXTv2LC1/746fA/iEEAkdf91T9ADyomMKXYv005qFNYqeW/+ewJJ9qS4z8enOD2C83tP1MVD7Xe2uq/ikwPiWsz1T8AaBhqqjfvP/ojK11Bb7K/rwoBL9Kk5L+P6aQIGyHXP1IZpWTKV6K/Mdc5yccI+T+/WBl7Bk3qPyGuS3e3SLY/OIpGXqJ9tz/Tieiv7trWPzfj0Tl0pfc/S3Lu+S3f6b+QBsdh+UrtP4DFIBhCCtU/9Nq8q8vz4L8DXOrSr2zgPzoroAMT2rg/l5Lxpmr41L8apYzLTBjZvyMwa3ai89I/FIEdLCG10D8NOsgQ2fF0P4RO9IDzBs6/",
          "dtype": "f8"
         },
         "y": {
          "bdata": "BCaNylul9r90hh9c2uvavws0Ft4I79W/fDE0YUGs6b8bAn5E0S3+P5EnXNaQWMY/nXtOorR70D9gVYk14w6zv+1yI3JJs/6/OEbHD3Qmm7+tGNt7ftauP3IwYTmNTNM/zxHyveey8r/Qg9Q6IlDpPzTEh3LYcfY/aYthmQ2GAUBvXJj5eBzgv9YjgtZXjbE/rPfNLTL/8L+P4yVf7GvtvxFbDsiesfO/uPAUV0C4+b9xtRAQFaLHPwa+Dx2XIPW/c+xXzL6z4D9tBmMcNSzWPwHWdDTDwuW/nT7XOH26zT9/yEiB99vmv987sV822v0/aYiBQZQP878M5qS2fALlP+eq0BtRTuo/8kr3TZse6L+U+RH35nbsv782ZgjwvLO/SWmzF2/V1T9yFE0BSXjqP8TCNmO8oIo/auDaNiPw0L9+eAqv1W3rv31ECyxgIvG/Gn5stW2azL8t7TF2hkneP6qDEGbqpLK/Q/yxI+8Y67/6ZIdx0Dz4vxxiE3Ozk9y/3tQeyYvu87+mMWnmyirGP8Ht2WOPSOy/TBpOp0Otwz/ooSJ8iM2tP+O1FzmbSfK/",
          "dtype": "f8"
         },
         "z": {
          "bdata": "/bmLRyqN4z8Yi3OCuKzUP9Y1L9Jwvek/SOZORulO8j/aqlNqqajWP1eu9x358Nw/6C4RexOvsD+oJeD6CdUAQLbLNN0v9+A/Nv6/jUe82z8rQnt4jjPhPyjzdj84Q8M/3rzOdjDUyj9qalGGZQX3PyT8nKxTNLU/sp7k9mjgwT9AGwQXUpfWPxicS45wzuQ/iy+QKOGXzT/fTemmuwr4P7j67W0FaOc/PpHjROlB4T8L0A8ARo/TP1aCuy3EStA/GrmEuKA07D9mKBSNIIvRP5dEcZnmzu8/LTBKerXn5D9jHXANvQ7HPwAz7A8Ee4E/nsm8O9Tn4T9esRAPtI7hP4IpS3GFKuQ/sOFZMqEflz+1Q9c2gBzwPyA7vJmYwuI/pd/um3oA2j9kGM5P2vrTP745h+LIf78/ADsUaUaIvT986vASGILjP/E4Y0l5Nfc/jrEUfxLM6z9B97UVBqW6P/uq7o0EEto/+3OpOJBRwz8AWIecBKPCPwi7xB13a40/Zv2J4rlr4j+Q7nn9bN6aP/oBUEme5OY/B71EyJ7ByT8siKWfXF3ZP+SwHXApRt4/",
          "dtype": "f8"
         }
        },
        {
         "marker": {
          "color": "red",
          "opacity": 0.7,
          "size": 5
         },
         "mode": "markers",
         "name": "Negative Return",
         "scene": "scene2",
         "type": "scatter3d",
         "x": {
          "bdata": "QKZX37z4zb8723AmM/jNv7417r7LnP6/EuTucEOZ+795UaNnjjTwv/kDi4GIDu2/xxMUxMuY9r/ZmGbhPObMv2InDcHEy/a/KPrKUZVr4b8V9c49eGryv+jdfbNvC9g/0js9oW4447+n/ak5LkHjv0bMh0ti7PC/HHriWZOI87+1ae/SCrzKP8MwUA/PWv+//1qwA0BA9b++nUiqhKHnPwwupFVl78U/BriwrAao978npqi49gjnv9muIgobe92/ThUNmGk1/L84WG2wyr3UP9T89Fr5fvA/zylztCLK079VZihsyqrevxNufWCsw8e/MG48TYyz8b/09ZqOqSPzv7DVSic2AOo//c2Dviiz9T9qgA6DeA7wP0KkKG0LJdc/IGAQO8yb+D9fX8/rPPUEwMDt4LnvItO/4hzsDxXN/7/BbA5bNR7MvzA8v2yrleC/oXaXyWQO4L9TvHjHI//uP3hIyAw4d+a/EPR2po5q978=",
          "dtype": "f8"
         },
         "y": {
          "bdata": "wHN1nAKlxL8zHPwf+NvZP7gI2ke4tANA5IZhukifyL8IMle3vcWhv1xvV5MASfI/Vn8F3dUP6D/8jTe4sxntvxrkSGH7bfa/S4cph4jH4j9p9j08ebLvv7MsjmocH+K/5JwNesCCuT/agzh1hM/4vy2FTaBWT94/xu3HBIjM+D/fMGI1aRDpv8bT2eennNS/r71qQlUI6j9VNCM6aB3NP9OKTYUO6vQ/zsOFceuh0D8UjDFmsQTpP9jDH9SMyvO/Ncm8AMwB0z/cggcqEwjQPyo+CwyzwdI/4GTFUEdT3j9TYjSdlzDvv1NJCA3ML+k/IQiShJuJ8j/cO7eQB0Pqv+0+Gy360+4/d7VmsQBr2j/5fjyZQ1n+P92Zh7bgaM+/DFi1Kx4b6r96f45TTbXRPwoy0PKsQfc/TLhQDejCBUChbJqHdwXkP2JDLPvT4N4/D4JukBfZ5j8ogL5xnmfrPyehqH5sZ8s/VQIhOgqp2D8=",
          "dtype": "f8"
         },
         "z": {
          "bdata": "1CBVeCNC57+Qjx5Hvtbjv33PQj3Btee/XLIWMVZf5L/u6CkLwd3lv7rSr4wCzOe/GrWC+XwP4b/5CILjPjnqv/iH/0Fagu6/yBcqIWqI4L9gsZcZ+HO9v96vwiOcBtS/e8aYTUjZ4b9ZHCxs6ibOv8CyyblRnOe/P++jfXP+1r/GtDcPZmLpv882/dlnidu/XjYkqrGL7L+oy7pZ6y/Mv2wexF/bHNG/C2RdLemH8b+AcGkQJUThv09gMIRJa8C/VhUagj6x2L+yRWL3hKriv1R8rJK5SeC/AMg+wdxS4b+OXc2S0GLav0KfkGSaFs+/eNNayFl5AcDq2ApRFZ/mvw5Tl7poQLO/VpZX1z8s079AdP9BSGPpv/g7izXy+a+/sKzMJVDmt7924tEG8E/1v/oV7YzMxuW/YIYKPM9T9b8YKnTG9y/Bv1GwaaZG3uu/c7owFVhP9L8x+decp0fAvy/DcscsiuG/fiNDLzKa678=",
          "dtype": "f8"
         }
        },
        {
         "colorscale": [
          [
           0,
           "gray"
          ],
          [
           1,
           "gray"
          ]
         ],
         "name": "Trading Signal",
         "opacity": 0.3,
         "scene": "scene2",
         "showscale": false,
         "type": "surface",
         "x": {
          "bdata": "AAAAAAAAAMA5juM4juP4v3Icx3Ecx/G/VlVVVVVV5b8gx3Ecx3HMvyDHcRzHccw/VFVVVVVV5T9wHMdxHMfxPziO4ziO4/g/AAAAAAAAAEAAAAAAAAAAwDmO4ziO4/i/chzHcRzH8b9WVVVVVVXlvyDHcRzHccy/IMdxHMdxzD9UVVVVVVXlP3Acx3Ecx/E/OI7jOI7j+D8AAAAAAAAAQAAAAAAAAADAOY7jOI7j+L9yHMdxHMfxv1ZVVVVVVeW/IMdxHMdxzL8gx3Ecx3HMP1RVVVVVVeU/cBzHcRzH8T84juM4juP4PwAAAAAAAABAAAAAAAAAAMA5juM4juP4v3Icx3Ecx/G/VlVVVVVV5b8gx3Ecx3HMvyDHcRzHccw/VFVVVVVV5T9wHMdxHMfxPziO4ziO4/g/AAAAAAAAAEAAAAAAAAAAwDmO4ziO4/i/chzHcRzH8b9WVVVVVVXlvyDHcRzHccy/IMdxHMdxzD9UVVVVVVXlP3Acx3Ecx/E/OI7jOI7j+D8AAAAAAAAAQAAAAAAAAADAOY7jOI7j+L9yHMdxHMfxv1ZVVVVVVeW/IMdxHMdxzL8gx3Ecx3HMP1RVVVVVVeU/cBzHcRzH8T84juM4juP4PwAAAAAAAABAAAAAAAAAAMA5juM4juP4v3Icx3Ecx/G/VlVVVVVV5b8gx3Ecx3HMvyDHcRzHccw/VFVVVVVV5T9wHMdxHMfxPziO4ziO4/g/AAAAAAAAAEAAAAAAAAAAwDmO4ziO4/i/chzHcRzH8b9WVVVVVVXlvyDHcRzHccy/IMdxHMdxzD9UVVVVVVXlP3Acx3Ecx/E/OI7jOI7j+D8AAAAAAAAAQAAAAAAAAADAOY7jOI7j+L9yHMdxHMfxv1ZVVVVVVeW/IMdxHMdxzL8gx3Ecx3HMP1RVVVVVVeU/cBzHcRzH8T84juM4juP4PwAAAAAAAABAAAAAAAAAAMA5juM4juP4v3Icx3Ecx/G/VlVVVVVV5b8gx3Ecx3HMvyDHcRzHccw/VFVVVVVV5T9wHMdxHMfxPziO4ziO4/g/AAAAAAAAAEA=",
          "dtype": "f8",
          "shape": "10, 10"
         },
         "y": {
          "bdata": "AAAAAAAAAMAAAAAAAAAAwAAAAAAAAADAAAAAAAAAAMAAAAAAAAAAwAAAAAAAAADAAAAAAAAAAMAAAAAAAAAAwAAAAAAAAADAAAAAAAAAAMA5juM4juP4vzmO4ziO4/i/OY7jOI7j+L85juM4juP4vzmO4ziO4/i/OY7jOI7j+L85juM4juP4vzmO4ziO4/i/OY7jOI7j+L85juM4juP4v3Icx3Ecx/G/chzHcRzH8b9yHMdxHMfxv3Icx3Ecx/G/chzHcRzH8b9yHMdxHMfxv3Icx3Ecx/G/chzHcRzH8b9yHMdxHMfxv3Icx3Ecx/G/VlVVVVVV5b9WVVVVVVXlv1ZVVVVVVeW/VlVVVVVV5b9WVVVVVVXlv1ZVVVVVVeW/VlVVVVVV5b9WVVVVVVXlv1ZVVVVVVeW/VlVVVVVV5b8gx3Ecx3HMvyDHcRzHccy/IMdxHMdxzL8gx3Ecx3HMvyDHcRzHccy/IMdxHMdxzL8gx3Ecx3HMvyDHcRzHccy/IMdxHMdxzL8gx3Ecx3HMvyDHcRzHccw/IMdxHMdxzD8gx3Ecx3HMPyDHcRzHccw/IMdxHMdxzD8gx3Ecx3HMPyDHcRzHccw/IMdxHMdxzD8gx3Ecx3HMPyDHcRzHccw/VFVVVVVV5T9UVVVVVVXlP1RVVVVVVeU/VFVVVVVV5T9UVVVVVVXlP1RVVVVVVeU/VFVVVVVV5T9UVVVVVVXlP1RVVVVVVeU/VFVVVVVV5T9wHMdxHMfxP3Acx3Ecx/E/cBzHcRzH8T9wHMdxHMfxP3Acx3Ecx/E/cBzHcRzH8T9wHMdxHMfxP3Acx3Ecx/E/cBzHcRzH8T9wHMdxHMfxPziO4ziO4/g/OI7jOI7j+D84juM4juP4PziO4ziO4/g/OI7jOI7j+D84juM4juP4PziO4ziO4/g/OI7jOI7j+D84juM4juP4PziO4ziO4/g/AAAAAAAAAEAAAAAAAAAAQAAAAAAAAABAAAAAAAAAAEAAAAAAAAAAQAAAAAAAAABAAAAAAAAAAEAAAAAAAAAAQAAAAAAAAABAAAAAAAAAAEA=",
          "dtype": "f8",
          "shape": "10, 10"
         },
         "z": {
          "bdata": "AAAAAAAAAAAAAAAAAAAAAAAAAAAAAAAAAAAAAAAAAAAAAAAAAAAAAAAAAAAAAAAAAAAAAAAAAAAAAAAAAAAAAAAAAAAAAAAAAAAAAAAAAAAAAAAAAAAAAAAAAAAAAAAAAAAAAAAAAAAAAAAAAAAAAAAAAAAAAAAAAAAAAAAAAAAAAAAAAAAAAAAAAAAAAAAAAAAAAAAAAAAAAAAAAAAAAAAAAAAAAAAAAAAAAAAAAAAAAAAAAAAAAAAAAAAAAAAAAAAAAAAAAAAAAAAAAAAAAAAAAAAAAAAAAAAAAAAAAAAAAAAAAAAAAAAAAAAAAAAAAAAAAAAAAAAAAAAAAAAAAAAAAAAAAAAAAAAAAAAAAAAAAAAAAAAAAAAAAAAAAAAAAAAAAAAAAAAAAAAAAAAAAAAAAAAAAAAAAAAAAAAAAAAAAAAAAAAAAAAAAAAAAAAAAAAAAAAAAAAAAAAAAAAAAAAAAAAAAAAAAAAAAAAAAAAAAAAAAAAAAAAAAAAAAAAAAAAAAAAAAAAAAAAAAAAAAAAAAAAAAAAAAAAAAAAAAAAAAAAAAAAAAAAAAAAAAAAAAAAAAAAAAAAAAAAAAAAAAAAAAAAAAAAAAAAAAAAAAAAAAAAAAAAAAAAAAAAAAAAAAAAAAAAAAAAAAAAAAAAAAAAAAAAAAAAAAAAAAAAAAAAAAAAAAAAAAAAAAAAAAAAAAAAAAAAAAAAAAAAAAAAAAAAAAAAAAAAAAAAAAAAAAAAAAAAAAAAAAAAAAAAAAAAAAAAAAAAAAAAAAAAAAAAAAAAAAAAAAAAAAAAAAAAAAAAAAAAAAAAAAAAAAAAAAAAAAAAAAAAAAAAAAAAAAAAAAAAAAAAAAAAAAAAAAAAAAAAAAAAAAAAAAAAAAAAAAAAAAAAAAAAAAAAAAAAAAAAAAAAAAAAAAAAAAAAAAAAAAAAAAAAAAAAAAAAAAAAAAAAAAAAAAAAAAAAAAAAAAAAAAAAAAAAAAAAAAAAAAAAAAAAAAAAAAAAAAAAAAAAAAAAAAAAAAAAAAAAAAAAAAAAAAAAAAAAAAAAAAAAAAAAAAAA=",
          "dtype": "f8",
          "shape": "10, 10"
         }
        }
       ],
       "layout": {
        "annotations": [
         {
          "font": {
           "size": 16
          },
          "showarrow": false,
          "text": "Raw Data Points",
          "x": 0.225,
          "xanchor": "center",
          "xref": "paper",
          "y": 1,
          "yanchor": "bottom",
          "yref": "paper"
         },
         {
          "font": {
           "size": 16
          },
          "showarrow": false,
          "text": "Points Colored by Return with Trading Signal",
          "x": 0.775,
          "xanchor": "center",
          "xref": "paper",
          "y": 1,
          "yanchor": "bottom",
          "yref": "paper"
         }
        ],
        "font": {
         "color": "white"
        },
        "height": 500,
        "paper_bgcolor": "rgba(0,0,0,0)",
        "scene": {
         "bgcolor": "rgba(0,0,0,0)",
         "camera": {
          "eye": {
           "x": 1.5,
           "y": 1.5,
           "z": 1.2
          }
         },
         "domain": {
          "x": [
           0,
           0.45
          ],
          "y": [
           0,
           1
          ]
         },
         "xaxis": {
          "backgroundcolor": "rgb(30, 30, 35)",
          "color": "darkgray",
          "gridcolor": "darkgray",
          "showgrid": true,
          "title": {
           "text": "Feature 1"
          }
         },
         "yaxis": {
          "backgroundcolor": "rgb(30, 30, 35)",
          "color": "darkgray",
          "gridcolor": "darkgray",
          "showgrid": true,
          "title": {
           "text": "Feature 2"
          }
         },
         "zaxis": {
          "backgroundcolor": "rgb(30, 30, 35)",
          "color": "darkgray",
          "gridcolor": "darkgray",
          "showgrid": true,
          "title": {
           "text": "Return"
          }
         }
        },
        "scene2": {
         "bgcolor": "rgba(0,0,0,0)",
         "camera": {
          "eye": {
           "x": 1.5,
           "y": 1.5,
           "z": 1.2
          }
         },
         "domain": {
          "x": [
           0.55,
           1
          ],
          "y": [
           0,
           1
          ]
         },
         "xaxis": {
          "backgroundcolor": "rgb(30, 30, 35)",
          "color": "darkgray",
          "gridcolor": "darkgray",
          "showgrid": true,
          "title": {
           "text": "Feature 1"
          }
         },
         "yaxis": {
          "backgroundcolor": "rgb(30, 30, 35)",
          "color": "darkgray",
          "gridcolor": "darkgray",
          "showgrid": true,
          "title": {
           "text": "Feature 2"
          }
         },
         "zaxis": {
          "backgroundcolor": "rgb(30, 30, 35)",
          "color": "darkgray",
          "gridcolor": "darkgray",
          "showgrid": true,
          "title": {
           "text": "Return"
          }
         }
        },
        "showlegend": true,
        "template": {
         "data": {
          "bar": [
           {
            "error_x": {
             "color": "#2a3f5f"
            },
            "error_y": {
             "color": "#2a3f5f"
            },
            "marker": {
             "line": {
              "color": "#E5ECF6",
              "width": 0.5
             },
             "pattern": {
              "fillmode": "overlay",
              "size": 10,
              "solidity": 0.2
             }
            },
            "type": "bar"
           }
          ],
          "barpolar": [
           {
            "marker": {
             "line": {
              "color": "#E5ECF6",
              "width": 0.5
             },
             "pattern": {
              "fillmode": "overlay",
              "size": 10,
              "solidity": 0.2
             }
            },
            "type": "barpolar"
           }
          ],
          "carpet": [
           {
            "aaxis": {
             "endlinecolor": "#2a3f5f",
             "gridcolor": "white",
             "linecolor": "white",
             "minorgridcolor": "white",
             "startlinecolor": "#2a3f5f"
            },
            "baxis": {
             "endlinecolor": "#2a3f5f",
             "gridcolor": "white",
             "linecolor": "white",
             "minorgridcolor": "white",
             "startlinecolor": "#2a3f5f"
            },
            "type": "carpet"
           }
          ],
          "choropleth": [
           {
            "colorbar": {
             "outlinewidth": 0,
             "ticks": ""
            },
            "type": "choropleth"
           }
          ],
          "contour": [
           {
            "colorbar": {
             "outlinewidth": 0,
             "ticks": ""
            },
            "colorscale": [
             [
              0,
              "#0d0887"
             ],
             [
              0.1111111111111111,
              "#46039f"
             ],
             [
              0.2222222222222222,
              "#7201a8"
             ],
             [
              0.3333333333333333,
              "#9c179e"
             ],
             [
              0.4444444444444444,
              "#bd3786"
             ],
             [
              0.5555555555555556,
              "#d8576b"
             ],
             [
              0.6666666666666666,
              "#ed7953"
             ],
             [
              0.7777777777777778,
              "#fb9f3a"
             ],
             [
              0.8888888888888888,
              "#fdca26"
             ],
             [
              1,
              "#f0f921"
             ]
            ],
            "type": "contour"
           }
          ],
          "contourcarpet": [
           {
            "colorbar": {
             "outlinewidth": 0,
             "ticks": ""
            },
            "type": "contourcarpet"
           }
          ],
          "heatmap": [
           {
            "colorbar": {
             "outlinewidth": 0,
             "ticks": ""
            },
            "colorscale": [
             [
              0,
              "#0d0887"
             ],
             [
              0.1111111111111111,
              "#46039f"
             ],
             [
              0.2222222222222222,
              "#7201a8"
             ],
             [
              0.3333333333333333,
              "#9c179e"
             ],
             [
              0.4444444444444444,
              "#bd3786"
             ],
             [
              0.5555555555555556,
              "#d8576b"
             ],
             [
              0.6666666666666666,
              "#ed7953"
             ],
             [
              0.7777777777777778,
              "#fb9f3a"
             ],
             [
              0.8888888888888888,
              "#fdca26"
             ],
             [
              1,
              "#f0f921"
             ]
            ],
            "type": "heatmap"
           }
          ],
          "histogram": [
           {
            "marker": {
             "pattern": {
              "fillmode": "overlay",
              "size": 10,
              "solidity": 0.2
             }
            },
            "type": "histogram"
           }
          ],
          "histogram2d": [
           {
            "colorbar": {
             "outlinewidth": 0,
             "ticks": ""
            },
            "colorscale": [
             [
              0,
              "#0d0887"
             ],
             [
              0.1111111111111111,
              "#46039f"
             ],
             [
              0.2222222222222222,
              "#7201a8"
             ],
             [
              0.3333333333333333,
              "#9c179e"
             ],
             [
              0.4444444444444444,
              "#bd3786"
             ],
             [
              0.5555555555555556,
              "#d8576b"
             ],
             [
              0.6666666666666666,
              "#ed7953"
             ],
             [
              0.7777777777777778,
              "#fb9f3a"
             ],
             [
              0.8888888888888888,
              "#fdca26"
             ],
             [
              1,
              "#f0f921"
             ]
            ],
            "type": "histogram2d"
           }
          ],
          "histogram2dcontour": [
           {
            "colorbar": {
             "outlinewidth": 0,
             "ticks": ""
            },
            "colorscale": [
             [
              0,
              "#0d0887"
             ],
             [
              0.1111111111111111,
              "#46039f"
             ],
             [
              0.2222222222222222,
              "#7201a8"
             ],
             [
              0.3333333333333333,
              "#9c179e"
             ],
             [
              0.4444444444444444,
              "#bd3786"
             ],
             [
              0.5555555555555556,
              "#d8576b"
             ],
             [
              0.6666666666666666,
              "#ed7953"
             ],
             [
              0.7777777777777778,
              "#fb9f3a"
             ],
             [
              0.8888888888888888,
              "#fdca26"
             ],
             [
              1,
              "#f0f921"
             ]
            ],
            "type": "histogram2dcontour"
           }
          ],
          "mesh3d": [
           {
            "colorbar": {
             "outlinewidth": 0,
             "ticks": ""
            },
            "type": "mesh3d"
           }
          ],
          "parcoords": [
           {
            "line": {
             "colorbar": {
              "outlinewidth": 0,
              "ticks": ""
             }
            },
            "type": "parcoords"
           }
          ],
          "pie": [
           {
            "automargin": true,
            "type": "pie"
           }
          ],
          "scatter": [
           {
            "fillpattern": {
             "fillmode": "overlay",
             "size": 10,
             "solidity": 0.2
            },
            "type": "scatter"
           }
          ],
          "scatter3d": [
           {
            "line": {
             "colorbar": {
              "outlinewidth": 0,
              "ticks": ""
             }
            },
            "marker": {
             "colorbar": {
              "outlinewidth": 0,
              "ticks": ""
             }
            },
            "type": "scatter3d"
           }
          ],
          "scattercarpet": [
           {
            "marker": {
             "colorbar": {
              "outlinewidth": 0,
              "ticks": ""
             }
            },
            "type": "scattercarpet"
           }
          ],
          "scattergeo": [
           {
            "marker": {
             "colorbar": {
              "outlinewidth": 0,
              "ticks": ""
             }
            },
            "type": "scattergeo"
           }
          ],
          "scattergl": [
           {
            "marker": {
             "colorbar": {
              "outlinewidth": 0,
              "ticks": ""
             }
            },
            "type": "scattergl"
           }
          ],
          "scattermap": [
           {
            "marker": {
             "colorbar": {
              "outlinewidth": 0,
              "ticks": ""
             }
            },
            "type": "scattermap"
           }
          ],
          "scattermapbox": [
           {
            "marker": {
             "colorbar": {
              "outlinewidth": 0,
              "ticks": ""
             }
            },
            "type": "scattermapbox"
           }
          ],
          "scatterpolar": [
           {
            "marker": {
             "colorbar": {
              "outlinewidth": 0,
              "ticks": ""
             }
            },
            "type": "scatterpolar"
           }
          ],
          "scatterpolargl": [
           {
            "marker": {
             "colorbar": {
              "outlinewidth": 0,
              "ticks": ""
             }
            },
            "type": "scatterpolargl"
           }
          ],
          "scatterternary": [
           {
            "marker": {
             "colorbar": {
              "outlinewidth": 0,
              "ticks": ""
             }
            },
            "type": "scatterternary"
           }
          ],
          "surface": [
           {
            "colorbar": {
             "outlinewidth": 0,
             "ticks": ""
            },
            "colorscale": [
             [
              0,
              "#0d0887"
             ],
             [
              0.1111111111111111,
              "#46039f"
             ],
             [
              0.2222222222222222,
              "#7201a8"
             ],
             [
              0.3333333333333333,
              "#9c179e"
             ],
             [
              0.4444444444444444,
              "#bd3786"
             ],
             [
              0.5555555555555556,
              "#d8576b"
             ],
             [
              0.6666666666666666,
              "#ed7953"
             ],
             [
              0.7777777777777778,
              "#fb9f3a"
             ],
             [
              0.8888888888888888,
              "#fdca26"
             ],
             [
              1,
              "#f0f921"
             ]
            ],
            "type": "surface"
           }
          ],
          "table": [
           {
            "cells": {
             "fill": {
              "color": "#EBF0F8"
             },
             "line": {
              "color": "white"
             }
            },
            "header": {
             "fill": {
              "color": "#C8D4E3"
             },
             "line": {
              "color": "white"
             }
            },
            "type": "table"
           }
          ]
         },
         "layout": {
          "annotationdefaults": {
           "arrowcolor": "#2a3f5f",
           "arrowhead": 0,
           "arrowwidth": 1
          },
          "autotypenumbers": "strict",
          "coloraxis": {
           "colorbar": {
            "outlinewidth": 0,
            "ticks": ""
           }
          },
          "colorscale": {
           "diverging": [
            [
             0,
             "#8e0152"
            ],
            [
             0.1,
             "#c51b7d"
            ],
            [
             0.2,
             "#de77ae"
            ],
            [
             0.3,
             "#f1b6da"
            ],
            [
             0.4,
             "#fde0ef"
            ],
            [
             0.5,
             "#f7f7f7"
            ],
            [
             0.6,
             "#e6f5d0"
            ],
            [
             0.7,
             "#b8e186"
            ],
            [
             0.8,
             "#7fbc41"
            ],
            [
             0.9,
             "#4d9221"
            ],
            [
             1,
             "#276419"
            ]
           ],
           "sequential": [
            [
             0,
             "#0d0887"
            ],
            [
             0.1111111111111111,
             "#46039f"
            ],
            [
             0.2222222222222222,
             "#7201a8"
            ],
            [
             0.3333333333333333,
             "#9c179e"
            ],
            [
             0.4444444444444444,
             "#bd3786"
            ],
            [
             0.5555555555555556,
             "#d8576b"
            ],
            [
             0.6666666666666666,
             "#ed7953"
            ],
            [
             0.7777777777777778,
             "#fb9f3a"
            ],
            [
             0.8888888888888888,
             "#fdca26"
            ],
            [
             1,
             "#f0f921"
            ]
           ],
           "sequentialminus": [
            [
             0,
             "#0d0887"
            ],
            [
             0.1111111111111111,
             "#46039f"
            ],
            [
             0.2222222222222222,
             "#7201a8"
            ],
            [
             0.3333333333333333,
             "#9c179e"
            ],
            [
             0.4444444444444444,
             "#bd3786"
            ],
            [
             0.5555555555555556,
             "#d8576b"
            ],
            [
             0.6666666666666666,
             "#ed7953"
            ],
            [
             0.7777777777777778,
             "#fb9f3a"
            ],
            [
             0.8888888888888888,
             "#fdca26"
            ],
            [
             1,
             "#f0f921"
            ]
           ]
          },
          "colorway": [
           "#636efa",
           "#EF553B",
           "#00cc96",
           "#ab63fa",
           "#FFA15A",
           "#19d3f3",
           "#FF6692",
           "#B6E880",
           "#FF97FF",
           "#FECB52"
          ],
          "font": {
           "color": "#2a3f5f"
          },
          "geo": {
           "bgcolor": "white",
           "lakecolor": "white",
           "landcolor": "#E5ECF6",
           "showlakes": true,
           "showland": true,
           "subunitcolor": "white"
          },
          "hoverlabel": {
           "align": "left"
          },
          "hovermode": "closest",
          "mapbox": {
           "style": "light"
          },
          "paper_bgcolor": "white",
          "plot_bgcolor": "#E5ECF6",
          "polar": {
           "angularaxis": {
            "gridcolor": "white",
            "linecolor": "white",
            "ticks": ""
           },
           "bgcolor": "#E5ECF6",
           "radialaxis": {
            "gridcolor": "white",
            "linecolor": "white",
            "ticks": ""
           }
          },
          "scene": {
           "xaxis": {
            "backgroundcolor": "#E5ECF6",
            "gridcolor": "white",
            "gridwidth": 2,
            "linecolor": "white",
            "showbackground": true,
            "ticks": "",
            "zerolinecolor": "white"
           },
           "yaxis": {
            "backgroundcolor": "#E5ECF6",
            "gridcolor": "white",
            "gridwidth": 2,
            "linecolor": "white",
            "showbackground": true,
            "ticks": "",
            "zerolinecolor": "white"
           },
           "zaxis": {
            "backgroundcolor": "#E5ECF6",
            "gridcolor": "white",
            "gridwidth": 2,
            "linecolor": "white",
            "showbackground": true,
            "ticks": "",
            "zerolinecolor": "white"
           }
          },
          "shapedefaults": {
           "line": {
            "color": "#2a3f5f"
           }
          },
          "ternary": {
           "aaxis": {
            "gridcolor": "white",
            "linecolor": "white",
            "ticks": ""
           },
           "baxis": {
            "gridcolor": "white",
            "linecolor": "white",
            "ticks": ""
           },
           "bgcolor": "#E5ECF6",
           "caxis": {
            "gridcolor": "white",
            "linecolor": "white",
            "ticks": ""
           }
          },
          "title": {
           "x": 0.05
          },
          "xaxis": {
           "automargin": true,
           "gridcolor": "white",
           "linecolor": "white",
           "ticks": "",
           "title": {
            "standoff": 15
           },
           "zerolinecolor": "white",
           "zerolinewidth": 2
          },
          "yaxis": {
           "automargin": true,
           "gridcolor": "white",
           "linecolor": "white",
           "ticks": "",
           "title": {
            "standoff": 15
           },
           "zerolinecolor": "white",
           "zerolinewidth": 2
          }
         }
        },
        "title": {
         "text": "3D Feature Space: Raw vs Return-Colored Points with Trading Signal"
        },
        "width": 900
       }
      }
     },
     "metadata": {},
     "output_type": "display_data"
    }
   ],
   "source": [
    "import numpy as np\n",
    "import plotly.graph_objects as go\n",
    "from plotly.subplots import make_subplots\n",
    "\n",
    "# Generate random 3D data points\n",
    "np.random.seed(42)\n",
    "n_points = 100\n",
    "\n",
    "x = np.random.normal(0, 1, n_points)\n",
    "y = np.random.normal(0, 1, n_points)\n",
    "z = 0.3*x - 0.2*y + np.random.normal(0, 0.5, n_points)\n",
    "\n",
    "# Create figure with two subplots\n",
    "fig = make_subplots(\n",
    "    rows=1, cols=2,\n",
    "    specs=[[{'type': 'scene'}, {'type': 'scene'}]],\n",
    "    subplot_titles=('Raw Data Points', 'Points Colored by Return with Trading Signal')\n",
    ")\n",
    "\n",
    "# Add traces for first subplot - all points in blue\n",
    "fig.add_trace(\n",
    "    go.Scatter3d(\n",
    "        x=x, y=y, z=z,\n",
    "        mode='markers',\n",
    "        marker=dict(\n",
    "            size=5,\n",
    "            color='blue',\n",
    "            opacity=0.7\n",
    "        ),\n",
    "        showlegend=False\n",
    "    ),\n",
    "    row=1, col=1\n",
    ")\n",
    "\n",
    "# Add traces for second subplot - points colored by return\n",
    "fig.add_trace(\n",
    "    go.Scatter3d(\n",
    "        x=x[z >= 0], y=y[z >= 0], z=z[z >= 0],\n",
    "        mode='markers',\n",
    "        marker=dict(\n",
    "            size=5,\n",
    "            color='green',\n",
    "            opacity=0.7\n",
    "        ),\n",
    "        name='Positive Return'\n",
    "    ),\n",
    "    row=1, col=2\n",
    ")\n",
    "\n",
    "fig.add_trace(\n",
    "    go.Scatter3d(\n",
    "        x=x[z < 0], y=y[z < 0], z=z[z < 0],\n",
    "        mode='markers',\n",
    "        marker=dict(\n",
    "            size=5,\n",
    "            color='red',\n",
    "            opacity=0.7\n",
    "        ),\n",
    "        name='Negative Return'\n",
    "    ),\n",
    "    row=1, col=2\n",
    ")\n",
    "\n",
    "# Add hyperplane\n",
    "xx, yy = np.meshgrid(np.linspace(-2, 2, 10), np.linspace(-2, 2, 10))\n",
    "# z = 0 plane represents the decision boundary\n",
    "zz = np.zeros_like(xx)\n",
    "\n",
    "fig.add_trace(\n",
    "    go.Surface(\n",
    "        x=xx,\n",
    "        y=yy,\n",
    "        z=zz,\n",
    "        opacity=0.3,\n",
    "        showscale=False,\n",
    "        name='Trading Signal',\n",
    "        colorscale=[[0, 'gray'], [1, 'gray']]\n",
    "    ),\n",
    "    row=1, col=2\n",
    ")\n",
    "\n",
    "# Update layout\n",
    "fig.update_layout(\n",
    "    title='3D Feature Space: Raw vs Return-Colored Points with Trading Signal',\n",
    "    scene=dict(\n",
    "        xaxis_title='Feature 1',\n",
    "        yaxis_title='Feature 2',\n",
    "        zaxis_title='Return',\n",
    "        xaxis=dict(gridcolor='darkgray', showgrid=True, color='darkgray', backgroundcolor='rgb(30, 30, 35)'),\n",
    "        yaxis=dict(gridcolor='darkgray', showgrid=True, color='darkgray', backgroundcolor='rgb(30, 30, 35)'),\n",
    "        zaxis=dict(gridcolor='darkgray', showgrid=True, color='darkgray', backgroundcolor='rgb(30, 30, 35)'),\n",
    "        bgcolor='rgba(0,0,0,0)',\n",
    "        camera=dict(eye=dict(x=1.5, y=1.5, z=1.2))\n",
    "    ),\n",
    "    scene2=dict(\n",
    "        xaxis_title='Feature 1',\n",
    "        yaxis_title='Feature 2',\n",
    "        zaxis_title='Return',\n",
    "        xaxis=dict(gridcolor='darkgray', showgrid=True, color='darkgray', backgroundcolor='rgb(30, 30, 35)'),\n",
    "        yaxis=dict(gridcolor='darkgray', showgrid=True, color='darkgray', backgroundcolor='rgb(30, 30, 35)'),\n",
    "        zaxis=dict(gridcolor='darkgray', showgrid=True, color='darkgray', backgroundcolor='rgb(30, 30, 35)'),\n",
    "        bgcolor='rgba(0,0,0,0)',\n",
    "        camera=dict(eye=dict(x=1.5, y=1.5, z=1.2))\n",
    "    ),\n",
    "    width=900,\n",
    "    height=500,\n",
    "    paper_bgcolor='rgba(0,0,0,0)',\n",
    "    font=dict(color='white'),\n",
    "    showlegend=True\n",
    ")\n",
    "\n",
    "fig.show()\n"
   ]
  },
  {
   "cell_type": "markdown",
   "id": "ca9e8176",
   "metadata": {},
   "source": [
    "---"
   ]
  },
  {
   "cell_type": "markdown",
   "id": "d67c407e",
   "metadata": {},
   "source": [
    "### 5.) 💭 Closing Thoughts and Future Topics\n",
    "\n",
    "**TL;DW:** If the expectation is not a good proxy due to instability and lack of structure (especially w.r.t time) of the population distribution, a neural network approximation won't be any better.\n",
    "\n",
    "AI is far from a cure-all and modeling certain events as simple random variables can easily and consistently outpreform.\n",
    "\n",
    "More complicated models will try to learn a distribution, moreover, with sufficient data where the outcome of interest is heavily dependent on a number of factors it is possible to produce levels that outpreform expectations.\n",
    "\n",
    "Some problems demand artificial intelligence, the efficacy of this approach will depend on the stability and separability of the problem space in latent dimensions in the ability to produce *good* levels.\n",
    "\n",
    "**What AI is Amazing At:**\n",
    "\n",
    "- Stable problem spaces with time invariant distributions (Language Modeling, Face ID, ...)\n",
    "\n",
    "**What AI is NOT Amazing At:**\n",
    "\n",
    "- Providing *predictions* or levels in a random environment (either *actually* random or where there is insufficient data to provide reasonable levels)\n",
    "\n",
    "Future Topics:\n",
    "\n",
    "- Goodness of Fit Tests (are these valid? can we use these to find an edge?)\n",
    "\n",
    "- Fundamentals of Neural Networks (Math, Structures, Problems, ...)\n",
    "\n",
    "- Analyzing Latent Spaces (PCA, Autoencoders, VAEs, ...)\n",
    "\n",
    "- Machine Learning and Artificial Intelligence in Finance (Signals, Pricing, ...)"
   ]
  }
 ],
 "metadata": {
  "kernelspec": {
   "display_name": "Python 3",
   "language": "python",
   "name": "python3"
  },
  "language_info": {
   "codemirror_mode": {
    "name": "ipython",
    "version": 3
   },
   "file_extension": ".py",
   "mimetype": "text/x-python",
   "name": "python",
   "nbconvert_exporter": "python",
   "pygments_lexer": "ipython3",
   "version": "3.10.11"
  }
 },
 "nbformat": 4,
 "nbformat_minor": 5
}
