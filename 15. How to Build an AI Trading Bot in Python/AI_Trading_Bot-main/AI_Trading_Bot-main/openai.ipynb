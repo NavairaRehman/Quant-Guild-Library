{
 "cells": [
  {
   "cell_type": "code",
   "execution_count": 1,
   "metadata": {},
   "outputs": [],
   "source": [
    "import openai"
   ]
  },
  {
   "cell_type": "code",
   "execution_count": 2,
   "metadata": {},
   "outputs": [],
   "source": [
    "import alpaca_trade_api as tradeapi\n",
    "\n",
    "key = \"PKGDU2MIBWB8TAE9CDQ0\"\n",
    "secret_key = \"el7A7EF5d5y3ILvYr17O30fwZkPKmUZfcZEVxUov\"\n",
    "BASE_URL = \"https://paper-api.alpaca.markets/\"\n",
    "\n",
    "api = tradeapi.REST(key, secret_key, BASE_URL, api_version=\"v2\")"
   ]
  },
  {
   "cell_type": "code",
   "execution_count": null,
   "metadata": {},
   "outputs": [],
   "source": [
    "\n",
    "\n",
    "def analyze_message(message):\n",
    "    portfolio_data = fetch_portfolio()\n",
    "    open_orders = fetch_open_orders()\n",
    "\n",
    "    pre_prompt = f\"\"\"\n",
    "    You are an AI Portfolio Manage responsible for analyzing my portfolio.\n",
    "    Your tasks are the following:\n",
    "    1.) Evaluate risk exposures of my current holdings\n",
    "    2.) Analyze my open limit orders and their potential impact\n",
    "    3.) provide insights into portfolio health, diversification, trade adj. etc.\n",
    "    4.) Speculate on the market outlook based on current market conditions\n",
    "    5.) Identify potential market risks and suggest risk management strategies\n",
    "\n",
    "    Here is my portfolio: {portfolio_data}\n",
    "\n",
    "    Here are my open orders {open_orders}\n",
    "\n",
    "    Overall, answer the following question with priority having that background: {message}\n",
    "    \"\"\"\n",
    "\n",
    "    response = openai.ChatCompletion.create(\n",
    "        model=\"gpt-4\",\n",
    "        messages=[{\"role\":\"system\", \"content\":pre_prompt}],\n",
    "        api_key = \"SECRET_KEY_OPENAI\"\n",
    "    )\n",
    "    return response['choices'][0]['message']['content']\n",
    "\n",
    "analysis = analyze_message(\"How is my portfolio doing?\")"
   ]
  },
  {
   "cell_type": "code",
   "execution_count": 7,
   "metadata": {},
   "outputs": [
    {
     "data": {
      "text/plain": [
       "\"As an AI Portfolio Manager, I have analyzed your portfolio as per the details provided.\\n\\n1) Risk Exposures: Currently, your portfolio consists of a single stock, 'AAPL'. This implies that your portfolio lacks diversification and hence is exposed to high unsystematic risk. Unsystematic risk is the risk associated with a specific stock and can be mitigated by diversification. Having a concentrated position in one stock can lead to significant losses if the price of the AAPL stock decreases.\\n\\n2) Open Limit Orders: You currently do not have any open orders.\\n\\n3) Portfolio Health & Diversification: As mentioned earlier, your portfolio is not diversified as it contains only one stock. A diversified portfolio typically includes a mix of equities, bonds, commodities, and other assets. This helps to decrease the unsystematic risk and smooth out returns.\\n\\n4) Market Outlook: As an AI, I do not speculate on market conditions. My analysis is based on historical data, current market conditions, and formulated algorithms.\\n\\n5) Market Risks and Risk Management Strategies: A significant risk in a single stock portfolio is that the portfolio's value will be significantly impacted by the price movement of that single stock. One risk management strategy, in this case, would be to diversify your portfolio. This may include buying stocks of various companies in different industries or investing in mutual funds. \\n\\nIn response to your question about the performance of your portfolio: Based on the information provided, your portfolio seems to be performing well currently. The AAPL stock's current price has slightly increased from your entry price leading to a marginal unrealized profit. However, due to a lack of diversification, the health of your portfolio is at high risk as it may be significantly affected by the price movements of AAPL stock. It is recommended to diversify your investment in order to manage and mitigate risks.\""
      ]
     },
     "execution_count": 7,
     "metadata": {},
     "output_type": "execute_result"
    }
   ],
   "source": [
    "analysis"
   ]
  }
 ],
 "metadata": {
  "kernelspec": {
   "display_name": "Python 3",
   "language": "python",
   "name": "python3"
  },
  "language_info": {
   "codemirror_mode": {
    "name": "ipython",
    "version": 3
   },
   "file_extension": ".py",
   "mimetype": "text/x-python",
   "name": "python",
   "nbconvert_exporter": "python",
   "pygments_lexer": "ipython3",
   "version": "3.10.11"
  }
 },
 "nbformat": 4,
 "nbformat_minor": 2
}
