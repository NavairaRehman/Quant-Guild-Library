{
 "cells": [
  {
   "cell_type": "code",
   "execution_count": null,
   "metadata": {},
   "outputs": [],
   "source": [
    "import alpaca_trade_api as tradeapi\n",
    "\n",
    "key = \"KEY_ALPCA\"\n",
    "secret_key = \"SECRET_KEY_ALPCA\"\n",
    "BASE_URL = \"https://paper-api.alpaca.markets/\"\n",
    "\n",
    "api = tradeapi.REST(key, secret_key, BASE_URL, api_version=\"v2\")"
   ]
  },
  {
   "cell_type": "code",
   "execution_count": 18,
   "metadata": {},
   "outputs": [
    {
     "data": {
      "text/plain": [
       "{'price': 213.88}"
      ]
     },
     "execution_count": 18,
     "metadata": {},
     "output_type": "execute_result"
    }
   ],
   "source": [
    "def get_data(symbol):\n",
    "    try:\n",
    "        barset = api.get_latest_trade(symbol)\n",
    "        return {\"price\":barset.price}\n",
    "    except Exception as e:\n",
    "        return {\"price\":-1}\n",
    "\n",
    "get_data(\"AAPL\")"
   ]
  },
  {
   "cell_type": "code",
   "execution_count": 26,
   "metadata": {},
   "outputs": [
    {
     "data": {
      "text/plain": [
       "213.99"
      ]
     },
     "execution_count": 26,
     "metadata": {},
     "output_type": "execute_result"
    }
   ],
   "source": [
    "def get_max_entry_price(symbol):\n",
    "    try:\n",
    "        orders = api.list_orders(status=\"filled\", limit=50)\n",
    "        prices = [float(order.filled_avg_price) for order in orders if order.filled_avg_price]\n",
    "        return max(prices) if prices else -1\n",
    "    except Exception as e:\n",
    "        return 0\n",
    "get_max_entry_price(\"AAPL\")"
   ]
  }
 ],
 "metadata": {
  "kernelspec": {
   "display_name": "Python 3",
   "language": "python",
   "name": "python3"
  },
  "language_info": {
   "codemirror_mode": {
    "name": "ipython",
    "version": 3
   },
   "file_extension": ".py",
   "mimetype": "text/x-python",
   "name": "python",
   "nbconvert_exporter": "python",
   "pygments_lexer": "ipython3",
   "version": "3.10.11"
  }
 },
 "nbformat": 4,
 "nbformat_minor": 2
}
